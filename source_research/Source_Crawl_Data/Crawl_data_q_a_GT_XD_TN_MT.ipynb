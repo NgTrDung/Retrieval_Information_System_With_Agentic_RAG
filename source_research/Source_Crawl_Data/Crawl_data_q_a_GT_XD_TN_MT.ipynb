{
 "cells": [
  {
   "cell_type": "markdown",
   "metadata": {},
   "source": [
    "### 1. Import Library"
   ]
  },
  {
   "cell_type": "code",
   "execution_count": 1,
   "metadata": {},
   "outputs": [],
   "source": [
    "import requests\n",
    "from bs4 import BeautifulSoup\n",
    "import pandas as pd"
   ]
  },
  {
   "cell_type": "markdown",
   "metadata": {},
   "source": [
    "### 2.Crawl_data_q_a"
   ]
  },
  {
   "cell_type": "markdown",
   "metadata": {},
   "source": [
    "#### 2.1.Find Elements"
   ]
  },
  {
   "cell_type": "code",
   "execution_count": 2,
   "metadata": {},
   "outputs": [],
   "source": [
    "# Hàm để cào dữ liệu từ một trang\n",
    "def crawl_page(url):\n",
    "    response = requests.get(url)\n",
    "    soup = BeautifulSoup(response.content, 'html.parser')\n",
    "    articles = soup.find_all('div', class_='box-item-content')\n",
    "    articles_data = []\n",
    "    \n",
    "    for _, article in enumerate(articles, start=1):\n",
    "        # Lấy thông tin tác giả và thời gian\n",
    "        author_info = article.find('div', class_='box-item-top')\n",
    "        name = author_info.find('span', class_='author').get_text(strip=True)\n",
    "        time = author_info.find('span', class_='time').get_text(strip=True)\n",
    "\n",
    "        # Lấy tiêu đề câu hỏi\n",
    "        question_element = article.find('a', class_='question-title')\n",
    "        question = question_element.get_text(strip=True)\n",
    "        \n",
    "        # Lấy tình huống\n",
    "        summary = article.find('div', class_='question-sapo').get_text(strip=True)\n",
    "        \n",
    "        # Lấy liên kết chi tiết\n",
    "        detail_link = article.find('a', class_='box-viewmore')['href']\n",
    "        detail_url = f\"https://chinhsachonline.chinhphu.vn{detail_link}\"\n",
    "        \n",
    "        # Gửi yêu cầu HTTP để lấy nội dung trang chi tiết\n",
    "        detail_response = requests.get(detail_url)\n",
    "        detail_soup = BeautifulSoup(detail_response.content, 'html.parser')\n",
    "        \n",
    "        # Lấy câu trả lời từ trang chi tiết\n",
    "        answer_div = detail_soup.find('div', class_='detail__rcontent')\n",
    "        answer = answer_div.get_text(strip=True) if answer_div else 'No answer available'\n",
    "        \n",
    "        # Thêm thông tin bài viết vào danh sách\n",
    "        articles_data.append({\n",
    "            'Name': name,\n",
    "            'Time': time,\n",
    "            'Question': question,\n",
    "            'Situation': summary,\n",
    "            'Answer': answer\n",
    "        })\n",
    "    \n",
    "    return articles_data\n"
   ]
  },
  {
   "cell_type": "markdown",
   "metadata": {},
   "source": [
    "#### 2.2.Execute Function"
   ]
  },
  {
   "cell_type": "code",
   "execution_count": 3,
   "metadata": {},
   "outputs": [],
   "source": [
    "articles_data = []\n",
    "\n",
    "for page_num in range(1, 400):  # Thay đổi phạm vi để bao gồm số trang bạn cần\n",
    "    page_url = f\"https://chinhsachonline.chinhphu.vn/giao-thong-xay-dung-tai-nguyen-moi-truong/t1/13/trang-{page_num}.htm\"\n",
    "    articles_data.extend(crawl_page(page_url))\n",
    "    "
   ]
  },
  {
   "cell_type": "markdown",
   "metadata": {},
   "source": [
    "#### 2.3 Export csv"
   ]
  },
  {
   "cell_type": "code",
   "execution_count": 4,
   "metadata": {},
   "outputs": [
    {
     "data": {
      "text/html": [
       "<div>\n",
       "<style scoped>\n",
       "    .dataframe tbody tr th:only-of-type {\n",
       "        vertical-align: middle;\n",
       "    }\n",
       "\n",
       "    .dataframe tbody tr th {\n",
       "        vertical-align: top;\n",
       "    }\n",
       "\n",
       "    .dataframe thead th {\n",
       "        text-align: right;\n",
       "    }\n",
       "</style>\n",
       "<table border=\"1\" class=\"dataframe\">\n",
       "  <thead>\n",
       "    <tr style=\"text-align: right;\">\n",
       "      <th></th>\n",
       "      <th>Name</th>\n",
       "      <th>Time</th>\n",
       "      <th>Question</th>\n",
       "      <th>Situation</th>\n",
       "      <th>Answer</th>\n",
       "    </tr>\n",
       "  </thead>\n",
       "  <tbody>\n",
       "    <tr>\n",
       "      <th>0</th>\n",
       "      <td>Nguyễn Văn Ba</td>\n",
       "      <td>09:27 11/04/2025</td>\n",
       "      <td>Không sản xuất nông nghiệp có được gia hạn sử ...</td>\n",
       "      <td>Tôi xin hỏi, cá nhân không trực tiếp sản xuất ...</td>\n",
       "      <td>Bộ Nông nghiệp và Môi trường trả lời vấn đề nà...</td>\n",
       "    </tr>\n",
       "    <tr>\n",
       "      <th>1</th>\n",
       "      <td>Trịnh Quang Nam</td>\n",
       "      <td>12:14 10/04/2025</td>\n",
       "      <td>Cho thuê phòng trọ có phải đăng ký môi trường?</td>\n",
       "      <td>Tôi  có 9 phòng cho thuê, tổng diện tích khoản...</td>\n",
       "      <td>Bộ Nông nghiệp và Môi trường trả lời vấn đề nà...</td>\n",
       "    </tr>\n",
       "    <tr>\n",
       "      <th>2</th>\n",
       "      <td>Lê Văn Thành</td>\n",
       "      <td>13:01 08/04/2025</td>\n",
       "      <td>Hộ kinh doanh có phải đăng ký môi trường?</td>\n",
       "      <td>Tôi đăng ký thành lập hộ kinh doanh từ năm 202...</td>\n",
       "      <td>Bộ Nông nghiệp và Môi trường trả lời vấn đề nà...</td>\n",
       "    </tr>\n",
       "    <tr>\n",
       "      <th>3</th>\n",
       "      <td>Văn Thuấn</td>\n",
       "      <td>14:11 06/04/2025</td>\n",
       "      <td>Căn cứ tính tổng hạn mức đất ở của hộ gia đình...</td>\n",
       "      <td>Tôi đề nghị cơ quan chức năng giải đáp về tổng...</td>\n",
       "      <td>Bộ Nông nghiệp và Môi trường trả lời vấn đề nà...</td>\n",
       "    </tr>\n",
       "    <tr>\n",
       "      <th>4</th>\n",
       "      <td>Võ Thị Thơ</td>\n",
       "      <td>08:23 04/04/2025</td>\n",
       "      <td>Viên chức có được nhận thừa kế đất lúa?</td>\n",
       "      <td>Em họ tôi là giáo viên mầm non trong biên chế ...</td>\n",
       "      <td>Bộ Nông nghiệp và Môi trường trả lời vấn đề nà...</td>\n",
       "    </tr>\n",
       "  </tbody>\n",
       "</table>\n",
       "</div>"
      ],
      "text/plain": [
       "              Name              Time  \\\n",
       "0    Nguyễn Văn Ba  09:27 11/04/2025   \n",
       "1  Trịnh Quang Nam  12:14 10/04/2025   \n",
       "2     Lê Văn Thành  13:01 08/04/2025   \n",
       "3        Văn Thuấn  14:11 06/04/2025   \n",
       "4       Võ Thị Thơ  08:23 04/04/2025   \n",
       "\n",
       "                                            Question  \\\n",
       "0  Không sản xuất nông nghiệp có được gia hạn sử ...   \n",
       "1     Cho thuê phòng trọ có phải đăng ký môi trường?   \n",
       "2          Hộ kinh doanh có phải đăng ký môi trường?   \n",
       "3  Căn cứ tính tổng hạn mức đất ở của hộ gia đình...   \n",
       "4            Viên chức có được nhận thừa kế đất lúa?   \n",
       "\n",
       "                                           Situation  \\\n",
       "0  Tôi xin hỏi, cá nhân không trực tiếp sản xuất ...   \n",
       "1  Tôi  có 9 phòng cho thuê, tổng diện tích khoản...   \n",
       "2  Tôi đăng ký thành lập hộ kinh doanh từ năm 202...   \n",
       "3  Tôi đề nghị cơ quan chức năng giải đáp về tổng...   \n",
       "4  Em họ tôi là giáo viên mầm non trong biên chế ...   \n",
       "\n",
       "                                              Answer  \n",
       "0  Bộ Nông nghiệp và Môi trường trả lời vấn đề nà...  \n",
       "1  Bộ Nông nghiệp và Môi trường trả lời vấn đề nà...  \n",
       "2  Bộ Nông nghiệp và Môi trường trả lời vấn đề nà...  \n",
       "3  Bộ Nông nghiệp và Môi trường trả lời vấn đề nà...  \n",
       "4  Bộ Nông nghiệp và Môi trường trả lời vấn đề nà...  "
      ]
     },
     "execution_count": 4,
     "metadata": {},
     "output_type": "execute_result"
    }
   ],
   "source": [
    "# Tạo DataFrame từ danh sách dữ liệu\n",
    "df_laodong_tienthuong = pd.DataFrame(articles_data)\n",
    "df_laodong_tienthuong.head(5)"
   ]
  },
  {
   "cell_type": "code",
   "execution_count": 5,
   "metadata": {},
   "outputs": [
    {
     "name": "stdout",
     "output_type": "stream",
     "text": [
      "Successfully saved data to ../Source_Fine-Tuning/data/giaothong_xaydung_tainguyen_moitruong_data.csv\n"
     ]
    }
   ],
   "source": [
    "\n",
    "# Lưu DataFrame vào file CSV\n",
    "csv_file = '../Source_Fine-Tuning/data/giaothong_xaydung_tainguyen_moitruong_data.csv'\n",
    "df_laodong_tienthuong.to_csv(csv_file, encoding='utf-8',index_label='Index')\n",
    "\n",
    "print(f\"Successfully saved data to {csv_file}\")"
   ]
  },
  {
   "cell_type": "code",
   "execution_count": 6,
   "metadata": {},
   "outputs": [],
   "source": [
    "df_laodong_tienthuong=pd.read_csv(\"../Source_Fine-Tuning/data/giaothong_xaydung_tainguyen_moitruong_data.csv\",encoding='utf-8')"
   ]
  },
  {
   "cell_type": "code",
   "execution_count": 7,
   "metadata": {},
   "outputs": [
    {
     "data": {
      "text/plain": [
       "(2849, 6)"
      ]
     },
     "execution_count": 7,
     "metadata": {},
     "output_type": "execute_result"
    }
   ],
   "source": [
    "df_laodong_tienthuong.shape"
   ]
  }
 ],
 "metadata": {
  "kernelspec": {
   "display_name": "machinelearning-lTTH8rYd",
   "language": "python",
   "name": "python3"
  },
  "language_info": {
   "codemirror_mode": {
    "name": "ipython",
    "version": 3
   },
   "file_extension": ".py",
   "mimetype": "text/x-python",
   "name": "python",
   "nbconvert_exporter": "python",
   "pygments_lexer": "ipython3",
   "version": "3.11.5"
  }
 },
 "nbformat": 4,
 "nbformat_minor": 2
}
