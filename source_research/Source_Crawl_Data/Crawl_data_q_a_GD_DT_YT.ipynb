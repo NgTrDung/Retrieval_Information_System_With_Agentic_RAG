{
 "cells": [
  {
   "cell_type": "markdown",
   "metadata": {},
   "source": [
    "### 1. Import library"
   ]
  },
  {
   "cell_type": "code",
   "execution_count": 1,
   "metadata": {},
   "outputs": [],
   "source": [
    "import requests\n",
    "from bs4 import BeautifulSoup\n",
    "import pandas as pd"
   ]
  },
  {
   "cell_type": "markdown",
   "metadata": {},
   "source": [
    "### 2. Crawl data q_a"
   ]
  },
  {
   "cell_type": "markdown",
   "metadata": {},
   "source": [
    "##### 2.1. Find elements"
   ]
  },
  {
   "cell_type": "code",
   "execution_count": 2,
   "metadata": {},
   "outputs": [],
   "source": [
    "# Hàm để cào dữ liệu từ một trang\n",
    "def crawl_page(url):\n",
    "    response = requests.get(url)\n",
    "    soup = BeautifulSoup(response.content, 'html.parser')\n",
    "    articles = soup.find_all('div', class_='box-item-content')\n",
    "    articles_data = []\n",
    "    \n",
    "    for _, article in enumerate(articles, start=1):\n",
    "        # Lấy thông tin tác giả và thời gian\n",
    "        author_info = article.find('div', class_='box-item-top')\n",
    "        name = author_info.find('span', class_='author').get_text(strip=True)\n",
    "        time = author_info.find('span', class_='time').get_text(strip=True)\n",
    "\n",
    "        # Lấy tiêu đề câu hỏi\n",
    "        question_element = article.find('a', class_='question-title')\n",
    "        question = question_element.get_text(strip=True)\n",
    "        \n",
    "        # Lấy tình huống\n",
    "        summary = article.find('div', class_='question-sapo').get_text(strip=True)\n",
    "        \n",
    "        # Lấy liên kết chi tiết\n",
    "        detail_link = article.find('a', class_='box-viewmore')['href']\n",
    "        detail_url = f\"https://chinhsachonline.chinhphu.vn{detail_link}\"\n",
    "        \n",
    "        # Gửi yêu cầu HTTP để lấy nội dung trang chi tiết\n",
    "        detail_response = requests.get(detail_url)\n",
    "        detail_soup = BeautifulSoup(detail_response.content, 'html.parser')\n",
    "        \n",
    "        # Lấy câu trả lời từ trang chi tiết\n",
    "        answer_div = detail_soup.find('div', class_='detail__rcontent')\n",
    "        answer = answer_div.get_text(strip=True) if answer_div else 'No answer available'\n",
    "        \n",
    "        # Thêm thông tin bài viết vào danh sách\n",
    "        articles_data.append({\n",
    "            'Name': name,\n",
    "            'Time': time,\n",
    "            'Question': question,\n",
    "            'Situation': summary,\n",
    "            'Answer': answer\n",
    "        })\n",
    "\n",
    "    return articles_data"
   ]
  },
  {
   "cell_type": "code",
   "execution_count": 3,
   "metadata": {},
   "outputs": [],
   "source": [
    "articles_data = []\n",
    "\n",
    "for page_num in range(1, 400):  # Thay đổi phạm vi để bao gồm số trang bạn cần\n",
    "    page_url = f\"https://chinhsachonline.chinhphu.vn/giao-duc-dao-tao-y-te/t1/15/trang-{page_num}.htm\"\n",
    "    articles_data.extend(crawl_page(page_url))"
   ]
  },
  {
   "cell_type": "markdown",
   "metadata": {},
   "source": [
    "##### 2.3 Export CSV"
   ]
  },
  {
   "cell_type": "code",
   "execution_count": 4,
   "metadata": {},
   "outputs": [
    {
     "data": {
      "text/html": [
       "<div>\n",
       "<style scoped>\n",
       "    .dataframe tbody tr th:only-of-type {\n",
       "        vertical-align: middle;\n",
       "    }\n",
       "\n",
       "    .dataframe tbody tr th {\n",
       "        vertical-align: top;\n",
       "    }\n",
       "\n",
       "    .dataframe thead th {\n",
       "        text-align: right;\n",
       "    }\n",
       "</style>\n",
       "<table border=\"1\" class=\"dataframe\">\n",
       "  <thead>\n",
       "    <tr style=\"text-align: right;\">\n",
       "      <th></th>\n",
       "      <th>Name</th>\n",
       "      <th>Time</th>\n",
       "      <th>Question</th>\n",
       "      <th>Situation</th>\n",
       "      <th>Answer</th>\n",
       "    </tr>\n",
       "  </thead>\n",
       "  <tbody>\n",
       "    <tr>\n",
       "      <th>0</th>\n",
       "      <td>Trần Đức Đỉnh</td>\n",
       "      <td>14:05 11/04/2025</td>\n",
       "      <td>Có cần chứng chỉ hành nghề điều dưỡng?</td>\n",
       "      <td>Tôi có chứng chỉ chức danh nghề nghiệp điều dư...</td>\n",
       "      <td>Bộ Y tế trả lời vấn đề này như sau:Theo quy đị...</td>\n",
       "    </tr>\n",
       "    <tr>\n",
       "      <th>1</th>\n",
       "      <td>Nguyễn Thị Hải</td>\n",
       "      <td>09:23 11/04/2025</td>\n",
       "      <td>Hành nghề dinh dưỡng lâm sàng cần điều kiện gì?</td>\n",
       "      <td>Tôi là bác sĩ y học dự phòng tại khoa dinh dưỡ...</td>\n",
       "      <td>Bộ Y tế trả lời vấn đề này như sau:Hiện nay, v...</td>\n",
       "    </tr>\n",
       "    <tr>\n",
       "      <th>2</th>\n",
       "      <td>Phùng Mỹ Hạnh</td>\n",
       "      <td>12:11 10/04/2025</td>\n",
       "      <td>Tính phụ cấp ưu đãi nhà giáo theo quy định nào?</td>\n",
       "      <td>Tôi xin hỏi, việc tính phụ cấp ưu đãi theo Quy...</td>\n",
       "      <td>Bộ Giáo dục và Đào tạo trả lời vấn đề này như ...</td>\n",
       "    </tr>\n",
       "    <tr>\n",
       "      <th>3</th>\n",
       "      <td>Mai Ngọc Phúc</td>\n",
       "      <td>11:05 09/04/2025</td>\n",
       "      <td>Thẩm quyền cấp lại giấy phép hành nghề y</td>\n",
       "      <td>Tôi sinh sống và làm việc tại tỉnh Tây Ninh nh...</td>\n",
       "      <td>Bộ Y tế trả lời vấn đề này như sau:Hiện nay vi...</td>\n",
       "    </tr>\n",
       "    <tr>\n",
       "      <th>4</th>\n",
       "      <td>Đặng Phương Nhi</td>\n",
       "      <td>16:36 08/04/2025</td>\n",
       "      <td>Điều kiện cấp giấy phép hành nghề dinh dưỡng l...</td>\n",
       "      <td>Tôi là bác sĩ y học dự phòng tại một bệnh viện...</td>\n",
       "      <td>Bộ Y tế trả lời vấn đề này như sau:Hiện nay, v...</td>\n",
       "    </tr>\n",
       "  </tbody>\n",
       "</table>\n",
       "</div>"
      ],
      "text/plain": [
       "              Name              Time  \\\n",
       "0    Trần Đức Đỉnh  14:05 11/04/2025   \n",
       "1   Nguyễn Thị Hải  09:23 11/04/2025   \n",
       "2    Phùng Mỹ Hạnh  12:11 10/04/2025   \n",
       "3    Mai Ngọc Phúc  11:05 09/04/2025   \n",
       "4  Đặng Phương Nhi  16:36 08/04/2025   \n",
       "\n",
       "                                            Question  \\\n",
       "0             Có cần chứng chỉ hành nghề điều dưỡng?   \n",
       "1    Hành nghề dinh dưỡng lâm sàng cần điều kiện gì?   \n",
       "2    Tính phụ cấp ưu đãi nhà giáo theo quy định nào?   \n",
       "3           Thẩm quyền cấp lại giấy phép hành nghề y   \n",
       "4  Điều kiện cấp giấy phép hành nghề dinh dưỡng l...   \n",
       "\n",
       "                                           Situation  \\\n",
       "0  Tôi có chứng chỉ chức danh nghề nghiệp điều dư...   \n",
       "1  Tôi là bác sĩ y học dự phòng tại khoa dinh dưỡ...   \n",
       "2  Tôi xin hỏi, việc tính phụ cấp ưu đãi theo Quy...   \n",
       "3  Tôi sinh sống và làm việc tại tỉnh Tây Ninh nh...   \n",
       "4  Tôi là bác sĩ y học dự phòng tại một bệnh viện...   \n",
       "\n",
       "                                              Answer  \n",
       "0  Bộ Y tế trả lời vấn đề này như sau:Theo quy đị...  \n",
       "1  Bộ Y tế trả lời vấn đề này như sau:Hiện nay, v...  \n",
       "2  Bộ Giáo dục và Đào tạo trả lời vấn đề này như ...  \n",
       "3  Bộ Y tế trả lời vấn đề này như sau:Hiện nay vi...  \n",
       "4  Bộ Y tế trả lời vấn đề này như sau:Hiện nay, v...  "
      ]
     },
     "execution_count": 4,
     "metadata": {},
     "output_type": "execute_result"
    }
   ],
   "source": [
    "# Tạo DataFrame từ danh sách dữ liệu\n",
    "df_giaoduc_daotao_yte = pd.DataFrame(articles_data)\n",
    "df_giaoduc_daotao_yte.head(5)"
   ]
  },
  {
   "cell_type": "code",
   "execution_count": 5,
   "metadata": {},
   "outputs": [
    {
     "name": "stdout",
     "output_type": "stream",
     "text": [
      "Successfully saved data to ../Source_Fine-Tuning/data/giaoduc_daotao_yte_data.csv\n"
     ]
    }
   ],
   "source": [
    "# Lưu DataFrame vào file CSV\n",
    "csv_file = '../Source_Fine-Tuning/data/giaoduc_daotao_yte_data.csv'\n",
    "df_giaoduc_daotao_yte.to_csv(csv_file, encoding='utf-8',index_label='Index')\n",
    "\n",
    "print(f\"Successfully saved data to {csv_file}\")"
   ]
  },
  {
   "cell_type": "code",
   "execution_count": 6,
   "metadata": {},
   "outputs": [],
   "source": [
    "df_giaoduc_daotao_yte=pd.read_csv(\"../Source_Fine-Tuning/data/giaoduc_daotao_yte_data.csv\",encoding='utf-8')"
   ]
  },
  {
   "cell_type": "code",
   "execution_count": 7,
   "metadata": {},
   "outputs": [
    {
     "data": {
      "text/plain": [
       "(1930, 6)"
      ]
     },
     "execution_count": 7,
     "metadata": {},
     "output_type": "execute_result"
    }
   ],
   "source": [
    "df_giaoduc_daotao_yte.shape"
   ]
  }
 ],
 "metadata": {
  "kernelspec": {
   "display_name": "machinelearning-lTTH8rYd",
   "language": "python",
   "name": "python3"
  },
  "language_info": {
   "codemirror_mode": {
    "name": "ipython",
    "version": 3
   },
   "file_extension": ".py",
   "mimetype": "text/x-python",
   "name": "python",
   "nbconvert_exporter": "python",
   "pygments_lexer": "ipython3",
   "version": "3.11.5"
  }
 },
 "nbformat": 4,
 "nbformat_minor": 2
}
