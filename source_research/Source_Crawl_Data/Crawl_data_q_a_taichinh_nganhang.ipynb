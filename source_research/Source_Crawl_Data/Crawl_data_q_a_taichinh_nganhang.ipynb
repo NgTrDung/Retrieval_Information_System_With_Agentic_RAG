{
 "cells": [
  {
   "cell_type": "markdown",
   "metadata": {},
   "source": [
    "### 1. Import Library"
   ]
  },
  {
   "cell_type": "code",
   "execution_count": 1,
   "metadata": {},
   "outputs": [],
   "source": [
    "import requests\n",
    "from bs4 import BeautifulSoup\n",
    "import pandas as pd"
   ]
  },
  {
   "cell_type": "markdown",
   "metadata": {},
   "source": [
    "### 2.Crawl_data_q_a"
   ]
  },
  {
   "cell_type": "markdown",
   "metadata": {},
   "source": [
    "#### 2.1.Find Elements"
   ]
  },
  {
   "cell_type": "code",
   "execution_count": 2,
   "metadata": {},
   "outputs": [],
   "source": [
    "# Hàm để cào dữ liệu từ một trang\n",
    "def crawl_page(url):\n",
    "    response = requests.get(url)\n",
    "    soup = BeautifulSoup(response.content, 'html.parser')\n",
    "    articles = soup.find_all('div', class_='box-item-content')\n",
    "    articles_data = []\n",
    "    \n",
    "    for _, article in enumerate(articles, start=1):\n",
    "        # Lấy thông tin tác giả và thời gian\n",
    "        author_info = article.find('div', class_='box-item-top')\n",
    "        name = author_info.find('span', class_='author').get_text(strip=True)\n",
    "        time = author_info.find('span', class_='time').get_text(strip=True)\n",
    "\n",
    "        # Lấy tiêu đề câu hỏi\n",
    "        question_element = article.find('a', class_='question-title')\n",
    "        question = question_element.get_text(strip=True)\n",
    "        \n",
    "        # Lấy tình huống\n",
    "        summary = article.find('div', class_='question-sapo').get_text(strip=True)\n",
    "        \n",
    "        # Lấy liên kết chi tiết\n",
    "        detail_link = article.find('a', class_='box-viewmore')['href']\n",
    "        detail_url = f\"https://chinhsachonline.chinhphu.vn{detail_link}\"\n",
    "        \n",
    "        # Gửi yêu cầu HTTP để lấy nội dung trang chi tiết\n",
    "        detail_response = requests.get(detail_url)\n",
    "        detail_soup = BeautifulSoup(detail_response.content, 'html.parser')\n",
    "        \n",
    "        # Lấy câu trả lời từ trang chi tiết\n",
    "        answer_div = detail_soup.find('div', class_='detail__rcontent')\n",
    "        answer = answer_div.get_text(strip=True) if answer_div else 'No answer available'\n",
    "        \n",
    "        # Thêm thông tin bài viết vào danh sách\n",
    "        articles_data.append({\n",
    "            'Name': name,\n",
    "            'Time': time,\n",
    "            'Question': question,\n",
    "            'Situation': summary,\n",
    "            'Answer': answer\n",
    "        })\n",
    "    \n",
    "    return articles_data\n"
   ]
  },
  {
   "cell_type": "markdown",
   "metadata": {},
   "source": [
    "#### 2.2.Execute Function"
   ]
  },
  {
   "cell_type": "code",
   "execution_count": 3,
   "metadata": {},
   "outputs": [],
   "source": [
    "articles_data = []\n",
    "for page_num in range(1, 400):  # Thay đổi phạm vi để bao gồm số trang bạn cần\n",
    "    page_url = f\"https://chinhsachonline.chinhphu.vn/tai-chinh-ngan-hang-dau-tu-cong-thuong/t1/14/trang-{page_num}.htm\"\n",
    "    articles_data.extend(crawl_page(page_url))\n",
    "    "
   ]
  },
  {
   "cell_type": "markdown",
   "metadata": {},
   "source": [
    "#### 2.3 Export csv"
   ]
  },
  {
   "cell_type": "code",
   "execution_count": 4,
   "metadata": {},
   "outputs": [
    {
     "data": {
      "text/html": [
       "<div>\n",
       "<style scoped>\n",
       "    .dataframe tbody tr th:only-of-type {\n",
       "        vertical-align: middle;\n",
       "    }\n",
       "\n",
       "    .dataframe tbody tr th {\n",
       "        vertical-align: top;\n",
       "    }\n",
       "\n",
       "    .dataframe thead th {\n",
       "        text-align: right;\n",
       "    }\n",
       "</style>\n",
       "<table border=\"1\" class=\"dataframe\">\n",
       "  <thead>\n",
       "    <tr style=\"text-align: right;\">\n",
       "      <th></th>\n",
       "      <th>Name</th>\n",
       "      <th>Time</th>\n",
       "      <th>Question</th>\n",
       "      <th>Situation</th>\n",
       "      <th>Answer</th>\n",
       "    </tr>\n",
       "  </thead>\n",
       "  <tbody>\n",
       "    <tr>\n",
       "      <th>0</th>\n",
       "      <td>Trung tâm Văn hóa tỉnh</td>\n",
       "      <td>07:05 12/04/2025</td>\n",
       "      <td>Căn cứ chi bồi dưỡng cho diễn viên các hội thi...</td>\n",
       "      <td>Trung tâm chúng tôi chi bồi dưỡng cho diễn viê...</td>\n",
       "      <td>Bộ Văn hóa, Thể thao và Du lịch trả lời vấn đề...</td>\n",
       "    </tr>\n",
       "    <tr>\n",
       "      <th>1</th>\n",
       "      <td>Nguyễn Chánh</td>\n",
       "      <td>10:05 11/04/2025</td>\n",
       "      <td>Thủ tục hải quan đối với hàng gia công cho thư...</td>\n",
       "      <td>Tôi xin hỏi, công ty có vốn đầu tư nước ngoài ...</td>\n",
       "      <td>Bộ Tài chính trả lời vấn đề này như sau:Căn cứ...</td>\n",
       "    </tr>\n",
       "    <tr>\n",
       "      <th>2</th>\n",
       "      <td>Bùi Quang Huy</td>\n",
       "      <td>09:25 11/04/2025</td>\n",
       "      <td>Xác định loại gói thầu theo căn cứ nào?</td>\n",
       "      <td>Tôi xin hỏi, gói thầu sửa chữa, cải tạo sơn nư...</td>\n",
       "      <td>Bộ Kế hoạch và Đầu tư (nay là Bộ Tài chính) tr...</td>\n",
       "    </tr>\n",
       "    <tr>\n",
       "      <th>3</th>\n",
       "      <td>Võ Hồng Liên</td>\n",
       "      <td>07:05 10/04/2025</td>\n",
       "      <td>Có được yêu cầu nhà thầu bổ sung kê khai nhân ...</td>\n",
       "      <td>Tôi xin hỏi, nhà thầu không kê khai nhân sự ch...</td>\n",
       "      <td>Bộ Kế hoạch và Đầu tư (nay là Bộ Tài chính) có...</td>\n",
       "    </tr>\n",
       "    <tr>\n",
       "      <th>4</th>\n",
       "      <td>Nguyễn Xuân Bình</td>\n",
       "      <td>08:46 09/04/2025</td>\n",
       "      <td>Có được chỉ định gói thầu sử dụng vốn sản xuất...</td>\n",
       "      <td>Công ty tôi 100% vốn nhà nước, tổ chức cho ngư...</td>\n",
       "      <td>Bộ Kế hoạch và Đầu tư (nay là Bộ Tài chính) tr...</td>\n",
       "    </tr>\n",
       "  </tbody>\n",
       "</table>\n",
       "</div>"
      ],
      "text/plain": [
       "                     Name              Time  \\\n",
       "0  Trung tâm Văn hóa tỉnh  07:05 12/04/2025   \n",
       "1            Nguyễn Chánh  10:05 11/04/2025   \n",
       "2           Bùi Quang Huy  09:25 11/04/2025   \n",
       "3            Võ Hồng Liên  07:05 10/04/2025   \n",
       "4        Nguyễn Xuân Bình  08:46 09/04/2025   \n",
       "\n",
       "                                            Question  \\\n",
       "0  Căn cứ chi bồi dưỡng cho diễn viên các hội thi...   \n",
       "1  Thủ tục hải quan đối với hàng gia công cho thư...   \n",
       "2            Xác định loại gói thầu theo căn cứ nào?   \n",
       "3  Có được yêu cầu nhà thầu bổ sung kê khai nhân ...   \n",
       "4  Có được chỉ định gói thầu sử dụng vốn sản xuất...   \n",
       "\n",
       "                                           Situation  \\\n",
       "0  Trung tâm chúng tôi chi bồi dưỡng cho diễn viê...   \n",
       "1  Tôi xin hỏi, công ty có vốn đầu tư nước ngoài ...   \n",
       "2  Tôi xin hỏi, gói thầu sửa chữa, cải tạo sơn nư...   \n",
       "3  Tôi xin hỏi, nhà thầu không kê khai nhân sự ch...   \n",
       "4  Công ty tôi 100% vốn nhà nước, tổ chức cho ngư...   \n",
       "\n",
       "                                              Answer  \n",
       "0  Bộ Văn hóa, Thể thao và Du lịch trả lời vấn đề...  \n",
       "1  Bộ Tài chính trả lời vấn đề này như sau:Căn cứ...  \n",
       "2  Bộ Kế hoạch và Đầu tư (nay là Bộ Tài chính) tr...  \n",
       "3  Bộ Kế hoạch và Đầu tư (nay là Bộ Tài chính) có...  \n",
       "4  Bộ Kế hoạch và Đầu tư (nay là Bộ Tài chính) tr...  "
      ]
     },
     "execution_count": 4,
     "metadata": {},
     "output_type": "execute_result"
    }
   ],
   "source": [
    "# Tạo DataFrame từ danh sách dữ liệu\n",
    "df_taichinh_nganhang = pd.DataFrame(articles_data)\n",
    "df_taichinh_nganhang.head(5)"
   ]
  },
  {
   "cell_type": "code",
   "execution_count": 5,
   "metadata": {},
   "outputs": [
    {
     "name": "stdout",
     "output_type": "stream",
     "text": [
      "Successfully saved data to ../Source_Fine-Tuning/data/taichinh_nganhang_dautu_congthuong_data.csv\n"
     ]
    }
   ],
   "source": [
    "\n",
    "# Lưu DataFrame vào file CSV\n",
    "csv_file = '../Source_Fine-Tuning/data/taichinh_nganhang_dautu_congthuong_data.csv'\n",
    "df_taichinh_nganhang.to_csv(csv_file, encoding='utf-8',index_label='Index')\n",
    "\n",
    "print(f\"Successfully saved data to {csv_file}\")"
   ]
  },
  {
   "cell_type": "code",
   "execution_count": 6,
   "metadata": {},
   "outputs": [],
   "source": [
    "df_taichinh_nganhang=pd.read_csv(\"../Source_Fine-Tuning/data/taichinh_nganhang_dautu_congthuong_data.csv\",encoding='utf-8')"
   ]
  },
  {
   "cell_type": "code",
   "execution_count": 8,
   "metadata": {},
   "outputs": [
    {
     "data": {
      "text/plain": [
       "(2999, 6)"
      ]
     },
     "execution_count": 8,
     "metadata": {},
     "output_type": "execute_result"
    }
   ],
   "source": [
    "df_taichinh_nganhang.shape"
   ]
  },
  {
   "cell_type": "code",
   "execution_count": null,
   "metadata": {},
   "outputs": [],
   "source": []
  }
 ],
 "metadata": {
  "kernelspec": {
   "display_name": "machinelearning-lTTH8rYd",
   "language": "python",
   "name": "python3"
  },
  "language_info": {
   "codemirror_mode": {
    "name": "ipython",
    "version": 3
   },
   "file_extension": ".py",
   "mimetype": "text/x-python",
   "name": "python",
   "nbconvert_exporter": "python",
   "pygments_lexer": "ipython3",
   "version": "3.11.5"
  }
 },
 "nbformat": 4,
 "nbformat_minor": 2
}
