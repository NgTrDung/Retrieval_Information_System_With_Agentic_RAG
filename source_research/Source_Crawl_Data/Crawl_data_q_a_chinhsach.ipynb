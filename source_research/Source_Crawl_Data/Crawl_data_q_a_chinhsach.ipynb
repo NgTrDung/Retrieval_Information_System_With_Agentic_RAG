{
 "cells": [
  {
   "cell_type": "markdown",
   "metadata": {},
   "source": [
    "### 1. Import Library"
   ]
  },
  {
   "cell_type": "code",
   "execution_count": 1,
   "metadata": {},
   "outputs": [],
   "source": [
    "import requests\n",
    "from bs4 import BeautifulSoup\n",
    "import pandas as pd"
   ]
  },
  {
   "cell_type": "markdown",
   "metadata": {},
   "source": [
    "### 2.Crawl_data_q_a"
   ]
  },
  {
   "cell_type": "markdown",
   "metadata": {},
   "source": [
    "#### 2.1.Find Elements"
   ]
  },
  {
   "cell_type": "code",
   "execution_count": 2,
   "metadata": {},
   "outputs": [],
   "source": [
    "# Hàm để cào dữ liệu từ một trang\n",
    "def crawl_page(url):\n",
    "    response = requests.get(url)\n",
    "    soup = BeautifulSoup(response.content, 'html.parser')\n",
    "    articles = soup.find_all('div', class_='box-item-content')\n",
    "    articles_data = []\n",
    "    \n",
    "    for _, article in enumerate(articles, start=1):\n",
    "        # Lấy thông tin tác giả và thời gian\n",
    "        author_info = article.find('div', class_='box-item-top')\n",
    "        name = author_info.find('span', class_='author').get_text(strip=True)\n",
    "        time = author_info.find('span', class_='time').get_text(strip=True)\n",
    "\n",
    "        # Lấy tiêu đề câu hỏi\n",
    "        question_element = article.find('a', class_='question-title')\n",
    "        question = question_element.get_text(strip=True)\n",
    "        \n",
    "        # Lấy tình huống\n",
    "        summary = article.find('div', class_='question-sapo').get_text(strip=True)\n",
    "        \n",
    "        # Lấy liên kết chi tiết\n",
    "        detail_link = article.find('a', class_='box-viewmore')['href']\n",
    "        detail_url = f\"https://chinhsachonline.chinhphu.vn{detail_link}\"\n",
    "        \n",
    "        # Gửi yêu cầu HTTP để lấy nội dung trang chi tiết\n",
    "        detail_response = requests.get(detail_url)\n",
    "        detail_soup = BeautifulSoup(detail_response.content, 'html.parser')\n",
    "        \n",
    "        # Lấy câu trả lời từ trang chi tiết\n",
    "        answer_div = detail_soup.find('div', class_='detail__rcontent')\n",
    "        answer = answer_div.get_text(strip=True) if answer_div else 'No answer available'\n",
    "        \n",
    "        # Thêm thông tin bài viết vào danh sách\n",
    "        articles_data.append({\n",
    "            'Name': name,\n",
    "            'Time': time,\n",
    "            'Question': question,\n",
    "            'Situation': summary,\n",
    "            'Answer': answer\n",
    "        })\n",
    "    \n",
    "    return articles_data\n"
   ]
  },
  {
   "cell_type": "markdown",
   "metadata": {},
   "source": [
    "#### 2.2.Execute Function"
   ]
  },
  {
   "cell_type": "code",
   "execution_count": 3,
   "metadata": {},
   "outputs": [],
   "source": [
    "articles_data = []\n",
    "for page_num in range(1, 400):  # Thay đổi phạm vi để bao gồm số trang bạn cần\n",
    "    \n",
    "    page_url = f\"https://chinhsachonline.chinhphu.vn/chinh-sach-voi-nguoi-co-cong/t1/2/trang-{page_num}.htm\"\n",
    "    articles_data.extend(crawl_page(page_url))"
   ]
  },
  {
   "cell_type": "markdown",
   "metadata": {},
   "source": [
    "#### 2.3 Export csv"
   ]
  },
  {
   "cell_type": "code",
   "execution_count": 4,
   "metadata": {},
   "outputs": [
    {
     "data": {
      "text/html": [
       "<div>\n",
       "<style scoped>\n",
       "    .dataframe tbody tr th:only-of-type {\n",
       "        vertical-align: middle;\n",
       "    }\n",
       "\n",
       "    .dataframe tbody tr th {\n",
       "        vertical-align: top;\n",
       "    }\n",
       "\n",
       "    .dataframe thead th {\n",
       "        text-align: right;\n",
       "    }\n",
       "</style>\n",
       "<table border=\"1\" class=\"dataframe\">\n",
       "  <thead>\n",
       "    <tr style=\"text-align: right;\">\n",
       "      <th></th>\n",
       "      <th>Name</th>\n",
       "      <th>Time</th>\n",
       "      <th>Question</th>\n",
       "      <th>Situation</th>\n",
       "      <th>Answer</th>\n",
       "    </tr>\n",
       "  </thead>\n",
       "  <tbody>\n",
       "    <tr>\n",
       "      <th>0</th>\n",
       "      <td>Nguyễn Việt Quang</td>\n",
       "      <td>08:30 28/03/2025</td>\n",
       "      <td>Căn cứ xác nhận người có công giúp đỡ cách mạng</td>\n",
       "      <td>Tôi xin hỏi, thế nào được coi là người trong g...</td>\n",
       "      <td>Bộ Lao động – Thương binh và Xã hội (nay là Bộ...</td>\n",
       "    </tr>\n",
       "    <tr>\n",
       "      <th>1</th>\n",
       "      <td>Lê Kim Miên</td>\n",
       "      <td>09:41 18/03/2025</td>\n",
       "      <td>Chế độ ưu đãi đối với thân nhân liệt sĩ</td>\n",
       "      <td>Tôi đang hưởng chế độ trợ cấp vợ liệt sĩ tái g...</td>\n",
       "      <td>Bộ Lao động - Thương binh và Xã hội (nay là Bộ...</td>\n",
       "    </tr>\n",
       "    <tr>\n",
       "      <th>2</th>\n",
       "      <td>Nguyễn Anh Hào</td>\n",
       "      <td>11:05 11/03/2025</td>\n",
       "      <td>Có được hưởng nhiều lần chính sách miễn, giảm ...</td>\n",
       "      <td>Mẹ tôi là thương binh, tỷ lệ 4/4, có Huân chươ...</td>\n",
       "      <td>Bộ Lao động – Thương binh và Xã hội (cũ) trả l...</td>\n",
       "    </tr>\n",
       "    <tr>\n",
       "      <th>3</th>\n",
       "      <td>Nguyễn Trang</td>\n",
       "      <td>14:05 11/03/2025</td>\n",
       "      <td>Thủ tục chấm dứt ủy quyền hưởng chế độ thờ cún...</td>\n",
       "      <td>Đề nghị cơ quan chức năng giải đáp trường hợp ...</td>\n",
       "      <td>Bộ Lao động – Thương binh và Xã hội (cũ) trả l...</td>\n",
       "    </tr>\n",
       "    <tr>\n",
       "      <th>4</th>\n",
       "      <td>Nguyễn Thị Hưởng</td>\n",
       "      <td>08:28 07/03/2025</td>\n",
       "      <td>Có thể đính chính tên liệt sĩ tại nghĩa trang ...</td>\n",
       "      <td>Bố tôi hy sinh tại chiến trường Miền Nam, an t...</td>\n",
       "      <td>Sở Lao động – Thương binh và Xã hội tỉnh Tây N...</td>\n",
       "    </tr>\n",
       "  </tbody>\n",
       "</table>\n",
       "</div>"
      ],
      "text/plain": [
       "                Name              Time  \\\n",
       "0  Nguyễn Việt Quang  08:30 28/03/2025   \n",
       "1        Lê Kim Miên  09:41 18/03/2025   \n",
       "2     Nguyễn Anh Hào  11:05 11/03/2025   \n",
       "3       Nguyễn Trang  14:05 11/03/2025   \n",
       "4   Nguyễn Thị Hưởng  08:28 07/03/2025   \n",
       "\n",
       "                                            Question  \\\n",
       "0    Căn cứ xác nhận người có công giúp đỡ cách mạng   \n",
       "1            Chế độ ưu đãi đối với thân nhân liệt sĩ   \n",
       "2  Có được hưởng nhiều lần chính sách miễn, giảm ...   \n",
       "3  Thủ tục chấm dứt ủy quyền hưởng chế độ thờ cún...   \n",
       "4  Có thể đính chính tên liệt sĩ tại nghĩa trang ...   \n",
       "\n",
       "                                           Situation  \\\n",
       "0  Tôi xin hỏi, thế nào được coi là người trong g...   \n",
       "1  Tôi đang hưởng chế độ trợ cấp vợ liệt sĩ tái g...   \n",
       "2  Mẹ tôi là thương binh, tỷ lệ 4/4, có Huân chươ...   \n",
       "3  Đề nghị cơ quan chức năng giải đáp trường hợp ...   \n",
       "4  Bố tôi hy sinh tại chiến trường Miền Nam, an t...   \n",
       "\n",
       "                                              Answer  \n",
       "0  Bộ Lao động – Thương binh và Xã hội (nay là Bộ...  \n",
       "1  Bộ Lao động - Thương binh và Xã hội (nay là Bộ...  \n",
       "2  Bộ Lao động – Thương binh và Xã hội (cũ) trả l...  \n",
       "3  Bộ Lao động – Thương binh và Xã hội (cũ) trả l...  \n",
       "4  Sở Lao động – Thương binh và Xã hội tỉnh Tây N...  "
      ]
     },
     "execution_count": 4,
     "metadata": {},
     "output_type": "execute_result"
    }
   ],
   "source": [
    "# Tạo DataFrame từ danh sách dữ liệu\n",
    "df_chinhsach = pd.DataFrame(articles_data)\n",
    "df_chinhsach.head(5)"
   ]
  },
  {
   "cell_type": "code",
   "execution_count": 5,
   "metadata": {},
   "outputs": [
    {
     "name": "stdout",
     "output_type": "stream",
     "text": [
      "Successfully saved data to ../Source_Fine-Tuning/data/chinhsach_nguoicocong_data.csv\n"
     ]
    }
   ],
   "source": [
    "\n",
    "# Lưu DataFrame vào file CSV\n",
    "csv_file = '../Source_Fine-Tuning/data/chinhsach_nguoicocong_data.csv'\n",
    "df_chinhsach.to_csv(csv_file, encoding='utf-8',index_label='Index')\n",
    "\n",
    "print(f\"Successfully saved data to {csv_file}\")"
   ]
  },
  {
   "cell_type": "code",
   "execution_count": 6,
   "metadata": {},
   "outputs": [],
   "source": [
    "df_chinhsach=pd.read_csv(\"../Source_Fine-Tuning/data/chinhsach_nguoicocong_data.csv\",encoding='utf-8')"
   ]
  },
  {
   "cell_type": "code",
   "execution_count": 7,
   "metadata": {},
   "outputs": [
    {
     "data": {
      "text/plain": [
       "(784, 6)"
      ]
     },
     "execution_count": 7,
     "metadata": {},
     "output_type": "execute_result"
    }
   ],
   "source": [
    "df_chinhsach.shape"
   ]
  }
 ],
 "metadata": {
  "kernelspec": {
   "display_name": "machinelearning-lTTH8rYd",
   "language": "python",
   "name": "python3"
  },
  "language_info": {
   "codemirror_mode": {
    "name": "ipython",
    "version": 3
   },
   "file_extension": ".py",
   "mimetype": "text/x-python",
   "name": "python",
   "nbconvert_exporter": "python",
   "pygments_lexer": "ipython3",
   "version": "3.11.5"
  }
 },
 "nbformat": 4,
 "nbformat_minor": 2
}
