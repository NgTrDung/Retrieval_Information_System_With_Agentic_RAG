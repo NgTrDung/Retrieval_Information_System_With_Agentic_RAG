{
 "cells": [
  {
   "cell_type": "markdown",
   "metadata": {},
   "source": [
    "### 1. Import Library"
   ]
  },
  {
   "cell_type": "code",
   "execution_count": 1,
   "metadata": {},
   "outputs": [],
   "source": [
    "import requests\n",
    "from bs4 import BeautifulSoup\n",
    "import pandas as pd"
   ]
  },
  {
   "cell_type": "markdown",
   "metadata": {},
   "source": [
    "### 2.Crawl_data_q_a"
   ]
  },
  {
   "cell_type": "markdown",
   "metadata": {},
   "source": [
    "#### 2.1.Find Elements"
   ]
  },
  {
   "cell_type": "code",
   "execution_count": 2,
   "metadata": {},
   "outputs": [],
   "source": [
    "# Hàm để cào dữ liệu từ một trang\n",
    "def crawl_page(url):\n",
    "    response = requests.get(url,timeout=100)\n",
    "    soup = BeautifulSoup(response.content, 'html.parser')\n",
    "    articles = soup.find_all('div', class_='box-item-content')\n",
    "    articles_data = []\n",
    "    \n",
    "    for _, article in enumerate(articles, start=1):\n",
    "        # Lấy thông tin tác giả và thời gian\n",
    "        author_info = article.find('div', class_='box-item-top')\n",
    "        name = author_info.find('span', class_='author').get_text(strip=True)\n",
    "        time = author_info.find('span', class_='time').get_text(strip=True)\n",
    "\n",
    "        # Lấy tiêu đề câu hỏi\n",
    "        question_element = article.find('a', class_='question-title')\n",
    "        question = question_element.get_text(strip=True)\n",
    "        \n",
    "        # Lấy tình huống\n",
    "        summary = article.find('div', class_='question-sapo').get_text(strip=True)\n",
    "        \n",
    "        # Lấy liên kết chi tiết\n",
    "        detail_link = article.find('a', class_='box-viewmore')['href']\n",
    "        detail_url = f\"https://chinhsachonline.chinhphu.vn{detail_link}\"\n",
    "        \n",
    "        # Gửi yêu cầu HTTP để lấy nội dung trang chi tiết\n",
    "        detail_response = requests.get(detail_url)\n",
    "        detail_soup = BeautifulSoup(detail_response.content, 'html.parser')\n",
    "        \n",
    "        # Lấy câu trả lời từ trang chi tiết\n",
    "        answer_div = detail_soup.find('div', class_='detail__rcontent')\n",
    "        answer = answer_div.get_text(strip=True) if answer_div else 'No answer available'\n",
    "        \n",
    "        # Thêm thông tin bài viết vào danh sách\n",
    "        articles_data.append({\n",
    "            'Name': name,\n",
    "            'Time': time,\n",
    "            'Question': question,\n",
    "            'Situation': summary,\n",
    "            'Answer': answer\n",
    "        })\n",
    "    \n",
    "    return articles_data\n"
   ]
  },
  {
   "cell_type": "markdown",
   "metadata": {},
   "source": [
    "#### 2.2.Execute Function"
   ]
  },
  {
   "cell_type": "code",
   "execution_count": 3,
   "metadata": {},
   "outputs": [],
   "source": [
    "articles_data = []\n",
    "\n",
    "for page_num in range(1, 400):  # Thay đổi phạm vi để bao gồm số trang bạn cần\n",
    "    page_url = f\"https://chinhsachonline.chinhphu.vn/lao-dong-tien-luong/t1/11/trang-{page_num}.htm\"\n",
    "    articles_data.extend(crawl_page(page_url))\n",
    "    "
   ]
  },
  {
   "cell_type": "markdown",
   "metadata": {},
   "source": [
    "#### 2.3 Export csv"
   ]
  },
  {
   "cell_type": "code",
   "execution_count": 4,
   "metadata": {},
   "outputs": [
    {
     "data": {
      "text/html": [
       "<div>\n",
       "<style scoped>\n",
       "    .dataframe tbody tr th:only-of-type {\n",
       "        vertical-align: middle;\n",
       "    }\n",
       "\n",
       "    .dataframe tbody tr th {\n",
       "        vertical-align: top;\n",
       "    }\n",
       "\n",
       "    .dataframe thead th {\n",
       "        text-align: right;\n",
       "    }\n",
       "</style>\n",
       "<table border=\"1\" class=\"dataframe\">\n",
       "  <thead>\n",
       "    <tr style=\"text-align: right;\">\n",
       "      <th></th>\n",
       "      <th>Name</th>\n",
       "      <th>Time</th>\n",
       "      <th>Question</th>\n",
       "      <th>Situation</th>\n",
       "      <th>Answer</th>\n",
       "    </tr>\n",
       "  </thead>\n",
       "  <tbody>\n",
       "    <tr>\n",
       "      <th>0</th>\n",
       "      <td>Nguyễn Văn Nam</td>\n",
       "      <td>08:05 12/04/2025</td>\n",
       "      <td>Thời gian làm hợp đồng có tính hưởng phụ cấp l...</td>\n",
       "      <td>Tôi là giáo viên hợp đồng tại trường THCS thuộ...</td>\n",
       "      <td>Bộ Nội vụ trả lời vấn đề này như sau:Phụ cấp c...</td>\n",
       "    </tr>\n",
       "    <tr>\n",
       "      <th>1</th>\n",
       "      <td>Nguyễn Tấn Sửu</td>\n",
       "      <td>08:43 09/04/2025</td>\n",
       "      <td>Các khoản trợ cấp nghỉ hưu trước tuổi tính the...</td>\n",
       "      <td>Điểm c Khoản 1 Điều 5 Nghị định 29/2023/NĐ-CP ...</td>\n",
       "      <td>Bộ Nội vụ trả lời vấn đề này như sau:Khoản 1 Đ...</td>\n",
       "    </tr>\n",
       "    <tr>\n",
       "      <th>2</th>\n",
       "      <td>Bùi Thị Nga</td>\n",
       "      <td>08:05 08/04/2025</td>\n",
       "      <td>Cần mấy sáng kiến để xét tặng Bằng khen của tỉnh?</td>\n",
       "      <td>Tôi có 1 sáng kiến cấp cơ sở, xét khen thưởng ...</td>\n",
       "      <td>Bộ Nội vụ trả lời vấn đề này như sau:Theo quy ...</td>\n",
       "    </tr>\n",
       "    <tr>\n",
       "      <th>3</th>\n",
       "      <td>Lê Quang Huy</td>\n",
       "      <td>07:05 08/04/2025</td>\n",
       "      <td>Điều kiện hưởng chính sách nghỉ việc sau sáp n...</td>\n",
       "      <td>Trước tháng 8/2024, tôi làm hiệu trưởng trường...</td>\n",
       "      <td>Bộ Nội vụ trả lời vấn đề này như sau:Ngày 15/3...</td>\n",
       "    </tr>\n",
       "    <tr>\n",
       "      <th>4</th>\n",
       "      <td>Nguyễn Thị Hoa</td>\n",
       "      <td>07:05 07/04/2025</td>\n",
       "      <td>Làm hợp đồng lao động có được bổ nhiệm ngạch?</td>\n",
       "      <td>Tôi đang là nhân viên tại cơ quan Đảng cấp huy...</td>\n",
       "      <td>Bộ Nội vụ trả lời vấn đề này như sau:Trường hợ...</td>\n",
       "    </tr>\n",
       "  </tbody>\n",
       "</table>\n",
       "</div>"
      ],
      "text/plain": [
       "             Name              Time  \\\n",
       "0  Nguyễn Văn Nam  08:05 12/04/2025   \n",
       "1  Nguyễn Tấn Sửu  08:43 09/04/2025   \n",
       "2     Bùi Thị Nga  08:05 08/04/2025   \n",
       "3    Lê Quang Huy  07:05 08/04/2025   \n",
       "4  Nguyễn Thị Hoa  07:05 07/04/2025   \n",
       "\n",
       "                                            Question  \\\n",
       "0  Thời gian làm hợp đồng có tính hưởng phụ cấp l...   \n",
       "1  Các khoản trợ cấp nghỉ hưu trước tuổi tính the...   \n",
       "2  Cần mấy sáng kiến để xét tặng Bằng khen của tỉnh?   \n",
       "3  Điều kiện hưởng chính sách nghỉ việc sau sáp n...   \n",
       "4      Làm hợp đồng lao động có được bổ nhiệm ngạch?   \n",
       "\n",
       "                                           Situation  \\\n",
       "0  Tôi là giáo viên hợp đồng tại trường THCS thuộ...   \n",
       "1  Điểm c Khoản 1 Điều 5 Nghị định 29/2023/NĐ-CP ...   \n",
       "2  Tôi có 1 sáng kiến cấp cơ sở, xét khen thưởng ...   \n",
       "3  Trước tháng 8/2024, tôi làm hiệu trưởng trường...   \n",
       "4  Tôi đang là nhân viên tại cơ quan Đảng cấp huy...   \n",
       "\n",
       "                                              Answer  \n",
       "0  Bộ Nội vụ trả lời vấn đề này như sau:Phụ cấp c...  \n",
       "1  Bộ Nội vụ trả lời vấn đề này như sau:Khoản 1 Đ...  \n",
       "2  Bộ Nội vụ trả lời vấn đề này như sau:Theo quy ...  \n",
       "3  Bộ Nội vụ trả lời vấn đề này như sau:Ngày 15/3...  \n",
       "4  Bộ Nội vụ trả lời vấn đề này như sau:Trường hợ...  "
      ]
     },
     "execution_count": 4,
     "metadata": {},
     "output_type": "execute_result"
    }
   ],
   "source": [
    "# Tạo DataFrame từ danh sách dữ liệu\n",
    "df_laodong_tienthuong = pd.DataFrame(articles_data)\n",
    "df_laodong_tienthuong.head(5)"
   ]
  },
  {
   "cell_type": "code",
   "execution_count": 5,
   "metadata": {},
   "outputs": [
    {
     "name": "stdout",
     "output_type": "stream",
     "text": [
      "Successfully saved data to ../Source_Fine-Tuning/data/laodong_tienthuong_data.csv\n"
     ]
    }
   ],
   "source": [
    "\n",
    "# Lưu DataFrame vào file CSV\n",
    "csv_file = '../Source_Fine-Tuning/data/laodong_tienthuong_data.csv'\n",
    "df_laodong_tienthuong.to_csv(csv_file, encoding='utf-8',index_label='Index')\n",
    "\n",
    "print(f\"Successfully saved data to {csv_file}\")"
   ]
  },
  {
   "cell_type": "code",
   "execution_count": 6,
   "metadata": {},
   "outputs": [],
   "source": [
    "df_laodong_tienthuong=pd.read_csv(\"../Source_Fine-Tuning/data/laodong_tienthuong_data.csv\",encoding='utf-8')"
   ]
  },
  {
   "cell_type": "code",
   "execution_count": 8,
   "metadata": {},
   "outputs": [
    {
     "data": {
      "text/plain": [
       "(3107, 6)"
      ]
     },
     "execution_count": 8,
     "metadata": {},
     "output_type": "execute_result"
    }
   ],
   "source": [
    "df_laodong_tienthuong.shape"
   ]
  },
  {
   "cell_type": "code",
   "execution_count": null,
   "metadata": {},
   "outputs": [],
   "source": []
  }
 ],
 "metadata": {
  "kernelspec": {
   "display_name": "machinelearning-lTTH8rYd",
   "language": "python",
   "name": "python3"
  },
  "language_info": {
   "codemirror_mode": {
    "name": "ipython",
    "version": 3
   },
   "file_extension": ".py",
   "mimetype": "text/x-python",
   "name": "python",
   "nbconvert_exporter": "python",
   "pygments_lexer": "ipython3",
   "version": "3.11.5"
  }
 },
 "nbformat": 4,
 "nbformat_minor": 2
}
