{
 "cells": [
  {
   "cell_type": "markdown",
   "metadata": {},
   "source": [
    "### 1. Import Library"
   ]
  },
  {
   "cell_type": "code",
   "execution_count": 1,
   "metadata": {},
   "outputs": [],
   "source": [
    "import requests\n",
    "from bs4 import BeautifulSoup\n",
    "import pandas as pd"
   ]
  },
  {
   "cell_type": "markdown",
   "metadata": {},
   "source": [
    "### 2.Crawl_data_q_a"
   ]
  },
  {
   "cell_type": "markdown",
   "metadata": {},
   "source": [
    "#### 2.1.Find Elements"
   ]
  },
  {
   "cell_type": "code",
   "execution_count": 2,
   "metadata": {},
   "outputs": [],
   "source": [
    "# Hàm để cào dữ liệu từ một trang\n",
    "def crawl_page(url):\n",
    "    response = requests.get(url)\n",
    "    soup = BeautifulSoup(response.content, 'html.parser')\n",
    "    articles = soup.find_all('div', class_='box-item-content')\n",
    "    articles_data = []\n",
    "    \n",
    "    for _, article in enumerate(articles, start=1):\n",
    "        # Lấy thông tin tác giả và thời gian\n",
    "        author_info = article.find('div', class_='box-item-top')\n",
    "        name = author_info.find('span', class_='author').get_text(strip=True)\n",
    "        time = author_info.find('span', class_='time').get_text(strip=True)\n",
    "\n",
    "        # Lấy tiêu đề câu hỏi\n",
    "        question_element = article.find('a', class_='question-title')\n",
    "        question = question_element.get_text(strip=True)\n",
    "        \n",
    "        # Lấy tình huống\n",
    "        summary = article.find('div', class_='question-sapo').get_text(strip=True)\n",
    "        \n",
    "        # Lấy liên kết chi tiết\n",
    "        detail_link = article.find('a', class_='box-viewmore')['href']\n",
    "        detail_url = f\"https://chinhsachonline.chinhphu.vn{detail_link}\"\n",
    "        \n",
    "        # Gửi yêu cầu HTTP để lấy nội dung trang chi tiết\n",
    "        detail_response = requests.get(detail_url)\n",
    "        detail_soup = BeautifulSoup(detail_response.content, 'html.parser')\n",
    "        \n",
    "        # Lấy câu trả lời từ trang chi tiết\n",
    "        answer_div = detail_soup.find('div', class_='detail__rcontent')\n",
    "        answer = answer_div.get_text(strip=True) if answer_div else 'No answer available'\n",
    "        \n",
    "        # Thêm thông tin bài viết vào danh sách\n",
    "        articles_data.append({\n",
    "            'Name': name,\n",
    "            'Time': time,\n",
    "            'Question': question,\n",
    "            'Situation': summary,\n",
    "            'Answer': answer\n",
    "        })\n",
    "    \n",
    "    return articles_data\n"
   ]
  },
  {
   "cell_type": "markdown",
   "metadata": {},
   "source": [
    "#### 2.2.Execute Function"
   ]
  },
  {
   "cell_type": "code",
   "execution_count": 3,
   "metadata": {},
   "outputs": [],
   "source": [
    "articles_data = []\n",
    "for page_num in range(1, 400):  # Thay đổi phạm vi để bao gồm số trang bạn cần\n",
    "    page_url = f\"https://chinhsachonline.chinhphu.vn/bao-hiem-xa-hoi-bao-hiem-y-te-bao-hiem-that-nghiep/t1/1/trang-{page_num}.htm\"\n",
    "    articles_data.extend(crawl_page(page_url))"
   ]
  },
  {
   "cell_type": "markdown",
   "metadata": {},
   "source": [
    "#### 2.3 Export csv"
   ]
  },
  {
   "cell_type": "code",
   "execution_count": 4,
   "metadata": {},
   "outputs": [
    {
     "data": {
      "text/html": [
       "<div>\n",
       "<style scoped>\n",
       "    .dataframe tbody tr th:only-of-type {\n",
       "        vertical-align: middle;\n",
       "    }\n",
       "\n",
       "    .dataframe tbody tr th {\n",
       "        vertical-align: top;\n",
       "    }\n",
       "\n",
       "    .dataframe thead th {\n",
       "        text-align: right;\n",
       "    }\n",
       "</style>\n",
       "<table border=\"1\" class=\"dataframe\">\n",
       "  <thead>\n",
       "    <tr style=\"text-align: right;\">\n",
       "      <th></th>\n",
       "      <th>Name</th>\n",
       "      <th>Time</th>\n",
       "      <th>Question</th>\n",
       "      <th>Situation</th>\n",
       "      <th>Answer</th>\n",
       "    </tr>\n",
       "  </thead>\n",
       "  <tbody>\n",
       "    <tr>\n",
       "      <th>0</th>\n",
       "      <td>Phạm Thị Thu Trang</td>\n",
       "      <td>12:09 10/04/2025</td>\n",
       "      <td>Xác định mức hưởng lương hưu từ ngày 1/7/2025</td>\n",
       "      <td>Mẹ tôi 57 tuổi, đóng BHXH được 5 năm 7 tháng, ...</td>\n",
       "      <td>Bảo hiểm xã hội Việt Nam trả lời vấn đề này nh...</td>\n",
       "    </tr>\n",
       "    <tr>\n",
       "      <th>1</th>\n",
       "      <td>Bùi Thanh Tuấn</td>\n",
       "      <td>11:37 05/04/2025</td>\n",
       "      <td>Mức đóng BHXH, BHYT của cán bộ không chuyên tr...</td>\n",
       "      <td>Tôi là Phó Chỉ huy trưởng quân sự xã, phụ cấp ...</td>\n",
       "      <td>Bảo hiểm xã hội Việt Nam trả lời vấn đề này nh...</td>\n",
       "    </tr>\n",
       "    <tr>\n",
       "      <th>2</th>\n",
       "      <td>Huỳnh Thị Thơm</td>\n",
       "      <td>10:06 04/04/2025</td>\n",
       "      <td>Làm việc bao nhiêu ngày trong tháng thì phải đ...</td>\n",
       "      <td>- Ngày nghỉ hằng tuần của người lao động là Ch...</td>\n",
       "      <td>Bảo hiểm xã hội Việt Nam trả lời vấn đề này nh...</td>\n",
       "    </tr>\n",
       "    <tr>\n",
       "      <th>3</th>\n",
       "      <td>Nguyễn Thị Thanh Trung</td>\n",
       "      <td>10:05 02/04/2025</td>\n",
       "      <td>Viên chức đi học nước ngoài có được hưởng chế ...</td>\n",
       "      <td>Tôi xin hỏi, viên chức được cử đi học nước ngo...</td>\n",
       "      <td>Bảo hiểm xã hội Việt Nam trả lời vấn đề này nh...</td>\n",
       "    </tr>\n",
       "    <tr>\n",
       "      <th>4</th>\n",
       "      <td>Diệu Minh Hiền</td>\n",
       "      <td>09:17 01/04/2025</td>\n",
       "      <td>Công ty ngừng hoạt động, làm thế nào để hưởng ...</td>\n",
       "      <td>Tôi đang mang thai tháng thứ 7, công ty tôi ng...</td>\n",
       "      <td>Bảo hiểm xã hội Việt Nam trả lời vấn đề này nh...</td>\n",
       "    </tr>\n",
       "  </tbody>\n",
       "</table>\n",
       "</div>"
      ],
      "text/plain": [
       "                     Name              Time  \\\n",
       "0      Phạm Thị Thu Trang  12:09 10/04/2025   \n",
       "1          Bùi Thanh Tuấn  11:37 05/04/2025   \n",
       "2          Huỳnh Thị Thơm  10:06 04/04/2025   \n",
       "3  Nguyễn Thị Thanh Trung  10:05 02/04/2025   \n",
       "4          Diệu Minh Hiền  09:17 01/04/2025   \n",
       "\n",
       "                                            Question  \\\n",
       "0      Xác định mức hưởng lương hưu từ ngày 1/7/2025   \n",
       "1  Mức đóng BHXH, BHYT của cán bộ không chuyên tr...   \n",
       "2  Làm việc bao nhiêu ngày trong tháng thì phải đ...   \n",
       "3  Viên chức đi học nước ngoài có được hưởng chế ...   \n",
       "4  Công ty ngừng hoạt động, làm thế nào để hưởng ...   \n",
       "\n",
       "                                           Situation  \\\n",
       "0  Mẹ tôi 57 tuổi, đóng BHXH được 5 năm 7 tháng, ...   \n",
       "1  Tôi là Phó Chỉ huy trưởng quân sự xã, phụ cấp ...   \n",
       "2  - Ngày nghỉ hằng tuần của người lao động là Ch...   \n",
       "3  Tôi xin hỏi, viên chức được cử đi học nước ngo...   \n",
       "4  Tôi đang mang thai tháng thứ 7, công ty tôi ng...   \n",
       "\n",
       "                                              Answer  \n",
       "0  Bảo hiểm xã hội Việt Nam trả lời vấn đề này nh...  \n",
       "1  Bảo hiểm xã hội Việt Nam trả lời vấn đề này nh...  \n",
       "2  Bảo hiểm xã hội Việt Nam trả lời vấn đề này nh...  \n",
       "3  Bảo hiểm xã hội Việt Nam trả lời vấn đề này nh...  \n",
       "4  Bảo hiểm xã hội Việt Nam trả lời vấn đề này nh...  "
      ]
     },
     "execution_count": 4,
     "metadata": {},
     "output_type": "execute_result"
    }
   ],
   "source": [
    "# Tạo DataFrame từ danh sách dữ liệu\n",
    "df_bh = pd.DataFrame(articles_data)\n",
    "df_bh.head(5)"
   ]
  },
  {
   "cell_type": "code",
   "execution_count": 5,
   "metadata": {},
   "outputs": [
    {
     "name": "stdout",
     "output_type": "stream",
     "text": [
      "Successfully saved data to ../Source_Fine-Tuning/data/bhxh_bhyt_bhtn_data.csv\n"
     ]
    }
   ],
   "source": [
    "\n",
    "# Lưu DataFrame vào file CSV\n",
    "csv_file = '../Source_Fine-Tuning/data/bhxh_bhyt_bhtn_data.csv'\n",
    "df_bh.to_csv(csv_file, encoding='utf-8',index_label='Index')\n",
    "\n",
    "print(f\"Successfully saved data to {csv_file}\")"
   ]
  },
  {
   "cell_type": "code",
   "execution_count": 6,
   "metadata": {},
   "outputs": [],
   "source": [
    "df_bh=pd.read_csv(\"../Source_Fine-Tuning/data/bhxh_bhyt_bhtn_data.csv\",encoding='utf-8')"
   ]
  },
  {
   "cell_type": "code",
   "execution_count": 7,
   "metadata": {},
   "outputs": [
    {
     "data": {
      "text/plain": [
       "(1892, 6)"
      ]
     },
     "execution_count": 7,
     "metadata": {},
     "output_type": "execute_result"
    }
   ],
   "source": [
    "df_bh.shape"
   ]
  }
 ],
 "metadata": {
  "kernelspec": {
   "display_name": "machinelearning-lTTH8rYd",
   "language": "python",
   "name": "python3"
  },
  "language_info": {
   "codemirror_mode": {
    "name": "ipython",
    "version": 3
   },
   "file_extension": ".py",
   "mimetype": "text/x-python",
   "name": "python",
   "nbconvert_exporter": "python",
   "pygments_lexer": "ipython3",
   "version": "3.11.5"
  }
 },
 "nbformat": 4,
 "nbformat_minor": 2
}
