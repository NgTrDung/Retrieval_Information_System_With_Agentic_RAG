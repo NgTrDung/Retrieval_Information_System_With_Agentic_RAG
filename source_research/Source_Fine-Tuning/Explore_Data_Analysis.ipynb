{
 "cells": [
  {
   "cell_type": "markdown",
   "metadata": {},
   "source": [
    "### 1.Import Library"
   ]
  },
  {
   "cell_type": "code",
   "execution_count": 1,
   "metadata": {},
   "outputs": [],
   "source": [
    "import pandas as pd\n",
    "# pd.set_option('display.max_columns', None)\n",
    "# pd.set_option('display.max_colwidth', None)"
   ]
  },
  {
   "cell_type": "markdown",
   "metadata": {},
   "source": [
    "### 2.Explore Data Analysis"
   ]
  },
  {
   "cell_type": "markdown",
   "metadata": {},
   "source": [
    "> data origin"
   ]
  },
  {
   "cell_type": "code",
   "execution_count": 2,
   "metadata": {},
   "outputs": [],
   "source": [
    "df_bh=pd.read_csv(\"../Source_Fine-Tuning/data/bhxh_bhyt_bhtn_data.csv\")\n",
    "df_chinhsach=pd.read_csv(\"../Source_Fine-Tuning/data/chinhsach_nguoicocong_data.csv\")\n",
    "df_gd_daotao_yte=pd.read_csv(\"../Source_Fine-Tuning/data/giaoduc_daotao_yte_data.csv\")\n",
    "df_gt_xd_tn_mt=pd.read_csv(\"../Source_Fine-Tuning/data/giaothong_xaydung_tainguyen_moitruong_data.csv\")\n",
    "df_laodong_tt=pd.read_csv(\"../Source_Fine-Tuning/data/laodong_tienthuong_data.csv\")\n",
    "df_tc_nh_dt_ct=pd.read_csv(\"../Source_Fine-Tuning/data/taichinh_nganhang_dautu_congthuong_data.csv\")\n",
    "df_linhvuckhac=pd.read_csv(\"../Source_Fine-Tuning/data/linhvuckhac_data.csv\")"
   ]
  },
  {
   "cell_type": "markdown",
   "metadata": {},
   "source": [
    "> merge data"
   ]
  },
  {
   "cell_type": "code",
   "execution_count": 3,
   "metadata": {},
   "outputs": [],
   "source": [
    "# Nối các DataFrame lại thành một DataFrame duy nhất\n",
    "df_tonghop = pd.concat([df_bh, df_chinhsach, df_gd_daotao_yte, df_gt_xd_tn_mt, df_laodong_tt, df_tc_nh_dt_ct, df_linhvuckhac], ignore_index=True,axis=0)\n",
    "\n",
    "df_tonghop = df_tonghop.drop(columns='Index')\n",
    "\n",
    "# Lưu DataFrame đã nối với việc thêm cột 'index' làm tên cột\n",
    "df_tonghop.to_csv(\"../Source_Fine-Tuning/data/tonghop_data.csv\", index_label='Index')\n"
   ]
  },
  {
   "cell_type": "code",
   "execution_count": 4,
   "metadata": {},
   "outputs": [
    {
     "data": {
      "text/plain": [
       "(13692, 5)"
      ]
     },
     "execution_count": 4,
     "metadata": {},
     "output_type": "execute_result"
    }
   ],
   "source": [
    "df_tonghop.shape"
   ]
  },
  {
   "cell_type": "markdown",
   "metadata": {},
   "source": [
    "> Read CSV"
   ]
  },
  {
   "cell_type": "code",
   "execution_count": 5,
   "metadata": {},
   "outputs": [],
   "source": [
    "df_train = pd.read_csv('./data/tonghop_data.csv')\n",
    "df_alqac = pd.read_csv('./data/ALQAC.csv')"
   ]
  },
  {
   "cell_type": "code",
   "execution_count": 6,
   "metadata": {},
   "outputs": [
    {
     "data": {
      "text/plain": [
       "(530, 3)"
      ]
     },
     "execution_count": 6,
     "metadata": {},
     "output_type": "execute_result"
    }
   ],
   "source": [
    "df_alqac.shape"
   ]
  },
  {
   "cell_type": "markdown",
   "metadata": {},
   "source": [
    "> Rename"
   ]
  },
  {
   "cell_type": "code",
   "execution_count": 7,
   "metadata": {},
   "outputs": [],
   "source": [
    "df_train = df_train.rename(columns={'Question': 'question', 'Situation': 'situation', 'Answer': 'answer'})"
   ]
  },
  {
   "cell_type": "markdown",
   "metadata": {},
   "source": [
    "> Create Context"
   ]
  },
  {
   "cell_type": "code",
   "execution_count": 8,
   "metadata": {},
   "outputs": [],
   "source": [
    "df_train=df_train[['question', 'situation', 'answer']]\n",
    "df_train['context']=df_train['situation']+df_train['answer']"
   ]
  },
  {
   "cell_type": "markdown",
   "metadata": {},
   "source": [
    "> format"
   ]
  },
  {
   "cell_type": "code",
   "execution_count": 9,
   "metadata": {},
   "outputs": [],
   "source": [
    "df_train=df_train[['context', 'question', 'answer']]"
   ]
  },
  {
   "cell_type": "code",
   "execution_count": 10,
   "metadata": {},
   "outputs": [
    {
     "data": {
      "text/plain": [
       "(13692, 3)"
      ]
     },
     "execution_count": 10,
     "metadata": {},
     "output_type": "execute_result"
    }
   ],
   "source": [
    "df_train.shape"
   ]
  },
  {
   "cell_type": "markdown",
   "metadata": {},
   "source": [
    "> To CSV"
   ]
  },
  {
   "cell_type": "code",
   "execution_count": 11,
   "metadata": {},
   "outputs": [],
   "source": [
    "df_merged = pd.concat([df_train, df_alqac], axis=0)"
   ]
  },
  {
   "cell_type": "code",
   "execution_count": 12,
   "metadata": {},
   "outputs": [
    {
     "data": {
      "text/plain": [
       "(14222, 3)"
      ]
     },
     "execution_count": 12,
     "metadata": {},
     "output_type": "execute_result"
    }
   ],
   "source": [
    "df_merged.shape"
   ]
  },
  {
   "cell_type": "markdown",
   "metadata": {},
   "source": [
    ">Final train"
   ]
  },
  {
   "cell_type": "code",
   "execution_count": 13,
   "metadata": {},
   "outputs": [],
   "source": [
    "bo_sung_df=pd.read_csv(\"./data/bo_sung.csv\")"
   ]
  },
  {
   "cell_type": "code",
   "execution_count": 14,
   "metadata": {},
   "outputs": [
    {
     "data": {
      "text/plain": [
       "(15000, 4)"
      ]
     },
     "execution_count": 14,
     "metadata": {},
     "output_type": "execute_result"
    }
   ],
   "source": [
    "bo_sung_df.shape"
   ]
  },
  {
   "cell_type": "code",
   "execution_count": 15,
   "metadata": {},
   "outputs": [
    {
     "data": {
      "text/html": [
       "<div>\n",
       "<style scoped>\n",
       "    .dataframe tbody tr th:only-of-type {\n",
       "        vertical-align: middle;\n",
       "    }\n",
       "\n",
       "    .dataframe tbody tr th {\n",
       "        vertical-align: top;\n",
       "    }\n",
       "\n",
       "    .dataframe thead th {\n",
       "        text-align: right;\n",
       "    }\n",
       "</style>\n",
       "<table border=\"1\" class=\"dataframe\">\n",
       "  <thead>\n",
       "    <tr style=\"text-align: right;\">\n",
       "      <th></th>\n",
       "      <th>text</th>\n",
       "      <th>meta</th>\n",
       "      <th>content</th>\n",
       "      <th>citation</th>\n",
       "    </tr>\n",
       "  </thead>\n",
       "  <tbody>\n",
       "    <tr>\n",
       "      <th>0</th>\n",
       "      <td>Điều 1 Quyết định 92/2007/QĐ-UBND chế độ thu n...</td>\n",
       "      <td>{'issuing_agency': 'Tỉnh Bình Dương', 'promulg...</td>\n",
       "      <td>Điều 1. Quy định chế độ thu, nộp, quản lý và s...</td>\n",
       "      <td>Điều 1 Quyết định 92/2007/QĐ-UBND chế độ thu n...</td>\n",
       "    </tr>\n",
       "    <tr>\n",
       "      <th>1</th>\n",
       "      <td>Điều 2 Quyết định 92/2007/QĐ-UBND chế độ thu n...</td>\n",
       "      <td>{'issuing_agency': 'Tỉnh Bình Dương', 'promulg...</td>\n",
       "      <td>Điều 2. Tổ chức thu, nộp và quản lý sử dụng\\n1...</td>\n",
       "      <td>Điều 2 Quyết định 92/2007/QĐ-UBND chế độ thu n...</td>\n",
       "    </tr>\n",
       "    <tr>\n",
       "      <th>2</th>\n",
       "      <td>Điều 3 Quyết định 92/2007/QĐ-UBND chế độ thu n...</td>\n",
       "      <td>{'issuing_agency': 'Tỉnh Bình Dương', 'promulg...</td>\n",
       "      <td>Điều 3. Chánh Văn phòng Uỷ ban nhân dân tỉnh, ...</td>\n",
       "      <td>Điều 3 Quyết định 92/2007/QĐ-UBND chế độ thu n...</td>\n",
       "    </tr>\n",
       "    <tr>\n",
       "      <th>3</th>\n",
       "      <td>Điều 1 Quyết định 86/2014/QĐ-UBND Quy chế phối...</td>\n",
       "      <td>{'issuing_agency': 'Tỉnh Lào Cai', 'promulgati...</td>\n",
       "      <td>Điều 1. Ban hành kèm theo Quyết định này Quy c...</td>\n",
       "      <td>Điều 1 Quyết định 86/2014/QĐ-UBND Quy chế phối...</td>\n",
       "    </tr>\n",
       "    <tr>\n",
       "      <th>4</th>\n",
       "      <td>Điều 2 Quyết định 86/2014/QĐ-UBND Quy chế phối...</td>\n",
       "      <td>{'issuing_agency': 'Tỉnh Lào Cai', 'promulgati...</td>\n",
       "      <td>Điều 2. Quyết định có hiệu lực sau 10 ngày, kể...</td>\n",
       "      <td>Điều 2 Quyết định 86/2014/QĐ-UBND Quy chế phối...</td>\n",
       "    </tr>\n",
       "  </tbody>\n",
       "</table>\n",
       "</div>"
      ],
      "text/plain": [
       "                                                text  \\\n",
       "0  Điều 1 Quyết định 92/2007/QĐ-UBND chế độ thu n...   \n",
       "1  Điều 2 Quyết định 92/2007/QĐ-UBND chế độ thu n...   \n",
       "2  Điều 3 Quyết định 92/2007/QĐ-UBND chế độ thu n...   \n",
       "3  Điều 1 Quyết định 86/2014/QĐ-UBND Quy chế phối...   \n",
       "4  Điều 2 Quyết định 86/2014/QĐ-UBND Quy chế phối...   \n",
       "\n",
       "                                                meta  \\\n",
       "0  {'issuing_agency': 'Tỉnh Bình Dương', 'promulg...   \n",
       "1  {'issuing_agency': 'Tỉnh Bình Dương', 'promulg...   \n",
       "2  {'issuing_agency': 'Tỉnh Bình Dương', 'promulg...   \n",
       "3  {'issuing_agency': 'Tỉnh Lào Cai', 'promulgati...   \n",
       "4  {'issuing_agency': 'Tỉnh Lào Cai', 'promulgati...   \n",
       "\n",
       "                                             content  \\\n",
       "0  Điều 1. Quy định chế độ thu, nộp, quản lý và s...   \n",
       "1  Điều 2. Tổ chức thu, nộp và quản lý sử dụng\\n1...   \n",
       "2  Điều 3. Chánh Văn phòng Uỷ ban nhân dân tỉnh, ...   \n",
       "3  Điều 1. Ban hành kèm theo Quyết định này Quy c...   \n",
       "4  Điều 2. Quyết định có hiệu lực sau 10 ngày, kể...   \n",
       "\n",
       "                                            citation  \n",
       "0  Điều 1 Quyết định 92/2007/QĐ-UBND chế độ thu n...  \n",
       "1  Điều 2 Quyết định 92/2007/QĐ-UBND chế độ thu n...  \n",
       "2  Điều 3 Quyết định 92/2007/QĐ-UBND chế độ thu n...  \n",
       "3  Điều 1 Quyết định 86/2014/QĐ-UBND Quy chế phối...  \n",
       "4  Điều 2 Quyết định 86/2014/QĐ-UBND Quy chế phối...  "
      ]
     },
     "execution_count": 15,
     "metadata": {},
     "output_type": "execute_result"
    }
   ],
   "source": [
    "bo_sung_df.head(5)"
   ]
  },
  {
   "cell_type": "code",
   "execution_count": 16,
   "metadata": {},
   "outputs": [],
   "source": [
    "bo_sung_df.rename(columns={\"text\":\"context\",\"content\":\"answer\",\"citation\": \"question\"}, inplace=True)"
   ]
  },
  {
   "cell_type": "code",
   "execution_count": 17,
   "metadata": {},
   "outputs": [],
   "source": [
    "formatted_df = bo_sung_df[[\"context\", \"question\", \"answer\"]]"
   ]
  },
  {
   "cell_type": "code",
   "execution_count": 18,
   "metadata": {},
   "outputs": [
    {
     "data": {
      "text/plain": [
       "(29222, 3)"
      ]
     },
     "execution_count": 18,
     "metadata": {},
     "output_type": "execute_result"
    }
   ],
   "source": [
    "formatted_df.shape\n",
    "final_data= pd.concat([df_merged,formatted_df],axis=0)\n",
    "final_data.shape"
   ]
  },
  {
   "cell_type": "code",
   "execution_count": 19,
   "metadata": {},
   "outputs": [],
   "source": [
    "bosung_3=pd.read_csv(\"../Source_Fine-Tuning/data/bosung_3.csv\")"
   ]
  },
  {
   "cell_type": "code",
   "execution_count": 20,
   "metadata": {},
   "outputs": [
    {
     "data": {
      "text/plain": [
       "(3977, 3)"
      ]
     },
     "execution_count": 20,
     "metadata": {},
     "output_type": "execute_result"
    }
   ],
   "source": [
    "bosung_3.shape"
   ]
  },
  {
   "cell_type": "code",
   "execution_count": 21,
   "metadata": {},
   "outputs": [],
   "source": [
    "final_data= pd.concat([bosung_3,final_data],axis=0)"
   ]
  },
  {
   "cell_type": "code",
   "execution_count": 22,
   "metadata": {},
   "outputs": [
    {
     "data": {
      "text/plain": [
       "(5127, 4)"
      ]
     },
     "execution_count": 22,
     "metadata": {},
     "output_type": "execute_result"
    }
   ],
   "source": [
    "df_legal_fine_tuned=pd.read_csv(\"../Source_Fine-Tuning/data/final_train.csv\")\n",
    "bosung_1=pd.read_csv(\"./data/bo_sung_1.csv\")\n",
    "bosung_1.shape"
   ]
  },
  {
   "cell_type": "code",
   "execution_count": 23,
   "metadata": {},
   "outputs": [
    {
     "data": {
      "text/plain": [
       "(32325, 4)"
      ]
     },
     "execution_count": 23,
     "metadata": {},
     "output_type": "execute_result"
    }
   ],
   "source": [
    "df_legal_fine_tuned.shape"
   ]
  },
  {
   "cell_type": "code",
   "execution_count": 24,
   "metadata": {},
   "outputs": [
    {
     "data": {
      "text/html": [
       "<div>\n",
       "<style scoped>\n",
       "    .dataframe tbody tr th:only-of-type {\n",
       "        vertical-align: middle;\n",
       "    }\n",
       "\n",
       "    .dataframe tbody tr th {\n",
       "        vertical-align: top;\n",
       "    }\n",
       "\n",
       "    .dataframe thead th {\n",
       "        text-align: right;\n",
       "    }\n",
       "</style>\n",
       "<table border=\"1\" class=\"dataframe\">\n",
       "  <thead>\n",
       "    <tr style=\"text-align: right;\">\n",
       "      <th></th>\n",
       "      <th>Unnamed: 0</th>\n",
       "      <th>context</th>\n",
       "      <th>question</th>\n",
       "      <th>answer</th>\n",
       "    </tr>\n",
       "  </thead>\n",
       "  <tbody>\n",
       "    <tr>\n",
       "      <th>0</th>\n",
       "      <td>0</td>\n",
       "      <td>Căn cứ tại Điều 17 Luật Hòa giải ở cơ sở năm 2...</td>\n",
       "      <td>Quyền và nghĩa vụ của các bên trong hòa giải đ...</td>\n",
       "      <td>Quyền và nghĩa vụ của các bên trong hòa giải\\n...</td>\n",
       "    </tr>\n",
       "    <tr>\n",
       "      <th>1</th>\n",
       "      <td>1</td>\n",
       "      <td>Điểm a và điểm c khoản 1 Điều 250 Bộ luật Hình...</td>\n",
       "      <td>Vận chuyển bao nhiêu Heroine thì bị truy cứu t...</td>\n",
       "      <td>Tội vận chuyển trái phép chất ma túy\\n1. Người...</td>\n",
       "    </tr>\n",
       "    <tr>\n",
       "      <th>2</th>\n",
       "      <td>2</td>\n",
       "      <td>Căn cứ theo Điều 98 Luật Thương mại 2005 quy đ...</td>\n",
       "      <td>Có bao nhiêu cách thức thông báo khuyến mại hà...</td>\n",
       "      <td>Cách thức thông báo\\n1. Việc thông báo khuyến ...</td>\n",
       "    </tr>\n",
       "    <tr>\n",
       "      <th>3</th>\n",
       "      <td>3</td>\n",
       "      <td>Căn cứ theo Điều 5 Luật Xây dựng 2014 được sửa...</td>\n",
       "      <td>Công trình xây dựng được phân chia theo cấp nh...</td>\n",
       "      <td>Loại, cấp công trình xây dựng\\n1. Loại công tr...</td>\n",
       "    </tr>\n",
       "    <tr>\n",
       "      <th>4</th>\n",
       "      <td>4</td>\n",
       "      <td>Tại Điều 109 Luật Bảo hiểm xã hội 2014 có quy ...</td>\n",
       "      <td>Cần chuẩn bị hồ sơ gì để được hưởng bảo hiểm x...</td>\n",
       "      <td>Hồ sơ hưởng bảo hiểm xã hội một lần\\n1. Sổ bảo...</td>\n",
       "    </tr>\n",
       "  </tbody>\n",
       "</table>\n",
       "</div>"
      ],
      "text/plain": [
       "   Unnamed: 0                                            context  \\\n",
       "0           0  Căn cứ tại Điều 17 Luật Hòa giải ở cơ sở năm 2...   \n",
       "1           1  Điểm a và điểm c khoản 1 Điều 250 Bộ luật Hình...   \n",
       "2           2  Căn cứ theo Điều 98 Luật Thương mại 2005 quy đ...   \n",
       "3           3  Căn cứ theo Điều 5 Luật Xây dựng 2014 được sửa...   \n",
       "4           4  Tại Điều 109 Luật Bảo hiểm xã hội 2014 có quy ...   \n",
       "\n",
       "                                            question  \\\n",
       "0  Quyền và nghĩa vụ của các bên trong hòa giải đ...   \n",
       "1  Vận chuyển bao nhiêu Heroine thì bị truy cứu t...   \n",
       "2  Có bao nhiêu cách thức thông báo khuyến mại hà...   \n",
       "3  Công trình xây dựng được phân chia theo cấp nh...   \n",
       "4  Cần chuẩn bị hồ sơ gì để được hưởng bảo hiểm x...   \n",
       "\n",
       "                                              answer  \n",
       "0  Quyền và nghĩa vụ của các bên trong hòa giải\\n...  \n",
       "1  Tội vận chuyển trái phép chất ma túy\\n1. Người...  \n",
       "2  Cách thức thông báo\\n1. Việc thông báo khuyến ...  \n",
       "3  Loại, cấp công trình xây dựng\\n1. Loại công tr...  \n",
       "4  Hồ sơ hưởng bảo hiểm xã hội một lần\\n1. Sổ bảo...  "
      ]
     },
     "execution_count": 24,
     "metadata": {},
     "output_type": "execute_result"
    }
   ],
   "source": [
    "bosung_1.head(5)"
   ]
  },
  {
   "cell_type": "code",
   "execution_count": 25,
   "metadata": {},
   "outputs": [],
   "source": [
    "bosung_1.drop(columns=\"Unnamed: 0\",inplace=True)"
   ]
  },
  {
   "cell_type": "code",
   "execution_count": 26,
   "metadata": {},
   "outputs": [
    {
     "data": {
      "text/plain": [
       "(1282, 4)"
      ]
     },
     "execution_count": 26,
     "metadata": {},
     "output_type": "execute_result"
    }
   ],
   "source": [
    "bosung_2=pd.read_csv(\"./data/bo_sung_2.csv\")\n",
    "bosung_2.shape"
   ]
  },
  {
   "cell_type": "code",
   "execution_count": 27,
   "metadata": {},
   "outputs": [],
   "source": [
    "bosung_2.drop(columns=\"Unnamed: 0\",inplace=True)"
   ]
  },
  {
   "cell_type": "code",
   "execution_count": 28,
   "metadata": {},
   "outputs": [],
   "source": [
    "final_data= pd.concat([bosung_1,bosung_2,df_legal_fine_tuned],axis=0)"
   ]
  },
  {
   "cell_type": "code",
   "execution_count": 29,
   "metadata": {},
   "outputs": [
    {
     "data": {
      "text/plain": [
       "(38734, 4)"
      ]
     },
     "execution_count": 29,
     "metadata": {},
     "output_type": "execute_result"
    }
   ],
   "source": [
    "final_data.shape"
   ]
  },
  {
   "cell_type": "code",
   "execution_count": 30,
   "metadata": {},
   "outputs": [
    {
     "data": {
      "text/plain": [
       "Index(['context', 'question', 'answer', 'Unnamed: 0'], dtype='object')"
      ]
     },
     "execution_count": 30,
     "metadata": {},
     "output_type": "execute_result"
    }
   ],
   "source": [
    "final_data.columns"
   ]
  },
  {
   "cell_type": "code",
   "execution_count": 31,
   "metadata": {},
   "outputs": [],
   "source": [
    "import pandas as pd\n",
    "df_law=pd.read_csv(\"./data/bosung_4.csv\")"
   ]
  },
  {
   "cell_type": "code",
   "execution_count": 32,
   "metadata": {},
   "outputs": [],
   "source": [
    "df_law.drop(columns='Unnamed: 0',inplace=True)"
   ]
  },
  {
   "cell_type": "code",
   "execution_count": 33,
   "metadata": {},
   "outputs": [
    {
     "data": {
      "text/html": [
       "<div>\n",
       "<style scoped>\n",
       "    .dataframe tbody tr th:only-of-type {\n",
       "        vertical-align: middle;\n",
       "    }\n",
       "\n",
       "    .dataframe tbody tr th {\n",
       "        vertical-align: top;\n",
       "    }\n",
       "\n",
       "    .dataframe thead th {\n",
       "        text-align: right;\n",
       "    }\n",
       "</style>\n",
       "<table border=\"1\" class=\"dataframe\">\n",
       "  <thead>\n",
       "    <tr style=\"text-align: right;\">\n",
       "      <th></th>\n",
       "      <th>context</th>\n",
       "      <th>question</th>\n",
       "      <th>answer</th>\n",
       "    </tr>\n",
       "  </thead>\n",
       "  <tbody>\n",
       "    <tr>\n",
       "      <th>0</th>\n",
       "      <td>Điều 30 . Tổ sát_hạch 1 . Tổ sát_hạch do Cục_t...</td>\n",
       "      <td>Tổ sát_hạch cấp giấy_phép lái tàu_hỏa có bao_n...</td>\n",
       "      <td>Điều 10 . Xác_định nội_dung đăng_ký lại khai_s...</td>\n",
       "    </tr>\n",
       "    <tr>\n",
       "      <th>1</th>\n",
       "      <td>Điều 11 . Tổ_chức đào_tạo nghề cho lao_động tr...</td>\n",
       "      <td>Văn_bản điều_chỉnh hoạt_động tổ_chức đào_tạo n...</td>\n",
       "      <td>Điều 6 . Kê_khai , nộp phí 1 . Chậm nhất là ng...</td>\n",
       "    </tr>\n",
       "    <tr>\n",
       "      <th>2</th>\n",
       "      <td>Điều 9 . Chế_độ phụ_cấp đặc_thù quốc_phòng , q...</td>\n",
       "      <td>Phó chỉ_huy_trưởng Ban chỉ_huy quân_sự xã được...</td>\n",
       "      <td>Điều 1 . Phạm_vi điều_chỉnh Thông_tư này hướng...</td>\n",
       "    </tr>\n",
       "    <tr>\n",
       "      <th>3</th>\n",
       "      <td>Điều 8 . Trách_nhiệm của người đứng đầu đoàn_t...</td>\n",
       "      <td>Thực_hiện dân_chủ trong cơ_sở giáo_dục công_lậ...</td>\n",
       "      <td>Điều 40 . Hiệu_lực thi_hành 1 . Nghị_định này ...</td>\n",
       "    </tr>\n",
       "    <tr>\n",
       "      <th>4</th>\n",
       "      <td>Điều 16 . Xử_phạt người điều_khiển xe ô_tô ( b...</td>\n",
       "      <td>Mức phạt nếu điều_khiển xe ô_tô lắp thêm đèn</td>\n",
       "      <td>Điều 23 . Nội_dung tin cảnh_báo sóng_thần 1 . ...</td>\n",
       "    </tr>\n",
       "  </tbody>\n",
       "</table>\n",
       "</div>"
      ],
      "text/plain": [
       "                                             context  \\\n",
       "0  Điều 30 . Tổ sát_hạch 1 . Tổ sát_hạch do Cục_t...   \n",
       "1  Điều 11 . Tổ_chức đào_tạo nghề cho lao_động tr...   \n",
       "2  Điều 9 . Chế_độ phụ_cấp đặc_thù quốc_phòng , q...   \n",
       "3  Điều 8 . Trách_nhiệm của người đứng đầu đoàn_t...   \n",
       "4  Điều 16 . Xử_phạt người điều_khiển xe ô_tô ( b...   \n",
       "\n",
       "                                            question  \\\n",
       "0  Tổ sát_hạch cấp giấy_phép lái tàu_hỏa có bao_n...   \n",
       "1  Văn_bản điều_chỉnh hoạt_động tổ_chức đào_tạo n...   \n",
       "2  Phó chỉ_huy_trưởng Ban chỉ_huy quân_sự xã được...   \n",
       "3  Thực_hiện dân_chủ trong cơ_sở giáo_dục công_lậ...   \n",
       "4       Mức phạt nếu điều_khiển xe ô_tô lắp thêm đèn   \n",
       "\n",
       "                                              answer  \n",
       "0  Điều 10 . Xác_định nội_dung đăng_ký lại khai_s...  \n",
       "1  Điều 6 . Kê_khai , nộp phí 1 . Chậm nhất là ng...  \n",
       "2  Điều 1 . Phạm_vi điều_chỉnh Thông_tư này hướng...  \n",
       "3  Điều 40 . Hiệu_lực thi_hành 1 . Nghị_định này ...  \n",
       "4  Điều 23 . Nội_dung tin cảnh_báo sóng_thần 1 . ...  "
      ]
     },
     "execution_count": 33,
     "metadata": {},
     "output_type": "execute_result"
    }
   ],
   "source": [
    "df_law.head(5)"
   ]
  },
  {
   "cell_type": "code",
   "execution_count": 34,
   "metadata": {},
   "outputs": [],
   "source": [
    "final_data= pd.concat([df_law,final_data],axis=0)"
   ]
  },
  {
   "cell_type": "code",
   "execution_count": 35,
   "metadata": {},
   "outputs": [],
   "source": [
    "final_data.to_csv(\"./data/final_train_1.csv\",index=False)"
   ]
  },
  {
   "cell_type": "code",
   "execution_count": 36,
   "metadata": {},
   "outputs": [
    {
     "data": {
      "text/plain": [
       "(71714, 4)"
      ]
     },
     "execution_count": 36,
     "metadata": {},
     "output_type": "execute_result"
    }
   ],
   "source": [
    "final_data.shape"
   ]
  },
  {
   "cell_type": "code",
   "execution_count": 38,
   "metadata": {},
   "outputs": [],
   "source": [
    "final_data.drop(columns='Unnamed: 0',inplace=True)"
   ]
  },
  {
   "cell_type": "code",
   "execution_count": 39,
   "metadata": {},
   "outputs": [
    {
     "data": {
      "text/html": [
       "<div>\n",
       "<style scoped>\n",
       "    .dataframe tbody tr th:only-of-type {\n",
       "        vertical-align: middle;\n",
       "    }\n",
       "\n",
       "    .dataframe tbody tr th {\n",
       "        vertical-align: top;\n",
       "    }\n",
       "\n",
       "    .dataframe thead th {\n",
       "        text-align: right;\n",
       "    }\n",
       "</style>\n",
       "<table border=\"1\" class=\"dataframe\">\n",
       "  <thead>\n",
       "    <tr style=\"text-align: right;\">\n",
       "      <th></th>\n",
       "      <th>context</th>\n",
       "      <th>question</th>\n",
       "      <th>answer</th>\n",
       "    </tr>\n",
       "  </thead>\n",
       "  <tbody>\n",
       "    <tr>\n",
       "      <th>0</th>\n",
       "      <td>Điều 30 . Tổ sát_hạch 1 . Tổ sát_hạch do Cục_t...</td>\n",
       "      <td>Tổ sát_hạch cấp giấy_phép lái tàu_hỏa có bao_n...</td>\n",
       "      <td>Điều 10 . Xác_định nội_dung đăng_ký lại khai_s...</td>\n",
       "    </tr>\n",
       "    <tr>\n",
       "      <th>1</th>\n",
       "      <td>Điều 11 . Tổ_chức đào_tạo nghề cho lao_động tr...</td>\n",
       "      <td>Văn_bản điều_chỉnh hoạt_động tổ_chức đào_tạo n...</td>\n",
       "      <td>Điều 6 . Kê_khai , nộp phí 1 . Chậm nhất là ng...</td>\n",
       "    </tr>\n",
       "    <tr>\n",
       "      <th>2</th>\n",
       "      <td>Điều 9 . Chế_độ phụ_cấp đặc_thù quốc_phòng , q...</td>\n",
       "      <td>Phó chỉ_huy_trưởng Ban chỉ_huy quân_sự xã được...</td>\n",
       "      <td>Điều 1 . Phạm_vi điều_chỉnh Thông_tư này hướng...</td>\n",
       "    </tr>\n",
       "    <tr>\n",
       "      <th>3</th>\n",
       "      <td>Điều 8 . Trách_nhiệm của người đứng đầu đoàn_t...</td>\n",
       "      <td>Thực_hiện dân_chủ trong cơ_sở giáo_dục công_lậ...</td>\n",
       "      <td>Điều 40 . Hiệu_lực thi_hành 1 . Nghị_định này ...</td>\n",
       "    </tr>\n",
       "    <tr>\n",
       "      <th>4</th>\n",
       "      <td>Điều 16 . Xử_phạt người điều_khiển xe ô_tô ( b...</td>\n",
       "      <td>Mức phạt nếu điều_khiển xe ô_tô lắp thêm đèn</td>\n",
       "      <td>Điều 23 . Nội_dung tin cảnh_báo sóng_thần 1 . ...</td>\n",
       "    </tr>\n",
       "  </tbody>\n",
       "</table>\n",
       "</div>"
      ],
      "text/plain": [
       "                                             context  \\\n",
       "0  Điều 30 . Tổ sát_hạch 1 . Tổ sát_hạch do Cục_t...   \n",
       "1  Điều 11 . Tổ_chức đào_tạo nghề cho lao_động tr...   \n",
       "2  Điều 9 . Chế_độ phụ_cấp đặc_thù quốc_phòng , q...   \n",
       "3  Điều 8 . Trách_nhiệm của người đứng đầu đoàn_t...   \n",
       "4  Điều 16 . Xử_phạt người điều_khiển xe ô_tô ( b...   \n",
       "\n",
       "                                            question  \\\n",
       "0  Tổ sát_hạch cấp giấy_phép lái tàu_hỏa có bao_n...   \n",
       "1  Văn_bản điều_chỉnh hoạt_động tổ_chức đào_tạo n...   \n",
       "2  Phó chỉ_huy_trưởng Ban chỉ_huy quân_sự xã được...   \n",
       "3  Thực_hiện dân_chủ trong cơ_sở giáo_dục công_lậ...   \n",
       "4       Mức phạt nếu điều_khiển xe ô_tô lắp thêm đèn   \n",
       "\n",
       "                                              answer  \n",
       "0  Điều 10 . Xác_định nội_dung đăng_ký lại khai_s...  \n",
       "1  Điều 6 . Kê_khai , nộp phí 1 . Chậm nhất là ng...  \n",
       "2  Điều 1 . Phạm_vi điều_chỉnh Thông_tư này hướng...  \n",
       "3  Điều 40 . Hiệu_lực thi_hành 1 . Nghị_định này ...  \n",
       "4  Điều 23 . Nội_dung tin cảnh_báo sóng_thần 1 . ...  "
      ]
     },
     "execution_count": 39,
     "metadata": {},
     "output_type": "execute_result"
    }
   ],
   "source": [
    "final_data.head(5)\n"
   ]
  },
  {
   "cell_type": "code",
   "execution_count": null,
   "metadata": {},
   "outputs": [],
   "source": [
    "import pandas as pd "
   ]
  },
  {
   "cell_type": "code",
   "execution_count": 2,
   "metadata": {},
   "outputs": [],
   "source": [
    "df_legal=pd.read_csv(\"../Source_Fine-Tuning/data/final_train_1.csv\")"
   ]
  },
  {
   "cell_type": "code",
   "execution_count": 3,
   "metadata": {},
   "outputs": [
    {
     "data": {
      "text/plain": [
       "(71714, 4)"
      ]
     },
     "execution_count": 3,
     "metadata": {},
     "output_type": "execute_result"
    }
   ],
   "source": [
    "df_legal.shape"
   ]
  },
  {
   "cell_type": "code",
   "execution_count": null,
   "metadata": {},
   "outputs": [],
   "source": []
  }
 ],
 "metadata": {
  "kernelspec": {
   "display_name": "machinelearning-lTTH8rYd",
   "language": "python",
   "name": "python3"
  },
  "language_info": {
   "codemirror_mode": {
    "name": "ipython",
    "version": 3
   },
   "file_extension": ".py",
   "mimetype": "text/x-python",
   "name": "python",
   "nbconvert_exporter": "python",
   "pygments_lexer": "ipython3",
   "version": "3.11.5"
  }
 },
 "nbformat": 4,
 "nbformat_minor": 2
}
