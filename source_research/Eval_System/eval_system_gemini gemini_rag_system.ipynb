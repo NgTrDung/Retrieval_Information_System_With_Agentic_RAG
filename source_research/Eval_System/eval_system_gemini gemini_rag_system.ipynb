{
 "cells": [
  {
   "cell_type": "code",
   "execution_count": null,
   "id": "257c16cd",
   "metadata": {},
   "outputs": [
    {
     "name": "stdout",
     "output_type": "stream",
     "text": [
      "hghaan/rerank_model\n"
     ]
    }
   ],
   "source": [
    "import sys\n",
    "project_path = r\"D:/DaiHoc/machinelearning/TLCN/DoAnTotNghiep_chat_bot/\"\n",
    "sys.path.append(project_path)\n",
    "from source.function.utils_result import RAG\n",
    "from source.search.utils_search import Qdrant_Utils\n",
    "from source.rerank.utils_rerank import Rerank_Utils  \n",
    "from source.model.embedding_model import Sentences_Transformer_Embedding\n",
    "from source.model.extract_model import Bert_Extract\n",
    "from source.model.generate_model import Gemini\n",
    "from source.model.rerank_model import Cohere\n",
    "from source.data.vectordb.qdrant import Qdrant_Vector\n",
    "from source.core.config import Settings\n",
    "from source.model.rerank_model_finetune import RerankModelFinetune\n",
    "from source.generate.generate import Gemini_Generate\n",
    "from source.extract.utils_extract import Extract_Information\n",
    "from rouge_score import rouge_scorer\n",
    "from sklearn.metrics import f1_score\n",
    "import cohere\n",
    "import numpy as np\n",
    "import pandas as pd\n",
    "from tqdm import tqdm\n",
    "setting=Settings()\n",
    "gemini=Gemini(setting)\n",
    "print(setting.RERANK)\n",
    "cohere_api=Cohere(setting)\n",
    "bert=Bert_Extract(setting)\n",
    "rerank_model_fintuned=RerankModelFinetune(setting)\n",
    "sentences_transformer_embedding=Sentences_Transformer_Embedding(setting)\n",
    "qdrant=Qdrant_Vector(setting,sentences_transformer_embedding)\n",
    "rerank_Utils=Rerank_Utils(cohere_api,rerank_model_fintuned)\n",
    "extract_Utils= Extract_Information(bert)\n",
    "generate_Utils=Gemini_Generate(gemini,setting)\n",
    "qdrant_Utils=Qdrant_Utils(qdrant, generate_Utils)\n",
    "rag=RAG(generate_Utils,extract_Utils,qdrant_Utils,rerank_Utils,setting,sentences_transformer_embedding)\n",
    "import pandas as pd\n",
    "from tqdm import tqdm\n",
    "import google.generativeai as genai \n",
    "from sklearn.metrics.pairwise import cosine_similarity\n",
    "import os"
   ]
  },
  {
   "cell_type": "markdown",
   "id": "9280d5d7",
   "metadata": {},
   "source": [
    "## 1.Eval Gemini model"
   ]
  },
  {
   "cell_type": "code",
   "execution_count": 2,
   "id": "f7218d94",
   "metadata": {},
   "outputs": [],
   "source": [
    "# Đọc file CSV chứa câu hỏi và câu trả lời đã có (nếu có)\n",
    "df = pd.read_csv('./data/data_processed/final_data_system_response.csv')"
   ]
  },
  {
   "cell_type": "code",
   "execution_count": null,
   "id": "cfe918b1",
   "metadata": {},
   "outputs": [
    {
     "name": "stdout",
     "output_type": "stream",
     "text": [
      "<source.rerank.utils_rerank.Rerank_Utils object at 0x000001ADBE3A10D0>\n"
     ]
    },
    {
     "ename": "",
     "evalue": "",
     "output_type": "error",
     "traceback": [
      "\u001b[1;31mThe Kernel crashed while executing code in the current cell or a previous cell. \n",
      "\u001b[1;31mPlease review the code in the cell(s) to identify a possible cause of the failure. \n",
      "\u001b[1;31mClick <a href='https://aka.ms/vscodeJupyterKernelCrash'>here</a> for more info. \n",
      "\u001b[1;31mView Jupyter <a href='command:jupyter.viewOutput'>log</a> for further details."
     ]
    }
   ],
   "source": [
    "print(rerank_Utils)"
   ]
  },
  {
   "cell_type": "code",
   "execution_count": null,
   "id": "2abb9a20",
   "metadata": {},
   "outputs": [
    {
     "name": "stderr",
     "output_type": "stream",
     "text": [
      "Sinh trả lời:   0%|          | 0/1204 [00:00<?, ?it/s]"
     ]
    },
    {
     "name": "stdout",
     "output_type": "stream",
     "text": [
      "['Câu 1. Tôi có thể kết hôn với cháu ruột của thím mình không?', 'Tôi có được phép kết hôn với người có quan hệ huyết thống là cháu ruột của thím theo quy định pháp luật không?', 'Quy định pháp luật Việt Nam về việc kết hôn giữa những người có quan hệ họ hàng, cụ thể là cháu ruột của thím, được phép hay không?', 'Điều kiện kết hôn theo Luật Hôn nhân và Gia đình có cho phép kết hôn giữa cháu ruột và thím không?']\n",
      "None\n",
      "Query 1 có 25 kết quả\n",
      "None\n",
      "Query 2 có 25 kết quả\n",
      "None\n",
      "Query 3 có 25 kết quả\n",
      "should=[FieldCondition(key='metadata.LoaiVanBanFilter', match=MatchValue(value='luật'), range=None, geo_bounding_box=None, geo_radius=None, geo_polygon=None, values_count=None, is_empty=None, is_null=None)] min_should=None must=None must_not=None\n",
      "Query 4 có 25 kết quả\n",
      "Tổng số kết quả tìm được: 100\n",
      "Số document khi xoá trùng 38\n",
      "Số document sau khi qua rerank: 5\n"
     ]
    },
    {
     "name": "stderr",
     "output_type": "stream",
     "text": [
      "Sinh trả lời:   0%|          | 1/1204 [00:48<16:08:27, 48.30s/it]"
     ]
    },
    {
     "name": "stdout",
     "output_type": "stream",
     "text": [
      "['Câu 2. Anh J và chị O học tiểu học cùng nhau, anh J theo bố mẹ sang định cư tại Đan Mạch. Khi về thăm quê, anh J có gặp lại chị O, từ đó cả hai nối lại tình bạn. Sau một thời gian trao đổi, liên hệ với nhau qua điện thoại, mạng xã hội, chị O tỏ ý muốn sang định cư tại Đan Mạch và nhờ anh J giúp đỡ bằng cách đồng ý kết hôn với chị. Hai bên sẽ ly hôn sau khi chị O được nhập quốc tịch và đã sang cư trú tại Đan Mạch. Trưởng hợp này pháp luật có nghiêm cấm không và nếu J và O vẫn thực hiện thì xử lý như thế nào?', 'Hành vi kết hôn giả tạo để nhập quốc tịch có bị cấm theo quy định pháp luật Việt Nam không và chế tài xử lý nếu vi phạm?', 'Hôn nhân không thực chất nhằm mục đích định cư nước ngoài, cụ thể là nhập quốc tịch Đan Mạch, có hợp pháp theo luật Việt Nam và hậu quả pháp lý của việc này là gì?', 'Pháp luật Việt Nam có điều khoản nào ngăn cấm việc kết hôn chỉ để nhập quốc tịch nước ngoài (Đan Mạch) và nếu vẫn thực hiện thì J và O sẽ bị xử phạt như thế nào?']\n",
      "None\n",
      "Query 1 có 25 kết quả\n",
      "None\n",
      "Query 2 có 25 kết quả\n",
      "None\n",
      "Query 3 có 25 kết quả\n",
      "None\n",
      "Query 4 có 25 kết quả\n",
      "Tổng số kết quả tìm được: 100\n",
      "Số document khi xoá trùng 50\n",
      "Số document sau khi qua rerank: 5\n"
     ]
    },
    {
     "name": "stderr",
     "output_type": "stream",
     "text": [
      "Sinh trả lời:   0%|          | 2/1204 [02:00<20:52:59, 62.55s/it]"
     ]
    },
    {
     "name": "stdout",
     "output_type": "stream",
     "text": [
      "['Câu 3. Ông bà B có con trai đã 25 tuổi, bị bệnh đao bẩm sinh. Vì muốn lấy vợ cho con trai, bà B đã tìm cách vu cáo cho chị Y – người giúp việc lấy trộm số tiền 1.000.000 đồng. Bà B  đe dọa nếu chị Y không muốn bị báo công an, không muốn bị đi tù thì phải lấy con trai bà, vừa được làm chủ nhà, không phải làm người giúp việc lại có cuộc sống sung túc. Vì nhận thức hạn chế, trình độ văn hóa thấp nên chị Y đã đồng ý lấy con trai bà B. Hôn lễ chỉ tổ chức giữa hai gia đình mà không làm thủ tục đăng ký kết hôn tại phường. Việc làm của bà B có vi phạm pháp luật không? Nếu có thì bị xử phạt như thế nào?', 'Hành vi của bà B ép chị Y kết hôn trái ý muốn có vi phạm pháp luật Việt Nam không và chế tài xử phạt được quy định như thế nào?', 'Hành vi vu khống, đe dọa để ép người khác kết hôn trái ý muốn như trường hợp bà B có cấu thành tội phạm theo quy định của Bộ luật Hình sự không?', 'Pháp luật Việt Nam có những quy định nào về xử lý hành vi cưỡng ép kết hôn và trường hợp kết hôn không đăng ký thì có được công nhận không?']\n",
      "None\n",
      "Query 1 có 25 kết quả\n",
      "None\n",
      "Query 2 có 25 kết quả\n",
      "None\n",
      "Query 3 có 25 kết quả\n",
      "None\n",
      "Query 4 có 25 kết quả\n",
      "Tổng số kết quả tìm được: 100\n",
      "Số document khi xoá trùng 50\n",
      "Số document sau khi qua rerank: 5\n"
     ]
    },
    {
     "name": "stderr",
     "output_type": "stream",
     "text": [
      "Sinh trả lời:   0%|          | 3/1204 [03:24<24:09:18, 72.40s/it]"
     ]
    },
    {
     "name": "stdout",
     "output_type": "stream",
     "text": [
      "['Câu 4. Sau khi kết hôn, vợ chồng tôi sinh được 02 con gái. Chồng tôi công tác trên thành phố còn tôi sống ở quê cùng bố mẹ chồng và 2 con. Do quen biết với chị T qua mạng xã hội và nảy sinh tình cảm, lại sống xa gia đình, nên chồng tôi đã về chung sống như vợ chồng với chị T trên thành phố. Sau này biết chồng tôi đã có gia đình, nhưng do được chồng tôi hứa sẽ sớm ly hôn vợ để kết hôn với chị T nên chị T vẫn tiếp tục chung sống với chồng tôi. Xin hỏi tôi cần làm gì để chấm dứt mối quan hệ sai trái giữa chồng tôi và chị T?', 'Tôi cần thực hiện những biện pháp pháp lý nào để ngăn chặn hành vi chung sống trái pháp luật như vợ chồng của chồng tôi và người phụ nữ khác, khi biết rõ chồng tôi đã có gia đình?', 'Hành vi chồng tôi chung sống như vợ chồng với người khác khi chưa ly hôn có vi phạm Luật Hôn nhân và Gia đình không, và tôi có thể yêu cầu tòa án can thiệp như thế nào để bảo vệ quyền lợi hợp pháp của mình?', 'Trong trường hợp chồng tôi ngoại tình và chung sống bất hợp pháp với người khác, tôi có quyền yêu cầu ly hôn và đòi bồi thường thiệt hại về tinh thần theo quy định pháp luật hiện hành không?']\n",
      "None\n",
      "Query 1 có 25 kết quả\n",
      "None\n",
      "Query 2 có 25 kết quả\n",
      "None\n",
      "Query 3 có 25 kết quả\n",
      "None\n",
      "Query 4 có 25 kết quả\n",
      "Tổng số kết quả tìm được: 100\n",
      "Số document khi xoá trùng 50\n",
      "Số document sau khi qua rerank: 5\n"
     ]
    },
    {
     "name": "stderr",
     "output_type": "stream",
     "text": [
      "Sinh trả lời:   0%|          | 4/1204 [04:39<24:26:51, 73.34s/it]"
     ]
    },
    {
     "name": "stdout",
     "output_type": "stream",
     "text": [
      "['Câu 5. Tảo hôn và tổ chức tảo hôn là gì? Hành vi tảo hôn bị xử lý như thế nào?', 'Tảo hôn và hành vi tổ chức tảo hôn được định nghĩa như thế nào theo quy định pháp luật hiện hành, và chế tài xử phạt cho hành vi này là gì?', 'Quy định pháp luật về tảo hôn và tổ chức tảo hôn, bao gồm các yếu tố cấu thành và mức xử phạt tương ứng cho hành vi vi phạm?', 'Tảo hôn và tổ chức tảo hôn bị coi là hành vi vi phạm pháp luật như thế nào, và các hình thức xử lý vi phạm hành chính hoặc hình sự áp dụng cho các hành vi này?']\n",
      "None\n",
      "Query 1 có 25 kết quả\n",
      "None\n",
      "Query 2 có 25 kết quả\n",
      "None\n",
      "Query 3 có 25 kết quả\n",
      "None\n",
      "Query 4 có 25 kết quả\n",
      "Tổng số kết quả tìm được: 100\n",
      "Số document khi xoá trùng 37\n",
      "Số document sau khi qua rerank: 5\n"
     ]
    },
    {
     "name": "stderr",
     "output_type": "stream",
     "text": [
      "Sinh trả lời:   0%|          | 5/1204 [05:33<22:04:55, 66.30s/it]"
     ]
    },
    {
     "name": "stdout",
     "output_type": "stream",
     "text": [
      "['Câu 6. Theo lời thầy tử vi, nếu chị H kết hôn với anh P thì sẽ có cuộc sống sung túc, anh P cũng thăng tiến trên đường công danh. Biết thế, bố chị H yêu cầu chị phải lấy anh P, mặc dù anh P theo đuổi chị đã lâu, nhưng chị H không có tình cảm gì và cũng không muốn kết hôn. Thấy con gái không chịu kết hôn với P, bố chị H đã nổi giận và nói sẽ “từ” con. Không khí gia đình nặng nề, căng thẳng, chị H sợ mang tiếng là bất hiếu nên cuối cùng đồng ý lấy P làm chồng. Hỏi, bố chị H có vi phạm pháp luật về hôn nhân gia đình không? Nếu có thì hành vi này bị xử lý như thế nào?', 'Bố ép con gái kết hôn vì tin vào lời thầy tử vi có vi phạm Luật Hôn nhân và Gia đình không, và nếu có thì bị xử phạt như thế nào theo quy định pháp luật hiện hành?', 'Hành vi ép buộc kết hôn do mê tín dị đoan, cụ thể là tin vào lời thầy tử vi, có cấu thành tội phạm cưỡng ép kết hôn theo quy định của pháp luật hình sự Việt Nam không?', 'Việc cha mẹ từ mặt con cái do con cái không tuân theo ý muốn kết hôn có vi phạm quyền tự do kết hôn của công dân được pháp luật bảo vệ không, và chế tài xử lý cho hành vi này là gì?']\n",
      "None\n",
      "Query 1 có 25 kết quả\n",
      "None\n",
      "Query 2 có 25 kết quả\n",
      "None\n",
      "Query 3 có 25 kết quả\n",
      "None\n",
      "Query 4 có 25 kết quả\n",
      "Tổng số kết quả tìm được: 100\n",
      "Số document khi xoá trùng 50\n",
      "Số document sau khi qua rerank: 5\n"
     ]
    },
    {
     "name": "stderr",
     "output_type": "stream",
     "text": [
      "Sinh trả lời:   0%|          | 6/1204 [06:52<23:32:25, 70.74s/it]"
     ]
    },
    {
     "name": "stdout",
     "output_type": "stream",
     "text": [
      "['Câu 7. Biết mình đủ tuổi kết hôn và đáp ứng các điều kiện kết hôn, Anh S và chị Y dự định đi đăng ký kết hôn trước khi tổ chức lễ cưới 02 tháng. Chị Y và anh S có hộ khẩu thường trú ở hai tỉnh khác nhau, anh chị muốn biết việc đăng ký kết hôn thực hiện tại cơ quan nào và cần thực hiện thủ tục gì?', 'Thủ tục đăng ký kết hôn giữa anh S và chị Y khác tỉnh, thành phố được thực hiện tại cơ quan nào theo quy định pháp luật hiện hành?', 'Anh S và chị Y đủ điều kiện kết hôn muốn đăng ký kết hôn trước cưới 2 tháng, vậy hồ sơ và quy trình đăng ký kết hôn được thực hiện ở đâu khi hai người có hộ khẩu thường trú tại hai tỉnh khác nhau?', 'Cơ quan nào có thẩm quyền thực hiện đăng ký kết hôn cho cặp đôi anh S và chị Y khi cả hai đáp ứng điều kiện kết hôn nhưng thường trú tại hai tỉnh thành khác nhau, và cần chuẩn bị những giấy tờ gì?']\n",
      "None\n",
      "Query 1 có 25 kết quả\n",
      "None\n",
      "Query 2 có 25 kết quả\n",
      "should=[FieldCondition(key='metadata.NgayBanHanhFilter', match=MatchAny(any=['now']), range=None, geo_bounding_box=None, geo_radius=None, geo_polygon=None, values_count=None, is_empty=None, is_null=None)] min_should=None must=None must_not=None\n",
      "Query 3 có 0 kết quả\n",
      "None\n",
      "Query 4 có 25 kết quả\n",
      "Tổng số kết quả tìm được: 75\n",
      "Số document khi xoá trùng 33\n",
      "Số document sau khi qua rerank: 5\n"
     ]
    },
    {
     "name": "stderr",
     "output_type": "stream",
     "text": [
      "Sinh trả lời:   1%|          | 7/1204 [07:37<20:40:43, 62.19s/it]"
     ]
    },
    {
     "name": "stdout",
     "output_type": "stream",
     "text": [
      "['Câu 8. Ông bà nội của D sinh được 6 người con, bố D là con thứ hai, cô O là con út. Ông bà của D đã cho cô O làm con nuôi. Bố mẹ nuôi cô O đã đưa cô vào vùng kinh tế mới để làm ăn, vì thế cô O ít được gặp gỡ anh chị em ruột của mình. D đang học năm thứ tư của Đại học, D yêu M là sinh viên năm thứ nhất cùng trường. Khi D dẫn M về nhà chơi thì mọi người hỏi thăm mới biết M chính là con đẻ của cô O. Gia đình đã phân tích mối quan hệ huyết thống giữa D và M và yêu cầu phải chấm dứt quan hệ yêu đương. Tuy nhiên D thấy mình đã yêu M quá sâu nặng, không thể bỏ M nên D đã bàn với M là cứ ra Ủy ban nhân dân đăng ký kết hôn rồi hai bên sẽ ở cùng nhau trên thành phố, xa cả hai quê, gia đình sẽ không biết. Xin hỏi, D và M có được kết hôn với nhau không? Gia đình của D và M có quyền can thiệp vào quan hệ hôn nhân của D và M không?', 'D và M có đủ điều kiện kết hôn theo Luật Hôn nhân và Gia đình Việt Nam không, khi M là con của cô ruột D và gia đình phản đối?', 'Quy định pháp luật về cấm kết hôn giữa những người có quan hệ huyết thống trong phạm vi ba đời được áp dụng như thế nào trong trường hợp của D và M?', 'Gia đình có quyền can thiệp vào quyết định kết hôn của D và M không, khi họ có quan hệ huyết thống và dự định đăng ký kết hôn trái với ý muốn gia đình?']\n",
      "None\n",
      "Query 1 có 25 kết quả\n",
      "None\n",
      "Query 2 có 25 kết quả\n",
      "None\n",
      "Query 3 có 25 kết quả\n",
      "None\n",
      "Query 4 có 25 kết quả\n",
      "Tổng số kết quả tìm được: 100\n",
      "Số document khi xoá trùng 50\n",
      "Số document sau khi qua rerank: 5\n"
     ]
    },
    {
     "name": "stderr",
     "output_type": "stream",
     "text": [
      "Sinh trả lời:   1%|          | 8/1204 [09:04<23:14:08, 69.94s/it]"
     ]
    },
    {
     "name": "stdout",
     "output_type": "stream",
     "text": [
      "['Câu 9. Chị B kết hôn với anh S và có 01 con chung, anh chị chung sống hạnh phúc được 03 năm thì ly hôn. Chị B nuôi con. Bố anh S là người tâm lý, thương con thương cháu, ông đã quan tâm, chăm cháu hết lòng. Mặc dù chị B và anh S đã ly hôn, chị B đã thuê nhà ở riêng nhưng bố mẹ anh S vẫn thường xuyên đến chỗ ở chị B để thăm nom, chăm sóc cháu nội. Một năm sau mẹ anh S qua đời do tai nạn giao thông, bố anh S vẫn thường xuyên quan tâm cháu và qua lại nhà con dâu cũ để đưa đón cháu đi học và chăm sóc cháu. Gần đây, nhiều người hàng xóm thấy giữa bố chồng và con dâu cũ có biểu hiện nảy sinh tình cảm. Xin hỏi, bố anh S có thể kết hôn với chị B không? Nếu họ kết hôn với nhau thì pháp luật quy định như thế nào?', 'Bố chồng và con dâu cũ có được phép kết hôn theo Luật Hôn nhân và Gia đình Việt Nam không?', 'Quy định pháp luật về việc kết hôn giữa bố chồng và con dâu cũ sau ly hôn như thế nào?', 'Điều kiện và hệ quả pháp lý của việc bố chồng kết hôn với con dâu cũ theo luật hôn nhân Việt Nam là gì?']\n",
      "None\n",
      "Query 1 có 25 kết quả\n",
      "None\n",
      "Query 2 có 25 kết quả\n",
      "None\n",
      "Query 3 có 25 kết quả\n",
      "None\n",
      "Query 4 có 25 kết quả\n",
      "Tổng số kết quả tìm được: 100\n",
      "Số document khi xoá trùng 43\n",
      "Số document sau khi qua rerank: 5\n"
     ]
    },
    {
     "name": "stderr",
     "output_type": "stream",
     "text": [
      "Sinh trả lời:   1%|          | 9/1204 [10:15<23:22:34, 70.42s/it]"
     ]
    },
    {
     "name": "stdout",
     "output_type": "stream",
     "text": [
      "['Câu 10. Muốn trở thành vợ chồng, anh C và anh K đã tổ chức đám cưới với nhau bỏ mặc lời khuyên can của gia đình, họ hàng. Sau đó cả hao có nguyện vọng đi đăng ký kết hôn. Đề nghị cho biết họ có được đăng ký kết hôn không? Pháp luật có cấm người đồng giới kết hôn không? Họ có được nhận nuôi con nuôi và đề nghị Tòa án xử cho ly hôn không?', 'Việc tổ chức đám cưới giữa hai người đồng giới (anh C và anh K) có đủ điều kiện đăng ký kết hôn theo pháp luật Việt Nam hiện hành không?', 'Quy định pháp luật hiện hành của Việt Nam về việc công nhận và bảo vệ quyền kết hôn của người đồng giới, cũng như quyền nhận con nuôi và ly hôn của họ như thế nào?', 'Người đồng giới tổ chức đám cưới có được pháp luật Việt Nam cho phép đăng ký kết hôn, nhận con nuôi và yêu cầu tòa án giải quyết ly hôn không?']\n",
      "None\n",
      "Query 1 có 25 kết quả\n",
      "None\n",
      "Query 2 có 25 kết quả\n",
      "None\n",
      "Query 3 có 25 kết quả\n",
      "None\n",
      "Query 4 có 25 kết quả\n",
      "Tổng số kết quả tìm được: 100\n",
      "Số document khi xoá trùng 50\n",
      "Số document sau khi qua rerank: 5\n"
     ]
    },
    {
     "name": "stderr",
     "output_type": "stream",
     "text": [
      "Sinh trả lời:   1%|          | 10/1204 [11:27<23:28:13, 70.77s/it]"
     ]
    },
    {
     "name": "stdout",
     "output_type": "stream",
     "text": [
      "['Câu 11. Tôi đã kết hôn được 6 tháng, nhưng chưa chuyển hộ khẩu về nhà chồng (ở xã X, huyện B, tỉnh A), hộ khẩu của tôi vẫn đang ở nhà bố mẹ đẻ (xã Y, huyện C, tỉnh D). Nay tôi có nguyện vọng chuyển hộ khẩu về nhà chồng thì có được không và thủ tục thực hiện như thế nào? Ai có thẩm quyền giải quyết?', 'Tôi kết hôn 6 tháng, chưa nhập hộ khẩu về nhà chồng ở xã X, huyện B, tỉnh A, vậy tôi có được nhập hộ khẩu về đó không và cần những giấy tờ gì theo quy định pháp luật hiện hành?', 'Thủ tục và điều kiện đăng ký thường trú về nhà chồng (xã X, huyện B, tỉnh A) sau khi kết hôn 6 tháng, khi hộ khẩu vẫn ở xã Y, huyện C, tỉnh D được quy định như thế nào? Cơ quan nào có thẩm quyền giải quyết?', 'Hướng dẫn chi tiết về thủ tục chuyển hộ khẩu từ nhà bố mẹ đẻ (xã Y, huyện C, tỉnh D) sang nhà chồng (xã X, huyện B, tỉnh A) sau khi kết hôn 6 tháng theo quy định của Luật Cư trú hiện hành?']\n",
      "None\n",
      "Query 1 có 25 kết quả\n",
      "None\n",
      "Query 2 có 25 kết quả\n",
      "None\n",
      "Query 3 có 25 kết quả\n",
      "should=[FieldCondition(key='metadata.LoaiVanBanFilter', match=MatchValue(value='luật'), range=None, geo_bounding_box=None, geo_radius=None, geo_polygon=None, values_count=None, is_empty=None, is_null=None)] min_should=None must=None must_not=None\n",
      "Query 4 có 25 kết quả\n",
      "Tổng số kết quả tìm được: 100\n",
      "Số document khi xoá trùng 50\n",
      "Số document sau khi qua rerank: 5\n"
     ]
    },
    {
     "name": "stderr",
     "output_type": "stream",
     "text": [
      "Sinh trả lời:   1%|          | 11/1204 [12:23<22:00:08, 66.39s/it]"
     ]
    },
    {
     "name": "stdout",
     "output_type": "stream",
     "text": [
      "['Câu 12. Sau khi kết hôn được 01 năm, tôi và gia đình mới biết vợ mình trước đây là gái mại dâm chứ không phải là giáo viên tiểu học như thông tin ban dầu do vợ tôi cung cấp. Biết chuyện, mẹ tôi bắt tôi phải ly hôn, nếu không bà sẽ yêu cầu tòa án hủy việc kết hôn này, mặc dù tôi rất yêu vợ và không muốn chấm dứt quan hệ hôn nhân. Việc kết hôn của tôi với cô ấy có bị coi là trái pháp luật không? Việc làm của mẹ tôi đúng hay sai? Nếu có thì cuộc hôn nhân của chúng tôi có thể bị hủy\\xa0không?', 'Việc kết hôn có bị coi là trái pháp luật và có thể bị hủy do vợ từng hành nghề mại dâm và cung cấp thông tin sai lệch về nghề nghiệp trước khi kết hôn không?', 'Hành vi của người mẹ chồng khi ép con trai ly hôn và đe dọa yêu cầu tòa án hủy kết hôn trong trường hợp này có hợp pháp không? Cơ sở pháp lý nào cho việc này?', 'Trong tình huống người chồng vẫn muốn duy trì hôn nhân dù biết vợ từng làm gái mại dâm và cung cấp thông tin sai lệch, liệu tòa án có thể hủy hôn theo yêu cầu của người mẹ chồng không?']\n",
      "None\n",
      "Query 1 có 25 kết quả\n",
      "None\n",
      "Query 2 có 25 kết quả\n",
      "None\n",
      "Query 3 có 25 kết quả\n",
      "None\n",
      "Query 4 có 25 kết quả\n",
      "Tổng số kết quả tìm được: 100\n",
      "Số document khi xoá trùng 48\n",
      "Số document sau khi qua rerank: 5\n"
     ]
    },
    {
     "name": "stderr",
     "output_type": "stream",
     "text": [
      "Sinh trả lời:   1%|          | 12/1204 [13:33<22:18:55, 67.40s/it]"
     ]
    },
    {
     "name": "stdout",
     "output_type": "stream",
     "text": [
      "['Câu 13. Khi lấy anh T làm chồng, chúng tôi chỉ tổ chức đám cưới mà chưa kịp đi đăng ký kết hôn. Nhưng sau khi cưới được 02 tháng, chồng tôi phải đi công tác dài ngày nên chúng tôi vẫn chưa đăng ký kết hôn được. Sau này, tôi có nhắc chồng đi đăng ký kết hôn thì anh cứ khất lần. Mẹ chồng tôi cũng bảo: đăng ký không quan trọng gì, miễn là vợ chồng sống hạnh phúc với nhau. Hơn 01 năm vợ chồng tôi nảy sinh mâu thuẫn do bất đồng quan điểm, tôi bị gây sức ép nặng nề. Nay tôi muốn ly hôn với chồng tôi thì cần thực hiện thủ tục gì? Giữa chúng tôi chưa có con chung và không có tài sản gì.', 'Thủ tục ly hôn cho trường hợp chưa đăng ký kết hôn, không con chung, không tài sản chung và bị bạo hành tinh thần được pháp luật quy định như thế nào?', 'Ly hôn khi chưa đăng ký kết hôn, không có con chung và tài sản chung, kèm theo yếu tố bạo hành tinh thần thì cần chuẩn bị những giấy tờ và thực hiện các bước nào theo quy định pháp luật?', 'Trong trường hợp sống chung như vợ chồng nhưng chưa đăng ký kết hôn, không có con chung, không có tài sản chung và người vợ bị bạo hành tinh thần, thì thủ tục ly hôn được giải quyết theo quy định của pháp luật hôn nhân gia đình như thế nào?']\n",
      "None\n",
      "Query 1 có 25 kết quả\n",
      "None\n",
      "Query 2 có 25 kết quả\n",
      "None\n",
      "Query 3 có 25 kết quả\n",
      "None\n",
      "Query 4 có 25 kết quả\n",
      "Tổng số kết quả tìm được: 100\n",
      "Số document khi xoá trùng 50\n",
      "Số document sau khi qua rerank: 5\n"
     ]
    },
    {
     "name": "stderr",
     "output_type": "stream",
     "text": [
      "Sinh trả lời:   1%|          | 13/1204 [14:35<21:44:32, 65.72s/it]"
     ]
    },
    {
     "name": "stdout",
     "output_type": "stream",
     "text": [
      "['Câu 14. Chị H và anh D là bạn học Đại học với nhau, sau 15 năm ra trường họ đã gặp nhau tại buổi họp lớp, từ đó hai bên nảy sinh tình cảm. Chị H chưa kết hôn, còn anh D đã kết hôn và có 01 con. Từ ngày gặp lại H, anh D bỏ bê gia đình, không biết bằng cách nào anh D xin được Giấy xác nhận tình trạng hôn nhân là chưa kết hôn lần nào để đi đăng ký kết hôn với chị H tại UBND xã nơi thường trú của chị H. Anh D đã thuê 01 căn nhà để cùng chị H sinh sống. Khi chị H có thai được 06 tháng thì vợ anh D phát hiện mối quan hệ của chồng. Vợ anh D yêu cầu tòa án hủy hôn nhân giữa D và H, xin hỏi con chung của anh D và chị H sẽ xử lý như thế nào nếu Tòa án ra quyết định việc kết hôn là trái pháp luật và hủy hôn nhân của họ?', 'Nếu Tòa án tuyên bố hôn nhân giữa anh D và chị H trái pháp luật, quyền lợi của con chung sẽ được giải quyết như thế nào theo Luật Hôn nhân và Gia đình?', 'Trong trường hợp hủy hôn nhân do anh D vi phạm chế độ một vợ một chồng, việc xác định quyền và nghĩa vụ đối với con chung giữa anh D và chị H được pháp luật quy định ra sao?', 'Hậu quả pháp lý đối với con chung khi Tòa án hủy kết hôn trái pháp luật giữa anh D và chị H, đặc biệt khi anh D đã có vợ và gian dối về tình trạng hôn nhân, được giải quyết theo quy định nào?']\n",
      "None\n",
      "Query 1 có 25 kết quả\n",
      "None\n",
      "Query 2 có 25 kết quả\n",
      "None\n",
      "Query 3 có 25 kết quả\n",
      "None\n",
      "Query 4 có 25 kết quả\n",
      "Tổng số kết quả tìm được: 100\n",
      "Số document khi xoá trùng 50\n",
      "Số document sau khi qua rerank: 5\n"
     ]
    },
    {
     "name": "stderr",
     "output_type": "stream",
     "text": [
      "Sinh trả lời:   1%|          | 14/1204 [15:58<23:29:01, 71.04s/it]"
     ]
    },
    {
     "name": "stdout",
     "output_type": "stream",
     "text": [
      "['Câu 15. Anh K và chị T yêu nhau từ thời sinh viên, cả hai đã chung sống với nhau như vợ chồng sau khi ra trường. Do có việc làm ổn định, thu nhập tương đối cao, hai người đã mua được 01 căn nhà chung để sinh sống. Vì công việc của anh K quá bận rộn, hộ khẩu thường trú của chị T quá xa xôi, nên dù đã chung sống nhiều năm nhưng họ chưa đăng ký kết hôn. Mệt mỏi vì anh K thường xuyên đi công tác và quá chú tâm vào công việc, không dành thời gian cho gia đình, con cái cũng không có nên chị T chán nản, mâu thuẫn vợ chồng phát sinh, chị muốn bỏ anh K. Hỏi quan hệ của anh K và chị T có phải vợ chồng không? Nếu chị chia tay anh K thì căn nhà và các tài sản chung của họ sẽ giải quyết như thế nào?', 'Quan hệ chung sống như vợ chồng không đăng ký kết hôn có được pháp luật công nhận không và việc phân chia tài sản chung khi chia tay được giải quyết thế nào?', 'Trong trường hợp chung sống không đăng ký kết hôn, việc chia tài sản khi chấm dứt quan hệ được giải quyết theo quy định pháp luật nào?', 'Quy định pháp luật về giải quyết tranh chấp tài sản chung của nam nữ chung sống như vợ chồng mà không có đăng ký kết hôn khi chia tay?']\n",
      "None\n",
      "Query 1 có 25 kết quả\n",
      "None\n",
      "Query 2 có 25 kết quả\n",
      "None\n",
      "Query 3 có 25 kết quả\n",
      "None\n",
      "Query 4 có 25 kết quả\n",
      "Tổng số kết quả tìm được: 100\n",
      "Số document khi xoá trùng 50\n",
      "Số document sau khi qua rerank: 5\n"
     ]
    },
    {
     "name": "stderr",
     "output_type": "stream",
     "text": [
      "Sinh trả lời:   1%|          | 15/1204 [17:18<24:22:56, 73.82s/it]"
     ]
    },
    {
     "name": "stdout",
     "output_type": "stream",
     "text": [
      "['Câu 1. Tôi 25 tuổi theo đạo Thiên chúa giáo, người yêu tôi 27 tuổi không theo tôn giáo nào. Khi chuẩn bị kết hôn, về xin phép gia đình, bố mẹ anh đề nghị sau khi kết hôn tôi phải bỏ đạo vì anh là con trai trưởng trong dòng họ, phải thờ cúng tổ tiên. Xin hỏi, pháp luật quy định về quyền tự do tín ngưỡng tôn giáo như thế nào? Sau khi kết hôn, tôi có phải bỏ đạo để theo chồng không?', 'Quy định pháp luật hiện hành về quyền tự do tín ngưỡng, tôn giáo ở Việt Nam như thế nào và việc thay đổi tôn giáo sau khi kết hôn có bị ràng buộc không?', 'Sau khi kết hôn, người vợ có bắt buộc phải thay đổi tôn giáo theo yêu cầu của gia đình chồng theo quy định của pháp luật về quyền tự do tín ngưỡng, tôn giáo không?', 'Pháp luật Việt Nam bảo vệ quyền tự do tín ngưỡng, tôn giáo của công dân như thế nào trong trường hợp có sự khác biệt tôn giáo giữa vợ và chồng trước và sau khi kết hôn?']\n",
      "None\n",
      "Query 1 có 25 kết quả\n",
      "None\n",
      "Query 2 có 25 kết quả\n",
      "None\n",
      "Query 3 có 25 kết quả\n",
      "None\n",
      "Query 4 có 25 kết quả\n",
      "Tổng số kết quả tìm được: 100\n",
      "Số document khi xoá trùng 50\n",
      "Số document sau khi qua rerank: 5\n"
     ]
    },
    {
     "name": "stderr",
     "output_type": "stream",
     "text": [
      "Sinh trả lời:   1%|▏         | 16/1204 [18:22<23:24:35, 70.94s/it]"
     ]
    },
    {
     "name": "stdout",
     "output_type": "stream",
     "text": [
      "['Câu 2. Sau khi tốt nghiệp phổ thông trung học, chị M làm nhân viên lễ tân của cơ quan X. Thấy chị M năng động, chăm chỉ lại thông minh, lãnh đạo cơ quan gợi ý tạo điều kiện cho chị tham gia khóa học chuyên ngành để cất nhắc vào vị trí tốt hơn. Chị M đã tâm sự và hỏi ý kiến chồng và nguyện vọng đi học để mở mang kiến thức và có công việc tốt hơn trong tương lai. Tuy nhiên, chồng chị phản đối kịch liệt vì chị đã có công việc ổn định, không phải học cao làm gì. Xin hỏi pháp luật quy định về vấn đề này như thế nào?', 'Pháp luật Việt Nam quy định như thế nào về quyền học tập và phát triển của người phụ nữ khi có sự phản đối từ chồng, liên quan đến cơ hội nghề nghiệp?', 'Quy định pháp luật về quyền tự do học tập và phát triển bản thân của người phụ nữ đã có gia đình, đặc biệt khi chồng không đồng ý việc học nâng cao trình độ chuyên môn để thăng tiến trong công việc?', 'Cơ sở pháp lý nào bảo vệ quyền của người phụ nữ trong việc tiếp tục học tập và phát triển sự nghiệp khi chồng phản đối, xét trong bối cảnh cơ hội nghề nghiệp và sự phát triển cá nhân?']\n",
      "None\n",
      "Query 1 có 25 kết quả\n",
      "None\n",
      "Query 2 có 25 kết quả\n",
      "None\n",
      "Query 3 có 25 kết quả\n",
      "None\n",
      "Query 4 có 25 kết quả\n",
      "Tổng số kết quả tìm được: 100\n",
      "Số document khi xoá trùng 50\n",
      "Số document sau khi qua rerank: 5\n"
     ]
    },
    {
     "name": "stderr",
     "output_type": "stream",
     "text": [
      "Sinh trả lời:   1%|▏         | 17/1204 [19:36<23:40:25, 71.80s/it]"
     ]
    },
    {
     "name": "stdout",
     "output_type": "stream",
     "text": [
      "['Câu 3. Anh J là chồng chị O bị tai nạn giao thông dẫn đến mất năng lực hành vi dân sự. Vừa qua mẹ anh J qua đời (bố anh đã mất trước đó 06 năm), bà để lại di sản thừa kế cho các con gồm quyền sử dụng đất ở và một số tài sản khác. Do không có di chúc nên các con bà tổ chức cuộc họp để chia di sản. Xin hỏi, chị O có được đại diện cho chồng tham gia vào cuộc họp chia di sản của bố mẹ chồng không?', 'Chị O có quyền đại diện cho chồng mất năng lực hành vi dân sự tham gia cuộc họp chia thừa kế di sản của bố mẹ chồng theo quy định pháp luật thừa kế không?', 'Trong trường hợp anh J mất năng lực hành vi dân sự do tai nạn, chị O có thể đại diện anh J trong việc phân chia di sản thừa kế từ bố mẹ chồng theo quy định của pháp luật dân sự Việt Nam không?', 'Người vợ có được quyền đại diện cho người chồng bị mất năng lực hành vi dân sự do tai nạn giao thông để tham gia vào việc chia di sản thừa kế từ cha mẹ chồng theo quy định của pháp luật về thừa kế không?']\n",
      "None\n",
      "Query 1 có 25 kết quả\n",
      "None\n",
      "Query 2 có 25 kết quả\n",
      "None\n",
      "Query 3 có 25 kết quả\n",
      "None\n",
      "Query 4 có 25 kết quả\n",
      "Tổng số kết quả tìm được: 100\n",
      "Số document khi xoá trùng 50\n",
      "Số document sau khi qua rerank: 5\n"
     ]
    },
    {
     "name": "stderr",
     "output_type": "stream",
     "text": [
      "Sinh trả lời:   1%|▏         | 18/1204 [20:38<22:38:41, 68.74s/it]"
     ]
    },
    {
     "name": "stdout",
     "output_type": "stream",
     "text": [
      "['Câu 4. Tôi 29 tuổi là chủ một doanh nghiệp đang làm ăn phát đạt, bạn gái kém tôi 05 tuổi. Dự kiến đầu năm chúng tôi sẽ kết hôn. Tôi muốn sau khi kết hôn thì tài sản của tôi và vợ độc lập với nhau. Tôi đã trao đổi, và bạn gái tôi cũng đồng tình. Theo đó, trong quá trình chung sống, chúng tôi chỉ để dành một khoản chi tiêu chung trong gia đình do tôi đưa cho vợ, còn thu nhập của ai thì người đó giữ. Xin hỏi, việc thống nhất như vậy giữa chúng tôi có hợp pháp không? Để rõ ràng về tài sản vợ chồng thì tôi phải làm gì?', '- Thỏa thuận về chế độ tài sản riêng của vợ chồng trước hôn nhân có hợp pháp theo luật hôn nhân và gia đình Việt Nam không? Cần thủ tục gì để xác lập chế độ tài sản này?', '- Hợp đồng tiền hôn nhân về tài sản riêng và tài sản chung của vợ chồng có giá trị pháp lý không? Cần công chứng hay chứng thực không?', '- Quy định pháp luật về thỏa thuận xác lập chế độ tài sản riêng của vợ chồng trong thời kỳ hôn nhân? Thủ tục đăng ký thỏa thuận này như thế nào?']\n",
      "None\n",
      "Query 1 có 25 kết quả\n",
      "None\n",
      "Query 2 có 25 kết quả\n",
      "None\n",
      "Query 3 có 25 kết quả\n",
      "None\n",
      "Query 4 có 25 kết quả\n",
      "Tổng số kết quả tìm được: 100\n",
      "Số document khi xoá trùng 41\n",
      "Số document sau khi qua rerank: 5\n"
     ]
    },
    {
     "name": "stderr",
     "output_type": "stream",
     "text": [
      "Sinh trả lời:   2%|▏         | 19/1204 [21:28<20:44:41, 63.02s/it]"
     ]
    },
    {
     "name": "stdout",
     "output_type": "stream",
     "text": [
      "['Câu 5. Khi kết hôn, Anh S và chị Q thỏa thuận giữa hai vợ chồng không có tài sản chung mà tất cả tài sản của ai đều thuộc sở hữu riêng của người đó. Tuy nhiên, sau khi chung sống được 03 năm phát sinh những khoản chi tiêu chung như mua sắm xe ô tô, mua sắm đồ dùng gia đình, sửa chữa nhà cửa… Xin hỏi, vợ chồng anh S và chị Q có được thay đổi nội dung thỏa thuận tài sản không? Anh chị muốn hủy bỏ thỏa thuận về chế độ tài sản vợ chồng đã được công chứng trước khi kết hôn có được không?', 'Có thể thay đổi thỏa thuận về tài sản riêng trước hôn nhân sau khi phát sinh chi tiêu chung trong thời kỳ hôn nhân không?', 'Việc thay đổi hoặc hủy bỏ thỏa thuận về chế độ tài sản vợ chồng đã công chứng trước hôn nhân có được pháp luật cho phép không, khi đã có phát sinh tài sản chung?', 'Quy định pháp luật về việc sửa đổi, hủy bỏ thỏa thuận tài sản riêng của vợ chồng sau khi kết hôn và phát sinh các khoản chi tiêu chung như mua xe, đồ dùng gia đình?']\n",
      "None\n",
      "Query 1 có 25 kết quả\n",
      "None\n",
      "Query 2 có 25 kết quả\n",
      "None\n",
      "Query 3 có 25 kết quả\n",
      "None\n",
      "Query 4 có 25 kết quả\n",
      "Tổng số kết quả tìm được: 100\n",
      "Số document khi xoá trùng 39\n",
      "Số document sau khi qua rerank: 5\n"
     ]
    },
    {
     "name": "stderr",
     "output_type": "stream",
     "text": [
      "Sinh trả lời:   2%|▏         | 20/1204 [22:16<19:19:02, 58.74s/it]"
     ]
    },
    {
     "name": "stdout",
     "output_type": "stream",
     "text": [
      "['Câu 6. Ông N vốn ham chơi, thỉnh thoảng ông lại đi vài ngày hoặc vài tuần mà không nói rõ đi đâu, với ai. Mới đây, có một nhóm người đến nhà tìm gặp ông N để đòi nợ số tiền 35 triệu đồng, có giấy ghi nhận nợ viết tay của ông N. Do ông N không có nhà, vợ ông N không biết khoản vay này của chồng nên đã nói rằng ai vay thì người đó trả, bà không có nghĩa vụ trả nợ cho chồng. Nhóm đòi nợ đe dọa nếu sau 01 tuần không trả thì sẽ thu giữ đồ đạc trong nhà để trừ nợ. Vợ ông N hoang mang không biết mình có liên đới gì với trách nhiệm trả nợ khoản vay này của chồng không?', 'Vợ có nghĩa vụ trả nợ cho khoản vay cá nhân của chồng khi không có thỏa thuận cụ thể và bị đe dọa thu giữ tài sản không?', 'Trong trường hợp chồng vay nợ riêng có giấy viết tay, vợ không biết khoản vay và bị đòi nợ, pháp luật quy định về trách nhiệm trả nợ của vợ như thế nào?', 'Quy định pháp luật về việc vợ có liên đới chịu trách nhiệm trả nợ đối với khoản nợ riêng của chồng và hành vi đe dọa đòi nợ trái pháp luật?']\n",
      "None\n",
      "Query 1 có 25 kết quả\n",
      "None\n",
      "Query 2 có 25 kết quả\n",
      "None\n",
      "Query 3 có 25 kết quả\n",
      "None\n",
      "Query 4 có 25 kết quả\n",
      "Tổng số kết quả tìm được: 100\n",
      "Số document khi xoá trùng 50\n",
      "Số document sau khi qua rerank: 5\n"
     ]
    },
    {
     "name": "stderr",
     "output_type": "stream",
     "text": [
      "Sinh trả lời:   2%|▏         | 21/1204 [23:23<20:04:06, 61.07s/it]"
     ]
    },
    {
     "name": "stdout",
     "output_type": "stream",
     "text": [
      "['Câu 7. Sau khi kết hôn, vợ chồng tôi được bố mẹ cho 01 nhà đất trong ngõ để ở. Do nhà nước mở đường, ngôi nhà trong ngõ ra mặt tiền con đường lớn, giá cả tăng cao nhiều lần. Vợ chồng tôi đã bán nhà đất này để mua nhà đất khác. Sau khi mua nhà mới, chúng tôi còn dư 1,2 tỷ đồng nên thống nhất sẽ gửi tiết kiệm. Nhưng vợ tôi chỉ gửi ngân hàng 500 triệu đồng, còn 700 triệu cô ấy tự ý mua chứng khoán mặc dù tôi không đồng ý. Tôi có quyền đề nghị hủy việc mua bán chứng khoán của vợ tôi không?', 'Tôi có quyền yêu cầu hủy giao dịch mua chứng khoán do vợ tự ý thực hiện bằng tiền chung của vợ chồng không, khi tôi không đồng ý việc này?', 'Việc vợ tự ý mua chứng khoán bằng tiền chung sau khi bán nhà đất được bố mẹ cho riêng có vi phạm quy định pháp luật về tài sản chung của vợ chồng không? Tôi có quyền gì trong trường hợp này?', 'Theo Luật Hôn nhân và Gia đình, giao dịch mua bán chứng khoán của vợ mà không có sự đồng ý của chồng có bị coi là vô hiệu và có thể bị hủy bỏ không, khi tài sản được mua từ tiền chung?']\n",
      "None\n",
      "Query 1 có 25 kết quả\n",
      "None\n",
      "Query 2 có 25 kết quả\n",
      "None\n",
      "Query 3 có 25 kết quả\n",
      "should=[FieldCondition(key='metadata.LoaiVanBanFilter', match=MatchValue(value='luật'), range=None, geo_bounding_box=None, geo_radius=None, geo_polygon=None, values_count=None, is_empty=None, is_null=None)] min_should=None must=None must_not=None\n",
      "Query 4 có 25 kết quả\n",
      "Tổng số kết quả tìm được: 100\n",
      "Số document khi xoá trùng 50\n",
      "Số document sau khi qua rerank: 5\n"
     ]
    },
    {
     "name": "stderr",
     "output_type": "stream",
     "text": [
      "Sinh trả lời:   2%|▏         | 22/1204 [24:46<22:15:38, 67.80s/it]"
     ]
    },
    {
     "name": "stdout",
     "output_type": "stream",
     "text": [
      "['Câu 8. Bà V mua vé xổ số và trúng giải đặc biệt nên bà cho rằng đây là tài sản riêng của bà. Chồng bà cho rằng đây tài sản chung của hai vợ chồng vì khoản thu nhập phát sinh trong thời kỳ hôn nhân. Hai bên đã nảy sinh mâu thuẫn. Vậy, tiền trúng xổ số là tài sản chung hay tài sản riêng của vợ chồng bà V?', 'Tiền trúng xổ số trong thời kỳ hôn nhân được coi là tài sản chung hay tài sản riêng theo Luật Hôn nhân và Gia đình?', 'Quy định pháp luật về phân chia tài sản chung, riêng của vợ chồng đối với khoản tiền trúng xổ số trong thời kỳ hôn nhân?', 'Căn cứ pháp lý xác định tiền trúng xổ số của bà V là tài sản chung hay riêng khi phát sinh tranh chấp với chồng về vấn đề này?']\n",
      "None\n",
      "Query 1 có 25 kết quả\n",
      "None\n",
      "Query 2 có 25 kết quả\n",
      "None\n",
      "Query 3 có 25 kết quả\n",
      "None\n",
      "Query 4 có 25 kết quả\n",
      "Tổng số kết quả tìm được: 100\n",
      "Số document khi xoá trùng 50\n",
      "Số document sau khi qua rerank: 5\n"
     ]
    },
    {
     "name": "stderr",
     "output_type": "stream",
     "text": [
      "Sinh trả lời:   2%|▏         | 23/1204 [26:02<22:58:58, 70.06s/it]"
     ]
    },
    {
     "name": "stdout",
     "output_type": "stream",
     "text": [
      "['Câu 9.  Sau khi kết hôn được 03 năm, vợ chồng tôi đã mua 01 mảnh đất. Do chồng tôi là người đi làm thủ tục cấp sổ đỏ nên trên Giấy chứng nhận quyền sử dụng đất chỉ ghi tên 1 mình chồng tôi. Xin hỏi, quyền sử dụng đất này có thuộc tài sản chung vợ chồng hay tài sản riêng của chồng tôi. Để bảo đảm quyền lợi cho mình, tôi có thể đề nghị cơ quan chức năng ghi thêm tên tôi vào Giấy chứng nhận quyền sử dụng không?', 'Sau 3 năm kết hôn, vợ chồng mua đất nhưng sổ đỏ chỉ có tên chồng, đất này là tài sản chung hay riêng? Thủ tục để vợ được đứng tên chung trên sổ đỏ?', 'Trường hợp giấy chứng nhận quyền sử dụng đất chỉ có tên một người sau khi kết hôn, xác định tài sản chung riêng của vợ chồng theo Luật Hôn nhân và Gia đình như thế nào?', 'Căn cứ pháp lý nào quy định về việc bổ sung tên vợ vào giấy chứng nhận quyền sử dụng đất khi đất là tài sản chung của vợ chồng?']\n",
      "None\n",
      "Query 1 có 25 kết quả\n",
      "None\n",
      "Query 2 có 25 kết quả\n",
      "None\n",
      "Query 3 có 25 kết quả\n",
      "None\n",
      "Query 4 có 25 kết quả\n",
      "Tổng số kết quả tìm được: 100\n",
      "Số document khi xoá trùng 50\n",
      "Số document sau khi qua rerank: 5\n"
     ]
    },
    {
     "name": "stderr",
     "output_type": "stream",
     "text": [
      "Sinh trả lời:   2%|▏         | 24/1204 [27:03<22:05:53, 67.42s/it]"
     ]
    },
    {
     "name": "stdout",
     "output_type": "stream",
     "text": [
      "['Câu 10. Sau khi thành lập doanh nghiệp tư nhân, anh K bàn với vợ và thống nhất đưa chiếc ô tô bán tải của vợ chồng anh mua cách đây 02 năm vào kinh doanh. Do làm ăn thua lỗ, anh K đã bán chiếc ô tô đó cho H và nói dối vợ là cho H mượn. Không thấy chồng lấy xe về, vợ anh K tìm hiểu thì mới biết xe đã bị bán. Vợ anh K muốn hỏi, chị muốn lấy lại chiếc xe về cho gia đình có được không? Pháp luật quy định giải quyết trường hợp này như thế nào?', 'Người vợ có quyền đòi lại chiếc xe ô tô đã bán trái phép trong trường hợp này không? Cơ sở pháp lý để giải quyết tranh chấp quyền sở hữu tài sản chung của vợ chồng là gì?', 'Giao dịch mua bán xe ô tô do người chồng tự ý thực hiện có vô hiệu không? Pháp luật bảo vệ quyền lợi của người vợ trong trường hợp này như thế nào?', 'Quy định pháp luật về xử lý tài sản chung của vợ chồng khi một bên tự ý định đoạt, gây thiệt hại đến quyền lợi của bên còn lại được giải quyết như thế nào?']\n",
      "None\n",
      "Query 1 có 25 kết quả\n",
      "None\n",
      "Query 2 có 25 kết quả\n",
      "None\n",
      "Query 3 có 25 kết quả\n",
      "None\n",
      "Query 4 có 25 kết quả\n",
      "Tổng số kết quả tìm được: 100\n",
      "Số document khi xoá trùng 50\n",
      "Số document sau khi qua rerank: 5\n"
     ]
    },
    {
     "name": "stderr",
     "output_type": "stream",
     "text": [
      "Sinh trả lời:   2%|▏         | 25/1204 [28:52<26:09:51, 79.89s/it]"
     ]
    },
    {
     "name": "stdout",
     "output_type": "stream",
     "text": [
      "['Câu 11. Thông qua tôi, anh họ tôi có vay của bạn tôi 300 triệu đồng với thời hạn 03 tháng, hai bên có viết giấy vay nợ với nhau. Đến hạn trả nợ, bạn tôi có nhắn qua tôi là bảo anh họ trả tiền. Tôi đã nói với chị dâu (vợ của anh họ) là hai vợ chồng thu xếp tiền để trả, thì chị ấy trả lời là việc anh vay thì anh ấy trả, chị không có trách nhiệm gì, hơn nữa vợ chồng chị cũng đã chia tài sản chung, chị không có trách nhiệm về nghĩa vụ trả nợ của chồng. Xin hỏi việc chia tài sản chung của vợ chồng anh họ tôi có hợp pháp không khi mà hôn nhân của họ vẫn đang tồn tại? Khoản nợ 300 triệu đồng do người chồng chịu trách nhiệm trả hay liên đới cả hai vợ chồng?', 'Việc chia tài sản chung của vợ chồng trong thời kỳ hôn nhân có hợp pháp không khi người chồng có khoản nợ riêng 300 triệu đồng?', 'Trách nhiệm trả nợ 300 triệu đồng phát sinh trong thời kỳ hôn nhân thuộc về người chồng hay cả hai vợ chồng theo quy định pháp luật?', 'Quy định pháp luật về việc vợ chồng có phải liên đới chịu trách nhiệm trả nợ khi tài sản chung đã được phân chia trong thời kỳ hôn nhân và khoản nợ do một người gây ra?']\n",
      "None\n",
      "Query 1 có 25 kết quả\n",
      "None\n",
      "Query 2 có 25 kết quả\n",
      "None\n",
      "Query 3 có 25 kết quả\n",
      "should=[FieldCondition(key='metadata.NgayBanHanhFilter', match=MatchAny(any=['yyyy']), range=None, geo_bounding_box=None, geo_radius=None, geo_polygon=None, values_count=None, is_empty=None, is_null=None)] min_should=None must=None must_not=None\n",
      "Query 4 có 0 kết quả\n",
      "Tổng số kết quả tìm được: 75\n",
      "Số document khi xoá trùng 50\n",
      "Số document sau khi qua rerank: 5\n"
     ]
    },
    {
     "name": "stderr",
     "output_type": "stream",
     "text": [
      "Sinh trả lời:   2%|▏         | 26/1204 [30:05<25:29:42, 77.91s/it]"
     ]
    },
    {
     "name": "stdout",
     "output_type": "stream",
     "text": [
      "['Câu 12. Vợ chồng ông T thỏa thuận chia tài sản chung của vợ chồng trong thời kỳ hôn nhân nhằm thuận đường làm ăn của mỗi bên. Bản thỏa thuận đã được công chứng, trong đó cây sanh cảnh đặt ở hiên nhà được chia cho ông T. Khi đến nhà riêng làm việc, đối tác làm ăn của bà T đã rất thích cây cảnh này và ngỏ ý muốn mua. Ông T đã nói rằng cây cảnh thuộc quyền sở hữu riêng của ông, vợ chồng ông đã chia tài sản này rồi và ông không có ý định bán. Vài tháng sau, chẳng hiểu người khách nài nỉ thế nào, mà vợ ông T đã bán cây cảnh này với giá 500 triệu đồng. Thấy vợ khoe đã bán giúp ông cây cảnh với giá hời, ông T bàng hoàng vì cây cảnh có giá 1,6 tỷ đồng. Ông T đòi người khách trả cây nhưng không được. Ông T có thể yêu cầu Tòa án tuyên bố giao dịch mua bán cây cảnh của vợ ông là vô hiệu không?', 'Có thể yêu cầu Tòa án tuyên bố giao dịch mua bán cây cảnh giữa vợ ông T và người khách vô hiệu trong trường hợp này không?', 'Giao dịch mua bán cây cảnh của vợ, dù đã thỏa thuận phân chia tài sản chung, có thể bị Tòa án tuyên vô hiệu theo quy định pháp luật nào?', 'Thỏa thuận phân chia tài sản chung vợ chồng đã công chứng, việc vợ tự ý bán tài sản riêng của chồng thì ông T có quyền khởi kiện yêu cầu tuyên bố giao dịch vô hiệu không?']\n",
      "None\n",
      "Query 1 có 25 kết quả\n",
      "None\n",
      "Query 2 có 25 kết quả\n",
      "None\n",
      "Query 3 có 25 kết quả\n",
      "None\n",
      "Query 4 có 25 kết quả\n",
      "Tổng số kết quả tìm được: 100\n",
      "Số document khi xoá trùng 50\n",
      "Số document sau khi qua rerank: 5\n"
     ]
    },
    {
     "name": "stderr",
     "output_type": "stream",
     "text": [
      "Sinh trả lời:   2%|▏         | 27/1204 [31:19<25:02:39, 76.60s/it]"
     ]
    },
    {
     "name": "stdout",
     "output_type": "stream",
     "text": [
      "['Câu 13. Theo quyết định công nhận thuận tình ly hôn của Tòa án, hàng tháng P phải chuyển cho chị M 02 triệu đồng để cấp dưỡng nuôi con. Một năm sau P kết hôn với O và thỏa thuận toàn bộ tài sản, thu nhập của P chuyển giao cho bà O. Lấy lý do không có tài sản để thực hiện nghĩa vụ cấp dưỡng, P đã không chuyển tiền nuôi con nữa. Thỏa thuận về chế độ tài sản vợ chồng giữa ông P và bà O có hiệu lực không? Chị M cần làm gì để bảo đảm quyền lợi cho con mình?', 'Thỏa thuận tài sản giữa ông P và bà O có hiệu lực không khi ông P trốn tránh nghĩa vụ cấp dưỡng cho con theo bản án ly hôn? Chị M cần thực hiện biện pháp pháp lý nào để bảo vệ quyền lợi cấp dưỡng của con?', 'Trong trường hợp người chồng (P) kết hôn và chuyển hết tài sản cho vợ mới (O) để trốn tránh nghĩa vụ cấp dưỡng nuôi con theo quyết định ly hôn, thỏa thuận tài sản này có hợp pháp không? Chị M có thể khiếu nại hoặc khởi kiện để đòi quyền lợi cấp dưỡng cho con như thế nào?', 'Nếu ông P cố tình chuyển giao tài sản cho bà O sau khi có quyết định ly hôn để trốn tránh nghĩa vụ cấp dưỡng, thỏa thuận tài sản giữa ông P và bà O có bị vô hiệu không? Chị M cần làm thủ tục pháp lý gì để đảm bảo quyền lợi cấp dưỡng cho con theo quy định của pháp luật?']\n",
      "None\n",
      "Query 1 có 25 kết quả\n",
      "None\n",
      "Query 2 có 25 kết quả\n",
      "None\n",
      "Query 3 có 25 kết quả\n",
      "None\n",
      "Query 4 có 25 kết quả\n",
      "Tổng số kết quả tìm được: 100\n",
      "Số document khi xoá trùng 48\n",
      "Số document sau khi qua rerank: 5\n"
     ]
    },
    {
     "name": "stderr",
     "output_type": "stream",
     "text": [
      "Sinh trả lời:   2%|▏         | 28/1204 [32:31<24:35:36, 75.29s/it]"
     ]
    },
    {
     "name": "stdout",
     "output_type": "stream",
     "text": [
      "['Câu 14. Bà D được bố mẹ đẻ cho riêng 01 căn nhà. Vợ chồng bà D đã có nhà ở nên bà D cho thuê căn nhà với giá 8 triệu đồng/tháng và cất khoản tiền này cho riêng mình để “phòng thân”. Sau vài lần bắt vợ phải sử dụng tiền thuê nhà vào những việc chung của gia đình không được, chồng bà D cũng thôi nhưng mâu thuẫn âm ỉ trong ông. Vừa qua, để có tiền sửa chữa căn nhà mà vợ chồng bà D đang ở, bà D yêu cầu chồng đi vay phần còn thiếu chứ nhất định không bỏ tiền cho thuê nhà ra. Việc bà D giữ tiền cho thuê nhà từ nhà ngôi nhà thuộc quyền sở hữu riêng của mình là đúng hay sai?', 'Việc bà D giữ tiền cho thuê nhà riêng có vi phạm quyền tài sản của chồng theo Luật Hôn nhân và Gia đình không?', 'Quy định pháp luật về quản lý và sử dụng tài sản riêng của vợ hoặc chồng trong thời kỳ hôn nhân như thế nào, xét trường hợp bà D cho thuê nhà riêng?', 'Việc bà D tự quản lý tiền cho thuê nhà riêng có trái với nguyên tắc bình đẳng về quyền tài sản giữa vợ và chồng theo Luật Hôn nhân và Gia đình không?']\n",
      "None\n",
      "Query 1 có 25 kết quả\n",
      "None\n",
      "Query 2 có 25 kết quả\n",
      "None\n",
      "Query 3 có 25 kết quả\n",
      "None\n",
      "Query 4 có 25 kết quả\n",
      "Tổng số kết quả tìm được: 100\n",
      "Số document khi xoá trùng 45\n",
      "Số document sau khi qua rerank: 5\n"
     ]
    },
    {
     "name": "stderr",
     "output_type": "stream",
     "text": [
      "Sinh trả lời:   2%|▏         | 29/1204 [33:30<23:00:13, 70.48s/it]"
     ]
    },
    {
     "name": "stdout",
     "output_type": "stream",
     "text": [
      "['Câu 15. Tôi và vợ mới kết hôn được 06 tháng, vừa rồi chị họ bên nhà vợ có sang vợ chồng tôi đòi khoản tiền mà vợ tôi vay chị ấy cách đây 01 năm. Nay vợ tôi đang có bầu, sức khỏe yếu nên nghỉ ở nhà dưỡng thai, vì vợ không có tiền trả nợ nên chị họ của vợ đã yêu cầu tôi phải trả nợ cho cô ấy. Xin hỏi, tôi có trách nhiệm trả khoản nợ này của vợ không?', 'Tôi có nghĩa vụ pháp lý trả nợ cho vợ khi mới kết hôn 6 tháng, vợ đang mang thai và nợ tiền người thân trước hôn nhân không?', 'Quy định pháp luật về trách nhiệm trả nợ của vợ hoặc chồng trong thời kỳ hôn nhân, khi khoản nợ phát sinh trước thời điểm kết hôn?', 'Trong trường hợp vợ có khoản nợ riêng phát sinh trước hôn nhân và hiện tại không có khả năng trả nợ do mang thai, người chồng có phải chịu trách nhiệm trả nợ thay theo luật hôn nhân gia đình không?']\n",
      "None\n",
      "Query 1 có 25 kết quả\n",
      "None\n",
      "Query 2 có 25 kết quả\n",
      "None\n",
      "Query 3 có 25 kết quả\n",
      "None\n",
      "Query 4 có 25 kết quả\n",
      "Tổng số kết quả tìm được: 100\n",
      "Số document khi xoá trùng 50\n",
      "Số document sau khi qua rerank: 5\n"
     ]
    },
    {
     "name": "stderr",
     "output_type": "stream",
     "text": [
      "Sinh trả lời:   2%|▏         | 30/1204 [34:30<21:57:07, 67.32s/it]"
     ]
    },
    {
     "name": "stdout",
     "output_type": "stream",
     "text": [
      "['Câu 1. Tôi xem truyền hình thấy Nhà nước cho phép mang thai hộ vì mục đích nhân đạo. Xin hỏi, điều kiện mang thai hộ như thế nào?', 'Điều kiện pháp lý để thực hiện mang thai hộ vì mục đích nhân đạo theo quy định hiện hành là gì?', 'Quy định của pháp luật Việt Nam về các điều kiện đối với việc mang thai hộ vì mục đích nhân đạo được thể hiện trong văn bản pháp luật nào?', 'Tôi muốn tìm hiểu về các tiêu chuẩn và điều kiện cụ thể mà người mang thai hộ và người nhờ mang thai hộ phải đáp ứng theo luật.']\n",
      "None\n",
      "Query 1 có 25 kết quả\n",
      "None\n",
      "Query 2 có 25 kết quả\n",
      "None\n",
      "Query 3 có 25 kết quả\n",
      "None\n",
      "Query 4 có 25 kết quả\n",
      "Tổng số kết quả tìm được: 100\n",
      "Số document khi xoá trùng 30\n",
      "Số document sau khi qua rerank: 5\n"
     ]
    },
    {
     "name": "stderr",
     "output_type": "stream",
     "text": [
      "Sinh trả lời:   3%|▎         | 31/1204 [35:29<21:07:18, 64.82s/it]"
     ]
    },
    {
     "name": "stdout",
     "output_type": "stream",
     "text": [
      "['Câu 2. Vợ tôi bị bệnh tim bẩm sinh,\\xa0bác sĩ bảo không được phép có thai vì rất dễ xảy ra những biến chứng nguy hiểm. Vợ tôi đã nhờ đứa em họ xa mang thai hộ, cô ấy đã đồng ý, chồng cô ấy cũng bằng lòng và viết giấy cam kết. Sau khi thực hiện các thủ thuật xong tại Bệnh viện Từ Dũ thành phố Hồ Chí Minh, cô ấy đã mang thai bé trai. Từ lúc biết đứa bé trong bụng là con trai, cô ấy đã có thái độ khác hẳn, không hợp tác với vợ chồng tôi. Khi sinh cháu ra, cô ấy nhất định không chịu trả con cho vợ chồng tôi vì cô ấy đã đẻ 04 lần, toàn con gái. Xin hỏi, pháp luật quy định trường hợp nhờ mang thai hộ như tôi thì xác định cha mẹ đứa trẻ như thế nào? Tôi phải làm gì?', 'Xác định cha mẹ trong trường hợp mang thai hộ vì mục đích nhân đạo theo quy định pháp luật Việt Nam?', 'Quy định pháp luật về xác định quyền cha mẹ đối với con sinh ra từ mang thai hộ khi người mang thai hộ không trả lại con?', 'Trong trường hợp nhờ mang thai hộ vì lý do sức khỏe của vợ, tranh chấp quyền nuôi con xảy ra, pháp luật giải quyết vấn đề xác định cha mẹ như thế nào?']\n",
      "None\n",
      "Query 1 có 25 kết quả\n",
      "None\n",
      "Query 2 có 25 kết quả\n",
      "None\n",
      "Query 3 có 25 kết quả\n",
      "None\n",
      "Query 4 có 25 kết quả\n",
      "Tổng số kết quả tìm được: 100\n",
      "Số document khi xoá trùng 39\n",
      "Số document sau khi qua rerank: 5\n"
     ]
    },
    {
     "name": "stderr",
     "output_type": "stream",
     "text": [
      "Sinh trả lời:   3%|▎         | 32/1204 [36:51<22:47:05, 69.99s/it]"
     ]
    },
    {
     "name": "stdout",
     "output_type": "stream",
     "text": [
      "['Câu 3. Vợ chồng tôi hiếm muộn do vợ tôi bị u xơ tử cung (đã mổ điều trị nhưng khi có thai đều không giữ được). Vợ tôi muốn nhờ người em họ ở dưới quê mang thai hộ. Để tránh tranh chấp sau khi sinh con, chúng tôi nên làm gì?', 'Chúng tôi có thể thực hiện các biện pháp pháp lý nào để bảo vệ quyền lợi khi nhờ người thân mang thai hộ do hiếm muộn, nhằm tránh tranh chấp phát sinh sau khi sinh con theo quy định pháp luật hiện hành?', 'Cần thực hiện thủ tục pháp lý gì để đảm bảo quyền và nghĩa vụ của các bên trong trường hợp vợ chồng hiếm muộn nhờ em họ mang thai hộ, đặc biệt là vấn đề xác định cha mẹ hợp pháp của đứa trẻ sau khi sinh?', 'Trong trường hợp vợ chồng hiếm muộn sử dụng phương pháp mang thai hộ bởi người thân, pháp luật Việt Nam có quy định cụ thể nào về việc lập văn bản thỏa thuận hoặc hợp đồng để bảo vệ quyền lợi của các bên liên quan và giải quyết tranh chấp có thể xảy ra không?']\n",
      "None\n",
      "Query 1 có 25 kết quả\n",
      "None\n",
      "Query 2 có 25 kết quả\n",
      "None\n",
      "Query 3 có 25 kết quả\n",
      "None\n",
      "Query 4 có 25 kết quả\n",
      "Tổng số kết quả tìm được: 100\n",
      "Số document khi xoá trùng 34\n",
      "Số document sau khi qua rerank: 5\n"
     ]
    },
    {
     "name": "stderr",
     "output_type": "stream",
     "text": [
      "Sinh trả lời:   3%|▎         | 33/1204 [37:59<22:33:59, 69.38s/it]"
     ]
    },
    {
     "name": "stdout",
     "output_type": "stream",
     "text": [
      "['Câu 4. Tôi nghe đài, báo nói rằng Nhà nước đã cho phép những cặp vợ chồng vô sinh được áp dụng kỹ thuật thụ tinh trong ống nghiệm bằng cách xin tinh trùng, noãn, phôi từ Bệnh viện. Tuy nhiên tôi thấy lo lắng cho tương lai về sau rất dễ nảy sinh hiện tượng hôn nhân cận huyết do những đứa trẻ sinh ra cùng một mẫu tinh trùng do cùng một người nam hiến tặng lại kết hôn với nhau. Đề nghị cho biết Nhà nước có tính đến trường hợp này không? Giải pháp nào để ngăn ngừa trường hợp này?', 'Nhà nước có biện pháp pháp lý nào để ngăn ngừa hôn nhân cận huyết do thụ tinh nhân tạo từ tinh trùng hiến tặng không?', 'Quy định pháp luật về quản lý thông tin người hiến tinh trùng, noãn, phôi để tránh hôn nhân cận huyết phát sinh từ kỹ thuật thụ tinh trong ống nghiệm?', 'Chính sách và giải pháp của Nhà nước nhằm kiểm soát và giảm thiểu rủi ro hôn nhân cận huyết do sử dụng chung nguồn tinh trùng, noãn, phôi trong thụ tinh nhân tạo được quy định như thế nào?']\n",
      "None\n",
      "Query 1 có 25 kết quả\n",
      "None\n",
      "Query 2 có 25 kết quả\n",
      "None\n",
      "Query 3 có 25 kết quả\n",
      "None\n",
      "Query 4 có 25 kết quả\n",
      "Tổng số kết quả tìm được: 100\n",
      "Số document khi xoá trùng 50\n",
      "Số document sau khi qua rerank: 5\n"
     ]
    },
    {
     "name": "stderr",
     "output_type": "stream",
     "text": [
      "Sinh trả lời:   3%|▎         | 34/1204 [39:27<24:22:47, 75.02s/it]"
     ]
    },
    {
     "name": "stdout",
     "output_type": "stream",
     "text": [
      "['Câu 5. Năm nay đã 36 tuổi, tôi không muốn lấy chồng nhưng muốn có con. Tôi có thể sinh con bằng cách thụ tinh trong ống nghiệm không? Tôi cần phải làm gì?', 'Tôi 36 tuổi, độc thân và muốn sinh con bằng phương pháp thụ tinh ống nghiệm thì cần đáp ứng những điều kiện pháp lý nào theo quy định hiện hành?', 'Phụ nữ độc thân 36 tuổi có được phép thực hiện kỹ thuật thụ tinh trong ống nghiệm để sinh con theo quy định của pháp luật Việt Nam không, và cần chuẩn bị những thủ tục gì?', 'Quy định pháp luật hiện hành về việc sinh con bằng phương pháp thụ tinh ống nghiệm cho phép người phụ nữ độc thân 36 tuổi thực hiện không, và những yêu cầu cụ thể là gì?']\n",
      "None\n",
      "Query 1 có 25 kết quả\n",
      "None\n",
      "Query 2 có 25 kết quả\n",
      "None\n",
      "Query 3 có 25 kết quả\n",
      "None\n",
      "Query 4 có 25 kết quả\n",
      "Tổng số kết quả tìm được: 100\n",
      "Số document khi xoá trùng 40\n",
      "Số document sau khi qua rerank: 5\n"
     ]
    },
    {
     "name": "stderr",
     "output_type": "stream",
     "text": [
      "Sinh trả lời:   3%|▎         | 35/1204 [40:27<22:51:00, 70.37s/it]"
     ]
    },
    {
     "name": "stdout",
     "output_type": "stream",
     "text": [
      "['Câu 6. Vợ chồng anh H ở cạnh nhà tôi đã kết hôn 05 năm mà chưa có con, mặc dù đã chạy chữa nhiều nơi nhưng chưa có kết quả. Vừa qua, anh H không may bị tai nạn giao thông, sức khỏe ngày một yếu. Vợ anh H dự định gửi tinh trùng của chồng vào bệnh viện để sau này có thể sinh con bằng phương pháp thụ tinh trong ống nghiệm. Nếu sau khi anh H qua đời, vợ anh mới đi làm thụ tinh trong ống nghiệm thì con sinh ra có được xác định là con anh H không?', 'Nếu người vợ sử dụng tinh trùng của chồng đã mất để thụ tinh ống nghiệm, con sinh ra có được pháp luật công nhận là con của người chồng đã mất không?', 'Việc xác định cha cho con sinh ra từ thụ tinh ống nghiệm sau khi người chồng qua đời được quy định như thế nào trong Luật Hôn nhân và Gia đình?', 'Quy định pháp luật về việc xác định quan hệ cha con đối với trường hợp sinh con bằng phương pháp thụ tinh trong ống nghiệm từ tinh trùng của người đã chết là gì?']\n",
      "None\n",
      "Query 1 có 25 kết quả\n",
      "None\n",
      "Query 2 có 25 kết quả\n",
      "should=[FieldCondition(key='metadata.LoaiVanBanFilter', match=MatchValue(value='luật'), range=None, geo_bounding_box=None, geo_radius=None, geo_polygon=None, values_count=None, is_empty=None, is_null=None)] min_should=None must=None must_not=None\n",
      "Query 3 có 25 kết quả\n",
      "None\n",
      "Query 4 có 25 kết quả\n",
      "Tổng số kết quả tìm được: 100\n",
      "Số document khi xoá trùng 50\n",
      "Số document sau khi qua rerank: 5\n"
     ]
    },
    {
     "name": "stderr",
     "output_type": "stream",
     "text": [
      "Sinh trả lời:   3%|▎         | 36/1204 [41:52<24:17:20, 74.86s/it]"
     ]
    },
    {
     "name": "stdout",
     "output_type": "stream",
     "text": [
      "['Câu 7. Chồng chị D đột ngột qua đời trong một tai nạn lao động. Chị D đã quyết định nhờ các bác sỹ Bệnh viện phẫu thuật và lấy mẫu tinh trùng từ thi thể của chồng đem đi lưu trữ theo phương pháp khoa học. 04 năm sau, chị D đã thực hiện thụ tinh trong ống nghiệm từ mẫu tinh trùng của người chồng gửi trong Bệnh viện. Kết quả chị đã sinh được 02 con và được các cơ quan có thẩm quyền xác định con do chị sinh ra là con của người chồng quá cố. Xin hỏi, các cháu có được thừa kế tài sản của bố cháu không?', 'Con sinh ra từ tinh trùng của người chồng đã mất sau khi thụ tinh ống nghiệm có quyền thừa kế di sản không?', 'Quy định pháp luật về quyền thừa kế tài sản của con sinh ra bằng phương pháp thụ tinh nhân tạo sau khi người cha qua đời?', 'Trường hợp người vợ sử dụng tinh trùng lưu trữ của chồng đã mất để sinh con, con có được hưởng quyền thừa kế theo pháp luật không?']\n",
      "None\n",
      "Query 1 có 25 kết quả\n",
      "None\n",
      "Query 2 có 25 kết quả\n",
      "None\n",
      "Query 3 có 25 kết quả\n",
      "None\n",
      "Query 4 có 25 kết quả\n",
      "Tổng số kết quả tìm được: 100\n",
      "Số document khi xoá trùng 44\n",
      "Số document sau khi qua rerank: 5\n"
     ]
    },
    {
     "name": "stderr",
     "output_type": "stream",
     "text": [
      "Sinh trả lời:   3%|▎         | 37/1204 [42:49<22:28:49, 69.35s/it]"
     ]
    },
    {
     "name": "stdout",
     "output_type": "stream",
     "text": [
      "['Câu 8. Vợ chồng tôi có 03 con, hoàn cảnh kinh tế cũng khó khăn. Chị chồng tôi đang ở nước ngoài, lại không có con. Nay chị chồng muốn nhận con đầu lòng của vợ chồng tôi làm con nuôi (cháu đã 9 tuổi). Tôi muốn hỏi, sau khi chị chồng nhận con tôi làm con nuôi thì tôi có quyền gì với cháu nữa không?', 'Sau khi chị chồng nhận con ruột 9 tuổi làm con nuôi, vợ chồng tôi còn quyền và nghĩa vụ pháp lý nào đối với con không?', 'Việc chị chồng đang ở nước ngoài nhận con ruột của vợ chồng tôi làm con nuôi có ảnh hưởng đến quyền làm cha mẹ của chúng tôi không, theo quy định pháp luật hiện hành?', 'Quy định pháp luật về quyền của cha mẹ ruột sau khi con được người thân ở nước ngoài nhận làm con nuôi, cụ thể trong trường hợp này là con 9 tuổi được chị chồng nhận nuôi?']\n",
      "None\n",
      "Query 1 có 25 kết quả\n",
      "None\n",
      "Query 2 có 25 kết quả\n",
      "None\n",
      "Query 3 có 25 kết quả\n",
      "None\n",
      "Query 4 có 25 kết quả\n",
      "Tổng số kết quả tìm được: 100\n",
      "Số document khi xoá trùng 40\n",
      "Số document sau khi qua rerank: 5\n"
     ]
    },
    {
     "name": "stderr",
     "output_type": "stream",
     "text": [
      "Sinh trả lời:   3%|▎         | 38/1204 [43:35<20:12:38, 62.40s/it]"
     ]
    },
    {
     "name": "stdout",
     "output_type": "stream",
     "text": [
      "['Câu 9. Biết được gia đình cô E có hoàn cảnh khó khăn, sau khi sinh con, cuộc sống càng đi vào bế tắc, vợ chồng anh B đã ngỏ lời nhận xin cháu sơ sinh về làm con nuôi. Biết đứa bé mới sinh chưa được đăng ký khai sinh nên vợ chồng anh B muốn làm thủ tục khai sinh cho cháu và ghi tên là cha mẹ đẻ trên Giấy khai sinh của cháu để sau này cháu không biết gì về nguồn gốc của mình. Xin hỏi vợ chồng anh B cần làm thủ tục gì để ghi tên mình là cha mẹ trên Giấy khai sinh của con nuôi?', 'Thủ tục pháp lý nào cho phép vợ chồng anh B ghi tên mình là cha mẹ trên giấy khai sinh của con nuôi khi biết rõ nguồn gốc của đứa trẻ?', 'Việc ghi tên cha mẹ nuôi vào giấy khai sinh của con nuôi mà không tiết lộ nguồn gốc theo quy định pháp luật về nuôi con nuôi được thực hiện như thế nào?', 'Quy định pháp luật về đăng ký khai sinh cho trẻ em bị bỏ rơi hoặc trẻ em được nhận làm con nuôi, trong trường hợp cha mẹ nuôi muốn đứng tên trên giấy khai sinh là gì?']\n",
      "None\n",
      "Query 1 có 25 kết quả\n",
      "None\n",
      "Query 2 có 25 kết quả\n",
      "None\n",
      "Query 3 có 25 kết quả\n",
      "None\n",
      "Query 4 có 25 kết quả\n",
      "Tổng số kết quả tìm được: 100\n",
      "Số document khi xoá trùng 44\n",
      "Số document sau khi qua rerank: 5\n"
     ]
    },
    {
     "name": "stderr",
     "output_type": "stream",
     "text": [
      "Sinh trả lời:   3%|▎         | 39/1204 [44:27<19:12:16, 59.34s/it]"
     ]
    },
    {
     "name": "stdout",
     "output_type": "stream",
     "text": [
      "['Câu 10. M 24 tuổi (chưa lấy chồng) có thai ngoài ý muốn. Do M không muốn nuôi con để sau này còn lập gia đình nên đã đồng ý cho đứa trẻ làm con nuôi. Vậy, sau khi cho con làm con nuôi, cháu có còn là con của M nữa không?', 'M 24 tuổi chưa kết hôn, mang thai ngoài ý muốn và cho con làm con nuôi, vậy M còn quyền và nghĩa vụ gì với đứa con đó không theo luật pháp Việt Nam?', 'Việc M (24 tuổi, chưa chồng) cho con làm con nuôi sau khi mang thai ngoài ý muốn có chấm dứt hoàn toàn quan hệ mẹ con về mặt pháp lý không?', 'Theo quy định pháp luật hiện hành, người mẹ (24 tuổi, chưa kết hôn) cho con làm con nuôi thì có còn là mẹ ruột của đứa trẻ không, và trách nhiệm pháp lý liên quan?']\n",
      "None\n",
      "Query 1 có 25 kết quả\n",
      "None\n",
      "Query 2 có 25 kết quả\n",
      "None\n",
      "Query 3 có 25 kết quả\n",
      "should=[FieldCondition(key='metadata.NgayBanHanhFilter', match=MatchAny(any=['dd/mm/yyyy']), range=None, geo_bounding_box=None, geo_radius=None, geo_polygon=None, values_count=None, is_empty=None, is_null=None)] min_should=None must=None must_not=None\n",
      "Query 4 có 0 kết quả\n",
      "Tổng số kết quả tìm được: 75\n",
      "Số document khi xoá trùng 41\n",
      "Số document sau khi qua rerank: 5\n"
     ]
    },
    {
     "name": "stderr",
     "output_type": "stream",
     "text": [
      "Sinh trả lời:   3%|▎         | 40/1204 [45:18<18:24:47, 56.95s/it]"
     ]
    },
    {
     "name": "stdout",
     "output_type": "stream",
     "text": [
      "['Câu 1. Chị T có hộ khẩu thường trú ở tỉnh Phú Yên, chị T yêu anh Daniel là người có quốc tịch Mỹ. Cả chị T và anh Daniel đều làm việc tại Công ty có vốn đầu tư nước ngoài ở Nha Trang. Nay chị T và anh Daniel dự định kết hôn với nhau. Chị T hỏi, anh chị cần chuẩn bị những giấy tờ gì để đăng ký kết hôn? Thủ tục thực hiện ở đâu? Thời gian giải quyết là bao lâu?', 'Hồ sơ đăng ký kết hôn giữa công dân Việt Nam thường trú tại Phú Yên và người quốc tịch Mỹ làm việc tại Nha Trang gồm những gì? Thủ tục và thời gian giải quyết ra sao?', 'Thủ tục đăng ký kết hôn giữa chị T (hộ khẩu Phú Yên) và anh Daniel (quốc tịch Mỹ, làm việc tại Nha Trang) được thực hiện ở đâu? Cần chuẩn bị giấy tờ gì và thời gian giải quyết là bao lâu theo quy định pháp luật?', 'Theo quy định pháp luật hiện hành, trình tự, thủ tục đăng ký kết hôn giữa công dân Việt Nam (thường trú Phú Yên) và người nước ngoài (quốc tịch Mỹ, làm việc tại Nha Trang) được thực hiện như thế nào? Cần chuẩn bị những giấy tờ gì? Thời gian giải quyết là bao lâu?']\n",
      "None\n",
      "Query 1 có 25 kết quả\n",
      "None\n",
      "Query 2 có 25 kết quả\n",
      "None\n",
      "Query 3 có 25 kết quả\n",
      "None\n",
      "Query 4 có 25 kết quả\n",
      "Tổng số kết quả tìm được: 100\n",
      "Số document khi xoá trùng 38\n",
      "Số document sau khi qua rerank: 5\n"
     ]
    },
    {
     "name": "stderr",
     "output_type": "stream",
     "text": [
      "Sinh trả lời:   3%|▎         | 41/1204 [46:12<18:03:00, 55.87s/it]"
     ]
    },
    {
     "name": "stdout",
     "output_type": "stream",
     "text": [
      "['Câu 2. Sau khi nộp hồ sơ đăng ký kết hôn với người nước ngoài tại Sở Tư pháp, chị H được cán bộ tiếp nhận hồ sơ viết cho giấy hẹn trả kết quả. Trên giấy hẹn ghi ngày nhận kết quả là ngày anh chị nộp hồ sơ, ngày giao kết quả là sau 25 ngày. Tuy nhiên, phía dưới giấy hẹn có ghi “đề nghị đến phỏng vấn ngày… tháng…năm…”, tính ra ngày phỏng vấn ghi trên giấy hẹn là 01 tuần kể từ ngày nộp hồ sơ. Chị H hỏi, việc phỏng vấn này có đúng quy định pháp luật không? Chị có phải nộp lệ phí phỏng vấn không? Người phỏng vấn sẽ hỏi những gì?', 'Việc phỏng vấn khi đăng ký kết hôn với người nước ngoài tại Sở Tư pháp có phải là quy định bắt buộc theo luật không?', 'Quy trình phỏng vấn trong thủ tục đăng ký kết hôn với người nước ngoài được pháp luật quy định như thế nào và có thu lệ phí không? Nội dung phỏng vấn bao gồm những gì?', 'Cơ sở pháp lý nào quy định về việc phỏng vấn và lệ phí phỏng vấn khi đăng ký kết hôn với người nước ngoài tại Sở Tư pháp, và nội dung phỏng vấn thường bao gồm những vấn đề gì?']\n",
      "None\n",
      "Query 1 có 25 kết quả\n",
      "None\n",
      "Query 2 có 25 kết quả\n",
      "None\n",
      "Query 3 có 25 kết quả\n",
      "None\n",
      "Query 4 có 25 kết quả\n",
      "Tổng số kết quả tìm được: 100\n",
      "Số document khi xoá trùng 50\n",
      "Số document sau khi qua rerank: 5\n"
     ]
    },
    {
     "name": "stderr",
     "output_type": "stream",
     "text": [
      "Sinh trả lời:   3%|▎         | 42/1204 [47:49<21:59:48, 68.15s/it]"
     ]
    },
    {
     "name": "stdout",
     "output_type": "stream",
     "text": [
      "['Câu 3. Vì người chồng sắp cưới phải về Mỹ để giải quyết một số công việc và dự định sẽ sang Việt Nam trước 02 ngày theo lịch hẹn phỏng vấn của Sở Tư pháp. Tuy nhiên, đến ngày bay, đã xảy ra sự cố hàng không khiến sân bay nơi anh xuất cảnh phải đóng cửa, các chuyến bay đã phải tạm hoãn. Vì vậy, anh không thể có mặt tại Việt Nam theo đúng lịch hẹn để thực hiện phỏng vấn. Pháp luật quy định xử lý trường hợp này như thế nào?', 'Trong trường hợp sự cố hàng không khiến người chồng sắp cưới không thể đến Việt Nam phỏng vấn đúng hẹn với Sở Tư pháp, pháp luật Việt Nam có điều khoản nào quy định về việc xử lý không?', 'Sự kiện bất khả kháng do hoãn chuyến bay ảnh hưởng đến lịch phỏng vấn kết hôn với Sở Tư pháp, pháp luật Việt Nam quy định như thế nào về việc điều chỉnh hoặc gia hạn phỏng vấn?', 'Nếu người chồng sắp cưới không thể tham gia phỏng vấn tại Sở Tư pháp do sự cố hoãn chuyến bay, quy trình pháp lý để giải quyết tình huống này theo luật Việt Nam là gì?']\n",
      "None\n",
      "Query 1 có 25 kết quả\n",
      "None\n",
      "Query 2 có 25 kết quả\n",
      "None\n",
      "Query 3 có 25 kết quả\n",
      "None\n",
      "Query 4 có 25 kết quả\n",
      "Tổng số kết quả tìm được: 100\n",
      "Số document khi xoá trùng 50\n",
      "Số document sau khi qua rerank: 5\n"
     ]
    },
    {
     "name": "stderr",
     "output_type": "stream",
     "text": [
      "Sinh trả lời:   4%|▎         | 43/1204 [49:08<23:02:01, 71.42s/it]"
     ]
    },
    {
     "name": "stdout",
     "output_type": "stream",
     "text": [
      "['Câu 4. Chị G đi du học thạc sĩ ở Nhật Bản, chị G yêu anh J là người Nhật. Anh chị dự định tiến tới hôn nhân, việc đăng ký kết hôn sẽ tiến hành tại Nhật Bản theo quy định của pháp luật nước sở tại. Để được đăng ký kết hôn với anh J, chị phải có Giấy xác nhận tình trạng hôn nhân. Chị G hỏi, chị có thể xin Giấy này ở đâu? Cơ quan nào cấp? thủ tục như thế nào?', 'Chị G du học Nhật Bản muốn kết hôn với người Nhật, vậy chị có thể xin Giấy xác nhận tình trạng hôn nhân ở đâu và thủ tục như thế nào?', 'Thủ tục xin Giấy xác nhận tình trạng hôn nhân cho người Việt Nam đang du học tại Nhật Bản để đăng ký kết hôn với người Nhật được thực hiện tại cơ quan nào và cần những giấy tờ gì?', 'Người Việt Nam du học ở Nhật Bản muốn đăng ký kết hôn tại Nhật Bản thì cần xin Giấy xác nhận tình trạng hôn nhân ở đâu và quy trình xin giấy này như thế nào theo quy định pháp luật?']\n",
      "None\n",
      "Query 1 có 25 kết quả\n",
      "None\n",
      "Query 2 có 25 kết quả\n",
      "None\n",
      "Query 3 có 25 kết quả\n",
      "None\n",
      "Query 4 có 25 kết quả\n",
      "Tổng số kết quả tìm được: 100\n",
      "Số document khi xoá trùng 29\n",
      "Số document sau khi qua rerank: 5\n"
     ]
    },
    {
     "name": "stderr",
     "output_type": "stream",
     "text": [
      "Sinh trả lời:   4%|▎         | 44/1204 [49:52<20:22:44, 63.25s/it]"
     ]
    },
    {
     "name": "stdout",
     "output_type": "stream",
     "text": [
      "['Câu 5. Khi cấp Giấy xác nhận tình trạng hôn nhân cho chị Q để kết hôn với anh K tại Nhật, cán bộ tư pháp – hộ tịch có nhắc chị Q là sau khi đã được cơ quan có thẩm quyền của nước ngoài đăng ký kết hôn thì chị cần mang văn bản đó về Việt Nam để được công nhận tại Việt Nam. Chị Q hỏi, thủ tục này có cần thiết không? Thực hiện như thế nào?', 'Thủ tục công nhận đăng ký kết hôn tại Nhật Bản ở Việt Nam có bắt buộc không và được thực hiện như thế nào theo quy định pháp luật hiện hành?', 'Việc công nhận giấy đăng ký kết hôn do cơ quan có thẩm quyền của Nhật Bản cấp tại Việt Nam có phải là thủ tục bắt buộc không và quy trình thực hiện ra sao?', 'Chị Q đã đăng ký kết hôn tại Nhật Bản, vậy việc công nhận hôn nhân này tại Việt Nam có cần thiết không và trình tự, thủ tục pháp lý để thực hiện việc công nhận này như thế nào?']\n",
      "None\n",
      "Query 1 có 25 kết quả\n",
      "None\n",
      "Query 2 có 25 kết quả\n",
      "None\n",
      "Query 3 có 25 kết quả\n",
      "None\n",
      "Query 4 có 25 kết quả\n",
      "Tổng số kết quả tìm được: 100\n",
      "Số document khi xoá trùng 43\n",
      "Số document sau khi qua rerank: 5\n"
     ]
    },
    {
     "name": "stderr",
     "output_type": "stream",
     "text": [
      "Sinh trả lời:   4%|▎         | 45/1204 [50:42<19:04:46, 59.26s/it]"
     ]
    },
    {
     "name": "stdout",
     "output_type": "stream",
     "text": [
      "['Câu 6. Anh Philipp là người Đức sang làm việc tại một Công ty 100% vốn đầu tư nước ngoài ở Bình Dương. Anh Philipp đã chung sống với chị P được 02 năm, chưa đăng ký kết hôn. Hiện tại chị P đang có thai với anh Philipp. Tuy nhiên, hợp đồng lao động của anh Philipp tại Việt Nam cũng sắp hết hạn. Chị P hỏi, khi chị sinh con ra, có ghi tên anh Philipp là cha đẻ trong Giấy khai sinh của con chị không? Con có được mang quốc tịch của anh Philipp không?', 'Có thể ghi tên người cha là người nước ngoài vào giấy khai sinh của con khi chưa đăng ký kết hôn không? Con có được nhập quốc tịch của cha không?', 'Thủ tục pháp lý để ghi tên cha là người nước ngoài vào giấy khai sinh của con khi cha và mẹ không có đăng ký kết hôn được quy định như thế nào? Quy định về quốc tịch cho con sinh ra trong trường hợp này?', 'Trong trường hợp người nước ngoài có con với người Việt Nam mà chưa đăng ký kết hôn, việc xác định cha cho con và thủ tục nhập quốc tịch cho con được thực hiện theo quy định pháp luật nào?']\n",
      "None\n",
      "Query 1 có 25 kết quả\n",
      "None\n",
      "Query 2 có 25 kết quả\n",
      "None\n",
      "Query 3 có 25 kết quả\n",
      "None\n",
      "Query 4 có 25 kết quả\n",
      "Tổng số kết quả tìm được: 100\n",
      "Số document khi xoá trùng 47\n",
      "Số document sau khi qua rerank: 5\n"
     ]
    },
    {
     "name": "stderr",
     "output_type": "stream",
     "text": [
      "Sinh trả lời:   4%|▍         | 46/1204 [51:44<19:18:46, 60.04s/it]"
     ]
    },
    {
     "name": "stdout",
     "output_type": "stream",
     "text": [
      "['Câu 7. Trong thời gian anh Jordan ở Việt Nam để làm Dự án, chị E đã gặp và yêu anh. Kết thúc Dự án, anh Jordan đã về nước (Đan Mạch). Tuy nhiên, một tháng sau, chị E phát hiện mình mang thai nhưng chị không biết địa chỉ của anh Jordan ở đâu để liên hệ. Đứa trẻ đã được sinh ra nhưng không xác định được cha là ai. 03 năm sau anh Jordan trở lại Việt Nam để đi du lịch, anh đã quay lại nơi làm việc cũ và gặp lại chị E. Lúc này đứa trẻ đã hơn 02 tuổi và giống anh Jordan như đúc. Cả chị E và anh Jordan đều muốn xác nhận cha cho con. Xin hỏi, anh chị phải thực hiện những thủ tục gì? Thời gian giải quyết là bao lâu?', 'Thủ tục pháp lý để chị E và anh Jordan thực hiện việc xác nhận cha cho con chung trong trường hợp này là gì? Thời gian giải quyết theo quy định hiện hành là bao lâu?', 'Trình tự và thủ tục pháp lý cần thiết để thực hiện việc xác nhận cha cho con khi người cha là người nước ngoài và đã có thời gian gián đoạn liên lạc được quy định như thế nào? Thời gian giải quyết là bao lâu?', 'Trong tình huống người nước ngoài trở lại Việt Nam sau thời gian dài và muốn làm thủ tục nhận con, cần chuẩn bị những giấy tờ gì và nộp ở đâu? Thời gian để hoàn tất thủ tục này là bao lâu theo quy định của pháp luật Việt Nam?']\n",
      "None\n",
      "Query 1 có 25 kết quả\n",
      "None\n",
      "Query 2 có 25 kết quả\n",
      "None\n",
      "Query 3 có 25 kết quả\n",
      "None\n",
      "Query 4 có 25 kết quả\n",
      "Tổng số kết quả tìm được: 100\n",
      "Số document khi xoá trùng 50\n",
      "Số document sau khi qua rerank: 5\n"
     ]
    },
    {
     "name": "stderr",
     "output_type": "stream",
     "text": [
      "Sinh trả lời:   4%|▍         | 47/1204 [52:59<20:45:24, 64.58s/it]"
     ]
    },
    {
     "name": "stdout",
     "output_type": "stream",
     "text": [
      "['Câu 8. Tôi đã kết hôn với người nước ngoài, việc đăng ký kết hôn thực hiện tại cơ quan có thẩm quyền của nước ngoài. Tôi đã sống tại nước đó 03 năm, nhưng bây giờ xuất hiện mâu thuẫn vợ chồng, chúng tôi hay cãi nhau về con cái và tiền bạc. Tình trạng trầm trọng, do tôi vẫn mang quốc tịch Việt Nam nên tôi đã bỏ về Việt Nam sinh sống. Nay tôi muốn ly hôn với người chồng nước ngoài. Xin hỏi, tôi có thể nộp đơn xin ly hôn ra Tòa án Việt Nam không?', 'Tôi có thể nộp đơn xin ly hôn tại Tòa án Việt Nam với chồng là người nước ngoài sau khi đăng ký kết hôn ở nước ngoài và đã về Việt Nam sinh sống do mâu thuẫn không?', 'Điều kiện để Tòa án Việt Nam thụ lý đơn xin ly hôn với người nước ngoài trong trường hợp đăng ký kết hôn ở nước ngoài và người vợ đã về Việt Nam là gì?', 'Quy định pháp luật Việt Nam về thẩm quyền giải quyết ly hôn có yếu tố nước ngoài khi một bên đã đăng ký kết hôn ở nước ngoài và hiện đang cư trú tại Việt Nam như thế nào?']\n",
      "None\n",
      "Query 1 có 25 kết quả\n",
      "None\n",
      "Query 2 có 25 kết quả\n",
      "None\n",
      "Query 3 có 25 kết quả\n",
      "should=[FieldCondition(key='metadata.NgayBanHanhFilter', match=MatchAny(any=['yyyy']), range=None, geo_bounding_box=None, geo_radius=None, geo_polygon=None, values_count=None, is_empty=None, is_null=None)] min_should=None must=None must_not=None\n",
      "Query 4 có 0 kết quả\n",
      "Tổng số kết quả tìm được: 75\n",
      "Số document khi xoá trùng 35\n",
      "Số document sau khi qua rerank: 5\n"
     ]
    },
    {
     "name": "stderr",
     "output_type": "stream",
     "text": [
      "Sinh trả lời:   4%|▍         | 48/1204 [54:19<22:13:37, 69.22s/it]"
     ]
    },
    {
     "name": "stdout",
     "output_type": "stream",
     "text": [
      "['Câu 9. Tôi được bố mẹ để thừa kế cho 80m2 đất ở, trên đất có 01 căn nhà 05 tầng. Giấy chứng nhận quyền sử dụng đất và quyền sở hữu nhà mang tên tôi. Nay tôi định kết hôn với người vợ Philippines, sau khi kết hôn tôi sẽ sang Philippines sinh sống. Nếu trong quá trình chung sống mà nảy sinh mâu thuẫn vợ chồng mà vợ tôi đòi ly hôn và đề nghị Tòa án ở Philippines xét xử ly hôn thì tài sản của tôi có bị xác định là tài sản chung của vợ chồng không? Việc giải quyết tài sản này như thế nào?', 'Nếu tôi kết hôn với người Philippines và ly hôn ở Philippines, tài sản thừa kế riêng của tôi có bị chia không?', 'Việc phân chia tài sản thừa kế là nhà đất tại Việt Nam khi ly hôn với người nước ngoài tại tòa án Philippines được giải quyết như thế nào?', 'Trong trường hợp ly hôn tại Philippines với vợ là người Philippines, quyền sở hữu đối với nhà đất riêng tại Việt Nam của tôi có bị ảnh hưởng không và theo luật nào?']\n",
      "None\n",
      "Query 1 có 25 kết quả\n",
      "None\n",
      "Query 2 có 25 kết quả\n",
      "None\n",
      "Query 3 có 25 kết quả\n",
      "None\n",
      "Query 4 có 25 kết quả\n",
      "Tổng số kết quả tìm được: 100\n",
      "Số document khi xoá trùng 47\n",
      "Số document sau khi qua rerank: 5\n"
     ]
    },
    {
     "name": "stderr",
     "output_type": "stream",
     "text": [
      "Sinh trả lời:   4%|▍         | 49/1204 [55:19<21:17:22, 66.36s/it]"
     ]
    },
    {
     "name": "stdout",
     "output_type": "stream",
     "text": [
      "['Câu 10. Cô K là công dân Việt Nam đã kết hôn với người chồng Mỹ, sau 02 năm chung sống thì hai người đã ly hôn. Việc kết hôn và ly hôn của cô K đều thực hiện tại Mỹ. Giờ cô K muốn kết hôn với người Việt Nam, do cô còn giữ quốc tịch Việt Nam, nên khi ra Ủy ban nhân dân xã để xin Giấy xác nhận tình trạng hôn nhân để cô kết hôn thì bị từ chối do Ủy ban đã cấp giấy này cho cô cách đây hơn 02 năm. Cô K hỏi, cô cần làm thủ tục gì để được kết hôn?', 'Cô K, quốc tịch Việt Nam, ly hôn ở Mỹ, muốn kết hôn tại Việt Nam: Thủ tục xin xác nhận tình trạng hôn nhân cần những gì khi đã được cấp trước đó?', 'Công dân Việt Nam kết hôn và ly hôn ở nước ngoài, nay muốn tái hôn trong nước: Ủy ban nhân dân xã từ chối cấp giấy xác nhận tình trạng hôn nhân, vậy cần thực hiện thủ tục pháp lý nào?', 'Trường hợp công dân Việt Nam đã ly hôn ở Mỹ, nay muốn kết hôn tại Việt Nam và bị từ chối cấp giấy xác nhận tình trạng hôn nhân do giấy cũ đã hết hạn, cần làm gì để được phép kết hôn theo quy định pháp luật?']\n",
      "None\n",
      "Query 1 có 25 kết quả\n",
      "None\n",
      "Query 2 có 25 kết quả\n",
      "None\n",
      "Query 3 có 25 kết quả\n",
      "None\n",
      "Query 4 có 25 kết quả\n",
      "Tổng số kết quả tìm được: 100\n",
      "Số document khi xoá trùng 34\n",
      "Số document sau khi qua rerank: 5\n"
     ]
    },
    {
     "name": "stderr",
     "output_type": "stream",
     "text": [
      "Sinh trả lời:   4%|▍         | 50/1204 [56:10<19:49:09, 61.83s/it]"
     ]
    },
    {
     "name": "stdout",
     "output_type": "stream",
     "text": [
      "['Câu 1. Tình cờ nghe được điện thoại của vợ, tôi biết được mình chỉ là kẻ “đổ vỏ” cho người khác, Ái My - con gái đầu tôi hết mực yêu thương lại không phải là con đẻ của tôi. Tôi cảm thấy mình bị xúc phạm vô cùng và không thể tha thứ cho hành vi này của vợ nên muốn ly dị. Tuy nhiên, hiện tại con gái thứ hai của chúng tôi mới được hơn tám tháng. Tôi có thể ly hôn vợ tại thời điểm này không?', 'Có căn cứ phát hiện con riêng của vợ, tôi muốn ly hôn khi con chung dưới 12 tháng tuổi thì có được phép theo luật Hôn nhân và Gia đình không?', 'Việc phát hiện vợ ngoại tình và con riêng, tôi có quyền yêu cầu ly hôn ngay cả khi con chung chưa đủ 12 tháng tuổi theo quy định pháp luật hiện hành không?', 'Trong trường hợp phát hiện vợ có con riêng và muốn ly hôn khi con chung dưới 1 tuổi, tòa án có chấp nhận đơn ly hôn của tôi không theo luật định?']\n",
      "None\n",
      "Query 1 có 25 kết quả\n",
      "None\n",
      "Query 2 có 25 kết quả\n",
      "None\n",
      "Query 3 có 25 kết quả\n",
      "None\n",
      "Query 4 có 25 kết quả\n",
      "Tổng số kết quả tìm được: 100\n",
      "Số document khi xoá trùng 50\n",
      "Số document sau khi qua rerank: 5\n"
     ]
    },
    {
     "name": "stderr",
     "output_type": "stream",
     "text": [
      "Sinh trả lời:   4%|▍         | 51/1204 [57:18<20:23:10, 63.65s/it]"
     ]
    },
    {
     "name": "stdout",
     "output_type": "stream",
     "text": [
      "['Câu 2. Sau khi về chung sống, tôi mới biết anh H - chồng tôi là người tính tình thất thường, hay rượu chè rồi đánh đập vợ con. Khuyên nhủ chồng nhiều lần không được, nên tôi muốn ly hôn. Nghe một số người nói, muốn xin ly hôn thì phải hòa giải ở cơ sở trước. Tôi không hiểu hòa giải ở cơ sở là gì? Pháp luật có quy định bắt buộc phải hòa giải ở cơ sở trước khi yêu cầu ly hôn không?', 'Pháp luật quy định như thế nào về hòa giải ở cơ sở trong thủ tục ly hôn khi có bạo lực gia đình và chồng nghiện rượu?', 'Thủ tục ly hôn có bắt buộc phải qua hòa giải ở cơ sở không khi người vợ bị chồng bạo hành và có nên hòa giải khi chồng thường xuyên say xỉn?', 'Quy định pháp luật về hòa giải ở cơ sở trước khi ly hôn trong trường hợp chồng có hành vi bạo lực gia đình và nghiện rượu được áp dụng như thế nào?']\n",
      "None\n",
      "Query 1 có 25 kết quả\n",
      "None\n",
      "Query 2 có 25 kết quả\n",
      "None\n",
      "Query 3 có 25 kết quả\n",
      "None\n",
      "Query 4 có 25 kết quả\n",
      "Tổng số kết quả tìm được: 100\n",
      "Số document khi xoá trùng 50\n",
      "Số document sau khi qua rerank: 5\n"
     ]
    },
    {
     "name": "stderr",
     "output_type": "stream",
     "text": [
      "Sinh trả lời:   4%|▍         | 52/1204 [58:20<20:13:05, 63.18s/it]"
     ]
    },
    {
     "name": "stdout",
     "output_type": "stream",
     "text": [
      "['Câu 3. Hoàn cảnh kinh tế khó khăn, lại không có đất canh tác nên mặc dù mới cưới được hơn tháng song cháu gái tôi vẫn xin đi xuất khẩu lao động tại Malaysia với thời hạn 03 năm. Cháu gái tôi vừa đi làm được hơn 05 tháng thì anh H, chồng cháu ở nhà có quan hệ bất chính với chị P và có con riêng. Vừa qua, anh H đã đệ đơn lên Tòa án xin ly hôn với cháu gái tôi. Do thời hạn lao động chưa hết, trong khi chi phí đi lại về nước lại tốn kém nên cháu gái tôi muốn ủy quyền cho bố mẹ cháu ở nhà thực hiện việc ly hôn thì có được không?', 'Có thể ủy quyền cho người thân thực hiện thủ tục ly hôn khi đang xuất khẩu lao động ở nước ngoài không?', 'Người lao động đi xuất khẩu lao động có được ủy quyền cho người khác thực hiện thủ tục ly hôn trong nước theo quy định pháp luật hôn nhân và gia đình Việt Nam không?', 'Quy định pháp luật về việc ủy quyền giải quyết ly hôn cho người thân khi một bên đang ở nước ngoài làm việc, cụ thể là xuất khẩu lao động, được thực hiện như thế nào?']\n",
      "None\n",
      "Query 1 có 25 kết quả\n",
      "None\n",
      "Query 2 có 25 kết quả\n",
      "None\n",
      "Query 3 có 25 kết quả\n",
      "None\n",
      "Query 4 có 25 kết quả\n",
      "Tổng số kết quả tìm được: 100\n",
      "Số document khi xoá trùng 50\n",
      "Số document sau khi qua rerank: 5\n"
     ]
    },
    {
     "name": "stderr",
     "output_type": "stream",
     "text": [
      "Sinh trả lời:   4%|▍         | 53/1204 [59:56<23:22:06, 73.09s/it]"
     ]
    },
    {
     "name": "stdout",
     "output_type": "stream",
     "text": [
      "['Câu 4. Do không có tình cảm thực sự nên cuộc sống vợ chồng tôii thường xuyên không được thuận hòa. Sau khi xin chuyển vào làm ở chi nhánh của công ty trong miền Nam, tôi đã quen và có tình cảm với một người con gái khác nên muốn ly hôn vợ. Tuy nhiên, khi đặt vấn đề ly hôn, vợ tôi không đồng ý và giấu luôn Giấy đăng ký kết hôn. Nếu không xuất trình được Giấy đăng ký kết hôn thì tôi có thể đơn phương yêu cầu Tòa án cho ly hôn không?', 'Mất Giấy đăng ký kết hôn có được đơn phương ly hôn theo quy định pháp luật không?', 'Trong trường hợp không có Giấy đăng ký kết hôn, Tòa án có chấp nhận yêu cầu đơn phương ly hôn không?', 'Thủ tục đơn phương ly hôn khi bị mất Giấy đăng ký kết hôn được pháp luật quy định như thế nào?']\n",
      "None\n",
      "Query 1 có 25 kết quả\n",
      "None\n",
      "Query 2 có 25 kết quả\n",
      "None\n",
      "Query 3 có 25 kết quả\n",
      "None\n",
      "Query 4 có 25 kết quả\n",
      "Tổng số kết quả tìm được: 100\n",
      "Số document khi xoá trùng 50\n",
      "Số document sau khi qua rerank: 5\n"
     ]
    },
    {
     "name": "stderr",
     "output_type": "stream",
     "text": [
      "Sinh trả lời:   4%|▍         | 54/1204 [1:01:08<23:13:01, 72.68s/it]"
     ]
    },
    {
     "name": "stdout",
     "output_type": "stream",
     "text": [
      "['Câu 5. Em gái tôi dạy học ở điểm trường X, huyện N, tỉnh Sơn La. Năm 2005, em gái tôi kết hôn với một người dân tộc sống tại địa phương nơi em dạy học. Sau một thời gian chung sống, do có nhiều bất đồng trong nếp sống với gia đình nhà chồng cũng như không chịu được cảnh chồng suốt ngày rượu chè, không chịu làm ăn nên em muốn ly hôn. Tuy nhiên, theo tập quán tại địa phương thì khi ly hôn, nếu do người vợ yêu cầu ly hôn thì nhà gái phải trả lại nhà trai toàn bộ đồ sính lễ và những phí tổn khác, con phải theo cha. Chính vì vậy, em gái tôi vẫn băn khoăn chưa nộp đơn ra Tòa án. Vậy xin hỏi, tập quán trên có được Tòa án chấp nhận không?', 'Tòa án có chấp nhận tập quán địa phương về việc trả lại sính lễ khi ly hôn do người vợ yêu cầu không?', 'Quy định pháp luật về việc áp dụng tập quán trong giải quyết ly hôn khi có yêu cầu trả lại sính lễ và quyền nuôi con như thế nào?', 'Tính hợp pháp của tập quán yêu cầu nhà gái trả lại sính lễ và con theo cha khi ly hôn theo yêu cầu của người vợ được Tòa án xem xét ra sao?']\n",
      "None\n",
      "Query 1 có 25 kết quả\n",
      "None\n",
      "Query 2 có 25 kết quả\n",
      "None\n",
      "Query 3 có 25 kết quả\n",
      "None\n",
      "Query 4 có 25 kết quả\n",
      "Tổng số kết quả tìm được: 100\n",
      "Số document khi xoá trùng 50\n",
      "Số document sau khi qua rerank: 5\n"
     ]
    },
    {
     "name": "stderr",
     "output_type": "stream",
     "text": [
      "Sinh trả lời:   5%|▍         | 55/1204 [1:02:10<22:12:43, 69.59s/it]"
     ]
    },
    {
     "name": "stdout",
     "output_type": "stream",
     "text": [
      "['Câu 6. Từ tháng 02/2010, anh B đột nhiên bỏ nhà đi không để lại tin tức gì cho gia đình và vợ là chị A. Cảm thông trước hoàn cảnh khó khăn của chị A một mình nuôi 3 con nhỏ, anh H thường xuyên quan tâm, giúp đỡ chị từ vật chất, đến động viên tinh thần. Thế rồi giữa anh H và chị A nảy sinh tình cảm và có nguyện vọng chung sống với nhau. Nay chị A muốn yêu cầu Tòa án tuyên bố anh B mất tích và xin được ly hôn với anh B thì có được không? Tài sản chung của anh chị sẽ được xác định như thế nào?', 'Tòa án có thẩm quyền tuyên bố một người mất tích và giải quyết ly hôn trong trường hợp người đó vắng mặt dài hạn không? Xác định tài sản chung trong trường hợp này như thế nào?', 'Thủ tục và điều kiện để Tòa án tuyên bố một người mất tích theo quy định pháp luật hiện hành, liên quan đến việc ly hôn và phân chia tài sản chung khi một bên vắng mặt là gì?', 'Trong tình huống vợ muốn ly hôn với chồng đã biệt tích nhiều năm, việc tuyên bố mất tích và phân chia tài sản chung sẽ được giải quyết theo quy định của Luật Hôn nhân và Gia đình như thế nào?']\n",
      "None\n",
      "Query 1 có 25 kết quả\n",
      "None\n",
      "Query 2 có 25 kết quả\n",
      "None\n",
      "Query 3 có 25 kết quả\n",
      "None\n",
      "Query 4 có 25 kết quả\n",
      "Tổng số kết quả tìm được: 100\n",
      "Số document khi xoá trùng 42\n",
      "Số document sau khi qua rerank: 5\n"
     ]
    },
    {
     "name": "stderr",
     "output_type": "stream",
     "text": [
      "Sinh trả lời:   5%|▍         | 56/1204 [1:03:05<20:48:05, 65.23s/it]"
     ]
    },
    {
     "name": "stdout",
     "output_type": "stream",
     "text": [
      "['Câu 7. Anh A bỏ nhà đi không có tin tức gì từ tháng 5/2011. Ngày 20/3/2016, chị P, vợ anh A đã gửi đơn lên Tòa án nhân dân huyện yêu cầu tuyên bố anh A mất tích, xin ly hôn anh A và được Tòa án cho ly hôn. Ngày 10/4/2017, anh A đột nhiên trở về và muốn xây dựng lại gia đình với chị P. Chị P đồng ý với yêu cầu của anh A song còn băn khoăn không biết quyết định cho ly hôn của Tòa án trong trường hợp của anh chị có còn hiệu lực pháp luật không? Để chung sống hợp pháp, anh chị phải làm gì?', 'Nếu Tòa án đã cho ly hôn, nay vợ chồng muốn chung sống lại thì quyết định ly hôn còn hiệu lực không và cần thủ tục gì để hợp pháp hóa quan hệ hôn nhân?', 'Quyết định ly hôn của Tòa án có còn hiệu lực pháp lý khi một bên vợ/chồng vắng mặt trở về và cả hai muốn tái hợp không? Thủ tục pháp lý cần thiết để đăng ký lại kết hôn trong trường hợp này là gì?', 'Trong tình huống vợ chồng đã ly hôn theo quyết định của Tòa án, nay muốn quay lại với nhau thì cần thực hiện những thủ tục pháp lý nào để quan hệ hôn nhân được công nhận hợp pháp?']\n",
      "None\n",
      "Query 1 có 25 kết quả\n",
      "None\n",
      "Query 2 có 25 kết quả\n",
      "None\n",
      "Query 3 có 25 kết quả\n",
      "None\n",
      "Query 4 có 25 kết quả\n",
      "Tổng số kết quả tìm được: 100\n",
      "Số document khi xoá trùng 50\n",
      "Số document sau khi qua rerank: 5\n"
     ]
    },
    {
     "name": "stderr",
     "output_type": "stream",
     "text": [
      "Sinh trả lời:   5%|▍         | 57/1204 [1:04:02<19:58:45, 62.71s/it]"
     ]
    },
    {
     "name": "stdout",
     "output_type": "stream",
     "text": [
      "['Câu 8. Năm 2000, tôi kết hôn và hai vợ chồng tôi chung sống với bố mẹ chồng. Cuộc sống gia đình tôi thuận hòa, hạnh phúc cho đến khi tôi phát hiện chồng tôi vẫn thường xuyên qua lại với người yêu cũ và đã có một người con chung. Không chấp nhận sự lừa dối, nên tôi muốn ly hôn song tôi không rõ nếu ly hôn thì tài sản của vợ chồng tôi sẽ được chia như thế nào?', 'Nếu tôi ly hôn sau khi phát hiện chồng ngoại tình và có con riêng, việc phân chia tài sản chung của vợ chồng sẽ được thực hiện như thế nào theo luật?', 'Trong trường hợp ly hôn do chồng có quan hệ ngoài hôn nhân và có con riêng, nguyên tắc và quy định pháp luật về chia tài sản vợ chồng được áp dụng ra sao?', 'Xin tư vấn về quyền lợi và nghĩa vụ liên quan đến việc chia tài sản khi ly hôn, khi phát hiện chồng có con riêng trong thời kỳ hôn nhân theo Luật Hôn nhân và Gia đình hiện hành.']\n",
      "should=[FieldCondition(key='metadata.NgayBanHanhFilter', match=MatchAny(any=['2000']), range=None, geo_bounding_box=None, geo_radius=None, geo_polygon=None, values_count=None, is_empty=None, is_null=None)] min_should=None must=None must_not=None\n",
      "Query 1 có 0 kết quả\n",
      "None\n",
      "Query 2 có 25 kết quả\n",
      "None\n",
      "Query 3 có 25 kết quả\n",
      "should=[FieldCondition(key='metadata.LoaiVanBanFilter', match=MatchValue(value='luật'), range=None, geo_bounding_box=None, geo_radius=None, geo_polygon=None, values_count=None, is_empty=None, is_null=None)] min_should=None must=None must_not=None\n",
      "Query 4 có 25 kết quả\n",
      "Tổng số kết quả tìm được: 75\n",
      "Số document khi xoá trùng 39\n",
      "Số document sau khi qua rerank: 5\n"
     ]
    },
    {
     "name": "stderr",
     "output_type": "stream",
     "text": [
      "Sinh trả lời:   5%|▍         | 58/1204 [1:04:48<18:21:23, 57.66s/it]"
     ]
    },
    {
     "name": "stdout",
     "output_type": "stream",
     "text": [
      "['Câu 9. Năm 2005, sau 5 năm dành dụm tiết kiệm, anh A mua được 01 căn hộ tập thể cũ tại ngoại ô thành phố. Đến đầu năm 2007, anh A kết hôn với chị B. Sau khi sinh con, do nhu cầu chỗ ở tăng nên anh chị xin phép cơ quan có thẩm quyền và được đồng ý cho sửa chữa, tôn tạo căn hộ trên. Vừa qua, anh A phát hiện chị B có quan hệ bất chính với người đàn ông khác nên yêu cầu ly hôn. Về con gái, anh chị thống nhất do anh A nuôi, hàng tháng chị B cấp dưỡng cho con là 1 triệu đồng. Về tài sản chung, chị B không có nhu cầu sử dụng nên yêu cầu anh A định giá rồi chia đôi. Anh A không đồng ý vì cho rằng nhà là do anh mua trước khi kết hôn. Hỏi, trong trường hợp này quyền lợi của các bên đối với căn hộ tập thể được xác định như thế nào?', 'Quyền lợi của anh A và chị B đối với căn hộ tập thể được giải quyết như thế nào khi ly hôn, trong bối cảnh anh A mua nhà trước hôn nhân và sau đó hai người cùng sửa chữa, tôn tạo?', 'Việc phân chia tài sản là căn hộ tập thể trong vụ ly hôn giữa anh A và chị B sẽ được tòa án xem xét dựa trên những yếu tố nào, khi căn hộ được mua trước hôn nhân nhưng sau đó được cải tạo trong thời kỳ hôn nhân?', 'Căn cứ pháp lý nào được áp dụng để xác định quyền sở hữu và phân chia căn hộ tập thể trong trường hợp ly hôn của anh A và chị B, đặc biệt khi có tranh chấp về việc căn hộ là tài sản riêng hay tài sản chung?']\n",
      "None\n",
      "Query 1 có 25 kết quả\n",
      "None\n",
      "Query 2 có 25 kết quả\n",
      "None\n",
      "Query 3 có 25 kết quả\n",
      "None\n",
      "Query 4 có 25 kết quả\n",
      "Tổng số kết quả tìm được: 100\n",
      "Số document khi xoá trùng 40\n",
      "Số document sau khi qua rerank: 5\n"
     ]
    },
    {
     "name": "stderr",
     "output_type": "stream",
     "text": [
      "Sinh trả lời:   5%|▍         | 59/1204 [1:05:44<18:13:54, 57.32s/it]"
     ]
    },
    {
     "name": "stdout",
     "output_type": "stream",
     "text": [
      "['Câu 10. Từ năm 2010, quan hệ vợ chồng anh Cao Bá H và chị Trần Thị T phát sinh mâu thuẫn. Sau nhiều năm nỗ lực hàn gắn mâu thuẫn nhưng bất thành, ngày 12/3/2017, chị T làm đơn xin ly hôn. Tài sản chung của vợ chồng gồm: 01 xe Lead, 01 xe Wave, căn hộ tập thể tầng 5 rộng 30 m2 cùng một số đồ dùng vật dụng trong nhà trị giá khoảng 35 triệu đồng. Ngoài ra, anh H có vay của anh em trong nhà 120 triệu đồng, trong đó có 35 triệu đưa chị T dùng để sửa nhà và 85 triệu anh trả nợ do thua cờ bạc? Vậy, khi ly hôn tài sản chung của anh chị được xác định như thế nào?', 'Phân chia tài sản chung khi ly hôn trong trường hợp có nợ riêng và nợ chung phát sinh trong thời kỳ hôn nhân được giải quyết như thế nào theo luật hôn nhân gia đình?', 'Quy định pháp luật về việc phân chia tài sản chung của vợ chồng khi ly hôn, bao gồm cả xe cộ, căn hộ và các vật dụng gia đình, đồng thời xem xét đến khoản nợ riêng do cờ bạc và nợ chung dùng để sửa nhà?', 'Trong vụ việc ly hôn giữa anh Cao Bá H và chị Trần Thị T, việc phân chia tài sản chung và nghĩa vụ nợ (bao gồm nợ riêng của anh H và nợ chung dùng để sửa nhà) sẽ được tòa án xem xét và giải quyết như thế nào theo quy định của pháp luật hiện hành?']\n",
      "None\n",
      "Query 1 có 25 kết quả\n",
      "None\n",
      "Query 2 có 25 kết quả\n",
      "None\n",
      "Query 3 có 25 kết quả\n",
      "None\n",
      "Query 4 có 25 kết quả\n",
      "Tổng số kết quả tìm được: 100\n",
      "Số document khi xoá trùng 33\n",
      "Số document sau khi qua rerank: 5\n"
     ]
    },
    {
     "name": "stderr",
     "output_type": "stream",
     "text": [
      "Sinh trả lời:   5%|▍         | 60/1204 [1:06:31<17:14:21, 54.25s/it]"
     ]
    },
    {
     "name": "stdout",
     "output_type": "stream",
     "text": [
      "['Câu 11. Năm 1993, mẹ con anh M được giao 02 thửa đất trồng lúa có tổng diện tích là 450 m2 và 230 m2 đất trồng hoa màu. Tháng 12/1996, bà P mẹ anh M mất. Ngày 21/9/1998, anh M kết hôn với chị H. Năm 1999, xã giao thêm cho anh chị 225 m2 đất trồng hoa màu. Đến năm 2002, để phát triển sản xuất anh chị thuê thêm 1000m2 đất 10% của xã trong thời hạn 20 năm. Nhờ cần cù chịu khó làm ăn, anh chị đã xây được nhà cửa khang trang trên diện tích đất bà P để lại. Tuy nhiên, mâu thuẫn gia đình phát sinh khi chị H phát hiện anh M có quan hệ bất chính với chị Th ở xã bên và thường xuyên mang tiền của gia đình cho chị Th. Chị H muốn ly hôn chồng song không biết trong trường hợp của anh chị, tài sản chung của vợ chồng được xác định như thế nào?', 'Tài sản chung của vợ chồng trong vụ ly hôn, bao gồm đất đai được giao trước và sau hôn nhân, đất thuê, và nhà ở xây trên đất do mẹ để lại, được phân chia như thế nào theo luật Hôn nhân và Gia đình?', 'Việc xác định và phân chia tài sản chung của vợ chồng trong trường hợp ly hôn khi có yếu tố đất đai được giao trước hôn nhân, trong hôn nhân, đất thuê và tài sản xây dựng trên đất thừa kế được giải quyết theo quy định pháp luật hiện hành như thế nào?', 'Trong tình huống ly hôn, việc phân chia quyền lợi và nghĩa vụ liên quan đến tài sản chung của vợ chồng, bao gồm quyền sử dụng đất được giao, đất thuê và nhà ở xây dựng trên đất thừa kế, sẽ tuân theo những nguyên tắc và điều khoản pháp lý nào?']\n",
      "should=[FieldCondition(key='metadata.NgayBanHanhFilter', match=MatchAny(any=['1993']), range=None, geo_bounding_box=None, geo_radius=None, geo_polygon=None, values_count=None, is_empty=None, is_null=None)] min_should=None must=None must_not=None\n",
      "Query 1 có 0 kết quả\n",
      "None\n",
      "Query 2 có 25 kết quả\n",
      "None\n",
      "Query 3 có 25 kết quả\n",
      "None\n",
      "Query 4 có 25 kết quả\n",
      "Tổng số kết quả tìm được: 75\n",
      "Số document khi xoá trùng 30\n",
      "Số document sau khi qua rerank: 5\n"
     ]
    },
    {
     "name": "stderr",
     "output_type": "stream",
     "text": [
      "Sinh trả lời:   5%|▌         | 61/1204 [1:07:23<16:55:15, 53.29s/it]"
     ]
    },
    {
     "name": "stdout",
     "output_type": "stream",
     "text": [
      "['Câu 12. Vợ chồng tôi kết hôn năm 1998. Năm 2006, mẹ chồng tôi qua đời và có di chúc để lại ngôi nhà số 125 đường PKB, quận BĐ, thành phố HN cho vợ chồng tôi. Xin hỏi, nay vợ chồng tôi ly hôn thì ngôi nhà này có được tính vào khối tài sản thuộc sở hữu chung của vợ chồng tôi hay không?', 'Nếu vợ chồng tôi ly hôn, căn nhà được thừa kế theo di chúc trong thời kỳ hôn nhân có được coi là tài sản chung không?', 'Việc ly hôn có ảnh hưởng đến quyền sở hữu căn nhà được thừa kế riêng theo di chúc trong thời kỳ hôn nhân không?', 'Tài sản thừa kế riêng theo di chúc trước ly hôn có phải chia khi ly hôn không?']\n",
      "None\n",
      "Query 1 có 25 kết quả\n",
      "None\n",
      "Query 2 có 25 kết quả\n",
      "None\n",
      "Query 3 có 25 kết quả\n",
      "None\n",
      "Query 4 có 25 kết quả\n",
      "Tổng số kết quả tìm được: 100\n",
      "Số document khi xoá trùng 34\n",
      "Số document sau khi qua rerank: 5\n"
     ]
    },
    {
     "name": "stderr",
     "output_type": "stream",
     "text": [
      "Sinh trả lời:   5%|▌         | 62/1204 [1:08:06<16:00:37, 50.47s/it]"
     ]
    },
    {
     "name": "stdout",
     "output_type": "stream",
     "text": [
      "['Câu 13. Năm 2010, vợ chồng tôi có mua 150 m2 đất trong ngõ rộng 2,5 m tại phố X, cách mặt đường khoảng 10m với giá 150 triệu đồng (tương đương 30 lượng vàng). Năm 2010, Nhà nước thực hiện mở rộng đường nên diện tích đất trên trở thành đất mặt đường với giá trị tăng lên gấp mấy lần. Nay do quan hệ vợ chồng tôi mâu thuẫn không thể hàn gắn được nên tôi muốn ly hôn và vào Nam sinh sống. Tuy nhiên,vợ chồng tôi không thống nhất được việc chia mảnh đất trên bởi chồng tôi chỉ đồng ý trả 75 triệu đồng vì anh cho rằng khi mua giá chỉ có 150 triệu đồng, vợ chồng chia đôi mỗi người một nửa? Xin hỏi, pháp luật quy định như thế nào về việc xác định giá trị tài sản khi ly hôn?', 'Xác định giá trị quyền sử dụng đất là tài sản chung của vợ chồng khi ly hôn theo quy định pháp luật hiện hành như thế nào?', 'Căn cứ pháp lý và quy trình phân chia tài sản là quyền sử dụng đất khi ly hôn trong trường hợp có sự thay đổi giá trị do yếu tố khách quan?', 'Việc định giá và phân chia tài sản chung là quyền sử dụng đất tăng giá sau khi mở rộng đường khi ly hôn được giải quyết theo luật hôn nhân gia đình như thế nào?']\n",
      "should=[FieldCondition(key='metadata.NgayBanHanhFilter', match=MatchAny(any=['2010']), range=None, geo_bounding_box=None, geo_radius=None, geo_polygon=None, values_count=None, is_empty=None, is_null=None)] min_should=None must=None must_not=None\n",
      "Query 1 có 25 kết quả\n",
      "None\n",
      "Query 2 có 25 kết quả\n",
      "None\n",
      "Query 3 có 25 kết quả\n",
      "None\n",
      "Query 4 có 25 kết quả\n",
      "Tổng số kết quả tìm được: 100\n",
      "Số document khi xoá trùng 50\n",
      "Số document sau khi qua rerank: 5\n"
     ]
    },
    {
     "name": "stderr",
     "output_type": "stream",
     "text": [
      "Sinh trả lời:   5%|▌         | 63/1204 [1:09:13<17:29:00, 55.16s/it]"
     ]
    },
    {
     "name": "stdout",
     "output_type": "stream",
     "text": [
      "['Câu 14. Sau khi lấy chồng, tôi nghỉ phụ việc bán hàng để ở nhà chăm sóc gia đình, sinh con đẻ cái. Mâu thuẫn vợ chồng tôi phát sinh khi tôi phát hiện chồng có người phụ nữ khác bên ngoài và có một bé trai 5 tháng tuổi. Vừa qua, chồng tôi về nhà yêu cầu ly hôn. Anh đồng ý cho tôi nuôi hai con, hàng tháng chu cấp nuôi con 09 triệu đồng. Về tài sản, anh chia cho tôi 50 triệu đồng vì cho rằng tôi chỉ ở nhà, không kiếm ra tiền, toàn bộ tài sản trong nhà có được là do anh vất vả làm ra nên là tài sản của riêng anh. Hỏi, quan điểm của chồng tôi như vậy có đúng không?', 'Quan điểm của chồng về việc chia tài sản khi ly hôn trong trường hợp vợ ở nhà chăm sóc gia đình và chồng ngoại tình có phù hợp với luật pháp không?', 'Quy định pháp luật về chia tài sản và quyền nuôi con khi ly hôn nếu người chồng ngoại tình và người vợ không có thu nhập riêng là gì?', 'Trong trường hợp người vợ không đi làm, ở nhà chăm sóc con cái, khi ly hôn do chồng ngoại tình thì việc phân chia tài sản chung và nghĩa vụ cấp dưỡng được giải quyết thế nào theo luật Hôn nhân và Gia đình?']\n",
      "None\n",
      "Query 1 có 25 kết quả\n",
      "None\n",
      "Query 2 có 25 kết quả\n",
      "None\n",
      "Query 3 có 25 kết quả\n",
      "None\n",
      "Query 4 có 25 kết quả\n",
      "Tổng số kết quả tìm được: 100\n",
      "Số document khi xoá trùng 48\n",
      "Số document sau khi qua rerank: 5\n"
     ]
    },
    {
     "name": "stderr",
     "output_type": "stream",
     "text": [
      "Sinh trả lời:   5%|▌         | 64/1204 [1:10:11<17:45:47, 56.09s/it]"
     ]
    },
    {
     "name": "stdout",
     "output_type": "stream",
     "text": [
      "['Câu 15. Sau khi kết hôn, vợ chồng chị A, anh B được bố mẹ đẻ anh B cho 100m2 đất để cất nhà ra ở riêng (diện tích đất này hiện vẫn do bố mẹ anh B đứng tên vì ông bà mới chỉ tuyên bố cho mà chưa làm bất cứ thủ tục pháp lý nào). Cuối năm 2010, anh chị xây nhà trên mảnh đất do bố mẹ chị A cho chị A tiền mua trước khi kết hôn (Giấy chứng nhận quyền sử dụng đất đứng tên chị A) để cho thuê. Gần một năm nay, quan hệ vợ chồng anh B, chị A ngày càng mâu thuẫn trầm trọng. Chị A muốn ly hôn nhưng chị không biết khi ly hôn tài sản chung của anh chị sẽ được chia như thế nào?', 'Phân chia tài sản chung của vợ chồng trong trường hợp ly hôn khi có bất động sản do bố mẹ chồng cho nhưng chưa sang tên và nhà xây trên đất của vợ được tạo lập trước hôn nhân được giải quyết như thế nào?', 'Quy định pháp luật về phân chia tài sản khi ly hôn đối với tài sản là quyền sử dụng đất do bố mẹ chồng tặng cho chưa hoàn tất thủ tục pháp lý và nhà ở xây dựng trên đất thuộc sở hữu riêng của vợ trước thời kỳ hôn nhân?', 'Trong vụ việc ly hôn, việc phân chia quyền lợi và nghĩa vụ liên quan đến tài sản chung gồm đất chưa sang tên do bố mẹ chồng cho và nhà xây trên đất riêng của vợ trước khi kết hôn sẽ được tòa án xem xét và giải quyết theo những nguyên tắc nào?']\n",
      "None\n",
      "Query 1 có 25 kết quả\n",
      "None\n",
      "Query 2 có 25 kết quả\n",
      "None\n",
      "Query 3 có 25 kết quả\n",
      "None\n",
      "Query 4 có 25 kết quả\n",
      "Tổng số kết quả tìm được: 100\n",
      "Số document khi xoá trùng 31\n",
      "Số document sau khi qua rerank: 5\n"
     ]
    },
    {
     "name": "stderr",
     "output_type": "stream",
     "text": [
      "Sinh trả lời:   5%|▌         | 65/1204 [1:10:59<16:57:54, 53.62s/it]"
     ]
    },
    {
     "name": "stdout",
     "output_type": "stream",
     "text": [
      "['Câu 16. Hai năm gần đây, chồng tôi sinh tật cờ bạc, rượu chè rồi đánh đập vợ con khi không có tiền đưa cho anh ta. Khuyên nhủ chồng mãi không được nên tôi muốn ly hôn. Tuy nhiên, chồng tôi không đồng ý ký đơn ly hôn và không cho tôi được mang theo con. Tôi có hai đứa con, một cháu năm nay 2,5 tuổi, một cháu được 7 tuổi. Xin hỏi, pháp luật quy định như thế nào về quyền yêu cầu ly hôn, quyền nuôi con khi ly hôn?', 'Quy định pháp luật hiện hành về quyền yêu cầu ly hôn khi có hành vi bạo lực gia đình và tranh chấp quyền nuôi con nhỏ như thế nào?', 'Luật Hôn nhân và Gia đình quy định về quyền ly hôn đơn phương trong trường hợp chồng nghiện cờ bạc, rượu chè, bạo hành vợ con và không đồng ý ly hôn, cũng như quy định về việc phân chia quyền nuôi con dưới 36 tháng tuổi và trên 7 tuổi ra sao?', 'Căn cứ pháp lý nào quy định về việc giải quyết ly hôn khi một bên có hành vi bạo lực gia đình, không cho vợ nuôi con và quyền lợi của người vợ trong việc giành quyền nuôi con khi ly hôn?']\n",
      "None\n",
      "Query 1 có 25 kết quả\n",
      "None\n",
      "Query 2 có 25 kết quả\n",
      "should=[FieldCondition(key='metadata.LoaiVanBanFilter', match=MatchValue(value='luật'), range=None, geo_bounding_box=None, geo_radius=None, geo_polygon=None, values_count=None, is_empty=None, is_null=None)] min_should=None must=None must_not=None\n",
      "Query 3 có 25 kết quả\n",
      "None\n",
      "Query 4 có 25 kết quả\n",
      "Tổng số kết quả tìm được: 100\n",
      "Số document khi xoá trùng 48\n",
      "Số document sau khi qua rerank: 5\n"
     ]
    },
    {
     "name": "stderr",
     "output_type": "stream",
     "text": [
      "Sinh trả lời:   5%|▌         | 66/1204 [1:11:56<17:19:24, 54.80s/it]"
     ]
    },
    {
     "name": "stdout",
     "output_type": "stream",
     "text": [
      "['Câu 17. Do mâu thuẫn vợ chồng tôi ngày càng trở nên trầm trọng nên tôi muốn ly hôn. Tài sản chung của vợ chồng gồm một chiếc ô tô chồng tôi đang chạy xe taxi trị giá khoảng 400 triệu đồng, 01 cửa hàng tạp hóa tôi đang kinh doanh trị giá 100 triệu đồng ở chợ X và một số đồ dùng sinh hoạt trong gia đình như ti vi, tủ lạnh, máy giặt… ước khoảng 20 triệu đồng. Khi ly hôn, tài sản chung của vợ chồng tôi sẽ được chia như thế nào?', 'Phân chia tài sản chung của vợ chồng khi ly hôn, bao gồm ô tô chạy taxi, cửa hàng tạp hóa và đồ dùng gia đình, được thực hiện như thế nào theo quy định pháp luật?', 'Quy định pháp luật về việc phân chia tài sản chung (ô tô, cửa hàng, đồ dùng gia đình) khi ly hôn trong trường hợp mâu thuẫn vợ chồng trầm trọng được áp dụng ra sao?', 'Khi ly hôn, việc chia tài sản chung gồm xe ô tô dùng vào mục đích kinh doanh taxi, cửa hàng tạp hóa và tài sản gia đình khác sẽ tuân theo nguyên tắc và điều luật nào?']\n",
      "None\n",
      "Query 1 có 25 kết quả\n",
      "None\n",
      "Query 2 có 25 kết quả\n",
      "None\n",
      "Query 3 có 25 kết quả\n",
      "None\n",
      "Query 4 có 25 kết quả\n",
      "Tổng số kết quả tìm được: 100\n",
      "Số document khi xoá trùng 27\n",
      "Số document sau khi qua rerank: 5\n"
     ]
    },
    {
     "name": "stderr",
     "output_type": "stream",
     "text": [
      "Sinh trả lời:   6%|▌         | 67/1204 [1:12:36<15:52:44, 50.28s/it]"
     ]
    },
    {
     "name": "stdout",
     "output_type": "stream",
     "text": [
      "['Câu 18. Chồng tôi mặc dù vẫn quan tâm, chăm sóc mẹ con tôi song anh lại có tính trăng hoa. Tôi, bố mẹ, rồi họ hàng đôi bên cũng đã nhiều lần động viên nhắc nhở, song mọi chuyện đâu lại vào đấy, anh vẫn có những quan hệ bất chính với người phụ nữ khác nên tôi muốn ly hôn. Hỏi, chỉ với nguyên nhân chồng ngoại tình, tôi có thể yêu cầu tòa án cho ly hôn không?', 'Chồng ngoại tình có phải là căn cứ để ly hôn theo Luật Hôn nhân và Gia đình Việt Nam không?', 'Yêu cầu ly hôn đơn phương dựa trên lý do chồng có hành vi ngoại tình có được tòa án chấp nhận không?', 'Trong trường hợp chồng ngoại tình, người vợ có quyền yêu cầu ly hôn theo quy định pháp luật hiện hành không?']\n",
      "None\n",
      "Query 1 có 25 kết quả\n",
      "None\n",
      "Query 2 có 25 kết quả\n",
      "None\n",
      "Query 3 có 25 kết quả\n",
      "None\n",
      "Query 4 có 25 kết quả\n",
      "Tổng số kết quả tìm được: 100\n",
      "Số document khi xoá trùng 50\n",
      "Số document sau khi qua rerank: 5\n"
     ]
    },
    {
     "name": "stderr",
     "output_type": "stream",
     "text": [
      "Sinh trả lời:   6%|▌         | 68/1204 [1:13:43<17:28:24, 55.37s/it]"
     ]
    },
    {
     "name": "stdout",
     "output_type": "stream",
     "text": [
      "['Câu 19. Ngày 13/6/2013, thuyền cá của chồng tôi ra khơi đánh bắt rồi gặp nạn, gia đình không có tin tức gì từ đó đến nay. Tôi ở vậy một mình nuôi hai con nhỏ. Vừa qua, mẹ chồng tôi sang nhà tôi và yêu cầu chia tài sản của chồng tôi. Tôi rất bất ngờ và không biết pháp luật quy định như thế nào về trường hợp của tôi?', 'Mất tích của chồng khi đi biển và yêu cầu chia tài sản: Quy định pháp luật về trường hợp người mất tích và chia tài sản thừa kế như thế nào?', 'Trong trường hợp chồng mất tích do tai nạn trên biển, người vợ có quyền lợi và nghĩa vụ gì liên quan đến tài sản chung và riêng của vợ chồng theo luật định?', 'Pháp luật Việt Nam quy định về việc tuyên bố một người mất tích và thủ tục chia tài sản trong trường hợp này như thế nào, đặc biệt khi có yêu cầu từ người thân của người mất tích?']\n",
      "should=[FieldCondition(key='metadata.NgayBanHanhFilter', match=MatchAny(any=['13/06/2013']), range=None, geo_bounding_box=None, geo_radius=None, geo_polygon=None, values_count=None, is_empty=None, is_null=None)] min_should=None must=None must_not=None\n",
      "Query 1 có 0 kết quả\n",
      "None\n",
      "Query 2 có 25 kết quả\n",
      "None\n",
      "Query 3 có 25 kết quả\n",
      "should=[FieldCondition(key='metadata.NgayBanHanhFilter', match=MatchAny(any=['yyyy']), range=None, geo_bounding_box=None, geo_radius=None, geo_polygon=None, values_count=None, is_empty=None, is_null=None)] min_should=None must=None must_not=None\n",
      "Query 4 có 0 kết quả\n",
      "Tổng số kết quả tìm được: 50\n",
      "Số document khi xoá trùng 36\n",
      "Số document sau khi qua rerank: 5\n"
     ]
    },
    {
     "name": "stderr",
     "output_type": "stream",
     "text": [
      "Sinh trả lời:   6%|▌         | 69/1204 [1:14:28<16:29:00, 52.28s/it]"
     ]
    },
    {
     "name": "stdout",
     "output_type": "stream",
     "text": [
      "['Câu 20. Tháng 5/2005, bố tôi bỏ nhà ra đi không để lại tin tức gì. Đến năm 2012, mẹ tôi tính chuyện kết hôn với bác T nên yêu cầu tuyên bố bố tôi chết, yêu cầu ly hôn và đã được Tòa án chấp nhận. Tài sản của bố tôi được chia theo pháp luật. Vừa qua, qua thông tin từ người thân, chúng tôi đã tìm lại được bố tôi dự định tháng tới chúng tôi sẽ đón ông về chung sống. Quan hệ nhân thân và quan hệ tài sản của bố tôi sẽ được giải quyết như thế nào?', 'Quan hệ nhân thân và tài sản của người được tuyên bố là đã chết trở về sau khi có quyết định ly hôn và chia tài sản theo pháp luật được giải quyết như thế nào?', 'Việc giải quyết quan hệ tài sản và nhân thân của người chồng/người vợ sau khi tòa án tuyên bố chết, đã ly hôn và chia tài sản, nay trở về được quy định như thế nào theo luật?', 'Quy định pháp luật về việc khôi phục quan hệ nhân thân và chia lại tài sản của người đã bị tuyên bố là đã chết, sau đó trở về, trong bối cảnh đã có quyết định ly hôn và chia tài sản trước đó?']\n",
      "None\n",
      "Query 1 có 25 kết quả\n",
      "None\n",
      "Query 2 có 25 kết quả\n",
      "None\n",
      "Query 3 có 25 kết quả\n",
      "None\n",
      "Query 4 có 25 kết quả\n",
      "Tổng số kết quả tìm được: 100\n",
      "Số document khi xoá trùng 50\n",
      "Số document sau khi qua rerank: 5\n"
     ]
    },
    {
     "name": "stderr",
     "output_type": "stream",
     "text": [
      "Sinh trả lời:   6%|▌         | 70/1204 [1:15:23<16:40:12, 52.92s/it]"
     ]
    },
    {
     "name": "stdout",
     "output_type": "stream",
     "text": [
      "['Câu 21. Tháng 3/2005, tôi kết hôn và về chung sống với gia đình bố mẹ vợ. Khi tổ chức cưới, bố mẹ vợ có cho vợ chồng tôi 05 chỉ vàng 9,999 và giao quản lý 02 ha đất rừng sản xuất. Sau một thời gian chung sống, vợ chồng tôi phát sinh nhiều mâu thuẫn, tình cảm vợ chồng không thể hàn gắn nên muốn được ly hôn. Khi ly hôn, tôi có quyền chia phần công sức bỏ ra quản lý 02 ha đất rừng sản xuất trên không?', 'Khi ly hôn, việc chia tài sản là quyền sử dụng đất rừng sản xuất do công sức quản lý được pháp luật quy định như thế nào?', 'Quy định pháp luật về phân chia quyền sử dụng đất rừng sản xuất khi ly hôn trong trường hợp có công sức quản lý, đóng góp từ cả hai bên vợ chồng?', 'Trong vụ việc ly hôn, người chồng có quyền lợi gì đối với phần đất rừng sản xuất mà vợ chồng cùng quản lý trong thời kỳ hôn nhân theo luật Hôn nhân và Gia đình?']\n",
      "None\n",
      "Query 1 có 25 kết quả\n",
      "None\n",
      "Query 2 có 25 kết quả\n",
      "None\n",
      "Query 3 có 25 kết quả\n",
      "None\n",
      "Query 4 có 25 kết quả\n",
      "Tổng số kết quả tìm được: 100\n",
      "Số document khi xoá trùng 38\n",
      "Số document sau khi qua rerank: 5\n"
     ]
    },
    {
     "name": "stderr",
     "output_type": "stream",
     "text": [
      "Sinh trả lời:   6%|▌         | 71/1204 [1:16:16<16:40:00, 52.96s/it]"
     ]
    },
    {
     "name": "stdout",
     "output_type": "stream",
     "text": [
      "['Câu 22. Năm 2004, tôi kết hôn với anh Trần Văn K. Sau khi cưới, chúng tôi cùng bỏ tiền đầu tư mua 01 mảnh đất rộng 1000 m2 ở Quận 1, thành phố HCM để mở quán cafe vườn và thỏa thuận do tôi đứng tên chủ sở hữu. Do có nhiều bất đồng về lối sống, hơn nữa chồng tôi đã có người phụ nữ khác nên tôi muốn ly hôn. Hiện tại quán vẫn hoạt động kinh doanh tốt nên tôi muốn khi ly hôn sẽ thanh toán 1/2 giá trị khối tài sản này cho chồng để tiếp tục quản lý quán thì có được không?', 'Tôi muốn ly hôn và thanh toán một nửa giá trị quán cafe vườn cho chồng để tiếp tục kinh doanh có được không theo luật Hôn nhân và Gia đình?', 'Thỏa thuận thanh toán tài sản chung là quán cafe vườn khi ly hôn và quyền tiếp tục quản lý quán sau ly hôn có hợp pháp không?', 'Trong trường hợp ly hôn, việc tôi đứng tên chủ sở hữu quán cafe vườn có ảnh hưởng đến việc phân chia tài sản chung và quyền quản lý quán không?']\n",
      "should=[FieldCondition(key='metadata.NgayBanHanhFilter', match=MatchAny(any=['2004']), range=None, geo_bounding_box=None, geo_radius=None, geo_polygon=None, values_count=None, is_empty=None, is_null=None)] min_should=None must=None must_not=None\n",
      "Query 1 có 0 kết quả\n",
      "None\n",
      "Query 2 có 25 kết quả\n",
      "None\n",
      "Query 3 có 25 kết quả\n",
      "None\n",
      "Query 4 có 25 kết quả\n",
      "Tổng số kết quả tìm được: 75\n",
      "Số document khi xoá trùng 38\n",
      "Số document sau khi qua rerank: 5\n"
     ]
    },
    {
     "name": "stderr",
     "output_type": "stream",
     "text": [
      "Sinh trả lời:   6%|▌         | 72/1204 [1:17:06<16:24:27, 52.18s/it]"
     ]
    },
    {
     "name": "stdout",
     "output_type": "stream",
     "text": [
      "['Câu 23. Trước khi kết hôn anh A mua được một ngôi nhà cấp 4 có diện tích 25m2. Sau đó anh A kết hôn với chị B và không nhập ngôi nhà này vào khối tài sản chung của vợ chồng. Sau khi sinh được một người con thì anh A bị chết và không để lại di chúc. Bố mẹ của anh A yêu cầu chia di sản thừa kế là ngôi nhà của anh A. Chị B và con không có chỗ ở nào khác và cũng chưa có điều kiện để tạo lập chỗ ở khác, trong khi đó nếu chia ngôi nhà này bằng hiện vật thì không bảo đảm cho việc sinh hoạt tối thiểu của chị B và con; nếu buộc chị B phải thanh toán bằng tiền phần thừa kế mà bố mẹ anh A được hưởng thì chị B cũng không có khả năng. Trường hợp này quyền lợi của các bên sẽ được giải quyết như thế nào?', 'Quyền thừa kế nhà riêng của anh A khi không có di chúc, vợ và con không có chỗ ở khác được giải quyết thế nào theo pháp luật?', 'Phân chia di sản thừa kế là nhà ở duy nhất của người chết không để lại di chúc, ảnh hưởng đến quyền lợi của vợ và con chưa có chỗ ở, giải quyết thế nào?', 'Trong trường hợp chia thừa kế nhà cho bố mẹ người chết, vợ và con không có chỗ ở, không có khả năng thanh toán, pháp luật bảo vệ quyền lợi các bên ra sao?']\n",
      "None\n",
      "Query 1 có 25 kết quả\n",
      "None\n",
      "Query 2 có 25 kết quả\n",
      "None\n",
      "Query 3 có 25 kết quả\n",
      "None\n",
      "Query 4 có 25 kết quả\n",
      "Tổng số kết quả tìm được: 100\n",
      "Số document khi xoá trùng 40\n",
      "Số document sau khi qua rerank: 5\n"
     ]
    },
    {
     "name": "stderr",
     "output_type": "stream",
     "text": [
      "Sinh trả lời:   6%|▌         | 73/1204 [1:18:23<18:43:53, 59.62s/it]"
     ]
    },
    {
     "name": "stdout",
     "output_type": "stream",
     "text": [
      "['Câu 24. Sau khi ly hôn, theo quyết định của Tòa án, anh Hùng phải cấp dưỡng nuôi con gái chưa thành niên là 02 triệu đồng/tháng. Do chuẩn bị cưới vợ mới, hết tiền, nên 5 tháng nay anh Hùng chỉ đưa 01 triệu đồng. Chị Mai nhiều lần yêu cầu anh Hùng thực hiện đúng nghĩa vụ cấp dưỡng nhưng anh không chịu nên chị không cho anh Hùng thăm con. Hỏi, việc làm của chị Mai có đúng không?', 'Chị Mai không cho anh Hùng thăm con sau ly hôn vì anh Hùng không thực hiện đúng nghĩa vụ cấp dưỡng, hành động này của chị Mai có hợp pháp không?', 'Nghĩa vụ cấp dưỡng nuôi con sau ly hôn theo quyết định của Tòa án mà không thực hiện đầy đủ thì có bị xử phạt theo quy định pháp luật không?', 'Việc chị Mai không cho anh Hùng thăm con do anh Hùng không cấp dưỡng đủ sau ly hôn có vi phạm quyền của con theo Luật Hôn nhân và Gia đình không?']\n",
      "None\n",
      "Query 1 có 25 kết quả\n",
      "None\n",
      "Query 2 có 25 kết quả\n",
      "None\n",
      "Query 3 có 25 kết quả\n",
      "None\n",
      "Query 4 có 25 kết quả\n",
      "Tổng số kết quả tìm được: 100\n",
      "Số document khi xoá trùng 48\n",
      "Số document sau khi qua rerank: 5\n"
     ]
    },
    {
     "name": "stderr",
     "output_type": "stream",
     "text": [
      "Sinh trả lời:   6%|▌         | 74/1204 [1:19:16<18:03:50, 57.55s/it]"
     ]
    },
    {
     "name": "stdout",
     "output_type": "stream",
     "text": [
      "['Câu 25. Năm 1991, sau khi được chính quyền xã cấp cho 100 m2 đất ở, vợ chồng anh H, chị M đã cất một ngôi nhà ngói 3 gian để ở. Trong quá trình sử dụng, chị M có dần lấn chiếm 30 m2 đất công ích chưa sử dụng do Ủy ban nhân dân xã quản lý để trồng rau. Nay vợ chồng anh H, chị M thuận tình ly hôn. Về tài sản, phần diện tích đất ở anh chị xác định là 130m2 được chia đôi, mỗi người một nửa. Hỏi anh chị xác định tài sản chung của vợ chồng khi ly hôn như vậy có đúng không?', 'Xác định tài sản chung là quyền sử dụng đất và đất lấn chiếm trong vụ ly hôn của anh H, chị M năm 1991 có phù hợp quy định pháp luật không?', 'Việc phân chia quyền sử dụng đất ở và đất công ích lấn chiếm khi ly hôn trong tình huống anh H, chị M năm 1991 có tuân thủ theo Luật Hôn nhân và Gia đình hiện hành không?', 'Đánh giá tính hợp pháp của việc chia đôi diện tích đất ở và đất lấn chiếm công ích giữa anh H và chị M khi ly hôn theo quy định của pháp luật đất đai và hôn nhân gia đình.']\n",
      "should=[FieldCondition(key='metadata.NgayBanHanhFilter', match=MatchAny(any=['1991']), range=None, geo_bounding_box=None, geo_radius=None, geo_polygon=None, values_count=None, is_empty=None, is_null=None)] min_should=None must=None must_not=None\n",
      "Query 1 có 0 kết quả\n",
      "should=[FieldCondition(key='metadata.NgayBanHanhFilter', match=MatchAny(any=['1991']), range=None, geo_bounding_box=None, geo_radius=None, geo_polygon=None, values_count=None, is_empty=None, is_null=None)] min_should=None must=None must_not=None\n",
      "Query 2 có 0 kết quả\n",
      "should=[FieldCondition(key='metadata.NgayBanHanhFilter', match=MatchAny(any=['1991']), range=None, geo_bounding_box=None, geo_radius=None, geo_polygon=None, values_count=None, is_empty=None, is_null=None)] min_should=None must=None must_not=None\n",
      "Query 3 có 0 kết quả\n",
      "None\n",
      "Query 4 có 25 kết quả\n",
      "Tổng số kết quả tìm được: 25\n",
      "Số document khi xoá trùng 25\n",
      "Số document sau khi qua rerank: 5\n"
     ]
    },
    {
     "name": "stderr",
     "output_type": "stream",
     "text": [
      "Sinh trả lời:   6%|▌         | 75/1204 [1:19:58<16:36:45, 52.97s/it]"
     ]
    },
    {
     "name": "stdout",
     "output_type": "stream",
     "text": [
      "['Câu 1. Anh Nam và chị Chung có hai con là cháu Tuấn học lớp 8, cháu Hương học lớp 5. Vừa qua, bỏ qua lời khuyên can của chị Chung và cô giáo chủ nhiệm cháu Hương, anh Nam quyết định cho cháu  Hương nghỉ học. Lý do một phần là vì kinh tế gia đình khó khăn, một phần là nghĩ con gái không cần học nhiều, chỉ cần biết đọc thông viết thạo là được. Pháp luật quy định như thế nào về quyền được gia đình chăm sóc, giáo dục và tạo điều kiện học tập, lao động?', 'Quy định pháp luật về quyền của trẻ em được chăm sóc, giáo dục và tạo điều kiện học tập trong gia đình được quy định như thế nào khi cha mẹ quyết định cho con nghỉ học vì hoàn cảnh kinh tế và quan niệm về giáo dục?', 'Pháp luật Việt Nam có những điều khoản nào bảo vệ quyền được học tập của trẻ em, đặc biệt trong trường hợp cha mẹ không tạo điều kiện học tập đầy đủ do khó khăn kinh tế hoặc lý do cá nhân?', 'Nghĩa vụ của gia đình trong việc đảm bảo quyền học tập của con cái theo luật giáo dục hiện hành được quy định cụ thể ra sao, và trường hợp người cha đơn phương quyết định cho con nghỉ học thì có vi phạm quy định nào không?']\n",
      "None\n",
      "Query 1 có 25 kết quả\n",
      "None\n",
      "Query 2 có 25 kết quả\n",
      "None\n",
      "Query 3 có 25 kết quả\n",
      "should=[FieldCondition(key='metadata.LoaiVanBanFilter', match=MatchValue(value='luật'), range=None, geo_bounding_box=None, geo_radius=None, geo_polygon=None, values_count=None, is_empty=None, is_null=None)] min_should=None must=None must_not=None\n",
      "Query 4 có 25 kết quả\n",
      "Tổng số kết quả tìm được: 100\n",
      "Số document khi xoá trùng 50\n",
      "Số document sau khi qua rerank: 5\n"
     ]
    },
    {
     "name": "stderr",
     "output_type": "stream",
     "text": [
      "Sinh trả lời:   6%|▋         | 76/1204 [1:20:54<16:55:07, 54.00s/it]"
     ]
    },
    {
     "name": "stdout",
     "output_type": "stream",
     "text": [
      "['Câu 2. Vợ chồng anh A và chị B có một con chung, cuộc sống sung túc vì cả hai đều có công việc ổn định, thu nhập tương đối cao. Tuy nhiên, anh A là người gia trưởng nên đi làm về anh không làm bất cứ việc nhà nào. Anh chỉ ngồi đọc báo hoặc xem ti vi. Còn chị B, từ khi đi làm về, chị làm hết việc nhà như: nấu cơm cho gia đình, tắm cho con, dọn dẹp nhà cửa. Chị B rất bực mình nhưng hễ nói, anh A lại gạt đi bảo: “Đó không phải là việc của anh, phụ nữ phải lo việc nội trợ, con cái”. Hỏi quan điểm của anh A có đúng không?', 'Quan điểm \"phụ nữ phải lo việc nội trợ, con cái\" của anh A có phù hợp với Luật Hôn nhân và Gia đình hiện hành không?', 'Việc anh A không chia sẻ việc nhà với chị B có vi phạm nguyên tắc bình đẳng giới trong gia đình theo quy định pháp luật không?', 'Phân tích trách nhiệm của vợ và chồng trong việc chăm sóc gia đình theo Luật Hôn nhân và Gia đình liên quan đến trường hợp anh A và chị B.']\n",
      "None\n",
      "Query 1 có 25 kết quả\n",
      "None\n",
      "Query 2 có 25 kết quả\n",
      "None\n",
      "Query 3 có 25 kết quả\n",
      "should=[FieldCondition(key='metadata.LoaiVanBanFilter', match=MatchValue(value='luật'), range=None, geo_bounding_box=None, geo_radius=None, geo_polygon=None, values_count=None, is_empty=None, is_null=None)] min_should=None must=None must_not=None\n",
      "Query 4 có 25 kết quả\n",
      "Tổng số kết quả tìm được: 100\n",
      "Số document khi xoá trùng 50\n",
      "Số document sau khi qua rerank: 5\n"
     ]
    },
    {
     "name": "stderr",
     "output_type": "stream",
     "text": [
      "Sinh trả lời:   6%|▋         | 77/1204 [1:21:58<17:50:06, 56.97s/it]"
     ]
    },
    {
     "name": "stdout",
     "output_type": "stream",
     "text": [
      "['Câu 3. Vợ chồng anh Kiên và chị Ngọc sinh được 2 con gái. Anh Kiên rất muốn có con trai để có người “chống gậy” khi chết nhưng chị Ngọc không đồng ý. Bắt chị Ngọc tháo vòng để đẻ không được, anh Kiên tỏ thái độ, thường xuyên đi sớm về khuya, phó mặc toàn bộ công việc gia đình con cái cho vợ. Hỏi hành vi của anh Kiên có vi phạm pháp luật không?', 'Hành vi của anh Kiên đối xử tệ với vợ vì muốn có con trai có phải là hành vi vi phạm pháp luật về bình đẳng giới không?', 'Hành vi chồng gây áp lực buộc vợ sinh con trai và bỏ bê gia đình có bị coi là bạo lực gia đình theo luật pháp Việt Nam không?', 'Việc anh Kiên mong muốn có con trai và đối xử bất công với vợ có thể bị xử lý theo quy định pháp luật nào về hôn nhân và gia đình?']\n",
      "None\n",
      "Query 1 có 25 kết quả\n",
      "None\n",
      "Query 2 có 25 kết quả\n",
      "None\n",
      "Query 3 có 25 kết quả\n",
      "None\n",
      "Query 4 có 25 kết quả\n",
      "Tổng số kết quả tìm được: 100\n",
      "Số document khi xoá trùng 50\n",
      "Số document sau khi qua rerank: 5\n"
     ]
    },
    {
     "name": "stderr",
     "output_type": "stream",
     "text": [
      "Sinh trả lời:   6%|▋         | 78/1204 [1:23:13<19:26:52, 62.18s/it]"
     ]
    },
    {
     "name": "stdout",
     "output_type": "stream",
     "text": [
      "['Câu 4. Chị H là người phụ nữ nhanh nhẹn, nhiệt tình với công việc chung của cộng đồng làng xóm nên chị được giới thiệu làm Chủ tịch Hội liên hiệp phụ nữ xã cho nhiệm kỳ tới. Tuy nhiên, anh T - chồng chị H, vốn là người có tư tưởng cổ hủ nên đã ngăn cản, cấm đoán không cho chị H tham gia với  lý do phụ nữ không được qua mặt chồng. Anh T còn tuyên bố đe dọa, nếu chị cố tình làm trái ý anh tham gia bầu bán, anh sẽ ly dị. Hành vi trên của anh T có vi phạm pháp luật không?', 'Hành vi cấm đoán vợ tham gia công tác xã hội của chồng có vi phạm quy định pháp luật về bình đẳng giới không?', 'Hành vi ngăn cản vợ làm Chủ tịch Hội phụ nữ xã và đe dọa ly hôn của chồng có bị coi là vi phạm quyền tự do cá nhân theo luật định?', 'Theo pháp luật Việt Nam, hành động của người chồng cản trở vợ tham gia hoạt động xã hội và đe dọa ly hôn có cấu thành hành vi bạo lực gia đình hay không?']\n",
      "None\n",
      "Query 1 có 25 kết quả\n",
      "None\n",
      "Query 2 có 25 kết quả\n",
      "None\n",
      "Query 3 có 25 kết quả\n",
      "None\n",
      "Query 4 có 25 kết quả\n",
      "Tổng số kết quả tìm được: 100\n",
      "Số document khi xoá trùng 50\n",
      "Số document sau khi qua rerank: 5\n"
     ]
    },
    {
     "name": "stderr",
     "output_type": "stream",
     "text": [
      "Sinh trả lời:   7%|▋         | 79/1204 [1:24:54<23:07:36, 74.01s/it]"
     ]
    },
    {
     "name": "stdout",
     "output_type": "stream",
     "text": [
      "['Câu 5. Anh A là người bị ảnh hưởng khá nặng nề bởi tư tưởng cũ “trọng nam khinh nữ” trước đây. Khi thấy chị X được giới thiệu ứng cử đại biểu Hội đồng nhân dân xã, anh A đã xúi giục, lôi kéo mọi người không bỏ phiếu cho chị X với luận điệu “phụ nữ thì làm được trò trống gì?, bầu cho phụ nữ để họ đè đầu cưỡi cổ đàn ông con trai à...?”. Hỏi hành vi trên của anh A có vi phạm pháp luật không?', 'Hành vi của anh A, người có hành động xúi giục người khác không bầu cho chị X vì lý do giới tính, có vi phạm quy định pháp luật nào không?', 'Hành vi kích động, lôi kéo người khác không bỏ phiếu cho ứng cử viên nữ đại biểu Hội đồng nhân dân xã dựa trên định kiến giới của anh A có bị coi là vi phạm pháp luật hiện hành không?', 'Theo quy định pháp luật, hành vi của anh A trong việc vận động chống lại việc bầu cử chị X vào Hội đồng nhân dân xã do định kiến giới có cấu thành hành vi vi phạm pháp luật không?']\n",
      "None\n",
      "Query 1 có 25 kết quả\n",
      "None\n",
      "Query 2 có 25 kết quả\n",
      "None\n",
      "Query 3 có 25 kết quả\n",
      "None\n",
      "Query 4 có 25 kết quả\n",
      "Tổng số kết quả tìm được: 100\n",
      "Số document khi xoá trùng 47\n",
      "Số document sau khi qua rerank: 5\n"
     ]
    },
    {
     "name": "stderr",
     "output_type": "stream",
     "text": [
      "Sinh trả lời:   7%|▋         | 80/1204 [1:26:01<22:25:12, 71.81s/it]"
     ]
    },
    {
     "name": "stdout",
     "output_type": "stream",
     "text": [
      "['Câu 1. Đầu năm 2015, trong cơn say xỉn, ông Nguyễn Văn H về nhà sinh sự, chửi bới, lăng mạ vợ là bà Hoàng Thị B. Chưa dừng lại ở đó, bị “ma men” dẫn lối, ông H đã “thượng cẳng chân, hạ cẳng tay” khiến bà B xây xẩm mặt mày. Bị đánh đập, chửi bới, lăng mạ một cách vô cớ, bà B không kìm nén được cơn giận đã làm đơn trình báo sự việc lên chính quyền xã. Hỏi, hành vi của ông H sẽ bị xử lý như thế nào?', 'Hành vi bạo hành gia đình của ông Nguyễn Văn H đối với bà Hoàng Thị B sẽ bị xử phạt theo quy định pháp luật nào?', 'Ông Nguyễn Văn H có thể phải chịu trách nhiệm pháp lý gì khi say xỉn gây rối, lăng mạ, hành hung vợ là bà Hoàng Thị B?', 'Hành vi đánh đập, chửi bới vợ của ông Nguyễn Văn H có dấu hiệu vi phạm pháp luật hình sự hay hành chính không và bị xử lý như thế nào?']\n",
      "None\n",
      "Query 1 có 25 kết quả\n",
      "None\n",
      "Query 2 có 25 kết quả\n",
      "None\n",
      "Query 3 có 25 kết quả\n",
      "None\n",
      "Query 4 có 25 kết quả\n",
      "Tổng số kết quả tìm được: 100\n",
      "Số document khi xoá trùng 47\n",
      "Số document sau khi qua rerank: 5\n"
     ]
    },
    {
     "name": "stderr",
     "output_type": "stream",
     "text": [
      "Sinh trả lời:   7%|▋         | 81/1204 [1:27:05<21:40:13, 69.47s/it]"
     ]
    },
    {
     "name": "stdout",
     "output_type": "stream",
     "text": [
      "['Câu 2. Anh M và chị D lấy nhau đã được gần 10 năm. Thời gian gần đây, anh M trở nên trái tính trái nết, hay uống rượu và mỗi khi có rượu vào là anh M lại mắng chửi chị D. Anh chửi mà chị D im lặng thì anh cho là chị D xem thường mình nên lao vào đánh túi bụi, còn chị D mà nói thì anh cho là hỗn láo phải “dạy” cho bài học. Hành vi của anh M sẽ bị pháp luật xử lý như thế nào?', 'Hành vi bạo lực gia đình của anh M đối với chị D sẽ bị xử lý theo quy định pháp luật nào?', 'Anh M có thể phải chịu trách nhiệm pháp lý gì cho hành vi ngược đãi, đánh đập vợ là chị D theo luật Việt Nam?', 'Pháp luật Việt Nam có những chế tài nào đối với hành vi bạo hành gia đình, cụ thể là hành vi của anh M đối với chị D?']\n",
      "None\n",
      "Query 1 có 25 kết quả\n",
      "None\n",
      "Query 2 có 25 kết quả\n",
      "None\n",
      "Query 3 có 25 kết quả\n",
      "None\n",
      "Query 4 có 25 kết quả\n",
      "Tổng số kết quả tìm được: 100\n",
      "Số document khi xoá trùng 50\n",
      "Số document sau khi qua rerank: 5\n"
     ]
    },
    {
     "name": "stderr",
     "output_type": "stream",
     "text": [
      "Sinh trả lời:   7%|▋         | 82/1204 [1:28:14<21:36:13, 69.32s/it]"
     ]
    },
    {
     "name": "stdout",
     "output_type": "stream",
     "text": [
      "['Câu 3. Do có tư thù với chị T, lại biết anh N hay ghen nên D thi thoảng lại rủ N đi uống rượu và bóng gió rằng chị T hình như có quan hệ thân mật với một người đàn ông ở xã bên, xúi giục anh N về kiểm tra vợ. Tính hay ghen lại cả tin nên mỗi lần đi uống rượu với D về là N lại lục vấn, tra khảo, chửi mắng vợ không tiếc lời, thậm chí có khi còn đánh đập vợ. Vậy, hành vi của N và D có vi phạm pháp luật không? Nếu có, thì sẽ bị xử lý như thế nào?', 'Hành vi xúi giục, kích động ghen tuông dẫn đến bạo hành gia đình có vi phạm pháp luật Việt Nam không và bị xử lý như thế nào?', 'Hành vi của người kích động ghen tuông và người bạo hành vợ do ghen tuông có cấu thành tội phạm theo quy định của pháp luật hình sự Việt Nam không?', 'Người xúi giục ghen tuông và người gây bạo lực gia đình do ghen tuông có phải chịu trách nhiệm pháp lý gì không và mức độ xử phạt như thế nào theo luật?']\n",
      "None\n",
      "Query 1 có 25 kết quả\n",
      "None\n",
      "Query 2 có 25 kết quả\n",
      "None\n",
      "Query 3 có 25 kết quả\n",
      "None\n",
      "Query 4 có 25 kết quả\n",
      "Tổng số kết quả tìm được: 100\n",
      "Số document khi xoá trùng 47\n",
      "Số document sau khi qua rerank: 5\n"
     ]
    },
    {
     "name": "stderr",
     "output_type": "stream",
     "text": [
      "Sinh trả lời:   7%|▋         | 83/1204 [1:29:30<22:12:01, 71.29s/it]"
     ]
    },
    {
     "name": "stdout",
     "output_type": "stream",
     "text": [
      "['Câu 4. Vốn không ưa con dâu, lại biết con trai rất nghe lời mẹ, nên mỗi khi vợ chồng người con trai mâu thuẫn, cãi vã, bà M không những không can ngăn làm dịu tình hình mà còn có những lời nói kích động, bênh vực con trai bất kể con trai đúng hay sai, khiến không ít lần cô con dâu được chồng “dạy” cho thâm tím mày mặt, chân tay. Hỏi hành vi của bà M có vi phạm pháp luật không? Nếu có, thì bị xử lý như thế nào?', 'Bà M kích động con trai bạo hành con dâu có vi phạm pháp luật không và bị xử lý như thế nào theo quy định pháp luật hiện hành?', 'Hành vi xúi giục bạo lực gia đình của bà M đối với con dâu có cấu thành tội phạm theo luật Việt Nam không? Nếu có, khung hình phạt áp dụng là gì?', 'Lời nói và hành động của bà M gây tổn hại đến con dâu có bị coi là hành vi vi phạm pháp luật về phòng chống bạo lực gia đình không? Chế tài xử phạt cho hành vi này là gì?']\n",
      "None\n",
      "Query 1 có 25 kết quả\n",
      "None\n",
      "Query 2 có 25 kết quả\n",
      "None\n",
      "Query 3 có 25 kết quả\n",
      "None\n",
      "Query 4 có 25 kết quả\n",
      "Tổng số kết quả tìm được: 100\n",
      "Số document khi xoá trùng 46\n",
      "Số document sau khi qua rerank: 5\n"
     ]
    },
    {
     "name": "stderr",
     "output_type": "stream",
     "text": [
      "Sinh trả lời:   7%|▋         | 84/1204 [1:30:34<21:29:17, 69.07s/it]"
     ]
    },
    {
     "name": "stdout",
     "output_type": "stream",
     "text": [
      "['Câu 5. Do có mối hiềm khích từ trước với mẹ anh A nên khi biết tin con gái là chị B và anh A có quan hệ tình cảm, bà C tìm mọi cách để ngăn cản. Nhẹ nhàng khuyên nhủ chị B không được, bà C đã dùng biện pháp uy hiếp tinh thần chị B khi tuyên bố sẽ từ chị B nếu không chịu nghe lời bà, rằng ngày anh A và chị B kết hôn cũng là ngày giỗ của bà. Hỏi, hành vi của bà C có vi phạm pháp luật không? Mức xử phạt, nếu có?', 'Hành vi đe dọa tinh thần, ngăn cản quan hệ tình cảm của người khác có vi phạm pháp luật Việt Nam không? Chế tài xử phạt cho hành vi này là gì?', 'Hành vi uy hiếp tinh thần, cấm đoán yêu đương do hiềm khích cá nhân có cấu thành hành vi vi phạm pháp luật không? Quy định pháp luật về xử lý hành vi này như thế nào?', 'Dưới góc độ pháp luật, hành vi dùng lời lẽ đe dọa, gây áp lực tinh thần để ngăn cản mối quan hệ tình cảm có bị coi là vi phạm pháp luật không? Nếu có, mức phạt được quy định là gì?']\n",
      "None\n",
      "Query 1 có 25 kết quả\n",
      "None\n",
      "Query 2 có 25 kết quả\n",
      "None\n",
      "Query 3 có 25 kết quả\n",
      "None\n",
      "Query 4 có 25 kết quả\n",
      "Tổng số kết quả tìm được: 100\n",
      "Số document khi xoá trùng 50\n",
      "Số document sau khi qua rerank: 5\n"
     ]
    },
    {
     "name": "stderr",
     "output_type": "stream",
     "text": [
      "Sinh trả lời:   7%|▋         | 85/1204 [1:31:44<21:34:04, 69.39s/it]"
     ]
    },
    {
     "name": "stdout",
     "output_type": "stream",
     "text": [
      "['Câu 6. Mặc dù hàng ngày chị làm việc quần quật ngoài ruộng, về nhà lại vất vả dọn dẹp nhà cửa, con cái, cơm nước gia đình..., song chị H vẫn thường xuyên bị chồng là anh B đánh đập, hắt hủi. Biết chị H thường xuyên bị chồng mắng chửi, hành hạ, bà T là hàng xóm rất thương nhưng phần vì ngại anh B tính cục cằn, phần cho rằng đó là việc riêng của gia đình người khác, mình không liên quan nên thờ ơ, để mặc. Hỏi, việc làm của bà T như vậy có đúng không?', 'Hành vi của bà T, người chứng kiến chị H bị chồng bạo hành nhưng không can thiệp, có vi phạm pháp luật không?', 'Trách nhiệm pháp lý của người làm chứng khi biết về hành vi bạo lực gia đình nhưng không tố giác theo quy định pháp luật hiện hành?', 'Bà T có nghĩa vụ pháp lý nào khi chứng kiến anh B bạo hành chị H, và việc không can thiệp có cấu thành hành vi vi phạm pháp luật không?']\n",
      "None\n",
      "Query 1 có 25 kết quả\n",
      "None\n",
      "Query 2 có 25 kết quả\n",
      "None\n",
      "Query 3 có 25 kết quả\n",
      "None\n",
      "Query 4 có 25 kết quả\n",
      "Tổng số kết quả tìm được: 100\n",
      "Số document khi xoá trùng 50\n",
      "Số document sau khi qua rerank: 5\n"
     ]
    },
    {
     "name": "stderr",
     "output_type": "stream",
     "text": [
      "Sinh trả lời:   7%|▋         | 86/1204 [1:32:51<21:20:56, 68.74s/it]"
     ]
    },
    {
     "name": "stdout",
     "output_type": "stream",
     "text": [
      "['Câu 7. Sau khi bà H, mẹ chị A bị tai biến liệt nửa người, chị A nghỉ làm công nhân may để ở nhà nội trợ chăm sóc mẹ. Hàng ngày mua sắm thứ gì, tiền thuốc cho mẹ hết bao nhiêu, chị phải ghi sổ chi tiết cho chồng biết. Chị A nghĩ làm vậy cũng tốt, chị có thể theo dõi điều tiết, đồng thời có thể công khai với chồng. Song vấn đề phát sinh khi mỗi lần anh chị mâu thuẫn là anh Q không đưa tiền cho chị khiến chị lâm vào tình trạng khó khăn, mẹ chị không có tiền mua thuốc chữa bệnh, buộc chị phải xin lỗi, chịu nhận phần sai mặc dù có thể lỗi hoàn toàn do anh Q. Hỏi hành vi của anh Q có phải là hành vi bạo lực gia đình không?', 'Hành vi của anh Q không đưa tiền khi mâu thuẫn có cấu thành hành vi bạo lực gia đình theo luật phòng chống bạo lực gia đình không?', 'Hành vi chồng gây khó khăn tài chính, không cho tiền thuốc thang cho mẹ vợ ốm đau có được xem là bạo lực gia đình theo quy định pháp luật hiện hành?', 'Việc chồng kiểm soát chi tiêu, gây áp lực kinh tế và từ chối chu cấp tiền khi có mâu thuẫn có phải là hành vi bạo lực gia đình theo luật Việt Nam không?']\n",
      "None\n",
      "Query 1 có 25 kết quả\n",
      "None\n",
      "Query 2 có 25 kết quả\n",
      "None\n",
      "Query 3 có 25 kết quả\n",
      "None\n",
      "Query 4 có 25 kết quả\n",
      "Tổng số kết quả tìm được: 100\n",
      "Số document khi xoá trùng 50\n",
      "Số document sau khi qua rerank: 5\n"
     ]
    },
    {
     "name": "stderr",
     "output_type": "stream",
     "text": [
      "Sinh trả lời:   7%|▋         | 87/1204 [1:34:03<21:35:46, 69.60s/it]"
     ]
    },
    {
     "name": "stdout",
     "output_type": "stream",
     "text": [
      "['Câu 8. Từ khi bị tai nạn giao thông mất hai chân, không đi lại được, anh A trở nên trái tính trái nết, hay vô cớ chửi bới chị B, nhiều lúc anh còn chửi cả bố mẹ vợ, dọa trả chị B để ông bà dạy lại con gái. Đã vậy, anh lại sinh tính ghen tuông, chỉ cần nhìn thấy chị B cười nói với người đàn ông nào là anh lại chì chiết, nhiếc móc chị B là đĩ thõa, mèo mả gà đồng... Mặc dù rất thông cảm và thương chồng, nhưng cứ mỗi lần nghe những lời mắng chửi của chồng, chị không khỏi dằn lòng suy nghĩ, tâm can nhói đau, khiến chị B càng ngày héo hon, gầy mòn vì mất ngủ, trầm cảm. \\nHỏi, hành vi của anh A có phải là hành vi bạo lực gia đình không? Nếu có hình thức xử lý như thế nào?', 'Hành vi chửi bới, ghen tuông của người chồng tàn tật có cấu thành bạo lực gia đình theo luật phòng chống bạo lực gia đình không? Chế tài xử lý cho hành vi này là gì?', 'Hành vi lăng mạ, chì chiết vợ của người chồng bị tai nạn giao thông có vi phạm luật phòng chống bạo lực gia đình không? Pháp luật quy định như thế nào về vấn đề này và hình thức xử phạt ra sao?', 'Theo quy định pháp luật hiện hành, hành vi bạo lực tinh thần trong gia đình, thể hiện qua lời nói xúc phạm, gây tổn thương, có bị xử lý? Trường hợp người chồng có hành vi như vậy thì bị xử lý như thế nào?']\n",
      "None\n",
      "Query 1 có 25 kết quả\n",
      "None\n",
      "Query 2 có 25 kết quả\n",
      "None\n",
      "Query 3 có 25 kết quả\n",
      "None\n",
      "Query 4 có 25 kết quả\n",
      "Tổng số kết quả tìm được: 100\n",
      "Số document khi xoá trùng 47\n",
      "Số document sau khi qua rerank: 5\n"
     ]
    },
    {
     "name": "stderr",
     "output_type": "stream",
     "text": [
      "Sinh trả lời:   7%|▋         | 88/1204 [1:35:16<21:54:19, 70.66s/it]"
     ]
    },
    {
     "name": "stdout",
     "output_type": "stream",
     "text": [
      "['Câu 9. Ngày 20/5 vừa qua, sau khi đi uống say về, anh H có hành vi đánh chửi vợ con. Vừa lúc ấy, anh M, dân quân xã đi qua thấy vậy liền dựng xe ở ngõ để vào can ngăn. Thấy anh M vào can, H nghĩ anh M có tình ý với vợ nên cầm gậy đuổi đánh anh M. Không đuổi được anh M, H tức tối đập phá chiếc xe của anh M gây hư hỏng nặng. Vậy, trường hợp này, anh M có được nhà nước hoàn trả thiệt hại không?', 'Trường hợp anh M, dân quân xã bị hành hung và đập phá xe khi can ngăn xô xát, có được nhà nước bồi thường thiệt hại theo quy định pháp luật hiện hành không?', 'Hành vi gây thương tích và hủy hoại tài sản của anh H đối với anh M (dân quân xã) khi anh M can ngăn драка có đủ điều kiện để anh M được nhà nước bồi thường thiệt hại không? Cơ sở pháp lý?', 'Anh M, là dân quân xã, bị hành hung và xe bị đập phá khi can thiệp vào vụ bạo hành gia đình, vậy theo quy định của pháp luật về bồi thường nhà nước, anh M có quyền được bồi thường không?']\n",
      "None\n",
      "Query 1 có 25 kết quả\n",
      "None\n",
      "Query 2 có 25 kết quả\n",
      "None\n",
      "Query 3 có 25 kết quả\n",
      "None\n",
      "Query 4 có 25 kết quả\n",
      "Tổng số kết quả tìm được: 100\n",
      "Số document khi xoá trùng 50\n",
      "Số document sau khi qua rerank: 5\n"
     ]
    },
    {
     "name": "stderr",
     "output_type": "stream",
     "text": [
      "Sinh trả lời:   7%|▋         | 89/1204 [1:36:41<23:12:46, 74.95s/it]"
     ]
    },
    {
     "name": "stdout",
     "output_type": "stream",
     "text": [
      "['Câu 10. Sau nhiều lần khuyên bảo chồng chấm dứt hành vi ngoại tình không được, em gái tôi đã mang con về nhà bố mẹ tôi sống và xin ly hôn. Tuy nhiên, em rể tôi không những không đồng ý ly hôn mà còn thường xuyên đến nhà bố mẹ tôi chửi bới, lăng mạ, dọa đánh em gái tôi nếu không chịu mang con về. Hiện gia đình tôi băn khoăn không biết trong thời gian chờ tòa án giải quyết ly hôn, có biện pháp nào cấm em rể tôi tiếp xúc gây phiền hà cho em gái tôi và gia đình tôi không?', 'Trong thời gian chờ ly hôn, có biện pháp pháp lý nào để ngăn chặn hành vi quấy rối, đe dọa của chồng đối với vợ và gia đình vợ không?', 'Có thể áp dụng biện pháp khẩn cấp tạm thời nào theo quy định của pháp luật tố tụng dân sự để bảo vệ quyền và lợi ích hợp pháp của người vợ và gia đình trong vụ việc ly hôn khi bị chồng gây rối, đe dọa không?', 'Quy định pháp luật về việc cấm tiếp xúc giữa vợ và chồng trong thời gian chờ giải quyết ly hôn khi có hành vi bạo lực gia đình hoặc đe dọa đến sự an toàn của người vợ và gia đình vợ như thế nào?']\n",
      "None\n",
      "Query 1 có 25 kết quả\n",
      "None\n",
      "Query 2 có 25 kết quả\n",
      "None\n",
      "Query 3 có 25 kết quả\n",
      "None\n",
      "Query 4 có 25 kết quả\n",
      "Tổng số kết quả tìm được: 100\n",
      "Số document khi xoá trùng 50\n",
      "Số document sau khi qua rerank: 5\n"
     ]
    },
    {
     "name": "stderr",
     "output_type": "stream",
     "text": [
      "Sinh trả lời:   7%|▋         | 90/1204 [1:37:53<22:58:26, 74.24s/it]"
     ]
    },
    {
     "name": "stdout",
     "output_type": "stream",
     "text": [
      "['Câu 11. Gần 3 tháng lấy chồng là gần 3 tháng chị M sống trong sợ hãi. Bởi bất kể chị muốn hay không, sức khỏe của chị thế nào, đều phải đáp ứng nhu cầu quan hệ tình dục có ngày đến  5 - 6 lần của anh H. Có lần, chị nhỏ nhẹ khuyên chồng đi kiểm tra bác sỹ nhưng đáp lại là sự la hét, chửi rủa của anh. Nếu cứ tiếp tục thì sớm hay muộn chị cũng thân tàn ma dại. Chị muốn biết mình có thể làm gì để bảo vệ quyền lợi của bản thân?', 'Chị M phải quan hệ tình dục 5-6 lần một ngày theo yêu cầu của chồng, bị chửi rủa khi từ chối, vậy chị có quyền gì để tự bảo vệ?', 'Chị M có thể thực hiện những biện pháp pháp lý nào để bảo vệ bản thân khỏi hành vi ép buộc quan hệ tình dục và bạo hành tinh thần từ chồng?', 'Trong trường hợp bị chồng ép quan hệ tình dục thường xuyên và lăng mạ, người vợ có quyền yêu cầu sự bảo vệ của pháp luật như thế nào?']\n",
      "should=[FieldCondition(key='metadata.NgayBanHanhFilter', match=MatchAny(any=['yyyy']), range=None, geo_bounding_box=None, geo_radius=None, geo_polygon=None, values_count=None, is_empty=None, is_null=None)] min_should=None must=None must_not=None\n",
      "Query 1 có 0 kết quả\n",
      "None\n",
      "Query 2 có 25 kết quả\n",
      "None\n",
      "Query 3 có 25 kết quả\n",
      "None\n",
      "Query 4 có 25 kết quả\n",
      "Tổng số kết quả tìm được: 75\n",
      "Số document khi xoá trùng 45\n",
      "Số document sau khi qua rerank: 5\n"
     ]
    },
    {
     "name": "stderr",
     "output_type": "stream",
     "text": [
      "Sinh trả lời:   8%|▊         | 91/1204 [1:39:02<22:24:23, 72.47s/it]"
     ]
    },
    {
     "name": "stdout",
     "output_type": "stream",
     "text": [
      "['Câu 12. Sau khi ly hôn, hoàn cảnh kinh tế khó khăn nên chị P để con trai là cháu M, 16 tuổi cho bà ngoại nuôi rồi lên thành phố kiếm sống. Do đang ở lứa tuổi thay đổi tâm lý lại thiếu sự quan tâm định hướng từ bố mẹ nên M sớm đua đòi chúng bạn bỏ học, lêu lổng chơi bời. Gần đây, chỉ chưa đầy 6 tháng, M đã hai lần có hành vi bạo lực với bà ngoại: lần M đập phá đồ đạc trong nhà do bà khóa cửa không cho ra ngoài chơi đêm cùng chúng bạn, lần M xô bà ngã gẫy tay khi trộm con gà của bà định đem bán lấy tiền chơi game và bị bà phát hiện giữ lại. Vậy, với các hành vi trên, M có thuộc đối tượng góp ý, phê bình trong cộng đồng dân cư không? Việc góp ý, phê bình trong cộng đồng dân cư được thực hiện như thế nào?', 'Sau ly hôn, người mẹ để con 16 tuổi cho bà ngoại nuôi dưỡng, vậy hành vi bạo lực của người con với bà có thuộc đối tượng góp ý trong cộng đồng dân cư theo quy định pháp luật không?', 'Hành vi bạo lực của cháu M 16 tuổi đối với bà ngoại sau khi bố mẹ ly hôn có đủ điều kiện để đưa ra góp ý, phê bình trong cộng đồng dân cư theo quy định hiện hành không? Thủ tục thực hiện việc này như thế nào?', 'Trường hợp con trai 16 tuổi có hành vi bạo lực với bà ngoại sau khi bố mẹ ly hôn, việc góp ý, phê bình đối với người này trong cộng đồng dân cư được thực hiện theo trình tự, thủ tục nào của pháp luật?']\n",
      "None\n",
      "Query 1 có 25 kết quả\n",
      "None\n",
      "Query 2 có 25 kết quả\n",
      "None\n",
      "Query 3 có 25 kết quả\n",
      "None\n",
      "Query 4 có 25 kết quả\n",
      "Tổng số kết quả tìm được: 100\n",
      "Số document khi xoá trùng 45\n",
      "Số document sau khi qua rerank: 5\n"
     ]
    },
    {
     "name": "stderr",
     "output_type": "stream",
     "text": [
      "Sinh trả lời:   8%|▊         | 92/1204 [1:40:13<22:17:53, 72.19s/it]"
     ]
    },
    {
     "name": "stdout",
     "output_type": "stream",
     "text": [
      "['Câu 13. Mặc dù phải vất vả kiếm sống song chị A vẫn thường xuyên bị chồng - anh C chửi bới, đánh đập do ghen tuông vô cớ. Ngày 15/5 vừa qua, khi vừa thấy chị bước ra từ xe taxi cùng một đồng nghiệp nam vào công ty, không cần biết chị và đồng nghiệp đi đâu, làm gì, anh C lao tới mắng chửi và đánh đập chị A. Rất may được mọi người vào can ngăn kịp thời song chị A thấy xấu hổ vì sự ghen tuông mù quáng của chồng mình. Sau sự việc, chị A chuyển về sống với bố mẹ đẻ để tĩnh tâm suy nghĩ mọi chuyện. Trong thời gian đó, chị muốn Ủy ban nhân dân phường áp dụng biện pháp cấm anh C tiếp xúc với mình thì có được không? Điều kiện áp dụng biện pháp này như thế nào?', 'Có thể yêu cầu Ủy ban nhân dân phường áp dụng biện pháp cấm tiếp xúc đối với anh C trong trường hợp chị A bị bạo hành gia đình do ghen tuông không?', 'Điều kiện để Ủy ban nhân dân phường áp dụng biện pháp cấm người chồng tiếp xúc với vợ bị bạo hành gia đình theo quy định pháp luật hiện hành là gì?', 'Quy định pháp luật về việc áp dụng biện pháp cấm tiếp xúc đối với người có hành vi bạo lực gia đình, cụ thể trong trường hợp ghen tuông vô cớ, được thực hiện như thế nào?']\n",
      "None\n",
      "Query 1 có 25 kết quả\n",
      "None\n",
      "Query 2 có 25 kết quả\n",
      "None\n",
      "Query 3 có 25 kết quả\n",
      "None\n",
      "Query 4 có 25 kết quả\n",
      "Tổng số kết quả tìm được: 100\n",
      "Số document khi xoá trùng 42\n",
      "Số document sau khi qua rerank: 5\n"
     ]
    },
    {
     "name": "stderr",
     "output_type": "stream",
     "text": [
      "Sinh trả lời:   8%|▊         | 93/1204 [1:41:27<22:24:11, 72.59s/it]"
     ]
    },
    {
     "name": "stdout",
     "output_type": "stream",
     "text": [
      "['Câu 14. Tôi hiện là chủ tịch công đoàn của cơ quan. Vừa qua, chị H, vợ anh M (nhân viên văn phòng của cơ quan) đến đề nghị cơ quan đứng ra hòa giải mâu thuẫn giữa vợ chồng anh chị. Vậy xin hỏi, cơ quan có trách nhiệm hòa giải mâu thuẫn, tranh chấp giữa vợ chồng anh M, chị H không? Thẩm quyền hòa giải mâu thuẫn, tranh chấp này được quy định như thế nào?', 'Tôi là chủ tịch công đoàn cơ quan, vợ nhân viên đề nghị hòa giải mâu thuẫn gia đình, hỏi cơ quan có trách nhiệm hòa giải và thẩm quyền này quy định ở đâu?', 'Cơ quan có trách nhiệm hòa giải tranh chấp vợ chồng nhân viên theo quy định pháp luật không? Quy trình và thẩm quyền hòa giải được quy định cụ thể ở đâu?', 'Chủ tịch công đoàn cơ quan hỏi về trách nhiệm và thẩm quyền của cơ quan trong việc hòa giải mâu thuẫn vợ chồng nhân viên theo luật định?', 'Hỏi về nghĩa vụ hòa giải tranh chấp gia đình của cơ quan nhà nước và quy định pháp luật liên quan đến thẩm quyền hòa giải này?']\n",
      "None\n",
      "Query 1 có 25 kết quả\n",
      "None\n",
      "Query 2 có 25 kết quả\n",
      "None\n",
      "Query 3 có 25 kết quả\n",
      "None\n",
      "Query 4 có 25 kết quả\n",
      "None\n",
      "Query 5 có 25 kết quả\n",
      "Tổng số kết quả tìm được: 125\n",
      "Số document khi xoá trùng 50\n",
      "Số document sau khi qua rerank: 5\n"
     ]
    },
    {
     "name": "stderr",
     "output_type": "stream",
     "text": [
      "Sinh trả lời:   8%|▊         | 94/1204 [1:42:37<22:07:14, 71.74s/it]"
     ]
    },
    {
     "name": "stdout",
     "output_type": "stream",
     "text": [
      "['Câu 15. Sau khi xúi giục mẹ là cụ Ph yêu cầu chia tài sản thừa kế của anh trai đã chết không được, anh H tỏ ra ấm ức, thay đổi thái độ cũng như cách ứng xử với cụ Ph. Lấy lý do nhà chật, H để cụ ăn, ngủ cách ly ở phòng kho cạnh bếp. Khi cụ Ph ốm đau, H để mặc không đưa cụ đi khám. Hành vi thường xuyên bỏ mặc không chăm sóc cụ Ph của H khiến bà con hàng xóm bất bình, nhiều lần nhắc nhở khuyên bảo song không có cải biến. hành vi của H có vi phạm pháp luật không? Nếu có, thì H sẽ bị xử lý như thế nào?', 'Hành vi của người con trai bỏ mặc, không chăm sóc mẹ già có vi phạm quy định pháp luật về nghĩa vụ nuôi dưỡng, chăm sóc không, và chế tài xử lý cụ thể là gì?', 'Hành vi con trai đối xử tệ bạc, bỏ mặc mẹ già sau khi tranh chấp tài sản thừa kế có cấu thành tội ngược đãi hoặc hành vi vi phạm pháp luật nào khác không, và khung hình phạt áp dụng?', 'Căn cứ pháp lý nào quy định về nghĩa vụ chăm sóc, nuôi dưỡng cha mẹ già yếu, và hành vi bỏ mặc người thân không chăm sóc có thể bị xử phạt hành chính hoặc truy cứu trách nhiệm hình sự theo điều khoản nào?']\n",
      "None\n",
      "Query 1 có 25 kết quả\n",
      "None\n",
      "Query 2 có 25 kết quả\n",
      "None\n",
      "Query 3 có 25 kết quả\n",
      "should=[FieldCondition(key='metadata.NgayBanHanhFilter', match=MatchAny(any=['yyyy']), range=None, geo_bounding_box=None, geo_radius=None, geo_polygon=None, values_count=None, is_empty=None, is_null=None)] min_should=None must=None must_not=None\n",
      "Query 4 có 0 kết quả\n",
      "Tổng số kết quả tìm được: 75\n",
      "Số document khi xoá trùng 50\n",
      "Số document sau khi qua rerank: 5\n"
     ]
    },
    {
     "name": "stderr",
     "output_type": "stream",
     "text": [
      "Sinh trả lời:   8%|▊         | 95/1204 [1:43:40<21:22:08, 69.37s/it]"
     ]
    },
    {
     "name": "stdout",
     "output_type": "stream",
     "text": [
      "['Câu 16. Ngày 20/4/2017, Chủ tịch Ủy ban nhân dân phường X đã ra quyết định cấm anh Ph, chồng chị A tiếp xúc với chị A. Tuy nhiên, trong thời hạn quyết định cấm tiếp xúc còn hiệu lực, ngày 11/5/2017, mẹ chị A đột ngột qua đời. Vậy, trường hợp này anh Ph có được tiếp xúc với chị A không?', 'Trong trường hợp quyết định cấm tiếp xúc còn hiệu lực, anh Ph có được phép tiếp xúc với chị A khi mẹ chị A qua đời theo quy định pháp luật không?', 'Quy định pháp luật về việc thực hiện quyết định cấm tiếp xúc trong trường hợp đặc biệt như tang lễ (mẹ vợ qua đời) ảnh hưởng đến quyền của người bị cấm tiếp xúc như thế nào?', 'Việc Chủ tịch UBND phường X ra quyết định cấm anh Ph tiếp xúc chị A và sự kiện mẹ chị A qua đời có làm thay đổi hiệu lực của quyết định cấm tiếp xúc không?']\n",
      "should=[FieldCondition(key='metadata.NgayBanHanhFilter', match=MatchAny(any=['20/04/2017']), range=None, geo_bounding_box=None, geo_radius=None, geo_polygon=None, values_count=None, is_empty=None, is_null=None)] min_should=None must=None must_not=None\n",
      "Query 1 có 0 kết quả\n",
      "should=[FieldCondition(key='metadata.LoaiVanBanFilter', match=MatchValue(value='quyết định'), range=None, geo_bounding_box=None, geo_radius=None, geo_polygon=None, values_count=None, is_empty=None, is_null=None)] min_should=None must=None must_not=None\n",
      "Query 2 có 9 kết quả\n",
      "None\n",
      "Query 3 có 25 kết quả\n",
      "None\n",
      "Query 4 có 25 kết quả\n",
      "Tổng số kết quả tìm được: 59\n",
      "Số document khi xoá trùng 45\n",
      "Số document sau khi qua rerank: 5\n"
     ]
    },
    {
     "name": "stderr",
     "output_type": "stream",
     "text": [
      "Sinh trả lời:   8%|▊         | 96/1204 [1:44:55<21:48:00, 70.83s/it]"
     ]
    },
    {
     "name": "stdout",
     "output_type": "stream",
     "text": [
      "['Câu 1. Đề nghị cho biết, Luật trẻ em năm 2016 quy định những nguyên tắc nào để bảo đảm thực hiện quyền và bổn phận của trẻ em?', 'Các nguyên tắc được Luật Trẻ em 2016 quy định để bảo đảm quyền và bổn phận của trẻ em được thực hiện là gì?', 'Luật Trẻ em năm 2016 quy định những điều khoản nào về nguyên tắc bảo đảm thực hiện quyền và nghĩa vụ của trẻ em?', 'Tìm hiểu các quy định của Luật Trẻ em 2016 về các nguyên tắc cơ bản để bảo vệ và thực hiện quyền lợi của trẻ em.']\n",
      "should=[FieldCondition(key='metadata.LoaiVanBanFilter', match=MatchValue(value='luật'), range=None, geo_bounding_box=None, geo_radius=None, geo_polygon=None, values_count=None, is_empty=None, is_null=None), FieldCondition(key='metadata.NgayBanHanhFilter', match=MatchAny(any=['2016']), range=None, geo_bounding_box=None, geo_radius=None, geo_polygon=None, values_count=None, is_empty=None, is_null=None)] min_should=None must=None must_not=None\n",
      "Query 1 có 25 kết quả\n",
      "should=[FieldCondition(key='metadata.LoaiVanBanFilter', match=MatchValue(value='luật'), range=None, geo_bounding_box=None, geo_radius=None, geo_polygon=None, values_count=None, is_empty=None, is_null=None), FieldCondition(key='metadata.NgayBanHanhFilter', match=MatchAny(any=['2016']), range=None, geo_bounding_box=None, geo_radius=None, geo_polygon=None, values_count=None, is_empty=None, is_null=None)] min_should=None must=None must_not=None\n",
      "Query 2 có 25 kết quả\n",
      "should=[FieldCondition(key='metadata.LoaiVanBanFilter', match=MatchValue(value='luật'), range=None, geo_bounding_box=None, geo_radius=None, geo_polygon=None, values_count=None, is_empty=None, is_null=None), FieldCondition(key='metadata.NgayBanHanhFilter', match=MatchAny(any=['2016']), range=None, geo_bounding_box=None, geo_radius=None, geo_polygon=None, values_count=None, is_empty=None, is_null=None)] min_should=None must=None must_not=None\n",
      "Query 3 có 25 kết quả\n",
      "should=[FieldCondition(key='metadata.LoaiVanBanFilter', match=MatchValue(value='luật'), range=None, geo_bounding_box=None, geo_radius=None, geo_polygon=None, values_count=None, is_empty=None, is_null=None), FieldCondition(key='metadata.NgayBanHanhFilter', match=MatchAny(any=['2016']), range=None, geo_bounding_box=None, geo_radius=None, geo_polygon=None, values_count=None, is_empty=None, is_null=None)] min_should=None must=None must_not=None\n",
      "Query 4 có 25 kết quả\n",
      "Tổng số kết quả tìm được: 100\n",
      "Số document khi xoá trùng 44\n",
      "Số document sau khi qua rerank: 5\n"
     ]
    },
    {
     "name": "stderr",
     "output_type": "stream",
     "text": [
      "Sinh trả lời:   8%|▊         | 97/1204 [1:45:34<18:54:08, 61.47s/it]"
     ]
    },
    {
     "name": "stdout",
     "output_type": "stream",
     "text": [
      "['Câu 2. Do không có tiền chơi game, cháu Đinh Mạnh H, sinh ngày 12/9/2004 nảy sinh ý định lén vào nhà bà Q hàng xóm để ăn trộm. Tối ngày 10/7/2017, lợi dụng lúc bà Q đi tập thể dục, H nhảy qua bờ rào sang lấy trộm chiếc xe đạp của bà Q mang đến hiệu cầm đồ trên phố lấy 300 nghìn đồng. Hành vi của H sau đó bị phát hiện. Hỏi, H có bị xử lý vi phạm hành chính về hành vi của mình không?', 'Hành vi trộm cắp xe đạp của Đinh Mạnh H (sinh năm 2004) có cấu thành vi phạm hành chính theo quy định pháp luật hiện hành không?', 'Trường hợp người chưa thành niên (sinh năm 2004) trộm cắp tài sản (xe đạp) để lấy tiền tiêu xài thì có bị xử phạt vi phạm hành chính không?', 'Hành vi trộm cắp tài sản của người dưới 14 tuổi như trường hợp cháu Đinh Mạnh H có bị xem xét xử lý vi phạm hành chính theo luật định không?']\n",
      "None\n",
      "Query 1 có 25 kết quả\n",
      "None\n",
      "Query 2 có 25 kết quả\n",
      "should=[FieldCondition(key='metadata.NgayBanHanhFilter', match=MatchAny(any=['2004']), range=None, geo_bounding_box=None, geo_radius=None, geo_polygon=None, values_count=None, is_empty=None, is_null=None)] min_should=None must=None must_not=None\n",
      "Query 3 có 0 kết quả\n",
      "None\n",
      "Query 4 có 25 kết quả\n",
      "Tổng số kết quả tìm được: 75\n",
      "Số document khi xoá trùng 50\n",
      "Số document sau khi qua rerank: 5\n"
     ]
    },
    {
     "name": "stderr",
     "output_type": "stream",
     "text": [
      "Sinh trả lời:   8%|▊         | 98/1204 [1:47:05<21:32:47, 70.13s/it]"
     ]
    },
    {
     "name": "stdout",
     "output_type": "stream",
     "text": [
      "['Câu 4. Cháu Nguyễn Phương H ở khu xóm tôi có hoàn cảnh rất đáng thương. Bố cháu mất khi cháu chưa tròn một tuổi. Sau đó không lâu, mẹ đi lấy chồng rồi theo chồng đi làm kinh tế xa, năm bảy năm nay không có tin tức gì. Cháu sống với bà ngoại nay đã gần tám mươi tuổi. Tuy nhiên, do tuổi đã cao, sức yếu, bà chỉ có thể quanh quẩn trong nhà, không làm thêm kiếm sống được nữa. Chính vì vậy, Phương H phải nghỉ học ở nhà làm thuê lấy tiền nuôi hai bà cháu khi mới 13 tuổi. Vậy xin hỏi, cháu H có thuộc đối tượng có hoàn cảnh đặc biệt khó khăn để được hưởng chính sách hỗ trợ của nhà nước không?', 'Cháu Nguyễn Phương H có hoàn cảnh như thế nào thì được coi là đối tượng đặc biệt khó khăn và hưởng chính sách hỗ trợ của nhà nước?', 'Chính sách hỗ trợ của nhà nước dành cho trẻ em có hoàn cảnh đặc biệt khó khăn như trường hợp cháu Nguyễn Phương H được quy định như thế nào?', 'Trường hợp trẻ em mồ côi cha, mẹ đi làm ăn xa, sống với bà ngoại già yếu và phải nghỉ học đi làm thuê như cháu Nguyễn Phương H có đủ điều kiện để nhận hỗ trợ từ nhà nước không?']\n",
      "None\n",
      "Query 1 có 25 kết quả\n",
      "None\n",
      "Query 2 có 25 kết quả\n",
      "None\n",
      "Query 3 có 25 kết quả\n",
      "None\n",
      "Query 4 có 25 kết quả\n",
      "Tổng số kết quả tìm được: 100\n",
      "Số document khi xoá trùng 50\n",
      "Số document sau khi qua rerank: 5\n"
     ]
    },
    {
     "name": "stderr",
     "output_type": "stream",
     "text": [
      "Sinh trả lời:   8%|▊         | 99/1204 [1:48:20<21:59:40, 71.66s/it]"
     ]
    },
    {
     "name": "stdout",
     "output_type": "stream",
     "text": [
      "['Câu 5. “Con là trẻ con, không có quyền gì mà chỉ có duy nhất một nghĩa vụ là ngoan ngoãn nghe lời bố mẹ, ông bà và thầy cô” – đây là những lời mẹ cháu thường hay nói với cháu. Mẹ cháu nói vậy có đúng không? Trẻ em như cháu có những quyền gì? Cháu năm nay đã 13 tuổi.', 'Quy định pháp luật về quyền và nghĩa vụ của trẻ em 13 tuổi được thể hiện như thế nào khi mẹ thường xuyên dạy con chỉ có nghĩa vụ nghe lời?', 'Theo luật pháp Việt Nam, trẻ em 13 tuổi có những quyền gì được bảo vệ, và việc mẹ áp đặt tư tưởng \"chỉ có nghĩa vụ nghe lời\" có phù hợp không?', 'Trẻ em 13 tuổi có quyền gì theo luật trẻ em Việt Nam, và quan điểm \"trẻ con chỉ có nghĩa vụ nghe lời\" có vi phạm quyền của trẻ em không?']\n",
      "None\n",
      "Query 1 có 25 kết quả\n",
      "None\n",
      "Query 2 có 25 kết quả\n",
      "should=[FieldCondition(key='metadata.LoaiVanBanFilter', match=MatchValue(value='luật'), range=None, geo_bounding_box=None, geo_radius=None, geo_polygon=None, values_count=None, is_empty=None, is_null=None)] min_should=None must=None must_not=None\n",
      "Query 3 có 25 kết quả\n",
      "None\n",
      "Query 4 có 25 kết quả\n",
      "Tổng số kết quả tìm được: 100\n",
      "Số document khi xoá trùng 50\n",
      "Số document sau khi qua rerank: 5\n"
     ]
    },
    {
     "name": "stderr",
     "output_type": "stream",
     "text": [
      "Sinh trả lời:   8%|▊         | 100/1204 [1:49:16<20:34:35, 67.10s/it]"
     ]
    },
    {
     "name": "stdout",
     "output_type": "stream",
     "text": [
      "['Câu 6. H.L đang là sinh viên, chưa kết hôn nhưng đã sinh con. Do không có đủ khả năng nuôi con cùng với việc lo sợ dư luận xã hội nên sau sinh 6 ngày cô đã đem đứa trẻ để trước cổng chùa mong có người nhìn thấy em bé thương tình mang về nhà nuôi, nhưng không may đứa trẻ đã bị chết do trời quá lạnh. Cho hỏi trẻ mới sinh ra có quyền được bảo vệ tính mạng không? Trong trường hợp này H.L sẽ bị xử lý như thế nào?', 'Trẻ sơ sinh có quyền được bảo vệ tính mạng theo quy định pháp luật nào? H.L có thể bị truy cứu trách nhiệm hình sự về tội gì trong trường hợp này?', 'Hành vi của H.L cấu thành tội gì theo Bộ luật Hình sự? Trẻ sơ sinh bị bỏ rơi có quyền được bảo vệ tính mạng không?', 'H.L có vi phạm quyền trẻ em không khi bỏ rơi con mới sinh dẫn đến tử vong? Pháp luật Việt Nam quy định như thế nào về bảo vệ trẻ sơ sinh và xử lý hành vi xâm phạm tính mạng trẻ em?']\n",
      "None\n",
      "Query 1 có 25 kết quả\n",
      "None\n",
      "Query 2 có 25 kết quả\n",
      "None\n",
      "Query 3 có 25 kết quả\n",
      "None\n",
      "Query 4 có 25 kết quả\n",
      "Tổng số kết quả tìm được: 100\n",
      "Số document khi xoá trùng 50\n",
      "Số document sau khi qua rerank: 5\n"
     ]
    },
    {
     "name": "stderr",
     "output_type": "stream",
     "text": [
      "Sinh trả lời:   8%|▊         | 101/1204 [1:50:08<19:05:54, 62.33s/it]"
     ]
    },
    {
     "name": "stdout",
     "output_type": "stream",
     "text": [
      "['Câu 7. Vợ chồng tôi đi xuất khẩu lao động ở Đài Loan và đã sinh con ở bên đó, con gái tôi đã gần một tuổi mà vẫn chưa đăng ký khai sinh. Nay vợ chồng tôi đưa cháu về gửi ông bà để tiện công tác. Vậy xin hỏi tôi muốn đăng ký khai sinh cho con ở Việt Nam thì thủ tục như thế nào?', 'Thủ tục đăng ký khai sinh cho con sinh ở Đài Loan về Việt Nam khi bố mẹ đi xuất khẩu lao động được quy định như thế nào?', 'Quy trình và hồ sơ cần thiết để đăng ký khai sinh tại Việt Nam cho con sinh tại Đài Loan của công dân đi xuất khẩu lao động là gì?', 'Vợ chồng đi xuất khẩu lao động sinh con ở nước ngoài, nay muốn đăng ký khai sinh cho con tại Việt Nam cần tuân thủ theo những quy định pháp luật nào?']\n",
      "None\n",
      "Query 1 có 25 kết quả\n",
      "None\n",
      "Query 2 có 25 kết quả\n",
      "None\n",
      "Query 3 có 25 kết quả\n",
      "None\n",
      "Query 4 có 25 kết quả\n",
      "Tổng số kết quả tìm được: 100\n",
      "Số document khi xoá trùng 40\n",
      "Số document sau khi qua rerank: 5\n"
     ]
    },
    {
     "name": "stderr",
     "output_type": "stream",
     "text": [
      "Sinh trả lời:   8%|▊         | 102/1204 [1:50:57<17:56:06, 58.59s/it]"
     ]
    },
    {
     "name": "stdout",
     "output_type": "stream",
     "text": [
      "['Câu 8. Chị gái tôi trên đường đi chợ về thì phát hiện một cháu bé mới sinh nằm trong thùng carton ở bên đường và dòng chữ “Mong anh chị nuôi giúp cháu bé”. Thấy đứa trẻ kháu khỉnh, dễ thương, chị tôi đã mang về nhà chăm sóc chu đáo nhưng chưa biết phải làm gì với đứa trẻ đó. Vậy cho tôi hỏi, trong\\xa0trường hợp này, gia đình tôi phải thông báo với cơ quan nào? Chúng tôi có phải đi đăng ký khai sinh cho đứa trẻ đó không?', 'Trường hợp nhặt được trẻ sơ sinh bị bỏ rơi, gia đình cần thông báo cho cơ quan chức năng nào và thủ tục đăng ký khai sinh cho trẻ được thực hiện như thế nào?', 'Gia đình nhặt được trẻ bị bỏ rơi cần liên hệ cơ quan nào để thông báo theo quy định pháp luật? Quy trình đăng ký khai sinh cho trẻ bị bỏ rơi được thực hiện ra sao?', 'Nhặt được trẻ sơ sinh bị bỏ rơi, gia đình có trách nhiệm thông báo cho cơ quan có thẩm quyền nào? Pháp luật quy định về đăng ký khai sinh cho trẻ bị bỏ rơi như thế nào?']\n",
      "None\n",
      "Query 1 có 25 kết quả\n",
      "None\n",
      "Query 2 có 25 kết quả\n",
      "None\n",
      "Query 3 có 25 kết quả\n",
      "None\n",
      "Query 4 có 25 kết quả\n",
      "Tổng số kết quả tìm được: 100\n",
      "Số document khi xoá trùng 39\n",
      "Số document sau khi qua rerank: 5\n"
     ]
    },
    {
     "name": "stderr",
     "output_type": "stream",
     "text": [
      "Sinh trả lời:   9%|▊         | 103/1204 [1:51:42<16:37:45, 54.37s/it]"
     ]
    },
    {
     "name": "stdout",
     "output_type": "stream",
     "text": [
      "['Câu 9. Tôi chuẩn bị đi làm đăng ký khai sinh cho con trai 20 ngày tuổi, nhưng lại không tìm thấy giấy chứng sinh do bệnh viện cấp. Vậy nếu không thể tìm thấy giấy chứng sinh thì tôi phải làm gì để thực hiện khai sinh cho con?', 'Trường hợp không có giấy chứng sinh thì cần chuẩn bị giấy tờ gì để đăng ký khai sinh cho con 20 ngày tuổi theo quy định pháp luật?', 'Thủ tục đăng ký khai sinh cho con 20 ngày tuổi khi bị mất giấy chứng sinh được bệnh viện cấp được pháp luật quy định như thế nào?', 'Hướng dẫn thủ tục đăng ký khai sinh cho trẻ 20 ngày tuổi khi không có giấy chứng sinh theo quy định hiện hành?']\n",
      "None\n",
      "Query 1 có 25 kết quả\n",
      "should=[FieldCondition(key='metadata.NgayBanHanhFilter', match=MatchAny(any=['2024']), range=None, geo_bounding_box=None, geo_radius=None, geo_polygon=None, values_count=None, is_empty=None, is_null=None)] min_should=None must=None must_not=None\n",
      "Query 2 có 25 kết quả\n",
      "should=[FieldCondition(key='metadata.NgayBanHanhFilter', match=MatchAny(any=['2024']), range=None, geo_bounding_box=None, geo_radius=None, geo_polygon=None, values_count=None, is_empty=None, is_null=None)] min_should=None must=None must_not=None\n",
      "Query 3 có 25 kết quả\n",
      "None\n",
      "Query 4 có 25 kết quả\n",
      "Tổng số kết quả tìm được: 100\n",
      "Số document khi xoá trùng 50\n",
      "Số document sau khi qua rerank: 5\n"
     ]
    },
    {
     "name": "stderr",
     "output_type": "stream",
     "text": [
      "Sinh trả lời:   9%|▊         | 104/1204 [1:52:52<18:03:28, 59.10s/it]"
     ]
    },
    {
     "name": "stdout",
     "output_type": "stream",
     "text": [
      "['Câu 10. Cháu tên là Nguyễn Hoàng Nam, 15 tuổi, nay cháu muốn thay đổi họ tên của cháu thành Kim Nam theo thần tượng âm nhạc của cháu thì có được không? Nếu bố mẹ cháu không cho phép cháu thay đổi thì bố mẹ cháu có vi phạm quyền có họ tên của cháu không?', 'Nguyễn Hoàng Nam, 15 tuổi, muốn đổi tên thành Kim Nam theo thần tượng có được không? Bố mẹ không đồng ý đổi tên có vi phạm quyền có họ tên không?', 'Quy định pháp luật về việc thay đổi họ tên cho người dưới 18 tuổi và quyền của trẻ em trong việc này như thế nào?', 'Việc cha mẹ không cho phép con 15 tuổi thay đổi họ tên theo sở thích cá nhân có trái với quy định về quyền nhân thân của con cái không?']\n",
      "None\n",
      "Query 1 có 25 kết quả\n",
      "None\n",
      "Query 2 có 25 kết quả\n",
      "None\n",
      "Query 3 có 25 kết quả\n",
      "None\n",
      "Query 4 có 25 kết quả\n",
      "Tổng số kết quả tìm được: 100\n",
      "Số document khi xoá trùng 48\n",
      "Số document sau khi qua rerank: 5\n"
     ]
    },
    {
     "name": "stderr",
     "output_type": "stream",
     "text": [
      "Sinh trả lời:   9%|▊         | 105/1204 [1:53:50<17:55:25, 58.71s/it]"
     ]
    },
    {
     "name": "stdout",
     "output_type": "stream",
     "text": [
      "['Câu 11. Kết hôn đã lâu nhưng không có con, vợ chồng tôi nhờ một người em bên chồng mang thai hộ. Xin hỏi tên cha mẹ trong giấy khai sinh của bé sẽ ghi tên ai? Thủ tục khai sinh cho trẻ sinh ra do nhờ mang thai hộ như thế nào?', 'Trường hợp vợ chồng nhờ mang thai hộ, giấy khai sinh của con ghi tên cha mẹ như thế nào và thủ tục pháp lý liên quan?', 'Quy định pháp luật về xác định cha mẹ trong giấy khai sinh của trẻ sinh ra từ mang thai hộ và trình tự thực hiện thủ tục khai sinh?', 'Hướng dẫn chi tiết về việc ghi tên cha mẹ trong giấy khai sinh và thủ tục đăng ký khai sinh cho trẻ em sinh ra do mang thai hộ theo quy định hiện hành?']\n",
      "None\n",
      "Query 1 có 25 kết quả\n",
      "None\n",
      "Query 2 có 25 kết quả\n",
      "should=[FieldCondition(key='metadata.NgayBanHanhFilter', match=MatchAny(any=['yyyy']), range=None, geo_bounding_box=None, geo_radius=None, geo_polygon=None, values_count=None, is_empty=None, is_null=None)] min_should=None must=None must_not=None\n",
      "Query 3 có 0 kết quả\n",
      "None\n",
      "Query 4 có 25 kết quả\n",
      "Tổng số kết quả tìm được: 75\n",
      "Số document khi xoá trùng 37\n",
      "Số document sau khi qua rerank: 5\n"
     ]
    },
    {
     "name": "stderr",
     "output_type": "stream",
     "text": [
      "Sinh trả lời:   9%|▉         | 106/1204 [1:54:31<16:16:27, 53.36s/it]"
     ]
    },
    {
     "name": "stdout",
     "output_type": "stream",
     "text": [
      "['Câu 12. Chồng tôi là người Việt nhưng mang quốc tịch Pháp. Tôi sắp sinh con tại Việt Nam và vợ chồng tôi muốn được tư vấn để làm khai sinh cho con tôi theo quốc tịch của bố. Xin hỏi tôi cần những giấy tờ gì? Thủ tục đăng ký khai sinh cho con tôi như thế nào?', 'Hồ sơ cần thiết để đăng ký khai sinh cho con mang quốc tịch Pháp của người cha Việt Nam là gì? Thủ tục pháp lý liên quan đến việc này như thế nào?', 'Tôi muốn đăng ký khai sinh cho con tại Việt Nam theo quốc tịch Pháp của bố (là người Việt Nam). Xin hỏi cần chuẩn bị những giấy tờ gì và quy trình thực hiện ra sao?', 'Vợ chồng tôi (chồng quốc tịch Pháp gốc Việt) sắp sinh con tại Việt Nam, cần tư vấn về thủ tục và giấy tờ để đăng ký khai sinh cho con theo quốc tịch của bố.']\n",
      "None\n",
      "Query 1 có 25 kết quả\n",
      "None\n",
      "Query 2 có 25 kết quả\n",
      "None\n",
      "Query 3 có 25 kết quả\n",
      "None\n",
      "Query 4 có 25 kết quả\n",
      "Tổng số kết quả tìm được: 100\n",
      "Số document khi xoá trùng 45\n",
      "Số document sau khi qua rerank: 5\n"
     ]
    },
    {
     "name": "stderr",
     "output_type": "stream",
     "text": [
      "Sinh trả lời:   9%|▉         | 107/1204 [1:55:25<16:18:38, 53.53s/it]"
     ]
    },
    {
     "name": "stdout",
     "output_type": "stream",
     "text": [
      "['Câu 13. Tôi được biết trẻ em dưới 06 tuổi được cấp thẻ bảo hiểm y tế miễn phí, tuy nhiên đối với trẻ sơ sinh thì tôi không rõ cần những giấy tờ gì và nộp ở đâu để trẻ được cấp thẻ?', 'Hồ sơ và thủ tục cấp thẻ bảo hiểm y tế miễn phí cho trẻ sơ sinh dưới 6 tuổi được quy định như thế nào và nộp ở đâu?', 'Trẻ em dưới 6 tuổi được cấp bảo hiểm y tế miễn phí, vậy cần chuẩn bị những giấy tờ gì cho trẻ sơ sinh và nộp ở cơ quan nào để được cấp thẻ bảo hiểm?', 'Quy trình, thủ tục và địa điểm nộp hồ sơ để trẻ sơ sinh được hưởng chế độ cấp thẻ bảo hiểm y tế miễn phí theo quy định hiện hành là gì?']\n",
      "None\n",
      "Query 1 có 25 kết quả\n",
      "None\n",
      "Query 2 có 25 kết quả\n",
      "None\n",
      "Query 3 có 25 kết quả\n",
      "None\n",
      "Query 4 có 25 kết quả\n",
      "Tổng số kết quả tìm được: 100\n",
      "Số document khi xoá trùng 50\n",
      "Số document sau khi qua rerank: 5\n"
     ]
    },
    {
     "name": "stderr",
     "output_type": "stream",
     "text": [
      "Sinh trả lời:   9%|▉         | 108/1204 [1:56:27<17:06:31, 56.20s/it]"
     ]
    },
    {
     "name": "stdout",
     "output_type": "stream",
     "text": [
      "['Câu 14. Con gái tôi 3 tuổi chưa có thẻ bảo hiểm y tế, tuần trước cháu có bị bệnh phải cấp cứu tại Bệnh viện nhi Trung ương. Nay, cháu vẫn đang phải nằm viện điều trị. Xin hỏi, con tôi có được hưởng quyền lợi bảo hiểm y tế không? Nếu có thì theo mức nào?', 'Con gái 3 tuổi chưa có bảo hiểm y tế nhập viện cấp cứu thì có được hưởng quyền lợi bảo hiểm và mức hưởng như thế nào theo quy định pháp luật?', 'Trường hợp con tôi 3 tuổi chưa có thẻ bảo hiểm y tế phải nhập viện điều trị thì có được hưởng bảo hiểm y tế không và quyền lợi bảo hiểm y tế cho trẻ em dưới 6 tuổi chưa có thẻ BHYT được quy định như thế nào?', 'Con tôi chưa có bảo hiểm y tế, nhập viện cấp cứu có được thanh toán bảo hiểm không? Mức hưởng bảo hiểm y tế trong trường hợp cấp cứu đối với trẻ em chưa có thẻ BHYT là bao nhiêu?']\n",
      "None\n",
      "Query 1 có 25 kết quả\n",
      "None\n",
      "Query 2 có 25 kết quả\n",
      "None\n",
      "Query 3 có 25 kết quả\n",
      "None\n",
      "Query 4 có 25 kết quả\n",
      "Tổng số kết quả tìm được: 100\n",
      "Số document khi xoá trùng 50\n",
      "Số document sau khi qua rerank: 5\n"
     ]
    },
    {
     "name": "stderr",
     "output_type": "stream",
     "text": [
      "Sinh trả lời:   9%|▉         | 109/1204 [1:57:52<19:42:00, 64.77s/it]"
     ]
    },
    {
     "name": "stdout",
     "output_type": "stream",
     "text": [
      "['Câu 15. Con trai tôi đang học lớp 5 có đóng bảo hiểm y tế ở trường học nhưng tôi không rõ bảo hiểm y tế ở trường học được hưởng những quyền lợi gì? Tôi đưa cháu đi chữa bệnh thì có được chi trả chi phí khám chữa bệnh không?', 'Con trai tôi học lớp 5 có bảo hiểm y tế ở trường thì được hưởng những quyền lợi khám chữa bệnh nào theo quy định pháp luật hiện hành?', 'Bảo hiểm y tế học sinh lớp 5 có những quyền lợi gì về chi trả chi phí khám chữa bệnh theo quy định của pháp luật bảo hiểm y tế?', 'Quy định pháp luật hiện hành về bảo hiểm y tế cho học sinh, cụ thể là học sinh lớp 5, bao gồm những quyền lợi và mức chi trả khám chữa bệnh nào?']\n",
      "None\n",
      "Query 1 có 25 kết quả\n",
      "None\n",
      "Query 2 có 25 kết quả\n",
      "None\n",
      "Query 3 có 25 kết quả\n",
      "None\n",
      "Query 4 có 25 kết quả\n",
      "Tổng số kết quả tìm được: 100\n",
      "Số document khi xoá trùng 47\n",
      "Số document sau khi qua rerank: 5\n"
     ]
    },
    {
     "name": "stderr",
     "output_type": "stream",
     "text": [
      "Sinh trả lời:   9%|▉         | 110/1204 [1:58:58<19:48:06, 65.16s/it]"
     ]
    },
    {
     "name": "stdout",
     "output_type": "stream",
     "text": [
      "['Câu 16. Đề nghị cho biết quyền được chăm sóc, nuôi dưỡng của trẻ em được pháp luật quy định như thế nào?', 'Quy định pháp luật hiện hành về quyền của trẻ em được chăm sóc và nuôi dưỡng được thể hiện như thế nào?', 'Pháp luật Việt Nam quy định những nội dung gì về quyền được chăm sóc, nuôi dưỡng của trẻ em?', 'Tìm hiểu các điều khoản pháp lý liên quan đến quyền lợi chăm sóc và nuôi dưỡng trẻ em theo luật định.']\n",
      "None\n",
      "Query 1 có 25 kết quả\n",
      "None\n",
      "Query 2 có 25 kết quả\n",
      "None\n",
      "Query 3 có 25 kết quả\n",
      "None\n",
      "Query 4 có 25 kết quả\n",
      "Tổng số kết quả tìm được: 100\n",
      "Số document khi xoá trùng 40\n",
      "Số document sau khi qua rerank: 5\n"
     ]
    },
    {
     "name": "stderr",
     "output_type": "stream",
     "text": [
      "Sinh trả lời:   9%|▉         | 111/1204 [1:59:40<17:40:21, 58.21s/it]"
     ]
    },
    {
     "name": "stdout",
     "output_type": "stream",
     "text": [
      "['Câu 17. Tuần trước, xem tivi tôi được biết về vụ việc bố mẹ bắt con nghỉ học, đi biểu tình để phản đối xây trung tâm thương mại tại địa phương. Việc làm của bố mẹ các cháu có vi phạm quyền học tập của trẻ em không? Pháp luật quy định việc bảo đảm về giáo dục cho trẻ em như thế nào?', 'Việc cha mẹ ép con bỏ học tham gia biểu tình phản đối xây dựng trung tâm thương mại có vi phạm quyền học tập của trẻ em theo pháp luật Việt Nam không?', 'Quy định pháp luật hiện hành về bảo đảm quyền được giáo dục của trẻ em được thể hiện như thế nào trong trường hợp cha mẹ ngăn cản con đi học?', 'Hành vi cản trở quyền học tập của trẻ em, cụ thể là việc cha mẹ bắt con nghỉ học để tham gia biểu tình, bị xử lý theo quy định pháp luật về bảo vệ trẻ em như thế nào?']\n",
      "None\n",
      "Query 1 có 25 kết quả\n",
      "None\n",
      "Query 2 có 25 kết quả\n",
      "None\n",
      "Query 3 có 25 kết quả\n",
      "None\n",
      "Query 4 có 25 kết quả\n",
      "Tổng số kết quả tìm được: 100\n",
      "Số document khi xoá trùng 49\n",
      "Số document sau khi qua rerank: 5\n"
     ]
    },
    {
     "name": "stderr",
     "output_type": "stream",
     "text": [
      "Sinh trả lời:   9%|▉         | 112/1204 [2:01:01<19:43:22, 65.02s/it]"
     ]
    },
    {
     "name": "stdout",
     "output_type": "stream",
     "text": [
      "['Câu 18. Anh Dũng là chủ cở sở sản xuất hàng mây tre đan. Hiện tại, anh đang cần nhiều lao động để làm các công đoạn nhỏ, vì để tiết kiệm chi phí nhân công nên anh mời gọi các cháu nhỏ đến làm cho anh. Anh cho tiền, mua bánh kẹo để dụ dỗ các em ấy bỏ học đến làm. Việc làm của anh Dũng có vi phạm pháp luật không? Nếu có thì mức xử phạt như thế nào?', 'Hành vi của anh Dũng dụ dỗ trẻ em làm việc có vi phạm quy định pháp luật lao động không và chế tài xử phạt cụ thể là gì?', 'Anh Dũng thuê trẻ em làm việc và dụ dỗ bằng tiền, bánh kẹo có phải là hành vi bị cấm theo luật lao động hiện hành không, và mức phạt cho hành vi này là bao nhiêu?', 'Việc sử dụng lao động trẻ em trái quy định pháp luật của anh Dũng sẽ bị xử lý như thế nào theo các điều khoản của Bộ luật Lao động và các văn bản pháp luật liên quan?']\n",
      "None\n",
      "Query 1 có 25 kết quả\n",
      "None\n",
      "Query 2 có 25 kết quả\n",
      "None\n",
      "Query 3 có 25 kết quả\n",
      "None\n",
      "Query 4 có 25 kết quả\n",
      "Tổng số kết quả tìm được: 100\n",
      "Số document khi xoá trùng 50\n",
      "Số document sau khi qua rerank: 5\n"
     ]
    },
    {
     "name": "stderr",
     "output_type": "stream",
     "text": [
      "Sinh trả lời:   9%|▉         | 113/1204 [2:02:45<23:17:55, 76.88s/it]"
     ]
    },
    {
     "name": "stdout",
     "output_type": "stream",
     "text": [
      "['Câu 19. Gia đình tôi đang tranh luận nhau về kế hoạch nghỉ hè của cậu con trai 10 tuổi. Vợ chồng tôi dự định sẽ cho con tham gia học kỳ quân đội, sau đó đến lớp học võ, học bơi, cuối tuần học tiếng Anh. Con trai tôi thì muốn đi du lịch biển, rồi về hai bên nội, ngoại chơi, cuối tuần được bố mẹ cho đi thăm vườn bách thú, các sân chơi hướng nghiệp hoặc các khu nhà vườn ở ngoại ô…Cháu còn nói “Bố mẹ mà không cho con đi chơi là vi phạm quyền của trẻ em đó ạ”. Xin hỏi, con trai tôi nói vậy có đúng không? Pháp luật có quy định quyền vui chơi của trẻ em không?', 'Quy định pháp luật Việt Nam về quyền vui chơi, giải trí của trẻ em được thể hiện cụ thể trong văn bản pháp lý nào?', 'Con trai 10 tuổi có quyền vui chơi giải trí không và pháp luật bảo vệ quyền này như thế nào trong trường hợp cha mẹ không đáp ứng?', 'Trẻ em có quyền được vui chơi giải trí không? Nếu có, quyền này được quy định cụ thể tại điều khoản, văn bản pháp luật nào của Việt Nam?']\n",
      "None\n",
      "Query 1 có 25 kết quả\n",
      "None\n",
      "Query 2 có 25 kết quả\n",
      "None\n",
      "Query 3 có 25 kết quả\n",
      "None\n",
      "Query 4 có 25 kết quả\n",
      "Tổng số kết quả tìm được: 100\n",
      "Số document khi xoá trùng 50\n",
      "Số document sau khi qua rerank: 5\n"
     ]
    },
    {
     "name": "stderr",
     "output_type": "stream",
     "text": [
      "Sinh trả lời:   9%|▉         | 114/1204 [2:03:55<22:37:30, 74.72s/it]"
     ]
    },
    {
     "name": "stdout",
     "output_type": "stream",
     "text": [
      "['Câu 20. Cháu và em trai học chung một trường. Vừa rồi, trường cháu tổ chức buổi đi tham quan ở rừng quốc gia Cúc Phương. Cháu và em trai đều muốn đi nhưng bố cháu lại chỉ cho em trai cháu đi, còn cháu là chị thì phải nhường em, ở nhà phụ giúp bố mẹ bán quán cơm. Đây không phải lần đầu, đã rất nhiều lần em cháu được bố mẹ cho đi chơi, tham gia các hoạt động văn hóa, văn nghệ ở trường, ở xã nhưng cháu thì không được đi. Cháu rất ấm ức vì việc phân biệt đối xử của bố mẹ cháu. Bố mẹ cháu làm vậy có đúng không?', 'Có phải hành vi của cha mẹ phân biệt đối xử giữa con trai và con gái là vi phạm pháp luật về quyền trẻ em không?', 'Việc cha mẹ thường xuyên cho con trai tham gia các hoạt động vui chơi giải trí mà không cho con gái có vi phạm Luật Bình đẳng giới không?', 'Pháp luật Việt Nam có quy định nào về việc bảo vệ quyền lợi của con cái khi bị cha mẹ đối xử bất công, phân biệt đối xử không?']\n",
      "None\n",
      "Query 1 có 25 kết quả\n",
      "None\n",
      "Query 2 có 25 kết quả\n",
      "None\n",
      "Query 3 có 25 kết quả\n",
      "None\n",
      "Query 4 có 25 kết quả\n",
      "Tổng số kết quả tìm được: 100\n",
      "Số document khi xoá trùng 50\n",
      "Số document sau khi qua rerank: 5\n"
     ]
    },
    {
     "name": "stderr",
     "output_type": "stream",
     "text": [
      "Sinh trả lời:  10%|▉         | 115/1204 [2:05:49<26:08:51, 86.44s/it]"
     ]
    },
    {
     "name": "stdout",
     "output_type": "stream",
     "text": [
      "['Câu 21. Hiện nay, phần không gian diện tích công cộng làm sân chơi cho trẻ em tại nhiều chung cư trên địa bàn Hà Nội đang bị lấn chiếm nghiêm trọng. Rất nhiều sân chơi bị biến thành địa điểm trông giữ xe, kinh doanh cà phê, bán đồ ăn, bán nước, mở dịch vụ…\\xa0Việc lấn chiếm đất công cộng như trên sẽ bị xử lý như thế nào?', 'Xử phạt hành vi lấn chiếm không gian công cộng làm sân chơi trẻ em tại chung cư Hà Nội theo quy định pháp luật hiện hành như thế nào?', 'Quy định pháp luật về xử lý vi phạm lấn chiếm diện tích công cộng, biến sân chơi trẻ em thành nơi kinh doanh dịch vụ tại các khu chung cư được áp dụng ra sao?', 'Hành vi chiếm dụng trái phép đất công cộng tại chung cư, cụ thể là sân chơi trẻ em, bị xử phạt hành chính hay hình sự theo luật đất đai và xây dựng?']\n",
      "None\n",
      "Query 1 có 25 kết quả\n",
      "None\n",
      "Query 2 có 25 kết quả\n",
      "None\n",
      "Query 3 có 25 kết quả\n",
      "None\n",
      "Query 4 có 25 kết quả\n",
      "Tổng số kết quả tìm được: 100\n",
      "Số document khi xoá trùng 50\n",
      "Số document sau khi qua rerank: 5\n"
     ]
    },
    {
     "name": "stderr",
     "output_type": "stream",
     "text": [
      "Sinh trả lời:  10%|▉         | 116/1204 [2:07:29<27:21:42, 90.54s/it]"
     ]
    },
    {
     "name": "stdout",
     "output_type": "stream",
     "text": [
      "['Câu 22. Công ty TNHH MB thành lập từ năm 2012, có trụ sở cạnh vườn hoa LTT là khu vui chơi, giải trí của các em nhỏ xã VH. Năm 2016, Công ty MB xây dựng 02 xưởng tái chế hạt nhựa. Từ đó, khói bụi và mùi khét tỏa ra từ 02 xưởng sản xuất này khiến cho các em nhỏ không dám đến vườn hoa vui chơi. Công ty TNHH MB có phải chịu trách nhiệm gì không?', 'Công ty TNHH MB gây ô nhiễm môi trường từ hoạt động tái chế nhựa, trách nhiệm pháp lý được quy định như thế nào?', 'Công ty TNHH MB xây dựng xưởng tái chế gây ảnh hưởng đến khu vui chơi trẻ em, vậy công ty này có vi phạm quy định pháp luật nào không?', 'Công ty TNHH MB có phải chịu trách nhiệm bồi thường thiệt hại do ô nhiễm môi trường gây ảnh hưởng đến sức khỏe và hoạt động vui chơi của trẻ em không?']\n",
      "should=[FieldCondition(key='metadata.NgayBanHanhFilter', match=MatchAny(any=['2012']), range=None, geo_bounding_box=None, geo_radius=None, geo_polygon=None, values_count=None, is_empty=None, is_null=None)] min_should=None must=None must_not=None\n",
      "Query 1 có 25 kết quả\n",
      "None\n",
      "Query 2 có 25 kết quả\n",
      "None\n",
      "Query 3 có 25 kết quả\n",
      "None\n",
      "Query 4 có 25 kết quả\n",
      "Tổng số kết quả tìm được: 100\n",
      "Số document khi xoá trùng 50\n",
      "Số document sau khi qua rerank: 5\n"
     ]
    },
    {
     "name": "stderr",
     "output_type": "stream",
     "text": [
      "Sinh trả lời:  10%|▉         | 117/1204 [2:09:27<29:50:18, 98.82s/it]"
     ]
    },
    {
     "name": "stdout",
     "output_type": "stream",
     "text": [
      "['Câu 23. Huyền từng\\xa0bị bạn bè xa lánh, chế giễu, thậm chí có những lời nói miệt thị ác ý nhắm vào em chỉ vì ngoại hình quá béo của mình. Thậm chí, các bạn em còn đăng ảnh chế nhạo Huyền lên mạng xã hội facebook và có những lời bình luận xúc phạm danh dự của em….Việc này, khiến Huyền sống trong tự ti, trầm cảm và không có nhiều bạn bè. Việc làm của các bạn Huyền có vi phạm pháp luật không? Nếu có thì sẽ bị xử lý như thế nào?', 'Hành vi xa lánh, chế giễu, miệt thị, xúc phạm danh dự người khác trên mạng xã hội có vi phạm pháp luật Việt Nam không và bị xử lý như thế nào?', 'Các hành vi bạo lực tinh thần, xúc phạm nhân phẩm người khác, đặc biệt là trên mạng xã hội, có bị coi là vi phạm pháp luật và chế tài xử phạt theo quy định hiện hành?', 'Hành vi bêu riếu, xúc phạm danh dự người khác trên mạng xã hội Facebook có cấu thành tội phạm theo luật hình sự Việt Nam và khung hình phạt áp dụng là gì?']\n",
      "None\n",
      "Query 1 có 25 kết quả\n",
      "None\n",
      "Query 2 có 25 kết quả\n",
      "None\n",
      "Query 3 có 25 kết quả\n",
      "None\n",
      "Query 4 có 25 kết quả\n",
      "Tổng số kết quả tìm được: 100\n",
      "Số document khi xoá trùng 45\n",
      "Số document sau khi qua rerank: 5\n"
     ]
    },
    {
     "name": "stderr",
     "output_type": "stream",
     "text": [
      "Sinh trả lời:  10%|▉         | 118/1204 [2:10:32<26:45:36, 88.71s/it]"
     ]
    },
    {
     "name": "stdout",
     "output_type": "stream",
     "text": [
      "['Câu 24. Linh 11 tuổi đang sinh sống và học tập ở Nghệ An. Nay, cả gia đình chuyển ra Hà Nội sinh sống. Khi đến lớp, do thói quen, Linh thường sử dụng phương ngữ miền Trung nên bị các bạn trêu chọc, nhại giọng kèm theo thái độ giễu cợt, chế nhạo là đồ nói ngọng, nói như chim hót...khiến Linh rất buồn và không muốn đi học. Xin hỏi, Linh có quyền sử dụng tiếng miền Trung để giao tiếp không? Các bạn của Linh làm vậy có vi phạm pháp luật không?', 'Linh 11 tuổi sử dụng phương ngữ miền Trung ở trường và bị trêu chọc, vậy em có quyền dùng tiếng địa phương không và hành vi trêu chọc đó có vi phạm pháp luật không?', 'Quy định pháp luật về quyền sử dụng ngôn ngữ của trẻ em, cụ thể là phương ngữ, và trách nhiệm của người khác khi có hành vi kỳ thị ngôn ngữ được quy định như thế nào?', 'Hành vi trêu chọc, miệt thị người khác vì sử dụng phương ngữ có bị coi là vi phạm quyền trẻ em hay không theo luật pháp Việt Nam?']\n",
      "None\n",
      "Query 1 có 25 kết quả\n",
      "None\n",
      "Query 2 có 25 kết quả\n",
      "should=[FieldCondition(key='metadata.NgayBanHanhFilter', match=MatchAny(any=['yyyy']), range=None, geo_bounding_box=None, geo_radius=None, geo_polygon=None, values_count=None, is_empty=None, is_null=None)] min_should=None must=None must_not=None\n",
      "Query 3 có 0 kết quả\n",
      "None\n",
      "Query 4 có 25 kết quả\n",
      "Tổng số kết quả tìm được: 75\n",
      "Số document khi xoá trùng 50\n",
      "Số document sau khi qua rerank: 5\n"
     ]
    },
    {
     "name": "stderr",
     "output_type": "stream",
     "text": [
      "Sinh trả lời:  10%|▉         | 119/1204 [2:11:45<25:18:21, 83.96s/it]"
     ]
    },
    {
     "name": "stdout",
     "output_type": "stream",
     "text": [
      "['Câu 25. Bố mẹ cháu ly hôn, cháu được Tòa quyết định giao cho mẹ nuôi. Vì cháu theo đạo thiên chúa giống bố nên mẹ ép buộc cháu phải từ bỏ đạo, cấm không cho đi nhà thờ, đọc kinh cầu nguyện…Việc làm của mẹ cháu có vi phạm pháp luật không? Cháu năm nay 12 tuổi.', 'Mẹ ép con 12 tuổi theo đạo khác có vi phạm quyền tự do tín ngưỡng không?', 'Quy định pháp luật về quyền tự do tín ngưỡng của trẻ em trong trường hợp ly hôn và sống với cha/mẹ như thế nào?', 'Hành vi cấm đoán, ép buộc thay đổi tôn giáo đối với trẻ em 12 tuổi sau ly hôn có bị coi là vi phạm pháp luật không?']\n",
      "None\n",
      "Query 1 có 25 kết quả\n",
      "None\n",
      "Query 2 có 25 kết quả\n",
      "None\n",
      "Query 3 có 25 kết quả\n",
      "None\n",
      "Query 4 có 25 kết quả\n",
      "Tổng số kết quả tìm được: 100\n",
      "Số document khi xoá trùng 50\n",
      "Số document sau khi qua rerank: 5\n"
     ]
    },
    {
     "name": "stderr",
     "output_type": "stream",
     "text": [
      "Sinh trả lời:  10%|▉         | 120/1204 [2:12:37<22:25:08, 74.45s/it]"
     ]
    },
    {
     "name": "stdout",
     "output_type": "stream",
     "text": [
      "['Câu 26. Tôi được biết hiện nay có nhiều trẻ em tham gia một số công việc phù hợp với độ tuổi hay được tặng cho nên có tài sản riêng thậm chí số tài sản riêng rất lớn. Vậy pháp luật quy định về quyền tài sản của trẻ em như thế nào? Ai có quyền quản lý, định đoạt tài sản riêng của trẻ em?', 'Pháp luật Việt Nam quy định về quyền tài sản của trẻ em có tài sản riêng như thế nào? Ai là người có quyền quản lý và định đoạt tài sản đó theo quy định pháp luật?', 'Quy định pháp luật hiện hành về quyền tài sản của trẻ em, đặc biệt là trẻ em có tài sản riêng từ lao động phù hợp độ tuổi hoặc được tặng cho, bao gồm những nội dung gì? Ai có thẩm quyền quản lý tài sản riêng của trẻ em theo luật?', 'Tìm hiểu các điều khoản pháp lý liên quan đến quyền sở hữu tài sản của trẻ em theo luật dân sự Việt Nam. Ai là người đại diện hợp pháp để quản lý, sử dụng và định đoạt tài sản riêng của trẻ em vị thành niên?']\n",
      "None\n",
      "Query 1 có 25 kết quả\n",
      "None\n",
      "Query 2 có 25 kết quả\n",
      "None\n",
      "Query 3 có 25 kết quả\n",
      "None\n",
      "Query 4 có 25 kết quả\n",
      "Tổng số kết quả tìm được: 100\n",
      "Số document khi xoá trùng 38\n",
      "Số document sau khi qua rerank: 5\n"
     ]
    },
    {
     "name": "stderr",
     "output_type": "stream",
     "text": [
      "Sinh trả lời:  10%|█         | 121/1204 [2:13:23<19:49:54, 65.92s/it]"
     ]
    },
    {
     "name": "stdout",
     "output_type": "stream",
     "text": [
      "['Câu 27. Cháu trai tôi năm nay 15 tuổi, tôi dự định cho cháu một căn nhà và đất ở trên tỉnh để cháu có nơi ăn ở, học tập và làm việc sau này. Cháu vẫn ở độ tuổi chưa thành niên vậy liệu cháu có thể đứng tên trên Giấy chứng nhận quyền sử dụng đất không?', 'Cháu trai 15 tuổi có được đứng tên trên Giấy chứng nhận quyền sử dụng đất theo quy định pháp luật hiện hành không?', 'Điều kiện và thủ tục để người chưa thành niên 15 tuổi được nhận tặng cho nhà đất và đứng tên trên Giấy chứng nhận quyền sử dụng đất?', 'Quy định pháp luật về việc người chưa thành niên 15 tuổi có quyền sở hữu bất động sản và đứng tên trên Giấy chứng nhận quyền sử dụng đất như thế nào?']\n",
      "None\n",
      "Query 1 có 25 kết quả\n",
      "None\n",
      "Query 2 có 25 kết quả\n",
      "None\n",
      "Query 3 có 25 kết quả\n",
      "None\n",
      "Query 4 có 25 kết quả\n",
      "Tổng số kết quả tìm được: 100\n",
      "Số document khi xoá trùng 50\n",
      "Số document sau khi qua rerank: 5\n"
     ]
    },
    {
     "name": "stderr",
     "output_type": "stream",
     "text": [
      "Sinh trả lời:  10%|█         | 122/1204 [2:14:36<20:23:03, 67.82s/it]"
     ]
    },
    {
     "name": "stdout",
     "output_type": "stream",
     "text": [
      "['Câu 28. Mặc dù đạt kết quả học tập khá cao, song H.M, học sinh lớp 7 ở một trường THCS trên địa bàn Q.Ba Đình (Hà Nội) lại không vui vẻ khi bị mẹ đưa kết quả học tập lên mạng xã hội facebook. H.M chia sẻ: “Em không muốn trở thành đề tài cho người lớn bình luận. Bên cạnh những lời chúc mừng, có những người ác ý bảo rằng đó là thành tích ảo, điểm khống. Còn bạn bè trêu đùa, bảo em là không bình thường. Em rất giận mẹ”. Việc đưa kết quả học tập của con lên mạng của mẹ H.M có vi phạm quyền của trẻ em không?', 'Hành vi của mẹ H.M đưa kết quả học tập của con lên mạng xã hội có cấu thành hành vi xâm phạm quyền trẻ em theo quy định pháp luật hiện hành không?', 'Việc phụ huynh công khai thông tin học tập của con cái trên mạng xã hội, cụ thể là Facebook, có vi phạm quyền riêng tư của trẻ em theo luật pháp Việt Nam?', 'Quy định pháp luật về bảo vệ quyền trẻ em có điều khoản nào cấm việc cha mẹ tiết lộ thông tin cá nhân, học tập của con cái lên mạng xã hội hay không?']\n",
      "None\n",
      "Query 1 có 25 kết quả\n",
      "None\n",
      "Query 2 có 25 kết quả\n",
      "None\n",
      "Query 3 có 25 kết quả\n",
      "None\n",
      "Query 4 có 25 kết quả\n",
      "Tổng số kết quả tìm được: 100\n",
      "Số document khi xoá trùng 50\n",
      "Số document sau khi qua rerank: 5\n"
     ]
    },
    {
     "name": "stderr",
     "output_type": "stream",
     "text": [
      "Sinh trả lời:  10%|█         | 123/1204 [2:15:58<21:41:05, 72.22s/it]"
     ]
    },
    {
     "name": "stdout",
     "output_type": "stream",
     "text": [
      "['Câu 29. Trẻ em có quyền sống chung với cha mẹ, tuy nhiên thực tế có nhiều em buộc phải cách ly cha mẹ từ nhỏ. Vậy khi bị cách ly cha mẹ thì quyền được chăm sóc, nuôi dưỡng của trẻ em được bảo đảm như thế nào?', 'Trường hợp trẻ em bị cách ly khỏi cha mẹ, pháp luật Việt Nam đảm bảo quyền được chăm sóc và nuôi dưỡng của trẻ em như thế nào?', 'Quy định pháp luật hiện hành về việc bảo vệ quyền lợi chăm sóc, nuôi dưỡng của trẻ em khi các em phải sống cách ly cha mẹ là gì?', 'Khi trẻ em phải cách ly cha mẹ, những biện pháp và chính sách nào được áp dụng để đảm bảo quyền lợi của trẻ theo luật pháp Việt Nam?']\n",
      "None\n",
      "Query 1 có 25 kết quả\n",
      "should=[FieldCondition(key='metadata.NgayBanHanhFilter', match=MatchAny(any=['yyyy']), range=None, geo_bounding_box=None, geo_radius=None, geo_polygon=None, values_count=None, is_empty=None, is_null=None)] min_should=None must=None must_not=None\n",
      "Query 2 có 0 kết quả\n",
      "None\n",
      "Query 3 có 25 kết quả\n",
      "should=[FieldCondition(key='metadata.NgayBanHanhFilter', match=MatchAny(any=['yyyy']), range=None, geo_bounding_box=None, geo_radius=None, geo_polygon=None, values_count=None, is_empty=None, is_null=None)] min_should=None must=None must_not=None\n",
      "Query 4 có 0 kết quả\n",
      "Tổng số kết quả tìm được: 50\n",
      "Số document khi xoá trùng 35\n",
      "Số document sau khi qua rerank: 5\n"
     ]
    },
    {
     "name": "stderr",
     "output_type": "stream",
     "text": [
      "Sinh trả lời:  10%|█         | 124/1204 [2:16:41<19:00:19, 63.35s/it]"
     ]
    },
    {
     "name": "stdout",
     "output_type": "stream",
     "text": [
      "['Câu 30. Vừa qua con trai tôi bị đưa vào trường giáo dưỡng, nay tôi dự định đi thăm nuôi nhưng không biết tôi có được gặp mặt con và con có được nhận quà của tôi hay không?', 'Tôi có được phép thăm gặp con trai đang chấp hành biện pháp giáo dục tại trường giáo dưỡng và gửi quà cho con không, theo quy định pháp luật hiện hành?', 'Quy định pháp luật về việc thăm gặp và gửi quà cho người đang chấp hành biện pháp giáo dục tại trường giáo dưỡng, cụ thể con trai tôi, được quy định như thế nào?', 'Con trai tôi đang ở trường giáo dưỡng thì tôi có quyền thăm nom và gửi đồ dùng cá nhân, quà tặng cho con không, và thủ tục thực hiện quyền này như thế nào?']\n",
      "None\n",
      "Query 1 có 25 kết quả\n",
      "None\n",
      "Query 2 có 25 kết quả\n",
      "None\n",
      "Query 3 có 25 kết quả\n",
      "None\n",
      "Query 4 có 25 kết quả\n",
      "Tổng số kết quả tìm được: 100\n",
      "Số document khi xoá trùng 50\n",
      "Số document sau khi qua rerank: 5\n"
     ]
    },
    {
     "name": "stderr",
     "output_type": "stream",
     "text": [
      "Sinh trả lời:  10%|█         | 125/1204 [2:17:27<17:26:01, 58.17s/it]"
     ]
    },
    {
     "name": "stdout",
     "output_type": "stream",
     "text": [
      "['Câu 31. Tôi và vợ cũ đã ly hôn và có chung đứa con 5 tuổi. Hiện nay, vợ cũ đang nuôi con, nhiều lúc tôi muốn thăm con nhưng gia đình vợ cũ lại ngăn cản. Gia đình vợ cũ tôi làm vậy có đúng không?', 'Sau ly hôn, quyền của người cha không trực tiếp nuôi con đối với việc thăm nom con cái được pháp luật Việt Nam bảo vệ như thế nào, khi bị gia đình bên vợ cũ cản trở?', 'Việc gia đình vợ cũ ngăn cản quyền thăm con sau ly hôn của người cha có vi phạm quy định pháp luật về quyền thăm nom con cái không?', 'Căn cứ theo Luật Hôn nhân và Gia đình, hành vi cản trở quyền thăm nom con của người không trực tiếp nuôi dưỡng có bị coi là vi phạm pháp luật và có chế tài xử lý không?']\n",
      "None\n",
      "Query 1 có 25 kết quả\n",
      "None\n",
      "Query 2 có 25 kết quả\n",
      "None\n",
      "Query 3 có 25 kết quả\n",
      "should=[FieldCondition(key='metadata.LoaiVanBanFilter', match=MatchValue(value='luật'), range=None, geo_bounding_box=None, geo_radius=None, geo_polygon=None, values_count=None, is_empty=None, is_null=None)] min_should=None must=None must_not=None\n",
      "Query 4 có 25 kết quả\n",
      "Tổng số kết quả tìm được: 100\n",
      "Số document khi xoá trùng 50\n",
      "Số document sau khi qua rerank: 5\n"
     ]
    },
    {
     "name": "stderr",
     "output_type": "stream",
     "text": [
      "Sinh trả lời:  10%|█         | 126/1204 [2:18:13<16:19:39, 54.53s/it]"
     ]
    },
    {
     "name": "stdout",
     "output_type": "stream",
     "text": [
      "['Câu 32. Hè này, tôi đang dự định dẫn con gái 10 tuổi vào trại giam thăm bố nhưng lại băn khoăn không biết cháu còn nhỏ thế, có được phép đi thăm gặp phạm nhân hay không? Nếu được thì thủ tục như thế nào?', 'Con gái 10 tuổi có được phép thăm gặp phạm nhân đang chấp hành án phạt tù không, và quy định pháp luật liên quan đến thủ tục thăm gặp phạm nhân cho trẻ em là gì?', 'Quy định pháp luật hiện hành về việc cho phép trẻ em dưới 16 tuổi thăm gặp người thân đang thi hành án trong trại giam, bao gồm những điều kiện và thủ tục cụ thể nào?', 'Hướng dẫn chi tiết về thủ tục, hồ sơ cần thiết để xin phép cho con gái 10 tuổi thăm bố đang ở trại giam, theo quy định của Luật Thi hành án hình sự và các văn bản pháp luật liên quan.']\n",
      "None\n",
      "Query 1 có 25 kết quả\n",
      "None\n",
      "Query 2 có 25 kết quả\n",
      "None\n",
      "Query 3 có 25 kết quả\n",
      "should=[FieldCondition(key='metadata.LoaiVanBanFilter', match=MatchValue(value='luật'), range=None, geo_bounding_box=None, geo_radius=None, geo_polygon=None, values_count=None, is_empty=None, is_null=None)] min_should=None must=None must_not=None\n",
      "Query 4 có 25 kết quả\n",
      "Tổng số kết quả tìm được: 100\n",
      "Số document khi xoá trùng 50\n",
      "Số document sau khi qua rerank: 5\n"
     ]
    },
    {
     "name": "stderr",
     "output_type": "stream",
     "text": [
      "Sinh trả lời:  11%|█         | 127/1204 [2:19:23<17:45:34, 59.36s/it]"
     ]
    },
    {
     "name": "stdout",
     "output_type": "stream",
     "text": [
      "['Câu 33. Gia đình Tuấn thuộc diện hộ nghèo. Một lần khi đi thăm bà con ở xa, cha mẹ Tuấn đã bị tai nạn ôtô và chết. Tuấn có hai người thân là cô ruột và cậu ruột nhưng gia đình họ đều đông con và rất khó khăn. Nếu Tuấn được cô hoặc cậu nhận nuôi thì em có được hưởng trợ cấp gì không? Cụ thể là như thế nào? Tuấn năm nay 12 tuổi.', 'Nếu Tuấn, 12 tuổi, mồ côi do tai nạn và thuộc diện hộ nghèo, được cô hoặc cậu ruột nhận nuôi thì có những chính sách trợ cấp nào áp dụng không?', 'Trường hợp trẻ em 12 tuổi mồ côi cả cha lẫn mẹ do tai nạn giao thông, thuộc hộ nghèo, và được người thân nhận nuôi thì có được hưởng các khoản trợ cấp xã hội theo quy định pháp luật hiện hành không?', 'Theo quy định pháp luật, trẻ em 12 tuổi mồ côi cha mẹ do tai nạn, gia đình thuộc diện hộ nghèo, được cô hoặc cậu ruột nhận nuôi thì có thuộc đối tượng được hưởng trợ cấp nuôi dưỡng không?']\n",
      "None\n",
      "Query 1 có 25 kết quả\n",
      "None\n",
      "Query 2 có 25 kết quả\n",
      "None\n",
      "Query 3 có 25 kết quả\n",
      "None\n",
      "Query 4 có 25 kết quả\n",
      "Tổng số kết quả tìm được: 100\n",
      "Số document khi xoá trùng 46\n",
      "Số document sau khi qua rerank: 5\n"
     ]
    },
    {
     "name": "stderr",
     "output_type": "stream",
     "text": [
      "Sinh trả lời:  11%|█         | 128/1204 [2:20:20<17:28:27, 58.46s/it]"
     ]
    },
    {
     "name": "stdout",
     "output_type": "stream",
     "text": [
      "['Câu 34. Gia đình anh trai tôi khó khăn lại đông con, còn vợ chồng tôi thì cưới nhau đã hơn 7 năm mà chưa có con nên vợ chồng tôi muốn nhận nuôi một đứa con của anh trai để cháu có điều kiện ăn học tốt hơn thì có được không? Pháp luật quy định điều kiện người được nhận làm con nuôi như thế nào? Người cháu mà vợ chồng tôi muốn nhận nuôi năm nay 5 tuổi.', 'Vợ chồng tôi muốn nhận con nuôi là cháu ruột 5 tuổi vì gia đình anh trai khó khăn, vậy pháp luật quy định về điều kiện nhận con nuôi trong trường hợp này như thế nào?', 'Việc nhận nuôi con ruột của anh trai có được pháp luật cho phép không khi gia đình tôi không có con và cháu tôi 5 tuổi? Xin hỏi về các quy định pháp lý liên quan.', 'Theo Luật Nuôi con nuôi, trường hợp gia đình có nhu cầu nhận nuôi con ruột của anh trai (cháu 5 tuổi) thì cần đáp ứng những điều kiện và thủ tục gì?']\n",
      "None\n",
      "Query 1 có 25 kết quả\n",
      "None\n",
      "Query 2 có 25 kết quả\n",
      "None\n",
      "Query 3 có 25 kết quả\n",
      "should=[FieldCondition(key='metadata.LoaiVanBanFilter', match=MatchValue(value='luật'), range=None, geo_bounding_box=None, geo_radius=None, geo_polygon=None, values_count=None, is_empty=None, is_null=None)] min_should=None must=None must_not=None\n",
      "Query 4 có 25 kết quả\n",
      "Tổng số kết quả tìm được: 100\n",
      "Số document khi xoá trùng 45\n",
      "Số document sau khi qua rerank: 5\n"
     ]
    },
    {
     "name": "stderr",
     "output_type": "stream",
     "text": [
      "Sinh trả lời:  11%|█         | 129/1204 [2:21:12<16:51:32, 56.46s/it]"
     ]
    },
    {
     "name": "stdout",
     "output_type": "stream",
     "text": [
      "['Câu 35. Hiện nay, có một số vụ việc xâm hại tình dục trẻ em nghiêm trọng gây bức xúc trong dư luận và xã hội như vụ việc nghi phạm ở Vũng Tàu xâm hại tình dục với nhiều trẻ em; vụ cháu bé sinh năm 2012 bị đối tượng 78 tuổi xâm hại tình dục ở Ba Vì, Hà Nội; vụ việc cháu bé 8 tuổi ở quận Hoàng Mai bị xâm hại tình dục… Xâm hại tình dục trẻ em là gì? Nhà nước có những quy định gì để bảo vệ các em không bị xâm hại?', 'Định nghĩa pháp lý về xâm hại tình dục trẻ em là gì và các quy định pháp luật hiện hành của Nhà nước Việt Nam về bảo vệ trẻ em khỏi xâm hại tình dục?', 'Các văn bản pháp luật nào quy định về phòng chống xâm hại tình dục trẻ em, đặc biệt là các biện pháp bảo vệ trẻ em trước nguy cơ này?', 'Pháp luật Việt Nam quy định như thế nào về tội xâm hại tình dục trẻ em, bao gồm các hình phạt và biện pháp xử lý đối với người phạm tội, cũng như trách nhiệm của các cơ quan chức năng trong việc bảo vệ trẻ em?']\n",
      "None\n",
      "Query 1 có 25 kết quả\n",
      "None\n",
      "Query 2 có 25 kết quả\n",
      "None\n",
      "Query 3 có 25 kết quả\n",
      "None\n",
      "Query 4 có 25 kết quả\n",
      "Tổng số kết quả tìm được: 100\n",
      "Số document khi xoá trùng 50\n",
      "Số document sau khi qua rerank: 5\n"
     ]
    },
    {
     "name": "stderr",
     "output_type": "stream",
     "text": [
      "Sinh trả lời:  11%|█         | 130/1204 [2:22:11<17:07:07, 57.38s/it]"
     ]
    },
    {
     "name": "stdout",
     "output_type": "stream",
     "text": [
      "['Câu 36. Trên các tuyến phố ở Hà Nội, đôi khi tôi bắt gặp các em nhỏ đi bán vé số, đánh giày, ăn xin. Tôi có hỏi mấy đứa đó và có một số em nói rằng bị cha mẹ bắt phải đi kiếm tiền, một số khác bố mẹ đã mất, người nuôi dưỡng các em bảo rằng không đi làm thì các em không được ăn. Việc làm của bố mẹ, người nuôi dưỡng các em có vi phạm pháp luật không? Nếu có thì sẽ bị xử lý như thế nào?', 'Ép buộc trẻ em bán vé số, đánh giày, ăn xin ở Hà Nội có vi phạm quy định pháp luật về bảo vệ trẻ em không và chế tài xử lý là gì?', 'Hành vi của cha mẹ hoặc người nuôi dưỡng bắt trẻ em lao động kiếm tiền, bỏ mặc trẻ em không được ăn có cấu thành tội ngược đãi hoặc hành hạ con cái theo luật hình sự Việt Nam không?', 'Quy định pháp luật hiện hành về xử phạt hành chính đối với hành vi lợi dụng trẻ em vì mục đích trục lợi, cụ thể trong trường hợp ép buộc trẻ em tham gia các hoạt động đường phố như bán vé số, ăn xin là gì?']\n",
      "None\n",
      "Query 1 có 25 kết quả\n",
      "None\n",
      "Query 2 có 25 kết quả\n",
      "None\n",
      "Query 3 có 25 kết quả\n",
      "should=[FieldCondition(key='metadata.NgayBanHanhFilter', match=MatchAny(any=['yyyy']), range=None, geo_bounding_box=None, geo_radius=None, geo_polygon=None, values_count=None, is_empty=None, is_null=None)] min_should=None must=None must_not=None\n",
      "Query 4 có 0 kết quả\n",
      "Tổng số kết quả tìm được: 75\n",
      "Số document khi xoá trùng 50\n",
      "Số document sau khi qua rerank: 5\n"
     ]
    },
    {
     "name": "stderr",
     "output_type": "stream",
     "text": [
      "Sinh trả lời:  11%|█         | 131/1204 [2:23:16<17:43:57, 59.49s/it]"
     ]
    },
    {
     "name": "stdout",
     "output_type": "stream",
     "text": [
      "['Câu 37. Bố cháu mất từ năm cháu 5 tuổi, nay mẹ cháu bị mắc bệnh hiểm nghèo, thường xuyên phải đi viện, cháu là con trai cả nên cháu muốn đi làm thêm để phụ giúp mẹ nuôi em ăn học. Xin hỏi pháp luật quy định những việc trẻ em có thể làm là việc gì? Cháu năm nay 14 tuổi.', 'Các công việc pháp luật cho phép trẻ em 14 tuổi được làm để kiếm tiền phụ giúp gia đình theo quy định hiện hành?', 'Quy định pháp luật về việc sử dụng lao động là người chưa thành niên 14 tuổi trong các ngành nghề cụ thể để hỗ trợ kinh tế gia đình?', 'Người 14 tuổi có hoàn cảnh khó khăn có thể làm những công việc nào theo luật lao động để giúp đỡ mẹ bệnh tật và em nhỏ?']\n",
      "None\n",
      "Query 1 có 25 kết quả\n",
      "None\n",
      "Query 2 có 25 kết quả\n",
      "None\n",
      "Query 3 có 25 kết quả\n",
      "None\n",
      "Query 4 có 25 kết quả\n",
      "Tổng số kết quả tìm được: 100\n",
      "Số document khi xoá trùng 50\n",
      "Số document sau khi qua rerank: 5\n"
     ]
    },
    {
     "name": "stderr",
     "output_type": "stream",
     "text": [
      "Sinh trả lời:  11%|█         | 132/1204 [2:24:26<18:41:10, 62.75s/it]"
     ]
    },
    {
     "name": "stdout",
     "output_type": "stream",
     "text": [
      "['Câu 38. Trong thực tế, có rất nhiều em nhỏ phải lao động cực nhọc, thậm chí là phải làm những công việc có tính chất nguy hiểm đến sức khỏe và tính mạng. Vậy pháp luật có quy định như thế nào để bảo vệ trẻ em không bị lạm dụng lao động? Và việc lạm dụng lao động trẻ em sẽ bị xử lý như thế nào?', 'Quy định pháp luật hiện hành về bảo vệ trẻ em khỏi bị lạm dụng lao động và chế tài xử lý hành vi này được quy định như thế nào?', 'Pháp luật Việt Nam có những điều khoản nào để ngăn chặn và xử phạt hành vi sử dụng lao động trẻ em trái phép, đặc biệt trong các công việc nặng nhọc, nguy hiểm?', 'Trách nhiệm của nhà nước và các tổ chức xã hội trong việc bảo vệ trẻ em khỏi bị bóc lột sức lao động và quy định về xử lý vi phạm trong lĩnh vực này được pháp luật quy định ra sao?']\n",
      "None\n",
      "Query 1 có 25 kết quả\n",
      "None\n",
      "Query 2 có 25 kết quả\n",
      "None\n",
      "Query 3 có 25 kết quả\n",
      "None\n",
      "Query 4 có 25 kết quả\n",
      "Tổng số kết quả tìm được: 100\n",
      "Số document khi xoá trùng 50\n",
      "Số document sau khi qua rerank: 5\n"
     ]
    },
    {
     "name": "stderr",
     "output_type": "stream",
     "text": [
      "Sinh trả lời:  11%|█         | 133/1204 [2:26:14<22:45:12, 76.48s/it]"
     ]
    },
    {
     "name": "stdout",
     "output_type": "stream",
     "text": [
      "['Câu 39. Tôi đang cho cậu con trai 2 tuổi đi nhà trẻ tư nhân gần nhà. Gần đây, về nhà thấy con hay quấy khóc lại có một số vết bầm, tím trên người. Hôm trước, tôi gặp mấy bà mẹ cũng có con gửi ở đó và con của họ cũng có tình trạng tương tự. Chúng tôi đã yêu cầu nhà trẻ cho xem camera và thấy cô giáo H của các con thường xuyên có hành vi đánh, tát, đe dọa, chửi bới các cháu. Hành vi của cô H như vậy là phạm tội gì và mức phạt ra sao?', 'Hành vi bạo hành trẻ em (đánh đập, tát, đe dọa, chửi bới) của giáo viên mầm non bị xử lý như thế nào theo quy định pháp luật hình sự Việt Nam?', 'Cô giáo đánh đập trẻ mầm non có thể bị truy cứu trách nhiệm hình sự về tội gì và khung hình phạt cụ thể ra sao theo Bộ luật Hình sự hiện hành?', 'Hành vi ngược đãi trẻ em của giáo viên mầm non (cụ thể: đánh, tát, đe dọa, chửi bới) cấu thành tội gì và mức phạt tù cao nhất là bao nhiêu năm theo luật Việt Nam?']\n",
      "None\n",
      "Query 1 có 25 kết quả\n",
      "None\n",
      "Query 2 có 25 kết quả\n",
      "None\n",
      "Query 3 có 25 kết quả\n",
      "None\n",
      "Query 4 có 25 kết quả\n",
      "Tổng số kết quả tìm được: 100\n",
      "Số document khi xoá trùng 50\n",
      "Số document sau khi qua rerank: 5\n"
     ]
    },
    {
     "name": "stderr",
     "output_type": "stream",
     "text": [
      "Sinh trả lời:  11%|█         | 134/1204 [2:27:25<22:13:21, 74.77s/it]"
     ]
    },
    {
     "name": "stdout",
     "output_type": "stream",
     "text": [
      "['Câu 40. Cháu Duy hàng xóm nhà tôi, đang học lớp 9, trước đây khi cha mẹ còn ở nhà thường xuyên được quan tâm, uốn nắn nên cháu rất ngoan, chăm học, năm nào cũng được nhận phần thưởng.\\xa0Song, kể từ khi cha mẹ vào Đắk Lắk làm ăn buôn bán, không quan tâm đến các con, ở nhà chỉ có hai anh em tự nuôi nhau thì Duy bắt đầu hư hỏng, thường hay bỏ học, rủ rê đám bạn chơi game... Mới đây, Duy bị bắt quả tang vì tội cướp tài sản.\\xa0Bố mẹ Duy bỏ mặc các con như vậy có vi phạm pháp luật không? Chế tài xử lý như thế nào?', 'Bố mẹ bỏ mặc con cái dẫn đến vi phạm pháp luật về trách nhiệm nuôi dưỡng và giáo dục con cái như thế nào?', 'Hành vi bỏ mặc con cái của cha mẹ có cấu thành tội vi phạm nghĩa vụ nuôi dưỡng, giáo dục con theo quy định pháp luật hiện hành không? Chế tài xử lý cho hành vi này là gì?', 'Pháp luật Việt Nam quy định về trách nhiệm của cha mẹ trong việc chăm sóc, giáo dục con cái và chế tài xử lý khi vi phạm nghĩa vụ này như thế nào, đặc biệt trong trường hợp con cái vị thành niên phạm tội?']\n",
      "None\n",
      "Query 1 có 25 kết quả\n",
      "None\n",
      "Query 2 có 25 kết quả\n",
      "None\n",
      "Query 3 có 25 kết quả\n",
      "None\n",
      "Query 4 có 25 kết quả\n",
      "Tổng số kết quả tìm được: 100\n",
      "Số document khi xoá trùng 50\n",
      "Số document sau khi qua rerank: 5\n"
     ]
    },
    {
     "name": "stderr",
     "output_type": "stream",
     "text": [
      "Sinh trả lời:  11%|█         | 135/1204 [2:28:22<20:34:36, 69.30s/it]"
     ]
    },
    {
     "name": "stdout",
     "output_type": "stream",
     "text": [
      "['Câu 41. Đề nghị cho biết các\\xa0quy định, chính sách hỗ trợ trẻ em bị bỏ rơi được quy định trong pháp luật hiện hành của Việt Nam?', 'Các quy định pháp luật hiện hành của Việt Nam về chính sách hỗ trợ cho trẻ em bị bỏ rơi được thể hiện ở văn bản nào?', 'Văn bản pháp luật nào quy định chi tiết về các chính sách và biện pháp hỗ trợ trẻ em bị bỏ rơi tại Việt Nam?', 'Tìm kiếm các điều khoản, quy định pháp lý liên quan đến quyền lợi và chính sách bảo trợ dành cho trẻ em bị bỏ rơi theo luật Việt Nam hiện hành.']\n",
      "None\n",
      "Query 1 có 25 kết quả\n",
      "None\n",
      "Query 2 có 25 kết quả\n",
      "None\n",
      "Query 3 có 25 kết quả\n",
      "None\n",
      "Query 4 có 25 kết quả\n",
      "Tổng số kết quả tìm được: 100\n",
      "Số document khi xoá trùng 38\n",
      "Số document sau khi qua rerank: 5\n"
     ]
    },
    {
     "name": "stderr",
     "output_type": "stream",
     "text": [
      "Sinh trả lời:  11%|█▏        | 136/1204 [2:29:08<18:30:01, 62.36s/it]"
     ]
    },
    {
     "name": "stdout",
     "output_type": "stream",
     "text": [
      "['Câu 42. Ở xã tôi vừa xảy ra vụ buôn bán trẻ em qua biên giới, người phạm tội hiện đang bỏ trốn. Đề nghị cho biết, nếu phạm tội buôn bán trẻ em thì người phạm tội sẽ chịu hình phạt như thế nào?', 'Hình phạt cho tội buôn bán trẻ em theo quy định của pháp luật Việt Nam là gì, trong trường hợp đối tượng phạm tội bỏ trốn?', 'Tội buôn bán trẻ em qua biên giới bị xử lý như thế nào theo Bộ luật Hình sự hiện hành, đặc biệt khi đối tượng đang lẩn trốn?', 'Quy định pháp luật về mức án đối với hành vi buôn bán người dưới 16 tuổi được thực hiện xuyên biên giới và đối tượng bỏ trốn khỏi địa phương?']\n",
      "None\n",
      "Query 1 có 25 kết quả\n",
      "None\n",
      "Query 2 có 25 kết quả\n",
      "None\n",
      "Query 3 có 25 kết quả\n",
      "None\n",
      "Query 4 có 25 kết quả\n",
      "Tổng số kết quả tìm được: 100\n",
      "Số document khi xoá trùng 50\n",
      "Số document sau khi qua rerank: 5\n"
     ]
    },
    {
     "name": "stderr",
     "output_type": "stream",
     "text": [
      "Sinh trả lời:  11%|█▏        | 137/1204 [2:30:06<18:03:50, 60.95s/it]"
     ]
    },
    {
     "name": "stdout",
     "output_type": "stream",
     "text": [
      "['Câu 43. Cách đây 10 năm, sau khi sinh con trai, vợ chồng tôi đã bị đánh tráo bằng một bé gái. Vợ chồng tôi rất đau khổ nhưng vẫn nuôi dưỡng đứa bé và coi như con đẻ của mình. Vừa rồi, vợ chồng tôi phát hiện ra kẻ đánh tráo con mình. Chúng tôi tố cáo người này thì người này bị xử lý như thế nào?', 'Hành vi đánh tráo con sau 10 năm bị phát hiện sẽ bị xử lý theo quy định pháp luật hình sự nào?', 'Người thực hiện hành vi đánh tráo con đã 10 năm trước, nay bị tố cáo thì phải chịu trách nhiệm pháp lý gì theo luật Việt Nam?', 'Tội đánh tráo con bị xử phạt như thế nào theo Bộ luật Hình sự hiện hành khi sự việc xảy ra cách đây 10 năm?']\n",
      "None\n",
      "Query 1 có 25 kết quả\n",
      "None\n",
      "Query 2 có 25 kết quả\n",
      "should=[FieldCondition(key='metadata.NgayBanHanhFilter', match=MatchAny(any=['10']), range=None, geo_bounding_box=None, geo_radius=None, geo_polygon=None, values_count=None, is_empty=None, is_null=None)] min_should=None must=None must_not=None\n",
      "Query 3 có 0 kết quả\n",
      "None\n",
      "Query 4 có 25 kết quả\n",
      "Tổng số kết quả tìm được: 75\n",
      "Số document khi xoá trùng 48\n",
      "Số document sau khi qua rerank: 5\n"
     ]
    },
    {
     "name": "stderr",
     "output_type": "stream",
     "text": [
      "Sinh trả lời:  11%|█▏        | 138/1204 [2:31:27<19:50:59, 67.04s/it]"
     ]
    },
    {
     "name": "stdout",
     "output_type": "stream",
     "text": [
      "['Câu 44. Cháu tôi năm nay 6 tuổi, đang ngủ trong nhà thì bất ngờ có một gã đàn ông xộc vào bắt, dùng dao khống chế cháu và yêu cầu công an phải để cho hắn được tự do. Đối tượng bắt cháu là kẻ phạm tội cướp tài sản đang bị công an đuổi bắt. Sau hơn 5 giờ đấu tranh, lợi dụng lúc kẻ phạm tội sơ hở, công an đã tước con dao và giải thoát cho cháu tôi. Việc kẻ bắt cháu tôi như trên thì phạm tội gì? Hình phạt như thế nào?', 'Hành vi bắt cóc trẻ em 6 tuổi để uy hiếp công an của đối tượng cướp tài sản đang bị truy nã cấu thành tội gì và khung hình phạt được quy định như thế nào theo luật hình sự?', 'Hành vi dùng dao khống chế trẻ em nhằm mục đích tẩu thoát của đối tượng phạm tội cướp tài sản cấu thành tội bắt cóc người theo điều khoản nào của Bộ luật Hình sự và chịu trách nhiệm hình sự ra sao?', 'Đối tượng đang bị truy nã về tội cướp tài sản, trong quá trình bỏ trốn đã bắt cóc trẻ em để gây áp lực lên cơ quan công an thì bị truy tố về tội danh gì và mức án cao nhất có thể phải đối mặt là bao nhiêu năm tù giam?']\n",
      "None\n",
      "Query 1 có 25 kết quả\n",
      "None\n",
      "Query 2 có 25 kết quả\n",
      "None\n",
      "Query 3 có 25 kết quả\n",
      "None\n",
      "Query 4 có 25 kết quả\n",
      "Tổng số kết quả tìm được: 100\n",
      "Số document khi xoá trùng 50\n",
      "Số document sau khi qua rerank: 5\n"
     ]
    },
    {
     "name": "stderr",
     "output_type": "stream",
     "text": [
      "Sinh trả lời:  12%|█▏        | 139/1204 [2:32:32<19:41:01, 66.54s/it]"
     ]
    },
    {
     "name": "stdout",
     "output_type": "stream",
     "text": [
      "['Câu 45. T buôn bán ma túy, do có suy nghĩ trẻ em phạm tội có thể được miễn trách nhiệm hình sự nên đã tìm mọi cách dụ dỗ, ép buộc một số trẻ em lang thang giúp T vận chuyển ma túy. Việc làm của T bị xử lý như thế nào?', 'T phạm tội buôn bán ma túy và lợi dụng trẻ em, vậy khung hình phạt nào được áp dụng theo luật hình sự hiện hành?', 'Hành vi dụ dỗ, ép buộc trẻ em vận chuyển ma túy của đối tượng T sẽ bị truy cứu trách nhiệm hình sự như thế nào theo quy định pháp luật?', 'Tình huống: Đối tượng T buôn bán ma túy, lợi dụng trẻ em dưới tuổi chịu trách nhiệm hình sự để vận chuyển, hỏi T phải chịu trách nhiệm pháp lý gì?']\n",
      "None\n",
      "Query 1 có 25 kết quả\n",
      "None\n",
      "Query 2 có 25 kết quả\n",
      "None\n",
      "Query 3 có 25 kết quả\n",
      "None\n",
      "Query 4 có 25 kết quả\n",
      "Tổng số kết quả tìm được: 100\n",
      "Số document khi xoá trùng 39\n",
      "Số document sau khi qua rerank: 5\n"
     ]
    },
    {
     "name": "stderr",
     "output_type": "stream",
     "text": [
      "Sinh trả lời:  12%|█▏        | 140/1204 [2:33:48<20:29:14, 69.32s/it]"
     ]
    },
    {
     "name": "stdout",
     "output_type": "stream",
     "text": [
      "['Câu 46. Con trai tôi năm nay 15 tuổi, do bị bạn bè rủ rê, cháu tham gia vào cuộc 01 cuộc đua xe và không may gây tai nạn chết người. Hiện nay, con tôi đã bị khởi tố nhưng được cho tại ngoại. Sắp tới, cháu sẽ bị xét xử ở Tòa, tôi đang rất hoang mang và lo lắng không biết con tôi có quyền được bảo vệ trong quá trình tố tụng không? Pháp luật quy định như thế nào?', 'Con trai 15 tuổi gây tai nạn chết người do đua xe trái phép, đã khởi tố nhưng tại ngoại, quyền được bảo vệ trong tố tụng hình sự được pháp luật quy định như thế nào?', 'Con trai 15 tuổi gây tai nạn chết người do đua xe trái phép, đã khởi tố nhưng tại ngoại, có quyền được chỉ định người bào chữa theo quy định pháp luật tố tụng hình sự không?', 'Người chưa thành niên 15 tuổi gây tai nạn chết người do đua xe trái phép thì có được hưởng quyền bào chữa theo quy định của pháp luật không?']\n",
      "None\n",
      "Query 1 có 25 kết quả\n",
      "None\n",
      "Query 2 có 25 kết quả\n",
      "None\n",
      "Query 3 có 25 kết quả\n",
      "None\n",
      "Query 4 có 25 kết quả\n",
      "Tổng số kết quả tìm được: 100\n",
      "Số document khi xoá trùng 50\n",
      "Số document sau khi qua rerank: 5\n"
     ]
    },
    {
     "name": "stderr",
     "output_type": "stream",
     "text": [
      "Sinh trả lời:  12%|█▏        | 141/1204 [2:35:24<22:52:23, 77.46s/it]"
     ]
    },
    {
     "name": "stdout",
     "output_type": "stream",
     "text": [
      "['Câu 47. Vợ chồng tôi có 4 con nhỏ dưới 15 tuổi, nơi chúng tôi sống thường hay xảy ra tình trạng lũ quét, sạt lở đất...Tôi đang băn khoăn không biết khi gặp thiên tai, thảm họa thì các con tôi có được ưu tiên sơ tán, bảo vệ và trợ giúp không?', 'Gia đình có con nhỏ dưới 15 tuổi tại vùng thiên tai có được ưu tiên sơ tán theo quy định pháp luật nào?', 'Trong trường hợp lũ quét, sạt lở đất, pháp luật Việt Nam có quy định gì về việc bảo vệ và trợ giúp trẻ em dưới 15 tuổi không?', 'Quy định pháp luật về ưu tiên sơ tán, bảo vệ trẻ em dưới 15 tuổi khi xảy ra thiên tai, thảm họa như thế nào?']\n",
      "None\n",
      "Query 1 có 25 kết quả\n",
      "None\n",
      "Query 2 có 25 kết quả\n",
      "None\n",
      "Query 3 có 25 kết quả\n",
      "None\n",
      "Query 4 có 25 kết quả\n",
      "Tổng số kết quả tìm được: 100\n",
      "Số document khi xoá trùng 50\n",
      "Số document sau khi qua rerank: 5\n"
     ]
    },
    {
     "name": "stderr",
     "output_type": "stream",
     "text": [
      "Sinh trả lời:  12%|█▏        | 142/1204 [2:36:33<22:05:27, 74.88s/it]"
     ]
    },
    {
     "name": "stdout",
     "output_type": "stream",
     "text": [
      "['Câu 48. Đề nghị cho biết an sinh xã hội là gì? Nhà nước đã có những chính sách gì nhằm thực hiện quyền được bảo đảm an sinh xã hội của trẻ em?', 'An sinh xã hội được định nghĩa như thế nào theo quy định pháp luật hiện hành? Chính sách của Nhà nước về bảo đảm an sinh xã hội cho trẻ em được thể hiện qua những văn bản pháp luật nào?', 'Chính sách an sinh xã hội của Nhà nước Việt Nam đối với trẻ em được quy định cụ thể trong các văn bản pháp luật nào? Định nghĩa pháp lý về an sinh xã hội là gì?', 'Tìm hiểu về khái niệm an sinh xã hội và các chính sách, biện pháp mà Nhà nước đã ban hành để thực hiện quyền an sinh xã hội cho trẻ em theo quy định của pháp luật.']\n",
      "None\n",
      "Query 1 có 25 kết quả\n",
      "None\n",
      "Query 2 có 25 kết quả\n",
      "None\n",
      "Query 3 có 25 kết quả\n",
      "None\n",
      "Query 4 có 25 kết quả\n",
      "Tổng số kết quả tìm được: 100\n",
      "Số document khi xoá trùng 48\n",
      "Số document sau khi qua rerank: 5\n"
     ]
    },
    {
     "name": "stderr",
     "output_type": "stream",
     "text": [
      "Sinh trả lời:  12%|█▏        | 143/1204 [2:37:24<19:54:24, 67.54s/it]"
     ]
    },
    {
     "name": "stdout",
     "output_type": "stream",
     "text": [
      "['Câu 49. Con trai tôi 06 tuổi bị liệt chân từ nhỏ. Do đi lại khó khăn nên cháu được cô giáo xếp cho ngồi riêng một bàn. Tuy nhiên, các phụ huynh khác trong lớp không đồng ý, họ kiến nghị chuyển con tôi sang lớp khác vì sợ con tôi làm ảnh hưởng đến các bạn trong lớp. Tôi đang rất buồn và bất bình vì con trai mình bị phân biệt đối xử. Đề nghị cho biết, việc làm của các phụ huynh kia có vi phạm pháp luật không?', 'Hành vi của phụ huynh phản đối việc con tôi, một học sinh khuyết tật, học cùng lớp có vi phạm Luật Người khuyết tật và các quy định về chống phân biệt đối xử trong giáo dục không?', 'Việc phụ huynh yêu cầu chuyển lớp cho học sinh khuyết tật 6 tuổi vì lý do khuyết tật có cấu thành hành vi phân biệt đối xử bị cấm theo pháp luật Việt Nam không?', 'Theo quy định pháp luật hiện hành, hành động của phụ huynh gây ảnh hưởng đến quyền được hòa nhập và học tập của trẻ khuyết tật có bị coi là vi phạm pháp luật về bảo vệ trẻ em và người khuyết tật không?']\n",
      "None\n",
      "Query 1 có 25 kết quả\n",
      "None\n",
      "Query 2 có 25 kết quả\n",
      "None\n",
      "Query 3 có 25 kết quả\n",
      "None\n",
      "Query 4 có 25 kết quả\n",
      "Tổng số kết quả tìm được: 100\n",
      "Số document khi xoá trùng 50\n",
      "Số document sau khi qua rerank: 5\n"
     ]
    },
    {
     "name": "stderr",
     "output_type": "stream",
     "text": [
      "Sinh trả lời:  12%|█▏        | 144/1204 [2:38:32<19:54:51, 67.63s/it]"
     ]
    },
    {
     "name": "stdout",
     "output_type": "stream",
     "text": [
      "['Câu 50. Gần đây, tôi thấy xuất hiện những gánh hát rong có nhiều em nhỏ bị khuyết tật, có cháu bị mù, bị điếc, có cháu phải ngồi xe lăn... Người đi đường thấy thương nên đều ủng hộ tiền. Đề nghị cho biết, nếu người ta lợi dụng trẻ em khuyết tật để trục lợi thì có bị xử phạt không?', 'Hành vi lợi dụng trẻ em khuyết tật để trục lợi kinh tế bị xử phạt như thế nào theo quy định pháp luật hiện hành?', 'Quy định pháp luật về xử phạt đối với hành vi lợi dụng trẻ em tàn tật, khiếm khuyết để thu lợi bất chính từ lòng thương hại của người khác?', 'Mức xử phạt cho hành vi khai thác, lợi dụng trẻ em khuyết tật trong các hoạt động biểu diễn nghệ thuật nhằm mục đích trục lợi là bao nhiêu?']\n",
      "None\n",
      "Query 1 có 25 kết quả\n",
      "None\n",
      "Query 2 có 25 kết quả\n",
      "None\n",
      "Query 3 có 25 kết quả\n",
      "None\n",
      "Query 4 có 25 kết quả\n",
      "Tổng số kết quả tìm được: 100\n",
      "Số document khi xoá trùng 50\n",
      "Số document sau khi qua rerank: 5\n"
     ]
    },
    {
     "name": "stderr",
     "output_type": "stream",
     "text": [
      "Sinh trả lời:  12%|█▏        | 145/1204 [2:39:39<19:49:53, 67.42s/it]"
     ]
    },
    {
     "name": "stdout",
     "output_type": "stream",
     "text": [
      "['Câu 51. Sinh ra trong một gia đình nghèo đông con, bố mẹ A phải làm lụng vất vả sớm khuya, chắt chiu từng đồng để cho anh em A được đi học cùng các bạn. Do đua đòi, ham chơi, A đã nhiều lần bỏ học để đi chơi với những bạn xấu. Kết quả học tập ngày càng kém. Có lần bị bố mắng vì uống rượu say, A bỏ đi cả đêm không về nhà. Cuối năm học, A không đủ điểm để lên lớp và phải học lại...A đã vi phạm những bổn phận gì của trẻ em?', 'Những nghĩa vụ nào của trẻ em mà A đã vi phạm trong tình huống trên theo quy định pháp luật hiện hành?', 'Hành vi của A trong tình huống đã cho vi phạm những bổn phận cụ thể nào được quy định trong Luật Trẻ em hoặc các văn bản pháp luật liên quan?', 'Phân tích các hành vi của A (bỏ học, uống rượu, bỏ nhà) dưới góc độ pháp lý, xác định rõ điều khoản luật nào quy định về nghĩa vụ của trẻ em bị vi phạm?']\n",
      "None\n",
      "Query 1 có 25 kết quả\n",
      "None\n",
      "Query 2 có 25 kết quả\n",
      "None\n",
      "Query 3 có 25 kết quả\n",
      "should=[FieldCondition(key='metadata.NgayBanHanhFilter', match=MatchAny(any=['yyyy']), range=None, geo_bounding_box=None, geo_radius=None, geo_polygon=None, values_count=None, is_empty=None, is_null=None)] min_should=None must=None must_not=None\n",
      "Query 4 có 0 kết quả\n",
      "Tổng số kết quả tìm được: 75\n",
      "Số document khi xoá trùng 50\n",
      "Số document sau khi qua rerank: 5\n"
     ]
    },
    {
     "name": "stderr",
     "output_type": "stream",
     "text": [
      "Sinh trả lời:  12%|█▏        | 146/1204 [2:40:51<20:15:50, 68.95s/it]"
     ]
    },
    {
     "name": "stdout",
     "output_type": "stream",
     "text": [
      "['Câu 52. Đề nghị cho biết ngoài bổn phận với bản thân, gia đình và nhà trường thì trẻ em còn có bổn phận gì?', 'Ngoài các nghĩa vụ đối với bản thân, gia đình và nhà trường, trẻ em còn có những trách nhiệm pháp lý nào khác theo quy định của pháp luật Việt Nam?', 'Theo luật pháp Việt Nam, bên cạnh trách nhiệm với bản thân, gia đình và trường học, trẻ em còn phải thực hiện những bổn phận nào khác được quy định?', 'Ngoài bổn phận đối với bản thân, gia đình và nhà trường, trẻ em còn có những nghĩa vụ và trách nhiệm nào khác theo quy định của pháp luật hiện hành?']\n",
      "None\n",
      "Query 1 có 25 kết quả\n",
      "None\n",
      "Query 2 có 25 kết quả\n",
      "should=[FieldCondition(key='metadata.LoaiVanBanFilter', match=MatchValue(value='luật'), range=None, geo_bounding_box=None, geo_radius=None, geo_polygon=None, values_count=None, is_empty=None, is_null=None)] min_should=None must=None must_not=None\n",
      "Query 3 có 25 kết quả\n",
      "None\n",
      "Query 4 có 25 kết quả\n",
      "Tổng số kết quả tìm được: 100\n",
      "Số document khi xoá trùng 34\n",
      "Số document sau khi qua rerank: 5\n"
     ]
    },
    {
     "name": "stderr",
     "output_type": "stream",
     "text": [
      "Sinh trả lời:  12%|█▏        | 147/1204 [2:41:28<17:26:45, 59.42s/it]"
     ]
    },
    {
     "name": "stdout",
     "output_type": "stream",
     "text": [
      "['Câu 53. Luật trẻ em năm 2016 quy định việc bảo đảm về chăm sóc sức khỏe trẻ em như thế nào?', 'Luật Trẻ em 2016, Điều 53 quy định những nội dung gì về đảm bảo chăm sóc sức khỏe cho trẻ em?', 'Các quy định của Luật Trẻ em năm 2016 liên quan đến việc bảo đảm quyền được chăm sóc sức khỏe của trẻ em được thể hiện như thế nào?', 'Nội dung bảo đảm chăm sóc sức khỏe trẻ em được quy định cụ thể tại Luật Trẻ em 2016 ra sao?']\n",
      "should=[FieldCondition(key='metadata.LoaiVanBanFilter', match=MatchValue(value='luật'), range=None, geo_bounding_box=None, geo_radius=None, geo_polygon=None, values_count=None, is_empty=None, is_null=None), FieldCondition(key='metadata.NgayBanHanhFilter', match=MatchAny(any=['2016']), range=None, geo_bounding_box=None, geo_radius=None, geo_polygon=None, values_count=None, is_empty=None, is_null=None)] min_should=None must=None must_not=None\n",
      "Query 1 có 25 kết quả\n",
      "should=[FieldCondition(key='metadata.LoaiVanBanFilter', match=MatchValue(value='luật'), range=None, geo_bounding_box=None, geo_radius=None, geo_polygon=None, values_count=None, is_empty=None, is_null=None), FieldCondition(key='metadata.NgayBanHanhFilter', match=MatchAny(any=['2016']), range=None, geo_bounding_box=None, geo_radius=None, geo_polygon=None, values_count=None, is_empty=None, is_null=None)] min_should=None must=None must_not=None\n",
      "Query 2 có 25 kết quả\n",
      "should=[FieldCondition(key='metadata.LoaiVanBanFilter', match=MatchValue(value='luật'), range=None, geo_bounding_box=None, geo_radius=None, geo_polygon=None, values_count=None, is_empty=None, is_null=None), FieldCondition(key='metadata.NgayBanHanhFilter', match=MatchAny(any=['2016']), range=None, geo_bounding_box=None, geo_radius=None, geo_polygon=None, values_count=None, is_empty=None, is_null=None)] min_should=None must=None must_not=None\n",
      "Query 3 có 25 kết quả\n",
      "should=[FieldCondition(key='metadata.LoaiVanBanFilter', match=MatchValue(value='luật'), range=None, geo_bounding_box=None, geo_radius=None, geo_polygon=None, values_count=None, is_empty=None, is_null=None), FieldCondition(key='metadata.NgayBanHanhFilter', match=MatchAny(any=['2016']), range=None, geo_bounding_box=None, geo_radius=None, geo_polygon=None, values_count=None, is_empty=None, is_null=None)] min_should=None must=None must_not=None\n",
      "Query 4 có 25 kết quả\n",
      "Tổng số kết quả tìm được: 100\n",
      "Số document khi xoá trùng 50\n",
      "Số document sau khi qua rerank: 5\n"
     ]
    },
    {
     "name": "stderr",
     "output_type": "stream",
     "text": [
      "Sinh trả lời:  12%|█▏        | 148/1204 [2:42:31<17:44:11, 60.47s/it]"
     ]
    },
    {
     "name": "stdout",
     "output_type": "stream",
     "text": [
      "['Câu 54. Việc bảo đảm điều kiện vui chơi, giải trí, hoạt động văn hóa, nghệ thuật, thể thao, du lịch, bảo đảm thông tin, truyền thông cho trẻ em được Luật trẻ em năm 2016 quy định như thế nào?', 'Luật Trẻ em 2016 quy định những nội dung gì về việc bảo đảm các điều kiện vui chơi, giải trí, hoạt động văn hóa, nghệ thuật, thể thao, du lịch, thông tin và truyền thông cho trẻ em?', 'Điều khoản nào trong Luật Trẻ em năm 2016 quy định chi tiết về trách nhiệm bảo đảm các điều kiện vui chơi, giải trí, hoạt động văn hóa, nghệ thuật, thể thao, du lịch, thông tin, truyền thông cho trẻ em?', 'Luật Trẻ em 2016 có những quy định cụ thể nào về việc bảo vệ và tạo điều kiện cho trẻ em tham gia các hoạt động vui chơi, giải trí, văn hóa, nghệ thuật, thể thao, du lịch, tiếp cận thông tin và truyền thông?']\n",
      "should=[FieldCondition(key='metadata.LoaiVanBanFilter', match=MatchValue(value='luật'), range=None, geo_bounding_box=None, geo_radius=None, geo_polygon=None, values_count=None, is_empty=None, is_null=None), FieldCondition(key='metadata.NgayBanHanhFilter', match=MatchAny(any=['2016']), range=None, geo_bounding_box=None, geo_radius=None, geo_polygon=None, values_count=None, is_empty=None, is_null=None)] min_should=None must=None must_not=None\n",
      "Query 1 có 25 kết quả\n",
      "should=[FieldCondition(key='metadata.LoaiVanBanFilter', match=MatchValue(value='luật'), range=None, geo_bounding_box=None, geo_radius=None, geo_polygon=None, values_count=None, is_empty=None, is_null=None), FieldCondition(key='metadata.NgayBanHanhFilter', match=MatchAny(any=['2016']), range=None, geo_bounding_box=None, geo_radius=None, geo_polygon=None, values_count=None, is_empty=None, is_null=None)] min_should=None must=None must_not=None\n",
      "Query 2 có 25 kết quả\n",
      "should=[FieldCondition(key='metadata.LoaiVanBanFilter', match=MatchValue(value='luật'), range=None, geo_bounding_box=None, geo_radius=None, geo_polygon=None, values_count=None, is_empty=None, is_null=None), FieldCondition(key='metadata.NgayBanHanhFilter', match=MatchAny(any=['2016']), range=None, geo_bounding_box=None, geo_radius=None, geo_polygon=None, values_count=None, is_empty=None, is_null=None)] min_should=None must=None must_not=None\n",
      "Query 3 có 25 kết quả\n",
      "should=[FieldCondition(key='metadata.LoaiVanBanFilter', match=MatchValue(value='luật'), range=None, geo_bounding_box=None, geo_radius=None, geo_polygon=None, values_count=None, is_empty=None, is_null=None), FieldCondition(key='metadata.NgayBanHanhFilter', match=MatchAny(any=['2016']), range=None, geo_bounding_box=None, geo_radius=None, geo_polygon=None, values_count=None, is_empty=None, is_null=None)] min_should=None must=None must_not=None\n",
      "Query 4 có 25 kết quả\n",
      "Tổng số kết quả tìm được: 100\n",
      "Số document khi xoá trùng 43\n",
      "Số document sau khi qua rerank: 5\n"
     ]
    },
    {
     "name": "stderr",
     "output_type": "stream",
     "text": [
      "Sinh trả lời:  12%|█▏        | 149/1204 [2:43:14<16:11:10, 55.23s/it]"
     ]
    },
    {
     "name": "stdout",
     "output_type": "stream",
     "text": [
      "['Câu 55. Vừa qua, nhiều bài viết, thông tin của báo chí phản ánh về việc một bé gái bị xâm hại ngay trong khu dân cư. Là bà mẹ của hai con gái trên 10 tuổi, chị Linh hết sức lo lắng về việc làm sao để bảo vệ con gái khỏi những mối nguy hại trên. Hằng ngày, chị Linh vẫn dạy các con về việc nhận biết các hành vi xâm hại trẻ em cũng như sự nguy hiểm và hậu quả của nó. Tuy nhiên, chị Linh vẫn rất lo lắng về sự an toàn của các con mình, chị không biết theo luật thì có mấy cấp độ bảo vệ trẻ em và việc mình nói với con như vậy có đúng hay không?', 'Các cấp độ bảo vệ trẻ em theo quy định pháp luật Việt Nam hiện hành là gì và việc giáo dục con cái về xâm hại như vậy có phù hợp với quy định không?', 'Pháp luật Việt Nam quy định bao nhiêu cấp độ bảo vệ trẻ em và việc trang bị kiến thức về phòng chống xâm hại cho trẻ em như trường hợp trên có đúng theo quy định không?', 'Quy định pháp luật hiện hành về các cấp độ bảo vệ trẻ em và đánh giá tính phù hợp của việc giáo dục trẻ về nhận biết và phòng tránh xâm hại.']\n",
      "None\n",
      "Query 1 có 25 kết quả\n",
      "None\n",
      "Query 2 có 25 kết quả\n",
      "None\n",
      "Query 3 có 25 kết quả\n",
      "None\n",
      "Query 4 có 25 kết quả\n",
      "Tổng số kết quả tìm được: 100\n",
      "Số document khi xoá trùng 50\n",
      "Số document sau khi qua rerank: 5\n"
     ]
    },
    {
     "name": "stderr",
     "output_type": "stream",
     "text": [
      "Sinh trả lời:  12%|█▏        | 150/1204 [2:44:44<19:11:05, 65.53s/it]"
     ]
    },
    {
     "name": "stdout",
     "output_type": "stream",
     "text": [
      "['Câu 56. Luật trẻ em quy định như thế nào về các yêu cầu bảo vệ trẻ em?', 'Luật Trẻ em quy định những yêu cầu cụ thể nào về bảo vệ trẻ em được nêu tại Điều 56?', 'Điều 56 của Luật Trẻ em quy định chi tiết ra sao về các biện pháp và tiêu chuẩn bảo vệ trẻ em?', 'Nội dung Điều 56 trong Luật Trẻ em năm 2016 quy định về trách nhiệm và biện pháp bảo vệ trẻ em như thế nào?']\n",
      "should=[FieldCondition(key='metadata.LoaiVanBanFilter', match=MatchValue(value='luật'), range=None, geo_bounding_box=None, geo_radius=None, geo_polygon=None, values_count=None, is_empty=None, is_null=None)] min_should=None must=None must_not=None\n",
      "Query 1 có 25 kết quả\n",
      "should=[FieldCondition(key='metadata.LoaiVanBanFilter', match=MatchValue(value='luật'), range=None, geo_bounding_box=None, geo_radius=None, geo_polygon=None, values_count=None, is_empty=None, is_null=None)] min_should=None must=None must_not=None\n",
      "Query 2 có 25 kết quả\n",
      "should=[FieldCondition(key='metadata.LoaiVanBanFilter', match=MatchValue(value='luật'), range=None, geo_bounding_box=None, geo_radius=None, geo_polygon=None, values_count=None, is_empty=None, is_null=None)] min_should=None must=None must_not=None\n",
      "Query 3 có 25 kết quả\n",
      "should=[FieldCondition(key='metadata.LoaiVanBanFilter', match=MatchValue(value='luật'), range=None, geo_bounding_box=None, geo_radius=None, geo_polygon=None, values_count=None, is_empty=None, is_null=None), FieldCondition(key='metadata.NgayBanHanhFilter', match=MatchAny(any=['2016']), range=None, geo_bounding_box=None, geo_radius=None, geo_polygon=None, values_count=None, is_empty=None, is_null=None)] min_should=None must=None must_not=None\n",
      "Query 4 có 25 kết quả\n",
      "Tổng số kết quả tìm được: 100\n",
      "Số document khi xoá trùng 43\n",
      "Số document sau khi qua rerank: 5\n"
     ]
    },
    {
     "name": "stderr",
     "output_type": "stream",
     "text": [
      "Sinh trả lời:  13%|█▎        | 151/1204 [2:45:29<17:24:24, 59.51s/it]"
     ]
    },
    {
     "name": "stdout",
     "output_type": "stream",
     "text": [
      "['Câu 57. Các biện pháp bảo vệ trẻ em được sử dụng trong cấp độ can thiệp là gì?', 'Các biện pháp bảo vệ trẻ em nào được áp dụng trong giai đoạn can thiệp theo quy định pháp luật?', 'Quy định pháp luật hiện hành về các biện pháp bảo vệ trẻ em được thực hiện ở cấp độ can thiệp là gì?', 'Trong lĩnh vực bảo vệ trẻ em, những biện pháp can thiệp nào được pháp luật cho phép áp dụng?']\n",
      "None\n",
      "Query 1 có 25 kết quả\n",
      "None\n",
      "Query 2 có 25 kết quả\n",
      "None\n",
      "Query 3 có 25 kết quả\n",
      "None\n",
      "Query 4 có 25 kết quả\n",
      "Tổng số kết quả tìm được: 100\n",
      "Số document khi xoá trùng 50\n",
      "Số document sau khi qua rerank: 5\n"
     ]
    },
    {
     "name": "stderr",
     "output_type": "stream",
     "text": [
      "Sinh trả lời:  13%|█▎        | 152/1204 [2:46:43<18:37:52, 63.76s/it]"
     ]
    },
    {
     "name": "stdout",
     "output_type": "stream",
     "text": [
      "['Câu 58. Hãy nêu rõ trách nhiệm của các chủ thể trong việc bảo vệ trẻ em trên môi trường mạng?', 'Các chủ thể nào phải chịu trách nhiệm pháp lý trong việc bảo vệ trẻ em trên không gian mạng theo quy định hiện hành?', 'Quy định pháp luật về trách nhiệm của các tổ chức và cá nhân trong việc bảo vệ trẻ em khỏi các nguy cơ trên môi trường mạng là gì?', 'Nghĩa vụ và trách nhiệm của các bên liên quan trong việc đảm bảo an toàn cho trẻ em khi sử dụng internet được quy định như thế nào?']\n",
      "None\n",
      "Query 1 có 25 kết quả\n",
      "None\n",
      "Query 2 có 25 kết quả\n",
      "None\n",
      "Query 3 có 25 kết quả\n",
      "None\n",
      "Query 4 có 25 kết quả\n",
      "Tổng số kết quả tìm được: 100\n",
      "Số document khi xoá trùng 50\n",
      "Số document sau khi qua rerank: 5\n"
     ]
    },
    {
     "name": "stderr",
     "output_type": "stream",
     "text": [
      "Sinh trả lời:  13%|█▎        | 153/1204 [2:47:51<18:57:42, 64.95s/it]"
     ]
    },
    {
     "name": "stdout",
     "output_type": "stream",
     "text": [
      "['Câu 59. Anh An muốn hỏi, pháp luật quy định như thế nào về trách nhiệm của người làm công tác bảo vệ trẻ em cấp xã?', 'Trách nhiệm pháp lý của người làm công tác bảo vệ trẻ em ở cấp xã được quy định như thế nào?', 'Quy định pháp luật hiện hành về trách nhiệm của cán bộ bảo vệ trẻ em cấp xã là gì?', 'Nghĩa vụ và trách nhiệm theo luật của người làm công tác bảo vệ trẻ em tại cấp xã được quy định cụ thể ra sao?']\n",
      "None\n",
      "Query 1 có 25 kết quả\n",
      "None\n",
      "Query 2 có 25 kết quả\n",
      "None\n",
      "Query 3 có 25 kết quả\n",
      "None\n",
      "Query 4 có 25 kết quả\n",
      "Tổng số kết quả tìm được: 100\n",
      "Số document khi xoá trùng 43\n",
      "Số document sau khi qua rerank: 5\n"
     ]
    },
    {
     "name": "stderr",
     "output_type": "stream",
     "text": [
      "Sinh trả lời:  13%|█▎        | 154/1204 [2:48:53<18:45:25, 64.31s/it]"
     ]
    },
    {
     "name": "stdout",
     "output_type": "stream",
     "text": [
      "['Câu 60. Trên xã H có trường hợp bé Nam (7 tuổi) và em  gái (2 tuổi) đều bị bố mẹ bỏ rơi, không ai chăm sóc, nuôi dưỡng. Anh Vũ là người họ hàng xa của hai bé. Anh Vũ không biết trường hợp của hai anh em Nam có phải trường hợp trẻ em cần được chính quyền địa phương hỗ trợ và can thiệp không? Cơ quan nào có trách nhiệm xác định biện pháp bảo vệ đối với trẻ em?', 'Trường hợp bé Nam (7 tuổi) và em gái (2 tuổi) bị bỏ rơi tại xã H có thuộc diện trẻ em cần sự can thiệp của chính quyền địa phương theo quy định pháp luật hiện hành không?', 'Cơ quan nào có thẩm quyền và trách nhiệm pháp lý trong việc xác định và áp dụng các biện pháp bảo vệ trẻ em trong tình huống trẻ bị bỏ rơi như trường hợp của bé Nam và em gái tại xã H?', 'Quy trình và thủ tục pháp lý để chính quyền địa phương can thiệp và bảo vệ trẻ em bị bỏ rơi, cụ thể là trường hợp của bé Nam (7 tuổi) và em gái (2 tuổi) tại xã H, được quy định như thế nào?']\n",
      "None\n",
      "Query 1 có 25 kết quả\n",
      "None\n",
      "Query 2 có 25 kết quả\n",
      "None\n",
      "Query 3 có 25 kết quả\n",
      "None\n",
      "Query 4 có 25 kết quả\n",
      "Tổng số kết quả tìm được: 100\n",
      "Số document khi xoá trùng 50\n",
      "Số document sau khi qua rerank: 5\n"
     ]
    },
    {
     "name": "stderr",
     "output_type": "stream",
     "text": [
      "Sinh trả lời:  13%|█▎        | 155/1204 [2:50:00<18:58:52, 65.14s/it]"
     ]
    },
    {
     "name": "stdout",
     "output_type": "stream",
     "text": [
      "['Câu 61. Trẻ em cần được bảo vệ khẩn cấp trong những trường hợp nào? Người làm công tác bảo vệ trẻ em cấp xã, cơ quan công an và cơ sở khám chữa bệnh có trách nhiệm gì đối với việc can thiệp trong trường hợp trẻ em cần được bảo vệ khẩn cấp?', 'Những trường hợp nào trẻ em cần được bảo vệ khẩn cấp theo quy định pháp luật? Trách nhiệm của người làm công tác bảo vệ trẻ em cấp xã, cơ quan công an và cơ sở khám chữa bệnh trong việc can thiệp bảo vệ khẩn cấp trẻ em được quy định như thế nào?', 'Quy định pháp luật về các tình huống trẻ em cần được bảo vệ khẩn cấp là gì? Người làm công tác bảo vệ trẻ em cấp xã, cơ quan công an và cơ sở khám chữa bệnh có nghĩa vụ gì khi can thiệp vào các trường hợp bảo vệ khẩn cấp trẻ em?', 'Căn cứ pháp lý nào quy định về các trường hợp trẻ em cần được bảo vệ khẩn cấp? Phạm vi trách nhiệm của nhân viên bảo vệ trẻ em cấp xã, công an và cơ sở y tế trong việc can thiệp bảo vệ khẩn cấp trẻ em được xác định như thế nào?']\n",
      "None\n",
      "Query 1 có 25 kết quả\n",
      "None\n",
      "Query 2 có 25 kết quả\n",
      "None\n",
      "Query 3 có 25 kết quả\n",
      "should=[FieldCondition(key='metadata.NgayBanHanhFilter', match=MatchAny(any=['yyyy']), range=None, geo_bounding_box=None, geo_radius=None, geo_polygon=None, values_count=None, is_empty=None, is_null=None)] min_should=None must=None must_not=None\n",
      "Query 4 có 0 kết quả\n",
      "Tổng số kết quả tìm được: 75\n",
      "Số document khi xoá trùng 31\n",
      "Số document sau khi qua rerank: 5\n"
     ]
    },
    {
     "name": "stderr",
     "output_type": "stream",
     "text": [
      "Sinh trả lời:  13%|█▎        | 156/1204 [2:50:48<17:24:54, 59.82s/it]"
     ]
    },
    {
     "name": "stdout",
     "output_type": "stream",
     "text": [
      "['Câu 62. Xin hỏi, trẻ em được tạm thời cách ly khỏi cha, mẹ, người chăm sóc trong trường hợp nào? Các biện pháp chăm sóc áp dụng đối với trẻ em khi buộc phải cách ly khỏi cha, mẹ, người chăm sóc là gì?', 'Trường hợp nào trẻ em phải cách ly tạm thời khỏi cha mẹ hoặc người giám hộ theo quy định pháp luật hiện hành? Biện pháp bảo vệ trẻ em được áp dụng khi có quyết định cách ly khỏi gia đình là gì?', 'Quy định pháp luật về việc tạm thời cách ly trẻ em khỏi cha mẹ, người chăm sóc bao gồm những trường hợp cụ thể nào? Các biện pháp chăm sóc đặc biệt nào được áp dụng cho trẻ em trong tình huống này?', 'Xin hỏi, theo luật pháp Việt Nam, những tình huống nào cho phép cách ly trẻ em khỏi cha mẹ hoặc người giám hộ? Các biện pháp hỗ trợ và bảo vệ trẻ em được thực hiện khi trẻ em bị cách ly khỏi gia đình là gì?']\n",
      "None\n",
      "Query 1 có 25 kết quả\n",
      "None\n",
      "Query 2 có 25 kết quả\n",
      "None\n",
      "Query 3 có 25 kết quả\n",
      "None\n",
      "Query 4 có 25 kết quả\n",
      "Tổng số kết quả tìm được: 100\n",
      "Số document khi xoá trùng 50\n",
      "Số document sau khi qua rerank: 5\n"
     ]
    },
    {
     "name": "stderr",
     "output_type": "stream",
     "text": [
      "Sinh trả lời:  13%|█▎        | 157/1204 [2:51:29<15:43:52, 54.09s/it]"
     ]
    },
    {
     "name": "stdout",
     "output_type": "stream",
     "text": [
      "['Câu 63. Cơ sở cung cấp dịch vụ bảo vệ trẻ em là gì? Cơ sở cung cấp dịch vụ bảo vệ trẻ em được tổ chức theo mấy loại hình?', 'Cơ sở cung cấp dịch vụ bảo vệ trẻ em được định nghĩa như thế nào theo quy định pháp luật hiện hành? Các loại hình tổ chức của cơ sở này được quy định ra sao?', 'Quy định pháp luật hiện hành về bảo vệ trẻ em định nghĩa và phân loại các cơ sở cung cấp dịch vụ bảo vệ trẻ em như thế nào?', 'Các văn bản pháp luật nào quy định về cơ sở cung cấp dịch vụ bảo vệ trẻ em và các loại hình tổ chức của chúng?']\n",
      "None\n",
      "Query 1 có 25 kết quả\n",
      "None\n",
      "Query 2 có 25 kết quả\n",
      "should=[FieldCondition(key='metadata.NgayBanHanhFilter', match=MatchAny(any=['now']), range=None, geo_bounding_box=None, geo_radius=None, geo_polygon=None, values_count=None, is_empty=None, is_null=None)] min_should=None must=None must_not=None\n",
      "Query 3 có 0 kết quả\n",
      "None\n",
      "Query 4 có 25 kết quả\n",
      "Tổng số kết quả tìm được: 75\n",
      "Số document khi xoá trùng 36\n",
      "Số document sau khi qua rerank: 5\n"
     ]
    },
    {
     "name": "stderr",
     "output_type": "stream",
     "text": [
      "Sinh trả lời:  13%|█▎        | 158/1204 [2:52:19<15:21:59, 52.89s/it]"
     ]
    },
    {
     "name": "stdout",
     "output_type": "stream",
     "text": [
      "['Câu 64. Ông bà Hạnh Nguyễn là Việt Kiều tại Canada. Đến tuổi nghỉ hưu, ông bà đã xin chuyển về Việt Nam sinh sống. Để tham gia các hoạt động có ích cho xã hội, ông bà dự định thành lập một cơ sở cung cấp các dịch vụ chăm sóc và bảo vệ trẻ em ngay tại quê nhà của mình. Ông bà có hỏi, pháp luật Việt Nam quy định thế nào về điều kiện thành lập, đăng ký hoạt động của cơ sở cung cấp dịch vụ bảo vệ trẻ em?', 'Điều kiện và thủ tục thành lập cơ sở cung cấp dịch vụ bảo vệ trẻ em tại Việt Nam theo quy định pháp luật hiện hành?', 'Việt kiều hồi hương muốn mở cơ sở dịch vụ chăm sóc trẻ em, cần đáp ứng những yêu cầu pháp lý nào về đăng ký và hoạt động theo luật Việt Nam?', 'Quy định của pháp luật Việt Nam về điều kiện thành lập và đăng ký hoạt động cho cơ sở cung cấp dịch vụ bảo vệ trẻ em được quy định tại văn bản pháp luật nào?']\n",
      "None\n",
      "Query 1 có 25 kết quả\n",
      "None\n",
      "Query 2 có 25 kết quả\n",
      "None\n",
      "Query 3 có 25 kết quả\n",
      "None\n",
      "Query 4 có 25 kết quả\n",
      "Tổng số kết quả tìm được: 100\n",
      "Số document khi xoá trùng 50\n",
      "Số document sau khi qua rerank: 5\n"
     ]
    },
    {
     "name": "stderr",
     "output_type": "stream",
     "text": [
      "Sinh trả lời:  13%|█▎        | 159/1204 [2:54:01<19:40:04, 67.76s/it]"
     ]
    },
    {
     "name": "stdout",
     "output_type": "stream",
     "text": [
      "['Câu 65. Tôi dự định  thành lập 01 cơ sở cung cấp dịch vụ bảo vệ trẻ em. Tôi muốn hỏi, việc cấp đăng ký hoạt động đối với cơ sở cung cấp dịch vụ bảo vệ trẻ em thuộc thẩm quyền của cơ quan nhà nước nào?', 'Cơ quan nhà nước nào có thẩm quyền cấp phép đăng ký hoạt động cho cơ sở cung cấp dịch vụ bảo vệ trẻ em theo quy định pháp luật hiện hành?', 'Thủ tục và cơ quan có thẩm quyền cấp đăng ký hoạt động cho cơ sở cung cấp dịch vụ bảo vệ trẻ em được quy định cụ thể tại văn bản pháp luật nào?', 'Quy định pháp luật về thẩm quyền của cơ quan nhà nước trong việc cấp phép và quản lý hoạt động của các cơ sở cung cấp dịch vụ bảo vệ trẻ em là gì?']\n",
      "None\n",
      "Query 1 có 25 kết quả\n",
      "None\n",
      "Query 2 có 25 kết quả\n",
      "None\n",
      "Query 3 có 25 kết quả\n",
      "None\n",
      "Query 4 có 25 kết quả\n",
      "Tổng số kết quả tìm được: 100\n",
      "Số document khi xoá trùng 50\n",
      "Số document sau khi qua rerank: 5\n"
     ]
    },
    {
     "name": "stderr",
     "output_type": "stream",
     "text": [
      "Sinh trả lời:  13%|█▎        | 160/1204 [2:55:17<20:23:11, 70.30s/it]"
     ]
    },
    {
     "name": "stdout",
     "output_type": "stream",
     "text": [
      "['Câu 66. Một cơ sở cung cấp dịch vụ bảo vệ trẻ em trên tỉnh A vừa mới được thành lập, do bà Trần T. P là người đại diện. Xin được hỏi, sau khi được công nhận thành lập, cơ sở cung cấp dịch vụ này sẽ hoạt động như thế nào theo quy định?', 'Quy định pháp luật hiện hành điều chỉnh hoạt động của cơ sở cung cấp dịch vụ bảo vệ trẻ em mới thành lập do bà Trần T. P làm đại diện tại tỉnh A như thế nào?', 'Cơ sở cung cấp dịch vụ bảo vệ trẻ em sau khi được công nhận thành lập phải tuân thủ những quy trình và quy định nào theo luật định?', 'Hoạt động của cơ sở dịch vụ bảo vệ trẻ em do bà Trần T. P đại diện tại tỉnh A sẽ được điều chỉnh bởi văn bản pháp luật nào và nội dung cụ thể ra sao?']\n",
      "None\n",
      "Query 1 có 25 kết quả\n",
      "None\n",
      "Query 2 có 25 kết quả\n",
      "None\n",
      "Query 3 có 25 kết quả\n",
      "None\n",
      "Query 4 có 25 kết quả\n",
      "Tổng số kết quả tìm được: 100\n",
      "Số document khi xoá trùng 48\n",
      "Số document sau khi qua rerank: 5\n"
     ]
    },
    {
     "name": "stderr",
     "output_type": "stream",
     "text": [
      "Sinh trả lời:  13%|█▎        | 161/1204 [2:56:17<19:24:55, 67.01s/it]"
     ]
    },
    {
     "name": "stdout",
     "output_type": "stream",
     "text": [
      "['Câu 67. Xin hỏi, cơ sở cung cấp dịch vụ bảo vệ trẻ em bị đình chỉ hoạt động trong trường hợp nào? Vấn đề này được quy định ở đâu?', 'Cơ sở cung cấp dịch vụ bảo vệ trẻ em bị đình chỉ hoạt động trong những trường hợp pháp lý nào và văn bản nào quy định chi tiết?', 'Những tình huống nào theo quy định của pháp luật dẫn đến việc cơ sở cung cấp dịch vụ bảo vệ trẻ em bị tạm ngừng hoạt động và điều này được ghi nhận tại điều khoản nào?', 'Căn cứ pháp lý nào quy định về các trường hợp cơ sở cung cấp dịch vụ bảo vệ trẻ em phải đối mặt với việc đình chỉ hoạt động?']\n",
      "None\n",
      "Query 1 có 25 kết quả\n",
      "None\n",
      "Query 2 có 25 kết quả\n",
      "None\n",
      "Query 3 có 25 kết quả\n",
      "None\n",
      "Query 4 có 25 kết quả\n",
      "Tổng số kết quả tìm được: 100\n",
      "Số document khi xoá trùng 38\n",
      "Số document sau khi qua rerank: 5\n"
     ]
    },
    {
     "name": "stderr",
     "output_type": "stream",
     "text": [
      "Sinh trả lời:  13%|█▎        | 162/1204 [2:57:02<17:29:00, 60.40s/it]"
     ]
    },
    {
     "name": "stdout",
     "output_type": "stream",
     "text": [
      "['Câu 68. Tại nơi tôi sinh sống, có một số cháu bé có hoàn cảnh đặc biệt, không được cha mẹ nuôi dưỡng. Tôi xin hỏi, trong những trường hợp nào thì trẻ em cần chăm sóc thay thế và thông qua những hình thức nào?', 'Trường hợp nào trẻ em cần được chăm sóc thay thế theo quy định pháp luật hiện hành và các hình thức chăm sóc thay thế bao gồm những gì?', 'Quy định pháp luật về các trường hợp trẻ em cần được chăm sóc thay thế và các biện pháp, hình thức chăm sóc thay thế được áp dụng?', 'Tìm hiểu quy định của pháp luật Việt Nam về điều kiện trẻ em cần chăm sóc thay thế và các hình thức chăm sóc thay thế theo luật định.']\n",
      "None\n",
      "Query 1 có 25 kết quả\n",
      "None\n",
      "Query 2 có 25 kết quả\n",
      "None\n",
      "Query 3 có 25 kết quả\n",
      "None\n",
      "Query 4 có 25 kết quả\n",
      "Tổng số kết quả tìm được: 100\n",
      "Số document khi xoá trùng 43\n",
      "Số document sau khi qua rerank: 5\n"
     ]
    },
    {
     "name": "stderr",
     "output_type": "stream",
     "text": [
      "Sinh trả lời:  14%|█▎        | 163/1204 [2:57:43<15:48:08, 54.65s/it]"
     ]
    },
    {
     "name": "stdout",
     "output_type": "stream",
     "text": [
      "['Câu 69. Ở cùng xã với gia đình tôi, cháu Q có hoàn cảnh rất éo le. Bố mất vì tai nạn, mẹ lại bệnh nặng, không thể lao động để nuôi sống Q, họ hàng, người thân của cháu đều rất khó khăn. Chúng tôi rất thương cháu Q. Vậy, gia đình tôi có thể nhận cháu Q về để chăm sóc thay thế hay không? Vậy, điều kiện để cá nhân, gia đình nhận chăm sóc thay thế là gì?', 'Điều kiện và thủ tục pháp lý để gia đình nhận chăm sóc thay thế trẻ em có hoàn cảnh đặc biệt khó khăn theo quy định hiện hành?', 'Quy định của pháp luật về việc cá nhân, gia đình nhận nuôi dưỡng, chăm sóc thay thế trẻ em mồ côi, không nơi nương tựa, có hoàn cảnh éo le như trường hợp cháu Q?', 'Gia đình có đủ điều kiện gì để được phép nhận chăm sóc thay thế trẻ em có hoàn cảnh đặc biệt theo Luật Trẻ em và các văn bản hướng dẫn liên quan?']\n",
      "None\n",
      "Query 1 có 25 kết quả\n",
      "None\n",
      "Query 2 có 25 kết quả\n",
      "None\n",
      "Query 3 có 25 kết quả\n",
      "should=[FieldCondition(key='metadata.LoaiVanBanFilter', match=MatchValue(value='luật'), range=None, geo_bounding_box=None, geo_radius=None, geo_polygon=None, values_count=None, is_empty=None, is_null=None)] min_should=None must=None must_not=None\n",
      "Query 4 có 25 kết quả\n",
      "Tổng số kết quả tìm được: 100\n",
      "Số document khi xoá trùng 50\n",
      "Số document sau khi qua rerank: 5\n"
     ]
    },
    {
     "name": "stderr",
     "output_type": "stream",
     "text": [
      "Sinh trả lời:  14%|█▎        | 164/1204 [2:58:45<16:26:56, 56.94s/it]"
     ]
    },
    {
     "name": "stdout",
     "output_type": "stream",
     "text": [
      "['Câu 70. Cá nhân, người đại diện gia đình có nguyện vọng và đủ điều kiện muốn đăng ký nhận trẻ em về chăm sóc thay thế thì phải gửi đơn đến cơ quan nào? Hồ sơ gồm những giấy tờ gì?', 'Cá nhân, người đại diện gia đình muốn đăng ký nhận trẻ em chăm sóc thay thế cần gửi đơn đến cơ quan nào và hồ sơ bao gồm những giấy tờ gì theo quy định pháp luật hiện hành?', 'Trình tự, thủ tục và hồ sơ cần thiết để cá nhân hoặc người đại diện gia đình đăng ký nhận trẻ em về chăm sóc thay thế được quy định cụ thể tại văn bản pháp luật nào?', 'Cơ quan có thẩm quyền tiếp nhận đơn đăng ký nhận trẻ em về chăm sóc thay thế của cá nhân, người đại diện gia đình là cơ quan nào? Yêu cầu về hồ sơ đăng ký bao gồm những gì?']\n",
      "None\n",
      "Query 1 có 25 kết quả\n",
      "None\n",
      "Query 2 có 25 kết quả\n",
      "None\n",
      "Query 3 có 25 kết quả\n",
      "None\n",
      "Query 4 có 25 kết quả\n",
      "Tổng số kết quả tìm được: 100\n",
      "Số document khi xoá trùng 44\n",
      "Số document sau khi qua rerank: 5\n"
     ]
    },
    {
     "name": "stderr",
     "output_type": "stream",
     "text": [
      "Sinh trả lời:  14%|█▎        | 165/1204 [2:59:31<15:28:00, 53.59s/it]"
     ]
    },
    {
     "name": "stdout",
     "output_type": "stream",
     "text": [
      "['Câu 71. Quyết định giao trẻ em cho cá nhân, gia đình nhận chăm sóc thay thế thuộc thẩm quyền của cơ quan nào?', 'Cơ quan nào có thẩm quyền quyết định việc giao trẻ em cho cá nhân, gia đình nhận chăm sóc thay thế theo quy định pháp luật hiện hành?', 'Quy định pháp luật về việc giao trẻ em cho cá nhân, gia đình chăm sóc thay thế: Cơ quan nào có thẩm quyền ra quyết định?', 'Thẩm quyền của cơ quan nào được quy định trong việc quyết định giao trẻ em cho cá nhân, gia đình nhận chăm sóc thay thế theo pháp luật Việt Nam?']\n",
      "None\n",
      "Query 1 có 25 kết quả\n",
      "None\n",
      "Query 2 có 25 kết quả\n",
      "None\n",
      "Query 3 có 25 kết quả\n",
      "None\n",
      "Query 4 có 25 kết quả\n",
      "Tổng số kết quả tìm được: 100\n",
      "Số document khi xoá trùng 35\n",
      "Số document sau khi qua rerank: 5\n"
     ]
    },
    {
     "name": "stderr",
     "output_type": "stream",
     "text": [
      "Sinh trả lời:  14%|█▍        | 166/1204 [3:00:19<14:57:44, 51.89s/it]"
     ]
    },
    {
     "name": "stdout",
     "output_type": "stream",
     "text": [
      "['Câu 72. Hiệp là một trong những trường hợp trẻ em có hoàn cảnh đặc biệt. Mẹ Hiệp mất sớm, bố lấy vợ mới nhưng đã bỏ đi biệt tích nhiều năm liền. Hiện nay, việc nuôi dưỡng, chăm sóc anh em Hiệp do Sinh – bà ngoại của hai cháu thực hiện. Tuy nhiên, bà Sinh đã ngoài 80 tuổi, nên khả năng lao động để nuôi hai cháu đi học gặp rất nhiều khó khăn. Xin hỏi, trong hoàn cảnh này, hai anh em Hiệp có thể được nhận sự trợ cấp, giúp đỡ của Nhà nước, các cơ quan, tổ chức, cá nhân để tiếp tục đến trường hay không? Pháp luật có quy định gì về việc hỗ trợ kinh phí chăm sóc, nuôi dưỡng để thực hiện việc chăm sóc thay thế trẻ em?', 'Trường hợp trẻ em mồ côi, không nơi nương tựa, sống với bà ngoại già yếu có được hưởng trợ cấp xã hội và hỗ trợ giáo dục theo quy định pháp luật hiện hành không?', 'Chính sách hỗ trợ của Nhà nước đối với trẻ em có hoàn cảnh đặc biệt như mồ côi, bị bỏ rơi, sống cùng người thân không đủ khả năng nuôi dưỡng được quy định như thế nào?', 'Quy định pháp luật về trợ cấp, hỗ trợ kinh phí chăm sóc thay thế cho trẻ em mồ côi, không người nuôi dưỡng hoặc người nuôi dưỡng không đủ điều kiện kinh tế được quy định tại văn bản pháp luật nào?']\n",
      "None\n",
      "Query 1 có 25 kết quả\n",
      "None\n",
      "Query 2 có 25 kết quả\n",
      "None\n",
      "Query 3 có 25 kết quả\n",
      "None\n",
      "Query 4 có 25 kết quả\n",
      "Tổng số kết quả tìm được: 100\n",
      "Số document khi xoá trùng 49\n",
      "Số document sau khi qua rerank: 5\n"
     ]
    },
    {
     "name": "stderr",
     "output_type": "stream",
     "text": [
      "Sinh trả lời:  14%|█▍        | 167/1204 [3:01:17<15:28:02, 53.70s/it]"
     ]
    },
    {
     "name": "stdout",
     "output_type": "stream",
     "text": [
      "['Câu 73. Gia đình tôi đã tìm thấy và nhận chăm sóc thay thế đối với bé N khi bé bị bỏ rơi. Nay, cơ quan chức năng đã xác định được bố mẹ cho cháu. Tôi muốn hỏi, trong trường hợp nào thì việc chăm sóc thay thế đối với bé N của gia đình sẽ chấm dứt?', 'Trong những trường hợp nào theo quy định pháp luật, việc chăm sóc thay thế đối với trẻ em bị bỏ rơi như bé N sẽ chấm dứt khi đã tìm được cha mẹ ruột?', 'Căn cứ pháp lý nào quy định về việc chấm dứt chăm sóc thay thế trẻ em khi xác định được cha mẹ đẻ, và gia đình tôi cần đáp ứng điều kiện gì để việc chấm dứt này xảy ra đối với bé N?', 'Việc chấm dứt chăm sóc thay thế đối với trẻ em bị bỏ rơi đã tìm được cha mẹ ruột được quy định cụ thể tại văn bản pháp luật nào của Việt Nam, và những yếu tố nào ảnh hưởng đến quyết định này trong trường hợp của bé N?']\n",
      "None\n",
      "Query 1 có 25 kết quả\n",
      "None\n",
      "Query 2 có 25 kết quả\n",
      "None\n",
      "Query 3 có 25 kết quả\n",
      "None\n",
      "Query 4 có 25 kết quả\n",
      "Tổng số kết quả tìm được: 100\n",
      "Số document khi xoá trùng 41\n",
      "Số document sau khi qua rerank: 5\n"
     ]
    },
    {
     "name": "stderr",
     "output_type": "stream",
     "text": [
      "Sinh trả lời:  14%|█▍        | 168/1204 [3:01:52<13:52:59, 48.24s/it]"
     ]
    },
    {
     "name": "stdout",
     "output_type": "stream",
     "text": [
      "['Câu 74. Hai năm trước, gia đình tôi nhận chăm sóc bé Na do hoàn cảnh đặc biệt của bé. Hiện nay, bố mẹ đẻ của cháu đã trở về và có điều kiện chăm sóc cháu hơn gia đình tôi. Chúng tôi định giao bé trở về đoàn tụ với gia đình để được chăm sóc tốt hơn. Chúng tôi có phải làm đơn đề nghị chấm dứt việc chăm sóc thay thế không? Đơn này phải gửi đến cơ quan nào?', 'Mẫu đơn đề nghị chấm dứt chăm sóc thay thế cho trẻ em trong trường hợp cha mẹ đẻ đã đủ điều kiện nuôi dưỡng theo quy định pháp luật hiện hành?', 'Thủ tục pháp lý để hoàn trả lại quyền nuôi con cho cha mẹ đẻ sau thời gian chăm sóc thay thế được quy định như thế nào? Cơ quan nào có thẩm quyền giải quyết?', 'Hồ sơ và quy trình chấm dứt việc chăm sóc thay thế trẻ em khi gia đình có nguyện vọng trả lại con cho cha mẹ ruột theo luật bảo vệ trẻ em?']\n",
      "None\n",
      "Query 1 có 25 kết quả\n",
      "None\n",
      "Query 2 có 25 kết quả\n",
      "None\n",
      "Query 3 có 25 kết quả\n",
      "None\n",
      "Query 4 có 25 kết quả\n",
      "Tổng số kết quả tìm được: 100\n",
      "Số document khi xoá trùng 50\n",
      "Số document sau khi qua rerank: 5\n"
     ]
    },
    {
     "name": "stderr",
     "output_type": "stream",
     "text": [
      "Sinh trả lời:  14%|█▍        | 169/1204 [3:03:00<15:30:23, 53.94s/it]"
     ]
    },
    {
     "name": "stdout",
     "output_type": "stream",
     "text": [
      "['Câu 75. Pháp luật quy định như thế nào về lựa chọn hình thức chăm sóc và thứ tự ưu tiên chọn cá nhân, gia đình nhận chăm sóc thay thế đối với trẻ em có hoàn cảnh đặc biệt?', 'Pháp luật hiện hành quy định về hình thức chăm sóc thay thế nào cho trẻ em có hoàn cảnh đặc biệt và thứ tự ưu tiên lựa chọn cá nhân, gia đình nhận chăm sóc được quy định cụ thể ra sao?', 'Quy định pháp luật về việc lựa chọn hình thức chăm sóc thay thế cho trẻ em có hoàn cảnh đặc biệt và tiêu chí ưu tiên đối với cá nhân, gia đình nhận chăm sóc thay thế được thể hiện trong văn bản pháp luật nào?', 'Trình tự ưu tiên lựa chọn cá nhân, gia đình nhận chăm sóc thay thế cho trẻ em có hoàn cảnh đặc biệt được quy định như thế nào theo luật pháp Việt Nam hiện hành?']\n",
      "None\n",
      "Query 1 có 25 kết quả\n",
      "None\n",
      "Query 2 có 25 kết quả\n",
      "None\n",
      "Query 3 có 25 kết quả\n",
      "None\n",
      "Query 4 có 25 kết quả\n",
      "Tổng số kết quả tìm được: 100\n",
      "Số document khi xoá trùng 44\n",
      "Số document sau khi qua rerank: 5\n"
     ]
    },
    {
     "name": "stderr",
     "output_type": "stream",
     "text": [
      "Sinh trả lời:  14%|█▍        | 170/1204 [3:03:45<14:43:40, 51.28s/it]"
     ]
    },
    {
     "name": "stdout",
     "output_type": "stream",
     "text": [
      "['Câu 76. Hiện nay, có rất nhiều trường hợp trẻ em có hoàn cảnh khó khăn được cá nhân, gia đình, các cơ sở trợ giúp xã hội nhận nuôi dưỡng, chăm sóc thay thế, giúp các em có nơi nương tựa, học tập, sinh sống. Pháp luật có quy định như thế nào về việc giám sát quá trình phát triển của trẻ em được nhận chăm sóc?', 'Pháp luật hiện hành quy định như thế nào về việc giám sát sự phát triển của trẻ em có hoàn cảnh khó khăn được nhận nuôi dưỡng thay thế bởi cá nhân, gia đình hoặc cơ sở trợ giúp xã hội?', 'Quy định pháp luật về giám sát quá trình phát triển của trẻ em được chăm sóc thay thế, bao gồm trẻ em có hoàn cảnh đặc biệt được nhận nuôi dưỡng bởi cá nhân, gia đình, cơ sở trợ giúp xã hội, được thể hiện trong văn bản pháp luật nào?', 'Các văn bản pháp luật nào quy định chi tiết về trách nhiệm và quy trình giám sát sự phát triển toàn diện của trẻ em có hoàn cảnh khó khăn, được nhận chăm sóc thay thế bởi các tổ chức và cá nhân theo quy định của pháp luật?']\n",
      "None\n",
      "Query 1 có 25 kết quả\n",
      "None\n",
      "Query 2 có 25 kết quả\n",
      "None\n",
      "Query 3 có 25 kết quả\n",
      "None\n",
      "Query 4 có 25 kết quả\n",
      "Tổng số kết quả tìm được: 100\n",
      "Số document khi xoá trùng 43\n",
      "Số document sau khi qua rerank: 5\n"
     ]
    },
    {
     "name": "stderr",
     "output_type": "stream",
     "text": [
      "Sinh trả lời:  14%|█▍        | 171/1204 [3:04:36<14:45:37, 51.44s/it]"
     ]
    },
    {
     "name": "stdout",
     "output_type": "stream",
     "text": [
      "['Câu 77. Những trường hợp nào trẻ em được nhận chăm sóc thay thế tại cơ sở trợ giúp xã hội?', 'Những trường hợp nào trẻ em được pháp luật quy định được nhận chăm sóc thay thế tại các cơ sở trợ giúp xã hội?', 'Căn cứ pháp lý nào quy định về việc trẻ em được nhận chăm sóc thay thế tại cơ sở trợ giúp xã hội?', 'Quy định của pháp luật về các trường hợp trẻ em được hưởng chế độ chăm sóc thay thế tại các trung tâm bảo trợ xã hội là gì?']\n",
      "None\n",
      "Query 1 có 25 kết quả\n",
      "None\n",
      "Query 2 có 25 kết quả\n",
      "None\n",
      "Query 3 có 25 kết quả\n",
      "None\n",
      "Query 4 có 25 kết quả\n",
      "Tổng số kết quả tìm được: 100\n",
      "Số document khi xoá trùng 33\n",
      "Số document sau khi qua rerank: 5\n"
     ]
    },
    {
     "name": "stderr",
     "output_type": "stream",
     "text": [
      "Sinh trả lời:  14%|█▍        | 172/1204 [3:05:05<12:44:38, 44.46s/it]"
     ]
    },
    {
     "name": "stdout",
     "output_type": "stream",
     "text": [
      "['Câu 79. Các yêu cầu khi bảo vệ trẻ em trong quá trình tố tụng, xử lý vi phạm hành chính, phục hồi và tái hòa nhập cộng đồng là gì?', 'Các yêu cầu pháp lý để bảo vệ trẻ em trong quá trình tố tụng, xử lý vi phạm hành chính, phục hồi và tái hòa nhập cộng đồng được quy định như thế nào?', 'Quy định pháp luật về các biện pháp bảo vệ trẻ em trong quá trình tố tụng, xử lý vi phạm hành chính và tái hòa nhập cộng đồng là gì?', 'Yêu cầu và quy trình bảo vệ quyền lợi của trẻ em trong các hoạt động tố tụng, xử lý vi phạm hành chính, cũng như phục hồi và tái hòa nhập cộng đồng được pháp luật Việt Nam quy định ra sao?']\n",
      "None\n",
      "Query 1 có 25 kết quả\n",
      "None\n",
      "Query 2 có 25 kết quả\n",
      "None\n",
      "Query 3 có 25 kết quả\n",
      "should=[FieldCondition(key='metadata.NgayBanHanhFilter', match=MatchAny(any=['yyyy']), range=None, geo_bounding_box=None, geo_radius=None, geo_polygon=None, values_count=None, is_empty=None, is_null=None)] min_should=None must=None must_not=None\n",
      "Query 4 có 0 kết quả\n",
      "Tổng số kết quả tìm được: 75\n",
      "Số document khi xoá trùng 49\n",
      "Số document sau khi qua rerank: 5\n"
     ]
    },
    {
     "name": "stderr",
     "output_type": "stream",
     "text": [
      "Sinh trả lời:  14%|█▍        | 173/1204 [3:05:48<12:40:33, 44.26s/it]"
     ]
    },
    {
     "name": "stdout",
     "output_type": "stream",
     "text": [
      "['Câu 80. Những trường hợp nào trẻ em vi phạm pháp luật được áp dụng các biện pháp bảo vệ đối với trẻ em?', 'Các trường hợp trẻ em vi phạm pháp luật nào được hưởng các biện pháp bảo vệ theo quy định pháp luật hiện hành?', 'Quy định pháp luật về áp dụng biện pháp bảo vệ trẻ em trong trường hợp trẻ em vi phạm pháp luật?', 'Trẻ em vi phạm pháp luật trong những tình huống nào thì được áp dụng các biện pháp bảo vệ theo luật trẻ em?']\n",
      "None\n",
      "Query 1 có 25 kết quả\n",
      "None\n",
      "Query 2 có 25 kết quả\n",
      "None\n",
      "Query 3 có 25 kết quả\n",
      "None\n",
      "Query 4 có 25 kết quả\n",
      "Tổng số kết quả tìm được: 100\n",
      "Số document khi xoá trùng 41\n",
      "Số document sau khi qua rerank: 5\n"
     ]
    },
    {
     "name": "stderr",
     "output_type": "stream",
     "text": [
      "Sinh trả lời:  14%|█▍        | 174/1204 [3:06:30<12:26:11, 43.47s/it]"
     ]
    },
    {
     "name": "stdout",
     "output_type": "stream",
     "text": [
      "['Câu 81. Có những biện pháp gì để bảo vệ trẻ em vi phạm pháp luật, trẻ em là người làm chứng?', 'Các biện pháp pháp lý nào được áp dụng để bảo vệ trẻ em vi phạm pháp luật và trẻ em là người làm chứng theo quy định hiện hành?', 'Quy định pháp luật về các biện pháp bảo vệ trẻ em phạm tội và trẻ em tham gia tố tụng với tư cách là người làm chứng?', 'Pháp luật Việt Nam có những cơ chế và biện pháp cụ thể nào để bảo vệ quyền lợi của trẻ em vi phạm pháp luật và trẻ em là người làm chứng trong các vụ án?']\n",
      "None\n",
      "Query 1 có 25 kết quả\n",
      "None\n",
      "Query 2 có 25 kết quả\n",
      "should=[FieldCondition(key='metadata.NgayBanHanhFilter', match=MatchAny(any=['yyyy']), range=None, geo_bounding_box=None, geo_radius=None, geo_polygon=None, values_count=None, is_empty=None, is_null=None)] min_should=None must=None must_not=None\n",
      "Query 3 có 0 kết quả\n",
      "None\n",
      "Query 4 có 25 kết quả\n",
      "Tổng số kết quả tìm được: 75\n",
      "Số document khi xoá trùng 38\n",
      "Số document sau khi qua rerank: 5\n"
     ]
    },
    {
     "name": "stderr",
     "output_type": "stream",
     "text": [
      "Sinh trả lời:  15%|█▍        | 175/1204 [3:07:11<12:13:30, 42.77s/it]"
     ]
    },
    {
     "name": "stdout",
     "output_type": "stream",
     "text": [
      "['Câu 82. Chủ tịch Ủy ban nhân dân cấp xã lập hồ sơ đề nghị đưa trẻ em vào cơ sở trợ giúp xã hội trong những trường hợp nào?', 'Những trường hợp nào Chủ tịch UBND cấp xã phải lập hồ sơ đề nghị đưa trẻ em vào cơ sở trợ giúp xã hội theo quy định pháp luật?', 'Căn cứ pháp lý nào quy định về việc Chủ tịch UBND cấp xã lập hồ sơ đề nghị đưa trẻ em vào cơ sở trợ giúp xã hội?', 'Trường hợp nào theo quy định, Chủ tịch Ủy ban nhân dân cấp xã có trách nhiệm lập hồ sơ đề nghị đưa trẻ em vào cơ sở trợ giúp xã hội?']\n",
      "None\n",
      "Query 1 có 25 kết quả\n",
      "None\n",
      "Query 2 có 25 kết quả\n",
      "None\n",
      "Query 3 có 25 kết quả\n",
      "None\n",
      "Query 4 có 25 kết quả\n",
      "Tổng số kết quả tìm được: 100\n",
      "Số document khi xoá trùng 40\n",
      "Số document sau khi qua rerank: 5\n"
     ]
    },
    {
     "name": "stderr",
     "output_type": "stream",
     "text": [
      "Sinh trả lời:  15%|█▍        | 176/1204 [3:08:06<13:17:07, 46.52s/it]"
     ]
    },
    {
     "name": "stdout",
     "output_type": "stream",
     "text": [
      "['Câu 83. Công tác phục hồi và tái hòa nhập cộng đồng cho trẻ em vi phạm pháp luật được quy định như thế nào?', 'Các quy định pháp luật hiện hành điều chỉnh công tác phục hồi và tái hòa nhập cộng đồng cho trẻ em vi phạm pháp luật là gì?', 'Văn bản pháp luật nào quy định chi tiết về quy trình, thủ tục phục hồi và tái hòa nhập cộng đồng cho trẻ em có hành vi vi phạm pháp luật?', 'Tìm hiểu các chính sách và biện pháp hỗ trợ phục hồi, tái hòa nhập cộng đồng cho trẻ em vi phạm pháp luật theo quy định của pháp luật Việt Nam.']\n",
      "None\n",
      "Query 1 có 25 kết quả\n",
      "None\n",
      "Query 2 có 25 kết quả\n",
      "None\n",
      "Query 3 có 25 kết quả\n",
      "None\n",
      "Query 4 có 25 kết quả\n",
      "Tổng số kết quả tìm được: 100\n",
      "Số document khi xoá trùng 47\n",
      "Số document sau khi qua rerank: 5\n"
     ]
    },
    {
     "name": "stderr",
     "output_type": "stream",
     "text": [
      "Sinh trả lời:  15%|█▍        | 177/1204 [3:08:55<13:27:30, 47.18s/it]"
     ]
    },
    {
     "name": "stdout",
     "output_type": "stream",
     "text": [
      "['Câu 84. Vợ chồng anh T, chị Q có duy nhất cháu Minh là con trong nhà. Do Minh là con gái nên anh T cho rằng con chỉ cần ăn học và ngoan ngoãn, không cần quan tâm cũng như bận tâm đến những vấn đề khác trong gia đình, kể cả liên quan đến bản thân con, bố mẹ sẽ lo liệu, sắp xếp mọi thứ cho con. Tuy nhiên vợ anh lại nghĩ khác, theo chị, bố mẹ cần định hướng cho con phát triển đúng đắn, chứ không phải là làm tất cả cho con, hơn nữa, bố mẹ cũng cần  phải tôn trọng quyết định của con và có trách nhiệm bảo đảm cho con được tham gia vào các vấn đề khác của gia đình.. Hai vợ chồng anh T, chị Q đang rất mâu thuẫn trong quan điểm về nuôi con. Xin hỏi, sự tham gia của trẻ em trong gia đình được cha mẹ và các thành viên trong gia đình bảo đảm thực hiện như thế nào?', 'Quy định pháp luật về việc bảo đảm quyền tham gia của trẻ em vào các vấn đề gia đình được thực hiện như thế nào theo luật pháp Việt Nam?', 'Trách nhiệm của cha mẹ và các thành viên gia đình trong việc tạo điều kiện để trẻ em tham gia vào các quyết định và hoạt động của gia đình được quy định ra sao?', 'Cơ chế pháp lý nào bảo vệ quyền của trẻ em được bày tỏ ý kiến và tham gia vào các vấn đề liên quan đến cuộc sống của mình trong phạm vi gia đình?']\n",
      "None\n",
      "Query 1 có 25 kết quả\n",
      "None\n",
      "Query 2 có 25 kết quả\n",
      "None\n",
      "Query 3 có 25 kết quả\n",
      "None\n",
      "Query 4 có 25 kết quả\n",
      "Tổng số kết quả tìm được: 100\n",
      "Số document khi xoá trùng 50\n",
      "Số document sau khi qua rerank: 5\n"
     ]
    },
    {
     "name": "stderr",
     "output_type": "stream",
     "text": [
      "Sinh trả lời:  15%|█▍        | 178/1204 [3:09:50<14:05:26, 49.44s/it]"
     ]
    },
    {
     "name": "stdout",
     "output_type": "stream",
     "text": [
      "['Câu 85. Ở nước ta, cơ quan nào là tổ chức đại diện tiếng nói, nguyện vọng của trẻ em và giám sát việc thực hiện quyền trẻ em theo ý kiến, nguyện vọng của trẻ em? Và tổ chức đại diện đó thực hiện những nhiệm vụ gì?', 'Cơ quan nào ở Việt Nam đại diện cho tiếng nói, nguyện vọng của trẻ em và giám sát việc thực hiện quyền trẻ em theo luật pháp hiện hành, và cơ quan này có những trách nhiệm pháp lý gì?', 'Tổ chức nào tại Việt Nam được giao phó vai trò đại diện cho ý kiến, mong muốn của trẻ em, đồng thời giám sát việc bảo vệ quyền lợi trẻ em theo quy định của pháp luật, và tổ chức này thực hiện các nhiệm vụ cụ thể nào?', 'Theo quy định pháp luật Việt Nam, cơ quan nào có thẩm quyền đại diện cho tiếng nói và nguyện vọng của trẻ em, cũng như giám sát việc thực thi quyền trẻ em dựa trên ý kiến của trẻ em, và cơ quan này có những chức năng, nhiệm vụ gì?']\n",
      "None\n",
      "Query 1 có 25 kết quả\n",
      "None\n",
      "Query 2 có 25 kết quả\n",
      "None\n",
      "Query 3 có 25 kết quả\n",
      "should=[FieldCondition(key='metadata.NgayBanHanhFilter', match=MatchAny(any=['yyyy']), range=None, geo_bounding_box=None, geo_radius=None, geo_polygon=None, values_count=None, is_empty=None, is_null=None)] min_should=None must=None must_not=None\n",
      "Query 4 có 0 kết quả\n",
      "Tổng số kết quả tìm được: 75\n",
      "Số document khi xoá trùng 50\n",
      "Số document sau khi qua rerank: 5\n"
     ]
    },
    {
     "name": "stderr",
     "output_type": "stream",
     "text": [
      "Sinh trả lời:  15%|█▍        | 179/1204 [3:10:39<14:04:59, 49.46s/it]"
     ]
    },
    {
     "name": "stdout",
     "output_type": "stream",
     "text": [
      "['Câu 86. Trẻ em được tham gia vào các vấn đề về trẻ em thông qua các hình thức nào? Vấn đề này được quy định ở đâu?', 'Các hình thức tham gia của trẻ em vào các vấn đề liên quan đến trẻ em được pháp luật quy định như thế nào và văn bản pháp luật nào điều chỉnh vấn đề này?', 'Quy định pháp luật hiện hành về việc trẻ em tham gia ý kiến vào các vấn đề của chính mình được thể hiện qua những cơ chế và hình thức cụ thể nào?', 'Cơ sở pháp lý nào quy định về quyền tham gia của trẻ em trong các vấn đề liên quan đến trẻ em và phạm vi điều chỉnh của quy định này?']\n",
      "None\n",
      "Query 1 có 25 kết quả\n",
      "None\n",
      "Query 2 có 25 kết quả\n",
      "None\n",
      "Query 3 có 25 kết quả\n",
      "None\n",
      "Query 4 có 25 kết quả\n",
      "Tổng số kết quả tìm được: 100\n",
      "Số document khi xoá trùng 50\n",
      "Số document sau khi qua rerank: 5\n"
     ]
    },
    {
     "name": "stderr",
     "output_type": "stream",
     "text": [
      "Sinh trả lời:  15%|█▍        | 180/1204 [3:11:32<14:18:48, 50.32s/it]"
     ]
    },
    {
     "name": "stdout",
     "output_type": "stream",
     "text": [
      "['Câu 87. Học xong lớp 9, Xuân đủ điều kiện để vào học bất kỳ trường PTTH nào trong thành phố. Em muốn xin vào PTTH Chu Văn An để được thi vào chuyên Toán. Bạn em cũng có mấy đứa nộp đơn vào học trường này. Bố mẹ em lại muốn em học ở trường PTTH Quang Trung gần nhà và ở đó có cô Mai dạy giỏi Toán là bạn thân của mẹ có thể nhờ cậy được. Tuy nhiên, Xuân nhất định đòi nộp đơn vào Chu Văn An, không theo lời khuyên của bố mẹ. Bố mẹ Xuân không biết mình có buộc phải theo ý con hay được quyền bắt con phải học trường Quang Trung theo mong muốn của bố mẹ?', 'Quyền quyết định chọn trường THPT của con cái và nghĩa vụ tôn trọng ý kiến của con cái được quy định như thế nào trong luật pháp Việt Nam?', 'Cha mẹ có quyền quyết định việc học của con cái đã đủ tuổi thành niên hay không, và cơ sở pháp lý cho quyền này là gì?', 'Trong trường hợp con cái không đồng ý với lựa chọn trường THPT của cha mẹ, pháp luật Việt Nam có quy định nào về việc giải quyết tranh chấp này không?']\n",
      "None\n",
      "Query 1 có 25 kết quả\n",
      "None\n",
      "Query 2 có 25 kết quả\n",
      "None\n",
      "Query 3 có 25 kết quả\n",
      "None\n",
      "Query 4 có 25 kết quả\n",
      "Tổng số kết quả tìm được: 100\n",
      "Số document khi xoá trùng 50\n",
      "Số document sau khi qua rerank: 5\n"
     ]
    },
    {
     "name": "stderr",
     "output_type": "stream",
     "text": [
      "Sinh trả lời:  15%|█▌        | 181/1204 [3:12:36<15:31:59, 54.66s/it]"
     ]
    },
    {
     "name": "stdout",
     "output_type": "stream",
     "text": [
      "['Câu 88. Trẻ em được tham gia trực tiếp hoặc thông qua tổ chức đại diện tiếng nói, nguyện vọng của mình vào các vấn đề nào về trẻ em hoặc liên quan đến trẻ em?', 'Trẻ em có quyền tham gia ý kiến vào những vấn đề nào liên quan đến quyền lợi của trẻ em theo quy định pháp luật?', 'Quy định pháp luật về việc trẻ em được bày tỏ nguyện vọng và tham gia vào các quyết định ảnh hưởng đến cuộc sống của trẻ em?', 'Phạm vi các vấn đề mà trẻ em được tham gia ý kiến trực tiếp hoặc gián tiếp thông qua tổ chức đại diện theo luật trẻ em hiện hành?']\n",
      "None\n",
      "Query 1 có 25 kết quả\n",
      "None\n",
      "Query 2 có 25 kết quả\n",
      "None\n",
      "Query 3 có 25 kết quả\n",
      "None\n",
      "Query 4 có 25 kết quả\n",
      "Tổng số kết quả tìm được: 100\n",
      "Số document khi xoá trùng 50\n",
      "Số document sau khi qua rerank: 5\n"
     ]
    },
    {
     "name": "stderr",
     "output_type": "stream",
     "text": [
      "Sinh trả lời:  15%|█▌        | 182/1204 [3:13:21<14:36:45, 51.47s/it]"
     ]
    },
    {
     "name": "stdout",
     "output_type": "stream",
     "text": [
      "['Câu 89. Nhà trường và các cơ sở giáo dục khác có trách nhiệm bảo đảm thực hiện quyền tham gia của trẻ em vào các vấn đề của trẻ em như thế nào?', 'Trách nhiệm của nhà trường và cơ sở giáo dục trong việc bảo đảm quyền tham gia của trẻ em vào các vấn đề liên quan đến trẻ em được quy định như thế nào?', 'Quy định pháp luật về việc nhà trường và các cơ sở giáo dục khác phải bảo đảm quyền tham gia của trẻ em vào các vấn đề của trẻ em?', 'Nhà trường và cơ sở giáo dục có nghĩa vụ gì trong việc thực hiện quyền tham gia của trẻ em theo quy định của pháp luật hiện hành?']\n",
      "None\n",
      "Query 1 có 25 kết quả\n",
      "None\n",
      "Query 2 có 25 kết quả\n",
      "None\n",
      "Query 3 có 25 kết quả\n",
      "None\n",
      "Query 4 có 25 kết quả\n",
      "Tổng số kết quả tìm được: 100\n",
      "Số document khi xoá trùng 34\n",
      "Số document sau khi qua rerank: 5\n"
     ]
    },
    {
     "name": "stderr",
     "output_type": "stream",
     "text": [
      "Sinh trả lời:  15%|█▌        | 183/1204 [3:14:01<13:40:48, 48.24s/it]"
     ]
    },
    {
     "name": "stdout",
     "output_type": "stream",
     "text": [
      "['Câu 90. Xin cho biết, trách nhiệm của Bộ Giáo dục và Đào tạo trong việc thực hiện quyền trẻ em được quy định trong Luật trẻ em năm 2016?', 'Trách nhiệm của Bộ Giáo dục và Đào tạo được quy định trong Luật Trẻ em 2016 về việc thực hiện quyền trẻ em là gì?', 'Luật Trẻ em năm 2016 quy định cụ thể những trách nhiệm nào của Bộ Giáo dục và Đào tạo trong việc bảo đảm quyền lợi cho trẻ em?', 'Nội dung quy định của Luật Trẻ em 2016 về trách nhiệm của Bộ Giáo dục và Đào tạo trong việc thực thi các quyền của trẻ em là gì?']\n",
      "should=[FieldCondition(key='metadata.LoaiVanBanFilter', match=MatchValue(value='luật'), range=None, geo_bounding_box=None, geo_radius=None, geo_polygon=None, values_count=None, is_empty=None, is_null=None), FieldCondition(key='metadata.NoibanHanhFilter', match=MatchValue(value='bộ giáo dục và đào tạo'), range=None, geo_bounding_box=None, geo_radius=None, geo_polygon=None, values_count=None, is_empty=None, is_null=None), FieldCondition(key='metadata.NgayBanHanhFilter', match=MatchAny(any=['2016']), range=None, geo_bounding_box=None, geo_radius=None, geo_polygon=None, values_count=None, is_empty=None, is_null=None)] min_should=None must=None must_not=None\n",
      "Query 1 có 25 kết quả\n",
      "should=[FieldCondition(key='metadata.LoaiVanBanFilter', match=MatchValue(value='luật'), range=None, geo_bounding_box=None, geo_radius=None, geo_polygon=None, values_count=None, is_empty=None, is_null=None), FieldCondition(key='metadata.NoibanHanhFilter', match=MatchValue(value='bộ giáo dục và đào tạo'), range=None, geo_bounding_box=None, geo_radius=None, geo_polygon=None, values_count=None, is_empty=None, is_null=None), FieldCondition(key='metadata.NgayBanHanhFilter', match=MatchAny(any=['2016']), range=None, geo_bounding_box=None, geo_radius=None, geo_polygon=None, values_count=None, is_empty=None, is_null=None)] min_should=None must=None must_not=None\n",
      "Query 2 có 25 kết quả\n",
      "should=[FieldCondition(key='metadata.LoaiVanBanFilter', match=MatchValue(value='luật'), range=None, geo_bounding_box=None, geo_radius=None, geo_polygon=None, values_count=None, is_empty=None, is_null=None), FieldCondition(key='metadata.NgayBanHanhFilter', match=MatchAny(any=['2016']), range=None, geo_bounding_box=None, geo_radius=None, geo_polygon=None, values_count=None, is_empty=None, is_null=None), FieldCondition(key='metadata.NoibanHanhFilter', match=MatchValue(value='bộ giáo dục và đào tạo'), range=None, geo_bounding_box=None, geo_radius=None, geo_polygon=None, values_count=None, is_empty=None, is_null=None)] min_should=None must=None must_not=None\n",
      "Query 3 có 25 kết quả\n",
      "should=[FieldCondition(key='metadata.LoaiVanBanFilter', match=MatchValue(value='luật'), range=None, geo_bounding_box=None, geo_radius=None, geo_polygon=None, values_count=None, is_empty=None, is_null=None), FieldCondition(key='metadata.NgayBanHanhFilter', match=MatchAny(any=['2016']), range=None, geo_bounding_box=None, geo_radius=None, geo_polygon=None, values_count=None, is_empty=None, is_null=None), FieldCondition(key='metadata.NoibanHanhFilter', match=MatchValue(value='bộ giáo dục và đào tạo'), range=None, geo_bounding_box=None, geo_radius=None, geo_polygon=None, values_count=None, is_empty=None, is_null=None)] min_should=None must=None must_not=None\n",
      "Query 4 có 25 kết quả\n",
      "Tổng số kết quả tìm được: 100\n",
      "Số document khi xoá trùng 40\n",
      "Số document sau khi qua rerank: 5\n"
     ]
    },
    {
     "name": "stderr",
     "output_type": "stream",
     "text": [
      "Sinh trả lời:  15%|█▌        | 184/1204 [3:14:45<13:15:24, 46.79s/it]"
     ]
    },
    {
     "name": "stdout",
     "output_type": "stream",
     "text": [
      "['Câu 91. Đề nghị cho biết, trách nhiệm của Bộ Y tế và Bộ Lao động – Thương binh và xã hội trong việc thực hiện quyền trẻ em được quy định trong Luật trẻ em năm 2016? Bộ nào có trách nhiệm bảo đảm cho trẻ em được tiếp cận các dịch vụ chăm sóc sức khỏe tại các cơ sở khám bệnh, chữa bệnh theo quy định của pháp luật?', 'Trách nhiệm của Bộ Y tế và Bộ Lao động – Thương binh và Xã hội được quy định trong Luật Trẻ em 2016 về việc thực hiện quyền trẻ em, đặc biệt là quyền tiếp cận dịch vụ chăm sóc sức khỏe, được phân công như thế nào?', 'Luật Trẻ em năm 2016 quy định cụ thể những trách nhiệm gì cho Bộ Y tế và Bộ Lao động – Thương binh và Xã hội trong việc bảo đảm quyền của trẻ em, nhất là quyền được chăm sóc sức khỏe tại các cơ sở y tế?', 'Theo Luật Trẻ em 2016, Bộ Y tế và Bộ Lao động – Thương binh và Xã hội có những nghĩa vụ pháp lý gì trong việc thực thi quyền trẻ em, và bộ nào chịu trách nhiệm chính trong việc đảm bảo trẻ em được tiếp cận dịch vụ y tế theo quy định?']\n",
      "should=[FieldCondition(key='metadata.LoaiVanBanFilter', match=MatchValue(value='luật'), range=None, geo_bounding_box=None, geo_radius=None, geo_polygon=None, values_count=None, is_empty=None, is_null=None), FieldCondition(key='metadata.NoibanHanhFilter', match=MatchValue(value='bộ lao động - thương binh và xã hội'), range=None, geo_bounding_box=None, geo_radius=None, geo_polygon=None, values_count=None, is_empty=None, is_null=None), FieldCondition(key='metadata.NgayBanHanhFilter', match=MatchAny(any=['2016']), range=None, geo_bounding_box=None, geo_radius=None, geo_polygon=None, values_count=None, is_empty=None, is_null=None)] min_should=None must=None must_not=None\n",
      "Query 1 có 25 kết quả\n",
      "should=[FieldCondition(key='metadata.LoaiVanBanFilter', match=MatchValue(value='luật'), range=None, geo_bounding_box=None, geo_radius=None, geo_polygon=None, values_count=None, is_empty=None, is_null=None), FieldCondition(key='metadata.NgayBanHanhFilter', match=MatchAny(any=['2016']), range=None, geo_bounding_box=None, geo_radius=None, geo_polygon=None, values_count=None, is_empty=None, is_null=None)] min_should=None must=None must_not=None\n",
      "Query 2 có 25 kết quả\n",
      "should=[FieldCondition(key='metadata.LoaiVanBanFilter', match=MatchValue(value='luật'), range=None, geo_bounding_box=None, geo_radius=None, geo_polygon=None, values_count=None, is_empty=None, is_null=None), FieldCondition(key='metadata.NgayBanHanhFilter', match=MatchAny(any=['2016']), range=None, geo_bounding_box=None, geo_radius=None, geo_polygon=None, values_count=None, is_empty=None, is_null=None), FieldCondition(key='metadata.NoibanHanhFilter', match=MatchValue(value='bộ y tế'), range=None, geo_bounding_box=None, geo_radius=None, geo_polygon=None, values_count=None, is_empty=None, is_null=None)] min_should=None must=None must_not=None\n",
      "Query 3 có 25 kết quả\n",
      "should=[FieldCondition(key='metadata.LoaiVanBanFilter', match=MatchValue(value='luật'), range=None, geo_bounding_box=None, geo_radius=None, geo_polygon=None, values_count=None, is_empty=None, is_null=None), FieldCondition(key='metadata.NgayBanHanhFilter', match=MatchAny(any=['2016']), range=None, geo_bounding_box=None, geo_radius=None, geo_polygon=None, values_count=None, is_empty=None, is_null=None)] min_should=None must=None must_not=None\n",
      "Query 4 có 25 kết quả\n",
      "Tổng số kết quả tìm được: 100\n",
      "Số document khi xoá trùng 42\n",
      "Số document sau khi qua rerank: 5\n"
     ]
    },
    {
     "name": "stderr",
     "output_type": "stream",
     "text": [
      "Sinh trả lời:  15%|█▌        | 185/1204 [3:15:22<12:25:06, 43.87s/it]"
     ]
    },
    {
     "name": "stdout",
     "output_type": "stream",
     "text": [
      "['Câu 92. Xin cho biết, pháp luật quy định như thế nào về trách nhiệm của Mặt trận Tổ quốc Việt Nam và các tổ chức thành viên của Mặt trận trong việc thực hiện quyền của trẻ em?', 'Pháp luật hiện hành quy định trách nhiệm của Mặt trận Tổ quốc Việt Nam và các tổ chức thành viên trong việc bảo đảm thực hiện quyền trẻ em như thế nào?', 'Quy định pháp luật về trách nhiệm của Mặt trận Tổ quốc Việt Nam và các tổ chức thành viên trong việc bảo vệ và thúc đẩy quyền trẻ em được nêu rõ ở đâu?', 'Tìm hiểu về các quy định pháp lý liên quan đến trách nhiệm của Mặt trận Tổ quốc Việt Nam và các tổ chức thành viên trong việc thực thi các quyền của trẻ em theo luật.']\n",
      "None\n",
      "Query 1 có 25 kết quả\n",
      "None\n",
      "Query 2 có 25 kết quả\n",
      "None\n",
      "Query 3 có 25 kết quả\n",
      "None\n",
      "Query 4 có 25 kết quả\n",
      "Tổng số kết quả tìm được: 100\n",
      "Số document khi xoá trùng 41\n",
      "Số document sau khi qua rerank: 5\n"
     ]
    },
    {
     "name": "stderr",
     "output_type": "stream",
     "text": [
      "Sinh trả lời:  15%|█▌        | 186/1204 [3:16:02<12:06:23, 42.81s/it]"
     ]
    },
    {
     "name": "stdout",
     "output_type": "stream",
     "text": [
      "['Câu 93. Xin cho biết, trách nhiệm của Ủy ban nhân dân các cấp trong việc bảo đảm thực hiện quyền của trẻ em được quy định như thế nào?', 'Trách nhiệm pháp lý của Ủy ban nhân dân các cấp trong việc bảo vệ quyền trẻ em được quy định cụ thể trong văn bản pháp luật nào?', 'Quy định pháp luật hiện hành về trách nhiệm của Ủy ban nhân dân các cấp trong việc đảm bảo quyền lợi của trẻ em được thực thi như thế nào?', 'Ủy ban nhân dân các cấp có những nghĩa vụ và trách nhiệm gì theo luật định trong việc bảo vệ và thực hiện quyền của trẻ em?']\n",
      "None\n",
      "Query 1 có 25 kết quả\n",
      "None\n",
      "Query 2 có 25 kết quả\n",
      "None\n",
      "Query 3 có 25 kết quả\n",
      "None\n",
      "Query 4 có 25 kết quả\n",
      "Tổng số kết quả tìm được: 100\n",
      "Số document khi xoá trùng 41\n",
      "Số document sau khi qua rerank: 5\n"
     ]
    },
    {
     "name": "stderr",
     "output_type": "stream",
     "text": [
      "Sinh trả lời:  16%|█▌        | 187/1204 [3:16:36<11:19:29, 40.09s/it]"
     ]
    },
    {
     "name": "stdout",
     "output_type": "stream",
     "text": [
      "['Câu 94. Xin cho biết, trách nhiệm của Hội bảo vệ quyền trẻ em trong việc thực hiện quyền của trẻ em được quy định như thế nào?', 'Trách nhiệm pháp lý của Hội bảo vệ quyền trẻ em trong việc bảo vệ quyền lợi trẻ em được quy định cụ thể ra sao?', 'Quy định pháp luật hiện hành về trách nhiệm của Hội bảo vệ quyền trẻ em trong việc thực thi quyền trẻ em được nêu rõ ở đâu?', 'Hội bảo vệ quyền trẻ em có những nghĩa vụ và trách nhiệm gì theo luật định trong việc đảm bảo quyền của trẻ em?']\n",
      "None\n",
      "Query 1 có 25 kết quả\n",
      "None\n",
      "Query 2 có 25 kết quả\n",
      "None\n",
      "Query 3 có 25 kết quả\n",
      "None\n",
      "Query 4 có 25 kết quả\n",
      "Tổng số kết quả tìm được: 100\n",
      "Số document khi xoá trùng 45\n",
      "Số document sau khi qua rerank: 5\n"
     ]
    },
    {
     "name": "stderr",
     "output_type": "stream",
     "text": [
      "Sinh trả lời:  16%|█▌        | 188/1204 [3:17:21<11:42:34, 41.49s/it]"
     ]
    },
    {
     "name": "stdout",
     "output_type": "stream",
     "text": [
      "['Câu 95. Hiền hiện đang là học sinh lớp 8. Vừa qua, khi đang tìm hiểu các thông tin liên quan đến tuyển sinh THPT, Hiền  được biết Bộ X đang tổ chức lấy ý kiến rộng rãi trong nhân dân về dự thảo văn bản có liên quan đến các vấn đề trẻ em. Sau khi tìm hiểu về nội dung dự thảo, Hiền thấy có một số nội dung chưa phù hợp nên em muốn góp ý trực tiếp vào dự thảo văn bản. Hiền không biết, ý kiến của mình liệu có được cơ quan soạn thảo và các cơ quan, tổ chức có liên quan tiếp nhận hay không?', 'Quyền tham gia đóng góp ý kiến vào dự thảo văn bản pháp luật liên quan đến trẻ em của học sinh lớp 8 được pháp luật quy định như thế nào?', 'Cơ chế tiếp nhận và xử lý ý kiến đóng góp của người dân, đặc biệt là trẻ em, đối với dự thảo văn bản pháp luật được quy định ra sao?', 'Học sinh lớp 8 có quyền được cơ quan soạn thảo văn bản pháp luật tiếp thu ý kiến đóng góp về dự thảo liên quan đến trẻ em hay không?']\n",
      "None\n",
      "Query 1 có 25 kết quả\n",
      "None\n",
      "Query 2 có 25 kết quả\n",
      "None\n",
      "Query 3 có 25 kết quả\n",
      "None\n",
      "Query 4 có 25 kết quả\n",
      "Tổng số kết quả tìm được: 100\n",
      "Số document khi xoá trùng 50\n",
      "Số document sau khi qua rerank: 5\n"
     ]
    },
    {
     "name": "stderr",
     "output_type": "stream",
     "text": [
      "Sinh trả lời:  16%|█▌        | 189/1204 [3:18:10<12:21:12, 43.82s/it]"
     ]
    },
    {
     "name": "stdout",
     "output_type": "stream",
     "text": [
      "['Câu 96. Xin hỏi, ở Việt Nam, Tổ chức phối hợp liên ngành về trẻ em do ai thành lập và thành lập nhằm mục đích gì?', 'Ai có thẩm quyền thành lập Tổ chức phối hợp liên ngành về trẻ em ở Việt Nam và mục đích thành lập tổ chức này là gì?', 'Cơ chế pháp lý về việc thành lập Tổ chức phối hợp liên ngành về trẻ em tại Việt Nam quy định về chủ thể thành lập và mục tiêu hoạt động như thế nào?', 'Quy định pháp luật Việt Nam hiện hành xác định cơ quan nào có trách nhiệm thành lập và quy định mục đích hoạt động của Tổ chức phối hợp liên ngành về trẻ em?']\n",
      "None\n",
      "Query 1 có 25 kết quả\n",
      "None\n",
      "Query 2 có 25 kết quả\n",
      "None\n",
      "Query 3 có 25 kết quả\n",
      "None\n",
      "Query 4 có 25 kết quả\n",
      "Tổng số kết quả tìm được: 100\n",
      "Số document khi xoá trùng 50\n",
      "Số document sau khi qua rerank: 5\n"
     ]
    },
    {
     "name": "stderr",
     "output_type": "stream",
     "text": [
      "Sinh trả lời:  16%|█▌        | 190/1204 [3:19:08<13:31:40, 48.03s/it]"
     ]
    },
    {
     "name": "stdout",
     "output_type": "stream",
     "text": [
      "['Câu 97. Ông A muốn đến các cơ sở cung cấp dịch vụ bảo vệ trẻ em, các cơ sở trợ giúp xã hội để tìm sự trợ giúp, hướng dẫn về việc bảo vệ quyền lợi cho cháu ngoại ông. Tuy nhiên, ông A không biết các cơ sở này có tiếp nhận đề nghị của ông không? Và làm sao để biết được các cơ sở này được thành lập và hoạt động theo đúng quy định của pháp luật?', 'Ông A muốn tìm kiếm sự trợ giúp và hướng dẫn bảo vệ quyền lợi cháu ngoại tại các cơ sở bảo vệ trẻ em và trợ giúp xã hội: Cơ sở có thẩm quyền tiếp nhận và cách xác minh tính pháp lý của chúng?', 'Quy định pháp luật về việc tiếp nhận yêu cầu trợ giúp bảo vệ quyền trẻ em của ông A tại các cơ sở cung cấp dịch vụ bảo vệ trẻ em và trợ giúp xã hội được thành lập và hoạt động hợp pháp?', 'Cơ sở pháp lý cho phép các cơ sở bảo vệ trẻ em và trợ giúp xã hội tiếp nhận yêu cầu của người thân như ông A trong việc bảo vệ quyền lợi cháu ngoại, và cách kiểm tra tính hợp pháp của các cơ sở này theo quy định hiện hành?']\n",
      "None\n",
      "Query 1 có 25 kết quả\n",
      "None\n",
      "Query 2 có 25 kết quả\n",
      "None\n",
      "Query 3 có 25 kết quả\n",
      "None\n",
      "Query 4 có 25 kết quả\n",
      "Tổng số kết quả tìm được: 100\n",
      "Số document khi xoá trùng 50\n",
      "Số document sau khi qua rerank: 5\n"
     ]
    },
    {
     "name": "stderr",
     "output_type": "stream",
     "text": [
      "Sinh trả lời:  16%|█▌        | 191/1204 [3:19:57<13:36:18, 48.35s/it]"
     ]
    },
    {
     "name": "stdout",
     "output_type": "stream",
     "text": [
      "['Câu 98. Hiện nay, ở nước ta, tại mỗi địa phương đều có các Quỹ Bảo trợ trẻ em các cấp được thành lập và hoạt động. Vậy, xin hỏi, Quỹ Bảo trợ trẻ em được thành lập nhằm mục đích gì và đối tượng được hỗ trợ của Quỹ là ai ?', 'Mục đích thành lập và đối tượng được hưởng lợi từ Quỹ Bảo trợ trẻ em các cấp ở Việt Nam theo quy định hiện hành là gì?', 'Quỹ Bảo trợ trẻ em tại các địa phương được thành lập để làm gì và những đối tượng trẻ em nào được ưu tiên hỗ trợ từ quỹ này?', 'Cơ sở pháp lý quy định về mục tiêu hoạt động và phạm vi hỗ trợ của Quỹ Bảo trợ trẻ em các cấp tại Việt Nam là gì?']\n",
      "None\n",
      "Query 1 có 25 kết quả\n",
      "None\n",
      "Query 2 có 25 kết quả\n",
      "None\n",
      "Query 3 có 25 kết quả\n",
      "None\n",
      "Query 4 có 25 kết quả\n",
      "Tổng số kết quả tìm được: 100\n",
      "Số document khi xoá trùng 40\n",
      "Số document sau khi qua rerank: 5\n"
     ]
    },
    {
     "name": "stderr",
     "output_type": "stream",
     "text": [
      "Sinh trả lời:  16%|█▌        | 192/1204 [3:20:38<12:59:56, 46.24s/it]"
     ]
    },
    {
     "name": "stdout",
     "output_type": "stream",
     "text": [
      "['Câu 99. Lan là học sinh lớp 8 tại một trường nội trú khu vực miền núi. Sau Lan còn có một em nhỏ mới lên 3 tuổi. Vì bố mẹ Lan bận làm ăn buôn bán nên không có người trông con nhỏ. Bố mẹ Lan đã bàn nhau và quyết định cho Lan nghỉ học để trông em cho bố mẹ đi làm. Hiện tại Lan rất muốn đi học trở lại. Vậy, bố mẹ Lan có trách nhiệm bảo đảm cho con đi học hay không?', 'Có phải cha mẹ có nghĩa vụ pháp lý đảm bảo quyền đi học của con cái trong trường hợp như Lan, học sinh lớp 8 phải nghỉ học để chăm em không?', 'Trách nhiệm của phụ huynh trong việc đảm bảo quyền lợi học tập của con cái, đặc biệt khi con phải nghỉ học vì lý do gia đình, được pháp luật Việt Nam quy định như thế nào?', 'Quy định pháp luật về nghĩa vụ cho con đi học của cha mẹ trong tình huống cụ thể: con gái lớp 8 nghỉ học trông em do hoàn cảnh gia đình khó khăn?']\n",
      "None\n",
      "Query 1 có 25 kết quả\n",
      "None\n",
      "Query 2 có 25 kết quả\n",
      "None\n",
      "Query 3 có 25 kết quả\n",
      "None\n",
      "Query 4 có 25 kết quả\n",
      "Tổng số kết quả tìm được: 100\n",
      "Số document khi xoá trùng 50\n",
      "Số document sau khi qua rerank: 5\n"
     ]
    },
    {
     "name": "stderr",
     "output_type": "stream",
     "text": [
      "Sinh trả lời:  16%|█▌        | 193/1204 [3:21:37<14:04:54, 50.14s/it]"
     ]
    },
    {
     "name": "stdout",
     "output_type": "stream",
     "text": [
      "['Câu 100. Vợ tôi vừa mới sinh con nhỏ. Tôi lại đang công tác ở xa nhà. Do vợ tôi mới sinh còn đau yếu, lại không biết thủ tục đăng ký khai sinh cho con, nên vợ tôi muốn nhờ người khác đăng ký khai sinh cho con. Pháp luật có cho phép người khác không phải bố, mẹ đăng ký khai sinh cho con hay không?', 'Người thân có được phép thực hiện thủ tục đăng ký khai sinh cho con tôi thay mặt bố mẹ theo quy định pháp luật hiện hành không, khi mẹ mới sinh và bố đang công tác xa?', 'Trong trường hợp vợ mới sinh và chồng đi công tác xa, pháp luật Việt Nam có điều khoản nào cho phép người khác không phải bố mẹ thực hiện đăng ký khai sinh cho con không?', 'Quy định pháp luật về đăng ký khai sinh: Ai có quyền thực hiện thủ tục đăng ký khai sinh cho trẻ em khi bố mẹ không thể trực tiếp thực hiện?']\n",
      "None\n",
      "Query 1 có 25 kết quả\n",
      "None\n",
      "Query 2 có 25 kết quả\n",
      "None\n",
      "Query 3 có 25 kết quả\n",
      "None\n",
      "Query 4 có 25 kết quả\n",
      "Tổng số kết quả tìm được: 100\n",
      "Số document khi xoá trùng 37\n",
      "Số document sau khi qua rerank: 5\n"
     ]
    },
    {
     "name": "stderr",
     "output_type": "stream",
     "text": [
      "Sinh trả lời:  16%|█▌        | 194/1204 [3:22:15<13:03:15, 46.53s/it]"
     ]
    },
    {
     "name": "stdout",
     "output_type": "stream",
     "text": [
      "['Câu 101. Vợ, chồng anh A có 1 con trai mới 6 tháng tuổi. Do mâu thuân, bất đồng trong cuộc sống nên hai vợ chồng A cãi nhau. Vợ của A là chị B đã mang con về nhà cha mẹ ruột mình sống. Bố mẹ anh A thấy vậy đã đến nhà ngoại đưa cháu đem về bên nội nuôi dưỡng. Chị B thương con còn nhỏ, cần sữa mẹ để phát triển nhưng gia đình chồng rất cương quyết. Chị B muốn hỏi, nếu vợ chồng chị ly hôn thì con chị sẽ giao cho ai chăm sóc, nuôi dưỡng?', 'Nếu vợ chồng ly hôn, pháp luật quy định về quyền nuôi con dưới 36 tháng tuổi như thế nào trong trường hợp người mẹ có nguyện vọng trực tiếp chăm sóc?', 'Trong tình huống tranh chấp quyền nuôi con sau ly hôn, yếu tố nào được tòa án xem xét để quyết định giao con dưới 1 tuổi cho người mẹ chăm sóc?', 'Quy định của pháp luật về việc giải quyết quyền nuôi con nhỏ dưới 6 tháng tuổi khi cha mẹ không thỏa thuận được và người mẹ muốn nuôi con sau ly hôn là gì?']\n",
      "None\n",
      "Query 1 có 25 kết quả\n",
      "None\n",
      "Query 2 có 25 kết quả\n",
      "None\n",
      "Query 3 có 25 kết quả\n",
      "None\n",
      "Query 4 có 25 kết quả\n",
      "Tổng số kết quả tìm được: 100\n",
      "Số document khi xoá trùng 44\n",
      "Số document sau khi qua rerank: 5\n"
     ]
    },
    {
     "name": "stderr",
     "output_type": "stream",
     "text": [
      "Sinh trả lời:  16%|█▌        | 195/1204 [3:22:55<12:30:05, 44.60s/it]"
     ]
    },
    {
     "name": "stdout",
     "output_type": "stream",
     "text": [
      "['Câu 102. Cháu Nam 12  tuổi là con trai của anh chị Mai. Buổi chiều chủ nhật được nghỉ học Nam đã cùng bạn bè xuống đường đá bóng, chơi đùa rất vui vẻ. Trong lúc thể hiện chân sút với các bạn, trái bóng của Nam  đã bay thẳng vào cửa kính nhà bà Lanh làm kính vỡ tan. Bà Lanh phải thay cửa kính mới hết 2.800.000 đồng. Bà yêu cầu gia đình chị Mai phải bồi thường thiệt hại mà con trai chị đã gây ra. Trách nhiệm bồi thường của Nam được pháp luật quy định như thế nào?', 'Trách nhiệm bồi thường thiệt hại do người chưa thành niên gây ra được quy định như thế nào theo luật dân sự hiện hành?', 'Căn cứ pháp lý nào quy định về nghĩa vụ bồi thường thiệt hại của người dưới 15 tuổi gây ra thiệt hại tài sản cho người khác?', 'Pháp luật Việt Nam quy định về việc bồi thường thiệt hại ngoài hợp đồng do người chưa đủ tuổi chịu trách nhiệm dân sự gây ra như thế nào trong trường hợp này?']\n",
      "None\n",
      "Query 1 có 25 kết quả\n",
      "None\n",
      "Query 2 có 25 kết quả\n",
      "None\n",
      "Query 3 có 25 kết quả\n",
      "None\n",
      "Query 4 có 25 kết quả\n",
      "Tổng số kết quả tìm được: 100\n",
      "Số document khi xoá trùng 50\n",
      "Số document sau khi qua rerank: 5\n"
     ]
    },
    {
     "name": "stderr",
     "output_type": "stream",
     "text": [
      "Sinh trả lời:  16%|█▋        | 196/1204 [3:23:53<13:35:12, 48.52s/it]"
     ]
    },
    {
     "name": "stdout",
     "output_type": "stream",
     "text": [
      "['Câu 103. Sau giờ học, Ly và Yến - hai em học sinh lớp 9 trao đổi với nhau về các quy định của pháp luật dân sự. Yến cho rằng mình có quyền tham gia vào các quan hệ dân sự phù hợp với lứa tuổi của mình thông qua sự giúp đỡ của gia đình và xã hội. Còn Ly thì chưa hiểu rõ lắm về các quy định đó. Ly muốn hỏi ý kiến của bạn Yến có đúng không?', 'Quy định pháp luật dân sự về quyền tham gia vào các giao dịch dân sự của người chưa thành niên như Ly và Yến được quy định như thế nào?', 'Theo quy định pháp luật hiện hành, người từ 14 đến dưới 18 tuổi có quyền tham gia vào các quan hệ dân sự nào và phạm vi quyền đó được giới hạn như thế nào?', 'Ý kiến của Yến về việc người chưa thành niên có quyền tham gia vào các quan hệ dân sự thông qua sự giúp đỡ của gia đình và xã hội có phù hợp với quy định của Bộ luật Dân sự hiện hành không?']\n",
      "None\n",
      "Query 1 có 25 kết quả\n",
      "None\n",
      "Query 2 có 25 kết quả\n",
      "None\n",
      "Query 3 có 25 kết quả\n",
      "None\n",
      "Query 4 có 25 kết quả\n",
      "Tổng số kết quả tìm được: 100\n",
      "Số document khi xoá trùng 45\n",
      "Số document sau khi qua rerank: 5\n"
     ]
    },
    {
     "name": "stderr",
     "output_type": "stream",
     "text": [
      "Sinh trả lời:  16%|█▋        | 197/1204 [3:24:40<13:28:17, 48.16s/it]"
     ]
    },
    {
     "name": "stdout",
     "output_type": "stream",
     "text": [
      "['Câu 104. Kể từ khi mẹ sinh được em trai, Lan đã không còn được bố mẹ yêu thương, chăm sóc như trước đây. Có nhiều hôm, bố bắt Lan phải nghỉ học để ở nhà phụ mẹ việc nhà, trông em khi em ốm. Biết chuyện, cô giáo đã động viên bố mẹ Lan tiếp tục cho em đi học. Nhưng bố Lan vẫn cho rằng, Lan là con gái nên phải ở nhà làm việc, không cần phải đi học nhiều. Quan điểm và việc làm của bố đối với Lan như vậy có đúng không? Pháp luật quy định thế nào về quyền được hưởng sự chăm sóc giữa các thành viên trong gia đình?', 'Quan điểm và hành vi của người bố trong tình huống phân biệt đối xử với con gái như vậy có phù hợp với quy định pháp luật về quyền trẻ em và bình đẳng giới không?', 'Pháp luật Việt Nam có những điều khoản nào bảo vệ quyền được yêu thương, chăm sóc và giáo dục của con cái trong gia đình, đặc biệt là đối với trẻ em gái?', 'Hành vi tước đoạt cơ hội học tập của con gái để ép buộc làm việc nhà có vi phạm Luật Trẻ em và các quy định liên quan đến quyền bình đẳng trong gia đình hay không?']\n",
      "None\n",
      "Query 1 có 25 kết quả\n",
      "None\n",
      "Query 2 có 25 kết quả\n",
      "None\n",
      "Query 3 có 25 kết quả\n",
      "None\n",
      "Query 4 có 25 kết quả\n",
      "Tổng số kết quả tìm được: 100\n",
      "Số document khi xoá trùng 50\n",
      "Số document sau khi qua rerank: 5\n"
     ]
    },
    {
     "name": "stderr",
     "output_type": "stream",
     "text": [
      "Sinh trả lời:  16%|█▋        | 198/1204 [3:26:28<18:28:09, 66.09s/it]"
     ]
    },
    {
     "name": "stdout",
     "output_type": "stream",
     "text": [
      "['Vì mưu sinh chị H nhận lời, ký hợp đồng đi làm công nhân khai thác đá ở một tỉnh miền núi dù biết đây là công việc nặng nhọc với phụ nữ. Khi đến công trường khai thác đá, nhận thấy công việc nổ mìn khai thác đá rất nguy hiểm, chị H đã từ chối làm việc. Dù trước khi cho nổ mìn các công nhân đã được cách ly đứng xa nơi nổ mìn, nhưng nguy cơ bị đá văng vào người, hoặc đá lở từ trên đỉnh xuống gây nguy hiểm đến tính mạng, sức khỏe là rất có thể xảy ra (một công nhân làm cùng chị H đã bị gãy chân vì bị đá văng phải). Chủ doanh nghiệp khai thác nói chị đã tự nguyện ký hợp đồng khai thác đá thì cứ thế mà làm, không được từ chối làm việc. Theo quy định của pháp luật chị H có từ chối làm việc được không?', 'Có phải chị H có quyền từ chối công việc khai thác đá nguy hiểm theo quy định pháp luật lao động Việt Nam không, khi đã ký hợp đồng lao động?', 'Trong trường hợp người lao động ký hợp đồng làm công việc nặng nhọc, nguy hiểm như khai thác đá, pháp luật Việt Nam có cho phép họ từ chối công việc nếu phát hiện rủi ro không?', 'Quy định pháp luật hiện hành về quyền từ chối làm việc của người lao động khi công việc tiềm ẩn nguy cơ gây tai nạn lao động, đặc biệt trong ngành khai thác khoáng sản như trường hợp của chị H là gì?']\n",
      "None\n",
      "Query 1 có 25 kết quả\n",
      "None\n",
      "Query 2 có 25 kết quả\n",
      "None\n",
      "Query 3 có 25 kết quả\n",
      "None\n",
      "Query 4 có 25 kết quả\n",
      "Tổng số kết quả tìm được: 100\n",
      "Số document khi xoá trùng 50\n",
      "Số document sau khi qua rerank: 5\n"
     ]
    },
    {
     "name": "stderr",
     "output_type": "stream",
     "text": [
      "Sinh trả lời:  17%|█▋        | 199/1204 [3:28:12<21:34:18, 77.27s/it]"
     ]
    },
    {
     "name": "stdout",
     "output_type": "stream",
     "text": [
      "['Người sử dụng lao động có quyền đóng cửa nơi làm việc không?', 'Người sử dụng lao động có quyền tạm ngừng hoạt động sản xuất kinh doanh không?', 'Quy định pháp luật về việc doanh nghiệp đóng cửa địa điểm làm việc là gì?', 'Trong trường hợp nào thì người sử dụng lao động được phép đóng cửa nơi làm việc theo luật lao động?']\n",
      "None\n",
      "Query 1 có 25 kết quả\n",
      "None\n",
      "Query 2 có 25 kết quả\n",
      "None\n",
      "Query 3 có 25 kết quả\n",
      "None\n",
      "Query 4 có 25 kết quả\n",
      "Tổng số kết quả tìm được: 100\n",
      "Số document khi xoá trùng 50\n",
      "Số document sau khi qua rerank: 5\n"
     ]
    },
    {
     "name": "stderr",
     "output_type": "stream",
     "text": [
      "Sinh trả lời:  17%|█▋        | 200/1204 [3:29:23<21:01:32, 75.39s/it]"
     ]
    },
    {
     "name": "stdout",
     "output_type": "stream",
     "text": [
      "['Các hành vi nào bị nghiêm cấm trong lĩnh vực lao động?', 'Những hành vi nào bị cấm trong lĩnh vực lao động theo quy định pháp luật hiện hành?', 'Quy định pháp luật lao động nghiêm cấm những hành vi cụ thể nào đối với người sử dụng lao động và người lao động?', 'Các hành vi bị coi là vi phạm pháp luật lao động và bị xử lý theo quy định của pháp luật Việt Nam là gì?']\n",
      "None\n",
      "Query 1 có 25 kết quả\n",
      "None\n",
      "Query 2 có 25 kết quả\n",
      "None\n",
      "Query 3 có 25 kết quả\n",
      "None\n",
      "Query 4 có 25 kết quả\n",
      "Tổng số kết quả tìm được: 100\n",
      "Số document khi xoá trùng 50\n",
      "Số document sau khi qua rerank: 5\n"
     ]
    },
    {
     "name": "stderr",
     "output_type": "stream",
     "text": [
      "Sinh trả lời:  17%|█▋        | 201/1204 [3:31:00<22:49:16, 81.91s/it]"
     ]
    },
    {
     "name": "stdout",
     "output_type": "stream",
     "text": [
      "['A là sinh viên đi làm thêm, chủ cửa hàng có đưa A ký văn bản Thỏa thuận công việc, trong đó ghi thông tin bên giao việc là chủ cửa hàng, bên nhận việc là A, các công việc A phải làm, thời gian làm hàng ngày, mức tiền công được nhận tính theo tuần, các trường hợp bị trừ tiền, thưởng tiền...\\xa0 A làm ở đó được 3 tháng, vì A bị ốm nên xin nghỉ 03 ngày. Khi đến làm lại thì chủ cửa hàng nói đã thuê người khác. A đề nghị thanh toán nốt tiền công tuần cuối cùng cho A nhưng chủ cửa hàng nói A xin nghỉ đột xuất, cửa hàng mất tiền môi giới tìm người thay nên tiền đó bị trừ vào khoản tiền công của A do gây thiệt hại cho cửa hàng. Còn dọa A là bản Thỏa thuận công việc đó không phải hợp đồng lao động nên A không có căn cứ để kiện được. Chủ cửa hàng nói như vậy có đúng không?', 'Chủ cửa hàng trừ lương người làm thêm vì nghỉ ốm có đúng luật không?', 'Thỏa thuận công việc giữa sinh viên làm thêm và chủ cửa hàng có phải là hợp đồng lao động không?', 'Quy định pháp luật về quyền lợi của người lao động làm thêm khi bị chấm dứt hợp đồng trái luật?']\n",
      "None\n",
      "Query 1 có 25 kết quả\n",
      "None\n",
      "Query 2 có 25 kết quả\n",
      "None\n",
      "Query 3 có 25 kết quả\n",
      "None\n",
      "Query 4 có 25 kết quả\n",
      "Tổng số kết quả tìm được: 100\n",
      "Số document khi xoá trùng 50\n",
      "Số document sau khi qua rerank: 5\n"
     ]
    },
    {
     "name": "stderr",
     "output_type": "stream",
     "text": [
      "Sinh trả lời:  17%|█▋        | 202/1204 [3:32:20<22:38:46, 81.36s/it]"
     ]
    },
    {
     "name": "stdout",
     "output_type": "stream",
     "text": [
      "['Hợp đồng lao động được giao kết qua phương tiện thông tin điện tử dưới hình thức thông điệp dữ liệu có giá trị như hợp đồng lao động bằng văn bản không?', 'Hợp đồng lao động giao kết điện tử dưới dạng thông điệp dữ liệu có giá trị pháp lý tương đương hợp đồng lao động bản giấy theo quy định pháp luật hiện hành không?', 'Giá trị pháp lý của hợp đồng lao động điện tử được ký kết thông qua phương tiện điện tử và thể hiện dưới dạng thông điệp dữ liệu so với hợp đồng lao động bằng văn bản giấy được quy định như thế nào?', 'Quy định pháp luật về giá trị chứng cứ và hiệu lực của hợp đồng lao động được giao kết thông qua phương tiện điện tử dưới hình thức thông điệp dữ liệu so với hợp đồng lao động truyền thống bằng văn bản?']\n",
      "None\n",
      "Query 1 có 25 kết quả\n",
      "None\n",
      "Query 2 có 25 kết quả\n",
      "None\n",
      "Query 3 có 25 kết quả\n",
      "None\n",
      "Query 4 có 25 kết quả\n",
      "Tổng số kết quả tìm được: 100\n",
      "Số document khi xoá trùng 37\n",
      "Số document sau khi qua rerank: 5\n"
     ]
    },
    {
     "name": "stderr",
     "output_type": "stream",
     "text": [
      "Sinh trả lời:  17%|█▋        | 203/1204 [3:33:28<21:29:21, 77.28s/it]"
     ]
    },
    {
     "name": "stdout",
     "output_type": "stream",
     "text": [
      "['Chị S xin đi làm công nhân, nhưng công ty may F chỉ tuyển lao động có bằng cấp ba, mà chị S mới học hết lớp 9. Chị S đã mượn bằng cấp ba của chị họ để xin đi làm công nhân ở công ty may F và được nhận vào. Một thời gian sau chị bị phát hiện là khai bằng cấp không đúng, vậy chị S đã vi phạm quy định nào của pháp luật về lao động?', 'Người lao động sử dụng bằng cấp giả để được tuyển dụng vào làm công nhân thì bị xử lý như thế nào theo quy định pháp luật lao động hiện hành?', 'Hành vi gian lận bằng cấp khi xin việc làm công nhân tại công ty may F, chị S đã vi phạm những điều khoản nào của luật lao động Việt Nam?', 'Việc người lao động khai man trình độ học vấn (sử dụng bằng cấp 3 giả) để ký kết hợp đồng lao động có bị coi là vi phạm pháp luật lao động không và chế tài xử phạt là gì?']\n",
      "None\n",
      "Query 1 có 25 kết quả\n",
      "None\n",
      "Query 2 có 25 kết quả\n",
      "None\n",
      "Query 3 có 25 kết quả\n",
      "None\n",
      "Query 4 có 25 kết quả\n",
      "Tổng số kết quả tìm được: 100\n",
      "Số document khi xoá trùng 50\n",
      "Số document sau khi qua rerank: 5\n"
     ]
    },
    {
     "name": "stderr",
     "output_type": "stream",
     "text": [
      "Sinh trả lời:  17%|█▋        | 204/1204 [3:35:01<22:46:07, 81.97s/it]"
     ]
    },
    {
     "name": "stdout",
     "output_type": "stream",
     "text": [
      "['Chị A mở một siêu thị nhỏ ở nhà. Do bận con mọn, chị phải thuê một người làm thu ngân. Do đặc điểm thu ngân được quản lý tiền, sợ người làm không trung thực, nên chị A yêu cầu người đó phải đưa giấy tờ tùy thân cho chị giữ, chị mới cho ký kết hợp đồng lao động. Chị A có được quyền làm như vậy không?', 'Có hợp pháp không khi chủ siêu thị giữ giấy tờ tùy thân của nhân viên thu ngân để đảm bảo trung thực theo quy định pháp luật lao động?', 'Việc chủ siêu thị yêu cầu nhân viên thu ngân giao giấy tờ tùy thân để ký hợp đồng lao động có vi phạm quy định nào của pháp luật Việt Nam về lao động và bảo vệ dữ liệu cá nhân không?', 'Quy định pháp luật hiện hành về hợp đồng lao động và bảo vệ thông tin cá nhân có cho phép người sử dụng lao động giữ giấy tờ tùy thân của nhân viên như một biện pháp đảm bảo nghĩa vụ không?']\n",
      "None\n",
      "Query 1 có 25 kết quả\n",
      "None\n",
      "Query 2 có 25 kết quả\n",
      "None\n",
      "Query 3 có 25 kết quả\n",
      "None\n",
      "Query 4 có 25 kết quả\n",
      "Tổng số kết quả tìm được: 100\n",
      "Số document khi xoá trùng 50\n",
      "Số document sau khi qua rerank: 5\n"
     ]
    },
    {
     "name": "stderr",
     "output_type": "stream",
     "text": [
      "Sinh trả lời:  17%|█▋        | 205/1204 [3:36:07<21:25:35, 77.21s/it]"
     ]
    },
    {
     "name": "stdout",
     "output_type": "stream",
     "text": [
      "['Theo quy định của pháp luật, những ai có thẩm quyền giao kết hợp đồng lao động?', 'Những chủ thể nào theo luật có thẩm quyền ký kết hợp đồng lao động hợp pháp?', 'Quy định pháp luật hiện hành xác định những cá nhân, tổ chức nào có quyền giao kết hợp đồng lao động?', 'Ai là người có đủ tư cách pháp lý để đại diện giao kết hợp đồng lao động theo các văn bản pháp luật Việt Nam?']\n",
      "None\n",
      "Query 1 có 25 kết quả\n",
      "should=[FieldCondition(key='metadata.LoaiVanBanFilter', match=MatchValue(value='luật'), range=None, geo_bounding_box=None, geo_radius=None, geo_polygon=None, values_count=None, is_empty=None, is_null=None)] min_should=None must=None must_not=None\n",
      "Query 2 có 25 kết quả\n",
      "None\n",
      "Query 3 có 25 kết quả\n",
      "None\n",
      "Query 4 có 25 kết quả\n",
      "Tổng số kết quả tìm được: 100\n",
      "Số document khi xoá trùng 50\n",
      "Số document sau khi qua rerank: 5\n"
     ]
    },
    {
     "name": "stderr",
     "output_type": "stream",
     "text": [
      "Sinh trả lời:  17%|█▋        | 206/1204 [3:37:31<21:57:14, 79.19s/it]"
     ]
    },
    {
     "name": "stdout",
     "output_type": "stream",
     "text": [
      "['Chị L là kế toán cho doanh nghiệp H. Để tăng thu nhập, chị nhận thêm việc quyết toán thuế cho một số cơ sở kinh doanh nhỏ lẻ vào cuối tháng và có ký kết hợp đồng lao động với các cơ sở kinh doanh này. Việc làm này của chị H có hợp pháp không?', 'Có phải hành vi của kế toán làm thêm dịch vụ quyết toán thuế cho các hộ kinh doanh cá thể là vi phạm pháp luật không?', 'Kế toán doanh nghiệp đồng thời làm dịch vụ quyết toán thuế cho bên thứ ba có hợp pháp theo quy định pháp luật hiện hành không?', 'Việc ký hợp đồng lao động làm thêm ngoài giờ của kế toán có xung đột với quy định về đạo đức nghề nghiệp và pháp luật lao động không?']\n",
      "None\n",
      "Query 1 có 25 kết quả\n",
      "None\n",
      "Query 2 có 25 kết quả\n",
      "None\n",
      "Query 3 có 25 kết quả\n",
      "None\n",
      "Query 4 có 25 kết quả\n",
      "Tổng số kết quả tìm được: 100\n",
      "Số document khi xoá trùng 50\n",
      "Số document sau khi qua rerank: 5\n"
     ]
    },
    {
     "name": "stderr",
     "output_type": "stream",
     "text": [
      "Sinh trả lời:  17%|█▋        | 207/1204 [3:38:58<22:37:56, 81.72s/it]"
     ]
    },
    {
     "name": "stdout",
     "output_type": "stream",
     "text": [
      "['Khi đã hết hạn hợp đồng cũ mà chưa ký kết hợp lao động mới, người lao động vẫn tiếp tục làm việc cho người thuê lao động, thì quyền và nghĩa vụ của các bên được xác định theo hợp đồng cũ hay mới?', '- Xác định hiệu lực của hợp đồng lao động khi hết hạn mà người lao động tiếp tục làm việc theo quy định pháp luật lao động hiện hành?', '- Trường hợp người lao động tiếp tục làm việc sau khi hợp đồng lao động hết hạn nhưng chưa ký hợp đồng mới, quyền và nghĩa vụ của các bên được điều chỉnh bởi văn bản pháp lý nào?', '- Quy định pháp luật về việc xác lập quyền và nghĩa vụ giữa người sử dụng lao động và người lao động khi hết hạn hợp đồng lao động cũ mà chưa có hợp đồng mới?']\n",
      "None\n",
      "Query 1 có 25 kết quả\n",
      "None\n",
      "Query 2 có 25 kết quả\n",
      "should=[FieldCondition(key='metadata.NgayBanHanhFilter', match=MatchAny(any=['yyyy']), range=None, geo_bounding_box=None, geo_radius=None, geo_polygon=None, values_count=None, is_empty=None, is_null=None)] min_should=None must=None must_not=None\n",
      "Query 3 có 0 kết quả\n",
      "None\n",
      "Query 4 có 25 kết quả\n",
      "Tổng số kết quả tìm được: 75\n",
      "Số document khi xoá trùng 43\n",
      "Số document sau khi qua rerank: 5\n"
     ]
    },
    {
     "name": "stderr",
     "output_type": "stream",
     "text": [
      "Sinh trả lời:  17%|█▋        | 208/1204 [3:39:40<19:16:59, 69.70s/it]"
     ]
    },
    {
     "name": "stdout",
     "output_type": "stream",
     "text": [
      "['Hợp đồng lao động phải có những nội dung gì? Phụ lục của hợp đồng lao động có giá trị pháp lý như thế nào? Thời gian hiệu lực của hợp đồng lao động?', 'Nội dung chủ yếu cần có trong hợp đồng lao động theo quy định pháp luật hiện hành? Giá trị pháp lý của phụ lục hợp đồng lao động được xác định như thế nào? Quy định về thời gian có hiệu lực của hợp đồng lao động?', 'Hợp đồng lao động phải bao gồm những điều khoản gì? Phụ lục hợp đồng lao động có giá trị ràng buộc pháp lý ra sao? Thời điểm bắt đầu và kết thúc hiệu lực của hợp đồng lao động được quy định thế nào?', 'Các điều khoản không thể thiếu trong hợp đồng lao động là gì? Giá trị pháp lý và hiệu lực thi hành của phụ lục hợp đồng lao động được pháp luật quy định như thế nào? Thời hạn có hiệu lực của hợp đồng lao động được xác định ra sao?']\n",
      "None\n",
      "Query 1 có 25 kết quả\n",
      "None\n",
      "Query 2 có 25 kết quả\n",
      "None\n",
      "Query 3 có 25 kết quả\n",
      "None\n",
      "Query 4 có 25 kết quả\n",
      "Tổng số kết quả tìm được: 100\n",
      "Số document khi xoá trùng 49\n",
      "Số document sau khi qua rerank: 5\n"
     ]
    },
    {
     "name": "stderr",
     "output_type": "stream",
     "text": [
      "Sinh trả lời:  17%|█▋        | 209/1204 [3:40:37<18:11:27, 65.82s/it]"
     ]
    },
    {
     "name": "stdout",
     "output_type": "stream",
     "text": [
      "['D tốt nghiệp đại học và được nhận vào một công ty kinh doanh tài chính. Công ty quy định thời gian thử việc là 02 tháng, mức lương thử việc bằng 70% mức lương của công việc cho một người chính thức. A thấy như vậy là không hợp lý vì mình cũng làm như người khác mà chỉ nhận được 70% lương là không công bằng. A có thể đòi quyền lợi cho mình không?', 'Người lao động tốt nghiệp đại học, thử việc tại công ty tài chính với mức lương 70% có quyền khiếu nại về mức lương thử việc không?', 'Quy định pháp luật về thời gian thử việc và mức lương thử việc, đặc biệt khi người lao động có trình độ đại học, có cho phép đòi hỏi quyền lợi không?', 'Người lao động có được bảo vệ quyền lợi khi công ty áp dụng mức lương thử việc 70% cho người có trình độ đại học và thực hiện công việc tương đương nhân viên chính thức theo luật lao động hiện hành không?']\n",
      "None\n",
      "Query 1 có 25 kết quả\n",
      "None\n",
      "Query 2 có 25 kết quả\n",
      "None\n",
      "Query 3 có 25 kết quả\n",
      "None\n",
      "Query 4 có 25 kết quả\n",
      "Tổng số kết quả tìm được: 100\n",
      "Số document khi xoá trùng 50\n",
      "Số document sau khi qua rerank: 5\n"
     ]
    },
    {
     "name": "stderr",
     "output_type": "stream",
     "text": [
      "Sinh trả lời:  17%|█▋        | 210/1204 [3:41:51<18:53:08, 68.40s/it]"
     ]
    },
    {
     "name": "stdout",
     "output_type": "stream",
     "text": [
      "['Người làm thủ kho của công ty tôi đột ngột bỏ việc, giám đốc yêu cầu tôi là nhân viên phòng kế toán xuống làm thay một thời gian cho đến khi tìm được người thay thế. Thực lòng tôi không thích lắm vì lương thủ kho thấp hơn lương của tôi, và cũng không biết tôi phải làm thay bao lâu. Nhưng hiện nay, tìm được công việc không dễ nên tôi không có ý định bỏ việc dù được giao việc không đúng nội dung hợp đồng. Trường hợp như của tôi, được bảo đảm quyền lợi gì khi chuyển việc không?', 'Trong trường hợp bị điều chuyển sang vị trí công việc khác với hợp đồng lao động, người lao động có những quyền lợi gì được pháp luật bảo vệ?', 'Việc điều chuyển nhân viên kế toán sang làm thủ kho tạm thời khi chưa có người thay thế có vi phạm quy định pháp luật lao động không, và quyền lợi của người lao động trong tình huống này là gì?', 'Quy định pháp luật về quyền lợi của người lao động khi bị giao làm công việc khác với nội dung hợp đồng lao động đã ký kết, cụ thể trong trường hợp điều chuyển tạm thời sang vị trí có mức lương thấp hơn?']\n",
      "None\n",
      "Query 1 có 25 kết quả\n",
      "None\n",
      "Query 2 có 25 kết quả\n",
      "None\n",
      "Query 3 có 25 kết quả\n",
      "None\n",
      "Query 4 có 25 kết quả\n",
      "Tổng số kết quả tìm được: 100\n",
      "Số document khi xoá trùng 50\n",
      "Số document sau khi qua rerank: 5\n"
     ]
    },
    {
     "name": "stderr",
     "output_type": "stream",
     "text": [
      "Sinh trả lời:  18%|█▊        | 211/1204 [3:42:48<17:52:57, 64.83s/it]"
     ]
    },
    {
     "name": "stdout",
     "output_type": "stream",
     "text": [
      "['Những trường hợp nào người lao động được tạm hoãn hợp đồng lao động?', 'Những trường hợp nào được phép tạm hoãn thực hiện hợp đồng lao động theo luật?', 'Các điều kiện và tình huống pháp lý cho phép người lao động tạm hoãn hợp đồng lao động là gì?', 'Quy định pháp luật về các trường hợp người lao động được tạm hoãn thực hiện nghĩa vụ trong hợp đồng lao động?']\n",
      "None\n",
      "Query 1 có 25 kết quả\n",
      "should=[FieldCondition(key='metadata.LoaiVanBanFilter', match=MatchValue(value='luật'), range=None, geo_bounding_box=None, geo_radius=None, geo_polygon=None, values_count=None, is_empty=None, is_null=None)] min_should=None must=None must_not=None\n",
      "Query 2 có 25 kết quả\n",
      "None\n",
      "Query 3 có 25 kết quả\n",
      "None\n",
      "Query 4 có 25 kết quả\n",
      "Tổng số kết quả tìm được: 100\n",
      "Số document khi xoá trùng 50\n",
      "Số document sau khi qua rerank: 5\n"
     ]
    },
    {
     "name": "stderr",
     "output_type": "stream",
     "text": [
      "Sinh trả lời:  18%|█▊        | 212/1204 [3:44:04<18:51:18, 68.43s/it]"
     ]
    },
    {
     "name": "stdout",
     "output_type": "stream",
     "text": [
      "['Do mẹ bệnh nặng, nhà lại neo người nên tôi làm đơn xin công ty cho nghỉ không lương 01 tháng về quê chăm mẹ. Do bệnh bà trở nặng tôi đã ở quê thêm 10 ngày nữa và có gọi điện thông báo với công ty. Thực tế tôi nghỉ 01 tháng 10 ngày, rồi tôi trở lại làm việc nhưng không được công ty nhận lại với lý do tôi nghỉ quá thời gian đã xin phép, như vậy là vi phạm kỷ luật công ty họ được đơn phương chấm dứt hợp đồng lao động với tôi. Xin hỏi công ty trả lời như vậy có đúng không?', 'Người lao động tự ý nghỉ việc quá số ngày đã xin phép, bị công ty đơn phương chấm dứt hợp đồng lao động có đúng luật không?', 'Công ty đơn phương chấm dứt hợp đồng lao động với người lao động vì nghỉ không lương quá thời gian quy định có hợp pháp không?', 'Quy định pháp luật về việc công ty đơn phương chấm dứt hợp đồng lao động do người lao động tự ý nghỉ việc không lương quá thời hạn cho phép?']\n",
      "None\n",
      "Query 1 có 25 kết quả\n",
      "None\n",
      "Query 2 có 25 kết quả\n",
      "None\n",
      "Query 3 có 25 kết quả\n",
      "None\n",
      "Query 4 có 25 kết quả\n",
      "Tổng số kết quả tìm được: 100\n",
      "Số document khi xoá trùng 50\n",
      "Số document sau khi qua rerank: 5\n"
     ]
    },
    {
     "name": "stderr",
     "output_type": "stream",
     "text": [
      "Sinh trả lời:  18%|█▊        | 213/1204 [3:45:08<18:26:27, 66.99s/it]"
     ]
    },
    {
     "name": "stdout",
     "output_type": "stream",
     "text": [
      "['Sau khi về hưu, do có chuyên môn về giám định trang sức, tôi có nhận lời làm việc cho một công ty vàng bạc đá quý, nhưng tôi muốn chỉ đi làm 3 ngày trong tuần, vì tôi muốn dành thời gian nghỉ ngơi, giúp đỡ con cháu. Tôi có được yêu cầu như vậy với công ty không? Quyền lợi của tôi có gì khác những người làm toàn thời gian không?', 'Tôi là người đã nghỉ hưu, có chuyên môn giám định trang sức, muốn làm việc bán thời gian 3 ngày/tuần tại công ty vàng bạc đá quý, vậy tôi có thể thỏa thuận điều này với công ty không và quyền lợi của tôi khác gì so với nhân viên toàn thời gian?', 'Người lao động đã nghỉ hưu có chuyên môn về giám định trang sức làm việc bán thời gian (3 ngày/tuần) tại công ty vàng bạc đá quý thì có được thỏa thuận về thời gian làm việc không, và quyền lợi của người lao động này so với người làm toàn thời gian khác biệt như thế nào theo quy định pháp luật lao động hiện hành?', 'Người lao động sau khi nghỉ hưu có được ký hợp đồng lao động làm việc bán thời gian (3 ngày/tuần) trong lĩnh vực giám định trang sức tại công ty vàng bạc đá quý không, và chế độ quyền lợi của người lao động này so với người lao động làm việc toàn thời gian được quy định như thế nào trong Bộ luật Lao động?', 'Việc người đã nghỉ hưu có chuyên môn giám định trang sức ký hợp đồng lao động bán thời gian (3 ngày/tuần) với công ty vàng bạc đá quý có tuân thủ các quy định của pháp luật lao động không, và quyền lợi của người lao động này so với người lao động làm toàn thời gian khác nhau ở những điểm nào?']\n",
      "None\n",
      "Query 1 có 25 kết quả\n",
      "None\n",
      "Query 2 có 25 kết quả\n",
      "should=[FieldCondition(key='metadata.NgayBanHanhFilter', match=MatchAny(any=['yyyy']), range=None, geo_bounding_box=None, geo_radius=None, geo_polygon=None, values_count=None, is_empty=None, is_null=None)] min_should=None must=None must_not=None\n",
      "Query 3 có 0 kết quả\n",
      "None\n",
      "Query 4 có 25 kết quả\n",
      "None\n",
      "Query 5 có 25 kết quả\n",
      "Tổng số kết quả tìm được: 100\n",
      "Số document khi xoá trùng 50\n",
      "Số document sau khi qua rerank: 5\n"
     ]
    },
    {
     "name": "stderr",
     "output_type": "stream",
     "text": [
      "Sinh trả lời:  18%|█▊        | 214/1204 [3:46:17<18:34:59, 67.58s/it]"
     ]
    },
    {
     "name": "stdout",
     "output_type": "stream",
     "text": [
      "['Việc sửa đổi, bổ sung nội dung hợp đồng lao động có bắt buộc phải ký kết hợp đồng mới không?', 'Có bắt buộc ký hợp đồng lao động mới khi sửa đổi, bổ sung nội dung hợp đồng lao động đã giao kết không?', 'Sửa đổi, bổ sung hợp đồng lao động có cần thiết lập một hợp đồng lao động mới theo quy định pháp luật hiện hành không?', 'Quy trình sửa đổi nội dung hợp đồng lao động: Có phát sinh yêu cầu ký lại hợp đồng lao động mới hay không?']\n",
      "None\n",
      "Query 1 có 25 kết quả\n",
      "None\n",
      "Query 2 có 25 kết quả\n",
      "None\n",
      "Query 3 có 25 kết quả\n",
      "None\n",
      "Query 4 có 25 kết quả\n",
      "Tổng số kết quả tìm được: 100\n",
      "Số document khi xoá trùng 41\n",
      "Số document sau khi qua rerank: 5\n"
     ]
    },
    {
     "name": "stderr",
     "output_type": "stream",
     "text": [
      "Sinh trả lời:  18%|█▊        | 215/1204 [3:47:05<16:58:29, 61.79s/it]"
     ]
    },
    {
     "name": "stdout",
     "output_type": "stream",
     "text": [
      "['Chị T đang kế toán cho công ty X theo hợp đồng lao động không xác định thời hạn. Nay chị T lập gia đình và chuyển đến thành phố khác sinh sống. Chị T có thể chấm dứt hợp đồng lao động với công ty X được không?', 'Người lao động có hợp đồng lao động không xác định thời hạn có quyền đơn phương chấm dứt hợp đồng lao động khi thay đổi nơi cư trú không?', 'Chị T, kế toán công ty X với hợp đồng không xác định thời hạn, chuyển đến thành phố khác, việc chấm dứt hợp đồng lao động được pháp luật quy định như thế nào?', 'Quy định pháp luật về việc người lao động đơn phương chấm dứt hợp đồng lao động không xác định thời hạn do thay đổi nơi ở, trường hợp cụ thể của chị T làm kế toán tại công ty X.']\n",
      "None\n",
      "Query 1 có 25 kết quả\n",
      "None\n",
      "Query 2 có 25 kết quả\n",
      "None\n",
      "Query 3 có 25 kết quả\n",
      "None\n",
      "Query 4 có 25 kết quả\n",
      "Tổng số kết quả tìm được: 100\n",
      "Số document khi xoá trùng 47\n",
      "Số document sau khi qua rerank: 5\n"
     ]
    },
    {
     "name": "stderr",
     "output_type": "stream",
     "text": [
      "Sinh trả lời:  18%|█▊        | 216/1204 [3:47:55<15:59:02, 58.24s/it]"
     ]
    },
    {
     "name": "stdout",
     "output_type": "stream",
     "text": [
      "['Anh H được tuyển dụng vào làm việc tại Công ty may mặc X theo hợp đồng lao động thời hạn 36 tháng. Theo thỏa thuận trong hợp đồng, anh H được tuyển dụng vào vị trí kiểm tra chất lượng sản phẩm (KCS). Tuy nhiên, đã 03 tháng kể từ khi vào công ty làm việc, anh lại phải làm công việc của công nhân bốc dỡ hàng hóa. Anh đã nhiều lần kiến nghị với Giám đốc công ty bố trí công việc theo đúng hợp đồng nhưng không được giải quyết cũng không được giải thích lý do. Anh H đã nghỉ việc mà không báo trước cho công ty X. Xin hỏi, việc tự ý nghỉ việc của anh H có bị coi là đơn phương chấm dứt hợp đồng lao động trái pháp luật không?', 'Người lao động tự ý nghỉ việc khi công ty không thực hiện đúng vị trí công việc theo hợp đồng có bị coi là đơn phương chấm dứt hợp đồng trái luật không?', 'Nghỉ việc không báo trước do công ty không bố trí đúng công việc theo hợp đồng lao động có phải là đơn phương chấm dứt hợp đồng trái pháp luật không?', 'Trong trường hợp người lao động nghỉ việc không báo trước vì công ty vi phạm thỏa thuận về vị trí làm việc trong hợp đồng lao động, hành vi này có được xem là đơn phương chấm dứt hợp đồng trái luật không?']\n",
      "None\n",
      "Query 1 có 25 kết quả\n",
      "None\n",
      "Query 2 có 25 kết quả\n",
      "None\n",
      "Query 3 có 25 kết quả\n",
      "None\n",
      "Query 4 có 25 kết quả\n",
      "Tổng số kết quả tìm được: 100\n",
      "Số document khi xoá trùng 47\n",
      "Số document sau khi qua rerank: 5\n"
     ]
    },
    {
     "name": "stderr",
     "output_type": "stream",
     "text": [
      "Sinh trả lời:  18%|█▊        | 217/1204 [3:49:04<16:49:11, 61.35s/it]"
     ]
    },
    {
     "name": "stdout",
     "output_type": "stream",
     "text": [
      "['Xin hỏi, người lao động được đơn phương chấm dứt hợp đồng lao động mà không phải báo trước cho người sử dụng lao động trong trường hợp nào?', 'Những trường hợp nào người lao động được phép đơn phương chấm dứt hợp đồng lao động mà không cần báo trước theo luật lao động hiện hành?', 'Quy định pháp luật về các tình huống người lao động có quyền đơn phương chấm dứt hợp đồng lao động ngay lập tức, không cần thông báo trước cho công ty là gì?', 'Người lao động có thể đơn phương chấm dứt hợp đồng lao động mà không cần báo trước cho người sử dụng lao động khi nào theo Bộ luật Lao động?']\n",
      "None\n",
      "Query 1 có 25 kết quả\n",
      "None\n",
      "Query 2 có 25 kết quả\n",
      "None\n",
      "Query 3 có 25 kết quả\n",
      "None\n",
      "Query 4 có 25 kết quả\n",
      "Tổng số kết quả tìm được: 100\n",
      "Số document khi xoá trùng 35\n",
      "Số document sau khi qua rerank: 5\n"
     ]
    },
    {
     "name": "stderr",
     "output_type": "stream",
     "text": [
      "Sinh trả lời:  18%|█▊        | 218/1204 [3:49:47<15:17:39, 55.84s/it]"
     ]
    },
    {
     "name": "stdout",
     "output_type": "stream",
     "text": [
      "['Chị B làm việc tại Công ty X theo hợp đồng với thời hạn 6 tháng. Theo thỏa thuận trong hợp đồng lao động, công ty sẽ trả lương cho chị B vào ngày 01 dương lịch hàng tháng. Tuy nhiên tiền lương hàng tháng của công ty luôn trả trễ hơn so với quy định trong hợp đồng. Chị B đã làm việc được 3 tháng. Chị quyết định nộp đơn xin nghỉ việc và không làm việc tại công ty ngay sau khi nộp đơn. Việc chị B chấm dứt hợp đồng như vậy có đúng pháp luật không? Chị B có được hưởng trợ cấp thôi việc không?', 'Người lao động làm việc 6 tháng theo hợp đồng, công ty trả lương chậm, sau 3 tháng tự ý nghỉ việc có đúng luật và được hưởng trợ cấp thôi việc không?', 'Chấm dứt hợp đồng lao động trước thời hạn do công ty trả lương trễ, người lao động có được hưởng trợ cấp thôi việc theo quy định pháp luật không?', 'Hợp đồng lao động 6 tháng, công ty vi phạm điều khoản trả lương, người lao động đơn phương chấm dứt hợp đồng có hợp pháp và có quyền lợi gì không?']\n",
      "None\n",
      "Query 1 có 25 kết quả\n",
      "None\n",
      "Query 2 có 25 kết quả\n",
      "None\n",
      "Query 3 có 25 kết quả\n",
      "None\n",
      "Query 4 có 25 kết quả\n",
      "Tổng số kết quả tìm được: 100\n",
      "Số document khi xoá trùng 50\n",
      "Số document sau khi qua rerank: 5\n"
     ]
    },
    {
     "name": "stderr",
     "output_type": "stream",
     "text": [
      "Sinh trả lời:  18%|█▊        | 219/1204 [3:51:32<19:19:17, 70.62s/it]"
     ]
    },
    {
     "name": "stdout",
     "output_type": "stream",
     "text": [
      "['Anh D có ký hợp đồng lao động không xác định thời hạn với một công ty nước ngoài. Anh đã làm việc tại công ty này được 02 năm. Nay anh D muốn chấm dứt hợp đồng lao động có được không và nếu được anh D có phải đền bù gì cho công ty không?', 'Người lao động ký hợp đồng lao động không xác định thời hạn với công ty nước ngoài sau 2 năm làm việc có quyền đơn phương chấm dứt hợp đồng không và nghĩa vụ bồi thường thiệt hại phát sinh trong trường hợp này được quy định như thế nào?', 'Quy định pháp luật hiện hành về quyền đơn phương chấm dứt hợp đồng lao động không xác định thời hạn của người lao động làm việc tại công ty nước ngoài và các khoản bồi thường có thể phát sinh là gì?', 'Người lao động làm việc tại công ty nước ngoài theo hợp đồng lao động không xác định thời hạn có thể chấm dứt hợp đồng và phải bồi thường cho công ty trong trường hợp nào theo Bộ luật Lao động hiện hành?']\n",
      "None\n",
      "Query 1 có 25 kết quả\n",
      "None\n",
      "Query 2 có 25 kết quả\n",
      "None\n",
      "Query 3 có 25 kết quả\n",
      "None\n",
      "Query 4 có 25 kết quả\n",
      "Tổng số kết quả tìm được: 100\n",
      "Số document khi xoá trùng 50\n",
      "Số document sau khi qua rerank: 5\n"
     ]
    },
    {
     "name": "stderr",
     "output_type": "stream",
     "text": [
      "Sinh trả lời:  18%|█▊        | 220/1204 [3:53:00<20:45:35, 75.95s/it]"
     ]
    },
    {
     "name": "stdout",
     "output_type": "stream",
     "text": [
      "['Chị H ký hợp đồng lao động thời hạn 03 tháng với Công ty may mặc F. Sau khi làm việc được 01 tuần, do thấy công việc không như mong muốn chị H đã nộp đơn xin nghỉ việc, 03 ngày làm việc sau khi nộp đơn, chị H nghỉ việc. Chị H yêu cầu công ty trả lương cho những ngày làm việc và trả lại những giấy tờ cá nhân chị đã nộp cho công ty khi ký hợp đồng nhưng Công ty F đã từ chối đề nghị của chị với lý do chị H tự ý nghỉ việc không được sự đồng ý của công ty. Xin hỏi, việc công ty F từ chối yêu cầu của chị H với lý do như vậy có đúng pháp luật?', 'Có đúng luật không khi công ty từ chối trả lương và trả lại giấy tờ cá nhân cho người lao động nghỉ việc sau 03 ngày báo trước với hợp đồng 03 tháng?', 'Công ty từ chối yêu cầu trả lương và giấy tờ cá nhân của người lao động nghỉ việc có vi phạm quy định pháp luật lao động hiện hành không?', 'Quy định pháp luật về quyền lợi của người lao động làm việc theo hợp đồng 03 tháng khi đơn phương chấm dứt hợp đồng sau 01 tuần làm việc và báo trước 03 ngày?']\n",
      "None\n",
      "Query 1 có 25 kết quả\n",
      "should=[FieldCondition(key='metadata.LoaiVanBanFilter', match=MatchValue(value='luật'), range=None, geo_bounding_box=None, geo_radius=None, geo_polygon=None, values_count=None, is_empty=None, is_null=None)] min_should=None must=None must_not=None\n",
      "Query 2 có 25 kết quả\n",
      "None\n",
      "Query 3 có 25 kết quả\n",
      "None\n",
      "Query 4 có 25 kết quả\n",
      "Tổng số kết quả tìm được: 100\n",
      "Số document khi xoá trùng 50\n",
      "Số document sau khi qua rerank: 5\n"
     ]
    },
    {
     "name": "stderr",
     "output_type": "stream",
     "text": [
      "Sinh trả lời:  18%|█▊        | 221/1204 [3:54:12<20:24:10, 74.72s/it]"
     ]
    },
    {
     "name": "stdout",
     "output_type": "stream",
     "text": [
      "['Xin hỏi, người sử dụng lao động có quyền đơn phương chấm dứt hợp đồng lao động trong trường hợp nào?', 'Người sử dụng lao động được quyền đơn phương chấm dứt hợp đồng lao động trong những trường hợp cụ thể nào theo luật định?', 'Những tình huống nào cho phép người sử dụng lao động đơn phương chấm dứt hợp đồng lao động theo quy định của pháp luật lao động hiện hành?', 'Quy định pháp luật hiện hành về các trường hợp người sử dụng lao động có quyền đơn phương chấm dứt hợp đồng lao động là gì?']\n",
      "None\n",
      "Query 1 có 25 kết quả\n",
      "None\n",
      "Query 2 có 25 kết quả\n",
      "None\n",
      "Query 3 có 25 kết quả\n",
      "None\n",
      "Query 4 có 25 kết quả\n",
      "Tổng số kết quả tìm được: 100\n",
      "Số document khi xoá trùng 38\n",
      "Số document sau khi qua rerank: 5\n"
     ]
    },
    {
     "name": "stderr",
     "output_type": "stream",
     "text": [
      "Sinh trả lời:  18%|█▊        | 222/1204 [3:54:57<17:55:21, 65.70s/it]"
     ]
    },
    {
     "name": "stdout",
     "output_type": "stream",
     "text": [
      "['Công ty trách nhiệm hữu hạn X ký hợp đồng lao động không xác định thời hạn với anh B. Anh B bị chấn thương đốt sống do tai nạn giao thông, đã nằm bệnh viện điều trị hơn 1 năm vẫn chưa bình phục nên Công ty X quyết định chấm dứt hợp đồng lao động với anh B. Xin hỏi, công ty đơn phương chấm dứt hợp đồng lao động đối với anh B là đúng hay sai? Trước khi đơn phương chấm dứt hợp đồng lao động, người lao động có được báo trước không?', 'Có phải công ty trách nhiệm hữu hạn chấm dứt hợp đồng lao động không xác định thời hạn với người lao động bị tai nạn giao thông là đúng luật không?', 'Việc công ty đơn phương chấm dứt hợp đồng lao động với người lao động bị tai nạn giao thông mất khả năng lao động có cần báo trước không?', 'Quy định pháp luật về việc đơn phương chấm dứt hợp đồng lao động đối với trường hợp người lao động bị tai nạn không thể tiếp tục làm việc là gì?']\n",
      "None\n",
      "Query 1 có 25 kết quả\n",
      "None\n",
      "Query 2 có 25 kết quả\n",
      "None\n",
      "Query 3 có 25 kết quả\n",
      "None\n",
      "Query 4 có 25 kết quả\n",
      "Tổng số kết quả tìm được: 100\n",
      "Số document khi xoá trùng 50\n",
      "Số document sau khi qua rerank: 5\n"
     ]
    },
    {
     "name": "stderr",
     "output_type": "stream",
     "text": [
      "Sinh trả lời:  19%|█▊        | 223/1204 [3:56:17<19:06:20, 70.11s/it]"
     ]
    },
    {
     "name": "stdout",
     "output_type": "stream",
     "text": [
      "['Anh Nguyễn Văn A làm việc tại Công ty CP may X. Anh được Công ty ký hợp đồng lao động có thời hạn để làm công việc như kỹ thuật viên công nghệ may từ 01/9/2017 đến hết 30/6/2019. Tại đại hội Công đoàn Công ty nhiệm kỳ 2019-2020 được tổ chức vào tháng 3/2019, anh A được đại hội bầu làm Chủ tịch công đoàn Công ty. Ngày 15/6/2019, trước khi hết hạn hợp đồng 15 ngày, Giám đốc Công ty CP May X ký thông báo chấm dứt hợp đồng lao động với anh A vào thời điểm 30/6/2019 vì hợp đồng lao động giữa Công ty ký với anh A hết hạn.', 'Chấm dứt hợp đồng lao động với chủ tịch công đoàn trước thời hạn có đúng luật không?', 'Việc công ty chấm dứt hợp đồng lao động với người lao động là chủ tịch công đoàn có vi phạm quy định pháp luật lao động không?', 'Quy định pháp luật về chấm dứt hợp đồng lao động đối với người lao động đồng thời là chủ tịch công đoàn như thế nào?']\n",
      "None\n",
      "Query 1 có 25 kết quả\n",
      "None\n",
      "Query 2 có 25 kết quả\n",
      "None\n",
      "Query 3 có 25 kết quả\n",
      "None\n",
      "Query 4 có 25 kết quả\n",
      "Tổng số kết quả tìm được: 100\n",
      "Số document khi xoá trùng 50\n",
      "Số document sau khi qua rerank: 5\n"
     ]
    },
    {
     "name": "stderr",
     "output_type": "stream",
     "text": [
      "Sinh trả lời:  19%|█▊        | 224/1204 [3:57:38<19:58:23, 73.37s/it]"
     ]
    },
    {
     "name": "stdout",
     "output_type": "stream",
     "text": [
      "['Chị Y làm việc cho một công ty nước ngoài và được ký hợp đồng có thời hạn 02 năm từ tháng 12/2019 đến tháng 12/2021. Giả sử, năm 2021 chị Y mang thai và sinh con vào tháng 11/2021. Vậy tới ngày hết hạn hợp đồng lao động (12/2021), công ty có quyền chấm dứt hợp đồng với chị Y không?', 'Người lao động nữ mang thai và sinh con trước thời điểm hết hạn hợp đồng lao động xác định thời hạn thì công ty có quyền đơn phương chấm dứt hợp đồng lao động không?', 'Trong trường hợp người lao động nữ ký hợp đồng lao động xác định thời hạn 02 năm, đang mang thai và sinh con, đến thời điểm hết hạn hợp đồng thì người sử dụng lao động có được phép chấm dứt hợp đồng lao động theo quy định pháp luật lao động hiện hành không?', 'Quy định pháp luật về việc chấm dứt hợp đồng lao động đối với lao động nữ có thai, sinh con khi hợp đồng lao động xác định thời hạn sắp hết hiệu lực?']\n",
      "should=[FieldCondition(key='metadata.NgayBanHanhFilter', match=MatchAny(any=['2019']), range=None, geo_bounding_box=None, geo_radius=None, geo_polygon=None, values_count=None, is_empty=None, is_null=None)] min_should=None must=None must_not=None\n",
      "Query 1 có 25 kết quả\n",
      "None\n",
      "Query 2 có 25 kết quả\n",
      "None\n",
      "Query 3 có 25 kết quả\n",
      "None\n",
      "Query 4 có 25 kết quả\n",
      "Tổng số kết quả tìm được: 100\n",
      "Số document khi xoá trùng 43\n",
      "Số document sau khi qua rerank: 5\n"
     ]
    },
    {
     "name": "stderr",
     "output_type": "stream",
     "text": [
      "Sinh trả lời:  19%|█▊        | 225/1204 [3:58:47<19:35:24, 72.04s/it]"
     ]
    },
    {
     "name": "stdout",
     "output_type": "stream",
     "text": [
      "['Xin hỏi, người sử dụng lao động có nghĩa vụ gì khi đơn phương chấm dứt hợp đồng lao động trái pháp luật?', 'Trách nhiệm pháp lý của người sử dụng lao động khi đơn phương chấm dứt hợp đồng lao động trái luật được quy định như thế nào?', 'Người sử dụng lao động phải chịu trách nhiệm gì khi vi phạm quy định về đơn phương chấm dứt hợp đồng lao động?', 'Nghĩa vụ bồi thường của công ty đối với người lao động khi đơn phương chấm dứt hợp đồng lao động trái pháp luật được pháp luật quy định ra sao?']\n",
      "None\n",
      "Query 1 có 25 kết quả\n",
      "None\n",
      "Query 2 có 25 kết quả\n",
      "None\n",
      "Query 3 có 25 kết quả\n",
      "None\n",
      "Query 4 có 25 kết quả\n",
      "Tổng số kết quả tìm được: 100\n",
      "Số document khi xoá trùng 50\n",
      "Số document sau khi qua rerank: 5\n"
     ]
    },
    {
     "name": "stderr",
     "output_type": "stream",
     "text": [
      "Sinh trả lời:  19%|█▉        | 226/1204 [3:59:43<18:15:49, 67.23s/it]"
     ]
    },
    {
     "name": "stdout",
     "output_type": "stream",
     "text": [
      "['Anh K làm việc cho công ty X theo hợp đồng lao động có thời hạn từ tháng 07/2018 đến tháng 07/2021. Xin hỏi, đến tháng 07/2021 khi hết hạn hợp đồng, anh K chấm dứt hợp đồng lao động với công ty X. Anh K được hưởng những quyền lợi gì?', 'Những quyền lợi mà anh K được hưởng khi chấm dứt hợp đồng lao động có thời hạn với công ty X sau thời gian làm việc từ tháng 07/2018 đến tháng 07/2021 là gì?', 'Khi hợp đồng lao động xác định thời hạn của anh K với công ty X kết thúc vào tháng 07/2021, việc chấm dứt hợp đồng này mang lại cho anh K những quyền lợi cụ thể nào theo luật lao động hiện hành?', 'Người lao động (anh K) làm việc theo hợp đồng lao động có thời hạn tại công ty X từ tháng 07/2018 đến tháng 07/2021 thì khi kết thúc hợp đồng, các chế độ và quyền lợi được hưởng khi chấm dứt hợp đồng lao động được quy định như thế nào?']\n",
      "None\n",
      "Query 1 có 25 kết quả\n",
      "should=[FieldCondition(key='metadata.NgayBanHanhFilter', match=MatchAny(any=['2018']), range=None, geo_bounding_box=None, geo_radius=None, geo_polygon=None, values_count=None, is_empty=None, is_null=None)] min_should=None must=None must_not=None\n",
      "Query 2 có 25 kết quả\n",
      "should=[FieldCondition(key='metadata.NgayBanHanhFilter', match=MatchAny(any=['2021']), range=None, geo_bounding_box=None, geo_radius=None, geo_polygon=None, values_count=None, is_empty=None, is_null=None)] min_should=None must=None must_not=None\n",
      "Query 3 có 25 kết quả\n",
      "None\n",
      "Query 4 có 25 kết quả\n",
      "Tổng số kết quả tìm được: 100\n",
      "Số document khi xoá trùng 50\n",
      "Số document sau khi qua rerank: 5\n"
     ]
    },
    {
     "name": "stderr",
     "output_type": "stream",
     "text": [
      "Sinh trả lời:  19%|█▉        | 227/1204 [4:01:10<19:50:12, 73.09s/it]"
     ]
    },
    {
     "name": "stdout",
     "output_type": "stream",
     "text": [
      "['Chị T làm việc cho công ty A theo hợp đồng lao động không xác định thời hạn từ tháng 6 năm 2015. Đến tháng 7/2021, công ty A tuyên bố phá sản và chuyển nhượng toàn bộ nhà máy và nhân sự cho công ty B. Chị T bị công ty B cho thôi việc. Xin hỏi, chị T được hưởng quyền lợi gì?', 'Chị T làm việc tại công ty A theo hợp đồng lao động không xác định thời hạn, sau khi công ty A phá sản và chuyển giao cho công ty B thì bị chấm dứt hợp đồng, vậy chị T có những quyền lợi gì theo luật lao động hiện hành?', 'Trong trường hợp công ty A phá sản và chuyển nhượng cho công ty B, dẫn đến việc chị T bị công ty B cho thôi việc, chị T được hưởng các chế độ bồi thường và trợ cấp thất nghiệp nào theo quy định của pháp luật lao động Việt Nam?', 'Việc công ty A phá sản và chuyển giao nhân sự sang công ty B có ảnh hưởng đến quyền lợi của chị T (người lao động có hợp đồng không xác định thời hạn) như thế nào khi công ty B đơn phương chấm dứt hợp đồng lao động?']\n",
      "None\n",
      "Query 1 có 25 kết quả\n",
      "None\n",
      "Query 2 có 25 kết quả\n",
      "None\n",
      "Query 3 có 25 kết quả\n",
      "None\n",
      "Query 4 có 25 kết quả\n",
      "Tổng số kết quả tìm được: 100\n",
      "Số document khi xoá trùng 50\n",
      "Số document sau khi qua rerank: 5\n"
     ]
    },
    {
     "name": "stderr",
     "output_type": "stream",
     "text": [
      "Sinh trả lời:  19%|█▉        | 228/1204 [4:02:13<18:59:01, 70.02s/it]"
     ]
    },
    {
     "name": "stdout",
     "output_type": "stream",
     "text": [
      "['Xin hỏi, hợp đồng lao động vô hiệu trong những trường hợp nào? Cơ quan có thẩm quyền tuyên bố hợp đồng vô hiệu', 'Các trường hợp hợp đồng lao động bị tuyên bố vô hiệu theo quy định pháp luật hiện hành và cơ quan nào có thẩm quyền?', 'Hợp đồng lao động vô hiệu khi nào? Quy định về thẩm quyền tuyên bố hợp đồng lao động vô hiệu?', 'Hậu quả pháp lý của hợp đồng lao động vô hiệu và cơ quan có thẩm quyền giải quyết tranh chấp hợp đồng lao động vô hiệu?']\n",
      "None\n",
      "Query 1 có 25 kết quả\n",
      "None\n",
      "Query 2 có 25 kết quả\n",
      "None\n",
      "Query 3 có 25 kết quả\n",
      "None\n",
      "Query 4 có 25 kết quả\n",
      "Tổng số kết quả tìm được: 100\n",
      "Số document khi xoá trùng 43\n",
      "Số document sau khi qua rerank: 5\n"
     ]
    },
    {
     "name": "stderr",
     "output_type": "stream",
     "text": [
      "Sinh trả lời:  19%|█▉        | 229/1204 [4:03:04<17:25:54, 64.36s/it]"
     ]
    },
    {
     "name": "stdout",
     "output_type": "stream",
     "text": [
      "['Cho thuê lại lao động là gì? Nguyên tắc hoạt động cho thuê lại lao động?', 'Cho thuê lại lao động được định nghĩa như thế nào theo quy định pháp luật hiện hành? Nguyên tắc hoạt động của dịch vụ cho thuê lại lao động được quy định cụ thể ra sao?', 'Quy định pháp luật về cho thuê lại lao động, bao gồm khái niệm và các nguyên tắc hoạt động cơ bản của dịch vụ này?', 'Dịch vụ cho thuê lại lao động là gì? Các quy định và nguyên tắc chi phối hoạt động cho thuê lại lao động được pháp luật Việt Nam quy định như thế nào?']\n",
      "None\n",
      "Query 1 có 25 kết quả\n",
      "None\n",
      "Query 2 có 25 kết quả\n",
      "None\n",
      "Query 3 có 25 kết quả\n",
      "None\n",
      "Query 4 có 25 kết quả\n",
      "Tổng số kết quả tìm được: 100\n",
      "Số document khi xoá trùng 38\n",
      "Số document sau khi qua rerank: 5\n"
     ]
    },
    {
     "name": "stderr",
     "output_type": "stream",
     "text": [
      "Sinh trả lời:  19%|█▉        | 230/1204 [4:03:57<16:29:32, 60.96s/it]"
     ]
    },
    {
     "name": "stdout",
     "output_type": "stream",
     "text": [
      "['Doanh nghiệp cho thuê lại lao động có quyền và nghĩa vụ gì?', 'Quyền và nghĩa vụ pháp lý của doanh nghiệp cho thuê lại lao động được quy định như thế nào?', 'Doanh nghiệp hoạt động trong lĩnh vực cho thuê lại lao động có những quyền hạn và trách nhiệm gì theo luật định?', 'Nghĩa vụ và quyền của doanh nghiệp cho thuê lại lao động được pháp luật Việt Nam quy định cụ thể ra sao?']\n",
      "None\n",
      "Query 1 có 25 kết quả\n",
      "None\n",
      "Query 2 có 25 kết quả\n",
      "None\n",
      "Query 3 có 25 kết quả\n",
      "None\n",
      "Query 4 có 25 kết quả\n",
      "Tổng số kết quả tìm được: 100\n",
      "Số document khi xoá trùng 33\n"
     ]
    }
   ],
   "source": [
    "def Generate_Response(df_batch: pd.DataFrame) -> list[str]:\n",
    "    \"\"\"\n",
    "    Sinh câu trả lời cho mỗi câu hỏi trong batch.\n",
    "    Trả về danh sách answer tương ứng.\n",
    "    \"\"\"\n",
    "    answers = []\n",
    "    for question in tqdm(df_batch['question'], desc=\"Sinh trả lời\"):    \n",
    "        article_doc = rag.get_gemini_response_rag_final(question)\n",
    "        answers.append(article_doc)\n",
    "    return answers\n",
    "\n",
    "df['answer_from_gemini_rag_final'] = Generate_Response(df)\n"
   ]
  },
  {
   "cell_type": "code",
   "execution_count": null,
   "id": "51edd72a",
   "metadata": {},
   "outputs": [],
   "source": [
    "final_output_path = './data/data_processed/final_data_system_response.csv'\n",
    "df.to_csv(final_output_path, index=False)\n",
    "print(f\" Đã cập nhật và lưu toàn bộ vào: {final_output_path}\")"
   ]
  },
  {
   "cell_type": "markdown",
   "id": "76c857fd",
   "metadata": {},
   "source": [
    "> Configure"
   ]
  },
  {
   "cell_type": "code",
   "execution_count": null,
   "id": "bd43c04c",
   "metadata": {},
   "outputs": [],
   "source": [
    "setting=Settings()"
   ]
  },
  {
   "cell_type": "markdown",
   "id": "1e99561e",
   "metadata": {},
   "source": [
    "> Get embedding gemini "
   ]
  },
  {
   "cell_type": "code",
   "execution_count": null,
   "id": "e4a4e5f1",
   "metadata": {},
   "outputs": [],
   "source": [
    "import google.generativeai as genai\n",
    "\n",
    "genai.configure(api_key=gemini.key_manager.get_next_key())\n",
    "\n",
    "def get_gemini_embedding(texts):\n",
    "    try :\n",
    "        result = genai.embed_content(\n",
    "            model=\"models/text-embedding-004\",\n",
    "            content=texts,\n",
    "            task_type=\"SEMANTIC_SIMILARITY\"\n",
    "        )\n",
    "        \n",
    "        return result['embedding']\n",
    "    except Exception as e:\n",
    "        print(\"Đã xảy ra lỗi:\", e)\n",
    "        return [0.0] * 768"
   ]
  },
  {
   "cell_type": "markdown",
   "id": "99fd6dbd",
   "metadata": {},
   "source": [
    "> get embedding cohere "
   ]
  },
  {
   "cell_type": "code",
   "execution_count": null,
   "id": "06167d57",
   "metadata": {},
   "outputs": [],
   "source": [
    "# import cohere\n",
    "\n",
    "# def get_cohere_embedding(text: str, model_name: str = \"embed-multilingual-v3.0\") -> list:\n",
    "#     try:\n",
    "#         co = cohere.ClientV2(api_key=cohere_api.key_manager.get_next_key())\n",
    "#         res = co.embed(\n",
    "#             texts=[text],\n",
    "#             model=model_name,\n",
    "#             input_type=\"classification\",\n",
    "#             embedding_types=[\"float\"],\n",
    "#         )a\n",
    "\n",
    "#         # Trả về nhúng đầu tiên\n",
    "#         return res.embeddings.float[0]\n",
    "#     except Exception as e:\n",
    "#         print(\"Đã xảy ra lỗi:\", e)\n",
    "#         return [0.0] * 1024  # Trả về danh sách 1024 số 0 nếu có lỗi\n"
   ]
  },
  {
   "cell_type": "markdown",
   "id": "9a6189d6",
   "metadata": {},
   "source": [
    ">Get  rouge-L & F1 Score"
   ]
  },
  {
   "cell_type": "code",
   "execution_count": null,
   "id": "251b6402",
   "metadata": {},
   "outputs": [],
   "source": [
    "scorer = rouge_scorer.RougeScorer(['rougeL'], use_stemmer=True)\n",
    "\n",
    "def compute_rouge_l(pred: str, ref: str) -> float:\n",
    "    try:\n",
    "        score = scorer.score(ref, pred)\n",
    "        return score['rougeL'].fmeasure\n",
    "    except:\n",
    "        return 0.0\n",
    "\n",
    "def compute_f1(pred: str, ref: str) -> float:\n",
    "    pred_tokens = pred.lower().split()\n",
    "    ref_tokens = ref.lower().split()\n",
    "    common = set(pred_tokens) & set(ref_tokens)\n",
    "    if not pred_tokens or not ref_tokens:\n",
    "        return 0.0\n",
    "    precision = len(common) / len(pred_tokens)\n",
    "    recall = len(common) / len(ref_tokens)\n",
    "    if precision + recall == 0:\n",
    "        return 0.0\n",
    "    return 2 * precision * recall / (precision + recall)"
   ]
  },
  {
   "cell_type": "code",
   "execution_count": null,
   "id": "2863838d",
   "metadata": {},
   "outputs": [],
   "source": [
    "df = pd.read_csv('./data/data_processed/final_data_system_response.csv')\n",
    "df = df.dropna(subset=['answer', 'answer_from_gemini_rag_final'])\n",
    "\n",
    "print(df.shape)"
   ]
  },
  {
   "cell_type": "code",
   "execution_count": null,
   "id": "32d8488d",
   "metadata": {},
   "outputs": [],
   "source": [
    "\n",
    "pattern = r'Xin\\s+lỗi\\s+bạn'  # regex cho “Xin lỗi bạn” (có thể có nhiều khoảng trắng)\n",
    "\n",
    "# Chỉ giữ lại những dòng không khớp pattern\n",
    "df = df[~df['answer_from_gemini_rag_basic'].str.contains(pattern, regex=True, na=False)]"
   ]
  },
  {
   "cell_type": "code",
   "execution_count": null,
   "id": "fa0009fc",
   "metadata": {},
   "outputs": [],
   "source": [
    "# # df['answer_embedding_cohere'] = df['answer'].apply(get_cohere_embedding)\n",
    "# df['answer_from_gemini_embedding_cohere'] = df['answer_from_gemini'].apply(get_cohere_embedding)\n",
    "\n",
    "\n",
    "df['answer_embedding'] = df['answer'].apply(get_gemini_embedding)\n",
    "df['answer_from_gemini_rag_final_embedding'] = df['answer_from_gemini_rag_final'].apply(get_gemini_embedding)\n",
    "\n",
    "df['cosine_similarity_gemini_rag_final'] = df.apply(\n",
    "    lambda row: cosine_similarity(\n",
    "        [row['answer_embedding']], \n",
    "        [row['answer_from_gemini_rag_final_embedding']]\n",
    "    )[0][0],\n",
    "    axis=1\n",
    ")\n",
    "\n",
    "# df['cosine_similarity_cohere'] = df.apply(\n",
    "#     lambda row: cosine_similarity(\n",
    "#         [row['answer_embedding_cohere']], \n",
    "#         [row['answer_from_gemini_embedding_cohere']]\n",
    "#     )[0][0],\n",
    "#     axis=1\n",
    "# )"
   ]
  },
  {
   "cell_type": "code",
   "execution_count": null,
   "id": "a6c5bc72",
   "metadata": {},
   "outputs": [],
   "source": [
    "df['rouge_l'] = df.apply(lambda row: compute_rouge_l(row['answer_from_gemini_rag_final'], row['answer']), axis=1)\n",
    "df['f1'] = df.apply(lambda row: compute_f1(row['answer_from_gemini_rag_final'], row['answer']), axis=1)\n"
   ]
  },
  {
   "cell_type": "code",
   "execution_count": null,
   "id": "b95c6f2a",
   "metadata": {},
   "outputs": [],
   "source": [
    "print(f\" Trung bình Cosine (Gemini): {df['cosine_similarity_gemini_rag_final'].mean():.4f}\")\n",
    "print(f\" Trung bình ROUGE-L: {df['rouge_l'].mean():.4f}\")\n",
    "print(f\" Trung bình F1 Score: {df['f1'].mean():.4f}\") "
   ]
  }
 ],
 "metadata": {
  "kernelspec": {
   "display_name": "TLCN-KU7o-pax",
   "language": "python",
   "name": "python3"
  },
  "language_info": {
   "codemirror_mode": {
    "name": "ipython",
    "version": 3
   },
   "file_extension": ".py",
   "mimetype": "text/x-python",
   "name": "python",
   "nbconvert_exporter": "python",
   "pygments_lexer": "ipython3",
   "version": "3.11.5"
  }
 },
 "nbformat": 4,
 "nbformat_minor": 5
}
