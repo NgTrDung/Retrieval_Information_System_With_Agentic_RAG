{
 "cells": [
  {
   "cell_type": "code",
   "execution_count": 1,
   "id": "257c16cd",
   "metadata": {},
   "outputs": [
    {
     "name": "stdout",
     "output_type": "stream",
     "text": [
      "hghaan/rerank_model\n"
     ]
    }
   ],
   "source": [
    "import sys\n",
    "project_path = r\"D:/DaiHoc/machinelearning/TLCN/DoAnTotNghiep_chat_bot/\"\n",
    "sys.path.append(project_path)\n",
    "from source.function.utils_result import RAG\n",
    "from source.search.utils_search import Qdrant_Utils\n",
    "from source.rerank.utils_rerank import Rerank_Utils  \n",
    "from source.model.embedding_model import Sentences_Transformer_Embedding\n",
    "from source.model.extract_model import Bert_Extract\n",
    "from source.model.generate_model import Gemini\n",
    "from source.model.rerank_model import Cohere\n",
    "from source.data.vectordb.qdrant import Qdrant_Vector\n",
    "from source.core.config import Settings\n",
    "from source.model.rerank_model_finetune import RerankModelFinetune\n",
    "from source.generate.generate import Gemini_Generate\n",
    "from source.extract.utils_extract import Extract_Information\n",
    "from rouge_score import rouge_scorer\n",
    "from sklearn.metrics import f1_score\n",
    "import cohere\n",
    "import numpy as np\n",
    "import pandas as pd\n",
    "from tqdm import tqdm\n",
    "setting=Settings()\n",
    "gemini=Gemini(setting)\n",
    "print(setting.RERANK)\n",
    "cohere_api=Cohere(setting)\n",
    "bert=Bert_Extract(setting)\n",
    "rerank_model_fintuned=RerankModelFinetune(setting)\n",
    "sentences_transformer_embedding=Sentences_Transformer_Embedding(setting)\n",
    "qdrant=Qdrant_Vector(setting,sentences_transformer_embedding)\n",
    "rerank_Utils=Rerank_Utils(cohere_api,rerank_model_fintuned)\n",
    "extract_Utils= Extract_Information(bert)\n",
    "generate_Utils=Gemini_Generate(gemini,setting)\n",
    "qdrant_Utils=Qdrant_Utils(qdrant, generate_Utils)\n",
    "rag=RAG(generate_Utils,extract_Utils,qdrant_Utils,rerank_Utils,setting,sentences_transformer_embedding)\n",
    "import pandas as pd\n",
    "from tqdm import tqdm\n",
    "import google.generativeai as genai \n",
    "from sklearn.metrics.pairwise import cosine_similarity\n",
    "import os"
   ]
  },
  {
   "cell_type": "markdown",
   "id": "9280d5d7",
   "metadata": {},
   "source": [
    "## 1.Eval Gemini model"
   ]
  },
  {
   "cell_type": "code",
   "execution_count": 2,
   "id": "f7218d94",
   "metadata": {},
   "outputs": [],
   "source": [
    "# Đọc file CSV chứa câu hỏi và câu trả lời đã có (nếu có)\n",
    "df = pd.read_csv('./data/data_processed/final_data_system_response.csv')"
   ]
  },
  {
   "cell_type": "code",
   "execution_count": 3,
   "id": "4031e8d8",
   "metadata": {},
   "outputs": [],
   "source": [
    "\n",
    "pattern = r'Xin\\s+lỗi\\s+bạn'  # regex cho “Xin lỗi bạn” (có thể có nhiều khoảng trắng)\n",
    "\n",
    "# Chỉ giữ lại những dòng không khớp pattern\n",
    "df = df[~df['answer_from_gemini_rag_basic'].str.contains(pattern, regex=True, na=False)]"
   ]
  },
  {
   "cell_type": "code",
   "execution_count": 4,
   "id": "6f6ccc65",
   "metadata": {},
   "outputs": [],
   "source": [
    "df = df.reset_index(drop=True)\n"
   ]
  },
  {
   "cell_type": "code",
   "execution_count": null,
   "id": "2abb9a20",
   "metadata": {},
   "outputs": [
    {
     "name": "stderr",
     "output_type": "stream",
     "text": [
      "Sinh trả lời:  12%|█▏        | 65/564 [16:20<1:56:48, 14.05s/it]"
     ]
    },
    {
     "name": "stdout",
     "output_type": "stream",
     "text": [
      "DEBUG - raw_text:\n",
      " {\n",
      "  \\\"answer\\\": \\\"Hành vi của anh M đối với chị D có thể bị xử lý theo pháp luật về phòng, chống bạo lực gia đình và các quy định khác liên quan.\\n\\n*   Hành vi mắng chửi, đánh đập chị D của anh M là hành vi bạo lực gia đình và có thể bị xử phạt hành chính. Cụ thể, việc sử dụng lời lẽ lăng mạ, xúc phạm danh dự, nhân phẩm của vợ có thể bị phạt cảnh cáo hoặc phạt tiền.\\n*   Nếu hành vi của anh M gây ra thương tích hoặc tổn hại đến sức khỏe của chị D, anh M có thể bị truy cứu trách nhiệm hình sự.\\n*   Ngoài ra, chị D có quyền yêu cầu Tòa án hoặc cơ quan có thẩm quyền áp dụng các biện pháp ngăn chặn và xử lý hành vi bạo lực của anh M.\\n\\nNhư vậy, hành vi của anh M có thể bị xử phạt hành chính hoặc truy cứu trách nhiệm hình sự tùy thuộc vào mức độ nghiêm trọng của hành vi và hậu quả gây ra.\\\",\n",
      "  \\\"key\\\": [\n",
      "    \\\"0\\\",\n",
      "    \\\"4\\\",\n",
      "    \\\"3\\\",\n",
      "    \\\"1\\\",\n",
      "    \\\"2\\\"\n",
      "  ]\n",
      "}\n",
      "\n",
      "❌ Lỗi tại index 64 (DataFrame index = 64):\n",
      "Câu 2. Anh M và chị D lấy nhau đã được gần 10 năm. Thời gian gần đây, anh M trở nên trái tính trái nết, hay uống rượu và mỗi khi có rượu vào là anh M lại mắng chửi chị D. Anh chửi mà chị D im lặng thì anh cho là chị D xem thường mình nên lao vào đánh túi bụi, còn chị D mà nói thì anh cho là hỗn láo phải “dạy” cho bài học. Hành vi của anh M sẽ bị pháp luật xử lý như thế nào?\n"
     ]
    },
    {
     "name": "stderr",
     "output_type": "stream",
     "text": [
      "Sinh trả lời:  14%|█▍        | 81/564 [20:48<2:09:40, 16.11s/it]"
     ]
    },
    {
     "name": "stdout",
     "output_type": "stream",
     "text": [
      "DEBUG - raw_text:\n",
      " {\n",
      "  \"answer\": \"Chào bạn, dựa trên thông tin bạn cung cấp, đây là các bước bạn nên thực hiện khi phát hiện trẻ bị bỏ rơi:\\n\\n*   **Thông báo và lập biên bản:** Gia đình bạn cần thông báo cho Ủy ban nhân dân cấp xã nơi chị bạn phát hiện ra cháu bé. Ủy ban nhân dân cấp xã sẽ có trách nhiệm lập biên bản về việc trẻ bị bỏ rơi. Biên bản này cần có chữ ký của người lập (đại diện Ủy ban nhân dân cấp xã), người phát hiện trẻ (chị gái bạn), và người làm chứng (nếu có). Biên bản này sẽ được lưu giữ tại Ủy ban nhân dân cấp xã và một bản giao cho gia đình bạn để tạm thời nuôi dưỡng cháu bé.\\n*   **Niêm yết thông tin:** Sau khi lập biên bản, Ủy ban nhân dân cấp xã sẽ niêm yết thông tin về việc trẻ bị bỏ rơi tại trụ sở trong vòng 7 ngày liên tục.\\n*   **Đăng ký khai sinh:** Nếu hết thời hạn niêm yết mà không có thông tin về cha mẹ đẻ của trẻ, Ủy ban nhân dân cấp xã sẽ thông báo cho gia đình bạn để tiến hành đăng ký khai sinh cho trẻ.\\n\\n**Về việc đăng ký khai sinh:**\\n\\n*   Gia đình bạn có trách nhiệm khai sinh cho trẻ. Khi đi đăng ký khai sinh, bạn cần nộp tờ khai theo mẫu quy định và biên bản xác nhận việc trẻ bị bỏ rơi do cơ quan có thẩm quyền lập (tức là Ủy ban nhân dân cấp xã).\\n*   Nếu không có cơ sở để xác định ngày, tháng, năm sinh và nơi sinh của trẻ thì lấy ngày, tháng phát hiện trẻ bị bỏ rơi là ngày, tháng sinh; căn cứ thể trạng của trẻ để xác định năm sinh; nơi sinh là nơi phát hiện trẻ bị bỏ rơi; quê quán được xác định theo nơi sinh; quốc tịch của trẻ là quốc tịch Việt Nam. Phần khai về cha, mẹ và dân tộc của trẻ trong Giấy khai sinh và Sổ hộ tịch để trống; trong Sổ hộ tịch ghi rõ “Trẻ bị bỏ rơi”.\\n\\nVậy, gia đình bạn cần thông báo sự việc này với Ủy ban nhân dân cấp xã nơi phát hiện cháu bé và sau đó thực hiện thủ tục đăng ký khai sinh cho cháu bé theo hướng dẫn của cơ quan này.\",\n",
      "  \"key\": [\n",
      "    2,\n",
      "    1,\n",
      "    0\n",
      "  ]\n",
      "}\n",
      "\n",
      "❌ Lỗi tại index 80 (DataFrame index = 80):\n",
      "Câu 8. Chị gái tôi trên đường đi chợ về thì phát hiện một cháu bé mới sinh nằm trong thùng carton ở bên đường và dòng chữ “Mong anh chị nuôi giúp cháu bé”. Thấy đứa trẻ kháu khỉnh, dễ thương, chị tôi đã mang về nhà chăm sóc chu đáo nhưng chưa biết phải làm gì với đứa trẻ đó. Vậy cho tôi hỏi, trong trường hợp này, gia đình tôi phải thông báo với cơ quan nào? Chúng tôi có phải đi đăng ký khai sinh cho đứa trẻ đó không?\n"
     ]
    },
    {
     "name": "stderr",
     "output_type": "stream",
     "text": [
      "Sinh trả lời:  40%|███▉      | 225/564 [58:47<1:25:21, 15.11s/it]"
     ]
    },
    {
     "name": "stdout",
     "output_type": "stream",
     "text": [
      "\n",
      "❌ Lỗi tại index 224 (DataFrame index = 224):\n",
      "Nêu trách nhiệm của NLĐ trong vấn đề tự tạo việc làm cho chính bản thân mình.\n"
     ]
    },
    {
     "name": "stderr",
     "output_type": "stream",
     "text": [
      "Sinh trả lời:  54%|█████▎    | 302/564 [1:20:41<1:10:56, 16.25s/it]"
     ]
    },
    {
     "name": "stdout",
     "output_type": "stream",
     "text": [
      "\n",
      "❌ Lỗi tại index 301 (DataFrame index = 301):\n",
      "Chấp hành quy định về tốc độ và khoảng cách giữa các xe được\n"
     ]
    },
    {
     "name": "stderr",
     "output_type": "stream",
     "text": [
      "Sinh trả lời:  56%|█████▌    | 317/564 [1:24:33<1:03:27, 15.42s/it]"
     ]
    },
    {
     "name": "stdout",
     "output_type": "stream",
     "text": [
      "DEBUG - raw_text:\n",
      " {\n",
      "  \"answer\": \"Biển số xe ở Việt Nam được phân loại dựa trên màu nền, màu chữ và số, cũng như ký hiệu đặc biệt để phân biệt các đối tượng sử dụng khác nhau.\\n\\nCác loại biển số xe được phân loại như sau:\\n\\n*   Biển số xe nền màu xanh, chữ và số màu trắng: Cấp cho xe của cơ quan Đảng, Nhà nước, tổ chức chính trị - xã hội, đơn vị sự nghiệp công lập.\\n*   Biển số xe nền màu đỏ, chữ và số màu trắng: Cấp cho xe quân sự.\\n*   Biển số xe nền màu vàng, chữ và số màu đen: Cấp cho xe hoạt động kinh doanh vận tải.\\n*   Biển số xe nền màu trắng, chữ và số màu đen: Cấp cho xe của các tổ chức, cá nhân trong nước, không thuộc các đối tượng trên.\\n*   Biển số xe nền màu trắng, chữ màu đỏ, số màu đen, có ký hiệu “NG”: Cấp cho xe của cơ quan đại diện ngoại giao, cơ quan lãnh sự và nhân viên nước ngoài mang chứng minh thư ngoại giao của cơ quan đó.\\n*   Biển số xe nền màu trắng, chữ màu đỏ, số màu đen, có ký hiệu “QT”: Cấp cho xe của cơ quan đại diện của tổ chức quốc tế và nhân viên nước ngoài mang chứng minh thư ngoại giao của tổ chức đó.\\n*   Biển số xe nền màu trắng, chữ và số màu đen, có ký hiệu “CV”: Cấp cho xe của các nhân viên hành chính kỹ thuật mang chứng minh thư công vụ của các cơ quan đại diện ngoại giao, cơ quan lãnh sự, tổ chức quốc tế.\\n*   Biển số xe nền màu trắng, chữ và số màu đen, có ký hiệu “NN”: Cấp cho xe của tổ chức, văn phòng đại diện, cá nhân nước ngoài, trừ đối tượng được cấp biển số “CV”.\\n*   Biển số xe loại khác: Theo quy định của Bộ trưởng Bộ Công an.\\n\\nNhư vậy, biển số xe được phân loại dựa trên đối tượng sử dụng và được thể hiện qua màu sắc, chữ số và ký hiệu đặc biệt.\",\n",
      "  \"key\": [\n",
      "    \"0\"\n",
      "  ]\n",
      "}\n",
      "\n",
      "❌ Lỗi tại index 316 (DataFrame index = 316):\n",
      "Theo quy định biển số xe được phân loại như thế nào?\n"
     ]
    },
    {
     "name": "stderr",
     "output_type": "stream",
     "text": [
      "Sinh trả lời: 100%|██████████| 564/564 [2:36:21<00:00, 16.63s/it]  \n"
     ]
    },
    {
     "ename": "ValueError",
     "evalue": "Length of values (559) does not match length of index (564)",
     "output_type": "error",
     "traceback": [
      "\u001b[31m---------------------------------------------------------------------------\u001b[39m",
      "\u001b[31mValueError\u001b[39m                                Traceback (most recent call last)",
      "\u001b[36mCell\u001b[39m\u001b[36m \u001b[39m\u001b[32mIn[5]\u001b[39m\u001b[32m, line 12\u001b[39m\n\u001b[32m      8\u001b[39m             \u001b[38;5;28mprint\u001b[39m(\u001b[33mf\u001b[39m\u001b[33m\"\u001b[39m\u001b[38;5;130;01m\\n\u001b[39;00m\u001b[33m❌ Lỗi tại index \u001b[39m\u001b[38;5;132;01m{\u001b[39;00midx\u001b[38;5;132;01m}\u001b[39;00m\u001b[33m (DataFrame index = \u001b[39m\u001b[38;5;132;01m{\u001b[39;00mdf_batch.index[idx]\u001b[38;5;132;01m}\u001b[39;00m\u001b[33m):\u001b[39m\u001b[38;5;130;01m\\n\u001b[39;00m\u001b[38;5;132;01m{\u001b[39;00mquestion\u001b[38;5;132;01m}\u001b[39;00m\u001b[33m\"\u001b[39m)\n\u001b[32m      9\u001b[39m     \u001b[38;5;28;01mreturn\u001b[39;00m answers\n\u001b[32m---> \u001b[39m\u001b[32m12\u001b[39m \u001b[43mdf\u001b[49m\u001b[43m[\u001b[49m\u001b[33;43m'\u001b[39;49m\u001b[33;43manswer_from_gemini_rag_final\u001b[39;49m\u001b[33;43m'\u001b[39;49m\u001b[43m]\u001b[49m = Generate_Response(df)\n",
      "\u001b[36mFile \u001b[39m\u001b[32mc:\\Users\\hdang\\.virtualenvs\\TLCN-KU7o-pax\\Lib\\site-packages\\pandas\\core\\frame.py:4311\u001b[39m, in \u001b[36mDataFrame.__setitem__\u001b[39m\u001b[34m(self, key, value)\u001b[39m\n\u001b[32m   4308\u001b[39m     \u001b[38;5;28mself\u001b[39m._setitem_array([key], value)\n\u001b[32m   4309\u001b[39m \u001b[38;5;28;01melse\u001b[39;00m:\n\u001b[32m   4310\u001b[39m     \u001b[38;5;66;03m# set column\u001b[39;00m\n\u001b[32m-> \u001b[39m\u001b[32m4311\u001b[39m     \u001b[38;5;28;43mself\u001b[39;49m\u001b[43m.\u001b[49m\u001b[43m_set_item\u001b[49m\u001b[43m(\u001b[49m\u001b[43mkey\u001b[49m\u001b[43m,\u001b[49m\u001b[43m \u001b[49m\u001b[43mvalue\u001b[49m\u001b[43m)\u001b[49m\n",
      "\u001b[36mFile \u001b[39m\u001b[32mc:\\Users\\hdang\\.virtualenvs\\TLCN-KU7o-pax\\Lib\\site-packages\\pandas\\core\\frame.py:4524\u001b[39m, in \u001b[36mDataFrame._set_item\u001b[39m\u001b[34m(self, key, value)\u001b[39m\n\u001b[32m   4514\u001b[39m \u001b[38;5;28;01mdef\u001b[39;00m\u001b[38;5;250m \u001b[39m\u001b[34m_set_item\u001b[39m(\u001b[38;5;28mself\u001b[39m, key, value) -> \u001b[38;5;28;01mNone\u001b[39;00m:\n\u001b[32m   4515\u001b[39m \u001b[38;5;250m    \u001b[39m\u001b[33;03m\"\"\"\u001b[39;00m\n\u001b[32m   4516\u001b[39m \u001b[33;03m    Add series to DataFrame in specified column.\u001b[39;00m\n\u001b[32m   4517\u001b[39m \n\u001b[32m   (...)\u001b[39m\u001b[32m   4522\u001b[39m \u001b[33;03m    ensure homogeneity.\u001b[39;00m\n\u001b[32m   4523\u001b[39m \u001b[33;03m    \"\"\"\u001b[39;00m\n\u001b[32m-> \u001b[39m\u001b[32m4524\u001b[39m     value, refs = \u001b[38;5;28;43mself\u001b[39;49m\u001b[43m.\u001b[49m\u001b[43m_sanitize_column\u001b[49m\u001b[43m(\u001b[49m\u001b[43mvalue\u001b[49m\u001b[43m)\u001b[49m\n\u001b[32m   4526\u001b[39m     \u001b[38;5;28;01mif\u001b[39;00m (\n\u001b[32m   4527\u001b[39m         key \u001b[38;5;129;01min\u001b[39;00m \u001b[38;5;28mself\u001b[39m.columns\n\u001b[32m   4528\u001b[39m         \u001b[38;5;129;01mand\u001b[39;00m value.ndim == \u001b[32m1\u001b[39m\n\u001b[32m   4529\u001b[39m         \u001b[38;5;129;01mand\u001b[39;00m \u001b[38;5;129;01mnot\u001b[39;00m \u001b[38;5;28misinstance\u001b[39m(value.dtype, ExtensionDtype)\n\u001b[32m   4530\u001b[39m     ):\n\u001b[32m   4531\u001b[39m         \u001b[38;5;66;03m# broadcast across multiple columns if necessary\u001b[39;00m\n\u001b[32m   4532\u001b[39m         \u001b[38;5;28;01mif\u001b[39;00m \u001b[38;5;129;01mnot\u001b[39;00m \u001b[38;5;28mself\u001b[39m.columns.is_unique \u001b[38;5;129;01mor\u001b[39;00m \u001b[38;5;28misinstance\u001b[39m(\u001b[38;5;28mself\u001b[39m.columns, MultiIndex):\n",
      "\u001b[36mFile \u001b[39m\u001b[32mc:\\Users\\hdang\\.virtualenvs\\TLCN-KU7o-pax\\Lib\\site-packages\\pandas\\core\\frame.py:5266\u001b[39m, in \u001b[36mDataFrame._sanitize_column\u001b[39m\u001b[34m(self, value)\u001b[39m\n\u001b[32m   5263\u001b[39m     \u001b[38;5;28;01mreturn\u001b[39;00m _reindex_for_setitem(value, \u001b[38;5;28mself\u001b[39m.index)\n\u001b[32m   5265\u001b[39m \u001b[38;5;28;01mif\u001b[39;00m is_list_like(value):\n\u001b[32m-> \u001b[39m\u001b[32m5266\u001b[39m     \u001b[43mcom\u001b[49m\u001b[43m.\u001b[49m\u001b[43mrequire_length_match\u001b[49m\u001b[43m(\u001b[49m\u001b[43mvalue\u001b[49m\u001b[43m,\u001b[49m\u001b[43m \u001b[49m\u001b[38;5;28;43mself\u001b[39;49m\u001b[43m.\u001b[49m\u001b[43mindex\u001b[49m\u001b[43m)\u001b[49m\n\u001b[32m   5267\u001b[39m arr = sanitize_array(value, \u001b[38;5;28mself\u001b[39m.index, copy=\u001b[38;5;28;01mTrue\u001b[39;00m, allow_2d=\u001b[38;5;28;01mTrue\u001b[39;00m)\n\u001b[32m   5268\u001b[39m \u001b[38;5;28;01mif\u001b[39;00m (\n\u001b[32m   5269\u001b[39m     \u001b[38;5;28misinstance\u001b[39m(value, Index)\n\u001b[32m   5270\u001b[39m     \u001b[38;5;129;01mand\u001b[39;00m value.dtype == \u001b[33m\"\u001b[39m\u001b[33mobject\u001b[39m\u001b[33m\"\u001b[39m\n\u001b[32m   (...)\u001b[39m\u001b[32m   5273\u001b[39m     \u001b[38;5;66;03m# TODO: Remove kludge in sanitize_array for string mode when enforcing\u001b[39;00m\n\u001b[32m   5274\u001b[39m     \u001b[38;5;66;03m# this deprecation\u001b[39;00m\n",
      "\u001b[36mFile \u001b[39m\u001b[32mc:\\Users\\hdang\\.virtualenvs\\TLCN-KU7o-pax\\Lib\\site-packages\\pandas\\core\\common.py:573\u001b[39m, in \u001b[36mrequire_length_match\u001b[39m\u001b[34m(data, index)\u001b[39m\n\u001b[32m    569\u001b[39m \u001b[38;5;250m\u001b[39m\u001b[33;03m\"\"\"\u001b[39;00m\n\u001b[32m    570\u001b[39m \u001b[33;03mCheck the length of data matches the length of the index.\u001b[39;00m\n\u001b[32m    571\u001b[39m \u001b[33;03m\"\"\"\u001b[39;00m\n\u001b[32m    572\u001b[39m \u001b[38;5;28;01mif\u001b[39;00m \u001b[38;5;28mlen\u001b[39m(data) != \u001b[38;5;28mlen\u001b[39m(index):\n\u001b[32m--> \u001b[39m\u001b[32m573\u001b[39m     \u001b[38;5;28;01mraise\u001b[39;00m \u001b[38;5;167;01mValueError\u001b[39;00m(\n\u001b[32m    574\u001b[39m         \u001b[33m\"\u001b[39m\u001b[33mLength of values \u001b[39m\u001b[33m\"\u001b[39m\n\u001b[32m    575\u001b[39m         \u001b[33mf\u001b[39m\u001b[33m\"\u001b[39m\u001b[33m(\u001b[39m\u001b[38;5;132;01m{\u001b[39;00m\u001b[38;5;28mlen\u001b[39m(data)\u001b[38;5;132;01m}\u001b[39;00m\u001b[33m) \u001b[39m\u001b[33m\"\u001b[39m\n\u001b[32m    576\u001b[39m         \u001b[33m\"\u001b[39m\u001b[33mdoes not match length of index \u001b[39m\u001b[33m\"\u001b[39m\n\u001b[32m    577\u001b[39m         \u001b[33mf\u001b[39m\u001b[33m\"\u001b[39m\u001b[33m(\u001b[39m\u001b[38;5;132;01m{\u001b[39;00m\u001b[38;5;28mlen\u001b[39m(index)\u001b[38;5;132;01m}\u001b[39;00m\u001b[33m)\u001b[39m\u001b[33m\"\u001b[39m\n\u001b[32m    578\u001b[39m     )\n",
      "\u001b[31mValueError\u001b[39m: Length of values (559) does not match length of index (564)"
     ]
    }
   ],
   "source": [
    "def Generate_Response(df_batch):\n",
    "    answers = []\n",
    "    for idx, question in tqdm(list(enumerate(df_batch['question'])), desc=\"Sinh trả lời\"):\n",
    "        try:\n",
    "            article_doc = rag.get_gemini_response_rag_final(question)\n",
    "            answers.append(article_doc)\n",
    "        except Exception as e:\n",
    "            print(f\"\\n❌ Lỗi tại index {idx} (DataFrame index = {df_batch.index[idx]}):\\n{question}\")\n",
    "            answers.append(\"\")\n",
    "    return answers\n",
    "\n",
    "\n",
    "df['answer_from_gemini_rag_final'] = Generate_Response(df)\n"
   ]
  },
  {
   "cell_type": "code",
   "execution_count": null,
   "id": "51edd72a",
   "metadata": {},
   "outputs": [],
   "source": [
    "final_output_path = './data/data_processed/final_data_system_response.csv'\n",
    "df.to_csv(final_output_path, index=False)\n",
    "print(f\" Đã cập nhật và lưu toàn bộ vào: {final_output_path}\")"
   ]
  },
  {
   "cell_type": "markdown",
   "id": "76c857fd",
   "metadata": {},
   "source": [
    "> Configure"
   ]
  },
  {
   "cell_type": "code",
   "execution_count": null,
   "id": "bd43c04c",
   "metadata": {},
   "outputs": [],
   "source": [
    "setting=Settings()"
   ]
  },
  {
   "cell_type": "markdown",
   "id": "1e99561e",
   "metadata": {},
   "source": [
    "> Get embedding gemini "
   ]
  },
  {
   "cell_type": "code",
   "execution_count": null,
   "id": "e4a4e5f1",
   "metadata": {},
   "outputs": [],
   "source": [
    "import google.generativeai as genai\n",
    "\n",
    "genai.configure(api_key=gemini.key_manager.get_next_key())\n",
    "\n",
    "def get_gemini_embedding(texts):\n",
    "    try :\n",
    "        result = genai.embed_content(\n",
    "            model=\"models/text-embedding-004\",\n",
    "            content=texts,\n",
    "            task_type=\"SEMANTIC_SIMILARITY\"\n",
    "        )\n",
    "        \n",
    "        return result['embedding']\n",
    "    except Exception as e:\n",
    "        print(\"Đã xảy ra lỗi:\", e)\n",
    "        return [0.0] * 768"
   ]
  },
  {
   "cell_type": "markdown",
   "id": "99fd6dbd",
   "metadata": {},
   "source": [
    "> get embedding cohere "
   ]
  },
  {
   "cell_type": "code",
   "execution_count": null,
   "id": "06167d57",
   "metadata": {},
   "outputs": [],
   "source": [
    "# import cohere\n",
    "\n",
    "# def get_cohere_embedding(text: str, model_name: str = \"embed-multilingual-v3.0\") -> list:\n",
    "#     try:\n",
    "#         co = cohere.ClientV2(api_key=cohere_api.key_manager.get_next_key())\n",
    "#         res = co.embed(\n",
    "#             texts=[text],\n",
    "#             model=model_name,\n",
    "#             input_type=\"classification\",\n",
    "#             embedding_types=[\"float\"],\n",
    "#         )a\n",
    "\n",
    "#         # Trả về nhúng đầu tiên\n",
    "#         return res.embeddings.float[0]\n",
    "#     except Exception as e:\n",
    "#         print(\"Đã xảy ra lỗi:\", e)\n",
    "#         return [0.0] * 1024  # Trả về danh sách 1024 số 0 nếu có lỗi\n"
   ]
  },
  {
   "cell_type": "markdown",
   "id": "9a6189d6",
   "metadata": {},
   "source": [
    ">Get  rouge-L & F1 Score"
   ]
  },
  {
   "cell_type": "code",
   "execution_count": null,
   "id": "251b6402",
   "metadata": {},
   "outputs": [],
   "source": [
    "scorer = rouge_scorer.RougeScorer(['rougeL'], use_stemmer=True)\n",
    "\n",
    "def compute_rouge_l(pred: str, ref: str) -> float:\n",
    "    try:\n",
    "        score = scorer.score(ref, pred)\n",
    "        return score['rougeL'].fmeasure\n",
    "    except:\n",
    "        return 0.0\n",
    "\n",
    "def compute_f1(pred: str, ref: str) -> float:\n",
    "    pred_tokens = pred.lower().split()\n",
    "    ref_tokens = ref.lower().split()\n",
    "    common = set(pred_tokens) & set(ref_tokens)\n",
    "    if not pred_tokens or not ref_tokens:\n",
    "        return 0.0\n",
    "    precision = len(common) / len(pred_tokens)\n",
    "    recall = len(common) / len(ref_tokens)\n",
    "    if precision + recall == 0:\n",
    "        return 0.0\n",
    "    return 2 * precision * recall / (precision + recall)"
   ]
  },
  {
   "cell_type": "code",
   "execution_count": null,
   "id": "2863838d",
   "metadata": {},
   "outputs": [],
   "source": [
    "df = pd.read_csv('./data/data_processed/final_data_system_response.csv')\n",
    "df = df.dropna(subset=['answer', 'answer_from_gemini_rag_final'])\n",
    "\n",
    "print(df.shape)"
   ]
  },
  {
   "cell_type": "code",
   "execution_count": null,
   "id": "fa0009fc",
   "metadata": {},
   "outputs": [],
   "source": [
    "# # df['answer_embedding_cohere'] = df['answer'].apply(get_cohere_embedding)\n",
    "# df['answer_from_gemini_embedding_cohere'] = df['answer_from_gemini'].apply(get_cohere_embedding)\n",
    "\n",
    "\n",
    "df['answer_embedding'] = df['answer'].apply(get_gemini_embedding)\n",
    "df['answer_from_gemini_rag_final_embedding'] = df['answer_from_gemini_rag_final'].apply(get_gemini_embedding)\n",
    "\n",
    "df['cosine_similarity_gemini_rag_final'] = df.apply(\n",
    "    lambda row: cosine_similarity(\n",
    "        [row['answer_embedding']], \n",
    "        [row['answer_from_gemini_rag_final_embedding']]\n",
    "    )[0][0],\n",
    "    axis=1\n",
    ")\n",
    "\n",
    "# df['cosine_similarity_cohere'] = df.apply(\n",
    "#     lambda row: cosine_similarity(\n",
    "#         [row['answer_embedding_cohere']], \n",
    "#         [row['answer_from_gemini_embedding_cohere']]\n",
    "#     )[0][0],\n",
    "#     axis=1\n",
    "# )"
   ]
  },
  {
   "cell_type": "code",
   "execution_count": null,
   "id": "a6c5bc72",
   "metadata": {},
   "outputs": [],
   "source": [
    "df['rouge_l'] = df.apply(lambda row: compute_rouge_l(row['answer_from_gemini_rag_final'], row['answer']), axis=1)\n",
    "df['f1'] = df.apply(lambda row: compute_f1(row['answer_from_gemini_rag_final'], row['answer']), axis=1)\n"
   ]
  },
  {
   "cell_type": "code",
   "execution_count": null,
   "id": "b95c6f2a",
   "metadata": {},
   "outputs": [],
   "source": [
    "print(f\" Trung bình Cosine (Gemini): {df['cosine_similarity_gemini_rag_final'].mean():.4f}\")\n",
    "print(f\" Trung bình ROUGE-L: {df['rouge_l'].mean():.4f}\")\n",
    "print(f\" Trung bình F1 Score: {df['f1'].mean():.4f}\") "
   ]
  }
 ],
 "metadata": {
  "kernelspec": {
   "display_name": "TLCN-KU7o-pax",
   "language": "python",
   "name": "python3"
  },
  "language_info": {
   "codemirror_mode": {
    "name": "ipython",
    "version": 3
   },
   "file_extension": ".py",
   "mimetype": "text/x-python",
   "name": "python",
   "nbconvert_exporter": "python",
   "pygments_lexer": "ipython3",
   "version": "3.11.5"
  }
 },
 "nbformat": 4,
 "nbformat_minor": 5
}
