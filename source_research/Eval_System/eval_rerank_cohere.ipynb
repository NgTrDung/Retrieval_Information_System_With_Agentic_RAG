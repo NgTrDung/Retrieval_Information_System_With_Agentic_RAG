{
 "cells": [
  {
   "cell_type": "code",
   "execution_count": 4,
   "id": "257c16cd",
   "metadata": {},
   "outputs": [
    {
     "name": "stdout",
     "output_type": "stream",
     "text": [
      "hghaan/rerank_model\n",
      "hghaan/rerank_model\n"
     ]
    }
   ],
   "source": [
    "import sys\n",
    "project_path = r\"D:/DaiHoc/machinelearning/TLCN/DoAnTotNghiep_chat_bot/\"\n",
    "sys.path.append(project_path)\n",
    "from source.function.utils_result import RAG\n",
    "from source.search.utils_search import Qdrant_Utils\n",
    "from source.rerank.utils_rerank import Rerank_Utils  \n",
    "from source.model.embedding_model import Sentences_Transformer_Embedding\n",
    "from source.model.extract_model import Bert_Extract\n",
    "from source.model.generate_model import Gemini\n",
    "from source.model.rerank_model import Cohere\n",
    "from source.data.vectordb.qdrant import Qdrant_Vector\n",
    "from source.core.config import Settings\n",
    "from source.generate.generate import Gemini_Generate\n",
    "from source.extract.utils_extract import Extract_Information\n",
    "from source.schema.chatbot_querry import ChatbotQuery\n",
    "setting=Settings()\n",
    "gemini=Gemini(setting)\n",
    "print(setting.RERANK)\n",
    "cohere=Cohere(setting)\n",
    "print(setting.RERANK)\n",
    "bert=Bert_Extract(setting)\n",
    "sentences_transformer_embedding=Sentences_Transformer_Embedding(setting)\n",
    "qdrant=Qdrant_Vector(setting,sentences_transformer_embedding)\n",
    "rerank_Utils=Rerank_Utils(cohere)\n",
    "extract_Utils= Extract_Information(bert)\n",
    "generate_Utils=Gemini_Generate(gemini,setting)\n",
    "qdrant_Utils=Qdrant_Utils(qdrant, generate_Utils)\n",
    "rag=RAG(generate_Utils,extract_Utils,qdrant_Utils,rerank_Utils,setting,sentences_transformer_embedding)\n",
    "import pandas as pd\n",
    "from tqdm import tqdm\n",
    "import google.generativeai as genai \n",
    "from sklearn.metrics.pairwise import cosine_similarity\n",
    "import os"
   ]
  },
  {
   "cell_type": "code",
   "execution_count": 5,
   "id": "0e6938cb",
   "metadata": {},
   "outputs": [
    {
     "name": "stdout",
     "output_type": "stream",
     "text": [
      "<source.model.rerank_model.Cohere object at 0x000001C3B5FC21D0>\n"
     ]
    }
   ],
   "source": [
    "print(rerank_Utils.model_rerank)"
   ]
  },
  {
   "cell_type": "markdown",
   "id": "3598fe2c",
   "metadata": {},
   "source": [
    "## 1.Call API System"
   ]
  },
  {
   "cell_type": "code",
   "execution_count": null,
   "id": "2abb9a20",
   "metadata": {},
   "outputs": [
    {
     "name": "stdout",
     "output_type": "stream",
     "text": [
      "==== Bắt đầu sinh trả lời cho các dòng bị thiếu ====\n"
     ]
    },
    {
     "name": "stderr",
     "output_type": "stream",
     "text": [
      "Sinh trả lời:   0%|          | 0/50 [00:00<?, ?it/s]"
     ]
    }
   ],
   "source": [
    "import os\n",
    "import pandas as pd\n",
    "from tqdm import tqdm\n",
    "\n",
    "# Đọc file CSV chứa câu hỏi và câu trả lời đã có (nếu có)\n",
    "df = pd.read_csv('./data/data_processed/honnhan.csv')\n",
    "df=df.head(50)\n",
    "# Nếu chưa có cột 'answer_from_chatbot', thêm cột với giá trị None\n",
    "if 'answer_from_chatbot' not in df.columns:\n",
    "    df['answer_from_chatbot'] = None\n",
    "\n",
    "def sinh_cau_tra_loi_batch(df_batch: pd.DataFrame) -> list[str]:\n",
    "    \"\"\"\n",
    "    Sinh câu trả lời cho mỗi câu hỏi trong batch.\n",
    "    Trả về danh sách answer tương ứng.\n",
    "    \"\"\"\n",
    "    answers = []\n",
    "    for question in tqdm(df_batch['question'], desc=\"Sinh trả lời\"):    \n",
    "        article_doc, _ = rag.get_Article_Content_Results(question)\n",
    "        answers.append(article_doc)\n",
    "    return answers\n",
    "\n",
    "# Chỉ lấy các dòng chưa có câu trả lời (NaN hoặc rỗng)\n",
    "df_unanswered = df[df['answer_from_chatbot'].isna() | (df['answer_from_chatbot'].str.strip() == '')]\n",
    "\n",
    "print(\"==== Bắt đầu sinh trả lời cho các dòng bị thiếu ====\")\n",
    "\n",
    "# Sinh câu trả lời cho toàn bộ các dòng thiếu\n",
    "df_unanswered['answer_from_chatbot'] = sinh_cau_tra_loi_batch(df_unanswered)\n",
    "\n",
    "# Cập nhật lại vào df gốc\n",
    "df.loc[df_unanswered.index, 'answer_from_chatbot'] = df_unanswered['answer_from_chatbot']\n",
    "\n",
    "# Lưu kết quả cuối cùng\n",
    "final_output_path = '../Eval_System/data/data_processed/final_response_honnhan_api.csv'\n",
    "df.to_csv(final_output_path, index=False)\n",
    "print(f\"✅ Đã cập nhật và lưu toàn bộ vào: {final_output_path}\")\n"
   ]
  },
  {
   "cell_type": "markdown",
   "id": "7650f590",
   "metadata": {},
   "source": [
    "### 2.Eval System"
   ]
  },
  {
   "cell_type": "markdown",
   "id": "76c857fd",
   "metadata": {},
   "source": [
    "> Configure"
   ]
  },
  {
   "cell_type": "code",
   "execution_count": null,
   "id": "bd43c04c",
   "metadata": {},
   "outputs": [],
   "source": [
    "setting=Settings()"
   ]
  },
  {
   "cell_type": "code",
   "execution_count": null,
   "id": "e8ac1536",
   "metadata": {},
   "outputs": [],
   "source": [
    "genai.configure(api_key=gemini.key_manager.get_next_key())"
   ]
  },
  {
   "cell_type": "markdown",
   "id": "1e99561e",
   "metadata": {},
   "source": [
    "> Get embedding"
   ]
  },
  {
   "cell_type": "code",
   "execution_count": null,
   "id": "e4a4e5f1",
   "metadata": {},
   "outputs": [],
   "source": [
    "def get_gemini_embedding(text: str,\n",
    "                         model_name: str = \"models/text-embedding-004\") -> list[float]:\n",
    "    res = genai.embed_content(\n",
    "        model=model_name,\n",
    "        content=text\n",
    "    )\n",
    "    return res[\"embedding\"]"
   ]
  },
  {
   "cell_type": "code",
   "execution_count": null,
   "id": "fa0009fc",
   "metadata": {},
   "outputs": [],
   "source": [
    "df = pd.read_csv('./data/data_processed/final_response_honnhan_api.csv')\n",
    "# Lấy embedding cho Answer và answer_from_chatbot\n",
    "df['answer_embedding'] = df['answer'].apply(get_gemini_embedding)\n",
    "df['answer_from_chatbot_embedding'] = df['answer_from_chatbot'].apply(get_gemini_embedding)\n",
    "\n",
    "# Tính cosine similarity giữa Answer và answer_from_chatbot\n",
    "df['cosine_similarity'] = df.apply(\n",
    "    lambda row: cosine_similarity(\n",
    "        [row['answer_embedding']],\n",
    "        [row['answer_from_chatbot_embedding']]\n",
    "    )[0][0],\n",
    "    axis=1\n",
    ")\n",
    "# Tính trung bình của cosine similarity\n",
    "average_cosine_similarity = df['cosine_similarity'].mean()\n",
    "\n",
    "print(f\"Trung bình cosine similarity giữa Answer và answer_from_chatbot: {average_cosine_similarity:.4f}\")"
   ]
  },
  {
   "cell_type": "code",
   "execution_count": null,
   "id": "b15603f1",
   "metadata": {},
   "outputs": [],
   "source": []
  }
 ],
 "metadata": {
  "kernelspec": {
   "display_name": "TLCN-KU7o-pax",
   "language": "python",
   "name": "python3"
  },
  "language_info": {
   "codemirror_mode": {
    "name": "ipython",
    "version": 3
   },
   "file_extension": ".py",
   "mimetype": "text/x-python",
   "name": "python",
   "nbconvert_exporter": "python",
   "pygments_lexer": "ipython3",
   "version": "3.11.5"
  }
 },
 "nbformat": 4,
 "nbformat_minor": 5
}
