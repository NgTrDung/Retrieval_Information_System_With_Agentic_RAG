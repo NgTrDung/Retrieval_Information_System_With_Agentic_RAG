{
 "cells": [
  {
   "cell_type": "code",
   "execution_count": 17,
   "id": "0f295137",
   "metadata": {},
   "outputs": [],
   "source": [
    "import re\n",
    "import pandas as pd\n",
    "from docx import Document"
   ]
  },
  {
   "cell_type": "code",
   "execution_count": 18,
   "id": "d3fdbb18",
   "metadata": {},
   "outputs": [
    {
     "name": "stdout",
     "output_type": "stream",
     "text": [
      "Đã xuất 198 cặp QA ra file ./data/data_processed/honnhan.csv\n"
     ]
    }
   ],
   "source": [
    "def extract_qa_from_text(text):\n",
    "    # Regex để bắt các cặp Câu hỏi (Question) và Trả lời (Answer)\n",
    "    pattern = r'(Câu \\d+\\..*?)(?=Câu \\d+\\.|\\Z)'  # Bắt từ \"Câu n.\" cho đến trước \"Câu n+1.\" hoặc kết thúc file\n",
    "    matches = re.findall(pattern, text, re.DOTALL)\n",
    "\n",
    "    qa_pairs = []\n",
    "    for match in matches:\n",
    "        parts = re.split(r'Trả lời:', match, maxsplit=1)\n",
    "        if len(parts) == 2:\n",
    "            question = parts[0].strip()\n",
    "            answer = parts[1].strip()\n",
    "            qa_pairs.append((question, answer))\n",
    "    return qa_pairs\n",
    "\n",
    "def docx_to_text(path):\n",
    "    doc = Document(path)\n",
    "    full_text = []\n",
    "    for para in doc.paragraphs:\n",
    "        full_text.append(para.text)\n",
    "    return '\\n'.join(full_text)\n",
    "\n",
    "def export_qa_to_csv(docx_path, csv_path):\n",
    "    text = docx_to_text(docx_path)\n",
    "    qa_pairs = extract_qa_from_text(text)\n",
    "    df = pd.DataFrame(qa_pairs, columns=['question', 'answer'])\n",
    "    df.to_csv(csv_path, index=False, encoding='utf-8-sig')\n",
    "    print(f'Đã xuất {len(qa_pairs)} cặp QA ra file {csv_path}')\n",
    "\n",
    "# Ví dụ sử dụng\n",
    "export_qa_to_csv('./data/origin_data/200 tinh huong HNGD va Tre em.docx', './data/data_processed/honnhan.csv')"
   ]
  },
  {
   "cell_type": "code",
   "execution_count": 19,
   "id": "d73c73bc",
   "metadata": {},
   "outputs": [],
   "source": [
    "import pandas as pd\n",
    "df_honnhan=pd.read_csv(\"../Eval_System/data/data_processed/honnhan.csv\")"
   ]
  },
  {
   "cell_type": "code",
   "execution_count": 20,
   "id": "ea8d3841",
   "metadata": {},
   "outputs": [
    {
     "data": {
      "text/plain": [
       "(198, 2)"
      ]
     },
     "execution_count": 20,
     "metadata": {},
     "output_type": "execute_result"
    }
   ],
   "source": [
    "df_honnhan.shape"
   ]
  }
 ],
 "metadata": {
  "kernelspec": {
   "display_name": "machinelearning-lTTH8rYd",
   "language": "python",
   "name": "python3"
  },
  "language_info": {
   "codemirror_mode": {
    "name": "ipython",
    "version": 3
   },
   "file_extension": ".py",
   "mimetype": "text/x-python",
   "name": "python",
   "nbconvert_exporter": "python",
   "pygments_lexer": "ipython3",
   "version": "3.11.5"
  }
 },
 "nbformat": 4,
 "nbformat_minor": 5
}
