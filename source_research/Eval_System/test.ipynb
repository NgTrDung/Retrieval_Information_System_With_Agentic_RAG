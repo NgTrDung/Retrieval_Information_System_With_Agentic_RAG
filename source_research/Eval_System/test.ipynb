{
 "cells": [
  {
   "cell_type": "code",
   "execution_count": 114,
   "id": "c8a3fa4c",
   "metadata": {},
   "outputs": [],
   "source": [
    "import json\n",
    "text=\"\"\"\n",
    "```json\n",
    "{\n",
    " \"answer\": \"Chào bạn, theo Nghị định 100, người đi xe đạp có thể bị phạt tiền đối với một số hành vi vi phạm giao thông sau đây:\\n\\n*   **Điều khiển xe lạng lách, đánh võng; đuổi nhau trên đường:** Mức phạt tiền từ 300.000 đồng đến 400.000 đồng.\\n*   **Đi xe bằng một bánh đối với xe đạp:** Mức phạt tiền từ 300.000 đồng đến 400.000 đồng.\\n*   **Đi vào khu vực cấm, đường có biển báo hiệu nội dung cấm đi vào đối với loại phương tiện đang điều khiển; đi ngược chiều đường của đường một chiều, đường có biển “Cấm đi ngược chiều\":** Mức phạt tiền từ 300.000 đồng đến 400.000 đồng.\\n\\nĐây là một số hành vi vi phạm giao thông phổ biến mà người đi xe đạp cần lưu ý để tránh bị xử phạt theo Nghị định 100.\",\n",
    " \"key\": [\n",
    "  3\n",
    " ]\n",
    "}\n",
    "```\n",
    "\"\"\""
   ]
  },
  {
   "cell_type": "code",
   "execution_count": 115,
   "id": "b7a1b5b3",
   "metadata": {},
   "outputs": [],
   "source": [
    "import re\n",
    "def clean_code_fence_safe(text: str) -> str:\n",
    "    lines = text.strip().splitlines()\n",
    "    if lines and lines[0].strip().startswith(\"```\"):\n",
    "        # Nếu dòng đầu chỉ chứa dấu ``` hoặc ```json\n",
    "        if lines[0].strip() == \"```\" or lines[0].strip().startswith(\"```\"):\n",
    "            lines = lines[1:]\n",
    "    if lines and lines[-1].strip() == \"```\":\n",
    "        lines = lines[:-1]\n",
    "    return \"\\n\".join(lines).strip()\n",
    "\n",
    "def fix_json_string(s):\n",
    "    # Bước 1: Thay xuống dòng thật trong chuỗi thành \\n chỉ trong giá trị của key \"answer\"\n",
    "    # Dùng regex để lấy phần trong dấu \"\"\n",
    "    match = re.search(r'\"answer\"\\s*:\\s*\"(.+?)\"\\s*,', s, flags=re.DOTALL)\n",
    "    if not match:\n",
    "        return s  # Không tìm thấy \"answer\", trả về nguyên bản\n",
    "\n",
    "    answer_str = match.group(1)\n",
    "    # Thay xuống dòng thật thành \\n\n",
    "    answer_fixed = answer_str.replace('\\n', '\\\\n')\n",
    "\n",
    "    # Thay lại trong chuỗi gốc\n",
    "    s_fixed = s.replace(answer_str, answer_fixed)\n",
    "    return str(s_fixed)\n",
    "\n",
    "\n"
   ]
  },
  {
   "cell_type": "code",
   "execution_count": 116,
   "id": "7435fd6f",
   "metadata": {},
   "outputs": [],
   "source": [
    "answer_result= clean_code_fence_safe(text)\n",
    "answer_result= fix_json_string(answer_result)"
   ]
  },
  {
   "cell_type": "code",
   "execution_count": 117,
   "id": "56e19baf",
   "metadata": {},
   "outputs": [
    {
     "name": "stdout",
     "output_type": "stream",
     "text": [
      "{\n",
      " \"answer\": \"Chào bạn, theo Nghị định 100, người đi xe đạp có thể bị phạt tiền đối với một số hành vi vi phạm giao thông sau đây:\\n\\n*   **Điều khiển xe lạng lách, đánh võng; đuổi nhau trên đường:** Mức phạt tiền từ 300.000 đồng đến 400.000 đồng.\\n*   **Đi xe bằng một bánh đối với xe đạp:** Mức phạt tiền từ 300.000 đồng đến 400.000 đồng.\\n*   **Đi vào khu vực cấm, đường có biển báo hiệu nội dung cấm đi vào đối với loại phương tiện đang điều khiển; đi ngược chiều đường của đường một chiều, đường có biển “Cấm đi ngược chiều\":** Mức phạt tiền từ 300.000 đồng đến 400.000 đồng.\\n\\nĐây là một số hành vi vi phạm giao thông phổ biến mà người đi xe đạp cần lưu ý để tránh bị xử phạt theo Nghị định 100.\",\n",
      " \"key\": [\n",
      "  3\n",
      " ]\n",
      "}\n"
     ]
    }
   ],
   "source": [
    "print(answer_result)"
   ]
  },
  {
   "cell_type": "code",
   "execution_count": 104,
   "id": "4a98478f",
   "metadata": {},
   "outputs": [],
   "source": [
    "# Thay mọi ký tự newline thành \"\\\\n\"\n",
    "text_fixed = re.sub(r'\\n', r'', answer_result)"
   ]
  },
  {
   "cell_type": "code",
   "execution_count": 105,
   "id": "fb849231",
   "metadata": {},
   "outputs": [
    {
     "name": "stdout",
     "output_type": "stream",
     "text": [
      "{ \"answer\": \"Chào bạn, theo Nghị định 100, người đi xe đạp có thể bị phạt tiền đối với một số hành vi vi phạm giao thông sau đây:\\n\\n*   **Điều khiển xe lạng lách, đánh võng; đuổi nhau trên đường:** Mức phạt tiền từ 300.000 đồng đến 400.000 đồng.\\n*   **Đi xe bằng một bánh đối với xe đạp:** Mức phạt tiền từ 300.000 đồng đến 400.000 đồng.\\n*   **Đi vào khu vực cấm, đường có biển báo hiệu nội dung cấm đi vào đối với loại phương tiện đang điều khiển; đi ngược chiều đường của đường một chiều, đường có biển “Cấm đi ngược chiều\":** Mức phạt tiền từ 300.000 đồng đến 400.000 đồng.\\n\\nĐây là một số hành vi vi phạm giao thông phổ biến mà người đi xe đạp cần lưu ý để tránh bị xử phạt theo Nghị định 100.\", \"key\": [  3 ]}\n"
     ]
    }
   ],
   "source": [
    "print(text_fixed)"
   ]
  },
  {
   "cell_type": "code",
   "execution_count": 118,
   "id": "811edc8b",
   "metadata": {},
   "outputs": [],
   "source": [
    "import json\n",
    "import re\n",
    "\n",
    "def parse_raw_json(raw_text: str) -> dict:\n",
    "    text = raw_text.replace('“', '\"').replace('”', '\"')\n",
    "    pattern = r'(\"answer\"\\s*:\\s*\")(.+?)(\"(?=\\s*,\\s*\"key\"))'\n",
    "    match = re.search(pattern, text, flags=re.DOTALL)\n",
    "    if not match:\n",
    "        raise ValueError(\"Không tìm thấy trường 'answer' hoặc định dạng não nề quá không parse được.\")\n",
    "\n",
    "    prefix = match.group(1)        \n",
    "    answer_content = match.group(2) \n",
    "    suffix = match.group(3)        \n",
    "    escaped_content = answer_content.replace('\"', r'\\\"')\n",
    "    fixed_text = (\n",
    "        text[: match.start(1)]      \n",
    "        + prefix                  \n",
    "        + escaped_content          \n",
    "        + suffix                   \n",
    "        + text[match.end(3):]      \n",
    "    )\n",
    "    return json.loads(fixed_text)\n",
    "\n"
   ]
  },
  {
   "cell_type": "code",
   "execution_count": 119,
   "id": "a5346136",
   "metadata": {},
   "outputs": [
    {
     "name": "stdout",
     "output_type": "stream",
     "text": [
      "Chào bạn, theo Nghị định 100, người đi xe đạp có thể bị phạt tiền đối với một số hành vi vi phạm giao thông sau đây:\n",
      "\n",
      "*   **Điều khiển xe lạng lách, đánh võng; đuổi nhau trên đường:** Mức phạt tiền từ 300.000 đồng đến 400.000 đồng.\n",
      "*   **Đi xe bằng một bánh đối với xe đạp:** Mức phạt tiền từ 300.000 đồng đến 400.000 đồng.\n",
      "*   **Đi vào khu vực cấm, đường có biển báo hiệu nội dung cấm đi vào đối với loại phương tiện đang điều khiển; đi ngược chiều đường của đường một chiều, đường có biển \"Cấm đi ngược chiều\":** Mức phạt tiền từ 300.000 đồng đến 400.000 đồng.\n",
      "\n",
      "Đây là một số hành vi vi phạm giao thông phổ biến mà người đi xe đạp cần lưu ý để tránh bị xử phạt theo Nghị định 100.\n"
     ]
    }
   ],
   "source": [
    "\n",
    "# Sau đó load JSON\n",
    "data =  parse_raw_json(answer_result)\n",
    "print(data['answer'])"
   ]
  }
 ],
 "metadata": {
  "kernelspec": {
   "display_name": "TLCN-KU7o-pax",
   "language": "python",
   "name": "python3"
  },
  "language_info": {
   "codemirror_mode": {
    "name": "ipython",
    "version": 3
   },
   "file_extension": ".py",
   "mimetype": "text/x-python",
   "name": "python",
   "nbconvert_exporter": "python",
   "pygments_lexer": "ipython3",
   "version": "3.11.5"
  }
 },
 "nbformat": 4,
 "nbformat_minor": 5
}
