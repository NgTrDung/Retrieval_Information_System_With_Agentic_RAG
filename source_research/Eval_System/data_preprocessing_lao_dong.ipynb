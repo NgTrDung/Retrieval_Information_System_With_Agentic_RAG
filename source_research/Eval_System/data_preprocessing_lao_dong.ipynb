{
 "cells": [
  {
   "cell_type": "code",
   "execution_count": 3,
   "id": "0f295137",
   "metadata": {},
   "outputs": [],
   "source": [
    "import re\n",
    "import pandas as pd\n",
    "import fitz\n",
    "import docx\n",
    "import csv"
   ]
  },
  {
   "cell_type": "code",
   "execution_count": 4,
   "id": "d3fdbb18",
   "metadata": {},
   "outputs": [],
   "source": [
    "def read_docx(file_path):\n",
    "    doc = docx.Document(file_path)\n",
    "    text = '\\n'.join([para.text.strip() for para in doc.paragraphs if para.text.strip()])\n",
    "    return text\n",
    "\n",
    "def extract_questions_answers(text):\n",
    "    # Regex hỗ trợ: \"Câu\", \"Câu hỏi\", \"Tình huống\", có hoặc không có \"Trả lời:\", có dấu \".\" hoặc \":\"\n",
    "    pattern = r'(?:Câu hỏi|Câu|Tình huống|Hỏi|\\d+\\.\\s*Hỏi)\\s*\\d*\\s*[:\\.]\\s*(.*?)\\n(?:Trả lời[:\\.]?\\s*)?(.*?)(?=\\n(?:Câu hỏi|Câu|Tình huống|Hỏi|\\d+\\.\\s*Hỏi)\\s*\\d*\\s*[:\\.]|$)'\n",
    "    matches = re.findall(pattern, text, re.DOTALL)\n",
    "    return [(q.strip(), a.strip()) for q, a in matches]\n",
    "# Đọc nội dung PDF thành text\n",
    "def read_pdf(file_path):\n",
    "    doc = fitz.open(file_path)\n",
    "    text = ''\n",
    "    for page in doc:\n",
    "        text += page.get_text()\n",
    "    return text\n",
    "def export_to_csv(data, file_out):\n",
    "    with open(file_out, 'w', encoding='utf-8', newline='') as f:\n",
    "        writer = csv.writer(f)\n",
    "        writer.writerow(['question', 'answer'])\n",
    "        writer.writerows(data)\n",
    "\n",
    "# Đường dẫn file và xử lý\n",
    "text = read_docx('./data/origin_data/lao_dong_200.docx')\n",
    "qa_pairs = extract_questions_answers(text)\n",
    "export_to_csv(qa_pairs, './data/data_processed/laodong.csv')\n"
   ]
  },
  {
   "cell_type": "markdown",
   "id": "41cf96b8",
   "metadata": {},
   "source": [
    "### 1.Lao Động"
   ]
  },
  {
   "cell_type": "code",
   "execution_count": 5,
   "id": "d73c73bc",
   "metadata": {},
   "outputs": [],
   "source": [
    "df_laodong=pd.read_csv(\"../Eval_System/data/data_processed/laodong.csv\")"
   ]
  },
  {
   "cell_type": "code",
   "execution_count": 6,
   "id": "ea8d3841",
   "metadata": {},
   "outputs": [
    {
     "data": {
      "text/plain": [
       "(253, 2)"
      ]
     },
     "execution_count": 6,
     "metadata": {},
     "output_type": "execute_result"
    }
   ],
   "source": [
    "df_laodong.shape"
   ]
  },
  {
   "cell_type": "markdown",
   "id": "1a7ac55a",
   "metadata": {},
   "source": [
    "### 2.An Toàn Giao Thông"
   ]
  },
  {
   "cell_type": "code",
   "execution_count": 7,
   "id": "b12ec2f6",
   "metadata": {},
   "outputs": [],
   "source": [
    "# Đường dẫn file và xử lý\n",
    "text = read_docx('./data/origin_data/ATGT.docx')\n",
    "qa_pairs = extract_questions_answers(text)\n",
    "export_to_csv(qa_pairs, './data/data_processed/atgt.csv')\n"
   ]
  },
  {
   "cell_type": "code",
   "execution_count": 8,
   "id": "10f242ce",
   "metadata": {},
   "outputs": [],
   "source": [
    "df_atgt=pd.read_csv(\"./data/data_processed/atgt.csv\")"
   ]
  },
  {
   "cell_type": "code",
   "execution_count": 9,
   "id": "5a029df5",
   "metadata": {},
   "outputs": [
    {
     "data": {
      "text/plain": [
       "(136, 2)"
      ]
     },
     "execution_count": 9,
     "metadata": {},
     "output_type": "execute_result"
    }
   ],
   "source": [
    "df_atgt.shape"
   ]
  },
  {
   "cell_type": "code",
   "execution_count": 10,
   "id": "be49c934",
   "metadata": {},
   "outputs": [],
   "source": [
    "# Đường dẫn file và xử lý\n",
    "text = read_pdf('./data/origin_data/tai lieu hoi dap Luat ATGT.pdf')\n",
    "qa_pairs = extract_questions_answers(text)\n",
    "export_to_csv(qa_pairs, './data/data_processed/atgt_2.csv')\n"
   ]
  },
  {
   "cell_type": "code",
   "execution_count": 11,
   "id": "e2faad87",
   "metadata": {},
   "outputs": [],
   "source": [
    "df_atgt_2=pd.read_csv(\"./data/data_processed/atgt_2.csv\")"
   ]
  },
  {
   "cell_type": "code",
   "execution_count": 12,
   "id": "3bd63f95",
   "metadata": {},
   "outputs": [
    {
     "data": {
      "text/plain": [
       "(40, 2)"
      ]
     },
     "execution_count": 12,
     "metadata": {},
     "output_type": "execute_result"
    }
   ],
   "source": [
    "df_atgt_2.shape"
   ]
  },
  {
   "cell_type": "code",
   "execution_count": 13,
   "id": "a0f206a5",
   "metadata": {},
   "outputs": [],
   "source": [
    "df_merge_antt=pd.concat([df_atgt_2,df_atgt],axis=0)"
   ]
  },
  {
   "cell_type": "code",
   "execution_count": 14,
   "id": "e907b6e9",
   "metadata": {},
   "outputs": [
    {
     "data": {
      "text/plain": [
       "(176, 2)"
      ]
     },
     "execution_count": 14,
     "metadata": {},
     "output_type": "execute_result"
    }
   ],
   "source": [
    "df_merge_antt.shape"
   ]
  },
  {
   "cell_type": "code",
   "execution_count": 15,
   "id": "8fa13860",
   "metadata": {},
   "outputs": [
    {
     "data": {
      "text/plain": [
       "Index(['question', 'answer'], dtype='object')"
      ]
     },
     "execution_count": 15,
     "metadata": {},
     "output_type": "execute_result"
    }
   ],
   "source": [
    "df_merge_antt.columns"
   ]
  },
  {
   "cell_type": "code",
   "execution_count": 16,
   "id": "62bf748f",
   "metadata": {},
   "outputs": [],
   "source": [
    "df_merge_antt.to_csv(\"./data/data_processed/antt_merge.csv\",index=False)"
   ]
  },
  {
   "cell_type": "markdown",
   "id": "b213411b",
   "metadata": {},
   "source": [
    "### 3.Giáo Dục"
   ]
  },
  {
   "cell_type": "code",
   "execution_count": 17,
   "id": "d672f1b2",
   "metadata": {},
   "outputs": [],
   "source": [
    "# Đường dẫn file và xử lý\n",
    "text = read_docx('./data/origin_data/giao_duc.docx')\n",
    "qa_pairs = extract_questions_answers(text)\n",
    "export_to_csv(qa_pairs, './data/data_processed/giaoduc.csv')\n"
   ]
  },
  {
   "cell_type": "code",
   "execution_count": 18,
   "id": "046a18a9",
   "metadata": {},
   "outputs": [
    {
     "data": {
      "text/plain": [
       "(16, 2)"
      ]
     },
     "execution_count": 18,
     "metadata": {},
     "output_type": "execute_result"
    }
   ],
   "source": [
    "df_giaoduc=pd.read_csv(\"./data/data_processed/giaoduc.csv\")\n",
    "df_giaoduc.shape"
   ]
  },
  {
   "cell_type": "code",
   "execution_count": 19,
   "id": "0ba88f01",
   "metadata": {},
   "outputs": [],
   "source": [
    "text=read_pdf(\"./data/origin_data/GiaoDuc.pdf\")\n",
    "\n",
    "qa_pairs = extract_questions_answers(text)\n",
    "export_to_csv(qa_pairs, './data/data_processed/giaoduc_2.csv')"
   ]
  },
  {
   "cell_type": "code",
   "execution_count": 20,
   "id": "c5623580",
   "metadata": {},
   "outputs": [
    {
     "data": {
      "text/plain": [
       "(271, 2)"
      ]
     },
     "execution_count": 20,
     "metadata": {},
     "output_type": "execute_result"
    }
   ],
   "source": [
    "df_giaoduc_2=pd.read_csv(\"./data/data_processed/giaoduc_2.csv\")\n",
    "df_giaoduc_2.shape"
   ]
  },
  {
   "cell_type": "code",
   "execution_count": 21,
   "id": "5961cdc8",
   "metadata": {},
   "outputs": [],
   "source": [
    "df_merge_giaoduc=pd.concat([df_giaoduc,df_giaoduc_2],axis=0)"
   ]
  },
  {
   "cell_type": "code",
   "execution_count": 22,
   "id": "9e6f4b44",
   "metadata": {},
   "outputs": [],
   "source": [
    "df_merge_giaoduc.to_csv(\"./data/data_processed/giaoduc_merge.csv\",index=False)\n"
   ]
  },
  {
   "cell_type": "code",
   "execution_count": 23,
   "id": "b78f9f51",
   "metadata": {},
   "outputs": [
    {
     "data": {
      "text/plain": [
       "(287, 2)"
      ]
     },
     "execution_count": 23,
     "metadata": {},
     "output_type": "execute_result"
    }
   ],
   "source": [
    "df_merge_giaoduc.shape"
   ]
  },
  {
   "cell_type": "markdown",
   "id": "ab8dbb01",
   "metadata": {},
   "source": [
    "### 4.Trách nhiệm và hình sự"
   ]
  },
  {
   "cell_type": "code",
   "execution_count": 24,
   "id": "b3f57fcb",
   "metadata": {},
   "outputs": [],
   "source": [
    "# Đường dẫn file và xử lý\n",
    "text = read_docx('./data/origin_data/TrachNhiem_HinhSu.docx')\n",
    "qa_pairs = extract_questions_answers(text)\n",
    "export_to_csv(qa_pairs, './data/data_processed/trachnhiem_hinhsu.csv')\n"
   ]
  },
  {
   "cell_type": "code",
   "execution_count": 25,
   "id": "cc154bac",
   "metadata": {},
   "outputs": [
    {
     "data": {
      "text/plain": [
       "(140, 2)"
      ]
     },
     "execution_count": 25,
     "metadata": {},
     "output_type": "execute_result"
    }
   ],
   "source": [
    "df_trachnhiem_hinhsu=pd.read_csv(\"./data/data_processed/trachnhiem_hinhsu.csv\")\n",
    "df_trachnhiem_hinhsu.shape"
   ]
  },
  {
   "cell_type": "code",
   "execution_count": 26,
   "id": "26870c2a",
   "metadata": {},
   "outputs": [
    {
     "data": {
      "text/plain": [
       "(198, 2)"
      ]
     },
     "execution_count": 26,
     "metadata": {},
     "output_type": "execute_result"
    }
   ],
   "source": [
    "df_honnhan=pd.read_csv(\"./data/data_processed/honnhan.csv\")\n",
    "df_honnhan.shape"
   ]
  },
  {
   "cell_type": "code",
   "execution_count": 27,
   "id": "11296cd4",
   "metadata": {},
   "outputs": [],
   "source": [
    "df_final_law=pd.concat([df_honnhan,df_laodong,df_merge_antt,df_merge_giaoduc,df_trachnhiem_hinhsu],axis=0)"
   ]
  },
  {
   "cell_type": "code",
   "execution_count": 28,
   "id": "717a6961",
   "metadata": {},
   "outputs": [
    {
     "data": {
      "text/plain": [
       "(1054, 2)"
      ]
     },
     "execution_count": 28,
     "metadata": {},
     "output_type": "execute_result"
    }
   ],
   "source": [
    "df_final_law.shape"
   ]
  },
  {
   "cell_type": "code",
   "execution_count": 29,
   "id": "b89b8b4a",
   "metadata": {},
   "outputs": [
    {
     "data": {
      "text/plain": [
       "Index(['question', 'answer'], dtype='object')"
      ]
     },
     "execution_count": 29,
     "metadata": {},
     "output_type": "execute_result"
    }
   ],
   "source": [
    "df_final_law.columns"
   ]
  },
  {
   "cell_type": "markdown",
   "id": "f1842598",
   "metadata": {},
   "source": [
    "### 5.Câu hỏi khác"
   ]
  },
  {
   "cell_type": "code",
   "execution_count": 30,
   "id": "ffad15b5",
   "metadata": {},
   "outputs": [],
   "source": [
    "# Đường dẫn file và xử lý\n",
    "text = read_docx('./data/origin_data/Cau_Hoi_Khac.docx')\n",
    "qa_pairs = extract_questions_answers(text)\n",
    "export_to_csv(qa_pairs, './data/data_processed/cauhoi_khac.csv')\n"
   ]
  },
  {
   "cell_type": "code",
   "execution_count": 31,
   "id": "56cd92c7",
   "metadata": {},
   "outputs": [],
   "source": [
    "df_cauhoikhac=pd.read_csv(\"./data/data_processed/cauhoi_khac.csv\")"
   ]
  },
  {
   "cell_type": "code",
   "execution_count": 32,
   "id": "57ed86a7",
   "metadata": {},
   "outputs": [],
   "source": [
    "df_final=pd.concat([df_final_law,df_cauhoikhac],axis=0)"
   ]
  },
  {
   "cell_type": "code",
   "execution_count": 33,
   "id": "a8b3e0f3",
   "metadata": {},
   "outputs": [],
   "source": [
    "df_final.shape\n",
    "df_final.to_csv(\"./data/data_processed/final_data_system.csv\",index=False)"
   ]
  },
  {
   "cell_type": "code",
   "execution_count": 34,
   "id": "212e9a76",
   "metadata": {},
   "outputs": [
    {
     "name": "stdout",
     "output_type": "stream",
     "text": [
      "(1204, 2)\n"
     ]
    }
   ],
   "source": [
    "print(df_final.shape)"
   ]
  }
 ],
 "metadata": {
  "kernelspec": {
   "display_name": "TLCN-KU7o-pax",
   "language": "python",
   "name": "python3"
  },
  "language_info": {
   "codemirror_mode": {
    "name": "ipython",
    "version": 3
   },
   "file_extension": ".py",
   "mimetype": "text/x-python",
   "name": "python",
   "nbconvert_exporter": "python",
   "pygments_lexer": "ipython3",
   "version": "3.11.5"
  }
 },
 "nbformat": 4,
 "nbformat_minor": 5
}
