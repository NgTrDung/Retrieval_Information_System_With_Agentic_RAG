{
 "cells": [
  {
   "cell_type": "markdown",
   "metadata": {},
   "source": [
    "# 1. Thư viện"
   ]
  },
  {
   "cell_type": "code",
   "execution_count": 1,
   "metadata": {},
   "outputs": [],
   "source": [
    "import json\n",
    "\n",
    "from pyvi import ViTokenizer\n",
    "from langchain_experimental.text_splitter import SemanticChunker\n",
    "from langchain_community.embeddings import HuggingFaceEmbeddings"
   ]
  },
  {
   "cell_type": "markdown",
   "metadata": {},
   "source": [
    "# 2. Model embedding"
   ]
  },
  {
   "cell_type": "code",
   "execution_count": 2,
   "metadata": {},
   "outputs": [
    {
     "name": "stderr",
     "output_type": "stream",
     "text": [
      "C:\\Users\\ADMIN\\AppData\\Local\\Temp\\ipykernel_48596\\2870113787.py:3: LangChainDeprecationWarning: The class `HuggingFaceEmbeddings` was deprecated in LangChain 0.2.2 and will be removed in 1.0. An updated version of the class exists in the :class:`~langchain-huggingface package and should be used instead. To use it run `pip install -U :class:`~langchain-huggingface` and import as `from :class:`~langchain_huggingface import HuggingFaceEmbeddings``.\n",
      "  embeddings_Model = HuggingFaceEmbeddings(\n"
     ]
    },
    {
     "name": "stdout",
     "output_type": "stream",
     "text": [
      "WARNING:tensorflow:From d:\\Download_Python\\lib\\site-packages\\tf_keras\\src\\losses.py:2976: The name tf.losses.sparse_softmax_cross_entropy is deprecated. Please use tf.compat.v1.losses.sparse_softmax_cross_entropy instead.\n",
      "\n"
     ]
    }
   ],
   "source": [
    "model_kwargs = {\"device\": \"cuda\"}\n",
    "encode_kwargs = {\"normalize_embeddings\": True}\n",
    "embeddings_Model = HuggingFaceEmbeddings(\n",
    "    model_name=\"huyydangg/DEk21_hcmute_embedding\",\n",
    "    model_kwargs=model_kwargs,\n",
    "    encode_kwargs=encode_kwargs\n",
    ")"
   ]
  },
  {
   "cell_type": "markdown",
   "metadata": {},
   "source": [
    "# 3. Khởi tạo Semantic Chunking"
   ]
  },
  {
   "cell_type": "code",
   "execution_count": 23,
   "metadata": {},
   "outputs": [],
   "source": [
    "# Tạo SemanticChunker với các tham số phù hợp\n",
    "chunker = SemanticChunker(\n",
    "    embeddings = embeddings_Model, \n",
    "    buffer_size = 5,\n",
    "    breakpoint_threshold_type = \"gradient\",\n",
    "    breakpoint_threshold_amount = 0.75,\n",
    "    sentence_split_regex = r\"(?<=[.?!])\\s+(?!\\d+\\.\\s)\",\n",
    "    min_chunk_size = 512\n",
    ")"
   ]
  },
  {
   "cell_type": "markdown",
   "metadata": {},
   "source": [
    "# 4. Thực thi"
   ]
  },
  {
   "cell_type": "code",
   "execution_count": 24,
   "metadata": {},
   "outputs": [],
   "source": [
    "# Đường dẫn file input và output\n",
    "input_file_path = r\"d:\\13_21133021_NguyenTrongDung_LuuTruMonHoc\\data_KLTN\\trachNhiem_HinhSu\\content_trachNhiem_HinhSu_Extracted.json\"\n",
    "output_file_path = r\"d:\\13_21133021_NguyenTrongDung_LuuTruMonHoc\\data_KLTN\\trachNhiem_HinhSu\\semantic_Chunk_content_trachNhiem_HinhSu_Extracted.json\""
   ]
  },
  {
   "cell_type": "code",
   "execution_count": 25,
   "metadata": {},
   "outputs": [],
   "source": [
    "# Đọc dữ liệu từ file .json\n",
    "with open(input_file_path, 'r', encoding='utf-8') as file:\n",
    "    data = json.load(file)"
   ]
  },
  {
   "cell_type": "code",
   "execution_count": 26,
   "metadata": {},
   "outputs": [],
   "source": [
    "# Danh sách để lưu các đối tượng đã chunk\n",
    "chunked_data = []\n",
    "\n",
    "# Duyệt qua từng phần tử trong dữ liệu\n",
    "for item in data:\n",
    "    # Lấy nội dung của key \"Semantic-Chunk-Content\"\n",
    "    content = item.get(\"SemanticChunk-Content\", \"\")\n",
    "\n",
    "    # Token hóa nội dung bằng ViTokenizer\n",
    "    tokenized_content = ViTokenizer.tokenize(content)\n",
    "\n",
    "    # Thực hiện chunking trên nội dung đã token hóa\n",
    "    chunks = chunker.split_text(tokenized_content)\n",
    "\n",
    "    # Lưu các chunk đã xử lý\n",
    "    for chunk in chunks:\n",
    "        chunk_data = item.copy()  # Tạo bản sao của metadata gốc\n",
    "        chunk_data[\"SemanticChunk-Content\"] = chunk  # Thay thế nội dung đã chunked\n",
    "        chunked_data.append(chunk_data)"
   ]
  },
  {
   "cell_type": "code",
   "execution_count": 27,
   "metadata": {},
   "outputs": [
    {
     "name": "stdout",
     "output_type": "stream",
     "text": [
      "File đã được lưu tại: d:\\13_21133021_NguyenTrongDung_LuuTruMonHoc\\data_KLTN\\trachNhiem_HinhSu\\semantic_Chunk_content_trachNhiem_HinhSu_Extracted.json\n"
     ]
    }
   ],
   "source": [
    "# Lưu kết quả vào file output (ví dụ: JSON)\n",
    "with open(output_file_path, 'w', encoding='utf-8') as output_file:\n",
    "    json.dump(chunked_data, output_file, ensure_ascii=False, indent=4)\n",
    "\n",
    "print(f\"File đã được lưu tại: {output_file_path}\")"
   ]
  }
 ],
 "metadata": {
  "kernelspec": {
   "display_name": "Python 3",
   "language": "python",
   "name": "python3"
  },
  "language_info": {
   "codemirror_mode": {
    "name": "ipython",
    "version": 3
   },
   "file_extension": ".py",
   "mimetype": "text/x-python",
   "name": "python",
   "nbconvert_exporter": "python",
   "pygments_lexer": "ipython3",
   "version": "3.9.8"
  }
 },
 "nbformat": 4,
 "nbformat_minor": 2
}
