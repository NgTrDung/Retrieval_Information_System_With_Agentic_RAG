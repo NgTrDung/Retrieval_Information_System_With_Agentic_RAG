{
 "cells": [
  {
   "cell_type": "markdown",
   "metadata": {},
   "source": [
    "# 1. Folder giao_duc"
   ]
  },
  {
   "cell_type": "markdown",
   "metadata": {},
   "source": [
    "## 1.1. File .xlsx"
   ]
  },
  {
   "cell_type": "code",
   "execution_count": 1,
   "metadata": {},
   "outputs": [],
   "source": [
    "import pandas as pd\n",
    "import os"
   ]
  },
  {
   "cell_type": "code",
   "execution_count": 2,
   "metadata": {},
   "outputs": [],
   "source": [
    "# Thay đổi đường dẫn thư mục chứa file\n",
    "# D:\\13_21133021_NguyenTrongDung_LuuTruMonHoc\\data_KLTN\\giao_duc\n",
    "# D:\\13_21133021_NguyenTrongDung_LuuTruMonHoc\\data_KLTN\\giaoThong_VanTai\n",
    "# D:\\13_21133021_NguyenTrongDung_LuuTruMonHoc\\data_KLTN\\honNhan_GiaDinh\n",
    "# D:\\13_21133021_NguyenTrongDung_LuuTruMonHoc\\data_KLTN\\laoDong_TienLuong\n",
    "# D:\\13_21133021_NguyenTrongDung_LuuTruMonHoc\\data_KLTN\\trachNhiem_HinhSu\n",
    "\n",
    "folder_path = r\"D:\\13_21133021_NguyenTrongDung_LuuTruMonHoc\\data_KLTN\\giao_duc\" \n",
    "metadata_file = os.path.join(folder_path, \"metadata.xlsx\")\n",
    "\n",
    "# Đọc file metadata.xlsx thành DataFrame\n",
    "df_metadata = pd.read_excel(metadata_file)"
   ]
  },
  {
   "cell_type": "code",
   "execution_count": 3,
   "metadata": {},
   "outputs": [
    {
     "data": {
      "application/vnd.microsoft.datawrangler.viewer.v0+json": {
       "columns": [
        {
         "name": "index",
         "rawType": "int64",
         "type": "integer"
        },
        {
         "name": "STT",
         "rawType": "int64",
         "type": "integer"
        },
        {
         "name": "Loại Văn Bản",
         "rawType": "object",
         "type": "string"
        },
        {
         "name": "Nơi Ban Hành",
         "rawType": "object",
         "type": "string"
        },
        {
         "name": "Số Hiệu",
         "rawType": "object",
         "type": "string"
        },
        {
         "name": "Lĩnh Vực - Ngành",
         "rawType": "object",
         "type": "string"
        },
        {
         "name": "Ngày Ban Hành",
         "rawType": "object",
         "type": "string"
        },
        {
         "name": "Chủ Đề",
         "rawType": "object",
         "type": "string"
        }
       ],
       "ref": "d35f1be6-ed7a-4b7b-b4dd-17a8893211cf",
       "rows": [
        [
         "0",
         "1",
         "Thông tư",
         "Bộ Giáo dục và Đào tạo",
         "17/2021/TT-BGDĐT",
         "Giáo dục",
         "22/06/2021",
         "QUY ĐỊNH VỀ CHUẨN CHƯƠNG TRÌNH ĐÀO TẠO; XÂY DỰNG, THẨM ĐỊNH VÀ BAN HÀNH CHƯƠNG TRÌNH ĐÀO TẠO CÁC TRÌNH ĐỘ CỦA GIÁO DỤC ĐẠI HỌC"
        ],
        [
         "1",
         "2",
         "Thông tư",
         "Bộ Giáo dục và Đào tạo",
         "18/2021/TT-BGDĐT",
         "Giáo dục",
         "28/06/2021",
         "BAN HÀNH QUY CHẾ TUYỂN SINH VÀ ĐÀO TẠO TRÌNH ĐỘ TIẾN SĨ"
        ],
        [
         "2",
         "3",
         "Thông tư",
         "Bộ Lao động - Thương binh và Xã hội",
         "05/2021/TT-BLĐTBXH",
         "Giáo dục",
         "07/07/2021",
         "QUY ĐỊNH QUY CHẾ TUYỂN SINH VÀ XÁC ĐỊNH CHỈ TIÊU TUYỂN SINH TRÌNH ĐỘ TRUNG CẤP, TRÌNH ĐỘ CAO ĐẲNG"
        ],
        [
         "3",
         "4",
         "Thông tư",
         "Bộ Tài chính",
         "56/2021/TT-BTC",
         "Tài chính nhà nước, Giáo dục",
         "12/07/2021",
         "HƯỚNG DẪN NỘI DUNG CHI, MỨC CHI CHO HOẠT ĐỘNG KIỂM ĐỊNH CHẤT LƯỢNG GIÁO DỤC VÀ CÔNG NHẬN ĐẠT CHUẨN QUỐC GIA ĐỐI VỚI CƠ SỞ GIÁO DỤC MẦM NON, CƠ SỞ GIÁO DỤC PHỔ THÔNG VÀ HOẠT ĐỘNG KIỂM ĐỊNH CHẤT LƯỢNG GIÁO DỤC ĐỐI VỚI CƠ SỞ GIÁO DỤC THƯỜNG XUYÊN"
        ],
        [
         "4",
         "5",
         "Thông tư",
         "Bộ Giáo dục và Đào tạo",
         "22/2021/TT-BGDĐT",
         "Giáo dục",
         "20/07/2021",
         "QUY ĐỊNH VỀ ĐÁNH GIÁ HỌC SINH TRUNG HỌC CƠ SỞ VÀ HỌC SINH TRUNG HỌC PHỔ THÔNG"
        ]
       ],
       "shape": {
        "columns": 7,
        "rows": 5
       }
      },
      "text/html": [
       "<div>\n",
       "<style scoped>\n",
       "    .dataframe tbody tr th:only-of-type {\n",
       "        vertical-align: middle;\n",
       "    }\n",
       "\n",
       "    .dataframe tbody tr th {\n",
       "        vertical-align: top;\n",
       "    }\n",
       "\n",
       "    .dataframe thead th {\n",
       "        text-align: right;\n",
       "    }\n",
       "</style>\n",
       "<table border=\"1\" class=\"dataframe\">\n",
       "  <thead>\n",
       "    <tr style=\"text-align: right;\">\n",
       "      <th></th>\n",
       "      <th>STT</th>\n",
       "      <th>Loại Văn Bản</th>\n",
       "      <th>Nơi Ban Hành</th>\n",
       "      <th>Số Hiệu</th>\n",
       "      <th>Lĩnh Vực - Ngành</th>\n",
       "      <th>Ngày Ban Hành</th>\n",
       "      <th>Chủ Đề</th>\n",
       "    </tr>\n",
       "  </thead>\n",
       "  <tbody>\n",
       "    <tr>\n",
       "      <th>0</th>\n",
       "      <td>1</td>\n",
       "      <td>Thông tư</td>\n",
       "      <td>Bộ Giáo dục và Đào tạo</td>\n",
       "      <td>17/2021/TT-BGDĐT</td>\n",
       "      <td>Giáo dục</td>\n",
       "      <td>22/06/2021</td>\n",
       "      <td>QUY ĐỊNH VỀ CHUẨN CHƯƠNG TRÌNH ĐÀO TẠO; XÂY DỰ...</td>\n",
       "    </tr>\n",
       "    <tr>\n",
       "      <th>1</th>\n",
       "      <td>2</td>\n",
       "      <td>Thông tư</td>\n",
       "      <td>Bộ Giáo dục và Đào tạo</td>\n",
       "      <td>18/2021/TT-BGDĐT</td>\n",
       "      <td>Giáo dục</td>\n",
       "      <td>28/06/2021</td>\n",
       "      <td>BAN HÀNH QUY CHẾ TUYỂN SINH VÀ ĐÀO TẠO TRÌNH Đ...</td>\n",
       "    </tr>\n",
       "    <tr>\n",
       "      <th>2</th>\n",
       "      <td>3</td>\n",
       "      <td>Thông tư</td>\n",
       "      <td>Bộ Lao động - Thương binh và Xã hội</td>\n",
       "      <td>05/2021/TT-BLĐTBXH</td>\n",
       "      <td>Giáo dục</td>\n",
       "      <td>07/07/2021</td>\n",
       "      <td>QUY ĐỊNH QUY CHẾ TUYỂN SINH VÀ XÁC ĐỊNH CHỈ TI...</td>\n",
       "    </tr>\n",
       "    <tr>\n",
       "      <th>3</th>\n",
       "      <td>4</td>\n",
       "      <td>Thông tư</td>\n",
       "      <td>Bộ Tài chính</td>\n",
       "      <td>56/2021/TT-BTC</td>\n",
       "      <td>Tài chính nhà nước, Giáo dục</td>\n",
       "      <td>12/07/2021</td>\n",
       "      <td>HƯỚNG DẪN NỘI DUNG CHI, MỨC CHI CHO HOẠT ĐỘNG ...</td>\n",
       "    </tr>\n",
       "    <tr>\n",
       "      <th>4</th>\n",
       "      <td>5</td>\n",
       "      <td>Thông tư</td>\n",
       "      <td>Bộ Giáo dục và Đào tạo</td>\n",
       "      <td>22/2021/TT-BGDĐT</td>\n",
       "      <td>Giáo dục</td>\n",
       "      <td>20/07/2021</td>\n",
       "      <td>QUY ĐỊNH VỀ ĐÁNH GIÁ HỌC SINH TRUNG HỌC CƠ SỞ ...</td>\n",
       "    </tr>\n",
       "  </tbody>\n",
       "</table>\n",
       "</div>"
      ],
      "text/plain": [
       "   STT Loại Văn Bản                         Nơi Ban Hành             Số Hiệu  \\\n",
       "0    1     Thông tư               Bộ Giáo dục và Đào tạo    17/2021/TT-BGDĐT   \n",
       "1    2     Thông tư               Bộ Giáo dục và Đào tạo    18/2021/TT-BGDĐT   \n",
       "2    3     Thông tư  Bộ Lao động - Thương binh và Xã hội  05/2021/TT-BLĐTBXH   \n",
       "3    4     Thông tư                         Bộ Tài chính      56/2021/TT-BTC   \n",
       "4    5     Thông tư               Bộ Giáo dục và Đào tạo    22/2021/TT-BGDĐT   \n",
       "\n",
       "               Lĩnh Vực - Ngành Ngày Ban Hành  \\\n",
       "0                      Giáo dục    22/06/2021   \n",
       "1                      Giáo dục    28/06/2021   \n",
       "2                      Giáo dục    07/07/2021   \n",
       "3  Tài chính nhà nước, Giáo dục    12/07/2021   \n",
       "4                      Giáo dục    20/07/2021   \n",
       "\n",
       "                                              Chủ Đề  \n",
       "0  QUY ĐỊNH VỀ CHUẨN CHƯƠNG TRÌNH ĐÀO TẠO; XÂY DỰ...  \n",
       "1  BAN HÀNH QUY CHẾ TUYỂN SINH VÀ ĐÀO TẠO TRÌNH Đ...  \n",
       "2  QUY ĐỊNH QUY CHẾ TUYỂN SINH VÀ XÁC ĐỊNH CHỈ TI...  \n",
       "3  HƯỚNG DẪN NỘI DUNG CHI, MỨC CHI CHO HOẠT ĐỘNG ...  \n",
       "4  QUY ĐỊNH VỀ ĐÁNH GIÁ HỌC SINH TRUNG HỌC CƠ SỞ ...  "
      ]
     },
     "execution_count": 3,
     "metadata": {},
     "output_type": "execute_result"
    }
   ],
   "source": [
    "df_metadata.head(5)"
   ]
  },
  {
   "cell_type": "code",
   "execution_count": 4,
   "metadata": {},
   "outputs": [
    {
     "name": "stdout",
     "output_type": "stream",
     "text": [
      "Index(['STT', 'Loại Văn Bản', 'Nơi Ban Hành', 'Số Hiệu', 'Lĩnh Vực - Ngành',\n",
      "       'Ngày Ban Hành', 'Chủ Đề'],\n",
      "      dtype='object')\n"
     ]
    },
    {
     "data": {
      "application/vnd.microsoft.datawrangler.viewer.v0+json": {
       "columns": [
        {
         "name": "index",
         "rawType": "object",
         "type": "string"
        },
        {
         "name": "0",
         "rawType": "object",
         "type": "unknown"
        }
       ],
       "ref": "dbc428ef-45f6-4d46-9cd3-85ab8ff25ed4",
       "rows": [
        [
         "STT",
         "int64"
        ],
        [
         "Loại Văn Bản",
         "object"
        ],
        [
         "Nơi Ban Hành",
         "object"
        ],
        [
         "Số Hiệu",
         "object"
        ],
        [
         "Lĩnh Vực - Ngành",
         "object"
        ],
        [
         "Ngày Ban Hành",
         "object"
        ],
        [
         "Chủ Đề",
         "object"
        ]
       ],
       "shape": {
        "columns": 1,
        "rows": 7
       }
      },
      "text/plain": [
       "STT                  int64\n",
       "Loại Văn Bản        object\n",
       "Nơi Ban Hành        object\n",
       "Số Hiệu             object\n",
       "Lĩnh Vực - Ngành    object\n",
       "Ngày Ban Hành       object\n",
       "Chủ Đề              object\n",
       "dtype: object"
      ]
     },
     "execution_count": 4,
     "metadata": {},
     "output_type": "execute_result"
    }
   ],
   "source": [
    "# Lấy danh sách tên các cột\n",
    "column_names = df_metadata.columns\n",
    "\n",
    "# Hiển thị danh sách tên cột\n",
    "print(column_names)\n",
    "\n",
    "# Kiểm tra kiểu dữ liệu của các cột\n",
    "df_metadata.dtypes"
   ]
  },
  {
   "cell_type": "markdown",
   "metadata": {},
   "source": [
    "## 1.2. Files .docx"
   ]
  },
  {
   "cell_type": "markdown",
   "metadata": {},
   "source": [
    "### 1.2.1. FileName"
   ]
  },
  {
   "cell_type": "code",
   "execution_count": 5,
   "metadata": {},
   "outputs": [
    {
     "data": {
      "application/vnd.microsoft.datawrangler.viewer.v0+json": {
       "columns": [
        {
         "name": "index",
         "rawType": "int64",
         "type": "integer"
        },
        {
         "name": "File Name",
         "rawType": "object",
         "type": "string"
        },
        {
         "name": "Index",
         "rawType": "int32",
         "type": "integer"
        }
       ],
       "ref": "3163d5ee-66e7-41db-871d-7b8fea354f0a",
       "rows": [
        [
         "0",
         "1.docx",
         "1"
        ],
        [
         "1",
         "10.docx",
         "10"
        ],
        [
         "2",
         "11.docx",
         "11"
        ],
        [
         "3",
         "12.docx",
         "12"
        ],
        [
         "4",
         "13.docx",
         "13"
        ]
       ],
       "shape": {
        "columns": 2,
        "rows": 5
       }
      },
      "text/html": [
       "<div>\n",
       "<style scoped>\n",
       "    .dataframe tbody tr th:only-of-type {\n",
       "        vertical-align: middle;\n",
       "    }\n",
       "\n",
       "    .dataframe tbody tr th {\n",
       "        vertical-align: top;\n",
       "    }\n",
       "\n",
       "    .dataframe thead th {\n",
       "        text-align: right;\n",
       "    }\n",
       "</style>\n",
       "<table border=\"1\" class=\"dataframe\">\n",
       "  <thead>\n",
       "    <tr style=\"text-align: right;\">\n",
       "      <th></th>\n",
       "      <th>File Name</th>\n",
       "      <th>Index</th>\n",
       "    </tr>\n",
       "  </thead>\n",
       "  <tbody>\n",
       "    <tr>\n",
       "      <th>0</th>\n",
       "      <td>1.docx</td>\n",
       "      <td>1</td>\n",
       "    </tr>\n",
       "    <tr>\n",
       "      <th>1</th>\n",
       "      <td>10.docx</td>\n",
       "      <td>10</td>\n",
       "    </tr>\n",
       "    <tr>\n",
       "      <th>2</th>\n",
       "      <td>11.docx</td>\n",
       "      <td>11</td>\n",
       "    </tr>\n",
       "    <tr>\n",
       "      <th>3</th>\n",
       "      <td>12.docx</td>\n",
       "      <td>12</td>\n",
       "    </tr>\n",
       "    <tr>\n",
       "      <th>4</th>\n",
       "      <td>13.docx</td>\n",
       "      <td>13</td>\n",
       "    </tr>\n",
       "  </tbody>\n",
       "</table>\n",
       "</div>"
      ],
      "text/plain": [
       "  File Name  Index\n",
       "0    1.docx      1\n",
       "1   10.docx     10\n",
       "2   11.docx     11\n",
       "3   12.docx     12\n",
       "4   13.docx     13"
      ]
     },
     "execution_count": 5,
     "metadata": {},
     "output_type": "execute_result"
    }
   ],
   "source": [
    "import os\n",
    "import pandas as pd\n",
    "\n",
    "# Đường dẫn thư mục chứa file .docx\n",
    "# D:\\13_21133021_NguyenTrongDung_LuuTruMonHoc\\data_KLTN\\giao_duc\n",
    "# D:\\13_21133021_NguyenTrongDung_LuuTruMonHoc\\data_KLTN\\giaoThong_VanTai\n",
    "# D:\\13_21133021_NguyenTrongDung_LuuTruMonHoc\\data_KLTN\\honNhan_GiaDinh\n",
    "# D:\\13_21133021_NguyenTrongDung_LuuTruMonHoc\\data_KLTN\\laoDong_TienLuong\n",
    "# D:\\13_21133021_NguyenTrongDung_LuuTruMonHoc\\data_KLTN\\trachNhiem_HinhSu\n",
    "\n",
    "folder_path = r\"D:\\13_21133021_NguyenTrongDung_LuuTruMonHoc\\data_KLTN\\giao_duc\"\n",
    "# Lấy danh sách tất cả các file .docx\n",
    "docx_files = [file for file in os.listdir(folder_path) if file.endswith(\".docx\")]\n",
    "\n",
    "# Tạo DataFrame hiển thị danh sách file\n",
    "df_files = pd.DataFrame(docx_files, columns=[\"File Name\"])\n",
    "\n",
    "# Thêm cột Index, chỉ lấy số từ tên file\n",
    "df_files[\"Index\"] = df_files[\"File Name\"].str.extract(r\"(\\d+)\").astype(int)\n",
    "\n",
    "df_files.head(5)"
   ]
  },
  {
   "cell_type": "code",
   "execution_count": 6,
   "metadata": {},
   "outputs": [
    {
     "data": {
      "application/vnd.microsoft.datawrangler.viewer.v0+json": {
       "columns": [
        {
         "name": "index",
         "rawType": "object",
         "type": "string"
        },
        {
         "name": "0",
         "rawType": "object",
         "type": "unknown"
        }
       ],
       "ref": "2cb093e7-4c60-4668-a504-feff5ccf52bf",
       "rows": [
        [
         "File Name",
         "object"
        ],
        [
         "Index",
         "int32"
        ]
       ],
       "shape": {
        "columns": 1,
        "rows": 2
       }
      },
      "text/plain": [
       "File Name    object\n",
       "Index         int32\n",
       "dtype: object"
      ]
     },
     "execution_count": 6,
     "metadata": {},
     "output_type": "execute_result"
    }
   ],
   "source": [
    "df_files.dtypes"
   ]
  },
  {
   "cell_type": "markdown",
   "metadata": {},
   "source": [
    "### 1.2.2. Nội dung 1 file"
   ]
  },
  {
   "cell_type": "code",
   "execution_count": 7,
   "metadata": {},
   "outputs": [],
   "source": [
    "import docx\n",
    "import re\n",
    "import json\n",
    "import os"
   ]
  },
  {
   "cell_type": "code",
   "execution_count": 8,
   "metadata": {},
   "outputs": [],
   "source": [
    "# Hàm để trích xuất số từ tên file (ví dụ \"1.docx\" -> 1)\n",
    "def extract_number_from_filename(filename):\n",
    "    match = re.match(r\"(\\d+)\\.docx\", filename)\n",
    "    if match:\n",
    "        return match.group(1)\n",
    "    return None"
   ]
  },
  {
   "cell_type": "code",
   "execution_count": 9,
   "metadata": {},
   "outputs": [],
   "source": [
    "# Hàm lưu dữ liệu ra file JSON\n",
    "def save_to_json(all_data, output_json_path):\n",
    "    with open(output_json_path, 'w', encoding='utf-8') as json_file:\n",
    "        json.dump(all_data, json_file, ensure_ascii=False, indent=4)\n",
    "    print(f\"File đã được lưu tại: {output_json_path}\")"
   ]
  },
  {
   "cell_type": "code",
   "execution_count": 10,
   "metadata": {},
   "outputs": [],
   "source": [
    "# Đọc file .docx và trích xuất nội dung theo các trường: Chương, Mục, Tiểu mục, Điều, Nội dung Điều\n",
    "def process_docx(file_path, all_data):\n",
    "    document = docx.Document(file_path)\n",
    "\n",
    "    stt = extract_number_from_filename(os.path.basename(file_path))\n",
    "    # Lọc ra thông tin của STT từ DataFrame\n",
    "    metadata_row = df_metadata[df_metadata['STT'] == int(stt)].iloc[0] \\\n",
    "        if not df_metadata[df_metadata['STT'] == int(stt)].empty else None\n",
    "    \n",
    "    current_chapter = None\n",
    "    current_section = None\n",
    "    current_mini_section = None\n",
    "    \n",
    "    # Regex để nhận diện \"Chương\", \"Mục\", \"Tiểu mục\", \"Điều\"\n",
    "    chapter_regex = re.compile(r\"^Chương\\s+([IVXLCDM]+)\")\n",
    "    section_regex = re.compile(r\"^Mục\\s+(\\d+)\\.\")  # Nhận diện \"Mục 1.\", \"Mục 2.\"...\n",
    "    mini_section_regex = re.compile(r\"^Tiểu mục\\s+(\\d+)\\.\")  # Nhận diện \"Tiểu mục 1.\", \"Tiểu mục 2.\"...\n",
    "    article_regex = re.compile(r\"^Điều\\s+(\\d+)\\.\")  # Nhận diện \"Điều 1.\", \"Điều 2.\"...\n",
    "\n",
    "    for i in range(len(document.paragraphs)):\n",
    "        paragraph_text = document.paragraphs[i].text.strip()\n",
    "\n",
    "        # Xử lý Chương\n",
    "        match_chapter = chapter_regex.match(paragraph_text)\n",
    "        if match_chapter:\n",
    "            current_chapter = paragraph_text\n",
    "            current_section = None\n",
    "            current_mini_section = None\n",
    "            if i + 1 < len(document.paragraphs):\n",
    "                next_paragraph = document.paragraphs[i + 1].text.strip()\n",
    "                if not section_regex.match(paragraph_text) \\\n",
    "                    or not mini_section_regex.match(paragraph_text) \\\n",
    "                    or not article_regex.match(paragraph_text):\n",
    "                    current_chapter += f\": {next_paragraph}\"\n",
    "            continue\n",
    "                \n",
    "        # Xử lý Mục\n",
    "        match_section = section_regex.match(paragraph_text)\n",
    "        if match_section:\n",
    "            current_section = paragraph_text\n",
    "            current_mini_section = None\n",
    "            continue\n",
    "                \n",
    "        # Xử lý Tiểu mục\n",
    "        match_mini_section = mini_section_regex.match(paragraph_text)\n",
    "        if match_mini_section:\n",
    "            current_mini_section = paragraph_text\n",
    "            continue\n",
    "        \n",
    "        # Xử lý Điều\n",
    "        match_article = article_regex.match(paragraph_text)\n",
    "        if match_article:\n",
    "            article = paragraph_text\n",
    "            content = []\n",
    "\n",
    "            for j in range(i + 1, len(document.paragraphs)):\n",
    "                next_paragraph = document.paragraphs[j].text.strip()\n",
    "                if chapter_regex.match(next_paragraph) or section_regex.match(next_paragraph) \\\n",
    "                        or mini_section_regex.match(next_paragraph) \\\n",
    "                        or article_regex.match(next_paragraph):\n",
    "                    break\n",
    "                content.append(next_paragraph)\n",
    "            \n",
    "            content_text = \"\\n\".join(content)\n",
    "\n",
    "            all_data.append({\n",
    "                        \"STT\": stt,\n",
    "                        \"LoaiVanBan\": metadata_row[\"Loại Văn Bản\"],\n",
    "                        \"NoiBanHanh\": metadata_row[\"Nơi Ban Hành\"],\n",
    "                        \"SoHieu\": metadata_row[\"Số Hiệu\"],\n",
    "                        \"LinhVucNganh\": metadata_row[\"Lĩnh Vực - Ngành\"],\n",
    "                        \"NgayBanHanh\": metadata_row[\"Ngày Ban Hành\"],\n",
    "                        \"ChuDe\": metadata_row[\"Chủ Đề\"],\n",
    "                        \"Chapter\": current_chapter,\n",
    "                        \"Section\": current_section if current_section else None,\n",
    "                        \"MiniSection\": current_mini_section if current_mini_section else None,\n",
    "                        \"Article\": article,\n",
    "                        \"OriginalContent\": content_text,\n",
    "                        \"SemanticChunk-Content\": content_text\n",
    "                    })\n",
    "\n",
    "    return all_data"
   ]
  },
  {
   "cell_type": "code",
   "execution_count": 11,
   "metadata": {},
   "outputs": [],
   "source": [
    "# Hàm xử lý toàn bộ thư mục chứa file .docx\n",
    "def process_folder(folder_path, output_json_path):\n",
    "    all_data = []\n",
    "    \n",
    "    # Lặp qua tất cả các file .docx trong thư mục\n",
    "    for filename in os.listdir(folder_path):\n",
    "        if filename.endswith(\".docx\"):\n",
    "            file_path = os.path.join(folder_path, filename)\n",
    "            print(f\"Đang xử lý file: {filename}\")\n",
    "            \n",
    "            # Lấy dữ liệu từ file .docx và thêm vào danh sách all_data\n",
    "            all_data = process_docx(file_path, all_data)\n",
    "    \n",
    "    # Lưu tất cả dữ liệu vào file JSON\n",
    "    save_to_json(all_data, output_json_path)"
   ]
  },
  {
   "cell_type": "code",
   "execution_count": 12,
   "metadata": {},
   "outputs": [
    {
     "name": "stdout",
     "output_type": "stream",
     "text": [
      "Đang xử lý file: 1.docx\n",
      "Đang xử lý file: 10.docx\n",
      "Đang xử lý file: 11.docx\n",
      "Đang xử lý file: 12.docx\n",
      "Đang xử lý file: 13.docx\n",
      "Đang xử lý file: 14.docx\n",
      "Đang xử lý file: 15.docx\n",
      "Đang xử lý file: 16.docx\n",
      "Đang xử lý file: 17.docx\n",
      "Đang xử lý file: 18.docx\n",
      "Đang xử lý file: 19.docx\n",
      "Đang xử lý file: 2.docx\n",
      "Đang xử lý file: 20.docx\n",
      "Đang xử lý file: 21.docx\n",
      "Đang xử lý file: 22.docx\n",
      "Đang xử lý file: 23.docx\n",
      "Đang xử lý file: 24.docx\n",
      "Đang xử lý file: 25.docx\n",
      "Đang xử lý file: 26.docx\n",
      "Đang xử lý file: 27.docx\n",
      "Đang xử lý file: 28.docx\n",
      "Đang xử lý file: 29.docx\n",
      "Đang xử lý file: 3.docx\n",
      "Đang xử lý file: 30.docx\n",
      "Đang xử lý file: 31.docx\n",
      "Đang xử lý file: 32.docx\n",
      "Đang xử lý file: 33.docx\n",
      "Đang xử lý file: 34.docx\n",
      "Đang xử lý file: 35.docx\n",
      "Đang xử lý file: 36.docx\n",
      "Đang xử lý file: 37.docx\n",
      "Đang xử lý file: 38.docx\n",
      "Đang xử lý file: 39.docx\n",
      "Đang xử lý file: 4.docx\n",
      "Đang xử lý file: 40.docx\n",
      "Đang xử lý file: 41.docx\n",
      "Đang xử lý file: 42.docx\n",
      "Đang xử lý file: 43.docx\n",
      "Đang xử lý file: 44.docx\n",
      "Đang xử lý file: 45.docx\n",
      "Đang xử lý file: 46.docx\n",
      "Đang xử lý file: 47.docx\n",
      "Đang xử lý file: 48.docx\n",
      "Đang xử lý file: 49.docx\n",
      "Đang xử lý file: 5.docx\n",
      "Đang xử lý file: 50.docx\n",
      "Đang xử lý file: 51.docx\n",
      "Đang xử lý file: 6.docx\n",
      "Đang xử lý file: 7.docx\n",
      "Đang xử lý file: 8.docx\n",
      "Đang xử lý file: 9.docx\n",
      "File đã được lưu tại: D:\\13_21133021_NguyenTrongDung_LuuTruMonHoc\\data_KLTN\\giao_duc\\content_giao_duc_Extracted.json\n"
     ]
    }
   ],
   "source": [
    "# Gọi hàm xử lý toàn bộ thư mục\n",
    "# D:\\13_21133021_NguyenTrongDung_LuuTruMonHoc\\data_KLTN\\giao_duc\n",
    "# D:\\13_21133021_NguyenTrongDung_LuuTruMonHoc\\data_KLTN\\giaoThong_VanTai\n",
    "# D:\\13_21133021_NguyenTrongDung_LuuTruMonHoc\\data_KLTN\\honNhan_GiaDinh\n",
    "# D:\\13_21133021_NguyenTrongDung_LuuTruMonHoc\\data_KLTN\\laoDong_TienLuong\n",
    "# D:\\13_21133021_NguyenTrongDung_LuuTruMonHoc\\data_KLTN\\trachNhiem_HinhSu\n",
    "\n",
    "folder_path = r\"D:\\13_21133021_NguyenTrongDung_LuuTruMonHoc\\data_KLTN\\giao_duc\"\n",
    "output_json_path = r\"D:\\13_21133021_NguyenTrongDung_LuuTruMonHoc\\data_KLTN\\giao_duc\\content_giao_duc_Extracted.json\"\n",
    "process_folder(folder_path, output_json_path)"
   ]
  }
 ],
 "metadata": {
  "kernelspec": {
   "display_name": "Python 3",
   "language": "python",
   "name": "python3"
  },
  "language_info": {
   "codemirror_mode": {
    "name": "ipython",
    "version": 3
   },
   "file_extension": ".py",
   "mimetype": "text/x-python",
   "name": "python",
   "nbconvert_exporter": "python",
   "pygments_lexer": "ipython3",
   "version": "3.9.8"
  }
 },
 "nbformat": 4,
 "nbformat_minor": 2
}
