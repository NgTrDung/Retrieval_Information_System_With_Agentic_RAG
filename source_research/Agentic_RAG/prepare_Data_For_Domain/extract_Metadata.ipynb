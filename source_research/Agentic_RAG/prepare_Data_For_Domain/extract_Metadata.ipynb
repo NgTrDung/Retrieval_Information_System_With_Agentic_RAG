{
 "cells": [
  {
   "cell_type": "markdown",
   "metadata": {},
   "source": [
    "# 1. Folder giao_duc"
   ]
  },
  {
   "cell_type": "markdown",
   "metadata": {},
   "source": [
    "## 1.1. File .xlsx"
   ]
  },
  {
   "cell_type": "code",
   "execution_count": 1,
   "metadata": {},
   "outputs": [],
   "source": [
    "import pandas as pd\n",
    "import os"
   ]
  },
  {
   "cell_type": "code",
   "execution_count": 2,
   "metadata": {},
   "outputs": [],
   "source": [
    "# Thay đổi đường dẫn thư mục chứa file\n",
    "# D:\\13_21133021_NguyenTrongDung_LuuTruMonHoc\\data_KLTN\\giao_duc\n",
    "# D:\\13_21133021_NguyenTrongDung_LuuTruMonHoc\\data_KLTN\\giaoThong_VanTai\n",
    "# D:\\13_21133021_NguyenTrongDung_LuuTruMonHoc\\data_KLTN\\honNhan_GiaDinh\n",
    "# D:\\13_21133021_NguyenTrongDung_LuuTruMonHoc\\data_KLTN\\laoDong_TienLuong\n",
    "# D:\\13_21133021_NguyenTrongDung_LuuTruMonHoc\\data_KLTN\\trachNhiem_HinhSu\n",
    "\n",
    "folder_path = r\"D:\\13_21133021_NguyenTrongDung_LuuTruMonHoc\\data_KLTN\\trachNhiem_HinhSu\" \n",
    "metadata_file = os.path.join(folder_path, \"metadata.xlsx\")\n",
    "\n",
    "# Đọc file metadata.xlsx thành DataFrame\n",
    "df_metadata = pd.read_excel(metadata_file)"
   ]
  },
  {
   "cell_type": "code",
   "execution_count": 3,
   "metadata": {},
   "outputs": [
    {
     "data": {
      "application/vnd.microsoft.datawrangler.viewer.v0+json": {
       "columns": [
        {
         "name": "index",
         "rawType": "int64",
         "type": "integer"
        },
        {
         "name": "STT",
         "rawType": "int64",
         "type": "integer"
        },
        {
         "name": "Loại Văn Bản",
         "rawType": "object",
         "type": "string"
        },
        {
         "name": "Nơi Ban Hành",
         "rawType": "object",
         "type": "string"
        },
        {
         "name": "Số Hiệu",
         "rawType": "object",
         "type": "string"
        },
        {
         "name": "Lĩnh Vực - Ngành",
         "rawType": "object",
         "type": "string"
        },
        {
         "name": "Ngày Ban Hành",
         "rawType": "object",
         "type": "string"
        },
        {
         "name": "Chủ Đề",
         "rawType": "object",
         "type": "string"
        }
       ],
       "ref": "3b9cc6b8-b26a-4a38-b731-d8bad924d411",
       "rows": [
        [
         "0",
         "1",
         "Thông tư",
         "Bộ Công An",
         "64/2019/TT-BCA",
         "Trách nhiệm hình sự, Thủ tục Tố tụng, Quyền dân sự",
         "28/11/2019",
         "QUY ĐỊNH VỀ GIẢI QUYẾT TRƯỜNG HỢP NGƯỜI ĐƯỢC THA TÙ TRƯỚC THỜI HẠN CÓ ĐIỀU KIỆN, NGƯỜI ĐƯỢC HOÃN CHẤP HÀNH ÁN PHẠT TÙ, NGƯỜI ĐƯỢC HƯỞNG ÁN TREO, CẢI TẠO KHÔNG GIAM GIỮ THAY ĐỔI NƠI CƯ TRÚ"
        ],
        [
         "1",
         "2",
         "Thông tư",
         "Bộ Quốc phòng",
         "181/2019/TT-BQP",
         "Trách nhiệm hình sự, Thủ tục Tố tụng",
         "03/12/2019",
         "QUY ĐỊNH VỀ GIẢI QUYẾT TRƯỜNG HỢP NGƯỜI ĐƯỢC THA TÙ TRƯỚC THỜI HẠN CÓ ĐIỀU KIỆN, NGƯỜI ĐƯỢC HOÃN CHẤP HÀNH ÁN PHẠT TÙ, NGƯỜI ĐƯỢC HƯỞNG ÁN TREO, NGƯỜI CHẤP HÀNH ÁN PHẠT CẢI TẠO KHÔNG GIAM GIỮ DO QUÂN ĐỘI QUẢN LÝ, THI HÀNH THAY ĐỔI NƠI CƯ TRÚ, NƠI LÀM VIỆC"
        ],
        [
         "2",
         "3",
         "Thông tư",
         "Bộ Quốc phòng",
         "182/2019/TT-BQP",
         "Trách nhiệm hình sự, Thủ tục Tố tụng",
         "04/12/2019",
         "QUY ĐỊNH VIỆC PHẠM NHÂN GẶP THÂN NHÂN; NHẬN, GỬI THƯ; NHẬN QUÀ VÀ LIÊN LẠC VỚI THÂN NHÂN BẰNG ĐIỆN THOẠI"
        ],
        [
         "3",
         "4",
         "Thông tư",
         "Bộ Công An",
         "81/2019/TT-BCA",
         "Trách nhiệm hình sự, Thủ tục Tố tụng, Quyền dân sự",
         "27/12/2019",
         "QUY ĐỊNH VỀ THỰC HIỆN DÂN CHỦ TRONG THI HÀNH TẠM GIỮ, TẠM GIAM CỦA LỰC LƯỢNG CÔNG AN NHÂN DÂN"
        ],
        [
         "4",
         "5",
         "Thông tư",
         "Bộ Tài nguyên và Môi trường",
         "29/2019/TT-BNNPTNT",
         "Vi phạm hành chính, Trách nhiệm hình sự, Tài nguyên - Môi trường",
         "31/12/2019",
         "QUY ĐỊNH XỬ LÝ ĐỘNG VẬT RỪNG LÀ TANG VẬT, VẬT CHỨNG; ĐỘNG VẬT RỪNG DO TỔ CHỨC, CÁ NHÂN TỰ NGUYỆN GIAO NỘP NHÀ NƯỚC"
        ]
       ],
       "shape": {
        "columns": 7,
        "rows": 5
       }
      },
      "text/html": [
       "<div>\n",
       "<style scoped>\n",
       "    .dataframe tbody tr th:only-of-type {\n",
       "        vertical-align: middle;\n",
       "    }\n",
       "\n",
       "    .dataframe tbody tr th {\n",
       "        vertical-align: top;\n",
       "    }\n",
       "\n",
       "    .dataframe thead th {\n",
       "        text-align: right;\n",
       "    }\n",
       "</style>\n",
       "<table border=\"1\" class=\"dataframe\">\n",
       "  <thead>\n",
       "    <tr style=\"text-align: right;\">\n",
       "      <th></th>\n",
       "      <th>STT</th>\n",
       "      <th>Loại Văn Bản</th>\n",
       "      <th>Nơi Ban Hành</th>\n",
       "      <th>Số Hiệu</th>\n",
       "      <th>Lĩnh Vực - Ngành</th>\n",
       "      <th>Ngày Ban Hành</th>\n",
       "      <th>Chủ Đề</th>\n",
       "    </tr>\n",
       "  </thead>\n",
       "  <tbody>\n",
       "    <tr>\n",
       "      <th>0</th>\n",
       "      <td>1</td>\n",
       "      <td>Thông tư</td>\n",
       "      <td>Bộ Công An</td>\n",
       "      <td>64/2019/TT-BCA</td>\n",
       "      <td>Trách nhiệm hình sự, Thủ tục Tố tụng, Quyền dâ...</td>\n",
       "      <td>28/11/2019</td>\n",
       "      <td>QUY ĐỊNH VỀ GIẢI QUYẾT TRƯỜNG HỢP NGƯỜI ĐƯỢC T...</td>\n",
       "    </tr>\n",
       "    <tr>\n",
       "      <th>1</th>\n",
       "      <td>2</td>\n",
       "      <td>Thông tư</td>\n",
       "      <td>Bộ Quốc phòng</td>\n",
       "      <td>181/2019/TT-BQP</td>\n",
       "      <td>Trách nhiệm hình sự, Thủ tục Tố tụng</td>\n",
       "      <td>03/12/2019</td>\n",
       "      <td>QUY ĐỊNH VỀ GIẢI QUYẾT TRƯỜNG HỢP NGƯỜI ĐƯỢC T...</td>\n",
       "    </tr>\n",
       "    <tr>\n",
       "      <th>2</th>\n",
       "      <td>3</td>\n",
       "      <td>Thông tư</td>\n",
       "      <td>Bộ Quốc phòng</td>\n",
       "      <td>182/2019/TT-BQP</td>\n",
       "      <td>Trách nhiệm hình sự, Thủ tục Tố tụng</td>\n",
       "      <td>04/12/2019</td>\n",
       "      <td>QUY ĐỊNH VIỆC PHẠM NHÂN GẶP THÂN NHÂN; NHẬN, G...</td>\n",
       "    </tr>\n",
       "    <tr>\n",
       "      <th>3</th>\n",
       "      <td>4</td>\n",
       "      <td>Thông tư</td>\n",
       "      <td>Bộ Công An</td>\n",
       "      <td>81/2019/TT-BCA</td>\n",
       "      <td>Trách nhiệm hình sự, Thủ tục Tố tụng, Quyền dâ...</td>\n",
       "      <td>27/12/2019</td>\n",
       "      <td>QUY ĐỊNH VỀ THỰC HIỆN DÂN CHỦ TRONG THI HÀNH T...</td>\n",
       "    </tr>\n",
       "    <tr>\n",
       "      <th>4</th>\n",
       "      <td>5</td>\n",
       "      <td>Thông tư</td>\n",
       "      <td>Bộ Tài nguyên và Môi trường</td>\n",
       "      <td>29/2019/TT-BNNPTNT</td>\n",
       "      <td>Vi phạm hành chính, Trách nhiệm hình sự, Tài n...</td>\n",
       "      <td>31/12/2019</td>\n",
       "      <td>QUY ĐỊNH XỬ LÝ ĐỘNG VẬT RỪNG LÀ TANG VẬT, VẬT ...</td>\n",
       "    </tr>\n",
       "  </tbody>\n",
       "</table>\n",
       "</div>"
      ],
      "text/plain": [
       "   STT Loại Văn Bản                 Nơi Ban Hành             Số Hiệu  \\\n",
       "0    1     Thông tư                   Bộ Công An      64/2019/TT-BCA   \n",
       "1    2     Thông tư                Bộ Quốc phòng     181/2019/TT-BQP   \n",
       "2    3     Thông tư                Bộ Quốc phòng     182/2019/TT-BQP   \n",
       "3    4     Thông tư                   Bộ Công An      81/2019/TT-BCA   \n",
       "4    5     Thông tư  Bộ Tài nguyên và Môi trường  29/2019/TT-BNNPTNT   \n",
       "\n",
       "                                    Lĩnh Vực - Ngành Ngày Ban Hành  \\\n",
       "0  Trách nhiệm hình sự, Thủ tục Tố tụng, Quyền dâ...    28/11/2019   \n",
       "1               Trách nhiệm hình sự, Thủ tục Tố tụng    03/12/2019   \n",
       "2               Trách nhiệm hình sự, Thủ tục Tố tụng    04/12/2019   \n",
       "3  Trách nhiệm hình sự, Thủ tục Tố tụng, Quyền dâ...    27/12/2019   \n",
       "4  Vi phạm hành chính, Trách nhiệm hình sự, Tài n...    31/12/2019   \n",
       "\n",
       "                                              Chủ Đề  \n",
       "0  QUY ĐỊNH VỀ GIẢI QUYẾT TRƯỜNG HỢP NGƯỜI ĐƯỢC T...  \n",
       "1  QUY ĐỊNH VỀ GIẢI QUYẾT TRƯỜNG HỢP NGƯỜI ĐƯỢC T...  \n",
       "2  QUY ĐỊNH VIỆC PHẠM NHÂN GẶP THÂN NHÂN; NHẬN, G...  \n",
       "3  QUY ĐỊNH VỀ THỰC HIỆN DÂN CHỦ TRONG THI HÀNH T...  \n",
       "4  QUY ĐỊNH XỬ LÝ ĐỘNG VẬT RỪNG LÀ TANG VẬT, VẬT ...  "
      ]
     },
     "execution_count": 3,
     "metadata": {},
     "output_type": "execute_result"
    }
   ],
   "source": [
    "df_metadata.head(5)"
   ]
  },
  {
   "cell_type": "code",
   "execution_count": 4,
   "metadata": {},
   "outputs": [
    {
     "name": "stdout",
     "output_type": "stream",
     "text": [
      "Index(['STT', 'Loại Văn Bản', 'Nơi Ban Hành', 'Số Hiệu', 'Lĩnh Vực - Ngành',\n",
      "       'Ngày Ban Hành', 'Chủ Đề'],\n",
      "      dtype='object')\n"
     ]
    },
    {
     "data": {
      "application/vnd.microsoft.datawrangler.viewer.v0+json": {
       "columns": [
        {
         "name": "index",
         "rawType": "object",
         "type": "string"
        },
        {
         "name": "0",
         "rawType": "object",
         "type": "unknown"
        }
       ],
       "ref": "8a23f102-e281-4337-bbe7-67e5c341e115",
       "rows": [
        [
         "STT",
         "int64"
        ],
        [
         "Loại Văn Bản",
         "object"
        ],
        [
         "Nơi Ban Hành",
         "object"
        ],
        [
         "Số Hiệu",
         "object"
        ],
        [
         "Lĩnh Vực - Ngành",
         "object"
        ],
        [
         "Ngày Ban Hành",
         "object"
        ],
        [
         "Chủ Đề",
         "object"
        ]
       ],
       "shape": {
        "columns": 1,
        "rows": 7
       }
      },
      "text/plain": [
       "STT                  int64\n",
       "Loại Văn Bản        object\n",
       "Nơi Ban Hành        object\n",
       "Số Hiệu             object\n",
       "Lĩnh Vực - Ngành    object\n",
       "Ngày Ban Hành       object\n",
       "Chủ Đề              object\n",
       "dtype: object"
      ]
     },
     "execution_count": 4,
     "metadata": {},
     "output_type": "execute_result"
    }
   ],
   "source": [
    "# Lấy danh sách tên các cột\n",
    "column_names = df_metadata.columns\n",
    "\n",
    "# Hiển thị danh sách tên cột\n",
    "print(column_names)\n",
    "\n",
    "# Kiểm tra kiểu dữ liệu của các cột\n",
    "df_metadata.dtypes"
   ]
  },
  {
   "cell_type": "markdown",
   "metadata": {},
   "source": [
    "## 1.2. Files .docx"
   ]
  },
  {
   "cell_type": "markdown",
   "metadata": {},
   "source": [
    "### 1.2.1. FileName"
   ]
  },
  {
   "cell_type": "code",
   "execution_count": 5,
   "metadata": {},
   "outputs": [
    {
     "data": {
      "application/vnd.microsoft.datawrangler.viewer.v0+json": {
       "columns": [
        {
         "name": "index",
         "rawType": "int64",
         "type": "integer"
        },
        {
         "name": "File Name",
         "rawType": "object",
         "type": "string"
        },
        {
         "name": "Index",
         "rawType": "int32",
         "type": "integer"
        }
       ],
       "ref": "08de5c1e-0de6-4bb1-825d-a9336be64bcc",
       "rows": [
        [
         "0",
         "1.docx",
         "1"
        ],
        [
         "1",
         "10.docx",
         "10"
        ],
        [
         "2",
         "11.docx",
         "11"
        ],
        [
         "3",
         "12.docx",
         "12"
        ],
        [
         "4",
         "13.docx",
         "13"
        ]
       ],
       "shape": {
        "columns": 2,
        "rows": 5
       }
      },
      "text/html": [
       "<div>\n",
       "<style scoped>\n",
       "    .dataframe tbody tr th:only-of-type {\n",
       "        vertical-align: middle;\n",
       "    }\n",
       "\n",
       "    .dataframe tbody tr th {\n",
       "        vertical-align: top;\n",
       "    }\n",
       "\n",
       "    .dataframe thead th {\n",
       "        text-align: right;\n",
       "    }\n",
       "</style>\n",
       "<table border=\"1\" class=\"dataframe\">\n",
       "  <thead>\n",
       "    <tr style=\"text-align: right;\">\n",
       "      <th></th>\n",
       "      <th>File Name</th>\n",
       "      <th>Index</th>\n",
       "    </tr>\n",
       "  </thead>\n",
       "  <tbody>\n",
       "    <tr>\n",
       "      <th>0</th>\n",
       "      <td>1.docx</td>\n",
       "      <td>1</td>\n",
       "    </tr>\n",
       "    <tr>\n",
       "      <th>1</th>\n",
       "      <td>10.docx</td>\n",
       "      <td>10</td>\n",
       "    </tr>\n",
       "    <tr>\n",
       "      <th>2</th>\n",
       "      <td>11.docx</td>\n",
       "      <td>11</td>\n",
       "    </tr>\n",
       "    <tr>\n",
       "      <th>3</th>\n",
       "      <td>12.docx</td>\n",
       "      <td>12</td>\n",
       "    </tr>\n",
       "    <tr>\n",
       "      <th>4</th>\n",
       "      <td>13.docx</td>\n",
       "      <td>13</td>\n",
       "    </tr>\n",
       "  </tbody>\n",
       "</table>\n",
       "</div>"
      ],
      "text/plain": [
       "  File Name  Index\n",
       "0    1.docx      1\n",
       "1   10.docx     10\n",
       "2   11.docx     11\n",
       "3   12.docx     12\n",
       "4   13.docx     13"
      ]
     },
     "execution_count": 5,
     "metadata": {},
     "output_type": "execute_result"
    }
   ],
   "source": [
    "import os\n",
    "import pandas as pd\n",
    "\n",
    "# Đường dẫn thư mục chứa file .docx\n",
    "# D:\\13_21133021_NguyenTrongDung_LuuTruMonHoc\\data_KLTN\\giao_duc\n",
    "# D:\\13_21133021_NguyenTrongDung_LuuTruMonHoc\\data_KLTN\\giaoThong_VanTai\n",
    "# D:\\13_21133021_NguyenTrongDung_LuuTruMonHoc\\data_KLTN\\honNhan_GiaDinh\n",
    "# D:\\13_21133021_NguyenTrongDung_LuuTruMonHoc\\data_KLTN\\laoDong_TienLuong\n",
    "# D:\\13_21133021_NguyenTrongDung_LuuTruMonHoc\\data_KLTN\\trachNhiem_HinhSu\n",
    "\n",
    "folder_path = r\"D:\\13_21133021_NguyenTrongDung_LuuTruMonHoc\\data_KLTN\\trachNhiem_HinhSu\"\n",
    "# Lấy danh sách tất cả các file .docx\n",
    "docx_files = [file for file in os.listdir(folder_path) if file.endswith(\".docx\")]\n",
    "\n",
    "# Tạo DataFrame hiển thị danh sách file\n",
    "df_files = pd.DataFrame(docx_files, columns=[\"File Name\"])\n",
    "\n",
    "# Thêm cột Index, chỉ lấy số từ tên file\n",
    "df_files[\"Index\"] = df_files[\"File Name\"].str.extract(r\"(\\d+)\").astype(int)\n",
    "\n",
    "df_files.head(5)"
   ]
  },
  {
   "cell_type": "code",
   "execution_count": 6,
   "metadata": {},
   "outputs": [
    {
     "data": {
      "application/vnd.microsoft.datawrangler.viewer.v0+json": {
       "columns": [
        {
         "name": "index",
         "rawType": "object",
         "type": "string"
        },
        {
         "name": "0",
         "rawType": "object",
         "type": "unknown"
        }
       ],
       "ref": "b5fdec58-a766-41dc-9d10-84ea53f5018a",
       "rows": [
        [
         "File Name",
         "object"
        ],
        [
         "Index",
         "int32"
        ]
       ],
       "shape": {
        "columns": 1,
        "rows": 2
       }
      },
      "text/plain": [
       "File Name    object\n",
       "Index         int32\n",
       "dtype: object"
      ]
     },
     "execution_count": 6,
     "metadata": {},
     "output_type": "execute_result"
    }
   ],
   "source": [
    "df_files.dtypes"
   ]
  },
  {
   "cell_type": "markdown",
   "metadata": {},
   "source": [
    "### 1.2.2. Nội dung 1 file"
   ]
  },
  {
   "cell_type": "code",
   "execution_count": 7,
   "metadata": {},
   "outputs": [],
   "source": [
    "import docx\n",
    "import re\n",
    "import json\n",
    "import os"
   ]
  },
  {
   "cell_type": "code",
   "execution_count": 8,
   "metadata": {},
   "outputs": [],
   "source": [
    "# Hàm để trích xuất số từ tên file (ví dụ \"1.docx\" -> 1)\n",
    "def extract_number_from_filename(filename):\n",
    "    match = re.match(r\"(\\d+)\\.docx\", filename)\n",
    "    if match:\n",
    "        return match.group(1)\n",
    "    return None"
   ]
  },
  {
   "cell_type": "code",
   "execution_count": 9,
   "metadata": {},
   "outputs": [],
   "source": [
    "# Hàm lưu dữ liệu ra file JSON\n",
    "def save_to_json(all_data, output_json_path):\n",
    "    with open(output_json_path, 'w', encoding='utf-8') as json_file:\n",
    "        json.dump(all_data, json_file, ensure_ascii=False, indent=4)\n",
    "    print(f\"File đã được lưu tại: {output_json_path}\")"
   ]
  },
  {
   "cell_type": "code",
   "execution_count": 10,
   "metadata": {},
   "outputs": [],
   "source": [
    "# Đọc file .docx và trích xuất nội dung theo các trường: Chương, Mục, Tiểu mục, Điều, Nội dung Điều\n",
    "def process_docx(file_path, all_data):\n",
    "    document = docx.Document(file_path)\n",
    "\n",
    "    stt = extract_number_from_filename(os.path.basename(file_path))\n",
    "    # Lọc ra thông tin của STT từ DataFrame\n",
    "    metadata_row = df_metadata[df_metadata['STT'] == int(stt)].iloc[0] \\\n",
    "        if not df_metadata[df_metadata['STT'] == int(stt)].empty else None\n",
    "    \n",
    "    current_chapter = None\n",
    "    current_section = None\n",
    "    current_mini_section = None\n",
    "    \n",
    "    # Regex để nhận diện \"Chương\", \"Mục\", \"Tiểu mục\", \"Điều\"\n",
    "    chapter_regex = re.compile(r\"^(Chương|CHƯƠNG)\\s+([IVXLCDM]+|\\d+)(\\.|:)?\")\n",
    "    section_regex = re.compile(r\"^(Mục|MỤC)\\s+([IVXLCDM]+|\\d+)(\\.|:)?\")  # Nhận diện \"Mục 1.\", \"Mục 2.\"...\n",
    "    mini_section_regex = re.compile(r\"^(Tiểu mục|TIỂU MỤC)\\s+([IVXLCDM]+|\\d+)(\\.|:)?\")  # Nhận diện \"Tiểu mục 1.\", \"Tiểu mục 2.\"...\n",
    "    article_regex = re.compile(r\"^Điều\\s+(\\d+)\\.\")  # Nhận diện \"Điều 1.\", \"Điều 2.\"...\n",
    "\n",
    "    for i in range(len(document.paragraphs)):\n",
    "        paragraph_text = document.paragraphs[i].text.strip()\n",
    "\n",
    "        # Xử lý Chương\n",
    "        match_chapter = chapter_regex.match(paragraph_text)\n",
    "        if match_chapter:\n",
    "            current_chapter = paragraph_text\n",
    "            current_section = None\n",
    "            current_mini_section = None\n",
    "            if i + 1 < len(document.paragraphs):\n",
    "                next_paragraph = document.paragraphs[i + 1].text.strip()\n",
    "                if not section_regex.match(paragraph_text) \\\n",
    "                    or not mini_section_regex.match(paragraph_text) \\\n",
    "                    or not article_regex.match(paragraph_text):\n",
    "                    current_chapter += f\": {next_paragraph}\"\n",
    "            continue\n",
    "                \n",
    "        # Xử lý Mục\n",
    "        match_section = section_regex.match(paragraph_text)\n",
    "        if match_section:\n",
    "            current_section = paragraph_text\n",
    "            current_mini_section = None\n",
    "            continue\n",
    "                \n",
    "        # Xử lý Tiểu mục\n",
    "        match_mini_section = mini_section_regex.match(paragraph_text)\n",
    "        if match_mini_section:\n",
    "            current_mini_section = paragraph_text\n",
    "            continue\n",
    "        \n",
    "        # Xử lý Điều\n",
    "        match_article = article_regex.match(paragraph_text)\n",
    "        if match_article:\n",
    "            article = paragraph_text\n",
    "            content = []\n",
    "\n",
    "            for j in range(i + 1, len(document.paragraphs)):\n",
    "                next_paragraph = document.paragraphs[j].text.strip()\n",
    "                if chapter_regex.match(next_paragraph) or section_regex.match(next_paragraph) \\\n",
    "                        or mini_section_regex.match(next_paragraph) \\\n",
    "                        or article_regex.match(next_paragraph):\n",
    "                    break\n",
    "                content.append(next_paragraph)\n",
    "            \n",
    "            content_text = \"\\n\".join(content)\n",
    "\n",
    "            all_data.append({\n",
    "                        \"STT\": stt,\n",
    "                        \"LoaiVanBan\": metadata_row[\"Loại Văn Bản\"],\n",
    "                        \"NoiBanHanh\": metadata_row[\"Nơi Ban Hành\"],\n",
    "                        \"SoHieu\": metadata_row[\"Số Hiệu\"],\n",
    "                        \"LinhVucNganh\": metadata_row[\"Lĩnh Vực - Ngành\"],\n",
    "                        \"NgayBanHanh\": metadata_row[\"Ngày Ban Hành\"],\n",
    "                        \"ChuDe\": metadata_row[\"Chủ Đề\"],\n",
    "                        \"Chapter\": current_chapter,\n",
    "                        \"Section\": current_section if current_section else None,\n",
    "                        \"MiniSection\": current_mini_section if current_mini_section else None,\n",
    "                        \"Article\": article,\n",
    "                        \"OriginalContent\": content_text,\n",
    "                        \"SemanticChunk-Content\": content_text\n",
    "                    })\n",
    "\n",
    "    return all_data"
   ]
  },
  {
   "cell_type": "code",
   "execution_count": 11,
   "metadata": {},
   "outputs": [],
   "source": [
    "# Hàm xử lý toàn bộ thư mục chứa file .docx\n",
    "def process_folder(folder_path, output_json_path):\n",
    "    all_data = []\n",
    "    \n",
    "    # Lặp qua tất cả các file .docx trong thư mục\n",
    "    for filename in os.listdir(folder_path):\n",
    "        if filename.endswith(\".docx\"):\n",
    "            file_path = os.path.join(folder_path, filename)\n",
    "            print(f\"Đang xử lý file: {filename}\")\n",
    "            \n",
    "            # Lấy dữ liệu từ file .docx và thêm vào danh sách all_data\n",
    "            all_data = process_docx(file_path, all_data)\n",
    "    \n",
    "    # Lưu tất cả dữ liệu vào file JSON\n",
    "    save_to_json(all_data, output_json_path)"
   ]
  },
  {
   "cell_type": "code",
   "execution_count": 12,
   "metadata": {},
   "outputs": [
    {
     "name": "stdout",
     "output_type": "stream",
     "text": [
      "Đang xử lý file: 1.docx\n",
      "Đang xử lý file: 10.docx\n",
      "Đang xử lý file: 11.docx\n",
      "Đang xử lý file: 12.docx\n",
      "Đang xử lý file: 13.docx\n",
      "Đang xử lý file: 14.docx\n",
      "Đang xử lý file: 15.docx\n",
      "Đang xử lý file: 16.docx\n",
      "Đang xử lý file: 17.docx\n",
      "Đang xử lý file: 18.docx\n",
      "Đang xử lý file: 19.docx\n",
      "Đang xử lý file: 2.docx\n",
      "Đang xử lý file: 20.docx\n",
      "Đang xử lý file: 21.docx\n",
      "Đang xử lý file: 22.docx\n",
      "Đang xử lý file: 23.docx\n",
      "Đang xử lý file: 24.docx\n",
      "Đang xử lý file: 25.docx\n",
      "Đang xử lý file: 26.docx\n",
      "Đang xử lý file: 27.docx\n",
      "Đang xử lý file: 28.docx\n",
      "Đang xử lý file: 29.docx\n",
      "Đang xử lý file: 3.docx\n",
      "Đang xử lý file: 30.docx\n",
      "Đang xử lý file: 31.docx\n",
      "Đang xử lý file: 4.docx\n",
      "Đang xử lý file: 5.docx\n",
      "Đang xử lý file: 6.docx\n",
      "Đang xử lý file: 7.docx\n",
      "Đang xử lý file: 8.docx\n",
      "Đang xử lý file: 9.docx\n",
      "File đã được lưu tại: D:\\13_21133021_NguyenTrongDung_LuuTruMonHoc\\data_KLTN\\trachNhiem_HinhSu\\content_trachNhiem_HinhSu_Extracted.json\n"
     ]
    }
   ],
   "source": [
    "# Gọi hàm xử lý toàn bộ thư mục\n",
    "# D:\\13_21133021_NguyenTrongDung_LuuTruMonHoc\\data_KLTN\\giao_duc\n",
    "# D:\\13_21133021_NguyenTrongDung_LuuTruMonHoc\\data_KLTN\\giaoThong_VanTai\n",
    "# D:\\13_21133021_NguyenTrongDung_LuuTruMonHoc\\data_KLTN\\honNhan_GiaDinh\n",
    "# D:\\13_21133021_NguyenTrongDung_LuuTruMonHoc\\data_KLTN\\laoDong_TienLuong\n",
    "# D:\\13_21133021_NguyenTrongDung_LuuTruMonHoc\\data_KLTN\\trachNhiem_HinhSu\n",
    "\n",
    "folder_path = r\"D:\\13_21133021_NguyenTrongDung_LuuTruMonHoc\\data_KLTN\\trachNhiem_HinhSu\"\n",
    "output_json_path = r\"D:\\13_21133021_NguyenTrongDung_LuuTruMonHoc\\data_KLTN\\trachNhiem_HinhSu\\content_trachNhiem_HinhSu_Extracted.json\"\n",
    "process_folder(folder_path, output_json_path)"
   ]
  }
 ],
 "metadata": {
  "kernelspec": {
   "display_name": "Python 3",
   "language": "python",
   "name": "python3"
  },
  "language_info": {
   "codemirror_mode": {
    "name": "ipython",
    "version": 3
   },
   "file_extension": ".py",
   "mimetype": "text/x-python",
   "name": "python",
   "nbconvert_exporter": "python",
   "pygments_lexer": "ipython3",
   "version": "3.9.8"
  }
 },
 "nbformat": 4,
 "nbformat_minor": 2
}
