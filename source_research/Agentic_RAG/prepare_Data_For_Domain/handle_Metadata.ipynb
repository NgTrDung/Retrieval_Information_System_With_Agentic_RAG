{
 "cells": [
  {
   "cell_type": "markdown",
   "metadata": {},
   "source": [
    "# 1. Thư viện"
   ]
  },
  {
   "cell_type": "code",
   "execution_count": 1,
   "metadata": {},
   "outputs": [],
   "source": [
    "import json\n",
    "import re"
   ]
  },
  {
   "cell_type": "markdown",
   "metadata": {},
   "source": [
    "# 2. Đọc file semantic_Chunking_Content"
   ]
  },
  {
   "cell_type": "code",
   "execution_count": 2,
   "metadata": {},
   "outputs": [],
   "source": [
    "# Danh sách các file input và output\n",
    "file_paths = [\n",
    "    (r\"d:\\13_21133021_NguyenTrongDung_LuuTruMonHoc\\data_KLTN\\giao_duc\\semantic_Chunk_content_giao_duc_Extracted.json\", r\"d:\\13_21133021_NguyenTrongDung_LuuTruMonHoc\\data_KLTN\\giao_duc\\handled_semantic_Chunk_content_giao_duc_Extracted.json\"),\n",
    "    (r\"d:\\13_21133021_NguyenTrongDung_LuuTruMonHoc\\data_KLTN\\giaoThong_VanTai\\semantic_Chunk_content_giaoThong_VanTai_Extracted.json\", r\"d:\\13_21133021_NguyenTrongDung_LuuTruMonHoc\\data_KLTN\\giaoThong_VanTai\\handled_semantic_Chunk_content_giaoThong_VanTai_Extracted.json\"),\n",
    "    (r\"d:\\13_21133021_NguyenTrongDung_LuuTruMonHoc\\data_KLTN\\honNhan_GiaDinh\\semantic_Chunk_content_honNhan_GiaDinh_Extracted.json\", r\"d:\\13_21133021_NguyenTrongDung_LuuTruMonHoc\\data_KLTN\\honNhan_GiaDinh\\handled_semantic_Chunk_content_honNhan_GiaDinh_Extracted.json\"),\n",
    "    (r\"d:\\13_21133021_NguyenTrongDung_LuuTruMonHoc\\data_KLTN\\laoDong_TienLuong\\semantic_Chunk_content_laoDong_TienLuong_Extracted.json\", r\"d:\\13_21133021_NguyenTrongDung_LuuTruMonHoc\\data_KLTN\\laoDong_TienLuong\\handled_semantic_Chunk_content_laoDong_TienLuong_Extracted.json\"),\n",
    "    (r\"d:\\13_21133021_NguyenTrongDung_LuuTruMonHoc\\data_KLTN\\trachNhiem_HinhSu\\semantic_Chunk_content_trachNhiem_HinhSu_Extracted.json\", r\"d:\\13_21133021_NguyenTrongDung_LuuTruMonHoc\\data_KLTN\\trachNhiem_HinhSu\\handled_semantic_Chunk_content_trachNhiem_HinhSu_Extracted.json\")\n",
    "]"
   ]
  },
  {
   "cell_type": "code",
   "execution_count": 3,
   "metadata": {},
   "outputs": [],
   "source": [
    "# Hàm xử lý dữ liệu\n",
    "def process_json_file(input_path, output_path):\n",
    "    try:\n",
    "        # Đọc file JSON\n",
    "        with open(input_path, 'r', encoding='utf-8') as file:\n",
    "            data = json.load(file)\n",
    "\n",
    "        # Duyệt qua từng phần tử và cập nhật dữ liệu\n",
    "        for item in data:\n",
    "            # Xử lý \"Ngay-Ban-Hanh\"\n",
    "            ngay_ban_hanh = item.get('Ngay-Ban-Hanh', '')\n",
    "            ngay_ban_hanh_tmp = ngay_ban_hanh.replace('/', '-') if ngay_ban_hanh else ''\n",
    "            item['Ngay-Ban-Hanh'] = [ngay_ban_hanh, ngay_ban_hanh_tmp]\n",
    "\n",
    "            # Xử lý \"LinhVuc-Nganh\"\n",
    "            linh_vuc_nganh = item.get('LinhVuc-Nganh', '')\n",
    "            if ',' in linh_vuc_nganh:\n",
    "                item['LinhVuc-Nganh'] = [part.strip() for part in linh_vuc_nganh.split(',')]\n",
    "            else:\n",
    "                item['LinhVuc-Nganh'] = [linh_vuc_nganh]\n",
    "\n",
    "        # Lưu lại file JSON đã chỉnh sửa\n",
    "        with open(output_path, 'w', encoding='utf-8') as file:\n",
    "            json.dump(data, file, ensure_ascii=False, indent=4)\n",
    "\n",
    "        print(f\"Đã cập nhật và lưu file: {output_path}\")\n",
    "\n",
    "    except Exception as e:\n",
    "        print(f\"Lỗi khi xử lý file {input_path}: {e}\")"
   ]
  },
  {
   "cell_type": "code",
   "execution_count": 4,
   "metadata": {},
   "outputs": [
    {
     "name": "stdout",
     "output_type": "stream",
     "text": [
      "Đã cập nhật và lưu file: d:\\13_21133021_NguyenTrongDung_LuuTruMonHoc\\data_KLTN\\giao_duc\\handled_semantic_Chunk_content_giao_duc_Extracted.json\n",
      "Đã cập nhật và lưu file: d:\\13_21133021_NguyenTrongDung_LuuTruMonHoc\\data_KLTN\\giaoThong_VanTai\\handled_semantic_Chunk_content_giaoThong_VanTai_Extracted.json\n",
      "Đã cập nhật và lưu file: d:\\13_21133021_NguyenTrongDung_LuuTruMonHoc\\data_KLTN\\honNhan_GiaDinh\\handled_semantic_Chunk_content_honNhan_GiaDinh_Extracted.json\n",
      "Đã cập nhật và lưu file: d:\\13_21133021_NguyenTrongDung_LuuTruMonHoc\\data_KLTN\\laoDong_TienLuong\\handled_semantic_Chunk_content_laoDong_TienLuong_Extracted.json\n",
      "Đã cập nhật và lưu file: d:\\13_21133021_NguyenTrongDung_LuuTruMonHoc\\data_KLTN\\trachNhiem_HinhSu\\handled_semantic_Chunk_content_trachNhiem_HinhSu_Extracted.json\n",
      "Hoàn thành xử lý tất cả các file!\n"
     ]
    }
   ],
   "source": [
    "# Lặp qua danh sách tệp để xử lý từng tệp\n",
    "for input_file, output_file in file_paths:\n",
    "    process_json_file(input_file, output_file)\n",
    "\n",
    "print(\"Hoàn thành xử lý tất cả các file!\")"
   ]
  }
 ],
 "metadata": {
  "kernelspec": {
   "display_name": "Python 3",
   "language": "python",
   "name": "python3"
  },
  "language_info": {
   "codemirror_mode": {
    "name": "ipython",
    "version": 3
   },
   "file_extension": ".py",
   "mimetype": "text/x-python",
   "name": "python",
   "nbconvert_exporter": "python",
   "pygments_lexer": "ipython3",
   "version": "3.9.8"
  }
 },
 "nbformat": 4,
 "nbformat_minor": 2
}
