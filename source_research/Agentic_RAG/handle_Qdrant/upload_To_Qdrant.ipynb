{
 "cells": [
  {
   "cell_type": "markdown",
   "metadata": {},
   "source": [
    "# 1. Model Embedding"
   ]
  },
  {
   "cell_type": "code",
   "execution_count": 1,
   "metadata": {},
   "outputs": [],
   "source": [
    "from langchain_community.embeddings import HuggingFaceEmbeddings"
   ]
  },
  {
   "cell_type": "code",
   "execution_count": 2,
   "metadata": {},
   "outputs": [
    {
     "name": "stderr",
     "output_type": "stream",
     "text": [
      "C:\\Users\\ADMIN\\AppData\\Local\\Temp\\ipykernel_7336\\2870113787.py:3: LangChainDeprecationWarning: The class `HuggingFaceEmbeddings` was deprecated in LangChain 0.2.2 and will be removed in 1.0. An updated version of the class exists in the :class:`~langchain-huggingface package and should be used instead. To use it run `pip install -U :class:`~langchain-huggingface` and import as `from :class:`~langchain_huggingface import HuggingFaceEmbeddings``.\n",
      "  embeddings_Model = HuggingFaceEmbeddings(\n"
     ]
    },
    {
     "name": "stdout",
     "output_type": "stream",
     "text": [
      "WARNING:tensorflow:From d:\\Download_Python\\lib\\site-packages\\tf_keras\\src\\losses.py:2976: The name tf.losses.sparse_softmax_cross_entropy is deprecated. Please use tf.compat.v1.losses.sparse_softmax_cross_entropy instead.\n",
      "\n"
     ]
    }
   ],
   "source": [
    "model_kwargs = {\"device\": \"cuda\"}\n",
    "encode_kwargs = {\"normalize_embeddings\": True}\n",
    "embeddings_Model = HuggingFaceEmbeddings(\n",
    "    model_name=\"huyydangg/DEk21_hcmute_embedding\",\n",
    "    model_kwargs=model_kwargs,\n",
    "    encode_kwargs=encode_kwargs\n",
    ")"
   ]
  },
  {
   "cell_type": "markdown",
   "metadata": {},
   "source": [
    "# 2. File .json"
   ]
  },
  {
   "cell_type": "code",
   "execution_count": 3,
   "metadata": {},
   "outputs": [],
   "source": [
    "import json"
   ]
  },
  {
   "cell_type": "code",
   "execution_count": 4,
   "metadata": {},
   "outputs": [],
   "source": [
    "# Danh sách đường dẫn các file JSON\n",
    "data_FilePaths = [\n",
    "    r\"d:\\13_21133021_NguyenTrongDung_LuuTruMonHoc\\data_KLTN\\giao_duc\\handled_semantic_Chunk_content_giao_duc_Extracted.json\",\n",
    "    r\"d:\\13_21133021_NguyenTrongDung_LuuTruMonHoc\\data_KLTN\\giaoThong_VanTai\\handled_semantic_Chunk_content_giaoThong_VanTai_Extracted.json\",\n",
    "    r\"d:\\13_21133021_NguyenTrongDung_LuuTruMonHoc\\data_KLTN\\honNhan_GiaDinh\\handled_semantic_Chunk_content_honNhan_GiaDinh_Extracted.json\",\n",
    "    r\"d:\\13_21133021_NguyenTrongDung_LuuTruMonHoc\\data_KLTN\\laoDong_TienLuong\\handled_semantic_Chunk_content_laoDong_TienLuong_Extracted.json\",\n",
    "    r\"d:\\13_21133021_NguyenTrongDung_LuuTruMonHoc\\data_KLTN\\trachNhiem_HinhSu\\handled_semantic_Chunk_content_trachNhiem_HinhSu_Extracted.json\"\n",
    "]"
   ]
  },
  {
   "cell_type": "markdown",
   "metadata": {},
   "source": [
    "# 3. Tạo documents"
   ]
  },
  {
   "cell_type": "code",
   "execution_count": 5,
   "metadata": {},
   "outputs": [],
   "source": [
    "from langchain.docstore.document import Document"
   ]
  },
  {
   "cell_type": "code",
   "execution_count": 6,
   "metadata": {},
   "outputs": [],
   "source": [
    "# Danh sách lưu các document LangChain\n",
    "documents = []\n",
    "\n",
    "for file_path in data_FilePaths:\n",
    "    with open(file_path, 'r', encoding='utf-8') as f:\n",
    "        data = json.load(f)\n",
    "    \n",
    "    # Chuyển đổi từng phần tử thành Document\n",
    "    file_documents = [\n",
    "        Document(page_content=item.get('SemanticChunk-Content', ''), metadata=item)\n",
    "        for item in data\n",
    "    ]\n",
    "    \n",
    "    documents.extend(file_documents)  # Gộp đúng cách"
   ]
  },
  {
   "cell_type": "code",
   "execution_count": 7,
   "metadata": {},
   "outputs": [
    {
     "name": "stdout",
     "output_type": "stream",
     "text": [
      "<class 'list'>\n"
     ]
    }
   ],
   "source": [
    "print(type(documents))"
   ]
  },
  {
   "cell_type": "code",
   "execution_count": 8,
   "metadata": {},
   "outputs": [
    {
     "name": "stdout",
     "output_type": "stream",
     "text": [
      "<class 'langchain_core.documents.base.Document'>\n"
     ]
    }
   ],
   "source": [
    "# Kiểm tra kiểu dữ liệu của một document\n",
    "print(type(documents[0]))"
   ]
  },
  {
   "cell_type": "code",
   "execution_count": 9,
   "metadata": {},
   "outputs": [
    {
     "name": "stdout",
     "output_type": "stream",
     "text": [
      "Kiểu của page_content: <class 'str'>\n",
      "Kiểu của metadata: <class 'dict'>\n"
     ]
    }
   ],
   "source": [
    "# Kiểm tra kiểu của từng thuộc tính\n",
    "print(\"Kiểu của page_content:\", type(documents[0].page_content))\n",
    "print(\"Kiểu của metadata:\", type(documents[0].metadata))"
   ]
  },
  {
   "cell_type": "code",
   "execution_count": 10,
   "metadata": {},
   "outputs": [
    {
     "name": "stdout",
     "output_type": "stream",
     "text": [
      "page_content: 1 . Thông_tư này quy_định về chuẩn chương_trình đào_tạo các trình_độ của giáo_dục đại_học ; xây_dựng , thẩm_định và ban_hành chuẩn chương_trình đào_tạo cho các lĩnh_vực và ngành đào_tạo ; xây_dựng , thẩm_định và ban_hành chương_trình đào_tạo các trình_độ của giáo_dục đại_học . 2 . Thông_tư này áp_dụng đối_với các cơ_sở giáo_dục đại_học , cơ_sở giáo_dục khác được phép đào_tạo các trình_độ của giáo_dục đại_học , viện hàn_lâm và viện do Thủ_tướng Chính_phủ thành_lập theo quy_định của Luật_Khoa_học và Công_nghệ được phép đào_tạo trình_độ tiến_sĩ ( sau đây gọi chung là cơ_sở đào_tạo ) và các tổ_chức , cá_nhân có liên_quan .\n",
      "metadata: {'STT': '1', 'LoaiVanBan': 'Thông tư', 'NoiBanHanh': 'Bộ Giáo dục và Đào tạo', 'SoHieu': '17/2021/TT-BGDĐT', 'LinhVucNganh': ['Giáo dục'], 'NgayBanHanh': '22/06/2021', 'ChuDe': 'QUY ĐỊNH VỀ CHUẨN CHƯƠNG TRÌNH ĐÀO TẠO; XÂY DỰNG, THẨM ĐỊNH VÀ BAN HÀNH CHƯƠNG TRÌNH ĐÀO TẠO CÁC TRÌNH ĐỘ CỦA GIÁO DỤC ĐẠI HỌC', 'Chapter': 'Chương I: QUY ĐỊNH CHUNG', 'Section': None, 'MiniSection': None, 'Article': 'Điều 1. Phạm vi điều chỉnh và đối tượng áp dụng', 'OriginalContent': '1. Thông tư này quy định về chuẩn chương trình đào tạo các trình độ của giáo dục đại học; xây dựng, thẩm định và ban hành chuẩn chương trình đào tạo cho các lĩnh vực và ngành đào tạo; xây dựng, thẩm định và ban hành chương trình đào tạo các trình độ của giáo dục đại học.\\n2. Thông tư này áp dụng đối với các cơ sở giáo dục đại học, cơ sở giáo dục khác được phép đào tạo các trình độ của giáo dục đại học, viện hàn lâm và viện do Thủ tướng Chính phủ thành lập theo quy định của Luật Khoa học và Công nghệ được phép đào tạo trình độ tiến sĩ (sau đây gọi chung là cơ sở đào tạo) và các tổ chức, cá nhân có liên quan.\\n3. Thông tư này không quy định đối với các chương trình đào tạo do cơ sở đào tạo nước ngoài cấp bằng tốt nghiệp, bao gồm cả chương trình liên kết với nước ngoài theo quy định về hợp tác, đầu tư nước ngoài trong lĩnh vực giáo dục.\\n4. Các chương trình đào tạo thực hiện theo quy định tại điểm c, khoản 1, Điều 36 Luật Giáo dục đại học (đã được sửa đổi, bổ sung năm 2018) phải đáp ứng các quy định tại Thông tư này.', 'SemanticChunk-Content': '1 . Thông_tư này quy_định về chuẩn chương_trình đào_tạo các trình_độ của giáo_dục đại_học ; xây_dựng , thẩm_định và ban_hành chuẩn chương_trình đào_tạo cho các lĩnh_vực và ngành đào_tạo ; xây_dựng , thẩm_định và ban_hành chương_trình đào_tạo các trình_độ của giáo_dục đại_học . 2 . Thông_tư này áp_dụng đối_với các cơ_sở giáo_dục đại_học , cơ_sở giáo_dục khác được phép đào_tạo các trình_độ của giáo_dục đại_học , viện hàn_lâm và viện do Thủ_tướng Chính_phủ thành_lập theo quy_định của Luật_Khoa_học và Công_nghệ được phép đào_tạo trình_độ tiến_sĩ ( sau đây gọi chung là cơ_sở đào_tạo ) và các tổ_chức , cá_nhân có liên_quan .', 'NgayBanHanhFilter': ['22/06/2021', '22-06-2021', '2021/06/22', '2021-06-22', '2021'], 'LoaiVanBanFilter': 'thông tư', 'NoibanHanhFilter': 'bộ giáo dục và đào tạo'}\n"
     ]
    }
   ],
   "source": [
    "# Kiểm tra giá trị của page_content và metadata trong phần tử đầu tiên\n",
    "print(\"page_content:\", documents[0].page_content)\n",
    "print(\"metadata:\", documents[0].metadata)"
   ]
  },
  {
   "cell_type": "markdown",
   "metadata": {},
   "source": [
    "# 4. Upload Qdrant"
   ]
  },
  {
   "cell_type": "code",
   "execution_count": 11,
   "metadata": {},
   "outputs": [],
   "source": [
    "from langchain_qdrant import QdrantVectorStore"
   ]
  },
  {
   "cell_type": "code",
   "execution_count": 12,
   "metadata": {},
   "outputs": [],
   "source": [
    "qdrant = QdrantVectorStore.from_documents(\n",
    "    documents = documents,\n",
    "    embedding = embeddings_Model,\n",
    "    url = \"http://localhost:6333/\",\n",
    "    prefer_grpc = True,\n",
    "    collection_name = \"Domain_Law\",\n",
    "\tmetadata_payload_key=\"metadata\",\n",
    "    timeout = 300\n",
    ")"
   ]
  }
 ],
 "metadata": {
  "kernelspec": {
   "display_name": "Python 3",
   "language": "python",
   "name": "python3"
  },
  "language_info": {
   "codemirror_mode": {
    "name": "ipython",
    "version": 3
   },
   "file_extension": ".py",
   "mimetype": "text/x-python",
   "name": "python",
   "nbconvert_exporter": "python",
   "pygments_lexer": "ipython3",
   "version": "3.9.8"
  }
 },
 "nbformat": 4,
 "nbformat_minor": 2
}
