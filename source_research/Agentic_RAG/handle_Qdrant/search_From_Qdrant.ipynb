{
 "cells": [
  {
   "cell_type": "markdown",
   "metadata": {},
   "source": [
    "# 1. Mô hình embedding"
   ]
  },
  {
   "cell_type": "code",
   "execution_count": 1,
   "metadata": {},
   "outputs": [],
   "source": [
    "from langchain_community.embeddings import HuggingFaceEmbeddings"
   ]
  },
  {
   "cell_type": "code",
   "execution_count": 2,
   "metadata": {},
   "outputs": [
    {
     "name": "stderr",
     "output_type": "stream",
     "text": [
      "C:\\Users\\hdang\\AppData\\Local\\Temp\\ipykernel_1392\\1278963481.py:3: LangChainDeprecationWarning: The class `HuggingFaceEmbeddings` was deprecated in LangChain 0.2.2 and will be removed in 1.0. An updated version of the class exists in the :class:`~langchain-huggingface package and should be used instead. To use it run `pip install -U :class:`~langchain-huggingface` and import as `from :class:`~langchain_huggingface import HuggingFaceEmbeddings``.\n",
      "  embeddings_Model = HuggingFaceEmbeddings(\n"
     ]
    },
    {
     "name": "stdout",
     "output_type": "stream",
     "text": [
      "WARNING:tensorflow:From c:\\Users\\hdang\\.virtualenvs\\machinelearning-lTTH8rYd\\Lib\\site-packages\\keras\\src\\losses.py:2976: The name tf.losses.sparse_softmax_cross_entropy is deprecated. Please use tf.compat.v1.losses.sparse_softmax_cross_entropy instead.\n",
      "\n"
     ]
    }
   ],
   "source": [
    "model_kwargs = {\"device\": \"cpu\"}\n",
    "encode_kwargs = {\"normalize_embeddings\": True}\n",
    "embeddings_Model = HuggingFaceEmbeddings(\n",
    "    model_name=\"huyydangg/DEk21_hcmute_embedding\",\n",
    "    model_kwargs=model_kwargs,\n",
    "    encode_kwargs=encode_kwargs\n",
    ")"
   ]
  },
  {
   "cell_type": "markdown",
   "metadata": {},
   "source": [
    "# 2. Kết nối đến Qdrant"
   ]
  },
  {
   "cell_type": "code",
   "execution_count": 3,
   "metadata": {},
   "outputs": [],
   "source": [
    "from langchain_qdrant import QdrantVectorStore"
   ]
  },
  {
   "cell_type": "code",
   "execution_count": null,
   "metadata": {},
   "outputs": [],
   "source": [
    "exist_GD_Collection = QdrantVectorStore.from_existing_collection(\n",
    "    embedding = embeddings_Model,\n",
    "    prefer_grpc=True,\n",
    "    url = \"http://localhost:6333/\",\n",
    "    collection_name = \"Domain_Law\",\n",
    "\tmetadata_payload_key=\"metadata\"\n",
    ")"
   ]
  },
  {
   "cell_type": "markdown",
   "metadata": {},
   "source": [
    "# 3. Search không kèm Filter"
   ]
  },
  {
   "cell_type": "code",
   "execution_count": null,
   "metadata": {},
   "outputs": [],
   "source": [
    "user_query = \"người bao nhiêu tuổi thì mới được phép tham gia lao động ?\""
   ]
  },
  {
   "cell_type": "code",
   "execution_count": 12,
   "metadata": {},
   "outputs": [],
   "source": [
    "# Thực hiện tìm kiếm trên Qdrant với filter `should`\n",
    "search_results = exist_GD_Collection.similarity_search_with_score(\n",
    "    query=user_query,\n",
    "    filter=None,\n",
    "    k=5\n",
    ")"
   ]
  },
  {
   "cell_type": "code",
   "execution_count": 13,
   "metadata": {},
   "outputs": [],
   "source": [
    "def print_Results_MoreKeywords(results):\n",
    "    for result in results:\n",
    "        doc = result[0]  # lấy phần tử đầu tiên\n",
    "        score_Qdrant = result[1]  # lấy phần tử thứ hai\n",
    "        print(\"Page_Content:\\n\", doc.page_content)\n",
    "        print(\"Stt:\",doc.metadata['STT'])\n",
    "        print(\"Điều:\",doc.metadata[\"Article\"])\n",
    "        print(\"Score Qdrant:\",score_Qdrant,\"\\n\",\"-----------------------\")"
   ]
  },
  {
   "cell_type": "code",
   "execution_count": 14,
   "metadata": {},
   "outputs": [
    {
     "name": "stdout",
     "output_type": "stream",
     "text": [
      "Page_Content:\n",
      " 1 . Lao_động chưa thành_niên là người lao_động chưa đủ 18 tuổi . 2 . Người từ đủ 15 tuổi đến chưa đủ 18 tuổi không được làm công_việc hoặc làm_việc ở nơi làm_việc quy_định tại Điều 147 của Bộ_luật này . 3 . Người từ đủ 13 tuổi đến chưa đủ 15 tuổi chỉ được làm công_việc nhẹ theo danh_mục do Bộ_trưởng Bộ Lao_động - Thương_binh và Xã_hội ban_hành . 4 . Người chưa đủ 13 tuổi chỉ được làm các công_việc theo quy_định tại khoản 3 Điều 145 của Bộ_luật này .\n",
      "Stt: 13\n",
      "Điều: Điều 143. Lao động chưa thành niên\n",
      "Score Qdrant: 0.6392779350280762 \n",
      " -----------------------\n",
      "Page_Content:\n",
      " 4 . Người học nghề , người tập nghề phải đủ 14 tuổi trở lên và phải có đủ sức_khỏe phù_hợp với yêu_cầu học nghề , tập nghề . Người học nghề , người tập nghề thuộc danh_mục nghề , công_việc nặng_nhọc , độc_hại , nguy_hiểm hoặc đặc_biệt nặng_nhọc , độc_hại , nguy_hiểm do Bộ_trưởng Bộ Lao_động - Thương_binh và Xã_hội ban_hành phải từ đủ 18 tuổi trở lên , trừ lĩnh_vực nghệ_thuật , thể_dục , thể_thao . 5 . Trong thời_gian học nghề , tập nghề , nếu người học nghề , người tập nghề trực_tiếp hoặc tham_gia lao_động thì được người sử_dụng lao_động trả lương theo mức do hai bên thỏa_thuận .\n",
      "Stt: 13\n",
      "Điều: Điều 61. Học nghề, tập nghề để làm việc cho người sử dụng lao động\n",
      "Score Qdrant: 0.5300819277763367 \n",
      " -----------------------\n",
      "Page_Content:\n",
      " 2 . Người sử_dụng lao_động chỉ được tuyển_dụng và sử_dụng người từ đủ 13 tuổi đến chưa đủ 15 tuổi vào làm các công_việc nhẹ theo quy_định tại khoản 3 Điều 143 của Bộ_luật này . 3 . Người sử_dụng lao_động không được tuyển_dụng và sử_dụng người chưa đủ 13 tuổi làm_việc , trừ các công_việc nghệ_thuật , thể_dục , thể_thao nhưng không làm tổn_hại đến sự phát_triển thể_lực , trí_lực , nhân_cách của người chưa đủ 13 tuổi và phải có sự đồng_ý của cơ_quan chuyên_môn về lao_động thuộc Ủy_ban nhân_dân cấp tỉnh . 4 . Bộ_trưởng Bộ Lao_động - Thương_binh và Xã_hội quy_định chi_tiết Điều này .\n",
      "Stt: 13\n",
      "Điều: Điều 145. Sử dụng người chưa đủ 15 tuổi làm việc\n",
      "Score Qdrant: 0.511079728603363 \n",
      " -----------------------\n",
      "Page_Content:\n",
      " 1 . Cấm sử_dụng người lao_động từ đủ 15 tuổi đến chưa đủ 18 tuổi làm các công_việc sau đây : \n",
      " a ) Mang , vác , nâng các vật nặng vượt quá_thể_trạng của người chưa thành_niên ; \n",
      " b ) Sản_xuất , kinh_doanh cồn , rượu , bia , thuốc_lá , chất tác_động đến tinh_thần hoặc chất gây nghiện khác ; \n",
      " c ) Sản_xuất , sử_dụng hoặc vận_chuyển hóa_chất , khí gas , chất_nổ ; \n",
      " d ) Bảo_trì , bảo_dưỡng thiết_bị , máy_móc ; \n",
      " đ ) Phá dỡ các công_trình xây_dựng ; \n",
      " e ) Nấu , thổi , đúc , cán , dập , hàn kim_loại ; \n",
      " g ) Lặn biển , đánh_bắt thủy , hải_sản xa bờ ; \n",
      " h ) Công_việc khác gây tổn_hại đến sự phát_triển thể_lực , trí_lực , nhân_cách của người chưa thành_niên . 2 . Cấm sử_dụng người lao_động từ đủ 15 tuổi đến chưa đủ 18 tuổi làm_việc ở các nơi sau đây : \n",
      " a ) Dưới nước , dưới lòng đất , trong hang_động , trong đường_hầm ; \n",
      " b ) Công_trường xây_dựng ; \n",
      " c ) Cơ_sở giết_mổ gia_súc ; \n",
      " d ) Sòng bạc , quán bar , vũ_trường , phòng hát karaoke , khách_sạn , nhà_nghỉ , cơ_sở tắm hơi , cơ_sở xoa_bóp ; điểm kinh_doanh xổ_số , dịch_vụ trò_chơi điện_tử ; \n",
      " đ ) Nơi làm_việc khác gây tổn_hại đến sự phát_triển thể_lực , trí_lực , nhân_cách của người chưa thành_niên . 3 . Bộ_trưởng Bộ Lao_động - Thương_binh và Xã_hội quy_định_danh_mục tại điểm h khoản 1 và điểm đ khoản 2 Điều này .\n",
      "Stt: 13\n",
      "Điều: Điều 147. Công việc và nơi làm việc cấm sử dụng người lao động từ đủ 15 tuổi đến chưa đủ 18 tuổi\n",
      "Score Qdrant: 0.49304676055908203 \n",
      " -----------------------\n",
      "Page_Content:\n",
      " 1 . Thời_giờ làm_việc của người chưa đủ 15 tuổi không được quá 04 giờ trong 01 ngày và 20 giờ trong 01 tuần ; không được làm thêm giờ , làm_việc vào ban_đêm . 2 . Thời_giờ làm_việc của người từ đủ 15 tuổi đến chưa đủ 18 tuổi không được quá 08 giờ trong 01 ngày và 40 giờ trong 01 tuần . Người từ đủ 15 tuổi đến chưa đủ 18 tuổi có_thể được làm thêm giờ , làm_việc vào ban_đêm trong một_số nghề , công_việc theo danh_mục do Bộ_trưởng Bộ Lao_động - Thương_binh và Xã_hội ban_hành .\n",
      "Stt: 13\n",
      "Điều: Điều 146. Thời giờ làm việc của người chưa thành niên\n",
      "Score Qdrant: 0.46461236476898193 \n",
      " -----------------------\n"
     ]
    }
   ],
   "source": [
    "print_Results_MoreKeywords(search_results)"
   ]
  },
  {
   "cell_type": "code",
   "execution_count": null,
   "metadata": {},
   "outputs": [],
   "source": []
  }
 ],
 "metadata": {
  "kernelspec": {
   "display_name": "machinelearning-lTTH8rYd",
   "language": "python",
   "name": "python3"
  },
  "language_info": {
   "codemirror_mode": {
    "name": "ipython",
    "version": 3
   },
   "file_extension": ".py",
   "mimetype": "text/x-python",
   "name": "python",
   "nbconvert_exporter": "python",
   "pygments_lexer": "ipython3",
   "version": "3.11.5"
  }
 },
 "nbformat": 4,
 "nbformat_minor": 2
}
