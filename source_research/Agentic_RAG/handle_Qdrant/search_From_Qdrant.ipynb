{
 "cells": [
  {
   "cell_type": "markdown",
   "metadata": {},
   "source": [
    "# 1. Mô hình embedding"
   ]
  },
  {
   "cell_type": "code",
   "execution_count": 1,
   "metadata": {},
   "outputs": [],
   "source": [
    "from langchain_community.embeddings import HuggingFaceEmbeddings"
   ]
  },
  {
   "cell_type": "code",
   "execution_count": 2,
   "metadata": {},
   "outputs": [
    {
     "name": "stderr",
     "output_type": "stream",
     "text": [
      "C:\\Users\\ADMIN\\AppData\\Local\\Temp\\ipykernel_27928\\2870113787.py:3: LangChainDeprecationWarning: The class `HuggingFaceEmbeddings` was deprecated in LangChain 0.2.2 and will be removed in 1.0. An updated version of the class exists in the :class:`~langchain-huggingface package and should be used instead. To use it run `pip install -U :class:`~langchain-huggingface` and import as `from :class:`~langchain_huggingface import HuggingFaceEmbeddings``.\n",
      "  embeddings_Model = HuggingFaceEmbeddings(\n"
     ]
    },
    {
     "name": "stdout",
     "output_type": "stream",
     "text": [
      "WARNING:tensorflow:From d:\\Download_Python\\lib\\site-packages\\tf_keras\\src\\losses.py:2976: The name tf.losses.sparse_softmax_cross_entropy is deprecated. Please use tf.compat.v1.losses.sparse_softmax_cross_entropy instead.\n",
      "\n"
     ]
    }
   ],
   "source": [
    "model_kwargs = {\"device\": \"cuda\"}\n",
    "encode_kwargs = {\"normalize_embeddings\": True}\n",
    "embeddings_Model = HuggingFaceEmbeddings(\n",
    "    model_name=\"huyydangg/DEk21_hcmute_embedding\",\n",
    "    model_kwargs=model_kwargs,\n",
    "    encode_kwargs=encode_kwargs\n",
    ")"
   ]
  },
  {
   "cell_type": "markdown",
   "metadata": {},
   "source": [
    "# 2. Kết nối đến Qdrant"
   ]
  },
  {
   "cell_type": "code",
   "execution_count": 3,
   "metadata": {},
   "outputs": [],
   "source": [
    "from langchain_qdrant import QdrantVectorStore"
   ]
  },
  {
   "cell_type": "code",
   "execution_count": 4,
   "metadata": {},
   "outputs": [],
   "source": [
    "exist_GD_Collection = QdrantVectorStore.from_existing_collection(\n",
    "    embedding = embeddings_Model,\n",
    "    prefer_grpc=True,\n",
    "    url = \"http://localhost:6333/\",\n",
    "    collection_name = \"Domain_Law\",\n",
    "\tmetadata_payload_key=\"metadata\"\n",
    ")"
   ]
  },
  {
   "cell_type": "markdown",
   "metadata": {},
   "source": [
    "# 3. Search không kèm Filter"
   ]
  },
  {
   "cell_type": "code",
   "execution_count": 5,
   "metadata": {},
   "outputs": [],
   "source": [
    "from pyvi import ViTokenizer"
   ]
  },
  {
   "cell_type": "code",
   "execution_count": 6,
   "metadata": {},
   "outputs": [],
   "source": [
    "user_query = \"Trong lĩnh vực Quyền dân sự, Thông tư số 04/2020/TT-BTP quy định như thế nào khi người yêu cầu khai tử không có giấy tờ chứng minh hợp lệ về cái chết của người thân?\""
   ]
  },
  {
   "cell_type": "code",
   "execution_count": 7,
   "metadata": {},
   "outputs": [],
   "source": [
    "user_query = ViTokenizer.tokenize(user_query)"
   ]
  },
  {
   "cell_type": "code",
   "execution_count": null,
   "metadata": {},
   "outputs": [],
   "source": [
    "# Thực hiện tìm kiếm trên Qdrant với filter `should`\n",
    "search_results = exist_GD_Collection.similarity_search_with_score(\n",
    "    query=user_query,\n",
    "    filter=None,\n",
    "    k=5\n",
    ")"
   ]
  },
  {
   "cell_type": "code",
   "execution_count": 27,
   "metadata": {},
   "outputs": [],
   "source": [
    "def print_Results_MoreKeywords(results):\n",
    "    for result in results:\n",
    "        doc = result[0]  # lấy phần tử đầu tiên\n",
    "        score_Qdrant = result[1]  # lấy phần tử thứ hai\n",
    "        print(\"Page_Content:\\n\", doc.page_content)\n",
    "        print(\"Metadata:\", doc.metadata['Loai-Van-Ban'])\n",
    "        print(\"Stt:\",doc.metadata['STT'])\n",
    "        print(\"Điều:\",doc.metadata[\"Article\"])\n",
    "        print(\"Score Qdrant:\",score_Qdrant,\"\\n\",\"-----------------------\")"
   ]
  },
  {
   "cell_type": "code",
   "execution_count": 28,
   "metadata": {},
   "outputs": [
    {
     "name": "stdout",
     "output_type": "stream",
     "text": [
      "Page_Content:\n",
      " Việc đăng_ký khai_tử được thực_hiện theo quy_định tại Mục 7 Chương II Luật hộ_tịch và hướng_dẫn sau đây : \n",
      " 1 . Trường_hợp đăng_ký khai_tử cho người chết đã lâu , không có Giấy_báo_tử hoặc giấy_tờ thay_thế Giấy_báo_tử theo quy_định tại khoản 2 Điều 4 Nghị_định số 123 / 2015 / NĐ - CP thì người yêu_cầu đăng_ký khai_tử phải cung_cấp được giấy_tờ , tài_liệu , chứng_cứ do cơ_quan , tổ_chức có thẩm_quyền cấp hoặc xác_nhận hợp_lệ chứng_minh sự_kiện chết . 2 . Trường_hợp người yêu_cầu đăng_ký khai_tử không có giấy_tờ , tài_liệu , chứng_cứ chứng_minh theo quy_định tại khoản 1 Điều này hoặc giấy_tờ , tài_liệu , chứng_cứ không hợp_lệ , không bảo_đảm giá_trị chứng_minh thì cơ_quan đăng_ký hộ_tịch từ_chối đăng_ký khai_tử .\n",
      "Metadata: Thông tư\n",
      "Stt: 2\n",
      "Điều: Điều 13. Đăng ký khai tử\n",
      "Score Qdrant: 0.6974231600761414 \n",
      " -----------------------\n",
      "Page_Content:\n",
      " 1 . Người có trách_nhiệm đi đăng_ký khai_tử nộp tờ khai theo mẫu quy_định và Giấy_báo_tử hoặc giấy_tờ khác thay giấy_báo_tử cho cơ_quan đăng_ký hộ_tịch . 2 . Ngay sau khi nhận giấy_tờ theo quy_định tại khoản 1 Điều này , nếu thấy việc khai_tử đúng thì công_chức tư_pháp - hộ_tịch ghi nội_dung khai_tử vào Sổ hộ_tịch , cùng người đi khai_tử ký_tên vào Sổ hộ_tịch và báo_cáo Chủ_tịch Ủy_ban nhân_dân cấp xã cấp trích lục cho người đi khai_tử . Công_chức tư_pháp - hộ_tịch khóa thông_tin hộ_tịch của người chết trong Cơ_sở dữ_liệu hộ_tịch điện_tử .\n",
      "Metadata: Luật\n",
      "Stt: 13\n",
      "Điều: Điều 34. Thủ tục đăng ký khai tử\n",
      "Score Qdrant: 0.6359689831733704 \n",
      " -----------------------\n",
      "Page_Content:\n",
      " 1 . Hồ_sơ đăng_ký lại khai_tử gồm các giấy_tờ sau đây : \n",
      " a ) Tờ khai theo mẫu quy_định ; \n",
      " b ) Bản_sao Giấy_chứng_tử trước đây được cấp hợp_lệ . Nếu không có bản_sao Giấy_chứng tử hợp_lệ thì nộp bản_sao hồ_sơ , giấy_tờ liên_quan có nội_dung chứng_minh sự_kiện chết . 2 . Trong thời_hạn 05 ngày làm_việc , kể từ ngày tiếp_nhận hồ_sơ , công_chức tư_pháp - hộ_tịch kiểm_tra hồ_sơ . Nếu xét thấy các thông_tin là đầy_đủ , chính_xác và việc đăng_ký lại khai_tử là đúng pháp_luật thì báo_cáo Chủ_tịch Ủy_ban nhân_dân cấp xã ký cấp bản_chính trích lục hộ_tịch cho người có yêu_cầu ; ghi nội_dung đăng_ký lại khai_tử vào Sổ hộ_tịch , cùng người yêu_cầu khai_tử ký , ghi rõ họ tên vào Sổ hộ_tịch .\n",
      "Metadata: Nghị định\n",
      "Stt: 7\n",
      "Điều: Điều 28. Thủ tục đăng ký lại khai tử\n",
      "Score Qdrant: 0.6199784874916077 \n",
      " -----------------------\n",
      "Page_Content:\n",
      " 1 . Người đi đăng_ký khai_tử nộp tờ khai theo mẫu quy_định và Giấy_báo_tử hoặc giấy_tờ khác thay giấy_báo_tử cho cơ_quan đăng_ký hộ_tịch . 2 . Ngay sau khi nhận đủ giấy_tờ theo quy_định tại khoản 1 Điều này , nếu thấy việc khai_tử đúng thì công_chức làm công_tác hộ_tịch ghi vào Sổ hộ_tịch và cùng người đi khai_tử ký vào Sổ hộ_tịch . Phòng Tư_pháp báo_cáo Chủ_tịch Ủy_ban nhân_dân cấp huyện cấp trích lục hộ_tịch cho người đi khai_tử . Trường_hợp cần xác_minh thì thời_hạn giải_quyết không quá 03 ngày làm_việc .\n",
      "Metadata: Luật\n",
      "Stt: 13\n",
      "Điều: Điều 52. Thủ tục đăng ký khai tử\n",
      "Score Qdrant: 0.6184086203575134 \n",
      " -----------------------\n",
      "Page_Content:\n",
      " 3 . Sau khi đăng_ký khai_tử , Ủy_ban nhân_dân cấp huyện phải thông_báo bằng văn_bản kèm theo trích lục hộ_tịch cho Bộ Ngoại_giao để thông_báo cho cơ_quan có thẩm_quyền của nước mà người chết là công_dân . Trường_hợp người chết là công_dân Việt_Nam định_cư ở nước_ngoài thì công_chức làm công_tác hộ_tịch khóa thông_tin của người chết trong Cơ_sở dữ_liệu hộ_tịch điện_tử .\n",
      "Metadata: Luật\n",
      "Stt: 13\n",
      "Điều: Điều 52. Thủ tục đăng ký khai tử\n",
      "Score Qdrant: 0.6069953441619873 \n",
      " -----------------------\n"
     ]
    }
   ],
   "source": [
    "print_Results_MoreKeywords(search_results)"
   ]
  },
  {
   "cell_type": "markdown",
   "metadata": {},
   "source": [
    "# 4. Search có filter"
   ]
  },
  {
   "cell_type": "code",
   "execution_count": 25,
   "metadata": {},
   "outputs": [
    {
     "name": "stdout",
     "output_type": "stream",
     "text": [
      "{'Loai-Van-Ban': 'Nghị định', 'Noi-Ban-Hanh': 'Chính phủ', 'So-Hieu': '127/2018/NĐ-CP', 'Ngay-Ban-Hanh': ['21/09/2018'], 'LinhVuc-Nganh': ['Giáo dục']}\n",
      "<class 'dict'>\n"
     ]
    }
   ],
   "source": [
    "import json\n",
    "\n",
    "metadata_json_str = '{\"Loai-Van-Ban\": \"Nghị định\", ' \\\n",
    "'\"Noi-Ban-Hanh\": \"Chính phủ\", ' \\\n",
    "'\"So-Hieu\": \"127/2018/NĐ-CP\", ' \\\n",
    "'\"Ngay-Ban-Hanh\": [\"21/09/2018\"], ' \\\n",
    "'\"LinhVuc-Nganh\": [\"Giáo dục\"]}'\n",
    "\n",
    "# Chuyển chuỗi JSON thành dictionary\n",
    "metadata_dict = json.loads(metadata_json_str)\n",
    "\n",
    "# In ra để kiểm tra\n",
    "print(metadata_dict)\n",
    "print(type(metadata_dict))\n"
   ]
  },
  {
   "cell_type": "code",
   "execution_count": 26,
   "metadata": {},
   "outputs": [
    {
     "ename": "ValueError",
     "evalue": "Protocol message Filter has no \"Loai-Van-Ban\" field.",
     "output_type": "error",
     "traceback": [
      "\u001b[1;31m---------------------------------------------------------------------------\u001b[0m",
      "\u001b[1;31mValueError\u001b[0m                                Traceback (most recent call last)",
      "Cell \u001b[1;32mIn[26], line 2\u001b[0m\n\u001b[0;32m      1\u001b[0m \u001b[38;5;66;03m# Thực hiện tìm kiếm trên Qdrant với filter `should`\u001b[39;00m\n\u001b[1;32m----> 2\u001b[0m search_results \u001b[38;5;241m=\u001b[39m \u001b[43mexist_GD_Collection\u001b[49m\u001b[38;5;241;43m.\u001b[39;49m\u001b[43msimilarity_search_with_score\u001b[49m\u001b[43m(\u001b[49m\n\u001b[0;32m      3\u001b[0m \u001b[43m    \u001b[49m\u001b[43mquery\u001b[49m\u001b[38;5;241;43m=\u001b[39;49m\u001b[38;5;124;43m\"\u001b[39;49m\u001b[38;5;124;43m\"\u001b[39;49m\u001b[43m,\u001b[49m\n\u001b[0;32m      4\u001b[0m \u001b[43m    \u001b[49m\u001b[38;5;28;43mfilter\u001b[39;49m\u001b[38;5;241;43m=\u001b[39;49m\u001b[43mmetadata_dict\u001b[49m\u001b[43m,\u001b[49m\n\u001b[0;32m      5\u001b[0m \u001b[43m    \u001b[49m\u001b[43mk\u001b[49m\u001b[38;5;241;43m=\u001b[39;49m\u001b[38;5;241;43m5\u001b[39;49m\n\u001b[0;32m      6\u001b[0m \u001b[43m)\u001b[49m\n",
      "File \u001b[1;32md:\\Download_Python\\lib\\site-packages\\langchain_qdrant\\qdrant.py:512\u001b[0m, in \u001b[0;36mQdrantVectorStore.similarity_search_with_score\u001b[1;34m(self, query, k, filter, search_params, offset, score_threshold, consistency, hybrid_fusion, **kwargs)\u001b[0m\n\u001b[0;32m    510\u001b[0m \u001b[38;5;28;01mif\u001b[39;00m \u001b[38;5;28mself\u001b[39m\u001b[38;5;241m.\u001b[39mretrieval_mode \u001b[38;5;241m==\u001b[39m RetrievalMode\u001b[38;5;241m.\u001b[39mDENSE:\n\u001b[0;32m    511\u001b[0m     query_dense_embedding \u001b[38;5;241m=\u001b[39m \u001b[38;5;28mself\u001b[39m\u001b[38;5;241m.\u001b[39membeddings\u001b[38;5;241m.\u001b[39membed_query(query)\n\u001b[1;32m--> 512\u001b[0m     results \u001b[38;5;241m=\u001b[39m \u001b[38;5;28mself\u001b[39m\u001b[38;5;241m.\u001b[39mclient\u001b[38;5;241m.\u001b[39mquery_points(\n\u001b[0;32m    513\u001b[0m         query\u001b[38;5;241m=\u001b[39mquery_dense_embedding,\n\u001b[0;32m    514\u001b[0m         using\u001b[38;5;241m=\u001b[39m\u001b[38;5;28mself\u001b[39m\u001b[38;5;241m.\u001b[39mvector_name,\n\u001b[0;32m    515\u001b[0m         \u001b[38;5;241m*\u001b[39m\u001b[38;5;241m*\u001b[39mquery_options,\n\u001b[0;32m    516\u001b[0m     )\u001b[38;5;241m.\u001b[39mpoints\n\u001b[0;32m    518\u001b[0m \u001b[38;5;28;01melif\u001b[39;00m \u001b[38;5;28mself\u001b[39m\u001b[38;5;241m.\u001b[39mretrieval_mode \u001b[38;5;241m==\u001b[39m RetrievalMode\u001b[38;5;241m.\u001b[39mSPARSE:\n\u001b[0;32m    519\u001b[0m     query_sparse_embedding \u001b[38;5;241m=\u001b[39m \u001b[38;5;28mself\u001b[39m\u001b[38;5;241m.\u001b[39msparse_embeddings\u001b[38;5;241m.\u001b[39membed_query(query)\n",
      "File \u001b[1;32md:\\Download_Python\\lib\\site-packages\\qdrant_client\\qdrant_client.py:528\u001b[0m, in \u001b[0;36mQdrantClient.query_points\u001b[1;34m(self, collection_name, query, using, prefetch, query_filter, search_params, limit, offset, with_payload, with_vectors, score_threshold, lookup_from, consistency, shard_key_selector, timeout, **kwargs)\u001b[0m\n\u001b[0;32m    522\u001b[0m \u001b[38;5;66;03m# If the query contains unprocessed documents, we need to embed them and\u001b[39;00m\n\u001b[0;32m    523\u001b[0m \u001b[38;5;66;03m# replace the original query with the embedded vectors.\u001b[39;00m\n\u001b[0;32m    524\u001b[0m using, query, prefetch \u001b[38;5;241m=\u001b[39m \u001b[38;5;28mself\u001b[39m\u001b[38;5;241m.\u001b[39m_resolve_query_to_embedding_embeddings_and_prefetch(\n\u001b[0;32m    525\u001b[0m     query, prefetch, using, limit\n\u001b[0;32m    526\u001b[0m )\n\u001b[1;32m--> 528\u001b[0m \u001b[38;5;28;01mreturn\u001b[39;00m \u001b[38;5;28mself\u001b[39m\u001b[38;5;241m.\u001b[39m_client\u001b[38;5;241m.\u001b[39mquery_points(\n\u001b[0;32m    529\u001b[0m     collection_name\u001b[38;5;241m=\u001b[39mcollection_name,\n\u001b[0;32m    530\u001b[0m     query\u001b[38;5;241m=\u001b[39mquery,\n\u001b[0;32m    531\u001b[0m     prefetch\u001b[38;5;241m=\u001b[39mprefetch,\n\u001b[0;32m    532\u001b[0m     query_filter\u001b[38;5;241m=\u001b[39mquery_filter,\n\u001b[0;32m    533\u001b[0m     search_params\u001b[38;5;241m=\u001b[39msearch_params,\n\u001b[0;32m    534\u001b[0m     limit\u001b[38;5;241m=\u001b[39mlimit,\n\u001b[0;32m    535\u001b[0m     offset\u001b[38;5;241m=\u001b[39moffset,\n\u001b[0;32m    536\u001b[0m     with_payload\u001b[38;5;241m=\u001b[39mwith_payload,\n\u001b[0;32m    537\u001b[0m     with_vectors\u001b[38;5;241m=\u001b[39mwith_vectors,\n\u001b[0;32m    538\u001b[0m     score_threshold\u001b[38;5;241m=\u001b[39mscore_threshold,\n\u001b[0;32m    539\u001b[0m     using\u001b[38;5;241m=\u001b[39musing,\n\u001b[0;32m    540\u001b[0m     lookup_from\u001b[38;5;241m=\u001b[39mlookup_from,\n\u001b[0;32m    541\u001b[0m     consistency\u001b[38;5;241m=\u001b[39mconsistency,\n\u001b[0;32m    542\u001b[0m     shard_key_selector\u001b[38;5;241m=\u001b[39mshard_key_selector,\n\u001b[0;32m    543\u001b[0m     timeout\u001b[38;5;241m=\u001b[39mtimeout,\n\u001b[0;32m    544\u001b[0m     \u001b[38;5;241m*\u001b[39m\u001b[38;5;241m*\u001b[39mkwargs,\n\u001b[0;32m    545\u001b[0m )\n",
      "File \u001b[1;32md:\\Download_Python\\lib\\site-packages\\qdrant_client\\qdrant_remote.py:595\u001b[0m, in \u001b[0;36mQdrantRemote.query_points\u001b[1;34m(self, collection_name, query, using, prefetch, query_filter, search_params, limit, offset, with_payload, with_vectors, score_threshold, lookup_from, consistency, shard_key_selector, timeout, **kwargs)\u001b[0m\n\u001b[0;32m    591\u001b[0m \u001b[38;5;28;01mif\u001b[39;00m \u001b[38;5;28misinstance\u001b[39m(shard_key_selector, get_args_subscribed(models\u001b[38;5;241m.\u001b[39mShardKeySelector)):\n\u001b[0;32m    592\u001b[0m     shard_key_selector \u001b[38;5;241m=\u001b[39m RestToGrpc\u001b[38;5;241m.\u001b[39mconvert_shard_key_selector(shard_key_selector)\n\u001b[0;32m    594\u001b[0m res: grpc\u001b[38;5;241m.\u001b[39mQueryResponse \u001b[38;5;241m=\u001b[39m \u001b[38;5;28mself\u001b[39m\u001b[38;5;241m.\u001b[39mgrpc_points\u001b[38;5;241m.\u001b[39mQuery(\n\u001b[1;32m--> 595\u001b[0m     \u001b[43mgrpc\u001b[49m\u001b[38;5;241;43m.\u001b[39;49m\u001b[43mQueryPoints\u001b[49m\u001b[43m(\u001b[49m\n\u001b[0;32m    596\u001b[0m \u001b[43m        \u001b[49m\u001b[43mcollection_name\u001b[49m\u001b[38;5;241;43m=\u001b[39;49m\u001b[43mcollection_name\u001b[49m\u001b[43m,\u001b[49m\n\u001b[0;32m    597\u001b[0m \u001b[43m        \u001b[49m\u001b[43mquery\u001b[49m\u001b[38;5;241;43m=\u001b[39;49m\u001b[43mquery\u001b[49m\u001b[43m,\u001b[49m\n\u001b[0;32m    598\u001b[0m \u001b[43m        \u001b[49m\u001b[43mprefetch\u001b[49m\u001b[38;5;241;43m=\u001b[39;49m\u001b[43mprefetch\u001b[49m\u001b[43m,\u001b[49m\n\u001b[0;32m    599\u001b[0m \u001b[43m        \u001b[49m\u001b[38;5;28;43mfilter\u001b[39;49m\u001b[38;5;241;43m=\u001b[39;49m\u001b[43mquery_filter\u001b[49m\u001b[43m,\u001b[49m\n\u001b[0;32m    600\u001b[0m \u001b[43m        \u001b[49m\u001b[43mlimit\u001b[49m\u001b[38;5;241;43m=\u001b[39;49m\u001b[43mlimit\u001b[49m\u001b[43m,\u001b[49m\n\u001b[0;32m    601\u001b[0m \u001b[43m        \u001b[49m\u001b[43moffset\u001b[49m\u001b[38;5;241;43m=\u001b[39;49m\u001b[43moffset\u001b[49m\u001b[43m,\u001b[49m\n\u001b[0;32m    602\u001b[0m \u001b[43m        \u001b[49m\u001b[43mwith_vectors\u001b[49m\u001b[38;5;241;43m=\u001b[39;49m\u001b[43mwith_vectors\u001b[49m\u001b[43m,\u001b[49m\n\u001b[0;32m    603\u001b[0m \u001b[43m        \u001b[49m\u001b[43mwith_payload\u001b[49m\u001b[38;5;241;43m=\u001b[39;49m\u001b[43mwith_payload\u001b[49m\u001b[43m,\u001b[49m\n\u001b[0;32m    604\u001b[0m \u001b[43m        \u001b[49m\u001b[43mparams\u001b[49m\u001b[38;5;241;43m=\u001b[39;49m\u001b[43msearch_params\u001b[49m\u001b[43m,\u001b[49m\n\u001b[0;32m    605\u001b[0m \u001b[43m        \u001b[49m\u001b[43mscore_threshold\u001b[49m\u001b[38;5;241;43m=\u001b[39;49m\u001b[43mscore_threshold\u001b[49m\u001b[43m,\u001b[49m\n\u001b[0;32m    606\u001b[0m \u001b[43m        \u001b[49m\u001b[43musing\u001b[49m\u001b[38;5;241;43m=\u001b[39;49m\u001b[43musing\u001b[49m\u001b[43m,\u001b[49m\n\u001b[0;32m    607\u001b[0m \u001b[43m        \u001b[49m\u001b[43mlookup_from\u001b[49m\u001b[38;5;241;43m=\u001b[39;49m\u001b[43mlookup_from\u001b[49m\u001b[43m,\u001b[49m\n\u001b[0;32m    608\u001b[0m \u001b[43m        \u001b[49m\u001b[43mtimeout\u001b[49m\u001b[38;5;241;43m=\u001b[39;49m\u001b[43mtimeout\u001b[49m\u001b[43m,\u001b[49m\n\u001b[0;32m    609\u001b[0m \u001b[43m        \u001b[49m\u001b[43mshard_key_selector\u001b[49m\u001b[38;5;241;43m=\u001b[39;49m\u001b[43mshard_key_selector\u001b[49m\u001b[43m,\u001b[49m\n\u001b[0;32m    610\u001b[0m \u001b[43m        \u001b[49m\u001b[43mread_consistency\u001b[49m\u001b[38;5;241;43m=\u001b[39;49m\u001b[43mconsistency\u001b[49m\u001b[43m,\u001b[49m\n\u001b[0;32m    611\u001b[0m \u001b[43m    \u001b[49m\u001b[43m)\u001b[49m,\n\u001b[0;32m    612\u001b[0m     timeout\u001b[38;5;241m=\u001b[39mtimeout \u001b[38;5;28;01mif\u001b[39;00m timeout \u001b[38;5;129;01mis\u001b[39;00m \u001b[38;5;28;01mNone\u001b[39;00m \u001b[38;5;28;01melse\u001b[39;00m \u001b[38;5;28mself\u001b[39m\u001b[38;5;241m.\u001b[39m_timeout,\n\u001b[0;32m    613\u001b[0m )\n\u001b[0;32m    615\u001b[0m scored_points \u001b[38;5;241m=\u001b[39m [GrpcToRest\u001b[38;5;241m.\u001b[39mconvert_scored_point(hit) \u001b[38;5;28;01mfor\u001b[39;00m hit \u001b[38;5;129;01min\u001b[39;00m res\u001b[38;5;241m.\u001b[39mresult]\n\u001b[0;32m    616\u001b[0m \u001b[38;5;28;01mreturn\u001b[39;00m models\u001b[38;5;241m.\u001b[39mQueryResponse(points\u001b[38;5;241m=\u001b[39mscored_points)\n",
      "\u001b[1;31mValueError\u001b[0m: Protocol message Filter has no \"Loai-Van-Ban\" field."
     ]
    }
   ],
   "source": [
    "# Thực hiện tìm kiếm trên Qdrant với filter `should`\n",
    "search_results = exist_GD_Collection.similarity_search_with_score(\n",
    "    query=\"\",\n",
    "    filter=metadata_dict,\n",
    "    k=5\n",
    ")"
   ]
  },
  {
   "cell_type": "code",
   "execution_count": null,
   "metadata": {},
   "outputs": [],
   "source": []
  }
 ],
 "metadata": {
  "kernelspec": {
   "display_name": "Python 3",
   "language": "python",
   "name": "python3"
  },
  "language_info": {
   "codemirror_mode": {
    "name": "ipython",
    "version": 3
   },
   "file_extension": ".py",
   "mimetype": "text/x-python",
   "name": "python",
   "nbconvert_exporter": "python",
   "pygments_lexer": "ipython3",
   "version": "3.9.8"
  }
 },
 "nbformat": 4,
 "nbformat_minor": 2
}
