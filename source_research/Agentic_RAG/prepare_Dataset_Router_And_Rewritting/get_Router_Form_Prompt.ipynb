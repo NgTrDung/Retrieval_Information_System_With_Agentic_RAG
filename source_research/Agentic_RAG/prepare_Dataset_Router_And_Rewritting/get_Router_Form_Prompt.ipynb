{
 "cells": [
  {
   "cell_type": "markdown",
   "metadata": {},
   "source": [
    "## 1.Import library"
   ]
  },
  {
   "cell_type": "code",
   "execution_count": 1,
   "metadata": {},
   "outputs": [
    {
     "name": "stdout",
     "output_type": "stream",
     "text": [
      "WARNING:tensorflow:From c:\\Users\\hdang\\.virtualenvs\\machinelearning-lTTH8rYd\\Lib\\site-packages\\keras\\src\\losses.py:2976: The name tf.losses.sparse_softmax_cross_entropy is deprecated. Please use tf.compat.v1.losses.sparse_softmax_cross_entropy instead.\n",
      "\n"
     ]
    }
   ],
   "source": [
    "import sys\n",
    "import os\n",
    "\n",
    "# Đường dẫn tới thư mục gốc của dự án\n",
    "project_path = r\"D:/DaiHoc/machinelearning/TLCN/DoAnTotNghiep_chat_bot/\"\n",
    "sys.path.append(project_path)\n",
    "# Bây giờ có thể import các module\n",
    "from fastapi import APIRouter,HTTPException\n",
    "from source.function.utils_result import RAG\n",
    "from source.search.utils_search import Qdrant_Utils\n",
    "from source.rerank.utils_rerank import Rerank_Utils  \n",
    "from source.model.embedding_model import Sentences_Transformer_Embedding\n",
    "from source.model.extract_model import Bert_Extract\n",
    "from source.model.generate_model import Gemini\n",
    "from source.model.rerank_model import Cohere\n",
    "from source.data.vectordb.qdrant import Qdrant_Vector\n",
    "from source.core.config import Settings\n",
    "from source.generate.generate import Gemini_Generate\n",
    "from source.extract.utils_extract import Extract_Information\n",
    "from source.schema.chatbot_querry import ChatbotQuery\n",
    "import pandas as pd\n",
    "import time"
   ]
  },
  {
   "cell_type": "markdown",
   "metadata": {},
   "source": [
    "## 2. Load file dataset Router"
   ]
  },
  {
   "cell_type": "code",
   "execution_count": 2,
   "metadata": {},
   "outputs": [
    {
     "name": "stdout",
     "output_type": "stream",
     "text": [
      "                                    user_Query  expected_Domain\n",
      "0                    Xin chào, bạn khỏe không?                0\n",
      "1         Chào buổi sáng, hôm nay thế nào rồi?                0\n",
      "2    Hey! Lâu rồi không gặp, dạo này ổn không?                0\n",
      "3  Chào bạn! Hy vọng bạn có một ngày tốt lành.                0\n",
      "4                    Hello! Có ai ở đây không?                0\n",
      "(1000, 2)\n"
     ]
    }
   ],
   "source": [
    "# Đọc file dataset_Query_Router.xlsx\n",
    "file_path = r\"../data_danhgia_module_router_generate/dataset_Query_Router.xlsx\"\n",
    "\n",
    "df = pd.read_excel(file_path, engine=\"openpyxl\")\n",
    "\n",
    "# Hiển thị 5 dòng đầu tiên\n",
    "print(df.head(5))\n",
    "print(df.shape)"
   ]
  },
  {
   "cell_type": "markdown",
   "metadata": {},
   "source": [
    "# 3. Thực thi tổng quát"
   ]
  },
  {
   "cell_type": "code",
   "execution_count": 3,
   "metadata": {},
   "outputs": [],
   "source": [
    "# Đọc file dataset_Query_Router.xlsx\n",
    "file_path = \"../data_danhgia_module_router_generate/dataset_Query_Router.xlsx\"\n",
    "output_file = \"../data_danhgia_module_router_generate/eval_query_router.xlsx\""
   ]
  },
  {
   "cell_type": "code",
   "execution_count": 4,
   "metadata": {},
   "outputs": [],
   "source": [
    "setting=Settings()\n",
    "gemini=Gemini(setting)\n",
    "gemeni_func=Gemini_Generate(gemini,setting)"
   ]
  },
  {
   "cell_type": "code",
   "execution_count": 5,
   "metadata": {},
   "outputs": [],
   "source": [
    "# Đọc dữ liệu từ file\n",
    "df = pd.read_excel(file_path, engine=\"openpyxl\")\n",
    "queries = df[\"user_Query\"].tolist()\n",
    "expected_domains = df[\"expected_Domain\"].tolist()"
   ]
  },
  {
   "cell_type": "code",
   "execution_count": 6,
   "metadata": {},
   "outputs": [],
   "source": [
    "# Danh sách lưu kết quả\n",
    "results = []\n",
    "batch_size = 10  # Số lượng kết quả sẽ lưu vào file mỗi lần"
   ]
  },
  {
   "cell_type": "code",
   "execution_count": null,
   "metadata": {},
   "outputs": [
    {
     "name": "stdout",
     "output_type": "stream",
     "text": [
      "Processed 1/1000 - Expected: 0 - Result: 0\n",
      "Processed 2/1000 - Expected: 0 - Result: 0\n",
      "Processed 3/1000 - Expected: 0 - Result: 0\n",
      "Processed 4/1000 - Expected: 0 - Result: 0\n",
      "Processed 5/1000 - Expected: 0 - Result: 0\n",
      "Processed 6/1000 - Expected: 0 - Result: 0\n",
      "Processed 7/1000 - Expected: 0 - Result: 0\n",
      "Processed 8/1000 - Expected: 0 - Result: 0\n",
      "Processed 9/1000 - Expected: 0 - Result: 0\n",
      "Processed 10/1000 - Expected: 0 - Result: 0\n",
      "Processed 11/1000 - Expected: 0 - Result: 0\n",
      "Processed 12/1000 - Expected: 0 - Result: 0\n",
      "Processed 13/1000 - Expected: 0 - Result: 0\n",
      "Processed 14/1000 - Expected: 0 - Result: 0\n",
      "Processed 15/1000 - Expected: 0 - Result: 0\n",
      "Processed 16/1000 - Expected: 0 - Result: 0\n",
      "Processed 17/1000 - Expected: 0 - Result: 0\n",
      "Processed 18/1000 - Expected: 0 - Result: 0\n",
      "Processed 19/1000 - Expected: 0 - Result: 0\n",
      "Processed 20/1000 - Expected: 0 - Result: 0\n",
      "Processed 21/1000 - Expected: 0 - Result: 0\n",
      "Processed 22/1000 - Expected: 0 - Result: 0\n",
      "Processed 23/1000 - Expected: 0 - Result: 0\n",
      "Processed 24/1000 - Expected: 0 - Result: 0\n",
      "Processed 25/1000 - Expected: 0 - Result: 0\n",
      "Processed 26/1000 - Expected: 0 - Result: 0\n",
      "Processed 27/1000 - Expected: 0 - Result: 2\n",
      "Processed 28/1000 - Expected: 0 - Result: 0\n",
      "Processed 29/1000 - Expected: 0 - Result: 0\n",
      "Processed 30/1000 - Expected: 0 - Result: 0\n",
      "Processed 31/1000 - Expected: 0 - Result: 0\n",
      "Processed 32/1000 - Expected: 0 - Result: 0\n",
      "Processed 33/1000 - Expected: 0 - Result: 0\n",
      "Processed 34/1000 - Expected: 0 - Result: 0\n",
      "Processed 35/1000 - Expected: 0 - Result: 0\n",
      "Processed 36/1000 - Expected: 0 - Result: 0\n",
      "Processed 37/1000 - Expected: 0 - Result: 0\n",
      "Processed 38/1000 - Expected: 0 - Result: 0\n",
      "Processed 39/1000 - Expected: 0 - Result: 0\n",
      "Processed 40/1000 - Expected: 0 - Result: 0\n",
      "Processed 41/1000 - Expected: 0 - Result: 0\n",
      "Processed 42/1000 - Expected: 0 - Result: 0\n",
      "Processed 43/1000 - Expected: 0 - Result: 0\n",
      "Processed 44/1000 - Expected: 0 - Result: 0\n",
      "Processed 45/1000 - Expected: 0 - Result: 0\n",
      "Processed 46/1000 - Expected: 0 - Result: 0\n",
      "Processed 47/1000 - Expected: 0 - Result: 0\n",
      "Processed 48/1000 - Expected: 0 - Result: 0\n",
      "Processed 49/1000 - Expected: 0 - Result: 0\n",
      "Processed 50/1000 - Expected: 0 - Result: 0\n",
      "Processed 51/1000 - Expected: 0 - Result: 0\n",
      "Processed 52/1000 - Expected: 0 - Result: 0\n",
      "Processed 53/1000 - Expected: 0 - Result: 0\n",
      "Processed 54/1000 - Expected: 0 - Result: 0\n",
      "Processed 55/1000 - Expected: 0 - Result: 0\n",
      "Processed 56/1000 - Expected: 0 - Result: 0\n",
      "Processed 57/1000 - Expected: 0 - Result: 0\n",
      "Processed 58/1000 - Expected: 0 - Result: 0\n",
      "Processed 59/1000 - Expected: 0 - Result: 0\n",
      "Processed 60/1000 - Expected: 0 - Result: 0\n",
      "Processed 61/1000 - Expected: 0 - Result: 0\n",
      "Processed 62/1000 - Expected: 0 - Result: 0\n",
      "Processed 63/1000 - Expected: 0 - Result: 0\n",
      "Processed 64/1000 - Expected: 0 - Result: 0\n",
      "Processed 65/1000 - Expected: 0 - Result: 0\n",
      "Processed 66/1000 - Expected: 0 - Result: 0\n",
      "Processed 67/1000 - Expected: 0 - Result: 0\n",
      "Processed 68/1000 - Expected: 0 - Result: 0\n",
      "Processed 69/1000 - Expected: 0 - Result: 0\n",
      "Processed 70/1000 - Expected: 0 - Result: 0\n",
      "Processed 71/1000 - Expected: 0 - Result: 0\n",
      "Processed 72/1000 - Expected: 0 - Result: 0\n",
      "Processed 73/1000 - Expected: 0 - Result: 0\n",
      "Processed 74/1000 - Expected: 0 - Result: 0\n",
      "Processed 75/1000 - Expected: 0 - Result: 0\n",
      "Processed 76/1000 - Expected: 0 - Result: 0\n",
      "Processed 77/1000 - Expected: 0 - Result: 0\n",
      "Processed 78/1000 - Expected: 0 - Result: 0\n",
      "Processed 79/1000 - Expected: 0 - Result: 0\n",
      "Processed 80/1000 - Expected: 0 - Result: 0\n",
      "Processed 81/1000 - Expected: 0 - Result: 0\n",
      "Processed 82/1000 - Expected: 0 - Result: 0\n",
      "Processed 83/1000 - Expected: 0 - Result: 0\n",
      "Processed 84/1000 - Expected: 0 - Result: 0\n",
      "Processed 85/1000 - Expected: 0 - Result: 0\n",
      "Processed 86/1000 - Expected: 0 - Result: 0\n",
      "Processed 87/1000 - Expected: 0 - Result: 0\n",
      "Processed 88/1000 - Expected: 0 - Result: 0\n",
      "Processed 89/1000 - Expected: 0 - Result: 0\n",
      "Processed 90/1000 - Expected: 0 - Result: 0\n",
      "Processed 91/1000 - Expected: 0 - Result: 0\n",
      "Processed 92/1000 - Expected: 0 - Result: 0\n",
      "Processed 93/1000 - Expected: 0 - Result: 0\n",
      "Processed 94/1000 - Expected: 0 - Result: 0\n",
      "Processed 95/1000 - Expected: 0 - Result: 0\n",
      "Processed 96/1000 - Expected: 0 - Result: 0\n",
      "Processed 97/1000 - Expected: 0 - Result: 0\n",
      "Processed 98/1000 - Expected: 0 - Result: 0\n",
      "Processed 99/1000 - Expected: 0 - Result: 0\n",
      "Processed 100/1000 - Expected: 0 - Result: 0\n",
      "Processed 101/1000 - Expected: 0 - Result: 0\n",
      "Processed 102/1000 - Expected: 0 - Result: 0\n",
      "Processed 103/1000 - Expected: 0 - Result: 0\n",
      "Processed 104/1000 - Expected: 0 - Result: 0\n",
      "Processed 105/1000 - Expected: 0 - Result: 0\n",
      "Processed 106/1000 - Expected: 0 - Result: 0\n",
      "Processed 107/1000 - Expected: 0 - Result: 0\n",
      "Processed 108/1000 - Expected: 0 - Result: 0\n",
      "Processed 109/1000 - Expected: 0 - Result: 0\n",
      "Processed 110/1000 - Expected: 0 - Result: 0\n",
      "Processed 111/1000 - Expected: 0 - Result: 0\n",
      "Processed 112/1000 - Expected: 0 - Result: 0\n",
      "Processed 113/1000 - Expected: 0 - Result: 0\n",
      "Processed 114/1000 - Expected: 0 - Result: 0\n",
      "Processed 115/1000 - Expected: 0 - Result: 0\n",
      "Processed 116/1000 - Expected: 0 - Result: 0\n",
      "Processed 117/1000 - Expected: 0 - Result: 0\n",
      "Processed 118/1000 - Expected: 0 - Result: 0\n",
      "Processed 119/1000 - Expected: 0 - Result: 0\n",
      "Processed 120/1000 - Expected: 0 - Result: 0\n",
      "Processed 121/1000 - Expected: 0 - Result: 0\n",
      "Processed 122/1000 - Expected: 0 - Result: 0\n",
      "Processed 123/1000 - Expected: 0 - Result: 0\n",
      "Processed 124/1000 - Expected: 0 - Result: 0\n",
      "Processed 125/1000 - Expected: 0 - Result: 0\n",
      "Processed 126/1000 - Expected: 0 - Result: 0\n",
      "Processed 127/1000 - Expected: 0 - Result: 0\n",
      "Processed 128/1000 - Expected: 0 - Result: 0\n",
      "Processed 129/1000 - Expected: 0 - Result: 0\n",
      "Processed 130/1000 - Expected: 0 - Result: 0\n",
      "Processed 131/1000 - Expected: 0 - Result: 0\n",
      "Processed 132/1000 - Expected: 0 - Result: 0\n",
      "Processed 133/1000 - Expected: 0 - Result: 0\n",
      "Processed 134/1000 - Expected: 0 - Result: 0\n",
      "Processed 135/1000 - Expected: 0 - Result: 0\n",
      "Processed 136/1000 - Expected: 0 - Result: 0\n",
      "Processed 137/1000 - Expected: 0 - Result: 0\n",
      "Processed 138/1000 - Expected: 0 - Result: 0\n",
      "Processed 139/1000 - Expected: 0 - Result: 0\n",
      "Processed 140/1000 - Expected: 0 - Result: 0\n",
      "Processed 141/1000 - Expected: 0 - Result: 0\n",
      "Processed 142/1000 - Expected: 0 - Result: 0\n",
      "Processed 143/1000 - Expected: 0 - Result: 0\n",
      "Processed 144/1000 - Expected: 0 - Result: 0\n",
      "Processed 145/1000 - Expected: 0 - Result: 0\n",
      "Processed 146/1000 - Expected: 0 - Result: 0\n",
      "Processed 147/1000 - Expected: 0 - Result: 0\n",
      "Processed 148/1000 - Expected: 0 - Result: 0\n",
      "Processed 149/1000 - Expected: 0 - Result: 0\n",
      "Processed 150/1000 - Expected: 0 - Result: 0\n",
      "Processed 151/1000 - Expected: 0 - Result: 0\n",
      "Processed 152/1000 - Expected: 0 - Result: 0\n",
      "Processed 153/1000 - Expected: 0 - Result: 0\n",
      "Processed 154/1000 - Expected: 0 - Result: 0\n",
      "Processed 155/1000 - Expected: 0 - Result: 0\n",
      "Processed 156/1000 - Expected: 0 - Result: 0\n",
      "Processed 157/1000 - Expected: 0 - Result: 0\n",
      "Processed 158/1000 - Expected: 0 - Result: 0\n",
      "Processed 159/1000 - Expected: 0 - Result: 0\n",
      "Processed 160/1000 - Expected: 0 - Result: 0\n",
      "Processed 161/1000 - Expected: 0 - Result: 0\n",
      "Processed 162/1000 - Expected: 0 - Result: 0\n",
      "Processed 163/1000 - Expected: 0 - Result: 0\n",
      "Processed 164/1000 - Expected: 0 - Result: 0\n",
      "Processed 165/1000 - Expected: 0 - Result: 0\n",
      "Processed 166/1000 - Expected: 0 - Result: 0\n",
      "Processed 167/1000 - Expected: 0 - Result: 0\n",
      "Processed 168/1000 - Expected: 0 - Result: 0\n",
      "Processed 169/1000 - Expected: 0 - Result: 0\n",
      "Processed 170/1000 - Expected: 0 - Result: 0\n",
      "Processed 171/1000 - Expected: 0 - Result: 0\n",
      "Processed 172/1000 - Expected: 0 - Result: 0\n",
      "Processed 173/1000 - Expected: 0 - Result: 0\n",
      "Processed 174/1000 - Expected: 0 - Result: 0\n",
      "Processed 175/1000 - Expected: 0 - Result: 0\n",
      "Processed 176/1000 - Expected: 0 - Result: 0\n",
      "Processed 177/1000 - Expected: 0 - Result: 0\n",
      "Processed 178/1000 - Expected: 0 - Result: 0\n",
      "Processed 179/1000 - Expected: 0 - Result: 0\n",
      "Processed 180/1000 - Expected: 0 - Result: 0\n",
      "Processed 181/1000 - Expected: 0 - Result: 0\n",
      "Processed 182/1000 - Expected: 0 - Result: 0\n",
      "Processed 183/1000 - Expected: 0 - Result: 0\n",
      "Processed 184/1000 - Expected: 0 - Result: 0\n",
      "Processed 185/1000 - Expected: 0 - Result: 0\n",
      "Processed 186/1000 - Expected: 0 - Result: 0\n",
      "Processed 187/1000 - Expected: 0 - Result: 0\n",
      "Processed 188/1000 - Expected: 0 - Result: 0\n",
      "Processed 189/1000 - Expected: 0 - Result: 0\n",
      "Processed 190/1000 - Expected: 0 - Result: 0\n",
      "Processed 191/1000 - Expected: 0 - Result: 0\n",
      "Processed 192/1000 - Expected: 0 - Result: 0\n",
      "Processed 193/1000 - Expected: 0 - Result: 0\n",
      "Processed 194/1000 - Expected: 0 - Result: 0\n",
      "Processed 195/1000 - Expected: 0 - Result: 0\n",
      "Processed 196/1000 - Expected: 0 - Result: 0\n",
      "Processed 197/1000 - Expected: 0 - Result: 0\n",
      "Processed 198/1000 - Expected: 0 - Result: 0\n",
      "Processed 199/1000 - Expected: 0 - Result: 0\n",
      "Processed 200/1000 - Expected: 0 - Result: 0\n",
      "Processed 201/1000 - Expected: 0 - Result: 0\n",
      "Processed 202/1000 - Expected: 0 - Result: 0\n",
      "Processed 203/1000 - Expected: 0 - Result: 0\n",
      "Processed 204/1000 - Expected: 0 - Result: 0\n",
      "Processed 205/1000 - Expected: 0 - Result: 0\n",
      "Processed 206/1000 - Expected: 0 - Result: 0\n",
      "Processed 207/1000 - Expected: 0 - Result: 0\n",
      "Processed 208/1000 - Expected: 0 - Result: 0\n",
      "Processed 209/1000 - Expected: 0 - Result: 0\n",
      "Processed 210/1000 - Expected: 0 - Result: 0\n",
      "Processed 211/1000 - Expected: 0 - Result: 0\n",
      "Processed 212/1000 - Expected: 0 - Result: 0\n",
      "Processed 213/1000 - Expected: 0 - Result: 0\n",
      "Processed 214/1000 - Expected: 0 - Result: 0\n",
      "Processed 215/1000 - Expected: 0 - Result: 0\n",
      "Processed 216/1000 - Expected: 0 - Result: 0\n",
      "Processed 217/1000 - Expected: 0 - Result: 0\n",
      "Processed 218/1000 - Expected: 0 - Result: 0\n",
      "Processed 219/1000 - Expected: 0 - Result: 0\n",
      "Processed 220/1000 - Expected: 0 - Result: 0\n",
      "Processed 221/1000 - Expected: 0 - Result: 0\n",
      "Processed 222/1000 - Expected: 0 - Result: 0\n",
      "Processed 223/1000 - Expected: 0 - Result: 0\n",
      "Processed 224/1000 - Expected: 0 - Result: 0\n",
      "Processed 225/1000 - Expected: 0 - Result: 0\n",
      "Processed 226/1000 - Expected: 0 - Result: 0\n",
      "Processed 227/1000 - Expected: 0 - Result: 0\n",
      "Processed 228/1000 - Expected: 0 - Result: 0\n",
      "Processed 229/1000 - Expected: 0 - Result: 0\n",
      "Processed 230/1000 - Expected: 0 - Result: 0\n",
      "Processed 231/1000 - Expected: 0 - Result: 0\n",
      "Processed 232/1000 - Expected: 0 - Result: 0\n",
      "Processed 233/1000 - Expected: 0 - Result: 0\n",
      "Processed 234/1000 - Expected: 0 - Result: 0\n",
      "Processed 235/1000 - Expected: 0 - Result: 0\n",
      "Processed 236/1000 - Expected: 0 - Result: 0\n",
      "Processed 237/1000 - Expected: 0 - Result: 0\n",
      "Processed 238/1000 - Expected: 0 - Result: 0\n",
      "Processed 239/1000 - Expected: 0 - Result: 0\n",
      "Processed 240/1000 - Expected: 0 - Result: 0\n",
      "Processed 241/1000 - Expected: 0 - Result: 0\n",
      "Processed 242/1000 - Expected: 0 - Result: 0\n",
      "Processed 243/1000 - Expected: 0 - Result: 0\n",
      "Processed 244/1000 - Expected: 0 - Result: 0\n",
      "Processed 245/1000 - Expected: 0 - Result: 0\n",
      "Processed 246/1000 - Expected: 0 - Result: 0\n",
      "Processed 247/1000 - Expected: 0 - Result: 0\n",
      "Processed 248/1000 - Expected: 0 - Result: 0\n",
      "Processed 249/1000 - Expected: 0 - Result: 0\n",
      "Processed 250/1000 - Expected: 0 - Result: 0\n",
      "Processed 251/1000 - Expected: 1 - Result: 0\n",
      "Processed 252/1000 - Expected: 1 - Result: 0\n",
      "Processed 253/1000 - Expected: 1 - Result: 0\n",
      "Processed 254/1000 - Expected: 1 - Result: 0\n",
      "Processed 255/1000 - Expected: 1 - Result: 0\n",
      "Processed 256/1000 - Expected: 1 - Result: 0\n",
      "Processed 257/1000 - Expected: 1 - Result: 0\n",
      "Processed 258/1000 - Expected: 1 - Result: 0\n",
      "Processed 259/1000 - Expected: 1 - Result: 0\n",
      "Processed 260/1000 - Expected: 1 - Result: 0\n",
      "Processed 261/1000 - Expected: 1 - Result: 0\n",
      "Processed 262/1000 - Expected: 1 - Result: 0\n",
      "Processed 263/1000 - Expected: 1 - Result: 0\n",
      "Processed 264/1000 - Expected: 1 - Result: 2\n",
      "Processed 265/1000 - Expected: 1 - Result: 2\n",
      "Processed 266/1000 - Expected: 1 - Result: 0\n",
      "Processed 267/1000 - Expected: 1 - Result: 0\n",
      "Processed 268/1000 - Expected: 1 - Result: 0\n",
      "Processed 269/1000 - Expected: 1 - Result: 0\n",
      "Processed 270/1000 - Expected: 1 - Result: 0\n",
      "Processed 271/1000 - Expected: 1 - Result: 0\n",
      "Processed 272/1000 - Expected: 1 - Result: 0\n",
      "Processed 273/1000 - Expected: 1 - Result: 0\n",
      "Processed 274/1000 - Expected: 1 - Result: 0\n",
      "Processed 275/1000 - Expected: 1 - Result: 0\n",
      "Processed 276/1000 - Expected: 1 - Result: 0\n",
      "Processed 277/1000 - Expected: 1 - Result: 2\n",
      "Processed 278/1000 - Expected: 1 - Result: 2\n",
      "Processed 279/1000 - Expected: 1 - Result: 0\n",
      "Processed 280/1000 - Expected: 1 - Result: 0\n",
      "Processed 281/1000 - Expected: 1 - Result: 2\n",
      "Processed 282/1000 - Expected: 1 - Result: 2\n",
      "Processed 283/1000 - Expected: 1 - Result: 0\n",
      "Processed 284/1000 - Expected: 1 - Result: 2\n",
      "Processed 285/1000 - Expected: 1 - Result: 0\n",
      "Processed 286/1000 - Expected: 1 - Result: 2\n",
      "Processed 287/1000 - Expected: 1 - Result: 0\n",
      "Processed 288/1000 - Expected: 1 - Result: 2\n",
      "Processed 289/1000 - Expected: 1 - Result: 2\n",
      "Processed 290/1000 - Expected: 1 - Result: 2\n",
      "Processed 291/1000 - Expected: 1 - Result: 0\n",
      "Processed 292/1000 - Expected: 1 - Result: 0\n",
      "Processed 293/1000 - Expected: 1 - Result: 0\n",
      "Processed 294/1000 - Expected: 1 - Result: 2\n",
      "Processed 295/1000 - Expected: 1 - Result: 2\n",
      "Processed 296/1000 - Expected: 1 - Result: 0\n",
      "Processed 297/1000 - Expected: 1 - Result: 2\n",
      "Processed 298/1000 - Expected: 1 - Result: 2\n",
      "Processed 299/1000 - Expected: 1 - Result: 0\n",
      "Processed 300/1000 - Expected: 1 - Result: 0\n",
      "Processed 301/1000 - Expected: 1 - Result: 0\n",
      "Processed 302/1000 - Expected: 1 - Result: 0\n",
      "Processed 303/1000 - Expected: 1 - Result: 0\n",
      "Processed 304/1000 - Expected: 1 - Result: 2\n",
      "Processed 305/1000 - Expected: 1 - Result: 0\n",
      "Processed 306/1000 - Expected: 1 - Result: 0\n",
      "Processed 307/1000 - Expected: 1 - Result: 2\n",
      "Processed 308/1000 - Expected: 1 - Result: 0\n",
      "Processed 309/1000 - Expected: 1 - Result: 2\n",
      "Processed 310/1000 - Expected: 1 - Result: 2\n",
      "Processed 311/1000 - Expected: 1 - Result: 0\n",
      "Processed 312/1000 - Expected: 1 - Result: 0\n",
      "Processed 313/1000 - Expected: 1 - Result: 0\n",
      "Processed 314/1000 - Expected: 1 - Result: 2\n",
      "Processed 315/1000 - Expected: 1 - Result: 2\n",
      "Processed 316/1000 - Expected: 1 - Result: 2\n",
      "Processed 317/1000 - Expected: 1 - Result: 2\n",
      "Processed 318/1000 - Expected: 1 - Result: 2\n"
     ]
    },
    {
     "name": "stderr",
     "output_type": "stream",
     "text": [
      "Failed to batch ingest runs: langsmith.utils.LangSmithRateLimitError: Rate limit exceeded for https://api.smith.langchain.com/runs/batch. HTTPError('429 Client Error: Too Many Requests for url: https://api.smith.langchain.com/runs/batch', '{\"error\":\"Too many requests: tenant exceeded usage limits: Monthly unique traces usage limit exceeded\"}\\n')\n",
      "post: trace=fa14835d-880f-4ab2-98fe-5f43d3afe393,id=39b17ca3-dbfa-4589-9371-3e74fc9a8c84; patch: trace=fa14835d-880f-4ab2-98fe-5f43d3afe393,id=fa14835d-880f-4ab2-98fe-5f43d3afe393; trace=fa14835d-880f-4ab2-98fe-5f43d3afe393,id=06a9eee5-a5ca-486d-afd8-93fda061512f\n"
     ]
    },
    {
     "name": "stdout",
     "output_type": "stream",
     "text": [
      "Processed 319/1000 - Expected: 1 - Result: 0\n",
      "Processed 320/1000 - Expected: 1 - Result: 2\n",
      "Processed 321/1000 - Expected: 1 - Result: 0\n",
      "Processed 322/1000 - Expected: 1 - Result: 0\n",
      "Processed 323/1000 - Expected: 1 - Result: 2\n",
      "Processed 324/1000 - Expected: 1 - Result: 2\n",
      "Processed 325/1000 - Expected: 1 - Result: 1\n",
      "Processed 326/1000 - Expected: 1 - Result: 0\n",
      "Processed 327/1000 - Expected: 1 - Result: 2\n",
      "Processed 328/1000 - Expected: 1 - Result: 2\n",
      "Processed 329/1000 - Expected: 1 - Result: 1\n",
      "Processed 330/1000 - Expected: 1 - Result: 0\n",
      "Processed 331/1000 - Expected: 1 - Result: 0\n",
      "Processed 332/1000 - Expected: 1 - Result: 0\n",
      "Processed 333/1000 - Expected: 1 - Result: 0\n"
     ]
    },
    {
     "name": "stderr",
     "output_type": "stream",
     "text": [
      "Failed to batch ingest runs: langsmith.utils.LangSmithRateLimitError: Rate limit exceeded for https://api.smith.langchain.com/runs/batch. HTTPError('429 Client Error: Too Many Requests for url: https://api.smith.langchain.com/runs/batch', '{\"error\":\"Too many requests: tenant exceeded usage limits: Monthly unique traces usage limit exceeded\"}\\n')\n",
      "post: trace=dd5f9fc8-646d-49f4-8284-dbdb1fd68fc6,id=dd5f9fc8-646d-49f4-8284-dbdb1fd68fc6; trace=dd5f9fc8-646d-49f4-8284-dbdb1fd68fc6,id=1274e0f9-7558-495f-8b3c-097464dce708; trace=dd5f9fc8-646d-49f4-8284-dbdb1fd68fc6,id=e73afdfd-5f8f-4cbb-b00a-33ce15e4c828; trace=5352e20b-2d82-4aee-afb8-e6ef468faa31,id=5352e20b-2d82-4aee-afb8-e6ef468faa31; trace=5352e20b-2d82-4aee-afb8-e6ef468faa31,id=358ddb72-5e24-449e-b877-0c9fba3123f9; trace=5352e20b-2d82-4aee-afb8-e6ef468faa31,id=564ea73c-b142-49f4-9f90-a9b6b3c82bc4; trace=6c2707f4-3784-4b3c-98f3-4de74e3e0ae9,id=6c2707f4-3784-4b3c-98f3-4de74e3e0ae9; trace=6c2707f4-3784-4b3c-98f3-4de74e3e0ae9,id=9baeec51-e03e-4f8b-bf99-c133b8cbae07; trace=6c2707f4-3784-4b3c-98f3-4de74e3e0ae9,id=e6792997-3631-4ed9-9d6d-62d3fe1ed37a; trace=5bf22b84-2bf2-452d-91cc-19fad13dea31,id=5bf22b84-2bf2-452d-91cc-19fad13dea31; trace=5bf22b84-2bf2-452d-91cc-19fad13dea31,id=6ae1a2bc-0096-4da1-90f6-c45ebc96337a; trace=5bf22b84-2bf2-452d-91cc-19fad13dea31,id=0fc0b8af-67d5-4e5d-9499-402fc1f1242b; trace=7dcc57b1-8783-439b-af8c-b359e8512254,id=7dcc57b1-8783-439b-af8c-b359e8512254; trace=7dcc57b1-8783-439b-af8c-b359e8512254,id=843486e1-fc9a-483a-8fae-8f84ebde0b13; trace=7dcc57b1-8783-439b-af8c-b359e8512254,id=b33ea879-9d7e-410a-bc7b-a5f618306c2e; trace=bfbd2d13-89f5-47ff-bed3-89f037acb925,id=bfbd2d13-89f5-47ff-bed3-89f037acb925; trace=bfbd2d13-89f5-47ff-bed3-89f037acb925,id=51748e3d-8f65-4903-977f-49f7e0644ccb; trace=bfbd2d13-89f5-47ff-bed3-89f037acb925,id=3c562419-baf5-4e0c-8e4f-71b5347f5a8f; trace=247ddba9-33e4-4f52-af45-5cf174f44465,id=247ddba9-33e4-4f52-af45-5cf174f44465; trace=247ddba9-33e4-4f52-af45-5cf174f44465,id=b5fad35b-0780-4068-86e4-1d1ba99ee916; trace=247ddba9-33e4-4f52-af45-5cf174f44465,id=a7ca96a1-f7ce-4aaf-826c-b01444dca3e0; trace=9568a07b-b3ac-40b9-9195-66db3cb7a8e4,id=9568a07b-b3ac-40b9-9195-66db3cb7a8e4; trace=9568a07b-b3ac-40b9-9195-66db3cb7a8e4,id=66a543be-3265-405e-9f0b-21cd7dd0060d; trace=9568a07b-b3ac-40b9-9195-66db3cb7a8e4,id=8b088595-c28c-42ef-abc0-3e70fa461aa8; trace=3e5dd6f4-06a2-432b-a53d-5178d2fbbe2d,id=3e5dd6f4-06a2-432b-a53d-5178d2fbbe2d; trace=3e5dd6f4-06a2-432b-a53d-5178d2fbbe2d,id=ee484b69-dd5f-49ce-8699-5301821c27ae; trace=3e5dd6f4-06a2-432b-a53d-5178d2fbbe2d,id=3a21615d-c562-43a1-bc32-6ded67b1ccf3; trace=759fb691-2bdd-4b4f-93dd-3a7ca55ba3c3,id=759fb691-2bdd-4b4f-93dd-3a7ca55ba3c3; trace=759fb691-2bdd-4b4f-93dd-3a7ca55ba3c3,id=3d854bc2-47b5-48d2-9911-43a1eab31841; trace=759fb691-2bdd-4b4f-93dd-3a7ca55ba3c3,id=a4743c00-645b-49ee-b50f-b4b31d8d7b21; trace=1309afc8-0090-409c-880f-a3ef4eb082bf,id=1309afc8-0090-409c-880f-a3ef4eb082bf; trace=1309afc8-0090-409c-880f-a3ef4eb082bf,id=abf098b2-9421-4a5c-a253-c0de3ca8d698; trace=1309afc8-0090-409c-880f-a3ef4eb082bf,id=78bd86b6-98cf-436c-9a4c-186f9c530730; trace=baef6d74-2d66-48b4-9dac-2f0d146c96d7,id=baef6d74-2d66-48b4-9dac-2f0d146c96d7; trace=baef6d74-2d66-48b4-9dac-2f0d146c96d7,id=585eb598-0e97-4441-966f-8bf56c1839dd; trace=baef6d74-2d66-48b4-9dac-2f0d146c96d7,id=320fa3e1-80dd-4774-9442-2948f196a056; trace=2e26e780-8fda-4d59-a9a7-8fd84771eab8,id=2e26e780-8fda-4d59-a9a7-8fd84771eab8; trace=2e26e780-8fda-4d59-a9a7-8fd84771eab8,id=8fd97dd2-5eed-403f-8793-db8f697cf1f4; trace=2e26e780-8fda-4d59-a9a7-8fd84771eab8,id=fb18752a-50ce-4d0f-a9cd-7df23aaafb07; trace=957fabce-5ee2-4e44-9006-d041198899fa,id=957fabce-5ee2-4e44-9006-d041198899fa; trace=957fabce-5ee2-4e44-9006-d041198899fa,id=6e2fd184-d857-49e8-84e2-7a1193407310; trace=957fabce-5ee2-4e44-9006-d041198899fa,id=d3fb84b1-56f2-4de5-baf2-79722fa9a569\n"
     ]
    },
    {
     "name": "stdout",
     "output_type": "stream",
     "text": [
      "Processed 334/1000 - Expected: 1 - Result: 0\n",
      "Processed 335/1000 - Expected: 1 - Result: 0\n",
      "Processed 336/1000 - Expected: 1 - Result: 0\n",
      "Processed 337/1000 - Expected: 1 - Result: 2\n",
      "Processed 338/1000 - Expected: 1 - Result: 0\n",
      "Processed 339/1000 - Expected: 1 - Result: 2\n",
      "Processed 340/1000 - Expected: 1 - Result: 0\n",
      "Processed 341/1000 - Expected: 1 - Result: 2\n",
      "Processed 342/1000 - Expected: 1 - Result: 0\n",
      "Processed 343/1000 - Expected: 1 - Result: 2\n",
      "Processed 344/1000 - Expected: 1 - Result: 0\n",
      "Processed 345/1000 - Expected: 1 - Result: 0\n",
      "Processed 346/1000 - Expected: 1 - Result: 2\n",
      "Processed 347/1000 - Expected: 1 - Result: 0\n",
      "Processed 348/1000 - Expected: 1 - Result: 2\n"
     ]
    },
    {
     "name": "stderr",
     "output_type": "stream",
     "text": [
      "Failed to batch ingest runs: langsmith.utils.LangSmithRateLimitError: Rate limit exceeded for https://api.smith.langchain.com/runs/batch. HTTPError('429 Client Error: Too Many Requests for url: https://api.smith.langchain.com/runs/batch', '{\"error\":\"Too many requests: tenant exceeded usage limits: Monthly unique traces usage limit exceeded\"}\\n')\n",
      "post: trace=7145dfab-7ced-4c19-960a-5a7adadbf420,id=7145dfab-7ced-4c19-960a-5a7adadbf420; trace=7145dfab-7ced-4c19-960a-5a7adadbf420,id=f9489572-e0ff-4744-820d-951cd7d9a199; trace=7145dfab-7ced-4c19-960a-5a7adadbf420,id=97757cdd-cd36-42dc-b5fd-a537dea0a4aa; trace=e7aa7d13-a2a1-415d-bc6a-f7d6eb0ff88c,id=e7aa7d13-a2a1-415d-bc6a-f7d6eb0ff88c; trace=e7aa7d13-a2a1-415d-bc6a-f7d6eb0ff88c,id=30142c3d-1b43-4de4-8b20-e3a77f6b29cf; trace=e7aa7d13-a2a1-415d-bc6a-f7d6eb0ff88c,id=c5cb9eaf-2b69-479c-94bb-b3140873bb7d; trace=3cd932e3-6aa7-4130-a0cf-05ff2f8cf74b,id=3cd932e3-6aa7-4130-a0cf-05ff2f8cf74b; trace=3cd932e3-6aa7-4130-a0cf-05ff2f8cf74b,id=0a96d825-3fda-41f6-902e-df8cfcd98468; trace=3cd932e3-6aa7-4130-a0cf-05ff2f8cf74b,id=7c6d05a8-5294-4d1c-a000-f04f0c6598e9; trace=02fcc28e-5432-49cc-bf99-80c769fdb039,id=02fcc28e-5432-49cc-bf99-80c769fdb039; trace=02fcc28e-5432-49cc-bf99-80c769fdb039,id=e240a58c-d1cc-4ba0-a093-ae15e069063c; trace=02fcc28e-5432-49cc-bf99-80c769fdb039,id=13837e54-0314-41a0-8ecc-93095d60fca0; trace=4730d979-764d-4fa3-b275-1737daf3ba64,id=4730d979-764d-4fa3-b275-1737daf3ba64; trace=4730d979-764d-4fa3-b275-1737daf3ba64,id=5afad554-3eb1-4ad8-9f6b-1213856d90d8; trace=4730d979-764d-4fa3-b275-1737daf3ba64,id=c0d4928e-89eb-46c1-ad54-f2963f3ee22c; trace=79d4cb5e-f0be-46be-a959-f6694f8a3d13,id=79d4cb5e-f0be-46be-a959-f6694f8a3d13; trace=79d4cb5e-f0be-46be-a959-f6694f8a3d13,id=6c05c33d-1d74-4468-97de-4fcf5d620109; trace=79d4cb5e-f0be-46be-a959-f6694f8a3d13,id=6224c20b-6493-468d-8e3d-21d5757413d9; trace=ebea8327-fe34-4339-9ad0-9950aaee0a1d,id=ebea8327-fe34-4339-9ad0-9950aaee0a1d; trace=ebea8327-fe34-4339-9ad0-9950aaee0a1d,id=9a241c9e-38a1-41af-9144-35a0b9974415; trace=ebea8327-fe34-4339-9ad0-9950aaee0a1d,id=aa6554fe-d4ac-4f45-99fb-2970080e7a1e; trace=39a775c1-6076-44ec-b071-83614bb2297b,id=39a775c1-6076-44ec-b071-83614bb2297b; trace=39a775c1-6076-44ec-b071-83614bb2297b,id=3b688223-6513-4350-a0d0-9ff4041f1ac0; trace=39a775c1-6076-44ec-b071-83614bb2297b,id=4b98b249-a68f-48c8-9f94-a1d357432680; trace=ee4e2ac4-01ad-456a-9954-bf116951458f,id=ee4e2ac4-01ad-456a-9954-bf116951458f; trace=ee4e2ac4-01ad-456a-9954-bf116951458f,id=1785761c-0cb8-4eb7-9a9d-69597732ead7; trace=ee4e2ac4-01ad-456a-9954-bf116951458f,id=0821307c-47b1-4953-9e1f-a82d9c04a454; trace=7ba09dc7-bcdd-4ea7-b0d9-77c9707d5510,id=7ba09dc7-bcdd-4ea7-b0d9-77c9707d5510; trace=7ba09dc7-bcdd-4ea7-b0d9-77c9707d5510,id=c12ce067-344a-4267-aa40-0743900130db; trace=7ba09dc7-bcdd-4ea7-b0d9-77c9707d5510,id=75d18ab4-04a9-4d27-8918-258a30e199dc; trace=956a3500-1b18-4a89-99c3-fe13880f0dd0,id=956a3500-1b18-4a89-99c3-fe13880f0dd0; trace=956a3500-1b18-4a89-99c3-fe13880f0dd0,id=16e08be5-bcd8-4dd0-b1f1-6d2bf0cc7e98; trace=956a3500-1b18-4a89-99c3-fe13880f0dd0,id=fa9f3cd8-8fc4-4f2b-a958-40da80d1fe3c; trace=c471499b-f804-4899-9649-53546fafb2c9,id=c471499b-f804-4899-9649-53546fafb2c9; trace=c471499b-f804-4899-9649-53546fafb2c9,id=05404945-d3d0-4101-8489-b611ecac8747; trace=c471499b-f804-4899-9649-53546fafb2c9,id=930b0631-ca97-4503-bde0-2b28f6c29efe; trace=7c42e818-ad92-4bac-893f-8deaaadc13d7,id=7c42e818-ad92-4bac-893f-8deaaadc13d7; trace=7c42e818-ad92-4bac-893f-8deaaadc13d7,id=b4b01b29-d104-4f55-a0ea-7ff065a6f0fb; trace=7c42e818-ad92-4bac-893f-8deaaadc13d7,id=696ffeb6-b537-4516-bd66-30b43a280bdc; trace=a2aa2553-5e4d-422a-806b-9c660cac1705,id=a2aa2553-5e4d-422a-806b-9c660cac1705; trace=a2aa2553-5e4d-422a-806b-9c660cac1705,id=9a7d8b11-1e80-4689-bfa8-cae5347a8b06; trace=a2aa2553-5e4d-422a-806b-9c660cac1705,id=be00537d-1bb4-428d-a198-e281fcd6e108; trace=0f524830-2535-43a3-ad82-cd16ffff912c,id=0f524830-2535-43a3-ad82-cd16ffff912c; trace=0f524830-2535-43a3-ad82-cd16ffff912c,id=8e9f28a1-ebe7-46d9-b086-0111ff9b973f; trace=0f524830-2535-43a3-ad82-cd16ffff912c,id=a2683536-0c19-4a83-ba19-f7771a4ba761\n"
     ]
    },
    {
     "name": "stdout",
     "output_type": "stream",
     "text": [
      "Processed 349/1000 - Expected: 1 - Result: 0\n",
      "Processed 350/1000 - Expected: 1 - Result: 2\n",
      "Processed 351/1000 - Expected: 1 - Result: 0\n",
      "Processed 352/1000 - Expected: 1 - Result: 2\n",
      "Processed 353/1000 - Expected: 1 - Result: 2\n",
      "Processed 354/1000 - Expected: 1 - Result: 2\n",
      "Processed 355/1000 - Expected: 1 - Result: 2\n",
      "Processed 356/1000 - Expected: 1 - Result: 0\n",
      "Processed 357/1000 - Expected: 1 - Result: 0\n",
      "Processed 358/1000 - Expected: 1 - Result: 0\n",
      "Processed 359/1000 - Expected: 1 - Result: 0\n",
      "Processed 360/1000 - Expected: 1 - Result: 2\n",
      "Processed 361/1000 - Expected: 1 - Result: 0\n",
      "Processed 362/1000 - Expected: 1 - Result: 0\n",
      "Processed 363/1000 - Expected: 1 - Result: 2\n"
     ]
    },
    {
     "name": "stderr",
     "output_type": "stream",
     "text": [
      "Failed to batch ingest runs: langsmith.utils.LangSmithRateLimitError: Rate limit exceeded for https://api.smith.langchain.com/runs/batch. HTTPError('429 Client Error: Too Many Requests for url: https://api.smith.langchain.com/runs/batch', '{\"error\":\"Too many requests: tenant exceeded usage limits: Monthly unique traces usage limit exceeded\"}\\n')\n",
      "post: trace=93f51b0b-ff11-4bd7-a311-8ea28d6369f3,id=93f51b0b-ff11-4bd7-a311-8ea28d6369f3; trace=93f51b0b-ff11-4bd7-a311-8ea28d6369f3,id=692688c1-2236-448e-a9ab-0d4c738bbd90; trace=93f51b0b-ff11-4bd7-a311-8ea28d6369f3,id=1ca9178f-f6b6-49fa-a23b-331cf2a588a3; trace=4b8f2513-0e0b-49bd-826f-d76b0934d117,id=4b8f2513-0e0b-49bd-826f-d76b0934d117; trace=4b8f2513-0e0b-49bd-826f-d76b0934d117,id=06de7f7f-b0c9-4d87-ad91-1b89a96270f1; trace=4b8f2513-0e0b-49bd-826f-d76b0934d117,id=a150c8dc-bfd5-41f0-ad27-10e29a9015b0; trace=0140e3dd-08e5-46b0-b545-177b2b294ee8,id=0140e3dd-08e5-46b0-b545-177b2b294ee8; trace=0140e3dd-08e5-46b0-b545-177b2b294ee8,id=e7e24d31-c5c4-4df8-95d7-08127c097067; trace=0140e3dd-08e5-46b0-b545-177b2b294ee8,id=a34c3129-3118-4eca-a8bc-dfe5f972034b; trace=8d5cdc1c-4b76-446c-b5cc-bc568f32e206,id=8d5cdc1c-4b76-446c-b5cc-bc568f32e206; trace=8d5cdc1c-4b76-446c-b5cc-bc568f32e206,id=a9559571-7034-4e58-8894-8694466bc892; trace=8d5cdc1c-4b76-446c-b5cc-bc568f32e206,id=be5d537b-c51f-4929-b376-ccc326acb508; trace=ca763126-550b-4af2-9926-df0a0481ccc2,id=ca763126-550b-4af2-9926-df0a0481ccc2; trace=ca763126-550b-4af2-9926-df0a0481ccc2,id=6770e39c-0ef6-4dfc-9c61-2f6d71e076da; trace=ca763126-550b-4af2-9926-df0a0481ccc2,id=23ca9e53-a450-4df5-805b-ca4d1dc65b5c; trace=17c617f9-dc59-41e5-b999-c43119b568d5,id=17c617f9-dc59-41e5-b999-c43119b568d5; trace=17c617f9-dc59-41e5-b999-c43119b568d5,id=b82d2a2a-7c88-4773-9b22-5965b0d93dfe; trace=17c617f9-dc59-41e5-b999-c43119b568d5,id=c5f4afc7-3232-4a2e-bfba-96bf810bd123; trace=d6fff7e7-adea-4138-be76-0091cef5eede,id=d6fff7e7-adea-4138-be76-0091cef5eede; trace=d6fff7e7-adea-4138-be76-0091cef5eede,id=c78c421a-0b94-4d65-86d6-e42649a21050; trace=d6fff7e7-adea-4138-be76-0091cef5eede,id=65ba40d8-3df6-4b1e-97bd-e8d393db0f5f; trace=5752c2a3-a609-4e4f-8311-859ff9ca50d6,id=5752c2a3-a609-4e4f-8311-859ff9ca50d6; trace=5752c2a3-a609-4e4f-8311-859ff9ca50d6,id=13052766-4f7b-4168-8ee7-0209294827b8; trace=5752c2a3-a609-4e4f-8311-859ff9ca50d6,id=d4ec6af4-6c5a-4406-a238-77b28079a169; trace=9c6dd9bc-dbad-4169-84da-8aa58d856816,id=9c6dd9bc-dbad-4169-84da-8aa58d856816; trace=9c6dd9bc-dbad-4169-84da-8aa58d856816,id=4e160a6a-ceca-41ae-8c4b-a0e7c16d6173; trace=9c6dd9bc-dbad-4169-84da-8aa58d856816,id=327103e3-4b70-4a72-875d-bbeb3e268684; trace=1fffc319-263e-4ecf-a0c8-34cd97f3d5a2,id=1fffc319-263e-4ecf-a0c8-34cd97f3d5a2; trace=1fffc319-263e-4ecf-a0c8-34cd97f3d5a2,id=9cf5f61f-ace4-4332-b891-73d69e9360e5; trace=1fffc319-263e-4ecf-a0c8-34cd97f3d5a2,id=86ba0416-a166-4b1c-af3f-439dae6b9788; trace=5ed5cfba-fcba-4cba-b17e-3daa1319625f,id=5ed5cfba-fcba-4cba-b17e-3daa1319625f; trace=5ed5cfba-fcba-4cba-b17e-3daa1319625f,id=f5fe5ae1-a2e9-4406-b8ad-2ee60f15e214; trace=5ed5cfba-fcba-4cba-b17e-3daa1319625f,id=61909f91-ead3-454b-9660-bdd8b6169b2c; trace=6ef758e3-5915-417f-8a82-fced321049ec,id=6ef758e3-5915-417f-8a82-fced321049ec; trace=6ef758e3-5915-417f-8a82-fced321049ec,id=79c4e1df-345b-4809-9d8a-1c55ef4b532e; trace=6ef758e3-5915-417f-8a82-fced321049ec,id=8c8e0e51-1810-4df0-852a-0a8802ba66cd; trace=c4bb301b-d4fa-4a32-bb7a-e794238f74ed,id=c4bb301b-d4fa-4a32-bb7a-e794238f74ed; trace=c4bb301b-d4fa-4a32-bb7a-e794238f74ed,id=e098bcf9-c223-41a5-97eb-cd2781266231; trace=c4bb301b-d4fa-4a32-bb7a-e794238f74ed,id=3758bea9-8133-4287-bcbb-5ae11891e6b5; trace=6579cf2a-8952-4936-ad20-e0e33b07df27,id=6579cf2a-8952-4936-ad20-e0e33b07df27; trace=6579cf2a-8952-4936-ad20-e0e33b07df27,id=836951bf-402f-4a97-b0b7-4a77cbe96359; trace=6579cf2a-8952-4936-ad20-e0e33b07df27,id=02262fb3-057c-43e4-9d9b-1e2674f84bce; trace=a03c428e-154f-4197-9516-15585b98e2a6,id=a03c428e-154f-4197-9516-15585b98e2a6; trace=a03c428e-154f-4197-9516-15585b98e2a6,id=f0382884-ba8c-4404-af53-89151d6e1a0c; trace=a03c428e-154f-4197-9516-15585b98e2a6,id=3582305f-43ad-4501-afe6-fb10c390145f\n"
     ]
    },
    {
     "name": "stdout",
     "output_type": "stream",
     "text": [
      "Processed 364/1000 - Expected: 1 - Result: 2\n",
      "Processed 365/1000 - Expected: 1 - Result: 0\n",
      "Processed 366/1000 - Expected: 1 - Result: 2\n",
      "Processed 367/1000 - Expected: 1 - Result: 2\n",
      "Processed 368/1000 - Expected: 1 - Result: 0\n",
      "Processed 369/1000 - Expected: 1 - Result: 0\n",
      "Processed 370/1000 - Expected: 1 - Result: 2\n",
      "Processed 371/1000 - Expected: 1 - Result: 0\n",
      "Processed 372/1000 - Expected: 1 - Result: 2\n",
      "Processed 373/1000 - Expected: 1 - Result: 0\n",
      "Processed 374/1000 - Expected: 1 - Result: 0\n",
      "Processed 375/1000 - Expected: 1 - Result: 2\n",
      "Processed 376/1000 - Expected: 1 - Result: 0\n",
      "Processed 377/1000 - Expected: 1 - Result: 0\n",
      "Processed 378/1000 - Expected: 1 - Result: 0\n"
     ]
    },
    {
     "name": "stderr",
     "output_type": "stream",
     "text": [
      "Failed to batch ingest runs: langsmith.utils.LangSmithRateLimitError: Rate limit exceeded for https://api.smith.langchain.com/runs/batch. HTTPError('429 Client Error: Too Many Requests for url: https://api.smith.langchain.com/runs/batch', '{\"error\":\"Too many requests: tenant exceeded usage limits: Monthly unique traces usage limit exceeded\"}\\n')\n",
      "post: trace=b5cd3344-4ad5-49d6-8832-e9e8f508c3f7,id=b5cd3344-4ad5-49d6-8832-e9e8f508c3f7; trace=b5cd3344-4ad5-49d6-8832-e9e8f508c3f7,id=7c5b6eb3-7e45-4a9a-8b3f-2f7892cd4c83; trace=b5cd3344-4ad5-49d6-8832-e9e8f508c3f7,id=1c22cdcf-0741-4f8c-876c-68cef95600cb; trace=609c76b6-1a03-4e5d-a54b-5e67063c5522,id=609c76b6-1a03-4e5d-a54b-5e67063c5522; trace=609c76b6-1a03-4e5d-a54b-5e67063c5522,id=8962acb1-7b37-483e-af01-2d2e44bcc493; trace=609c76b6-1a03-4e5d-a54b-5e67063c5522,id=9fd37065-30f9-44d7-a19a-b65709e67fa1; trace=ab750b90-ce88-4e47-b994-743fe4d02e57,id=ab750b90-ce88-4e47-b994-743fe4d02e57; trace=ab750b90-ce88-4e47-b994-743fe4d02e57,id=b358ea8c-22d5-4fc1-a3b7-b58689fef212; trace=ab750b90-ce88-4e47-b994-743fe4d02e57,id=b49b8ed2-1ed3-4d06-bb88-abd99abc327a; trace=b35d45f7-c398-4db2-b59c-090a20ffafb2,id=b35d45f7-c398-4db2-b59c-090a20ffafb2; trace=b35d45f7-c398-4db2-b59c-090a20ffafb2,id=b7930089-9f6f-4aac-895a-ad888f206994; trace=b35d45f7-c398-4db2-b59c-090a20ffafb2,id=945161f5-eca2-41e8-9110-7841e5829c3b; trace=acd257ba-7cd0-4a6d-861e-acc5d1757470,id=acd257ba-7cd0-4a6d-861e-acc5d1757470; trace=acd257ba-7cd0-4a6d-861e-acc5d1757470,id=444068a3-9abc-4a53-a2ed-ee4ed84da356; trace=acd257ba-7cd0-4a6d-861e-acc5d1757470,id=18e13f59-4fae-4893-97dd-0f59f5152d06; trace=20dc3c2c-8ade-441e-b480-5637e1c6edd2,id=20dc3c2c-8ade-441e-b480-5637e1c6edd2; trace=20dc3c2c-8ade-441e-b480-5637e1c6edd2,id=08ad8ffb-22fa-4d82-b1f0-c96f3a049661; trace=20dc3c2c-8ade-441e-b480-5637e1c6edd2,id=347b6341-c52a-4b1b-9cd6-fb4a4083e454; trace=2258a79b-4b42-49d0-ba91-c7dc537d96fe,id=2258a79b-4b42-49d0-ba91-c7dc537d96fe; trace=2258a79b-4b42-49d0-ba91-c7dc537d96fe,id=d09142c6-afb0-43e3-bc7b-82e7c4a0078f; trace=2258a79b-4b42-49d0-ba91-c7dc537d96fe,id=43a61405-e9fc-41fb-982e-f6c0eae678fd; trace=e6effb58-bb11-45a5-a029-9d52c124bdff,id=e6effb58-bb11-45a5-a029-9d52c124bdff; trace=e6effb58-bb11-45a5-a029-9d52c124bdff,id=c6db4d30-3ea5-4772-8e71-19dd5501a88d; trace=e6effb58-bb11-45a5-a029-9d52c124bdff,id=034fdd0a-ebcf-49a8-8c31-af285a0640a9; trace=3ec97551-1ffb-4df8-a144-288b1bc4b69f,id=3ec97551-1ffb-4df8-a144-288b1bc4b69f; trace=3ec97551-1ffb-4df8-a144-288b1bc4b69f,id=580c16c0-9ba2-42bc-9aa4-0b6b47cd9de2; trace=3ec97551-1ffb-4df8-a144-288b1bc4b69f,id=35fb3512-2fae-484a-934b-f4bc83d74ed3; trace=e57f3766-0873-4cfa-be75-d3fd9bbc2328,id=e57f3766-0873-4cfa-be75-d3fd9bbc2328; trace=e57f3766-0873-4cfa-be75-d3fd9bbc2328,id=638a8546-93b5-422c-8575-3677164960b5; trace=e57f3766-0873-4cfa-be75-d3fd9bbc2328,id=bf9508e6-1eab-4a21-a270-6b079c148904; trace=7b926644-20ec-4ff3-96ba-d1a3918335f1,id=7b926644-20ec-4ff3-96ba-d1a3918335f1; trace=7b926644-20ec-4ff3-96ba-d1a3918335f1,id=d2d44fc9-a9c4-412e-b04a-2c4e466894b4; trace=7b926644-20ec-4ff3-96ba-d1a3918335f1,id=01557b28-0553-4091-bd58-e31582ec482a; trace=5591d483-f985-4fff-916f-1792b1fb5730,id=5591d483-f985-4fff-916f-1792b1fb5730; trace=5591d483-f985-4fff-916f-1792b1fb5730,id=4bc8a76f-feb7-4076-b252-2432353f78cb; trace=5591d483-f985-4fff-916f-1792b1fb5730,id=ac7a7ecc-945f-4355-bf62-fa71755d4bd3; trace=fd349d40-a693-4e9a-a0d1-daac766f5504,id=fd349d40-a693-4e9a-a0d1-daac766f5504; trace=fd349d40-a693-4e9a-a0d1-daac766f5504,id=53bbab67-0602-4213-9a46-d2bb9e665e58; trace=fd349d40-a693-4e9a-a0d1-daac766f5504,id=06309595-6f63-4413-810c-6ccf2daa11ab; trace=313e35e4-1e97-40f3-8320-d875182a1f9c,id=313e35e4-1e97-40f3-8320-d875182a1f9c; trace=313e35e4-1e97-40f3-8320-d875182a1f9c,id=56ddbbb4-14a6-42d3-8c23-5c9ed8b74928; trace=313e35e4-1e97-40f3-8320-d875182a1f9c,id=f9f4a39f-fd1d-4b7b-9a35-625343140d78; trace=9edb3e5f-7afb-4ff9-b9b3-0c4901d8e18f,id=9edb3e5f-7afb-4ff9-b9b3-0c4901d8e18f; trace=9edb3e5f-7afb-4ff9-b9b3-0c4901d8e18f,id=fb9380d2-b7e6-4d66-9442-b676c0434473; trace=9edb3e5f-7afb-4ff9-b9b3-0c4901d8e18f,id=55bf488c-c9dd-41f2-87bd-aa846327ea18; trace=48830e10-e164-4ab6-930a-e7f9c39b0aaa,id=48830e10-e164-4ab6-930a-e7f9c39b0aaa; trace=48830e10-e164-4ab6-930a-e7f9c39b0aaa,id=f3d2d5f2-40e7-4eb7-96f9-14039863c421\n"
     ]
    },
    {
     "name": "stdout",
     "output_type": "stream",
     "text": [
      "Processed 379/1000 - Expected: 1 - Result: 0\n",
      "Processed 380/1000 - Expected: 1 - Result: 2\n",
      "Processed 381/1000 - Expected: 1 - Result: 0\n",
      "Processed 382/1000 - Expected: 1 - Result: 0\n",
      "Processed 383/1000 - Expected: 1 - Result: 0\n",
      "Processed 384/1000 - Expected: 1 - Result: 0\n",
      "Processed 385/1000 - Expected: 1 - Result: 0\n",
      "Processed 386/1000 - Expected: 1 - Result: 2\n",
      "Processed 387/1000 - Expected: 1 - Result: 2\n",
      "Processed 388/1000 - Expected: 1 - Result: 0\n",
      "Processed 389/1000 - Expected: 1 - Result: 2\n",
      "Processed 390/1000 - Expected: 1 - Result: 0\n",
      "Processed 391/1000 - Expected: 1 - Result: 2\n",
      "Processed 392/1000 - Expected: 1 - Result: 2\n",
      "Processed 393/1000 - Expected: 1 - Result: 1\n"
     ]
    },
    {
     "name": "stderr",
     "output_type": "stream",
     "text": [
      "Failed to batch ingest runs: langsmith.utils.LangSmithRateLimitError: Rate limit exceeded for https://api.smith.langchain.com/runs/batch. HTTPError('429 Client Error: Too Many Requests for url: https://api.smith.langchain.com/runs/batch', '{\"error\":\"Too many requests: tenant exceeded usage limits: Monthly unique traces usage limit exceeded\"}\\n')\n",
      "post: trace=48830e10-e164-4ab6-930a-e7f9c39b0aaa,id=e5c163a3-7a11-4ee8-ad3a-900d77be3a76; trace=be1b618e-696f-4b26-99eb-1e7ed83bb655,id=be1b618e-696f-4b26-99eb-1e7ed83bb655; trace=be1b618e-696f-4b26-99eb-1e7ed83bb655,id=fb2d8da4-df84-454e-854a-6aa1d8245d85; trace=be1b618e-696f-4b26-99eb-1e7ed83bb655,id=0070f4b0-735d-4305-8073-e72a3543c6ed; trace=55c6b607-ae43-476d-987b-9720549c1b48,id=55c6b607-ae43-476d-987b-9720549c1b48; trace=55c6b607-ae43-476d-987b-9720549c1b48,id=0277261a-ea9e-4710-b541-5015fb4a5b12; trace=55c6b607-ae43-476d-987b-9720549c1b48,id=c5edf059-c205-440a-a1e8-f93542085482; trace=75e24f12-6e6b-43e2-98ab-516e7a46ecce,id=75e24f12-6e6b-43e2-98ab-516e7a46ecce; trace=75e24f12-6e6b-43e2-98ab-516e7a46ecce,id=e1407dad-4e3f-40a6-8852-90c41ab8e3b1; trace=75e24f12-6e6b-43e2-98ab-516e7a46ecce,id=462f8804-5bb1-4a30-bf8d-df551c0d0003; trace=b2e0889f-bb44-42e8-95e1-aaa105cb4b77,id=b2e0889f-bb44-42e8-95e1-aaa105cb4b77; trace=b2e0889f-bb44-42e8-95e1-aaa105cb4b77,id=fa756ba3-68a9-4795-ad90-3884229fa6d0; trace=b2e0889f-bb44-42e8-95e1-aaa105cb4b77,id=5d99329f-0c7e-4c1d-b8b1-c20d8afe382a; trace=e21aef17-b953-4ffd-bbd0-99c31d1cf47f,id=e21aef17-b953-4ffd-bbd0-99c31d1cf47f; trace=e21aef17-b953-4ffd-bbd0-99c31d1cf47f,id=7ec8653e-3054-4b3f-88cb-60dd2d34b7b0; trace=e21aef17-b953-4ffd-bbd0-99c31d1cf47f,id=815d8611-4078-4ff6-9102-eb4296154b48; trace=d0992a53-bc3a-40cf-b7f1-5df5e1d34e7f,id=d0992a53-bc3a-40cf-b7f1-5df5e1d34e7f; trace=d0992a53-bc3a-40cf-b7f1-5df5e1d34e7f,id=b3bc2654-1805-44e3-ab1a-ae5d7ab62259; trace=d0992a53-bc3a-40cf-b7f1-5df5e1d34e7f,id=cf95a976-e38e-4ced-8508-120ac154bf1b; trace=175c6cfd-fb8f-4b04-a0d3-5604288e17be,id=175c6cfd-fb8f-4b04-a0d3-5604288e17be; trace=175c6cfd-fb8f-4b04-a0d3-5604288e17be,id=396d88b7-80ad-4b3c-82cc-d1250eee3fcf; trace=175c6cfd-fb8f-4b04-a0d3-5604288e17be,id=070f93df-d308-4dc8-98ec-e21e791c57a0; trace=3416b631-9f6d-48a5-9f04-bba50eea4440,id=3416b631-9f6d-48a5-9f04-bba50eea4440; trace=3416b631-9f6d-48a5-9f04-bba50eea4440,id=88c5a9a4-adb3-4bae-b108-841d053a398f; trace=3416b631-9f6d-48a5-9f04-bba50eea4440,id=6c04e32e-ce19-4f8d-bc63-979e233096e3; trace=cb8dbd50-91da-493d-b476-3da8284bdfd6,id=cb8dbd50-91da-493d-b476-3da8284bdfd6; trace=cb8dbd50-91da-493d-b476-3da8284bdfd6,id=2f1bf528-eed7-431f-a9df-e8ee357bc39c; trace=cb8dbd50-91da-493d-b476-3da8284bdfd6,id=0fdf0de0-3dc7-4123-8855-cde9cd322e92; trace=9dbb78e8-69bf-41e2-b483-ee2bbce65350,id=9dbb78e8-69bf-41e2-b483-ee2bbce65350; trace=9dbb78e8-69bf-41e2-b483-ee2bbce65350,id=5ea543d8-540b-432b-986f-4885598923ce; trace=9dbb78e8-69bf-41e2-b483-ee2bbce65350,id=95c50749-3170-4a6e-8ebd-382fbd3c8762; trace=d4b59b48-03c1-435b-be05-9cbe5b5e2b33,id=d4b59b48-03c1-435b-be05-9cbe5b5e2b33; trace=d4b59b48-03c1-435b-be05-9cbe5b5e2b33,id=a5ab9876-0f36-49de-a4c2-598a5a993694; trace=d4b59b48-03c1-435b-be05-9cbe5b5e2b33,id=b89f1958-35b5-49de-a64b-7fbe478dea6a; trace=131b52df-842b-4e62-b9f2-4a06aabfd0e2,id=131b52df-842b-4e62-b9f2-4a06aabfd0e2; trace=131b52df-842b-4e62-b9f2-4a06aabfd0e2,id=5f208ff4-4f29-4a67-aeae-9c7e0361feb7; trace=131b52df-842b-4e62-b9f2-4a06aabfd0e2,id=478f7045-32a4-49b1-808d-5dc175e986b3; trace=05e3386b-8f50-4d87-a667-489b2220ea69,id=05e3386b-8f50-4d87-a667-489b2220ea69; trace=05e3386b-8f50-4d87-a667-489b2220ea69,id=9708e7c0-f97f-49be-9352-bc17841eda5c; trace=05e3386b-8f50-4d87-a667-489b2220ea69,id=b2ea8683-b25b-44e8-8449-c7b870dec973; trace=b1c04052-cfb1-4785-a7e1-19a68964a0a0,id=b1c04052-cfb1-4785-a7e1-19a68964a0a0; trace=b1c04052-cfb1-4785-a7e1-19a68964a0a0,id=4f97e3e0-3e86-4b55-8073-44bd71d5b6d6; trace=b1c04052-cfb1-4785-a7e1-19a68964a0a0,id=5f5d809b-8672-4682-b31d-7388f2226bdc; patch: trace=48830e10-e164-4ab6-930a-e7f9c39b0aaa,id=48830e10-e164-4ab6-930a-e7f9c39b0aaa; trace=48830e10-e164-4ab6-930a-e7f9c39b0aaa,id=f3d2d5f2-40e7-4eb7-96f9-14039863c421\n"
     ]
    },
    {
     "name": "stdout",
     "output_type": "stream",
     "text": [
      "Processed 394/1000 - Expected: 1 - Result: 2\n",
      "Processed 395/1000 - Expected: 1 - Result: 1\n",
      "Processed 396/1000 - Expected: 1 - Result: 2\n",
      "Processed 397/1000 - Expected: 1 - Result: 0\n",
      "Processed 398/1000 - Expected: 1 - Result: 2\n",
      "Processed 399/1000 - Expected: 1 - Result: 0\n",
      "Processed 400/1000 - Expected: 1 - Result: 0\n",
      "Processed 401/1000 - Expected: 1 - Result: 0\n",
      "Processed 402/1000 - Expected: 1 - Result: 0\n",
      "Processed 403/1000 - Expected: 1 - Result: 0\n",
      "Processed 404/1000 - Expected: 1 - Result: 0\n",
      "Processed 405/1000 - Expected: 1 - Result: 0\n",
      "Processed 406/1000 - Expected: 1 - Result: 2\n",
      "Processed 407/1000 - Expected: 1 - Result: 0\n",
      "Processed 408/1000 - Expected: 1 - Result: 0\n"
     ]
    },
    {
     "name": "stderr",
     "output_type": "stream",
     "text": [
      "Failed to batch ingest runs: langsmith.utils.LangSmithRateLimitError: Rate limit exceeded for https://api.smith.langchain.com/runs/batch. HTTPError('429 Client Error: Too Many Requests for url: https://api.smith.langchain.com/runs/batch', '{\"error\":\"Too many requests: tenant exceeded usage limits: Monthly unique traces usage limit exceeded\"}\\n')\n",
      "post: trace=1d2f4dde-c453-4048-8f7e-8c90a9ca2c08,id=1d2f4dde-c453-4048-8f7e-8c90a9ca2c08; trace=1d2f4dde-c453-4048-8f7e-8c90a9ca2c08,id=e7dc92f1-7b89-4096-85eb-94019784b337; trace=1d2f4dde-c453-4048-8f7e-8c90a9ca2c08,id=46862555-107c-4dad-95ff-e545403af4cf; trace=1bfda9fe-0d53-4b75-94f5-f12d13346049,id=1bfda9fe-0d53-4b75-94f5-f12d13346049; trace=1bfda9fe-0d53-4b75-94f5-f12d13346049,id=13976171-e011-4b5c-b360-4d0ab1fb40bb; trace=1bfda9fe-0d53-4b75-94f5-f12d13346049,id=3150c72e-b354-4f6d-8719-f4b13e631334; trace=b5362823-ab34-4000-9652-419561b43834,id=b5362823-ab34-4000-9652-419561b43834; trace=b5362823-ab34-4000-9652-419561b43834,id=825220dd-6a1d-4bed-ae24-929d9d4a2124; trace=b5362823-ab34-4000-9652-419561b43834,id=eadf2aa2-4dde-494d-a60b-dec061ae0191; trace=e489a3f5-3a03-4561-9729-af4cba7f7f3c,id=e489a3f5-3a03-4561-9729-af4cba7f7f3c; trace=e489a3f5-3a03-4561-9729-af4cba7f7f3c,id=d65f17dd-c5a2-4376-ac36-fb06eb21f43e; trace=e489a3f5-3a03-4561-9729-af4cba7f7f3c,id=696c2f89-efb5-4168-86e8-3728d3002e8e; trace=7090a74f-3b4c-4626-91e7-718975da5e90,id=7090a74f-3b4c-4626-91e7-718975da5e90; trace=7090a74f-3b4c-4626-91e7-718975da5e90,id=53658777-f86f-46ef-a38d-25c4bc0596a9; trace=7090a74f-3b4c-4626-91e7-718975da5e90,id=bb8a3ca5-ce11-4757-b836-a389ef66ac5c; trace=aa238d8a-c88a-42dc-ba8b-93ed4d4e244b,id=aa238d8a-c88a-42dc-ba8b-93ed4d4e244b; trace=aa238d8a-c88a-42dc-ba8b-93ed4d4e244b,id=0e35550b-0fef-4df7-84bf-9f42d7bd70c0; trace=aa238d8a-c88a-42dc-ba8b-93ed4d4e244b,id=645811a1-37b0-4cd4-98a6-39a1ba0def81; trace=aa8e7fd5-fdaa-4322-adbc-978153668427,id=aa8e7fd5-fdaa-4322-adbc-978153668427; trace=aa8e7fd5-fdaa-4322-adbc-978153668427,id=7ddd2417-8409-4f6f-b92f-1380efc5000b; trace=aa8e7fd5-fdaa-4322-adbc-978153668427,id=feccd579-817f-4ffa-968a-c91a8a0b1ef9; trace=a87ecca4-8944-48d5-8852-934e842bb859,id=a87ecca4-8944-48d5-8852-934e842bb859; trace=a87ecca4-8944-48d5-8852-934e842bb859,id=89f028b9-c9b7-4b26-b8e6-26995e652e24; trace=a87ecca4-8944-48d5-8852-934e842bb859,id=251e15eb-0ca9-475f-89e6-0e1a1f9e1f58; trace=bffc1547-5256-4ebe-beec-dedc4d234444,id=bffc1547-5256-4ebe-beec-dedc4d234444; trace=bffc1547-5256-4ebe-beec-dedc4d234444,id=4d358527-fa0c-44d9-9905-b90f3e28b4a2; trace=bffc1547-5256-4ebe-beec-dedc4d234444,id=c7893fed-11a5-4384-92c9-69de009ea47c; trace=b439da0d-09c5-4641-a456-6812798b352c,id=b439da0d-09c5-4641-a456-6812798b352c; trace=b439da0d-09c5-4641-a456-6812798b352c,id=f3331ad4-e847-4ce4-8975-532e2bafa3cb; trace=b439da0d-09c5-4641-a456-6812798b352c,id=3c625ba9-8878-40d6-93e8-45a537cafa59; trace=7c88bbdb-3901-40c5-99b8-9601494b2301,id=7c88bbdb-3901-40c5-99b8-9601494b2301; trace=7c88bbdb-3901-40c5-99b8-9601494b2301,id=89298532-5ade-40b8-aa67-6935f946cec1; trace=7c88bbdb-3901-40c5-99b8-9601494b2301,id=0382661b-4db0-4e9b-93ad-d57ddef09882; trace=5f6a34bc-42d3-433a-b963-b865c8ee1417,id=5f6a34bc-42d3-433a-b963-b865c8ee1417; trace=5f6a34bc-42d3-433a-b963-b865c8ee1417,id=7d41af16-aa80-443d-895d-5d9dc5ba5cf9; trace=5f6a34bc-42d3-433a-b963-b865c8ee1417,id=70a02c8e-9149-4e3a-ab34-34429bef29d8; trace=8b91275f-a0e2-4ab6-9295-90e76b685eb6,id=8b91275f-a0e2-4ab6-9295-90e76b685eb6; trace=8b91275f-a0e2-4ab6-9295-90e76b685eb6,id=15594706-67ae-439b-8e0d-367ba53c4137; trace=8b91275f-a0e2-4ab6-9295-90e76b685eb6,id=df67087b-cd8d-492c-bcaa-21041ca1c360; trace=234187d8-95b2-425a-9939-d0449b443965,id=234187d8-95b2-425a-9939-d0449b443965; trace=234187d8-95b2-425a-9939-d0449b443965,id=41d22f44-adca-428e-a89e-0b2d6a9759d5; trace=234187d8-95b2-425a-9939-d0449b443965,id=53474311-dd5b-4ccc-b1dc-38ddfa3425d1; trace=c47b9f31-6a9f-4a38-8ebd-3981ccc2316e,id=c47b9f31-6a9f-4a38-8ebd-3981ccc2316e; trace=c47b9f31-6a9f-4a38-8ebd-3981ccc2316e,id=43a71a21-06d6-406a-9057-f3f9fb377338; trace=c47b9f31-6a9f-4a38-8ebd-3981ccc2316e,id=7306c2bb-a6b6-4bc3-a8a7-177356340e0e; trace=d8a84b7f-acb0-4818-a864-9dc902b45f03,id=d8a84b7f-acb0-4818-a864-9dc902b45f03; trace=d8a84b7f-acb0-4818-a864-9dc902b45f03,id=3d75b8e5-e112-41e3-8a94-c2c23ccb01af\n"
     ]
    },
    {
     "name": "stdout",
     "output_type": "stream",
     "text": [
      "Processed 409/1000 - Expected: 1 - Result: 2\n",
      "Processed 410/1000 - Expected: 1 - Result: 0\n",
      "Processed 411/1000 - Expected: 1 - Result: 2\n",
      "Processed 412/1000 - Expected: 1 - Result: 2\n",
      "Processed 413/1000 - Expected: 1 - Result: 2\n",
      "Processed 414/1000 - Expected: 1 - Result: 0\n",
      "Processed 415/1000 - Expected: 1 - Result: 2\n",
      "Processed 416/1000 - Expected: 1 - Result: 2\n",
      "Processed 417/1000 - Expected: 1 - Result: 0\n",
      "Processed 418/1000 - Expected: 1 - Result: 2\n",
      "Processed 419/1000 - Expected: 1 - Result: 0\n",
      "Processed 420/1000 - Expected: 1 - Result: 0\n",
      "Processed 421/1000 - Expected: 1 - Result: 0\n",
      "Processed 422/1000 - Expected: 1 - Result: 2\n"
     ]
    },
    {
     "name": "stderr",
     "output_type": "stream",
     "text": [
      "Failed to batch ingest runs: langsmith.utils.LangSmithRateLimitError: Rate limit exceeded for https://api.smith.langchain.com/runs/batch. HTTPError('429 Client Error: Too Many Requests for url: https://api.smith.langchain.com/runs/batch', '{\"error\":\"Too many requests: tenant exceeded usage limits: Monthly unique traces usage limit exceeded\"}\\n')\n",
      "post: trace=d8a84b7f-acb0-4818-a864-9dc902b45f03,id=92b6ef05-b588-4a53-b369-2e7dd0f7ab93; trace=95f5fdb3-07e0-4901-86e9-6046bda67c5b,id=95f5fdb3-07e0-4901-86e9-6046bda67c5b; trace=95f5fdb3-07e0-4901-86e9-6046bda67c5b,id=2b0e5f0c-33c9-4b8f-bd13-4da22c2792d4; trace=95f5fdb3-07e0-4901-86e9-6046bda67c5b,id=09a121f7-2d79-45c8-bc8c-5e98697ef56d; trace=5e539c6b-d809-4460-803b-be86a2253969,id=5e539c6b-d809-4460-803b-be86a2253969; trace=5e539c6b-d809-4460-803b-be86a2253969,id=b7777d5b-e508-4cf2-b95d-50d224e96d1a; trace=5e539c6b-d809-4460-803b-be86a2253969,id=0ab77b71-2f65-4cdc-9ef8-28876ae29845; trace=a0474f1e-d315-4fa0-86dd-bcc747aea1ba,id=a0474f1e-d315-4fa0-86dd-bcc747aea1ba; trace=a0474f1e-d315-4fa0-86dd-bcc747aea1ba,id=fb423ea2-e311-4b63-ae0a-edd57069157b; trace=a0474f1e-d315-4fa0-86dd-bcc747aea1ba,id=91f4c468-9e0c-4918-b418-d40cc11a985f; trace=c97cc182-2a1c-478a-a9b9-80aa19ef1970,id=c97cc182-2a1c-478a-a9b9-80aa19ef1970; trace=c97cc182-2a1c-478a-a9b9-80aa19ef1970,id=f86d735c-2dd2-4494-8e2e-56968ed2427e; trace=c97cc182-2a1c-478a-a9b9-80aa19ef1970,id=dcb65119-1fbd-49e2-9a2f-a918f7c77d2b; trace=125b9f5d-7f8f-4c78-897b-3039352f975d,id=125b9f5d-7f8f-4c78-897b-3039352f975d; trace=125b9f5d-7f8f-4c78-897b-3039352f975d,id=9ae283d9-c684-4553-baae-ae4c12429a3a; trace=125b9f5d-7f8f-4c78-897b-3039352f975d,id=0a9007b1-f753-4f5c-ae21-827fa5a95bd7; trace=fb7bfc05-ecf7-4252-9c24-aaa96834ccd8,id=fb7bfc05-ecf7-4252-9c24-aaa96834ccd8; trace=fb7bfc05-ecf7-4252-9c24-aaa96834ccd8,id=db2c2cca-a0b3-4e99-bed2-4bcf766a29b2; trace=fb7bfc05-ecf7-4252-9c24-aaa96834ccd8,id=8146c238-9d91-43d9-86c0-7ace97d6a438; trace=3e52fa43-3fc3-449c-9f3e-08c8f778a587,id=3e52fa43-3fc3-449c-9f3e-08c8f778a587; trace=3e52fa43-3fc3-449c-9f3e-08c8f778a587,id=3833269f-fb71-4ba1-9d6b-b4d457f97f1c; trace=3e52fa43-3fc3-449c-9f3e-08c8f778a587,id=05030c77-1d42-4094-a658-7a6867f7e2de; trace=c9dc05e1-cc0a-45a9-be5d-7cf6789fdc45,id=c9dc05e1-cc0a-45a9-be5d-7cf6789fdc45; trace=c9dc05e1-cc0a-45a9-be5d-7cf6789fdc45,id=b6834fdd-45cd-458f-aea6-51033dbdd1e2; trace=c9dc05e1-cc0a-45a9-be5d-7cf6789fdc45,id=e57b56d9-ceb9-42ff-a322-873a8b4f6540; trace=79d67819-2c0b-4bc9-8f77-408dd1407062,id=79d67819-2c0b-4bc9-8f77-408dd1407062; trace=79d67819-2c0b-4bc9-8f77-408dd1407062,id=9bc31cba-1bbc-456a-b376-3a6d54658b60; trace=79d67819-2c0b-4bc9-8f77-408dd1407062,id=403cff82-4b78-4a16-a1ef-2929a191de7f; trace=bb6e8e06-c6ae-42e0-8c96-c6159c79bdc4,id=bb6e8e06-c6ae-42e0-8c96-c6159c79bdc4; trace=bb6e8e06-c6ae-42e0-8c96-c6159c79bdc4,id=6a523182-bd70-4a96-8718-ef1027b6f0be; trace=bb6e8e06-c6ae-42e0-8c96-c6159c79bdc4,id=635fae11-af66-418c-8596-dd7e5be32849; trace=0fe3c6bc-83f2-4375-8cb0-7d85315953ef,id=0fe3c6bc-83f2-4375-8cb0-7d85315953ef; trace=0fe3c6bc-83f2-4375-8cb0-7d85315953ef,id=70648cbb-c5fe-4691-8133-22eba0caf4b7; trace=0fe3c6bc-83f2-4375-8cb0-7d85315953ef,id=df9166b3-8663-4a33-9527-00e00bf945ce; trace=fd7764a3-eaf6-47d4-b5a8-cdf5fdae86d7,id=fd7764a3-eaf6-47d4-b5a8-cdf5fdae86d7; trace=fd7764a3-eaf6-47d4-b5a8-cdf5fdae86d7,id=ba1b0cf2-1732-46cc-9765-e55e8348c5b0; trace=fd7764a3-eaf6-47d4-b5a8-cdf5fdae86d7,id=39ddf347-005d-418f-95d4-a5553dcf3373; trace=e5bfbc45-7e56-4163-a9a7-3259ded06b57,id=e5bfbc45-7e56-4163-a9a7-3259ded06b57; trace=e5bfbc45-7e56-4163-a9a7-3259ded06b57,id=82f2e983-f612-4422-8f5a-f00af6e55e0a; trace=e5bfbc45-7e56-4163-a9a7-3259ded06b57,id=4479f0ea-6686-44b5-8b76-ca989040f83a; trace=924f91b1-13f3-47f7-a710-15f46488942d,id=924f91b1-13f3-47f7-a710-15f46488942d; trace=924f91b1-13f3-47f7-a710-15f46488942d,id=13a9bd24-620f-4b9f-8922-a18b808b1d27; trace=924f91b1-13f3-47f7-a710-15f46488942d,id=e10eadbd-db55-4da6-acc1-07892c9d552a; patch: trace=d8a84b7f-acb0-4818-a864-9dc902b45f03,id=d8a84b7f-acb0-4818-a864-9dc902b45f03; trace=d8a84b7f-acb0-4818-a864-9dc902b45f03,id=3d75b8e5-e112-41e3-8a94-c2c23ccb01af\n"
     ]
    },
    {
     "name": "stdout",
     "output_type": "stream",
     "text": [
      "Processed 423/1000 - Expected: 1 - Result: 2\n",
      "Processed 424/1000 - Expected: 1 - Result: 0\n",
      "Processed 425/1000 - Expected: 1 - Result: 2\n",
      "Processed 426/1000 - Expected: 1 - Result: 2\n",
      "Processed 427/1000 - Expected: 1 - Result: 2\n",
      "Processed 428/1000 - Expected: 1 - Result: 2\n",
      "Processed 429/1000 - Expected: 1 - Result: 2\n",
      "Processed 430/1000 - Expected: 1 - Result: 2\n",
      "Processed 431/1000 - Expected: 1 - Result: 2\n",
      "Processed 432/1000 - Expected: 1 - Result: 2\n",
      "Processed 433/1000 - Expected: 1 - Result: 2\n",
      "Processed 434/1000 - Expected: 1 - Result: 0\n",
      "Processed 435/1000 - Expected: 1 - Result: 2\n",
      "Processed 436/1000 - Expected: 1 - Result: 2\n",
      "Processed 437/1000 - Expected: 1 - Result: 2\n"
     ]
    },
    {
     "name": "stderr",
     "output_type": "stream",
     "text": [
      "Failed to batch ingest runs: langsmith.utils.LangSmithRateLimitError: Rate limit exceeded for https://api.smith.langchain.com/runs/batch. HTTPError('429 Client Error: Too Many Requests for url: https://api.smith.langchain.com/runs/batch', '{\"error\":\"Too many requests: tenant exceeded usage limits: Monthly unique traces usage limit exceeded\"}\\n')\n",
      "post: trace=1a1d32f9-0585-4c4e-979b-11b1585374d8,id=1a1d32f9-0585-4c4e-979b-11b1585374d8; trace=1a1d32f9-0585-4c4e-979b-11b1585374d8,id=ed5bbdeb-6abd-44ca-963f-a3ff2ab1727b; trace=1a1d32f9-0585-4c4e-979b-11b1585374d8,id=9d576ef3-61d9-496c-89d1-5bd356fc0c1c; trace=654ad026-4093-4667-9dbd-802c861f6360,id=654ad026-4093-4667-9dbd-802c861f6360; trace=654ad026-4093-4667-9dbd-802c861f6360,id=2dbefe14-d0a0-485f-a0c0-e943f411f4d8; trace=654ad026-4093-4667-9dbd-802c861f6360,id=bb723c5b-2180-4664-a63f-40193bf29474; trace=0e789e1e-b86b-41c1-8ae9-3f06448b5214,id=0e789e1e-b86b-41c1-8ae9-3f06448b5214; trace=0e789e1e-b86b-41c1-8ae9-3f06448b5214,id=3f77eeeb-756c-4c9e-99dc-9251164c3892; trace=0e789e1e-b86b-41c1-8ae9-3f06448b5214,id=0db3c8ed-e14b-4b9c-a3a4-f522592d7304; trace=76c34f45-117f-439b-bab4-8f1b0dc10431,id=76c34f45-117f-439b-bab4-8f1b0dc10431; trace=76c34f45-117f-439b-bab4-8f1b0dc10431,id=44523f4a-9d22-4d9b-8945-44a982f2a275; trace=76c34f45-117f-439b-bab4-8f1b0dc10431,id=ec16a489-7cf1-45ea-a9e8-19e372d9bf28; trace=db8170d7-a1d6-405a-bcef-bbb851ca2bf4,id=db8170d7-a1d6-405a-bcef-bbb851ca2bf4; trace=db8170d7-a1d6-405a-bcef-bbb851ca2bf4,id=ec995f5a-af18-4244-b057-2464fa6a1af9; trace=db8170d7-a1d6-405a-bcef-bbb851ca2bf4,id=f2ceac8d-6c71-4677-b9ca-df9c20ea45a1; trace=cd222f86-394b-476f-9ed6-44823c850762,id=cd222f86-394b-476f-9ed6-44823c850762; trace=cd222f86-394b-476f-9ed6-44823c850762,id=e7944832-0885-4b0e-af03-21d1a5b873a2; trace=cd222f86-394b-476f-9ed6-44823c850762,id=c11f383f-ad8b-4399-b32f-14724db1cd62; trace=95dd6f45-7106-4987-8ca2-9059f8ac87e0,id=95dd6f45-7106-4987-8ca2-9059f8ac87e0; trace=95dd6f45-7106-4987-8ca2-9059f8ac87e0,id=4945a223-20f4-4941-9d91-113f5297e1c4; trace=95dd6f45-7106-4987-8ca2-9059f8ac87e0,id=c37659ed-6788-428a-89c5-74b02ed0d3f5; trace=de1e570b-1681-40c5-974a-2721d13efc58,id=de1e570b-1681-40c5-974a-2721d13efc58; trace=de1e570b-1681-40c5-974a-2721d13efc58,id=49a08a3b-5d85-45d5-b98c-432236eab650; trace=de1e570b-1681-40c5-974a-2721d13efc58,id=6eabba20-c811-4e80-ae11-8a472d70a2b0; trace=233e5b0f-9fcb-4879-ac47-8c043aff0818,id=233e5b0f-9fcb-4879-ac47-8c043aff0818; trace=233e5b0f-9fcb-4879-ac47-8c043aff0818,id=bbd9bcad-24f0-4042-910e-710f39a3dabe; trace=233e5b0f-9fcb-4879-ac47-8c043aff0818,id=32fe6196-2d92-4b34-8d77-3d1dae9a1350; trace=2b9bde92-28e6-4d53-8458-9fce6af3797a,id=2b9bde92-28e6-4d53-8458-9fce6af3797a; trace=2b9bde92-28e6-4d53-8458-9fce6af3797a,id=f0cdb748-a069-4e7b-8c4d-aad201bfa1f9; trace=2b9bde92-28e6-4d53-8458-9fce6af3797a,id=c493818f-5d74-48fe-96fd-58d061c6ae2c; trace=d056a69b-34e3-4d33-920d-b4cf2571132d,id=d056a69b-34e3-4d33-920d-b4cf2571132d; trace=d056a69b-34e3-4d33-920d-b4cf2571132d,id=7bc9977f-ac5e-40cb-bac4-39da67bd3bd9; trace=d056a69b-34e3-4d33-920d-b4cf2571132d,id=0938b4cc-0d18-4eb3-80aa-33ccd1d879cc; trace=5d701125-bd08-49e0-b16b-4d0f9bb11d9c,id=5d701125-bd08-49e0-b16b-4d0f9bb11d9c; trace=5d701125-bd08-49e0-b16b-4d0f9bb11d9c,id=46b1aad0-509a-4e2e-9a8f-c52978ad07dc; trace=5d701125-bd08-49e0-b16b-4d0f9bb11d9c,id=842cc429-88d3-40b5-aa9c-d36b8999b023; trace=98cb9fe9-25e3-4e59-a486-f24da1a028cd,id=98cb9fe9-25e3-4e59-a486-f24da1a028cd; trace=98cb9fe9-25e3-4e59-a486-f24da1a028cd,id=b520cb86-d8d5-40bf-95b7-a5334c02521e; trace=98cb9fe9-25e3-4e59-a486-f24da1a028cd,id=210be219-0f36-4a32-8266-f9319780659d; trace=c383af8d-12b5-4486-ae12-43b306a632d3,id=c383af8d-12b5-4486-ae12-43b306a632d3; trace=c383af8d-12b5-4486-ae12-43b306a632d3,id=73b7beb5-17c5-498f-98f3-ac333effe241; trace=c383af8d-12b5-4486-ae12-43b306a632d3,id=2205487c-1cf0-48dc-af37-a1d1203c8d72; trace=fb247af8-2ed3-4537-b904-8c5b12f50974,id=fb247af8-2ed3-4537-b904-8c5b12f50974; trace=fb247af8-2ed3-4537-b904-8c5b12f50974,id=185b5cc8-2084-4c86-9457-bc3802b83453\n"
     ]
    },
    {
     "name": "stdout",
     "output_type": "stream",
     "text": [
      "Processed 438/1000 - Expected: 1 - Result: 2\n",
      "Processed 439/1000 - Expected: 1 - Result: 0\n",
      "Processed 440/1000 - Expected: 1 - Result: 2\n",
      "Processed 441/1000 - Expected: 1 - Result: 0\n",
      "Processed 442/1000 - Expected: 1 - Result: 0\n",
      "Processed 443/1000 - Expected: 1 - Result: 0\n",
      "Processed 444/1000 - Expected: 1 - Result: 2\n",
      "Processed 445/1000 - Expected: 1 - Result: 0\n",
      "Processed 446/1000 - Expected: 1 - Result: 0\n",
      "Processed 447/1000 - Expected: 1 - Result: 2\n",
      "Processed 448/1000 - Expected: 1 - Result: 0\n",
      "Processed 449/1000 - Expected: 1 - Result: 0\n",
      "Processed 450/1000 - Expected: 1 - Result: 2\n",
      "Processed 451/1000 - Expected: 1 - Result: 2\n",
      "Processed 452/1000 - Expected: 1 - Result: 2\n"
     ]
    },
    {
     "name": "stderr",
     "output_type": "stream",
     "text": [
      "Failed to batch ingest runs: langsmith.utils.LangSmithRateLimitError: Rate limit exceeded for https://api.smith.langchain.com/runs/batch. HTTPError('429 Client Error: Too Many Requests for url: https://api.smith.langchain.com/runs/batch', '{\"error\":\"Too many requests: tenant exceeded usage limits: Monthly unique traces usage limit exceeded\"}\\n')\n",
      "post: trace=fb247af8-2ed3-4537-b904-8c5b12f50974,id=f658ee3e-fa46-4ae1-bc9e-3d884cdd3359; trace=519d0ac0-c53c-47cb-9a0e-763ff41215b3,id=519d0ac0-c53c-47cb-9a0e-763ff41215b3; trace=519d0ac0-c53c-47cb-9a0e-763ff41215b3,id=78729764-6ebd-4f3c-9cdd-bd66682df3a8; trace=519d0ac0-c53c-47cb-9a0e-763ff41215b3,id=bbd87e50-b4fa-4a3c-9362-4fbcf71609c9; trace=803454f4-ecee-4228-b6bb-654fe5fa49cf,id=803454f4-ecee-4228-b6bb-654fe5fa49cf; trace=803454f4-ecee-4228-b6bb-654fe5fa49cf,id=27831be9-0343-47db-ba8d-713c307c0684; trace=803454f4-ecee-4228-b6bb-654fe5fa49cf,id=e1fff20f-5941-4480-91aa-83df2cd30b3a; trace=eaecb04f-f3ff-4153-943e-a85dab750c76,id=eaecb04f-f3ff-4153-943e-a85dab750c76; trace=eaecb04f-f3ff-4153-943e-a85dab750c76,id=9cc5bf81-c1a6-4c18-8f14-6280c0f5168f; trace=eaecb04f-f3ff-4153-943e-a85dab750c76,id=4cf91039-1c4c-4933-b81c-7e7e5d039111; trace=e0a3f20d-9662-4f47-a625-7cfbedbe1db2,id=e0a3f20d-9662-4f47-a625-7cfbedbe1db2; trace=e0a3f20d-9662-4f47-a625-7cfbedbe1db2,id=c4154c4a-581a-4e13-b1d5-7448d967f891; trace=e0a3f20d-9662-4f47-a625-7cfbedbe1db2,id=5347f53f-9ff8-490f-9e83-30650693ff36; trace=fe846501-555c-4aab-8ead-cc0b8ed8e184,id=fe846501-555c-4aab-8ead-cc0b8ed8e184; trace=fe846501-555c-4aab-8ead-cc0b8ed8e184,id=0eb12aa6-239a-42be-8084-59c58342bda0; trace=fe846501-555c-4aab-8ead-cc0b8ed8e184,id=baef1463-edfa-4ef3-8e09-aef445722e8f; trace=60126f7a-7d9c-41cf-8675-5bd7c4c109a9,id=60126f7a-7d9c-41cf-8675-5bd7c4c109a9; trace=60126f7a-7d9c-41cf-8675-5bd7c4c109a9,id=22939cf4-86fd-441a-a289-d2e4066aca7f; trace=60126f7a-7d9c-41cf-8675-5bd7c4c109a9,id=a00024a6-5497-40b2-8b05-a6859097d063; trace=acda9689-0e0f-4588-af67-181c060c6c9a,id=acda9689-0e0f-4588-af67-181c060c6c9a; trace=acda9689-0e0f-4588-af67-181c060c6c9a,id=d091a19b-0947-472b-9af9-1cb3712fad79; trace=acda9689-0e0f-4588-af67-181c060c6c9a,id=13f7a95a-97ba-43f3-a7d2-a97c877ceaee; trace=1f9d946e-2f9c-4296-a7c3-3b4716b901f7,id=1f9d946e-2f9c-4296-a7c3-3b4716b901f7; trace=1f9d946e-2f9c-4296-a7c3-3b4716b901f7,id=6dbda44d-e2f6-405c-83b7-2cf2039091b6; trace=1f9d946e-2f9c-4296-a7c3-3b4716b901f7,id=76d37e82-757a-4418-bf72-0d78884192a9; trace=4ddbb12f-5f1c-4c1d-bf5b-22f7e9ba2297,id=4ddbb12f-5f1c-4c1d-bf5b-22f7e9ba2297; trace=4ddbb12f-5f1c-4c1d-bf5b-22f7e9ba2297,id=3b526b00-f7eb-40ec-82ae-0111e9dca795; trace=4ddbb12f-5f1c-4c1d-bf5b-22f7e9ba2297,id=c97b5816-51ce-477d-bf94-312590ec0655; trace=5ae00442-f6fa-453a-b5e2-f4a5cc1d49ae,id=5ae00442-f6fa-453a-b5e2-f4a5cc1d49ae; trace=5ae00442-f6fa-453a-b5e2-f4a5cc1d49ae,id=0c613168-771c-4248-b094-4072cfb3c4f9; trace=5ae00442-f6fa-453a-b5e2-f4a5cc1d49ae,id=6833ff68-dfcf-4ee6-9b0d-7864a5fc5305; trace=76fdf027-6ff1-4033-a2dc-376734f75e83,id=76fdf027-6ff1-4033-a2dc-376734f75e83; trace=76fdf027-6ff1-4033-a2dc-376734f75e83,id=dd42cfaf-98ef-423a-9e66-13351d7c7521; trace=76fdf027-6ff1-4033-a2dc-376734f75e83,id=219d5df2-834c-4465-bd4b-c793de5eea79; trace=f18e712a-8062-466a-b42c-da21f2728b2a,id=f18e712a-8062-466a-b42c-da21f2728b2a; trace=f18e712a-8062-466a-b42c-da21f2728b2a,id=e16eb6df-8c02-4b29-8aca-5e5c9dc06b9a; trace=f18e712a-8062-466a-b42c-da21f2728b2a,id=6456d2f8-05e0-4872-9cdd-ab5d6e187da1; trace=cd09e6dd-dda4-46ea-b8db-abd94cbd3022,id=cd09e6dd-dda4-46ea-b8db-abd94cbd3022; trace=cd09e6dd-dda4-46ea-b8db-abd94cbd3022,id=c0284870-bccf-4580-bde8-a9d62b3bb047; trace=cd09e6dd-dda4-46ea-b8db-abd94cbd3022,id=c1aefa9c-0f68-4591-a425-60a981ee6c22; trace=8f4b861f-b3b2-4006-bc2a-879b11ed3e0f,id=8f4b861f-b3b2-4006-bc2a-879b11ed3e0f; trace=8f4b861f-b3b2-4006-bc2a-879b11ed3e0f,id=4c2cbb41-ce79-4614-b4d8-4069ac5e9b5f; trace=8f4b861f-b3b2-4006-bc2a-879b11ed3e0f,id=0c336027-b5ac-4918-a281-6342eb51d53d; patch: trace=fb247af8-2ed3-4537-b904-8c5b12f50974,id=fb247af8-2ed3-4537-b904-8c5b12f50974; trace=fb247af8-2ed3-4537-b904-8c5b12f50974,id=185b5cc8-2084-4c86-9457-bc3802b83453\n"
     ]
    },
    {
     "name": "stdout",
     "output_type": "stream",
     "text": [
      "Processed 453/1000 - Expected: 1 - Result: 2\n",
      "Processed 454/1000 - Expected: 1 - Result: 2\n",
      "Processed 455/1000 - Expected: 1 - Result: 2\n",
      "Processed 456/1000 - Expected: 1 - Result: 2\n",
      "Processed 457/1000 - Expected: 1 - Result: 2\n",
      "Processed 458/1000 - Expected: 1 - Result: 2\n",
      "Processed 459/1000 - Expected: 1 - Result: 2\n",
      "Processed 460/1000 - Expected: 1 - Result: 2\n",
      "Processed 461/1000 - Expected: 1 - Result: 0\n",
      "Processed 462/1000 - Expected: 1 - Result: 0\n",
      "Processed 463/1000 - Expected: 1 - Result: 0\n",
      "Processed 464/1000 - Expected: 1 - Result: 0\n",
      "Processed 465/1000 - Expected: 1 - Result: 0\n",
      "Processed 466/1000 - Expected: 1 - Result: 0\n",
      "Processed 467/1000 - Expected: 1 - Result: 0\n"
     ]
    },
    {
     "name": "stderr",
     "output_type": "stream",
     "text": [
      "Failed to batch ingest runs: langsmith.utils.LangSmithRateLimitError: Rate limit exceeded for https://api.smith.langchain.com/runs/batch. HTTPError('429 Client Error: Too Many Requests for url: https://api.smith.langchain.com/runs/batch', '{\"error\":\"Too many requests: tenant exceeded usage limits: Monthly unique traces usage limit exceeded\"}\\n')\n",
      "post: trace=64f1ad90-3723-4a67-b86e-9481b1c3f48e,id=64f1ad90-3723-4a67-b86e-9481b1c3f48e; trace=64f1ad90-3723-4a67-b86e-9481b1c3f48e,id=b8d1c5ae-e787-4fec-9748-386378ca9a5b; trace=64f1ad90-3723-4a67-b86e-9481b1c3f48e,id=6b1c9c4c-ed19-49bc-bc79-b8e798b49417; trace=95f8f17c-bccf-4baf-b38e-dafc4cbed5b1,id=95f8f17c-bccf-4baf-b38e-dafc4cbed5b1; trace=95f8f17c-bccf-4baf-b38e-dafc4cbed5b1,id=09313040-27ae-4dfd-941c-54b5cc92076a; trace=95f8f17c-bccf-4baf-b38e-dafc4cbed5b1,id=7b702260-f95a-499e-be1e-243064096862; trace=e7aaadcc-a928-44b6-836b-3495ca03606e,id=e7aaadcc-a928-44b6-836b-3495ca03606e; trace=e7aaadcc-a928-44b6-836b-3495ca03606e,id=c3935d4a-357a-4872-a294-b8fe2163cb31; trace=e7aaadcc-a928-44b6-836b-3495ca03606e,id=e43bb133-9a88-4431-8769-42aa5fc220f0; trace=28cc7735-38e6-4455-9aa6-78c7874980a4,id=28cc7735-38e6-4455-9aa6-78c7874980a4; trace=28cc7735-38e6-4455-9aa6-78c7874980a4,id=3a267da5-912f-45ab-80e2-f5094c8d1b34; trace=28cc7735-38e6-4455-9aa6-78c7874980a4,id=ce29453c-aabe-460a-95c5-7dc6fa3cfb13; trace=cab83fbb-7f7f-43c6-ac7b-5f18fefc2630,id=cab83fbb-7f7f-43c6-ac7b-5f18fefc2630; trace=cab83fbb-7f7f-43c6-ac7b-5f18fefc2630,id=6238e962-0b9e-47b2-ac39-7880cfecb9d2; trace=cab83fbb-7f7f-43c6-ac7b-5f18fefc2630,id=6c6fabb0-1226-4775-b334-99101823582b; trace=2272fb67-5864-40a5-a523-9a6366005d8f,id=2272fb67-5864-40a5-a523-9a6366005d8f; trace=2272fb67-5864-40a5-a523-9a6366005d8f,id=3c397b64-f695-4aa2-b2c3-92aec03fda9d; trace=2272fb67-5864-40a5-a523-9a6366005d8f,id=75409589-1b17-49ba-a44c-b3eddf347488; trace=64f03366-9e5c-4691-b9c0-19f1b7b01167,id=64f03366-9e5c-4691-b9c0-19f1b7b01167; trace=64f03366-9e5c-4691-b9c0-19f1b7b01167,id=b9b92a09-670c-411c-bb77-d718bdd354b8; trace=64f03366-9e5c-4691-b9c0-19f1b7b01167,id=661c3639-97d7-478d-90de-53e710c0dff5; trace=9ba5d39b-8bd7-4171-991e-a6e494e83e06,id=9ba5d39b-8bd7-4171-991e-a6e494e83e06; trace=9ba5d39b-8bd7-4171-991e-a6e494e83e06,id=177146b5-95f6-4e81-b1e3-2d0cc53a4b07; trace=9ba5d39b-8bd7-4171-991e-a6e494e83e06,id=55da5c8e-2f0a-4978-a287-6e9cbc7f9582; trace=8cc9a75d-c6b8-433f-af76-42b2da6b2077,id=8cc9a75d-c6b8-433f-af76-42b2da6b2077; trace=8cc9a75d-c6b8-433f-af76-42b2da6b2077,id=9b8db979-b176-4bbc-8068-23e177de00fb; trace=8cc9a75d-c6b8-433f-af76-42b2da6b2077,id=bc89fc83-4ff8-4102-bdbb-71090161a69b; trace=23fe4cd7-0fa9-4cb2-92e7-59f03a301bcc,id=23fe4cd7-0fa9-4cb2-92e7-59f03a301bcc; trace=23fe4cd7-0fa9-4cb2-92e7-59f03a301bcc,id=7d379d95-94cd-4bea-8ba6-44844ddc313e; trace=23fe4cd7-0fa9-4cb2-92e7-59f03a301bcc,id=4c233cb1-7120-4f0c-b766-cceb563b0d47; trace=132017bb-c048-4664-8764-7cac41d45f0f,id=132017bb-c048-4664-8764-7cac41d45f0f; trace=132017bb-c048-4664-8764-7cac41d45f0f,id=2fa11c38-f1d2-4b3d-ae99-87d0fe5f10fe; trace=132017bb-c048-4664-8764-7cac41d45f0f,id=0e3b6cfd-6061-4f5f-84f4-80de23137a7a; trace=ca1aab27-45aa-4118-9192-07631f6ceb75,id=ca1aab27-45aa-4118-9192-07631f6ceb75; trace=ca1aab27-45aa-4118-9192-07631f6ceb75,id=f7fe89a4-e6bc-40de-835c-db2189be924e; trace=ca1aab27-45aa-4118-9192-07631f6ceb75,id=3b91136c-85a6-4fb3-8f9d-cd690956a91d; trace=81f793ff-6afc-44de-b8f9-48a5056c498d,id=81f793ff-6afc-44de-b8f9-48a5056c498d; trace=81f793ff-6afc-44de-b8f9-48a5056c498d,id=dba9d569-0cbc-4262-a1f7-df7ef04cb08f; trace=81f793ff-6afc-44de-b8f9-48a5056c498d,id=53d23c6c-9c23-465a-ac9b-2cc2bea254b0; trace=3632f5db-f211-43a1-828c-184f53059ec1,id=3632f5db-f211-43a1-828c-184f53059ec1; trace=3632f5db-f211-43a1-828c-184f53059ec1,id=def6703c-63bd-4fcb-85ef-542b6f7f3fd4; trace=3632f5db-f211-43a1-828c-184f53059ec1,id=0f1a17e9-f892-4600-b0c8-07e526f35904; trace=f1cf8d01-60c0-41fd-bc43-b5f5ea8fab72,id=f1cf8d01-60c0-41fd-bc43-b5f5ea8fab72; trace=f1cf8d01-60c0-41fd-bc43-b5f5ea8fab72,id=59b4d9c4-ad1e-4542-85cd-0db034c06814; trace=f1cf8d01-60c0-41fd-bc43-b5f5ea8fab72,id=90db743f-de48-4435-ad86-d0474591e87f; trace=3dcce4a2-0f74-4751-9eab-5e0ae3bef4a2,id=3dcce4a2-0f74-4751-9eab-5e0ae3bef4a2; trace=3dcce4a2-0f74-4751-9eab-5e0ae3bef4a2,id=d3b49724-1223-46fb-ae45-ae68c3509547\n"
     ]
    },
    {
     "name": "stdout",
     "output_type": "stream",
     "text": [
      "Processed 468/1000 - Expected: 1 - Result: 2\n",
      "Processed 469/1000 - Expected: 1 - Result: 0\n",
      "Processed 470/1000 - Expected: 1 - Result: 2\n",
      "Processed 471/1000 - Expected: 1 - Result: 2\n",
      "Processed 472/1000 - Expected: 1 - Result: 2\n",
      "Processed 473/1000 - Expected: 1 - Result: 2\n",
      "Processed 474/1000 - Expected: 1 - Result: 2\n",
      "Processed 475/1000 - Expected: 1 - Result: 0\n",
      "Processed 476/1000 - Expected: 1 - Result: 0\n",
      "Processed 477/1000 - Expected: 1 - Result: 2\n",
      "Processed 478/1000 - Expected: 1 - Result: 0\n",
      "Processed 479/1000 - Expected: 1 - Result: 2\n",
      "Processed 480/1000 - Expected: 1 - Result: 2\n",
      "Processed 481/1000 - Expected: 1 - Result: 0\n",
      "Processed 482/1000 - Expected: 1 - Result: 2\n"
     ]
    },
    {
     "name": "stderr",
     "output_type": "stream",
     "text": [
      "Failed to batch ingest runs: langsmith.utils.LangSmithRateLimitError: Rate limit exceeded for https://api.smith.langchain.com/runs/batch. HTTPError('429 Client Error: Too Many Requests for url: https://api.smith.langchain.com/runs/batch', '{\"error\":\"Too many requests: tenant exceeded usage limits: Monthly unique traces usage limit exceeded\"}\\n')\n",
      "post: trace=3dcce4a2-0f74-4751-9eab-5e0ae3bef4a2,id=a1fd101f-395c-45bf-8f48-580b0c46b15e; trace=2ed06368-4081-4ed2-ab32-065ae9794655,id=2ed06368-4081-4ed2-ab32-065ae9794655; trace=2ed06368-4081-4ed2-ab32-065ae9794655,id=ab93b3e2-0b52-4b31-ac7a-ed8e574650e2; trace=2ed06368-4081-4ed2-ab32-065ae9794655,id=96d4d5c8-ca73-41b2-a250-4d2873ca266a; trace=d808056e-9d9e-4305-b9fc-2d6eca3cc9df,id=d808056e-9d9e-4305-b9fc-2d6eca3cc9df; trace=d808056e-9d9e-4305-b9fc-2d6eca3cc9df,id=c298f3ce-9eaa-4ff3-90eb-6c8951a56911; trace=d808056e-9d9e-4305-b9fc-2d6eca3cc9df,id=e42d718d-d23c-4812-8a69-f742e4d5bfa4; trace=00390589-83cf-4b23-8050-45ba6b9f162f,id=00390589-83cf-4b23-8050-45ba6b9f162f; trace=00390589-83cf-4b23-8050-45ba6b9f162f,id=982af7e2-a9a5-4308-b94a-30b298d8f24c; trace=00390589-83cf-4b23-8050-45ba6b9f162f,id=40021565-6f09-4833-8489-c37dd2e4185b; trace=a28c4690-71cb-4cc0-8200-208128237739,id=a28c4690-71cb-4cc0-8200-208128237739; trace=a28c4690-71cb-4cc0-8200-208128237739,id=cfe6771e-f1d8-40c7-a428-42e87d08bbdb; trace=a28c4690-71cb-4cc0-8200-208128237739,id=6d987290-f44f-4c78-8e55-07f08eefe928; trace=80e77e2e-76a5-4507-8465-22840c928f08,id=80e77e2e-76a5-4507-8465-22840c928f08; trace=80e77e2e-76a5-4507-8465-22840c928f08,id=6330b488-d7ca-44bf-9ca9-752ec0610095; trace=80e77e2e-76a5-4507-8465-22840c928f08,id=56e940bf-7fe8-4520-a348-a52282887ff8; trace=fb42d045-a9f0-4e78-a473-8a345968d9e5,id=fb42d045-a9f0-4e78-a473-8a345968d9e5; trace=fb42d045-a9f0-4e78-a473-8a345968d9e5,id=c25e4d79-d94e-4051-b7b8-768cb72aa314; trace=fb42d045-a9f0-4e78-a473-8a345968d9e5,id=a112686c-dd8b-4cd9-8e36-38d41959e48a; trace=4c281f29-5507-4125-8bd5-eda6aede28d1,id=4c281f29-5507-4125-8bd5-eda6aede28d1; trace=4c281f29-5507-4125-8bd5-eda6aede28d1,id=5f4890f9-30c6-4ef5-83fa-0573022b52b8; trace=4c281f29-5507-4125-8bd5-eda6aede28d1,id=947c9efc-32f3-45ab-be98-75055e5a1e65; trace=9457099b-3f6b-4360-bb6c-170178a6211a,id=9457099b-3f6b-4360-bb6c-170178a6211a; trace=9457099b-3f6b-4360-bb6c-170178a6211a,id=43253757-e68c-4373-a9d7-9f393cb93afc; trace=9457099b-3f6b-4360-bb6c-170178a6211a,id=b7df1dd9-4dfc-4631-8d4d-4e563c6cc078; trace=c47a8200-b048-48b4-ba28-06909d42ccd0,id=c47a8200-b048-48b4-ba28-06909d42ccd0; trace=c47a8200-b048-48b4-ba28-06909d42ccd0,id=1fc5e6a8-b8a2-458b-a501-a264c95e7893; trace=c47a8200-b048-48b4-ba28-06909d42ccd0,id=eda0656b-5f43-4a01-a428-a36fb9a978c2; trace=0d7f4255-077d-4e6d-b0d9-205c56a96856,id=0d7f4255-077d-4e6d-b0d9-205c56a96856; trace=0d7f4255-077d-4e6d-b0d9-205c56a96856,id=296c85a7-1af8-48c8-b6ec-11a896dc0e4b; trace=0d7f4255-077d-4e6d-b0d9-205c56a96856,id=47779f0a-a3e4-4e6e-979f-7ab66b708674; trace=6ed6a2a0-9638-48fc-a7fc-f027717f9b28,id=6ed6a2a0-9638-48fc-a7fc-f027717f9b28; trace=6ed6a2a0-9638-48fc-a7fc-f027717f9b28,id=13e49cfe-5969-485f-9cd3-9a6a682f39c4; trace=6ed6a2a0-9638-48fc-a7fc-f027717f9b28,id=372b324a-3447-459b-9481-37594aa3c995; trace=85d910a7-cd04-4029-9432-108d2b436e0e,id=85d910a7-cd04-4029-9432-108d2b436e0e; trace=85d910a7-cd04-4029-9432-108d2b436e0e,id=4c1165cd-53b5-4abe-baec-d23fff04ee7f; trace=85d910a7-cd04-4029-9432-108d2b436e0e,id=ce398d07-c172-4246-a38b-f0c80cc8eb4b; trace=be951e1b-9b61-42b0-a9aa-d4f309b76a5b,id=be951e1b-9b61-42b0-a9aa-d4f309b76a5b; trace=be951e1b-9b61-42b0-a9aa-d4f309b76a5b,id=56d27f3b-876c-4aae-97f5-7ba7a7aefd82; trace=be951e1b-9b61-42b0-a9aa-d4f309b76a5b,id=3d764b97-78df-42e5-bc92-d3ed2519036b; trace=ac4fb032-5dd4-48dc-a855-f842606456f7,id=ac4fb032-5dd4-48dc-a855-f842606456f7; trace=ac4fb032-5dd4-48dc-a855-f842606456f7,id=e34d0fc8-3d58-4e7a-9bb8-2e423fd148f6; trace=ac4fb032-5dd4-48dc-a855-f842606456f7,id=d6b4c22f-1d34-432c-8437-026acb532d42; trace=9977ac04-6099-4913-8d48-df18236da148,id=9977ac04-6099-4913-8d48-df18236da148; trace=9977ac04-6099-4913-8d48-df18236da148,id=f611d676-5b65-49e8-8d20-58ebfb3d9ad1; patch: trace=3dcce4a2-0f74-4751-9eab-5e0ae3bef4a2,id=3dcce4a2-0f74-4751-9eab-5e0ae3bef4a2; trace=3dcce4a2-0f74-4751-9eab-5e0ae3bef4a2,id=d3b49724-1223-46fb-ae45-ae68c3509547\n"
     ]
    },
    {
     "name": "stdout",
     "output_type": "stream",
     "text": [
      "Processed 483/1000 - Expected: 1 - Result: 0\n",
      "Processed 484/1000 - Expected: 1 - Result: 0\n",
      "Processed 485/1000 - Expected: 1 - Result: 0\n",
      "Processed 486/1000 - Expected: 1 - Result: 0\n",
      "Processed 487/1000 - Expected: 1 - Result: 0\n",
      "Processed 488/1000 - Expected: 1 - Result: 0\n",
      "Processed 489/1000 - Expected: 1 - Result: 1\n",
      "Processed 490/1000 - Expected: 1 - Result: 0\n",
      "Processed 491/1000 - Expected: 1 - Result: 0\n",
      "Processed 492/1000 - Expected: 1 - Result: 0\n",
      "Processed 493/1000 - Expected: 1 - Result: 0\n",
      "Processed 494/1000 - Expected: 1 - Result: 0\n",
      "Processed 495/1000 - Expected: 1 - Result: 0\n",
      "Processed 496/1000 - Expected: 1 - Result: 0\n",
      "Processed 497/1000 - Expected: 1 - Result: 0\n"
     ]
    },
    {
     "name": "stderr",
     "output_type": "stream",
     "text": [
      "Failed to batch ingest runs: langsmith.utils.LangSmithRateLimitError: Rate limit exceeded for https://api.smith.langchain.com/runs/batch. HTTPError('429 Client Error: Too Many Requests for url: https://api.smith.langchain.com/runs/batch', '{\"error\":\"Too many requests: tenant exceeded usage limits: Monthly unique traces usage limit exceeded\"}\\n')\n",
      "post: trace=9977ac04-6099-4913-8d48-df18236da148,id=f4795453-a0b7-4a71-8486-585cb06bb05f; trace=6fd7e6cf-d7aa-48ea-be47-4aadd7cd1ba5,id=6fd7e6cf-d7aa-48ea-be47-4aadd7cd1ba5; trace=6fd7e6cf-d7aa-48ea-be47-4aadd7cd1ba5,id=5820d28c-aa8f-46f1-938b-76541dfcdf70; trace=6fd7e6cf-d7aa-48ea-be47-4aadd7cd1ba5,id=50ff83a7-28c5-45c1-9b5b-d887183f5435; trace=6cb2b3bb-d8a5-4b9a-9dcf-f3f4386a7201,id=6cb2b3bb-d8a5-4b9a-9dcf-f3f4386a7201; trace=6cb2b3bb-d8a5-4b9a-9dcf-f3f4386a7201,id=981d01a3-6a3f-403c-b57d-cd959d21bf9b; trace=6cb2b3bb-d8a5-4b9a-9dcf-f3f4386a7201,id=d9ac772a-d771-4498-ae9a-087c8fc180de; trace=c8b413f6-155c-4e8b-b86c-819ff4415d0d,id=c8b413f6-155c-4e8b-b86c-819ff4415d0d; trace=c8b413f6-155c-4e8b-b86c-819ff4415d0d,id=7dc880d7-e9c9-4e4b-903f-dd9ad37c7739; trace=c8b413f6-155c-4e8b-b86c-819ff4415d0d,id=63c59bb4-19b3-4a1d-ba46-ca0a26c11b51; trace=c51b9d41-4cf1-4817-9fdc-3df0386df527,id=c51b9d41-4cf1-4817-9fdc-3df0386df527; trace=c51b9d41-4cf1-4817-9fdc-3df0386df527,id=77867b6f-308a-4052-9e11-bc77cf7f9925; trace=c51b9d41-4cf1-4817-9fdc-3df0386df527,id=e7944d32-5926-42fe-8b84-f9cbe471dc46; trace=0ae278b1-0659-4f4a-ac05-87af223b733c,id=0ae278b1-0659-4f4a-ac05-87af223b733c; trace=0ae278b1-0659-4f4a-ac05-87af223b733c,id=84a12fb0-f2c1-4995-ad6f-86a0704df332; trace=0ae278b1-0659-4f4a-ac05-87af223b733c,id=a9f6511f-178f-401e-907d-6ec59d86dce5; trace=ed5744cc-8c75-4186-9c7f-6da38f529216,id=ed5744cc-8c75-4186-9c7f-6da38f529216; trace=ed5744cc-8c75-4186-9c7f-6da38f529216,id=41db7754-fab7-4cb5-9360-1d198d9f9a16; trace=ed5744cc-8c75-4186-9c7f-6da38f529216,id=6d557a46-552d-46e1-a022-8ac0070c4170; trace=f1f27859-0ef1-4afe-84b2-bffeea9a2636,id=f1f27859-0ef1-4afe-84b2-bffeea9a2636; trace=f1f27859-0ef1-4afe-84b2-bffeea9a2636,id=cea3e586-45f4-43ac-95c3-192b8405c245; trace=f1f27859-0ef1-4afe-84b2-bffeea9a2636,id=f36c2937-34be-46dd-a502-116e401d8dc2; trace=61dcfe27-7b95-4d8d-97e0-a8a416324d9c,id=61dcfe27-7b95-4d8d-97e0-a8a416324d9c; trace=61dcfe27-7b95-4d8d-97e0-a8a416324d9c,id=4ab56993-0990-48d7-9991-915422049789; trace=61dcfe27-7b95-4d8d-97e0-a8a416324d9c,id=041cbec0-46f7-4f86-9181-b64708a583c5; trace=bba26b58-9f0a-4985-b192-293aa557ac44,id=bba26b58-9f0a-4985-b192-293aa557ac44; trace=bba26b58-9f0a-4985-b192-293aa557ac44,id=a138939a-dd3f-4684-97dc-d2066b0ccd01; trace=bba26b58-9f0a-4985-b192-293aa557ac44,id=bfa05c52-f805-4dac-952a-5c77cb4c8288; trace=f94c11dd-eb78-45ee-9225-756fd494569f,id=f94c11dd-eb78-45ee-9225-756fd494569f; trace=f94c11dd-eb78-45ee-9225-756fd494569f,id=3afd094b-457a-4eaf-9a0e-20346812ead1; trace=f94c11dd-eb78-45ee-9225-756fd494569f,id=4356dbc8-2cde-44e1-adfe-a1993ef5822f; trace=bfb33ab6-d325-4ee3-b4ec-a93ecc1d9592,id=bfb33ab6-d325-4ee3-b4ec-a93ecc1d9592; trace=bfb33ab6-d325-4ee3-b4ec-a93ecc1d9592,id=d0f5c6b3-93cd-416a-9723-62805fda9377; trace=bfb33ab6-d325-4ee3-b4ec-a93ecc1d9592,id=77a3353a-8143-4057-8cee-d10cfbf2e073; trace=ab860838-1a21-4d98-9c7e-8fed40bd96c1,id=ab860838-1a21-4d98-9c7e-8fed40bd96c1; trace=ab860838-1a21-4d98-9c7e-8fed40bd96c1,id=515a8f39-987b-4697-8e33-06d34cffe2de; trace=ab860838-1a21-4d98-9c7e-8fed40bd96c1,id=ba25181f-1b12-48da-9022-1e2ecb3f8b32; trace=775cfb52-2a0f-4df1-871a-8d985168a806,id=775cfb52-2a0f-4df1-871a-8d985168a806; trace=775cfb52-2a0f-4df1-871a-8d985168a806,id=21a105c4-1b9b-4eb2-b645-10b5949602ef; trace=775cfb52-2a0f-4df1-871a-8d985168a806,id=5dc0ce7d-56a8-4197-a984-8ad030875f80; trace=458109e4-dbf6-4278-98c7-a068c5749214,id=458109e4-dbf6-4278-98c7-a068c5749214; trace=458109e4-dbf6-4278-98c7-a068c5749214,id=70dc4d45-f705-41db-9693-d4366d61f92e; trace=458109e4-dbf6-4278-98c7-a068c5749214,id=ef5ceaef-8fdc-4d0c-8dc6-008851850ccd; patch: trace=9977ac04-6099-4913-8d48-df18236da148,id=9977ac04-6099-4913-8d48-df18236da148; trace=9977ac04-6099-4913-8d48-df18236da148,id=f611d676-5b65-49e8-8d20-58ebfb3d9ad1\n"
     ]
    },
    {
     "name": "stdout",
     "output_type": "stream",
     "text": [
      "Processed 498/1000 - Expected: 1 - Result: 0\n",
      "Processed 499/1000 - Expected: 1 - Result: 0\n",
      "Processed 500/1000 - Expected: 1 - Result: 0\n",
      "Processed 501/1000 - Expected: 2 - Result: 1\n",
      "Processed 502/1000 - Expected: 2 - Result: 2\n",
      "Processed 503/1000 - Expected: 2 - Result: 1\n",
      "Processed 504/1000 - Expected: 2 - Result: 2\n",
      "Processed 505/1000 - Expected: 2 - Result: 1\n",
      "Processed 506/1000 - Expected: 2 - Result: 1\n",
      "Processed 507/1000 - Expected: 2 - Result: 1\n",
      "Processed 508/1000 - Expected: 2 - Result: 1\n",
      "Processed 509/1000 - Expected: 2 - Result: 1\n",
      "Processed 510/1000 - Expected: 2 - Result: 1\n",
      "Processed 511/1000 - Expected: 2 - Result: 1\n"
     ]
    },
    {
     "name": "stderr",
     "output_type": "stream",
     "text": [
      "Failed to batch ingest runs: langsmith.utils.LangSmithRateLimitError: Rate limit exceeded for https://api.smith.langchain.com/runs/batch. HTTPError('429 Client Error: Too Many Requests for url: https://api.smith.langchain.com/runs/batch', '{\"error\":\"Too many requests: tenant exceeded usage limits: Monthly unique traces usage limit exceeded\"}\\n')\n",
      "post: trace=a8eaf749-afd2-4745-91c4-f310e997ded8,id=a8eaf749-afd2-4745-91c4-f310e997ded8; trace=a8eaf749-afd2-4745-91c4-f310e997ded8,id=ab053a4b-feaf-4e24-b527-3b47be059691; trace=a8eaf749-afd2-4745-91c4-f310e997ded8,id=fe085429-532b-4ab4-bc8c-b50ad517ba01; trace=003aea6e-09ca-4346-bc61-3c19836411d2,id=003aea6e-09ca-4346-bc61-3c19836411d2; trace=003aea6e-09ca-4346-bc61-3c19836411d2,id=38eb45f4-6732-4e2b-8891-e2be455a4760; trace=003aea6e-09ca-4346-bc61-3c19836411d2,id=01a2b135-2b55-454c-82fe-2bb65745addb; trace=90633204-e4a5-4845-ba78-d957868aea88,id=90633204-e4a5-4845-ba78-d957868aea88; trace=90633204-e4a5-4845-ba78-d957868aea88,id=e0fd37e8-c197-4938-981d-f49475fb5e24; trace=90633204-e4a5-4845-ba78-d957868aea88,id=1952cb52-8eb5-44bf-a962-d0f7c66a593c; trace=94dbfc33-d1ff-4eca-b0a8-e49162e0ded7,id=94dbfc33-d1ff-4eca-b0a8-e49162e0ded7; trace=94dbfc33-d1ff-4eca-b0a8-e49162e0ded7,id=a7cf1ad1-02f7-4ec3-bc41-7ca830ab8786; trace=94dbfc33-d1ff-4eca-b0a8-e49162e0ded7,id=dba9694d-bd7a-4765-9b4f-872aab9481c3; trace=e0e237df-a9d8-4315-b98f-51292e97da5b,id=e0e237df-a9d8-4315-b98f-51292e97da5b; trace=e0e237df-a9d8-4315-b98f-51292e97da5b,id=47e48ee7-1119-4e4f-a462-4d631631b3f0; trace=e0e237df-a9d8-4315-b98f-51292e97da5b,id=70d25b49-ea3d-4ba6-841d-6e52710cb351; trace=f56295fb-b838-42d2-a905-d0bb03025d53,id=f56295fb-b838-42d2-a905-d0bb03025d53; trace=f56295fb-b838-42d2-a905-d0bb03025d53,id=8c10e19f-9cb0-4dce-b4b2-9a0ef0de2dc0; trace=f56295fb-b838-42d2-a905-d0bb03025d53,id=d2f6fc57-013c-4132-ac68-46ef9aa84661; trace=e7806a55-2815-4548-9f00-8e94ded568d9,id=e7806a55-2815-4548-9f00-8e94ded568d9; trace=e7806a55-2815-4548-9f00-8e94ded568d9,id=723c27c0-ad60-4c5e-a2c0-0e9a9fffa58c; trace=e7806a55-2815-4548-9f00-8e94ded568d9,id=739f1f89-3fe8-406d-a737-adbcb1743674; trace=29ab839c-b781-45ad-817f-c766db5bcadf,id=29ab839c-b781-45ad-817f-c766db5bcadf; trace=29ab839c-b781-45ad-817f-c766db5bcadf,id=6075837d-30d9-4ee5-9435-243a786d3f98; trace=29ab839c-b781-45ad-817f-c766db5bcadf,id=09c06f6b-be0d-4b0c-9af1-020f183774e6; trace=c64b165a-6858-4edf-8402-a0e49f780617,id=c64b165a-6858-4edf-8402-a0e49f780617; trace=c64b165a-6858-4edf-8402-a0e49f780617,id=e7029df1-fec6-42b7-a283-1fb3367f0619; trace=c64b165a-6858-4edf-8402-a0e49f780617,id=0bae541b-7221-4314-aab8-2ef114ec628d; trace=6f9bf5e4-4b40-44cd-9529-f0d99d8b28af,id=6f9bf5e4-4b40-44cd-9529-f0d99d8b28af; trace=6f9bf5e4-4b40-44cd-9529-f0d99d8b28af,id=d6cbfb64-15d0-4b67-acde-afb29c530bf8; trace=6f9bf5e4-4b40-44cd-9529-f0d99d8b28af,id=a0e562e6-9f40-4ee9-8bbf-c4d00286f2cd; trace=9e97dd4c-b616-42cb-ba6e-8a6aa8484eef,id=9e97dd4c-b616-42cb-ba6e-8a6aa8484eef; trace=9e97dd4c-b616-42cb-ba6e-8a6aa8484eef,id=943d6ab0-2a09-439f-8df1-9b0e99cef7bf; trace=9e97dd4c-b616-42cb-ba6e-8a6aa8484eef,id=e58dcb45-4be3-4ac4-883f-d0b7b69bcd49; trace=29dda8cb-b487-4ec2-982c-e60325176ecf,id=29dda8cb-b487-4ec2-982c-e60325176ecf; trace=29dda8cb-b487-4ec2-982c-e60325176ecf,id=d8c31b0b-53b3-41cd-8e0a-9dba6a9f7a73; trace=29dda8cb-b487-4ec2-982c-e60325176ecf,id=8b8142ec-87dd-4fe4-9bac-fb9d629eaf47; trace=41607b91-d7fd-4eae-b66d-c2383cbee573,id=41607b91-d7fd-4eae-b66d-c2383cbee573; trace=41607b91-d7fd-4eae-b66d-c2383cbee573,id=98c58e80-46fb-456d-8b8f-be4aab09ca1c; trace=41607b91-d7fd-4eae-b66d-c2383cbee573,id=cc7cf263-1acc-4147-81a3-3aa603ce67af; trace=5deff513-cd6f-48f7-acb0-080d44afe18d,id=5deff513-cd6f-48f7-acb0-080d44afe18d; trace=5deff513-cd6f-48f7-acb0-080d44afe18d,id=48fca56d-77a9-4a5f-9ca2-3126422b6e31; trace=5deff513-cd6f-48f7-acb0-080d44afe18d,id=0e8a291c-0812-4a66-8f5a-d2caa4383b5d; trace=8d7d123c-6623-489b-bbb9-90ed303a82c3,id=8d7d123c-6623-489b-bbb9-90ed303a82c3; trace=8d7d123c-6623-489b-bbb9-90ed303a82c3,id=0fc4accc-405f-4b29-92bb-81be180479b4; trace=8d7d123c-6623-489b-bbb9-90ed303a82c3,id=03d4d1fe-581a-4023-8120-ceda0f1a6ab1\n"
     ]
    },
    {
     "name": "stdout",
     "output_type": "stream",
     "text": [
      "Processed 512/1000 - Expected: 2 - Result: 1\n",
      "Processed 513/1000 - Expected: 2 - Result: 1\n",
      "Processed 514/1000 - Expected: 2 - Result: 1\n",
      "Processed 515/1000 - Expected: 2 - Result: 1\n",
      "Processed 516/1000 - Expected: 2 - Result: 1\n",
      "Processed 517/1000 - Expected: 2 - Result: 1\n",
      "Processed 518/1000 - Expected: 2 - Result: 1\n",
      "Processed 519/1000 - Expected: 2 - Result: 1\n",
      "Processed 520/1000 - Expected: 2 - Result: 1\n",
      "Processed 521/1000 - Expected: 2 - Result: 1\n",
      "Processed 522/1000 - Expected: 2 - Result: 1\n",
      "Processed 523/1000 - Expected: 2 - Result: 1\n",
      "Processed 524/1000 - Expected: 2 - Result: 1\n",
      "Processed 525/1000 - Expected: 2 - Result: 1\n"
     ]
    },
    {
     "name": "stderr",
     "output_type": "stream",
     "text": [
      "Failed to batch ingest runs: langsmith.utils.LangSmithRateLimitError: Rate limit exceeded for https://api.smith.langchain.com/runs/batch. HTTPError('429 Client Error: Too Many Requests for url: https://api.smith.langchain.com/runs/batch', '{\"error\":\"Too many requests: tenant exceeded usage limits: Monthly unique traces usage limit exceeded\"}\\n')\n",
      "post: trace=3c7234a2-f8db-43bc-9547-558fadf4dba3,id=3c7234a2-f8db-43bc-9547-558fadf4dba3; trace=3c7234a2-f8db-43bc-9547-558fadf4dba3,id=54433e54-0356-4717-9e4d-11d285ddd442; trace=3c7234a2-f8db-43bc-9547-558fadf4dba3,id=dc23114a-7166-4e98-b2be-d9f831d41fa5; trace=ff008342-cce8-4b54-93a5-31e35d7c2ac1,id=ff008342-cce8-4b54-93a5-31e35d7c2ac1; trace=ff008342-cce8-4b54-93a5-31e35d7c2ac1,id=1e261b01-b972-4250-b6c1-dc32279787df; trace=ff008342-cce8-4b54-93a5-31e35d7c2ac1,id=7015507f-1987-4054-aa37-e414ced3d368; trace=4b872125-d4e0-4474-983a-5b5487a945bd,id=4b872125-d4e0-4474-983a-5b5487a945bd; trace=4b872125-d4e0-4474-983a-5b5487a945bd,id=3314455a-3fb4-4b85-bcab-a940f454c19a; trace=4b872125-d4e0-4474-983a-5b5487a945bd,id=e02d670f-ad90-4f69-9f07-e2098355ad53; trace=e078f6bb-0ca9-49e7-b190-f614bd6d0412,id=e078f6bb-0ca9-49e7-b190-f614bd6d0412; trace=e078f6bb-0ca9-49e7-b190-f614bd6d0412,id=fc72e669-f31e-468b-8582-34a81b1aa648; trace=e078f6bb-0ca9-49e7-b190-f614bd6d0412,id=7a46a8fc-6ad7-4220-b69e-cb1734e8e7e2; trace=df3a5a68-e291-40c5-b443-3aa3be312f30,id=df3a5a68-e291-40c5-b443-3aa3be312f30; trace=df3a5a68-e291-40c5-b443-3aa3be312f30,id=22fb4202-3e23-4710-b177-04c6bc8ff032; trace=df3a5a68-e291-40c5-b443-3aa3be312f30,id=acdf72f0-39bf-4157-8503-3a907da12121; trace=e2c25e73-7884-4128-bfc2-cb1067a3a865,id=e2c25e73-7884-4128-bfc2-cb1067a3a865; trace=e2c25e73-7884-4128-bfc2-cb1067a3a865,id=153124e5-fcab-4412-ae9f-df2167c10438; trace=e2c25e73-7884-4128-bfc2-cb1067a3a865,id=0db03358-db8d-4880-b4e0-5acf7b952e27; trace=32ac46ea-9118-4e91-bbe3-f50489636598,id=32ac46ea-9118-4e91-bbe3-f50489636598; trace=32ac46ea-9118-4e91-bbe3-f50489636598,id=837ed7f9-5231-45e0-86bb-a43e6657fedd; trace=32ac46ea-9118-4e91-bbe3-f50489636598,id=68f20a7e-70e3-4b95-9720-c42d3f1bf942; trace=9843fba8-f00a-4dcb-b7eb-21357cd6e34d,id=9843fba8-f00a-4dcb-b7eb-21357cd6e34d; trace=9843fba8-f00a-4dcb-b7eb-21357cd6e34d,id=1eca78ee-9e43-4b78-82c2-3bbfb071587b; trace=9843fba8-f00a-4dcb-b7eb-21357cd6e34d,id=289777b4-4086-486b-ad3f-ce4aaed9254a; trace=e1849d3b-66f4-4424-b250-1826c756de43,id=e1849d3b-66f4-4424-b250-1826c756de43; trace=e1849d3b-66f4-4424-b250-1826c756de43,id=f7fef659-fc35-4e3d-b766-38fad83326c1; trace=e1849d3b-66f4-4424-b250-1826c756de43,id=de3727e7-f764-4e66-b04e-c90d2f3993f7; trace=00480fff-292d-46a6-a038-6682b00700ea,id=00480fff-292d-46a6-a038-6682b00700ea; trace=00480fff-292d-46a6-a038-6682b00700ea,id=04c0649e-4104-45e0-ae1c-cf4256d7cb31; trace=00480fff-292d-46a6-a038-6682b00700ea,id=f6d27721-fe21-457f-99fb-7c46a322edfc; trace=a77f8167-38d0-4bf7-b9ae-a5bb8e5017c7,id=a77f8167-38d0-4bf7-b9ae-a5bb8e5017c7; trace=a77f8167-38d0-4bf7-b9ae-a5bb8e5017c7,id=0703cb8e-46f4-4c63-8bbf-4844bc2660c3; trace=a77f8167-38d0-4bf7-b9ae-a5bb8e5017c7,id=fe535e5e-d98b-4984-a70d-1184c212fe1a; trace=b2befa03-99dd-4d4f-a03c-cadb9545076c,id=b2befa03-99dd-4d4f-a03c-cadb9545076c; trace=b2befa03-99dd-4d4f-a03c-cadb9545076c,id=d92abd5a-b84e-4e19-aa93-6eb6d0835ee1; trace=b2befa03-99dd-4d4f-a03c-cadb9545076c,id=23fc1b2f-5b6a-4680-ad56-bc99a9cad48b; trace=8e59626c-f5d6-4166-b895-1d51749deb13,id=8e59626c-f5d6-4166-b895-1d51749deb13; trace=8e59626c-f5d6-4166-b895-1d51749deb13,id=eb30bbf8-4b9b-498b-aafc-27775b3cd118; trace=8e59626c-f5d6-4166-b895-1d51749deb13,id=21462a14-4fdd-437c-83e8-d2583dbc7052; trace=25ca4c7f-c435-48e4-92f4-5757b900bed7,id=25ca4c7f-c435-48e4-92f4-5757b900bed7; trace=25ca4c7f-c435-48e4-92f4-5757b900bed7,id=a27896c6-3afd-478a-86bc-8a0f6aa0a8cd; trace=25ca4c7f-c435-48e4-92f4-5757b900bed7,id=8fb07be6-db30-42ce-8447-c79112d00b65\n"
     ]
    },
    {
     "name": "stdout",
     "output_type": "stream",
     "text": [
      "Processed 526/1000 - Expected: 2 - Result: 1\n",
      "Processed 527/1000 - Expected: 2 - Result: 1\n",
      "Processed 528/1000 - Expected: 2 - Result: 1\n",
      "Processed 529/1000 - Expected: 2 - Result: 1\n",
      "Processed 530/1000 - Expected: 2 - Result: 1\n",
      "Processed 531/1000 - Expected: 2 - Result: 1\n",
      "Processed 532/1000 - Expected: 2 - Result: 1\n",
      "Processed 533/1000 - Expected: 2 - Result: 1\n",
      "Processed 534/1000 - Expected: 2 - Result: 1\n",
      "Processed 535/1000 - Expected: 2 - Result: 1\n",
      "Processed 536/1000 - Expected: 2 - Result: 1\n",
      "Processed 537/1000 - Expected: 2 - Result: 1\n",
      "Processed 538/1000 - Expected: 2 - Result: 1\n",
      "Processed 539/1000 - Expected: 2 - Result: 1\n"
     ]
    },
    {
     "name": "stderr",
     "output_type": "stream",
     "text": [
      "Failed to batch ingest runs: langsmith.utils.LangSmithRateLimitError: Rate limit exceeded for https://api.smith.langchain.com/runs/batch. HTTPError('429 Client Error: Too Many Requests for url: https://api.smith.langchain.com/runs/batch', '{\"error\":\"Too many requests: tenant exceeded usage limits: Monthly unique traces usage limit exceeded\"}\\n')\n",
      "post: trace=2973278a-e117-4a8f-a97c-e5dfa7cec63b,id=2973278a-e117-4a8f-a97c-e5dfa7cec63b; trace=2973278a-e117-4a8f-a97c-e5dfa7cec63b,id=72ec01b6-094a-48d5-8c39-75e19a9cf971; trace=2973278a-e117-4a8f-a97c-e5dfa7cec63b,id=a0757e78-d4dc-4d1a-a4bc-77d9cda8e77c; trace=586d3d96-2c59-4a6d-99e2-f44f52ce114f,id=586d3d96-2c59-4a6d-99e2-f44f52ce114f; trace=586d3d96-2c59-4a6d-99e2-f44f52ce114f,id=c47a3871-d569-4df0-858a-58f7b870e627; trace=586d3d96-2c59-4a6d-99e2-f44f52ce114f,id=b01a0f77-7e18-4989-924a-8b6d9f49d870; trace=47822fca-2259-410e-b9d1-f861e54bc97f,id=47822fca-2259-410e-b9d1-f861e54bc97f; trace=47822fca-2259-410e-b9d1-f861e54bc97f,id=71746c43-894a-4e75-a006-c2e0f15d3499; trace=47822fca-2259-410e-b9d1-f861e54bc97f,id=43008b79-5e1c-4015-933f-f2fc038a5820; trace=4c32dbb2-f3f6-47ae-a116-5eb8b9d131b1,id=4c32dbb2-f3f6-47ae-a116-5eb8b9d131b1; trace=4c32dbb2-f3f6-47ae-a116-5eb8b9d131b1,id=36e77dc8-24df-491c-8114-58a49a6b6f6c; trace=4c32dbb2-f3f6-47ae-a116-5eb8b9d131b1,id=92cbe50f-e62a-48b2-969e-a550d9ea5729; trace=b9451a4e-8052-494b-a733-53f7cd1fd0e8,id=b9451a4e-8052-494b-a733-53f7cd1fd0e8; trace=b9451a4e-8052-494b-a733-53f7cd1fd0e8,id=45e62094-35d3-488f-968f-4d79c0fa8951; trace=b9451a4e-8052-494b-a733-53f7cd1fd0e8,id=109b1e6b-b161-4fc5-8779-a228d2490fc3; trace=564b665f-6c0b-48bf-90bd-d09392002ddc,id=564b665f-6c0b-48bf-90bd-d09392002ddc; trace=564b665f-6c0b-48bf-90bd-d09392002ddc,id=9ef2e735-344c-4dd7-a699-a7f8f989eafc; trace=564b665f-6c0b-48bf-90bd-d09392002ddc,id=1715c3c8-ef46-4104-ae1f-2ab670857d75; trace=94ac07b7-6da6-4d0a-98bc-8f054528e570,id=94ac07b7-6da6-4d0a-98bc-8f054528e570; trace=94ac07b7-6da6-4d0a-98bc-8f054528e570,id=0623f084-1d5f-405f-b228-720036acbb96; trace=94ac07b7-6da6-4d0a-98bc-8f054528e570,id=78529db1-388c-4d4c-aab7-de53eb979901; trace=d02dbe89-47a6-4938-a3ed-29c60746a04d,id=d02dbe89-47a6-4938-a3ed-29c60746a04d; trace=d02dbe89-47a6-4938-a3ed-29c60746a04d,id=2f1e99e7-3309-41fa-bcc2-ee293c566460; trace=d02dbe89-47a6-4938-a3ed-29c60746a04d,id=08d1ab13-429b-4ac6-b91f-ff9d73925f08; trace=e3582915-7e90-4426-896e-b488f75be1e2,id=e3582915-7e90-4426-896e-b488f75be1e2; trace=e3582915-7e90-4426-896e-b488f75be1e2,id=6faaecb3-95ff-494f-ab43-39bde7e7c51b; trace=e3582915-7e90-4426-896e-b488f75be1e2,id=0afee5db-3b64-4598-a317-388bfd7d131e; trace=87461a98-7705-461f-8845-1e54ebf40208,id=87461a98-7705-461f-8845-1e54ebf40208; trace=87461a98-7705-461f-8845-1e54ebf40208,id=431320b4-d382-4190-8427-b02caa2bead9; trace=87461a98-7705-461f-8845-1e54ebf40208,id=163a99a7-4214-47fd-9541-3a8fd63cb805; trace=00452275-e90b-4368-8f95-479ccf24d3b2,id=00452275-e90b-4368-8f95-479ccf24d3b2; trace=00452275-e90b-4368-8f95-479ccf24d3b2,id=5b1b418c-fcf4-412d-a768-fb069af32578; trace=00452275-e90b-4368-8f95-479ccf24d3b2,id=e0d15409-d15e-4278-b256-b95d9e6ebce7; trace=de677c57-07c5-4fb0-b4d9-cbd8d0a076cb,id=de677c57-07c5-4fb0-b4d9-cbd8d0a076cb; trace=de677c57-07c5-4fb0-b4d9-cbd8d0a076cb,id=9f4522e5-e875-4754-b9cd-42cc8e3db243; trace=de677c57-07c5-4fb0-b4d9-cbd8d0a076cb,id=4233c98b-689c-44a7-a60b-c5b9342a577d; trace=d91eb38e-b889-4c0c-9679-18377d15daa7,id=d91eb38e-b889-4c0c-9679-18377d15daa7; trace=d91eb38e-b889-4c0c-9679-18377d15daa7,id=8a6ea00d-9459-4dfc-9c07-6096e390db51; trace=d91eb38e-b889-4c0c-9679-18377d15daa7,id=36fd910a-8486-457a-8f02-a4751733a533; trace=9f250be0-cc0b-42da-9ba7-6b3b2fc79b4e,id=9f250be0-cc0b-42da-9ba7-6b3b2fc79b4e; trace=9f250be0-cc0b-42da-9ba7-6b3b2fc79b4e,id=6f8b1e31-0f33-48b3-83d6-3214d2bb5e9a; trace=9f250be0-cc0b-42da-9ba7-6b3b2fc79b4e,id=d31a30f1-f8a5-44c6-9f16-4ceb0d716fb5; trace=337c6447-79ff-4ef5-a810-7216e38a388f,id=337c6447-79ff-4ef5-a810-7216e38a388f; trace=337c6447-79ff-4ef5-a810-7216e38a388f,id=792c1c68-8e1f-488e-b061-7e9eccbe87d2\n"
     ]
    },
    {
     "name": "stdout",
     "output_type": "stream",
     "text": [
      "Processed 540/1000 - Expected: 2 - Result: 1\n",
      "Processed 541/1000 - Expected: 2 - Result: 1\n",
      "Processed 542/1000 - Expected: 2 - Result: 1\n",
      "Processed 543/1000 - Expected: 2 - Result: 1\n",
      "Processed 544/1000 - Expected: 2 - Result: 1\n",
      "Processed 545/1000 - Expected: 2 - Result: 1\n",
      "Processed 546/1000 - Expected: 2 - Result: 1\n",
      "Processed 547/1000 - Expected: 2 - Result: 1\n",
      "Processed 548/1000 - Expected: 2 - Result: 1\n",
      "Processed 549/1000 - Expected: 2 - Result: 1\n",
      "Processed 550/1000 - Expected: 2 - Result: 1\n",
      "Processed 551/1000 - Expected: 2 - Result: 1\n",
      "Processed 552/1000 - Expected: 2 - Result: 1\n",
      "Processed 553/1000 - Expected: 2 - Result: 1\n"
     ]
    },
    {
     "name": "stderr",
     "output_type": "stream",
     "text": [
      "Failed to batch ingest runs: langsmith.utils.LangSmithRateLimitError: Rate limit exceeded for https://api.smith.langchain.com/runs/batch. HTTPError('429 Client Error: Too Many Requests for url: https://api.smith.langchain.com/runs/batch', '{\"error\":\"Too many requests: tenant exceeded usage limits: Monthly unique traces usage limit exceeded\"}\\n')\n",
      "post: trace=337c6447-79ff-4ef5-a810-7216e38a388f,id=b5890e03-f484-4d2a-81f7-8a149087c1e0; trace=8897f425-ab8f-48aa-8278-6e2460bbf524,id=8897f425-ab8f-48aa-8278-6e2460bbf524; trace=8897f425-ab8f-48aa-8278-6e2460bbf524,id=de6c1880-3fa2-410a-843d-cbadc9e6e736; trace=8897f425-ab8f-48aa-8278-6e2460bbf524,id=e35b84c0-b5a0-4f4e-814e-d075e2adab6d; trace=de1904cb-7b65-4488-aa25-289e97ddcae1,id=de1904cb-7b65-4488-aa25-289e97ddcae1; trace=de1904cb-7b65-4488-aa25-289e97ddcae1,id=876d6af0-c70f-4b81-864c-47fa7cfb8f98; trace=de1904cb-7b65-4488-aa25-289e97ddcae1,id=759abca7-dd8e-46e1-aa08-0e38f46f757b; trace=280e90cd-a23c-4ca4-9b80-f3ab0cd0e2f9,id=280e90cd-a23c-4ca4-9b80-f3ab0cd0e2f9; trace=280e90cd-a23c-4ca4-9b80-f3ab0cd0e2f9,id=39067a9c-e7fc-4074-b9e6-fae507cc80c8; trace=280e90cd-a23c-4ca4-9b80-f3ab0cd0e2f9,id=738d6e7a-d811-4055-bcdc-77c6cefccb8e; trace=7824b6a8-9de4-42e7-819a-8a95b0b84568,id=7824b6a8-9de4-42e7-819a-8a95b0b84568; trace=7824b6a8-9de4-42e7-819a-8a95b0b84568,id=21466bce-8c3c-482d-9ff9-9134d0475474; trace=7824b6a8-9de4-42e7-819a-8a95b0b84568,id=8d5b2eca-01f5-4988-839d-faa4b3b95ed0; trace=d5ab5ace-928c-481f-8de6-c75a49cd77bd,id=d5ab5ace-928c-481f-8de6-c75a49cd77bd; trace=d5ab5ace-928c-481f-8de6-c75a49cd77bd,id=340298db-8846-4536-8bf9-c4d2ff19375f; trace=d5ab5ace-928c-481f-8de6-c75a49cd77bd,id=cbf775e3-f044-49cd-8a2c-42ad569b93cd; trace=3ebb2d11-e047-4b58-b441-992f7c431cc7,id=3ebb2d11-e047-4b58-b441-992f7c431cc7; trace=3ebb2d11-e047-4b58-b441-992f7c431cc7,id=fb35fb5c-2ef3-4046-ac90-e8fdb23c728d; trace=3ebb2d11-e047-4b58-b441-992f7c431cc7,id=ca4778e9-8996-423b-b8b1-5658353916e2; trace=11c6ac4d-d7ef-416f-b80b-aa57d4b6b7e0,id=11c6ac4d-d7ef-416f-b80b-aa57d4b6b7e0; trace=11c6ac4d-d7ef-416f-b80b-aa57d4b6b7e0,id=56cbb1b8-18b6-49f4-b1bc-2d71d85a09d2; trace=11c6ac4d-d7ef-416f-b80b-aa57d4b6b7e0,id=0d502c47-4302-41d7-9f6b-7df2e034a273; trace=276ceb0f-d5ea-44bf-b6df-6352ed92135b,id=276ceb0f-d5ea-44bf-b6df-6352ed92135b; trace=276ceb0f-d5ea-44bf-b6df-6352ed92135b,id=2af5480b-ee2e-40cb-9f35-307494f499b1; trace=276ceb0f-d5ea-44bf-b6df-6352ed92135b,id=a7786e12-ee9f-4727-8193-e4af102470bc; trace=a602e1c3-81fd-40d7-9f8e-d8495fd835cf,id=a602e1c3-81fd-40d7-9f8e-d8495fd835cf; trace=a602e1c3-81fd-40d7-9f8e-d8495fd835cf,id=81d43561-4c1a-43dc-93f4-aa3eb30d6853; trace=a602e1c3-81fd-40d7-9f8e-d8495fd835cf,id=d9a6a852-309b-46ba-a9cb-1f65460f1685; trace=575fd5af-7e2c-4217-8b1f-f758000e28e2,id=575fd5af-7e2c-4217-8b1f-f758000e28e2; trace=575fd5af-7e2c-4217-8b1f-f758000e28e2,id=2a7435a6-fab3-45c4-8088-0d5922521b50; trace=575fd5af-7e2c-4217-8b1f-f758000e28e2,id=c0b7c5c5-ac21-4e94-a82a-7c17eaaa8e24; trace=8b6e0c4f-11f5-4c32-b008-d5270044aee5,id=8b6e0c4f-11f5-4c32-b008-d5270044aee5; trace=8b6e0c4f-11f5-4c32-b008-d5270044aee5,id=fdf631e9-e049-4562-ba41-5e46922150bf; trace=8b6e0c4f-11f5-4c32-b008-d5270044aee5,id=fad48428-0b6f-4b6d-b60f-59eb1f3ea152; trace=609b954e-efd0-4106-969b-72ba35d713c4,id=609b954e-efd0-4106-969b-72ba35d713c4; trace=609b954e-efd0-4106-969b-72ba35d713c4,id=6e6b5eb9-a6e5-4aac-a832-60dc93af363b; trace=609b954e-efd0-4106-969b-72ba35d713c4,id=95fd7404-9770-468a-8b04-799c4fc616c7; trace=aadc7c33-66e9-4d99-8266-bb02ad8530e6,id=aadc7c33-66e9-4d99-8266-bb02ad8530e6; trace=aadc7c33-66e9-4d99-8266-bb02ad8530e6,id=ab4096f4-25bc-4c1d-97f0-7b1632f3c749; trace=aadc7c33-66e9-4d99-8266-bb02ad8530e6,id=62cfc995-1aa6-491e-a552-60f48348ddbc; patch: trace=337c6447-79ff-4ef5-a810-7216e38a388f,id=337c6447-79ff-4ef5-a810-7216e38a388f; trace=337c6447-79ff-4ef5-a810-7216e38a388f,id=792c1c68-8e1f-488e-b061-7e9eccbe87d2\n"
     ]
    },
    {
     "name": "stdout",
     "output_type": "stream",
     "text": [
      "Processed 554/1000 - Expected: 2 - Result: 1\n",
      "Processed 555/1000 - Expected: 2 - Result: 1\n",
      "Processed 556/1000 - Expected: 2 - Result: 1\n",
      "Processed 557/1000 - Expected: 2 - Result: 1\n",
      "Processed 558/1000 - Expected: 2 - Result: 1\n",
      "Processed 559/1000 - Expected: 2 - Result: 1\n",
      "Processed 560/1000 - Expected: 2 - Result: 1\n",
      "Processed 561/1000 - Expected: 2 - Result: 1\n",
      "Processed 562/1000 - Expected: 2 - Result: 1\n",
      "Processed 563/1000 - Expected: 2 - Result: 1\n",
      "Processed 564/1000 - Expected: 2 - Result: 1\n",
      "Processed 565/1000 - Expected: 2 - Result: 1\n",
      "Processed 566/1000 - Expected: 2 - Result: 1\n",
      "Processed 567/1000 - Expected: 2 - Result: 1\n"
     ]
    },
    {
     "name": "stderr",
     "output_type": "stream",
     "text": [
      "Failed to batch ingest runs: langsmith.utils.LangSmithRateLimitError: Rate limit exceeded for https://api.smith.langchain.com/runs/batch. HTTPError('429 Client Error: Too Many Requests for url: https://api.smith.langchain.com/runs/batch', '{\"error\":\"Too many requests: tenant exceeded usage limits: Monthly unique traces usage limit exceeded\"}\\n')\n",
      "post: trace=1664882d-cc36-4974-9748-5451247c853d,id=1664882d-cc36-4974-9748-5451247c853d; trace=1664882d-cc36-4974-9748-5451247c853d,id=21d38577-6cf7-44cc-aeb1-83922603736c; trace=1664882d-cc36-4974-9748-5451247c853d,id=3f51c1a3-7da9-4e1e-b3c7-b1b58c5fc55f; trace=647f378f-b468-4691-ad75-c685bbfaae67,id=647f378f-b468-4691-ad75-c685bbfaae67; trace=647f378f-b468-4691-ad75-c685bbfaae67,id=fbb34291-8ca6-4f64-bbef-4b7bd2f90bf0; trace=647f378f-b468-4691-ad75-c685bbfaae67,id=96a6d781-cda7-4c71-84d2-6b8b5233331c; trace=9e9757f2-d60e-40ef-9e2f-6b252abb1b6c,id=9e9757f2-d60e-40ef-9e2f-6b252abb1b6c; trace=9e9757f2-d60e-40ef-9e2f-6b252abb1b6c,id=f3c9a3ae-3328-4425-a955-2f8986601927; trace=9e9757f2-d60e-40ef-9e2f-6b252abb1b6c,id=10368f64-c151-4bcf-8d57-1e6a7980c4e3; trace=74b5cc46-a3c6-4d81-8727-f9e84c74f35e,id=74b5cc46-a3c6-4d81-8727-f9e84c74f35e; trace=74b5cc46-a3c6-4d81-8727-f9e84c74f35e,id=2b8511f7-4923-42a4-98a3-412d19db9888; trace=74b5cc46-a3c6-4d81-8727-f9e84c74f35e,id=8ec979ce-5be7-4bc2-9464-971f53e27379; trace=b5206aea-8511-4718-8d1f-97d5cf03640e,id=b5206aea-8511-4718-8d1f-97d5cf03640e; trace=b5206aea-8511-4718-8d1f-97d5cf03640e,id=5cd1898b-0f9a-4ba6-92a7-12cf8e4e110b; trace=b5206aea-8511-4718-8d1f-97d5cf03640e,id=696744c3-ffae-45c2-acbd-b5155aa6a728; trace=dc76a789-3c73-48b8-aef6-72bc3553e65a,id=dc76a789-3c73-48b8-aef6-72bc3553e65a; trace=dc76a789-3c73-48b8-aef6-72bc3553e65a,id=9581b067-e0ff-4061-b186-a83907a117f4; trace=dc76a789-3c73-48b8-aef6-72bc3553e65a,id=73968910-c713-48b2-8691-71f1cba6f3e7; trace=1a4cf9f5-9173-4ff4-bb09-bcb3154f964d,id=1a4cf9f5-9173-4ff4-bb09-bcb3154f964d; trace=1a4cf9f5-9173-4ff4-bb09-bcb3154f964d,id=c613b37f-eeb0-47c3-8a84-4023652c988c; trace=1a4cf9f5-9173-4ff4-bb09-bcb3154f964d,id=c97f5b72-ae01-464c-9994-7bfa5a1a8b97; trace=9c9a0f5d-691d-406d-9e20-f628c3779977,id=9c9a0f5d-691d-406d-9e20-f628c3779977; trace=9c9a0f5d-691d-406d-9e20-f628c3779977,id=e5963efa-8a19-482d-aeca-052ae09002d8; trace=9c9a0f5d-691d-406d-9e20-f628c3779977,id=b7e7820c-b8ea-48b0-a7c1-4aec66bb6adc; trace=c04f9b11-92bf-43fa-9fba-4047be1aba05,id=c04f9b11-92bf-43fa-9fba-4047be1aba05; trace=c04f9b11-92bf-43fa-9fba-4047be1aba05,id=e804525f-9ade-4c55-8246-f9f5f4898a2f; trace=c04f9b11-92bf-43fa-9fba-4047be1aba05,id=f2cc16b8-f0a1-4aaa-9da0-68c87df3c4f9; trace=2b326b76-28a3-4758-bf07-ed2d1ed8bcce,id=2b326b76-28a3-4758-bf07-ed2d1ed8bcce; trace=2b326b76-28a3-4758-bf07-ed2d1ed8bcce,id=509ebb27-1686-418f-89d6-e7faffbb8f35; trace=2b326b76-28a3-4758-bf07-ed2d1ed8bcce,id=b60fdaf0-9279-460b-94e3-cfe12e10929a; trace=9ec7dfb3-f8dc-4b5f-bdfe-65f7df854f9b,id=9ec7dfb3-f8dc-4b5f-bdfe-65f7df854f9b; trace=9ec7dfb3-f8dc-4b5f-bdfe-65f7df854f9b,id=4bdea595-0698-461b-b83f-105104d0bd68; trace=9ec7dfb3-f8dc-4b5f-bdfe-65f7df854f9b,id=c5bcc51b-8e9f-4ba4-9fa3-a6ccd509e659; trace=f6b1cbd5-a9b4-4bef-95c3-6c40906e074a,id=f6b1cbd5-a9b4-4bef-95c3-6c40906e074a; trace=f6b1cbd5-a9b4-4bef-95c3-6c40906e074a,id=ffffdd03-e5aa-4830-9682-0212f2896572; trace=f6b1cbd5-a9b4-4bef-95c3-6c40906e074a,id=87c780f1-c134-4a7a-a270-05643f7da8bc; trace=4f43172b-b74d-42c3-a853-8ae4a58c2fd0,id=4f43172b-b74d-42c3-a853-8ae4a58c2fd0; trace=4f43172b-b74d-42c3-a853-8ae4a58c2fd0,id=90643c9c-0459-4bce-854d-77c543e6386a; trace=4f43172b-b74d-42c3-a853-8ae4a58c2fd0,id=b04f1fb1-60ee-4b48-8991-d83ab3b780c3; trace=176732a1-0979-4763-a843-8226e621ee9a,id=176732a1-0979-4763-a843-8226e621ee9a; trace=176732a1-0979-4763-a843-8226e621ee9a,id=fe932412-ed37-4eef-a293-0d98dd781004; trace=176732a1-0979-4763-a843-8226e621ee9a,id=30a7e4aa-0f93-49f4-be28-c2d55e19d479\n"
     ]
    },
    {
     "name": "stdout",
     "output_type": "stream",
     "text": [
      "Processed 568/1000 - Expected: 2 - Result: 1\n",
      "Processed 569/1000 - Expected: 2 - Result: 1\n",
      "Processed 570/1000 - Expected: 2 - Result: 1\n",
      "Processed 571/1000 - Expected: 2 - Result: 1\n",
      "Processed 572/1000 - Expected: 2 - Result: 1\n",
      "Processed 573/1000 - Expected: 2 - Result: 1\n",
      "Processed 574/1000 - Expected: 2 - Result: 1\n",
      "Processed 575/1000 - Expected: 2 - Result: 1\n",
      "Processed 576/1000 - Expected: 2 - Result: 1\n",
      "Processed 577/1000 - Expected: 2 - Result: 1\n",
      "Processed 578/1000 - Expected: 2 - Result: 1\n",
      "Processed 579/1000 - Expected: 2 - Result: 1\n",
      "Processed 580/1000 - Expected: 2 - Result: 2\n",
      "Processed 581/1000 - Expected: 2 - Result: 1\n"
     ]
    },
    {
     "name": "stderr",
     "output_type": "stream",
     "text": [
      "Failed to batch ingest runs: langsmith.utils.LangSmithRateLimitError: Rate limit exceeded for https://api.smith.langchain.com/runs/batch. HTTPError('429 Client Error: Too Many Requests for url: https://api.smith.langchain.com/runs/batch', '{\"error\":\"Too many requests: tenant exceeded usage limits: Monthly unique traces usage limit exceeded\"}\\n')\n",
      "post: trace=e5aae350-484f-437c-b81f-a5ced0182357,id=e5aae350-484f-437c-b81f-a5ced0182357; trace=e5aae350-484f-437c-b81f-a5ced0182357,id=289f8c89-6d4e-4364-8fc4-d3cf83fbb7a9; trace=e5aae350-484f-437c-b81f-a5ced0182357,id=723fad59-96a7-4dde-880b-db779657efe3; trace=939d82a9-ab64-4c78-9ee7-c8e95d58387c,id=939d82a9-ab64-4c78-9ee7-c8e95d58387c; trace=939d82a9-ab64-4c78-9ee7-c8e95d58387c,id=0d35a2de-210b-4058-bd0f-5e59570a16fc; trace=939d82a9-ab64-4c78-9ee7-c8e95d58387c,id=0981756e-c6ae-4c01-bc4b-187bc8fac52c; trace=fef1fd48-0cb0-4ac4-b13c-10c4c78cf6d7,id=fef1fd48-0cb0-4ac4-b13c-10c4c78cf6d7; trace=fef1fd48-0cb0-4ac4-b13c-10c4c78cf6d7,id=3916b7ba-7d55-43b3-9e9c-24030714105f; trace=fef1fd48-0cb0-4ac4-b13c-10c4c78cf6d7,id=8ccbf611-8296-451b-a77f-cbaeec509abc; trace=da09923a-6e18-4aac-a424-d7680f0e5e02,id=da09923a-6e18-4aac-a424-d7680f0e5e02; trace=da09923a-6e18-4aac-a424-d7680f0e5e02,id=4928021f-0aa7-428b-9212-478659ebd510; trace=da09923a-6e18-4aac-a424-d7680f0e5e02,id=1fb65d2d-6d78-4140-b2bc-267a410db87b; trace=7ffbd2ea-30dc-4f07-9472-e837579858a3,id=7ffbd2ea-30dc-4f07-9472-e837579858a3; trace=7ffbd2ea-30dc-4f07-9472-e837579858a3,id=d89b25e3-62e8-4d92-835f-5cabc3bec111; trace=7ffbd2ea-30dc-4f07-9472-e837579858a3,id=7c8c8a73-854b-41ac-beef-b1a631fe3ce4; trace=bcb76e1e-fc36-41ba-b3ca-9b2c4a0fcc86,id=bcb76e1e-fc36-41ba-b3ca-9b2c4a0fcc86; trace=bcb76e1e-fc36-41ba-b3ca-9b2c4a0fcc86,id=f5b6349c-bc4f-4038-b0c0-92fb70c92f4f; trace=bcb76e1e-fc36-41ba-b3ca-9b2c4a0fcc86,id=ff17166e-d437-444b-b3b9-eee1856eef3d; trace=555ef89d-a244-4232-a14a-4145107488f7,id=555ef89d-a244-4232-a14a-4145107488f7; trace=555ef89d-a244-4232-a14a-4145107488f7,id=e3b0926a-29cd-4cc6-905a-6fa88071b879; trace=555ef89d-a244-4232-a14a-4145107488f7,id=38dfa925-7601-4374-8996-94c811dcd05c; trace=d02f8bc1-3771-464f-98d1-b7d8846078ca,id=d02f8bc1-3771-464f-98d1-b7d8846078ca; trace=d02f8bc1-3771-464f-98d1-b7d8846078ca,id=221a9263-6b8a-45bb-b4ae-b7dec1a00d32; trace=d02f8bc1-3771-464f-98d1-b7d8846078ca,id=867f1414-6c1b-4662-ba92-f9e0faf8834f; trace=7142226c-e219-4b87-9145-186d8a89e940,id=7142226c-e219-4b87-9145-186d8a89e940; trace=7142226c-e219-4b87-9145-186d8a89e940,id=8c78314f-442d-4753-8fd9-890e966aaba9; trace=7142226c-e219-4b87-9145-186d8a89e940,id=1c6c3ca2-ca25-4de0-b7a5-d03c8835f22d; trace=622ae75c-96cd-4489-baf3-dd8dc63ae2a9,id=622ae75c-96cd-4489-baf3-dd8dc63ae2a9; trace=622ae75c-96cd-4489-baf3-dd8dc63ae2a9,id=6fcc832f-82d9-46b0-9a3e-f2018ec635bb; trace=622ae75c-96cd-4489-baf3-dd8dc63ae2a9,id=df13c87f-3210-4ac7-8fd6-c2fc80266c3e; trace=bbe30e9c-23db-48e8-aa3a-3d6a164d022d,id=bbe30e9c-23db-48e8-aa3a-3d6a164d022d; trace=bbe30e9c-23db-48e8-aa3a-3d6a164d022d,id=8a37ad28-87e6-4c80-aefb-a67ab1c32b57; trace=bbe30e9c-23db-48e8-aa3a-3d6a164d022d,id=c9162267-d1ee-4add-9403-da58c1ab225a; trace=82055c14-f2e8-4434-b4a3-da910a2180c3,id=82055c14-f2e8-4434-b4a3-da910a2180c3; trace=82055c14-f2e8-4434-b4a3-da910a2180c3,id=42fb9f18-e6eb-49be-9e54-711b101e9288; trace=82055c14-f2e8-4434-b4a3-da910a2180c3,id=07db120d-ecab-4d17-bade-b3e9c43ca0b8; trace=0d4704b6-734f-4f11-8bcf-ce00ac8b0705,id=0d4704b6-734f-4f11-8bcf-ce00ac8b0705; trace=0d4704b6-734f-4f11-8bcf-ce00ac8b0705,id=a66ce211-02cf-4526-b3a2-76756cd317be; trace=0d4704b6-734f-4f11-8bcf-ce00ac8b0705,id=04e02236-00cd-4112-91c1-c54d5cbeed1c; trace=cbbc126e-d278-4691-88be-aba04947d280,id=cbbc126e-d278-4691-88be-aba04947d280; trace=cbbc126e-d278-4691-88be-aba04947d280,id=1160113f-c7f9-4888-b24e-81a56dc187bd; trace=cbbc126e-d278-4691-88be-aba04947d280,id=65b4b592-470e-45fa-a03f-02a15e29a5ae\n"
     ]
    },
    {
     "name": "stdout",
     "output_type": "stream",
     "text": [
      "Processed 582/1000 - Expected: 2 - Result: 1\n",
      "Processed 583/1000 - Expected: 2 - Result: 1\n",
      "Processed 584/1000 - Expected: 2 - Result: 1\n",
      "Processed 585/1000 - Expected: 2 - Result: 1\n",
      "Processed 586/1000 - Expected: 2 - Result: 1\n",
      "Processed 587/1000 - Expected: 2 - Result: 1\n",
      "Processed 588/1000 - Expected: 2 - Result: 1\n",
      "Processed 589/1000 - Expected: 2 - Result: 1\n",
      "Processed 590/1000 - Expected: 2 - Result: 1\n",
      "Processed 591/1000 - Expected: 2 - Result: 1\n",
      "Processed 592/1000 - Expected: 2 - Result: 1\n",
      "Processed 593/1000 - Expected: 2 - Result: 1\n",
      "Processed 594/1000 - Expected: 2 - Result: 1\n",
      "Processed 595/1000 - Expected: 2 - Result: 1\n",
      "Processed 596/1000 - Expected: 2 - Result: 1\n"
     ]
    },
    {
     "name": "stderr",
     "output_type": "stream",
     "text": [
      "Failed to batch ingest runs: langsmith.utils.LangSmithRateLimitError: Rate limit exceeded for https://api.smith.langchain.com/runs/batch. HTTPError('429 Client Error: Too Many Requests for url: https://api.smith.langchain.com/runs/batch', '{\"error\":\"Too many requests: tenant exceeded usage limits: Monthly unique traces usage limit exceeded\"}\\n')\n",
      "post: trace=18a9c04d-e603-4382-9065-fb2f4c6b265d,id=18a9c04d-e603-4382-9065-fb2f4c6b265d; trace=18a9c04d-e603-4382-9065-fb2f4c6b265d,id=3cfda18e-b740-48de-9e2c-28dd6db37538; trace=18a9c04d-e603-4382-9065-fb2f4c6b265d,id=289389b8-6fc1-4a3e-85f8-34e9367707d6; trace=c2b7e79d-d7f2-4d0b-8231-a5a17c79ca6f,id=c2b7e79d-d7f2-4d0b-8231-a5a17c79ca6f; trace=c2b7e79d-d7f2-4d0b-8231-a5a17c79ca6f,id=9121236f-10c8-4de0-a6ed-3f00ccea9885; trace=c2b7e79d-d7f2-4d0b-8231-a5a17c79ca6f,id=0ec19e1d-2c91-4829-895c-ec7a50761e20; trace=5ede2808-d21d-4548-b372-c7b15d7f6f59,id=5ede2808-d21d-4548-b372-c7b15d7f6f59; trace=5ede2808-d21d-4548-b372-c7b15d7f6f59,id=1444ea64-6bf5-43b4-a082-50e5d8582af4; trace=5ede2808-d21d-4548-b372-c7b15d7f6f59,id=f310acf3-d639-46e5-ab3e-d7fafab863f4; trace=eea805f5-c1c1-4f5d-94bf-06272d40b2ce,id=eea805f5-c1c1-4f5d-94bf-06272d40b2ce; trace=eea805f5-c1c1-4f5d-94bf-06272d40b2ce,id=54f3ebb2-bb91-4fb7-9f66-c8249cf72fb7; trace=eea805f5-c1c1-4f5d-94bf-06272d40b2ce,id=ccab04d3-4fd1-40ba-91c8-a671df9e13ea; trace=23d0a8bc-96e1-44ad-b421-31ed495c4fe7,id=23d0a8bc-96e1-44ad-b421-31ed495c4fe7; trace=23d0a8bc-96e1-44ad-b421-31ed495c4fe7,id=bf39b45e-ec91-4ee7-99f5-dbf000718528; trace=23d0a8bc-96e1-44ad-b421-31ed495c4fe7,id=54c4593d-9bfb-4209-930b-69e167706fdb; trace=8ef7e3e2-7bfa-44bf-acd1-47406fb323db,id=8ef7e3e2-7bfa-44bf-acd1-47406fb323db; trace=8ef7e3e2-7bfa-44bf-acd1-47406fb323db,id=9f739955-7954-4ef0-88b7-60a3d91e78ec; trace=8ef7e3e2-7bfa-44bf-acd1-47406fb323db,id=0202538e-071f-42ab-b30b-ce7ea7d09f82; trace=6b9cb76e-d1cd-4449-8237-77a21da1ccf7,id=6b9cb76e-d1cd-4449-8237-77a21da1ccf7; trace=6b9cb76e-d1cd-4449-8237-77a21da1ccf7,id=afa88d18-6da2-4fcb-a170-bc0f7110cddb; trace=6b9cb76e-d1cd-4449-8237-77a21da1ccf7,id=fec0b1e9-0123-4745-9a36-2da3c488708d; trace=69261087-8071-46e6-81c9-5b9e69b12426,id=69261087-8071-46e6-81c9-5b9e69b12426; trace=69261087-8071-46e6-81c9-5b9e69b12426,id=c2ca4397-2e81-408f-957a-6b8089b9b454; trace=69261087-8071-46e6-81c9-5b9e69b12426,id=6ae72c13-2a42-4421-a7c2-8f3d6a6c4463; trace=9b81a4c8-95e5-4510-95cb-23d00eb62140,id=9b81a4c8-95e5-4510-95cb-23d00eb62140; trace=9b81a4c8-95e5-4510-95cb-23d00eb62140,id=011e77fa-d366-45f0-a42a-c9ea46424bce; trace=9b81a4c8-95e5-4510-95cb-23d00eb62140,id=41452f42-aec4-4a54-a93c-0b0af5974120; trace=938408ac-9230-414a-9c22-a9cf559926bd,id=938408ac-9230-414a-9c22-a9cf559926bd; trace=938408ac-9230-414a-9c22-a9cf559926bd,id=2ecf1845-256f-473c-9df5-7b9e11498920; trace=938408ac-9230-414a-9c22-a9cf559926bd,id=05bc9e7b-cd56-4115-814f-a0a51f1f29cf; trace=7e2d3c00-c0b3-477d-bd1b-fe81f9171042,id=7e2d3c00-c0b3-477d-bd1b-fe81f9171042; trace=7e2d3c00-c0b3-477d-bd1b-fe81f9171042,id=569b6b9a-4e2e-4fed-8540-5f1701d1d7ab; trace=7e2d3c00-c0b3-477d-bd1b-fe81f9171042,id=92a54042-da05-4687-94c7-6f380b40d3ac; trace=f6dd0190-1478-41fb-aad5-6b749e86da14,id=f6dd0190-1478-41fb-aad5-6b749e86da14; trace=f6dd0190-1478-41fb-aad5-6b749e86da14,id=8ece9343-1809-41c8-ace5-7b649b776960; trace=f6dd0190-1478-41fb-aad5-6b749e86da14,id=469da461-ba5a-493f-8b41-8f39cd7c3ccb; trace=c136f14f-5ad2-482b-850d-06c8265e6ff2,id=c136f14f-5ad2-482b-850d-06c8265e6ff2; trace=c136f14f-5ad2-482b-850d-06c8265e6ff2,id=8b3471e3-9c95-4353-8f58-2bc3eef0eeab; trace=c136f14f-5ad2-482b-850d-06c8265e6ff2,id=ab57e0e0-7105-477e-9e61-fa348dcbcadf; trace=2fba8a04-f986-4b1f-9f74-dab14f6153f6,id=2fba8a04-f986-4b1f-9f74-dab14f6153f6; trace=2fba8a04-f986-4b1f-9f74-dab14f6153f6,id=aa553d6f-5711-4200-922b-1a1363d6e7a5; trace=2fba8a04-f986-4b1f-9f74-dab14f6153f6,id=7ef9296e-82ec-41cf-88a9-dddaf3a3a671; trace=e925173d-d9f1-469d-828f-e4baeef18eb7,id=e925173d-d9f1-469d-828f-e4baeef18eb7; trace=e925173d-d9f1-469d-828f-e4baeef18eb7,id=5f0c2c5d-a994-45af-aa37-afacafa9e6ba\n"
     ]
    },
    {
     "name": "stdout",
     "output_type": "stream",
     "text": [
      "Processed 597/1000 - Expected: 2 - Result: 1\n",
      "Processed 598/1000 - Expected: 2 - Result: 1\n",
      "Processed 599/1000 - Expected: 2 - Result: 1\n",
      "Processed 600/1000 - Expected: 2 - Result: 1\n",
      "Processed 601/1000 - Expected: 2 - Result: 1\n",
      "Processed 602/1000 - Expected: 2 - Result: 1\n",
      "Processed 603/1000 - Expected: 2 - Result: 1\n",
      "Processed 604/1000 - Expected: 2 - Result: 1\n",
      "Processed 605/1000 - Expected: 2 - Result: 1\n",
      "Processed 606/1000 - Expected: 2 - Result: 1\n",
      "Processed 607/1000 - Expected: 2 - Result: 1\n",
      "Processed 608/1000 - Expected: 2 - Result: 1\n",
      "Processed 609/1000 - Expected: 2 - Result: 1\n",
      "Processed 610/1000 - Expected: 2 - Result: 1\n",
      "Processed 611/1000 - Expected: 2 - Result: 1\n",
      "Processed 612/1000 - Expected: 2 - Result: 1\n"
     ]
    },
    {
     "name": "stderr",
     "output_type": "stream",
     "text": [
      "Failed to batch ingest runs: langsmith.utils.LangSmithRateLimitError: Rate limit exceeded for https://api.smith.langchain.com/runs/batch. HTTPError('429 Client Error: Too Many Requests for url: https://api.smith.langchain.com/runs/batch', '{\"error\":\"Too many requests: tenant exceeded usage limits: Monthly unique traces usage limit exceeded\"}\\n')\n",
      "post: trace=e925173d-d9f1-469d-828f-e4baeef18eb7,id=6ebe276f-a222-4a93-9ddb-c892d5eb1d16; trace=0319304a-ea38-4f9b-9bee-b4b03691540d,id=0319304a-ea38-4f9b-9bee-b4b03691540d; trace=0319304a-ea38-4f9b-9bee-b4b03691540d,id=5792907f-c0ed-4139-bbf4-3b88737bc75c; trace=0319304a-ea38-4f9b-9bee-b4b03691540d,id=552ac216-19ac-405b-a2c8-8d783343e272; trace=8f4b5974-edab-4fe1-995e-26e360b1d424,id=8f4b5974-edab-4fe1-995e-26e360b1d424; trace=8f4b5974-edab-4fe1-995e-26e360b1d424,id=0eae3019-bc78-4301-8c41-b6cab0fd3093; trace=8f4b5974-edab-4fe1-995e-26e360b1d424,id=bb3d634f-38d8-4559-9583-62318f2459a7; trace=95cf3281-4f90-440d-81a7-291b4383e354,id=95cf3281-4f90-440d-81a7-291b4383e354; trace=95cf3281-4f90-440d-81a7-291b4383e354,id=b3e167f7-22be-4f0f-8a91-8bd5545ab8d8; trace=95cf3281-4f90-440d-81a7-291b4383e354,id=db6eb296-3836-435b-9e0a-fbd39f7bcc60; trace=6b29249a-dfee-4bc2-8af6-2db69e165502,id=6b29249a-dfee-4bc2-8af6-2db69e165502; trace=6b29249a-dfee-4bc2-8af6-2db69e165502,id=466e9779-6f0e-4421-a5e7-402ab311401b; trace=6b29249a-dfee-4bc2-8af6-2db69e165502,id=d826c99b-6389-4bed-a385-f326f6b88f5d; trace=7cb83142-f576-47ff-87b1-7a6439206a7c,id=7cb83142-f576-47ff-87b1-7a6439206a7c; trace=7cb83142-f576-47ff-87b1-7a6439206a7c,id=6e4fc3a9-dc3b-471c-9031-4a7e732e255b; trace=7cb83142-f576-47ff-87b1-7a6439206a7c,id=d6527c8f-f163-4f7e-b118-d0e506d2da46; trace=731ad75d-67fe-4743-afc7-14244b6dd061,id=731ad75d-67fe-4743-afc7-14244b6dd061; trace=731ad75d-67fe-4743-afc7-14244b6dd061,id=bfef481c-9d62-4567-b572-9dc48721cb6e; trace=731ad75d-67fe-4743-afc7-14244b6dd061,id=44435176-7f2c-4180-898b-f1bdb114bd13; trace=bc90f271-de21-418e-a6bc-f916dbd20172,id=bc90f271-de21-418e-a6bc-f916dbd20172; trace=bc90f271-de21-418e-a6bc-f916dbd20172,id=5231ab6c-b081-47c4-9371-4a614e4b34b6; trace=bc90f271-de21-418e-a6bc-f916dbd20172,id=ee572416-00da-47b3-a3da-b2e906dfcba8; trace=3a867244-4cc8-4832-b775-c599c0246097,id=3a867244-4cc8-4832-b775-c599c0246097; trace=3a867244-4cc8-4832-b775-c599c0246097,id=d9287021-2fed-45bb-9492-860ebf812534; trace=3a867244-4cc8-4832-b775-c599c0246097,id=4177304c-6d99-4a2b-b615-2108ee3712fb; trace=98b0adf7-2509-429f-9002-1b33b9129f1f,id=98b0adf7-2509-429f-9002-1b33b9129f1f; trace=98b0adf7-2509-429f-9002-1b33b9129f1f,id=87dcf26d-1836-47f4-b5d4-6ab8477a297f; trace=98b0adf7-2509-429f-9002-1b33b9129f1f,id=af3e33d6-68d9-4b45-8bf5-3421d31770e5; trace=b811dcf1-92d6-47be-b291-5567ef9b5016,id=b811dcf1-92d6-47be-b291-5567ef9b5016; trace=b811dcf1-92d6-47be-b291-5567ef9b5016,id=6dab20cb-fe3b-475b-840f-19f85f089a8a; trace=b811dcf1-92d6-47be-b291-5567ef9b5016,id=3fce6643-354d-4b97-98aa-59640621dbc4; trace=e3af9d59-8922-4182-828f-c81ec3b10d67,id=e3af9d59-8922-4182-828f-c81ec3b10d67; trace=e3af9d59-8922-4182-828f-c81ec3b10d67,id=452bd07e-fc7b-4cec-96d2-64980af47106; trace=e3af9d59-8922-4182-828f-c81ec3b10d67,id=16f7c15b-ade6-46ee-9cb7-160cf3b9b306; trace=813dae42-85e6-429c-98ea-d559c4f2adbf,id=813dae42-85e6-429c-98ea-d559c4f2adbf; trace=813dae42-85e6-429c-98ea-d559c4f2adbf,id=387290df-202e-4b96-b823-80171b759aa6; trace=813dae42-85e6-429c-98ea-d559c4f2adbf,id=e17d5813-6ce5-4ad3-84bc-bb814b790d90; trace=6186ae05-00be-459a-b23e-24e173aa9195,id=6186ae05-00be-459a-b23e-24e173aa9195; trace=6186ae05-00be-459a-b23e-24e173aa9195,id=e63ce68b-a7ee-469d-92c3-d0bed046d3da; trace=6186ae05-00be-459a-b23e-24e173aa9195,id=fce9881f-01a0-4309-963e-98fc6cc5df26; trace=4a0cee38-c482-4bf3-b883-f547acef13ba,id=4a0cee38-c482-4bf3-b883-f547acef13ba; trace=4a0cee38-c482-4bf3-b883-f547acef13ba,id=217a50b5-7059-4e68-8c7d-42fed829e86b; trace=4a0cee38-c482-4bf3-b883-f547acef13ba,id=944ccd56-9af3-46f9-92a1-fdceeeb6ef0d; trace=0359433a-2e03-495b-9d8b-f334b9b95075,id=0359433a-2e03-495b-9d8b-f334b9b95075; trace=0359433a-2e03-495b-9d8b-f334b9b95075,id=6f373d6d-591a-433d-b210-d0212ef6e12a; patch: trace=e925173d-d9f1-469d-828f-e4baeef18eb7,id=e925173d-d9f1-469d-828f-e4baeef18eb7; trace=e925173d-d9f1-469d-828f-e4baeef18eb7,id=5f0c2c5d-a994-45af-aa37-afacafa9e6ba\n"
     ]
    },
    {
     "name": "stdout",
     "output_type": "stream",
     "text": [
      "Processed 613/1000 - Expected: 2 - Result: 1\n",
      "Processed 614/1000 - Expected: 2 - Result: 1\n",
      "Processed 615/1000 - Expected: 2 - Result: 1\n",
      "Processed 616/1000 - Expected: 2 - Result: 1\n",
      "Processed 617/1000 - Expected: 2 - Result: 1\n",
      "Processed 618/1000 - Expected: 2 - Result: 1\n",
      "Processed 619/1000 - Expected: 2 - Result: 1\n",
      "Processed 620/1000 - Expected: 2 - Result: 1\n",
      "Processed 621/1000 - Expected: 2 - Result: 1\n",
      "Processed 622/1000 - Expected: 2 - Result: 1\n",
      "Processed 623/1000 - Expected: 2 - Result: 1\n",
      "Processed 624/1000 - Expected: 2 - Result: 1\n",
      "Processed 625/1000 - Expected: 2 - Result: 1\n",
      "Processed 626/1000 - Expected: 2 - Result: 1\n"
     ]
    },
    {
     "name": "stderr",
     "output_type": "stream",
     "text": [
      "Failed to batch ingest runs: langsmith.utils.LangSmithRateLimitError: Rate limit exceeded for https://api.smith.langchain.com/runs/batch. HTTPError('429 Client Error: Too Many Requests for url: https://api.smith.langchain.com/runs/batch', '{\"error\":\"Too many requests: tenant exceeded usage limits: Monthly unique traces usage limit exceeded\"}\\n')\n",
      "post: trace=0359433a-2e03-495b-9d8b-f334b9b95075,id=49968db4-a639-4449-b08f-3c2413fa6bec; trace=67857d3b-9664-4030-adef-548798e0ce2c,id=67857d3b-9664-4030-adef-548798e0ce2c; trace=67857d3b-9664-4030-adef-548798e0ce2c,id=1a8b98ee-2f3c-42a7-9263-80e827e7d980; trace=67857d3b-9664-4030-adef-548798e0ce2c,id=8e707a07-38d9-44a3-b65d-8a2f6e00a7bc; trace=4f086060-56e0-4e5d-8396-bc564831af9b,id=4f086060-56e0-4e5d-8396-bc564831af9b; trace=4f086060-56e0-4e5d-8396-bc564831af9b,id=425ac743-395c-414d-a4fb-a115307d661a; trace=4f086060-56e0-4e5d-8396-bc564831af9b,id=722cae78-c9f6-40e2-aff4-f1f2258cddeb; trace=9a4ac429-1716-45d3-8a8d-c8b7d8ad2ab4,id=9a4ac429-1716-45d3-8a8d-c8b7d8ad2ab4; trace=9a4ac429-1716-45d3-8a8d-c8b7d8ad2ab4,id=2a208df3-3ce7-4b10-a973-edae6d367609; trace=9a4ac429-1716-45d3-8a8d-c8b7d8ad2ab4,id=83403a04-852a-4142-93d4-885cc8b72ab0; trace=becd5037-413b-491e-b383-f8756758709e,id=becd5037-413b-491e-b383-f8756758709e; trace=becd5037-413b-491e-b383-f8756758709e,id=b64b0af6-d5db-4b86-b23f-3d291a722a36; trace=becd5037-413b-491e-b383-f8756758709e,id=0eb51081-44b1-4ccb-a675-c5fe3fe64b40; trace=1f535b32-27e3-4df1-a1cc-f88401731da6,id=1f535b32-27e3-4df1-a1cc-f88401731da6; trace=1f535b32-27e3-4df1-a1cc-f88401731da6,id=4c5e30b2-2449-4b53-9410-28a207f55f13; trace=1f535b32-27e3-4df1-a1cc-f88401731da6,id=d448294a-174c-4afb-845b-44dcab4a0406; trace=48b873b6-48cf-4377-85d8-51a82c6c3f41,id=48b873b6-48cf-4377-85d8-51a82c6c3f41; trace=48b873b6-48cf-4377-85d8-51a82c6c3f41,id=490683d7-2bcb-4906-af50-fcfbb961b104; trace=48b873b6-48cf-4377-85d8-51a82c6c3f41,id=d6a5683f-19c7-4eff-9793-e66d586f1509; trace=161f7779-95e7-444a-b118-ebbe9fa39dfe,id=161f7779-95e7-444a-b118-ebbe9fa39dfe; trace=161f7779-95e7-444a-b118-ebbe9fa39dfe,id=278c3f3e-09d8-4a43-b8f0-b8df2bbf6885; trace=161f7779-95e7-444a-b118-ebbe9fa39dfe,id=52b6ce22-d6ba-4478-8770-10e9a19d8c31; trace=fa373a19-5e2f-4e19-8d3c-c23bb00210dc,id=fa373a19-5e2f-4e19-8d3c-c23bb00210dc; trace=fa373a19-5e2f-4e19-8d3c-c23bb00210dc,id=4dee776e-cd51-47de-b512-21bce2a6f7d0; trace=fa373a19-5e2f-4e19-8d3c-c23bb00210dc,id=f0ea916c-472c-4fb8-a085-dd1b0f696baf; trace=e5fe83ba-1a91-4b7c-94b0-26092364ac19,id=e5fe83ba-1a91-4b7c-94b0-26092364ac19; trace=e5fe83ba-1a91-4b7c-94b0-26092364ac19,id=1bfe878d-08bd-4ba3-a1e2-8013c1ee6804; trace=e5fe83ba-1a91-4b7c-94b0-26092364ac19,id=5bcafed9-8800-42d5-8750-0e23ffb77f3b; trace=07e65caf-a4b1-4b48-bb4d-2d59fc508eda,id=07e65caf-a4b1-4b48-bb4d-2d59fc508eda; trace=07e65caf-a4b1-4b48-bb4d-2d59fc508eda,id=87efb96a-3ef4-4611-90f3-11da882225eb; trace=07e65caf-a4b1-4b48-bb4d-2d59fc508eda,id=2b17cdb8-1d3e-4ad4-a2ae-daef83a129fa; trace=5eb6c583-c92d-481c-a15d-853e625ed999,id=5eb6c583-c92d-481c-a15d-853e625ed999; trace=5eb6c583-c92d-481c-a15d-853e625ed999,id=d1cbdce8-8c0c-4062-8fb0-1bf95c8848ca; trace=5eb6c583-c92d-481c-a15d-853e625ed999,id=2ecd0c6e-3417-4f38-9846-fcb37444c5ce; trace=bad27bd9-18c7-452c-8f54-5940fed12418,id=bad27bd9-18c7-452c-8f54-5940fed12418; trace=bad27bd9-18c7-452c-8f54-5940fed12418,id=64cb4392-bc2c-4579-aec2-7a2f46962dbb; trace=bad27bd9-18c7-452c-8f54-5940fed12418,id=05002f21-0443-4c31-b2e7-2b8946dce675; trace=63f9bbea-1372-4bff-9e62-548ef0e22076,id=63f9bbea-1372-4bff-9e62-548ef0e22076; trace=63f9bbea-1372-4bff-9e62-548ef0e22076,id=1f392d32-84cd-435c-b665-857bc2b07e22; trace=63f9bbea-1372-4bff-9e62-548ef0e22076,id=541f7c5b-27ae-4535-82c6-01f75c964f0d; trace=d19aaef2-f81e-4a69-8a04-9592250238e3,id=d19aaef2-f81e-4a69-8a04-9592250238e3; trace=d19aaef2-f81e-4a69-8a04-9592250238e3,id=b4d9a2f2-c732-499d-b1c8-bd2d764ee46b; trace=d19aaef2-f81e-4a69-8a04-9592250238e3,id=9e5298af-fe50-466a-9f6f-13637d838e60; trace=779b5f13-52ab-4cb9-8539-b1c5b7fca965,id=779b5f13-52ab-4cb9-8539-b1c5b7fca965; trace=779b5f13-52ab-4cb9-8539-b1c5b7fca965,id=a02428f4-dad8-4c28-82a7-a8131d01786d; trace=779b5f13-52ab-4cb9-8539-b1c5b7fca965,id=8047d5a7-a645-4ac6-836b-121128230734; patch: trace=0359433a-2e03-495b-9d8b-f334b9b95075,id=0359433a-2e03-495b-9d8b-f334b9b95075; trace=0359433a-2e03-495b-9d8b-f334b9b95075,id=6f373d6d-591a-433d-b210-d0212ef6e12a\n"
     ]
    },
    {
     "name": "stdout",
     "output_type": "stream",
     "text": [
      "Processed 627/1000 - Expected: 2 - Result: 1\n",
      "Processed 628/1000 - Expected: 2 - Result: 1\n",
      "Processed 629/1000 - Expected: 2 - Result: 1\n",
      "Processed 630/1000 - Expected: 2 - Result: 1\n",
      "Processed 631/1000 - Expected: 2 - Result: 1\n",
      "Processed 632/1000 - Expected: 2 - Result: 1\n",
      "Processed 633/1000 - Expected: 2 - Result: 1\n",
      "Processed 634/1000 - Expected: 2 - Result: 1\n",
      "Processed 635/1000 - Expected: 2 - Result: 1\n",
      "Processed 636/1000 - Expected: 2 - Result: 1\n",
      "Processed 637/1000 - Expected: 2 - Result: 1\n",
      "Processed 638/1000 - Expected: 2 - Result: 1\n",
      "Processed 639/1000 - Expected: 2 - Result: 1\n",
      "Processed 640/1000 - Expected: 2 - Result: 1\n"
     ]
    },
    {
     "name": "stderr",
     "output_type": "stream",
     "text": [
      "Failed to batch ingest runs: langsmith.utils.LangSmithRateLimitError: Rate limit exceeded for https://api.smith.langchain.com/runs/batch. HTTPError('429 Client Error: Too Many Requests for url: https://api.smith.langchain.com/runs/batch', '{\"error\":\"Too many requests: tenant exceeded usage limits: Monthly unique traces usage limit exceeded\"}\\n')\n",
      "post: trace=5bf81ce4-39a1-4698-86ff-d2eb2c034945,id=5bf81ce4-39a1-4698-86ff-d2eb2c034945; trace=5bf81ce4-39a1-4698-86ff-d2eb2c034945,id=2d7a98b8-9717-45e4-aac7-7f56b766966e; trace=5bf81ce4-39a1-4698-86ff-d2eb2c034945,id=eb417347-94c9-4fba-9789-85df5b30b50f; trace=50150fe8-26ae-44f7-8923-3baf2a8b02f9,id=50150fe8-26ae-44f7-8923-3baf2a8b02f9; trace=50150fe8-26ae-44f7-8923-3baf2a8b02f9,id=84c0076e-302a-4125-b37f-b79b3ab09184; trace=50150fe8-26ae-44f7-8923-3baf2a8b02f9,id=fc4a2e7c-ece9-4081-8a16-2c4666c133f3; trace=765e4295-faa9-4cc3-b2b7-46bde8761d18,id=765e4295-faa9-4cc3-b2b7-46bde8761d18; trace=765e4295-faa9-4cc3-b2b7-46bde8761d18,id=2f61c951-ac79-4a2d-8bb1-a502774380a4; trace=765e4295-faa9-4cc3-b2b7-46bde8761d18,id=c99d88b0-cf6a-4886-85c1-1cd5789203d4; trace=b20edfcd-27c5-48d6-9d87-9bf8377134e5,id=b20edfcd-27c5-48d6-9d87-9bf8377134e5; trace=b20edfcd-27c5-48d6-9d87-9bf8377134e5,id=3df2d7f5-e07e-45d0-b2c3-390eb65d462c; trace=b20edfcd-27c5-48d6-9d87-9bf8377134e5,id=bf2c55b2-5823-467f-bc2e-4e0626b15557; trace=5b0ed7e3-fb26-4983-8bff-4ccee14d4da8,id=5b0ed7e3-fb26-4983-8bff-4ccee14d4da8; trace=5b0ed7e3-fb26-4983-8bff-4ccee14d4da8,id=6e8e17fb-7380-4a8e-8ea0-e831d2d914d0; trace=5b0ed7e3-fb26-4983-8bff-4ccee14d4da8,id=34a655a2-252c-4461-b4d2-bbecfd24a254; trace=b77f3d0f-f246-4705-a5ef-e60f3cff766c,id=b77f3d0f-f246-4705-a5ef-e60f3cff766c; trace=b77f3d0f-f246-4705-a5ef-e60f3cff766c,id=c9f6a650-1593-4bc9-9f6c-3081c694e307; trace=b77f3d0f-f246-4705-a5ef-e60f3cff766c,id=f05af3ff-9f09-42e0-8097-7085aede251a; trace=20f1985d-acca-44bf-b0bb-383e8d16b620,id=20f1985d-acca-44bf-b0bb-383e8d16b620; trace=20f1985d-acca-44bf-b0bb-383e8d16b620,id=e8e35f45-6046-4066-ba23-a732aa29a73c; trace=20f1985d-acca-44bf-b0bb-383e8d16b620,id=85155dd1-7c78-4d18-9e27-37db657731f6; trace=a911bf15-1f5c-4935-a38d-df1999974808,id=a911bf15-1f5c-4935-a38d-df1999974808; trace=a911bf15-1f5c-4935-a38d-df1999974808,id=f1a9fc76-2c31-49b8-8e0c-a17960bf30b7; trace=a911bf15-1f5c-4935-a38d-df1999974808,id=c10129ed-9c04-4530-afef-763bf7d7a330; trace=e4f61ac6-4880-4640-9493-37d401a97848,id=e4f61ac6-4880-4640-9493-37d401a97848; trace=e4f61ac6-4880-4640-9493-37d401a97848,id=41634a4d-af80-47f3-a528-9b3f148831ef; trace=e4f61ac6-4880-4640-9493-37d401a97848,id=ab3190e7-7014-471a-8aeb-e014298ff8ea; trace=49ff3b20-0843-4c38-bd8a-8e8f44904dcb,id=49ff3b20-0843-4c38-bd8a-8e8f44904dcb; trace=49ff3b20-0843-4c38-bd8a-8e8f44904dcb,id=6f69f444-8865-472c-8f0a-564218703055; trace=49ff3b20-0843-4c38-bd8a-8e8f44904dcb,id=da29a8e4-ead9-443d-8dc0-9c04389cc284; trace=6a8727de-7540-4b87-a0f4-a07c63446717,id=6a8727de-7540-4b87-a0f4-a07c63446717; trace=6a8727de-7540-4b87-a0f4-a07c63446717,id=ebb69778-044a-4ef8-ae7c-e3585ab407dd; trace=6a8727de-7540-4b87-a0f4-a07c63446717,id=2d777a4a-5b94-4565-bd3c-b3e1054fe523; trace=067d0ce6-b49d-4a67-b27a-0a25b28a5b4b,id=067d0ce6-b49d-4a67-b27a-0a25b28a5b4b; trace=067d0ce6-b49d-4a67-b27a-0a25b28a5b4b,id=a96433be-8f93-4b3a-a62f-d1cde4b6405c; trace=067d0ce6-b49d-4a67-b27a-0a25b28a5b4b,id=7f3b8388-fb7c-420c-a7b0-63b3a0bb1df0; trace=2f7f70f7-2d25-420d-818c-2f547061be9f,id=2f7f70f7-2d25-420d-818c-2f547061be9f; trace=2f7f70f7-2d25-420d-818c-2f547061be9f,id=7c56e426-bcc6-46e3-98fe-c434173c0515; trace=2f7f70f7-2d25-420d-818c-2f547061be9f,id=f8bf6307-f30e-4357-88d3-787572913368; trace=53fbe1be-5640-470c-9f80-0c2d5f4a8e57,id=53fbe1be-5640-470c-9f80-0c2d5f4a8e57; trace=53fbe1be-5640-470c-9f80-0c2d5f4a8e57,id=653e6679-f384-4e5e-9e43-cd0d9bc6fc0d; trace=53fbe1be-5640-470c-9f80-0c2d5f4a8e57,id=92a112d0-2a0d-4d18-93b5-f8dcb6795f2c\n"
     ]
    },
    {
     "name": "stdout",
     "output_type": "stream",
     "text": [
      "Processed 641/1000 - Expected: 2 - Result: 1\n",
      "Processed 642/1000 - Expected: 2 - Result: 1\n",
      "Processed 643/1000 - Expected: 2 - Result: 1\n",
      "Processed 644/1000 - Expected: 2 - Result: 1\n",
      "Processed 645/1000 - Expected: 2 - Result: 1\n",
      "Processed 646/1000 - Expected: 2 - Result: 1\n",
      "Processed 647/1000 - Expected: 2 - Result: 1\n",
      "Processed 648/1000 - Expected: 2 - Result: 1\n",
      "Processed 649/1000 - Expected: 2 - Result: 1\n",
      "Processed 650/1000 - Expected: 2 - Result: 1\n",
      "Processed 651/1000 - Expected: 2 - Result: 1\n",
      "Processed 652/1000 - Expected: 2 - Result: 1\n",
      "Processed 653/1000 - Expected: 2 - Result: 1\n",
      "Processed 654/1000 - Expected: 2 - Result: 1\n"
     ]
    },
    {
     "name": "stderr",
     "output_type": "stream",
     "text": [
      "Failed to batch ingest runs: langsmith.utils.LangSmithRateLimitError: Rate limit exceeded for https://api.smith.langchain.com/runs/batch. HTTPError('429 Client Error: Too Many Requests for url: https://api.smith.langchain.com/runs/batch', '{\"error\":\"Too many requests: tenant exceeded usage limits: Monthly unique traces usage limit exceeded\"}\\n')\n",
      "post: trace=37beb9db-33ec-4725-bb34-59eadaea5aed,id=37beb9db-33ec-4725-bb34-59eadaea5aed; trace=37beb9db-33ec-4725-bb34-59eadaea5aed,id=c1081637-9ec3-47cb-b5ae-cf7a9cf35d87; trace=37beb9db-33ec-4725-bb34-59eadaea5aed,id=cc11aec1-c3ca-4fb0-948a-8a155dfd0b6e; trace=11fc1552-f227-49af-b3a4-189c769e5bb7,id=11fc1552-f227-49af-b3a4-189c769e5bb7; trace=11fc1552-f227-49af-b3a4-189c769e5bb7,id=1d8feaa6-de28-494a-a259-a6327a2a1ff0; trace=11fc1552-f227-49af-b3a4-189c769e5bb7,id=57ec69a2-2595-4cca-a379-de7ed81c03a7; trace=2267d562-25aa-47ca-818c-c33692ad0247,id=2267d562-25aa-47ca-818c-c33692ad0247; trace=2267d562-25aa-47ca-818c-c33692ad0247,id=faf4c00b-7713-4fbe-9397-daa4e2430504; trace=2267d562-25aa-47ca-818c-c33692ad0247,id=40dbdbb1-ea41-4256-a0cb-deee1a6fbbfe; trace=acb368c0-7b67-4549-abf4-ca9a2be4eee8,id=acb368c0-7b67-4549-abf4-ca9a2be4eee8; trace=acb368c0-7b67-4549-abf4-ca9a2be4eee8,id=597c4f77-42b8-4441-8d13-1e76441f8af8; trace=acb368c0-7b67-4549-abf4-ca9a2be4eee8,id=353dbe3b-3c34-4d35-b2bd-e1dfb7e185d1; trace=5856584a-c22e-4f2f-bc75-fcda676cde24,id=5856584a-c22e-4f2f-bc75-fcda676cde24; trace=5856584a-c22e-4f2f-bc75-fcda676cde24,id=9bc8a906-3741-4b43-9a4c-85453fa4459f; trace=5856584a-c22e-4f2f-bc75-fcda676cde24,id=83a2d4db-06ca-4aec-aca7-5c9b29d05e62; trace=ef9e84ce-6e45-41fc-9706-249d38d07c90,id=ef9e84ce-6e45-41fc-9706-249d38d07c90; trace=ef9e84ce-6e45-41fc-9706-249d38d07c90,id=5edd686b-30dd-4bcc-9cbf-a3d1bcf2b2e7; trace=ef9e84ce-6e45-41fc-9706-249d38d07c90,id=33092286-e3b4-4791-a478-c9662b412abc; trace=14fbc461-716b-4644-811f-917e7aa9fd9e,id=14fbc461-716b-4644-811f-917e7aa9fd9e; trace=14fbc461-716b-4644-811f-917e7aa9fd9e,id=363a8197-32d9-4d81-a3ef-134a232f7e1a; trace=14fbc461-716b-4644-811f-917e7aa9fd9e,id=19e336fd-1568-4ac6-b8bd-89ed304df3a9; trace=9a1ae0d3-37bc-4b97-8037-3e7c07e7e387,id=9a1ae0d3-37bc-4b97-8037-3e7c07e7e387; trace=9a1ae0d3-37bc-4b97-8037-3e7c07e7e387,id=049342d1-2db5-412d-b042-0911d3ccbacb; trace=9a1ae0d3-37bc-4b97-8037-3e7c07e7e387,id=7a77fe3f-d8ae-450e-9140-a274792f8637; trace=3f630e2a-5aa4-4f66-ad2c-13c2b5976276,id=3f630e2a-5aa4-4f66-ad2c-13c2b5976276; trace=3f630e2a-5aa4-4f66-ad2c-13c2b5976276,id=41bbc4f4-2382-4695-8e4c-4d1cab5043fe; trace=3f630e2a-5aa4-4f66-ad2c-13c2b5976276,id=3c7fb3e6-54e8-4728-a878-8e3d634f9ffd; trace=ad8cdbf1-0802-405b-a273-7b77cf9a3b86,id=ad8cdbf1-0802-405b-a273-7b77cf9a3b86; trace=ad8cdbf1-0802-405b-a273-7b77cf9a3b86,id=912c2249-3a5f-4ebe-9a17-a684afed138e; trace=ad8cdbf1-0802-405b-a273-7b77cf9a3b86,id=d4b11ce7-02b4-414b-b1f0-52854128e5d7; trace=fb454b56-7fa2-4bb7-a174-f95b4ba7739c,id=fb454b56-7fa2-4bb7-a174-f95b4ba7739c; trace=fb454b56-7fa2-4bb7-a174-f95b4ba7739c,id=8cbbab00-6f56-47b9-be9c-bfbcca84bd11; trace=fb454b56-7fa2-4bb7-a174-f95b4ba7739c,id=896574bc-6dcc-4f48-acc5-c31aef949d96; trace=204f2d8b-f5c0-4e33-a3f9-870264e7735c,id=204f2d8b-f5c0-4e33-a3f9-870264e7735c; trace=204f2d8b-f5c0-4e33-a3f9-870264e7735c,id=ceee73e4-2f30-4bd8-aad4-9b68956bb207; trace=204f2d8b-f5c0-4e33-a3f9-870264e7735c,id=74b7e9e8-300f-4d91-ae5c-adedec1b9435; trace=3262a754-37fd-4409-8c2f-0c0491e48a0b,id=3262a754-37fd-4409-8c2f-0c0491e48a0b; trace=3262a754-37fd-4409-8c2f-0c0491e48a0b,id=28c1341a-c69a-43e7-b3ce-ab73e85c7bdb; trace=3262a754-37fd-4409-8c2f-0c0491e48a0b,id=3edfa4ba-4b28-4752-9bdf-1771f3e4d589; trace=b9f289a1-7665-43dc-9d47-2e7c09eb0f59,id=b9f289a1-7665-43dc-9d47-2e7c09eb0f59; trace=b9f289a1-7665-43dc-9d47-2e7c09eb0f59,id=3373c299-5c5f-4d19-9c01-a19cd5c9ff3b; trace=b9f289a1-7665-43dc-9d47-2e7c09eb0f59,id=c543c439-bde9-4bd1-8e8f-f1de561a825a\n"
     ]
    },
    {
     "name": "stdout",
     "output_type": "stream",
     "text": [
      "Processed 655/1000 - Expected: 2 - Result: 1\n",
      "Processed 656/1000 - Expected: 2 - Result: 1\n",
      "Processed 657/1000 - Expected: 2 - Result: 1\n",
      "Processed 658/1000 - Expected: 2 - Result: 1\n",
      "Processed 659/1000 - Expected: 2 - Result: 1\n",
      "Processed 660/1000 - Expected: 2 - Result: 1\n",
      "Processed 661/1000 - Expected: 2 - Result: 1\n",
      "Processed 662/1000 - Expected: 2 - Result: 1\n",
      "Processed 663/1000 - Expected: 2 - Result: 1\n",
      "Processed 664/1000 - Expected: 2 - Result: 1\n",
      "Processed 665/1000 - Expected: 2 - Result: 1\n",
      "Processed 666/1000 - Expected: 2 - Result: 1\n",
      "Processed 667/1000 - Expected: 2 - Result: 1\n"
     ]
    },
    {
     "name": "stderr",
     "output_type": "stream",
     "text": [
      "Failed to batch ingest runs: langsmith.utils.LangSmithRateLimitError: Rate limit exceeded for https://api.smith.langchain.com/runs/batch. HTTPError('429 Client Error: Too Many Requests for url: https://api.smith.langchain.com/runs/batch', '{\"error\":\"Too many requests: tenant exceeded usage limits: Monthly unique traces usage limit exceeded\"}\\n')\n",
      "post: trace=62d601e2-9202-4239-b88c-79379332c95c,id=62d601e2-9202-4239-b88c-79379332c95c; trace=62d601e2-9202-4239-b88c-79379332c95c,id=2cc4e51d-eb44-45b6-9407-060cb1068e06; trace=62d601e2-9202-4239-b88c-79379332c95c,id=80fbd9a1-257f-4622-a045-abb7ccb8b77b; trace=22dc9f54-79c0-4c0e-b942-40c42c9a7b95,id=22dc9f54-79c0-4c0e-b942-40c42c9a7b95; trace=22dc9f54-79c0-4c0e-b942-40c42c9a7b95,id=464dd85d-d39a-4f3e-bba4-707f971b260d; trace=22dc9f54-79c0-4c0e-b942-40c42c9a7b95,id=8ceb544e-97eb-4b52-879a-352bf6f1a5d4; trace=80aa9669-b7c2-4be7-85ff-176a350b73ae,id=80aa9669-b7c2-4be7-85ff-176a350b73ae; trace=80aa9669-b7c2-4be7-85ff-176a350b73ae,id=5dd5026e-4b72-47f1-b03b-4370c454ad64; trace=80aa9669-b7c2-4be7-85ff-176a350b73ae,id=dda8efe3-95d8-43bc-9d07-7a4222f3bbf8; trace=82176a92-3f1c-46a9-a549-dd77279cbc92,id=82176a92-3f1c-46a9-a549-dd77279cbc92; trace=82176a92-3f1c-46a9-a549-dd77279cbc92,id=3560f39d-7cfd-4232-84b0-7c485d31916a; trace=82176a92-3f1c-46a9-a549-dd77279cbc92,id=6b527b10-3a87-43f6-aa8b-48fc81b3c216; trace=80b1c188-09c9-44ab-a9be-02f0efd4119b,id=80b1c188-09c9-44ab-a9be-02f0efd4119b; trace=80b1c188-09c9-44ab-a9be-02f0efd4119b,id=097db700-9c52-46cd-b89f-c42578bb2cd2; trace=80b1c188-09c9-44ab-a9be-02f0efd4119b,id=231ab6d0-f208-4352-9c25-a8c9ccba3748; trace=da437daf-774c-4b74-8426-ff1da29d8eff,id=da437daf-774c-4b74-8426-ff1da29d8eff; trace=da437daf-774c-4b74-8426-ff1da29d8eff,id=1af1fe99-a3b6-4715-86e3-641068cb8944; trace=da437daf-774c-4b74-8426-ff1da29d8eff,id=c2c9bdd3-0224-4ae2-b825-57b3d8fd0595; trace=fb06f30b-9b18-4a7c-b8ea-bcdb9ac59965,id=fb06f30b-9b18-4a7c-b8ea-bcdb9ac59965; trace=fb06f30b-9b18-4a7c-b8ea-bcdb9ac59965,id=54d23711-bf05-4642-b238-81be328a885c; trace=fb06f30b-9b18-4a7c-b8ea-bcdb9ac59965,id=78c0e9ea-d4e5-4228-a29a-11d9661c3072; trace=0c358d90-5b1e-4941-a4cb-76b325110661,id=0c358d90-5b1e-4941-a4cb-76b325110661; trace=0c358d90-5b1e-4941-a4cb-76b325110661,id=bc1eceaf-7433-4455-b258-3d9f4d7c2e44; trace=0c358d90-5b1e-4941-a4cb-76b325110661,id=8a1b8a02-da9d-4474-83b9-de4ebbc7eec9; trace=873009dc-470f-4c68-9c47-215f6217beea,id=873009dc-470f-4c68-9c47-215f6217beea; trace=873009dc-470f-4c68-9c47-215f6217beea,id=dc7a93f6-b264-4c05-9d14-1583f20c7ede; trace=873009dc-470f-4c68-9c47-215f6217beea,id=1f5b7cc8-cae0-444d-a267-98633a4265dd; trace=f6db59c1-0174-46e8-b8c7-c69ffff39b29,id=f6db59c1-0174-46e8-b8c7-c69ffff39b29; trace=f6db59c1-0174-46e8-b8c7-c69ffff39b29,id=f193e615-4868-4a80-ae12-5f52fa11aef5; trace=f6db59c1-0174-46e8-b8c7-c69ffff39b29,id=925e49a0-2bfb-4fac-8d45-851ec4bcb0e2; trace=767ba0d6-4959-4e97-9165-492fcfb6eb62,id=767ba0d6-4959-4e97-9165-492fcfb6eb62; trace=767ba0d6-4959-4e97-9165-492fcfb6eb62,id=8fa51b08-91cf-45e6-8694-10ca2fc5a309; trace=767ba0d6-4959-4e97-9165-492fcfb6eb62,id=d1e4beb5-3969-4709-86b0-71fa2619c10e; trace=56bd6c5a-e77c-4944-8927-cab8242da946,id=56bd6c5a-e77c-4944-8927-cab8242da946; trace=56bd6c5a-e77c-4944-8927-cab8242da946,id=b9017709-3fd4-4d75-9e93-4d94b39f03a9; trace=56bd6c5a-e77c-4944-8927-cab8242da946,id=8002e8c1-8cf4-446f-a679-ba537f3b947c; trace=4568df6f-99b5-4de1-9525-453778bf9923,id=4568df6f-99b5-4de1-9525-453778bf9923; trace=4568df6f-99b5-4de1-9525-453778bf9923,id=fd845c3d-9048-4298-ab2b-e3370de2cf56; trace=4568df6f-99b5-4de1-9525-453778bf9923,id=8924810a-40d0-44c1-89a5-4621068d3eeb; trace=97a81395-ea44-4615-8bc8-f5cda86f89e9,id=97a81395-ea44-4615-8bc8-f5cda86f89e9; trace=97a81395-ea44-4615-8bc8-f5cda86f89e9,id=b0aeb348-715d-43f7-b69b-f17d4617aae0; trace=97a81395-ea44-4615-8bc8-f5cda86f89e9,id=9bee1922-bd5a-4197-99c4-73eb55d3cd02\n"
     ]
    },
    {
     "name": "stdout",
     "output_type": "stream",
     "text": [
      "Processed 668/1000 - Expected: 2 - Result: 1\n",
      "Processed 669/1000 - Expected: 2 - Result: 1\n",
      "Processed 670/1000 - Expected: 2 - Result: 1\n",
      "Processed 671/1000 - Expected: 2 - Result: 1\n",
      "Processed 672/1000 - Expected: 2 - Result: 1\n",
      "Processed 673/1000 - Expected: 2 - Result: 1\n",
      "Processed 674/1000 - Expected: 2 - Result: 1\n",
      "Processed 675/1000 - Expected: 2 - Result: 1\n",
      "Processed 676/1000 - Expected: 2 - Result: 1\n",
      "Processed 677/1000 - Expected: 2 - Result: 1\n",
      "Processed 678/1000 - Expected: 2 - Result: 1\n",
      "Processed 679/1000 - Expected: 2 - Result: 1\n",
      "Processed 680/1000 - Expected: 2 - Result: 1\n",
      "Processed 681/1000 - Expected: 2 - Result: 1\n"
     ]
    },
    {
     "name": "stderr",
     "output_type": "stream",
     "text": [
      "Failed to batch ingest runs: langsmith.utils.LangSmithRateLimitError: Rate limit exceeded for https://api.smith.langchain.com/runs/batch. HTTPError('429 Client Error: Too Many Requests for url: https://api.smith.langchain.com/runs/batch', '{\"error\":\"Too many requests: tenant exceeded usage limits: Monthly unique traces usage limit exceeded\"}\\n')\n",
      "post: trace=36c30930-0b3b-40c7-8634-4393fdbfdd9a,id=36c30930-0b3b-40c7-8634-4393fdbfdd9a; trace=36c30930-0b3b-40c7-8634-4393fdbfdd9a,id=05256710-8079-48df-bc47-68704f14129d; trace=36c30930-0b3b-40c7-8634-4393fdbfdd9a,id=ca926fee-86ad-45eb-8a3d-42ac9ac68839; trace=3690b381-abe9-40fd-8455-2f2523828249,id=3690b381-abe9-40fd-8455-2f2523828249; trace=3690b381-abe9-40fd-8455-2f2523828249,id=701cf7b3-465e-4a46-b765-7b0087d5e4d2; trace=3690b381-abe9-40fd-8455-2f2523828249,id=21dd8b32-a5a3-4fa0-820d-9f17ea2b3e94; trace=63b429cc-c2c3-4128-a018-49602f5288f9,id=63b429cc-c2c3-4128-a018-49602f5288f9; trace=63b429cc-c2c3-4128-a018-49602f5288f9,id=979c2493-88a5-4717-88df-01ce451ea673; trace=63b429cc-c2c3-4128-a018-49602f5288f9,id=7a99f300-9246-4980-98a2-c56153eed9e3; trace=a0d24ece-9877-4d8e-8270-14dc3d3f0953,id=a0d24ece-9877-4d8e-8270-14dc3d3f0953; trace=a0d24ece-9877-4d8e-8270-14dc3d3f0953,id=e66c5c14-445c-4773-b198-3e07b3ff438b; trace=a0d24ece-9877-4d8e-8270-14dc3d3f0953,id=b01f7db1-c145-412a-9909-6824b71d6259; trace=7cb3975f-3acc-426d-9ef4-33afcdedf071,id=7cb3975f-3acc-426d-9ef4-33afcdedf071; trace=7cb3975f-3acc-426d-9ef4-33afcdedf071,id=110bb0c4-1a65-4487-a713-858bd3cd14f5; trace=7cb3975f-3acc-426d-9ef4-33afcdedf071,id=47690782-d026-47c6-9870-e1c35a204b3a; trace=4b18bbcb-1f5b-4eb0-91db-a0f22303bded,id=4b18bbcb-1f5b-4eb0-91db-a0f22303bded; trace=4b18bbcb-1f5b-4eb0-91db-a0f22303bded,id=5645fbae-7b24-4d9e-a9a6-1ef63747eace; trace=4b18bbcb-1f5b-4eb0-91db-a0f22303bded,id=3d5f054b-7141-4ef3-87df-6d34edcc2821; trace=4290e7e3-2dbe-43be-8f74-41a9eeba5e8b,id=4290e7e3-2dbe-43be-8f74-41a9eeba5e8b; trace=4290e7e3-2dbe-43be-8f74-41a9eeba5e8b,id=f25cadbf-7506-4caa-ac1d-9d65f1b2bba1; trace=4290e7e3-2dbe-43be-8f74-41a9eeba5e8b,id=747403f9-d7f2-46e5-a1b1-ebd287afbfda; trace=534213dc-9914-4ddb-9da7-dbe830261f12,id=534213dc-9914-4ddb-9da7-dbe830261f12; trace=534213dc-9914-4ddb-9da7-dbe830261f12,id=17498482-e70b-47bc-a79d-9412ec9baba9; trace=534213dc-9914-4ddb-9da7-dbe830261f12,id=2821aef9-27a0-4c57-a11b-26b6b3858f82; trace=2174c3fb-e997-40cb-9c36-5aab7823a74d,id=2174c3fb-e997-40cb-9c36-5aab7823a74d; trace=2174c3fb-e997-40cb-9c36-5aab7823a74d,id=c4dab770-1a98-4d39-b309-b16789d97881; trace=2174c3fb-e997-40cb-9c36-5aab7823a74d,id=78a521d8-50e6-4c70-9fa8-c04038af9045; trace=4d8b3796-bf38-431c-9d05-b752d10329a2,id=4d8b3796-bf38-431c-9d05-b752d10329a2; trace=4d8b3796-bf38-431c-9d05-b752d10329a2,id=65ff1d88-83c8-4ccc-9c11-419f3c1390ff; trace=4d8b3796-bf38-431c-9d05-b752d10329a2,id=043f861f-7aed-41b3-bf88-872c4f4378e4; trace=c2739f92-d77c-4a2f-9fec-993d292b44b3,id=c2739f92-d77c-4a2f-9fec-993d292b44b3; trace=c2739f92-d77c-4a2f-9fec-993d292b44b3,id=e0b6b3b9-11df-4de9-b3f2-80967af6dea4; trace=c2739f92-d77c-4a2f-9fec-993d292b44b3,id=91f31059-93b1-45de-bf37-d48bb1d2ac4f; trace=c931dea8-dec4-46e3-92fb-f04cb81ef159,id=c931dea8-dec4-46e3-92fb-f04cb81ef159; trace=c931dea8-dec4-46e3-92fb-f04cb81ef159,id=a8641bad-95de-4b0a-8e3b-064c0d87c5f9; trace=c931dea8-dec4-46e3-92fb-f04cb81ef159,id=a9364f1a-e07e-4a71-9bf9-9e4b69d3bb43; trace=7d8ed692-f13d-477b-98a4-beeb8b2a1b4b,id=7d8ed692-f13d-477b-98a4-beeb8b2a1b4b; trace=7d8ed692-f13d-477b-98a4-beeb8b2a1b4b,id=bd8cd602-c63f-4434-917e-0c48ecc67e03; trace=7d8ed692-f13d-477b-98a4-beeb8b2a1b4b,id=86c54e43-59da-47dc-b2b0-ecbe46b31f30; trace=43d08669-6d2d-4534-acc4-3854a94d49d3,id=43d08669-6d2d-4534-acc4-3854a94d49d3; trace=43d08669-6d2d-4534-acc4-3854a94d49d3,id=2564fa53-96de-4eb7-87e4-8fd222b8ea26\n"
     ]
    },
    {
     "name": "stdout",
     "output_type": "stream",
     "text": [
      "Processed 682/1000 - Expected: 2 - Result: 1\n",
      "Processed 683/1000 - Expected: 2 - Result: 1\n",
      "Processed 684/1000 - Expected: 2 - Result: 1\n",
      "Processed 685/1000 - Expected: 2 - Result: 1\n",
      "Processed 686/1000 - Expected: 2 - Result: 1\n",
      "Processed 687/1000 - Expected: 2 - Result: 1\n",
      "Processed 688/1000 - Expected: 2 - Result: 1\n",
      "Processed 689/1000 - Expected: 2 - Result: 1\n",
      "Processed 690/1000 - Expected: 2 - Result: 1\n",
      "Processed 691/1000 - Expected: 2 - Result: 1\n",
      "Processed 692/1000 - Expected: 2 - Result: 1\n",
      "Processed 693/1000 - Expected: 2 - Result: 1\n",
      "Processed 694/1000 - Expected: 2 - Result: 1\n",
      "Processed 695/1000 - Expected: 2 - Result: 1\n"
     ]
    },
    {
     "name": "stderr",
     "output_type": "stream",
     "text": [
      "Failed to batch ingest runs: langsmith.utils.LangSmithRateLimitError: Rate limit exceeded for https://api.smith.langchain.com/runs/batch. HTTPError('429 Client Error: Too Many Requests for url: https://api.smith.langchain.com/runs/batch', '{\"error\":\"Too many requests: tenant exceeded usage limits: Monthly unique traces usage limit exceeded\"}\\n')\n",
      "post: trace=43d08669-6d2d-4534-acc4-3854a94d49d3,id=48fcd6bd-9f09-474d-845a-3b05d6b32ba5; trace=d992fcb7-e152-4785-99e7-727de494727f,id=d992fcb7-e152-4785-99e7-727de494727f; trace=d992fcb7-e152-4785-99e7-727de494727f,id=cab1759e-4f9e-4aa6-a124-bcb1fc2869dc; trace=d992fcb7-e152-4785-99e7-727de494727f,id=8087f01f-19f2-4d82-8409-a9ca07ce165c; trace=b2600b1c-1be9-4f3b-8137-609e9e54e0e5,id=b2600b1c-1be9-4f3b-8137-609e9e54e0e5; trace=b2600b1c-1be9-4f3b-8137-609e9e54e0e5,id=1daea019-9539-4cdf-8ed6-44a59113a441; trace=b2600b1c-1be9-4f3b-8137-609e9e54e0e5,id=7a569a61-f501-4c64-8da1-d71c121f1265; trace=fc034d6a-1e92-49d4-9398-6a0f76b7ba3f,id=fc034d6a-1e92-49d4-9398-6a0f76b7ba3f; trace=fc034d6a-1e92-49d4-9398-6a0f76b7ba3f,id=05515a06-4600-4782-bb69-af5e95a8e6f2; trace=fc034d6a-1e92-49d4-9398-6a0f76b7ba3f,id=a3d2ed2f-d95a-43c3-bc29-38dcf8f639af; trace=667da22f-2653-40e1-b772-8ae35fdc7c80,id=667da22f-2653-40e1-b772-8ae35fdc7c80; trace=667da22f-2653-40e1-b772-8ae35fdc7c80,id=10398dbb-7d9e-4ada-a9a5-e3d86b59ea1b; trace=667da22f-2653-40e1-b772-8ae35fdc7c80,id=bd2e29a8-2d0e-48b6-b339-3a07ae9d3cbb; trace=607cd836-55d2-463b-9dee-91ac4da191ec,id=607cd836-55d2-463b-9dee-91ac4da191ec; trace=607cd836-55d2-463b-9dee-91ac4da191ec,id=cf8813c4-5e23-4efa-a834-ab625e481fe6; trace=607cd836-55d2-463b-9dee-91ac4da191ec,id=d4103f3e-2da4-4e6c-8f99-bcfe52e96cdb; trace=f1a8e8de-8111-4c7a-a150-1c5265c62f4f,id=f1a8e8de-8111-4c7a-a150-1c5265c62f4f; trace=f1a8e8de-8111-4c7a-a150-1c5265c62f4f,id=105a69d2-2f00-45a7-9591-dff547333f09; trace=f1a8e8de-8111-4c7a-a150-1c5265c62f4f,id=51ffad01-6ae7-4093-9359-05b8dbfa1702; trace=a818e7aa-1c6a-45f1-89f7-1933fe78007e,id=a818e7aa-1c6a-45f1-89f7-1933fe78007e; trace=a818e7aa-1c6a-45f1-89f7-1933fe78007e,id=0d273c3b-b320-4ac5-bd1d-e2a81b5851a7; trace=a818e7aa-1c6a-45f1-89f7-1933fe78007e,id=183ca9f7-a459-4308-96f5-722e7330662f; trace=cc2a0fa9-2d71-42e4-8cea-1dcbe6409e41,id=cc2a0fa9-2d71-42e4-8cea-1dcbe6409e41; trace=cc2a0fa9-2d71-42e4-8cea-1dcbe6409e41,id=141a23d9-6503-42c6-9216-eb961347b5b1; trace=cc2a0fa9-2d71-42e4-8cea-1dcbe6409e41,id=1add6654-dd67-4bc0-859a-035150dc6e49; trace=8ab03307-3199-44c0-967d-158f7dfd8d61,id=8ab03307-3199-44c0-967d-158f7dfd8d61; trace=8ab03307-3199-44c0-967d-158f7dfd8d61,id=6431a468-b92a-4480-b280-ddac4a851e88; trace=8ab03307-3199-44c0-967d-158f7dfd8d61,id=0636d6ec-a06d-4ff5-9fc7-e3225b8f3f81; trace=ec72d5a7-7793-4ff0-8b87-9fe180fac59f,id=ec72d5a7-7793-4ff0-8b87-9fe180fac59f; trace=ec72d5a7-7793-4ff0-8b87-9fe180fac59f,id=a1d1972a-57ea-4fd6-977a-c7cbaee213a1; trace=ec72d5a7-7793-4ff0-8b87-9fe180fac59f,id=52ccb60a-ab46-4d0b-b767-c1bd6b86f398; trace=45dd147f-145d-420d-a0dc-a109d8877335,id=45dd147f-145d-420d-a0dc-a109d8877335; trace=45dd147f-145d-420d-a0dc-a109d8877335,id=e1aacbed-302e-4e83-a4bb-6dbb122ead0f; trace=45dd147f-145d-420d-a0dc-a109d8877335,id=372bed54-4d7d-4de4-88ae-32f154da9cb4; trace=c0e05e56-ff60-4de3-825e-3e2b80ff322d,id=c0e05e56-ff60-4de3-825e-3e2b80ff322d; trace=c0e05e56-ff60-4de3-825e-3e2b80ff322d,id=ee7175b4-a25b-4521-89bc-d83ff52ef1bd; trace=c0e05e56-ff60-4de3-825e-3e2b80ff322d,id=4c1b2970-88a3-4268-956e-c37cb985fa7a; trace=a5ef7e9e-b8e3-4dff-86a6-5d71da736c90,id=a5ef7e9e-b8e3-4dff-86a6-5d71da736c90; trace=a5ef7e9e-b8e3-4dff-86a6-5d71da736c90,id=9039adfe-743a-4b3c-a5f4-e71bfce43e93; trace=a5ef7e9e-b8e3-4dff-86a6-5d71da736c90,id=23ec4d94-9858-4b10-b8d9-d264312f8574; patch: trace=43d08669-6d2d-4534-acc4-3854a94d49d3,id=43d08669-6d2d-4534-acc4-3854a94d49d3; trace=43d08669-6d2d-4534-acc4-3854a94d49d3,id=2564fa53-96de-4eb7-87e4-8fd222b8ea26\n"
     ]
    },
    {
     "name": "stdout",
     "output_type": "stream",
     "text": [
      "Processed 696/1000 - Expected: 2 - Result: 1\n",
      "Processed 697/1000 - Expected: 2 - Result: 1\n",
      "Processed 698/1000 - Expected: 2 - Result: 1\n",
      "Processed 699/1000 - Expected: 2 - Result: 1\n",
      "Processed 700/1000 - Expected: 2 - Result: 1\n",
      "Processed 701/1000 - Expected: 2 - Result: 1\n",
      "Processed 702/1000 - Expected: 2 - Result: 1\n",
      "Processed 703/1000 - Expected: 2 - Result: 1\n",
      "Processed 704/1000 - Expected: 2 - Result: 1\n",
      "Processed 705/1000 - Expected: 2 - Result: 1\n",
      "Processed 706/1000 - Expected: 2 - Result: 1\n",
      "Processed 707/1000 - Expected: 2 - Result: 1\n",
      "Processed 708/1000 - Expected: 2 - Result: 1\n",
      "Processed 709/1000 - Expected: 2 - Result: 1\n"
     ]
    },
    {
     "name": "stderr",
     "output_type": "stream",
     "text": [
      "Failed to batch ingest runs: langsmith.utils.LangSmithRateLimitError: Rate limit exceeded for https://api.smith.langchain.com/runs/batch. HTTPError('429 Client Error: Too Many Requests for url: https://api.smith.langchain.com/runs/batch', '{\"error\":\"Too many requests: tenant exceeded usage limits: Monthly unique traces usage limit exceeded\"}\\n')\n",
      "post: trace=2d168f60-0bdd-4b75-a30d-ef8ff45f5967,id=2d168f60-0bdd-4b75-a30d-ef8ff45f5967; trace=2d168f60-0bdd-4b75-a30d-ef8ff45f5967,id=2dba71a2-9d62-45a8-8ec6-6ce0e2d70214; trace=2d168f60-0bdd-4b75-a30d-ef8ff45f5967,id=41cde4e0-35de-4bc6-99c3-26a84bf24fdb; trace=a5d77244-442e-4f84-aa3e-a46e109ff639,id=a5d77244-442e-4f84-aa3e-a46e109ff639; trace=a5d77244-442e-4f84-aa3e-a46e109ff639,id=d93c3137-aff6-4e16-afb4-eff05834e465; trace=a5d77244-442e-4f84-aa3e-a46e109ff639,id=5f3c3601-807d-4de0-b92e-378f0708a28d; trace=d7701de5-2e8f-4a4f-a174-63e9e5f8a6da,id=d7701de5-2e8f-4a4f-a174-63e9e5f8a6da; trace=d7701de5-2e8f-4a4f-a174-63e9e5f8a6da,id=3ee102c1-f45e-45fa-88e3-d9eb7486b351; trace=d7701de5-2e8f-4a4f-a174-63e9e5f8a6da,id=c216f4ec-ef39-46fc-a0e7-3e3fedbc0624; trace=6dd018d2-154e-440c-ad99-985404b4f972,id=6dd018d2-154e-440c-ad99-985404b4f972; trace=6dd018d2-154e-440c-ad99-985404b4f972,id=ddf72db9-b9fd-444f-b8ce-14f89435069e; trace=6dd018d2-154e-440c-ad99-985404b4f972,id=6f01ca89-f196-4810-9203-16197ae660b5; trace=a05e2fae-ac87-4cbd-b708-1b3495728bcc,id=a05e2fae-ac87-4cbd-b708-1b3495728bcc; trace=a05e2fae-ac87-4cbd-b708-1b3495728bcc,id=bdc3f7ff-64cf-4657-a904-e382bb56ba6e; trace=a05e2fae-ac87-4cbd-b708-1b3495728bcc,id=b1f38fb4-dc02-41b4-a849-344e872a04ce; trace=587e57f4-c78b-4f69-8eba-bb694ada7534,id=587e57f4-c78b-4f69-8eba-bb694ada7534; trace=587e57f4-c78b-4f69-8eba-bb694ada7534,id=10f35a07-e07b-46dd-a924-701e0947547f; trace=587e57f4-c78b-4f69-8eba-bb694ada7534,id=82673d37-2794-4c2a-b188-ac9bc642a4ac; trace=bea3e8a5-6270-4439-919f-1e2aa35c0033,id=bea3e8a5-6270-4439-919f-1e2aa35c0033; trace=bea3e8a5-6270-4439-919f-1e2aa35c0033,id=29ff92b9-a2bf-4b63-86b6-c09b04177414; trace=bea3e8a5-6270-4439-919f-1e2aa35c0033,id=e01f0353-fb05-472d-b5be-1547dec4c08b; trace=f6965dc8-89a9-4884-bda7-45ba183d3a5c,id=f6965dc8-89a9-4884-bda7-45ba183d3a5c; trace=f6965dc8-89a9-4884-bda7-45ba183d3a5c,id=1eab10fe-a09c-442e-ad71-4e163f744eec; trace=f6965dc8-89a9-4884-bda7-45ba183d3a5c,id=158798be-2813-46d1-a9bd-da2708541487; trace=aac72511-c1fa-498a-882b-ba841d25d492,id=aac72511-c1fa-498a-882b-ba841d25d492; trace=aac72511-c1fa-498a-882b-ba841d25d492,id=23f0c73f-fe95-4f10-bd7b-6e56a15dbb6a; trace=aac72511-c1fa-498a-882b-ba841d25d492,id=cda9d002-4b89-4fe8-b936-91d10531b57a; trace=6ebac8b4-4013-4ebb-ae1d-da68376005ef,id=6ebac8b4-4013-4ebb-ae1d-da68376005ef; trace=6ebac8b4-4013-4ebb-ae1d-da68376005ef,id=67647c3e-4f55-4584-805a-c523daa705e9; trace=6ebac8b4-4013-4ebb-ae1d-da68376005ef,id=2c7da8d8-8e2e-4537-a100-f119b4f42412; trace=9e6c1472-ff1c-4890-ba15-6be1ed9e31bb,id=9e6c1472-ff1c-4890-ba15-6be1ed9e31bb; trace=9e6c1472-ff1c-4890-ba15-6be1ed9e31bb,id=193ea320-edb1-4c55-9418-e2808a544249; trace=9e6c1472-ff1c-4890-ba15-6be1ed9e31bb,id=71aa488c-003d-4ce6-8b01-e44aa8173ba3; trace=8bd4cf24-24de-4e56-8da5-cc3957bc396a,id=8bd4cf24-24de-4e56-8da5-cc3957bc396a; trace=8bd4cf24-24de-4e56-8da5-cc3957bc396a,id=dcb0849a-ef6e-49f2-8399-2faacc6fae71; trace=8bd4cf24-24de-4e56-8da5-cc3957bc396a,id=5f0da21b-3543-4760-89c4-77b6f33b1294; trace=8064bb1e-f392-42a4-b449-f5b2e47078cf,id=8064bb1e-f392-42a4-b449-f5b2e47078cf; trace=8064bb1e-f392-42a4-b449-f5b2e47078cf,id=4d9efd50-9f04-40cb-9e60-8a735a35c3eb; trace=8064bb1e-f392-42a4-b449-f5b2e47078cf,id=bcc96ad5-14c6-4322-807f-4e3f11be96b9; trace=73fa1544-1164-4d19-b59b-88fc6cc34f42,id=73fa1544-1164-4d19-b59b-88fc6cc34f42; trace=73fa1544-1164-4d19-b59b-88fc6cc34f42,id=8b8cc9d6-bc30-4cdf-8684-32f0a4753507; trace=73fa1544-1164-4d19-b59b-88fc6cc34f42,id=8d150388-4ef2-446e-91a4-cacb2b41f1f9\n"
     ]
    },
    {
     "name": "stdout",
     "output_type": "stream",
     "text": [
      "Processed 710/1000 - Expected: 2 - Result: 1\n",
      "Processed 711/1000 - Expected: 2 - Result: 1\n",
      "Processed 712/1000 - Expected: 2 - Result: 1\n",
      "Processed 713/1000 - Expected: 2 - Result: 1\n",
      "Processed 714/1000 - Expected: 2 - Result: 1\n",
      "Processed 715/1000 - Expected: 2 - Result: 1\n",
      "Processed 716/1000 - Expected: 2 - Result: 1\n",
      "Processed 717/1000 - Expected: 2 - Result: 1\n",
      "Processed 718/1000 - Expected: 2 - Result: 1\n",
      "Processed 719/1000 - Expected: 2 - Result: 1\n",
      "Processed 720/1000 - Expected: 2 - Result: 1\n",
      "Processed 721/1000 - Expected: 2 - Result: 1\n",
      "Processed 722/1000 - Expected: 2 - Result: 1\n"
     ]
    },
    {
     "name": "stderr",
     "output_type": "stream",
     "text": [
      "Failed to batch ingest runs: langsmith.utils.LangSmithRateLimitError: Rate limit exceeded for https://api.smith.langchain.com/runs/batch. HTTPError('429 Client Error: Too Many Requests for url: https://api.smith.langchain.com/runs/batch', '{\"error\":\"Too many requests: tenant exceeded usage limits: Monthly unique traces usage limit exceeded\"}\\n')\n",
      "post: trace=4b12a43a-cced-4c9f-af3d-36980e3535bf,id=4b12a43a-cced-4c9f-af3d-36980e3535bf; trace=4b12a43a-cced-4c9f-af3d-36980e3535bf,id=4e336265-5418-45cf-a872-c3fc0aee801f; trace=4b12a43a-cced-4c9f-af3d-36980e3535bf,id=2d964d6e-59a8-4a1e-b583-480b3edbbc4f; trace=bd214ac2-650e-44b0-b14f-34e91ef353dc,id=bd214ac2-650e-44b0-b14f-34e91ef353dc; trace=bd214ac2-650e-44b0-b14f-34e91ef353dc,id=f1b2414a-aee5-40fa-9e29-7dc5ccd9be02; trace=bd214ac2-650e-44b0-b14f-34e91ef353dc,id=b3d26dd6-0c94-47f0-93b1-67171bc2277f; trace=9743c961-1d55-4844-b12d-e9d8b8cdca33,id=9743c961-1d55-4844-b12d-e9d8b8cdca33; trace=9743c961-1d55-4844-b12d-e9d8b8cdca33,id=41a6309b-0dfe-4689-8357-81b2ae2100e3; trace=9743c961-1d55-4844-b12d-e9d8b8cdca33,id=ade2b60e-f37c-4d97-9ef0-62f443a710bf; trace=51b4adcb-01fd-4472-bf69-cd8f1bf2a740,id=51b4adcb-01fd-4472-bf69-cd8f1bf2a740; trace=51b4adcb-01fd-4472-bf69-cd8f1bf2a740,id=f9df9e16-a85f-4a8b-ba28-2cbf865f73c4; trace=51b4adcb-01fd-4472-bf69-cd8f1bf2a740,id=99052196-30c9-4b32-9b94-1544244dbca8; trace=1076a6ba-9e20-47bc-a82c-2ee64f075fd4,id=1076a6ba-9e20-47bc-a82c-2ee64f075fd4; trace=1076a6ba-9e20-47bc-a82c-2ee64f075fd4,id=1c8d7790-e8f0-4dd8-9ecf-c092e7b97d02; trace=1076a6ba-9e20-47bc-a82c-2ee64f075fd4,id=ca4943af-a311-42da-9a4c-7698436f69cf; trace=799ee7fa-e192-454a-adc3-f8b1eecdb1d1,id=799ee7fa-e192-454a-adc3-f8b1eecdb1d1; trace=799ee7fa-e192-454a-adc3-f8b1eecdb1d1,id=8e3c0479-4484-4a23-9a70-019fb8268ea4; trace=799ee7fa-e192-454a-adc3-f8b1eecdb1d1,id=069596cd-6a49-45c5-8ae5-e8216cb0501c; trace=127d8ccf-8bbf-42cb-a3b6-4c18d260802b,id=127d8ccf-8bbf-42cb-a3b6-4c18d260802b; trace=127d8ccf-8bbf-42cb-a3b6-4c18d260802b,id=b9c57681-8f11-4364-acbc-6c09ff7233db; trace=127d8ccf-8bbf-42cb-a3b6-4c18d260802b,id=dcdf4d20-20af-4db2-b359-cf571de0d731; trace=f3cdbc06-161b-4f44-999b-f50d7e73f3c4,id=f3cdbc06-161b-4f44-999b-f50d7e73f3c4; trace=f3cdbc06-161b-4f44-999b-f50d7e73f3c4,id=827b788c-c80d-4b3e-b879-5ba567cfff03; trace=f3cdbc06-161b-4f44-999b-f50d7e73f3c4,id=6cd53fb9-2ee7-4c35-ad82-9131fde95d2e; trace=d5001593-447a-4e99-aa1a-c3de1aaa3a74,id=d5001593-447a-4e99-aa1a-c3de1aaa3a74; trace=d5001593-447a-4e99-aa1a-c3de1aaa3a74,id=22b9b435-fb23-493d-8d08-c6db5ebdbf27; trace=d5001593-447a-4e99-aa1a-c3de1aaa3a74,id=b75a35ee-929e-48a7-be51-212efc2ed90e; trace=c59f44b3-c2dd-4a4b-be40-508d79c8b035,id=c59f44b3-c2dd-4a4b-be40-508d79c8b035; trace=c59f44b3-c2dd-4a4b-be40-508d79c8b035,id=0106a264-2f94-43c1-adf1-d94fcc3fe287; trace=c59f44b3-c2dd-4a4b-be40-508d79c8b035,id=1a64a9d7-0bca-4b14-a4d7-cac2d6743be3; trace=e32c9f87-3e17-45be-a1f1-fa03cd2f1e10,id=e32c9f87-3e17-45be-a1f1-fa03cd2f1e10; trace=e32c9f87-3e17-45be-a1f1-fa03cd2f1e10,id=b3523fd8-6ad2-4a59-b16d-0fe38f67f3c9; trace=e32c9f87-3e17-45be-a1f1-fa03cd2f1e10,id=544b1595-fe76-4a31-937c-0f9bb1bed603; trace=afa548a7-b0fa-4bfa-a399-d83ec50493e1,id=afa548a7-b0fa-4bfa-a399-d83ec50493e1; trace=afa548a7-b0fa-4bfa-a399-d83ec50493e1,id=44341bb6-e396-4a4e-9370-fe641d4ceb33; trace=afa548a7-b0fa-4bfa-a399-d83ec50493e1,id=4d0ce90b-6304-4fbd-9530-dd2ccddf5baf; trace=888e4f0b-a647-40a4-8f5a-fd6f6e06733d,id=888e4f0b-a647-40a4-8f5a-fd6f6e06733d; trace=888e4f0b-a647-40a4-8f5a-fd6f6e06733d,id=1537ef19-c3e3-4972-b95b-e4cf26ad2bff; trace=888e4f0b-a647-40a4-8f5a-fd6f6e06733d,id=20e3eb2a-95ce-438c-b0f9-54be80d1551d; trace=7ef1ddaf-7562-4970-826f-c402cc9548e7,id=7ef1ddaf-7562-4970-826f-c402cc9548e7; trace=7ef1ddaf-7562-4970-826f-c402cc9548e7,id=280f1ea2-39b1-461d-99c6-d18517d7fe6c; trace=7ef1ddaf-7562-4970-826f-c402cc9548e7,id=d5583975-92a8-444e-a75d-e0fb42832d3c\n"
     ]
    },
    {
     "name": "stdout",
     "output_type": "stream",
     "text": [
      "Processed 723/1000 - Expected: 2 - Result: 1\n",
      "Processed 724/1000 - Expected: 2 - Result: 1\n",
      "Processed 725/1000 - Expected: 2 - Result: 1\n",
      "Processed 726/1000 - Expected: 2 - Result: 1\n",
      "Processed 727/1000 - Expected: 2 - Result: 1\n",
      "Processed 728/1000 - Expected: 2 - Result: 1\n",
      "Processed 729/1000 - Expected: 2 - Result: 1\n",
      "Processed 730/1000 - Expected: 2 - Result: 1\n",
      "Processed 731/1000 - Expected: 2 - Result: 1\n",
      "Processed 732/1000 - Expected: 2 - Result: 1\n",
      "Processed 733/1000 - Expected: 2 - Result: 1\n",
      "Processed 734/1000 - Expected: 2 - Result: 1\n",
      "Processed 735/1000 - Expected: 2 - Result: 1\n",
      "Processed 736/1000 - Expected: 2 - Result: 1\n"
     ]
    },
    {
     "name": "stderr",
     "output_type": "stream",
     "text": [
      "Failed to batch ingest runs: langsmith.utils.LangSmithRateLimitError: Rate limit exceeded for https://api.smith.langchain.com/runs/batch. HTTPError('429 Client Error: Too Many Requests for url: https://api.smith.langchain.com/runs/batch', '{\"error\":\"Too many requests: tenant exceeded usage limits: Monthly unique traces usage limit exceeded\"}\\n')\n",
      "post: trace=94fcb2d5-529f-455a-a3f1-21d9ca570df2,id=94fcb2d5-529f-455a-a3f1-21d9ca570df2; trace=94fcb2d5-529f-455a-a3f1-21d9ca570df2,id=81de205b-a623-463d-a2c2-31f6f8690cf3; trace=94fcb2d5-529f-455a-a3f1-21d9ca570df2,id=938f501c-8223-4bd8-bfbc-6426f9e9501f; trace=a6b5978e-5cf7-4391-8990-2a3c740c06d2,id=a6b5978e-5cf7-4391-8990-2a3c740c06d2; trace=a6b5978e-5cf7-4391-8990-2a3c740c06d2,id=0b27a116-4d99-4968-a75a-55fd25a2fe7e; trace=a6b5978e-5cf7-4391-8990-2a3c740c06d2,id=bdd9203d-2f0b-451e-b840-6473f1d0cb5d; trace=f3cb28d6-055f-4a0c-b85f-f0df77a2ca0c,id=f3cb28d6-055f-4a0c-b85f-f0df77a2ca0c; trace=f3cb28d6-055f-4a0c-b85f-f0df77a2ca0c,id=e2bc400e-57c2-4dff-9a81-71ce58f4f2e8; trace=f3cb28d6-055f-4a0c-b85f-f0df77a2ca0c,id=f11bc60b-0737-482f-9573-b706cb8fb460; trace=2baa33ce-6cc6-4865-b49c-09b1d5a1e3e4,id=2baa33ce-6cc6-4865-b49c-09b1d5a1e3e4; trace=2baa33ce-6cc6-4865-b49c-09b1d5a1e3e4,id=73644074-b814-4379-a3e2-52d4e7846a7e; trace=2baa33ce-6cc6-4865-b49c-09b1d5a1e3e4,id=1a89bfbd-8699-4973-8f22-f4f89ee68d36; trace=d57067f0-9da4-41a2-9c35-093a115fa7e8,id=d57067f0-9da4-41a2-9c35-093a115fa7e8; trace=d57067f0-9da4-41a2-9c35-093a115fa7e8,id=90ac4e1d-2eaa-4623-8328-6ad141c186bc; trace=d57067f0-9da4-41a2-9c35-093a115fa7e8,id=f003b234-ac31-4924-b950-bac012edf034; trace=e61d5e97-4c6d-4a01-b907-5a46484f6e3a,id=e61d5e97-4c6d-4a01-b907-5a46484f6e3a; trace=e61d5e97-4c6d-4a01-b907-5a46484f6e3a,id=6d08ed5d-7c94-4980-b68a-3080e634b653; trace=e61d5e97-4c6d-4a01-b907-5a46484f6e3a,id=4d43259a-30d6-4dcc-ab96-dd265f2279b0; trace=50f476d1-73fb-44ce-b06f-95a88cd268f2,id=50f476d1-73fb-44ce-b06f-95a88cd268f2; trace=50f476d1-73fb-44ce-b06f-95a88cd268f2,id=37837e40-9a85-4d84-bc73-92e3d762fdde; trace=50f476d1-73fb-44ce-b06f-95a88cd268f2,id=37432b1c-1e66-4b7e-ae88-a26935168d08; trace=7e94373d-6418-40a1-8e58-f6c9a413119a,id=7e94373d-6418-40a1-8e58-f6c9a413119a; trace=7e94373d-6418-40a1-8e58-f6c9a413119a,id=aff698e5-4526-455f-8902-765f5cd6ed5f; trace=7e94373d-6418-40a1-8e58-f6c9a413119a,id=c4e10e39-8d7d-4369-af28-e1c9c182b2d5; trace=f19c0c8c-cf2e-4868-bb2a-53a6cd894873,id=f19c0c8c-cf2e-4868-bb2a-53a6cd894873; trace=f19c0c8c-cf2e-4868-bb2a-53a6cd894873,id=d9ab3dde-e76a-44c3-9e2e-5985e49bda0b; trace=f19c0c8c-cf2e-4868-bb2a-53a6cd894873,id=170dd4e0-52de-4075-b6ac-b2f596a3063d; trace=bd2a2f1a-c078-422f-94c3-9ab1c72ea2ab,id=bd2a2f1a-c078-422f-94c3-9ab1c72ea2ab; trace=bd2a2f1a-c078-422f-94c3-9ab1c72ea2ab,id=e4c4608b-dfaa-43af-ba98-3978ad3a0db0; trace=bd2a2f1a-c078-422f-94c3-9ab1c72ea2ab,id=91d6a719-e48e-4946-9e5f-d2de0869244b; trace=1d597267-38ac-4386-8234-64b68d0794b8,id=1d597267-38ac-4386-8234-64b68d0794b8; trace=1d597267-38ac-4386-8234-64b68d0794b8,id=2522af0c-c508-46ca-b825-18d877a2d100; trace=1d597267-38ac-4386-8234-64b68d0794b8,id=5fcfa5f8-764a-4ae1-96fa-6195a2d131c4; trace=21bfa124-1728-43e0-804c-9799cf71a3d9,id=21bfa124-1728-43e0-804c-9799cf71a3d9; trace=21bfa124-1728-43e0-804c-9799cf71a3d9,id=13c10238-ca71-4a0a-a6eb-2aca5e355f1f; trace=21bfa124-1728-43e0-804c-9799cf71a3d9,id=2395cdf9-1581-4586-9d46-3df308f7a611; trace=3a339e60-928e-4d0f-b3bb-c25dc302bb2b,id=3a339e60-928e-4d0f-b3bb-c25dc302bb2b; trace=3a339e60-928e-4d0f-b3bb-c25dc302bb2b,id=4c319324-8daa-459f-862a-91046fc020a0; trace=3a339e60-928e-4d0f-b3bb-c25dc302bb2b,id=0417f7f7-a0c6-4f10-b147-6aee485675dc\n"
     ]
    },
    {
     "name": "stdout",
     "output_type": "stream",
     "text": [
      "Processed 737/1000 - Expected: 2 - Result: 1\n",
      "Processed 738/1000 - Expected: 2 - Result: 1\n",
      "Processed 739/1000 - Expected: 2 - Result: 1\n",
      "Processed 740/1000 - Expected: 2 - Result: 1\n",
      "Processed 741/1000 - Expected: 2 - Result: 1\n",
      "Processed 742/1000 - Expected: 2 - Result: 1\n",
      "Processed 743/1000 - Expected: 2 - Result: 1\n",
      "Processed 744/1000 - Expected: 2 - Result: 1\n",
      "Processed 745/1000 - Expected: 2 - Result: 1\n",
      "Processed 746/1000 - Expected: 2 - Result: 1\n",
      "Processed 747/1000 - Expected: 2 - Result: 1\n",
      "Processed 748/1000 - Expected: 2 - Result: 1\n",
      "Processed 749/1000 - Expected: 2 - Result: 1\n"
     ]
    },
    {
     "name": "stderr",
     "output_type": "stream",
     "text": [
      "Failed to batch ingest runs: langsmith.utils.LangSmithRateLimitError: Rate limit exceeded for https://api.smith.langchain.com/runs/batch. HTTPError('429 Client Error: Too Many Requests for url: https://api.smith.langchain.com/runs/batch', '{\"error\":\"Too many requests: tenant exceeded usage limits: Monthly unique traces usage limit exceeded\"}\\n')\n",
      "post: trace=befef965-e88a-44c7-bf87-e9d346905112,id=befef965-e88a-44c7-bf87-e9d346905112; trace=befef965-e88a-44c7-bf87-e9d346905112,id=a1149420-9fc9-4288-9099-f6033dfe5edd; trace=befef965-e88a-44c7-bf87-e9d346905112,id=0830e94c-7b6f-40d3-8fdf-d65d3f714792; trace=1c6a0abc-4f00-46c0-8e34-db24ffc292ab,id=1c6a0abc-4f00-46c0-8e34-db24ffc292ab; trace=1c6a0abc-4f00-46c0-8e34-db24ffc292ab,id=6e5879b9-a019-4ef7-bdf4-0e8201c404f4; trace=1c6a0abc-4f00-46c0-8e34-db24ffc292ab,id=55869b05-d07c-4219-9f53-a100de893ab8; trace=26d05cbe-2a6f-4904-9370-c87dcb57a82a,id=26d05cbe-2a6f-4904-9370-c87dcb57a82a; trace=26d05cbe-2a6f-4904-9370-c87dcb57a82a,id=35a05ce1-f86f-4c96-a89c-e87ea57ed7f5; trace=26d05cbe-2a6f-4904-9370-c87dcb57a82a,id=45046511-7f46-4721-98be-c30784d0cb46; trace=127abf1e-cbfe-47e5-ab61-816d1b4be020,id=127abf1e-cbfe-47e5-ab61-816d1b4be020; trace=127abf1e-cbfe-47e5-ab61-816d1b4be020,id=967f6c80-81fc-4ec4-8428-9d46f07a18cc; trace=127abf1e-cbfe-47e5-ab61-816d1b4be020,id=7369fe2b-a40b-4f6b-bbf2-b0357ce113ad; trace=641b90b5-20f0-4be8-a4ef-979cf64ec934,id=641b90b5-20f0-4be8-a4ef-979cf64ec934; trace=641b90b5-20f0-4be8-a4ef-979cf64ec934,id=3ab0e37a-245e-4cf3-b4c4-bd6e933ce196; trace=641b90b5-20f0-4be8-a4ef-979cf64ec934,id=b9834787-0116-428c-9728-ecafd3dfc2f9; trace=75f68c21-8276-4c81-96c1-a13485242204,id=75f68c21-8276-4c81-96c1-a13485242204; trace=75f68c21-8276-4c81-96c1-a13485242204,id=a36d5672-2cf1-4172-9713-25f37aef8fd5; trace=75f68c21-8276-4c81-96c1-a13485242204,id=0744ea6b-94b9-4000-8b47-8b555889ad2c; trace=e2b0134b-eb97-4123-ad0f-e0e4511b503e,id=e2b0134b-eb97-4123-ad0f-e0e4511b503e; trace=e2b0134b-eb97-4123-ad0f-e0e4511b503e,id=0cc94564-0260-42fd-8b25-21e04ee850d5; trace=e2b0134b-eb97-4123-ad0f-e0e4511b503e,id=e0fd31ba-92a7-4d2f-9c44-6143833d97c6; trace=33d499a7-7fc3-479c-a917-a5dd97a4db59,id=33d499a7-7fc3-479c-a917-a5dd97a4db59; trace=33d499a7-7fc3-479c-a917-a5dd97a4db59,id=9150cafe-b5b2-480f-ae6a-687f02a9f113; trace=33d499a7-7fc3-479c-a917-a5dd97a4db59,id=45e74c15-cc0a-4de7-a85a-275c82968e27; trace=6f1a8974-0709-4b14-a4f1-73b6c9912f36,id=6f1a8974-0709-4b14-a4f1-73b6c9912f36; trace=6f1a8974-0709-4b14-a4f1-73b6c9912f36,id=6bf5ff02-0f35-4c4b-ab97-1c3055838fcc; trace=6f1a8974-0709-4b14-a4f1-73b6c9912f36,id=7a61fc71-011a-4ff8-9e27-56f49557c9ce; trace=9e1f25f4-81eb-4b9a-b048-b1a1b0d540b6,id=9e1f25f4-81eb-4b9a-b048-b1a1b0d540b6; trace=9e1f25f4-81eb-4b9a-b048-b1a1b0d540b6,id=24909f9d-f17b-4bab-b5b7-48346f587479; trace=9e1f25f4-81eb-4b9a-b048-b1a1b0d540b6,id=1b6c157c-bd56-49c8-bf5d-0d3bd61e663c; trace=0a5f8d0f-dd17-4841-9d38-df2bc810b3a4,id=0a5f8d0f-dd17-4841-9d38-df2bc810b3a4; trace=0a5f8d0f-dd17-4841-9d38-df2bc810b3a4,id=1ab899d9-e2df-4750-a267-d70b073b8a62; trace=0a5f8d0f-dd17-4841-9d38-df2bc810b3a4,id=06ac5088-bcca-40a2-bc31-8132b6d18624; trace=18fed8cd-cc0a-4f46-93d1-c646bfa0f68a,id=18fed8cd-cc0a-4f46-93d1-c646bfa0f68a; trace=18fed8cd-cc0a-4f46-93d1-c646bfa0f68a,id=51c47fa5-760c-41be-8642-b29d64ae3b1e; trace=18fed8cd-cc0a-4f46-93d1-c646bfa0f68a,id=1a19d58e-1083-4b7d-b4aa-5bb760b44c6b; trace=897b4c26-e916-432a-8dcb-8c8d83d9b9b0,id=897b4c26-e916-432a-8dcb-8c8d83d9b9b0; trace=897b4c26-e916-432a-8dcb-8c8d83d9b9b0,id=4873a592-f74d-466b-9514-03d4fcfa4313; trace=897b4c26-e916-432a-8dcb-8c8d83d9b9b0,id=7a5afb6f-c69c-4770-a7c3-b59249c0d940; trace=cb800cd2-672e-4d52-8c1d-055f41e7dfbe,id=cb800cd2-672e-4d52-8c1d-055f41e7dfbe; trace=cb800cd2-672e-4d52-8c1d-055f41e7dfbe,id=0240ba64-613a-4e78-9245-98e06a2c386a; trace=cb800cd2-672e-4d52-8c1d-055f41e7dfbe,id=65e6cfd5-3189-4004-b1d8-2f188d4a7258\n"
     ]
    },
    {
     "name": "stdout",
     "output_type": "stream",
     "text": [
      "Processed 750/1000 - Expected: 2 - Result: 1\n",
      "Processed 751/1000 - Expected: 3 - Result: 2\n",
      "Processed 752/1000 - Expected: 3 - Result: 2\n",
      "Processed 753/1000 - Expected: 3 - Result: 0\n",
      "Processed 754/1000 - Expected: 3 - Result: 2\n",
      "Processed 755/1000 - Expected: 3 - Result: 2\n",
      "Processed 756/1000 - Expected: 3 - Result: 2\n",
      "Processed 757/1000 - Expected: 3 - Result: 2\n",
      "Processed 758/1000 - Expected: 3 - Result: 2\n",
      "Processed 759/1000 - Expected: 3 - Result: 2\n",
      "Processed 760/1000 - Expected: 3 - Result: 2\n",
      "Processed 761/1000 - Expected: 3 - Result: 2\n",
      "Processed 762/1000 - Expected: 3 - Result: 2\n",
      "Processed 763/1000 - Expected: 3 - Result: 2\n"
     ]
    },
    {
     "name": "stderr",
     "output_type": "stream",
     "text": [
      "Failed to batch ingest runs: langsmith.utils.LangSmithRateLimitError: Rate limit exceeded for https://api.smith.langchain.com/runs/batch. HTTPError('429 Client Error: Too Many Requests for url: https://api.smith.langchain.com/runs/batch', '{\"error\":\"Too many requests: tenant exceeded usage limits: Monthly unique traces usage limit exceeded\"}\\n')\n",
      "post: trace=01dda5b5-3605-4a91-8c6a-cd3ebc1e806d,id=01dda5b5-3605-4a91-8c6a-cd3ebc1e806d; trace=01dda5b5-3605-4a91-8c6a-cd3ebc1e806d,id=d7137dbf-59f0-41cd-b595-7c371a6b81e8; trace=01dda5b5-3605-4a91-8c6a-cd3ebc1e806d,id=d7149422-444d-4e93-8ecb-8a962e77d3eb; trace=5e530404-e58d-4fe2-a855-5b3f42349ba0,id=5e530404-e58d-4fe2-a855-5b3f42349ba0; trace=5e530404-e58d-4fe2-a855-5b3f42349ba0,id=0ab3f885-9f81-4272-8202-e13a1c7c148c; trace=5e530404-e58d-4fe2-a855-5b3f42349ba0,id=55e54a6c-8b9a-42fa-b75d-898ea69b9689; trace=075573e7-0a17-4bf2-8607-6ad02e5c7a5c,id=075573e7-0a17-4bf2-8607-6ad02e5c7a5c; trace=075573e7-0a17-4bf2-8607-6ad02e5c7a5c,id=6f7cbb2e-7bf2-4b55-93a5-15356c9dc622; trace=075573e7-0a17-4bf2-8607-6ad02e5c7a5c,id=7758387a-ca1a-45e3-9a85-7e6b441d6064; trace=ad7862d7-355f-4b7f-ab18-4fcc7b1c2133,id=ad7862d7-355f-4b7f-ab18-4fcc7b1c2133; trace=ad7862d7-355f-4b7f-ab18-4fcc7b1c2133,id=d3c05f4c-72c5-4cfe-884f-2df44f9ed0ef; trace=ad7862d7-355f-4b7f-ab18-4fcc7b1c2133,id=eb7848cd-b063-4e01-9e72-04665dfffc7b; trace=807989c5-29c4-46b6-9846-994e3b610b6a,id=807989c5-29c4-46b6-9846-994e3b610b6a; trace=807989c5-29c4-46b6-9846-994e3b610b6a,id=23373bd1-20aa-4ef6-a5c6-aff51b24649f; trace=807989c5-29c4-46b6-9846-994e3b610b6a,id=90be8c43-6a41-42ee-b476-989ac9c2e78e; trace=be2915a0-4d78-489b-b93b-ac69255c2fdc,id=be2915a0-4d78-489b-b93b-ac69255c2fdc; trace=be2915a0-4d78-489b-b93b-ac69255c2fdc,id=751e4b6c-e2fd-4ec9-b2b9-3aed012eb4e0; trace=be2915a0-4d78-489b-b93b-ac69255c2fdc,id=69afb864-d7a7-41e0-ad55-70f531419f04; trace=f674ee5c-607d-43a7-b032-7e69ddee1d3e,id=f674ee5c-607d-43a7-b032-7e69ddee1d3e; trace=f674ee5c-607d-43a7-b032-7e69ddee1d3e,id=1af1af59-543a-4c2e-947c-996990b41ae0; trace=f674ee5c-607d-43a7-b032-7e69ddee1d3e,id=cf131ff4-6327-46e7-b56c-b28bb4965b5b; trace=38a727fa-f59d-4fb6-be99-a630607061ab,id=38a727fa-f59d-4fb6-be99-a630607061ab; trace=38a727fa-f59d-4fb6-be99-a630607061ab,id=0beb728e-e84f-41b8-bdf8-60df4ac5115a; trace=38a727fa-f59d-4fb6-be99-a630607061ab,id=e53b7f0d-8caa-4099-be4c-7d8e921f0a31; trace=9f4c5329-6c08-4c29-9d5b-691269b04b7e,id=9f4c5329-6c08-4c29-9d5b-691269b04b7e; trace=9f4c5329-6c08-4c29-9d5b-691269b04b7e,id=cc262d36-d617-468f-96ee-389f976da327; trace=9f4c5329-6c08-4c29-9d5b-691269b04b7e,id=ae31ede8-4d5d-486c-b888-4ea3beea8641; trace=0a8fdc2a-556e-4402-ae22-863f0d4cec43,id=0a8fdc2a-556e-4402-ae22-863f0d4cec43; trace=0a8fdc2a-556e-4402-ae22-863f0d4cec43,id=0f771cfe-8d71-4335-a857-9699d0199333; trace=0a8fdc2a-556e-4402-ae22-863f0d4cec43,id=77a6c084-a14b-44d3-81ba-9dcbb60a41c7; trace=5bd04938-fc09-42cd-8dcb-86c68e2377d2,id=5bd04938-fc09-42cd-8dcb-86c68e2377d2; trace=5bd04938-fc09-42cd-8dcb-86c68e2377d2,id=5cbdbedd-fb60-4447-84d9-80c001c633ba; trace=5bd04938-fc09-42cd-8dcb-86c68e2377d2,id=80490729-315e-4ed9-ba6a-16930ea97071; trace=89d8030f-f4e1-4fb1-a896-2bf4c720312c,id=89d8030f-f4e1-4fb1-a896-2bf4c720312c; trace=89d8030f-f4e1-4fb1-a896-2bf4c720312c,id=7ccecd27-f23f-4864-84a9-38a4fa8e516d; trace=89d8030f-f4e1-4fb1-a896-2bf4c720312c,id=9ac941f9-dafb-4f5a-8f5a-a26f562fe920; trace=04b0fa0e-a78b-4a8a-8193-a184546433a4,id=04b0fa0e-a78b-4a8a-8193-a184546433a4; trace=04b0fa0e-a78b-4a8a-8193-a184546433a4,id=531fbd33-dd03-4b67-95b1-29e1d69161e4; trace=04b0fa0e-a78b-4a8a-8193-a184546433a4,id=4409c86a-735e-4e4a-a204-73a9a7b632d2; trace=1eab292c-6b4d-4848-94ce-68cd8198531a,id=1eab292c-6b4d-4848-94ce-68cd8198531a; trace=1eab292c-6b4d-4848-94ce-68cd8198531a,id=088531af-01cc-4f79-a3e6-ca475db253ff; trace=1eab292c-6b4d-4848-94ce-68cd8198531a,id=faa80816-8e77-44b7-871a-d318f3e937bb\n"
     ]
    },
    {
     "name": "stdout",
     "output_type": "stream",
     "text": [
      "Processed 764/1000 - Expected: 3 - Result: 0\n",
      "Processed 765/1000 - Expected: 3 - Result: 0\n",
      "Processed 766/1000 - Expected: 3 - Result: 2\n",
      "Processed 767/1000 - Expected: 3 - Result: 2\n",
      "Processed 768/1000 - Expected: 3 - Result: 2\n",
      "Processed 769/1000 - Expected: 3 - Result: 2\n",
      "Processed 770/1000 - Expected: 3 - Result: 2\n",
      "Processed 771/1000 - Expected: 3 - Result: 2\n",
      "Processed 772/1000 - Expected: 3 - Result: 2\n",
      "Processed 773/1000 - Expected: 3 - Result: 2\n",
      "Processed 774/1000 - Expected: 3 - Result: 2\n",
      "Processed 775/1000 - Expected: 3 - Result: 2\n",
      "Processed 776/1000 - Expected: 3 - Result: 2\n",
      "Processed 777/1000 - Expected: 3 - Result: 2\n"
     ]
    },
    {
     "name": "stderr",
     "output_type": "stream",
     "text": [
      "Failed to batch ingest runs: langsmith.utils.LangSmithRateLimitError: Rate limit exceeded for https://api.smith.langchain.com/runs/batch. HTTPError('429 Client Error: Too Many Requests for url: https://api.smith.langchain.com/runs/batch', '{\"error\":\"Too many requests: tenant exceeded usage limits: Monthly unique traces usage limit exceeded\"}\\n')\n",
      "post: trace=9c0b08b3-f430-4e81-9dc4-85011e9b5772,id=9c0b08b3-f430-4e81-9dc4-85011e9b5772; trace=9c0b08b3-f430-4e81-9dc4-85011e9b5772,id=97b14bb9-1090-4757-8cae-22ea2e635080; trace=9c0b08b3-f430-4e81-9dc4-85011e9b5772,id=596382c7-0a25-43ae-9ddf-3207710081c5; trace=d1061d3c-c17a-424f-b23e-f429806659de,id=d1061d3c-c17a-424f-b23e-f429806659de; trace=d1061d3c-c17a-424f-b23e-f429806659de,id=b7565933-69e7-4908-89a2-ca4e75c6be2b; trace=d1061d3c-c17a-424f-b23e-f429806659de,id=7f89e42c-ad17-4344-8bae-242f527f3136; trace=e2670e69-d9be-42bb-8c53-ef3ac25050bd,id=e2670e69-d9be-42bb-8c53-ef3ac25050bd; trace=e2670e69-d9be-42bb-8c53-ef3ac25050bd,id=6384d33c-801e-4639-918b-39ebf90a4695; trace=e2670e69-d9be-42bb-8c53-ef3ac25050bd,id=bd1ce0c5-010a-4b73-b5fd-3b45e7f0dd15; trace=f9620010-7245-416e-96ce-ccaf33b9e7f5,id=f9620010-7245-416e-96ce-ccaf33b9e7f5; trace=f9620010-7245-416e-96ce-ccaf33b9e7f5,id=48a8b6f9-3865-45d7-8841-76cae81e6cd5; trace=f9620010-7245-416e-96ce-ccaf33b9e7f5,id=c40be6b1-0908-4fde-b4e4-d559bf7a120e; trace=73a53b8d-64e9-4e74-9eb9-22df28afd900,id=73a53b8d-64e9-4e74-9eb9-22df28afd900; trace=73a53b8d-64e9-4e74-9eb9-22df28afd900,id=e0195a9e-74a5-400c-aba8-d82af74e724e; trace=73a53b8d-64e9-4e74-9eb9-22df28afd900,id=e730df39-9ad0-44c8-ad15-e96481ab017a; trace=b638abfb-b99e-4c29-a276-3d4b28682813,id=b638abfb-b99e-4c29-a276-3d4b28682813; trace=b638abfb-b99e-4c29-a276-3d4b28682813,id=78c75b25-08de-4f35-9e36-c4042a1693a7; trace=b638abfb-b99e-4c29-a276-3d4b28682813,id=0a34c034-4953-4a86-954e-4cfcd2afde67; trace=52a25c12-8ccf-4919-ae5e-896750fc3148,id=52a25c12-8ccf-4919-ae5e-896750fc3148; trace=52a25c12-8ccf-4919-ae5e-896750fc3148,id=8d094e8e-447c-43b6-b6a9-f24917c7b0c8; trace=52a25c12-8ccf-4919-ae5e-896750fc3148,id=a3f33438-8600-4aa9-900c-1a733a4d92e0; trace=e0510c3a-0c82-4ca0-90e8-ae3f4440b179,id=e0510c3a-0c82-4ca0-90e8-ae3f4440b179; trace=e0510c3a-0c82-4ca0-90e8-ae3f4440b179,id=a5078814-023d-4d71-ba9f-14fb7d977cab; trace=e0510c3a-0c82-4ca0-90e8-ae3f4440b179,id=6a6e054e-626d-43bf-ac12-8737d3e68b77; trace=4e5ee844-e40e-4502-a28d-3c949443b8dd,id=4e5ee844-e40e-4502-a28d-3c949443b8dd; trace=4e5ee844-e40e-4502-a28d-3c949443b8dd,id=cb7645f6-f0d3-4e72-87b9-b108d083de4d; trace=4e5ee844-e40e-4502-a28d-3c949443b8dd,id=b8fda988-7153-4dbb-af2c-248f642d6d9d; trace=e070ed67-a470-49fb-ad78-e2e237f47a82,id=e070ed67-a470-49fb-ad78-e2e237f47a82; trace=e070ed67-a470-49fb-ad78-e2e237f47a82,id=a7947cc6-e633-4ebf-938a-17412af3fed8; trace=e070ed67-a470-49fb-ad78-e2e237f47a82,id=4e122fe3-de81-41a6-8baa-d1c98e0b8aa9; trace=553482fe-10cb-4b1f-9f6a-48c3ea987148,id=553482fe-10cb-4b1f-9f6a-48c3ea987148; trace=553482fe-10cb-4b1f-9f6a-48c3ea987148,id=7ed1cdbb-6b20-410e-9244-6648eacac77d; trace=553482fe-10cb-4b1f-9f6a-48c3ea987148,id=4d726321-c864-463d-a078-e5b2392e7f17; trace=9faea41a-b4ff-41e6-8c4e-5a99a85707ec,id=9faea41a-b4ff-41e6-8c4e-5a99a85707ec; trace=9faea41a-b4ff-41e6-8c4e-5a99a85707ec,id=b83c2c03-3b61-46be-b55e-740021cb3bd5; trace=9faea41a-b4ff-41e6-8c4e-5a99a85707ec,id=7dbf2c8a-0ff7-48cb-887f-8bd75e19ecc1; trace=88665ce5-a402-432a-ae24-a317263ee48d,id=88665ce5-a402-432a-ae24-a317263ee48d; trace=88665ce5-a402-432a-ae24-a317263ee48d,id=6ffa733a-183d-49c0-8f10-7de35224ccf7; trace=88665ce5-a402-432a-ae24-a317263ee48d,id=59e05b16-a357-4a89-a458-db1f27bd6860; trace=d3e89c2c-e07c-4c8f-b436-92a955a10fdb,id=d3e89c2c-e07c-4c8f-b436-92a955a10fdb; trace=d3e89c2c-e07c-4c8f-b436-92a955a10fdb,id=2be85529-eef2-4b4f-8cd8-022239e4130f\n"
     ]
    },
    {
     "name": "stdout",
     "output_type": "stream",
     "text": [
      "Processed 778/1000 - Expected: 3 - Result: 2\n",
      "Processed 779/1000 - Expected: 3 - Result: 2\n",
      "Processed 780/1000 - Expected: 3 - Result: 2\n",
      "Processed 781/1000 - Expected: 3 - Result: 2\n",
      "Processed 782/1000 - Expected: 3 - Result: 2\n",
      "Processed 783/1000 - Expected: 3 - Result: 2\n",
      "Processed 784/1000 - Expected: 3 - Result: 2\n",
      "Processed 785/1000 - Expected: 3 - Result: 2\n",
      "Processed 786/1000 - Expected: 3 - Result: 2\n",
      "Processed 787/1000 - Expected: 3 - Result: 2\n",
      "Processed 788/1000 - Expected: 3 - Result: 2\n",
      "Processed 789/1000 - Expected: 3 - Result: 2\n",
      "Processed 790/1000 - Expected: 3 - Result: 2\n",
      "Processed 791/1000 - Expected: 3 - Result: 2\n",
      "Processed 792/1000 - Expected: 3 - Result: 2\n"
     ]
    },
    {
     "name": "stderr",
     "output_type": "stream",
     "text": [
      "Failed to batch ingest runs: langsmith.utils.LangSmithRateLimitError: Rate limit exceeded for https://api.smith.langchain.com/runs/batch. HTTPError('429 Client Error: Too Many Requests for url: https://api.smith.langchain.com/runs/batch', '{\"error\":\"Too many requests: tenant exceeded usage limits: Monthly unique traces usage limit exceeded\"}\\n')\n",
      "post: trace=d3e89c2c-e07c-4c8f-b436-92a955a10fdb,id=a1f0b291-72bf-4ed5-b581-498f6bb702fd; trace=d4c7afb2-e464-4738-9aa0-39ae27aa0bdf,id=d4c7afb2-e464-4738-9aa0-39ae27aa0bdf; trace=d4c7afb2-e464-4738-9aa0-39ae27aa0bdf,id=a0d27b24-2b30-4c7f-a872-f0bf3d7f63a9; trace=d4c7afb2-e464-4738-9aa0-39ae27aa0bdf,id=d6e2c977-a3b5-4080-8ba5-83ed5ab0c1e4; trace=944a4eb1-c4ce-4396-b4b1-fde486b31288,id=944a4eb1-c4ce-4396-b4b1-fde486b31288; trace=944a4eb1-c4ce-4396-b4b1-fde486b31288,id=f593cbf2-11db-493d-bb03-5c34c64a8625; trace=944a4eb1-c4ce-4396-b4b1-fde486b31288,id=663717b0-b255-4c09-9914-4ca34b1bdc24; trace=84f9a03c-6d9b-4877-918c-2388a0683281,id=84f9a03c-6d9b-4877-918c-2388a0683281; trace=84f9a03c-6d9b-4877-918c-2388a0683281,id=7b40db3b-fdff-470e-9210-301e2ef26ebe; trace=84f9a03c-6d9b-4877-918c-2388a0683281,id=468ce1cb-9bca-4cd6-bf42-1f9172fd8581; trace=3b5f192f-a280-41b5-b1d2-15a85f57623f,id=3b5f192f-a280-41b5-b1d2-15a85f57623f; trace=3b5f192f-a280-41b5-b1d2-15a85f57623f,id=7003bd60-37a3-4bff-9543-09e39818e84b; trace=3b5f192f-a280-41b5-b1d2-15a85f57623f,id=a5357993-0271-4289-8c1c-80da0f650d34; trace=d8e387c6-9bbd-4539-b449-dac767dc6347,id=d8e387c6-9bbd-4539-b449-dac767dc6347; trace=d8e387c6-9bbd-4539-b449-dac767dc6347,id=ca002938-07a1-4588-b9b5-8655da0803ec; trace=d8e387c6-9bbd-4539-b449-dac767dc6347,id=db4b611f-a840-40a9-9afc-cd2532cb7db9; trace=dbbeccca-b966-4c0c-b3e8-4558e3c5f4d1,id=dbbeccca-b966-4c0c-b3e8-4558e3c5f4d1; trace=dbbeccca-b966-4c0c-b3e8-4558e3c5f4d1,id=a1dc48fc-b0c4-4e00-ae3d-f95e922cbe00; trace=dbbeccca-b966-4c0c-b3e8-4558e3c5f4d1,id=a29d185f-f153-4ff5-9ce6-0d2ecd9ad066; trace=d8d48265-53fc-4e96-b021-1a497081ab9b,id=d8d48265-53fc-4e96-b021-1a497081ab9b; trace=d8d48265-53fc-4e96-b021-1a497081ab9b,id=4b45c62a-a6aa-485b-8227-9fe037929a2e; trace=d8d48265-53fc-4e96-b021-1a497081ab9b,id=a1169331-98e1-424a-a44f-8b783dc66da1; trace=8220fa1a-edf5-453f-aaf6-2d043be694eb,id=8220fa1a-edf5-453f-aaf6-2d043be694eb; trace=8220fa1a-edf5-453f-aaf6-2d043be694eb,id=4cfc1b10-bc72-48d4-9c9a-986266f7cf84; trace=8220fa1a-edf5-453f-aaf6-2d043be694eb,id=dab42027-6c63-4b96-97d2-f8495463d830; trace=eea42347-6a1e-4751-9325-1056954b26c4,id=eea42347-6a1e-4751-9325-1056954b26c4; trace=eea42347-6a1e-4751-9325-1056954b26c4,id=1e20bb8e-5ff1-46ba-8994-69d37a114bb3; trace=eea42347-6a1e-4751-9325-1056954b26c4,id=2585a6a4-1378-4cb0-86a3-944ef3de3fb4; trace=cf543811-48f1-4bdb-9cc9-d52e05f44a45,id=cf543811-48f1-4bdb-9cc9-d52e05f44a45; trace=cf543811-48f1-4bdb-9cc9-d52e05f44a45,id=979a365a-0149-4e54-8a29-fce4d061ee43; trace=cf543811-48f1-4bdb-9cc9-d52e05f44a45,id=6ff86474-ba8f-46d5-b23c-be6db52e3582; trace=fe8f37fd-604b-48e7-a55e-d6574a5390c7,id=fe8f37fd-604b-48e7-a55e-d6574a5390c7; trace=fe8f37fd-604b-48e7-a55e-d6574a5390c7,id=89c86d2f-f598-40ad-87fc-3f53238d5c3f; trace=fe8f37fd-604b-48e7-a55e-d6574a5390c7,id=ae96124c-bbaa-4f3e-8f9b-2f68b5062833; trace=b949b01d-e429-473e-a99a-1c26e411859c,id=b949b01d-e429-473e-a99a-1c26e411859c; trace=b949b01d-e429-473e-a99a-1c26e411859c,id=6b4974f3-383c-4e30-a4a3-aac4870423f2; trace=b949b01d-e429-473e-a99a-1c26e411859c,id=b40b209d-5744-4267-af47-bba0b253f184; trace=dbcc6abd-1d94-4db7-8ac5-e3111fae3bbd,id=dbcc6abd-1d94-4db7-8ac5-e3111fae3bbd; trace=dbcc6abd-1d94-4db7-8ac5-e3111fae3bbd,id=212c9944-4bdd-441e-8a2b-252c43647d15; trace=dbcc6abd-1d94-4db7-8ac5-e3111fae3bbd,id=43280057-a082-4dea-8c26-96e3c6aab03f; patch: trace=d3e89c2c-e07c-4c8f-b436-92a955a10fdb,id=d3e89c2c-e07c-4c8f-b436-92a955a10fdb; trace=d3e89c2c-e07c-4c8f-b436-92a955a10fdb,id=2be85529-eef2-4b4f-8cd8-022239e4130f\n"
     ]
    },
    {
     "name": "stdout",
     "output_type": "stream",
     "text": [
      "Processed 793/1000 - Expected: 3 - Result: 2\n",
      "Processed 794/1000 - Expected: 3 - Result: 2\n",
      "Processed 795/1000 - Expected: 3 - Result: 2\n",
      "Processed 796/1000 - Expected: 3 - Result: 2\n",
      "Processed 797/1000 - Expected: 3 - Result: 2\n",
      "Processed 798/1000 - Expected: 3 - Result: 2\n",
      "Processed 799/1000 - Expected: 3 - Result: 2\n",
      "Processed 800/1000 - Expected: 3 - Result: 2\n",
      "Processed 801/1000 - Expected: 3 - Result: 2\n",
      "Processed 802/1000 - Expected: 3 - Result: 2\n",
      "Processed 803/1000 - Expected: 3 - Result: 2\n",
      "Processed 804/1000 - Expected: 3 - Result: 2\n",
      "Processed 805/1000 - Expected: 3 - Result: 2\n",
      "Processed 806/1000 - Expected: 3 - Result: 2\n",
      "Processed 807/1000 - Expected: 3 - Result: 2\n"
     ]
    },
    {
     "name": "stderr",
     "output_type": "stream",
     "text": [
      "Failed to batch ingest runs: langsmith.utils.LangSmithRateLimitError: Rate limit exceeded for https://api.smith.langchain.com/runs/batch. HTTPError('429 Client Error: Too Many Requests for url: https://api.smith.langchain.com/runs/batch', '{\"error\":\"Too many requests: tenant exceeded usage limits: Monthly unique traces usage limit exceeded\"}\\n')\n",
      "post: trace=3abb6e97-8f2b-4832-8c6f-678b6c882026,id=3abb6e97-8f2b-4832-8c6f-678b6c882026; trace=3abb6e97-8f2b-4832-8c6f-678b6c882026,id=d571fa86-1227-4920-8023-724ad83ff913; trace=3abb6e97-8f2b-4832-8c6f-678b6c882026,id=5837a428-a74d-4538-b840-c626d8cd95e9; trace=657cfa62-cf18-4f6d-bdbc-ac9a9a72d9a4,id=657cfa62-cf18-4f6d-bdbc-ac9a9a72d9a4; trace=657cfa62-cf18-4f6d-bdbc-ac9a9a72d9a4,id=4fad3768-015b-4df6-b16d-023bd7ccd787; trace=657cfa62-cf18-4f6d-bdbc-ac9a9a72d9a4,id=ff934e8f-8ec4-48b4-aeab-1c1d8456fd4c; trace=2c48d6a7-8205-4e4b-a216-0368735708d3,id=2c48d6a7-8205-4e4b-a216-0368735708d3; trace=2c48d6a7-8205-4e4b-a216-0368735708d3,id=7de00298-f738-4285-b239-ea476459395f; trace=2c48d6a7-8205-4e4b-a216-0368735708d3,id=28edd570-6cbc-42d6-94f1-82c28869c913; trace=647ad7ce-2e2f-4837-900c-76bff487275d,id=647ad7ce-2e2f-4837-900c-76bff487275d; trace=647ad7ce-2e2f-4837-900c-76bff487275d,id=d086acc0-85d3-4728-9417-6508f96c4b5a; trace=647ad7ce-2e2f-4837-900c-76bff487275d,id=6b92189f-d2f0-4756-ae97-b5fcb14fd113; trace=deddd91b-e27e-4a6d-aa7a-a875a7b01e49,id=deddd91b-e27e-4a6d-aa7a-a875a7b01e49; trace=deddd91b-e27e-4a6d-aa7a-a875a7b01e49,id=ae1430db-0445-44fb-b071-a1ec7c3c3b4c; trace=deddd91b-e27e-4a6d-aa7a-a875a7b01e49,id=c685607f-4b4b-4fd1-874e-319c90920d3a; trace=31eeb662-77f0-4a77-83e5-c3f92ac4c3b4,id=31eeb662-77f0-4a77-83e5-c3f92ac4c3b4; trace=31eeb662-77f0-4a77-83e5-c3f92ac4c3b4,id=f50c2542-6b56-4a5c-a598-c7733999d05b; trace=31eeb662-77f0-4a77-83e5-c3f92ac4c3b4,id=b48234f8-081b-490b-84c2-78722bb5823a; trace=5581e3b9-e3c7-4f9b-9938-fa4cf7261c51,id=5581e3b9-e3c7-4f9b-9938-fa4cf7261c51; trace=5581e3b9-e3c7-4f9b-9938-fa4cf7261c51,id=2adedeea-ce35-4f7c-b7c3-339d268f5611; trace=5581e3b9-e3c7-4f9b-9938-fa4cf7261c51,id=b2c2bbbf-d67e-43dd-b6f2-559a068f0199; trace=b4daaa64-8bfa-49c4-8ca7-3f2f54d85940,id=b4daaa64-8bfa-49c4-8ca7-3f2f54d85940; trace=b4daaa64-8bfa-49c4-8ca7-3f2f54d85940,id=94046853-666a-4818-b645-6b40b4664023; trace=b4daaa64-8bfa-49c4-8ca7-3f2f54d85940,id=8455d0da-928a-4fbd-ba3a-ca280db43d3e; trace=1215fda4-bed4-4ba2-85da-4606eaf349d8,id=1215fda4-bed4-4ba2-85da-4606eaf349d8; trace=1215fda4-bed4-4ba2-85da-4606eaf349d8,id=c94860e4-6351-42c3-bdb1-e759ed23ea18; trace=1215fda4-bed4-4ba2-85da-4606eaf349d8,id=08db22a0-9dd3-40d3-8de1-a4768cdba27e; trace=1c17a3a1-c62e-468f-8351-10abddf21aaf,id=1c17a3a1-c62e-468f-8351-10abddf21aaf; trace=1c17a3a1-c62e-468f-8351-10abddf21aaf,id=ecfe0290-6d93-4fc1-9c40-1018d26294eb; trace=1c17a3a1-c62e-468f-8351-10abddf21aaf,id=c3c54d89-2767-46aa-963a-b62a5fb50f83; trace=947d104e-2b31-4517-84c3-1d0b11ac4835,id=947d104e-2b31-4517-84c3-1d0b11ac4835; trace=947d104e-2b31-4517-84c3-1d0b11ac4835,id=e7d6705a-869c-41e6-8734-8075765d2bf1; trace=947d104e-2b31-4517-84c3-1d0b11ac4835,id=9168aeef-4738-433e-bde5-8b83b526c425; trace=cfd7bb18-687a-4ea3-8bfc-089add605726,id=cfd7bb18-687a-4ea3-8bfc-089add605726; trace=cfd7bb18-687a-4ea3-8bfc-089add605726,id=3aaca574-6cb9-4fcb-8ace-49dab726db92; trace=cfd7bb18-687a-4ea3-8bfc-089add605726,id=c634f2df-e3ce-40c5-88e0-f8d3699c6929; trace=5c787c7b-faa6-4b69-b4eb-9edd30b950bb,id=5c787c7b-faa6-4b69-b4eb-9edd30b950bb; trace=5c787c7b-faa6-4b69-b4eb-9edd30b950bb,id=d7f43c6e-f82e-451d-9c85-68b028096011; trace=5c787c7b-faa6-4b69-b4eb-9edd30b950bb,id=69ffe0bb-402f-4346-a579-81a042e946bb; trace=812e5489-26b9-48d9-9eb4-04bd2ffe065f,id=812e5489-26b9-48d9-9eb4-04bd2ffe065f; trace=812e5489-26b9-48d9-9eb4-04bd2ffe065f,id=d61ab512-4588-4b4b-8c92-20b0f42e69d0; trace=812e5489-26b9-48d9-9eb4-04bd2ffe065f,id=29c31a70-0942-4a88-a62a-c952667f5b83; trace=ea871e3a-66f4-413e-bb15-233ef17ddefb,id=ea871e3a-66f4-413e-bb15-233ef17ddefb; trace=ea871e3a-66f4-413e-bb15-233ef17ddefb,id=83574ea9-201e-4a44-a9e5-8be263f551e1; trace=ea871e3a-66f4-413e-bb15-233ef17ddefb,id=84d43562-e101-41fd-ba02-2fdf103950de\n"
     ]
    },
    {
     "name": "stdout",
     "output_type": "stream",
     "text": [
      "Processed 808/1000 - Expected: 3 - Result: 2\n",
      "Processed 809/1000 - Expected: 3 - Result: 2\n",
      "Processed 810/1000 - Expected: 3 - Result: 1\n",
      "Processed 811/1000 - Expected: 3 - Result: 2\n",
      "Processed 812/1000 - Expected: 3 - Result: 2\n",
      "Processed 813/1000 - Expected: 3 - Result: 2\n",
      "Processed 814/1000 - Expected: 3 - Result: 2\n",
      "Processed 815/1000 - Expected: 3 - Result: 2\n",
      "Processed 816/1000 - Expected: 3 - Result: 2\n",
      "Processed 817/1000 - Expected: 3 - Result: 2\n",
      "Processed 818/1000 - Expected: 3 - Result: 2\n",
      "Processed 819/1000 - Expected: 3 - Result: 2\n",
      "Processed 820/1000 - Expected: 3 - Result: 2\n",
      "Processed 821/1000 - Expected: 3 - Result: 2\n"
     ]
    },
    {
     "name": "stderr",
     "output_type": "stream",
     "text": [
      "Failed to batch ingest runs: langsmith.utils.LangSmithRateLimitError: Rate limit exceeded for https://api.smith.langchain.com/runs/batch. HTTPError('429 Client Error: Too Many Requests for url: https://api.smith.langchain.com/runs/batch', '{\"error\":\"Too many requests: tenant exceeded usage limits: Monthly unique traces usage limit exceeded\"}\\n')\n",
      "post: trace=d72f5126-f73b-41fe-bb04-8332157c9532,id=d72f5126-f73b-41fe-bb04-8332157c9532; trace=d72f5126-f73b-41fe-bb04-8332157c9532,id=8ef28e76-3eac-452b-8471-f72734e7328d; trace=d72f5126-f73b-41fe-bb04-8332157c9532,id=a52388bf-e563-4f54-a867-5356cbb6e153; trace=09ccc5de-633d-4bae-b5c8-408ff4bdd662,id=09ccc5de-633d-4bae-b5c8-408ff4bdd662; trace=09ccc5de-633d-4bae-b5c8-408ff4bdd662,id=afec2f35-98fc-4239-9b1f-926303bdcc38; trace=09ccc5de-633d-4bae-b5c8-408ff4bdd662,id=56eff035-2ccd-47fc-aef2-96046c9f9e77; trace=9edad00d-5e74-4de2-b568-2522ce5d94ae,id=9edad00d-5e74-4de2-b568-2522ce5d94ae; trace=9edad00d-5e74-4de2-b568-2522ce5d94ae,id=66018149-8825-4fe2-94c3-e5cdd0bcd1a8; trace=9edad00d-5e74-4de2-b568-2522ce5d94ae,id=2da46bfd-0b97-4acf-86a5-24478aef504e; trace=11336b6a-01c6-40d9-9b07-fc074dae4193,id=11336b6a-01c6-40d9-9b07-fc074dae4193; trace=11336b6a-01c6-40d9-9b07-fc074dae4193,id=486000be-3fd1-471e-a72b-313fcd767f9f; trace=11336b6a-01c6-40d9-9b07-fc074dae4193,id=b706a97a-c668-485c-a006-9490019f375e; trace=2d0a8850-7064-48b6-a4bd-e6e1b4d97d99,id=2d0a8850-7064-48b6-a4bd-e6e1b4d97d99; trace=2d0a8850-7064-48b6-a4bd-e6e1b4d97d99,id=0b6d63a0-95de-4bc0-be20-a5cee13a947a; trace=2d0a8850-7064-48b6-a4bd-e6e1b4d97d99,id=9dba245e-9101-4e4a-bd39-169a843d4c32; trace=3ed8e0b6-7908-4ff1-bbec-51b02d898152,id=3ed8e0b6-7908-4ff1-bbec-51b02d898152; trace=3ed8e0b6-7908-4ff1-bbec-51b02d898152,id=b36a74f5-891d-4bbc-99f9-541d5c0df5d0; trace=3ed8e0b6-7908-4ff1-bbec-51b02d898152,id=3cc33a7a-f64f-4fea-bc12-139cd42cbef7; trace=1d108482-7078-4e1a-95c0-9d2a64c0af76,id=1d108482-7078-4e1a-95c0-9d2a64c0af76; trace=1d108482-7078-4e1a-95c0-9d2a64c0af76,id=5f5c6e7e-0cb6-403b-b5fb-f91f6149e9a0; trace=1d108482-7078-4e1a-95c0-9d2a64c0af76,id=d40cb70d-6b02-44d5-bbd8-27b75220fd54; trace=6298e2bc-4958-43fe-993d-e71946055585,id=6298e2bc-4958-43fe-993d-e71946055585; trace=6298e2bc-4958-43fe-993d-e71946055585,id=fae4a4be-f03a-4f71-8a47-3c206e3af81f; trace=6298e2bc-4958-43fe-993d-e71946055585,id=143551ee-2b12-4516-8db7-9ea1ba78b0c6; trace=7e53b417-f55f-410b-b63c-e3bc0c632c1c,id=7e53b417-f55f-410b-b63c-e3bc0c632c1c; trace=7e53b417-f55f-410b-b63c-e3bc0c632c1c,id=fb09de6f-cb24-4c9e-8b3c-469f288b12af; trace=7e53b417-f55f-410b-b63c-e3bc0c632c1c,id=6a714070-d0d4-47dd-9108-486c6ea1e9bf; trace=14e6cf31-2754-458b-b70c-9513e332f381,id=14e6cf31-2754-458b-b70c-9513e332f381; trace=14e6cf31-2754-458b-b70c-9513e332f381,id=52b5ae2d-1751-4ecd-8c1c-2c76f281dca7; trace=14e6cf31-2754-458b-b70c-9513e332f381,id=70bcbdf5-e965-4e15-90ba-679cfaad14c7; trace=4e67c3e4-ec0c-4dd8-9cd1-c755a4e1c733,id=4e67c3e4-ec0c-4dd8-9cd1-c755a4e1c733; trace=4e67c3e4-ec0c-4dd8-9cd1-c755a4e1c733,id=d3c93d5e-b7fd-414a-b2e0-fe80a15706a0; trace=4e67c3e4-ec0c-4dd8-9cd1-c755a4e1c733,id=2c581fa6-6007-4128-b349-70f18f8fa7b1; trace=b9a135c9-733b-48aa-8222-2e3d88a7b7b0,id=b9a135c9-733b-48aa-8222-2e3d88a7b7b0; trace=b9a135c9-733b-48aa-8222-2e3d88a7b7b0,id=06b5313a-f636-477a-99b4-f7cb9d72ca31; trace=b9a135c9-733b-48aa-8222-2e3d88a7b7b0,id=a00e63e1-e614-46ae-a4ce-7e1b39265061; trace=11d2153b-a688-4067-b2f7-9ecb288ded1e,id=11d2153b-a688-4067-b2f7-9ecb288ded1e; trace=11d2153b-a688-4067-b2f7-9ecb288ded1e,id=b6f82fbd-8dcf-44d8-9902-3b490b8a3b95; trace=11d2153b-a688-4067-b2f7-9ecb288ded1e,id=1a44286d-61de-4707-a418-24afb3c55c96; trace=4f7ed900-1cec-4030-b9b3-478c09b25f7b,id=4f7ed900-1cec-4030-b9b3-478c09b25f7b; trace=4f7ed900-1cec-4030-b9b3-478c09b25f7b,id=a7065d2e-cdef-44a1-b9d3-e51a109e1618; trace=4f7ed900-1cec-4030-b9b3-478c09b25f7b,id=158fd817-564d-4084-ba9e-dacf659c9c1f; trace=fffaedd9-dc07-4c8a-9b32-a5ab3d6b8c48,id=fffaedd9-dc07-4c8a-9b32-a5ab3d6b8c48; trace=fffaedd9-dc07-4c8a-9b32-a5ab3d6b8c48,id=a3ad8840-1b70-4f65-b586-ff8d981d13c2; trace=fffaedd9-dc07-4c8a-9b32-a5ab3d6b8c48,id=3de1a46e-f08d-4736-924b-2720c7137386\n"
     ]
    },
    {
     "name": "stdout",
     "output_type": "stream",
     "text": [
      "Processed 822/1000 - Expected: 3 - Result: 2\n",
      "Processed 823/1000 - Expected: 3 - Result: 2\n",
      "Processed 824/1000 - Expected: 3 - Result: 2\n",
      "Processed 825/1000 - Expected: 3 - Result: 2\n",
      "Processed 826/1000 - Expected: 3 - Result: 2\n",
      "Processed 827/1000 - Expected: 3 - Result: 2\n",
      "Processed 828/1000 - Expected: 3 - Result: 2\n",
      "Processed 829/1000 - Expected: 3 - Result: 2\n",
      "Processed 830/1000 - Expected: 3 - Result: 2\n",
      "Processed 831/1000 - Expected: 3 - Result: 2\n",
      "Processed 832/1000 - Expected: 3 - Result: 2\n",
      "Processed 833/1000 - Expected: 3 - Result: 2\n",
      "Processed 834/1000 - Expected: 3 - Result: 0\n",
      "Processed 835/1000 - Expected: 3 - Result: 2\n"
     ]
    },
    {
     "name": "stderr",
     "output_type": "stream",
     "text": [
      "Failed to batch ingest runs: langsmith.utils.LangSmithRateLimitError: Rate limit exceeded for https://api.smith.langchain.com/runs/batch. HTTPError('429 Client Error: Too Many Requests for url: https://api.smith.langchain.com/runs/batch', '{\"error\":\"Too many requests: tenant exceeded usage limits: Monthly unique traces usage limit exceeded\"}\\n')\n",
      "post: trace=78ed287c-5096-4798-bc32-f27838904f8f,id=78ed287c-5096-4798-bc32-f27838904f8f; trace=78ed287c-5096-4798-bc32-f27838904f8f,id=60c8e580-32f3-4f95-a246-d99fa7127b4f; trace=78ed287c-5096-4798-bc32-f27838904f8f,id=7d7f14b3-1434-4fc7-a5dd-46c6501e8bc1; trace=d7e3af27-535b-4e7a-8a32-298494eed6cc,id=d7e3af27-535b-4e7a-8a32-298494eed6cc; trace=d7e3af27-535b-4e7a-8a32-298494eed6cc,id=45d02019-f520-43ca-8306-632282ffb1a1; trace=d7e3af27-535b-4e7a-8a32-298494eed6cc,id=5c3a6d4b-ef29-44c6-9f4c-a28f0a946c36; trace=636d5ee3-4097-4c41-a4df-0e192772e5cd,id=636d5ee3-4097-4c41-a4df-0e192772e5cd; trace=636d5ee3-4097-4c41-a4df-0e192772e5cd,id=2fbbc063-bd0f-4369-8461-6c3f4fc006f1; trace=636d5ee3-4097-4c41-a4df-0e192772e5cd,id=745c2da7-db2b-464c-b8a1-9d865d663626; trace=cb10efe3-23b6-44e3-9017-19b89b3aa85f,id=cb10efe3-23b6-44e3-9017-19b89b3aa85f; trace=cb10efe3-23b6-44e3-9017-19b89b3aa85f,id=f3648dd7-5427-4834-b33d-146fb0aed42a; trace=cb10efe3-23b6-44e3-9017-19b89b3aa85f,id=81db5461-0424-4eb7-9c86-342bc0c12d0e; trace=d881daa1-f22a-402f-8b3c-c58131244680,id=d881daa1-f22a-402f-8b3c-c58131244680; trace=d881daa1-f22a-402f-8b3c-c58131244680,id=68ab61fe-4927-4907-b7ec-fdf23eb75c8f; trace=d881daa1-f22a-402f-8b3c-c58131244680,id=9b5ee651-c8ac-4412-bbea-535878f8458c; trace=dcda4a8c-3ebd-4aad-9a93-474eb6d8f295,id=dcda4a8c-3ebd-4aad-9a93-474eb6d8f295; trace=dcda4a8c-3ebd-4aad-9a93-474eb6d8f295,id=9225f8c5-8602-40ee-b05d-313efa13c32c; trace=dcda4a8c-3ebd-4aad-9a93-474eb6d8f295,id=a09807c9-0aec-4236-b834-1e2622a578f3; trace=799eb5a3-f6bb-401a-b27a-7479a20356f1,id=799eb5a3-f6bb-401a-b27a-7479a20356f1; trace=799eb5a3-f6bb-401a-b27a-7479a20356f1,id=560d9bfc-eba5-48aa-9fec-76d69efda27f; trace=799eb5a3-f6bb-401a-b27a-7479a20356f1,id=e7e9d745-c175-42c2-9f9c-4b256d58018d; trace=ef4eba18-e558-4030-a4f2-13d7f78ffe7c,id=ef4eba18-e558-4030-a4f2-13d7f78ffe7c; trace=ef4eba18-e558-4030-a4f2-13d7f78ffe7c,id=d34cb4b2-9a3b-4311-80a9-d39ac13baf32; trace=ef4eba18-e558-4030-a4f2-13d7f78ffe7c,id=7cee568e-4138-48d4-a966-564e0dcbd322; trace=fdcfef50-734c-48f4-b97c-89a999349c79,id=fdcfef50-734c-48f4-b97c-89a999349c79; trace=fdcfef50-734c-48f4-b97c-89a999349c79,id=cbc87eb2-d82e-4bee-bd08-d9bfe6366655; trace=fdcfef50-734c-48f4-b97c-89a999349c79,id=a4524a6e-7b52-4fef-b2f8-d45116ffbd03; trace=b546aa24-cb55-4d6a-a950-d99c8185dc45,id=b546aa24-cb55-4d6a-a950-d99c8185dc45; trace=b546aa24-cb55-4d6a-a950-d99c8185dc45,id=5dc5218c-a021-47e3-97fe-1f660455fe20; trace=b546aa24-cb55-4d6a-a950-d99c8185dc45,id=37a2169c-84f8-4541-84b0-d8c9fe7e407b; trace=3d9e5814-3f40-4b0f-8a41-9146ad8d3a01,id=3d9e5814-3f40-4b0f-8a41-9146ad8d3a01; trace=3d9e5814-3f40-4b0f-8a41-9146ad8d3a01,id=d4d0f0b6-00e6-44d6-a278-fc324f271b07; trace=3d9e5814-3f40-4b0f-8a41-9146ad8d3a01,id=0c849bb6-06a8-40c8-a623-15369c776352; trace=ca6a2c99-e1c1-41b5-9fa4-a8495c4175f7,id=ca6a2c99-e1c1-41b5-9fa4-a8495c4175f7; trace=ca6a2c99-e1c1-41b5-9fa4-a8495c4175f7,id=7d46f125-ed86-4dee-a422-fc9e380d9e64; trace=ca6a2c99-e1c1-41b5-9fa4-a8495c4175f7,id=f06ab550-e2be-492b-bbdc-fa5906ca6d12; trace=a4ff3c7b-3c6d-4cc4-abef-b5d4e38cfc71,id=a4ff3c7b-3c6d-4cc4-abef-b5d4e38cfc71; trace=a4ff3c7b-3c6d-4cc4-abef-b5d4e38cfc71,id=e93d4bd5-f3a5-48f4-9a84-a0ac0fd5e7fb; trace=a4ff3c7b-3c6d-4cc4-abef-b5d4e38cfc71,id=01967285-a1a5-48d4-8972-43bdfdb0c720; trace=e979afc0-68ca-4599-a070-40c9e21771ef,id=e979afc0-68ca-4599-a070-40c9e21771ef; trace=e979afc0-68ca-4599-a070-40c9e21771ef,id=1eddc8ce-6ce7-473d-9145-34f9fba412b9; trace=e979afc0-68ca-4599-a070-40c9e21771ef,id=00c24f89-d5f5-4e8f-8242-df7ed3af48ab\n"
     ]
    },
    {
     "name": "stdout",
     "output_type": "stream",
     "text": [
      "Processed 836/1000 - Expected: 3 - Result: 2\n",
      "Processed 837/1000 - Expected: 3 - Result: 2\n",
      "Processed 838/1000 - Expected: 3 - Result: 0\n",
      "Processed 839/1000 - Expected: 3 - Result: 2\n",
      "Processed 840/1000 - Expected: 3 - Result: 2\n",
      "Processed 841/1000 - Expected: 3 - Result: 2\n",
      "Processed 842/1000 - Expected: 3 - Result: 2\n",
      "Processed 843/1000 - Expected: 3 - Result: 2\n",
      "Processed 844/1000 - Expected: 3 - Result: 2\n",
      "Processed 845/1000 - Expected: 3 - Result: 2\n",
      "Processed 846/1000 - Expected: 3 - Result: 2\n",
      "Processed 847/1000 - Expected: 3 - Result: 2\n",
      "Processed 848/1000 - Expected: 3 - Result: 2\n",
      "Processed 849/1000 - Expected: 3 - Result: 2\n"
     ]
    },
    {
     "name": "stderr",
     "output_type": "stream",
     "text": [
      "Failed to batch ingest runs: langsmith.utils.LangSmithRateLimitError: Rate limit exceeded for https://api.smith.langchain.com/runs/batch. HTTPError('429 Client Error: Too Many Requests for url: https://api.smith.langchain.com/runs/batch', '{\"error\":\"Too many requests: tenant exceeded usage limits: Monthly unique traces usage limit exceeded\"}\\n')\n",
      "post: trace=320c60dc-1bb3-469a-84b5-9e569b491537,id=320c60dc-1bb3-469a-84b5-9e569b491537; trace=320c60dc-1bb3-469a-84b5-9e569b491537,id=fa4cf995-dd39-466b-b4fc-18db9010cfd4; trace=320c60dc-1bb3-469a-84b5-9e569b491537,id=4de8d765-49e1-464d-a0a2-42eb137a5b16; trace=70131e41-ce3c-4fa8-b659-7d3ba150ed94,id=70131e41-ce3c-4fa8-b659-7d3ba150ed94; trace=70131e41-ce3c-4fa8-b659-7d3ba150ed94,id=9e31a3e6-59bc-4157-8605-bbd5a7f434f3; trace=70131e41-ce3c-4fa8-b659-7d3ba150ed94,id=00915903-22d5-4e96-ae92-06da41da9651; trace=a0159fd6-c052-4e43-aea8-b96b6048dc6f,id=a0159fd6-c052-4e43-aea8-b96b6048dc6f; trace=a0159fd6-c052-4e43-aea8-b96b6048dc6f,id=ac7248aa-1414-4660-86ba-3c271ed28875; trace=a0159fd6-c052-4e43-aea8-b96b6048dc6f,id=4415433f-a672-4515-b7a7-f8870a77dc00; trace=b13e3593-96d8-440a-8d1f-bb5d11913bbb,id=b13e3593-96d8-440a-8d1f-bb5d11913bbb; trace=b13e3593-96d8-440a-8d1f-bb5d11913bbb,id=9ad44fd8-c1db-461c-a746-a20f8ca3e196; trace=b13e3593-96d8-440a-8d1f-bb5d11913bbb,id=8b6bf342-6969-410d-a2cf-d1714e64a86a; trace=32417a92-be80-4426-98cc-55a9f566fd85,id=32417a92-be80-4426-98cc-55a9f566fd85; trace=32417a92-be80-4426-98cc-55a9f566fd85,id=a335db5f-5998-49b2-b31a-f67e4b3406c8; trace=32417a92-be80-4426-98cc-55a9f566fd85,id=adeb7533-2760-4670-9c4b-ebaa7585abd3; trace=a1cff128-59bf-41b0-af18-d6b4704a0e72,id=a1cff128-59bf-41b0-af18-d6b4704a0e72; trace=a1cff128-59bf-41b0-af18-d6b4704a0e72,id=0067b823-8774-4913-a7f0-af854aaac5b3; trace=a1cff128-59bf-41b0-af18-d6b4704a0e72,id=38f916fe-61d2-47a4-be7d-05a5c4a2817c; trace=bc2678dd-fb9f-4e93-a023-c827ffdf114c,id=bc2678dd-fb9f-4e93-a023-c827ffdf114c; trace=bc2678dd-fb9f-4e93-a023-c827ffdf114c,id=116f9550-4828-4b19-bd00-2e8dc03a0b36; trace=bc2678dd-fb9f-4e93-a023-c827ffdf114c,id=a43db8c9-a152-43a0-95e6-2edfcaceea48; trace=f385a9ae-26de-4c66-9beb-b893e25427f2,id=f385a9ae-26de-4c66-9beb-b893e25427f2; trace=f385a9ae-26de-4c66-9beb-b893e25427f2,id=101966d3-ee1d-4c65-990d-30bd976944ef; trace=f385a9ae-26de-4c66-9beb-b893e25427f2,id=511acb9d-4353-4540-8478-0d068ecd4b1a; trace=cac311dd-0fc1-48e5-8052-8a408e9d7532,id=cac311dd-0fc1-48e5-8052-8a408e9d7532; trace=cac311dd-0fc1-48e5-8052-8a408e9d7532,id=4fa31c41-4371-4e9d-b16b-26587b1e401d; trace=cac311dd-0fc1-48e5-8052-8a408e9d7532,id=2c24c77e-ac6b-4697-9b20-31c764e53ddb; trace=ff792ec8-a762-4acd-8f95-fba5c122d02b,id=ff792ec8-a762-4acd-8f95-fba5c122d02b; trace=ff792ec8-a762-4acd-8f95-fba5c122d02b,id=f3caf401-0920-4852-9798-78cb116d2ddd; trace=ff792ec8-a762-4acd-8f95-fba5c122d02b,id=aa19b34b-6fdf-4ad1-82e2-8acf0784cb24; trace=734efc82-ee3c-4345-8e10-f909910efb7c,id=734efc82-ee3c-4345-8e10-f909910efb7c; trace=734efc82-ee3c-4345-8e10-f909910efb7c,id=2e1cee69-6d71-4441-a3f8-e67889a76638; trace=734efc82-ee3c-4345-8e10-f909910efb7c,id=7322d609-15d7-47e3-b726-9f8306c51f36; trace=78067b88-5d02-481a-a140-5807f32099e9,id=78067b88-5d02-481a-a140-5807f32099e9; trace=78067b88-5d02-481a-a140-5807f32099e9,id=162c64bb-820a-4efe-876b-c215e882ba9c; trace=78067b88-5d02-481a-a140-5807f32099e9,id=36badded-2a83-4bb5-bc24-cb2ef7fe09da; trace=c6b897e9-1326-4773-b9d0-2141b464e7f4,id=c6b897e9-1326-4773-b9d0-2141b464e7f4; trace=c6b897e9-1326-4773-b9d0-2141b464e7f4,id=f794d4de-9488-4611-80f1-3a450d252cec; trace=c6b897e9-1326-4773-b9d0-2141b464e7f4,id=f282bf8b-280a-48e9-aed3-3aac881b109d; trace=bd86021e-74b5-43d7-b558-8c02c194b961,id=bd86021e-74b5-43d7-b558-8c02c194b961; trace=bd86021e-74b5-43d7-b558-8c02c194b961,id=61d6eed1-40e2-4822-afb2-6b49235be354; trace=bd86021e-74b5-43d7-b558-8c02c194b961,id=6dc2788b-1a34-4b03-a8fc-a8d5f5ff6877\n"
     ]
    },
    {
     "name": "stdout",
     "output_type": "stream",
     "text": [
      "Processed 850/1000 - Expected: 3 - Result: 2\n",
      "Processed 851/1000 - Expected: 3 - Result: 2\n",
      "Processed 852/1000 - Expected: 3 - Result: 2\n",
      "Processed 853/1000 - Expected: 3 - Result: 2\n",
      "Processed 854/1000 - Expected: 3 - Result: 2\n",
      "Processed 855/1000 - Expected: 3 - Result: 2\n",
      "Processed 856/1000 - Expected: 3 - Result: 2\n",
      "Processed 857/1000 - Expected: 3 - Result: 2\n",
      "Processed 858/1000 - Expected: 3 - Result: 2\n",
      "Processed 859/1000 - Expected: 3 - Result: 2\n",
      "Processed 860/1000 - Expected: 3 - Result: 2\n",
      "Processed 861/1000 - Expected: 3 - Result: 2\n",
      "Processed 862/1000 - Expected: 3 - Result: 2\n",
      "Processed 863/1000 - Expected: 3 - Result: 2\n"
     ]
    },
    {
     "name": "stderr",
     "output_type": "stream",
     "text": [
      "Failed to batch ingest runs: langsmith.utils.LangSmithRateLimitError: Rate limit exceeded for https://api.smith.langchain.com/runs/batch. HTTPError('429 Client Error: Too Many Requests for url: https://api.smith.langchain.com/runs/batch', '{\"error\":\"Too many requests: tenant exceeded usage limits: Monthly unique traces usage limit exceeded\"}\\n')\n",
      "post: trace=15e5dce4-dca1-4ef7-bfdb-5889e54c8814,id=15e5dce4-dca1-4ef7-bfdb-5889e54c8814; trace=15e5dce4-dca1-4ef7-bfdb-5889e54c8814,id=d6772958-0a23-43be-b19c-88976c0fa943; trace=15e5dce4-dca1-4ef7-bfdb-5889e54c8814,id=be819175-5876-4822-a1cd-bf5923d84590; trace=f8e80c90-61cb-412f-ba65-db724e9a26a1,id=f8e80c90-61cb-412f-ba65-db724e9a26a1; trace=f8e80c90-61cb-412f-ba65-db724e9a26a1,id=1cf55d1c-8e7c-4e6c-9620-5d014811ffa9; trace=f8e80c90-61cb-412f-ba65-db724e9a26a1,id=04b33291-d5b8-4c6b-ba88-e6abd91c828d; trace=2323b667-9b44-4e52-9041-98103a35fe62,id=2323b667-9b44-4e52-9041-98103a35fe62; trace=2323b667-9b44-4e52-9041-98103a35fe62,id=912a8227-0fe8-421e-a4e5-f048873277a8; trace=2323b667-9b44-4e52-9041-98103a35fe62,id=15baf901-50ab-4250-a9cc-8e42de963273; trace=e16b8be3-7008-4931-8435-f9baf988c195,id=e16b8be3-7008-4931-8435-f9baf988c195; trace=e16b8be3-7008-4931-8435-f9baf988c195,id=18bc33d4-70ac-4d4c-8faf-8c2e0e97cefa; trace=e16b8be3-7008-4931-8435-f9baf988c195,id=b049854f-e1f8-4f19-a0dc-3a68f3648a07; trace=37f8a8fc-d4a0-4ec4-9cd4-ed3d48179043,id=37f8a8fc-d4a0-4ec4-9cd4-ed3d48179043; trace=37f8a8fc-d4a0-4ec4-9cd4-ed3d48179043,id=2e3c8dbc-8243-41a6-911d-2cdc6b4783f1; trace=37f8a8fc-d4a0-4ec4-9cd4-ed3d48179043,id=59847e83-922f-4e46-9b6a-9e03a76fa9e3; trace=d2cfcd03-44cd-4040-bb52-e2a6dfa87f50,id=d2cfcd03-44cd-4040-bb52-e2a6dfa87f50; trace=d2cfcd03-44cd-4040-bb52-e2a6dfa87f50,id=cc335e3c-bf68-4d40-b321-3caaae294670; trace=d2cfcd03-44cd-4040-bb52-e2a6dfa87f50,id=4f8298f9-cc53-4708-8c19-cae3577d7a88; trace=a70c143d-0e82-4076-b164-6b8c2c193c5e,id=a70c143d-0e82-4076-b164-6b8c2c193c5e; trace=a70c143d-0e82-4076-b164-6b8c2c193c5e,id=5f98cb78-3d4d-45ba-8d7e-f46d0d9c9de4; trace=a70c143d-0e82-4076-b164-6b8c2c193c5e,id=9d76738f-c7d7-48e6-873f-e93e03cb7cca; trace=6fac5add-163b-4f59-ba6e-b1386b4579eb,id=6fac5add-163b-4f59-ba6e-b1386b4579eb; trace=6fac5add-163b-4f59-ba6e-b1386b4579eb,id=11be76a0-0a4e-4923-bcdb-93101d111f2b; trace=6fac5add-163b-4f59-ba6e-b1386b4579eb,id=522bb20e-48b1-4c83-b708-c9815aa6a2da; trace=0e34ee80-f8bc-44db-9761-f84679e14985,id=0e34ee80-f8bc-44db-9761-f84679e14985; trace=0e34ee80-f8bc-44db-9761-f84679e14985,id=74eff050-45af-41bc-883b-e28fda7d9923; trace=0e34ee80-f8bc-44db-9761-f84679e14985,id=8b05cac0-0dd6-4b8d-896d-ecb1afb7ca26; trace=1e2cb587-e8c6-41d8-ae11-b68849fa78d1,id=1e2cb587-e8c6-41d8-ae11-b68849fa78d1; trace=1e2cb587-e8c6-41d8-ae11-b68849fa78d1,id=7977dc96-e344-4513-b1ef-6b6dafd7036b; trace=1e2cb587-e8c6-41d8-ae11-b68849fa78d1,id=7b384127-b968-467c-9168-93ad0933bb34; trace=f7e024e5-cba8-4af3-919f-00bd20264cc1,id=f7e024e5-cba8-4af3-919f-00bd20264cc1; trace=f7e024e5-cba8-4af3-919f-00bd20264cc1,id=18415942-7073-4443-9a57-25c38a40d7d7; trace=f7e024e5-cba8-4af3-919f-00bd20264cc1,id=767b9241-31b6-4f30-9b21-621b5b62e66a; trace=84b6e7c3-a771-40ce-bd73-e03dd1411fbd,id=84b6e7c3-a771-40ce-bd73-e03dd1411fbd; trace=84b6e7c3-a771-40ce-bd73-e03dd1411fbd,id=c7184c6a-34ef-4436-a954-017b6a7fe9f9; trace=84b6e7c3-a771-40ce-bd73-e03dd1411fbd,id=540d0daa-991e-4dcf-bceb-352553557d45; trace=102afb0d-aeb3-4d37-8f00-0d4d149497bb,id=102afb0d-aeb3-4d37-8f00-0d4d149497bb; trace=102afb0d-aeb3-4d37-8f00-0d4d149497bb,id=9b07055c-899f-4d79-99ad-7aa6313be6af; trace=102afb0d-aeb3-4d37-8f00-0d4d149497bb,id=ccb8e8fc-7b7e-42ce-9d68-2ac72a802c87; trace=d2382ff6-b116-4514-b165-93321715298a,id=d2382ff6-b116-4514-b165-93321715298a; trace=d2382ff6-b116-4514-b165-93321715298a,id=83d3901c-cd69-441d-8036-f5f12f6e29f3; trace=d2382ff6-b116-4514-b165-93321715298a,id=d915246f-ec92-4bf4-b71a-18bddb066bb1\n"
     ]
    },
    {
     "name": "stdout",
     "output_type": "stream",
     "text": [
      "Processed 864/1000 - Expected: 3 - Result: 2\n",
      "Processed 865/1000 - Expected: 3 - Result: 2\n",
      "Processed 866/1000 - Expected: 3 - Result: 2\n",
      "Processed 867/1000 - Expected: 3 - Result: 2\n",
      "Processed 868/1000 - Expected: 3 - Result: 2\n",
      "Processed 869/1000 - Expected: 3 - Result: 2\n",
      "Processed 870/1000 - Expected: 3 - Result: 2\n",
      "Processed 871/1000 - Expected: 3 - Result: 2\n",
      "Processed 872/1000 - Expected: 3 - Result: 2\n",
      "Processed 873/1000 - Expected: 3 - Result: 2\n",
      "Processed 874/1000 - Expected: 3 - Result: 2\n",
      "Processed 875/1000 - Expected: 3 - Result: 2\n",
      "Processed 876/1000 - Expected: 3 - Result: 2\n",
      "Processed 877/1000 - Expected: 3 - Result: 2\n",
      "Processed 878/1000 - Expected: 3 - Result: 2\n"
     ]
    },
    {
     "name": "stderr",
     "output_type": "stream",
     "text": [
      "Failed to batch ingest runs: langsmith.utils.LangSmithRateLimitError: Rate limit exceeded for https://api.smith.langchain.com/runs/batch. HTTPError('429 Client Error: Too Many Requests for url: https://api.smith.langchain.com/runs/batch', '{\"error\":\"Too many requests: tenant exceeded usage limits: Monthly unique traces usage limit exceeded\"}\\n')\n",
      "post: trace=e9b2bc08-dabd-4e44-8440-3ba458e90fe4,id=e9b2bc08-dabd-4e44-8440-3ba458e90fe4; trace=e9b2bc08-dabd-4e44-8440-3ba458e90fe4,id=9833ca4b-af9a-4990-9139-3d9c2231fdcc; trace=e9b2bc08-dabd-4e44-8440-3ba458e90fe4,id=172b4220-5556-480b-ba81-4d81ee92a3ab; trace=cf2555d9-9b22-45c8-b5de-4851b8a6342b,id=cf2555d9-9b22-45c8-b5de-4851b8a6342b; trace=cf2555d9-9b22-45c8-b5de-4851b8a6342b,id=5b42858b-eb25-41f4-a3f0-ed2759e26a10; trace=cf2555d9-9b22-45c8-b5de-4851b8a6342b,id=783cab26-3a30-4054-a645-3e43ccf6c820; trace=71648799-9d54-48f7-9c5a-976dd84f1512,id=71648799-9d54-48f7-9c5a-976dd84f1512; trace=71648799-9d54-48f7-9c5a-976dd84f1512,id=661b9320-eb13-4db0-9b96-f41bf4319756; trace=71648799-9d54-48f7-9c5a-976dd84f1512,id=791ca5fd-8e9a-467c-a1bc-4f3a5429f5ce; trace=19292586-280d-4fda-837f-469490bb766f,id=19292586-280d-4fda-837f-469490bb766f; trace=19292586-280d-4fda-837f-469490bb766f,id=18c52b8d-18de-41bd-8f15-0eb0d392ea10; trace=19292586-280d-4fda-837f-469490bb766f,id=7b9f844c-7411-4cda-a6d6-137a1e9a6e69; trace=8e251096-a160-42a2-9380-9827b0e4b132,id=8e251096-a160-42a2-9380-9827b0e4b132; trace=8e251096-a160-42a2-9380-9827b0e4b132,id=83631c8d-dcd2-4cd4-99ba-373a256e159d; trace=8e251096-a160-42a2-9380-9827b0e4b132,id=92c52ef6-baa3-4559-99aa-a48d7352ea55; trace=38d3d7be-ac9e-416b-a473-d5bf74c5a0a9,id=38d3d7be-ac9e-416b-a473-d5bf74c5a0a9; trace=38d3d7be-ac9e-416b-a473-d5bf74c5a0a9,id=516a3792-ec3e-4ba6-88ad-257b6e0b5564; trace=38d3d7be-ac9e-416b-a473-d5bf74c5a0a9,id=909d18d5-ed3a-45df-b765-72529aaf960c; trace=889cefe8-89db-4044-aac8-5833a41709aa,id=889cefe8-89db-4044-aac8-5833a41709aa; trace=889cefe8-89db-4044-aac8-5833a41709aa,id=d55a5242-14d8-4545-a828-c36a3247cd63; trace=889cefe8-89db-4044-aac8-5833a41709aa,id=a178e479-176b-4e4b-b3a5-7e9961be4de3; trace=52eef489-f19c-4d82-8543-f0aa557e8373,id=52eef489-f19c-4d82-8543-f0aa557e8373; trace=52eef489-f19c-4d82-8543-f0aa557e8373,id=c05d5e9c-a7a7-4230-8092-41e29b969d97; trace=52eef489-f19c-4d82-8543-f0aa557e8373,id=3e37a736-f30f-4ffb-8f8f-2556a6874c14; trace=06ff3e83-aa4a-454f-9896-35148617d105,id=06ff3e83-aa4a-454f-9896-35148617d105; trace=06ff3e83-aa4a-454f-9896-35148617d105,id=56a9804a-bf21-4b31-9fb4-0612f0cd1349; trace=06ff3e83-aa4a-454f-9896-35148617d105,id=dc89a31f-1087-4fa1-b5a3-899efeee34cb; trace=9b38298a-7a73-4b5b-a22a-e6106ed4e46a,id=9b38298a-7a73-4b5b-a22a-e6106ed4e46a; trace=9b38298a-7a73-4b5b-a22a-e6106ed4e46a,id=d081c3ca-96aa-44ba-9396-abc6ec0d222d; trace=9b38298a-7a73-4b5b-a22a-e6106ed4e46a,id=03ab3c2f-d07e-4e51-9320-3877ff4e1b22; trace=ef4d7126-7e35-4ea0-bd2f-345908ac411d,id=ef4d7126-7e35-4ea0-bd2f-345908ac411d; trace=ef4d7126-7e35-4ea0-bd2f-345908ac411d,id=5474b386-5639-4bf1-86d3-53fd364bd49e; trace=ef4d7126-7e35-4ea0-bd2f-345908ac411d,id=f2ba57e4-4852-4c72-8f4b-638ca42d376d; trace=a19103af-7d23-45ec-9f33-b197e436f890,id=a19103af-7d23-45ec-9f33-b197e436f890; trace=a19103af-7d23-45ec-9f33-b197e436f890,id=adf00d3e-f418-4735-aa2e-33153389f4d4; trace=a19103af-7d23-45ec-9f33-b197e436f890,id=19f16b49-737b-45af-9428-067c929e9656; trace=17a7ecd0-9054-4482-bfcb-7ef27e769d67,id=17a7ecd0-9054-4482-bfcb-7ef27e769d67; trace=17a7ecd0-9054-4482-bfcb-7ef27e769d67,id=2f24f03c-f13f-4fa8-aff0-6721b80b627d; trace=17a7ecd0-9054-4482-bfcb-7ef27e769d67,id=5ae8a183-4cc4-4f4a-89dc-4687d33bdbc3; trace=55787b57-6610-4d2c-a8f0-b6717cf826c1,id=55787b57-6610-4d2c-a8f0-b6717cf826c1; trace=55787b57-6610-4d2c-a8f0-b6717cf826c1,id=12bd6afd-46a1-4032-a0c2-8c0403493a27; trace=55787b57-6610-4d2c-a8f0-b6717cf826c1,id=4fea3455-767a-459f-aa61-e83e0caaae90\n"
     ]
    },
    {
     "name": "stdout",
     "output_type": "stream",
     "text": [
      "Processed 879/1000 - Expected: 3 - Result: 2\n",
      "Processed 880/1000 - Expected: 3 - Result: 2\n",
      "Processed 881/1000 - Expected: 3 - Result: 2\n",
      "Processed 882/1000 - Expected: 3 - Result: 2\n",
      "Processed 883/1000 - Expected: 3 - Result: 2\n",
      "Processed 884/1000 - Expected: 3 - Result: 2\n",
      "Processed 885/1000 - Expected: 3 - Result: 2\n",
      "Processed 886/1000 - Expected: 3 - Result: 2\n",
      "Processed 887/1000 - Expected: 3 - Result: 2\n",
      "Processed 888/1000 - Expected: 3 - Result: 2\n",
      "Processed 889/1000 - Expected: 3 - Result: 2\n",
      "Processed 890/1000 - Expected: 3 - Result: 2\n",
      "Processed 891/1000 - Expected: 3 - Result: 2\n",
      "Processed 892/1000 - Expected: 3 - Result: 2\n"
     ]
    },
    {
     "name": "stderr",
     "output_type": "stream",
     "text": [
      "Failed to batch ingest runs: langsmith.utils.LangSmithRateLimitError: Rate limit exceeded for https://api.smith.langchain.com/runs/batch. HTTPError('429 Client Error: Too Many Requests for url: https://api.smith.langchain.com/runs/batch', '{\"error\":\"Too many requests: tenant exceeded usage limits: Monthly unique traces usage limit exceeded\"}\\n')\n",
      "post: trace=d4d6ed1b-e78b-4084-854e-c7938056f4f2,id=d4d6ed1b-e78b-4084-854e-c7938056f4f2; trace=d4d6ed1b-e78b-4084-854e-c7938056f4f2,id=9772413b-8184-4d73-93f0-24fc2df7ade9; trace=d4d6ed1b-e78b-4084-854e-c7938056f4f2,id=13247abe-85ee-4e6b-8456-bd51fd1eaa0e; trace=15a7166f-a4bc-422a-8d1e-7a55087f8123,id=15a7166f-a4bc-422a-8d1e-7a55087f8123; trace=15a7166f-a4bc-422a-8d1e-7a55087f8123,id=cf29aa3b-98af-4024-9e60-d81fc50bb343; trace=15a7166f-a4bc-422a-8d1e-7a55087f8123,id=5b0554ea-53cb-4cfb-b567-88a3a310cf6a; trace=57d1c57d-1cee-40b7-b374-b84a7528a3d9,id=57d1c57d-1cee-40b7-b374-b84a7528a3d9; trace=57d1c57d-1cee-40b7-b374-b84a7528a3d9,id=c716ffd5-d4b7-4da7-bf32-a52d0b80e076; trace=57d1c57d-1cee-40b7-b374-b84a7528a3d9,id=7901d68e-704b-425a-95db-9d0d4a5ed6d3; trace=c2bacefc-d878-4710-9396-781ea6b12239,id=c2bacefc-d878-4710-9396-781ea6b12239; trace=c2bacefc-d878-4710-9396-781ea6b12239,id=4812e577-0f06-493f-ba91-787bda4c79e3; trace=c2bacefc-d878-4710-9396-781ea6b12239,id=41b134ec-199c-4c68-923b-08d3fdcfe173; trace=b8cd6af7-a4ba-4256-a9ed-80f0c3f1f2b2,id=b8cd6af7-a4ba-4256-a9ed-80f0c3f1f2b2; trace=b8cd6af7-a4ba-4256-a9ed-80f0c3f1f2b2,id=c973660b-0fa0-4aaa-a3e2-e7c25a421b0a; trace=b8cd6af7-a4ba-4256-a9ed-80f0c3f1f2b2,id=62767234-ccd4-40ac-a50b-2b2d1f45b938; trace=db927e8f-6fa4-4ebd-b7c2-dfb2eb6df26d,id=db927e8f-6fa4-4ebd-b7c2-dfb2eb6df26d; trace=db927e8f-6fa4-4ebd-b7c2-dfb2eb6df26d,id=c20bf2ac-d0cd-47dc-aae9-cc9d5d896a74; trace=db927e8f-6fa4-4ebd-b7c2-dfb2eb6df26d,id=d8fe737b-6799-401d-8e6e-980cfdd98ec6; trace=1bbbb3fd-1037-4adc-8034-4f88d9691a93,id=1bbbb3fd-1037-4adc-8034-4f88d9691a93; trace=1bbbb3fd-1037-4adc-8034-4f88d9691a93,id=9e5f97ea-c6e6-46e2-88b9-9b60935e6f26; trace=1bbbb3fd-1037-4adc-8034-4f88d9691a93,id=e03bf01d-b563-49fb-ad41-decff5d39569; trace=9b9ffe75-1827-43af-be14-a2731e057892,id=9b9ffe75-1827-43af-be14-a2731e057892; trace=9b9ffe75-1827-43af-be14-a2731e057892,id=3ce7bafb-4376-4be3-a42a-827fdf997d0b; trace=9b9ffe75-1827-43af-be14-a2731e057892,id=f42afc8c-544a-4d9d-97da-9acd98722a55; trace=30dcf714-1572-4ea8-85c1-ab4b650876e6,id=30dcf714-1572-4ea8-85c1-ab4b650876e6; trace=30dcf714-1572-4ea8-85c1-ab4b650876e6,id=00b48be7-7bc9-434e-9ff0-9443cde27e76; trace=30dcf714-1572-4ea8-85c1-ab4b650876e6,id=3c1a6d54-40c9-4e46-aab2-321ee5b9b159; trace=a6bd312c-0935-4e30-9b82-a0f6b1cf290e,id=a6bd312c-0935-4e30-9b82-a0f6b1cf290e; trace=a6bd312c-0935-4e30-9b82-a0f6b1cf290e,id=4f9e623b-bd07-4179-b819-154accdb7e35; trace=a6bd312c-0935-4e30-9b82-a0f6b1cf290e,id=12756107-af1f-404f-8131-83c2dbd5b0c8; trace=73b9df13-b44a-4023-989d-e1437dbff960,id=73b9df13-b44a-4023-989d-e1437dbff960; trace=73b9df13-b44a-4023-989d-e1437dbff960,id=11024987-0d42-47cc-b14c-480f68df9d2b; trace=73b9df13-b44a-4023-989d-e1437dbff960,id=6f6c723a-41eb-4bab-9058-cf41ca784da8; trace=55d776cf-0402-4e95-8909-74618a58cb5c,id=55d776cf-0402-4e95-8909-74618a58cb5c; trace=55d776cf-0402-4e95-8909-74618a58cb5c,id=560b3c7c-61b7-483e-96a7-3ba2b19782cb; trace=55d776cf-0402-4e95-8909-74618a58cb5c,id=b12810fb-1eaa-48f6-85b0-baf406bc8d13; trace=cd93a948-94e7-47c1-9ea4-44ef92c5c747,id=cd93a948-94e7-47c1-9ea4-44ef92c5c747; trace=cd93a948-94e7-47c1-9ea4-44ef92c5c747,id=b87c37db-13ae-4886-adf9-4db549d124ba; trace=cd93a948-94e7-47c1-9ea4-44ef92c5c747,id=b2b0289f-bc6f-4098-b678-09d180fcdb5b; trace=ea596bf9-4817-4ca5-a1eb-b8824ffdac2c,id=ea596bf9-4817-4ca5-a1eb-b8824ffdac2c; trace=ea596bf9-4817-4ca5-a1eb-b8824ffdac2c,id=f0d6924b-f4af-4ba3-80ee-13e9db5d227c; trace=ea596bf9-4817-4ca5-a1eb-b8824ffdac2c,id=5ac13681-e1ea-4555-961c-f2a130c6336d; trace=79f7b295-2aa5-4b92-890c-8fe04d348cb5,id=79f7b295-2aa5-4b92-890c-8fe04d348cb5; trace=79f7b295-2aa5-4b92-890c-8fe04d348cb5,id=a28e8774-28d1-4271-a3e3-40224801af82; trace=79f7b295-2aa5-4b92-890c-8fe04d348cb5,id=5fb4187a-de21-4495-abdc-f05be2cb4b20\n"
     ]
    },
    {
     "name": "stdout",
     "output_type": "stream",
     "text": [
      "Processed 893/1000 - Expected: 3 - Result: 2\n",
      "Processed 894/1000 - Expected: 3 - Result: 2\n",
      "Processed 895/1000 - Expected: 3 - Result: 2\n",
      "Processed 896/1000 - Expected: 3 - Result: 2\n",
      "Processed 897/1000 - Expected: 3 - Result: 2\n",
      "Processed 898/1000 - Expected: 3 - Result: 2\n",
      "Processed 899/1000 - Expected: 3 - Result: 2\n",
      "Processed 900/1000 - Expected: 3 - Result: 2\n",
      "Processed 901/1000 - Expected: 3 - Result: 2\n",
      "Processed 902/1000 - Expected: 3 - Result: 2\n",
      "Processed 903/1000 - Expected: 3 - Result: 0\n",
      "Processed 904/1000 - Expected: 3 - Result: 2\n",
      "Processed 905/1000 - Expected: 3 - Result: 2\n",
      "Processed 906/1000 - Expected: 3 - Result: 2\n"
     ]
    },
    {
     "name": "stderr",
     "output_type": "stream",
     "text": [
      "Failed to batch ingest runs: langsmith.utils.LangSmithRateLimitError: Rate limit exceeded for https://api.smith.langchain.com/runs/batch. HTTPError('429 Client Error: Too Many Requests for url: https://api.smith.langchain.com/runs/batch', '{\"error\":\"Too many requests: tenant exceeded usage limits: Monthly unique traces usage limit exceeded\"}\\n')\n",
      "post: trace=4cf92fc0-d724-416e-a877-559bfb3b5c27,id=4cf92fc0-d724-416e-a877-559bfb3b5c27; trace=4cf92fc0-d724-416e-a877-559bfb3b5c27,id=b63d73f4-c8f0-476c-97db-67c3954e4ea6; trace=4cf92fc0-d724-416e-a877-559bfb3b5c27,id=92e76f27-ca61-4519-bd4a-f04dad0d9ed4; trace=630d70ee-7b92-4417-8419-3be196326eb4,id=630d70ee-7b92-4417-8419-3be196326eb4; trace=630d70ee-7b92-4417-8419-3be196326eb4,id=590dfed3-3660-41fa-ab7e-e2b6e4a4e04f; trace=630d70ee-7b92-4417-8419-3be196326eb4,id=6af06c55-6101-4db4-bdda-0d74f452c527; trace=22242e82-8e4d-4627-b8f0-33a6aa434997,id=22242e82-8e4d-4627-b8f0-33a6aa434997; trace=22242e82-8e4d-4627-b8f0-33a6aa434997,id=ad726043-4376-4b61-ae44-7cca005aef3f; trace=22242e82-8e4d-4627-b8f0-33a6aa434997,id=ecd9d3a2-8444-453f-bcb1-a85b3c471086; trace=761393c0-f48f-4782-b4fa-b9d64e1adda4,id=761393c0-f48f-4782-b4fa-b9d64e1adda4; trace=761393c0-f48f-4782-b4fa-b9d64e1adda4,id=3635e97b-fbd3-4b4f-9dbc-e7e66e40ee09; trace=761393c0-f48f-4782-b4fa-b9d64e1adda4,id=9f73aefe-53c2-4cf9-8a1a-c0bee767c3a4; trace=d0c07cef-608b-400b-a536-224eb27f798f,id=d0c07cef-608b-400b-a536-224eb27f798f; trace=d0c07cef-608b-400b-a536-224eb27f798f,id=f1091069-1071-48d9-90b4-f9d16b341538; trace=d0c07cef-608b-400b-a536-224eb27f798f,id=870fa9f0-4377-4255-a511-2081e039f44d; trace=6d5dc066-e805-40a0-947f-3fd7edeff638,id=6d5dc066-e805-40a0-947f-3fd7edeff638; trace=6d5dc066-e805-40a0-947f-3fd7edeff638,id=74ae0aad-0d57-46c3-88cb-f3ef827989f6; trace=6d5dc066-e805-40a0-947f-3fd7edeff638,id=0cf3592d-c719-43b8-acf2-e895320b7dfd; trace=8c5fd5dd-a181-4764-ace0-94bc4c69192d,id=8c5fd5dd-a181-4764-ace0-94bc4c69192d; trace=8c5fd5dd-a181-4764-ace0-94bc4c69192d,id=2268cc1d-315d-4958-ad82-5ffa81c9cac2; trace=8c5fd5dd-a181-4764-ace0-94bc4c69192d,id=1ef585b1-ecc8-4225-ac09-a8e3a6cf16e9; trace=8030dc4d-8ead-44a0-9564-d4af9b5c4fcb,id=8030dc4d-8ead-44a0-9564-d4af9b5c4fcb; trace=8030dc4d-8ead-44a0-9564-d4af9b5c4fcb,id=eafd2530-cc66-45e7-8d24-ab53c7d8fe6f; trace=8030dc4d-8ead-44a0-9564-d4af9b5c4fcb,id=90dd9c30-3f17-449e-8315-538a11a4b64f; trace=39cf850e-8225-4948-84b6-edf9c953fa18,id=39cf850e-8225-4948-84b6-edf9c953fa18; trace=39cf850e-8225-4948-84b6-edf9c953fa18,id=cf0e3117-a8b4-4065-993e-28ff46818a00; trace=39cf850e-8225-4948-84b6-edf9c953fa18,id=c1931ccd-db07-4e74-9bf1-353638027906; trace=ebd04553-5873-4c54-ac9e-63bcce63bb60,id=ebd04553-5873-4c54-ac9e-63bcce63bb60; trace=ebd04553-5873-4c54-ac9e-63bcce63bb60,id=4e3b9fcc-3aa3-44f7-b13b-b99f73ca3e7e; trace=ebd04553-5873-4c54-ac9e-63bcce63bb60,id=3855be22-afee-4ed6-ac56-c3d1fc9a1221; trace=217a84a6-2456-4c4f-b19d-4a7fd3e13f50,id=217a84a6-2456-4c4f-b19d-4a7fd3e13f50; trace=217a84a6-2456-4c4f-b19d-4a7fd3e13f50,id=63e2fe62-df8e-474b-8580-7846564ea0f0; trace=217a84a6-2456-4c4f-b19d-4a7fd3e13f50,id=34baedb6-fa37-447c-9bf0-bc28a0affff1; trace=2920bb9c-5a30-45fc-a572-c01923838f13,id=2920bb9c-5a30-45fc-a572-c01923838f13; trace=2920bb9c-5a30-45fc-a572-c01923838f13,id=669d0268-175a-4d69-9442-47be13bed371; trace=2920bb9c-5a30-45fc-a572-c01923838f13,id=adba7008-a86f-4532-bfd1-db95f3e556e2; trace=bde19097-7eea-4565-b463-d4114d8c6f16,id=bde19097-7eea-4565-b463-d4114d8c6f16; trace=bde19097-7eea-4565-b463-d4114d8c6f16,id=3c304976-7404-44c2-89b1-d25e4ba066d3; trace=bde19097-7eea-4565-b463-d4114d8c6f16,id=0744c4e0-07ac-410c-bdca-aeaf73d93ff3; trace=f147a9e2-60b6-4452-9856-6adc407bb371,id=f147a9e2-60b6-4452-9856-6adc407bb371; trace=f147a9e2-60b6-4452-9856-6adc407bb371,id=a3ccf3c0-4dfe-4be2-94d1-b9c93ace5dba; trace=f147a9e2-60b6-4452-9856-6adc407bb371,id=c56de8b9-e361-47a3-ac03-69e6aa02e5dc\n"
     ]
    },
    {
     "name": "stdout",
     "output_type": "stream",
     "text": [
      "Processed 907/1000 - Expected: 3 - Result: 2\n",
      "Processed 908/1000 - Expected: 3 - Result: 2\n",
      "Processed 909/1000 - Expected: 3 - Result: 2\n",
      "Processed 910/1000 - Expected: 3 - Result: 2\n",
      "Processed 911/1000 - Expected: 3 - Result: 2\n",
      "Processed 912/1000 - Expected: 3 - Result: 2\n",
      "Processed 913/1000 - Expected: 3 - Result: 2\n",
      "Processed 914/1000 - Expected: 3 - Result: 2\n",
      "Processed 915/1000 - Expected: 3 - Result: 2\n",
      "Processed 916/1000 - Expected: 3 - Result: 2\n",
      "Processed 917/1000 - Expected: 3 - Result: 2\n",
      "Processed 918/1000 - Expected: 3 - Result: 2\n",
      "Processed 919/1000 - Expected: 3 - Result: 2\n",
      "Processed 920/1000 - Expected: 3 - Result: 2\n"
     ]
    },
    {
     "name": "stderr",
     "output_type": "stream",
     "text": [
      "Failed to batch ingest runs: langsmith.utils.LangSmithRateLimitError: Rate limit exceeded for https://api.smith.langchain.com/runs/batch. HTTPError('429 Client Error: Too Many Requests for url: https://api.smith.langchain.com/runs/batch', '{\"error\":\"Too many requests: tenant exceeded usage limits: Monthly unique traces usage limit exceeded\"}\\n')\n",
      "post: trace=83f88293-ce9d-414c-8f1b-e01228324afd,id=83f88293-ce9d-414c-8f1b-e01228324afd; trace=83f88293-ce9d-414c-8f1b-e01228324afd,id=61c8cd61-6d84-40a3-bbd7-fdb0abc040d5; trace=83f88293-ce9d-414c-8f1b-e01228324afd,id=8217ea67-58ac-4b54-8014-eab2d843d67f; trace=ba7df789-a213-46e2-8d72-4dfdb1ada142,id=ba7df789-a213-46e2-8d72-4dfdb1ada142; trace=ba7df789-a213-46e2-8d72-4dfdb1ada142,id=d55b3dfc-ab5f-4780-bdb9-6604e356a009; trace=ba7df789-a213-46e2-8d72-4dfdb1ada142,id=583840f1-0730-453e-b74c-de7340fd94ad; trace=24d85fa0-0fc3-4ed3-86e6-f76a143d0cf4,id=24d85fa0-0fc3-4ed3-86e6-f76a143d0cf4; trace=24d85fa0-0fc3-4ed3-86e6-f76a143d0cf4,id=5b30aa7d-1216-4579-a05b-44bf9f2cc78f; trace=24d85fa0-0fc3-4ed3-86e6-f76a143d0cf4,id=32d6bb04-0bca-48ce-bd4f-70ddb72b700e; trace=46b2130f-6796-4caf-ae56-abc35755f19b,id=46b2130f-6796-4caf-ae56-abc35755f19b; trace=46b2130f-6796-4caf-ae56-abc35755f19b,id=0dbf46e3-0c92-4d4b-b1c5-d7dd8837bae0; trace=46b2130f-6796-4caf-ae56-abc35755f19b,id=253197ac-de8b-40b3-98aa-830f2678c95e; trace=2bdf99ea-a090-4e8c-910e-2a3e7845713f,id=2bdf99ea-a090-4e8c-910e-2a3e7845713f; trace=2bdf99ea-a090-4e8c-910e-2a3e7845713f,id=006a9919-33ea-42b1-9869-8a9b68d8a9b6; trace=2bdf99ea-a090-4e8c-910e-2a3e7845713f,id=1c98a30e-a324-48ad-9ca0-794b3d53d01d; trace=36b9d0f4-e573-48b6-85c5-999a51142cef,id=36b9d0f4-e573-48b6-85c5-999a51142cef; trace=36b9d0f4-e573-48b6-85c5-999a51142cef,id=608bdab4-175b-4d45-a0da-bc46cf0aed85; trace=36b9d0f4-e573-48b6-85c5-999a51142cef,id=09e7c5b2-a53d-4d2e-a2b8-72b14186b581; trace=a89f83b8-ab7b-4877-bbd1-4e5f4a144c9c,id=a89f83b8-ab7b-4877-bbd1-4e5f4a144c9c; trace=a89f83b8-ab7b-4877-bbd1-4e5f4a144c9c,id=f2b58f24-d688-4c2e-847d-e8656749fe78; trace=a89f83b8-ab7b-4877-bbd1-4e5f4a144c9c,id=9fca3ae2-f423-4882-80c4-c3a16b426fd0; trace=abf16d5d-7efe-4a62-b5a0-46c20259b409,id=abf16d5d-7efe-4a62-b5a0-46c20259b409; trace=abf16d5d-7efe-4a62-b5a0-46c20259b409,id=83f84d1a-f3c7-496c-99e4-4634e7f898ef; trace=abf16d5d-7efe-4a62-b5a0-46c20259b409,id=618b682e-a94c-4f60-a8aa-ab1a0a4e77dc; trace=85aaa7a9-63de-413a-8cfa-451337350ccb,id=85aaa7a9-63de-413a-8cfa-451337350ccb; trace=85aaa7a9-63de-413a-8cfa-451337350ccb,id=5276ad43-ecab-48de-a956-52f073c75894; trace=85aaa7a9-63de-413a-8cfa-451337350ccb,id=79bc6375-fad8-4f3e-8fe0-dc64f701c4de; trace=68437637-cd13-4b6a-b32b-89e3a2d2911b,id=68437637-cd13-4b6a-b32b-89e3a2d2911b; trace=68437637-cd13-4b6a-b32b-89e3a2d2911b,id=a9abf304-7c3a-426b-9001-56606f36b7e1; trace=68437637-cd13-4b6a-b32b-89e3a2d2911b,id=24c9a086-5d5c-4ca9-b6a3-ddd2d206b35c; trace=8f65099e-aa33-4055-8db3-ac3472f83a84,id=8f65099e-aa33-4055-8db3-ac3472f83a84; trace=8f65099e-aa33-4055-8db3-ac3472f83a84,id=07ac9895-1393-4012-a743-d5bbaaad52cd; trace=8f65099e-aa33-4055-8db3-ac3472f83a84,id=7856828c-8a5f-47ba-99c6-2ebeaf07eb5e; trace=cd895d8a-293e-44bc-bc51-ece017e7d287,id=cd895d8a-293e-44bc-bc51-ece017e7d287; trace=cd895d8a-293e-44bc-bc51-ece017e7d287,id=0bd61021-a2ef-4817-8969-62a4c283062b; trace=cd895d8a-293e-44bc-bc51-ece017e7d287,id=690d3933-46e2-43e2-b38b-86fa51ce2d39; trace=00cdc527-2bdb-4b3b-85ce-87c3bd7d73fd,id=00cdc527-2bdb-4b3b-85ce-87c3bd7d73fd; trace=00cdc527-2bdb-4b3b-85ce-87c3bd7d73fd,id=43994828-2006-4737-9b4d-6a7265ce3bed; trace=00cdc527-2bdb-4b3b-85ce-87c3bd7d73fd,id=e1bdddfc-8308-4617-9916-6a4571dd777c; trace=c6197fef-f550-4bd7-ba86-7ce151c8411d,id=c6197fef-f550-4bd7-ba86-7ce151c8411d; trace=c6197fef-f550-4bd7-ba86-7ce151c8411d,id=e87b1ec2-5ec8-4e3e-9358-9ae6f5bd8f5d; trace=c6197fef-f550-4bd7-ba86-7ce151c8411d,id=aeacfd26-2687-4b4f-93e9-5b4626c6f180\n"
     ]
    },
    {
     "name": "stdout",
     "output_type": "stream",
     "text": [
      "Processed 921/1000 - Expected: 3 - Result: 2\n",
      "Processed 922/1000 - Expected: 3 - Result: 2\n",
      "Processed 923/1000 - Expected: 3 - Result: 2\n",
      "Processed 924/1000 - Expected: 3 - Result: 2\n",
      "Processed 925/1000 - Expected: 3 - Result: 2\n",
      "Processed 926/1000 - Expected: 3 - Result: 2\n",
      "Processed 927/1000 - Expected: 3 - Result: 2\n",
      "Processed 928/1000 - Expected: 3 - Result: 2\n",
      "Processed 929/1000 - Expected: 3 - Result: 2\n",
      "Processed 930/1000 - Expected: 3 - Result: 2\n",
      "Processed 931/1000 - Expected: 3 - Result: 2\n",
      "Processed 932/1000 - Expected: 3 - Result: 2\n",
      "Processed 933/1000 - Expected: 3 - Result: 2\n",
      "Processed 934/1000 - Expected: 3 - Result: 2\n"
     ]
    },
    {
     "name": "stderr",
     "output_type": "stream",
     "text": [
      "Failed to batch ingest runs: langsmith.utils.LangSmithRateLimitError: Rate limit exceeded for https://api.smith.langchain.com/runs/batch. HTTPError('429 Client Error: Too Many Requests for url: https://api.smith.langchain.com/runs/batch', '{\"error\":\"Too many requests: tenant exceeded usage limits: Monthly unique traces usage limit exceeded\"}\\n')\n",
      "post: trace=38817a3b-259c-48a8-b168-05f68595be00,id=38817a3b-259c-48a8-b168-05f68595be00; trace=38817a3b-259c-48a8-b168-05f68595be00,id=393552a5-b494-4127-ab1c-a7d67afa4ee8; trace=38817a3b-259c-48a8-b168-05f68595be00,id=4d730f8c-6f2a-45b5-afd1-f56b9e25fe7c; trace=c8b12213-30d5-467d-b6b4-12c1c0c17e9c,id=c8b12213-30d5-467d-b6b4-12c1c0c17e9c; trace=c8b12213-30d5-467d-b6b4-12c1c0c17e9c,id=0fc8d6c9-2316-4d25-ae21-acdfde7d2e99; trace=c8b12213-30d5-467d-b6b4-12c1c0c17e9c,id=8ea8d84a-d09d-4a72-adc3-9e451605f7b6; trace=7ca2c2dc-709f-4468-82c7-7034c38094d3,id=7ca2c2dc-709f-4468-82c7-7034c38094d3; trace=7ca2c2dc-709f-4468-82c7-7034c38094d3,id=5e57cc4d-c112-4ca8-aa19-a8c638c2c6cc; trace=7ca2c2dc-709f-4468-82c7-7034c38094d3,id=644936aa-d547-4686-880a-8c55bc132255; trace=6a61b0cb-76c3-43ef-b638-30feed77a3fa,id=6a61b0cb-76c3-43ef-b638-30feed77a3fa; trace=6a61b0cb-76c3-43ef-b638-30feed77a3fa,id=f1342957-5da2-4d29-bf72-2bc4252fbdb4; trace=6a61b0cb-76c3-43ef-b638-30feed77a3fa,id=531fa07a-1a12-4162-b6a7-144257a93b33; trace=0d8de1d0-eaaf-47a9-b008-1c282c05c2ab,id=0d8de1d0-eaaf-47a9-b008-1c282c05c2ab; trace=0d8de1d0-eaaf-47a9-b008-1c282c05c2ab,id=ff74daf4-a597-4648-b793-b5a1b3202da5; trace=0d8de1d0-eaaf-47a9-b008-1c282c05c2ab,id=e6d0e254-7df7-4914-9ca1-1bd42356c6c4; trace=b8700fed-8d5c-44aa-af0d-abd14c4d4973,id=b8700fed-8d5c-44aa-af0d-abd14c4d4973; trace=b8700fed-8d5c-44aa-af0d-abd14c4d4973,id=bffcdc5b-ee6a-47f4-bfcb-efd5de5de833; trace=b8700fed-8d5c-44aa-af0d-abd14c4d4973,id=a7b2e98b-1d35-4b46-b0e4-daa5e58848ff; trace=449d22ff-d7ee-4f7c-a303-81ca2b7630dc,id=449d22ff-d7ee-4f7c-a303-81ca2b7630dc; trace=449d22ff-d7ee-4f7c-a303-81ca2b7630dc,id=3224a7a5-e729-4906-aff7-6b8a828506a0; trace=449d22ff-d7ee-4f7c-a303-81ca2b7630dc,id=70b1596f-669a-40da-8753-fb84e8346fe4; trace=112cd6b6-0ec0-4d7c-8896-ca6e17276393,id=112cd6b6-0ec0-4d7c-8896-ca6e17276393; trace=112cd6b6-0ec0-4d7c-8896-ca6e17276393,id=75134637-a9ff-4c40-a2ee-49d0cbe27556; trace=112cd6b6-0ec0-4d7c-8896-ca6e17276393,id=321346fb-ba6b-471b-8316-0e723dc74895; trace=b7e8932c-656d-4606-901f-f636d9d9521e,id=b7e8932c-656d-4606-901f-f636d9d9521e; trace=b7e8932c-656d-4606-901f-f636d9d9521e,id=dfcd2524-09c2-4850-8ccc-0654fee64690; trace=b7e8932c-656d-4606-901f-f636d9d9521e,id=82cac9f6-83fc-48fe-9c9c-83efd17fdd37; trace=fba445fe-d0a7-4edd-841d-4c5bb8084e6a,id=fba445fe-d0a7-4edd-841d-4c5bb8084e6a; trace=fba445fe-d0a7-4edd-841d-4c5bb8084e6a,id=0e6c2377-a859-4d61-8056-e3530c8c10dd; trace=fba445fe-d0a7-4edd-841d-4c5bb8084e6a,id=04d2bb80-e828-4c92-9a74-65bbee83b434; trace=6354632f-886d-4236-a259-6ddd313effbb,id=6354632f-886d-4236-a259-6ddd313effbb; trace=6354632f-886d-4236-a259-6ddd313effbb,id=55a14828-fc4d-44f4-b277-789cf201087c; trace=6354632f-886d-4236-a259-6ddd313effbb,id=8e313f49-a07e-41d2-8e52-6a525759e5f3; trace=3e7994e5-348e-4623-bb7a-60f1d1d1ed9a,id=3e7994e5-348e-4623-bb7a-60f1d1d1ed9a; trace=3e7994e5-348e-4623-bb7a-60f1d1d1ed9a,id=ff01d5d6-64b0-43bb-8169-46fc2c34a566; trace=3e7994e5-348e-4623-bb7a-60f1d1d1ed9a,id=8c47ca1f-95b7-4c2b-9f39-e57b0e014acd; trace=628f8e2c-5b7f-428d-abb9-ec28957e57e4,id=628f8e2c-5b7f-428d-abb9-ec28957e57e4; trace=628f8e2c-5b7f-428d-abb9-ec28957e57e4,id=86a88299-f914-46cb-8f48-508e8d1be1bf; trace=628f8e2c-5b7f-428d-abb9-ec28957e57e4,id=5c2a3de7-d508-4069-b7da-4616d80371d9; trace=054335d5-5a14-44b9-959b-9365348393e6,id=054335d5-5a14-44b9-959b-9365348393e6; trace=054335d5-5a14-44b9-959b-9365348393e6,id=5cbbc25b-a29c-4f24-831b-044bc2ed14fa; trace=054335d5-5a14-44b9-959b-9365348393e6,id=0fef15f5-f4d1-4a0e-b4fd-a16e083e79a2\n"
     ]
    },
    {
     "name": "stdout",
     "output_type": "stream",
     "text": [
      "Processed 935/1000 - Expected: 3 - Result: 2\n",
      "Processed 936/1000 - Expected: 3 - Result: 2\n",
      "Processed 937/1000 - Expected: 3 - Result: 2\n",
      "Processed 938/1000 - Expected: 3 - Result: 2\n",
      "Processed 939/1000 - Expected: 3 - Result: 2\n",
      "Processed 940/1000 - Expected: 3 - Result: 2\n",
      "Processed 941/1000 - Expected: 3 - Result: 2\n",
      "Processed 942/1000 - Expected: 3 - Result: 2\n",
      "Processed 943/1000 - Expected: 3 - Result: 2\n",
      "Processed 944/1000 - Expected: 3 - Result: 2\n",
      "Processed 945/1000 - Expected: 3 - Result: 2\n",
      "Processed 946/1000 - Expected: 3 - Result: 2\n",
      "Processed 947/1000 - Expected: 3 - Result: 2\n",
      "Processed 948/1000 - Expected: 3 - Result: 2\n"
     ]
    },
    {
     "name": "stderr",
     "output_type": "stream",
     "text": [
      "Failed to batch ingest runs: langsmith.utils.LangSmithRateLimitError: Rate limit exceeded for https://api.smith.langchain.com/runs/batch. HTTPError('429 Client Error: Too Many Requests for url: https://api.smith.langchain.com/runs/batch', '{\"error\":\"Too many requests: tenant exceeded usage limits: Monthly unique traces usage limit exceeded\"}\\n')\n",
      "post: trace=60cdffc7-dbf7-44a7-95da-e74be29b8990,id=60cdffc7-dbf7-44a7-95da-e74be29b8990; trace=60cdffc7-dbf7-44a7-95da-e74be29b8990,id=686ee207-ded9-48fc-8c32-7821218c41c9; trace=60cdffc7-dbf7-44a7-95da-e74be29b8990,id=be7891e5-5629-4ed2-9b70-e3085b1ed10a; trace=f3dad7a0-bf42-4688-95d1-e509f24d837f,id=f3dad7a0-bf42-4688-95d1-e509f24d837f; trace=f3dad7a0-bf42-4688-95d1-e509f24d837f,id=b32b02cf-cfbf-4338-9eb5-fd4418d65c61; trace=f3dad7a0-bf42-4688-95d1-e509f24d837f,id=9cd6042f-bb77-4f7b-ab14-5426aefe18c2; trace=7201958e-4ca7-4355-9c28-5bdfadbd4eda,id=7201958e-4ca7-4355-9c28-5bdfadbd4eda; trace=7201958e-4ca7-4355-9c28-5bdfadbd4eda,id=dbda8c45-f6da-4d1f-9865-c70c64ebe95a; trace=7201958e-4ca7-4355-9c28-5bdfadbd4eda,id=60f795f2-30fe-41dc-ad0d-516fb081f6cb; trace=76fb18f7-c2c3-44d3-8c0c-a5afd75fb532,id=76fb18f7-c2c3-44d3-8c0c-a5afd75fb532; trace=76fb18f7-c2c3-44d3-8c0c-a5afd75fb532,id=b6930aa6-56ba-456d-a1c2-48bb5edefaa3; trace=76fb18f7-c2c3-44d3-8c0c-a5afd75fb532,id=9885e7a5-5f90-427d-9781-e3410428e0be; trace=f7debb91-3c43-4946-a222-c51001967d9d,id=f7debb91-3c43-4946-a222-c51001967d9d; trace=f7debb91-3c43-4946-a222-c51001967d9d,id=b94196fa-ae7e-4bb1-931d-8ec8c20fe09b; trace=f7debb91-3c43-4946-a222-c51001967d9d,id=c735eb15-3ada-4cd8-b695-fb7ea15998b1; trace=ad254ef3-5092-412c-9219-9b299a73f68f,id=ad254ef3-5092-412c-9219-9b299a73f68f; trace=ad254ef3-5092-412c-9219-9b299a73f68f,id=c3cc0633-2391-49df-a8ae-4c3302f56c18; trace=ad254ef3-5092-412c-9219-9b299a73f68f,id=d395844a-06c0-4454-9d14-b4430f774a53; trace=6afffcc0-bbcf-4b00-9708-ceea543eed9a,id=6afffcc0-bbcf-4b00-9708-ceea543eed9a; trace=6afffcc0-bbcf-4b00-9708-ceea543eed9a,id=6f0b4d18-a51e-4726-89fa-bab689c03ba9; trace=6afffcc0-bbcf-4b00-9708-ceea543eed9a,id=2398d9fd-59cf-4e87-b00f-d25121d9c8ac; trace=12dafed3-935a-4c50-a134-8e6bc835fb40,id=12dafed3-935a-4c50-a134-8e6bc835fb40; trace=12dafed3-935a-4c50-a134-8e6bc835fb40,id=8bd0f1fe-3aab-49e1-a812-b10d201496cf; trace=12dafed3-935a-4c50-a134-8e6bc835fb40,id=edb363db-7a7b-4613-91e3-92e568aabccd; trace=6e430604-66b4-4824-ba27-788767b03ccf,id=6e430604-66b4-4824-ba27-788767b03ccf; trace=6e430604-66b4-4824-ba27-788767b03ccf,id=4f8c0bb9-f7ab-4f12-9034-61a8174735b1; trace=6e430604-66b4-4824-ba27-788767b03ccf,id=92477642-16b1-485a-b35a-305b7056ed35; trace=704a88c8-2569-4db6-b387-637696727247,id=704a88c8-2569-4db6-b387-637696727247; trace=704a88c8-2569-4db6-b387-637696727247,id=0b0389e0-cd86-4a95-94e7-0472d9eb0a6a; trace=704a88c8-2569-4db6-b387-637696727247,id=66b46729-108f-4825-bd6a-91fd4e01346c; trace=f6e0dc91-03a7-47b9-8833-e2b0e5c9656f,id=f6e0dc91-03a7-47b9-8833-e2b0e5c9656f; trace=f6e0dc91-03a7-47b9-8833-e2b0e5c9656f,id=fa828ad9-af6c-4fc3-8e7e-2564f2bcda1b; trace=f6e0dc91-03a7-47b9-8833-e2b0e5c9656f,id=8ab19121-0f6d-4d4e-9690-295eaf57752c; trace=87a43389-1246-438d-b5d4-9159c828d20e,id=87a43389-1246-438d-b5d4-9159c828d20e; trace=87a43389-1246-438d-b5d4-9159c828d20e,id=889c1aa7-b47a-4655-93bc-f2384dc0cad4; trace=87a43389-1246-438d-b5d4-9159c828d20e,id=5a90fb15-2b44-4bf0-a88d-b1de796cb64b; trace=e8f6f265-d57b-4996-887d-61212c61bebb,id=e8f6f265-d57b-4996-887d-61212c61bebb; trace=e8f6f265-d57b-4996-887d-61212c61bebb,id=85cce57a-cdc1-42ed-9388-f816f05d2790; trace=e8f6f265-d57b-4996-887d-61212c61bebb,id=8edc60bc-d6c6-48ed-9fd2-470580d1b528; trace=4620c000-c3ef-4b93-a3d6-1153654cc0c5,id=4620c000-c3ef-4b93-a3d6-1153654cc0c5; trace=4620c000-c3ef-4b93-a3d6-1153654cc0c5,id=bdb8180f-c768-422c-a051-5b9371fdcd94; trace=4620c000-c3ef-4b93-a3d6-1153654cc0c5,id=98c3c073-3202-4cf6-90ff-14acd3810361\n"
     ]
    },
    {
     "name": "stdout",
     "output_type": "stream",
     "text": [
      "Processed 949/1000 - Expected: 3 - Result: 2\n",
      "Processed 950/1000 - Expected: 3 - Result: 2\n",
      "Processed 951/1000 - Expected: 3 - Result: 2\n",
      "Processed 952/1000 - Expected: 3 - Result: 2\n",
      "Processed 953/1000 - Expected: 3 - Result: 2\n",
      "Processed 954/1000 - Expected: 3 - Result: 2\n",
      "Processed 955/1000 - Expected: 3 - Result: 2\n",
      "Processed 956/1000 - Expected: 3 - Result: 2\n",
      "Processed 957/1000 - Expected: 3 - Result: 2\n",
      "Processed 958/1000 - Expected: 3 - Result: 2\n",
      "Processed 959/1000 - Expected: 3 - Result: 2\n",
      "Processed 960/1000 - Expected: 3 - Result: 2\n",
      "Processed 961/1000 - Expected: 3 - Result: 2\n",
      "Processed 962/1000 - Expected: 3 - Result: 2\n"
     ]
    },
    {
     "name": "stderr",
     "output_type": "stream",
     "text": [
      "Failed to batch ingest runs: langsmith.utils.LangSmithRateLimitError: Rate limit exceeded for https://api.smith.langchain.com/runs/batch. HTTPError('429 Client Error: Too Many Requests for url: https://api.smith.langchain.com/runs/batch', '{\"error\":\"Too many requests: tenant exceeded usage limits: Monthly unique traces usage limit exceeded\"}\\n')\n",
      "post: trace=9c85aed0-9d79-47b4-8bb1-bca103b21d06,id=9c85aed0-9d79-47b4-8bb1-bca103b21d06; trace=9c85aed0-9d79-47b4-8bb1-bca103b21d06,id=64e1119f-f724-4644-a3fa-69ccd9f1a275; trace=9c85aed0-9d79-47b4-8bb1-bca103b21d06,id=260d78da-db25-46a8-850d-4ca58a5fcbd9; trace=138c8cfa-b3e1-4288-bc45-2e413934f4cc,id=138c8cfa-b3e1-4288-bc45-2e413934f4cc; trace=138c8cfa-b3e1-4288-bc45-2e413934f4cc,id=7f27523f-ff78-4ed5-986f-aa88b2e420b4; trace=138c8cfa-b3e1-4288-bc45-2e413934f4cc,id=e5de10b0-7af4-4afc-9fc4-97fd34b09e3c; trace=c4de70a5-c622-4ac0-ab7c-09c1b20c9549,id=c4de70a5-c622-4ac0-ab7c-09c1b20c9549; trace=c4de70a5-c622-4ac0-ab7c-09c1b20c9549,id=67b7d9d7-22a3-48ad-9d7a-f99aaeebe28b; trace=c4de70a5-c622-4ac0-ab7c-09c1b20c9549,id=2e352604-d96f-4da4-af9b-632c1bd1960b; trace=a7bc4f82-3e7e-434d-a0bd-2f787aaedb83,id=a7bc4f82-3e7e-434d-a0bd-2f787aaedb83; trace=a7bc4f82-3e7e-434d-a0bd-2f787aaedb83,id=2613a702-1990-4c32-8254-4a5a3a42ed19; trace=a7bc4f82-3e7e-434d-a0bd-2f787aaedb83,id=0dcc667b-c92d-4010-ade0-98e33e596869; trace=3bbf184f-8640-4ecf-8be3-465f6f9a8fd3,id=3bbf184f-8640-4ecf-8be3-465f6f9a8fd3; trace=3bbf184f-8640-4ecf-8be3-465f6f9a8fd3,id=b89e7e7f-4694-46d1-b628-f88fe07c8761; trace=3bbf184f-8640-4ecf-8be3-465f6f9a8fd3,id=11a75ece-7f0c-4bfb-bf5c-2efbbd96e6bb; trace=54777269-55fe-4860-a07d-de2b33406021,id=54777269-55fe-4860-a07d-de2b33406021; trace=54777269-55fe-4860-a07d-de2b33406021,id=4b581bb8-5cf9-4b82-b0c4-079a9ecba6f5; trace=54777269-55fe-4860-a07d-de2b33406021,id=65354e82-ad25-485a-b6c7-26e55df1888a; trace=097474f4-2597-4f75-81ba-5bfa8be5d11c,id=097474f4-2597-4f75-81ba-5bfa8be5d11c; trace=097474f4-2597-4f75-81ba-5bfa8be5d11c,id=977b0385-b5d7-47d3-b867-9b3c8db7d275; trace=097474f4-2597-4f75-81ba-5bfa8be5d11c,id=5dd82525-cde8-4800-9513-0a83fe8b383c; trace=102ec552-f979-4678-bbb1-b0ed8df8360f,id=102ec552-f979-4678-bbb1-b0ed8df8360f; trace=102ec552-f979-4678-bbb1-b0ed8df8360f,id=42de7bdf-88d1-46fe-b897-ce98870d9c73; trace=102ec552-f979-4678-bbb1-b0ed8df8360f,id=ce8bcb2d-ac38-48ed-ac76-ad43ca5a36fa; trace=02ef7412-12e9-4019-a566-4caa855bbf8a,id=02ef7412-12e9-4019-a566-4caa855bbf8a; trace=02ef7412-12e9-4019-a566-4caa855bbf8a,id=502ee3f0-279e-4fbe-b9cd-8707c301d49c; trace=02ef7412-12e9-4019-a566-4caa855bbf8a,id=21ce7d6c-66a3-4d66-9538-f4e8145ea5c2; trace=7e983689-e0d4-428f-9a60-6fb0dfaaada0,id=7e983689-e0d4-428f-9a60-6fb0dfaaada0; trace=7e983689-e0d4-428f-9a60-6fb0dfaaada0,id=0fcc6ad2-b54c-45cb-ac14-71123831981a; trace=7e983689-e0d4-428f-9a60-6fb0dfaaada0,id=3b8fa038-93d4-48ce-a295-127a1d4add9d; trace=2ad0e7f3-1019-4e31-b8a8-32a0194eb2ad,id=2ad0e7f3-1019-4e31-b8a8-32a0194eb2ad; trace=2ad0e7f3-1019-4e31-b8a8-32a0194eb2ad,id=d6f458ba-f9a9-40e0-8ffd-1e32b5a27a46; trace=2ad0e7f3-1019-4e31-b8a8-32a0194eb2ad,id=06819ee4-9113-4b56-a190-8c93e45c81dc; trace=f0c4745c-9d5b-422a-8466-915667413951,id=f0c4745c-9d5b-422a-8466-915667413951; trace=f0c4745c-9d5b-422a-8466-915667413951,id=0eb32be2-c1fa-40d7-978c-2748a1214598; trace=f0c4745c-9d5b-422a-8466-915667413951,id=d3a36080-3376-4c1e-969f-622ecfecb6d3; trace=5ccd635e-b84d-4512-9ae4-0a0ce5c42a26,id=5ccd635e-b84d-4512-9ae4-0a0ce5c42a26; trace=5ccd635e-b84d-4512-9ae4-0a0ce5c42a26,id=360520d3-08d4-4589-9f82-117606067621; trace=5ccd635e-b84d-4512-9ae4-0a0ce5c42a26,id=a9df2baf-d0c6-4319-a65a-7fef6ecdb9c1; trace=5e97b6de-0910-4750-9f5f-f01f9573fcef,id=5e97b6de-0910-4750-9f5f-f01f9573fcef; trace=5e97b6de-0910-4750-9f5f-f01f9573fcef,id=c0e91043-64c4-42e0-898b-3b58222a326d; trace=5e97b6de-0910-4750-9f5f-f01f9573fcef,id=3dcf1944-ba8f-4d72-9d93-e38dd34eec02\n"
     ]
    },
    {
     "name": "stdout",
     "output_type": "stream",
     "text": [
      "Processed 963/1000 - Expected: 3 - Result: 2\n",
      "Processed 964/1000 - Expected: 3 - Result: 2\n",
      "Processed 965/1000 - Expected: 3 - Result: 2\n",
      "Processed 966/1000 - Expected: 3 - Result: 2\n",
      "Processed 967/1000 - Expected: 3 - Result: 2\n",
      "Processed 968/1000 - Expected: 3 - Result: 2\n",
      "Processed 969/1000 - Expected: 3 - Result: 2\n",
      "Processed 970/1000 - Expected: 3 - Result: 2\n",
      "Processed 971/1000 - Expected: 3 - Result: 2\n",
      "Processed 972/1000 - Expected: 3 - Result: 2\n",
      "Processed 973/1000 - Expected: 3 - Result: 2\n",
      "Processed 974/1000 - Expected: 3 - Result: 2\n",
      "Processed 975/1000 - Expected: 3 - Result: 2\n",
      "Processed 976/1000 - Expected: 3 - Result: 2\n"
     ]
    },
    {
     "name": "stderr",
     "output_type": "stream",
     "text": [
      "Failed to batch ingest runs: langsmith.utils.LangSmithRateLimitError: Rate limit exceeded for https://api.smith.langchain.com/runs/batch. HTTPError('429 Client Error: Too Many Requests for url: https://api.smith.langchain.com/runs/batch', '{\"error\":\"Too many requests: tenant exceeded usage limits: Monthly unique traces usage limit exceeded\"}\\n')\n",
      "post: trace=83608dfc-6849-4366-9b41-93205f61e4e7,id=83608dfc-6849-4366-9b41-93205f61e4e7; trace=83608dfc-6849-4366-9b41-93205f61e4e7,id=259039ac-b902-4ae5-b61d-f6abf6970e6e; trace=83608dfc-6849-4366-9b41-93205f61e4e7,id=3591c4d5-2f76-4401-acad-ee928e892849; trace=7bbe2357-a756-47b7-8032-d2f3fc562938,id=7bbe2357-a756-47b7-8032-d2f3fc562938; trace=7bbe2357-a756-47b7-8032-d2f3fc562938,id=c4ff0762-6fc6-46a4-8ccc-4af99d48337a; trace=7bbe2357-a756-47b7-8032-d2f3fc562938,id=79a74758-d2be-4e97-a202-36b55172894c; trace=c7e2dc88-801a-486a-b3de-a9388b23880c,id=c7e2dc88-801a-486a-b3de-a9388b23880c; trace=c7e2dc88-801a-486a-b3de-a9388b23880c,id=dde1caaa-88d4-41e8-ac88-e223107e615f; trace=c7e2dc88-801a-486a-b3de-a9388b23880c,id=9e182705-9be4-40f9-9822-2f447bd1f5e4; trace=e2486a1f-ac33-4694-9853-7478eb3de6db,id=e2486a1f-ac33-4694-9853-7478eb3de6db; trace=e2486a1f-ac33-4694-9853-7478eb3de6db,id=e0527837-f673-450b-8f51-5555ce23a787; trace=e2486a1f-ac33-4694-9853-7478eb3de6db,id=639535f8-ac2f-4da0-9d03-e3384e888366; trace=8873b55b-730f-4570-81af-215c0c6b429d,id=8873b55b-730f-4570-81af-215c0c6b429d; trace=8873b55b-730f-4570-81af-215c0c6b429d,id=31098bd7-8c38-4287-b8b0-07fc5e3a251d; trace=8873b55b-730f-4570-81af-215c0c6b429d,id=e3fcc6bd-9d7b-444f-bc2c-2f3b026e1ccc; trace=a7078f7f-675a-4fbe-9e8b-c02e9b816ea7,id=a7078f7f-675a-4fbe-9e8b-c02e9b816ea7; trace=a7078f7f-675a-4fbe-9e8b-c02e9b816ea7,id=0373d395-2c52-436f-8e52-1b0c2d1c0265; trace=a7078f7f-675a-4fbe-9e8b-c02e9b816ea7,id=2772abea-c1e9-40f0-bc53-8bce3e771e8e; trace=d2bb6b7d-3687-4c9b-8b1d-56cce7204f72,id=d2bb6b7d-3687-4c9b-8b1d-56cce7204f72; trace=d2bb6b7d-3687-4c9b-8b1d-56cce7204f72,id=4b1f5063-dd97-4e73-8d27-6165bdd7634a; trace=d2bb6b7d-3687-4c9b-8b1d-56cce7204f72,id=da3e1ac2-7e26-42aa-82ea-68f1c5e574fb; trace=95340ec6-5fc8-4c39-9386-967abc46ed2c,id=95340ec6-5fc8-4c39-9386-967abc46ed2c; trace=95340ec6-5fc8-4c39-9386-967abc46ed2c,id=d8857b72-98f5-4ec3-929a-38ffc4be24d6; trace=95340ec6-5fc8-4c39-9386-967abc46ed2c,id=a5a20367-9091-4774-88f8-e84ac33f1de8; trace=e9d36584-ad22-4572-88f4-4dddc155d530,id=e9d36584-ad22-4572-88f4-4dddc155d530; trace=e9d36584-ad22-4572-88f4-4dddc155d530,id=d68b6d6b-130e-4326-8c9f-4f7ffc242a9b; trace=e9d36584-ad22-4572-88f4-4dddc155d530,id=c3ef787e-8624-4574-8152-535de0966122; trace=1226a0d7-d2e2-40c1-96b6-7e7689479ce0,id=1226a0d7-d2e2-40c1-96b6-7e7689479ce0; trace=1226a0d7-d2e2-40c1-96b6-7e7689479ce0,id=7c140631-d512-48c3-88c7-924fe1b58e7d; trace=1226a0d7-d2e2-40c1-96b6-7e7689479ce0,id=3d898fc9-9cf1-47d2-ac36-53058d853641; trace=becdc6cb-83b8-4026-960f-7fdfaf1663e5,id=becdc6cb-83b8-4026-960f-7fdfaf1663e5; trace=becdc6cb-83b8-4026-960f-7fdfaf1663e5,id=c2f3a11c-e8d6-4af4-803a-0e22db33fa9a; trace=becdc6cb-83b8-4026-960f-7fdfaf1663e5,id=df86d051-20b4-4c1e-8a0e-334c1b6f4f9f; trace=07a734f7-f4db-43a3-8448-e06197c2f067,id=07a734f7-f4db-43a3-8448-e06197c2f067; trace=07a734f7-f4db-43a3-8448-e06197c2f067,id=e7ecf689-ce62-4bbe-8fbc-a88ad42f58e0; trace=07a734f7-f4db-43a3-8448-e06197c2f067,id=0c66a0b0-c482-4ca8-be77-4207ef93f5c2; trace=3005e1b9-befe-4f36-9703-70fcd1d8c2be,id=3005e1b9-befe-4f36-9703-70fcd1d8c2be; trace=3005e1b9-befe-4f36-9703-70fcd1d8c2be,id=2c7b195e-40b9-4778-bca1-c7f0b10893e0; trace=3005e1b9-befe-4f36-9703-70fcd1d8c2be,id=61c440c0-4cf4-4ebe-b793-1372206ac3b9; trace=35fd79b8-7c11-4a59-818d-8d78b6a703a4,id=35fd79b8-7c11-4a59-818d-8d78b6a703a4; trace=35fd79b8-7c11-4a59-818d-8d78b6a703a4,id=5cb403c4-201b-49e3-a3d4-720d431721ad; trace=35fd79b8-7c11-4a59-818d-8d78b6a703a4,id=a84cabf0-e7dd-4ecf-abde-8c2c23d1459a\n"
     ]
    },
    {
     "name": "stdout",
     "output_type": "stream",
     "text": [
      "Processed 977/1000 - Expected: 3 - Result: 2\n",
      "Processed 978/1000 - Expected: 3 - Result: 2\n",
      "Processed 979/1000 - Expected: 3 - Result: 2\n",
      "Processed 980/1000 - Expected: 3 - Result: 2\n",
      "Processed 981/1000 - Expected: 3 - Result: 2\n",
      "Processed 982/1000 - Expected: 3 - Result: 2\n",
      "Processed 983/1000 - Expected: 3 - Result: 2\n",
      "Processed 984/1000 - Expected: 3 - Result: 2\n",
      "Processed 985/1000 - Expected: 3 - Result: 2\n",
      "Processed 986/1000 - Expected: 3 - Result: 2\n",
      "Processed 987/1000 - Expected: 3 - Result: 2\n",
      "Processed 988/1000 - Expected: 3 - Result: 2\n",
      "Processed 989/1000 - Expected: 3 - Result: 2\n",
      "Processed 990/1000 - Expected: 3 - Result: 2\n",
      "Processed 991/1000 - Expected: 3 - Result: 2\n"
     ]
    },
    {
     "name": "stderr",
     "output_type": "stream",
     "text": [
      "Failed to batch ingest runs: langsmith.utils.LangSmithRateLimitError: Rate limit exceeded for https://api.smith.langchain.com/runs/batch. HTTPError('429 Client Error: Too Many Requests for url: https://api.smith.langchain.com/runs/batch', '{\"error\":\"Too many requests: tenant exceeded usage limits: Monthly unique traces usage limit exceeded\"}\\n')\n",
      "post: trace=a0e90ea0-fe6f-4685-b542-5a88842a8043,id=a0e90ea0-fe6f-4685-b542-5a88842a8043; trace=a0e90ea0-fe6f-4685-b542-5a88842a8043,id=b2600e4c-00b5-40b1-b3e5-96e52ea375b6; trace=a0e90ea0-fe6f-4685-b542-5a88842a8043,id=22896706-a2e8-4942-9f23-a01151854bc6; trace=8ef901b2-165f-4fa9-9864-dff13d90b551,id=8ef901b2-165f-4fa9-9864-dff13d90b551; trace=8ef901b2-165f-4fa9-9864-dff13d90b551,id=d473ec72-0387-46ea-abd5-a850d71ed472; trace=8ef901b2-165f-4fa9-9864-dff13d90b551,id=3bf33ba3-a68c-47fb-bb5a-1c9b97f15526; trace=08d1e8c0-2b02-40fb-bee0-150be360a29a,id=08d1e8c0-2b02-40fb-bee0-150be360a29a; trace=08d1e8c0-2b02-40fb-bee0-150be360a29a,id=807005d6-d17c-43ed-8c1a-dc58a507953d; trace=08d1e8c0-2b02-40fb-bee0-150be360a29a,id=0ad1113a-a9cd-4b4b-beeb-9bb5505516db; trace=2a565c3a-23c1-419c-8fb7-366f8bcb3dc5,id=2a565c3a-23c1-419c-8fb7-366f8bcb3dc5; trace=2a565c3a-23c1-419c-8fb7-366f8bcb3dc5,id=3ddcffbc-e3aa-484c-847c-22d6abeab87a; trace=2a565c3a-23c1-419c-8fb7-366f8bcb3dc5,id=8f409dcc-a75f-4103-826c-b59bd85fe015; trace=d72044d9-3bf2-4bb5-867f-a0b6b1e16011,id=d72044d9-3bf2-4bb5-867f-a0b6b1e16011; trace=d72044d9-3bf2-4bb5-867f-a0b6b1e16011,id=6460bb71-2236-4b9d-82a4-ab5a3099c8f5; trace=d72044d9-3bf2-4bb5-867f-a0b6b1e16011,id=8bba8ce6-c40b-4e47-976e-155fe8a81422; trace=6e08b183-bd1f-4b4d-8dcd-e33cfd0df40c,id=6e08b183-bd1f-4b4d-8dcd-e33cfd0df40c; trace=6e08b183-bd1f-4b4d-8dcd-e33cfd0df40c,id=c19ec3ad-2896-4b6e-bd21-30cf51572018; trace=6e08b183-bd1f-4b4d-8dcd-e33cfd0df40c,id=e55699a0-887d-40db-ba63-ed778e3b66e9; trace=e3201676-acee-4695-8f7d-67382916aff2,id=e3201676-acee-4695-8f7d-67382916aff2; trace=e3201676-acee-4695-8f7d-67382916aff2,id=08691724-7070-4e86-abfe-aa40f1e558cd; trace=e3201676-acee-4695-8f7d-67382916aff2,id=fd944b50-1af5-4bc0-9077-c425fc9c2f30; trace=8ece999d-6155-411c-9baa-a717a6aad771,id=8ece999d-6155-411c-9baa-a717a6aad771; trace=8ece999d-6155-411c-9baa-a717a6aad771,id=6acef030-7915-46a3-b33a-438c0811c3ab; trace=8ece999d-6155-411c-9baa-a717a6aad771,id=de651e89-d06b-4ff1-8bed-749bba223ab6; trace=35c118c8-a072-46cb-ac9e-2ce4b30e8e26,id=35c118c8-a072-46cb-ac9e-2ce4b30e8e26; trace=35c118c8-a072-46cb-ac9e-2ce4b30e8e26,id=c8c0a44f-7f8e-470c-a3c6-710c06db618c; trace=35c118c8-a072-46cb-ac9e-2ce4b30e8e26,id=f4d4b616-9a62-4233-9069-cd55a71717a4; trace=06851095-a200-40e4-a414-085b511ffdbc,id=06851095-a200-40e4-a414-085b511ffdbc; trace=06851095-a200-40e4-a414-085b511ffdbc,id=80f84296-3473-4b02-a1fb-a0a3e1e42375; trace=06851095-a200-40e4-a414-085b511ffdbc,id=49737538-0d0a-466f-9c38-a8d9a13560a8; trace=98d8f38a-cda4-4bf5-aa5f-8c9852aef274,id=98d8f38a-cda4-4bf5-aa5f-8c9852aef274; trace=98d8f38a-cda4-4bf5-aa5f-8c9852aef274,id=c2afb508-998e-4b61-8e27-a0f8694b30e4; trace=98d8f38a-cda4-4bf5-aa5f-8c9852aef274,id=2da7a612-28db-43ce-ae17-46469864718d; trace=f912b0f3-aecc-4e87-9d38-58c0f32dedbd,id=f912b0f3-aecc-4e87-9d38-58c0f32dedbd; trace=f912b0f3-aecc-4e87-9d38-58c0f32dedbd,id=87e8ced6-027a-4c21-9b1b-fc577fdfef64; trace=f912b0f3-aecc-4e87-9d38-58c0f32dedbd,id=73ba2884-0ff5-4ec2-b837-a828040314b1; trace=6d1558e4-161f-44f2-94e4-e0a00f689114,id=6d1558e4-161f-44f2-94e4-e0a00f689114; trace=6d1558e4-161f-44f2-94e4-e0a00f689114,id=a68c6d66-fa53-44eb-b721-9207490e1533; trace=6d1558e4-161f-44f2-94e4-e0a00f689114,id=4c36a760-9367-45d7-ae9a-7f102fa439ca; trace=59604578-e375-4bdf-8892-ad33ef1aba60,id=59604578-e375-4bdf-8892-ad33ef1aba60; trace=59604578-e375-4bdf-8892-ad33ef1aba60,id=3a3ea348-c429-49d7-8b8e-a2466748985c; trace=59604578-e375-4bdf-8892-ad33ef1aba60,id=d951fec7-b683-4e26-93d9-225105c7f4b3\n"
     ]
    },
    {
     "name": "stdout",
     "output_type": "stream",
     "text": [
      "Processed 992/1000 - Expected: 3 - Result: 2\n",
      "Processed 993/1000 - Expected: 3 - Result: 2\n",
      "Processed 994/1000 - Expected: 3 - Result: 2\n",
      "Processed 995/1000 - Expected: 3 - Result: 2\n",
      "Processed 996/1000 - Expected: 3 - Result: 2\n",
      "Processed 997/1000 - Expected: 3 - Result: 2\n",
      "Processed 998/1000 - Expected: 3 - Result: 2\n",
      "Processed 999/1000 - Expected: 3 - Result: 2\n",
      "Processed 1000/1000 - Expected: 3 - Result: 2\n"
     ]
    },
    {
     "name": "stderr",
     "output_type": "stream",
     "text": [
      "Failed to batch ingest runs: langsmith.utils.LangSmithRateLimitError: Rate limit exceeded for https://api.smith.langchain.com/runs/batch. HTTPError('429 Client Error: Too Many Requests for url: https://api.smith.langchain.com/runs/batch', '{\"error\":\"Too many requests: tenant exceeded usage limits: Monthly unique traces usage limit exceeded\"}\\n')\n",
      "post: trace=dbc0e14f-b52c-4ca3-b4cb-230a2976b89e,id=dbc0e14f-b52c-4ca3-b4cb-230a2976b89e; trace=dbc0e14f-b52c-4ca3-b4cb-230a2976b89e,id=2169d91d-f8b9-4f63-904d-1d8ea8861230; trace=dbc0e14f-b52c-4ca3-b4cb-230a2976b89e,id=ea3158b5-bd1f-4b4d-a86f-de6186f4b15b; trace=0ae69aab-3606-45e5-a14b-782fe4d551df,id=0ae69aab-3606-45e5-a14b-782fe4d551df; trace=0ae69aab-3606-45e5-a14b-782fe4d551df,id=df48cac1-061a-4454-90a5-36453448f560; trace=0ae69aab-3606-45e5-a14b-782fe4d551df,id=bcce0a2b-9f1b-48f5-8515-b32ea50d54b4; trace=865aaaf7-5530-4c57-b5a8-30a47ea6dbc1,id=865aaaf7-5530-4c57-b5a8-30a47ea6dbc1; trace=865aaaf7-5530-4c57-b5a8-30a47ea6dbc1,id=840e6824-5847-4273-9283-8623383d2efc; trace=865aaaf7-5530-4c57-b5a8-30a47ea6dbc1,id=a7cbb014-e051-41a3-8dd6-f5bdfc9cdde4; trace=dd3f7a95-1019-4958-a7c6-86c1e2a139a9,id=dd3f7a95-1019-4958-a7c6-86c1e2a139a9; trace=dd3f7a95-1019-4958-a7c6-86c1e2a139a9,id=8b1d7dd0-e4fb-4712-b1f7-f05e091c053d; trace=dd3f7a95-1019-4958-a7c6-86c1e2a139a9,id=98fb9c2b-bdad-4bb9-a173-0db9da9a940b; trace=68ddc698-bc7f-47e8-862a-eb4dc44b8ed1,id=68ddc698-bc7f-47e8-862a-eb4dc44b8ed1; trace=68ddc698-bc7f-47e8-862a-eb4dc44b8ed1,id=bf213c12-e0c6-4aca-8846-b7a29b04b431; trace=68ddc698-bc7f-47e8-862a-eb4dc44b8ed1,id=af3c942e-2dfb-43ad-8915-88fc54465ff0; trace=d48a3e0b-2821-4912-8f4e-54f7e6edd932,id=d48a3e0b-2821-4912-8f4e-54f7e6edd932; trace=d48a3e0b-2821-4912-8f4e-54f7e6edd932,id=5a66a8c0-1864-41c9-8996-fb3ce2a226eb; trace=d48a3e0b-2821-4912-8f4e-54f7e6edd932,id=63020bbc-70c5-42c1-b955-45a4f232616e; trace=0d7d67ed-38f4-4c0a-b9c3-dccb21987d35,id=0d7d67ed-38f4-4c0a-b9c3-dccb21987d35; trace=0d7d67ed-38f4-4c0a-b9c3-dccb21987d35,id=74dae415-a39f-49cf-a8b8-412a5a9665e9; trace=0d7d67ed-38f4-4c0a-b9c3-dccb21987d35,id=d3ae6c58-4d9c-4935-bad4-95b5e9b22c8c; trace=b3bc29ac-b802-49bf-b3c5-be7029b71c54,id=b3bc29ac-b802-49bf-b3c5-be7029b71c54; trace=b3bc29ac-b802-49bf-b3c5-be7029b71c54,id=55c280b2-5205-43da-9234-8ed44ea68aef; trace=b3bc29ac-b802-49bf-b3c5-be7029b71c54,id=c6082113-0bf3-435f-829e-b4e44e0b5227; trace=630fb0e2-e3b1-4609-9194-fa7aea3688ff,id=630fb0e2-e3b1-4609-9194-fa7aea3688ff; trace=630fb0e2-e3b1-4609-9194-fa7aea3688ff,id=726e96a4-ca98-41f3-a4cd-d5a0f7f2934e; trace=630fb0e2-e3b1-4609-9194-fa7aea3688ff,id=4ed7c690-624e-48c4-b6c9-ffc8ee129124; trace=446f41fb-d59b-4103-9f1a-0c464af545de,id=446f41fb-d59b-4103-9f1a-0c464af545de; trace=446f41fb-d59b-4103-9f1a-0c464af545de,id=4e2971dd-73f3-4ff7-8ba5-644feb5d450c; trace=446f41fb-d59b-4103-9f1a-0c464af545de,id=1224219b-19e1-43ad-b620-6ed5854dcdf5; trace=35e92a29-c3c4-4c6f-89c9-d4134a34124a,id=35e92a29-c3c4-4c6f-89c9-d4134a34124a; trace=35e92a29-c3c4-4c6f-89c9-d4134a34124a,id=74b1b0a5-c46e-416d-b021-f4113b86834c; trace=35e92a29-c3c4-4c6f-89c9-d4134a34124a,id=47ca4345-7546-4a70-9f80-b1bff2521a11; trace=c22c4d26-e593-4a65-999c-8f9a13bda531,id=c22c4d26-e593-4a65-999c-8f9a13bda531; trace=c22c4d26-e593-4a65-999c-8f9a13bda531,id=453c5495-c447-4feb-aec8-6c648846f80a; trace=c22c4d26-e593-4a65-999c-8f9a13bda531,id=8d7d0834-9182-4300-a7bb-21718467950c; trace=0fd53d47-3ca9-4618-a4cd-9f77e1f39d99,id=0fd53d47-3ca9-4618-a4cd-9f77e1f39d99; trace=0fd53d47-3ca9-4618-a4cd-9f77e1f39d99,id=44280322-1cdf-461d-bc9b-6e70e5b99705; trace=0fd53d47-3ca9-4618-a4cd-9f77e1f39d99,id=36de97b5-60f5-4526-a67b-7df16d00fa7d; trace=43004e3c-c46f-4bfa-8f80-c8721243365b,id=43004e3c-c46f-4bfa-8f80-c8721243365b; trace=43004e3c-c46f-4bfa-8f80-c8721243365b,id=a489eeb2-b6c9-48a1-8ef2-685fb6b36531; trace=43004e3c-c46f-4bfa-8f80-c8721243365b,id=97670f0a-245e-4ec3-b2b6-d69728359984; trace=e29de019-d9fe-4db4-bef8-7c63f8e4ba81,id=e29de019-d9fe-4db4-bef8-7c63f8e4ba81; trace=e29de019-d9fe-4db4-bef8-7c63f8e4ba81,id=facf3fa2-ad0c-4ebb-ba2d-7ba0ee3b976f; trace=e29de019-d9fe-4db4-bef8-7c63f8e4ba81,id=8bf9ca10-2170-41aa-89f4-8f3b6ffb4177\n",
      "Failed to batch ingest runs: langsmith.utils.LangSmithRateLimitError: Rate limit exceeded for https://api.smith.langchain.com/runs/batch. HTTPError('429 Client Error: Too Many Requests for url: https://api.smith.langchain.com/runs/batch', '{\"error\":\"Too many requests: tenant exceeded usage limits: Monthly unique traces usage limit exceeded\"}\\n')\n",
      "post: trace=5fde9579-de60-43f3-87c4-df4b88d484be,id=5fde9579-de60-43f3-87c4-df4b88d484be; trace=5fde9579-de60-43f3-87c4-df4b88d484be,id=4b5df3f9-f2ff-4039-a629-97ae7efd69e7; trace=5fde9579-de60-43f3-87c4-df4b88d484be,id=867abc7d-ddd1-4903-8757-c5ba4ed63f8d; trace=5d5278f1-e716-4fcd-bee7-16464d5e536c,id=5d5278f1-e716-4fcd-bee7-16464d5e536c; trace=5d5278f1-e716-4fcd-bee7-16464d5e536c,id=af268eb0-dbfc-474f-8978-5150ba9069db; trace=5d5278f1-e716-4fcd-bee7-16464d5e536c,id=cc9f155e-bb15-40cc-af22-fe962c3ee0ff; trace=edc28577-5f1a-4a85-8a28-9d4c6b28f227,id=edc28577-5f1a-4a85-8a28-9d4c6b28f227; trace=edc28577-5f1a-4a85-8a28-9d4c6b28f227,id=90443b92-4b86-42c6-8877-083ffa0fe787; trace=edc28577-5f1a-4a85-8a28-9d4c6b28f227,id=917d9d27-ad97-436f-a99b-cf1bb16435a8; trace=8c27b7d8-8c45-4e3c-addd-2fa05cb654eb,id=8c27b7d8-8c45-4e3c-addd-2fa05cb654eb; trace=8c27b7d8-8c45-4e3c-addd-2fa05cb654eb,id=b03e77cd-b9c7-42d6-86da-ef680ce4b3d8; trace=8c27b7d8-8c45-4e3c-addd-2fa05cb654eb,id=3f6c925c-8601-4538-acf9-3f1791361bb7; trace=980e7529-d536-4430-b693-3442480116d0,id=980e7529-d536-4430-b693-3442480116d0; trace=980e7529-d536-4430-b693-3442480116d0,id=8270fa92-4801-40dd-80fa-d6756f53eeb3; trace=980e7529-d536-4430-b693-3442480116d0,id=d3e27418-ca4f-497e-b2d7-41169da9c607; trace=6e3173b4-60ca-46f9-bee6-09d7756da30b,id=6e3173b4-60ca-46f9-bee6-09d7756da30b; trace=6e3173b4-60ca-46f9-bee6-09d7756da30b,id=62c69b4c-c3bf-4fa4-8bca-672d0d1a7923; trace=6e3173b4-60ca-46f9-bee6-09d7756da30b,id=b14e2efa-beff-4519-9ebf-3513162995cc; trace=bbced523-bc84-4f40-ba5f-cd1228823951,id=bbced523-bc84-4f40-ba5f-cd1228823951; trace=bbced523-bc84-4f40-ba5f-cd1228823951,id=3e03cc91-3c09-4037-a794-824041f23efc; trace=bbced523-bc84-4f40-ba5f-cd1228823951,id=0816fc64-46f7-466f-874c-c8a6c9f146ab; trace=925bdcdd-6ebc-46f4-bc4b-f2406f4c570f,id=925bdcdd-6ebc-46f4-bc4b-f2406f4c570f; trace=925bdcdd-6ebc-46f4-bc4b-f2406f4c570f,id=3eeaadf4-521e-42e9-9fc7-df0c90ac4486; trace=925bdcdd-6ebc-46f4-bc4b-f2406f4c570f,id=49cd443d-dde4-4365-924b-f0f9a8c30495; trace=ba1c8894-0dbb-4a27-babc-e9b981c07582,id=ba1c8894-0dbb-4a27-babc-e9b981c07582; trace=ba1c8894-0dbb-4a27-babc-e9b981c07582,id=a9f9e73e-a6e6-443a-87b5-897633c5a087; trace=ba1c8894-0dbb-4a27-babc-e9b981c07582,id=37bb7704-e92e-4f57-ae6d-b1e62d6b96b8\n"
     ]
    }
   ],
   "source": [
    "# Duyệt từng câu trong user_Query\n",
    "for idx, query in enumerate(queries):\n",
    "    # Gọi model để phân loại câu hỏi\n",
    "    result_domain = gemeni_func.classify_query(query)\n",
    "    \n",
    "    # Lưu vào danh sách\n",
    "    results.append([query, expected_domains[idx], result_domain])\n",
    "\n",
    "    # Hiển thị tiến trình\n",
    "    print(f\"Processed {idx + 1}/{len(queries)} - Expected: {expected_domains[idx]} - Result: {result_domain}\")\n",
    "\n",
    "    # Chờ 5 giây trước khi tiếp tục\n",
    "    time.sleep(5)\n",
    "\n",
    "    # Sau mỗi batch_size câu, ghi kết quả vào file\n",
    "    if len(results) >= batch_size:\n",
    "        result_df = pd.DataFrame(results, columns=[\"user_Query\", \"expected_Domain\", \"result_Domain_Prompt\"])\n",
    "        \n",
    "        # Nếu file đã tồn tại, append vào\n",
    "        try:\n",
    "            existing_df = pd.read_excel(output_file, engine=\"openpyxl\")\n",
    "            result_df = pd.concat([existing_df, result_df], ignore_index=True)\n",
    "        except FileNotFoundError:\n",
    "            pass  # Nếu file chưa tồn tại, sẽ tạo mới\n",
    "        \n",
    "        # Ghi vào file Excel\n",
    "        result_df.to_excel(output_file, index=False, engine=\"openpyxl\")\n",
    "\n",
    "        # Xóa danh sách để chuẩn bị batch tiếp theo\n",
    "        results = []"
   ]
  }
 ],
 "metadata": {
  "kernelspec": {
   "display_name": "machinelearning-lTTH8rYd",
   "language": "python",
   "name": "python3"
  },
  "language_info": {
   "codemirror_mode": {
    "name": "ipython",
    "version": 3
   },
   "file_extension": ".py",
   "mimetype": "text/x-python",
   "name": "python",
   "nbconvert_exporter": "python",
   "pygments_lexer": "ipython3",
   "version": "3.11.5"
  }
 },
 "nbformat": 4,
 "nbformat_minor": 2
}
