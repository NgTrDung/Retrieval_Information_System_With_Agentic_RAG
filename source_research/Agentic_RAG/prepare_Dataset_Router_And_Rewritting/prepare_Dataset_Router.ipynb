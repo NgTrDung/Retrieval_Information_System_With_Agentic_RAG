{
 "cells": [
  {
   "cell_type": "code",
   "execution_count": 1,
   "metadata": {},
   "outputs": [],
   "source": [
    "import pandas as pd"
   ]
  },
  {
   "cell_type": "code",
   "execution_count": 2,
   "metadata": {},
   "outputs": [],
   "source": [
    "# Hàm để đọc và làm sạch dữ liệu từ các file văn bản\n",
    "def read_and_process_files(file_paths):\n",
    "    all_lines = []\n",
    "    expected_domains = []  # Mảng để lưu giá trị 'expected_Domain'\n",
    "\n",
    "    for idx, file_path in enumerate(file_paths):\n",
    "        with open(file_path, \"r\", encoding=\"utf-8\") as file:\n",
    "            lines = [line.strip() for line in file.readlines()]\n",
    "            # Xử lý nếu câu có dấu ngoặc kép, sẽ xóa dấu ngoặc kép\n",
    "            lines = [line.strip('\"') for line in lines]\n",
    "\n",
    "            # Nếu là file thứ 3, chỉ lấy 250 câu đầu tiên\n",
    "            if idx == 2:\n",
    "                lines = lines[:250]\n",
    "\n",
    "            all_lines.extend(lines)  # Thêm các câu hỏi vào danh sách chung\n",
    "\n",
    "            # Tạo giá trị 'expected_Domain' cho từng file\n",
    "            if idx == 0:\n",
    "                expected_domains.extend([0] * len(lines))  # File 1 -> expected_Domain = 0\n",
    "            elif idx == 1:\n",
    "                expected_domains.extend([1] * len(lines))  # File 2 -> expected_Domain = 1\n",
    "            elif idx == 2:\n",
    "                expected_domains.extend([2] * len(lines))  # File 3 -> expected_Domain = 2\n",
    "            else:\n",
    "                expected_domains.extend([3] * len(lines))\n",
    "\n",
    "    return all_lines, expected_domains  # Trả về danh sách câu hỏi và giá trị domain tương ứng"
   ]
  },
  {
   "cell_type": "code",
   "execution_count": 3,
   "metadata": {},
   "outputs": [],
   "source": [
    "# Hàm để cập nhật dữ liệu vào file Excel\n",
    "def update_excel_with_queries(file_paths, excel_path, sheet_name=\"Sheet1\"):\n",
    "    # Bước 1: Đọc và xử lý dữ liệu từ các file văn bản\n",
    "    all_lines, expected_domains = read_and_process_files(file_paths)\n",
    "\n",
    "    # Bước 2: Đọc file Excel hiện tại\n",
    "    df = pd.read_excel(excel_path, sheet_name=sheet_name)\n",
    "\n",
    "    # Bước 3: Thêm dữ liệu vào các cột 'user_Query' và 'expected_Domain'\n",
    "    new_data = pd.DataFrame({\n",
    "        \"user_Query\": all_lines,\n",
    "        \"expected_Domain\": expected_domains\n",
    "    })  # Tạo DataFrame với hai cột\n",
    "    df = pd.concat([df, new_data], ignore_index=True)  # Ghép dữ liệu mới vào dưới\n",
    "\n",
    "    # Bước 4: Lưu file Excel sau khi cập nhật\n",
    "    df.to_excel(excel_path, sheet_name=sheet_name, index=False)\n",
    "\n",
    "    print(f\"Đã thêm {len(all_lines)} câu vào file .xlsx thành công!\")"
   ]
  },
  {
   "cell_type": "code",
   "execution_count": 4,
   "metadata": {},
   "outputs": [],
   "source": [
    "# Danh sách các đường dẫn tới các file văn bản\n",
    "file_paths = [\n",
    "    r\"d:\\13_21133021_NguyenTrongDung_LuuTruMonHoc\\data_KLTN\\prompting_Query_Router_0.txt\",\n",
    "    r\"d:\\13_21133021_NguyenTrongDung_LuuTruMonHoc\\data_KLTN\\prompting_Query_Router_1.txt\",\n",
    "    r\"d:\\13_21133021_NguyenTrongDung_LuuTruMonHoc\\data_KLTN\\dataset_Query.txt\",\n",
    "    r\"d:\\13_21133021_NguyenTrongDung_LuuTruMonHoc\\data_KLTN\\prompting_Query_Router_3.txt\"\n",
    "]"
   ]
  },
  {
   "cell_type": "code",
   "execution_count": 5,
   "metadata": {},
   "outputs": [
    {
     "name": "stdout",
     "output_type": "stream",
     "text": [
      "Đã thêm 1000 câu vào file .xlsx thành công!\n"
     ]
    }
   ],
   "source": [
    "# Đường dẫn tới file Excel\n",
    "excel_path = r\"d:\\13_21133021_NguyenTrongDung_LuuTruMonHoc\\data_KLTN\\dataset_Query_Router.xlsx\"\n",
    "\n",
    "# Gọi hàm để cập nhật Excel với dữ liệu từ các file văn bản\n",
    "update_excel_with_queries(file_paths, excel_path)"
   ]
  }
 ],
 "metadata": {
  "kernelspec": {
   "display_name": "Python 3",
   "language": "python",
   "name": "python3"
  },
  "language_info": {
   "codemirror_mode": {
    "name": "ipython",
    "version": 3
   },
   "file_extension": ".py",
   "mimetype": "text/x-python",
   "name": "python",
   "nbconvert_exporter": "python",
   "pygments_lexer": "ipython3",
   "version": "3.9.8"
  }
 },
 "nbformat": 4,
 "nbformat_minor": 2
}
