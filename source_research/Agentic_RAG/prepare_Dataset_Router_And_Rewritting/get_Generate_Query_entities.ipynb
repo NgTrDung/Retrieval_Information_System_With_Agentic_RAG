{
 "cells": [
  {
   "cell_type": "markdown",
   "metadata": {},
   "source": [
    "## 1.Import library"
   ]
  },
  {
   "cell_type": "code",
   "execution_count": 2,
   "metadata": {},
   "outputs": [],
   "source": [
    "import sys\n",
    "project_path = r\"D:/DaiHoc/machinelearning/TLCN/DoAnTotNghiep_chat_bot/\"\n",
    "sys.path.append(project_path)\n",
    "from source.function.utils_result import RAG\n",
    "from source.search.utils_search import Qdrant_Utils\n",
    "from source.rerank.utils_rerank import Rerank_Utils  \n",
    "from source.model.embedding_model import Sentences_Transformer_Embedding\n",
    "from source.model.extract_model import Bert_Extract\n",
    "from source.model.generate_model import Gemini\n",
    "from source.model.rerank_model import Cohere\n",
    "from source.data.vectordb.qdrant import Qdrant_Vector\n",
    "from source.core.config import Settings\n",
    "from source.generate.generate import Gemini_Generate\n",
    "from source.extract.utils_extract import Extract_Information\n",
    "from source.schema.chatbot_querry import ChatbotQuery\n",
    "\n",
    "setting=Settings()\n",
    "gemini=Gemini(setting)\n",
    "cohere=Cohere(setting)\n",
    "bert=Bert_Extract(setting)\n",
    "sentences_transformer_embedding=Sentences_Transformer_Embedding(setting)\n",
    "qdrant=Qdrant_Vector(setting,sentences_transformer_embedding)\n",
    "rerank_Utils=Rerank_Utils(cohere)\n",
    "extract_Utils= Extract_Information(bert)\n",
    "generate_Utils=Gemini_Generate(gemini,setting)\n",
    "qdrant_Utils=Qdrant_Utils(qdrant, generate_Utils)\n",
    "rag=RAG(generate_Utils,extract_Utils,qdrant_Utils,rerank_Utils,setting,sentences_transformer_embedding)\n",
    "import pandas as pd\n",
    "from tqdm import tqdm\n",
    "import google.generativeai as genai \n",
    "from sklearn.metrics.pairwise import cosine_similarity\n",
    "import re\n",
    "import json"
   ]
  },
  {
   "cell_type": "markdown",
   "metadata": {},
   "source": [
    "## 2. Load file dataset Generate Query"
   ]
  },
  {
   "cell_type": "code",
   "execution_count": 3,
   "metadata": {},
   "outputs": [
    {
     "name": "stdout",
     "output_type": "stream",
     "text": [
      "   STT                                              query  \\\n",
      "0    1  Trong Thông tư số 57/2015/TT-BYT do Bộ Y tế ba...   \n",
      "1    2  Trong lĩnh vực Thể thao - Y tế, Thông tư số 57...   \n",
      "2    3  Trong Thông tư số 57/2015/TT-BYT của Bộ Y tế, ...   \n",
      "3    4  Trong văn bản pháp luật liên quan đến quyền dâ...   \n",
      "4    5  Văn bản do Bộ Y tế ban hành ngày 30/12/2015 có...   \n",
      "\n",
      "                                      entities_label  \n",
      "0  {\"Loai-Van-Ban\": \"Thông tư\", \"Noi-Ban-Hanh\": \"...  \n",
      "1  {\"LinhVuc-Nganh\": \"Thể thao - Y tế\", \"Loai-Van...  \n",
      "2  {\"Loai-Van-Ban\": \"Thông tư\", \"Noi-Ban-Hanh\": \"...  \n",
      "3  {\"Noi-Ban-Hanh\": \"Bộ Y tế\", \"LinhVuc-Nganh\": \"...  \n",
      "4  {\"Noi-Ban-Hanh\": \"Bộ Y tế\", \"Ngay-Ban-Hanh\": \"...  \n"
     ]
    }
   ],
   "source": [
    "# Đọc file dataset_query_entities\n",
    "file_path = \"../data_danhgia_module_router_generate/dataset_Query_Entities.xlsx\"\n",
    "\n",
    "df_query_entities = pd.read_excel(file_path, engine=\"openpyxl\")\n",
    "\n",
    "# Hiển thị 5 dòng đầu tiên\n",
    "print(df_query_entities.head(5))"
   ]
  },
  {
   "cell_type": "markdown",
   "metadata": {},
   "source": [
    "> các key duy nhất"
   ]
  },
  {
   "cell_type": "code",
   "execution_count": 4,
   "metadata": {},
   "outputs": [
    {
     "name": "stdout",
     "output_type": "stream",
     "text": [
      "Các key duy nhất trong entities_label:\n",
      "- LinhVuc-Nganh\n",
      "- Loai-Van-Ban\n",
      "- Ngay-Ban-Hanh\n",
      "- Noi-Ban-Hanh\n",
      "- So-Hieu\n"
     ]
    }
   ],
   "source": [
    "import json\n",
    "\n",
    "all_keys = set()\n",
    "\n",
    "for val in df_query_entities['entities_label'].unique():\n",
    "    try:\n",
    "        entity_dict = json.loads(val)\n",
    "        all_keys.update(entity_dict.keys())\n",
    "    except Exception as e:\n",
    "        print(f\"Lỗi khi xử lý chuỗi: {val} - {e}\")\n",
    "\n",
    "print(\"Các key duy nhất trong entities_label:\")\n",
    "for key in sorted(all_keys):\n",
    "    print(f\"- {key}\")\n"
   ]
  },
  {
   "cell_type": "markdown",
   "metadata": {},
   "source": [
    "### 3.CALL API Gemini"
   ]
  },
  {
   "cell_type": "code",
   "execution_count": 5,
   "metadata": {},
   "outputs": [],
   "source": [
    "setting=Settings()\n",
    "gemini=Gemini(setting)\n",
    "gemini_func=Gemini_Generate(gemini,setting)"
   ]
  },
  {
   "cell_type": "code",
   "execution_count": 6,
   "metadata": {},
   "outputs": [],
   "source": [
    "def extract_json_dict(text):\n",
    "    # Dùng regex để trích nội dung bên trong ```json ... ```\n",
    "    match = re.search(r'```json\\s*(\\{.*?\\})\\s*```', text, re.DOTALL)\n",
    "    if match:\n",
    "        json_str = match.group(1)\n",
    "        return json.loads(json_str)\n",
    "    else:\n",
    "        raise ValueError(\"Không tìm thấy nội dung JSON hợp lệ.\")"
   ]
  },
  {
   "cell_type": "code",
   "execution_count": 7,
   "metadata": {},
   "outputs": [
    {
     "name": "stdout",
     "output_type": "stream",
     "text": [
      "{}\n"
     ]
    }
   ],
   "source": [
    "result=gemini_func.extract_entities(\"Bao nhiêu tuổi thì phải đăng kí kết hôn?\")\n",
    "print(extract_json_dict(result))"
   ]
  },
  {
   "cell_type": "code",
   "execution_count": 8,
   "metadata": {},
   "outputs": [],
   "source": [
    "import time\n",
    "from tqdm import tqdm\n",
    "import pandas as pd\n",
    "import json\n",
    "\n",
    "def process_extract_entities(input_path, output_path, batch_size=10):\n",
    "    # Đọc dữ liệu từ file Excel\n",
    "    df = pd.read_excel(input_path, engine=\"openpyxl\")\n",
    "    queries = df[\"query\"].tolist()\n",
    "    labels = df[\"entities_label\"].tolist()\n",
    "\n",
    "    results = []\n",
    "\n",
    "    for idx, (query, label_str) in enumerate(tqdm(zip(queries, labels), total=len(queries), desc=\"Extracting entities\")):\n",
    "        try:\n",
    "            # Gọi Gemini để trích xuất entities\n",
    "            raw_result = gemini_func.extract_entities(query)\n",
    "            entity_dict = extract_json_dict(raw_result)\n",
    "        except Exception as e:\n",
    "            print(f\"Lỗi ở dòng {idx + 1}: {e}\")\n",
    "            entity_dict = {}\n",
    "\n",
    "        # Lưu kết quả (gồm cả nhãn thực tế)\n",
    "        results.append({\n",
    "            \"query\": query,\n",
    "            \"predict_entities\": json.dumps(entity_dict, ensure_ascii=False),\n",
    "            \"entities_label\": label_str,\n",
    "        })\n",
    "\n",
    "        # Ghi từng batch vào file\n",
    "        if len(results) >= batch_size:\n",
    "            _append_results_to_excel(results, output_path)\n",
    "            results = []\n",
    "\n",
    "        time.sleep(3)  # Tránh spam API\n",
    "\n",
    "    # Ghi phần còn lại\n",
    "    if results:\n",
    "        _append_results_to_excel(results, output_path)\n",
    "\n",
    "def _append_results_to_excel(results, output_path):\n",
    "    result_df = pd.DataFrame(results)\n",
    "    try:\n",
    "        existing_df = pd.read_excel(output_path, engine=\"openpyxl\")\n",
    "        result_df = pd.concat([existing_df, result_df], ignore_index=True)\n",
    "    except FileNotFoundError:\n",
    "        pass\n",
    "    result_df.to_excel(output_path, index=False, engine=\"openpyxl\")\n",
    "    print(f\"Đã lưu {len(results)} kết quả vào {output_path}\")\n"
   ]
  },
  {
   "cell_type": "code",
   "execution_count": 9,
   "metadata": {},
   "outputs": [
    {
     "name": "stderr",
     "output_type": "stream",
     "text": [
      "Extracting entities:   1%|          | 9/906 [00:38<1:03:37,  4.26s/it]"
     ]
    },
    {
     "name": "stdout",
     "output_type": "stream",
     "text": [
      "Đã lưu 10 kết quả vào ../data_danhgia_module_router_generate/eval_entities_extract.xlsx\n"
     ]
    },
    {
     "name": "stderr",
     "output_type": "stream",
     "text": [
      "Extracting entities:   2%|▏         | 19/906 [01:22<1:04:08,  4.34s/it]"
     ]
    },
    {
     "name": "stdout",
     "output_type": "stream",
     "text": [
      "Đã lưu 10 kết quả vào ../data_danhgia_module_router_generate/eval_entities_extract.xlsx\n"
     ]
    },
    {
     "name": "stderr",
     "output_type": "stream",
     "text": [
      "Extracting entities:   3%|▎         | 29/906 [02:06<1:06:51,  4.57s/it]"
     ]
    },
    {
     "name": "stdout",
     "output_type": "stream",
     "text": [
      "Đã lưu 10 kết quả vào ../data_danhgia_module_router_generate/eval_entities_extract.xlsx\n"
     ]
    },
    {
     "name": "stderr",
     "output_type": "stream",
     "text": [
      "Extracting entities:   4%|▍         | 39/906 [02:50<1:01:33,  4.26s/it]"
     ]
    },
    {
     "name": "stdout",
     "output_type": "stream",
     "text": [
      "Đã lưu 10 kết quả vào ../data_danhgia_module_router_generate/eval_entities_extract.xlsx\n"
     ]
    },
    {
     "name": "stderr",
     "output_type": "stream",
     "text": [
      "Extracting entities:   5%|▌         | 49/906 [03:37<1:07:16,  4.71s/it]"
     ]
    },
    {
     "name": "stdout",
     "output_type": "stream",
     "text": [
      "Đã lưu 10 kết quả vào ../data_danhgia_module_router_generate/eval_entities_extract.xlsx\n"
     ]
    },
    {
     "name": "stderr",
     "output_type": "stream",
     "text": [
      "Extracting entities:   7%|▋         | 59/906 [04:23<1:03:38,  4.51s/it]"
     ]
    },
    {
     "name": "stdout",
     "output_type": "stream",
     "text": [
      "Đã lưu 10 kết quả vào ../data_danhgia_module_router_generate/eval_entities_extract.xlsx\n"
     ]
    },
    {
     "name": "stderr",
     "output_type": "stream",
     "text": [
      "Extracting entities:   8%|▊         | 69/906 [05:20<1:09:40,  4.99s/it]"
     ]
    },
    {
     "name": "stdout",
     "output_type": "stream",
     "text": [
      "Đã lưu 10 kết quả vào ../data_danhgia_module_router_generate/eval_entities_extract.xlsx\n"
     ]
    },
    {
     "name": "stderr",
     "output_type": "stream",
     "text": [
      "Extracting entities:   9%|▊         | 79/906 [06:03<59:14,  4.30s/it]  "
     ]
    },
    {
     "name": "stdout",
     "output_type": "stream",
     "text": [
      "Đã lưu 10 kết quả vào ../data_danhgia_module_router_generate/eval_entities_extract.xlsx\n"
     ]
    },
    {
     "name": "stderr",
     "output_type": "stream",
     "text": [
      "Extracting entities:  10%|▉         | 89/906 [06:48<1:02:28,  4.59s/it]"
     ]
    },
    {
     "name": "stdout",
     "output_type": "stream",
     "text": [
      "Đã lưu 10 kết quả vào ../data_danhgia_module_router_generate/eval_entities_extract.xlsx\n"
     ]
    },
    {
     "name": "stderr",
     "output_type": "stream",
     "text": [
      "Extracting entities:  11%|█         | 99/906 [07:32<1:00:59,  4.53s/it]"
     ]
    },
    {
     "name": "stdout",
     "output_type": "stream",
     "text": [
      "Đã lưu 10 kết quả vào ../data_danhgia_module_router_generate/eval_entities_extract.xlsx\n"
     ]
    },
    {
     "name": "stderr",
     "output_type": "stream",
     "text": [
      "Extracting entities:  12%|█▏        | 109/906 [08:17<57:43,  4.35s/it]  "
     ]
    },
    {
     "name": "stdout",
     "output_type": "stream",
     "text": [
      "Đã lưu 10 kết quả vào ../data_danhgia_module_router_generate/eval_entities_extract.xlsx\n"
     ]
    },
    {
     "name": "stderr",
     "output_type": "stream",
     "text": [
      "Extracting entities:  13%|█▎        | 119/906 [09:06<1:01:10,  4.66s/it]"
     ]
    },
    {
     "name": "stdout",
     "output_type": "stream",
     "text": [
      "Đã lưu 10 kết quả vào ../data_danhgia_module_router_generate/eval_entities_extract.xlsx\n"
     ]
    },
    {
     "name": "stderr",
     "output_type": "stream",
     "text": [
      "Extracting entities:  14%|█▍        | 129/906 [09:54<1:15:33,  5.83s/it]"
     ]
    },
    {
     "name": "stdout",
     "output_type": "stream",
     "text": [
      "Đã lưu 10 kết quả vào ../data_danhgia_module_router_generate/eval_entities_extract.xlsx\n"
     ]
    },
    {
     "name": "stderr",
     "output_type": "stream",
     "text": [
      "Extracting entities:  15%|█▌        | 139/906 [10:38<57:08,  4.47s/it]  "
     ]
    },
    {
     "name": "stdout",
     "output_type": "stream",
     "text": [
      "Đã lưu 10 kết quả vào ../data_danhgia_module_router_generate/eval_entities_extract.xlsx\n"
     ]
    },
    {
     "name": "stderr",
     "output_type": "stream",
     "text": [
      "Extracting entities:  16%|█▋        | 149/906 [11:30<1:00:11,  4.77s/it]"
     ]
    },
    {
     "name": "stdout",
     "output_type": "stream",
     "text": [
      "Đã lưu 10 kết quả vào ../data_danhgia_module_router_generate/eval_entities_extract.xlsx\n"
     ]
    },
    {
     "name": "stderr",
     "output_type": "stream",
     "text": [
      "Extracting entities:  18%|█▊        | 159/906 [12:13<56:44,  4.56s/it]  "
     ]
    },
    {
     "name": "stdout",
     "output_type": "stream",
     "text": [
      "Đã lưu 10 kết quả vào ../data_danhgia_module_router_generate/eval_entities_extract.xlsx\n"
     ]
    },
    {
     "name": "stderr",
     "output_type": "stream",
     "text": [
      "Extracting entities:  19%|█▊        | 169/906 [12:57<54:57,  4.47s/it]"
     ]
    },
    {
     "name": "stdout",
     "output_type": "stream",
     "text": [
      "Đã lưu 10 kết quả vào ../data_danhgia_module_router_generate/eval_entities_extract.xlsx\n"
     ]
    },
    {
     "name": "stderr",
     "output_type": "stream",
     "text": [
      "Extracting entities:  20%|█▉        | 179/906 [13:40<51:43,  4.27s/it]"
     ]
    },
    {
     "name": "stdout",
     "output_type": "stream",
     "text": [
      "Đã lưu 10 kết quả vào ../data_danhgia_module_router_generate/eval_entities_extract.xlsx\n"
     ]
    },
    {
     "name": "stderr",
     "output_type": "stream",
     "text": [
      "Extracting entities:  21%|██        | 189/906 [14:24<53:39,  4.49s/it]"
     ]
    },
    {
     "name": "stdout",
     "output_type": "stream",
     "text": [
      "Đã lưu 10 kết quả vào ../data_danhgia_module_router_generate/eval_entities_extract.xlsx\n"
     ]
    },
    {
     "name": "stderr",
     "output_type": "stream",
     "text": [
      "Extracting entities:  22%|██▏       | 199/906 [15:07<53:55,  4.58s/it]"
     ]
    },
    {
     "name": "stdout",
     "output_type": "stream",
     "text": [
      "Đã lưu 10 kết quả vào ../data_danhgia_module_router_generate/eval_entities_extract.xlsx\n"
     ]
    },
    {
     "name": "stderr",
     "output_type": "stream",
     "text": [
      "Extracting entities:  23%|██▎       | 209/906 [15:52<51:23,  4.42s/it]"
     ]
    },
    {
     "name": "stdout",
     "output_type": "stream",
     "text": [
      "Đã lưu 10 kết quả vào ../data_danhgia_module_router_generate/eval_entities_extract.xlsx\n"
     ]
    },
    {
     "name": "stderr",
     "output_type": "stream",
     "text": [
      "Extracting entities:  24%|██▍       | 219/906 [16:37<50:15,  4.39s/it]"
     ]
    },
    {
     "name": "stdout",
     "output_type": "stream",
     "text": [
      "Đã lưu 10 kết quả vào ../data_danhgia_module_router_generate/eval_entities_extract.xlsx\n"
     ]
    },
    {
     "name": "stderr",
     "output_type": "stream",
     "text": [
      "Extracting entities:  25%|██▌       | 229/906 [17:24<51:22,  4.55s/it]"
     ]
    },
    {
     "name": "stdout",
     "output_type": "stream",
     "text": [
      "Đã lưu 10 kết quả vào ../data_danhgia_module_router_generate/eval_entities_extract.xlsx\n"
     ]
    },
    {
     "name": "stderr",
     "output_type": "stream",
     "text": [
      "Extracting entities:  26%|██▋       | 239/906 [18:10<53:23,  4.80s/it]"
     ]
    },
    {
     "name": "stdout",
     "output_type": "stream",
     "text": [
      "Đã lưu 10 kết quả vào ../data_danhgia_module_router_generate/eval_entities_extract.xlsx\n"
     ]
    },
    {
     "name": "stderr",
     "output_type": "stream",
     "text": [
      "Extracting entities:  27%|██▋       | 249/906 [18:59<1:02:03,  5.67s/it]"
     ]
    },
    {
     "name": "stdout",
     "output_type": "stream",
     "text": [
      "Đã lưu 10 kết quả vào ../data_danhgia_module_router_generate/eval_entities_extract.xlsx\n"
     ]
    },
    {
     "name": "stderr",
     "output_type": "stream",
     "text": [
      "Extracting entities:  29%|██▊       | 259/906 [19:43<46:36,  4.32s/it]  "
     ]
    },
    {
     "name": "stdout",
     "output_type": "stream",
     "text": [
      "Đã lưu 10 kết quả vào ../data_danhgia_module_router_generate/eval_entities_extract.xlsx\n"
     ]
    },
    {
     "name": "stderr",
     "output_type": "stream",
     "text": [
      "Extracting entities:  30%|██▉       | 269/906 [20:28<47:43,  4.50s/it]"
     ]
    },
    {
     "name": "stdout",
     "output_type": "stream",
     "text": [
      "Đã lưu 10 kết quả vào ../data_danhgia_module_router_generate/eval_entities_extract.xlsx\n"
     ]
    },
    {
     "name": "stderr",
     "output_type": "stream",
     "text": [
      "Extracting entities:  31%|███       | 279/906 [21:09<42:31,  4.07s/it]"
     ]
    },
    {
     "name": "stdout",
     "output_type": "stream",
     "text": [
      "Đã lưu 10 kết quả vào ../data_danhgia_module_router_generate/eval_entities_extract.xlsx\n"
     ]
    },
    {
     "name": "stderr",
     "output_type": "stream",
     "text": [
      "Extracting entities:  32%|███▏      | 289/906 [21:50<41:05,  4.00s/it]"
     ]
    },
    {
     "name": "stdout",
     "output_type": "stream",
     "text": [
      "Đã lưu 10 kết quả vào ../data_danhgia_module_router_generate/eval_entities_extract.xlsx\n"
     ]
    },
    {
     "name": "stderr",
     "output_type": "stream",
     "text": [
      "Extracting entities:  33%|███▎      | 299/906 [22:31<41:33,  4.11s/it]"
     ]
    },
    {
     "name": "stdout",
     "output_type": "stream",
     "text": [
      "Đã lưu 10 kết quả vào ../data_danhgia_module_router_generate/eval_entities_extract.xlsx\n"
     ]
    },
    {
     "name": "stderr",
     "output_type": "stream",
     "text": [
      "Extracting entities:  34%|███▍      | 309/906 [23:15<42:02,  4.23s/it]"
     ]
    },
    {
     "name": "stdout",
     "output_type": "stream",
     "text": [
      "Đã lưu 10 kết quả vào ../data_danhgia_module_router_generate/eval_entities_extract.xlsx\n"
     ]
    },
    {
     "name": "stderr",
     "output_type": "stream",
     "text": [
      "Extracting entities:  35%|███▌      | 319/906 [24:08<44:52,  4.59s/it]  "
     ]
    },
    {
     "name": "stdout",
     "output_type": "stream",
     "text": [
      "Đã lưu 10 kết quả vào ../data_danhgia_module_router_generate/eval_entities_extract.xlsx\n"
     ]
    },
    {
     "name": "stderr",
     "output_type": "stream",
     "text": [
      "Extracting entities:  36%|███▋      | 329/906 [24:52<43:01,  4.47s/it]"
     ]
    },
    {
     "name": "stdout",
     "output_type": "stream",
     "text": [
      "Đã lưu 10 kết quả vào ../data_danhgia_module_router_generate/eval_entities_extract.xlsx\n"
     ]
    },
    {
     "name": "stderr",
     "output_type": "stream",
     "text": [
      "Extracting entities:  37%|███▋      | 339/906 [25:33<39:41,  4.20s/it]"
     ]
    },
    {
     "name": "stdout",
     "output_type": "stream",
     "text": [
      "Đã lưu 10 kết quả vào ../data_danhgia_module_router_generate/eval_entities_extract.xlsx\n"
     ]
    },
    {
     "name": "stderr",
     "output_type": "stream",
     "text": [
      "Extracting entities:  39%|███▊      | 349/906 [26:17<41:04,  4.42s/it]"
     ]
    },
    {
     "name": "stdout",
     "output_type": "stream",
     "text": [
      "Đã lưu 10 kết quả vào ../data_danhgia_module_router_generate/eval_entities_extract.xlsx\n"
     ]
    },
    {
     "name": "stderr",
     "output_type": "stream",
     "text": [
      "Extracting entities:  40%|███▉      | 359/906 [27:01<39:06,  4.29s/it]"
     ]
    },
    {
     "name": "stdout",
     "output_type": "stream",
     "text": [
      "Đã lưu 10 kết quả vào ../data_danhgia_module_router_generate/eval_entities_extract.xlsx\n"
     ]
    },
    {
     "name": "stderr",
     "output_type": "stream",
     "text": [
      "Extracting entities:  41%|████      | 369/906 [27:46<38:42,  4.32s/it]"
     ]
    },
    {
     "name": "stdout",
     "output_type": "stream",
     "text": [
      "Đã lưu 10 kết quả vào ../data_danhgia_module_router_generate/eval_entities_extract.xlsx\n"
     ]
    },
    {
     "name": "stderr",
     "output_type": "stream",
     "text": [
      "Extracting entities:  42%|████▏     | 379/906 [28:31<38:06,  4.34s/it]"
     ]
    },
    {
     "name": "stdout",
     "output_type": "stream",
     "text": [
      "Đã lưu 10 kết quả vào ../data_danhgia_module_router_generate/eval_entities_extract.xlsx\n"
     ]
    },
    {
     "name": "stderr",
     "output_type": "stream",
     "text": [
      "Extracting entities:  43%|████▎     | 389/906 [29:15<36:21,  4.22s/it]"
     ]
    },
    {
     "name": "stdout",
     "output_type": "stream",
     "text": [
      "Đã lưu 10 kết quả vào ../data_danhgia_module_router_generate/eval_entities_extract.xlsx\n"
     ]
    },
    {
     "name": "stderr",
     "output_type": "stream",
     "text": [
      "Extracting entities:  44%|████▍     | 399/906 [29:58<36:19,  4.30s/it]"
     ]
    },
    {
     "name": "stdout",
     "output_type": "stream",
     "text": [
      "Đã lưu 10 kết quả vào ../data_danhgia_module_router_generate/eval_entities_extract.xlsx\n"
     ]
    },
    {
     "name": "stderr",
     "output_type": "stream",
     "text": [
      "Extracting entities:  45%|████▌     | 409/906 [30:44<36:30,  4.41s/it]"
     ]
    },
    {
     "name": "stdout",
     "output_type": "stream",
     "text": [
      "Đã lưu 10 kết quả vào ../data_danhgia_module_router_generate/eval_entities_extract.xlsx\n"
     ]
    },
    {
     "name": "stderr",
     "output_type": "stream",
     "text": [
      "Extracting entities:  46%|████▌     | 419/906 [31:31<36:46,  4.53s/it]"
     ]
    },
    {
     "name": "stdout",
     "output_type": "stream",
     "text": [
      "Đã lưu 10 kết quả vào ../data_danhgia_module_router_generate/eval_entities_extract.xlsx\n"
     ]
    },
    {
     "name": "stderr",
     "output_type": "stream",
     "text": [
      "Extracting entities:  47%|████▋     | 429/906 [32:16<34:20,  4.32s/it]"
     ]
    },
    {
     "name": "stdout",
     "output_type": "stream",
     "text": [
      "Đã lưu 10 kết quả vào ../data_danhgia_module_router_generate/eval_entities_extract.xlsx\n"
     ]
    },
    {
     "name": "stderr",
     "output_type": "stream",
     "text": [
      "Extracting entities:  48%|████▊     | 439/906 [33:02<36:53,  4.74s/it]"
     ]
    },
    {
     "name": "stdout",
     "output_type": "stream",
     "text": [
      "Đã lưu 10 kết quả vào ../data_danhgia_module_router_generate/eval_entities_extract.xlsx\n"
     ]
    },
    {
     "name": "stderr",
     "output_type": "stream",
     "text": [
      "Extracting entities:  50%|████▉     | 449/906 [33:47<34:14,  4.50s/it]"
     ]
    },
    {
     "name": "stdout",
     "output_type": "stream",
     "text": [
      "Đã lưu 10 kết quả vào ../data_danhgia_module_router_generate/eval_entities_extract.xlsx\n"
     ]
    },
    {
     "name": "stderr",
     "output_type": "stream",
     "text": [
      "Extracting entities:  51%|█████     | 459/906 [34:32<32:38,  4.38s/it]"
     ]
    },
    {
     "name": "stdout",
     "output_type": "stream",
     "text": [
      "Đã lưu 10 kết quả vào ../data_danhgia_module_router_generate/eval_entities_extract.xlsx\n"
     ]
    },
    {
     "name": "stderr",
     "output_type": "stream",
     "text": [
      "Extracting entities:  52%|█████▏    | 469/906 [35:19<35:32,  4.88s/it]"
     ]
    },
    {
     "name": "stdout",
     "output_type": "stream",
     "text": [
      "Đã lưu 10 kết quả vào ../data_danhgia_module_router_generate/eval_entities_extract.xlsx\n"
     ]
    },
    {
     "name": "stderr",
     "output_type": "stream",
     "text": [
      "Extracting entities:  53%|█████▎    | 479/906 [36:06<33:27,  4.70s/it]"
     ]
    },
    {
     "name": "stdout",
     "output_type": "stream",
     "text": [
      "Đã lưu 10 kết quả vào ../data_danhgia_module_router_generate/eval_entities_extract.xlsx\n"
     ]
    },
    {
     "name": "stderr",
     "output_type": "stream",
     "text": [
      "Extracting entities:  54%|█████▍    | 489/906 [36:51<31:18,  4.50s/it]"
     ]
    },
    {
     "name": "stdout",
     "output_type": "stream",
     "text": [
      "Đã lưu 10 kết quả vào ../data_danhgia_module_router_generate/eval_entities_extract.xlsx\n"
     ]
    },
    {
     "name": "stderr",
     "output_type": "stream",
     "text": [
      "Extracting entities:  55%|█████▌    | 499/906 [37:36<30:19,  4.47s/it]"
     ]
    },
    {
     "name": "stdout",
     "output_type": "stream",
     "text": [
      "Đã lưu 10 kết quả vào ../data_danhgia_module_router_generate/eval_entities_extract.xlsx\n"
     ]
    },
    {
     "name": "stderr",
     "output_type": "stream",
     "text": [
      "Extracting entities:  56%|█████▌    | 509/906 [38:24<32:07,  4.85s/it]"
     ]
    },
    {
     "name": "stdout",
     "output_type": "stream",
     "text": [
      "Đã lưu 10 kết quả vào ../data_danhgia_module_router_generate/eval_entities_extract.xlsx\n"
     ]
    },
    {
     "name": "stderr",
     "output_type": "stream",
     "text": [
      "Extracting entities:  57%|█████▋    | 519/906 [39:09<29:31,  4.58s/it]"
     ]
    },
    {
     "name": "stdout",
     "output_type": "stream",
     "text": [
      "Đã lưu 10 kết quả vào ../data_danhgia_module_router_generate/eval_entities_extract.xlsx\n"
     ]
    },
    {
     "name": "stderr",
     "output_type": "stream",
     "text": [
      "Extracting entities:  58%|█████▊    | 529/906 [39:54<28:10,  4.48s/it]"
     ]
    },
    {
     "name": "stdout",
     "output_type": "stream",
     "text": [
      "Đã lưu 10 kết quả vào ../data_danhgia_module_router_generate/eval_entities_extract.xlsx\n"
     ]
    },
    {
     "name": "stderr",
     "output_type": "stream",
     "text": [
      "Extracting entities:  59%|█████▉    | 539/906 [40:39<27:13,  4.45s/it]"
     ]
    },
    {
     "name": "stdout",
     "output_type": "stream",
     "text": [
      "Đã lưu 10 kết quả vào ../data_danhgia_module_router_generate/eval_entities_extract.xlsx\n"
     ]
    },
    {
     "name": "stderr",
     "output_type": "stream",
     "text": [
      "Extracting entities:  61%|██████    | 549/906 [41:22<26:35,  4.47s/it]"
     ]
    },
    {
     "name": "stdout",
     "output_type": "stream",
     "text": [
      "Đã lưu 10 kết quả vào ../data_danhgia_module_router_generate/eval_entities_extract.xlsx\n"
     ]
    },
    {
     "name": "stderr",
     "output_type": "stream",
     "text": [
      "Extracting entities:  62%|██████▏   | 559/906 [42:05<24:03,  4.16s/it]"
     ]
    },
    {
     "name": "stdout",
     "output_type": "stream",
     "text": [
      "Đã lưu 10 kết quả vào ../data_danhgia_module_router_generate/eval_entities_extract.xlsx\n"
     ]
    },
    {
     "name": "stderr",
     "output_type": "stream",
     "text": [
      "Extracting entities:  63%|██████▎   | 569/906 [42:51<26:08,  4.65s/it]"
     ]
    },
    {
     "name": "stdout",
     "output_type": "stream",
     "text": [
      "Đã lưu 10 kết quả vào ../data_danhgia_module_router_generate/eval_entities_extract.xlsx\n"
     ]
    },
    {
     "name": "stderr",
     "output_type": "stream",
     "text": [
      "Extracting entities:  64%|██████▍   | 579/906 [43:38<25:16,  4.64s/it]"
     ]
    },
    {
     "name": "stdout",
     "output_type": "stream",
     "text": [
      "Đã lưu 10 kết quả vào ../data_danhgia_module_router_generate/eval_entities_extract.xlsx\n"
     ]
    },
    {
     "name": "stderr",
     "output_type": "stream",
     "text": [
      "Extracting entities:  65%|██████▌   | 589/906 [44:22<23:01,  4.36s/it]"
     ]
    },
    {
     "name": "stdout",
     "output_type": "stream",
     "text": [
      "Đã lưu 10 kết quả vào ../data_danhgia_module_router_generate/eval_entities_extract.xlsx\n"
     ]
    },
    {
     "name": "stderr",
     "output_type": "stream",
     "text": [
      "Extracting entities:  66%|██████▌   | 599/906 [45:08<23:30,  4.59s/it]"
     ]
    },
    {
     "name": "stdout",
     "output_type": "stream",
     "text": [
      "Đã lưu 10 kết quả vào ../data_danhgia_module_router_generate/eval_entities_extract.xlsx\n"
     ]
    },
    {
     "name": "stderr",
     "output_type": "stream",
     "text": [
      "Extracting entities:  67%|██████▋   | 609/906 [45:52<21:34,  4.36s/it]"
     ]
    },
    {
     "name": "stdout",
     "output_type": "stream",
     "text": [
      "Đã lưu 10 kết quả vào ../data_danhgia_module_router_generate/eval_entities_extract.xlsx\n"
     ]
    },
    {
     "name": "stderr",
     "output_type": "stream",
     "text": [
      "Extracting entities:  68%|██████▊   | 619/906 [46:39<20:57,  4.38s/it]"
     ]
    },
    {
     "name": "stdout",
     "output_type": "stream",
     "text": [
      "Đã lưu 10 kết quả vào ../data_danhgia_module_router_generate/eval_entities_extract.xlsx\n"
     ]
    },
    {
     "name": "stderr",
     "output_type": "stream",
     "text": [
      "Extracting entities:  69%|██████▉   | 629/906 [47:21<19:12,  4.16s/it]"
     ]
    },
    {
     "name": "stdout",
     "output_type": "stream",
     "text": [
      "Đã lưu 10 kết quả vào ../data_danhgia_module_router_generate/eval_entities_extract.xlsx\n"
     ]
    },
    {
     "name": "stderr",
     "output_type": "stream",
     "text": [
      "Extracting entities:  71%|███████   | 639/906 [48:04<19:43,  4.43s/it]"
     ]
    },
    {
     "name": "stdout",
     "output_type": "stream",
     "text": [
      "Đã lưu 10 kết quả vào ../data_danhgia_module_router_generate/eval_entities_extract.xlsx\n"
     ]
    },
    {
     "name": "stderr",
     "output_type": "stream",
     "text": [
      "Extracting entities:  72%|███████▏  | 649/906 [48:50<19:37,  4.58s/it]"
     ]
    },
    {
     "name": "stdout",
     "output_type": "stream",
     "text": [
      "Đã lưu 10 kết quả vào ../data_danhgia_module_router_generate/eval_entities_extract.xlsx\n"
     ]
    },
    {
     "name": "stderr",
     "output_type": "stream",
     "text": [
      "Extracting entities:  73%|███████▎  | 659/906 [49:34<17:09,  4.17s/it]"
     ]
    },
    {
     "name": "stdout",
     "output_type": "stream",
     "text": [
      "Đã lưu 10 kết quả vào ../data_danhgia_module_router_generate/eval_entities_extract.xlsx\n"
     ]
    },
    {
     "name": "stderr",
     "output_type": "stream",
     "text": [
      "Extracting entities:  74%|███████▍  | 669/906 [50:18<16:39,  4.22s/it]"
     ]
    },
    {
     "name": "stdout",
     "output_type": "stream",
     "text": [
      "Đã lưu 10 kết quả vào ../data_danhgia_module_router_generate/eval_entities_extract.xlsx\n"
     ]
    },
    {
     "name": "stderr",
     "output_type": "stream",
     "text": [
      "Extracting entities:  75%|███████▍  | 679/906 [51:04<17:31,  4.63s/it]"
     ]
    },
    {
     "name": "stdout",
     "output_type": "stream",
     "text": [
      "Đã lưu 10 kết quả vào ../data_danhgia_module_router_generate/eval_entities_extract.xlsx\n"
     ]
    },
    {
     "name": "stderr",
     "output_type": "stream",
     "text": [
      "Extracting entities:  76%|███████▌  | 689/906 [51:49<15:28,  4.28s/it]"
     ]
    },
    {
     "name": "stdout",
     "output_type": "stream",
     "text": [
      "Đã lưu 10 kết quả vào ../data_danhgia_module_router_generate/eval_entities_extract.xlsx\n"
     ]
    },
    {
     "name": "stderr",
     "output_type": "stream",
     "text": [
      "Extracting entities:  77%|███████▋  | 699/906 [52:34<15:51,  4.60s/it]"
     ]
    },
    {
     "name": "stdout",
     "output_type": "stream",
     "text": [
      "Đã lưu 10 kết quả vào ../data_danhgia_module_router_generate/eval_entities_extract.xlsx\n"
     ]
    },
    {
     "name": "stderr",
     "output_type": "stream",
     "text": [
      "Extracting entities:  78%|███████▊  | 709/906 [53:19<14:50,  4.52s/it]"
     ]
    },
    {
     "name": "stdout",
     "output_type": "stream",
     "text": [
      "Đã lưu 10 kết quả vào ../data_danhgia_module_router_generate/eval_entities_extract.xlsx\n"
     ]
    },
    {
     "name": "stderr",
     "output_type": "stream",
     "text": [
      "Extracting entities:  79%|███████▉  | 719/906 [54:02<13:12,  4.24s/it]"
     ]
    },
    {
     "name": "stdout",
     "output_type": "stream",
     "text": [
      "Đã lưu 10 kết quả vào ../data_danhgia_module_router_generate/eval_entities_extract.xlsx\n"
     ]
    },
    {
     "name": "stderr",
     "output_type": "stream",
     "text": [
      "Extracting entities:  80%|████████  | 729/906 [54:45<12:18,  4.17s/it]"
     ]
    },
    {
     "name": "stdout",
     "output_type": "stream",
     "text": [
      "Đã lưu 10 kết quả vào ../data_danhgia_module_router_generate/eval_entities_extract.xlsx\n"
     ]
    },
    {
     "name": "stderr",
     "output_type": "stream",
     "text": [
      "Extracting entities:  82%|████████▏ | 739/906 [55:29<12:31,  4.50s/it]"
     ]
    },
    {
     "name": "stdout",
     "output_type": "stream",
     "text": [
      "Đã lưu 10 kết quả vào ../data_danhgia_module_router_generate/eval_entities_extract.xlsx\n"
     ]
    },
    {
     "name": "stderr",
     "output_type": "stream",
     "text": [
      "Extracting entities:  83%|████████▎ | 749/906 [56:12<12:14,  4.68s/it]"
     ]
    },
    {
     "name": "stdout",
     "output_type": "stream",
     "text": [
      "Đã lưu 10 kết quả vào ../data_danhgia_module_router_generate/eval_entities_extract.xlsx\n"
     ]
    },
    {
     "name": "stderr",
     "output_type": "stream",
     "text": [
      "Extracting entities:  84%|████████▍ | 759/906 [56:57<10:52,  4.44s/it]"
     ]
    },
    {
     "name": "stdout",
     "output_type": "stream",
     "text": [
      "Đã lưu 10 kết quả vào ../data_danhgia_module_router_generate/eval_entities_extract.xlsx\n"
     ]
    },
    {
     "name": "stderr",
     "output_type": "stream",
     "text": [
      "Extracting entities:  85%|████████▍ | 769/906 [57:43<10:20,  4.53s/it]"
     ]
    },
    {
     "name": "stdout",
     "output_type": "stream",
     "text": [
      "Đã lưu 10 kết quả vào ../data_danhgia_module_router_generate/eval_entities_extract.xlsx\n"
     ]
    },
    {
     "name": "stderr",
     "output_type": "stream",
     "text": [
      "Extracting entities:  86%|████████▌ | 779/906 [58:27<09:17,  4.39s/it]"
     ]
    },
    {
     "name": "stdout",
     "output_type": "stream",
     "text": [
      "Đã lưu 10 kết quả vào ../data_danhgia_module_router_generate/eval_entities_extract.xlsx\n"
     ]
    },
    {
     "name": "stderr",
     "output_type": "stream",
     "text": [
      "Extracting entities:  87%|████████▋ | 789/906 [59:15<09:06,  4.67s/it]"
     ]
    },
    {
     "name": "stdout",
     "output_type": "stream",
     "text": [
      "Đã lưu 10 kết quả vào ../data_danhgia_module_router_generate/eval_entities_extract.xlsx\n"
     ]
    },
    {
     "name": "stderr",
     "output_type": "stream",
     "text": [
      "Extracting entities:  88%|████████▊ | 799/906 [59:59<07:57,  4.46s/it]"
     ]
    },
    {
     "name": "stdout",
     "output_type": "stream",
     "text": [
      "Đã lưu 10 kết quả vào ../data_danhgia_module_router_generate/eval_entities_extract.xlsx\n"
     ]
    },
    {
     "name": "stderr",
     "output_type": "stream",
     "text": [
      "Extracting entities:  89%|████████▉ | 809/906 [1:00:43<06:54,  4.28s/it]"
     ]
    },
    {
     "name": "stdout",
     "output_type": "stream",
     "text": [
      "Đã lưu 10 kết quả vào ../data_danhgia_module_router_generate/eval_entities_extract.xlsx\n"
     ]
    },
    {
     "name": "stderr",
     "output_type": "stream",
     "text": [
      "Extracting entities:  90%|█████████ | 819/906 [1:01:28<06:48,  4.70s/it]"
     ]
    },
    {
     "name": "stdout",
     "output_type": "stream",
     "text": [
      "Đã lưu 10 kết quả vào ../data_danhgia_module_router_generate/eval_entities_extract.xlsx\n"
     ]
    },
    {
     "name": "stderr",
     "output_type": "stream",
     "text": [
      "Extracting entities:  92%|█████████▏| 829/906 [1:02:15<05:55,  4.61s/it]"
     ]
    },
    {
     "name": "stdout",
     "output_type": "stream",
     "text": [
      "Đã lưu 10 kết quả vào ../data_danhgia_module_router_generate/eval_entities_extract.xlsx\n"
     ]
    },
    {
     "name": "stderr",
     "output_type": "stream",
     "text": [
      "Extracting entities:  93%|█████████▎| 839/906 [1:03:05<05:24,  4.84s/it]"
     ]
    },
    {
     "name": "stdout",
     "output_type": "stream",
     "text": [
      "Đã lưu 10 kết quả vào ../data_danhgia_module_router_generate/eval_entities_extract.xlsx\n"
     ]
    },
    {
     "name": "stderr",
     "output_type": "stream",
     "text": [
      "Extracting entities:  94%|█████████▎| 849/906 [1:03:49<04:23,  4.62s/it]"
     ]
    },
    {
     "name": "stdout",
     "output_type": "stream",
     "text": [
      "Đã lưu 10 kết quả vào ../data_danhgia_module_router_generate/eval_entities_extract.xlsx\n"
     ]
    },
    {
     "name": "stderr",
     "output_type": "stream",
     "text": [
      "Extracting entities:  95%|█████████▍| 859/906 [1:04:32<03:15,  4.15s/it]"
     ]
    },
    {
     "name": "stdout",
     "output_type": "stream",
     "text": [
      "Đã lưu 10 kết quả vào ../data_danhgia_module_router_generate/eval_entities_extract.xlsx\n"
     ]
    },
    {
     "name": "stderr",
     "output_type": "stream",
     "text": [
      "Extracting entities:  96%|█████████▌| 869/906 [1:05:15<02:32,  4.14s/it]"
     ]
    },
    {
     "name": "stdout",
     "output_type": "stream",
     "text": [
      "Đã lưu 10 kết quả vào ../data_danhgia_module_router_generate/eval_entities_extract.xlsx\n"
     ]
    },
    {
     "name": "stderr",
     "output_type": "stream",
     "text": [
      "Extracting entities:  97%|█████████▋| 879/906 [1:05:56<01:51,  4.12s/it]"
     ]
    },
    {
     "name": "stdout",
     "output_type": "stream",
     "text": [
      "Đã lưu 10 kết quả vào ../data_danhgia_module_router_generate/eval_entities_extract.xlsx\n"
     ]
    },
    {
     "name": "stderr",
     "output_type": "stream",
     "text": [
      "Extracting entities:  98%|█████████▊| 889/906 [1:06:38<01:10,  4.13s/it]"
     ]
    },
    {
     "name": "stdout",
     "output_type": "stream",
     "text": [
      "Đã lưu 10 kết quả vào ../data_danhgia_module_router_generate/eval_entities_extract.xlsx\n"
     ]
    },
    {
     "name": "stderr",
     "output_type": "stream",
     "text": [
      "Extracting entities:  99%|█████████▉| 899/906 [1:07:19<00:28,  4.05s/it]"
     ]
    },
    {
     "name": "stdout",
     "output_type": "stream",
     "text": [
      "Đã lưu 10 kết quả vào ../data_danhgia_module_router_generate/eval_entities_extract.xlsx\n"
     ]
    },
    {
     "name": "stderr",
     "output_type": "stream",
     "text": [
      "Extracting entities: 100%|██████████| 906/906 [1:07:47<00:00,  4.49s/it]\n"
     ]
    },
    {
     "name": "stdout",
     "output_type": "stream",
     "text": [
      "Đã lưu 6 kết quả vào ../data_danhgia_module_router_generate/eval_entities_extract.xlsx\n"
     ]
    }
   ],
   "source": [
    "input_file = \"../data_danhgia_module_router_generate/dataset_Query_Entities.xlsx\"\n",
    "output_file = \"../data_danhgia_module_router_generate/eval_entities_extract.xlsx\"\n",
    "\n",
    "process_extract_entities(input_file, output_file)\n"
   ]
  }
 ],
 "metadata": {
  "kernelspec": {
   "display_name": "machinelearning-lTTH8rYd",
   "language": "python",
   "name": "python3"
  },
  "language_info": {
   "codemirror_mode": {
    "name": "ipython",
    "version": 3
   },
   "file_extension": ".py",
   "mimetype": "text/x-python",
   "name": "python",
   "nbconvert_exporter": "python",
   "pygments_lexer": "ipython3",
   "version": "3.11.5"
  }
 },
 "nbformat": 4,
 "nbformat_minor": 2
}
