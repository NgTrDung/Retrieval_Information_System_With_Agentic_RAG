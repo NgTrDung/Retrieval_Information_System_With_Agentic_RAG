{
 "cells": [
  {
   "cell_type": "markdown",
   "metadata": {},
   "source": [
    "## 1.Import library"
   ]
  },
  {
   "cell_type": "code",
   "execution_count": 6,
   "metadata": {},
   "outputs": [],
   "source": [
    "import sys\n",
    "project_path = r\"D:/DaiHoc/machinelearning/TLCN/DoAnTotNghiep_chat_bot/\"\n",
    "sys.path.append(project_path)\n",
    "from source.function.utils_result import RAG\n",
    "from source.search.utils_search import Qdrant_Utils\n",
    "from source.rerank.utils_rerank import Rerank_Utils  \n",
    "from source.model.embedding_model import Sentences_Transformer_Embedding\n",
    "from source.model.extract_model import Bert_Extract\n",
    "from source.model.generate_model import Gemini\n",
    "from source.model.rerank_model import Cohere\n",
    "from source.data.vectordb.qdrant import Qdrant_Vector\n",
    "from source.core.config import Settings\n",
    "from source.generate.generate import Gemini_Generate\n",
    "from source.extract.utils_extract import Extract_Information\n",
    "from source.schema.chatbot_querry import ChatbotQuery\n",
    "\n",
    "setting=Settings()\n",
    "gemini=Gemini(setting)\n",
    "cohere=Cohere(setting)\n",
    "bert=Bert_Extract(setting)\n",
    "sentences_transformer_embedding=Sentences_Transformer_Embedding(setting)\n",
    "qdrant=Qdrant_Vector(setting,sentences_transformer_embedding)\n",
    "rerank_Utils=Rerank_Utils(cohere)\n",
    "extract_Utils= Extract_Information(bert)\n",
    "generate_Utils=Gemini_Generate(gemini,setting)\n",
    "qdrant_Utils=Qdrant_Utils(qdrant, generate_Utils)\n",
    "rag=RAG(generate_Utils,extract_Utils,qdrant_Utils,rerank_Utils,setting,sentences_transformer_embedding)\n",
    "import pandas as pd\n",
    "from tqdm import tqdm\n",
    "import google.generativeai as genai \n",
    "from sklearn.metrics.pairwise import cosine_similarity\n",
    "import re\n",
    "import json"
   ]
  },
  {
   "cell_type": "markdown",
   "metadata": {},
   "source": [
    "## 2. Load file dataset Generate Query"
   ]
  },
  {
   "cell_type": "code",
   "execution_count": 2,
   "metadata": {},
   "outputs": [
    {
     "name": "stdout",
     "output_type": "stream",
     "text": [
      "   STT                                              query  \\\n",
      "0    1  Trong Thông tư số 57/2015/TT-BYT do Bộ Y tế ba...   \n",
      "1    2  Trong lĩnh vực Thể thao - Y tế, Thông tư số 57...   \n",
      "2    3  Trong Thông tư số 57/2015/TT-BYT của Bộ Y tế, ...   \n",
      "3    4  Trong văn bản pháp luật liên quan đến quyền dâ...   \n",
      "4    5  Văn bản do Bộ Y tế ban hành ngày 30/12/2015 có...   \n",
      "\n",
      "                                      entities_label  \n",
      "0  {\"Loai-Van-Ban\": \"Thông tư\", \"Noi-Ban-Hanh\": \"...  \n",
      "1  {\"LinhVuc-Nganh\": \"Thể thao - Y tế\", \"Loai-Van...  \n",
      "2  {\"Loai-Van-Ban\": \"Thông tư\", \"Noi-Ban-Hanh\": \"...  \n",
      "3  {\"Noi-Ban-Hanh\": \"Bộ Y tế\", \"LinhVuc-Nganh\": \"...  \n",
      "4  {\"Noi-Ban-Hanh\": \"Bộ Y tế\", \"Ngay-Ban-Hanh\": \"...  \n"
     ]
    }
   ],
   "source": [
    "# Đọc file dataset_query_entities\n",
    "file_path = \"../data_danhgia_module_router_generate/dataset_Query_Entities.xlsx\"\n",
    "\n",
    "df_query_entities = pd.read_excel(file_path, engine=\"openpyxl\")\n",
    "\n",
    "# Hiển thị 5 dòng đầu tiên\n",
    "print(df_query_entities.head(5))"
   ]
  },
  {
   "cell_type": "markdown",
   "metadata": {},
   "source": [
    "> các key duy nhất"
   ]
  },
  {
   "cell_type": "code",
   "execution_count": 3,
   "metadata": {},
   "outputs": [
    {
     "name": "stdout",
     "output_type": "stream",
     "text": [
      "Các key duy nhất trong entities_label:\n",
      "- LinhVuc-Nganh\n",
      "- Loai-Van-Ban\n",
      "- Ngay-Ban-Hanh\n",
      "- Noi-Ban-Hanh\n",
      "- So-Hieu\n"
     ]
    }
   ],
   "source": [
    "import json\n",
    "\n",
    "all_keys = set()\n",
    "\n",
    "for val in df_query_entities['entities_label'].unique():\n",
    "    try:\n",
    "        entity_dict = json.loads(val)\n",
    "        all_keys.update(entity_dict.keys())\n",
    "    except Exception as e:\n",
    "        print(f\"Lỗi khi xử lý chuỗi: {val} - {e}\")\n",
    "\n",
    "print(\"Các key duy nhất trong entities_label:\")\n",
    "for key in sorted(all_keys):\n",
    "    print(f\"- {key}\")\n"
   ]
  },
  {
   "cell_type": "markdown",
   "metadata": {},
   "source": [
    "### 3.CALL API Gemini"
   ]
  },
  {
   "cell_type": "code",
   "execution_count": 7,
   "metadata": {},
   "outputs": [],
   "source": [
    "setting=Settings()\n",
    "gemini=Gemini(setting)\n",
    "gemini_func=Gemini_Generate(gemini,setting)"
   ]
  },
  {
   "cell_type": "code",
   "execution_count": 8,
   "metadata": {},
   "outputs": [],
   "source": [
    "def extract_json_dict(text):\n",
    "    # Dùng regex để trích nội dung bên trong ```json ... ```\n",
    "    match = re.search(r'```json\\s*(\\{.*?\\})\\s*```', text, re.DOTALL)\n",
    "    if match:\n",
    "        json_str = match.group(1)\n",
    "        return json.loads(json_str)\n",
    "    else:\n",
    "        raise ValueError(\"Không tìm thấy nội dung JSON hợp lệ.\")"
   ]
  },
  {
   "cell_type": "code",
   "execution_count": 9,
   "metadata": {},
   "outputs": [
    {
     "name": "stdout",
     "output_type": "stream",
     "text": [
      "{}\n"
     ]
    }
   ],
   "source": [
    "result=gemini_func.extract_entities(\"Bao nhiêu tuổi thì phải đăng kí kết hôn?\")\n",
    "print(extract_json_dict(result))"
   ]
  },
  {
   "cell_type": "code",
   "execution_count": 7,
   "metadata": {},
   "outputs": [],
   "source": [
    "import time\n",
    "from tqdm import tqdm\n",
    "import pandas as pd\n",
    "import json\n",
    "\n",
    "def process_extract_entities(input_path, output_path, batch_size=10):\n",
    "    # Đọc dữ liệu từ file Excel\n",
    "    df = pd.read_excel(input_path, engine=\"openpyxl\")\n",
    "    queries = df[\"query\"].tolist()\n",
    "    labels = df[\"entities_label\"].tolist()\n",
    "\n",
    "    results = []\n",
    "\n",
    "    for idx, (query, label_str) in enumerate(tqdm(zip(queries, labels), total=len(queries), desc=\"Extracting entities\")):\n",
    "        try:\n",
    "            # Gọi Gemini để trích xuất entities\n",
    "            raw_result = gemini_func.extract_entities(query)\n",
    "            entity_dict = extract_json_dict(raw_result)\n",
    "        except Exception as e:\n",
    "            print(f\"Lỗi ở dòng {idx + 1}: {e}\")\n",
    "            entity_dict = {}\n",
    "\n",
    "        # Lưu kết quả (gồm cả nhãn thực tế)\n",
    "        results.append({\n",
    "            \"query\": query,\n",
    "            \"predict_entities\": json.dumps(entity_dict, ensure_ascii=False),\n",
    "            \"entities_label\": label_str,\n",
    "        })\n",
    "\n",
    "        # Ghi từng batch vào file\n",
    "        if len(results) >= batch_size:\n",
    "            _append_results_to_excel(results, output_path)\n",
    "            results = []\n",
    "\n",
    "        time.sleep(3)  # Tránh spam API\n",
    "\n",
    "    # Ghi phần còn lại\n",
    "    if results:\n",
    "        _append_results_to_excel(results, output_path)\n",
    "\n",
    "def _append_results_to_excel(results, output_path):\n",
    "    result_df = pd.DataFrame(results)\n",
    "    try:\n",
    "        existing_df = pd.read_excel(output_path, engine=\"openpyxl\")\n",
    "        result_df = pd.concat([existing_df, result_df], ignore_index=True)\n",
    "    except FileNotFoundError:\n",
    "        pass\n",
    "    result_df.to_excel(output_path, index=False, engine=\"openpyxl\")\n",
    "    print(f\"Đã lưu {len(results)} kết quả vào {output_path}\")\n"
   ]
  },
  {
   "cell_type": "code",
   "execution_count": 8,
   "metadata": {},
   "outputs": [
    {
     "name": "stderr",
     "output_type": "stream",
     "text": [
      "Extracting entities:   1%|          | 9/906 [00:38<1:05:10,  4.36s/it]"
     ]
    },
    {
     "name": "stdout",
     "output_type": "stream",
     "text": [
      "Đã lưu 10 kết quả vào ../data_danhgia_module_router_generate/eval_entities_extract.xlsx\n"
     ]
    },
    {
     "name": "stderr",
     "output_type": "stream",
     "text": [
      "Extracting entities:   2%|▏         | 19/906 [01:20<1:01:20,  4.15s/it]"
     ]
    },
    {
     "name": "stdout",
     "output_type": "stream",
     "text": [
      "Đã lưu 10 kết quả vào ../data_danhgia_module_router_generate/eval_entities_extract.xlsx\n"
     ]
    },
    {
     "name": "stderr",
     "output_type": "stream",
     "text": [
      "Extracting entities:   3%|▎         | 29/906 [02:01<59:35,  4.08s/it]  "
     ]
    },
    {
     "name": "stdout",
     "output_type": "stream",
     "text": [
      "Đã lưu 10 kết quả vào ../data_danhgia_module_router_generate/eval_entities_extract.xlsx\n"
     ]
    },
    {
     "name": "stderr",
     "output_type": "stream",
     "text": [
      "Extracting entities:   4%|▍         | 39/906 [02:44<1:04:01,  4.43s/it]"
     ]
    },
    {
     "name": "stdout",
     "output_type": "stream",
     "text": [
      "Đã lưu 10 kết quả vào ../data_danhgia_module_router_generate/eval_entities_extract.xlsx\n"
     ]
    },
    {
     "name": "stderr",
     "output_type": "stream",
     "text": [
      "Extracting entities:   5%|▌         | 49/906 [03:26<58:41,  4.11s/it]  "
     ]
    },
    {
     "name": "stdout",
     "output_type": "stream",
     "text": [
      "Đã lưu 10 kết quả vào ../data_danhgia_module_router_generate/eval_entities_extract.xlsx\n"
     ]
    },
    {
     "name": "stderr",
     "output_type": "stream",
     "text": [
      "Extracting entities:   7%|▋         | 59/906 [04:11<1:07:47,  4.80s/it]"
     ]
    },
    {
     "name": "stdout",
     "output_type": "stream",
     "text": [
      "Đã lưu 10 kết quả vào ../data_danhgia_module_router_generate/eval_entities_extract.xlsx\n"
     ]
    },
    {
     "name": "stderr",
     "output_type": "stream",
     "text": [
      "Extracting entities:   8%|▊         | 69/906 [04:52<58:22,  4.18s/it]  "
     ]
    },
    {
     "name": "stdout",
     "output_type": "stream",
     "text": [
      "Đã lưu 10 kết quả vào ../data_danhgia_module_router_generate/eval_entities_extract.xlsx\n"
     ]
    },
    {
     "name": "stderr",
     "output_type": "stream",
     "text": [
      "Extracting entities:   9%|▊         | 79/906 [05:34<59:52,  4.34s/it]"
     ]
    },
    {
     "name": "stdout",
     "output_type": "stream",
     "text": [
      "Đã lưu 10 kết quả vào ../data_danhgia_module_router_generate/eval_entities_extract.xlsx\n"
     ]
    },
    {
     "name": "stderr",
     "output_type": "stream",
     "text": [
      "Extracting entities:  10%|▉         | 89/906 [06:19<59:43,  4.39s/it]  "
     ]
    },
    {
     "name": "stdout",
     "output_type": "stream",
     "text": [
      "Đã lưu 10 kết quả vào ../data_danhgia_module_router_generate/eval_entities_extract.xlsx\n"
     ]
    },
    {
     "name": "stderr",
     "output_type": "stream",
     "text": [
      "Extracting entities:  11%|█         | 99/906 [07:05<1:06:33,  4.95s/it]"
     ]
    },
    {
     "name": "stdout",
     "output_type": "stream",
     "text": [
      "Đã lưu 10 kết quả vào ../data_danhgia_module_router_generate/eval_entities_extract.xlsx\n"
     ]
    },
    {
     "name": "stderr",
     "output_type": "stream",
     "text": [
      "Extracting entities:  12%|█▏        | 109/906 [07:54<1:02:32,  4.71s/it]"
     ]
    },
    {
     "name": "stdout",
     "output_type": "stream",
     "text": [
      "Đã lưu 10 kết quả vào ../data_danhgia_module_router_generate/eval_entities_extract.xlsx\n"
     ]
    },
    {
     "name": "stderr",
     "output_type": "stream",
     "text": [
      "Extracting entities:  13%|█▎        | 119/906 [08:39<1:02:38,  4.78s/it]"
     ]
    },
    {
     "name": "stdout",
     "output_type": "stream",
     "text": [
      "Đã lưu 10 kết quả vào ../data_danhgia_module_router_generate/eval_entities_extract.xlsx\n"
     ]
    },
    {
     "name": "stderr",
     "output_type": "stream",
     "text": [
      "Extracting entities:  14%|█▍        | 129/906 [09:28<59:01,  4.56s/it]  "
     ]
    },
    {
     "name": "stdout",
     "output_type": "stream",
     "text": [
      "Đã lưu 10 kết quả vào ../data_danhgia_module_router_generate/eval_entities_extract.xlsx\n"
     ]
    },
    {
     "name": "stderr",
     "output_type": "stream",
     "text": [
      "Extracting entities:  15%|█▌        | 139/906 [10:11<55:53,  4.37s/it]"
     ]
    },
    {
     "name": "stdout",
     "output_type": "stream",
     "text": [
      "Đã lưu 10 kết quả vào ../data_danhgia_module_router_generate/eval_entities_extract.xlsx\n"
     ]
    },
    {
     "name": "stderr",
     "output_type": "stream",
     "text": [
      "Extracting entities:  16%|█▋        | 149/906 [10:56<58:19,  4.62s/it]  "
     ]
    },
    {
     "name": "stdout",
     "output_type": "stream",
     "text": [
      "Đã lưu 10 kết quả vào ../data_danhgia_module_router_generate/eval_entities_extract.xlsx\n"
     ]
    },
    {
     "name": "stderr",
     "output_type": "stream",
     "text": [
      "Extracting entities:  18%|█▊        | 159/906 [11:39<52:22,  4.21s/it]"
     ]
    },
    {
     "name": "stdout",
     "output_type": "stream",
     "text": [
      "Đã lưu 10 kết quả vào ../data_danhgia_module_router_generate/eval_entities_extract.xlsx\n"
     ]
    },
    {
     "name": "stderr",
     "output_type": "stream",
     "text": [
      "Extracting entities:  19%|█▊        | 169/906 [12:24<51:57,  4.23s/it]"
     ]
    },
    {
     "name": "stdout",
     "output_type": "stream",
     "text": [
      "Đã lưu 10 kết quả vào ../data_danhgia_module_router_generate/eval_entities_extract.xlsx\n"
     ]
    },
    {
     "name": "stderr",
     "output_type": "stream",
     "text": [
      "Extracting entities:  20%|█▉        | 179/906 [13:08<52:45,  4.35s/it]"
     ]
    },
    {
     "name": "stdout",
     "output_type": "stream",
     "text": [
      "Đã lưu 10 kết quả vào ../data_danhgia_module_router_generate/eval_entities_extract.xlsx\n"
     ]
    },
    {
     "name": "stderr",
     "output_type": "stream",
     "text": [
      "Extracting entities:  21%|██        | 189/906 [13:55<58:38,  4.91s/it]"
     ]
    },
    {
     "name": "stdout",
     "output_type": "stream",
     "text": [
      "Đã lưu 10 kết quả vào ../data_danhgia_module_router_generate/eval_entities_extract.xlsx\n"
     ]
    },
    {
     "name": "stderr",
     "output_type": "stream",
     "text": [
      "Extracting entities:  22%|██▏       | 199/906 [14:43<55:52,  4.74s/it]  "
     ]
    },
    {
     "name": "stdout",
     "output_type": "stream",
     "text": [
      "Đã lưu 10 kết quả vào ../data_danhgia_module_router_generate/eval_entities_extract.xlsx\n"
     ]
    },
    {
     "name": "stderr",
     "output_type": "stream",
     "text": [
      "Extracting entities:  23%|██▎       | 209/906 [15:28<50:46,  4.37s/it]"
     ]
    },
    {
     "name": "stdout",
     "output_type": "stream",
     "text": [
      "Đã lưu 10 kết quả vào ../data_danhgia_module_router_generate/eval_entities_extract.xlsx\n"
     ]
    },
    {
     "name": "stderr",
     "output_type": "stream",
     "text": [
      "Extracting entities:  24%|██▍       | 219/906 [16:20<59:06,  5.16s/it]  "
     ]
    },
    {
     "name": "stdout",
     "output_type": "stream",
     "text": [
      "Đã lưu 10 kết quả vào ../data_danhgia_module_router_generate/eval_entities_extract.xlsx\n"
     ]
    },
    {
     "name": "stderr",
     "output_type": "stream",
     "text": [
      "Extracting entities:  25%|██▌       | 229/906 [17:08<54:04,  4.79s/it]"
     ]
    },
    {
     "name": "stdout",
     "output_type": "stream",
     "text": [
      "Đã lưu 10 kết quả vào ../data_danhgia_module_router_generate/eval_entities_extract.xlsx\n"
     ]
    },
    {
     "name": "stderr",
     "output_type": "stream",
     "text": [
      "Extracting entities:  26%|██▋       | 239/906 [17:54<51:59,  4.68s/it]"
     ]
    },
    {
     "name": "stdout",
     "output_type": "stream",
     "text": [
      "Đã lưu 10 kết quả vào ../data_danhgia_module_router_generate/eval_entities_extract.xlsx\n"
     ]
    },
    {
     "name": "stderr",
     "output_type": "stream",
     "text": [
      "Extracting entities:  27%|██▋       | 249/906 [18:43<55:30,  5.07s/it]"
     ]
    },
    {
     "name": "stdout",
     "output_type": "stream",
     "text": [
      "Đã lưu 10 kết quả vào ../data_danhgia_module_router_generate/eval_entities_extract.xlsx\n"
     ]
    },
    {
     "name": "stderr",
     "output_type": "stream",
     "text": [
      "Extracting entities:  29%|██▊       | 259/906 [19:30<50:00,  4.64s/it]"
     ]
    },
    {
     "name": "stdout",
     "output_type": "stream",
     "text": [
      "Đã lưu 10 kết quả vào ../data_danhgia_module_router_generate/eval_entities_extract.xlsx\n"
     ]
    },
    {
     "name": "stderr",
     "output_type": "stream",
     "text": [
      "Extracting entities:  30%|██▉       | 269/906 [20:18<49:33,  4.67s/it]"
     ]
    },
    {
     "name": "stdout",
     "output_type": "stream",
     "text": [
      "Đã lưu 10 kết quả vào ../data_danhgia_module_router_generate/eval_entities_extract.xlsx\n"
     ]
    },
    {
     "name": "stderr",
     "output_type": "stream",
     "text": [
      "Extracting entities:  31%|███       | 279/906 [21:07<50:24,  4.82s/it]"
     ]
    },
    {
     "name": "stdout",
     "output_type": "stream",
     "text": [
      "Đã lưu 10 kết quả vào ../data_danhgia_module_router_generate/eval_entities_extract.xlsx\n"
     ]
    },
    {
     "name": "stderr",
     "output_type": "stream",
     "text": [
      "Extracting entities:  32%|███▏      | 289/906 [21:54<45:03,  4.38s/it]"
     ]
    },
    {
     "name": "stdout",
     "output_type": "stream",
     "text": [
      "Đã lưu 10 kết quả vào ../data_danhgia_module_router_generate/eval_entities_extract.xlsx\n"
     ]
    },
    {
     "name": "stderr",
     "output_type": "stream",
     "text": [
      "Extracting entities:  33%|███▎      | 299/906 [22:40<46:14,  4.57s/it]"
     ]
    },
    {
     "name": "stdout",
     "output_type": "stream",
     "text": [
      "Đã lưu 10 kết quả vào ../data_danhgia_module_router_generate/eval_entities_extract.xlsx\n"
     ]
    },
    {
     "name": "stderr",
     "output_type": "stream",
     "text": [
      "Extracting entities:  34%|███▍      | 309/906 [23:24<42:47,  4.30s/it]"
     ]
    },
    {
     "name": "stdout",
     "output_type": "stream",
     "text": [
      "Đã lưu 10 kết quả vào ../data_danhgia_module_router_generate/eval_entities_extract.xlsx\n"
     ]
    },
    {
     "name": "stderr",
     "output_type": "stream",
     "text": [
      "Extracting entities:  35%|███▌      | 319/906 [24:08<41:45,  4.27s/it]"
     ]
    },
    {
     "name": "stdout",
     "output_type": "stream",
     "text": [
      "Đã lưu 10 kết quả vào ../data_danhgia_module_router_generate/eval_entities_extract.xlsx\n"
     ]
    },
    {
     "name": "stderr",
     "output_type": "stream",
     "text": [
      "Extracting entities:  36%|███▋      | 329/906 [24:52<42:38,  4.43s/it]"
     ]
    },
    {
     "name": "stdout",
     "output_type": "stream",
     "text": [
      "Đã lưu 10 kết quả vào ../data_danhgia_module_router_generate/eval_entities_extract.xlsx\n"
     ]
    },
    {
     "name": "stderr",
     "output_type": "stream",
     "text": [
      "Extracting entities:  37%|███▋      | 339/906 [25:37<43:15,  4.58s/it]"
     ]
    },
    {
     "name": "stdout",
     "output_type": "stream",
     "text": [
      "Đã lưu 10 kết quả vào ../data_danhgia_module_router_generate/eval_entities_extract.xlsx\n"
     ]
    },
    {
     "name": "stderr",
     "output_type": "stream",
     "text": [
      "Extracting entities:  39%|███▊      | 349/906 [26:23<40:31,  4.37s/it]"
     ]
    },
    {
     "name": "stdout",
     "output_type": "stream",
     "text": [
      "Đã lưu 10 kết quả vào ../data_danhgia_module_router_generate/eval_entities_extract.xlsx\n"
     ]
    },
    {
     "name": "stderr",
     "output_type": "stream",
     "text": [
      "Extracting entities:  40%|███▉      | 359/906 [27:06<40:19,  4.42s/it]"
     ]
    },
    {
     "name": "stdout",
     "output_type": "stream",
     "text": [
      "Đã lưu 10 kết quả vào ../data_danhgia_module_router_generate/eval_entities_extract.xlsx\n"
     ]
    },
    {
     "name": "stderr",
     "output_type": "stream",
     "text": [
      "Extracting entities:  41%|████      | 369/906 [27:49<37:25,  4.18s/it]"
     ]
    },
    {
     "name": "stdout",
     "output_type": "stream",
     "text": [
      "Đã lưu 10 kết quả vào ../data_danhgia_module_router_generate/eval_entities_extract.xlsx\n"
     ]
    },
    {
     "name": "stderr",
     "output_type": "stream",
     "text": [
      "Extracting entities:  42%|████▏     | 379/906 [28:32<38:52,  4.43s/it]"
     ]
    },
    {
     "name": "stdout",
     "output_type": "stream",
     "text": [
      "Đã lưu 10 kết quả vào ../data_danhgia_module_router_generate/eval_entities_extract.xlsx\n"
     ]
    },
    {
     "name": "stderr",
     "output_type": "stream",
     "text": [
      "Extracting entities:  43%|████▎     | 389/906 [29:17<37:03,  4.30s/it]"
     ]
    },
    {
     "name": "stdout",
     "output_type": "stream",
     "text": [
      "Đã lưu 10 kết quả vào ../data_danhgia_module_router_generate/eval_entities_extract.xlsx\n"
     ]
    },
    {
     "name": "stderr",
     "output_type": "stream",
     "text": [
      "Extracting entities:  44%|████▍     | 399/906 [30:01<36:04,  4.27s/it]"
     ]
    },
    {
     "name": "stdout",
     "output_type": "stream",
     "text": [
      "Đã lưu 10 kết quả vào ../data_danhgia_module_router_generate/eval_entities_extract.xlsx\n"
     ]
    },
    {
     "name": "stderr",
     "output_type": "stream",
     "text": [
      "Extracting entities:  45%|████▌     | 409/906 [30:42<34:06,  4.12s/it]"
     ]
    },
    {
     "name": "stdout",
     "output_type": "stream",
     "text": [
      "Đã lưu 10 kết quả vào ../data_danhgia_module_router_generate/eval_entities_extract.xlsx\n"
     ]
    },
    {
     "name": "stderr",
     "output_type": "stream",
     "text": [
      "Extracting entities:  46%|████▌     | 419/906 [31:26<34:29,  4.25s/it]"
     ]
    },
    {
     "name": "stdout",
     "output_type": "stream",
     "text": [
      "Đã lưu 10 kết quả vào ../data_danhgia_module_router_generate/eval_entities_extract.xlsx\n"
     ]
    },
    {
     "name": "stderr",
     "output_type": "stream",
     "text": [
      "Extracting entities:  47%|████▋     | 429/906 [32:08<33:18,  4.19s/it]"
     ]
    },
    {
     "name": "stdout",
     "output_type": "stream",
     "text": [
      "Đã lưu 10 kết quả vào ../data_danhgia_module_router_generate/eval_entities_extract.xlsx\n"
     ]
    },
    {
     "name": "stderr",
     "output_type": "stream",
     "text": [
      "Extracting entities:  48%|████▊     | 439/906 [32:51<32:27,  4.17s/it]"
     ]
    },
    {
     "name": "stdout",
     "output_type": "stream",
     "text": [
      "Đã lưu 10 kết quả vào ../data_danhgia_module_router_generate/eval_entities_extract.xlsx\n"
     ]
    },
    {
     "name": "stderr",
     "output_type": "stream",
     "text": [
      "Extracting entities:  50%|████▉     | 449/906 [33:36<33:48,  4.44s/it]"
     ]
    },
    {
     "name": "stdout",
     "output_type": "stream",
     "text": [
      "Đã lưu 10 kết quả vào ../data_danhgia_module_router_generate/eval_entities_extract.xlsx\n"
     ]
    },
    {
     "name": "stderr",
     "output_type": "stream",
     "text": [
      "Extracting entities:  51%|█████     | 459/906 [34:25<35:17,  4.74s/it]"
     ]
    },
    {
     "name": "stdout",
     "output_type": "stream",
     "text": [
      "Đã lưu 10 kết quả vào ../data_danhgia_module_router_generate/eval_entities_extract.xlsx\n"
     ]
    },
    {
     "name": "stderr",
     "output_type": "stream",
     "text": [
      "Extracting entities:  52%|█████▏    | 469/906 [35:14<35:27,  4.87s/it]"
     ]
    },
    {
     "name": "stdout",
     "output_type": "stream",
     "text": [
      "Đã lưu 10 kết quả vào ../data_danhgia_module_router_generate/eval_entities_extract.xlsx\n"
     ]
    },
    {
     "name": "stderr",
     "output_type": "stream",
     "text": [
      "Extracting entities:  53%|█████▎    | 479/906 [36:01<33:44,  4.74s/it]"
     ]
    },
    {
     "name": "stdout",
     "output_type": "stream",
     "text": [
      "Đã lưu 10 kết quả vào ../data_danhgia_module_router_generate/eval_entities_extract.xlsx\n"
     ]
    },
    {
     "name": "stderr",
     "output_type": "stream",
     "text": [
      "Extracting entities:  54%|█████▍    | 489/906 [36:43<28:52,  4.15s/it]"
     ]
    },
    {
     "name": "stdout",
     "output_type": "stream",
     "text": [
      "Đã lưu 10 kết quả vào ../data_danhgia_module_router_generate/eval_entities_extract.xlsx\n"
     ]
    },
    {
     "name": "stderr",
     "output_type": "stream",
     "text": [
      "Extracting entities:  55%|█████▌    | 499/906 [37:28<29:50,  4.40s/it]"
     ]
    },
    {
     "name": "stdout",
     "output_type": "stream",
     "text": [
      "Đã lưu 10 kết quả vào ../data_danhgia_module_router_generate/eval_entities_extract.xlsx\n"
     ]
    },
    {
     "name": "stderr",
     "output_type": "stream",
     "text": [
      "Extracting entities:  56%|█████▌    | 509/906 [38:15<31:17,  4.73s/it]"
     ]
    },
    {
     "name": "stdout",
     "output_type": "stream",
     "text": [
      "Đã lưu 10 kết quả vào ../data_danhgia_module_router_generate/eval_entities_extract.xlsx\n"
     ]
    },
    {
     "name": "stderr",
     "output_type": "stream",
     "text": [
      "Extracting entities:  57%|█████▋    | 519/906 [39:01<29:32,  4.58s/it]"
     ]
    },
    {
     "name": "stdout",
     "output_type": "stream",
     "text": [
      "Đã lưu 10 kết quả vào ../data_danhgia_module_router_generate/eval_entities_extract.xlsx\n"
     ]
    },
    {
     "name": "stderr",
     "output_type": "stream",
     "text": [
      "Extracting entities:  58%|█████▊    | 529/906 [39:50<31:20,  4.99s/it]"
     ]
    },
    {
     "name": "stdout",
     "output_type": "stream",
     "text": [
      "Đã lưu 10 kết quả vào ../data_danhgia_module_router_generate/eval_entities_extract.xlsx\n"
     ]
    },
    {
     "name": "stderr",
     "output_type": "stream",
     "text": [
      "Extracting entities:  59%|█████▉    | 539/906 [40:36<28:01,  4.58s/it]"
     ]
    },
    {
     "name": "stdout",
     "output_type": "stream",
     "text": [
      "Đã lưu 10 kết quả vào ../data_danhgia_module_router_generate/eval_entities_extract.xlsx\n"
     ]
    },
    {
     "name": "stderr",
     "output_type": "stream",
     "text": [
      "Extracting entities:  61%|██████    | 549/906 [41:24<27:24,  4.61s/it]"
     ]
    },
    {
     "name": "stdout",
     "output_type": "stream",
     "text": [
      "Đã lưu 10 kết quả vào ../data_danhgia_module_router_generate/eval_entities_extract.xlsx\n"
     ]
    },
    {
     "name": "stderr",
     "output_type": "stream",
     "text": [
      "Extracting entities:  62%|██████▏   | 559/906 [42:12<27:36,  4.77s/it]"
     ]
    },
    {
     "name": "stdout",
     "output_type": "stream",
     "text": [
      "Đã lưu 10 kết quả vào ../data_danhgia_module_router_generate/eval_entities_extract.xlsx\n"
     ]
    },
    {
     "name": "stderr",
     "output_type": "stream",
     "text": [
      "Extracting entities:  63%|██████▎   | 569/906 [43:00<27:06,  4.83s/it]"
     ]
    },
    {
     "name": "stdout",
     "output_type": "stream",
     "text": [
      "Đã lưu 10 kết quả vào ../data_danhgia_module_router_generate/eval_entities_extract.xlsx\n"
     ]
    },
    {
     "name": "stderr",
     "output_type": "stream",
     "text": [
      "Extracting entities:  64%|██████▍   | 579/906 [43:45<24:17,  4.46s/it]"
     ]
    },
    {
     "name": "stdout",
     "output_type": "stream",
     "text": [
      "Đã lưu 10 kết quả vào ../data_danhgia_module_router_generate/eval_entities_extract.xlsx\n"
     ]
    },
    {
     "name": "stderr",
     "output_type": "stream",
     "text": [
      "Extracting entities:  65%|██████▌   | 589/906 [44:31<25:22,  4.80s/it]"
     ]
    },
    {
     "name": "stdout",
     "output_type": "stream",
     "text": [
      "Đã lưu 10 kết quả vào ../data_danhgia_module_router_generate/eval_entities_extract.xlsx\n"
     ]
    },
    {
     "name": "stderr",
     "output_type": "stream",
     "text": [
      "Extracting entities:  66%|██████▌   | 599/906 [45:17<23:14,  4.54s/it]"
     ]
    },
    {
     "name": "stdout",
     "output_type": "stream",
     "text": [
      "Đã lưu 10 kết quả vào ../data_danhgia_module_router_generate/eval_entities_extract.xlsx\n"
     ]
    },
    {
     "name": "stderr",
     "output_type": "stream",
     "text": [
      "Extracting entities:  67%|██████▋   | 609/906 [46:01<21:08,  4.27s/it]"
     ]
    },
    {
     "name": "stdout",
     "output_type": "stream",
     "text": [
      "Đã lưu 10 kết quả vào ../data_danhgia_module_router_generate/eval_entities_extract.xlsx\n"
     ]
    },
    {
     "name": "stderr",
     "output_type": "stream",
     "text": [
      "Extracting entities:  68%|██████▊   | 619/906 [46:45<20:33,  4.30s/it]"
     ]
    },
    {
     "name": "stdout",
     "output_type": "stream",
     "text": [
      "Đã lưu 10 kết quả vào ../data_danhgia_module_router_generate/eval_entities_extract.xlsx\n"
     ]
    },
    {
     "name": "stderr",
     "output_type": "stream",
     "text": [
      "Extracting entities:  69%|██████▉   | 629/906 [47:28<19:56,  4.32s/it]"
     ]
    },
    {
     "name": "stdout",
     "output_type": "stream",
     "text": [
      "Đã lưu 10 kết quả vào ../data_danhgia_module_router_generate/eval_entities_extract.xlsx\n"
     ]
    },
    {
     "name": "stderr",
     "output_type": "stream",
     "text": [
      "Extracting entities:  71%|███████   | 639/906 [48:10<18:22,  4.13s/it]"
     ]
    },
    {
     "name": "stdout",
     "output_type": "stream",
     "text": [
      "Đã lưu 10 kết quả vào ../data_danhgia_module_router_generate/eval_entities_extract.xlsx\n"
     ]
    },
    {
     "name": "stderr",
     "output_type": "stream",
     "text": [
      "Extracting entities:  72%|███████▏  | 649/906 [48:58<20:52,  4.87s/it]"
     ]
    },
    {
     "name": "stdout",
     "output_type": "stream",
     "text": [
      "Đã lưu 10 kết quả vào ../data_danhgia_module_router_generate/eval_entities_extract.xlsx\n"
     ]
    },
    {
     "name": "stderr",
     "output_type": "stream",
     "text": [
      "Extracting entities:  73%|███████▎  | 659/906 [49:42<17:51,  4.34s/it]"
     ]
    },
    {
     "name": "stdout",
     "output_type": "stream",
     "text": [
      "Đã lưu 10 kết quả vào ../data_danhgia_module_router_generate/eval_entities_extract.xlsx\n"
     ]
    },
    {
     "name": "stderr",
     "output_type": "stream",
     "text": [
      "Extracting entities:  74%|███████▍  | 669/906 [50:25<17:00,  4.31s/it]"
     ]
    },
    {
     "name": "stdout",
     "output_type": "stream",
     "text": [
      "Đã lưu 10 kết quả vào ../data_danhgia_module_router_generate/eval_entities_extract.xlsx\n"
     ]
    },
    {
     "name": "stderr",
     "output_type": "stream",
     "text": [
      "Extracting entities:  75%|███████▍  | 679/906 [51:11<17:49,  4.71s/it]"
     ]
    },
    {
     "name": "stdout",
     "output_type": "stream",
     "text": [
      "Đã lưu 10 kết quả vào ../data_danhgia_module_router_generate/eval_entities_extract.xlsx\n"
     ]
    },
    {
     "name": "stderr",
     "output_type": "stream",
     "text": [
      "Extracting entities:  76%|███████▌  | 689/906 [51:58<17:22,  4.80s/it]"
     ]
    },
    {
     "name": "stdout",
     "output_type": "stream",
     "text": [
      "Đã lưu 10 kết quả vào ../data_danhgia_module_router_generate/eval_entities_extract.xlsx\n"
     ]
    },
    {
     "name": "stderr",
     "output_type": "stream",
     "text": [
      "Extracting entities:  77%|███████▋  | 699/906 [52:46<17:29,  5.07s/it]"
     ]
    },
    {
     "name": "stdout",
     "output_type": "stream",
     "text": [
      "Đã lưu 10 kết quả vào ../data_danhgia_module_router_generate/eval_entities_extract.xlsx\n"
     ]
    },
    {
     "name": "stderr",
     "output_type": "stream",
     "text": [
      "Extracting entities:  78%|███████▊  | 709/906 [53:31<14:00,  4.26s/it]"
     ]
    },
    {
     "name": "stdout",
     "output_type": "stream",
     "text": [
      "Đã lưu 10 kết quả vào ../data_danhgia_module_router_generate/eval_entities_extract.xlsx\n"
     ]
    },
    {
     "name": "stderr",
     "output_type": "stream",
     "text": [
      "Extracting entities:  79%|███████▉  | 719/906 [54:14<13:04,  4.20s/it]"
     ]
    },
    {
     "name": "stdout",
     "output_type": "stream",
     "text": [
      "Đã lưu 10 kết quả vào ../data_danhgia_module_router_generate/eval_entities_extract.xlsx\n"
     ]
    },
    {
     "name": "stderr",
     "output_type": "stream",
     "text": [
      "Extracting entities:  80%|████████  | 729/906 [54:58<13:21,  4.53s/it]"
     ]
    },
    {
     "name": "stdout",
     "output_type": "stream",
     "text": [
      "Đã lưu 10 kết quả vào ../data_danhgia_module_router_generate/eval_entities_extract.xlsx\n"
     ]
    },
    {
     "name": "stderr",
     "output_type": "stream",
     "text": [
      "Extracting entities:  82%|████████▏ | 739/906 [55:43<12:29,  4.49s/it]"
     ]
    },
    {
     "name": "stdout",
     "output_type": "stream",
     "text": [
      "Đã lưu 10 kết quả vào ../data_danhgia_module_router_generate/eval_entities_extract.xlsx\n"
     ]
    },
    {
     "name": "stderr",
     "output_type": "stream",
     "text": [
      "Extracting entities:  83%|████████▎ | 749/906 [56:27<11:37,  4.44s/it]"
     ]
    },
    {
     "name": "stdout",
     "output_type": "stream",
     "text": [
      "Đã lưu 10 kết quả vào ../data_danhgia_module_router_generate/eval_entities_extract.xlsx\n"
     ]
    },
    {
     "name": "stderr",
     "output_type": "stream",
     "text": [
      "Extracting entities:  84%|████████▍ | 759/906 [57:09<10:08,  4.14s/it]"
     ]
    },
    {
     "name": "stdout",
     "output_type": "stream",
     "text": [
      "Đã lưu 10 kết quả vào ../data_danhgia_module_router_generate/eval_entities_extract.xlsx\n"
     ]
    },
    {
     "name": "stderr",
     "output_type": "stream",
     "text": [
      "Extracting entities:  85%|████████▍ | 769/906 [57:52<10:14,  4.48s/it]"
     ]
    },
    {
     "name": "stdout",
     "output_type": "stream",
     "text": [
      "Đã lưu 10 kết quả vào ../data_danhgia_module_router_generate/eval_entities_extract.xlsx\n"
     ]
    },
    {
     "name": "stderr",
     "output_type": "stream",
     "text": [
      "Extracting entities:  86%|████████▌ | 779/906 [58:40<10:31,  4.97s/it]"
     ]
    },
    {
     "name": "stdout",
     "output_type": "stream",
     "text": [
      "Đã lưu 10 kết quả vào ../data_danhgia_module_router_generate/eval_entities_extract.xlsx\n"
     ]
    },
    {
     "name": "stderr",
     "output_type": "stream",
     "text": [
      "Extracting entities:  87%|████████▋ | 789/906 [59:27<09:13,  4.73s/it]"
     ]
    },
    {
     "name": "stdout",
     "output_type": "stream",
     "text": [
      "Đã lưu 10 kết quả vào ../data_danhgia_module_router_generate/eval_entities_extract.xlsx\n"
     ]
    },
    {
     "name": "stderr",
     "output_type": "stream",
     "text": [
      "Extracting entities:  88%|████████▊ | 799/906 [1:00:15<08:22,  4.70s/it]"
     ]
    },
    {
     "name": "stdout",
     "output_type": "stream",
     "text": [
      "Đã lưu 10 kết quả vào ../data_danhgia_module_router_generate/eval_entities_extract.xlsx\n"
     ]
    },
    {
     "name": "stderr",
     "output_type": "stream",
     "text": [
      "Extracting entities:  89%|████████▉ | 809/906 [1:01:06<07:41,  4.75s/it]"
     ]
    },
    {
     "name": "stdout",
     "output_type": "stream",
     "text": [
      "Đã lưu 10 kết quả vào ../data_danhgia_module_router_generate/eval_entities_extract.xlsx\n"
     ]
    },
    {
     "name": "stderr",
     "output_type": "stream",
     "text": [
      "Extracting entities:  90%|█████████ | 819/906 [1:01:53<07:10,  4.95s/it]"
     ]
    },
    {
     "name": "stdout",
     "output_type": "stream",
     "text": [
      "Đã lưu 10 kết quả vào ../data_danhgia_module_router_generate/eval_entities_extract.xlsx\n"
     ]
    },
    {
     "name": "stderr",
     "output_type": "stream",
     "text": [
      "Extracting entities:  92%|█████████▏| 829/906 [1:02:42<05:52,  4.58s/it]"
     ]
    },
    {
     "name": "stdout",
     "output_type": "stream",
     "text": [
      "Đã lưu 10 kết quả vào ../data_danhgia_module_router_generate/eval_entities_extract.xlsx\n"
     ]
    },
    {
     "name": "stderr",
     "output_type": "stream",
     "text": [
      "Extracting entities:  93%|█████████▎| 839/906 [1:03:28<04:58,  4.45s/it]"
     ]
    },
    {
     "name": "stdout",
     "output_type": "stream",
     "text": [
      "Đã lưu 10 kết quả vào ../data_danhgia_module_router_generate/eval_entities_extract.xlsx\n"
     ]
    },
    {
     "name": "stderr",
     "output_type": "stream",
     "text": [
      "Extracting entities:  94%|█████████▎| 849/906 [1:04:18<04:48,  5.07s/it]"
     ]
    },
    {
     "name": "stdout",
     "output_type": "stream",
     "text": [
      "Đã lưu 10 kết quả vào ../data_danhgia_module_router_generate/eval_entities_extract.xlsx\n"
     ]
    },
    {
     "name": "stderr",
     "output_type": "stream",
     "text": [
      "Extracting entities:  95%|█████████▍| 859/906 [1:05:09<03:47,  4.85s/it]"
     ]
    },
    {
     "name": "stdout",
     "output_type": "stream",
     "text": [
      "Đã lưu 10 kết quả vào ../data_danhgia_module_router_generate/eval_entities_extract.xlsx\n"
     ]
    },
    {
     "name": "stderr",
     "output_type": "stream",
     "text": [
      "Extracting entities:  96%|█████████▌| 869/906 [1:05:55<02:59,  4.86s/it]"
     ]
    },
    {
     "name": "stdout",
     "output_type": "stream",
     "text": [
      "Đã lưu 10 kết quả vào ../data_danhgia_module_router_generate/eval_entities_extract.xlsx\n"
     ]
    },
    {
     "name": "stderr",
     "output_type": "stream",
     "text": [
      "Extracting entities:  97%|█████████▋| 879/906 [1:06:44<02:13,  4.94s/it]"
     ]
    },
    {
     "name": "stdout",
     "output_type": "stream",
     "text": [
      "Đã lưu 10 kết quả vào ../data_danhgia_module_router_generate/eval_entities_extract.xlsx\n"
     ]
    },
    {
     "name": "stderr",
     "output_type": "stream",
     "text": [
      "Extracting entities:  98%|█████████▊| 889/906 [1:07:29<01:18,  4.65s/it]"
     ]
    },
    {
     "name": "stdout",
     "output_type": "stream",
     "text": [
      "Đã lưu 10 kết quả vào ../data_danhgia_module_router_generate/eval_entities_extract.xlsx\n"
     ]
    },
    {
     "name": "stderr",
     "output_type": "stream",
     "text": [
      "Extracting entities:  99%|█████████▉| 899/906 [1:08:16<00:32,  4.62s/it]"
     ]
    },
    {
     "name": "stdout",
     "output_type": "stream",
     "text": [
      "Đã lưu 10 kết quả vào ../data_danhgia_module_router_generate/eval_entities_extract.xlsx\n"
     ]
    },
    {
     "name": "stderr",
     "output_type": "stream",
     "text": [
      "Extracting entities: 100%|██████████| 906/906 [1:08:51<00:00,  4.56s/it]\n"
     ]
    },
    {
     "name": "stdout",
     "output_type": "stream",
     "text": [
      "Đã lưu 6 kết quả vào ../data_danhgia_module_router_generate/eval_entities_extract.xlsx\n"
     ]
    }
   ],
   "source": [
    "input_file = \"../data_danhgia_module_router_generate/dataset_Query_Entities.xlsx\"\n",
    "output_file = \"../data_danhgia_module_router_generate/eval_entities_extract.xlsx\"\n",
    "\n",
    "process_extract_entities(input_file, output_file)\n"
   ]
  }
 ],
 "metadata": {
  "kernelspec": {
   "display_name": "machinelearning-lTTH8rYd",
   "language": "python",
   "name": "python3"
  },
  "language_info": {
   "codemirror_mode": {
    "name": "ipython",
    "version": 3
   },
   "file_extension": ".py",
   "mimetype": "text/x-python",
   "name": "python",
   "nbconvert_exporter": "python",
   "pygments_lexer": "ipython3",
   "version": "3.11.5"
  }
 },
 "nbformat": 4,
 "nbformat_minor": 2
}
