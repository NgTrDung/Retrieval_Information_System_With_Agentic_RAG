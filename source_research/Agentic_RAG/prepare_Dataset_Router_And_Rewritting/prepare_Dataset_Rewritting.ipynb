{
 "cells": [
  {
   "cell_type": "code",
   "execution_count": 1,
   "metadata": {},
   "outputs": [],
   "source": [
    "import sys\n",
    "import os\n",
    "\n",
    "# Thêm đường dẫn của thư mục cha vào sys.path\n",
    "sys.path.append(os.path.abspath(\"..\"))"
   ]
  },
  {
   "cell_type": "markdown",
   "metadata": {},
   "source": [
    "# 1. Xem file .txt"
   ]
  },
  {
   "cell_type": "code",
   "execution_count": 2,
   "metadata": {},
   "outputs": [
    {
     "name": "stdout",
     "output_type": "stream",
     "text": [
      "Theo quy định, chuẩn chương trình đào tạo đại học bao gồm những yếu tố nào?\n",
      "Chuẩn đầu ra của chương trình đào tạo được xác định dựa trên những tiêu chí nào?\n",
      "Khối lượng học tập tối thiểu cho một chương trình đào tạo đại học được quy định như thế nào?\n",
      "Chương trình đào tạo định hướng nghiên cứu khác gì so với chương trình đào tạo định hướng ứng dụng?\n",
      "Những yêu cầu nào được đặt ra đối với đội ngũ giảng viên giảng dạy ở trình độ đại học?\n",
      "Hội đồng tư vấn khối ngành có nhiệm vụ gì trong quá trình xây dựng chuẩn chương trình đào tạo?\n",
      "Việc cập nhật chuẩn chương trình đào tạo cần được thực hiện bao lâu một lần?\n",
      "Điều kiện để một cá nhân được công nhận là nghiên cứu sinh trình độ tiến sĩ tại Việt Nam là gì?\n",
      "Chương trình đào tạo tiến sĩ có bắt buộc phải bao gồm nghiên cứu khoa học không? Nếu có, vì sao?\n",
      "Quy trình phản biện độc lập luận án tiến sĩ được thực hiện như thế nào?\n"
     ]
    }
   ],
   "source": [
    "filePath = r\"d:\\13_21133021_NguyenTrongDung_LuuTruMonHoc\\data_KLTN\\dataset_Query.txt\"\n",
    "\n",
    "# Mở và đọc file\n",
    "with open(filePath, \"r\", encoding=\"utf-8\") as file:\n",
    "    lines = [next(file) for _ in range(10)]  # Đọc 10 dòng đầu tiên\n",
    "\n",
    "# Hiển thị nội dung\n",
    "for i, line in enumerate(lines, 1):\n",
    "    print(f\"{line.strip()}\")"
   ]
  },
  {
   "cell_type": "markdown",
   "metadata": {},
   "source": [
    "# 2. Thực thi tổng quát"
   ]
  },
  {
   "cell_type": "code",
   "execution_count": 3,
   "metadata": {},
   "outputs": [],
   "source": [
    "import os\n",
    "import time\n",
    "import pandas as pd\n",
    "\n",
    "from dotenv import load_dotenv\n",
    "from source.Gemini.apikeys_gemini import APIKeyManager\n",
    "from source.Gemini.gemini import Gemini"
   ]
  },
  {
   "cell_type": "code",
   "execution_count": 4,
   "metadata": {},
   "outputs": [],
   "source": [
    "# Load API keys\n",
    "load_dotenv()\n",
    "MODEL_GEMINI = os.getenv(\"MODEL_GEMIMI\")\n",
    "APIS_GEMINI_LIST = os.getenv('APIS_GEMINI_LIST').split(',')\n",
    "key_manager = APIKeyManager(APIS_GEMINI_LIST)\n",
    "model_gemini = Gemini(key_manager, MODEL_GEMINI)"
   ]
  },
  {
   "cell_type": "code",
   "execution_count": 5,
   "metadata": {},
   "outputs": [],
   "source": [
    "# Đọc file dataset_Query.txt\n",
    "file_path = r\"d:\\13_21133021_NguyenTrongDung_LuuTruMonHoc\\data_KLTN\\dataset_Query.txt\"\n",
    "output_file = r\"d:\\13_21133021_NguyenTrongDung_LuuTruMonHoc\\data_KLTN\\dataset_Query_Rewritting.xlsx\""
   ]
  },
  {
   "cell_type": "code",
   "execution_count": 6,
   "metadata": {},
   "outputs": [],
   "source": [
    "# Số dòng cần tích lũy trước khi ghi vào file\n",
    "batch_size = 100\n",
    "data_to_save = []"
   ]
  },
  {
   "cell_type": "code",
   "execution_count": 7,
   "metadata": {},
   "outputs": [],
   "source": [
    "def get_current_row_count(file_path):\n",
    "    if os.path.exists(file_path):\n",
    "        try:\n",
    "            df = pd.read_excel(file_path, engine=\"openpyxl\")\n",
    "            return len(df)\n",
    "        except Exception:\n",
    "            return 0\n",
    "    return 0"
   ]
  },
  {
   "cell_type": "code",
   "execution_count": 8,
   "metadata": {},
   "outputs": [
    {
     "name": "stdout",
     "output_type": "stream",
     "text": [
      "Đã lưu dữ liệu, tổng số dòng hiện tại trong .xlsx: 100\n",
      "Đã lưu dữ liệu, tổng số dòng hiện tại trong .xlsx: 200\n",
      "Đã lưu dữ liệu, tổng số dòng hiện tại trong .xlsx: 300\n",
      "Đã lưu dữ liệu, tổng số dòng hiện tại trong .xlsx: 400\n",
      "Đã lưu dữ liệu, tổng số dòng hiện tại trong .xlsx: 500\n",
      "Đã lưu dữ liệu, tổng số dòng hiện tại trong .xlsx: 600\n",
      "Đã lưu dữ liệu, tổng số dòng hiện tại trong .xlsx: 700\n",
      "Đã lưu dữ liệu, tổng số dòng hiện tại trong .xlsx: 800\n",
      "Đã lưu dữ liệu, tổng số dòng hiện tại trong .xlsx: 900\n",
      "Đã lưu dữ liệu, tổng số dòng hiện tại trong .xlsx: 1000\n"
     ]
    }
   ],
   "source": [
    "with open(file_path, \"r\", encoding=\"utf-8\") as file:\n",
    "    for line_num, original_query in enumerate(file, start=1):\n",
    "        original_query = original_query.strip()  # Xóa khoảng trắng\n",
    "\n",
    "        if not original_query:  # Bỏ qua dòng trống\n",
    "            continue\n",
    "\n",
    "        # Gọi model để tạo 5 câu truy vấn mới\n",
    "        queries = model_gemini.query_generator(original_query)\n",
    "\n",
    "        # Lưu vào danh sách\n",
    "        data_to_save.append(queries)\n",
    "\n",
    "        # Đợi 5 giây để tránh nghẽn API\n",
    "        time.sleep(5)\n",
    "\n",
    "        # Khi đủ batch_size (100 dòng), ghi vào file\n",
    "        if len(data_to_save) >= batch_size:\n",
    "            df_new = pd.DataFrame(data_to_save, columns=[\"Original Query\", \"Query 1\", \"Query 2\", \"Query 3\", \"Query 4\", \"Query 5\"])\n",
    "\n",
    "            # Kiểm tra nếu file đã tồn tại thì đọc và nối dữ liệu\n",
    "            if os.path.exists(output_file):\n",
    "                try:\n",
    "                    df_existing = pd.read_excel(output_file, engine=\"openpyxl\")\n",
    "                    df_final = pd.concat([df_existing, df_new], ignore_index=True)\n",
    "                except Exception:\n",
    "                    df_final = df_new  # Nếu lỗi, chỉ ghi dữ liệu mới\n",
    "            else:\n",
    "                df_final = df_new  # Nếu file chưa tồn tại, chỉ ghi dữ liệu mới\n",
    "\n",
    "            # Ghi dữ liệu vào file Excel\n",
    "            df_final.to_excel(output_file, index=False, engine=\"openpyxl\")\n",
    "\n",
    "            # Lấy số dòng hiện tại trong file\n",
    "            current_row_count = get_current_row_count(output_file)\n",
    "            print(f\"Đã lưu dữ liệu, tổng số dòng hiện tại trong .xlsx: {current_row_count}\")\n",
    "\n",
    "            data_to_save = []  # Reset danh sách để tiếp tục"
   ]
  },
  {
   "cell_type": "code",
   "execution_count": 9,
   "metadata": {},
   "outputs": [
    {
     "name": "stdout",
     "output_type": "stream",
     "text": [
      "Đã lưu dữ liệu, tổng số dòng hiện tại trong .xlsx: 1075\n"
     ]
    }
   ],
   "source": [
    "# Ghi phần còn lại nếu chưa đủ batch_size nhưng vẫn có dữ liệu\n",
    "if data_to_save:\n",
    "    df_new = pd.DataFrame(data_to_save, columns=[\"Original Query\", \"Query 1\", \"Query 2\", \"Query 3\", \"Query 4\", \"Query 5\"])\n",
    "\n",
    "    if os.path.exists(output_file):\n",
    "        try:\n",
    "            df_existing = pd.read_excel(output_file, engine=\"openpyxl\")\n",
    "            df_final = pd.concat([df_existing, df_new], ignore_index=True)\n",
    "        except Exception:\n",
    "            df_final = df_new\n",
    "    else:\n",
    "        df_final = df_new\n",
    "\n",
    "    df_final.to_excel(output_file, index=False, engine=\"openpyxl\")\n",
    "\n",
    "    # Lấy số dòng hiện tại trong file\n",
    "    current_row_count = get_current_row_count(output_file)\n",
    "    print(f\"Đã lưu dữ liệu, tổng số dòng hiện tại trong .xlsx: {current_row_count}\")"
   ]
  }
 ],
 "metadata": {
  "kernelspec": {
   "display_name": "Python 3",
   "language": "python",
   "name": "python3"
  },
  "language_info": {
   "codemirror_mode": {
    "name": "ipython",
    "version": 3
   },
   "file_extension": ".py",
   "mimetype": "text/x-python",
   "name": "python",
   "nbconvert_exporter": "python",
   "pygments_lexer": "ipython3",
   "version": "3.9.8"
  }
 },
 "nbformat": 4,
 "nbformat_minor": 2
}
