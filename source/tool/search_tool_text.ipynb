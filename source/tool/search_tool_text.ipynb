{
 "cells": [
  {
   "cell_type": "code",
   "execution_count": 1,
   "id": "68d8fc2f",
   "metadata": {},
   "outputs": [
    {
     "name": "stdout",
     "output_type": "stream",
     "text": [
      "WARNING:tensorflow:From d:\\Download_Python\\lib\\site-packages\\tf_keras\\src\\losses.py:2976: The name tf.losses.sparse_softmax_cross_entropy is deprecated. Please use tf.compat.v1.losses.sparse_softmax_cross_entropy instead.\n",
      "\n"
     ]
    }
   ],
   "source": [
    "import sys\n",
    "project_path = r\"d:/Download_Github_Desktop/Khoa_Luan_Tot_Nghiep_Agentic_RAG/\"\n",
    "sys.path.append(project_path)\n",
    "import json \n",
    "from source.function.utils_shared import clean_code_fence_safe,fix_json_string\n",
    "from source.model.extract_model import Bert_Extract\n",
    "from source.model.generate_model import Gemini\n",
    "from source.extract.utils_extract import Extract_Information\n",
    "from source.core.config import Settings\n",
    "from source.generate.generate import Gemini_Generate\n",
    "from source.tool.google_search import GoogleSearchTool\n",
    "from source.core.config import Settings"
   ]
  },
  {
   "cell_type": "code",
   "execution_count": 2,
   "id": "29723987",
   "metadata": {},
   "outputs": [],
   "source": [
    "query=\"bao nhiêu tuổi được phép đăng kí kết hôn ?\""
   ]
  },
  {
   "cell_type": "code",
   "execution_count": 3,
   "id": "824b8932",
   "metadata": {},
   "outputs": [],
   "source": [
    "setting=Settings()"
   ]
  },
  {
   "cell_type": "code",
   "execution_count": 4,
   "id": "55396ff7",
   "metadata": {},
   "outputs": [],
   "source": [
    "google_search_tools=GoogleSearchTool(setting)"
   ]
  },
  {
   "cell_type": "code",
   "execution_count": 5,
   "id": "4946a65a",
   "metadata": {},
   "outputs": [],
   "source": [
    "result_link=google_search_tools.search(query)"
   ]
  },
  {
   "cell_type": "markdown",
   "id": "bf46c536",
   "metadata": {},
   "source": [
    "> list các đường link  -> 5 link"
   ]
  },
  {
   "cell_type": "code",
   "execution_count": 6,
   "id": "52f87eb8",
   "metadata": {},
   "outputs": [
    {
     "name": "stdout",
     "output_type": "stream",
     "text": [
      "['https://luatsudian.com/do-tuoi-dang-ky-ket-hon.html', 'https://thuvienphapluat.vn/phap-luat/bao-nhieu-tuoi-thi-het-duoc-dang-ky-ket-hon-nhung-hanh-vi-nao-bi-cam-de-bao-ve-hon-nhan-gia-dinh-806660-164967.html', 'https://hoaithanh-hoainhon.binhdinh.gov.vn/tim-hieu-kien-thuc-phap-luat/luat-hon-nhan-va-gia-dinh2/do-tuoi-ket-hon-theo-quy-dinh-cua-phap-luat-la-bao-nhieu-.html', 'https://thuvienphapluat.vn/chinh-sach-phap-luat-moi/vn/ho-tro-phap-luat/tu-van-phap-luat/61514/huong-dan-xac-dinh-do-tuoi-dang-ky-ket-hon-cua-nam-va-nu-moi-nhat', 'https://plo.vn/16-tuoi-mang-thai-co-dang-ky-ket-hon-duoc-khong-post761656.html']\n"
     ]
    }
   ],
   "source": [
    "print(result_link)"
   ]
  },
  {
   "cell_type": "markdown",
   "id": "70704c84",
   "metadata": {},
   "source": [
    "> list các nội dung trang web (5 nội dung)"
   ]
  },
  {
   "cell_type": "code",
   "execution_count": 7,
   "id": "49b31aa9",
   "metadata": {},
   "outputs": [
    {
     "name": "stderr",
     "output_type": "stream",
     "text": [
      "d:\\Download_Python\\lib\\site-packages\\urllib3\\connectionpool.py:1103: InsecureRequestWarning: Unverified HTTPS request is being made to host 'luatsudian.com'. Adding certificate verification is strongly advised. See: https://urllib3.readthedocs.io/en/latest/advanced-usage.html#tls-warnings\n",
      "  warnings.warn(\n",
      "d:\\Download_Python\\lib\\site-packages\\urllib3\\connectionpool.py:1103: InsecureRequestWarning: Unverified HTTPS request is being made to host 'thuvienphapluat.vn'. Adding certificate verification is strongly advised. See: https://urllib3.readthedocs.io/en/latest/advanced-usage.html#tls-warnings\n",
      "  warnings.warn(\n",
      "d:\\Download_Python\\lib\\site-packages\\urllib3\\connectionpool.py:1103: InsecureRequestWarning: Unverified HTTPS request is being made to host 'thuvienphapluat.vn'. Adding certificate verification is strongly advised. See: https://urllib3.readthedocs.io/en/latest/advanced-usage.html#tls-warnings\n",
      "  warnings.warn(\n",
      "d:\\Download_Python\\lib\\site-packages\\urllib3\\connectionpool.py:1103: InsecureRequestWarning: Unverified HTTPS request is being made to host 'hoaithanh-hoainhon.binhdinh.gov.vn'. Adding certificate verification is strongly advised. See: https://urllib3.readthedocs.io/en/latest/advanced-usage.html#tls-warnings\n",
      "  warnings.warn(\n",
      "d:\\Download_Python\\lib\\site-packages\\urllib3\\connectionpool.py:1103: InsecureRequestWarning: Unverified HTTPS request is being made to host 'thuvienphapluat.vn'. Adding certificate verification is strongly advised. See: https://urllib3.readthedocs.io/en/latest/advanced-usage.html#tls-warnings\n",
      "  warnings.warn(\n",
      "d:\\Download_Python\\lib\\site-packages\\urllib3\\connectionpool.py:1103: InsecureRequestWarning: Unverified HTTPS request is being made to host 'plo.vn'. Adding certificate verification is strongly advised. See: https://urllib3.readthedocs.io/en/latest/advanced-usage.html#tls-warnings\n",
      "  warnings.warn(\n"
     ]
    }
   ],
   "source": [
    "result_docs=google_search_tools.extract_texts_from_links(result_link)"
   ]
  },
  {
   "cell_type": "code",
   "execution_count": 8,
   "id": "7b24a31f",
   "metadata": {},
   "outputs": [
    {
     "name": "stdout",
     "output_type": "stream",
     "text": [
      "5\n"
     ]
    }
   ],
   "source": [
    "print(len(result_docs))"
   ]
  },
  {
   "cell_type": "markdown",
   "id": "44dfab51",
   "metadata": {},
   "source": [
    "> Đưa qua Bert "
   ]
  },
  {
   "cell_type": "markdown",
   "id": "f5ad045b",
   "metadata": {},
   "source": [
    "> tạo model bert và truyền vào để lấy hàm extract thông tin"
   ]
  },
  {
   "cell_type": "code",
   "execution_count": 9,
   "id": "5af11e91",
   "metadata": {},
   "outputs": [
    {
     "data": {
      "application/vnd.jupyter.widget-view+json": {
       "model_id": "fc618f471bb442a88d72847945cc428e",
       "version_major": 2,
       "version_minor": 0
      },
      "text/plain": [
       "config.json:   0%|          | 0.00/853 [00:00<?, ?B/s]"
      ]
     },
     "metadata": {},
     "output_type": "display_data"
    },
    {
     "data": {
      "application/vnd.jupyter.widget-view+json": {
       "model_id": "b3a03cac11a54e989185b5fbea27c0cb",
       "version_major": 2,
       "version_minor": 0
      },
      "text/plain": [
       "model.safetensors:   0%|          | 0.00/709M [00:00<?, ?B/s]"
      ]
     },
     "metadata": {},
     "output_type": "display_data"
    },
    {
     "data": {
      "application/vnd.jupyter.widget-view+json": {
       "model_id": "e06f2d2bd7ef48cd88044ebe96c3b0b6",
       "version_major": 2,
       "version_minor": 0
      },
      "text/plain": [
       "tokenizer_config.json:   0%|          | 0.00/49.0 [00:00<?, ?B/s]"
      ]
     },
     "metadata": {},
     "output_type": "display_data"
    },
    {
     "data": {
      "application/vnd.jupyter.widget-view+json": {
       "model_id": "f0bbd260d5054cbdb02e849605cfd874",
       "version_major": 2,
       "version_minor": 0
      },
      "text/plain": [
       "vocab.txt:   0%|          | 0.00/996k [00:00<?, ?B/s]"
      ]
     },
     "metadata": {},
     "output_type": "display_data"
    },
    {
     "data": {
      "application/vnd.jupyter.widget-view+json": {
       "model_id": "1134539b54b8436fb830fceb98b82583",
       "version_major": 2,
       "version_minor": 0
      },
      "text/plain": [
       "tokenizer.json:   0%|          | 0.00/1.96M [00:00<?, ?B/s]"
      ]
     },
     "metadata": {},
     "output_type": "display_data"
    }
   ],
   "source": [
    "bert_model=Bert_Extract(setting)\n",
    "bert_utils=Extract_Information(bert_model)"
   ]
  },
  {
   "cell_type": "markdown",
   "id": "937d1c0a",
   "metadata": {},
   "source": [
    "> trả ra dưới dạng  {key:value} ở đây key là thứ tự document,value là text sau khi được rút"
   ]
  },
  {
   "cell_type": "code",
   "execution_count": 10,
   "id": "38f33eb5",
   "metadata": {},
   "outputs": [
    {
     "name": "stdout",
     "output_type": "stream",
     "text": [
      "Quy_định Độ tuổi đăng_ký_kết_hôn của pháp_luật Mới 2025 Skip to content Tư_vấn miễn_phí . Hỗ_trợ nhanh , hiệu_quả Tư_vấn miễn_phí . Hỗ_trợ nhanh , hiệu_quả Trang_Chủ Giới_Thiệu Liên_Hệ Tư_Vấn Pháp_Luật Tư_Vấn Luật Hôn_Nhân Gia_Đình Tư_Vấn Luật Doanh_Nghiệp Tư_Vấn Luật Bảo_Hiểm_Xã_Hội Tư_Vấn Luật Cho Việt_Kiều Người Nước_Ngoài Tư_Vấn Luật Dân_Sự Tư_Vấn Luật Đất_Đai – Nhà ở Tư_Vấn Luật Hình_Sự Tư_Vấn Luật Lao_Động Tư_Vấn Luật Thừa_kế Biểu_Mẫu Tin_Tức Trang_Chủ » Tư_Vấn Pháp_Luật » Tư_Vấn Luật Hôn_Nhân Gia_Đình Quy_định Độ tuổi đăng_ký_kết_hôn của pháp_luật Mới 2025 Cập_nhật : Tháng_Một 7 , 2025 Tháng Ba 2 , 2025 bởi Tán Lê_Thảo_Duyên Mục_Lục Quy_định về độ tuổi đăng_ký_kết_hôn của nam và nữ ở Việt_Nam Hướng_dẫn_xác_định độ tuổi đăng_ký_kết_hôn của nam và nữ Cập_nhật 2025 Quy_định về xử_lý việc kết_hôn trái pháp_luật Giải_đáp một_số câu hỏi thường gặp về độ tuổi kết_hôn Tại_sao nam 20 tuổi mới được kết_hôn ? Bao_nhiêu tuổi được đăng_ký_kết_hôn ? Kết_hôn dưới 18 tuổi phạt bao_nhiêu nam tù ? Lấy vợ muộn là bao_nhiêu tuổi ? Tảo_hôn bị phạt bao_nhiêu tiền ? Theo Luật Hôn_nhân và Gia_đình 2014 , quy_định về độ tuổi đăng_ký_kết_hôn như sau : Nam_giới cần đạt từ đủ 20 tuổi trở lên , trong khi nữ_giới từ đủ 18 tuổi trở lên . Tuổi này được tính dựa trên ngày , tháng và năm sinh . [ lwptoc ] Quy_định về độ tuổi đăng_ký_kết_hôn của nam và nữ ở Việt_Nam Điều 8 của Luật Hôn_nhân và Gia_đình 2014 nêu rõ , để kết_hôn , nam và nữ phải đáp_ứng các điều_kiện sau : Nam từ đủ 20 tuổi , nữ từ đủ 18 tuổi . Nam_nữ tự_nguyện kết_hôn với nhau , không bị ép_buộc . Được pháp_luật thừa_nhận có đủ năng_lực hành_vi dân_sự . Không vi_phạm các quy_định cấm kết_hôn được liệt_kê tại khoản 2 , Điều 5 của luật này , bao_gồm : Làm giả kết_hôn hoặc làm giả ly_hôn . Các hành_vi tảo_hôn , cưỡng_ép , lừa_dối hoặc cản_trở kết_hôn . Kết_hôn hoặc chung sống như vợ_chồng với người khác khi đã có vợ / chồng hợp_pháp hoặc với người đang trong tình_trạng hôn_nhân hợp_pháp . Hôn_nhân hoặc chung sống như vợ_chồng giữa các mối quan_hệ cấm như : cùng dòng máu trực_hệ , họ_hàng trong phạm_vi ba đời , giữa cha_mẹ nuôi và con_nuôi , hoặc các mối quan_hệ tương_tự khác . Với quy_định “ Nhà_nước không công_nhận hôn_nhân giữa những người cùng giới_tính ” ở khoản 2 điều 8 Luật hôn_nhân và gia_đình năm 2014 đã được loại_bỏ . Đồng_thời , Nghị_định số 82 / 2020 / NĐ - CP ngày 15 / 7 / 2020 , thì những người đồng giới mà kết_hôn với nhau đã không còn bị phạt nữa . Tóm lại , theo quy_định trên , độ tuổi để đăng_ký_kết_hôn ở Việt_Nam là từ đủ 20 tuổi trở lên đối_với nam và từ đủ 18 tuổi trở lên đối_với nữ ( tính theo ngày_tháng năm sinh trên giấy_tờ ) . Độ tuổi đăng_ký_kết_hôn ở Việt_Nam theo Luật Hôn_nhân và Gia_đình Hướng_dẫn_xác_định độ tuổi đăng_ký_kết_hôn của nam và nữ Cập_nhật 2025 Theo khoản 1 Điều 2 của Thông_tư liên_tịch số 01 / 2016 / TTLT - TANDTC - VKSNDTC - BTP , quy_định về điều_kiện “ Nam từ đủ 20 tuổi trở lên , nữ từ đủ 18 tuổi trở lên ” tại điểm a khoản 1 Điều 8 của Luật Hôn_nhân và Gia_đình 2014 được hiểu là : Nam_giới phải đủ 20 tuổi , nữ_giới phải đủ 18 tuổi , và tuổi này được xác_định dựa trên ngày , tháng , năm sinh . Trường_hợp không_thể xác_định chính_xác ngày hoặc tháng sinh thì thực_hiện như sau : Nếu chỉ biết năm sinh nhưng không rõ tháng sinh , tháng sinh sẽ được tính là tháng 1 của năm đó . Nếu biết cả năm và tháng sinh nhưng không rõ ngày_sinh , ngày_sinh sẽ được tính là ngày 1 của tháng đó . Ví_dụ : Chị An ( tên giả_định ) sinh ngày 10 / 01 / 1998 . Vào ngày 08 / 01 / 2016 , chị An đến Ủy_ban Nhân_dân xã nơi thường_trú để đăng_ký_kết_hôn với anh K. Tại thời_điểm này , chị An vẫn chưa đủ 18 tuổi ( vì ngày đủ 18 tuổi của chị là 10 / 01 / 2016 ) . Theo quy_định tại khoản 1 Điều 9 của Luật Hôn_nhân và Gia_đình 2000 , chị An đủ điều_kiện kết_hôn . Tuy_nhiên , do thời_điểm đăng_ký rơi vào giai_đoạn Luật Hôn_nhân và Gia_đình 2014 đã có hiệu_lực ( từ ngày 01 / 01 / 2015 ) , chị An đã không đáp_ứng quy_định về độ tuổi đăng_ký_kết_hôn tại điểm a khoản 1 Điều 8 của luật này . Nội_dung xem thêm : Kết_hôn là gì ? Điều_kiện kết_hôn 2025 quy_định thế_nào ? Độ tuổi đăng_ký_kết_hôn của nữ theo quy_định pháp_luật Quy_định về xử_lý việc kết_hôn trái pháp_luật Theo Điều 11 của Luật Hôn_nhân và Gia_đình 2014 , việc xử_lý kết_hôn trái pháp_luật được quy_định như sau : Tòa_án có trách_nhiệm giải_quyết các trường_hợp kết_hôn trái pháp_luật , dựa trên quy_định của Luật Hôn_nhân và Gia_đình 2014 và các quy_định liên_quan trong pháp_luật về tố_tụng dân_sự . Nếu tại thời_điểm Tòa_án xem_xét yêu_cầu_hủy việc kết_hôn trái pháp_luật , cả hai bên đã đáp_ứng đủ điều_kiện kết_hôn theo quy_định tại Điều 8 , và họ đề_nghị công_nhận quan_hệ hôn_nhân , thì Tòa_án sẽ công_nhận quan_hệ hôn_nhân này . Trong trường_hợp này , mối quan_hệ vợ_chồng được xác_lập từ thời_điểm cả hai bên đáp_ứng đủ các điều_kiện theo quy_định của luật . Quyết_định của Tòa_án về việc hủy kết_hôn trái pháp_luật hoặc công_nhận quan_hệ hôn_nhân phải được thông_báo cho cơ_quan đã đăng_ký_kết_hôn để ghi_nhận vào_sổ hộ_tịch . Đồng_thời , quyết_định này cũng được gửi đến hai bên kết_hôn trái pháp_luật , các cá_nhân , cơ_quan hoặc tổ_chức có liên_quan theo quy_định của pháp_luật tố_tụng dân_sự . Quy_định độ tuổi đăng_ký_kết_hôn tại Việt_Nam là bao_nhiêu tuổi ? Giải_đáp một_số câu hỏi thường gặp về độ tuổi kết_hôn Tại_sao nam 20 tuổi mới được kết_hôn ? Pháp_luật đưa ra quy_định về độ tuổi kết_hôn dựa trên nhiều nghiên_cứu liên_quan đến sinh_học , tâm_lý và xã_hội nhằm đảm_bảo sức_khỏe , nhận_thức cũng như trách_nhiệm của cá_nhân đối_với gia_đình và cộng_đồng . Xét về mặt thể_chất và tâm_lý , nam_giới ở Việt_Nam thường phát_triển chậm hơn nữ_giới cùng độ tuổi . Đến năm 20 tuổi , họ mới hoàn_thiện về mặt sinh_học , có khả_năng nhận_thức và kiểm_soát hành_vi tốt hơn . Đây cũng là độ tuổi phù_hợp để xây_dựng gia_đình , đảm_bảo trách_nhiệm trong việc nuôi dạy con_cái và đóng_góp cho xã_hội . Tuy_nhiên , ở một_số khu_vực , nam_giới có_thể trưởng_thành sớm hơn do tác_động từ môi_trường sống và nền_tảng gia_đình . Ngược_lại , tại các vùng dân_tộc_thiểu_số , điều_kiện dinh_dưỡng thiếu_thốn khiến quá_trình phát_triển thể_chất diễn ra chậm hơn . Bên cạnh đó , tình_trạng tảo_hôn vẫn còn tồn_tại , ảnh_hưởng tiêu_cực đến sức_khỏe sinh_sản và chất_lượng dân_số . Bên cạnh đó , Độ tuổi 20 là độ tuổi bình_quân của nam_giới trên toàn_quốc . Với những yếu_tố trên , pháp_luật quy_định nam_giới phải đủ 20 tuổi mới được đăng_ký_kết_hôn , nhằm đảm_bảo sự phát_triển toàn_diện và trách_nhiệm trong đời_sống hôn_nhân . Bao_nhiêu tuổi được đăng_ký_kết_hôn ? Độ tuổi đăng_ký_kết_hôn được quy_định ở Điều 8 của Luật Hôn_nhân và Gia_đình 2014 : Nam_giới cần đạt từ đủ 20 tuổi trở lên , trong khi nữ_giới từ đủ 18 tuổi trở lên . Tuổi này được tính dựa trên ngày , tháng và năm sinh . Kết_hôn dưới 18 tuổi phạt bao_nhiêu nam tù ? Theo quy_định pháp_luật hiện_hành , mức phạt dành cho hành_vi kết_hôn với người chưa đạt độ tuổi đăng_ký_kết_hôn được quy_định tại Điều 58 Nghị_định 82 / 2020 / NĐ - CP như sau : Trường_hợp tổ_chức kết_hôn với nữ dưới 18 tuổi , người vi_phạm sẽ bị xử_phạt hành_chính từ 1.000.000 đồng đến 3.000.000 đồng . Nếu đã có bản_án hoặc quyết_định có hiệu_lực pháp_luật của Tòa_án nhưng vẫn duy_trì quan_hệ vợ_chồng trái quy_định với người chưa đủ tuổi , mức phạt tiền sẽ tăng lên từ 3.000.000 đồng đến 5.000.000 đồng . Về trách_nhiệm hình_sự , Điều 183 Bộ_luật Hình_sự năm 2015 quy_định về tội tổ_chức tảo_hôn như sau : Nếu một người tổ_chức kết_hôn cho người chưa đến tuổi kết_hôn , sau khi đã bị xử_phạt hành_chính về hành_vi này mà vẫn tiếp_tục vi_phạm , sẽ bị phạt tiền từ 10.000.000 đồng đến 30.000.000 đồng hoặc bị cải_tạo không giam_giữ tối_đa 2 năm . Thông_tin trên cũng là câu trả_lời khi được hỏi Kết_hôn sớm bị phạt như thế_nào ? Bạn_đọc lưu_ý nhé ! Lấy vợ muộn là bao_nhiêu tuổi ? Hiện_nay , Luật Hôn_nhân và Gia_đình số 52 / 2014 / QH13 không quy_định cụ_thể giới_hạn về độ tuổi đăng_ký_kết_hôn . Tuy_nhiên , theo Quyết_định 588 / QĐ - TTg của Thủ_tướng Chính_phủ , các địa_phương được giao nhiệm_vụ khuyến_khích nam và nữ kết_hôn trước 30 tuổi , tránh việc kết_hôn quá muộn và sớm lập kế_hoạch sinh con . Tảo_hôn bị phạt bao_nhiêu tiền ? Theo Nghị_định 82 / 2020 / NĐ - CP , tổ_chức tảo_hôn sẽ bị xử_phạt hành_chính từ 1.000.000 đến 3.000.000 đồng . Nếu cố_tình duy_trì quan_hệ vợ_chồng trái_phép do tảo_hôn , mức phạt sẽ tăng lên từ 3.000.000 đến 5.000.000 đồng . Bạn còn có câu hỏi nào cần luật_sư giải_đáp nữa không ? Nếu có , hãy liên_hệ về Tuệ_Tâm Pháp nhé ! Thông_tin thêm : Thủ_tục kết_hôn với người Nhật tại Việt_Nam cần giấy_tờ gì ? Thủ_tục đăng_ký_kết_hôn với người nước_ngoài 2025 Lừa_dối kết_hôn là gì ? Được hủy kết_hôn khi bị lừa_dối không ? Tán Lê_Thảo_Duyên Tán Lê_Thảo_Duyên là Luật_sư sáng_lập , giám_đốc điều_hành , người chịu trách_nhiệm chính toàn_bộ quá_trình hoạt_động của Công_ty Luật_TNHH MTV Tuệ_Tâm Pháp Theo_dõi Thông_báo của bình_luận theo_dõi mới trả_lời mới cho bình_luận của tôi Label Tên * Email * Trang_web Label Tên * Email * Trang_web 0 Góp_ý Cũ nhất Mới nhất Phản_hồi nội tuyến Xem tất_cả bình_luận Tải thêm bình_luận Tư_Vấn Luật Hôn_Nhân Gia_Đình Điều_kiện ly_hôn đơn_phương Quy_định cập_nhật 2025 23 Th12 2024 Chu_Cấp Cho Con Sau Ly_Hôn Quy_Định Mới 2025 30 Th7 2023 Hồ_sơ thủ_tục ly_hôn gồm những giấy_tờ gì ? Nộp ở đâu ? 30 Th7 2023 Chưa Ly_Hôn Đăng_Ký_Kết_Hôn Với Người Khác Được Không ? 30 Th7 2023 Cách Kéo_Dài Thời_Gian Ly_Hôn Đúng Quy_Định Pháp_Luật 30 Th7 2023 Tái_hôn là gì ? Phân_biệt & hướng_dẫn đăng_ký chi_tiết 18 Th5 2025 Mới đăng_ký_kết_hôn có hủy được không ? Cách thực_hiện ? 7 Th1 2024 thông_tin công_ty CÔNG_TY LUẬT TUỆ TÂM PHÁP Địa_chỉ : 107 đường GS14 ( Võ Thị_Sáu ) , K. P_Tây_B , P. Đông_Hoà , TP. Dĩ_An , tỉnh Bình_Dương . Điện_thoại : → Hotline : 1900 868 682 ← Email : luatsudian@gmail.com Website : https://www.luatsudian.com Tuyển_dụng : Tuyển thực_tập_sinh ngành luật Dịch_Vụ Pháp_Lý_Dịch_Vụ Xóa_Án_Tích Dịch_Vụ Thành_Lập_Công_Ty Trọn_Gói Tư_Vấn Pháp_Luật Cho Doanh_Nghiệp Dịch_Vụ Ly_Hôn Nhanh Trọn_Gói TPHCM Dịch_Vụ Tư_Vấn Ly_Hôn Dịch_Vụ Làm Giấy_Tờ Nhà_Đất Bình_Dương Dịch_Vụ Xin Cấp Phiếu Lý_Lịch Tư_Pháp Bản_Đồ 1900868682 Copyright 2018 © luatsudian . com Trang_Chủ Giới_Thiệu Liên_Hệ Tư_Vấn Pháp_Luật Tư_Vấn Luật Hôn_Nhân Gia_Đình Tư_Vấn Luật Doanh_Nghiệp Tư_Vấn Luật Bảo_Hiểm_Xã_Hội Tư_Vấn Luật Cho Việt_Kiều Người Nước_Ngoài Tư_Vấn Luật Dân_Sự Tư_Vấn Luật Đất_Đai – Nhà ở Tư_Vấn Luật Hình_Sự Tư_Vấn Luật Lao_Động Tư_Vấn Luật Thừa_kế Biểu_Mẫu Tin_Tức Newsletter_Insert \n",
      "\n",
      "Bao_nhiêu tuổi thì hết được đăng_ký_kết_hôn ? Những hành_vi nào bị cấm để bảo_vệ hôn_nhân gia_đình ? Pháp_Luật_Pháp_luật THƯ_VIỆN PHÁP_LUẬT Tra_cứu pháp_luật Các gói dịch_vụ Trang_chủ Pháp_luật Hỗ_trợ Pháp_luật Pháp_luật về Doanh_nghiệp Pháp_luật về Lao_động - Tiền_lương Pháp_luật về Bất_động_sản Pháp_luật về Vi_phạm hành_chính Pháp_luật về Bảo_hiểm Pháp_luật về Quyền dân_sự Pháp_luật về Văn_hóa - Xã_hội Pháp_luật về Thương_mại Pháp_luật về Trách_nhiệm hình_sự Pháp_luật về Xây_dựng - Đô_thị Pháp_luật về Chứng_khoán Pháp_luật về Kế_toán - Kiểm_toán Pháp_luật về Thuế - Phí - Lệ_Phí Pháp_luật về Xuất_nhập_khẩu Pháp_luật về Tiền_tệ - Ngân_hàng Pháp_luật về Đầu_tư Pháp_luật về Sở_hữu trí_tuệ Pháp_luật về Thủ_tục Tố_tụng Pháp_luật về Tài_chính nhà_nước Pháp_luật về Thể_thao - Y_tế Pháp_luật về Dịch_vụ pháp_lý Pháp_luật về Tài_nguyên - Môi_trường Pháp_luật về Công_nghệ thông_tin Pháp_luật về Giáo_dục Pháp_luật về Giao_thông - Vận_tải Pháp_luật hành_chính Pháp_luật về Lĩnh_vực khác Pháp_luật vừa ban_hành Tìm_kiếm Chủ_quản : Công_ty THƯ_VIỆN PHÁP_LUẬT Giấy_phép số : 27 / GP - TTĐT , do Sở TTTT TP. HCM cấp ngày 09 / 05 / 2019 . Chịu trách_nhiệm chính : Ông Bùi Tường_Vũ - Số điện_thoại liên_hệ : 028 3930 3279 Địa_chỉ : 17 Nguyễn_Gia_Thiều , P. 6 , Q. 3 , TP. HCM Điện_thoại : ( 028 ) 3930 3279 ( 06 lines ) E - mail : i n f [ email protected ] Đăng_nhập / Đăng_ký Trang_chủ Pháp_luật vừa ban_hành Lĩnh_vực Pháp_luật Chủ_đề Pháp_luật nổi_bật Tìm_hiểu Pháp_luật Lịch_Âm 2025 Pháp_luật về Doanh_nghiệp Pháp_luật về Lao_động - Tiền_lương Pháp_luật về Bất_động_sản Pháp_luật về Vi_phạm hành_chính Pháp_luật về Bảo_hiểm Pháp_luật về Quyền dân_sự Pháp_luật về Văn_hóa - Xã_hội Pháp_luật về Thương_mại Pháp_luật về Trách_nhiệm hình_sự Pháp_luật về Xây_dựng - Đô_thị Pháp_luật về Chứng_khoán Pháp_luật về Kế_toán - Kiểm_toán Pháp_luật về Thuế - Phí - Lệ_Phí Pháp_luật về Xuất_nhập_khẩu Pháp_luật về Tiền_tệ - Ngân_hàng Pháp_luật về Đầu_tư Pháp_luật về Sở_hữu trí_tuệ Pháp_luật về Thủ_tục Tố_tụng Pháp_luật về Tài_chính nhà_nước Pháp_luật về Thể_thao - Y_tế Pháp_luật về Dịch_vụ pháp_lý Pháp_luật về Tài_nguyên - Môi_trường Pháp_luật về Công_nghệ thông_tin Pháp_luật về Giáo_dục Pháp_luật về Giao_thông - Vận_tải Pháp_luật hành_chính Pháp_luật về Lĩnh_vực khác Tuyển_sinh Đại_học Bảo_hiểm xã_hội Bảo_hiểm y_tế Hợp_đồng lao_động Chứng_khoán Viên_chức Công_ty cổ_phần Kế_toán Chung_cư Ly_hôn Căn_cước công_dân Bảo_vệ môi_trường Vận_tải Thuế_thu_nhập cá_nhân Bảo_hiểm_thất_nghiệp Mạng xã_hội Đầu_tư Nghĩa_vụ quân_sự Hóa_đơn Giáo_viên Giấy chứng_nhận quyền sử_dụng đất Giấy đăng_ký_kết_hôn Hợp_đồng thuê nhà Xổ_số điện_toán Hóa_đơn điện_tử Giấy_phép kinh_doanh Thuế_thu_nhập doanh_nghiệp Giấy khai_sinh Lương cơ_sở Covid - 19 Đăng_nhập hoặc đăng_ký thành_viên TVPL × ĐĂNG_KÝ THÀNH_VIÊN MIỄN_PHÍ ĐỂ Khai_thác + 302.000 văn_bản Pháp_Luật Nhận Email văn_bản mới hàng tuần Được hỗ_trợ tra_cứu trực_tuyến Tra_cứu Mẫu hợp_đồng , \n",
      " Bảng giá đất ... và nhiều Tiện_ích \n",
      " quan_trọng khác ( 028 ) 3930 3279 Hỗ_trợ trực_tuyến 0906 22 99 66 0838 22 99 66 Họ và tên : Ông_Bà Anh_Chị Tên Thành_Viên : Mật_khẩu : E - mail : Điện_thoại_di_động : Vui_lòng nhập thêm số điện_thoại \n",
      " để chúng_tôi hỗ_trợ bạn tốt hơn Tôi đã đọc và đồng_ý với Thỏa_Ước Dịch_Vụ và Quy_chế bảo_vệ dữ_liệu cá_nhân của THƯ_VIỆN PHÁP_LUẬT Bạn đã là thành_viên thì đăng_nhập để sử_dụng tiện_ích Tên Thành_Viên : Mật_khẩu : Đăng_nhập bằng tài_khoản L aw N et Đăng \n",
      " nhập bằng Google Vui_lòng đăng_nhập hoặc đăng_ký làm thành_viên để sử_dụng tiện_ích này ĐĂNG_NHẬP Tên đăng_nhập : Mật_khẩu : Quên mật_khẩu ? Đăng_nhập Nếu bạn chưa có tài_khoản , hãy đăng_ký để sử_dụng các tiện_ích Họ và tên : Ông_Bà Anh_Chị Tên đăng_nhập : Mật_khẩu : Email : Điện_thoại : Mã bảo_vệ : Đồng_ý với Thỏa_ước dịch_vụ Đăng_ký Đăng_nhập bằng Google ĐĂNG_KÝ THÀNH_VIÊN MIỄN_PHÍ ĐỂ ... Khai_thác hơn 302.000 văn_bản Pháp_Luật Nhận Email văn_bản mới hàng tuần Được hỗ_trợ tra_cứu trực_tuyến Tra_cứu Mẫu hợp_đồng , Bảng giá đất Gửi câu hỏi tư_vấn pháp_luật ... và nhiều Tiện_ích quan_trọng khác THÔNG_TIN LIÊN_HỆ HỖ_TRỢ ( 028 ) 3930 3279 0906 22 99 66 0838 22 99 66 Hỗ_trợ trực_tuyến Cấp lại mật_khẩu Để gửi yêu_cầu cấp lại mật_khẩu . Bạn vui_lòng nhập e - mail đã sử_dụng khi đăng_ký thành_viên . Email : Gửi yêu_cầu / Pháp_luật / Pháp_luật về Quyền dân_sự 06 : 34 | 26 / 07 / 2024 Bao_nhiêu tuổi thì hết được đăng_ký_kết_hôn ? Những hành_vi nào bị cấm để bảo_vệ hôn_nhân gia_đình ? Bao_nhiêu tuổi thì hết được đăng_ký_kết_hôn ? Những hành_vi nào bị cấm để bảo_vệ hôn_nhân gia_đình ? Nội_dung chính Bao_nhiêu tuổi thì hết được đăng_ký_kết_hôn ? Những hành_vi nào bị cấm để bảo_vệ hôn_nhân gia_đình ? Người nào có quyền yêu_cầu_hủy việc kết_hôn trái pháp_luật ? Bao_nhiêu tuổi thì hết được đăng_ký_kết_hôn ? Căn_cứ theo khoản 1 Điều 8 Luật Hôn_nhân và gia_đình 2014 quy_định điều_kiện kết_hôn như sau : Điều_kiện kết_hôn 1 . Nam , nữ kết_hôn với nhau phải tuân theo các điều_kiện sau đây : a ) Nam từ đủ 20 tuổi trở lên , nữ từ đủ 18 tuổi trở lên ; b ) Việc kết_hôn do nam và nữ tự_nguyện quyết_định ; c ) Không bị mất năng_lực hành_vi dân_sự ; d ) Việc kết_hôn không thuộc một trong các trường_hợp cấm kết_hôn theo quy_định tại các điểm a , b , c và d khoản 2 Điều 5 của Luật này . 2 . Nhà_nước không thừa_nhận hôn_nhân giữa những người cùng giới_tính . Theo đó , để đăng_ký_kết_hôn thì nam và nữ phải tuân_thủ các điều_kiện như sau : ( 1 ) Nam từ đủ 20 tuổi trở lên , nữ từ đủ 18 tuổi trở lên ; ( 2 ) Việc kết_hôn do nam và nữ tự_nguyện quyết_định ; ( 3 ) Không bị mất năng_lực hành_vi dân_sự ; ( 4 ) Việc kết_hôn không thuộc một trong các trường_hợp cấm kết_hôn theo quy_định tại các điểm a , b , c và d khoản 2 Điều 5 Luật Hôn_nhân và gia_đình 2014 . Cụ_thể cấm các hành_vi sau đây : - Kết_hôn giả_tạo , ly_hôn giả_tạo ; - Tảo_hôn , cưỡng_ép kết_hôn , lừa_dối kết_hôn , cản_trở kết_hôn ; - Người đang có vợ , có chồng mà kết_hôn hoặc chung sống như vợ_chồng với người khác hoặc chưa có vợ , chưa có chồng mà kết_hôn hoặc chung sống như vợ_chồng với người đang có chồng , có vợ ; - Kết_hôn hoặc chung sống như vợ_chồng giữa những người cùng dòng máu về trực_hệ ; giữa những người có họ trong phạm_vi ba đời ; giữa cha , mẹ nuôi với con_nuôi ; giữa người đã từng là cha , mẹ nuôi với con_nuôi , cha chồng với con dâu , mẹ vợ với con rể , cha dượng với con_riêng của vợ , mẹ_kế với con_riêng của chồng ; Lưu_ý : Nhà_nước không thừa_nhận hôn_nhân giữa những người cùng giới_tính . Như_vậy , theo quy_định vừa nêu trên , pháp_luật chỉ quy_định độ tuổi đăng_ký_kết_hôn tối_thiểu mà không có độ tuổi tối_đa . Do đó , nếu 02 bên nam và nữ đảm_bảo các điều_kiện kết_hôn như trên thì sẽ được đăng_ký_kết_hôn . Bao_nhiêu tuổi thì hết được đăng_ký_kết_hôn ? Những hành_vi nào bị cấm để bảo_vệ hôn_nhân gia_đình ? ( Hình_ảnh Internet ) Những hành_vi nào bị cấm để bảo_vệ hôn_nhân gia_đình ? Căn_cứ theo khoản 2 Điều 5 Luật Hôn_nhân và gia_đình 2014 quy_định về hành_vi bị cấm trong hôn_nhân và gia_đình như sau : - Kết_hôn giả_tạo , ly_hôn giả_tạo ; - Tảo_hôn , cưỡng_ép kết_hôn , lừa_dối kết_hôn , cản_trở kết_hôn ; - Người đang có vợ , có chồng mà kết_hôn hoặc chung sống như vợ_chồng với người khác hoặc chưa có vợ , chưa có chồng mà kết_hôn hoặc chung sống như vợ_chồng với người đang có chồng , có vợ ; - Kết_hôn hoặc chung sống như vợ_chồng giữa những người cùng dòng máu về trực_hệ ; giữa những người có họ trong phạm_vi ba đời ; giữa cha , mẹ nuôi với con_nuôi ; giữa người đã từng là cha , mẹ nuôi với con_nuôi , cha chồng với con dâu , mẹ vợ với con rể , cha dượng với con_riêng của vợ , mẹ_kế với con_riêng của chồng ; - Yêu_sách của_cải trong kết_hôn ; - Cưỡng_ép ly_hôn , lừa_dối ly_hôn , cản_trở ly_hôn ; - Thực_hiện_sinh con bằng kỹ_thuật hỗ_trợ sinh_sản vì mục_đích thương_mại , mang thai hộ vì mục_đích thương_mại , lựa_chọn giới_tính thai_nhi , sinh_sản vô_tính ; - Bạo_lực gia_đình ; - Lợi_dụng việc thực_hiện quyền về hôn_nhân và gia_đình để mua_bán người , bóc_lột sức lao_động , xâm_phạm tình_dục hoặc có hành_vi khác nhằm mục_đích trục_lợi . Người nào có quyền yêu_cầu_hủy việc kết_hôn trái pháp_luật ? Căn_cứ Điều 10 Luật Hôn_nhân và gia_đình 2014 quy_định các cá_nhân , cơ_quan , tổ_chức sau đây có quyền yêu_cầu Tòa_án hủy việc kết_hôn trái pháp_luật trong các trường_hợp tương_ứng sau : ( 1 ) Người bị cưỡng_ép kết_hôn , bị lừa_dối kết_hôn , theo quy_định của pháp_luật về tố_tụng dân_sự , có quyền tự mình yêu_cầu hoặc đề_nghị cá_nhân , tổ_chức tại điểm ( 2 ) sau đây yêu_cầu Tòa_án hủy việc kết_hôn trái pháp_luật do việc kết_hôn không phải do nam và nữ tự_nguyện quyết_định . ( 2 ) Cá_nhân , cơ_quan , tổ_chức sau đây , theo quy_định của pháp_luật về tố_tụng dân_sự , có quyền yêu_cầu Tòa_án hủy việc kết_hôn trái pháp_luật do việc kết_hôn thuộc các trường_hợp không được đăng_ký_kết_hôn nêu trên : - Vợ , chồng của người đang có vợ , có chồng mà kết_hôn với người khác ; cha , mẹ , con , người giám_hộ hoặc người đại_diện theo pháp_luật khác của người kết_hôn trái pháp_luật ; - Cơ_quan quản_lý nhà_nước về gia_đình ; - Cơ_quan quản_lý nhà_nước về trẻ_em ; - Hội liên_hiệp phụ_nữ . Cá_nhân , cơ_quan , tổ_chức khác khi phát_hiện việc kết_hôn trái pháp_luật thì có quyền đề_nghị cơ_quan , tổ_chức nêu trên yêu_cầu Tòa_án hủy việc kết_hôn trái pháp_luật . Tra_cứu Mã_số thuế Đăng_ký_kết_hôn Tải về các quy_định hiện_hành liên_quan đến Đăng_ký_kết_hôn Xem chi_tiết Căn_cứ pháp_lý Luật Hôn_nhân và gia_đình 2014 MỚI NHẤT Đăng_ký_kết_hôn có được sử_dụng chứng_minh nhân_dân bản photo ? Người tuổi Sửu nên kết_hôn với người tuổi Dậu không ? Điều_kiện để được công_nhận hôn_nhân hợp_pháp là gì ? Lời chúc đầu tuần may_mắn cho người_yêu ? Điều_kiện đăng_ký_kết_hôn hiện_nay ? Đã tổ_chức đám_cưới nhưng chưa ĐKKH có được xem là vợ_chồng không ? Love_language nghĩa_là gì ? Acts of service là gì ? Chung sống như vợ_chồng mà không kết_hôn được không ? Bài phát_biểu lễ ăn_hỏi ? Bài phát_biểu lễ ăn_hỏi nhà_gái , nhà_trai ? Đã làm lễ ăn_hỏi nhưng không làm đám_cưới có được xem là vợ_chồng ? Bài phát_biểu đám_cưới ngắn ý_nghĩa ? Mẫu bài phát_biểu tại lễ đám_cưới ? Sau khi làm lễ đám_cưới đăng_ký_kết_hôn được không ? Mẫu tin nhắn động_viên người_yêu trong công_việc ? Tuổi kết_hôn và điều_kiện kết_hôn được quy_định thế_nào ? Xem_ngày tốt cưới hỏi tháng 3 năm 2025 ? Xem_ngày cưới hỏi 2025 tháng 3 năm 2025 chi_tiết ? Ngày tốt cưới hỏi ? Quà tặng cho bạn trai dịp kỷ_niệm ngày yêu nhau ? Quà anniversary lãng_mạn , ý_nghĩa cho bạn nam ? Stt kỷ_niệm ngày yêu nhau ? Stt anniversary lãng_mạn , độc_đáo cho cặp đôi đăng mạng xã_hội ? Đăng_ký_kết_hôn online được không ? Quà tặng anniversary cho bạn gái ? Yêu bao_lâu thì đăng_ký_kết_hôn ? Quà tặng nhân_dịp kỷ_niệm ngày yêu nhau ? Xem thêm ... Đặt câu hỏi Quý_khách cần hỏi thêm thông_tin về có_thể đặt câu hỏi tại đây . Đi đến trang Tìm_kiếm nội_dung Tư_vấn pháp_luật - Đăng_ký_kết_hôn Nguyễn Đỗ_Bảo Trung_Chia_sẻ trên Facebook Lưu bài viết Bài viết này có hữu_ích với bạn không ? Có Không 1,190 lượt xem - Nội_dung nêu trên là phần giải_đáp , tư_vấn của chúng_tôi dành cho khách_hàng của THƯ_VIỆN PHÁP_LUẬT . Nếu quý_khách còn vướng_mắc , vui_lòng gửi về Email [ email protected ] ; - Nội_dung bài viết chỉ mang tính_chất tham_khảo ; - Điều_khoản được áp_dụng có_thể đã hết hiệu_lực tại thời_điểm bạn đang đọc ; - Mọi ý_kiến thắc_mắc về bản_quyền của bài viết vui_lòng liên_hệ qua địa_chỉ mail [ email protected ] ; Tư_vấn pháp_luật mới nhất Mẫu Báo_cáo thành_tích tổ chuyên_môn - Tổ_lao_động tiên_tiến theo Nghị_định 98 ? Tải về Mẫu Báo_cáo thành_tích tổ chuyên_môn ? Thiệp chúc_mừng ngày Quốc_tế Thiếu_nhi 1 6 đẹp nhất ? Các hành_vi nghiêm_cấm đối_với trẻ_em là gì ? Tiền_lương Ban điều_hành doanh_nghiệp nhà_nước được tính chung quỹ tiền_lương của người lao_động đúng không ? Đáp_án đề thi vào lớp 10 tỉnh Lai_Châu năm 2025 môn Văn ? Đề thi kèm đáp_án môn Văn tuyển_sinh lớp 10 tỉnh Lai_Châu năm_học 2025 2026 ? Đảng_viên có bị xử_lý kỷ_luật khi sinh con trước khi bỏ hạn_chế sinh con_thứ 3 thay không ? Trường_hợp chưa xử_lý kỷ_luật ? TÌM_KIẾM LIÊN_QUAN Đăng_ký_kết_hôn TÌM_KIẾM VĂN_BẢN Xem toàn_bộ văn_bản về Đăng_ký_kết_hôn Chọn thư_mục lưu bài viết Hủy_bỏ Lưu lại Gửi câu hỏi Tiêu_đề / chủ_đề câu hỏi : * Nội_dung chi_tiết câu hỏi : Hủy_bỏ Gửi câu hỏi Báo lỗi nội_dung bài viết Nội_dung báo lỗi : Sửa lỗi : * Email : Hủy_bỏ Gửi báo lỗi Hỗ_trợ Pháp_luật Pháp_luật về Doanh_nghiệp Pháp_luật về Lao_động - Tiền_lương Pháp_luật về Bất_động_sản Pháp_luật về Vi_phạm hành_chính Pháp_luật về Bảo_hiểm Pháp_luật về Quyền dân_sự Pháp_luật về Văn_hóa - Xã_hội Pháp_luật về Thương_mại Pháp_luật về Trách_nhiệm hình_sự Pháp_luật về Xây_dựng - Đô_thị Pháp_luật về Chứng_khoán Pháp_luật về Kế_toán - Kiểm_toán Pháp_luật về Thuế - Phí - Lệ_Phí Pháp_luật về Xuất_nhập_khẩu Pháp_luật về Tiền_tệ - Ngân_hàng Pháp_luật về Đầu_tư Pháp_luật về Sở_hữu trí_tuệ Pháp_luật về Thủ_tục Tố_tụng Pháp_luật về Tài_chính nhà_nước Pháp_luật về Thể_thao - Y_tế Pháp_luật về Dịch_vụ pháp_lý Pháp_luật về Tài_nguyên - Môi_trường Pháp_luật về Công_nghệ thông_tin Pháp_luật về Giáo_dục Pháp_luật về Giao_thông - Vận_tải Pháp_luật hành_chính Pháp_luật về Lĩnh_vực khác Địa_chỉ : 17 Nguyễn_Gia_Thiều , P. Võ Thị_Sáu , Q. 3 , TP. HCM Điện_thoại : ( 028 ) 3930 3279 ( 06 lines ) E - mail : i n f [ email protected ] Trang_chủ tin_tức Các Gói Dịch_Vụ Online Hướng_Dẫn Sử_Dụng Giới_Thiệu Liên_Hệ Lưu_trữ Đăng_ký Thành_viên Tra_cứu pháp_luật Tra_cứu Công_văn Tìm_kiếm \n",
      " luật_sư Cộng_đồng ngành luật Thuật \n",
      " ngữ_pháp_lý Biểu_thuế WTO Bảng_giá \n",
      " đất Chủ_quản : Công_ty THƯ_VIỆN PHÁP_LUẬT . Giấy_phép số : 27 / GP - TTĐT , do Sở TTTT TP. HCM cấp ngày 09 / 05 / 2019 . Chịu trách_nhiệm chính : Ông Bùi Tường_Vũ - Số điện_thoại liên_hệ : 028 3930 3279 Địa_chỉ : P. 702A , Centre_Point , 106 Nguyễn_Văn_Trỗi , P. 8 , Q. Phú_Nhuận , TP. HCM ; Địa_điểm Kinh_Doanh : Số 17 Nguyễn_Gia_Thiều , P. Võ Thị_Sáu , Q3 , TP. HCM ; Chứng_nhận bản_quyền tác_giả số 416 / 2021 / QTG ngày 18 / 01 / 2021 , cấp bởi Bộ Văn_hoá - Thể_thao - Du_lịch Thông_báo Bạn không có thông_báo nào \n",
      "\n",
      "Độ tuổi kết_hôn theo quy_định của pháp_luật là bao_nhiêu ? Trang_chủ Liên_Hệ_Toggle navigation Trang_chủ Giới_thiệu Quá_trình hình_thành và phát_triển Dân_số - Lao_động Điều_kiện tự_nhiên Kinh_tế Xã_hội Văn_hoá Lịch_sử Bầu_cử Tìm_hiểu pháp_luật Phòng_chống tham_nhũng Tin_tức Thông_tin chỉ_đạo , điều_hành Văn_bản chỉ_đạo Lấy ý_kiến Văn_bản thị_xã Văn_bản phường Văn_bản Trung_ương Văn_bản Ủy_ban bầu_cử phường Giấy mời họp Thông_báo Công_khai ngân_sách Dự_toán NSĐP trình HĐND Dự_toán NSĐP đã được HĐND quyết_định Tình_hình thực_hiện dự_toán NSĐP trong năm ( quý , 6 tháng , 9 tháng , năm ) Quyết_toán NSĐP đã được HĐND phê_chuẩn Tổng_hợp tình_hình công_khai Tin_tức - Sự_kiện Tin từ các khu_phố Kinh_tế Văn_hóa - Xã_hội Xây_dựng Đảng Dân_vận - Đoàn_thể An_ninh - Trật_tự Cải_cách hành_chính Niêm_yết kết_quả giải_quyết TTHC Mô_hình Hành_chính phục_vụ người dân trên đia bàn phường Hoài_Thanh Người tốt việc tốt Đất_nước - Con_người Xây_dựng chính_quyền Thông_tin người phát_ngôn Hội_nghị đối_thoại giữa Chủ_tịch UBND phường với Nhân_dân Thông_báo Chính_quyền Đảng_ủy phường HĐND Phường UBMTTQVN phường Hội Liên_hiệp Phụ_nữ phường Hoài_Thanh_Hội Nông_dân phường Hoài_Thanh Hội Cựu_chiến_binh phường Đoàn_Thanh_niên CSHCM phường Thành_viên UBND phường Các bộ_phận thuộc UBND phường Văn_phòng Thống_kê Tài_chính - kế_toán Địa_chính xây_dựng đô_thị và môi_trường Ban Chỉ_huy quân_sự Công_an Tư_pháp hộ_tịch Văn_hóa xã_hội Các khu_phố thuộc phường Hoài_Thanh Khu_phố An_Dinh 1 Khu_phố An_Dinh 2 Khu_phố An_Lộc 1 Khu_phố An_Lộc 2 Khu_phố Mỹ_An 1 Khu_phố Mỹ_An 2 Khu_phố Trường_An 1 Khu_phố Trường_An 2 Khu_phố Lâm_Trúc 1 Khu_phố Lâm_Trúc 2 Công_dân Giới_thiệu thủ_tục hành_chính Tra_cứu thủ_tục hành_chính Thủ_tục hành_chính cấp Tỉnh Thủ_tục hành_chính cấp Huyện Thủ_tục hành_chính cấp xã Tra_cứu hồ_sơ Nộp hồ_sơ trực_tuyến Hỏi_đáp Tiếp_nhận câu hỏi Tìm_hiểu pháp_luật Công_khai ngân_sách LỊCH TIẾP CÔNG_DÂN Thông_báo lịch tiếp công_dân CHUYỂN_ĐỔI SỐ PHÁP LUẬT Luật Hành_chính Luật Hiến_pháp Luật hôn_nhân và gia_đình Luật đất_đai Luật Dân_sự Luật Hình_sự Luật Lao_động Luật tố_tụng dân_sự Luật tố_tụng hình_sự Luật Hành_chính Luật Hành_chính Luật Hiến_pháp Luật hôn_nhân và gia_đình Luật Dân_sự Luật Hình_sự Luật Lao_động Luật Hiến_pháp Luật Hành_chính Luật Dân_sự Luật Hành_chính luật dân_sự Du_khách Độ tuổi kết_hôn theo quy_định của pháp_luật là bao_nhiêu ? Thứ_ba , 27 / 02 / 2024 | 13 : 59 A - A A + | Độ tuổi kết_hôn theo quy_định của pháp_luật là bao_nhiêu ? Chia_sẻ Lưu Căn_cứ tại Điều 8 Luật Hôn_nhân và gia đìn h quy_định về điều_kiện kết_hôn của nam và nữ như sau : - Nam từ đủ 20 tuổi trở lên , nữ từ đủ 18 tuổi trở lên ; - Việc kết_hôn do nam và nữ tự_nguyện quyết_định ; - Không bị mất năng_lực hành_vi dân_sự ; - Việc kết_hôn không thuộc một trong các trường_hợp cấm kết_hôn theo quy_định Luật Hôn_nhân và gia_đình . Như_vậy , nam từ đủ 20 tuổi trở lên và nữ từ đủ 18 tuổi trở lên là đủ tuổi đăng_ký_kết_hôn trừ các trường_hợp cấm kết_hôn theo quy_định pháp_luật . Hành_vi kết_hôn với người chưa đủ tuổi ( tảo_hôn ) hay tổ_chức tảo_hôn sẽ bị xử_phạt vi_phạm hành_chính theo quy_định tại Điều 58 Nghị_định 82 / 2020 / NĐ - C P , cụ_thể : - Phạt tiền từ 01 - 03 triệu đồng đối_với hành_vi tổ_chức lấy vợ , lấy chồng cho người chưa đủ tuổi kết_hôn . - Phạt tiền từ 03 - 05 triệu đồng đối_với hành_vi duy_trì quan_hệ vợ_chồng trái pháp_luật với người chưa đủ tuổi kết_hôn mặc_dù đã có bản_án , quyết_định đã có hiệu_lực pháp_luật của Toà_án . Nguồn : Luật Việt_Nam Copy link Tổng_số điểm của bài viết là : 15 trong 4 đánh_giá Click để đánh_giá bài viết Xem thêm chủ_đề Nội_dung đang cập_nhật ... Toggle navigation Trang_chủ Tin_tức Chính_quyền Công_dân CHUYỂN_ĐỔI SỐ PHÁP_LUẬT Du_khách © CỔNG THÔNG_TIN ĐIỆN_TỬ ỦY BAN NHÂN_DÂN PHƯỜNG HOÀI THANH Địa_chỉ : 798 Bà_Triệu - Mỹ_An 2 - Hoài_Thanh - Hoài_Nhơn - Bình_Định Điện_thoại : 02563 864505 Email : https://hoaithanh@hoainhon.binhdinh.gov.vn Chịu trách_nhiệm nội_dung : Huỳnh Thanh_Bình - Phó_chủ_tịch UBND phường Hoài_Thanh \n",
      "\n",
      "Hướng_dẫn_xác_định độ tuổi đăng_ký_kết_hôn của nam và nữ mới nhất Chính_Sách Pháp_Luật mới Trang_chủ THƯ_VIỆN PHÁP_LUẬT Pháp_luật Tra_cứu pháp_luật Các gói dịch_vụ THÔNG_BÁO VĂN_BẢN MỚI CHÍNH_SÁCH THƯƠNG_MẠI CHÍNH_SÁCH MỚI ÁN LỆ TƯ_VẤN CỦA LUẬT_SƯ Chính_sách mới >> Tư_vấn pháp_luật 27 / 03 / 2024 10 : 30 AM Hướng_dẫn_xác_định độ tuổi đăng_ký_kết_hôn của nam và nữ mới nhất Tham_vấn bởi Luật_sư Nguyễn_Thụy_Hân Chuyên_viên pháp_lý Lê Trương_Quốc Đạt 27 / 03 / 2024 10 : 30 AM Cho tôi hỏi việc xác_định độ tuổi đăng_ký_kết_hôn của nam và nữ được hướng_dẫn như thế_nào ? - Ngọc_Nhiên ( Long_An ) >> Bố_mẹ ly_hôn , phải giao mẹ nuôi_dưỡng nếu con dưới 36 tháng tuổi >> Trường_hợp nào được miễn_phí cấp Phiếu lý_lịch tư_pháp ? Mục \n",
      " lục bài viết Hướng_dẫn_xác_định độ tuổi đăng_ký_kết_hôn của nam và nữ mới nhất ( Hình từ Internet ) Về vấn_đề này , THƯ_VIỆN PHÁP_LUẬT giải_đáp như sau : 1 . Độ tuổi đăng_ký_kết_hôn của nam và nữ Theo Điều 8 Luật Hôn_nhân và gia_đình 2014 quy_định về điều_kiện kết_hôn như sau : - Nam , nữ kết_hôn với nhau phải tuân theo các điều_kiện sau đây : + Nam từ đủ 20 tuổi trở lên , nữ từ đủ 18 tuổi trở lên ; + Việc kết_hôn do nam và nữ tự_nguyện quyết_định ; + Không bị mất năng_lực hành_vi dân_sự ; + Việc kết_hôn không thuộc một trong các trường_hợp cấm kết_hôn theo quy_định tại các điểm a , b , c và d khoản 2 Điều 5 Luật Hôn_nhân và gia_đình 2014 : + + Kết_hôn giả_tạo , ly_hôn giả_tạo ; + + Tảo_hôn , cưỡng_ép kết_hôn , lừa_dối kết_hôn , cản_trở kết_hôn ; + + Người đang có vợ , có chồng mà kết_hôn hoặc chung sống như vợ_chồng với người khác hoặc chưa có vợ , chưa có chồng mà kết_hôn hoặc chung sống như vợ_chồng với người đang có chồng , có vợ ; + + Kết_hôn hoặc chung sống như vợ_chồng giữa những người cùng dòng máu về trực_hệ ; giữa những người có họ trong phạm_vi ba đời ; giữa cha , mẹ nuôi với con_nuôi ; giữa người đã từng là cha , mẹ nuôi với con_nuôi , cha chồng với con dâu , mẹ vợ với con rể , cha dượng với con_riêng của vợ , mẹ_kế với con_riêng của chồng ; - Nhà_nước không thừa_nhận hôn_nhân giữa những người cùng giới_tính . Như_vậy , theo quy_định trên thì điều_kiện về độ tuổi khi đăng_ký_kết_hôn giữa nam và nữ là nam từ đủ 20 tuổi trở lên , nữ từ đủ 18 tuổi trở lên . 2 . Hướng_dẫn_xác_định độ tuổi đăng_ký_kết_hôn của nam và nữ mới nhất Theo khoản 1 Điều 2 Thông_tư liên_tịch 01 / 2016 / TTLT - TANDTC - VKSNDTC - BTP hướng_dẫn điều_kiện về “ Nam từ đủ 20 tuổi trở lên , nữ từ đủ 18 tuổi trở lên ” quy_định tại điểm a khoản 1 Điều 8 Luật Hôn_nhân và gia_đình 2014 là trường_hợp nam đã đủ hai mươi tuổi , nữ đã đủ mười tám tuổi trở lên và được xác_định theo ngày , tháng , năm sinh . Trường_hợp không xác_định được ngày_sinh , tháng sinh thì thực_hiện như sau : - Nếu xác_định được năm sinh nhưng không xác_định được tháng sinh thì tháng sinh được xác_định là tháng_một của năm sinh ; - Nếu xác_định được năm sinh , tháng sinh nhưng không xác_định được ngày_sinh thì ngày_sinh được xác_định là ngày mùng một của tháng sinh . Ví_dụ : Chị B sinh ngày 10 / 01 / 1997 , đến ngày 08 / 01 / 2015 chị B đăng_ký_kết_hôn với anh A tại Ủy_ban nhân_dân xã X. Tại thời_điểm đăng_ký_kết_hôn chị B chưa đủ 18 tuổi ( ngày chị B đủ 18 tuổi là ngày 10 / 01 / 2015 ) , như_vậy , theo quy_định tại khoản 1 Điều 9 Luật Hôn_nhân và gia_đình 2000 thì chị B đã đủ tuổi kết_hôn , tuy_nhiên vì ngày chị B đăng_ký_kết_hôn Luật Hôn_nhân và gia_đình 2014 đã có hiệu_lực ( ngày 01 / 01 / 2015 ) nên chị B đã vi_phạm điều_kiện về tuổi kết_hôn quy_định tại điểm a khoản 1 Điều 8 Luật Hôn_nhân và gia_đình 2014 . 3 . Quy_định về xử_lý việc kết_hôn trái pháp_luật Quy_định về xử_lý việc kết_hôn trái pháp_luật theo Điều 11 Luật Hôn_nhân và gia_đình 2014 như sau : - Xử_lý việc kết_hôn trái pháp_luật được Tòa_án thực_hiện theo quy_định tại Luật Hôn_nhân và gia_đình 2014 và pháp_luật về tố_tụng dân_sự . - Trong trường_hợp tại thời_điểm Tòa_án giải_quyết yêu_cầu_hủy việc kết_hôn trái pháp_luật mà cả hai bên kết_hôn đã có đủ các điều_kiện kết_hôn theo quy_định tại Điều 8 Luật Hôn_nhân và gia_đình 2014 và hai bên yêu_cầu công_nhận quan_hệ hôn_nhân thì Tòa_án công_nhận quan_hệ hôn_nhân đó . Trong trường_hợp này , quan_hệ hôn_nhân được xác_lập từ thời_điểm các bên đủ điều_kiện kết_hôn theo quy_định của Luật Hôn_nhân và gia_đình 2014 . - Quyết_định của Tòa_án về việc hủy kết_hôn trái pháp_luật hoặc công_nhận quan_hệ hôn_nhân phải được gửi cho cơ_quan đã thực_hiện việc đăng_ký_kết_hôn để ghi vào_sổ hộ_tịch ; hai bên kết_hôn trái pháp_luật ; cá_nhân , cơ_quan , tổ_chức liên_quan theo quy_định của pháp_luật về tố_tụng dân_sự . Nội_dung nêu trên là phần giải_đáp , tư_vấn của chúng_tôi dành cho khách_hàng của THƯ_VIỆN PHÁP_LUẬT . \n",
      " Nếu quý_khách còn vướng_mắc , vui_lòng gửi về Email [ email protected ] . 33,185 độ tuổi đăng_ký_kết_hôn của nam và nữ , HỎI_ĐÁP PHÁP_LUẬT LIÊN_QUAN Tra_cứu Mã_số thuế Bài viết về lĩnh_vực Hộ_tịch – Cư_trú – Quyền dân_sự Chứng_cứ xác_định cha cho con gồm những gì ? Cơ_quan nào có thẩm_quyền xác_định cha cho con ( 27 / 05 ) Cấm các sản_phẩm sử_dụng trong chẩn_đoán lựa_chọn giới_tính thai_nhi trước khi sinh ( Dự_kiến ) ( 24 / 05 ) Quy_định về các nghi_lễ trong Lễ Quốc_tang gồm những nội_dung gì ? ( 23 / 05 ) Lịch đi nghĩa_vụ quân_sự năm 2026 khi nào ? Các trường_hợp tạm hoãn nghĩa_vụ quân_sự năm 2026 [ mới nhất ] ( 22 / 05 ) Chỉ_thị 02 về tuyển_chọn , gọi nhập_ngũ năm 2026 của tỉnh Bà_Rịa - Vũng_Tàu ( 22 / 05 ) NVQS 2026 : Bà_Rịa Vũng_Tàu ưu_tiên gọi nhập_ngũ với thanh_niên trình_độ đại_học , đảng_viên chính_thức ( 22 / 05 ) Phương_thức xử_lý_tài_sản thế_chấp là bất_động_sản tại ngân_hàng ( 21 / 05 ) Đề_xuất Bộ Công_an có trách_nhiệm xác_minh về nhân_thân của người xin trở_lại quốc_tịch Việt_Nam ( 17 / 05 ) Đề_xuất sửa_đổi điều_kiện nhập_tịch tại Việt_Nam ( 17 / 05 ) Sinh_con tại nhà không ai đỡ_đẻ thì cấp giấy chứng sinh theo mẫu nào ? ( 16 / 05 ) Đất hương_hỏa là gì ? Được bán đất hương_hỏa hay không ? ( 14 / 05 ) Khi nào tài_sản của vợ_chồng được coi là tài_sản chung , tài_sản riêng ? Tài_sản thừa_kế là tài_sản chung hay tài_sản riêng ? ( 14 / 05 ) Tải về mẫu CT01 tờ khai thay_đổi thông_tin cư_trú mới nhất 2025 ( 08 / 05 ) Chính_thức đã có thẩm_quyền của Tòa_án nhân_dân khu_vực trong TTDS tại dự_thảo Luật sửa_đổi BLTTDS , LTTHC ( 07 / 05 ) Trường_hợp đăng_ký thường_trú phải lấy ý_kiến của chủ sở_hữu nhà ở ( 30 / 04 ) Quy_định về phạt cọc trong mua_bán nhà_đất ( 30 / 04 ) Hồ_sơ , thủ_tục đăng_ký tạm_trú , gia_hạn tạm_trú 2025 ( 29 / 04 ) Sau khi sáp_nhập tỉnh , có cần phải đổi hộ_chiếu mới ? ( 29 / 04 ) Chính_sách mới Điều_kiện dự thi cấp chứng_chỉ hành_nghề môi_giới bất_động_sản năm 2025 Người hoạt_động không chuyên_trách được hưởng chế_độ và chính_sách gì khi sáp_nhập ? Xác_định thành_viên hộ gia_đình tại thời_điểm cấp Giấy chứng_nhận quyền sử_dụng đất như thế_nào ? Thời_hạn nộp hồ_sơ_khai thuế khi hộ khoán chuyển_đổi sang phương_pháp kê_khai là khi nào ? Mức phạt hành_vi ngăn_cản không cho gặp con Chính_sách khác [ Trở_về ] Trường_hợp nào được miễn_phí cấp Phiếu lý_lịch tư_pháp ? Chứng_cứ xác_định cha cho con gồm những gì ? Cơ_quan nào có thẩm_quyền xác_định cha cho con Có được bố_trí cho người lao_động nghỉ bù khi tăng ca không ? Hộ nghèo ở khu_vực nông_thôn muốn áp_dụng chính_sách giải_quyết mua nhà ở xã_hội có được không ? Công_chứng hợp_đồng nhà_đất : Hồ_sơ , thủ_tục , phí thực_hiện mới nhất 2025 Phá_hoại Ngai vàng triều Nguyễn có bị xử_phạt không ? Mức phạt lỗi không chấp_hành hiệu_lệnh của CSGT với xe_máy năm 2025 Hướng_dẫn nộp minh chứng cho thí_sinh được cộng điểm ưu_tiên thi_tuyển_sinh đại_học cao_đẳng 2025 Cơ_sở từ bao_nhiêu người làm_việc phải thành_lập Đội phòng cháy , chữa_cháy , cứu nạn , cứu_hộ từ 1 / 7 / 2025 ? Cách tính thuế_hộ kinh_doanh nhỏ_lẻ năm 2025 Những đối_tượng được cộng điểm ưu_tiên khi thi_tuyển_sinh lớp 10 năm 2025 Nhà_nước thu_hồi đất chung của hộ gia_đình có phải giao lại đất cho hộ gia_đình không ? Kết_quả thi đánh_giá năng_lực đợt 2 năm 2025 khi nào sẽ có ? Hướng_dẫn treo cờ trong Lễ Quốc_tang ( treo cờ rủ ) Chính_sách hỗ_trợ thêm mức đóng BHXH tự_nguyện của một_số địa_phương TÌM_KIẾM VĂN_BẢN Văn_bản liên_quan đến độ tuổi đăng_ký_kết_hôn của nam và nữ XEM NHIỀU NHẤT Luật Cán_bộ công_chức và Luật Viên_chức mới nhất 2025 và văn_bản hướng_dẫn Nơi tổ_chức Lễ Quốc_tang và nơi an_táng Hướng_dẫn treo cờ trong Lễ Quốc_tang ( treo cờ rủ ) Hạn chót nộp tờ khai thuế TNCN , thuế GTGT quý 1 năm 2025 Ngày 19 / 5 là ngày gì ? Tổ_chức kỷ_niệm vào ngày 19 / 5 như thế_nào ? Chính_sách hỗ_trợ thêm mức đóng BHXH tự_nguyện của một_số địa_phương Mức đóng và cách tính thuế_khoán hộ kinh_doanh năm 2025 Lễ 30 / 4 và 1 / 5 năm 2025 : Người lao_động làm bù vào ngày nào ? Mẫu nhận_xét năng_lực phẩm_chất cuối kì 2 theo Thông_tư 27 Duyệt_binh , diễu_binh là gì ? Bao_nhiêu năm sẽ tổ_chức diễu_binh 1 lần ? Địa_chỉ : 17 Nguyễn_Gia_Thiều , P. Võ Thị_Sáu , Q. 3 , TP. HCM Điện_thoại : ( 028 ) 3930 3279 ( 06 lines ) E - mail : i n f [ email protected ] Trang_Chủ Các Gói Dịch_Vụ Online Hướng_Dẫn Sử_Dụng Giới_Thiệu Liên_Hệ_Đăng_ký Thành_viên Tra_cứu pháp_luật Tra_cứu Công_văn Tìm_kiếm \n",
      " luật_sư Thuật \n",
      " ngữ_pháp_lý Bảng_giá \n",
      " đất × Thông_báo TP. HCM , ngày 20 / 07 / 2022 Thư Xin_Lỗi Vì Đang Bị Tấn_Công DDoS THƯ_VIỆN PHÁP_LUẬT chân_thành xin_lỗi Quý_khách vì website không vào được hoặc vào rất chậm trong hơn 1 ngày qua . Khoảng 8 giờ sáng ngày 19 / 7 / 2022 , trang www . ThuVienPhapLuat . vn có biểu_hiện bị tấn_công DDoS dẫn đến quá_tải . Người dùng truy_cập vào web không được , hoặc vào được thì rất chậm . THƯ_VIỆN PHÁP_LUẬT đã báo_cáo và nhờ sự hỗ_trợ của Trung_Tâm Giám_sát An_toàn Không_gian mạng Quốc_gia ( NCSC ) , nhờ đó đã phần_nào hạn_chế hậu_quả của cuộc tấn_công . Đến chiều ngày 20 / 07 việc tấn_công DDoS vẫn đang tiếp_diễn , nhưng người dùng đã có_thể sử_dụng , dù hơi chậm , nhờ các giải_pháp mà NCSC đưa ra . DDoS là hình_thức hacker gửi lượng lớn truy_cập giả vào hệ_thống , nhằm gây tắc_nghẽn hệ_thống , khiến người dùng không_thể truy_cập và sử_dụng dịch_vụ bình_thường trên trang www . ThuVienPhapLuat . vn . Tấn_công DDoS không làm ảnh_hưởng đến dữ_liệu , không đánh mất thông_tin người dùng . Nó chỉ làm tắc_nghẽn đường_dẫn , làm khách_hàng khó hoặc không_thể truy_cập vào dịch_vụ . Ngay khi bị tấn_công DDoS , THƯ_VIỆN PHÁP_LUẬT đã họp xem thời_gian qua mình có làm sai hay gây thù chuốc oán với cá_nhân tổ_chức nào không . Và nhận thấy mình không gây thù với bạn nào , nên chưa hiểu được mục_đích của lần DDoS này là gì . Sứ_mệnh của THƯ_VIỆN PHÁP_LUẬT là : sử_dụng công_nghệ_cao để tổ_chức lại hệ_thống pháp_luật và kết_nối cộng_đồng dân luật Việt_Nam , nhằm giúp công_chúng loại rủi_ro pháp_lý , nắm cơ_hội làm_giàu , và cùng công_chúng xây_dựng , thụ_hưởng nhà_nước pháp_quyền . Luật_sư Nguyễn_Thụy_Hân , Phòng Cộng_Đồng Ngành Luật cho rằng : “ Mỗi ngày chúng_tôi hỗ_trợ pháp_lý cho hàng ngàn trường_hợp , phổ_cập kiến_thức pháp_luật đến hàng triệu người , thiết_nghĩ các hacker chân_chính không ai lại đi phá làm gì ” . Dù thế_nào , để xảy ra bất_tiện này cũng là lỗi của chúng_tôi , một lần nữa THƯ_VIỆN PHÁP_LUẬT xin gửi lời xin_lỗi đến cộng_đồng , khách_hàng . Vui_lòng đăng_nhập hoặc đăng_ký làm thành_viên để sử_dụng tiện_ích này × ĐĂNG_KÝ THÀNH_VIÊN MIỄN_PHÍ ĐỂ Khai_thác hơn 302.000 văn_bản Pháp_Luật Nhận Email văn_bản mới hàng tuần Được hỗ_trợ tra_cứu trực_tuyến Tra_cứu Mẫu hợp_đồng , \n",
      " Bảng giá đất ... và nhiều Tiện_ích \n",
      " quan_trọng khác ( 028 ) 3930 3279 Hỗ_trợ trực_tuyến 0906 22 99 66 0838 22 99 66 Họ và tên : Ông_Bà Anh_Chị Tên Thành_Viên : Mật_khẩu : E - mail : Điện_thoại_di_động : Vui_lòng nhập thêm số điện_thoại \n",
      " để chúng_tôi hỗ_trợ bạn tốt hơn Thỏa_Ước Dịch_Vụ : Tôi đã đọc và đồng_ý Bạn đã là thành_viên thì đăng_nhập để sử_dụng tiện_ích Tên Thành_Viên : Mật_khẩu : Đăng_nhập bằng tài_khoản L aw N et Đăng \n",
      " nhập bằng Google \n",
      "\n",
      "16 tuổi mang thai có đăng_ký_kết_hôn được không ? | Báo Pháp_Luật TP. Hồ_Chí Minh_Báo Pháp_Luật TP. Hồ_Chí Minh Bạn_đọc 16 tuổi mang thai có đăng_ký_kết_hôn được không ? 17 / 11 / 2023 09 : 00 ( PLO ) - Bạn_đọc thắc_mắc , nữ 16 tuổi chưa đủ tuổi đăng_ký_kết_hôn nhưng nếu mang thai có được đăng_ký_kết_hôn hoặc tổ_chức đám_cưới không ? 0 : 00 / 0 : 00 0 : 00 Nam miền Bắc_Nam miền Bắc_Nữ miền Bắc_Nữ miền Nam_Nam miền Nam Em_gái tôi năm nay 16 tuổi , em tôi đã nghỉ học để đi làm và có bạn trai được một năm nay . Cả hai quen nhau được hai gia_đình đồng thuận . Nay em_gái tôi có_thai ngoài ý_muốn nên hai gia_đình dự_định sẽ tổ_chức đám_cưới . Xin hỏi , em_gái tôi chỉ mới 16 tuổi thì có_thể đăng_ký_kết_hôn không ? Nếu tổ_chức đám_cưới thì có vi_phạm_pháp_luật không ? Bạn_đọc Như_Ý ( TP. HCM ) 16 tuổi mang thai có được đăng_ký_kết_hôn ? Ảnh : HUỲNH THƠ Luật_sư Trịnh Công_Minh , Đoàn Luật_sư TP. HCM trả_lời , căn_cứ Điều 8 Luật Hôn_nhân và Gia_đình 2014 , nam , nữ kết_hôn với nhau phải tuân theo các điều_kiện sau : Nam từ đủ 20 tuổi trở lên và nữ từ đủ 18 tuổi trở lên ; Việc kết_hôn do nam và nữ tự_nguyện quyết_định ; Không bị mất năng_lực hành_vi dân_sự ; Việc kết_hôn không thuộc một trong các trường_hợp cấm kết_hôn theo quy_định tại các điểm a , b , c và d khoản 2 Điều 5 của Luật này . Theo đó tại điểm a , b , c và d khoản 2 Điều 5 của Luật này cũng nêu rõ các hành_vi bị cấm bao_gồm : Kết_hôn giả_tạo , ly_hôn giả_tạo ; Tảo_hôn , cưỡng_ép kết_hôn , lừa_dối kết_hôn , cản_trở kết_hôn ; Người đang có vợ , có chồng mà kết_hôn hoặc chung sống như vợ_chồng với người khác hoặc chưa có vợ , chưa có chồng mà kết_hôn hoặc chung sống như vợ_chồng với người đang có chồng , có vợ ; Kết_hôn hoặc chung sống như vợ_chồng giữa những người cùng dòng máu về trực_hệ ; giữa những người có họ trong phạm_vi ba đời ; giữa cha , mẹ nuôi với con_nuôi ; giữa người đã từng là cha , mẹ nuôi với con_nuôi , cha chồng với con dâu , mẹ vợ với con rể , cha dượng với con_riêng của vợ , mẹ_kế với con_riêng của chồng … Theo những quy_định trên có_thể thấy , độ tuổi kết_hôn của nam và nữ theo quy_định của pháp_luật Việt_Nam hiện_nay là nam từ đủ 20 tuổi trở lên và nữ từ đủ 18 tuổi trở lên . Đồng_thời , việc kết_hôn phải được đăng_ký và do cơ_quan nhà_nước có thẩm_quyền thực_hiện theo quy_định . Nếu nam chưa đủ 20 tuổi và nữ chưa đủ 18 tuổi thì sẽ không được đăng_ký_kết_hôn . Ngoài_ra , đối_với trường_hợp chưa đủ tuổi kết_hôn mà tổ_chức đám_cưới có_thể xem là hành_vi tảo_hôn . Đây là một hành_vi cấm kết_hôn và sẽ bị xử_phạt theo theo quy_định của pháp_luật . Cụ_thể , theo quy_định tại Điều 58 Nghị_định số 82 / 2020 ( quy_định xử_phạt vi_phạm hành_chính trong lĩnh_vực bổ_trợ tư_pháp ; hành_chính tư_pháp ; hôn_nhân và gia_đình ; thi_hành án dân_sự ; phá_sản doanh_nghiệp , hợp_tác_xã ) đối_với hành_vi tảo_hôn , tổ_chức tảo_hôn sẽ bị xử_lý như sau : Phạt tiền từ 1 - 3 triệu đồng đồng đối_với hành_vi tổ_chức lấy vợ , lấy chồng cho người chưa đủ tuổi kết_hôn ; Phạt tiền từ 3 - 5 triệu đồng đối_với hành_vi duy_trì quan_hệ vợ_chồng trái pháp_luật với người chưa đủ tuổi kết_hôn mặc_dù đã có bản_án , quyết_định đã có hiệu_lực pháp_luật của Toà_án . Do đó , với trường_hợp của bạn_đọc thì bạn gái 16 tuổi này chưa đủ điều_kiện để đăng_ký_kết_hôn , vậy nên không_thể tiến_hành đăng_ký_kết_hôn tại cơ_quan nhà_nước có thẩm_quyền . Và cũng không_thể tổ_chức đám_cưới vì trái với quy_định của pháp_luật và sẽ bị xử_phạt như đã thông_tin trên . Cha_mẹ chưa đủ tuổi có đăng_ký khai_sinh cho con được không ? HUỲNH THƠ Tin liên_quan Chung sống như vợ_chồng mà không đăng_ký_kết_hôn có phạm_pháp không ? Vụ cưới vợ chưa đủ 18 tuổi : Trách_nhiệm của cha , mẹ cô_dâu đến đâu ? Đăng_ký_kết_hôn với người đang ở tù , được không ? từ khóa # 16 tuổi # mang thai # đăng_ký_kết_hôn # đám_cưới # luật_sư Trịnh Công_Minh # Đoàn Luật_sư TP. HCM Đừng bỏ lỡ Ca_sĩ Jack - J97 nộp đơn tố Thiên_An và các đơn_vị truyền_thông đưa tin sai sự_thật Hình_ảnh công_an khám_xét nhà ' đại_ca ' ở Thanh_Hóa_Bộ Công_an đồng_loạt khám nhiều căn nhà của đại_ca giang_hồ ở Thanh_Hóa Ngân_hàng Nhà_nước : ‘ Đã có tình_trạng cho thuê khuôn_mặt để lừa_đảo chuyển tiền ’ Một trưởng_phòng Sở Nông_nghiệp - Môi_trường Đắk_Lắk đột_tử tại Phú_Yên_Vụ ' chạy ' chứng_chỉ hành_nghề bác_sĩ ở Đắk_Lắk : Giải_trình của BV Đa_khoa vùng Tây_Nguyên Ngộ_độc khí tại nhà_máy gạch_men ở Đồng_Nai , 2 công_nhân tử_vong Ông Trump hoãn áp 50 % thuế lên EU Bỏ tử_hình với 8 tội_danh : Cân_đối , hài_hòa để bảo_vệ quyền con_người LENS Công_an đã bắt_giữ 2 nghi phạm trong nhóm mặc áo đen đập phá quán phở ở Đắk_Lắk Video đang xem nhiều Bản tin trưa 27 - 5 : Bị tống_tiền khi livestream khoe thân ; Biến_thể mới COVID - 19 tại TP. HCM nguy_hiểm đến đâu ? Đọc thêm Bộ Công_an chỉ cách thoát nạn an_toàn khi cháy nhà dân và chung_cư cao_tầng 27 / 05 / 2025 20 : 01 Đứng_tên hộ kinh_doanh trong khối tài_sản chung , có được thừa_kế toàn_bộ di_sản ? 27 / 05 / 2025 15 : 04 Cẩn_thận kẻ_gian mạo_danh_nhân_viên cấp_nước 27 / 05 / 2025 12 : 48 Đi khám tại cơ_sở tư_nhân , BHYT có chi_trả đầy_đủ ? 27 / 05 / 2025 11 : 53 Thủ_tướng đã ra chỉ_lệnh , người dân mong cơ_quan_chức_năng mạnh_tay với hàng giả 27 / 05 / 2025 06 : 00 Chi_cục THADS huyện Chợ Mới , An_Giang nêu lý_do chưa tổ_chức cưỡng_chế thi_hành án 26 / 05 / 2025 21 : 00 Chuyển địa_điểm kinh_doanh , cần khai_báo gì với cơ_quan BHXH ? 26 / 05 / 2025 11 : 50 GPLX quốc_tế đổi sang GPLX Việt_Nam như thế_nào ? 26 / 05 / 2025 08 : 07 1 nhà đầu_tư Hồng_Kông mong vụ án sớm được giải_quyết 26 / 05 / 2025 06 : 00 Cha_mẹ người Pháp sinh con tại Việt_Nam , con mang quốc_tịch nào ? 25 / 05 / 2025 16 : 06 Vợ không tham_gia BHXH , khi sinh mổ người chồng có được hưởng chế_độ thai_sản ? 25 / 05 / 2025 09 : 46 Quảng_cáo thổi_phồng công_dụng mỹ_phẩm : Người tiêu_dùng đã quá ngán_ngẩm ! 25 / 05 / 2025 09 : 36 Việt_kiều Mỹ thắng kiện trong vụ tranh_chấp 417.000 USD 25 / 05 / 2025 07 : 23 Vợ mê phim Hàn_Quốc , đặt tên con bằng tiếng nước_ngoài được không ? 24 / 05 / 2025 17 : 46 Từ chuyện chuỗi cà_phê ' bịt ổ điện ' : Làm_sao để duy_trì không_gian thoải_mái cho khách_hàng ? 24 / 05 / 2025 11 : 16 Miễn , hỗ_trợ học_phí : Quyết_sách đúng lúc , hợp lòng dân 24 / 05 / 2025 05 : 30 Từ vụ TikToker Võ_Hà_Linh bị tố giảm_giá sâu : Bán phá_giá là gì , có vi_phạm_pháp_luật ? 23 / 05 / 2025 19 : 14 Ô_tô đậu cả năm ở quận Tân_Phú , TP. HCM đã được dời đi 23 / 05 / 2025 18 : 56 Vi_phạm về an_toàn thực_phẩm : Tăng mức phạt là cần_thiết ! 23 / 05 / 2025 10 : 21 Bảo_kê có vi_phạm_pháp_luật không ? 23 / 05 / 2025 06 : 00 Video Thời_sự Pháp_luật Quốc_tế An_ninh trật_tự Xã_hội Kinh_tế Phát_triển Xanh Sức_khỏe Văn_hóa Thể_thao Đô_thị Bạn_đọc Ăn sạch sống khỏe Xe và luật Kỷ_nguyên số Tài_chính - Ngân_hàng Thị_trường - Tiêu_dùng Đèn trên biển Media Theo_dõi PLO trên Facebook Android IOS © Báo điện_tử Pháp_Luật thành_phố Hồ_Chí Minh Giấy_phép số : 636 / GP - BTTTT của Bộ Thông_tin và Truyền_thông cấp ngày 28 - 12 - 2020 Cơ_quan chủ_quản : Ủy_ban Nhân_dân Thành_phố Hồ_Chí Minh Tổng_biên_tập : Mai Ngọc_Phước_Website : https://plo.vn Pháp_Luật TP. HCM giữ bản_quyền nội_dung trên Website này . Cấm sao_chép dưới mọi hình_thức nếu không có sự chấp_thuận bằng văn_bản . Đặt báo Quảng_cáo Bạn_đọc góp_ý Thông_tin tòa_soạn E - Paper Phát_hành : ( 028 ) 3811 2421 Tổng_đài : ( 028 ) 3991 0101 - 3991 4701 Tiếp bạn_đọc : 0982 000 333 - ( 028 ) 39 91 96 13 - Email : bandoc@phapluattp.vn Liên_hệ TT & QC : ( 028 ) 39914669 – Fax : ( 028 ) 39914606 Đọc nhiều Tiện_ích Tiện_ích Lịch tư_vấn pháp_luật Bạn_đọc góp_ý Liên_hệ quảng_cáo Thông_tin tòa_soạn Dịch_vụ công CATP Chế_độ tối Tin mới Danh_mục Tất_cả chuyên_mục Thời_sự Chính_trị Thời luận Chính_kiến Cùng lên_tiếng Pháp_luật Chat với chuyên_gia Chính_sách mới Luật và đời Kinh_tế Pháp_lý 4.0 Quản_lý Doanh_nghiệp - Cộng_đồng Phát_triển Xanh Gỡ vướng pháp_lý Đơn_vị tiêu_biểu Tài_chính Xanh Đô_thị Giao_thông Môi_trường An_ninh trật_tự Hồ_sơ phá_án Quốc_tế Sự_kiện Quân_sự Muôn mặt Xã_hội Giáo_dục Chọn trường - Chọn nghề Sức_khỏe Bác_sĩ online Văn_hóa Ăn sạch sống khỏe Thể_thao Trong nước Quốc_tế Fair_Play Các môn khác Video Bạn_đọc Ý_kiến bạn_đọc Tôi muốn hỏi Cải_chính Tổ_ấm tôi mơ Thị_trường - Tiêu_dùng Nhịp sống đô_thị Đèn trên biển Thư_viện ảnh Chuyện ra khơi Tin_tức Tài_chính - Ngân_hàng Pháp_lý cho kiều_bào Xe và Luật Bất_động_sản Kỷ_nguyên số Văn_bản pháp_luật Trang địa_phương Video_E - Magazine Infographic Ảnh Story LENS Mới nhất Xem nhiều Tin nóng \n",
      "\n"
     ]
    }
   ],
   "source": [
    "result_reduce=bert_utils.predict(result_docs,query)"
   ]
  },
  {
   "cell_type": "code",
   "execution_count": 11,
   "id": "50c10e15",
   "metadata": {},
   "outputs": [
    {
     "name": "stdout",
     "output_type": "stream",
     "text": [
      "{0: 'Quy định Độ tuổi đăng ký kết hôn của pháp luật Mới 2025 Skip to content Tư vấn miễn phí. Hỗ trợ nhanh, hiệu quả Tư vấn miễn phí. Hỗ trợ nhanh, hiệu quả Trang Chủ Giới Thiệu Liên Hệ Tư Vấn Pháp Luật Tư Vấn Luật Hôn Nhân Gia Đình Tư Vấn Luật Doanh Nghiệp Tư Vấn Luật Bảo Hiểm Xã Hội Tư Vấn Luật Cho Việt Kiều Người Nước Ngoài Tư Vấn Luật Dân Sự Tư Vấn Luật Đất Đai – Nhà ở Tư Vấn Luật Hình Sự Tư Vấn Luật Lao Động Tư Vấn Luật Thừa kế Biểu Mẫu Tin Tức Trang Chủ » Tư Vấn Pháp Luật » Tư Vấn Luật Hôn Nhân Gia Đình Quy định Độ tuổi đăng ký kết hôn của pháp luật Mới 2025 Cập nhật: Tháng Một 7, 2025 Tháng Ba 2, 2025 bởi Tán Lê Thảo Duyên Mục Lục Quy định về độ tuổi đăng ký kết hôn của nam và nữ ở Việt Nam Hướng dẫn xác định độ tuổi đăng ký kết hôn của nam và nữ Cập nhật 2025 Quy định về xử lý việc kết hôn trái pháp luật Giải đáp một số câu hỏi thường gặp về độ tuổi kết hôn Tại sao nam 20 tuổi mới được kết hôn? Bao nhiêu tuổi được đăng ký kết hôn? Kết hôn dưới 18 tuổi phạt bao nhiêu nam tù? Lấy vợ muộn là bao nhiêu tuổi? Tảo hôn bị phạt bao nhiêu tiền? Theo Luật Hôn nhân và Gia đình 2014, quy định về độ tuổi đăng ký kết hôn như sau: Nam giới cần đạt từ đủ 20 tuổi trở lên, trong khi nữ giới từ đủ 18 tuổi trở lên. Tuổi này được tính dựa trên ngày, tháng và năm sinh. [ lwpt', 1: 'Bao nhiêu tuổi thì hết được đăng ký kết hôn? Những hành vi nào bị cấm để bảo vệ hôn nhân gia đình? Pháp Luật Pháp luật THƯ VIỆN PHÁP LUẬT Tra cứu pháp luật Các gói dịch vụ Trang chủ Pháp luật Hỗ trợ Pháp luật Pháp luật về Doanh nghiệp Pháp luật về Lao động - Tiền lương Pháp luật về Bất động sản Pháp luật về Vi phạm hành chính Pháp luật về Bảo hiểm Pháp luật về Quyền dân sự Pháp luật về Văn hóa - Xã hội Pháp luật về Thương mại Pháp luật về Trách nhiệm hình sự Pháp luật về Xây dựng - Đô thị Pháp luật về Chứng khoán Pháp luật về Kế toán - Kiểm toán Pháp luật về Thuế - Phí - Lệ Phí Pháp luật về Xuất nhập khẩu Pháp luật về Tiền tệ - Ngân hàng Pháp luật về Đầu tư Pháp luật về Sở hữu trí tuệ Pháp luật về Thủ tục Tố tụng Pháp luật về Tài chính nhà nước Pháp luật về Thể thao - Y tế Pháp luật về Dịch vụ pháp lý Pháp luật về Tài nguyên - Môi trường Pháp luật về Công nghệ thông tin Pháp luật về Giáo dục Pháp luật về Giao thông - Vận tải Pháp luật hành chính Pháp luật về Lĩnh vực khác Pháp luật vừa ban hành Tìm kiếm Chủ quản: Công ty THƯ VIỆN PHÁP LUẬT Giấy phép số: 27 / GP - TTĐT, do Sở TTTT TP. HCM cấp ngày 09 / 05 / 2019. Chịu trách nhiệm chính: Ông Bùi Tường Vũ - Số điện thoại liên hệ: 028 3930 3279 Địa chỉ: 17 Nguyễn Gia Thiều, P. 6, Q. 3, TP. HCM Điện thoại: ( 028 ) 3930 3279 ( 06 lines', 2: 'Độ tuổi kết hôn theo quy định của pháp luật là bao nhiêu? Trang chủ Liên Hệ Toggle navigation Trang chủ Giới thiệu Quá trình hình thành và phát triển Dân số - Lao động Điều kiện tự nhiên Kinh tế Xã hội Văn hoá Lịch sử Bầu cử Tìm hiểu pháp luật Phòng chống tham nhũng Tin tức Thông tin chỉ đạo, điều hành Văn bản chỉ đạo Lấy ý kiến Văn bản thị xã Văn bản phường Văn bản Trung ương Văn bản Ủy ban bầu cử phường Giấy mời họp Thông báo Công khai ngân sách Dự toán NSĐP trình HĐND Dự toán NSĐP đã được HĐND quyết định Tình hình thực hiện dự toán NSĐP trong năm ( quý, 6 tháng, 9 tháng, năm', 3: 'Hướng dẫn xác định độ tuổi đăng ký kết hôn của nam và nữ mới nhất Chính Sách Pháp Luật mới Trang chủ THƯ VIỆN PHÁP LUẬT Pháp luật Tra cứu pháp luật Các gói dịch vụ THÔNG BÁO VĂN BẢN MỚI CHÍNH SÁCH THƯƠNG MẠI CHÍNH SÁCH MỚI ÁN LỆ TƯ VẤN CỦA LUẬT SƯ Chính sách mới >> Tư vấn pháp luật 27 / 03 / 2024 10: 30 AM Hướng dẫn xác định độ tuổi đăng ký kết hôn của nam và nữ mới nhất Tham vấn bởi Luật sư Nguyễn Thụy Hân Chuyên viên pháp lý Lê Trương Quốc Đạt 27 / 03 / 2024 10: 30 AM Cho tôi hỏi việc xác định độ tuổi đăng ký kết hôn của nam và nữ được hướng dẫn như thế nào? - Ngọc Nhiên ( Long An ) >> Bố mẹ ly hôn, phải giao mẹ nuôi dưỡng nếu con dưới 36 tháng tuổi >> Trường hợp nào được miễn phí cấp Phiếu lý lịch tư pháp? Mục \\n lục bài viết Hướng dẫn xác định độ tuổi đăng ký kết hôn của nam và nữ mới nhất ( Hình từ Internet ) Về vấn đề này, THƯ VIỆN PHÁP LUẬT giải đáp như sau: 1. Độ tuổi đăng ký kết hôn của nam và nữ Theo Điều 8 Luật Hôn nhân và gia đình 2014 quy định về điều kiện kết hôn như sau: - Nam, nữ kết hôn với nhau phải tuân theo các điều kiện sau đây: + Nam từ đủ 20 tuổi trở lên, nữ từ đủ 18 tuổi trở lên; + Việc kết hôn do nam và nữ tự nguyện quyết định; + Không bị mất năng lực hành vi dân sự; + Việc kết hôn không thuộc một trong các trường hợp cấm kết hôn theo quy định tại các điểm a, b, c và d khoản 2 Điều 5 Luật Hôn nhân và gia đình 2014:', 4: '16 tuổi mang thai có đăng ký kết hôn được không? | Báo Pháp Luật TP. Hồ Chí Minh Báo Pháp Luật TP. Hồ Chí Minh Bạn đọc 16 tuổi mang thai có đăng ký kết hôn được không? 17 / 11 / 2023 09: 00 ( PLO ) - Bạn đọc thắc mắc, nữ 16 tuổi chưa đủ tuổi đăng ký kết hôn nhưng nếu mang thai có được đăng ký kết hôn hoặc tổ chức đám cưới không? 0: 00 / 0: 00 0: 00 Nam miền Bắc Nam miền Bắc Nữ miền Bắc Nữ miền Nam Nam miền Nam Em gái tôi năm nay 16 tuổi, em tôi đã nghỉ học để đi làm và có bạn trai được một năm nay. Cả hai quen nhau được hai gia đình đồng thuận. Nay em gái tôi có thai ngoài ý muốn nên hai gia đình dự định sẽ tổ chức đám cưới.'}\n"
     ]
    }
   ],
   "source": [
    "print(result_reduce)"
   ]
  },
  {
   "cell_type": "markdown",
   "id": "8b16f5d5",
   "metadata": {},
   "source": [
    "> truyền ngữ cảnh đã trích xuất vào gemini"
   ]
  },
  {
   "cell_type": "code",
   "execution_count": 12,
   "id": "33b0248f",
   "metadata": {},
   "outputs": [],
   "source": [
    "gemini=Gemini(setting)\n",
    "gemini_func=Gemini_Generate(gemini,setting)"
   ]
  },
  {
   "cell_type": "code",
   "execution_count": 13,
   "id": "7f4a33a1",
   "metadata": {},
   "outputs": [
    {
     "name": "stderr",
     "output_type": "stream",
     "text": [
      "Failed to batch ingest runs: langsmith.utils.LangSmithRateLimitError: Rate limit exceeded for https://api.smith.langchain.com/runs/batch. HTTPError('429 Client Error: Too Many Requests for url: https://api.smith.langchain.com/runs/batch', '{\"error\":\"Too many requests: tenant exceeded usage limits: Monthly unique traces usage limit exceeded\"}\\n')\n",
      "post: trace=9b41c593-259d-4cbe-9ee0-319ca0501c36,id=9b41c593-259d-4cbe-9ee0-319ca0501c36; trace=9b41c593-259d-4cbe-9ee0-319ca0501c36,id=ec4b672e-de68-445b-9c14-31c91bdeb0dc\n",
      "Failed to batch ingest runs: langsmith.utils.LangSmithRateLimitError: Rate limit exceeded for https://api.smith.langchain.com/runs/batch. HTTPError('429 Client Error: Too Many Requests for url: https://api.smith.langchain.com/runs/batch', '{\"error\":\"Too many requests: tenant exceeded usage limits: Monthly unique traces usage limit exceeded\"}\\n')\n",
      "post: trace=9b41c593-259d-4cbe-9ee0-319ca0501c36,id=1633cc6a-4bb4-4931-b7c7-0c63a1965a21; patch: trace=9b41c593-259d-4cbe-9ee0-319ca0501c36,id=9b41c593-259d-4cbe-9ee0-319ca0501c36; trace=9b41c593-259d-4cbe-9ee0-319ca0501c36,id=ec4b672e-de68-445b-9c14-31c91bdeb0dc\n"
     ]
    }
   ],
   "source": [
    "result_final=gemini_func.generate_response(query,result_reduce)"
   ]
  },
  {
   "cell_type": "code",
   "execution_count": 14,
   "id": "c54b0902",
   "metadata": {},
   "outputs": [
    {
     "name": "stdout",
     "output_type": "stream",
     "text": [
      "```json\n",
      "{\n",
      "   \"answer\": \"Độ tuổi được phép đăng ký kết hôn được quy định như sau:\\n\\n*   Nam giới phải từ đủ 20 tuổi trở lên.\\n*   Nữ giới phải từ đủ 18 tuổi trở lên.\\n\\nĐộ tuổi này được tính dựa trên ngày, tháng và năm sinh.\\n\\nVậy, nam từ đủ 20 tuổi và nữ từ đủ 18 tuổi trở lên thì được phép đăng ký kết hôn.\",\n",
      "   \"key\": [\n",
      "    0,\n",
      "    3\n",
      "   ]\n",
      "}\n",
      "```\n"
     ]
    }
   ],
   "source": [
    "print(result_final)"
   ]
  },
  {
   "cell_type": "markdown",
   "id": "0f7532e1",
   "metadata": {},
   "source": [
    "> gọi 3 hàm này để xử lý"
   ]
  },
  {
   "cell_type": "code",
   "execution_count": 15,
   "id": "b9bf5c70",
   "metadata": {},
   "outputs": [],
   "source": [
    "answer_result= clean_code_fence_safe(result_final)\n",
    "answer_result= fix_json_string(answer_result)\n",
    "answer_result= json.loads(answer_result)"
   ]
  },
  {
   "cell_type": "code",
   "execution_count": 16,
   "id": "7f1f2135",
   "metadata": {},
   "outputs": [
    {
     "name": "stdout",
     "output_type": "stream",
     "text": [
      "{'answer': 'Độ tuổi được phép đăng ký kết hôn được quy định như sau:\\n\\n*   Nam giới phải từ đủ 20 tuổi trở lên.\\n*   Nữ giới phải từ đủ 18 tuổi trở lên.\\n\\nĐộ tuổi này được tính dựa trên ngày, tháng và năm sinh.\\n\\nVậy, nam từ đủ 20 tuổi và nữ từ đủ 18 tuổi trở lên thì được phép đăng ký kết hôn.', 'key': [0, 3]}\n"
     ]
    }
   ],
   "source": [
    "print(answer_result)"
   ]
  },
  {
   "cell_type": "code",
   "execution_count": 17,
   "id": "16ab5f37",
   "metadata": {},
   "outputs": [
    {
     "name": "stdout",
     "output_type": "stream",
     "text": [
      "Độ tuổi được phép đăng ký kết hôn được quy định như sau:\n",
      "\n",
      "*   Nam giới phải từ đủ 20 tuổi trở lên.\n",
      "*   Nữ giới phải từ đủ 18 tuổi trở lên.\n",
      "\n",
      "Độ tuổi này được tính dựa trên ngày, tháng và năm sinh.\n",
      "\n",
      "Vậy, nam từ đủ 20 tuổi và nữ từ đủ 18 tuổi trở lên thì được phép đăng ký kết hôn.\n"
     ]
    }
   ],
   "source": [
    "print(answer_result['answer'])"
   ]
  },
  {
   "cell_type": "markdown",
   "id": "6c220e2f",
   "metadata": {},
   "source": [
    "> key này mapping qua link để sắp xếp thứ tự theo cái này , key này nó lấy link 1 nên mapping qua cái list link ban đầu để lấy đường link, rồi hiển thị ưu tiên đầu tiên.Gemini đâu vào là 5 link nhưng việc nó chọn link nào là do bản thân nó.Nói chung tui viết oke hết rồi ô xử lý logic đoạn FE với BE xíu "
   ]
  },
  {
   "cell_type": "code",
   "execution_count": 18,
   "id": "2402f1d0",
   "metadata": {},
   "outputs": [
    {
     "name": "stdout",
     "output_type": "stream",
     "text": [
      "[0, 3]\n"
     ]
    }
   ],
   "source": [
    "print(answer_result['key'])"
   ]
  }
 ],
 "metadata": {
  "kernelspec": {
   "display_name": "Python 3",
   "language": "python",
   "name": "python3"
  },
  "language_info": {
   "codemirror_mode": {
    "name": "ipython",
    "version": 3
   },
   "file_extension": ".py",
   "mimetype": "text/x-python",
   "name": "python",
   "nbconvert_exporter": "python",
   "pygments_lexer": "ipython3",
   "version": "3.9.8"
  }
 },
 "nbformat": 4,
 "nbformat_minor": 5
}
