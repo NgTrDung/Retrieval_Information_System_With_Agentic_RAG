{
 "cells": [
  {
   "cell_type": "code",
   "execution_count": null,
   "id": "68d8fc2f",
   "metadata": {},
   "outputs": [],
   "source": [
    "import sys\n",
    "project_path = r\"d:/Download_Github_Desktop/Khoa_Luan_Tot_Nghiep_Agentic_RAG/\"\n",
    "sys.path.append(project_path)\n",
    "import json \n",
    "from source.function.utils_shared import clean_code_fence_safe,fix_json_string\n",
    "from source.model.extract_model import Bert_Extract\n",
    "from source.model.generate_model import Gemini\n",
    "from source.extract.utils_extract import Extract_Information\n",
    "from source.core.config import Settings\n",
    "from source.generate.generate import Gemini_Generate\n",
    "from source.tool.google_search import GoogleSearchTool\n",
    "from source.core.config import Settings"
   ]
  },
  {
   "cell_type": "code",
   "execution_count": 1,
   "id": "df5eb501",
   "metadata": {},
   "outputs": [],
   "source": [
    "import sys\n",
    "project_path = r\"D:\\DaiHoc\\machinelearning\\TLCN\\DoAnTotNghiep_chat_bot\"\n",
    "sys.path.append(project_path)\n",
    "import json \n",
    "from source.tool.google_search import GoogleSearchTool\n",
    "from source.core.config import Settings"
   ]
  },
  {
   "cell_type": "code",
   "execution_count": 2,
   "id": "29723987",
   "metadata": {},
   "outputs": [],
   "source": [
    "query=\"boa nhiêu tuổi đăng kí căn cước công dân ?\"\n"
   ]
  },
  {
   "cell_type": "code",
   "execution_count": 3,
   "id": "824b8932",
   "metadata": {},
   "outputs": [],
   "source": [
    "setting=Settings()"
   ]
  },
  {
   "cell_type": "code",
   "execution_count": 4,
   "id": "55396ff7",
   "metadata": {},
   "outputs": [],
   "source": [
    "google_search_tools=GoogleSearchTool(setting)"
   ]
  },
  {
   "cell_type": "code",
   "execution_count": 5,
   "id": "4946a65a",
   "metadata": {},
   "outputs": [],
   "source": [
    "result_link=google_search_tools.search(query)"
   ]
  },
  {
   "cell_type": "markdown",
   "id": "bf46c536",
   "metadata": {},
   "source": [
    "> list các đường link  -> 5 link"
   ]
  },
  {
   "cell_type": "code",
   "execution_count": 6,
   "id": "52f87eb8",
   "metadata": {},
   "outputs": [
    {
     "name": "stdout",
     "output_type": "stream",
     "text": [
      "['https://hcmc.vietnam.embassy.gov.au/hchivietnamese/thi-thuc-va-di-tru.html', 'https://vn.usembassy.gov/vi/required-documents/', 'https://xaydungchinhsach.chinhphu.vn/huong-dan-nop-ho-so-de-nghi-cap-the-can-cuoc-cho-tre-em-tu-6-den-duoi-14-tuoi-qua-cong-dvc-11924080407514591.htm', 'https://dichvucong.bocongan.gov.vn/bocongan/bothutuc/tthc?matt=57072', 'https://www.uscis.gov/sites/default/files/document/guides/M-618_v.pdf']\n"
     ]
    }
   ],
   "source": [
    "print(result_link)"
   ]
  },
  {
   "cell_type": "markdown",
   "id": "70704c84",
   "metadata": {},
   "source": [
    "> list các nội dung trang web (5 nội dung)"
   ]
  },
  {
   "cell_type": "code",
   "execution_count": 7,
   "id": "49b31aa9",
   "metadata": {},
   "outputs": [],
   "source": [
    "result_docs=google_search_tools.extract_texts_from_links(result_link)"
   ]
  },
  {
   "cell_type": "code",
   "execution_count": 9,
   "id": "545edffc",
   "metadata": {},
   "outputs": [
    {
     "name": "stdout",
     "output_type": "stream",
     "text": [
      "['Thị thực và Di trú\\nTổng Lãnh sự quán Úc\\nThành phố Hồ Chí Minh, Việt Nam\\nSkip to main content\\nText size\\nEnglish\\nTiếng Việt\\nToggle navigation\\nVề Tổng Lãnh sự quán Úc\\nTrang chủ\\nVề chúng tôi\\nTuyển dụng\\nMời Thầu\\nDịch vụ\\nDịch Vụ Hộ Chiếu\\nDịch Vụ Công Chứng\\nDịch Vụ Lãnh Sự\\nSinh sống tại Việt Nam\\nCác dịch vụ khác cho công dân Úc\\nKết nối với Úc\\nThị thực và Di trú\\nDu lịch đến Úc\\nDu học Úc\\nKinh doanh tại Úc\\nGiới thiệu về đất nước Úc\\nGiới thiệu về nước Úc\\nSự kiện\\nHương vị Úc (Taste of Australia) 2025\\nTriển Lãm Hương Vị Úc 2025\\nTin tức và báo chí\\nTin tức từ Đại sứ quán\\nĐại Sứ Quán Úc ở Hà Nội\\nĐại Sứ Quán Úc ở Hà Nội\\nLiên hệ\\nLiên hệ\\nThị thực và Di trú\\nThị thực và Di trú\\nEnglish\\nI Vietnamese\\nThông tin mới nhất\\nCảnh giác với các đối tượng lừa đảo nhắm đến người đăng ký tham gia chương trình lựa chọn ngẫu nhiên để nộp hồ sơ xin thị thực Lao động kết hợp Kỳ nghỉ\\nBộ Nội Vụ Úc\\xa0đã tiếp nhận các báo cáo đáng quan ngại về việc các đối tượng lừa đảo đang nhắm đến những người đăng ký tham gia chương trình lựa chọn ngẫu nhiên các đương đơn được nộp hồ sơ xin thị thực Lao động kết hợp Kỳ nghỉ khi những người này chia sẻ thông tin cá nhân trên mạng hoặc với các bên thứ ba không được ủy quyền.\\nQuý vị cần có trách nhiệm bảo vệ thông tin cá nhân của mình. Đừng chia sẻ thông tin cá nhân (bao gồm ngày tháng năm sinh, số hộ chiếu, số căn cước công dân hoặc các thông tin nhân dạng khác) trên mạng xã hội hoặc với những người khác vì những thông tin này có thể bị sử dụng vào mục đích lừa đảo.\\nNếu thông tin cá nhân của quý vị đã được sử dụng bởi người khác trên tài khoản Immi Account, hãy thông báo cho chúng tôi biết thông qua mẫu đơn hỗ trợ kỹ thuật trực tuyến có tại đây\\nImmiAccount Technical Support Form (homeaffairs.gov.au)\\n.\\nXin hãy lưu ý\\xa0chúng tôi không thể thông báo tình hình cập nhật của từng hồ sơ đăng ký tham gia chương trình lựa chọn ngẫu nhiên này.\\nQuy trình lựa chọn ngẫu nhiên\\xa0dành cho hồ sơ xin Thị thực\\xa0Lao động kết hợp Kỳ nghỉ\\nBộ Nội vụ Úc đã áp dụng quy trình lựa chọn ngẫu nhiên tự động \\xa0dành cho các trường hợp mang hộ chiếu Việt Nam đủ điều kiện và muốn nộp hồ sơ xin thị thực Lao động kết hợp Kỳ Nghỉ lần thứ nhất (diện thị thực 462).\\xa0Để biết thêm thông tin về quy trình này, vui lòng truy cập trang mạng\\nDepartment of Home Affairs’ website\\n.\\nHiện tại Bộ Nội vụ đã ngừng tiếp nhận đăng ký tham gia quy trình lựa chọn ngẫu nhiên tự động dành cho thị thực Lao động kết hợp Kỳ Nghỉ lần thứ nhất (diện thị thực 462).\\nCác trường hợp mang hộ chiếu Việt Nam đủ điều kiện và muốn đăng ký tham gia quy trình lựa chọn lần tới, vui lòng truy cập trang mạng\\nWorking Holiday Maker (WHM) program (homeaffairs.gov.au)\\nđể \\xa0được cập nhật thông tin khi quy trình lựa chọn ngẫu nhiên tự động được thông báo.\\nH\\nồ\\ns\\nơ\\nxin th\\nị\\nth\\nự\\nc\\nÚ\\nc\\nBộ Nội Vụ xét duyệt tất cả các hồ sơ xin thị thực Úc.\\nQuý vị nên nộp hồ sơ trực tuyến thông qua tài khoản\\nImmiAccount\\n. Quý vị cũng có thể sử dụng tài khoản ImmiAccount để thanh toán, cập nhật thông tin cá nhân hoặc hoàn cảnh của mình, tải lên các tài liệu hỗ trợ và theo dõi tiến trình của hồ sơ.\\nCác hồ sơ xin thị thực tại Việt Nam được yêu cầu cung cấp thông tin nhận dạng sinh trắc học (ảnh khuôn mặt kỹ thuật số và quét dấu vân tay). Quý vị sẽ được thông báo về yêu cầu này khi nộp hồ sơ xin thị thực thông qua Tài khoản\\nImmiAccount\\n.\\nĐể tìm Trung tâm Thu thập Sinh trắc học Úc gần nhất, vui lòng truy cập\\nVăn phòng ngoài nước Úc\\n.\\nQuý vị có thể được yêu cầu thực hiện kiểm tra sức khỏe khi nộp hồ sơ xin thị thực, tùy thuộc vào hoàn cảnh cá nhân, nơi ở hiện tại, loại thị thực cần xin, \\xa0thời gian và hoạt động dự kiến ở Úc. Nếu được yêu cầu khám sức khỏe, quý vị sẽ được thông báo khi nộp hồ sơ. Để biết thêm thông tin về yêu cầu sức khỏe, vui lòng truy cập trang mạng\\nSức khỏe.\\nL\\nƯ\\nU\\nÝ\\nQUAN TR\\nỌ\\nNG\\nQuý vị nên n\\nộ\\np\\nh\\nồ\\nxin th\\nị\\nth\\nự\\nc\\ns\\nớ\\nm\\ntr\\nướ\\nc ng\\nà\\ny d\\nự\\nđị\\nnh\\nđế\\nn\\nÚ\\nc\\nĐả\\nm b\\nả\\no t\\nấ\\nt c\\nả\\nc\\ná\\nc t\\nà\\ni li\\nệ\\nu h\\nỗ\\ntr\\nợ\\nc\\nầ\\nn thi\\nế\\nt cho\\nh\\nồ\\ns\\nơ\\nxin th\\nị\\nth\\nự\\nc\\nđượ\\nc\\ncung c\\nấ\\np\\nt\\nạ\\ni th\\nờ\\ni\\nđ\\ni\\nể\\nm n\\nộ\\np\\nđơ\\nn.\\nCung c\\nấ\\np\\nb\\nả\\nn d\\nị\\nch ti\\nế\\nng Anh c\\nủ\\na c\\ná\\nc t\\nà\\ni li\\nệ\\nu h\\nỗ\\ntr\\nợ\\n.\\nVui lòng kiểm tra\\nThời gian xét duyệt toàn cầu\\nvà nộp sớm để hồ sơ của Quý vị được xét duyệt kịp thời. Quý vị không nên hoàn tất sắp xếp cho chuyến đi của mình cho đến khi có thị thực hợp lệ đến Úc. Chúng tôi sẽ không chịu trách nhiệm về những thiệt hại tài chính phát sinh đối với những trường hợp mà hồ sơ xin thị thực được hoàn tất muộn hơn dự kiến \\u200b\\u200bhoặc không thành công.\\nBản dịch tiếng Anh phải được người dịch chứng thực và bao gồm các thông tin: họ tên đầy đủ, địa chỉ, số điện thoại và bằng cấp liên quan của họ. Ngoài ra, hãy nhớ gửi kèm bản sao của tài liệu gốc. Việc không cung cấp bản dịch tiếng Anh của các tài liệu hỗ trợ có thể làm chậm quá trình xét duyệt và dẫn đến việc tài liệu đó không được xem xét.\\nĐể giúp chúng tôi xét duyệt hồ sơ nhanh hơn, Quý vị có thể thực hiện một số việc để đảm bảo rằng khi nộp, hồ sơ của mình ở trạng thái “ sẵn sàng cho quyết định”. Nếu Quý vị đang nộp hồ sơ xin thị thực đến Úc, những lời khuyên sau đây sẽ giúp Quý vị làm đúng ngay lần đầu tiên và có trải nghiệm xin thị thực nhanh hơn, suôn sẻ hơn:\\nKiểm tra kỹ, nộp một lần\\nCác câu h\\nỏ\\ni\\nCác hồ sơ xin thị thực và quốc tịch Úc do Bộ Nội vụ xét duyệt. Nhân viên Đại Sứ Quán và Tổng Lãnh Sự Quán Úc không thể hỗ trợ trả lời các câu hỏi chung về thị thực hoặc quốc tịch.\\nTrang mạng của Bộ Nội vụ Úc có thông tin cập nhật và đầy đủ nhất về việc xin thị thực và quốc tịch.\\xa0 Để tìm hiểu thông tin về thị thực và quốc tịch Úc, vui lòng truy cập\\nTrang mạng Bộ Nội Vụ\\n.\\nNếu gặp khó khăn khi tìm thông tin trên trang mạng của Bộ Nội vụ, Trợ lý Kỹ thuật số có thể hỗ trợ Quý vị tìm thông tin về thị thực, quốc tịch và nhập cảnh vào Úc. Quý vị truy cập\\nTrang mạng Bộ Nội Vụ\\nvà nhấp vào nút Đặt câu hỏi để bắt đầu.\\nTrung tâm D\\nị\\nch v\\nụ\\nToàn c\\nầ\\nu\\nNếu cần thêm thông tin, Quý vị có thể gọi Trung tâm Dịch vụ Toàn cầu (GSC) theo số điện thoại +61\\xa02\\xa06196 0196 – Trung tâm làm việc từ thứ Hai đến thứ Sáu, từ 9 giờ sáng đến 5 giờ chiều (giờ địa phương).\\nQuý vị có thể phải trả cước phí cho những cuộc gọi Quốc tế - cước phí này do nhà cung cấp viễn thông ở nước của Quý vị áp dụng.\\xa0 Quý vị có thể cân nhắc sử dụng cuộc gọi Thoại thông qua dịch vụ mạng (VoIP) để tránh chi phí cao.\\nS\\nử\\nd\\nụ\\nng th\\nô\\nng d\\nị\\nch vi\\nê\\nn\\nKhi gọi cho GSC, Quý vị hãy bấm lựa chọn 6 để được cung cấp dịch vụ Biên dịch và Phiên dịch (TIS) theo ngôn ngữ của Quý vị.\\xa0 Quý vị có thể thực hiện lựa chọn 6 ngay khi Quý vị bấm số GSC.\\nNgoài ra, phiên dịch viên của TIS cũng có thể được đăng ký trực tiếp qua những phương thức sau:\\nTrang mạng của TIS:\\nSearch | Translating and Interpreting Service (TIS National)\\nhoặc\\nTrang mạng của Bộ Nội Vụ:\\nFamily and friends helping with your application\\nLiên l\\nạ\\nc v\\nớ\\ni v\\nă\\nn phòng xét duy\\nệ\\nt\\nNếu cần đặt câu hỏi về một hồ sơ xin thị thực và không thể tìm thấy thông tin trên\\nTrang mạng Bộ Nội Vụ\\n, Quý vị có thể liên lạc với văn phòng thị thực tại Việt Nam qua\\nMẫu đơn Yêu cầu Thông tin về Di trú Úc\\n.\\nPh\\nả\\nn h\\nồ\\ni tích c\\nự\\nc, khi\\nế\\nu n\\nạ\\ni hay\\nđề\\nxu\\nấ\\nt\\nBộ Nội Vụ đánh giá cao phản hồi của Quý vị.\\xa0 Bộ sử dụng phản hồi của Quý vị để cải thiện dịch vụ, điều tra và xử lý những vấn đề có liên quan. Quý vị có thể tìm thêm thông tin trên trang mạng của Bộ tại\\nCompliments, complaints and suggestions\\n.\\nT\\nố\\ncáo liên quan\\nđế\\nn nh\\nữ\\nng ho\\nạ\\nt\\nđộ\\nng biên gi\\nớ\\ni\\nđ\\ná\\nng ng\\nờ\\n\\u200b\\u200b\\u200b\\u200b\\u200b\\u200b\\u200b\\u200b\\u200b\\u200b\\u200bNếu có điều gì nghi ngờ, Quý vị hãy thông báo cho chúng tôi thông qua Border Watch mà không cần cung cấp thông tin cá nhân. Border Watch là trung tâm thu thập dữ liệu độc lập cho Bộ Nội Vụ và Lực lượng Bảo vệ Biên giới Úc (ABF) – thu thập những tố cáo liên quan đến các hoạt động biên giới đáng ngờ; những thông tin này không chỉ giới hạn trong vấn đề nhập cư và quốc tịch. Một quan sát nhỏ có thể giúp ngăn chặn tội phạm biên giới ở cấp độ lớn hơn nhiều. Quý vị có thể báo cáo các hoạt động đáng ngờ liên quan đến di trú, hải quan và biên giới thông qua\\nBorder Watch Online Report\\n.\\nĐương đơn xin thị thực dưới 18 tuổi\\nTrong trường hợp trẻ dưới 18 tuổi dự định đến Úc, cha hoặc mẹ, cha và mẹ không cùng đi hoặc người có trách nhiệm giám hộ (người có quyền quyết định trẻ được sống ở đâu) sẽ phải ký\\nđơn đồng ý\\ncho phép trẻ được cấp thị thực Úc.\\nNếu cha hoặc mẹ hay người có quyền giám hộ được pháp luật công nhận là người có quyền quyết định duy nhất về việc trẻ sống ở đâu thì chỉ cần cha hoặc mẹ hay người giám hộ đó ký\\nđơn đồng ý\\nvà cung cấp giấy tờ yêu cầu.\\nQuý vị có thể tải\\nđơn đồng ý\\nở đây\\nHồ sơ xin thị thực Úc của trẻ dưới 18 tuổi phải bao gồm giấy tờ nhân thân (căn cước công dân hoặc hộ chiếu) của cha hoặc mẹ, cha và mẹ không cùng đi hoặc người giám hộ hợp pháp đồng ý cho trẻ được đến Úc.\\nĐơn đồng ý\\nphải được chứng thực bởi chính quyền địa phương hoặc văn phòng công chứng ở Việt Nam (hoặc quốc gia có liên quan) xác nhận rằng họ đã kiểm tra thông tin cá nhân của người đồng ý và đơn đồng ý được ký trước sự hiện diện của cơ quan chức năng.\\nLưu ý rằng theo Luật Việt Nam, kể cả trong trường hợp cha mẹ của trẻ đã ly hôn hay ly thân, mất liên lạc hay được tòa án tuyên bố mất tích thì đương đơn vẫn phải nộp đơn đồng ý cho trẻ đi Úc trừ khi có một quyết định cụ thể của tòa án cho phép trẻ xuất cảnh.\\nTrong trường hợp không cung cấp được những giấy tờ trên, Quý vị phải nộp quyết định của tòa án ở Úc hoặc Việt Nam cho phép trẻ được xuất cảnh.\\nNh\\nữ\\nng tr\\nườ\\nng h\\nợ\\np\\nđế\\nn Úc v\\nớ\\ni t\\nư\\ncách là\\nđạ\\ni di\\nệ\\nn c\\nủ\\na Chính ph\\nủ\\nn\\nướ\\nc ngoài\\nĐại diện của Chính phủ đi công tác phải nộp hồ sơ xin\\nDiện thị thực công tác ngắn hạn\\nQuý vị cần cung cấp bằng chứng cho việc dự định đến thăm Úc với tư cách đại diện cho Chính phủ bao gồm:\\nThư mời của công ty hay tổ chức có trụ sở ở Úc\\nĐối với đương đơn là viên chức Việt Nam: Công hàm của Cục lãnh sự Bộ Ngoại Giao ở Hà Nội hay Sở Ngoại vụ Thành phố Hồ Chí Minh nêu rõ lý do Quý vị đi với tư cách là viên chức Chính phủ\\nĐại diện các Chính phủ nước ngoài phải cung cấp công hàm của Đại Sứ Quán/Lãnh Sự Quán, hoặc Chính phủ chủ quản.\\nTrước khi nộp hồ sơ: Quý vị cần trả lời “Có” cho câu hỏi “Có phải đương đơn đi công tác với tư cách là đại diện của Chính phủ hoặc bằng Giấy thông hành của Liên Hợp Quốc không” tại mục Diện nhập cảnh đặc biệt\\nTh\\nư\\n“\\nh\\nỗ\\ntr\\nợ\\n” qu\\nố\\nc t\\nị\\nch\\nĐại Sứ Quán và Tổng Lãnh Sự Quán Úc xin thông báo rằng Đại Sứ Quán và Tổng Lãnh Sự Quán Úc\\nkhông th\\nể\\ncung cấp “thư hỗ trợ” hoặc “giấy chứng nhận quốc tịch” cho trẻ có cha và mẹ mang quốc tịch Úc hay một người cha hoặc mẹ mang quốc tịch Úc và người cha hoặc mẹ còn lại có quốc tịch khác tại thời điểm trẻ được sinh ra tại Việt Nam.\\nĐại Sứ Quán và Tổng Lãnh Sự Quán được biết rằng một số các cơ quan chức năng Việt Nam đã yêu cầu cha mẹ của những trẻ em này cung cấp “thư hỗ trợ” hoặc “giấy chứng nhận quốc tịch” để xin giấy khai sinh cho những trẻ em này.\\nTheo luật của Úc, trẻ em có một người cha hoặc mẹ là công dân Úc tại thời điểm được sinh ra ở ngoài nước Úc không mặc nhiên trở thành công dân Úc. Những trẻ em này phải nộp đơn xin Chính phủ Úc cấp\\nQuốc tịch theo huyết thống\\nvà đợi đến khi có quyết định về quốc tịch.\\nLast updated 20.03.2025\\nTổng Lãnh sự quán Úc\\nThành phố Hồ Chí Minh, Việt Nam\\nLầu\\xa020,\\xa0Tòa\\xa0nhà\\xa0Vincom,\\n47\\xa0Lý\\xa0Tự\\xa0Trọng,\\xa0Quận\\xa01,\\nThành\\xa0Phố\\xa0Hồ\\xa0Chí\\xa0Minh,\\xa0Việt\\xa0Nam\\nĐiện thoại: +84 28 3521 8100\\nFax: +84 28 3521 8101\\nFollow us:\\nVề Tổng Lãnh sự quán Úc\\nTrang chủ\\nVề chúng tôi\\nTuyển dụng\\nMời Thầu\\nDịch vụ\\nDịch Vụ Hộ Chiếu\\nDịch Vụ Công Chứng\\nDịch Vụ Lãnh Sự\\nSinh sống tại Việt Nam\\nCác dịch vụ khác cho công dân Úc\\nKết nối với Úc\\nThị thực và Di trú\\nDu lịch đến Úc\\nDu học Úc\\nKinh doanh tại Úc\\nGiới thiệu về đất nước Úc\\nGiới thiệu về nước Úc\\nSự kiện\\nHương vị Úc (Taste of Australia) 2025\\nTriển Lãm Hương Vị Úc 2025\\nTin tức và báo chí\\nTin tức từ Đại sứ quán\\nĐại Sứ Quán Úc ở Hà Nội\\nĐại Sứ Quán Úc ở Hà Nội\\nLiên hệ\\nLiên hệ\\nExternal Websites\\nDepartment of Foreign Affairs and Trade\\nDepartment of Home Affairs\\nVisit Australia\\nAustrade\\nPrime Minister of Australia\\nMinister for Foreign Affairs\\nMinister for Trade and Tourism\\nMinister for International Development and the Pacific\\nMinister for Home Affairs\\nCopyright\\nPrivacy\\nDisclaimer\\nAccessibility\\nFreedom of information', \"Các Giấy tờ được Yêu cầu - Đại sứ quán và Tổng Lãnh sự quán Hoa Kỳ tại Việt Nam\\nSkip to main content\\nAn official website of the United States government\\nHere's how you know\\nOfficial websites use .gov\\nA\\n.gov\\nwebsite belongs to an official government organization in the United States.\\nSecure .gov websites use HTTPS\\nA\\nlock\\n(\\nLock\\nA locked padlock\\n) or https:// means you’ve safely connected to the .gov website. Share sensitive information only on official, secure websites.\\nĐại sứ quán và\\nTổng\\nLãnh sự quán Hoa Kỳ tại Việt Nam\\nNgôn ngữ\\nEnglish\\nTiếng Việt\\nDanh mục\\nHỗ trợ Khẩn cấp\\nCảnh báo cho công dân Hoa Kỳ\\nCác Dịch vụ Thị thực Hoa Kỳ\\nDịch vụ Hộ chiếu\\nDịch vụ công dân Hoa Kỳ\\nCông chứng\\nTin tức\\nCác cơ hội việc làm\\nKinh doanh\\nGiáo dục & Chương trình trao đổi\\nThông tin liên hệ\\nTìm kiếm\\n×\\nTìm kiếm\\nQuốc gia/Khu vực\\nAfghanistan\\nAlbania\\nAlgeria\\nAngola\\nArgentina\\nArmenia\\nAustralia\\nAustria\\nAzerbaijan\\nBahamas\\nBahrain\\nBangladesh\\nBarbados\\nBelarus\\nBelgium\\nBelize\\nBenin\\nBermuda\\nBolivia\\nBosnia & Herzegovina\\nBotswana\\nBrazil\\nBrunei\\nBulgaria\\nBurkina Faso\\nBurma\\nBurundi\\nCabo Verde\\nCambodia\\nCameroon\\nCanada\\nCentral African Republic\\nChad\\nChile\\nChina\\nColombia\\nComoros\\nCosta Rica\\nCôte d’Ivoire\\nCroatia\\nCuba\\nCuracao\\nCyprus\\nCzech Republic\\nDemocratic Republic of the Congo\\nDenmark\\nDjibouti\\nDominican Republic\\nEcuador\\nEgypt\\nEl Salvador\\nEquatorial Guinea\\nEritrea\\nEstonia\\nEswatini\\nEthiopia\\nFiji\\nFinland\\nFrance\\nGabon\\nGeorgia\\nGermany\\nGhana\\nGreece\\nGuatemala\\nGuinea\\nU.S. Virtual Presence in Guinea-Bissau\\nGuyana\\nThe Gambia\\nHaiti\\nHonduras\\nHong Kong and Macau\\nHungary\\nIceland\\nIndia\\nIndonesia\\nIran\\nIraq\\nIreland\\nIsrael\\nItaly\\nJamaica\\nJapan\\nJordan\\nKazakhstan\\nKenya\\nKorea\\nKosovo\\nKuwait\\nKyrgyz Republic\\nLaos\\nLatvia\\nLebanon\\nLesotho\\nLiberia\\nLibya\\nLithuania\\nLuxembourg\\nMadagascar\\nMalawi\\nMalaysia\\nMaldives\\nMali\\nMalta\\nMarshall Islands\\nMauritania\\nMauritius\\nMexico\\nMicronesia\\nMoldova\\nMongolia\\nMontenegro\\nMorocco\\nMozambique\\nNamibia\\nNepal\\nNetherlands\\nNew Zealand\\nNicaragua\\nNiger\\nNigeria\\nNorth Macedonia\\nNorway\\nOman\\nPakistan\\nPalau\\nPanama\\nPapua New Guinea\\nParaguay\\nPeru\\nPhilippines\\nPoland\\nPortugal\\nQatar\\nRepublic of Congo\\nRomania\\nRussia\\nRwanda\\nSamoa\\nSan Marino\\nSaudi Arabia\\nSenegal\\nSerbia\\nSeychelles\\nSierra Leone\\nSingapore\\nSlovakia\\nSlovenia\\nSolomon Islands\\nSomalia\\nSouth Africa\\nSouth Sudan\\nSpain\\nSri Lanka\\nSudan\\nSuriname\\nSweden\\nSwitzerland\\nSyria\\nAmerican Institute in Taiwan\\nTajikistan\\nTanzania\\nThailand\\nTimor-Leste\\nTogo\\nTonga\\nTrinidad & Tobago\\nTunisia\\nTürkiye\\nTurkmenistan\\nUganda\\nUkraine\\nUnited Arab Emirates\\nUnited Kingdom\\nUruguay\\nUzbekistan\\nVanuatu\\nVenezuela\\nVietnam\\nYemen\\nZambia\\nZimbabwe\\nU.S. Mission to ASEAN\\nU.S. Mission to the African Union\\nU.S. Mission to the EU\\nHoly See\\nU.S. Mission to the ICAO\\nU.S. Mission to NATO\\nU.S. Mission to OSCE\\nU.S. Mission to the OAS\\nU.S. Mission to the OECD\\nU.S. Mission to the UN-Geneva\\nU.S. Mission to the UN-Rome\\nU.S. Mission to the United Nations\\nU.S. Mission to International Organizations in Vienna\\nCác Giấy tờ được Yêu cầu\\nbởi\\nU.S. Mission Vietnam\\nĐương đơn có trách nhiệm đảm bảo nộp đầy đủ tất cả các giấy tờ được yêu cầu tại buổi phỏng vấn. Vui lòng kiểm tra kỹ để đảm bảo hồ sơ của đương đơn có đủ tất cả các giấy tờ cần thiết, tránh tình trạng phải quay lại Lãnh sự quán nhiều lần.\\nĐương đơn cần nộp cả bản chính và bản sao những giấy tờ liệt kê bên dưới.\\xa0 Chúng tôi sẽ trả lại những giấy tờ bản chính sau khi phỏng vấn.\\xa0 Tất cả những giấy tờ không phải bằng tiếng Việt hoặc tiếng Anh phải được dịch sang tiếng Anh có chứng nhận rõ ràng rằng “Bản dịch chính xác” và “Người dịch đủ năng lực dịch thuật”.\\xa0 Đương đơn phải sắp xếp các giấy tờ theo đúng thứ tự được liệt kê dưới đây và tách riêng tất cả các giấy tờ bản chính. Mỗi đương đơn phải có một bộ hồ sơ riêng.\\xa0 Nếu đương đơn không nộp đủ tất cả các giấy tờ được yêu cầu cho buổi phỏng vấn, hồ sơ của đương đơn có thể bị từ chối hoặc\\xa0việc in thị thực có thể bị trì hoãn.\\n1. TRANG\\nĐỐI CHIẾU\\n:\\nVới các hồ sơ được xử lý qua\\nHệ thống Nộp hồ sơ Điện tử (CEAC)\\n, vui lòng in\\nTRANG ĐỐI CHIẾU tại đây\\nvà đánh dấu đầy đủ các mục được yêu cầu trong\\nTRANG ĐỐI CHIẾU\\nđể đảm bảo quý vị đã sẵn sàng cho buổi phỏng vấn.\\xa0 Quý vị sẽ KHÔNG ĐƯỢC PHỎNG VẤN và phải đặt lại lịch hẹn phỏng vấn mới nếu\\xa0TRANG ĐỐI CHIẾU\\xa0này chưa được hoàn tất. Đương đơn phải đảm bảo\\n1)\\nĐã tải TOÀN BỘ các giấy tờ cập nhật lên\\nhệ thống CEAC\\n; và\\n2)\\nMang tới buổi phỏng vấn TOÀN BỘ giấy tờ BẢN CHÍNH/BẢN SAO CÓ CHỨNG THỰC\\ntrùng khớp với các giấy tờ đã tải lên\\nhệ thống CEAC\\n.\\xa0 Tất cả các đương đơn nào không hoàn tất việc khám sức khỏe và mang theo tờ thông tin khám sức khỏe (Information Sheet) được cấp bở Đơn vị khám sức khỏe do Lãnh sự quán chỉ định cũng sẽ không được phỏng vấn.\\n2. Đăng ký Địa chỉ:\\nVui lòng truy cập trang web\\nustraveldocs\\nNGAY BÂY GIỜ để tạo tài khoản đăng ký địa chỉ và in Trang Xác nhận Đăng ký địa chỉ.\\xa0 Đương đơn PHẢI đem theo Trang Xác nhận Đăng ký Địa chỉ này khi đến phỏng vấn và mỗi lần quay lại Lãnh sự quán sau buổi phỏng vấn.\\xa0 Việc xử lý hồ sơ và chuyển phát thị thực có thể bị trì hoãn nếu đương đơn không nộp Trang Xác nhận này cho chúng tôi. \\xa0Xin lưu ý mỗi đương đơn có số hồ sơ khác nhau đều phải làm theo hướng dẫn để tạo hồ sơ riêng và đăng ký địa chỉ.\\nYêu cầu này không áp dụng cho đương đơn thị thực diện K, diện tỵ nạn, và diện trẻ lai.\\n3.\\nThư mời phỏng vấn và Trang xác nhận (có mã vạch)\\nĐơn DS-260\\n[đối với thị thực định cư (IV)] hoặc\\nĐơn DS-160\\n[đối với thị thực không định cư diện K]:\\nKhi đến Lãnh sự quán, đương đơn trình Thư mời Phỏng vấn và Trang xác nhận (có mã vạch)\\nĐơn DS-260\\n[đối với thị thực định cư (IV)] hoặc\\nĐơn DS-160\\n[đối với thị thực không định cư diện K] cho nhân viên bảo vệ để vào cổng và nộp thư mời cho nhân viên phòng Lãnh sự để nhận số thứ tự.\\xa0 Vui lòng bấm Trang xác nhận mẫu đơn điện tử DS-260 / DS-160 (có mã vạch) của đương đơn chính bên dưới Thư mời phỏng vấn.\\n4. Hình xin thị thực\\n: Hai (2) hình màu đúng quy cách cho mỗi đương đơn.\\xa0 Đương đơn phải ghi tên và ngày tháng năm sinh phía sau mỗi tấm hình.\\xa0 Đương đơn có thể tham khảo thêm thông tin về yêu cầu cụ thể đối với hình cho thị thực tại\\ntrang web của Bộ Ngoại giao Hoa Kỳ\\n.\\n5. Chứng minh nhân dân\\n(nếu có): bản chính và bản sao.\\n6. Hộ chiếu:\\nBản chính và bản sao.\\xa0 Hộ chiếu phải còn hiệu lực ít nhất 60 ngày tính từ ngày thị thực Hoa Kỳ hết hạn.\\xa0 Chúng tôi yêu cầu mỗi đương đơn đều phải nộp\\nmột (1) bản sao\\ntrang thông tin hộ chiếu riêng, kể cả trẻ em đi chung hộ chiếu với cha mẹ.\\nNếu quý vị có hộ chiếu mới bìa màu xanh tím than, quý vị\\nphải có bị chú về nơi sinh\\n. Thông tin chi tiết được đăng tải\\ntrên trang web tại đây\\n.\\n7. Hộ khẩu\\n(nếu có)\\n:\\nbản chính và bản sao.\\n8. Giấy khai sinh:\\nBản chính và bản sao giấy khai sinh của người bảo lãnh, của mỗi đương đơn có tên trên hồ sơ, và của tất cả các con của đương đơn chính (\\nngay cả khi người con đó không đi cùng\\n).\\xa0 Trong trường hợp không có giấy khai sinh của người bảo lãnh, viên chức lãnh sự sẽ xem xét và hướng dẫn thêm cho đương đơn khi phỏng vấn.\\xa0 Nếu đương đơn là con nuôi hoặc đương đơn có nhận con nuôi, đương đơn phải nộp thêm giấy cho nhận con nuôi hợp pháp.\\n9. Giấy xác nhận tình trạng hôn nhân\\n(\\nkhông yêu cầu nếu chưa bao giờ kết hôn\\n):\\n* Bản chính và bản sao: Giấy đăng ký kết hôn nếu đương đơn đã kết hôn (bản chính và bản sao.)\\n* Bằng chứng hợp pháp về việc chấm dứt hôn nhân trước đây của người bảo lãnh và của các đương đơn (Bản chính và bản sao Giấy ly hôn hoặc Giấy chứng tử của vợ/ chồng cũ, nếu có).\\n10.\\nLý lịch Tư pháp\\n(\\nnếu đương đơn từ 16 tuổi trở lên\\n): Bản chính Lý lịch Tư pháp Số 2 của Việt Nam và bản chính lý lịch tư pháp được cấp bởi tất cả các quốc gia nơi đương đơn đã cư trú theo hướng dẫn\\ntại đây\\n. Thông tin về cách xin các loại giấy tờ này có\\ntại đây\\n.\\n11. Hồ sơ tiền án tiền sự\\n(nếu có)\\n:\\nBản chính và bản sao.\\xa0 Các đương đơn từng bị kết án phải nộp bản sao có công chứng của mỗi án tích và bất kỳ án tù nào, cho dù sau đó đương đơn được hưởng những ân xá hay bất kỳ hình thức khoan hồng nào khác.\\xa0 Các án tích cần bao gồm đầy đủ thông tin về các tình tiết liên quan đến việc phạm tội của đương đơn và phán quyết của toà, bao gồm bản án, hình phạt hay các hình thức phạt tiền mà người bị kết án buộc phải thi hành.\\n12. Hồ sơ quân đội\\n(nếu có)\\n:\\nBản sao.\\xa0 Các đương đơn đã từng phục vụ trong quân đội ở bất kỳ quốc gia nào đều phải nộp 1 bản sao hồ sơ quân đội của mình.\\xa0 Để biết thêm thông tin, vui lòng\\nnhấp vào đây\\n.\\n13. Kết quả kiểm tra sức khỏe:\\nĐơn vị khám sức khỏe do Lãnh sự quán chỉ định sẽ thông báo cho quý vị biết khi có kết quả.\\xa0 Thông thường quý vị sẽ nhận được kết quả khám sức khỏe trong vòng 3 đến 10 ngày.\\xa0 Một số trường hợp sẽ mất nhiều thời gian hơn và đơn vị khám sức khỏe có thể sẽ gửi thẳng kết quả khám sức khỏe của quý vị đến Lãnh sự quán.\\xa0 Bác sĩ phụ trách khám cho đương đơn sẽ trao đổi với đương đơn về kết quả khám sức khoẻ và các yêu cầu điều trị cần thiết.\\xa0 Đương đơn phải tiến hành điều trị tại các đơn vị do Lãnh sự quán chỉ định nếu được yêu cầu.\\xa0\\xa0Để biết thêm thông tin, vui lòng\\nnhấp vào đây\\n.\\n14. Hồ sơ bảo trợ tài chính:\\n*\\nĐối với đương đơn xin thị thực định cư\\n:\\nNgười bảo lãnh và người đồng bảo trợ phải điền đầy đủ thông tin, ký tên và nộp Hồ sơ bảo trợ tài chính (\\nMẫu I-864\\n) cho mỗi đương đơn xin thị thực định cư.\\xa0 Mỗi mẫu đơn I-864 của người bảo lãnh và người đồng bảo trợ phải đi kèm với\\nbản ghi khai thuế do Sở Thuế Liên Bang (IRS) cấp\\n(IRS tax transcripts) và các mẫu W-2 liên quan.\\xa0 Để biết thêm thông tin về các giấy tờ tài chính cần nộp, vui lòng\\nnhấp vào đây\\n.\\nNếu mẫu I-864 do người đồng bảo trợ nộp, người đồng bảo trợ này phải nộp thêm bằng chứng về tình trạng cư trú hợp pháp của người đồng bảo trợ như: bản sao giấy khai sinh, hộ chiếu Hoa Kỳ, giấy chứng nhận nhập quốc tịch Hoa Kỳ hoặc thẻ thường trú nhân.\\nTrong trường hợp người bảo lãnh đã nộp đầy đủ các hồ sơ bảo trợ tài chính đến Trung Tâm Thị thực quốc gia (NVC), đương đơn không cần nộp lại các hồ sơ này khi phỏng vấn.\\xa0 Nếu chưa nộp, đương đơn vui lòng chuẩn bị các hồ sơ này để nộp vào ngày phỏng vấn. Trong một số trường hợp, nếu giấy tờ tài chính mà đương đơn chuẩn bị không đáp ứng đúng\\nyêu cầu về thu nhập tối thiểu theo hướng dẫn trên trang thông tin I-864P\\n, chúng tôi sẽ yêu cầu đương đơn nộp thêm các giấy tờ chứng minh tài chính khác sau khi phỏng vấn.\\nBản sao và bản chụp (scanned) của mẫu đơn I-864 và những chứng từ bảo trợ khác được chấp nhận.\\n*\\nĐối với đương đơn xin thị thực diện K:\\nNgười bảo lãnh có thể điền đầy đủ thông tin, ký tên và nộp mẫu đơn\\nI-134\\ncho đương đơn chính và một bản sao cho mỗi đương đơn phụ thuộc.\\xa0 Ngoài ra cần nộp thêm một\\nbản ghi khai thuế do Sở Thuế Liên Bang (IRS) cấp\\n(IRS tax transcripts) và các giấy W-2 nếu có.\\nĐối với trường hợp có người đồng tài trợ: Ngoài những giấy tờ tài chính nêu trên, người đồng tài trợ nên nộp thêm bằng chứng về tình trạng cư ngụ hợp pháp tại Hoa Kỳ như một bản sao giấy khai sinh, hộ chiếu, giấy nhập tịch, hoặc thẻ thường trú nhân.\\xa0 Viên chức sẽ quyết định vào buổi phỏng vấn xem có chấp nhận người đồng tài trợ hay không.\\n15. Bằng chứng về mối quan hệ:\\nĐương đơn cần chuẩn bị toàn bộ bằng chứng để chứng minh mối quan hệ của đương đơn với người bảo lãnh và với các thành viên phụ thuộc trong gia đình đi cùng (nếu có).\\n*\\nDiện hôn phu/hôn thê (K)\\n:\\nVui lòng đề tên và ghi rõ từng mục theo trình tự thời gian và phân thành hai nhóm: trước và sau khi đính hôn.\\xa0 Bằng chứng có thể bao gồm nhưng không giới hạn các hình ảnh, thư từ, hoá đơn điện thoại và những bằng chứng có liên quan khác để hỗ trợ việc chứng minh với viên chức lãnh sự về mối quan hệ thực sự của đương đơn với người bảo lãnh.\\xa0 Xin lưu ý là đương đơn phải lấy hình ảnh ra khỏi album và chỉ mang theo những hình ảnh rời.\\n*\\nDiện bảo lãnh vợ-chồng\\n:\\nVui lòng đề tên, ghi rõ từng mục theo trình tự thời gian và phân thành hai nhóm: trước và sau khi kết hôn.\\xa0 Bằng chứng có thể bao gồm nhưng không giới hạn các hình ảnh, thư từ, hoá đơn điện thoại và những bằng chứng có liên quan khác để chứng minh với viên chức lãnh sự về mối quan hệ thực sự của đương đơn với người bảo lãnh.\\xa0 Xin lưu ý là đương đơn phải lấy hình ảnh ra khỏi album và chỉ mang theo những hình ảnh rời.\\n*\\nNếu đương đơn là con kế của người bảo lãnh\\n:\\nGiấy chứng nhận kết hôn bản chính của người bảo lãnh và cha mẹ ruột của đương đơn và một bản sao cùng giấy tờ ly hôn với tất cả vợ hoặc chồng trước đây của cả hai người.\\n*\\nDiện bảo lãnh đi làm việc\\n:\\nNgười sử dụng lao động của đương đơn tại Hoa Kỳ phải cung cấp bằng văn bản giấy xác nhận cho thấy vị trí công việc họ đã đề nghị cho đương đơn vẫn còn hiệu lực.\\xa0 Giấy xác nhận phải được in trên giấy có tiêu đề / biểu tượng của doanh nghiệp, có chữ ký gốc của người sử dụng lao động và phải được công chứng.\\n*\\nDiện bảo lãnh khác\\n:\\nĐương đơn cần chuẩn bị sổ đăng ký hộ khẩu cũ, học bạ cũ, hình ảnh cũ, giấy chứng sinh của bệnh viện, sổ gia đình công giáo… để chứng minh mối quan hệ với người bảo lãnh.\\nCác Nguồn Thông tin Khác\\nLịch Lãnh sự\\nKiểm tra Tình trạng Hồ sơ\\nĐạo luật CSPA\\nChuẩn bị cho Buổi Phỏng vấn\\nĐặt lại Lịch hẹn Thị thực định cư\\nKiểm tra Sức khỏe & Tiêm chủng\\nCác loại phí Thị thực Định cư & K1\\nXét nghiệm Di Truyền Học (DNA)\\nLiên hệ chúng tôi\\nXin lưu ý chúng tôi sẽ không trả lời những câu hỏi được gửi qua đường bưu điện hoặc fax.\\nĐặt câu hỏi (IV Inquiry Form)\\nBáo cáo Hành vi Giả mạo\\nCảnh báo về Phòng chống Giả mạo\\nCập nhật thông tin Cá nhân\\nCâu hỏi thường gặp diện định cư\\nCâu hỏi thường gặp diện K\\nCác Cơ quan Chính phủ Hoa Kỳ\\nSở Di trú và Nhập tịch Hoa Kỳ\\nCục Hải quan & Biên phòng Hoa Kỳ (CBP)\\nUSA.Gov\\nBộ Ngoại giao Hoa Kỳ\\nThị thực Định cư\\nThị thực\\nĐại sứ quán và Tổng Lãnh sự quán Hoa Kỳ tại Việt Nam\\nWhite House\\nBộ Ngoại giao Hoa Kỳ\\nChính sách bảo mật thông tin\\nĐiều khoản sử dụng mạng xã hội\\nThông tin liên hệ\\nFOIA\\nNo Fear Act\\nCookie Settings\\nWe use cookies to make our website work better and improve your experience. By continuing to use the site, you agree to our privacy policy.\\nFunctional\\nFunctional\\nAlways active\\nThe technical storage or access is strictly necessary for the legitimate purpose of enabling the use of a specific service explicitly requested by the subscriber or user, or for the sole purpose of carrying out the transmission of a communication over an electronic communications network.\\nPreferences\\nPreferences\\nThe technical storage or access is necessary for the legitimate purpose of storing preferences that are not requested by the subscriber or user.\\nStatistics\\nStatistics\\nThe technical storage or access that is used exclusively for statistical purposes.\\nThe technical storage or access that is used exclusively for anonymous statistical purposes. Without a subpoena, voluntary compliance on the part of your Internet Service Provider, or additional records from a third party, information stored or retrieved for this purpose alone cannot usually be used to identify you.\\nMarketing\\nMarketing\\nThe technical storage or access is required to create user profiles to send advertising, or to track the user on a website or across several websites for similar marketing purposes.\\nManage options\\nManage services\\nManage {vendor_count} vendors\\nRead more about these purposes\\nAccept\\nDeny\\nView preferences\\nSave preferences\\nView preferences\\n{title}\\n{title}\\n{title}\\nCookie Settings\\nWe use cookies to make our website work better and improve your experience. By continuing to use the site, you agree to our privacy policy.\\nFunctional\\nFunctional\\nAlways active\\nThe technical storage or access is strictly necessary for the legitimate purpose of enabling the use of a specific service explicitly requested by the subscriber or user, or for the sole purpose of carrying out the transmission of a communication over an electronic communications network.\\nPreferences\\nPreferences\\nThe technical storage or access is necessary for the legitimate purpose of storing preferences that are not requested by the subscriber or user.\\nStatistics\\nStatistics\\nThe technical storage or access that is used exclusively for statistical purposes.\\nThe technical storage or access that is used exclusively for anonymous statistical purposes. Without a subpoena, voluntary compliance on the part of your Internet Service Provider, or additional records from a third party, information stored or retrieved for this purpose alone cannot usually be used to identify you.\\nMarketing\\nMarketing\\nThe technical storage or access is required to create user profiles to send advertising, or to track the user on a website or across several websites for similar marketing purposes.\\nManage options\\nManage services\\nManage {vendor_count} vendors\\nRead more about these purposes\\nAccept\\nDeny\\nView preferences\\nSave preferences\\nView preferences\\n{title}\\n{title}\\n{title}\\nCookie Settings\\nCookie Settings\\n×\\nHỗ trợ Khẩn cấp\\nCông dân Hoa Kỳ trong Trường hợp Khẩn cấp\\nVui lòng gọi:\\nHà Nội: (024) 3850 5000\\nTP. Hồ Chí Minh: (028) 3520-4200 hoặc (028) 3520-4600\\nNgoài giờ làm việc xin liên hệ:\\nHà Nội: (024) 3850 5000\\nTP. Hồ Chí Minh: (028) 3520-4200 hoặc (028) 3520-4600\\nTừ bên ngoài Việt Nam:\\nHà Nội: +84 24 3850 5000\\nTP. Hồ Chí Minh: +8428-3520-4200 hoặc +8428-3520-4600\\nThông tin Liên hệ trong Trường hợp Khẩn cấp\\nĐăng ký Nhận Thông báo An ninh\\nTrẻ em bị Cha mẹ Bắt cóc ra Nước ngoài\\nCông dân Hoa Kỳ bị Bắt giữ\\nCông dân Hoa Kỳ Tử vong\\nNạn nhân các vụ Tội phạm\\nHỗ trợ Tài chính Khẩn cấp\", 'Hướng dẫn nộp hồ sơ đề nghị cấp thẻ Căn cước cho trẻ từ 6 đến dưới 14 tuổi\\nBáo điện tử chính phủ\\nXây dựng chính sách, pháp luật\\nDiễn đàn của nhân dân, doanh nghiệp về xây dựng, thực thi chính sách, pháp luật\\nChính sách mới\\nTham vấn chính sách\\nTọa đàm về chính sách\\nChính sách và cuộc sống\\nHướng dẫn thực hiện chính sách\\nPhát triển kinh tế tư nhân và doanh nghiệp dân tộc\\nGửi thông tin góp ý hiến kế\\nChúng tôi luôn Lắng nghe và phản hồi\\nGọi tổng đài\\nChúng tôi luôn Lắng nghe và phản hồi\\nGọi đến\\n0964 96 66 88\\ntổng đài tiếp nhận các góp ý, đề xuất, hiến kế\\nHoặc\\nĐóng\\nGửi thông tin góp ý hiến kế\\nHướng dẫn nộp hồ sơ trực tuyến đề nghị cấp thẻ Căn cước cho trẻ từ 6-14 tuổi\\n(Chinhphu.vn) - Hướng dẫn nộp hồ sơ đề nghị cấp thẻ Căn cước cho trẻ em từ 6 tuổi đến dưới 14 tuổi qua Cổng dịch vụ công.\\nGọi tổng đài\\nChúng tôi luôn Lắng nghe và phản hồi\\nGọi đến\\n0964 96 66 88\\ntổng đài tiếp nhận các góp ý, đề xuất, hiến kế\\nHoặc\\nĐóng\\nChính sách và cuộc sống\\nHướng dẫn nộp hồ sơ trực tuyến đề nghị cấp thẻ Căn cước cho trẻ từ 6-14 tuổi\\n03/04/2025 06:30\\n0:00\\nNữ miền Bắc\\nNữ miền Bắc\\nNam miền Bắc\\nNữ miền Nam\\nNam miền Nam\\nChia sẻ\\n(Chinhphu.vn) - Hướng dẫn nộp hồ sơ đề nghị cấp thẻ Căn cước cho trẻ em từ 6 tuổi đến dưới 14 tuổi qua Cổng dịch vụ công.\\nCông an huyện Hải Hậu, tỉnh Nam Định thu thập thông tin cấp thẻ căn cước.\\nTừ 01/7/2024, trẻ từ 6 tuổi đến dưới 14 tuổi có thể được cấp thẻ Căn cước theo nhu cầu. Theo đó cha, mẹ hoặc người đại diện hợp pháp của trẻ em từ 6 tuổi đến dưới 14 tuổi sẽ gửi yêu cầu đề nghị cấp thẻ Căn cước cho trẻ qua Cổng dịch vụ công Bộ Công an.\\nĐể đăng ký cấp thẻ Căn cước cho trẻ từ 6 tuổi đến dưới 14 tuổi, cha, mẹ hoặc người đại diện hợp pháp (sau đây gọi tắt là công dân) sử dụng tài khoản định danh điện tử (VNeID) để đăng nhập và thực hiện theo các bước sau:\\nBước 1:\\nCông dân truy cập vào đường link:\\nhttp://dichvucong.dancuquocgia.gov.vn\\n.\\nBước 2:\\nCông dân chọn “Đăng nhập” ở góc phải phía trên màn hình.\\nBước 3:\\nCông dân chọn Đăng nhập bằng “Tài khoản Cổng dịch vụ công quốc gia”.\\nBước 4:\\nChọn đăng nhập bằng “Tài khoản Định danh điện tử cấp bởi Bộ Công an dành cho công dân”.\\nBước 5:\\nTại màn hình tiếp theo, công dân nhập thông tin số định danh và mật khẩu tài khoản VNeID hoặc quét mã QR Code bằng ứng dụng VNeID trên điện thoại thông minh để đăng nhập.\\nBước 6:\\nSau khi đăng nhập thành công\\n,\\ncông dân chọn “Lĩnh vực cấp, quản lý Căn cước”.\\nBước 7:\\nTiếp theo,\\nchọn cấp thẻ Căn cước cho người dưới 14 tuổi.\\nBước 8:\\nTại màn hình tiếp theo, công dân nhập số điện thoại của người kê khai (cha, mẹ, người đại diện hợp pháp), sau đó điền đẩy đủ thông tin của trẻ cần cấp thẻ Căn cước theo yêu cầu\\n(bao gồm: họ, chữ đệm và tên; ngày, tháng, năm sinh; giới tính; số định danh cá nhân; mối quan hệ của người kê khai với người cần cấp thẻ Căn cước)\\n.\\nSau khi điền đầy đủ các thông tin công dân chọn\\n“Kiểm tra thông tin trong CSDL quốc gia về dân cư”.\\n- Trường hợp trùng khớp với thông tin trên hệ thống CSDL quốc gia về dân cư, hệ thống hiển thị thông báo:\\n“Thông tin công dân hợp lệ”.\\nCông dân thực hiện bước tiếp theo.\\n- Trường hợp thông báo thông tin không hợp lệ do không trùng khớp với hệ thống CSDL quốc gia về dân cư, công dân vui lòng liên hệ Công an xã/phường/thị trấn nơi thường trú để được hướng dẫn và cập nhật đầy đủ thông tin, sau đó nộp lại hồ sơ theo các bước nêu trên.\\nBước 9:\\nCông dân chọn lý do cấp “Cấp thẻ Căn cước lần đầu”. Chọn loại hồ sơ: “Người từ 06 tuổi đến dưới 14 tuổi”.\\n- Trường hợp công dân chọn nơi thực hiện là phòng CS QLHC về TTXH Công an tỉnh: Tại cấp thực hiện chọn “Cấp tỉnh”, cơ quan thực hiện chọn “Công an tỉnh...”.\\n- Trường hợp công dân chọn nơi thực hiện là đội Cảnh sát QLHC về TTXH Công an huyện/thị xã/thành phố nơi thương trú/tạm trú: Tại cấp thực hiện chọn “Cấp huyện”, cơ quan thực hiện phía trên chọn “Công an tỉnh,...”, phía dưới chọn “Công an huyện/thị xã/ thành phố” nơi thường trú/tạm trú.\\nBước 10:\\nTick vào ô “Tôi xin cam đoan những thông tin kê khai trên là đúng sự thật”\\nsau đó ấn chọn\\n“Lưu và Tiếp tục”.\\nKhi màn hình hiển thị Popup dưới đây công dân chọn “Đồng ý”.\\nBước 11:\\nCông dân chọn thời gian hẹn thu nhận thông tin căn cước sau đó chọn “Nộp hồ sơ”.\\nLưu ý:\\nCông dân chủ động lựa chọn thời gian thu nhận hồ sơ cấp thẻ Căn cước tại cơ quan Công an đúng thời gian hẹn thu nhận đã đăng ký, công dân liên hệ cơ quan Công an nơi cấp Căn cước để thu nhận hồ sơ. Quá thời gian hẹn, công dân không liên hệ hồ sơ sẽ bị hủy.\\nMàn hình sẽ hiện thị thông báo hồ sơ đã được tiếp nhận và tự động chuyển sang trang Quản lý hồ sơ dịch vụ công. Công dân ghi nhớ mã hồ sơ trực tuyến và theo dõi quá trình xử lý hồ sơ.\\nSau khi hồ sơ được gửi thành công, hệ thống sẽ tự động chuyển đến cơ quan Công an nơi công dân đăng ký để tiếp nhận, xử lý. Đúng thời gian đã đăng ký, công dân đến trụ sở cơ quan Công an nơi đăng ký thu nhận hồ sơ, cung cấp cho cán bộ tiếp nhận mã hồ sơ sơ trực tuyến để được hướng dẫn thực hiện các bước thu thập thông tin cá nhân và thông tin sinh trắc học.\\nTham khảo thêm\\nTừ 1/7, giảm lệ phí làm thẻ Căn cước, hộ chiếu\\nTham khảo thêm\\nTừ ngày 1/7/2024, mẫu thẻ căn cước, mẫu giấy chứng nhận căn cước có những đặc điểm gì?\\nTham khảo thêm\\nQuy định mới: Trình tự, thủ tục cấp, đổi, cấp lại thẻ căn cước\\nTham khảo thêm\\nTừ 1/7/2024: Thu thập sinh trắc học mống mắt khi công dân làm thẻ căn cước\\nTham khảo thêm\\nNhững trường hợp bắt buộc phải đổi thẻ Căn cước công dân sang thẻ Căn cước từ 1/7/2024\\nTham khảo thêm\\nThẻ Căn cước có thay thế hộ chiếu khi xuất cảnh hay không?\\nTham khảo thêm\\n10 điểm mới của Luật Căn cước\\nTham khảo thêm\\nBộ Công an thông tin về cấp, đổi thẻ căn cước khi Luật Căn cước có hiệu lực từ 1/7\\nTham khảo thêm\\nHướng dẫn cập nhật thông tin Căn cước công dân trong đăng ký thuế\\nTham khảo thêm\\nCăn cước điện tử là gì, giá trị sử dụng như thế nào?\\nTham khảo thêm\\nTOÀN VĂN: Luật Căn cước\\nTham khảo thêm\\nGiấy chứng nhận căn cước có giá trị sử dụng như thế nào?\\nTham khảo thêm\\nAi được cấp giấy chứng nhận căn cước?\\nTham khảo thêm\\n7 trường hợp phải cấp đổi, cấp lại thẻ căn cước, trình tự, thủ tục cấp đổi, cấp lại\\nTham khảo thêm\\nQuy định thời hạn cấp, cấp đổi, cấp lại thẻ căn cước\\nTham khảo thêm\\nTrình tự, thủ tục cấp thẻ căn cước từ 1/7/2024\\nNội dung này, đã nhận được\\n83\\ngóp ý, hiến kế\\nGóp ý, hiến kế cho Chính phủ ngay tại đây\\nGọi tổng đài\\nGóp ý qua Zalo\\nGửi góp ý trực tiếp\\nTừ khóa:\\nthẻ căn cước\\nBộ Công an\\nĐọc nhiều\\nĐịnh hướng sắp xếp cơ sở y tế, giáo dục và đơn vị sự nghiệp công lập trực thuộc UBND cấp huyện\\nHướng dẫn thực hiện chính sách\\n3 ngày trước\\n(Chinhphu.vn) - Công văn số 03/CV-BCĐ của Ban Chỉ đạo sắp xếp đơn vị hành chính các cấp và xây dựng mô hình tổ chức chính quyền địa phương 2 cấp đã định hướng đối với đơn vị sự nghiệp công lập (trong đó có y tế, giáo dục).\\nThủ tướng: Chấm dứt ngay tình trạng doanh nghiệp phải trả chi phí không chính thức trong thực hiện thủ tục hành chính\\nPhát triển kinh tế tư nhân và doanh nghiệp dân tộc\\n13 ngày trước\\n(Chinhphu.vn) - Thủ tướng yêu cầu chấm dứt ngay tình trạng doanh nghiệp phải trả chi phí không chính thức trong thực hiện thủ tục hành chính và các hoạt động khác liên quan đến cơ quan, đơn vị hành chính nhà nước; xử lý ngay các phản ánh, kiến nghị của doanh nghiệp về việc phải trả chi phí không chính thức cho cơ quan hành chính nhà nước, cán bộ, công chức, viên chức.\\nĐề xuất tăng số lượng Phó Chủ tịch UBND cấp tỉnh; không cho phép cấp xã thành lập Trung tâm hành chính công\\nTham vấn chính sách\\n11 ngày trước\\n(Chinhphu.vn) - Đại biểu Quốc hội Phạm Văn Hòa đề xuất tăng số lượng Phó Chủ tịch UBND cấp tỉnh theo quy mô dân số và diện tích; không cho phép cấp xã thành lập Trung tâm hành chính công.\\nĐề xuất hỗ trợ người hoạt động không chuyên trách ở cấp xã, thôn, tổ dân phố\\nChính sách và cuộc sống\\n1 ngày trước\\n(Chinhphu.vn) - Đại biểu Quốc hội đề xuất Bộ Nội vụ tham mưu Chính phủ xem xét hỗ trợ người hoạt động không chuyên trách ở cấp xã, thôn, tổ dân phố được hưởng chế độ bằng 2 lần mức trợ cấp theo quy định.\\nTOÀN VĂN: Nghị định 178/2024/NĐ-CP chính sách với CBCCVC, lực lượng vũ trang khi sắp xếp bộ máy\\n18 giờ trước\\n(Chinhphu.vn) - Toàn văn Nghị định 178/2024/NĐ-CP ngày 31/12/2024 của Chính phủ về chính sách, chế độ đối với cán bộ, công chức, viên chức, người lao động và lực lượng vũ trang trong thực hiện sắp xếp tổ chức bộ máy của hệ thống chính trị.\\nChúng tôi\\nluôn\\nLắng nghe\\nvà phản hồi\\nNgười dân và Doanh nghiệp, ngay bây giờ có có thể thực hiện góp ý và hiến kế cho Chính Phủ bằng các phương thức dưới đây\\nGọi tổng đài\\nGóp ý qua Zalo\\nGửi góp ý trực tiếp\\nTin cùng chuyên mục\\nXem theo ngày\\nNgày\\n1\\n2\\n3\\n4\\n5\\n6\\n7\\n8\\n9\\n10\\n11\\n12\\n13\\n14\\n15\\n16\\n17\\n18\\n19\\n20\\n21\\n22\\n23\\n24\\n25\\n26\\n27\\n28\\n29\\n30\\n31\\nTháng\\nTháng 1\\nTháng 2\\nTháng 3\\nTháng 4\\nTháng 5\\nTháng 6\\nTháng 7\\nTháng 8\\nTháng 9\\nTháng 10\\nTháng 11\\nTháng 12\\nNăm\\n2025\\n2024\\n2023\\n2022\\nXem\\nKhẩn trương hoàn thành đề án hợp nhất các cơ quan chuyên môn, đơn vị sự nghiệp công lập\\nChính sách và cuộc sống\\n1 giờ trước\\n(Chinhphu.vn) - Việc xây dựng Đề án thành lập, hợp nhất các cơ quan chuyên môn, các đơn vị sự nghiệp công lập thuộc UBND thành phố Hải Phòng và UBND tỉnh Hải Dương đang được khẩn trương hoàn thành (yêu cầu hoàn thành trước 10/7/2025).\\nTrình UBTV Quốc hội phương án sắp xếp đơn vị hành chính cấp xã của Hà Nội\\nChính sách và cuộc sống\\n2 giờ trước\\n(Chinhphu.vn) - Theo tờ trình của Chính phủ, Ủy ban nhân dân TP. Hà Nội xây dựng 126 phương án sắp xếp 526 đơn vị hành chính cấp xã để hình thành 126 đơn vị hành chính cấp xã mới, giảm 400 đơn vị.\\nQuyết liệt sắp xếp tổ chức bộ máy; nâng cao mức độ tự chủ của đơn vị sự nghiệp công lập\\nChính sách và cuộc sống\\n3 giờ trước\\n(Chinhphu.vn) - Chính phủ chỉ đạo triển khai quyết liệt việc sắp xếp tổ chức bộ máy theo mô hình chính quyền địa phương 2 cấp, phấn đấu hoàn tất sắp xếp cấp xã trước 15/7/2025, cấp tỉnh trước ngày 15/8/2025. Đổi mới, sắp xếp, nâng cao mức độ tự chủ của đơn vị sự nghiệp công lập. Có cơ chế, chính sách đặc biệt đối với cán bộ, công chức đạt thành tích xuất sắc trong công việc, tạo động lực, bảo vệ cán bộ, công chức làm việc, cống hiến.\\nTriển khai tổ chức lại cơ quan quân sự địa phương theo đơn vị hành chính mới\\nChính sách và cuộc sống\\n4 giờ trước\\n(Chinhphu.vn) - Việc tổ chức lại cơ quan quân sự địa phương theo đơn vị hành chính mới là nhiệm vụ đặc biệt quan trọng, vừa mang tính cấp bách trước mắt vừa có ý nghĩa lâu dài trong xây dựng lực lượng vũ trang Quân khu 5 “tinh, gọn, mạnh”.\\nSẮP XẾP BỘ MÁY: 7 đề xuất, kiến nghị đối với dự thảo Nghị quyết sửa đổi, bổ sung Hiến pháp 2013\\nChính sách và cuộc sống\\n4 giờ trước\\n(Chinhphu.vn) - Báo cáo Kết quả lấy ý kiến trong hệ thống Mặt trận Tổ quốc Việt Nam đối với dự thảo Nghị quyết sửa đổi, bổ sung một số điều của Hiến pháp 2013 nêu 7 đề xuất, kiến nghị về việc tiếp thu, chỉnh lý dự thảo Nghị quyết.\\nNguyên tắc, định hướng SẮP XẾP ĐƠN VỊ SỰ NGHIỆP CÔNG LẬP Ở ĐỊA PHƯƠNG\\nChính sách và cuộc sống\\n5 giờ trước\\n(Chinhphu.vn) - Ban Chỉ đạo sắp xếp đơn vị hành chính các cấp và xây dựng mô hình tổ chức chính quyền địa phương 2 cấp định hướng sắp xếp, tổ chức lại đơn vị sự nghiệp công lập ở địa phương khi thực hiện mô hình tổ chức chính quyền địa phương 2 cấp.\\nXem thêm\\nKhẩn trương hoàn thành đề án hợp nhất các cơ quan chuyên môn, đơn vị sự nghiệp công lập\\nChính sách và cuộc sống\\n1 giờ trước\\n(Chinhphu.vn) - Việc xây dựng Đề án thành lập, hợp nhất các cơ quan chuyên môn, các đơn vị sự nghiệp công lập thuộc UBND thành phố Hải Phòng và UBND tỉnh Hải Dương đang được khẩn trương hoàn thành (yêu cầu hoàn thành trước 10/7/2025).\\nTrình UBTV Quốc hội phương án sắp xếp đơn vị hành chính cấp xã của Hà Nội\\nChính sách và cuộc sống\\n2 giờ trước\\n(Chinhphu.vn) - Theo tờ trình của Chính phủ, Ủy ban nhân dân TP. Hà Nội xây dựng 126 phương án sắp xếp 526 đơn vị hành chính cấp xã để hình thành 126 đơn vị hành chính cấp xã mới, giảm 400 đơn vị.\\nQuyết liệt sắp xếp tổ chức bộ máy; nâng cao mức độ tự chủ của đơn vị sự nghiệp công lập\\nChính sách và cuộc sống\\n3 giờ trước\\n(Chinhphu.vn) - Chính phủ chỉ đạo triển khai quyết liệt việc sắp xếp tổ chức bộ máy theo mô hình chính quyền địa phương 2 cấp, phấn đấu hoàn tất sắp xếp cấp xã trước 15/7/2025, cấp tỉnh trước ngày 15/8/2025. Đổi mới, sắp xếp, nâng cao mức độ tự chủ của đơn vị sự nghiệp công lập. Có cơ chế, chính sách đặc biệt đối với cán bộ, công chức đạt thành tích xuất sắc trong công việc, tạo động lực, bảo vệ cán bộ, công chức làm việc, cống hiến.\\nPhải giải quyết xong các yêu cầu, đề xuất của doanh nghiệp trong 2 tuần; báo cáo sửa ngay vướng mắc về đất đai trong năm nay\\nPhát triển kinh tế tư nhân và doanh nghiệp dân tộc\\n4 giờ trước\\n(Chinhphu.vn) - Kết luận tọa đàm với các doanh nghiệp về phát triển kinh tế tư nhân, Thủ tướng Phạm Minh Chính khái quát 6 nội dung lớn trong tâm huyết, ý kiến của các đại biểu; chia sẻ 6 mong muốn, tin tưởng, kỳ vọng với các doanh nghiệp, doanh nhân; và nêu rõ 7 nhóm nhiệm vụ, giải pháp mà Chính phủ, các bộ, ngành, địa phương phải tiếp tục tập trung thực hiện trong thời gian tới. Đặc biệt, Thủ tướng nêu rõ phải giải quyết xong các yêu cầu, đề xuất, khó khăn của doanh nghiệp trong vòng 2 tuần, \"được hay không được thì phải nói, giải quyết đến đâu thông báo đến đấy chứ không chỉ trong nội bộ, cứ ỉm đi là không được\".\\nTriển khai tổ chức lại cơ quan quân sự địa phương theo đơn vị hành chính mới\\nChính sách và cuộc sống\\n4 giờ trước\\n(Chinhphu.vn) - Việc tổ chức lại cơ quan quân sự địa phương theo đơn vị hành chính mới là nhiệm vụ đặc biệt quan trọng, vừa mang tính cấp bách trước mắt vừa có ý nghĩa lâu dài trong xây dựng lực lượng vũ trang Quân khu 5 “tinh, gọn, mạnh”.\\nSẮP XẾP BỘ MÁY: 7 đề xuất, kiến nghị đối với dự thảo Nghị quyết sửa đổi, bổ sung Hiến pháp 2013\\nChính sách và cuộc sống\\n4 giờ trước\\n(Chinhphu.vn) - Báo cáo Kết quả lấy ý kiến trong hệ thống Mặt trận Tổ quốc Việt Nam đối với dự thảo Nghị quyết sửa đổi, bổ sung một số điều của Hiến pháp 2013 nêu 7 đề xuất, kiến nghị về việc tiếp thu, chỉnh lý dự thảo Nghị quyết.\\nNguyên tắc, định hướng SẮP XẾP ĐƠN VỊ SỰ NGHIỆP CÔNG LẬP Ở ĐỊA PHƯƠNG\\nChính sách và cuộc sống\\n5 giờ trước\\n(Chinhphu.vn) - Ban Chỉ đạo sắp xếp đơn vị hành chính các cấp và xây dựng mô hình tổ chức chính quyền địa phương 2 cấp định hướng sắp xếp, tổ chức lại đơn vị sự nghiệp công lập ở địa phương khi thực hiện mô hình tổ chức chính quyền địa phương 2 cấp.\\nUBTVQH xem xét thông qua về nguyên tắc các nghị quyết về sắp xếp đơn vị hành chính cấp xã\\nChính sách và cuộc sống\\n5 giờ trước\\n(Chinhphu.vn) - Ủy ban Thường vụ Quốc hội sẽ cho ý kiến về Đề án sắp xếp đơn vị hành chính cấp tỉnh năm 2025; xem xét, thông qua về nguyên tắc các nghị quyết về sắp xếp đơn vị hành chính cấp xã năm 2025. Cho ý kiến đối với dự thảo Nghị quyết của Quốc hội về việc sửa đổi hoặc bãi bỏ cơ chế quản lý tài chính, thu nhập đặc thù của các cơ quan, đơn vị hành chính nhà nước.\\nThủ tướng làm Trưởng Ban Chỉ đạo quốc gia triển khai Nghị quyết số 68-NQ/TW về phát triển kinh tế tư nhân\\nPhát triển kinh tế tư nhân và doanh nghiệp dân tộc\\n5 giờ trước\\n(Chinhphu.vn) - Thủ tướng Chính phủ Phạm Minh Chính là Trưởng Ban Chỉ đạo quốc gia triển khai Nghị quyết số 68-NQ/TW về phát triển kinh tế tư nhân.\\nTriển khai tổ chức lại cơ quan quân sự địa phương, Bộ đội Biên phòng\\nChính sách và cuộc sống\\n6 giờ trước\\n(Chinhphu.vn) - Quân khu 7 tiến hành kiểm tra, khảo sát vị trí bố trí Ban chỉ huy phòng thủ khu vực, Bộ đội Biên phòng sau khi sắp xếp, sáp nhập đơn vị hành chính cấp tỉnh.\\nQUYẾT ĐỊNH SỐ 14/2025/QĐ-TTG QUY ĐỊNH VỀ CƠ CẤU BIỂU GIÁ BÁN LẺ ĐIỆN\\nPhát triển kinh tế tư nhân và doanh nghiệp dân tộc\\n6 giờ trước\\n(Chinhphu.vn) - Phó Thủ tướng Bùi Thanh Sơn vừa ký Quyết định số 14/2025/QĐ-TTg ngày 29/5/2025 quy định về cơ cấu biểu giá bán lẻ điện.\\nTỔNG THUẬT: THỦ TƯỚNG TỌA ĐÀM VỚI DOANH NGHIỆP VỀ PHÁT TRIỂN KINH TẾ TƯ NHÂN\\nPhát triển kinh tế tư nhân và doanh nghiệp dân tộc\\n6 giờ trước\\n(Chinhphu.vn) - Sáng 31/5 tại Hà Nội, Thủ tướng Chính phủ Phạm Minh Chính chủ trì cuộc Tọa đàm với doanh nghiệp, hiệp hội doanh nghiệp về Nghị quyết 68-NQ/TW của Bộ Chính trị về phát triển kinh tế tư nhân.\\nBan Chỉ đạo của Chính phủ ĐỊNH HƯỚNG tạm thời BỐ TRÍ BIÊN CHẾ khi SẮP XẾP đơn vị hành chính\\nChính sách và cuộc sống\\n6 giờ trước\\n(Chinhphu.vn) - Ban Chỉ đạo sắp xếp đơn vị hành chính các cấp và xây dựng mô hình tổ chức chính quyền địa phương 2 cấp của Chính phủ định hướng tạm thời bố trí biên chế khi thực hiện sắp xếp đơn vị hành chính và tổ chức chính quyền địa phương 2 cấp.\\nSắp xếp tổ chức quân sự địa phương: Tăng cường kiểm tra, hướng dẫn, bảo đảm mô hình mới thực sự đi vào chiều sâu, hoạt động hiệu quả\\nChính sách và cuộc sống\\n7 giờ trước\\n(Chinhphu.vn) - Bộ tư lệnh Quân khu 1 sẽ tăng cường kiểm tra, hướng dẫn, kịp thời tháo gỡ khó khăn cho cơ sở, bảo đảm việc tổ chức địa phương theo mô hình mới thực sự đi vào chiều sâu, ổn định, hiệu quả, đáp ứng yêu cầu nhiệm vụ trong tình hình mới.\\nLỊCH THI TỐT NGHIỆP THPT năm 2025\\nChính sách và cuộc sống\\n7 giờ trước\\n(Chinhphu.vn) - Theo quy định của Bộ GDĐT, Kỳ thi tốt nghiệp THPT năm 2025 được tổ chức vào các ngày 25, 26, 27, 28/6.\\nThủ tướng yêu cầu Bộ trưởng Bộ Xây dựng khẩn trương cắt giảm thủ tục hành chính, điều kiện kinh doanh\\nPhát triển kinh tế tư nhân và doanh nghiệp dân tộc\\n10 giờ trước\\n(Chinhphu.vn) - Thủ tướng Chính phủ yêu cầu Bộ trưởng Bộ Xây dựng khẩn trương rà soát, cắt giảm, đơn giản hóa 361 thủ tục hành chính liên quan đến hoạt động sản xuất, kinh doanh, 447 điều kiện kinh doanh thuộc lĩnh vực quản lý của Bộ Xây dựng.\\nKhẩn trương đề xuất nhân sự, hoàn thiện đề án thành lập các đơn vị sự nghiệp ở cấp xã; sắp xếp cơ quan thanh tra\\nChính sách và cuộc sống\\n11 giờ trước\\n(Chinhphu.vn) - Lãnh đạo tỉnh Thái Nguyên chỉ đạo khẩn trương hoàn thiện đề án thành lập các đơn vị sự nghiệp ở cấp xã; sắp xếp cơ quan thanh tra; thành lập chi nhánh Trung tâm Phát triển quỹ đất.\\nThủ tướng chỉ đạo đẩy mạnh liên kết tiêu thụ; không để tình trạng ùn tắc hàng hóa, nông sản tại cửa khẩu\\nPhát triển kinh tế tư nhân và doanh nghiệp dân tộc\\n12 giờ trước\\n(Chinhphu.vn) - Thủ tướng chỉ đạo đẩy mạnh liên kết người sản xuất với doanh nghiệp thu mua, tiêu thụ nông sản vào thời điểm thu hoạch rộ; không để tình trạng ùn tắc hàng hóa, nông sản tại cửa khẩu, giảm nguy cơ thiệt hại đối với người dân và doanh nghiệp.\\nHải Phòng: Thành lập Bộ phận Thường trực hướng dẫn, giải đáp các đề xuất, kiến nghị về sắp xếp bộ máy\\nChính sách và cuộc sống\\n13 giờ trước\\n(Chinhphu.vn) - Bộ phận Thường trực có nhiệm vụ tham mưu Ban Thường vụ Thành ủy Hải Phòng lãnh đạo, chỉ đạo, kịp thời giải quyết các khó khăn, vướng mắc, phát sinh trong quá trình sắp xếp tổ chức bộ máy, bảo đảm tổ chức chính quyền địa phương 02 cấp đi vào hoạt động thông suốt theo đúng tiến độ, chất lượng.\\nPhó Thủ tướng chỉ đạo kiểm tra việc chọn nhà thầu ở Bình Phước\\nPhát triển kinh tế tư nhân và doanh nghiệp dân tộc\\n14 giờ trước\\n(Chinhphu.vn) - Phó Thủ tướng Trần Hồng Hà yêu cầu thành lập ngay Tổ công tác liên Bộ Tài chính - Xây dựng tiến hành kiểm tra việc tổ chức lựa chọn nhà thầu đối với gói thầu Gói thầu xây dựng đường cao tốc thuộc Dự án đường bộ cao tốc TPHCM - Thủ Dầu Một - Chơn Thành (đoạn qua tỉnh Bình Phước).\\nĐề xuất quy định mới về TINH GIẢN BIÊN CHẾ\\nTham vấn chính sách\\n14 giờ trước\\n(Chinhphu.vn) - Bộ Nội vụ đang dự thảo Nghị định quy định về tinh giản biên chế thay thế Nghị định số 29/2023/NĐ-CP của Chính phủ về tinh giản biên chế.\\nBộ Nội vụ đề xuất chính sách hỗ trợ cán bộ không chuyên trách nghỉ việc do sắp xếp cấp xã\\nTham vấn chính sách\\n14 giờ trước\\n(Chinhphu.vn) - Bộ Nội vụ đang dự thảo Nghị định quy định về tinh giản biên chế thay thế Nghị định số 29/2023/NĐ-CP của Chính phủ về tinh giản biên chế trong đó đề xuất chính sách hỗ trợ cán bộ không chuyên trách cấp xã nghỉ việc do sắp xếp cấp xã.\\nTrình Chủ tịch nước tặng quà cho người có công nhân kỷ niệm 78 năm ngày Thương binh - Liệt sĩ\\nChính sách và cuộc sống\\n14 giờ trước\\n(Chinhphu.vn) - Ủy quyền Bộ trưởng Bộ Nội vụ trình Chủ tịch nước về việc tặng quà cho người có công với cách mạng nhân dịp kỷ niệm 78 năm ngày Thương binh - Liệt sĩ (27/7/1947 - 27/7/2025).\\nQuốc hội thông qua Nghị quyết thí điểm cơ chế, chính sách đặc thù phát triển nhà ở xã hội\\nPhát triển kinh tế tư nhân và doanh nghiệp dân tộc\\n14 giờ trước\\n(Chinhphu.vn) - Quốc hội biểu quyết thông qua Nghị quyết của Quốc hội về thí điểm một số cơ chế, chính sách đặc thù phát triển nhà ở xã hội.\\nXem thêm\\nChính sách mới\\nTham vấn chính sách\\nTọa đàm về chính sách\\nChính sách và cuộc sống\\nHướng dẫn thực hiện chính sách\\nPhát triển kinh tế tư nhân và doanh nghiệp dân tộc\\nLấy ý kiến nhân dân dự thảo VBQPPL\\n© BÁO ĐIỆN TỬ CHÍNH PHỦ\\nTổng Biên tập:\\nNguyễn Hồng Sâm\\nTheo dõi trên:\\nGiấy phép số: 19/GP-CBC, cấp ngày 10/5/2024.\\nTrụ sở: 16 Lê Hồng Phong - Ba Đình - Hà Nội.\\nĐiện thoại: 080 43162; Fax: 080.48924;\\nEmail: thongtinchinhphu@chinhphu.vn.\\nBản quyền thuộc Báo Điện tử Chính phủ - Cổng Thông tin điện tử Chính phủ.\\nGhi rõ nguồn \"Báo Điện tử Chính phủ\", \"Cổng Thông tin điện tử Chính phủ\", hoặc www.baochinhphu.vn, www.chinhphu.vn khi phát hành lại thông tin từ các nguồn này.', 'Cổng Dịch vụ công Bộ Công an\\nCỔNG DỊCH VỤ CÔNG\\nBỘ CÔNG AN\\nTổng đài trực tuyến: 02383 561 999\\nTiếng Việt\\nEnglish\\nĐăng nhập\\n|\\nĐăng ký\\nGiới thiệu\\nThủ tục hành chính\\nNộp hồ sơ trực tuyến\\nTra cứu hồ sơ\\nPhản ánh - Kiến nghị\\nĐánh giá\\nThống kê\\nHỗ trợ\\nThanh toán trực tuyến\\nHướng dẫn sử dụng\\nCâu hỏi thường gặp\\nHỏi đáp\\nKhảo sát ý kiến\\nTra cứu câu hỏi\\nSố điện thoại hướng dẫn giải quyết TTHC\\nTiếng Việt\\nEnglish\\nĐăng nhập\\nĐăng ký\\nTrang chủ\\nCấp thẻ căn cước cho người dưới 14 tuổi (thực hiện tại cấp trung ương)\\nLĨNH VỰC TTHC\\nNhập từ khóa tìm kiếm\\nChọn lĩnh vực thủ tục hành chính\\n--- Chọn lĩnh vực ---\\nLý lịch tư pháp\\nSát hạch, cấp giấy phép lái xe\\nĐảm bảo an ninh hàng không\\nĐảm bảo an toàn thông tin, an ninh mạng\\nTổ chức cai nghiên ma túy và quản lý sau cai nghiện\\nĐăng ký, quản lý phương tiện giao thông cơ giới đường bộ\\nQuản lý xuất nhập cảnh\\nBảo vệ dữ liệu cá nhân\\nPhòng cháy chữa cháy\\nĐăng ký, quản lý cư trú\\nCấp, quản lý căn cước\\nQuản lý ngành nghề kinh doanh có điều kiện\\nĐăng ký, quản lý con dấu\\nQuản lý vũ khí, vật liệu nổ,  công cụ hỗ trợ và pháo\\nChính sách\\nTổ chức cán bộ\\nKhiếu nại, tố cáo\\nĐịnh danh và xác thực điện tử\\nNộp phạt vi phạm hành chính trong lĩnh vực giao thông\\nKiểm tra kiến thức pháp luật về trật tự, an toàn giao thông đường bộ\\n×\\n--- Chọn lĩnh vực ---\\nChọn mức độ dịch vụ công\\n--- Chọn mức độ dịch vụ công ---\\nDịch vụ cung cấp thông tin trực tuyến\\nDVCTT Một phần\\nDVCTT Toàn trình\\n-->\\n-->\\nChọn đối tượng thực hiện\\n--- Chọn đối tượng thực hiện ---\\nCá nhân\\nTổ chức\\n×\\n--- Chọn đối tượng thực hiện ---\\nChọn cơ quan thực hiện\\n--- Chọn cơ quan thực hiện ---\\nCấp bộ\\nCấp tỉnh\\nCấp xã\\n×\\n--- Chọn cơ quan thực hiện ---\\nCơ quan thực hiện\\n--- Chọn cơ quan thực hiện ---\\nCục Quản lý xuất nhập cảnh\\nCục Cảnh sát Phòng cháy chữa cháy và Cứu nạn cứu hộ\\nCục Cảnh sát giao thông\\nCục Tổ chức Cán bộ\\nThanh tra Bộ Công an\\nCục An ninh mạng và phòng chống tội phạm sử dụng công nghệ cao\\nCục Cảnh sát quản lý hành chính về trật tự xã hội\\nCục Cảnh sát điều tra tội phạm về ma túy\\nCục Hồ sơ nghiệp vụ\\nVăn phòng Bộ Công an\\n×\\n--- Chọn cơ quan thực hiện ---\\nChọn tỉnh/thành phố\\n--- Chọn tỉnh/thành phố ---\\nCông An Tỉnh Nghệ An\\nCông an Thành phố Cần Thơ\\nCông an Thành phố Huế\\nCông an Thành phố Hà Nội\\nCông an Thành phố Hải Phòng\\nCông an Thành phố Hồ Chí Minh\\nCông an Thành phố Đà Nẵng\\nCông an tỉnh An Giang\\nCông an tỉnh Bà Rịa-Vũng Tàu\\nCông an tỉnh Bình Dương\\nCông an tỉnh Bình Phước\\nCông an tỉnh Bình Thuận\\nCông an tỉnh Bình Định\\nCông an tỉnh Bạc Liêu\\nCông an tỉnh Bắc Giang\\nCông an tỉnh Bắc Kạn\\nCông an tỉnh Bắc Ninh\\nCông an tỉnh Bến Tre\\nCông an tỉnh Cao Bằng\\nCông an tỉnh Cà Mau\\nCông an tỉnh Gia Lai\\nCông an tỉnh Hà Giang\\nCông an tỉnh Hà Nam\\nCông an tỉnh Hà Tĩnh\\nCông an tỉnh Hòa Bình\\nCông an tỉnh Hưng Yên\\nCông an tỉnh Hải Dương\\nCông an tỉnh Hậu Giang\\nCông an tỉnh Khánh Hòa\\nCông an tỉnh Kiên Giang\\nCông an tỉnh Kon Tum\\nCông an tỉnh Lai Châu\\nCông an tỉnh Long An\\nCông an tỉnh Lào Cai\\nCông an tỉnh Lâm Đồng\\nCông an tỉnh Lạng Sơn\\nCông an tỉnh Nam Định\\nCông an tỉnh Ninh Bình\\nCông an tỉnh Ninh Thuận\\nCông an tỉnh Phú Thọ\\nCông an tỉnh Phú Yên\\nCông an tỉnh Quảng Bình\\nCông an tỉnh Quảng Nam\\nCông an tỉnh Quảng Ngãi\\nCông an tỉnh Quảng Ninh\\nCông an tỉnh Quảng Trị\\nCông an tỉnh Sóc Trăng\\nCông an tỉnh Sơn La\\nCông an tỉnh Thanh Hóa\\nCông an tỉnh Thái Bình\\nCông an tỉnh Thái Nguyên\\nCông an tỉnh Tiền Giang\\nCông an tỉnh Trà Vinh\\nCông an tỉnh Tuyên Quang\\nCông an tỉnh Tây Ninh\\nCông an tỉnh Vĩnh Long\\nCông an tỉnh Vĩnh Phúc\\nCông an tỉnh Yên Bái\\nCông an tỉnh Điện Biên\\nCông an tỉnh Đắk Lắk\\nCông an tỉnh Đắk Nông\\nCông an tỉnh Đồng Nai\\nCông an tỉnh Đồng Tháp\\n×\\n--- Chọn tỉnh/thành phố ---\\nChọn quận/huyện\\n--- Chọn quận/huyện ---\\n×\\n--- Chọn quận/huyện ---\\nChọn phường/xã\\n--- Chọn phường/xã ---\\n×\\n--- Chọn phường/xã ---\\nTìm kiếm\\nCấp thẻ căn cước cho người dưới 14 tuổi (thực hiện tại cấp trung ương)\\nNộp hồ sơ\\nĐăng nhập tài khoản khai báo tạm trú\\nTên đăng nhập\\nMật khẩu\\nTỉnh thành\\nĐăng ký tài khoản\\nĐóng\\nĐăng nhập\\nLưu ý khi nộp hồ sơ cấp hộ chiếu lần đầu\\ntại Cục QL Xuất nhập cảnh - Bộ Công an\\nKính gửi ông/bà, nộp hồ sơ cấp hộ chiếu lần đầu tại Cục QL Xuất nhập cảnh - Bộ công an chỉ áp dụng với đối tượng quy định tại Khoản 4 Điều 15 Luật Xuất cảnh, nhập cảnh của công dân Việt Nam. Cụ thể được áp dụng cho các đối tượng sau:\\na) Có giấy giới thiệu hoặc đề nghị của bệnh viện về việc ra nước ngoài để khám bệnh, chữa bệnh;\\nb) Có căn cứ xác định thân nhân ở nước ngoài bị tai nạn, bệnh tật, bị chết;\\nc) Có văn bản đề nghị của cơ quan trực tiếp quản lý đối với cán bộ, công chức, viên chức, sĩ quan, hạ sĩ quan, quân nhân chuyên nghiệp, công nhân, viên chức trong lực lượng vũ trang, người làm việc trong tổ chức cơ yếu;\\nd) Vì lý do nhân đạo, khẩn cấp khác do người đứng đầu Cơ quan Quản lý xuất nhập cảnh Bộ Công an quyết định.\\nNếu ông/bà không thuộc các đối tượng trên, vui lòng nộp hồ sơ cho Phòng QL Xuất nhập cảnh tại địa phương, nơi ông/bà thường trú\\ntại đây\\nĐóng\\nNộp hồ sơ\\nThông báo\\nTài khoản của bạn không được phép nộp thủ tục này\\nĐóng\\nHướng dẫn khai\\n- Người đề nghị cấp thị thực điện tử phải khai, trả lời đầy đủ, chính xác, trung thực các thông tin có thật bằng tiếng Anh đối với các câu hỏi trong mẫu này.\\n- Với các câu hỏi có nhiều lựa chọn, người đề nghị cấp thị thực điện tử cần đánh dấu √ vào các ô □ có nội dung phù hợp.\\n- Trường hợp người đề nghị cấp thị thực điện tử lựa chọn câu trả lời là “khác” thì phải khai nội dung cụ thể.\\n- Trường hợp Cơ quan Quản lý xuất nhập cảnh Việt Nam phát hiện người nước ngoài khai không đúng sự thật, sẽ từ chối cấp thị thực điện tử.\\n- Thị thực điện tử cấp cho người nước ngoài đang ở nước ngoài có nhu cầu nhập cảnh Việt Nam (không cấp cho người nước ngoài đang tạm trú tại Việt Nam).\\n- Thị thực điện tử chỉ sử dụng để nhập cảnh, xuất cảnh qua các cửa khẩu thuộc danh sách được Chính phủ Việt Nam cho phép\\n(danh sách các cửa khẩu)\\n.\\n- Người nước ngoài thuộc diện quy định tại\\nkhoản 1, 2, 3 và 4 Điều 8\\ncủa Luật Nhập cảnh, xuất cảnh, quá cảnh, cư trú của người nước ngoài tại Việt Nam không làm thủ tục đề nghị cấp thị thực điện tử mà thông qua cơ quan, tổ chức mời, bảo lãnh gửi văn bản đề nghị cấp thị thực tại cơ quan có thẩm quyền của Bộ Ngoại giao.\\nĐóng\\nĐã đọc, hiểu và Nộp hồ sơ\\nMã thủ tục\\n1.012543\\nLĩnh vực\\nCấp, quản lý căn cước\\nCơ quan thực hiện\\nCục cảnh sát quản lý hành chính về trật tự, xã hội\\nMức độ cung cấp dịch vụ công trực tuyến\\nDịch vụ công trực tuyến một phần\\nCách thức thực hiện\\nTrực tiếp\\nTrực tuyến\\nTrình tự thực hiện\\n- Bước 1:\\n+ Trường hợp người đại diện hợp pháp thực hiện thủ tục cấp thẻ căn cước cho người dưới 06 tuổi thông qua cổng dịch vụ công hoặc ứng dụng định danh quốc gia thì lựa chọn thủ tục, kiểm tra thông tin của người dưới 06 tuổi trong Cơ sở dữ liệu quốc gia về dân cư. Trường hợp thông tin chính xác thì người đại diện hợp pháp xác nhận chuyển hồ sơ đề nghị đến cơ quan quản lý căn cước của Bộ Công an xem xét, giải quyết việc cấp thẻ căn cước.\\n+ Trường hợp thực hiện trực tiếp tại cơ quan quản lý căn cước của Bộ Công an, người đại diện hợp pháp đưa người dưới 14 tuổi đến địa điểm làm thủ tục cấp thẻ căn cước.\\n- Bước 2: Cán bộ thu nhận thông tin công dân tìm kiếm thông tin trong Cơ sở dữ liệu quốc gia về dân cư để lập hồ sơ cấp thẻ căn cước.\\n+ Trường hợp thông tin công dân chưa có trong Cơ sở dữ liệu quốc gia về dân cư, Cán bộ thu nhận hướng dẫn công dân thực hiện việc thu thập, cập nhật thông tin vào Cơ sở dữ liệu quốc gia về dân cư trước khi thực hiện thủ tục cấp thẻ căn cước.\\n+ Trường hợp thông tin công dân có sự thay đổi, điều chỉnh thì Cán bộ thu nhận hướng dẫn công dân thực hiện thủ tục điều chỉnh thông tin trong Cơ sở dữ liệu quốc gia về dân cư trước khi thực hiện thủ tục cấp thẻ căn cước\\n+ Trường hợp thông tin công dân đầy đủ, chính xác thì sử dụng thông tin của công dân trong cơ sở dữ liệu quốc gia về dân cư để lập hồ sơ cấp thẻ căn cước.\\n+ Trường hợp công dân không đủ điều kiện cấp thẻ căn cước thì từ chối tiếp nhận và nêu rõ lý do, thông báo về việc từ chối giải quyết thủ tục về căn cước (mẫu CC03 ban hành kèm theo Thông tư số 17/2024/TT-BCA ngày 15/5/2024).\\n- Bước 3: Tiến hành thu nhận vân tay, chụp ảnh khuôn mặt và thu nhận ảnh mống mắt của người từ đủ 06 tuổi đến dưới 14 tuổi.\\n- Bước 4: In Phiếu thu nhận thông tin căn cước chuyển để người đại diện hợp pháp kiểm tra, ký xác nhận;\\n- Bước 5: Thu lệ phí (nếu có) và cấp giấy hẹn trả kết quả giải quyết thủ tục về căn cước (mẫu CC02 ban hành kèm theo Thông tư số 17/2024/TT-BCA ngày 15/5/2024 của Bộ Công an).\\nBước 6: Nhận kết quả trực tiếp tại cơ quan quản lý căn cước của Bộ Công an hoặc trả qua dịch vụ bưu chính đến địa chỉ theo yêu cầu.\\nThời hạn giải quyết\\nTrực tiếp\\n07 Ngày làm việc\\n- Trực tiếp tại cơ quan quản lý căn cước của Bộ Công an (Trung tâm dữ liệu quốc gia về dân cư, Cục Cảnh sát quản lý hành chính về trật tự xã hội, Bộ Công an).\\n- Cấp lưu động tại tại xã, phường, thị trấn, cơ quan, đơn vị hoặc tại chỗ ở của công dân trong trường hợp cần thiết.\\n- Thời gian tiếp nhận hồ sơ: Giờ hành chính các ngày làm việc từ thứ 2 đến thứ 6 hàng tuần (trừ các ngày nghỉ lễ, tết theo quy định của pháp luật).\\nTrực tuyến\\n07 Ngày làm việc\\n- Nộp hồ sơ trực tuyến thông qua cổng dịch vụ công hoặc ứng dụng định danh quốc gia đối với trường hợp cấp thẻ căn cước cho người dưới 06 tuổi.\\n- Thời gian tiếp nhận hồ sơ: Giờ hành chính các ngày làm việc từ thứ 2 đến thứ 6 hàng tuần (trừ các ngày nghỉ lễ, tết theo quy định của pháp luật).\\nPhí\\nTrực tiếp\\nTrực tuyến\\n07 Ngày làm việcChưa quy định.\\nLệ Phí\\nKhông\\nThành phần hồ sơ\\nTên giấy tờ\\nMẫu đơn, tờ khai\\nSố lượng\\nGiấy tờ, tài liệu có giá trị pháp lý chứng minh là người đại diện hợp pháp của người dưới 14 tuổi\\nBản chính: 1\\nBản sao: 0\\nCông dân kê khai khi nộp hồ sơ trực tuyến thông qua cổng dịch vụ công hoặc ứng dụng định danh quốc gia đối với trường hợp cấp thẻ căn cước cho người dưới 06 tuổi.\\nTên giấy tờ\\nMẫu đơn, tờ khai\\nSố lượng\\nPhiếu đề nghị giải quyết thủ tục về căn cước (Mẫu DC02 ban hành kèm theo Thông tư số 17/2024/TT-BCA của Bộ Công an)\\nMẫu DC02 Phiếu đề nghị giải quyết thủ tục về căn cước.doc\\nBản chính: 1\\nBản sao: 0\\nPhiếu được tạo lập khi trích xuất thông tin của công dân trong Cơ sở dữ liệu quốc gia về dân cư và in trong quá trình thu nhận hồ sơ căn cước để công dân kiểm tra và ký xác nhận.\\nTên giấy tờ\\nMẫu đơn, tờ khai\\nSố lượng\\nPhiếu thu nhận thông tin căn cước (Mẫu CC01 ban hành kèm theo Thông tư số 17/2024/TT-BCA của Bộ Công an)\\nMẫu CC01 Phiếu thu nhận thông tin căn cước.doc\\nBản chính: 1\\nBản sao: 0\\nYêu cầu - điều kiện\\nKhông.\\nCăn cứ pháp lý\\nLuật Căn cước\\nSố: 26/2023/QH15\\nThông tư quy định chi tiết một số điều và biện pháp thi hành Luật Căn cước\\nSố: 17/2024/TT-BCA\\nNghị định của Chính phủ: Quy định chi tiết một số điều và biện pháp thi hành Luật Căn cước\\nSố: 70/2024/NĐ-CP\\nThông tư 16/2024/TT-BCA quy định về mẫu thẻ căn cước, mẫu giấy chứng nhận căn cước\\nSố: 16/2024/TT-BCA\\nThông tư quy định quy định về quy trình cấp, cấp đổi, cấp lại thẻ căn cước, giấy chứng nhận căn cước\\nSố: 18/2024/TT-BCA\\nBiểu mẫu\\nKết quả thực hiện\\nThẻ căn cước\\nCỔNG DỊCH VỤ CÔNG - BỘ CÔNG AN\\n.\\nĐịa chỉ: 30 Trần Bình Trọng - Nguyễn Du - Hai Bà Trưng - Hà Nội\\nEmail: vanphongbo@mps.gov.vn\\nHỗ trợ\\n.\\nĐịa chỉ: 30 Trần Bình Trọng - Nguyễn Du - Hai Bà Trưng - Hà Nội\\nEmail: vanphongbo@mps.gov.vn\\nHỗ trợ\\nCơ quan chủ quản: BỘ CÔNG AN\\nKhi sử dụng lại thông tin, đề nghị ghi rõ nguồn \"Cổng Dịch vụ công - Bộ Công an\"\\nCơ quan chủ quản: BỘ CÔNG AN\\nKhi sử dụng lại thông tin, đề nghị ghi rõ nguồn \"Cổng Dịch vụ công - Bộ Công an\"\\nĐã kết nối EMC\\nTrực thuộc BTTTT', '[Empty Content]']\n"
     ]
    }
   ],
   "source": [
    "print(result_docs)"
   ]
  },
  {
   "cell_type": "code",
   "execution_count": 8,
   "id": "7b24a31f",
   "metadata": {},
   "outputs": [
    {
     "name": "stdout",
     "output_type": "stream",
     "text": [
      "5\n"
     ]
    }
   ],
   "source": [
    "print(len(result_docs))"
   ]
  },
  {
   "cell_type": "markdown",
   "id": "44dfab51",
   "metadata": {},
   "source": [
    "> Đưa qua Bert "
   ]
  },
  {
   "cell_type": "markdown",
   "id": "f5ad045b",
   "metadata": {},
   "source": [
    "> tạo model bert và truyền vào để lấy hàm extract thông tin"
   ]
  },
  {
   "cell_type": "code",
   "execution_count": null,
   "id": "5af11e91",
   "metadata": {},
   "outputs": [],
   "source": [
    "bert_model=Bert_Extract(setting)\n",
    "bert_utils=Extract_Information(bert_model)"
   ]
  },
  {
   "cell_type": "markdown",
   "id": "937d1c0a",
   "metadata": {},
   "source": [
    "> trả ra dưới dạng  {key:value} ở đây key là thứ tự document,value là text sau khi được rút"
   ]
  },
  {
   "cell_type": "code",
   "execution_count": null,
   "id": "38f33eb5",
   "metadata": {},
   "outputs": [],
   "source": [
    "result_reduce=bert_utils.predict(result_docs,query)"
   ]
  },
  {
   "cell_type": "code",
   "execution_count": null,
   "id": "50c10e15",
   "metadata": {},
   "outputs": [],
   "source": [
    "print(result_reduce)"
   ]
  },
  {
   "cell_type": "markdown",
   "id": "8b16f5d5",
   "metadata": {},
   "source": [
    "> truyền ngữ cảnh đã trích xuất vào gemini"
   ]
  },
  {
   "cell_type": "code",
   "execution_count": null,
   "id": "33b0248f",
   "metadata": {},
   "outputs": [],
   "source": [
    "gemini=Gemini(setting)\n",
    "gemini_func=Gemini_Generate(gemini,setting)"
   ]
  },
  {
   "cell_type": "code",
   "execution_count": null,
   "id": "7f4a33a1",
   "metadata": {},
   "outputs": [],
   "source": [
    "result_final=gemini_func.generate_response(query,result_reduce)"
   ]
  },
  {
   "cell_type": "code",
   "execution_count": null,
   "id": "c54b0902",
   "metadata": {},
   "outputs": [],
   "source": [
    "print(result_final)"
   ]
  },
  {
   "cell_type": "markdown",
   "id": "0f7532e1",
   "metadata": {},
   "source": [
    "> gọi 3 hàm này để xử lý"
   ]
  },
  {
   "cell_type": "code",
   "execution_count": null,
   "id": "b9bf5c70",
   "metadata": {},
   "outputs": [],
   "source": [
    "answer_result= clean_code_fence_safe(result_final)\n",
    "answer_result= fix_json_string(answer_result)\n",
    "answer_result= json.loads(answer_result)"
   ]
  },
  {
   "cell_type": "code",
   "execution_count": null,
   "id": "7f1f2135",
   "metadata": {},
   "outputs": [],
   "source": [
    "print(answer_result)"
   ]
  },
  {
   "cell_type": "code",
   "execution_count": null,
   "id": "16ab5f37",
   "metadata": {},
   "outputs": [],
   "source": [
    "print(answer_result['answer'])"
   ]
  },
  {
   "cell_type": "markdown",
   "id": "6c220e2f",
   "metadata": {},
   "source": [
    "> key này mapping qua link để sắp xếp thứ tự theo cái này , key này nó lấy link 1 nên mapping qua cái list link ban đầu để lấy đường link, rồi hiển thị ưu tiên đầu tiên.Gemini đâu vào là 5 link nhưng việc nó chọn link nào là do bản thân nó.Nói chung tui viết oke hết rồi ô xử lý logic đoạn FE với BE xíu "
   ]
  },
  {
   "cell_type": "code",
   "execution_count": null,
   "id": "2402f1d0",
   "metadata": {},
   "outputs": [],
   "source": [
    "print(answer_result['key'])"
   ]
  },
  {
   "cell_type": "code",
   "execution_count": 1,
   "id": "86d6b6ae",
   "metadata": {},
   "outputs": [
    {
     "name": "stdout",
     "output_type": "stream",
     "text": [
      "hghaan/rerank_model\n"
     ]
    }
   ],
   "source": [
    "import sys\n",
    "project_path = r\"D:/DaiHoc/machinelearning/TLCN/DoAnTotNghiep_chat_bot/\"\n",
    "sys.path.append(project_path)\n",
    "from source.function.utils_result import RAG\n",
    "from source.search.utils_search import Qdrant_Utils\n",
    "from source.rerank.utils_rerank import Rerank_Utils  \n",
    "from source.model.embedding_model import Sentences_Transformer_Embedding\n",
    "from source.model.extract_model import Bert_Extract\n",
    "from source.model.generate_model import Gemini\n",
    "from source.model.rerank_model import Cohere\n",
    "from source.data.vectordb.qdrant import Qdrant_Vector\n",
    "from source.core.config import Settings\n",
    "from source.model.rerank_model_finetune import RerankModelFinetune\n",
    "from source.generate.generate import Gemini_Generate\n",
    "from source.extract.utils_extract import Extract_Information\n",
    "from rouge_score import rouge_scorer\n",
    "from sklearn.metrics import f1_score\n",
    "import cohere\n",
    "import numpy as np\n",
    "import pandas as pd\n",
    "from tqdm import tqdm\n",
    "setting=Settings()\n",
    "gemini=Gemini(setting)\n",
    "print(setting.RERANK)\n",
    "cohere_api=Cohere(setting)\n",
    "bert=Bert_Extract(setting)\n",
    "rerank_model_fintuned=RerankModelFinetune(setting)\n",
    "sentences_transformer_embedding=Sentences_Transformer_Embedding(setting)\n",
    "qdrant=Qdrant_Vector(setting,sentences_transformer_embedding)\n",
    "rerank_Utils=Rerank_Utils(cohere_api,rerank_model_fintuned)\n",
    "extract_Utils= Extract_Information(bert)\n",
    "generate_Utils=Gemini_Generate(gemini,setting)\n",
    "qdrant_Utils=Qdrant_Utils(qdrant, generate_Utils)\n",
    "rag=RAG(generate_Utils,extract_Utils,qdrant_Utils,rerank_Utils,setting,sentences_transformer_embedding)\n",
    "import pandas as pd\n",
    "from tqdm import tqdm\n",
    "import google.generativeai as genai \n",
    "from sklearn.metrics.pairwise import cosine_similarity\n",
    "import os\n",
    "from source.tool.utils_search import Utils_Search_Tools\n",
    "from source.tool.google_search import GoogleSearchTool"
   ]
  },
  {
   "cell_type": "code",
   "execution_count": 2,
   "id": "24448aa1",
   "metadata": {},
   "outputs": [],
   "source": [
    "# Khởi tạo các tools cần thiết cho web search\n",
    "google_search_tools = GoogleSearchTool(setting)\n",
    "search_tools = Utils_Search_Tools(setting, generate_Utils, extract_Utils, google_search_tools)"
   ]
  },
  {
   "cell_type": "code",
   "execution_count": 4,
   "id": "5f61b9c9",
   "metadata": {},
   "outputs": [
    {
     "name": "stderr",
     "output_type": "stream",
     "text": [
      "c:\\Users\\hdang\\.virtualenvs\\TLCN-KU7o-pax\\Lib\\site-packages\\urllib3\\connectionpool.py:1097: InsecureRequestWarning: Unverified HTTPS request is being made to host 'luatsudian.com'. Adding certificate verification is strongly advised. See: https://urllib3.readthedocs.io/en/latest/advanced-usage.html#tls-warnings\n",
      "  warnings.warn(\n",
      "c:\\Users\\hdang\\.virtualenvs\\TLCN-KU7o-pax\\Lib\\site-packages\\urllib3\\connectionpool.py:1097: InsecureRequestWarning: Unverified HTTPS request is being made to host 'thuvienphapluat.vn'. Adding certificate verification is strongly advised. See: https://urllib3.readthedocs.io/en/latest/advanced-usage.html#tls-warnings\n",
      "  warnings.warn(\n",
      "c:\\Users\\hdang\\.virtualenvs\\TLCN-KU7o-pax\\Lib\\site-packages\\urllib3\\connectionpool.py:1097: InsecureRequestWarning: Unverified HTTPS request is being made to host 'thuvienphapluat.vn'. Adding certificate verification is strongly advised. See: https://urllib3.readthedocs.io/en/latest/advanced-usage.html#tls-warnings\n",
      "  warnings.warn(\n",
      "c:\\Users\\hdang\\.virtualenvs\\TLCN-KU7o-pax\\Lib\\site-packages\\urllib3\\connectionpool.py:1097: InsecureRequestWarning: Unverified HTTPS request is being made to host 'hoaithanh-hoainhon.binhdinh.gov.vn'. Adding certificate verification is strongly advised. See: https://urllib3.readthedocs.io/en/latest/advanced-usage.html#tls-warnings\n",
      "  warnings.warn(\n",
      "c:\\Users\\hdang\\.virtualenvs\\TLCN-KU7o-pax\\Lib\\site-packages\\urllib3\\connectionpool.py:1097: InsecureRequestWarning: Unverified HTTPS request is being made to host 'plo.vn'. Adding certificate verification is strongly advised. See: https://urllib3.readthedocs.io/en/latest/advanced-usage.html#tls-warnings\n",
      "  warnings.warn(\n",
      "c:\\Users\\hdang\\.virtualenvs\\TLCN-KU7o-pax\\Lib\\site-packages\\urllib3\\connectionpool.py:1097: InsecureRequestWarning: Unverified HTTPS request is being made to host 'thuvienphapluat.vn'. Adding certificate verification is strongly advised. See: https://urllib3.readthedocs.io/en/latest/advanced-usage.html#tls-warnings\n",
      "  warnings.warn(\n"
     ]
    }
   ],
   "source": [
    "text=search_tools.Search_Docs_From_Tools(query=\"Bao nhiêu tuổi được phép đăng kí kết hôn ?\")"
   ]
  },
  {
   "cell_type": "code",
   "execution_count": 7,
   "id": "7a76ceef",
   "metadata": {},
   "outputs": [
    {
     "name": "stdout",
     "output_type": "stream",
     "text": [
      "('Độ tuổi được phép đăng ký kết hôn được quy định như sau:\\\\n\\\\n*   Nam giới phải từ 20 tuổi trở lên.\\\\n*   Nữ giới phải từ 18 tuổi trở lên.\\\\n\\\\nĐộ tuổi này được tính dựa trên ngày, tháng và năm sinh.\\\\n\\\\nVậy, nam từ 20 tuổi và nữ từ 18 tuổi trở lên được phép đăng ký kết hôn.', ['https://luatsudian.com/do-tuoi-dang-ky-ket-hon.html', 'https://thuvienphapluat.vn/chinh-sach-phap-luat-moi/vn/ho-tro-phap-luat/tu-van-phap-luat/61514/huong-dan-xac-dinh-do-tuoi-dang-ky-ket-hon-cua-nam-va-nu-moi-nhat'])\n"
     ]
    }
   ],
   "source": [
    "print(text)"
   ]
  },
  {
   "cell_type": "code",
   "execution_count": null,
   "id": "a3b9b4ff",
   "metadata": {},
   "outputs": [],
   "source": []
  }
 ],
 "metadata": {
  "kernelspec": {
   "display_name": "TLCN-KU7o-pax",
   "language": "python",
   "name": "python3"
  },
  "language_info": {
   "codemirror_mode": {
    "name": "ipython",
    "version": 3
   },
   "file_extension": ".py",
   "mimetype": "text/x-python",
   "name": "python",
   "nbconvert_exporter": "python",
   "pygments_lexer": "ipython3",
   "version": "3.11.5"
  }
 },
 "nbformat": 4,
 "nbformat_minor": 5
}
