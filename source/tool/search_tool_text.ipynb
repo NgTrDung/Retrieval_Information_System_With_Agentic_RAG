{
 "cells": [
  {
   "cell_type": "code",
   "execution_count": null,
   "id": "68d8fc2f",
   "metadata": {},
   "outputs": [
    {
     "name": "stderr",
     "output_type": "stream",
     "text": [
      "c:\\Users\\hdang\\.virtualenvs\\TLCN-KU7o-pax\\Lib\\site-packages\\tqdm\\auto.py:21: TqdmWarning: IProgress not found. Please update jupyter and ipywidgets. See https://ipywidgets.readthedocs.io/en/stable/user_install.html\n",
      "  from .autonotebook import tqdm as notebook_tqdm\n"
     ]
    }
   ],
   "source": [
    "import sys\n",
    "project_path = r\"D:/DaiHoc/machinelearning/TLCN/DoAnTotNghiep_chat_bot/\"\n",
    "sys.path.append(project_path)\n",
    "import json \n",
    "from source.function.utils_shared import clean_code_fence_safe,fix_json_string\n",
    "from source.model.extract_model import Bert_Extract\n",
    "from source.model.generate_model import Gemini\n",
    "from source.extract.utils_extract import Extract_Information\n",
    "from source.core.config import Settings\n",
    "from source.generate.generate import Gemini_Generate\n",
    "from source.tool.google_search import GoogleSearchTool\n",
    "from source.core.config import Settings"
   ]
  },
  {
   "cell_type": "code",
   "execution_count": 2,
   "id": "29723987",
   "metadata": {},
   "outputs": [],
   "source": [
    "query=\"bao nhiêu tuổi được phép đăng kí kết hôn ?\""
   ]
  },
  {
   "cell_type": "code",
   "execution_count": null,
   "id": "824b8932",
   "metadata": {},
   "outputs": [],
   "source": [
    "setting=Settings()"
   ]
  },
  {
   "cell_type": "code",
   "execution_count": 4,
   "id": "55396ff7",
   "metadata": {},
   "outputs": [],
   "source": [
    "google_search_tools=GoogleSearchTool(setting)"
   ]
  },
  {
   "cell_type": "code",
   "execution_count": 5,
   "id": "4946a65a",
   "metadata": {},
   "outputs": [],
   "source": [
    "result_link=google_search_tools.search(query)"
   ]
  },
  {
   "cell_type": "markdown",
   "id": "bf46c536",
   "metadata": {},
   "source": [
    "> list các đường link  -> 5 link"
   ]
  },
  {
   "cell_type": "code",
   "execution_count": 6,
   "id": "52f87eb8",
   "metadata": {},
   "outputs": [
    {
     "name": "stdout",
     "output_type": "stream",
     "text": [
      "['https://luatsudian.com/do-tuoi-dang-ky-ket-hon.html', 'https://thuvienphapluat.vn/phap-luat/bao-nhieu-tuoi-thi-het-duoc-dang-ky-ket-hon-nhung-hanh-vi-nao-bi-cam-de-bao-ve-hon-nhan-gia-dinh-806660-164967.html', 'https://hoaithanh-hoainhon.binhdinh.gov.vn/tim-hieu-kien-thuc-phap-luat/luat-hon-nhan-va-gia-dinh2/do-tuoi-ket-hon-theo-quy-dinh-cua-phap-luat-la-bao-nhieu-.html', 'https://thuvienphapluat.vn/chinh-sach-phap-luat-moi/vn/ho-tro-phap-luat/tu-van-phap-luat/61514/huong-dan-xac-dinh-do-tuoi-dang-ky-ket-hon-cua-nam-va-nu-moi-nhat', 'https://plo.vn/16-tuoi-mang-thai-co-dang-ky-ket-hon-duoc-khong-post761656.html']\n"
     ]
    }
   ],
   "source": [
    "print(result_link)"
   ]
  },
  {
   "cell_type": "markdown",
   "id": "70704c84",
   "metadata": {},
   "source": [
    "> list các nội dung trang web (5 nội dung)"
   ]
  },
  {
   "cell_type": "code",
   "execution_count": 7,
   "id": "49b31aa9",
   "metadata": {},
   "outputs": [
    {
     "name": "stderr",
     "output_type": "stream",
     "text": [
      "c:\\Users\\hdang\\.virtualenvs\\TLCN-KU7o-pax\\Lib\\site-packages\\urllib3\\connectionpool.py:1103: InsecureRequestWarning: Unverified HTTPS request is being made to host 'luatsudian.com'. Adding certificate verification is strongly advised. See: https://urllib3.readthedocs.io/en/latest/advanced-usage.html#tls-warnings\n",
      "  warnings.warn(\n",
      "c:\\Users\\hdang\\.virtualenvs\\TLCN-KU7o-pax\\Lib\\site-packages\\urllib3\\connectionpool.py:1103: InsecureRequestWarning: Unverified HTTPS request is being made to host 'thuvienphapluat.vn'. Adding certificate verification is strongly advised. See: https://urllib3.readthedocs.io/en/latest/advanced-usage.html#tls-warnings\n",
      "  warnings.warn(\n",
      "c:\\Users\\hdang\\.virtualenvs\\TLCN-KU7o-pax\\Lib\\site-packages\\urllib3\\connectionpool.py:1103: InsecureRequestWarning: Unverified HTTPS request is being made to host 'thuvienphapluat.vn'. Adding certificate verification is strongly advised. See: https://urllib3.readthedocs.io/en/latest/advanced-usage.html#tls-warnings\n",
      "  warnings.warn(\n",
      "c:\\Users\\hdang\\.virtualenvs\\TLCN-KU7o-pax\\Lib\\site-packages\\urllib3\\connectionpool.py:1103: InsecureRequestWarning: Unverified HTTPS request is being made to host 'hoaithanh-hoainhon.binhdinh.gov.vn'. Adding certificate verification is strongly advised. See: https://urllib3.readthedocs.io/en/latest/advanced-usage.html#tls-warnings\n",
      "  warnings.warn(\n",
      "c:\\Users\\hdang\\.virtualenvs\\TLCN-KU7o-pax\\Lib\\site-packages\\urllib3\\connectionpool.py:1103: InsecureRequestWarning: Unverified HTTPS request is being made to host 'thuvienphapluat.vn'. Adding certificate verification is strongly advised. See: https://urllib3.readthedocs.io/en/latest/advanced-usage.html#tls-warnings\n",
      "  warnings.warn(\n",
      "c:\\Users\\hdang\\.virtualenvs\\TLCN-KU7o-pax\\Lib\\site-packages\\urllib3\\connectionpool.py:1103: InsecureRequestWarning: Unverified HTTPS request is being made to host 'plo.vn'. Adding certificate verification is strongly advised. See: https://urllib3.readthedocs.io/en/latest/advanced-usage.html#tls-warnings\n",
      "  warnings.warn(\n"
     ]
    }
   ],
   "source": [
    "result_docs=google_search_tools.extract_texts_from_links(result_link)"
   ]
  },
  {
   "cell_type": "code",
   "execution_count": 8,
   "id": "7b24a31f",
   "metadata": {},
   "outputs": [
    {
     "name": "stdout",
     "output_type": "stream",
     "text": [
      "5\n"
     ]
    }
   ],
   "source": [
    "print(len(result_docs))"
   ]
  },
  {
   "cell_type": "markdown",
   "id": "44dfab51",
   "metadata": {},
   "source": [
    "> Đưa qua Bert "
   ]
  },
  {
   "cell_type": "markdown",
   "id": "f5ad045b",
   "metadata": {},
   "source": [
    "> tạo model bert và truyền vào để lấy hàm extract thông tin"
   ]
  },
  {
   "cell_type": "code",
   "execution_count": 9,
   "id": "5af11e91",
   "metadata": {},
   "outputs": [],
   "source": [
    "bert_model=Bert_Extract(setting)\n",
    "bert_utils=Extract_Information(bert_model)"
   ]
  },
  {
   "cell_type": "markdown",
   "id": "937d1c0a",
   "metadata": {},
   "source": [
    "> trả ra dưới dạng  {key:value} ở đây key là thứ tự document,value là text sau khi được rút"
   ]
  },
  {
   "cell_type": "code",
   "execution_count": 10,
   "id": "38f33eb5",
   "metadata": {},
   "outputs": [],
   "source": [
    "result_reduce=bert_utils.predict(result_docs,query)"
   ]
  },
  {
   "cell_type": "code",
   "execution_count": 11,
   "id": "50c10e15",
   "metadata": {},
   "outputs": [
    {
     "name": "stdout",
     "output_type": "stream",
     "text": [
      "{0: 'Quy định Độ tuổi đăng ký kết hôn của pháp luật Mới 2025 Skip to content Tư vấn miễn phí. Hỗ trợ nhanh, hiệu quả Tư vấn miễn phí. Hỗ trợ nhanh, hiệu quả Trang Chủ Giới Thiệu Liên Hệ Tư Vấn Pháp Luật Tư Vấn Luật Hôn Nhân Gia Đình Tư Vấn Luật Doanh Nghiệp Tư Vấn Luật Bảo Hiểm Xã Hội Tư Vấn Luật Cho Việt Kiều Người Nước Ngoài Tư Vấn Luật Dân Sự Tư Vấn Luật Đất Đai – Nhà ở Tư Vấn Luật Hình Sự Tư Vấn Luật Lao Động Tư Vấn Luật Thừa kế Biểu Mẫu Tin Tức Trang Chủ » Tư Vấn Pháp Luật » Tư Vấn Luật Hôn Nhân Gia Đình Quy định Độ tuổi đăng ký kết hôn của pháp luật Mới 2025 Cập nhật: Tháng Một 7, 2025 Tháng Ba 2, 2025 bởi Tán Lê Thảo Duyên Mục Lục Quy định về độ tuổi đăng ký kết hôn của nam và nữ ở Việt Nam Hướng dẫn xác định độ tuổi đăng ký kết hôn của nam và nữ Cập nhật 2025 Quy định về xử lý việc kết hôn trái pháp luật Giải đáp một số câu hỏi thường gặp về độ tuổi kết hôn Tại sao nam 20 tuổi mới được kết hôn? Bao nhiêu tuổi được đăng ký kết hôn? Kết hôn dưới 18 tuổi phạt bao nhiêu nam tù? Lấy vợ muộn là bao nhiêu tuổi? Tảo hôn bị phạt bao nhiêu tiền? Theo Luật Hôn nhân và Gia đình 2014, quy định về độ tuổi đăng ký kết hôn như sau: Nam giới cần đạt từ đủ 20 tuổi trở lên, trong khi nữ giới từ đủ 18 tuổi trở lên. Tuổi này được tính dựa trên ngày, tháng và năm sinh.', 1: 'Bao nhiêu tuổi thì hết được đăng ký kết hôn? Những hành vi nào bị cấm để bảo vệ hôn nhân gia đình? Pháp Luật Pháp luật THƯ VIỆN PHÁP LUẬT Tra cứu pháp luật Các gói dịch vụ Trang chủ Pháp luật Hỗ trợ Pháp luật Pháp luật về Doanh nghiệp Pháp luật về Lao động - Tiền lương Pháp luật về Bất động sản Pháp luật về Vi phạm hành chính Pháp luật về Bảo hiểm Pháp luật về Quyền dân sự Pháp luật về Văn hóa - Xã hội Pháp luật về Thương mại Pháp luật về Trách nhiệm hình sự Pháp luật về Xây dựng - Đô thị Pháp luật về Chứng khoán Pháp luật về Kế toán - Kiểm toán Pháp luật về Thuế - Phí - Lệ Phí Pháp luật về Xuất nhập khẩu Pháp luật về Tiền tệ - Ngân hàng Pháp luật về Đầu tư Pháp luật về Sở hữu trí tuệ Pháp luật về Thủ tục Tố tụng Pháp luật về Tài chính nhà nước Pháp luật về Thể thao - Y tế Pháp luật về Dịch vụ pháp lý Pháp luật về Tài nguyên - Môi trường Pháp luật về Công nghệ thông tin Pháp luật về Giáo dục Pháp luật về Giao thông - Vận tải Pháp luật hành chính Pháp luật về Lĩnh vực khác Pháp luật vừa ban hành Tìm kiếm Chủ quản: Công ty THƯ VIỆN PHÁP LUẬT Giấy phép số: 27 / GP - TTĐT, do Sở TTTT TP. HCM cấp ngày 09 / 05 / 2019', 2: 'Độ tuổi kết hôn theo quy định của pháp luật là bao nhiêu? Trang chủ Liên Hệ Toggle navigation Trang chủ Giới thiệu Quá trình hình thành và phát triển Dân số - Lao động Điều kiện tự nhiên Kinh tế Xã hội Văn hoá Lịch sử Bầu cử Tìm hiểu pháp luật', 3: 'Hướng dẫn xác định độ tuổi đăng ký kết hôn của nam và nữ mới nhất Chính Sách Pháp Luật mới Trang chủ THƯ VIỆN PHÁP LUẬT Pháp luật Tra cứu pháp luật Các gói dịch vụ THÔNG BÁO VĂN BẢN MỚI CHÍNH SÁCH THƯƠNG MẠI CHÍNH SÁCH MỚI ÁN LỆ TƯ VẤN CỦA LUẬT SƯ Chính sách mới >> Tư vấn pháp luật 27 / 03 / 2024 10: 30 AM Hướng dẫn xác định độ tuổi đăng ký kết hôn của nam và nữ mới nhất Tham vấn bởi Luật sư Nguyễn Thụy Hân Chuyên viên pháp lý Lê Trương Quốc Đạt 27 / 03 / 2024 10:', 4: '16 tuổi mang thai có đăng ký kết hôn được không? | Báo Pháp Luật TP. Hồ Chí Minh Báo Pháp Luật TP. Hồ Chí Minh Bạn đọc 16 tuổi mang thai có đăng ký kết hôn được không? 17 / 11 / 2023 09: 00 ( PLO ) - Bạn đọc thắc mắc, nữ 16 tuổi chưa đủ tuổi đăng ký kết hôn nhưng nếu mang thai có được đăng ký kết hôn hoặc tổ chức đám cưới không? 0: 00 / 0: 00 0: 00 Nam miền Bắc Nam miền Bắc Nữ miền Bắc Nữ miền Nam Nam miền Nam Em gái tôi năm nay 16 tuổi, em tôi đã nghỉ học để đi làm và có bạn trai được một năm nay. Cả hai quen nhau được hai gia đình đồng thuận. Nay em gái tôi có thai ngoài ý muốn nên hai gia đình dự định sẽ tổ chức đám cưới'}\n"
     ]
    }
   ],
   "source": [
    "print(result_reduce)"
   ]
  },
  {
   "cell_type": "markdown",
   "id": "8b16f5d5",
   "metadata": {},
   "source": [
    "> truyền ngữ cảnh đã trích xuất vào gemini"
   ]
  },
  {
   "cell_type": "code",
   "execution_count": 12,
   "id": "33b0248f",
   "metadata": {},
   "outputs": [],
   "source": [
    "gemini=Gemini(setting)\n",
    "gemini_func=Gemini_Generate(gemini,setting)"
   ]
  },
  {
   "cell_type": "code",
   "execution_count": 13,
   "id": "7f4a33a1",
   "metadata": {},
   "outputs": [],
   "source": [
    "result_final=gemini_func.generate_response(query,result_reduce)"
   ]
  },
  {
   "cell_type": "code",
   "execution_count": 14,
   "id": "c54b0902",
   "metadata": {},
   "outputs": [
    {
     "name": "stdout",
     "output_type": "stream",
     "text": [
      "```json\n",
      "{\n",
      "  \"answer\": \"Độ tuổi được phép đăng ký kết hôn được quy định như sau:\\n\\n*   Nam giới phải từ 20 tuổi trở lên.\\n*   Nữ giới phải từ 18 tuổi trở lên.\\n\\nĐộ tuổi này được tính dựa trên ngày, tháng và năm sinh.\\n\\nVậy, nam từ 20 tuổi và nữ từ 18 tuổi trở lên được phép đăng ký kết hôn.\",\n",
      "  \"key\": [\n",
      "    0\n",
      "  ]\n",
      "}\n",
      "```\n"
     ]
    }
   ],
   "source": [
    "print(result_final)"
   ]
  },
  {
   "cell_type": "markdown",
   "id": "0f7532e1",
   "metadata": {},
   "source": [
    "> gọi 3 hàm này để xử lý"
   ]
  },
  {
   "cell_type": "code",
   "execution_count": 15,
   "id": "b9bf5c70",
   "metadata": {},
   "outputs": [],
   "source": [
    "answer_result= clean_code_fence_safe(result_final)\n",
    "answer_result= fix_json_string(answer_result)\n",
    "answer_result= json.loads(answer_result)"
   ]
  },
  {
   "cell_type": "code",
   "execution_count": 16,
   "id": "7f1f2135",
   "metadata": {},
   "outputs": [
    {
     "name": "stdout",
     "output_type": "stream",
     "text": [
      "{'answer': 'Độ tuổi được phép đăng ký kết hôn được quy định như sau:\\n\\n*   Nam giới phải từ 20 tuổi trở lên.\\n*   Nữ giới phải từ 18 tuổi trở lên.\\n\\nĐộ tuổi này được tính dựa trên ngày, tháng và năm sinh.\\n\\nVậy, nam từ 20 tuổi và nữ từ 18 tuổi trở lên được phép đăng ký kết hôn.', 'key': [0]}\n"
     ]
    }
   ],
   "source": [
    "print(answer_result)"
   ]
  },
  {
   "cell_type": "code",
   "execution_count": 17,
   "id": "16ab5f37",
   "metadata": {},
   "outputs": [
    {
     "name": "stdout",
     "output_type": "stream",
     "text": [
      "Độ tuổi được phép đăng ký kết hôn được quy định như sau:\n",
      "\n",
      "*   Nam giới phải từ 20 tuổi trở lên.\n",
      "*   Nữ giới phải từ 18 tuổi trở lên.\n",
      "\n",
      "Độ tuổi này được tính dựa trên ngày, tháng và năm sinh.\n",
      "\n",
      "Vậy, nam từ 20 tuổi và nữ từ 18 tuổi trở lên được phép đăng ký kết hôn.\n"
     ]
    }
   ],
   "source": [
    "print(answer_result['answer'])"
   ]
  },
  {
   "cell_type": "markdown",
   "id": "6c220e2f",
   "metadata": {},
   "source": [
    "> key này mapping qua link để sắp xếp thứ tự theo cái này , key này nó lấy link 1 nên mapping qua cái list link ban đầu để lấy đường link, rồi hiển thị ưu tiên đầu tiên.Gemini đâu vào là 5 link nhưng việc nó chọn link nào là do bản thân nó.Nói chung tui viết oke hết rồi ô xử lý logic đoạn FE với BE xíu "
   ]
  },
  {
   "cell_type": "code",
   "execution_count": 18,
   "id": "2402f1d0",
   "metadata": {},
   "outputs": [
    {
     "name": "stdout",
     "output_type": "stream",
     "text": [
      "[0]\n"
     ]
    }
   ],
   "source": [
    "print(answer_result['key'])"
   ]
  }
 ],
 "metadata": {
  "kernelspec": {
   "display_name": "TLCN-KU7o-pax",
   "language": "python",
   "name": "python3"
  },
  "language_info": {
   "codemirror_mode": {
    "name": "ipython",
    "version": 3
   },
   "file_extension": ".py",
   "mimetype": "text/x-python",
   "name": "python",
   "nbconvert_exporter": "python",
   "pygments_lexer": "ipython3",
   "version": "3.11.5"
  }
 },
 "nbformat": 4,
 "nbformat_minor": 5
}
