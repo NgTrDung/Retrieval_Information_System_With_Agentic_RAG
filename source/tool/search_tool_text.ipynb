{
 "cells": [
  {
   "cell_type": "code",
   "execution_count": null,
   "id": "68d8fc2f",
   "metadata": {},
   "outputs": [
    {
     "name": "stdout",
     "output_type": "stream",
     "text": [
      "WARNING:tensorflow:From c:\\Users\\hdang\\.virtualenvs\\machinelearning-lTTH8rYd\\Lib\\site-packages\\keras\\src\\losses.py:2976: The name tf.losses.sparse_softmax_cross_entropy is deprecated. Please use tf.compat.v1.losses.sparse_softmax_cross_entropy instead.\n",
      "\n"
     ]
    }
   ],
   "source": [
    "import sys\n",
    "project_path = r\"D:/Download_Github_Desktop/Khoa_Luan_Tot_Nghiep_Agentic_RAG/\"\n",
    "sys.path.append(project_path)\n",
    "import json \n",
    "from source.function.utils_shared import clean_code_fence_safe\n",
    "from source.model.extract_model import Bert_Extract\n",
    "from source.model.generate_model import Gemini\n",
    "from source.extract.utils_extract import Extract_Information\n",
    "from source.core.config import Settings\n",
    "from source.generate.generate import Gemini_Generate\n",
    "from source.tool.google_search import GoogleSearchTool\n",
    "from source.core.config import Settings"
   ]
  },
  {
   "cell_type": "code",
   "execution_count": 8,
   "id": "29723987",
   "metadata": {},
   "outputs": [],
   "source": [
    "query=\"điều kiện đạt chuẩn để mở kinh doanh tiệm thuốc tây là gì\"\n"
   ]
  },
  {
   "cell_type": "code",
   "execution_count": 9,
   "id": "824b8932",
   "metadata": {},
   "outputs": [],
   "source": [
    "setting=Settings()"
   ]
  },
  {
   "cell_type": "code",
   "execution_count": 10,
   "id": "55396ff7",
   "metadata": {},
   "outputs": [],
   "source": [
    "google_search_tools=GoogleSearchTool(setting)"
   ]
  },
  {
   "cell_type": "code",
   "execution_count": 11,
   "id": "4946a65a",
   "metadata": {},
   "outputs": [],
   "source": [
    "result_link=google_search_tools.search(query)"
   ]
  },
  {
   "cell_type": "markdown",
   "id": "bf46c536",
   "metadata": {},
   "source": [
    "> list các đường link  -> 5 link"
   ]
  },
  {
   "cell_type": "code",
   "execution_count": 12,
   "id": "52f87eb8",
   "metadata": {},
   "outputs": [
    {
     "name": "stdout",
     "output_type": "stream",
     "text": [
      "['https://thuvienphapluat.vn/hoi-dap-phap-luat/839F018-hd-dieu-kien-mo-tiem-thuoc-tay-hien-nay-la-gi.html', 'https://bachkhoasaigon.edu.vn/dieu-kien-kinh-nghiem-mo-quay-thuoc-va-nha-thuoc-tay.html', 'https://ketoananpha.vn/thu-tuc-dang-ky-kinh-doanh-nha-thuoc-tay.html', 'https://huni.edu.vn/quy-dinh-thu-tuc-mo-quay-thuoc/', 'https://legalam.vn/giay-phep-kinh-doanh-nha-thuoc/']\n"
     ]
    }
   ],
   "source": [
    "print(result_link)"
   ]
  },
  {
   "cell_type": "markdown",
   "id": "70704c84",
   "metadata": {},
   "source": [
    "> list các nội dung trang web (5 nội dung)"
   ]
  },
  {
   "cell_type": "code",
   "execution_count": 13,
   "id": "49b31aa9",
   "metadata": {},
   "outputs": [
    {
     "name": "stderr",
     "output_type": "stream",
     "text": [
      "c:\\Users\\hdang\\.virtualenvs\\machinelearning-lTTH8rYd\\Lib\\site-packages\\urllib3\\connectionpool.py:1103: InsecureRequestWarning: Unverified HTTPS request is being made to host 'thuvienphapluat.vn'. Adding certificate verification is strongly advised. See: https://urllib3.readthedocs.io/en/latest/advanced-usage.html#tls-warnings\n",
      "  warnings.warn(\n",
      "c:\\Users\\hdang\\.virtualenvs\\machinelearning-lTTH8rYd\\Lib\\site-packages\\urllib3\\connectionpool.py:1103: InsecureRequestWarning: Unverified HTTPS request is being made to host 'bachkhoasaigon.edu.vn'. Adding certificate verification is strongly advised. See: https://urllib3.readthedocs.io/en/latest/advanced-usage.html#tls-warnings\n",
      "  warnings.warn(\n",
      "c:\\Users\\hdang\\.virtualenvs\\machinelearning-lTTH8rYd\\Lib\\site-packages\\urllib3\\connectionpool.py:1103: InsecureRequestWarning: Unverified HTTPS request is being made to host 'ketoananpha.vn'. Adding certificate verification is strongly advised. See: https://urllib3.readthedocs.io/en/latest/advanced-usage.html#tls-warnings\n",
      "  warnings.warn(\n",
      "c:\\Users\\hdang\\.virtualenvs\\machinelearning-lTTH8rYd\\Lib\\site-packages\\urllib3\\connectionpool.py:1103: InsecureRequestWarning: Unverified HTTPS request is being made to host 'huni.edu.vn'. Adding certificate verification is strongly advised. See: https://urllib3.readthedocs.io/en/latest/advanced-usage.html#tls-warnings\n",
      "  warnings.warn(\n",
      "c:\\Users\\hdang\\.virtualenvs\\machinelearning-lTTH8rYd\\Lib\\site-packages\\urllib3\\connectionpool.py:1103: InsecureRequestWarning: Unverified HTTPS request is being made to host 'legalam.vn'. Adding certificate verification is strongly advised. See: https://urllib3.readthedocs.io/en/latest/advanced-usage.html#tls-warnings\n",
      "  warnings.warn(\n"
     ]
    }
   ],
   "source": [
    "result_docs=google_search_tools.extract_texts_from_links(result_link)"
   ]
  },
  {
   "cell_type": "code",
   "execution_count": 14,
   "id": "545edffc",
   "metadata": {},
   "outputs": [
    {
     "name": "stdout",
     "output_type": "stream",
     "text": [
      "['Điều kiện mở tiệm thuốc tây hiện nay là gì? Hỏi Đáp Pháp Luật Hỏi Đáp Pháp luật THƯ VIỆN PHÁP LUẬT Tra cứu pháp luật Các gói dịch vụ Trang chủ Pháp luật Hỏi đáp pháp luật về Tiền tệ - Ngân hàng Hỏi đáp pháp luật về Quyền dân sự Hỏi đáp pháp luật về Chứng khoán Hỏi đáp pháp luật về Sở hữu trí tuệ Hỏi đáp pháp luật về Tài chính nhà nước Hỏi đáp pháp luật về Thủ tục Tố tụng Hỏi đáp pháp luật về Thể thao - Y tế Hỏi đáp pháp luật về Giao thông - Vận tải Hỏi đáp pháp luật về Xuất nhập khẩu Hỏi đáp pháp luật về Doanh nghiệp Hỏi đáp pháp luật về Lao động - Tiền lương Hỏi đáp pháp luật về Bất động sản Hỏi đáp pháp luật về Vi phạm hành chính Hỏi đáp pháp luật về Bảo hiểm Hỏi đáp pháp luật về Văn hóa - Xã hội Hỏi đáp pháp luật về Thương mại Hỏi đáp pháp luật về Trách nhiệm hình sự Hỏi đáp pháp luật về Xây dựng - Đô thị Hỏi đáp pháp luật về Kế toán - Kiểm toán Hỏi đáp pháp luật về Thuế - Phí - Lệ Phí Hỏi đáp pháp luật về Đầu tư Hỏi đáp pháp luật về Dịch vụ pháp lý Hỏi đáp pháp luật về Tài nguyên - Môi trường Hỏi đáp pháp luật về Công nghệ thông tin Hỏi đáp pháp luật về Giáo dục Hỏi đáp pháp luật về Bộ máy hành chính Hỏi đáp pháp luật về Lĩnh vực khác Hỏi đáp pháp luật mới nhất Tìm kiếm Chủ quản: Công ty THƯ VIỆN PHÁP LUẬT Giấy phép số: 27/GP-TTĐT, do Sở TTTT TP. HCM cấp ngày 09/05/2019. Chịu trách nhiệm chính: Ông Bùi Tường Vũ - Số điện thoại liên hệ: 028 3930 3279 Địa chỉ: 17 Nguyễn Gia Thiều, P.6, Q.3, TP.HCM Điện thoại: (028) 3930 3279 (06 lines) E-mail: i n f [email\\xa0protected] Đăng nhập / Đăng ký Trang chủ Hỏi đáp pháp luật mới nhất Chủ đề hỏi đáp pháp luật Lĩnh vực hỏi đáp pháp luật Tiện ích Hỏi đáp về Tiền tệ - Ngân hàng Hỏi đáp về Quyền dân sự Hỏi đáp về Chứng khoán Hỏi đáp về Sở hữu trí tuệ Hỏi đáp về Tài chính nhà nước Hỏi đáp về Thủ tục Tố tụng Hỏi đáp về Thể thao - Y tế Hỏi đáp về Giao thông - Vận tải Hỏi đáp về Xuất nhập khẩu Hỏi đáp về Doanh nghiệp Hỏi đáp về Lao động - Tiền lương Hỏi đáp về Bất động sản Hỏi đáp về Vi phạm hành chính Hỏi đáp về Bảo hiểm Hỏi đáp về Văn hóa - Xã hội Hỏi đáp về Thương mại Hỏi đáp về Trách nhiệm hình sự Hỏi đáp về Xây dựng - Đô thị Hỏi đáp về Kế toán - Kiểm toán Hỏi đáp về Thuế - Phí - Lệ Phí Hỏi đáp về Đầu tư Hỏi đáp về Dịch vụ pháp lý Hỏi đáp về Tài nguyên - Môi trường Hỏi đáp về Công nghệ thông tin Hỏi đáp về Giáo dục Hỏi đáp về Bộ máy hành chính Hỏi đáp về Lĩnh vực khác Kinh doanh vận tải Nghĩa vụ quân sự Thừa kế Xuất nhập khẩu Thuế giá trị gia tăng Biển số xe Thủ tục ly hôn Chế độ thai sản Sổ bảo hiểm xã hội Thẻ bảo hiểm y tế Trợ cấp thôi việc Mức lương tối thiểu Giảm trừ gia cảnh Thời hạn sử dụng đất Giấy khai sinh Vùng nước cảng biển Chứng khoán Ngạch công chức Tra cứu diện tích tối thiểu để được tách thửa đất ở Ôn thi giấy phép lái xe Thủ tục phổ biến Đăng nhập hoặc đăng ký thành viên TVPL × ĐĂNG KÝ THÀNH VIÊN MIỄN PHÍ ĐỂ Khai thác +302.000 văn bản Pháp Luật Nhận Email văn bản mới hàng tuần Được hỗ trợ tra cứu trực tuyến Tra cứu Mẫu hợp đồng,\\r\\n                                    Bảng giá đất ... và nhiều Tiện ích\\r\\n                                        quan trọng khác (028) 3930 3279 Hỗ trợ trực tuyến 0906 22 99 66 0838 22 99 66 Họ và tên: Ông Bà Anh Chị Tên Thành Viên: Mật khẩu: E-mail: Điện thoại di động: Vui lòng nhập thêm số điện thoại\\r\\n                                            để chúng tôi hỗ trợ bạn tốt hơn Tôi đã đọc và đồng ý với Thỏa Ước Dịch Vụ và Quy chế bảo vệ dữ liệu cá nhân của THƯ VIỆN PHÁP LUẬT Bạn đã là thành viên thì đăng nhập để sử dụng tiện ích Tên Thành Viên: Mật khẩu: Đăng nhập bằng tài khoản L aw N et Đăng\\r\\n                                                        nhập bằng Google Vui lòng đăng nhập hoặc đăng ký làm thành viên để sử dụng tiện ích này ĐĂNG NHẬP Tên đăng nhập: Mật khẩu: Quên mật khẩu? Đăng nhập Nếu bạn chưa có tài khoản, hãy đăng ký để sử dụng các tiện ích Họ và tên: Ông Bà Anh Chị Tên đăng nhập: Mật khẩu: Email: Điện thoại: Đồng ý với Thỏa ước dịch vụ Đăng ký Đăng nhập bằng Google ĐĂNG KÝ THÀNH VIÊN MIỄN PHÍ ĐỂ... Khai thác hơn 302.000 văn bản Pháp Luật Nhận Email văn bản mới hàng tuần Được hỗ trợ tra cứu trực tuyến Tra cứu Mẫu hợp đồng, Bảng giá đất Gửi câu hỏi tư vấn pháp luật ... và nhiều Tiện ích quan trọng khác THÔNG TIN LIÊN HỆ HỖ TRỢ (028) 3930 3279 0906 22 99 66 0838 22 99 66 Hỗ trợ trực tuyến Cấp lại mật khẩu Để gửi yêu cầu cấp lại mật khẩu. Bạn vui lòng nhập e-mail đã sử dụng khi đăng ký thành viên. Email: Gửi yêu cầu / Hỏi đáp Pháp luật / Hỏi đáp pháp luật về Thể thao - Y tế 16:35 | 02/12/2023 Điều kiện mở tiệm thuốc tây hiện nay là gì? Tôi muốn hỏi: Điều kiện mở tiệm thuốc tây hiện nay là gì? Nhà thuốc tây có quyền và trách nhiệm gì? Câu hỏi của anh Thanh Tâm - TP, Nha Trang Nội dung chính Điều kiện mở tiệm thuốc tây hiện nay là gì? Nhà thuốc tây có quyền và trách nhiệm gì? Quyền và trách nhiệm của quầy thuốc tây là gì? Điều kiện mở tiệm thuốc tây hiện nay là gì? Hiện hành pháp luật không có quy định cụ thể về tiệm thuốc tây. Tuy nhiên có thể hiểu tiệm thuốc tây là một cơ sở bán lẻ thuốc (tại điểm đ khoản 2 Điều 32 Luật Dược 2016 ) . Có hai loại tiệm thuốc tây chính: nhà thuốc và quầy thuốc. Nhà thuốc là cơ sở bán lẻ thuốc có quy mô lớn hơn và được mở tại tất cả các địa bàn. Quầy thuốc có quy mô nhỏ hơn và thường chỉ được mở tại các khu vực nông thôn, ngoại thành. Tại điểm d khoản 1 Điều 33 Luật Dược 2016 có quy định về điều kiện cấp Giấy chứng nhận đủ điều kiện kinh doanh dược như sau: Điều kiện cấp Giấy chứng nhận đủ điều kiện kinh doanh dược ... 1. Điều kiện về cơ sở vật chất, kỹ thuật và nhân sự được quy định như sau: ... d) Cơ sở bán lẻ thuốc phải có địa điểm, khu vực bảo quản, trang thiết bị bảo quản, tài liệu chuyên môn kỹ thuật và nhân sự đáp ứng Thực hành tốt cơ sở bán lẻ thuốc; đối với cơ sở chuyên bán lẻ dược liệu, thuốc dược liệu, thuốc cổ truyền thực hiện theo quy định tại điểm b khoản 2 Điều 69 của Luật này; ... Tại Điều 18 Luật Dược 2016 có quy định điều kiện đối với người chịu trách nhiệm chuyên môn về dược của cơ sở bán lẻ thuốc như sau: Điều kiện đối với người chịu trách nhiệm chuyên môn về dược của cơ sở bán lẻ thuốc 1. Người chịu trách nhiệm chuyên môn về dược của nhà thuốc phải có văn bằng chuyên môn quy định tại điểm a khoản 1 Điều 13 của Luật này và có 02 năm thực hành chuyên môn tại cơ sở dược phù hợp. Người chịu trách nhiệm chuyên môn về dược của nhà thuốc có thể đồng thời là người làm công tác dược lâm sàng tại nhà thuốc. 2. Người chịu trách nhiệm chuyên môn về dược của quầy thuốc phải có một trong các văn bằng chuyên môn quy định tại điểm a, e hoặc g khoản 1 Điều 13 của Luật này và có 18 tháng thực hành chuyên môn tại cơ sở dược phù hợp. ... Như vậy, điều kiện mở tiệm thuốc tây được quy định như sau: - Phải có địa điểm, khu vực bảo quản, trang thiết bị bảo quản, tài liệu chuyên môn kỹ thuật và nhân sự đáp ứng Thực hành tốt cơ sở bán lẻ thuốc; - Đối với người chịu trách nhiệm chuyên môn về dược: + Người chịu trách nhiệm chuyên môn về dược của nhà thuốc phải có Bằng dược sỹ và có 02 năm thực hành chuyên môn tại cơ sở dược phù hợp. Người chịu trách nhiệm chuyên môn về dược của nhà thuốc có thể đồng thời là người làm công tác dược lâm sàng tại nhà thuốc. + Người chịu trách nhiệm chuyên môn về dược của quầy thuốc phải có Bằng dược sỹ hoặc bằng tốt nghiệp cao đẳng ngành dược hoặc bằng tốt nghiệp trung cấp ngành dược và có 18 tháng thực hành chuyên môn tại cơ sở dược phù hợp. Điều kiện mở tiệm thuốc tây hiện nay là gì? (Hình từ Internet) Nhà thuốc tây có quyền và trách nhiệm gì? Tại Điều 47 Luật Dược 2016 có quy định về quyền và trách nhiệm của cơ sở bán lẻ thuốc là nhà thuốc tây như sau: - Cơ sở bán lẻ là nhà thuốc tây có các quyền + Thực hiện một, một số hoặc tất cả hoạt động kinh doanh dược nếu đáp ứng đủ điều kiện tương ứng với từng loại hình cơ sở kinh doanh theo quy định của Luật Dược 2016 ; + Hưởng chính sách ưu đãi khi thực hiện hoạt động kinh doanh dược theo quy định của pháp luật; + Được thông tin, quảng cáo thuốc theo quy định của pháp luật; + Tổ chức cơ sở bán lẻ thuốc lưu động tại vùng đồng bào dân tộc thiểu số, miền núi, hải đảo, vùng có điều kiện kinh tế - xã hội đặc biệt khó khăn theo quy định của Chính phủ. + Mua nguyên liệu làm thuốc để pha chế thuốc theo đơn và bán thuốc này tại cơ sở. Người quản lý chuyên môn về dược của nhà thuốc chịu trách nhiệm quản lý trực tiếp việc pha chế thuốc tại cơ sở; + Mua thuốc để bán lẻ, trừ vắc xin; trường hợp mua, bán thuốc phải kiểm soát đặc biệt và thuốc thuộc Danh mục thuốc hạn chế bán lẻ thực hiện theo quy định. + Tham gia cấp phát thuốc của bảo hiểm, chương trình, dự án y tế khi đáp ứng yêu cầu và điều kiện của bảo hiểm, chương trình, dự án đó; + Người có Bằng dược sỹ được thay thế thuốc đã kê trong đơn thuốc bằng một thuốc khác có cùng hoạt chất, đường dùng, liều lượng khi có sự đồng ý của người mua và phải chịu trách nhiệm về việc thay đổi thuốc. - Trách nhiệm của nhà thuốc tây: + Trách nhiệm quy định tại khoản 2 Điều 42 và khoản 2 Điều 81 Luật Dược 2016 ; + Bảo đảm điều kiện pha chế thuốc theo quy định của Bộ trưởng Bộ Y tế; + Không được bán nguyên liệu làm thuốc, trừ dược liệu. Quyền và trách nhiệm của quầy thuốc tây là gì? Tại Điều 48 Luật Dược 2016 có quy định về quyền và trách nhiệm của cơ sở bán lẻ là quầy thuốc tây như sau: - Cơ sở bán lẻ là quầy thuốc tây có các quyền sau: + Thực hiện một, một số hoặc tất cả hoạt động kinh doanh dược nếu đáp ứng đủ điều kiện tương ứng với từng loại hình cơ sở kinh doanh theo quy định của Luật Dược 2016 ; + Hưởng chính sách ưu đãi khi thực hiện hoạt động kinh doanh dược theo quy định của pháp luật; + Được thông tin, quảng cáo thuốc theo quy định của pháp luật; + Tổ chức cơ sở bán lẻ thuốc lưu động tại vùng đồng bào dân tộc thiểu số, miền núi, hải đảo, vùng có điều kiện kinh tế - xã hội đặc biệt khó khăn theo quy định của Chính phủ. + Mua và bán lẻ thuốc thuộc Danh mục thuốc thiết yếu và Danh mục thuốc không kê đơn, trừ vắc xin; trường hợp mua, bán thuốc thuộc Danh mục thuốc phải kiểm soát đặc biệt và Danh mục thuốc hạn chế bán lẻ thực hiện theo quy định tại Điều 34 Luật Dược 2016 . Đối với quầy thuốc ở vùng đồng bào dân tộc thiểu số, miền núi, hải đảo, vùng có điều kiện kinh tế - xã hội đặc biệt khó khăn thì được bán thêm một số loại thuốc khác theo quy định của Bộ trưởng Bộ Y tế; + Tham gia cấp phát thuốc của bảo hiểm, chương trình, dự án y tế khi đáp ứng yêu cầu và điều kiện của bảo hiểm, chương trình, dự án đó. - Cơ sở bán lẻ là quầy thuốc tây có các trách nhiệm sau: + Trách nhiệm quy định tại khoản 2 Điều 42 Luật Dược 2016 ; + Không được bán nguyên liệu làm thuốc, trừ dược liệu. Trân trọng! Nhà thuốc tây Xem chi tiết Căn cứ pháp lý Thông tư 07/2018/TT-BYT Thông tư 07/2018/TT-BYT Hỏi đáp mới nhất về Nhà thuốc tây Thuốc hạn chế bán lẻ là thuốc gì? Danh mục thuốc hạn chế bán lẻ mới nhất hiện nay? Điều kiện mở tiệm thuốc tây hiện nay là gì? Chuyển địa điểm nhà thuốc Điều kiện mở nhà thuốc tuyến huyện Thế nào là nhà thuốc đạt tiêu chuẩn? Chuyển đổi địa điểm nhà thuốc Mở nhà thuốc đông y Bằng đại học dược do bộ giáo dục cấp có được mở nhà thuốc tư nhân không? Điều kiện để mở nhà thuốc Mở nhà thuốc Xem thêm... Đặt câu hỏi Quý khách cần hỏi thêm thông tin về có thể đặt câu hỏi tại đây. Đi đến trang Tra cứu hỏi đáp về Nhà thuốc tây Lương Thị Tâm Như Chia sẻ trên Facebook Bài viết này có hữu ích với bạn không? Có Không 3,032 lượt xem - Nội dung nêu trên là phần giải đáp, tư vấn của chúng tôi dành cho khách hàng của THƯ VIỆN PHÁP LUẬT . Nếu quý khách còn vướng mắc, vui lòng gửi về Email [email\\xa0protected] ; - Nội dung bài viết chỉ mang tính chất tham khảo; - Điều khoản được áp dụng có thể đã hết hiệu lực tại thời điểm bạn đang đọc; - Mọi ý kiến thắc mắc về bản quyền của bài viết vui lòng liên hệ qua địa chỉ mail [email\\xa0protected] ; Hỏi đáp pháp luật mới nhất Đề đáp án thi vào 10 môn TOÁN Phú Thọ 2025 đã có chưa? Đáp án đề thi vào lớp 10 môn VĂN tỉnh Quảng Bình 2025 chi tiết ra sao? Đề thi và đáp án tuyển sinh lớp 10 môn Văn tỉnh Tây Ninh 2025 như thế nào? Đáp án đề TOÁN thi vào lớp 10 Khánh Hòa 2025 có chưa? Quy định về chứng từ khấu trừ thuế TNCN Nghị định 70 mới nhất như thế nào? Tra cứu hỏi đáp liên quan Nhà thuốc tây TÌM KIẾM VĂN BẢN Xem toàn bộ văn bản về Nhà thuốc tây CHỦ ĐỀ VĂN BẢN Luật Dược và các văn bản hướng dẫn mới nhất Chọn thư mục lưu bài viết Hủy bỏ Lưu lại Gửi câu hỏi Tiêu đề / chủ đề câu hỏi: * Nội dung chi tiết câu hỏi: Hủy bỏ Gửi câu hỏi Báo lỗi nội dung bài viết Nội dung báo lỗi: Sửa lỗi: * Email: Hủy bỏ Gửi báo lỗi Hỏi đáp pháp luật về Tiền tệ - Ngân hàng Hỏi đáp pháp luật về Quyền dân sự Hỏi đáp pháp luật về Chứng khoán Hỏi đáp pháp luật về Sở hữu trí tuệ Hỏi đáp pháp luật về Tài chính nhà nước Hỏi đáp pháp luật về Thủ tục Tố tụng Hỏi đáp pháp luật về Thể thao - Y tế Hỏi đáp pháp luật về Giao thông - Vận tải Hỏi đáp pháp luật về Xuất nhập khẩu Hỏi đáp pháp luật về Doanh nghiệp Hỏi đáp pháp luật về Lao động - Tiền lương Hỏi đáp pháp luật về Bất động sản Hỏi đáp pháp luật về Vi phạm hành chính Hỏi đáp pháp luật về Bảo hiểm Hỏi đáp pháp luật về Văn hóa - Xã hội Hỏi đáp pháp luật về Thương mại Hỏi đáp pháp luật về Trách nhiệm hình sự Hỏi đáp pháp luật về Xây dựng - Đô thị Hỏi đáp pháp luật về Kế toán - Kiểm toán Hỏi đáp pháp luật về Thuế - Phí - Lệ Phí Hỏi đáp pháp luật về Đầu tư Hỏi đáp pháp luật về Dịch vụ pháp lý Hỏi đáp pháp luật về Tài nguyên - Môi trường Hỏi đáp pháp luật về Công nghệ thông tin Hỏi đáp pháp luật về Giáo dục Hỏi đáp pháp luật về Bộ máy hành chính Hỏi đáp pháp luật về Lĩnh vực khác Địa chỉ: 17 Nguyễn Gia Thiều, P. Võ Thị Sáu, Q.3, TP.HCM Điện thoại: (028) 3930 3279 (06 lines) E-mail: i n f [email\\xa0protected] Trang chủ tin tức Các Gói Dịch Vụ Online Hướng Dẫn Sử Dụng Giới Thiệu Liên Hệ Lưu trữ Đăng ký Thành viên Tra cứu pháp luật Tra cứu Công văn Tìm kiếm\\r\\n                                luật sư Cộng đồng ngành luật Thuật\\r\\n                                ngữ pháp lý Biểu thuế WTO Bảng giá\\r\\n                                đất Chủ quản: Công ty THƯ VIỆN PHÁP LUẬT . Giấy phép số: 27/GP-TTĐT, do Sở TTTT TP. HCM cấp ngày 09/05/2019. Chịu trách nhiệm chính: Ông Bùi Tường Vũ - Số điện thoại liên hệ: 028 3930 3279 Địa chỉ: P.702A , Centre Point, 106 Nguyễn Văn Trỗi, P.8, Q. Phú Nhuận, TP. HCM; Địa điểm Kinh Doanh: Số 17 Nguyễn Gia Thiều, P. Võ Thị Sáu, Q3, TP. HCM; Chứng nhận bản quyền tác giả số 416/2021/QTG ngày 18/01/2021, cấp bởi Bộ Văn hoá - Thể thao - Du lịch Thông báo Bạn không có thông báo nào', 'Điều kiện - Kinh nghiệm mở Quầy thuốc và Nhà thuốc Tây - Trường Trung cấp Bách Khoa Sài Gòn Skip to content Trường Trung cấp Bách Khoa Sài Gòn Trường Trung cấp Bách Khoa Sài Gòn Menu Trang chủ Giới thiệu Tổ chức giáo dục EQuest Giới thiệu Trường QĐ Thành lập Trường Ban Giám Hiệu Đội ngũ Giảng viên Mục tiêu – Sứ mạng Trường Trung cấp Bách Khoa Sài Gòn Chiến lược phát triển Mẫu phôi Bằng – Chứng chỉ Giấy chứng nhận hoạt động GDNN Tuyển sinh 2025 Tuyển sinh hệ Trung cấp Tuyển sinh trung cấp 9+ Đại học vừa làm vừa học 2025 Đại học trực tuyến Chứng chỉ ngắn hạn Hướng dẫn xét tuyển Nộp hồ sơ trực tuyến Hướng nghiệp Học bổng khuyến học 2025 Học phí Nhập học online Đăng ký tư vấn Trung cấp Đăng ký tư vấn Ngắn hạn Đăng ký liên thông Cao đẳng – Đại học Chương trình đào tạo Cổng thông tin sinh viên Quy chế – Quy định Thời khóa biểu Thông báo Thông báo đào tạo Thông báo học phí Thông báo khác Kết quả học tập Kế hoạch & khung thời gian đào tạo Lịch thi Cựu sinh viên Hoạt động sinh viên Chuẩn đầu ra Tin học – Ngoại ngữ Tra cứu văn bằng Kinh nghiệm việc làm BKSG Doanh nghiệp – Việc làm Hệ thống ĐBCL Định Hướng và Chất Lượng Kết quả tự ĐGCL Năm 2023 Năm 2024 Năm 2025 Tuyển sinh Quy chế tuyển sinh Kế hoạch TS Hội đồng TS Thông báo tuyển sinh Công bố trúng tuyển Chuẩn đầu ra Chương trình đào tạo Năm 2022 Năm 2024 Giấy chứng nhận HĐ GDNN Thư viện Tuyển dụng Liên hệ Trung cấp dược Điều kiện – Kinh nghiệm mở Quầy thuốc và Nhà thuốc Tây Đăng lúc 15/09/2021 02/03/2023 bởi Admin Nội dung bài viết Điều kiện mở nhà thuốc, quầy thuốc tân Dược là gì? Phải có chứng chỉ hành nghề Dược do Sở y tế cấp. Đăng ký giấy phép kinh doanh Mở quầy thuốc tây cần bao nhiêu tiền? Chi phí để thuê mặt bằng, trang thiết bị, cơ sở vật chất. Chi phí thuê nhân viên hay người có bằng Dược sĩ Chi phí cho các loại thuốc Post Views: 5.072 3/5 - (2 bình chọn) Rất nhiều bạn trẻ theo học ngành Dược với mục đích mở quầy thuốc và nhà thuốc tây tư nhân để tự kinh doanh. Vậy điều kiện – kinh nghiệm mở quầy thuốc và nhà thuốc tây là gì? Bài viết sau đây sẽ giúp bạn nắm rõ thông tin về vấn đề này. Bấm vào đây để tìm hiểu sự giống và khác nhau của Quầy thuốc và nhà thuốc Tây. Điều kiện mở nhà thuốc, quầy thuốc tân Dược là gì? Ngày 10/04/2016 Quốc hội đã thông qua “Điều kiện mở nhà thuốc là gì?” trong bản dự thảo về Luật Dược. Vấn đề được nhiều người quan tâm nhất trong bộ luật này chính là điều kiện để được cấp chứng chỉ hành nghề Dược và phải đáp ứng được những điều kiện gì mới có thể mở được quầy thuốc hoặc nhà thuốc. Để có thể mở được nhà thuốc thì các \\xa0bạn\\xa0bắt buộc phải tốt nghiệp ngành Dược sĩ hệ Đại học trở lên\\xa0và phải có kinh nghiệm thực hành ngành Dược tại các cơ sở chuyên môn về thuốc ít nhất là 2 năm. Điều kiện để mở được quầy thuốc là các bạn phải tốt nghiệp Đại học, Cao đẳng, Trung cấp ngành Dược và có kinh nghiệm thực hành \\xa0tại các cơ sở kinh doanh về thuốc trong khoảng thời gian ít nhất là 1,5 năm. Với những điều kiện trên, có thể thấy những sinh viên sau khi tốt nghiệp Trung cấp Dược và thực hành tại các cơ sở kinh doanh thuốc khoảng 18 tháng chỉ đủ điều kiện để mở quầy thuốc. Nếu muốn mở nhà thuốc các bạn bắt buộc phải học liên thông lên Đại học và có thời gian thực hành nghề nhiều hơn. Phải có chứng chỉ hành nghề Dược do Sở y tế cấp. Trước khi tìm hiểu về điều kiện để được cấp chứng chỉ ngành Dược thì chúng ta phải hiểu được chứng chỉ hành nghề Dược. Những người được cấp chứng chỉ hành nghề Dược có thể phụ trách 1 số công việc trong ngành Dược như: nghiên cứu, sản xuất, kiểm định chất lượng, phân phối, kinh doanh thuốc… Theo đó, nếu các bạn muốn được cấp chứng chỉ hành nghề Dược các bạn phải Tốt nghiệp đại học các ngành Dược, Y đa khoa, Y học cổ truyền hoặc Dược học cổ truyền, sinh học, hóa học… Tốt nghiệp Cao đẳng, Trung cấp các ngành: Dược, ngành Y, Y học cổ truyền, Dược học cổ truyền… Tốt nghiệp Trung cấp dược. Có chứng chỉ sơ cấp Dược; giấy chứng nhận về lương Dược, lương Y; giấy chứng nhận hoặc văn bằng bài thuốc gia truyền; các loại giấy chứng nhận, chứng chỉ khác về Y Dược được cấp trước khi bộ Luật Dược được thông qua ngày 10/04/2016 có hiệu lực. Sau khi dự thảo Luật Dược được thông qua, mọi người rất lo lắng vì những cử nhân tốt nghiệp ngành Sinh, Hóa cũng có thể được cấp chứng chỉ hành nghề Dược. Có thể các bạn đã hiểu sai vấn đề. Như thông tin đã được\\xa0cung cấp phía trên. Những người được cấp chứng chỉ hành nghề Dược chỉ phụ trách một hoặc 1 số công việc trong ngành Dược chứ không phải là người phụ trách chuyên môn về Dược. Như vậy, sẽ không có chuyện sinh viên tốt nghiệp Đại học những chuyên ngành như Hóa, Sinh được phép phụ trách chuyên môn Dược và mở quầy thuốc \\xa0hoặc nhà thuốc. Xem thêm: Điều kiện cấp chứng chỉ hành nghề Dược Đăng ký giấy phép kinh doanh Sau khi có giấy phép hành nghề Dược các bạn cần phải có giấy phép kinh doanh. Đây là một trong những điều kiện tiên quyết quyết định xem bạn có được mở hiệu thuốc hay không. Bạn phải có giấy phép kinh doanh được cấp bởi cơ quan đăng ký kinh doanh. Việc kinh doanh thuốc tây cần rất nhiều yêu cầu pháp lý rất nghiêm ngặt. Bạn phải thực hiện tốt và đầy đủ các thủ tục cần thiết như: Đầu tiên là chứng chỉ hành nghề Y do Sở Y tế cấp nhưng mà đối với bằng Dược sĩ thì phải đủ thâm niên 2 năm hành nghề, nếu chưa đủ điều kiện cấp thì mình có thể đi thuê những người đã đủ điều kiện cấp bằng và nhờ họ đứng tên. Đối với quầy thuốc tây thì cần bằng từ trung cấp dược trở lên và thời gian hành nghề là 18 tháng. Tiếp đến đó là giấy chứng nhận đăng ký kinh doanh do Sở Kế hoạch và Đầu tư hoặc là Ủy ban Nhân dân cấp. Xin cấp giấy chứng nhận đủ điều kiện hành nghề để mở nhà thuốc GPP. thông thường thì 3 năm sẽ xét lại một lần. Mở quầy thuốc tây cần bao nhiêu tiền? Để có thể thành lập một\\xa0cửa hàng\\xa0thuốc tư nhân, bạn cần phải nắm được và hiểu rõ những việc mình cần làm. Một điều quan trọng cần phải nắm đó là chi phí hay số nguồn vốn cần thiết để mở một cửa hiệu. Và rõ ràng, để mở một hiệu thuốc thì bạn sẽ cần đến một số tiền không hề nhỏ. Chi phí để thuê mặt bằng, trang thiết bị, cơ sở vật chất. Điều kiện để mở nhà thuốc không thể không nhắc đến đó chính là mặt bằng. Kinh doanh thành công hay không phụ thuộc rất nhiều vào địa điểm, thói quen của người Việt mỗi khi đau ốm thường sẽ tìm đến nhà thuốc gần nhà, nên những nhà thuốc tư nhân truyền thống vẫn có lợi thế hơn. Nên chọn vị trí gần khu đông dân cư, gần chợ với nhiều người qua lại. Bạn phải đi khảo sát thị trường, tìm hiểu xem vị trí địa hình nào có thể mở hiệu. Quầy thuốc phải có vị trí phù hợp, thuận lợi, để mọi người tìm đến. Mặt bằng phải có không gian thoáng mát, sạch sẽ, gọn gàng, nằm ở mặt tiền. Chi phí để thuê có thể rơi vào 4-5 triệu đồng hoặc cao hơn nhiều nếu là ở các thành phố lớn. Nếu nhà của bạn ở mặt tiền và đủ rộng rãi, nằm ở vị trí thuận lợi thì có thể dùng làm mặt bằng kinh doanh, nó sẽ tiết kiện một khoản chi phí so với những bạn đi thuê, đây là một lợi thế rất lớn. Về trang thiết bị và cơ sở vật chất số tiền bạn cần chi cho khoản này có thể lên đến 50 triệu đồng hoặc nhiều hơn. Nếu bạn muốn không gian bán hàng đầy đủ vật chất tiện lợi thì hãy chi cho nó. Một không gian bán hàng thoáng mát cũng có thể thu hút được nhiều khách hàng. Ngoài ra nó còn giúp bạn bảo quản được thuốc tốt hơn. Nhiều loại thuốc bắt buộc phải bảo quản lạnh, hầu hết các của hàng thuốc hiện nay đều có trang bị máy lạnh (điều hòa). Chi phí thuê nhân viên hay người có bằng Dược sĩ Nhiều bạn có đủ điều kiện để mở nhà thuốc nhưng lạ không có bằng Đại học Dược thì phải thuê người có Bằng Dược Đại học để đủ điều kiện mở nhà thuốc. Ngoài ra còn chi phí thuê nhân viên, nếu bạn trực tiếp là người bán thuốc thì sẽ tiết kiệm được khoản tiền này. Đối với một nhà thuốc có quy mô lớn các bạn có thể muốn thuê nhân viên thu ngân và người phụ giúp bạn trong việc bán thuốc.\\xa0Tất cả những khoản chi phí trên là phí cố định mà bạn phải đặt nó trong kế hoạch kinh doanh của mình. Thông thường đến nhà thuốc thì người ta hay mua thuốc nhức đầu, ho, cảm, sổ mũi….và nhân viên bán hàng là người cần phải có trình độ chuyên môn để có thể chuẩn đoán đúng bệnh. Bán hàng tại nhà thuốc là loại hình bán hàng tư vấn, năng lực tư vấn với bán hàng ảnh hưởng rất nhiều tới doanh thu, sức cạnh tranh. Người bán thuốc cần phải có tâm và bán đúng liều đúng bệnh, đặc biệt nếu phát hiện bệnh nhân có dấu hiệu nghiêm trọng thì nhắc nhở nên đi khám ở những tuyến cao hơn, tránh trường hợp tự mua tự chữa. Chi phí cho các loại thuốc Bạn sẽ phải dành rất nhiều tiền cho các loại thuốc. Khi kinh doanh, bạn phải đảm bảo nguồn thuốc của mình có chất lượng tốt, không phải là thuốc hết hạn hay hàng giả. Hãy tìm hiểu nhiều nguồn hàng khác nhau và quyết định đâu mới là loại thuốc tốt cho cửa hàng của mình. Hơn nữa khách hàng chắc chắn sẽ ưu tiên cho quầy thuốc của bạn hơn nếu bạn kinh doanh nhiều loại thuốc chất lượng với nhiều công dụng khác nhau. Vì mới đầu kinh doanh nên chi phí còn eo hẹp, để giảm bớt chi phí nhập hàng thì bạn nên nhập những danh mục hàng phổ thông cần thiết. Nên tham khảo bạn bè (người đã từng mở nhà thuốc) để xin họ những danh mục hàng có sẵn cần nhập, bạn cần chia thành 2 loại hàng: hàng phổ thông là loại hàng được dùng nhiều, phổ biến và rộng rãi nên ban bắt buộc phải nhập về để đáp ứng nhu cầu ngay; Hàng tư vấn là loại hàng cần được sự tư vấn về tính năng cũng như là cách sử dụng, loại hàng này không cần nhập nhiều chủ yếu là dựa vào tình hình khách hỏi thăm mà tính toán số lượng. Nên ghi lại những loại thuốc khách hàng hỏi mua mà cửa hàng không có để bổ sung. Sau một thời gian hoạt động và thường xuyên bổ sung danh mục thuốc thì của hàng của bạn có thể đáp ứng tốt cho nhiều yêu cầu khác nhau của khách hàng. Uy tín của nhà thuốc thông qua chất lượng thuốc bán và giá cả. Đây là hai yếu tố quan trọng để giúp thu hút khách hàng. Nếu mình bán thuốc với liều dùng chất lượng, tác dụng nhanh nhưng giá cả phải chăng thì đương nhiên khách hàng sẽ tìm đến mình nhiều hơn. Chẳng ai muốn tiền mất lại không thuyên giảm bệnh. Thử một lần, hai lần mà thấy không tác dụng thì khách hàng sẽ tìm đến nhà thuốc khác. Nên nguồn hàng thì chị tích cực tìm từ những trình dược viên khác, từ bạn của chị để có thể hưởng những ưu đãi. Bên cạnh đó thì chị còn tạo mối quan hệ với những chỗ sỉ để có thể tự mình nhập hàng về, luôn đảm bảo nguồn hàng của mình nhập từ nhiều nơi chứ không bị động ở một chỗ. Nên ký kết hợp tác với nhiều nhà cung cấp thuốc lớn để nguồn hàng được đảm bảo, những đơn vị này thường có chương trình hậu mãi khách hàng tốt hơn. Hiện tại có rất nhiều chỗ nhập hàng, nhưng các bạn nên cẩn trọng tại các chợ bán thuốc tây sỉ vì rất dễ bị mua lầm thuốc giả, thuốc kém chất lượng. Các nguồn nhập thuốc chất lượng hiện nay như: Hapulico miền bắc ( 85 Vũ Trọng Phụng ), Chợ thuốc 168 Ngọc Khánh, 132 Lê Duẩn, Siêu thị thuốc Việt (31A Láng hạ), Chợ thuốc Quận 10 TPHCM, các công ty dược trên đường Tô Hiến Thành\\xa0TPHCM… Xem thêm: https://luatminhkhue.vn/dieu-kien–thu-tuc-mo-hieu-thuoc–quay-thuoc-tay-moi-nhat-hien-nay–.aspx “Bách Khoa Sài Gòn Tổng Hợp” Tại sao Điều dưỡng là lựa chọn nghề nghiệp lý tưởng cho nam giới? Bạn Có Được Các Kỹ Năng Gì Khi Học Marketing Tại Bách Khoa Sài Gòn? 5 thoughts on “ Điều kiện – Kinh nghiệm mở Quầy thuốc và Nhà thuốc Tây ” Vinh says: Xin cám ơn bài viết này ạ 20/08/2022 at 3:27 chiều Vinh says: một lần nữa xin cám ơn các Thầy Cô trường BKSG, những thông tin này vô cùng bổ ích với em. 23/08/2022 at 1:45 sáng Điền says: Anh chi cho em hoi Một bằng dược sĩ đại học mở được bao nhiêu nhà thuốc ạ 22/01/2023 at 1:56 chiều Khách says: Những nhà thuốc nào trên thị trường được bán thuốc tim mạch 10/11/2023 at 1:53 sáng hua nham says: Bài viết rất hữu ích! 24/04/2025 at 11:10 sáng Để lại một bình luận Email của bạn sẽ không được hiển thị công khai. Các trường bắt buộc được đánh dấu * Bình luận * Tên Email Trang web Δ Trường Bách Khoa Sài Gòn Ngành đào tạo Tuyển sinh lớp 10 - THCS Trung cấp Công nghệ Ô tô Trung cấp Y sỹ đa khoa Trung cấp Dược Trung cấp Điều dưỡng Trung cấp Hộ sinh Trung cấp Marketing Trung cấp Hướng dẫn du lịch Trung cấp Luật Trung cấp Kế toán Trung cấp Quản trị mạng máy tính Trung cấp Thiết kế và quản lý Website Trung cấp Thiết kế đồ họa Trung cấp Thương mại điện tử Trung cấp CNTT (Ứng dụng phần mềm) Trung cấp Quản trị doanh nghiệp vừa & nhỏ Trung cấp Xây dựng DD&CN Trung cấp Sư phạm mầm non Liên thông đại học Điều dưỡng Liên thông Cao đẳng Dược Liên thông Đại học Sư phạm mầm non Liên thông Đại học CNTT Liên thông Đại học Kế toán Liên thông Đại học Y tế công cộng Đại học từ xa Bài viết mới Lễ Tổng kết năm học 2024–2025 chương trình văn hóa thpt với những thành tích nổi bật và dấu ấn trưởng thành Chức năng bình luận bị tắt ở Lễ Tổng kết năm học 2024–2025 chương trình văn hóa thpt với những thành tích nổi bật và dấu ấn trưởng thành Ngành Trung cấp CNTT – Ứng dụng phần mềm: Học gì, làm gì, có nên học không? Chức năng bình luận bị tắt ở Ngành Trung cấp CNTT – Ứng dụng phần mềm: Học gì, làm gì, có nên học không? Bế mạc đợt khảo sát chính thức đánh giá ngoài tại Trường Trung cấp Bách Khoa Sài Gòn Chức năng bình luận bị tắt ở Bế mạc đợt khảo sát chính thức đánh giá ngoài tại Trường Trung cấp Bách Khoa Sài Gòn Trường Trung cấp Bách Khoa Sài Gòn khai mạc Đợt khảo sát chính thức phục vụ đánh giá ngoài cơ sở giáo dục nghề nghiệp Chức năng bình luận bị tắt ở Trường Trung cấp Bách Khoa Sài Gòn khai mạc Đợt khảo sát chính thức phục vụ đánh giá ngoài cơ sở giáo dục nghề nghiệp Báo cáo kết quả tự đánh giá chất lượng cơ sở giáo dục nghề nghiệp năm 2023 Chức năng bình luận bị tắt ở Báo cáo kết quả tự đánh giá chất lượng cơ sở giáo dục nghề nghiệp năm 2023 CTY Dược Phẩm Thuốc Việt tuyển dụng Chức năng bình luận bị tắt ở CTY Dược Phẩm Thuốc Việt tuyển dụng Fanpage Bách Khoa Sài Gòn TRƯỜNG TRUNG CẤP BÁCH KHOA SÀI GÒN Trụ sở chính: 83A Bùi Thị He - KP1 - TT. Củ Chi - H. Củ Chi - TPHCM (028) 37923600 - 0944422446 - 0961828601 Cơ sở đào tạo: Số 1A Nguyễn Văn Lượng - Phường 6 - Quận Gò Vấp - TPHCM (028) 66813850 - 0979953763 - 0944422447 - 0961828602 - 0888573066 info@bachkhoasaigon.edu.vn Chương trình đào tạo Trung cấp chính quy Liên thông Cao đẳng – Đại học Đại học trực tuyến Chứng chỉ ngắn hạn Được đầu tư bởi Copyright 2020 © https://bachkhoasaigon.edu.vn Trang chủ Giới thiệu Tổ chức giáo dục EQuest Giới thiệu Trường QĐ Thành lập Trường Ban Giám Hiệu Đội ngũ Giảng viên Mục tiêu – Sứ mạng Trường Trung cấp Bách Khoa Sài Gòn Chiến lược phát triển Mẫu phôi Bằng – Chứng chỉ Giấy chứng nhận hoạt động GDNN Tuyển sinh 2025 Tuyển sinh hệ Trung cấp Tuyển sinh trung cấp 9+ Đại học vừa làm vừa học 2025 Đại học trực tuyến Chứng chỉ ngắn hạn Hướng dẫn xét tuyển Nộp hồ sơ trực tuyến Hướng nghiệp Học bổng khuyến học 2025 Học phí Nhập học online Đăng ký tư vấn Trung cấp Đăng ký tư vấn Ngắn hạn Đăng ký liên thông Cao đẳng – Đại học Chương trình đào tạo Cổng thông tin sinh viên Quy chế – Quy định Thời khóa biểu Thông báo Thông báo đào tạo Thông báo học phí Thông báo khác Kết quả học tập Kế hoạch & khung thời gian đào tạo Lịch thi Cựu sinh viên Hoạt động sinh viên Chuẩn đầu ra Tin học – Ngoại ngữ Tra cứu văn bằng Kinh nghiệm việc làm BKSG Doanh nghiệp – Việc làm Hệ thống ĐBCL Định Hướng và Chất Lượng Kết quả tự ĐGCL Năm 2023 Năm 2024 Năm 2025 Tuyển sinh Quy chế tuyển sinh Kế hoạch TS Hội đồng TS Thông báo tuyển sinh Công bố trúng tuyển Chuẩn đầu ra Chương trình đào tạo Năm 2022 Năm 2024 Giấy chứng nhận HĐ GDNN Thư viện Tuyển dụng Liên hệ', 'Điều kiện và thủ tục mở nhà thuốc tây, kinh doanh dược phẩm Giới thiệu Dịch vụ thành lập Thành lập công ty Công ty TNHH Công ty cổ phần Công ty vốn nước ngoài FDI company establishment Chi nhánh công ty Hộ kinh doanh cá thể Dịch vụ kế toán Kế toán trọn gói Kế toán nội bộ Tax and accounting service Khai thuế ban đầu Báo cáo tài chính Quyết toán thuế cuối năm Làm sổ sách kế toán Hoàn thuế GTGT Hoàn thuế TNCN Thay đổi GPKD Thay đổi tên Đổi địa chỉ Thêm ngành nghề Tăng vốn điều lệ Thêm cổ đông Đổi đại diện pháp luật Đổi loại hình công ty Cập nhật CCCD Dịch vụ khác Hóa đơn điện tử Bảo hiểm xã hội Tạm ngừng kinh doanh Giải thể doanh nghiệp Đăng ký kinh doanh VPĐD nước ngoài Đăng ký nhãn hiệu,logo Chữ ký số Đăng ký MST cá nhân Soạn thảo hợp đồng Đào tạo Kế toán tổng hợp Kế toán thuế Sổ sách kế toán Kiến thức Tra cứu Liên hệ Điều kiện và thủ tục mở nhà thuốc tây, kinh doanh dược phẩm Bạn đã biết điều kiện mở nhà thuốc tây và các thủ tục kinh doanh dược, bán thuốc tây chưa? Bài viết này sẽ chia sẻ kinh nghiệm & quy trình mở tiệm thuốc tây. Nội dung chính: Thủ tục, quy trình mở nhà thuốc tây, kinh doanh dược 1. Thủ tục xin chứng chỉ hành nghề dược 2. Thủ tục xin giấy chứng nhận đăng ký kinh doanh quầy thuốc 3. Thủ tục xin giấy phép kinh doanh mở quầy thuốc (giấy phép con) Kinh nghiệm & điều kiện mở nhà thuốc tây, kinh doanh dược phẩm Các câu hỏi thường gặp khi kinh doanh nhà thuốc Thủ tục, quy trình mở nhà thuốc tây, kinh doanh dược Kinh doanh dược phẩm là ngành nghề có điều kiện. Do vậy, để có thể mở nhà thuốc, mua bán thuốc tây ngoại nhập các loại… bạn phải được cấp các giấy chứng nhận sau: Chứng chỉ hành nghề dược; Giấy chứng nhận đăng ký kinh doanh; Giấy phép kinh doanh quầy thuốc. Tại nội dung này, Kế toán Anpha sẽ hướng dẫn bạn chi tiết các bước để có thể mở tiệm thuốc tây. 1. Thủ tục xin chứng chỉ hành nghề dược Theo Luật Dược 2016, chứng chỉ hành nghề dược là điều kiện bắt buộc đối với người chịu trách nhiệm chuyên môn tại nhà thuốc tây. Nói cách khác, để có thể hoạt động kinh doanh dược dưới mô hình nhà thuốc, bạn phải được cấp chứng chỉ hành nghề dược. ➧ Hồ sơ đăng ký chứng chỉ hành nghề dược Bạn chuẩn bị 1 bộ hồ sơ xin chứng chỉ hành nghề dược (*) với chi tiết như sau: Đơn đề nghị cấp chứng chỉ hành nghề dược (mẫu số 2); Bản sao công chứng văn bằng chuyên môn; Bản sao công chứng giấy xác nhận thời gian thực hành (mẫu số 3). ➧ Cơ quan cấp chứng chỉ hành nghề dược Hồ sơ gửi trực tiếp hoặc gửi qua đường bưu điện theo từng trường hợp: Đối với chứng chỉ hành nghề dược được cấp dưới hình thức thi: Nộp tại Bộ Y tế; Đối với chứng chỉ hành nghề dược được cấp dưới hình thức xét duyệt: Nộp tại Sở Y tế. ➧ Thời hạn cấp chứng chỉ hành nghề dược Trong vòng 15 ngày làm việc, kể từ ngày tiếp nhận hồ sơ, cơ quan có thẩm quyền sẽ cấp chứng chỉ hành nghề dược nếu hồ sơ hợp lệ hoặc gửi văn bản nêu rõ lý do từ chối. TẢI MIỄN PHÍ: Hồ sơ xin chứng chỉ hành nghề dược . (*) Tùy từng trường hợp mà chi tiết hồ sơ thay đổi. 2. Thủ tục xin giấy chứng nhận đăng ký kinh doanh quầy thuốc Nhà thuốc, tiệm thuốc có thể đăng ký thành lập dưới mô hình hộ kinh doanh và doanh nghiệp (tùy quy mô và định hướng hoạt động của chủ cơ sở), chẳng hạn: >> Mô hình hộ kinh doanh: Các nhà thuốc tây nhỏ, lẻ bạn thường thấy quanh khu vực bạn sinh sống; >> Mô hình doanh nghiệp: Chuỗi nhà thuốc tây Pharmacity, nhà thuốc Long Châu… Tùy vào loại hình thành lập mà hồ sơ và quy trình thực hiện khác nhau. ➧ Hồ sơ xin giấy chứng nhận đăng ký kinh doanh nhà thuốc tây Hộ kinh doanh Doanh nghiệp Đơn đề nghị đăng ký HKD Bản sao chứng chỉ hành nghề dược Bản sao CMND/CCCD/hộ chiếu chủ HKD và các thành viên (nếu có) Bản sao hợp đồng thuê nhà/các giấy tờ chứng minh quyền sử dụng đất hợp pháp Điều lệ công ty Đơn đề nghị đăng ký thành lập công ty Danh sách cổ đông/thành viên Bản sao CMND/CCCD/hộ chiếu thành viên/cổ đông/người đại diện pháp luật Giấy ủy quyền nếu ủy quyền cho cá nhân khác nộp hồ sơ Lưu ý : Tại bước này, tùy vào mô hình thành lập nhà thuốc tây mà mã ngành được ghi như sau: >> Đối với hộ kinh doanh, bạn ghi theo nội dung “Phạm vi hoạt động chuyên môn” trên chứng chỉ hành nghề dược; >> Đối với doanh nghiệp, bạn đăng ký các mã ngành sau: Mã ngành 4649 - Bán buôn đồ dùng khác cho gia đình; Mã ngành 4772 - Bán lẻ thuốc, dụng cụ y tế, mỹ phẩm và vật phẩm vệ sinh trong các cửa hàng chuyên doanh. ➧ Cơ quan cấp giấy chứng nhận đăng ký kinh doanh tiệm thuốc Hộ kinh doanh Doanh nghiệp Cơ quan đăng ký kinh doanh cấp huyện Sở Kế hoạch và Đầu tư Tham khảo thêm: Cách thành lập hộ kinh doanh ; Cách thành lập công ty . 3. Thủ tục xin giấy phép kinh doanh mở quầy thuốc (giấy phép con) Giấy chứng nhận đủ điều kiện kinh doanh dược là loại giấy tờ quan trọng để nhà thuốc tây được phép hoạt động. ➧ Hồ sơ xin giấy chứng nhận đủ điều kiện kinh doanh dược cho nhà thuốc, quầy thuốc Bạn chuẩn bị 1 bộ hồ sơ với chi tiết như sau: Đơn đề nghị cấp giấy chứng nhận đủ điều kiện kinh doanh dược (mẫu số 19); Tài liệu kỹ thuật tương ứng với nhà thuốc tây, quầy thuốc tây; Tài liệu và danh mục trang thiết bị bảo quản thuốc; Bản vẽ sơ đồ bố trí các khu vực tại nhà thuốc; Bản sao công chứng giấy chứng nhận đăng ký kinh doanh; Bản sao công chứng chứng chỉ hành nghề dược. ➧ Cơ quan cấp giấy chứng nhận đủ điều kiện kinh doanh dược Hồ sơ gửi đến Sở Y tế, dưới 1 trong 2 cách sau: Sử dụng dịch vụ bưu chính; Nộp trực tiếp tại cơ quan thẩm quyền. Sau khi nộp hồ sơ, bạn sẽ được Sở Y tế gửi phiếu tiếp nhận hồ. TẢI MIỄN PHÍ: Đơn xin cấp giấy chứng nhận đủ điều kiện kinh doanh dược . Lưu ý : Đây là thủ tục bắt buộc đối với cả doanh nghiệp và hộ kinh doanh. ➧ Quy trình xử lý hồ sơ và cấp giấy chứng nhận cho nhà thuốc tây Tiến độ xử lý đơn xin cấp giấy chứng nhận đủ điều kiện kinh doanh dược của nhà thuốc tây có phần phức tạp hơn so với các ngành nghề khác do phải tiến hành đánh giá thực tế tại cơ sở. Bảng dưới đây sẽ chia sẻ tổng quan các quy định về thời gian khi cấp giấy chứng nhận. Các trường hợp TH 1 TH 2 TH 3 TH 4 Hồ sơ hợp lệ ✓ ✓ ✗ ✗ Hoàn thành đánh giá thực tế ✓ ✗ ✓ ✗ Thời gian Điều chỉnh hồ sơ 10 ngày 10 ngày Đánh giá thực tế 20 ngày 20 ngày Cấp giấy chứng nhận 30 ngày 10 ngày 30 ngày 30 ngày Tổng thời gian 30 ngày 30 ngày 40 ngày 60 ngày Lưu ý : Quá trình thực hiện có thể kéo dài hơn nếu bạn phải sửa đổi, điều chỉnh hồ sơ và khắc phục thực tế tại cơ sở bán thuốc tây nhiều lần. Kinh nghiệm & điều kiện mở nhà thuốc tây, kinh doanh dược phẩm Nhà thuốc tây, quầy thuốc tây là mô hình kinh doanh của cơ sở bán lẻ thuốc. Theo đó, điều kiện để cơ sở bán lẻ thuốc được phép hoạt động được quy định như sau: 1. Điều kiện đối với nhân sự, người chịu trách nhiệm chuyên môn Người chịu trách nhiệm chuyên môn phải có văn bằng chuyên môn ngành dược bậc đại học và tối thiểu 2 năm thực hành chuyên môn tại cơ sở dược; Nhân sự trực tiếp bán thuốc cho người tiêu dùng phải có văn bằng chuyên môn ngành dược tối thiểu bậc trung cấp; Nhân sự bán thuốc của nhà thuốc tây không đang trong giai đoạn bị kỷ luật liên quan đến chuyên môn; Toàn bộ nhân sự của nhà thuốc tây phải được đào tạo và cập nhật về tiêu chuẩn thực hành bán lẻ thuốc tốt. 2. Điều kiện đối với cơ sở vật chất và kỹ thuật Nhà thuốc tây phải có địa điểm cố định với diện tích tối thiểu 10m2 và có khoảng cách xa các khu vực ô nhiễm; Nhà thuốc được thiết kế bao gồm các khu trưng bày thuốc, bảo quản thuốc, mua bán và hướng dẫn sử dụng thuốc với khách hàng; Khu vực bảo quản thuốc, bán thuốc phải tách biệt với các khu vực khác; Nhà thuốc tây phải được thiết kế và xây dựng chắc chắn, có khả năng chống bụi, không được tiếp xúc trực tiếp với ánh sáng mặt trời nhưng vẫn đảm bảo đủ sáng. Lưu ý : Nếu nhà thuốc tây kinh doanh thêm các mặt hàng khác như mỹ phẩm, dược mỹ phẩm, thực phẩm chức năng, dụng cụ y tế… thì phải sắp xếp ở khu vực riêng kèm nhãn dán ghi rõ “sản phẩm này không phải là thuốc”. 3. Điều kiện đối với thiết bị, dụng cụ y tế tại nhà thuốc tây Các thiết bị bảo quản thuốc phải đảm bảo tránh được các tác hại từ côn trùng và các yếu tố sinh thái khác như nhiệt độ, độ ẩm…; Quầy thuốc, tủ thuốc phải chắc chắn, không sần sùi để vừa có thể dễ dàng làm vệ sinh, vừa đảm bảo yếu tố thẩm mỹ trong việc trưng bày; Phải có thiết bị đo độ ẩm, thiết bị đo nhiệt độ tự ghi với tần suất 1 - 2 lần/giờ tại nhà thuốc và các thiết bị phải được hiệu chuẩn định kỳ; Phải có đủ ánh sáng để đảm bảo không bị nhầm lẫn các loại thuốc, thông tin trên nhãn thuốc; Bảo quản thuốc ở nhiệt độ phòng tối đa 30ºC, độ ẩm tối đa 75%. Tham khảo chi tiết theo Thông tư 02/2018/TT-BYT . Các câu hỏi thường gặp khi kinh doanh nhà thuốc 1. Mở tiệm thuốc tây cần bằng cấp gì? Tùy vào vị trí, phạm vi hoạt động của nhân sự tại tiệm thuốc mà yêu cầu về bằng cấp sẽ khác nhau. Chẳng hạn: Đối với nhân sự chịu trách nhiệm chuyên môn thì phải có văn bằng chuyên môn ngành dược bậc đại học và tối thiểu 2 năm thực hành chuyên môn tại cơ sở dược; Đối với nhân sự trực tiếp bán thuốc cho khách hàng thì phải có văn bằng chuyên môn ngành dược tối thiểu bậc trung cấp… Tham khảo chi tiết tại nội dung: Điều kiện mở nhà thuốc tây . 2. Thủ tục xin giấy phép kinh doanh mở quầy thuốc gồm những gì? Để quầy thuốc được thành lập và hoạt động hợp pháp, bạn cần hoàn thành 3 thủ tục pháp lý bắt buộc dưới đây: Thủ tục xin chứng chỉ hành nghề dược; Thủ tục thành lập, đăng ký kinh doanh quầy thuốc; Thủ tục xin giấy phép con hoạt động quầy thuốc tây. Tham khảo chi tiết hồ sơ và quy trình thực hiện từng thủ tục: Hướng dẫn mở nhà thuốc tây . 3. Chi phí, vốn mở tiệm thuốc tây quy định như thế nào? Mặc dù kinh doanh quầy thuốc tây là lĩnh vực kinh doanh có điều kiện nhưng lại không có quy định cụ thể về vốn pháp định khi hoạt động ngành nghề này. 4. Kinh nghiệm mở tiệm thuốc tây Để quá trình xét duyệt hồ sơ mở tiệm thuốc tây không bị gián đoạn, bạn cần đảm bảo các yêu cầu pháp lý về nhân sự bán thuốc, nhân sự chịu trách nhiệm chuyên môn, các điều kiện về kỹ thuật và cơ sở vật chất… Tham khảo chi tiết: Kinh nghiệm mở nhà thuốc tây . 5. Cao đẳng dược có mở được tiệm thuốc không? Hiện tại, luật quy định về nhân sự tại nhà thuốc tây như sau: Người chịu trách nhiệm chuyên môn phải có văn bằng chuyên môn ngành dược bậc đại học và tối thiểu 2 năm thực hành chuyên môn tại cơ sở dược; Nhân sự trực tiếp bán thuốc cho người tiêu dùng phải có văn bằng chuyên môn ngành dược tối thiểu bậc trung cấp. Như vậy, bạn không thể mở nhà thuốc tây với bằng cao đẳng dược nhưng vẫn có thể thực hiện công việc bán thuốc tại các nhà thuốc tây. Gọi cho chúng tôi theo số 0984 477 711 (Miền Bắc) , 0903 003 779 (Miền Trung) hoặc 0938 268 123 (Miền Nam) để được hỗ trợ. BÀI VIẾT LIÊN QUAN Ưu, nhược điểm các loại hình công ty, doanh nghiệp - có video Điều kiện, thủ tục, mẫu hồ sơ & cách đăng ký thành lập công ty Tiêu chuẩn GMP bao bì cấp 1 dược phẩm - ISO 15378 là gì? Danh mục 227 mã ngành nghề kinh doanh có điều kiện từ 2020 Đánh giá chất lượng bài viết, bạn nhé! 5.0 1 đánh giá Chọn đánh giá Vui lòng điền đầy đủ thông tin. Gửi đánh giá Quay lại Xem tiếp BÌNH LUẬN - HỎI ĐÁP Hãy để lại câu hỏi của bạn, chúng tôi sẽ trả lời TRONG 15 PHÚT Viết nội dung câu hỏi... Vui lòng đặt câu hỏi SĐT và email sẽ được ẩn để bảo mật thông tin của bạn GỬI NHANH XEM THÊM HỎI ĐÁP THAM KHẢO THÊM Dịch vụ xin mở phòng khám Tư Nhân Đa Khoa và Chuyên Khoa Thủ tục đăng ký kinh doanh mở Phòng Khám Đa Khoa Tư Nhân 15 Ngành nghề kinh doanh có điều kiện (cần giấy phép con) thường gặp Nên thành lập công ty, doanh nghiệp hay hộ kinh doanh cá thể? DỊCH VỤ LIÊN QUAN Dịch vụ đăng ký kinh doanh Dịch vụ thành lập công ty Dịch vụ thành lập hộ kinh doanh cá thể Dịch vụ kế toán thuế trọn gói CÙNG CHUYÊN MỤC 6 Điều Kiện Thành Lập Công Ty, Doanh Nghiệp Bạn PHẢI BIẾT Thủ tục đăng ký hộ kinh doanh cá thể (hộ gia đình) & 7 lưu ý Thuế là gì? Thuế doanh nghiệp phải nộp sau thành lập công ty Dịch vụ kế toán thuế cho hộ kinh doanh cá thể - Từ 500.000đ Ưu, nhược điểm các loại hình công ty, doanh nghiệp - có video Thủ tục chuyển đổi hộ kinh doanh cá thể thành doanh nghiệp GẦN XONG! HÃY GIÚP CHÚNG TÔI TRẢ LỜI BẠN. HOÀN THÀNH CÔNG TY KẾ TOÁN ANPHA SINCE 2007 Mã Anpha2007 Trụ sở TP. HCM Toà nhà Anpha, 202 Lê Lai, Phường Bến Thành, Quận 1 cskh@ketoananpha.vn 0938 268 123 (028) 62.704.111 Chi nhánh TP. HCM 144/17 Bình Lợi, Phường 13, Quận Bình Thạnh (028) 62.797.555 Chi nhánh Hà Nội Tầng 16 Tòa nhà Việt Á, Số 9 Phố Duy Tân, Phường Dịch Vọng Hậu, Quận Cầu Giấy 098 44 777 11 (024) 22.391.777 Chi nhánh Đà Nẵng Tầng 3 Tòa nhà PVcomBank, Số 2 Đường 30 tháng 4, Phường Hòa Cường Bắc, Quận Hải Châu 0903 003 779 (023) 66.277.179 Chi nhánh Cần Thơ Tầng 1 Tòa nhà Bưu Điện Cần Thơ, Số 2 Hòa Bình, Phường Tân An, Quận Ninh Kiều, Cần Thơ 0934 107 632 Chi nhánh Đồng Nai 1628/3 Nguyễn Ái Quốc, TP.Biên Hòa, Đồng Nai 0934 107 632 Chi nhánh Bình Dương 81 Trần Văn Ơn, Tp.Thủ Dầu Một, Tỉnh Bình Dương 0909 709 915 © 2007 Công ty Kế Toán Anpha giữ bản quyền nội dung trên website này. Miền Bắc 09844 777 11 Miền Trung 0903 003 779 Miền Nam 0938 268 123 Miền Bắc 09844 777 11 Miền Trung 0903 003 779 Miền Nam 0938 268 123 GỌI ĐIỆN CHAT ZALO MESSENGER', 'Quy định, thủ tục mở quầy thuốc đầy đủ và chính xác nhất 2024 - Trường Công Nghệ Bách Khoa Skip to content Hotline: 0838.068.068 Hotline: 0838.068.068 Trang chủ Giới thiệu Tầm nhìn – Sứ mệnh Sơ đồ tổ chức Tuyển sinh Tuyển sinh cao đẳng Cao đẳng chính quy Cao đẳng liên thông Cao đẳng từ xa Tuyển sinh trung cấp Tuyển sinh lớp 10 (9+) Trung cấp chính quy Trung cấp từ xa Tuyển sinh đại học Đại học liên thông Đại học từ xa Tuyển sinh sơ cấp Sơ cấp nghề Hàn – Phay – Tiện Học Lái – Nâng – Cẩu Sửa Ô tô – Máy công trình Đào tạo – Khoa Du học Du học Đức Du học Hàn Du học Singapore Ngoại ngữ Tiếng Anh Tiếng Đức Tiếng Nhật Tiếng Hàn Tiếng Trung Tin tức Tra cứu văn bằng Trang chủ / Ngành Đào Tạo / Quy định, thủ tục mở quầy thuốc đầy đủ và chính xác nhất 2024 / Quy định, thủ tục mở quầy thuốc đầy đủ và chính xác nhất 2024 Nội dung bài viết Điều kiện mở quầy thuốc theo luật Dược Quầy thuốc đáp ứng tiêu chuẩn GPP Điều kiện đối với người chịu trách nhiệm chuyên môn về dược Điều kiện đối với giấy tờ, thủ tục khi mở quầy thuốc Địa bàn hoạt động của quầy thuốc Quy định về danh mục thuốc được bán tại quầy thuốc Thủ tục mở quầy thuốc Thủ tục xin cấp Chứng chỉ hành nghề Dược Thủ tục xin cấp Giấy phép đăng ký kinh doanh Thủ tục xin cấp Chứng nhận thực hành tốt cơ sở quầy thuốc GPP Thủ tục xin cấp Chứng nhận đủ điều kiện kinh doanh Dược Hướng dẫn nộp thuế cho quầy thuốc Tây Những câu hỏi thường gặp Muốn mở quầy thuốc thành công, bạn cần nắm rõ những quy định dưới đây trước khi bắt tay vào đầu tư. Đây là tất tần tật những quy định mở quầy thuốc 2024 chính xác nhất, được ban hành bởi pháp luật Việt Nam. Điều kiện mở quầy thuốc theo luật Dược Căn cứ theo luật Dược 2016, quầy thuốc là một hình thức kinh doanh bán lẻ thuốc. Do có mối liên quan mật thiết tới sức khỏe, tính mạng của cộng đồng nên khi mở quầy thuốc tư nhân, bạn bắt buộc phải tuân thủ theo các yêu cầu pháp lý riêng. Cơ sở kinh doanh theo hình thức quầy thuốc được phép hoạt động khi đáp ứng đủ các điều kiện sau: Quầy thuốc đáp ứng tiêu chuẩn GPP Đáp ứng tiêu chuẩn GPP là yêu cầu tối thiểu để một quầy thuốc được cấp phép hoạt động. GPP được thể hiện qua tài liệu chuyên môn kỹ thuật, địa điểm, trang thiết bị bảo quản, khu vực bảo quản, nhân sự của cửa hiệu thuốc. Luật Dược 2016 đưa ra các quy định về một quầy thuốc đạt tiêu chuẩn GPP như sau: Vị trí mở quầy thuốc phải an toàn, thông thoáng, cách xa khu vực ô nhiễm. Cơ sở được xây dựng kiên cố, không tạm bợ, đảm bảo mỹ quan chung Quy định diện tích mở nhà thuốc tối thiểu hiện nay là 10m2. Bố trí khu vực riêng biệt, trong đó có khu bảo quản, khu trưng bày, khu để khách hàng tiếp xúc và trao đổi các thông tin về thuốc với dược sĩ Đáp ứng trang thiết bị bảo quản thuốc theo đúng yêu cầu thể hiện trên nhãn: tủ thuốc, quầy thuốc, máy lạnh, nhiệt kế,… Thuốc phải được bảo quản trong môi trường phù hợp (nhiệt độ không quá 30 độ C; độ ẩm không vượt quá 75%) Kinh doanh thuốc hợp pháp, chất lượng theo yêu cầu của Bộ Y Tế Bảng hiệu quầy thuốc đảm bảo về tiêu chuẩn GPP về cách thiết kế, nội dung, màu sắc,… Trình độ chuyên môn, kinh nghiệm của nhân sự phải phù hợp với công việc được giao. Quầy thuốc tuyển dụng số lượng nhân viên phù hợp với quy mô cửa hiệu Nhân viên có đủ năng lực hành vi dân sự, sức khỏe tốt và không chịu phạt (trên mức cảnh cáo) liên quan tới chuyên ngành Y – Dược Điều kiện đối với người chịu trách nhiệm chuyên môn về dược Theo những điều khoản quy định trong Luật Dược 2016, dược sĩ phụ trách chuyên môn tại cửa hiệu phải sở hữu bằng tốt nghiệp dược sĩ của 1 trong 3 hệ: Trung Cấp, Cao Đẳng hoặc Đại Học . Đồng thời, được tham gia thực hành chuyên môn tối thiểu 18 tháng tại các cơ sở dược theo quy định. Về nội dung thực hành, dược sĩ chuyên môn phải được thực hành một trong số chín nội dung sau đây: Bán buôn, bán lẻ thuốc Xuất nhập khẩu thuốc Sản xuất thuốc Bảo quản thuốc Phân phối thuốc Nghiên cứu dược Kiểm nghiệm thuốc, nguyên liệu làm thuốc Dược lâm sàng, cung ứng thuốc đối với cơ sở khám chữa bệnh Quản lý dược tại các cơ quan quản lý về dược Điều kiện đối với giấy tờ, thủ tục khi mở quầy thuốc Giấy tờ, thủ tục là phần khiến nhiều chủ quầy băn khoăn, lo lắng nhất trong quy định mở quầy thuốc 2023. Để có được sự chấp thuận của nhà nước trong quá trình kinh doanh, bạn cần phải có đầy đủ 4 loại giấy tờ như sau: Chứng chỉ hành nghề dược (Sở Y Tế cấp) Giấy chứng nhận đăng ký kinh doanh (cấp bởi UBND hoặc Sở Kế Hoạch và Đầu Tư) Giấy chứng nhận Thực hành tốt nhà thuốc GPP (Sở Y Tế cấp) Giấy chứng nhận đủ điều kiện kinh doanh dược phẩm (Sở Y Tế cấp) Địa bàn hoạt động của quầy thuốc Đối với nhiều người mới, chưa có nhiều kinh nghiệm thường sẽ rất ít khi để ý tới vấn đề này. Nhưng bạn nên biết rằng, quy định mở quầy thuốc 2024 chỉ được hoạt động tại một số khu vực nhất định. Theo Nghị định 54/2017/NĐ-CP của Bộ Y tế ban hành tính đến thời điểm hiện tại, địa bàn kinh doanh của quầy thuốc bao gồm: Xã, thị trấn. Các vùng được chuyển từ xã, thị trấn lên phường (nếu tại phường đó chưa có cơ sở bán lẻ thuốc nào có thể phục vụ đủ cho 20.000 người dân và kinh doanh không quá 03 năm). Trước khi chính thức đi vào khâu xây dựng quầy thuốc, bạn nên khảo sát mặt bằng thật kỹ càng. Ưu tiên lựa chọn những khu vực cao ráo, sạch sẽ, ngay mặt đường và ở nơi có dân cư quan lại đông đúc. Tuy nhiên, những nơi như thế sẽ có giá cả không thấp. Vậy nên, bạn phải cân nhắc thật kĩ vì vị trí quầy thuốc sẽ ảnh hưởng rất lớn tới tình hình kinh doanh. Quy định về danh mục thuốc được bán tại quầy thuốc So với nhà thuốc, danh mục thuốc được bán tại quầy thuốc có phần hạn chế hơn rất nhiều. Theo quy định mở quầy thuốc 2024, chủ quầy chỉ được phép kinh doanh các mặt hàng thuộc danh mục thuốc thiết yếu và danh mục thuốc không kê đơn, trừ vacxin. Đối với một số cửa hiệu nằm ở khu vực điều kiện kinh tế khó khăn, vùng đồng bào dân tộc thiểu số, miền núi, hải đảo thì được phép kinh doanh thêm một số mặt hàng khác được quy định bộ trưởng Bộ Y Tế. Trường hợp thuốc nằm trong danh mục kiểm soát đặc biệt và danh mục hạn chế bán lẻ phải được sự cấp phép của cơ quan thẩm quyền thông qua văn bản. Nắm rõ các mặt hàng được bán tại quầy thuốc giúp bạn tránh những rủi ro liên quan tới pháp lý. Điều này còn có ý nghĩa rất lớn trong việc lên kế hoạch kinh doanh cho cửa hiệu. Chính vì vậy, nếu có ý định mở quầy, bạn cần đặc biệt lưu ý tới vấn đề này nhé. Thủ tục mở quầy thuốc Thủ tục xin cấp Chứng chỉ hành nghề Dược Kinh doanh bán lẻ thuốc là một lĩnh vực kinh doanh có điều kiện. Vì vậy, muốn mở quầy thuốc, trước hết bạn phải có chứng chỉ hành nghề. Hồ sơ xin cấp chứng chỉ này gồm có: Đơn đề nghị cấp Chứng chỉ hành nghề Dược dựa theo mẫu quy định; 02 ảnh với kích cỡ 4*6 chụp không quá 06 tháng; Tờ sơ yếu lý lịch được công chứng; Bản sao công chứng CCCD/ CMT; Bản sao công chứng Bằng tốt nghiệp ngành Dược; Bản gốc hoặc bản sao hợp lệ của Giấy chứng nhận sức khỏe; Bản gốc hoặc bản sao hợp lệ Giấy xác nhận thời gian thực hành. Trong trường hợp dược sĩ đã từng bị thu hồi Chứng chỉ hành nghề Dược, nếu muốn được cấp lại chứng chỉ, cần có thêm Giấy xác nhận đã hoàn thành chương trình đào tạo và cập nhật các kiến thức chuyên môn về Dược. Thủ tục xin cấp Giấy phép đăng ký kinh doanh Hồ sơ cần có: Mẫu đơn đề nghị đăng ký hộ kinh doanh; Bản sao công chứng CCCD/CMT; Chứng chỉ hành nghề dược. Thủ tục xin cấp Chứng nhận thực hành tốt cơ sở quầy thuốc GPP Thủ tục mở quầy thuốc GPP bắt buộc phải có Chứng nhận thực hành tốt cơ sở quầy thuốc. Đây sẽ là chứng nhận đảm bảo uy tín cho hiệu thuốc của bạn. Chuẩn bị hồ sơ gồm có: Mẫu đơn đăng ký kiểm chứng “Thực hành tốt cơ sở quầy thuốc” theo quy định; Bản sao công chứng của Chứng chỉ hành nghề Dược và Giấy chứng nhận đăng ký kinh doanh. Bản kê khai nhân sự bán hàng của quầy thuốc; Bản kê khai cơ sở vật chất và các trang thiết bị tại quầy thuốc; Biên bản tự đánh giá điểm của quầy thuốc GPP dựa trên các tiêu chí mà Cục quản lý Dược Việt Nam đưa ra; Quy trình thao tác chuẩn SOP trong hoạt động của quầy thuốc; Các văn bản pháp lý liên quan khác. Thủ tục xin cấp Chứng nhận đủ điều kiện kinh doanh Dược Sau khi được cấp 3 loại chứng nhận trên, bạn sẽ phải hoàn thành khâu cuối trong thủ tục mở quầy thuốc. Hồ sơ đề nghị cấp Chứng nhận đủ điều kiện kinh doanh dược gồm: Mẫu đơn đề nghị cấp Chứng nhận đủ điều kiện kinh doanh Dược; Bản sao công chứng của Giấy chứng nhận đăng ký kinh doanh, Chứng chỉ hành nghề hợp pháp và Chứng nhận đạt tiêu chuẩn GPP- đối với quầy thuốc GPP. Hồ sơ của dược sĩ bán hàng tại quầy thuốc (nếu có). Hướng dẫn nộp thuế cho quầy thuốc Tây Theo quy định, các hộ kinh doanh sẽ phải nộp thuế gồm thuế thu nhập cá nhân và thuế giá trị gia tăng theo phương pháp khoán, trong trường hợp doanh thu lớn hơn 100 triệu đồng/ năm. Để xác định doanh thu của quầy thuốc, chủ quầy thuốc căn cứ vào khoản 2 Điều 2 tại Thông tư 92/2015/TT-BTC, Luật về thuế số 71/2014/QH13 và Nghị định số 12/2015/NĐ-CP. Quầy thuốc là cơ sở thực hiện việc bán lẻ thuốc nên sẽ thuộc nhóm ngành nghề phân phối và cung cấp hàng hóa. Như vậy, dựa vào các thông tư, nghị định, tổng kết lại, thuế của quầy thuốc Tây là: 1% đối với thuế GTGT. 0,5% đối với thuế thu nhập cá nhân. Những câu hỏi thường gặp Trong phần này, chúng tôi sẽ trả lời một số câu hỏi thường gặp liên quan đến “mở quầy thuốc cần những giấy tờ gì” để bạn có cái nhìn sâu hơn về vấn đề này. 01. Thời gian cần thiết để hoàn thiện mọi giấy tờ là bao lâu? Trả lời: Thời gian để hoàn thiện mọi giấy tờ có thể kéo dài từ 1-3 tháng, tùy vào độ phức tạp của từng trường hợp và tốc độ xử lý của các cơ quan hành chính địa phương. 02. Có cần phải thuê dịch vụ tư vấn khi mở quầy thuốc không? Trả lời: Việc thuê dịch vụ tư vấn không hoàn toàn cần thiết nhưng sẽ giúp bạn tiết kiệm thời gian và tránh gặp phải các rắc rối pháp lý khi mở quầy thuốc. 03. Điều kiện về mặt bằng khi mở quầy thuốc cần chú ý những gì? Trả lời: Khi chọn mặt bằng, bạn cần chú ý đến vị trí, diện tích, cũng như việc mặt bằng đó phải đảm bảo các yêu cầu về vệ sinh an toàn thực phẩm (ATTP) và các tiêu chuẩn kỹ thuật cơ bản khác. 04. Làm thế nào để xin giấy phép kinh doanh quầy thuốc? Trả lời: Để xin giấy phép kinh doanh, bạn cần chuẩn bị đầy đủ hồ sơ theo yêu cầu của cơ quan quản lý nhà nước về kinh doanh và thực hiện các bước đăng ký kinh doanh theo quy định. 05. Liệu tôi có thể mở quầy thuốc tại nhà không? Trả lời: Có, bạn có thể mở quầy thuốc tại nhà nếu nhà bạn đáp ứng được các yêu cầu về tiêu chuẩn vệ sinh, diện tích và các yêu cầu khác của cơ quan quản lý. Như vậy, thủ tục mở quầy thuốc gồm 4 loại hồ sơ chính. Và trước khi chuẩn bị các loại thủ tục này, quầy thuốc cần phải xét các điều kiện đạt chuẩn. Nếu cảm thấy việc chuẩn bị hồ sơ quá phức tạp, bạn có thể tìm tới những dịch vụ chuyên về mở quầy thuốc. Tuy nhiên, chi phí phải trả sẽ lớn hơn. Xem thêm: Bằng cao đẳng dược được mở quầy thuốc ở đâu? 4.8/5 - (10 bình chọn) BÀI VIẾT MỚI Học phí và Thời gian học của Cao đẳng Quản trị mạng máy tính Việc làm của Trung cấp Y học cổ truyền sau khi ra trường? Việc làm của Trung cấp Thú y sau khi ra trường? Việc làm của Trung cấp Dược sau khi ra trường? Top các trường Cao đẳng Dược uy tín ở TPHCM Tư vấn: 0878.44.11.44 CSHV - SV: 0888.875.336 Tra cứu bằng: 0786.30.7777 GIỚI THIỆU Về chúng tôi Tuyển sinh Đào tạo - Khoa Liên kết đại học Tin tức Fanpage Bản đồ Co sở HCM 85 Nguyễn Văn Nghi, Phường 7, Quận Gò Vấp, TP. Hồ Chí Minh Cơ sở Bình Phước 825 Quốc Lộ 14, Phường Tân Bình, TP Đồng Xoài, Bình Phước Cơ sở Quảng Ngãi Tổ 20, Phường Chánh Lộ, Thành phố Quảng Ngãi Copyright 2025 © huni.edu.vn Trang chủ Giới thiệu Tầm nhìn – Sứ mệnh Sơ đồ tổ chức Tuyển sinh Tuyển sinh cao đẳng Cao đẳng chính quy Cao đẳng liên thông Cao đẳng từ xa Tuyển sinh trung cấp Tuyển sinh lớp 10 (9+) Trung cấp chính quy Trung cấp từ xa Tuyển sinh đại học Đại học liên thông Đại học từ xa Tuyển sinh sơ cấp Sơ cấp nghề Hàn – Phay – Tiện Học Lái – Nâng – Cẩu Sửa Ô tô – Máy công trình Đào tạo – Khoa Du học Du học Đức Du học Hàn Du học Singapore Ngoại ngữ Tiếng Anh Tiếng Đức Tiếng Nhật Tiếng Hàn Tiếng Trung Tin tức Tra cứu văn bằng ĐĂNG KÝ TƯ VẤN Δ X Đăng ký tư vấn Zalo Zalo me Facebook Messenger Đăng kí Messenger Gọi điện Zalo Zalo me', 'Thủ tục làm giấy phép kinh doanh nhà thuốc Giới thiệu Hồ sơ năng lực Công ty Luật LEGALAM Đội ngũ Luật sư Doanh nghiệp Đăng ký kinh doanh Thay đổi ĐKKD Chuyển đổi loại hình Tạm ngừng hoạt động Giải thể công ty Hộ kinh doanh Sở hữu trí tuệ Nhãn hiệu Kiểu dáng công nghiệp Sáng chế Bản quyền tác giả Chuyển nhượng quyền sở hữu công nghiệp Đầu tư Đầu tư trong nước Đầu tư có vốn nước ngoài Giấy phép con Visa – Thẻ tạm trú – GPLĐ Dịch vụ làm Visa cho người nước ngoài Dịch vụ làm thẻ tạm trú cho người nước ngoài Dịch vụ tư vấn giấy phép lao động/Work Permit cho người nước ngoài +84 936 061 359 · [email\\xa0protected] · Miễn phí tư vấn Giới thiệu Hồ sơ năng lực Công ty Luật LEGALAM Đội ngũ Luật sư Doanh nghiệp Đăng ký kinh doanh Thay đổi ĐKKD Chuyển đổi loại hình Tạm ngừng hoạt động Giải thể công ty Hộ kinh doanh Sở hữu trí tuệ Nhãn hiệu Kiểu dáng công nghiệp Sáng chế Bản quyền tác giả Chuyển nhượng quyền sở hữu công nghiệp Đầu tư Đầu tư trong nước Đầu tư có vốn nước ngoài Giấy phép con Visa – Thẻ tạm trú – GPLĐ Dịch vụ làm Visa cho người nước ngoài Dịch vụ làm thẻ tạm trú cho người nước ngoài Dịch vụ tư vấn giấy phép lao động/Work Permit cho người nước ngoài Thủ tục xin giấy phép kinh doanh nhà thuốc [Chi tiết nhất] • 18 Tháng 8, 2023 • Luật sư Nguyễn Hoàng • Đăng ký kinh doanh , Giấy phép con Giấy phép kinh doanh nhà thuốc là một trong những loại giấy tờ được cấp phép với cơ sở kinh doanh thuốc tân dược. Yêu cầu các quầy thuốc phải có loại giấy phép này mới được phép kinh doanh, hành nghề. Sau đây Công ty Luật LEGALAM sẽ tư vấn các vấn đề liên quan đến giấy phép hoạt động kinh doanh quầy thuốc để mọi người cùng tham khảo. Nội dung bài viết 1 Giấy phép kinh doanh nhà thuốc là gì? 2 Cơ sở pháp lý cấp phép kinh doanh nhà thuốc 3 Điều kiện được cấp giấy phép kinh doanh nhà thuốc 3.1 Điều kiện về cơ sở vật chất, kỹ thuật 3.2 Điều kiện đối với thiết bị và dụng cụ y tế tại nhà thuốc 3.3 Điều kiện về nhân sự 4 Hồ sơ đăng ký Giấy phép kinh doanh nhà thuốc 4.1 Hồ sơ xin cấp chứng chỉ hành nghề Dược 4.2 Hồ sơ cấp Giấy CN đủ điều kiện kinh doanh nhà thuốc 4.3 Hồ sơ xin cấp chứng nhận đạt chuẩn thực hành nhà thuốc tốt (GPP) 5 Thủ tục đăng ký Giấy phép kinh doanh nhà thuốc 5.1 Thủ tục xin cấp Giấy phép đăng ký kinh doanh 5.2 Thủ tục xin Giấy CN đủ điều kiện kinh doanh dược 6 Dịch vụ xin giấy phép kinh doanh nhà thuốc tại Legalam 7 Câu hỏi liên quan về xin giấy phép kinh doanh nhà thuốc 8 Kết luận Giấy phép kinh doanh nhà thuốc là gì? Giấy phép kinh doanh nhà thuốc là giấy tờ được cơ quan y tế có thẩm quyền cấp phép cho các cơ sở kinh doanh cá nhân, doanh nghiệp được phép mở quầy thuốc. Các quầy thuốc được cấp phép hoạt động phải đảm bảo đầy đủ các điều kiện kinh doanh dược. Giấy phép kinh doanh quầy thuốc được cơ quan thẩm quyền cấp dưới dạng Giấy chứng nhận đủ điều kiện kinh doanh thuốc tân dược. Giấy phép hoạt động kinh doanh hiệu thuốc Xem thêm: Thủ tục đăng ký giấy phép kinh doanh mới nhất 2023 Cơ sở pháp lý cấp phép kinh doanh nhà thuốc Bộ Luật Dược năm 2016 Nghị định 01/2021/NĐ-CP Quy định về đăng ký thành lập doanh nghiệp Nghị định 54/2017/NĐ-CP Quy định chi tiết về các điều và biện pháp thi hành Luật Dược hiện hành Thông tư 02/2018/TT- BYT Quy định về thực hiện tốt các hoạt động của cơ sở bán lẻ thuốc Điều kiện được cấp giấy phép kinh doanh nhà thuốc Điều kiện về cơ sở vật chất, kỹ thuật Căn cứ Khoản 5 Điều 31 Nghị định 54/2017/NĐ-CP quy định điều kiện cơ sở vật chất đối với cơ sở bán lẻ thuốc như sau: a) Địa điểm cố định, bố trí ở nơi thoáng mát, cao ráo, an toàn, cách xa nguồn ô nhiễm; b) Khu vực hoạt động của nhà thuốc phải tách biệt hoàn toàn với các hoạt động khác; c) Xây dựng chắc chắn, có trần chống bụi, nền và tường nhà dễ làm vệ sinh, đầy đủ ánh sáng cho các hoạt động và tránh nhầm lẫn, không để thuốc bị tác động trực tiếp của ánh sáng mặt trời. d) Diện tích phù hợp với quy mô kinh doanh nhưng tối thiểu là 10m 2 , phải có khu vực bảo quản thuốc, khu vực trưng bày và khu vực để người mua tiếp xúc và trao đổi thông tin việc sử dụng thuốc với người bán lẻ; e) Phải bố trí thêm khu vực cho những hoạt động khác như: – Nếu có tổ chức pha chế theo đơn phải có phòng pha chế theo đơn; – Khu vực ra lẻ thuốc không còn bao bì tiếp xúc trực tiếp với thuốc để bán lẻ trực tiếp cho người bệnh; – Kho để bảo quản thuốc riêng (nếu cần); – Phòng hay khu vực tư vấn riêng cho người mua thuốc/bệnh nhân. f) Trường hợp kinh doanh thêm mỹ phẩm, thực phẩm chức năng, dụng cụ y tế phải có khu vực riêng, không được bày bán cùng với thuốc và không gây ảnh hưởng đến thuốc; phải có biển hiệu ghi rõ “Sản phẩm này không phải là thuốc” Điều kiện về cơ sở vật chất, kỹ thuật Điều kiện đối với thiết bị và dụng cụ y tế tại nhà thuốc a) Có đủ thiết bị bảo quản thuốc tránh được những ảnh hưởng bất lợi của nhiệt độ, độ ẩm, ánh sáng, sự ô nhiễm, sự xâm nhập của côn trùng, bao gồm: – Tủ, quầy, giá kệ thuốc chắc chắn, trơn nhẵn, dễ thực hiện vệ sinh, thuận tiện cho bày bán, bảo quản thuốc và đảm bảo tính thẩm mỹ; – Có đủ ánh sáng để đảm bảo thao tác kiểm tra các thông tin trên nhãn thuốc và tránh nhầm lẫn. – Nhiệt kế, ẩm kế để kiểm soát độ ẩm, nhiệt độ tại cơ sở bán lẻ thuốc và được hiệu chuẩn định kỳ theo quy định. b) Thiết bị bảo quản thuốc phù hợp với các yêu cầu bảo quản ghi trên nhãn thuốc. Điều kiện bảo quản ở nhiệt độ phòng: nhiệt độ không vượt quá 30°C, độ ẩm không vượt quá 75%. Điều kiện về nhân sự Theo bộ Tiêu chuẩn thực hành tốt cơ sở bán lẻ thuốc đối với nhà thuốc được ban hành kèm theo Thông tư 02/2018/TT-BYT yêu cầu như sau: 1.Người phụ trách chuyên môn phải có bằng tốt nghiệp ĐH ngành dược, có Chứng chỉ hành nghề dược theo quy định hiện hành. 2. Nhà thuốc phải có nguồn nhân lực thích hợp (số lượng, kinh nghiệm nghề nghiệp, bằng cấp) để đáp ứng quy mô hoạt động. 3. Nhân viên trực tiếp tham gia bán thuốc, bảo quản thuốc, pha chế thuốc, quản lý chất lượng thuốc, giao nhận phải có bằng cấp chuyên môn và có thời gian hành nghề phù hợp với công việc được giao, trong đó: a) Từ 01/01/2020, người trực tiếp bán lẻ thuốc phải có văn bằng chuyên môn dược từ TC dược trở lên trừ trường hợp quy định tại điểm b. b) Người trực tiếp pha chế thuốc, người làm công tác dược lâm sàng phải có bằng tốt nghiệp ĐH ngành dược. 4. Tất cả các nhân viên trong trường hợp quy định tại khoản 3 Điều này phải không đang trong thời gian bị kỷ luật từ hình thức phạt cảnh cáo trở lên có liên quan đến chuyên môn y, dược. 5. Nhân viên được đào tạo ban đầu và cập nhật về tiêu chuẩn Thực hành tốt bán lẻ thuốc. Điều kiện cần có khi mở hiệu thuốc kinh doanh Xem thêm: Thủ tục đăng ký giấy phép kinh doanh rượu mới nhất 2023 Hồ sơ đăng ký Giấy phép kinh doanh nhà thuốc Để nhà thuốc có đủ điều kiện đi vào hoạt động thì cần có đủ những loại giấy tờ sau: Giấy chứng nhận đăng ký kinh doanh nhà thuốc (dưới hình thức hộ kinh doanh hoặc doanh nghiệp) Giấy CN đủ điều kiện kinh doanh dược Chứng chỉ hành nghề Dược Giấy CN đạt chuẩn thực hành nhà thuốc tốt (GPP) Tương ứng mỗi loại giấy tờ là một bộ hồ sơ tương ứng, cụ thể như sau: Hồ sơ xin cấp chứng chỉ hành nghề Dược Dựa theo Điều 24 Luật Dược 2016, Điều 3 Nghị định số 54/2017/NĐ-CP, Khoản 2 Điều 5 Nghị định số 155/2018/NĐ-CP. Hồ sơ đề nghị cấp Chứng chỉ hành nghề dược bao gồm như sau: Đơn đề nghị cấp giấy phép hành nghề dược có ảnh chân dung của người đề nghị được chụp trong thời gian không quá 6 tháng. Bản sao các giấy chứng thực văn bằng chuyên môn liên quan ngành dược. Giấy chứng nhận đảm bảo đủ điều kiện sức khỏe hành nghề dược do cơ sở y tế có thẩm quyền cung cấp. Giấy xác nhận thời gian thực hành chuyên môn do người đứng đầu cơ sở nơi người đó thực hành gần nhất cấp. Giấy xác nhận hoàn thành các chương trình đào tạo về dược, cập nhật các kiến thức chuyên môn với ngành dược đối với những người đã bị thu hồi chứng chỉ hành nghề dược được quy định ở Khoản 9 Điều 28 của Luật này. Cung cấp bản sao căn cước công dân, hộ chiếu. Những người nước ngoài, người Việt Nam định cư ở nước ngoài yêu cầu cần có phiếu lý lịch tư pháp hoặc các văn bản xác nhận không phạm tội, không bị truy cứu trách nhiệm hình sự. Những trường hợp đã được cấp giấy chứng nhận hành nghề dược nhưng lại thu hồi theo Khoản 3 Điều 28 của Luật có quy định người đề nghị cấp lại giấy chứng nhận hành nghề dược chỉ cần nộp đơn theo Khoản 1 Điều này. Hồ sơ xin cấp chứng chỉ hành nghề Dược Hồ sơ cấp Giấy CN đủ điều kiện kinh doanh nhà thuốc Đơn đề nghị cấp Giấy CN đủ điều kiện kinh doanh dược; Tài liệu về địa điểm, trang thiết bị bảo quản,\\xa0 khu vực bảo quản, tài liệu chuyên môn và nhân sự theo nguyên tắc Thực hành tốt cơ sở bán lẻ thuốc. Bản sao công chứng, chứng thực Giấy CN đăng ký doanh nghiệp hoặc tài liệu pháp lý chứng minh việc thành lập cơ sở; Bản sao công chứng, chứng thực Chứng chỉ hành nghề dược; Giấy CN đủ điều kiện kinh doanh nhà thuốc Hồ sơ xin cấp chứng nhận đạt chuẩn thực hành nhà thuốc tốt (GPP) Đơn đề nghị cấp Giấy CN đủ điều kiện kinh doanh. Giấy CN đủ điều kiện kinh doanh dược hoặc giấy CN thực hành tốt tại địa điểm kinh doanh (nếu có). Tài liệu theo nguyên tắc thực hành tốt cơ sở bán lẻ thuốc: Địa điểm, trang thiết bị bảo quản, khu vực bảo quản, tài liệu chuyên môn kỹ thuật, nhân sự. Trong đó bao gồm: Bản kê khai cơ sở vật chất, trang thiết bị: Bản vẽ bố trí khu vực; danh mục trang thiết bị; hồ sơ, tài liệu và quy trình thao tác chuẩn. Danh sách các nhân sự, sơ đồ nhân sự và tên, chức danh, trình độ chuyên môn của nhân sự. Bản tự kiểm tra thực hành tốt cơ sở bán thuốc lẻ. Giấy CN đăng ký doanh nghiệp hoặc giấy tờ pháp lý chứng minh việc thành lập cơ sở (bản sao có chứng thực). Chứng chỉ hành nghề dược ( bảo sao có chứng thực) Hồ sơ xin cấp chứng nhận đạt chuẩn thực hành nhà thuốc đạt chuẩn GPP Xem thêm: Thủ tục xin giấy phép kinh doanh Spa – Điều kiện đăng ký Thủ tục đăng ký Giấy phép kinh doanh nhà thuốc Vì kinh doanh nhà thuốc là ngành nghề có điều kiện được pháp luật quy định, giám sát chặt chẽ nên các cơ sở kinh doanh dược phải thực hiện đầy đủ 02 thủ tục sau: Giai đoạn 1: Xin Giấy phép đăng ký kinh doanh Giai đoạn 2: Xin Giấy chứng nhận đủ điều kiện kinh doanh dược Thủ tục xin cấp Giấy phép đăng ký kinh doanh Tùy vào nhu cầu kinh doanh mà chủ cơ sở có thể chọn loại hình hộ kinh doanh hoặc doanh nghiệp để hoạt động. Mỗi mô hình có những ưu nhược điểm khác nhau, trong đó: – Hộ kinh doanh do một cá nhân hoặc những thành viên hộ gia đình đăng ký thành lập và chịu trách nhiệm bằng toàn bộ tài sản của mình đối với hoạt động kinh doanh của hộ. Trường hợp những thành viên hộ gia đình đăng ký hộ kinh doanh thì ủy quyền cho 01 thành viên làm đại diện hộ kinh doanh. Cá nhân đăng ký hộ kinh doanh, người được các thành viên hộ gia đình ủy quyền làm đại diện hộ kinh doanh là chủ hộ kinh doanh. >> Tham khảo: Thủ tục đăng ký kinh doanh hộ cá thể – Doanh nghiệp là một tổ chức có tên riêng, có tài sản, trụ sở giao dịch, được thành lập hoặc đăng ký thành lập nhằm mục đích kinh doanh theo quy định của pháp luật. Doanh nghiệp có 4 loại hình sau đây: Doanh nghiệp tư nhân Công ty TNHH có: Công ty TNHH 1 thành viên hoặc công ty TNHH 2 thành viên trở lên Công ty cổ phần Công ty hợp danh Thủ tục xin Giấy CN đủ điều kiện kinh doanh dược Sau khi đã có Giấy chứng nhận đăng ký doanh nghiệp, chủ cơ sở tiếp tục thực hiện thủ tục xin Giấy chứng nhận đủ điều kiện kinh doanh dược (i) Bước 1: Nộp hồ sơ xin cấp Giấy CN đủ Điều kiện kinh doanh dược Cơ sở kinh doanh dược chuẩn bị một bộ hồ sơ đề nghị cấp Giấy chứng nhận đủ Điều kiện kinh doanh dược và nộp trực tiếp hoặc gửi hồ sơ qua đường bưu điện về Sở Y tế nơi đặt trụ sở chính kinh doanh. (ii) Bước 2: Tiếp nhận hồ sơ xin cấp Giấy chứng nhận đủ Điều kiện kinh doanh dược Sau khi nhận hồ sơ, cơ quan tiếp nhận trả cho Cơ sở kinh doanh đề nghị Phiếu tiếp nhận hồ sơ cấp Giấy CN đủ Điều kiện kinh doanh dược (iii) Bước 3: Thẩm định hồ sơ cấp Giấy CN đủ Điều kiện kinh doanh dược – Trường hợp không có yêu cầu sửa đổi, bổ sung, cơ quan cấp Giấy CN đủ điều kiện kinh doanh dược: + Cấp Giấy CN đủ điều kiện kinh doanh dược trong thời hạn 30 ngày, từ ngày ghi trên Phiếu tiếp nhận hồ sơ với trường hợp cơ sở vật chất, nhân sự và kỹ thuật đã được kiểm tra, đánh giá đáp ứng Thực hành tốt phù hợp với phạm vi kinh doanh, không phải tổ chức đánh giá thực tế tại cơ sở đề nghị cấp Giấy CN đủ điều kiện kinh doanh dược; + Tổ chức đánh giá thực tế tại cơ sở đề nghị cấp Giấy CN đủ điều kiện kinh doanh dược trong thời hạn 20 ngày, kể từ ngày ghi trên Phiếu tiếp nhận hồ sơ. – Trường hợp có yêu cầu sửa đổi, bổ sung, trong thời hạn 10 ngày làm việc, kể từ ngày ghi trên Phiếu tiếp nhận hồ sơ, cơ quan tiếp nhận hồ sơ có văn bản gửi cơ sở đề nghị, trong đó nêu cụ thể các tài liệu, nội dung cần sửa đổi, bổ sung hồ sơ. + Sau khi nhận hồ sơ sửa đổi, bổ sung, cơ quan tiếp nhận hồ sơ trả cho cơ sở đề nghị Phiếu tiếp nhận hồ sơ sửa đổi, bổ sung. + Trường hợp hồ sơ sửa đổi, bổ sung không đáp ứng yêu cầu, cơ quan tiếp nhận hồ sơ ra văn bản thông báo cho cơ sở theo quy định tại khoản 4 Điều 33 Nghị định 54/2017/NĐ-CP ; + Trường hợp không có yêu cầu sửa đổi, bổ sung hồ sơ đối với hồ sơ sửa đổi, bổ sung, cơ quan tiếp nhận hồ sơ thực hiện theo quy định tại khoản 3 Điều 33 Nghị định 54/2017/NĐ-CP . (iv) Bước 4: Thẩm định thực tế và cấp Giấy CN đủ Điều kiện kinh doanh dược Sau khi đánh giá thực tế cơ sở, cơ quan cấp Giấy CN đủ điều kiện kinh doanh dược có trách nhiệm: – Cấp Giấy CN đủ điều kiện kinh doanh dược trong thời hạn 10 ngày làm việc, kể từ ngày hoàn thành đánh giá thực tế đối với trường hợp không có yêu cầu, khắc phục, sửa chữa; – Ban hành văn bản thông báo nội dung cần khắc phục, sửa chữa trong thời hạn 05 – 07 ngày làm việc, kể từ ngày hoàn thành việc đánh giá thực tế đối với trường hợp có yêu cầu, khắc phục, sửa chữa. Trong thời hạn 20 ngày, kể từ ngày nhận văn bản thông báo và tài liệu chứng minh đã hoàn thành việc khắc phục, sửa chữa của cơ sở đề nghị, cơ quan cấp Giấy CN đủ điều kiện kinh doanh dược hoặc trả lời chính xác lý do chưa cấp. (v) Bước 5: Cập nhật thông tin Trong thời hạn 05 ngày làm việc, kể từ ngày cấp Giấy CN đủ điều kiện kinh doanh dược, cơ quan tiếp nhận hồ sơ công bố, cập nhật thông tin trên Cổng thông tin điện tử của đơn vị như sau: – Tên, địa chỉ cơ sở được cấp Giấy CN đủ điều kiện kinh doanh dược; – Họ tên người chịu trách nhiệm chuyên môn về y, dược, số Chứng chỉ hành nghề dược; – Số Giấy CN đủ điều kiện kinh doanh dược. Theo quy định, Giấy CN đủ điều kiện kinh doanh dược được lập thành 02 bản: 01 bản cấp cho cơ sở đề nghị cấp Giấy CN đủ điều kiện kinh doanh dược; 01 bản lưu tại cơ quan cấp Giấy CN đủ điều kiện kinh doanh dược. Thủ tục xin Giấy CN đủ điều kiện kinh doanh dược Xem thêm: Hướng dẫn thủ tục, hồ sơ xin giấy phép kinh doanh dược Dịch vụ xin giấy phép kinh doanh nhà thuốc tại Legalam Công ty Luật LEGALAM đang cung cấp dịch vụ tư vấn, hỗ trợ xin giấy phép kinh doanh quầy thuốc. Khi đến với Công ty Luật LEGALAM khách hàng sẽ nhận được những lợi ích sau: Công ty Luật LEGALAM hỗ trợ tư vấn hướng dẫn khách hàng về toàn bộ quy trình chuẩn bị hồ sơ pháp lý, cơ sở vật chất đảm bảo đáp ứng đủ điều kiện mở nhà thuốc tư nhân. Soạn hồ sơ thủ tục thành lập nhà thuốc Đại diện khách hàng tiến hành thực hiện các thủ tục pháp lý đăng ký cấp giấy phép kinh doanh quầy thuốc. Đại diện khách hàng theo dõi hồ sơ đăng ký giấy phép kinh doanh quầy thuốc của mình và nhận kết quả khiếu nại nếu có. Bên cạnh đó còn có những lý do khác khách hàng nên lựa chọn Công ty Luật LEGALAM để đăng ký giấy phép kinh doanh quầy thuốc. Cụ thể: Tư vấn miễn phí, đúng pháp luật về dịch vụ đăng ký giấy phép kinh doanh\\xa0 quầy thuốc do đội ngũ luật sư có trình độ cao, giàu kinh nghiệm. Tư vấn báo giá trọn gói tất cả các thủ tục từ khi thành lập đến khi hoàn thiện thủ tục liên quan đến thành lập nhà thuốc. Hỗ trợ bàn giao kết quả tận nơi cho khách hàng mà khách hàng không cần mất thời gian đi lại nhiều. Cam kết thực hiện đúng toàn bộ các tất cả các vấn đề pháp lý liên quan đến giấy phép kinh doanh quầy thuốc khi khách hàng có nhu cầu. Với phương châm đặt quyền lợi khách hàng lên đầu, Công ty Luật LEGALAM tự tin là người bạn đồng hành pháp lý với khách hàng trong lĩnh vực kinh doanh dược và các lĩnh vực pháp luật khác. Chúng tôi với đội ngũ nhân viên giàu kinh nghiệm, khi khách hàng có nhu cầu mở quầy thuốc hãy liên hệ với chúng tôi để nhận được hỗ trợ tốt nhất. Thông tin liên hệ: Công ty Luật LEGALAM Địa chỉ: Tầng 4, Tháp A Tòa nhà Keangnam, Phường Mễ Trì, Quận Nam Từ Liêm, TP. Hà Nội. Điện thoại: 0936 061359 Email: [email\\xa0protected] Dịch vụ xin giấy phép kinh doanh hiệu thuốc của Công ty Luật LEGALAM Câu hỏi liên quan về xin giấy phép kinh doanh nhà thuốc Cùng điểm qua một số câu hỏi liên quan đến việc cấp giấy phép kinh doanh quầy thuốc được quan tâm nhiều nhất hiện nay. Mở nhà thuốc tây cần có bằng cấp gì? Phụ thuộc vào phạm vi và vị trí hoạt động của nhân sự khi mở tiệm thuốc mà có những yêu cầu bằng cấp khác nhau. Với những người chịu trách nhiệm chuyên môn chính yêu cầu tốt nghiệp đại học và có 2 năm thực hành chuyên ngành dược. Còn với nhân sự bán thuốc trực tiếp cho khách hàng phải có văn bằng chuyên môn ngành dược tối thiểu bậc trung cấp. Chi phí và vốn mở tiệm thuốc tây quy định như thế nào? Kinh doanh dược là ngành nghề kinh doanh yêu cầu nhiều vốn và khả năng tài chính. Tuy nhiên không có yêu cầu cụ thể về vốn và chi phí khi hoạt động và mở tiệm thuốc. Giấy phép kinh doanh nhà thuốc có giá trị trong bao lâu? Theo Điều 41 Luật Dược 2016 thì Giấy chứng nhận điều kiện kinh doanh dược không có quy định về hiệu lực. Tuy nhiên nếu như cơ sở kinh doanh dược không đáp ứng được điều kiện kinh doanh theo Điều 33 Luật Dược 2016 thì có thể bị thu hồi giấy chứng nhận kinh doanh. Giấy phép kinh doanh nhà thuốc có giá trị trong bao lâu? Kết luận Trên đây là nội dung chi tiết của Công ty Luật LEGALAM về cơ sở pháp lý, điều kiện cơ bản để cấp giấy phép kinh doanh nhà thuốc . Nếu bạn muốn mở tiệm thuốc kinh doanh thì hãy chuẩn bị đầy đủ hồ sơ pháp lý, thủ tục đăng ký kinh doanh để quy trình xin giấy phép thuận lợi nhất. Nếu khách hàng cần tìm hiểu thêm về luật, kinh nghiệm xin giấy phép kinh doanh dược hãy liên hệ đến Công ty Luật LEGALAM để được hỗ trợ nhanh nhất nhé. [su_divider size=”1″] Cố vấn chuyên môn bởi : Luật sư Nguyễn Hoàng Related Posts Visa run Việt Nam – Khái niệm và những quy định liên quan Visa Run Việt Nam là một thuật ngữ phổ biến trong cộng đồng người nước ngoài đang sinh sống hoặc làm việc tại Việt Nam.... Phân biệt visa nhập cảnh nhiều lần và 1 lần – Đơn giản dễ dàng Trong quá trình xin visa cho người nước ngoài, việc phân biệt visa nhập cảnh nhiều lần và 1 lần vào Việt Nam là điều... Visa nhập cảnh nhiều lần Việt Nam (Multi Entry Visa) là gì? Visa nhập cảnh nhiều lần Việt Nam (multi entry visa) là lựa chọn tối ưu cho người nước ngoài thường xuyên đến công tác, du... Visa nhập cảnh 1 lần là gì? Điều kiện, thủ tục cấp phép Visa nhập cảnh 1 lần (single entry visa) là loại thị thực đơn giản, phù hợp với những ai có kế hoạch đến Việt Nam... Visa lao động là gì? Điều kiện, thủ tục và các quy định liên quan Visa lao động là gì? Có những hình thức visa lao động nào? Điều kiện, hồ sơ, thủ tục xin cấp phép visa lao động... Phân biệt Visa lao động và Giấy phép lao động Hiện nay vẫn có rất nhiều người nhầm lẫn giữa Visa lao động và Giấy phép lao động. Vậy làm thế nào để phân biệt... Bạn cần hỗ trợ! Nếu bạn cần hỗ trợ về pháp lý, hãy liên hệ ngay với chúng tôi. Chúng tôi sẽ nhanh chóng liên hệ với bạn ngay trong ngày làm việc. Nếu cần gấp hãy gọi ngay cho chúng tôi! Gọi : 0936 061 359 [email\\xa0protected] T2 – T6 09:00-17:00 TƯ VẤN PHÁP LUẬT 0936 061 359 TƯ VẤN SỞ HỮU TRÍ TUỆ 0936 061 359 TƯ VẤN GIẤY PHÉP CON 0936 061 359 TƯ VẤN ĐẦU TƯ NƯỚC NGOÀI 0936 061 359 là một trong những đơn vị tư vấn pháp lý chuyên nghiệp về lĩnh vực tư vấn đầu tư, tư vấn doanh nghiệp, xúc tiến thương mại… Thông tin liên hệ Tầng 4, Tháp A Tòa nhà Keangnam, Phường Mễ Trì, Quận Nam Từ Liêm, Hà Nội. +84 936 061 359 [email\\xa0protected] Copyright 2022 LEGALAM, All Right Reserved Trang chủ Giới thiệu Tuyển dụng Liên hệ Chính sách']\n"
     ]
    }
   ],
   "source": [
    "print(result_docs)"
   ]
  },
  {
   "cell_type": "code",
   "execution_count": 15,
   "id": "7b24a31f",
   "metadata": {},
   "outputs": [
    {
     "name": "stdout",
     "output_type": "stream",
     "text": [
      "5\n"
     ]
    }
   ],
   "source": [
    "print(len(result_docs))"
   ]
  },
  {
   "cell_type": "markdown",
   "id": "44dfab51",
   "metadata": {},
   "source": [
    "> Đưa qua Bert "
   ]
  },
  {
   "cell_type": "markdown",
   "id": "f5ad045b",
   "metadata": {},
   "source": [
    "> tạo model bert và truyền vào để lấy hàm extract thông tin"
   ]
  },
  {
   "cell_type": "code",
   "execution_count": 16,
   "id": "5af11e91",
   "metadata": {},
   "outputs": [],
   "source": [
    "bert_model=Bert_Extract(setting)\n",
    "bert_utils=Extract_Information(bert_model)"
   ]
  },
  {
   "cell_type": "markdown",
   "id": "937d1c0a",
   "metadata": {},
   "source": [
    "> trả ra dưới dạng  {key:value} ở đây key là thứ tự document,value là text sau khi được rút"
   ]
  },
  {
   "cell_type": "code",
   "execution_count": 17,
   "id": "38f33eb5",
   "metadata": {},
   "outputs": [],
   "source": [
    "result_reduce=bert_utils.predict(result_docs,query)"
   ]
  },
  {
   "cell_type": "code",
   "execution_count": 18,
   "id": "50c10e15",
   "metadata": {},
   "outputs": [
    {
     "name": "stdout",
     "output_type": "stream",
     "text": [
      "{0: 'Điều kiện mở tiệm thuốc tây hiện nay là gì? Hỏi Đáp Pháp Luật Hỏi Đáp Pháp luật THƯ VIỆN PHÁP LUẬT Tra cứu pháp luật Các gói dịch vụ Trang chủ Pháp luật Hỏi đáp pháp luật về Tiền tệ - Ngân hàng Hỏi đáp pháp luật về Quyền dân sự Hỏi đáp pháp luật về Chứng khoán Hỏi đáp pháp luật về Sở hữu trí tuệ Hỏi đáp pháp luật về Tài chính nhà nước Hỏi đáp pháp luật về Thủ tục Tố tụng Hỏi đáp pháp luật về Thể thao - Y tế Hỏi đáp pháp luật về Giao thông - Vận tải Hỏi đáp pháp luật về Xuất nhập khẩu Hỏi đáp pháp luật về Doanh nghiệp Hỏi đáp pháp luật về Lao động - Tiền lương Hỏi đáp pháp luật về Bất động sản Hỏi đáp pháp luật về Vi phạm hành chính Hỏi đáp pháp luật về Bảo hiểm Hỏi đáp pháp luật về Văn hóa - Xã hội Hỏi đáp pháp luật về Thương mại Hỏi đáp pháp luật về Trách nhiệm hình sự Hỏi đáp pháp luật về Xây dựng - Đô thị Hỏi đáp pháp luật về Kế toán - Kiểm toán Hỏi đáp pháp luật về Thuế - Phí - Lệ Phí Hỏi đáp pháp luật về Đầu tư Hỏi đáp pháp luật về Dịch vụ pháp lý Hỏi đáp pháp luật về Tài nguyên - Môi trường Hỏi đáp pháp luật về Công nghệ thông tin Hỏi đáp pháp luật về Giáo dục Hỏi đáp pháp luật về Bộ máy hành chính Hỏi đáp pháp luật về Lĩnh vực khác Hỏi đáp pháp luật', 1: 'Điều kiện - Kinh nghiệm mở Quầy thuốc và Nhà thuốc Tây - Trường Trung cấp Bách Khoa Sài Gòn Skip to content Trường Trung cấp Bách Khoa Sài Gòn', 2: 'Điều kiện và thủ tục mở nhà thuốc tây, kinh doanh dược phẩm Giới thiệu Dịch vụ thành lập Thành lập công ty Công ty TNHH Công ty cổ phần Công ty vốn nước ngoài FDI company establishment Chi nhánh công ty Hộ kinh doanh cá thể Dịch vụ kế toán Kế toán trọn gói Kế toán nội bộ Tax and accounting service Khai thuế ban đầu Báo cáo tài chính Quyết toán thuế cuối năm Làm sổ sách kế toán Hoàn thuế GTGT Hoàn thuế TNCN Thay đổi GPKD Thay đổi tên Đổi địa chỉ Thêm ngành nghề Tăng vốn điều lệ Thêm cổ đông Đổi đại diện pháp luật Đổi loại hình công ty Cập nhật CCCD Dịch vụ khác Hóa đơn điện tử Bảo hiểm xã hội Tạm ngừng kinh doanh Giải thể doanh nghiệp Đăng ký kinh doanh VPĐD nước ngoài Đăng ký nhãn hiệu, logo Chữ ký số Đăng ký MST cá nhân Soạn thảo hợp đồng Đào tạo Kế toán tổng hợp Kế toán thuế Sổ sách kế toán Kiến thức Tra cứu Liên hệ Điều kiện và thủ tục mở nhà thuốc tây, kinh doanh dược phẩm Bạn đã biết điều kiện mở nhà thuốc tây và các thủ tục kinh doanh dược, bán thuốc tây chưa? Bài viết này sẽ chia sẻ kinh nghiệm & quy trình mở tiệm thuốc tây. Nội dung chính: Thủ tục, quy trình mở nhà thuốc tây, kinh doanh dược 1. Thủ tục xin chứng chỉ hành nghề dược 2. Thủ tục xin giấy chứng nhận đăng ký kinh doanh quầy thuốc 3. Thủ tục xin giấy phép kinh doanh mở quầy thuốc ( giấy phép con ) Kinh nghiệm & điều kiện mở nhà thuốc tây, kinh doanh dược phẩm Các câu hỏi thường gặp khi kinh doanh nhà', 3: 'Quy định, thủ tục mở quầy thuốc đầy đủ và chính xác nhất 2024 - Trường Công Nghệ Bách Khoa Skip to content Hotline: 0838.068.068 Hotline: 0838.068.068 Trang chủ Giới thiệu Tầm nhìn – Sứ mệnh Sơ đồ tổ chức Tuyển sinh Tuyển sinh cao đẳng Cao đẳng chính quy Cao đẳng liên thông Cao đẳng từ xa Tuyển sinh trung cấp Tuyển sinh lớp 10 ( 9 + ) Trung cấp chính quy Trung cấp từ xa Tuyển sinh đại học Đại học liên thông Đại học từ xa Tuyển sinh sơ cấp Sơ cấp nghề Hàn – Phay – Tiện Học Lái – Nâng – Cẩu Sửa Ô tô – Máy công trình Đào tạo – Khoa Du học Du học Đức Du học Hàn Du học Singapore Ngoại ngữ Tiếng Anh Tiếng Đức Tiếng Nhật Tiếng Hàn Tiếng Trung Tin tức Tra cứu văn bằng Trang chủ / Ngành Đào Tạo / Quy định, thủ tục mở quầy thuốc đầy đủ và chính xác nhất 2024 / Quy định, thủ tục mở quầy thuốc đầy đủ và chính xác nhất 2024 Nội dung bài viết Điều kiện mở quầy thuốc theo luật Dược Quầy thuốc đáp ứng tiêu chuẩn GPP Điều kiện đối với người chịu trách nhiệm chuyên môn về dược', 4: 'Thủ tục làm giấy phép kinh doanh nhà thuốc Giới thiệu Hồ sơ năng lực Công ty Luật LEGALAM Đội ngũ Luật sư Doanh nghiệp Đăng ký kinh doanh Thay đổi ĐKKD Chuyển đổi loại hình Tạm ngừng hoạt động Giải thể công ty Hộ kinh doanh Sở hữu trí tuệ Nhãn hiệu Kiểu dáng công nghiệp Sáng chế Bản quyền tác giả Chuyển nhượng quyền sở hữu công nghiệp Đầu tư Đầu tư trong nước Đầu tư có vốn nước ngoài Giấy phép con Visa – Thẻ tạm trú – GPLĐ Dịch vụ làm Visa cho người nước ngoài Dịch vụ làm thẻ tạm trú cho người nước ngoài Dịch vụ tư vấn giấy phép lao động / Work Permit cho người nước ngoài + 84 936 061 359 · [ email protected ] · Miễn phí tư vấn Giới thiệu Hồ sơ năng lực Công ty Luật LEGALAM Đội ngũ Luật sư Doanh nghiệp Đăng ký kinh doanh Thay đổi ĐKKD Chuyển đổi loại hình Tạm ngừng hoạt động Giải thể công ty Hộ kinh doanh Sở hữu trí tuệ Nhãn hiệu Kiểu dáng công nghiệp Sáng chế Bản quyền tác giả Chuyển nhượng quyền sở hữu công nghiệp Đầu tư Đầu tư trong nước Đầu tư có vốn nước ngoài Giấy phép con Visa – Thẻ tạm trú – GPLĐ Dịch vụ làm Visa cho người nước ngoài Dịch vụ làm thẻ tạm trú cho người nước ngoài Dịch vụ tư vấn giấy phép lao động / Work Permit cho người nước ngoài Thủ tục xin giấy phép kinh doanh nhà thuốc [ Chi tiết nhất ] • 18 Tháng 8, 2023 • Luật sư Nguyễn Hoàng • Đăng ký kinh doanh, Giấy phép con Giấy phép kinh doanh nhà thuốc là một trong những loại'}\n"
     ]
    }
   ],
   "source": [
    "print(result_reduce)"
   ]
  },
  {
   "cell_type": "markdown",
   "id": "8b16f5d5",
   "metadata": {},
   "source": [
    "> truyền ngữ cảnh đã trích xuất vào gemini"
   ]
  },
  {
   "cell_type": "code",
   "execution_count": 19,
   "id": "33b0248f",
   "metadata": {},
   "outputs": [],
   "source": [
    "gemini=Gemini(setting)\n",
    "gemini_func=Gemini_Generate(gemini,setting)"
   ]
  },
  {
   "cell_type": "code",
   "execution_count": 20,
   "id": "7f4a33a1",
   "metadata": {},
   "outputs": [],
   "source": [
    "result_final=gemini_func.generate_response(query,result_reduce)"
   ]
  },
  {
   "cell_type": "code",
   "execution_count": 21,
   "id": "c54b0902",
   "metadata": {},
   "outputs": [
    {
     "name": "stdout",
     "output_type": "stream",
     "text": [
      "```json\n",
      "{\n",
      "  \"answer\": \"Xin lỗi bạn. Kiến thức này nằm ngoài phạm vi hiểu biết của tôi. Bạn có thể hỏi tôi một câu hỏi khác không? Tôi sẽ cố gắng giải đáp câu hỏi của bạn!\",\n",
      "  \"key\": []\n",
      "}\n",
      "```\n"
     ]
    }
   ],
   "source": [
    "print(result_final)"
   ]
  },
  {
   "cell_type": "markdown",
   "id": "0f7532e1",
   "metadata": {},
   "source": [
    "> gọi 3 hàm này để xử lý"
   ]
  },
  {
   "cell_type": "code",
   "execution_count": null,
   "id": "b9bf5c70",
   "metadata": {},
   "outputs": [],
   "source": [
    "answer_result= clean_code_fence_safe(result_final)\n",
    "answer_result= fix_json_string(answer_result)\n",
    "answer_result= json.loads(answer_result)"
   ]
  },
  {
   "cell_type": "code",
   "execution_count": null,
   "id": "7f1f2135",
   "metadata": {},
   "outputs": [],
   "source": [
    "print(answer_result)"
   ]
  },
  {
   "cell_type": "code",
   "execution_count": null,
   "id": "16ab5f37",
   "metadata": {},
   "outputs": [],
   "source": [
    "print(answer_result['answer'])"
   ]
  },
  {
   "cell_type": "markdown",
   "id": "6c220e2f",
   "metadata": {},
   "source": [
    "> key này mapping qua link để sắp xếp thứ tự theo cái này , key này nó lấy link 1 nên mapping qua cái list link ban đầu để lấy đường link, rồi hiển thị ưu tiên đầu tiên.Gemini đâu vào là 5 link nhưng việc nó chọn link nào là do bản thân nó.Nói chung tui viết oke hết rồi ô xử lý logic đoạn FE với BE xíu "
   ]
  },
  {
   "cell_type": "code",
   "execution_count": null,
   "id": "2402f1d0",
   "metadata": {},
   "outputs": [],
   "source": [
    "print(answer_result['key'])"
   ]
  },
  {
   "cell_type": "code",
   "execution_count": 1,
   "id": "86d6b6ae",
   "metadata": {},
   "outputs": [
    {
     "name": "stdout",
     "output_type": "stream",
     "text": [
      "WARNING:tensorflow:From d:\\Download_Python\\lib\\site-packages\\tf_keras\\src\\losses.py:2976: The name tf.losses.sparse_softmax_cross_entropy is deprecated. Please use tf.compat.v1.losses.sparse_softmax_cross_entropy instead.\n",
      "\n",
      "hghaan/rerank_model\n"
     ]
    }
   ],
   "source": [
    "import sys\n",
    "project_path = r\"D:/Download_Github_Desktop/Khoa_Luan_Tot_Nghiep_Agentic_RAG/\"\n",
    "sys.path.append(project_path)\n",
    "from source.function.utils_result import RAG\n",
    "from source.search.utils_search import Qdrant_Utils\n",
    "from source.rerank.utils_rerank import Rerank_Utils  \n",
    "from source.model.embedding_model import Sentences_Transformer_Embedding\n",
    "from source.model.extract_model import Bert_Extract\n",
    "from source.model.generate_model import Gemini\n",
    "from source.model.rerank_model import Cohere\n",
    "from source.data.vectordb.qdrant import Qdrant_Vector\n",
    "from source.core.config import Settings\n",
    "from source.model.rerank_model_finetune import RerankModelFinetune\n",
    "from source.generate.generate import Gemini_Generate\n",
    "from source.extract.utils_extract import Extract_Information\n",
    "\n",
    "import cohere\n",
    "import numpy as np\n",
    "import pandas as pd\n",
    "from tqdm import tqdm\n",
    "setting=Settings()\n",
    "gemini=Gemini(setting)\n",
    "print(setting.RERANK)\n",
    "cohere_api=Cohere(setting)\n",
    "bert=Bert_Extract(setting)\n",
    "rerank_model_fintuned=RerankModelFinetune(setting)\n",
    "sentences_transformer_embedding=Sentences_Transformer_Embedding(setting)\n",
    "qdrant=Qdrant_Vector(setting,sentences_transformer_embedding)\n",
    "rerank_Utils=Rerank_Utils(cohere_api,rerank_model_fintuned)\n",
    "extract_Utils= Extract_Information(bert)\n",
    "generate_Utils=Gemini_Generate(gemini,setting)\n",
    "qdrant_Utils=Qdrant_Utils(qdrant, generate_Utils)\n",
    "rag=RAG(generate_Utils,extract_Utils,qdrant_Utils,rerank_Utils,setting,sentences_transformer_embedding)\n",
    "import pandas as pd\n",
    "from tqdm import tqdm\n",
    "import google.generativeai as genai \n",
    "from sklearn.metrics.pairwise import cosine_similarity\n",
    "import os\n",
    "from source.tool.utils_search import Utils_Search_Tools\n",
    "from source.tool.google_search import GoogleSearchTool"
   ]
  },
  {
   "cell_type": "code",
   "execution_count": 5,
   "id": "24448aa1",
   "metadata": {},
   "outputs": [],
   "source": [
    "# Khởi tạo các tools cần thiết cho web search\n",
    "google_search_tools = GoogleSearchTool(setting)\n",
    "search_tools = Utils_Search_Tools(setting, generate_Utils, extract_Utils, google_search_tools)"
   ]
  },
  {
   "cell_type": "code",
   "execution_count": 6,
   "id": "5f61b9c9",
   "metadata": {},
   "outputs": [
    {
     "name": "stderr",
     "output_type": "stream",
     "text": [
      "d:\\Download_Python\\lib\\site-packages\\urllib3\\connectionpool.py:1103: InsecureRequestWarning: Unverified HTTPS request is being made to host 'thuvienphapluat.vn'. Adding certificate verification is strongly advised. See: https://urllib3.readthedocs.io/en/latest/advanced-usage.html#tls-warnings\n",
      "  warnings.warn(\n",
      "d:\\Download_Python\\lib\\site-packages\\urllib3\\connectionpool.py:1103: InsecureRequestWarning: Unverified HTTPS request is being made to host 'thuvienphapluat.vn'. Adding certificate verification is strongly advised. See: https://urllib3.readthedocs.io/en/latest/advanced-usage.html#tls-warnings\n",
      "  warnings.warn(\n",
      "d:\\Download_Python\\lib\\site-packages\\urllib3\\connectionpool.py:1103: InsecureRequestWarning: Unverified HTTPS request is being made to host 'thuvienphapluat.vn'. Adding certificate verification is strongly advised. See: https://urllib3.readthedocs.io/en/latest/advanced-usage.html#tls-warnings\n",
      "  warnings.warn(\n",
      "d:\\Download_Python\\lib\\site-packages\\urllib3\\connectionpool.py:1103: InsecureRequestWarning: Unverified HTTPS request is being made to host 'thuvienphapluat.vn'. Adding certificate verification is strongly advised. See: https://urllib3.readthedocs.io/en/latest/advanced-usage.html#tls-warnings\n",
      "  warnings.warn(\n",
      "d:\\Download_Python\\lib\\site-packages\\urllib3\\connectionpool.py:1103: InsecureRequestWarning: Unverified HTTPS request is being made to host 'thuvienphapluat.vn'. Adding certificate verification is strongly advised. See: https://urllib3.readthedocs.io/en/latest/advanced-usage.html#tls-warnings\n",
      "  warnings.warn(\n"
     ]
    }
   ],
   "source": [
    "text=search_tools.Search_Docs_From_Tools(\"người có thể chất hay học vấn như thế nào thì đủ đạt chuẩn đi nghĩa vụ quân sự\")"
   ]
  },
  {
   "cell_type": "code",
   "execution_count": 7,
   "id": "c0dd4ec2",
   "metadata": {},
   "outputs": [
    {
     "name": "stdout",
     "output_type": "stream",
     "text": [
      "('Tôi rất tiếc, tôi không thể cung cấp thông tin chi tiết về tiêu chuẩn cụ thể về thể chất và học vấn để đạt chuẩn đi nghĩa vụ quân sự dựa trên thông tin hiện có. Các tài liệu được cung cấp chủ yếu tập trung vào độ tuổi, các trường hợp được miễn nghĩa vụ quân sự, và các tiêu chuẩn tuyển quân chung chung.\\\\n\\\\nXin lỗi bạn. Kiến thức này nằm ngoài phạm vi hiểu biết của tôi. Bạn có thể hỏi tôi một câu hỏi khác không? Tôi sẽ cố gắng giải đáp câu hỏi của bạn!', [])\n"
     ]
    }
   ],
   "source": [
    "print(text)"
   ]
  },
  {
   "cell_type": "code",
   "execution_count": 1,
   "id": "e76f0ddb",
   "metadata": {},
   "outputs": [
    {
     "name": "stdout",
     "output_type": "stream",
     "text": [
      "WARNING:tensorflow:From c:\\Users\\hdang\\.virtualenvs\\machinelearning-lTTH8rYd\\Lib\\site-packages\\keras\\src\\losses.py:2976: The name tf.losses.sparse_softmax_cross_entropy is deprecated. Please use tf.compat.v1.losses.sparse_softmax_cross_entropy instead.\n",
      "\n"
     ]
    }
   ],
   "source": [
    "from sentence_transformers import CrossEncoder\n",
    "import torch"
   ]
  },
  {
   "cell_type": "code",
   "execution_count": 2,
   "id": "38972758",
   "metadata": {},
   "outputs": [
    {
     "data": {
      "application/vnd.jupyter.widget-view+json": {
       "model_id": "ef6e1015e56b4b54b4ca7ac6185143c4",
       "version_major": 2,
       "version_minor": 0
      },
      "text/plain": [
       "config.json:   0%|          | 0.00/1.57k [00:00<?, ?B/s]"
      ]
     },
     "metadata": {},
     "output_type": "display_data"
    },
    {
     "name": "stderr",
     "output_type": "stream",
     "text": [
      "c:\\Users\\hdang\\.virtualenvs\\machinelearning-lTTH8rYd\\Lib\\site-packages\\huggingface_hub\\file_download.py:147: UserWarning: `huggingface_hub` cache-system uses symlinks by default to efficiently store duplicated files but your machine does not support them in C:\\Users\\hdang\\.cache\\huggingface\\hub\\models--hghaan--rerank_model. Caching files will still work but in a degraded version that might require more space on your disk. This warning can be disabled by setting the `HF_HUB_DISABLE_SYMLINKS_WARNING` environment variable. For more details, see https://huggingface.co/docs/huggingface_hub/how-to-cache#limitations.\n",
      "To support symlinks on Windows, you either need to activate Developer Mode or to run Python as an administrator. In order to activate developer mode, see this article: https://docs.microsoft.com/en-us/windows/apps/get-started/enable-your-device-for-development\n",
      "  warnings.warn(message)\n"
     ]
    },
    {
     "data": {
      "application/vnd.jupyter.widget-view+json": {
       "model_id": "44dae8d971314a418ac3c6a33186aa84",
       "version_major": 2,
       "version_minor": 0
      },
      "text/plain": [
       "model.safetensors:   0%|          | 0.00/1.22G [00:00<?, ?B/s]"
      ]
     },
     "metadata": {},
     "output_type": "display_data"
    },
    {
     "data": {
      "application/vnd.jupyter.widget-view+json": {
       "model_id": "75566ff7298341a99629f1707819c8ae",
       "version_major": 2,
       "version_minor": 0
      },
      "text/plain": [
       "tokenizer_config.json:   0%|          | 0.00/1.37k [00:00<?, ?B/s]"
      ]
     },
     "metadata": {},
     "output_type": "display_data"
    },
    {
     "data": {
      "application/vnd.jupyter.widget-view+json": {
       "model_id": "eca8cae04e8b4708a318553cf1dd8e36",
       "version_major": 2,
       "version_minor": 0
      },
      "text/plain": [
       "tokenizer.json:   0%|          | 0.00/17.1M [00:00<?, ?B/s]"
      ]
     },
     "metadata": {},
     "output_type": "display_data"
    },
    {
     "data": {
      "application/vnd.jupyter.widget-view+json": {
       "model_id": "310f95e837bc4679875859ceafb85221",
       "version_major": 2,
       "version_minor": 0
      },
      "text/plain": [
       "added_tokens.json:   0%|          | 0.00/22.0 [00:00<?, ?B/s]"
      ]
     },
     "metadata": {},
     "output_type": "display_data"
    },
    {
     "data": {
      "application/vnd.jupyter.widget-view+json": {
       "model_id": "dc48584bc6d4487bbe507dab38a84257",
       "version_major": 2,
       "version_minor": 0
      },
      "text/plain": [
       "special_tokens_map.json:   0%|          | 0.00/964 [00:00<?, ?B/s]"
      ]
     },
     "metadata": {},
     "output_type": "display_data"
    }
   ],
   "source": [
    "model = CrossEncoder('hghaan/rerank_model', trust_remote_code=True, device='cuda' if torch.cuda.is_available() else 'cpu')"
   ]
  },
  {
   "cell_type": "code",
   "execution_count": 5,
   "id": "2f68b7ee",
   "metadata": {},
   "outputs": [
    {
     "name": "stdout",
     "output_type": "stream",
     "text": [
      "Max sequence length: 32768\n"
     ]
    }
   ],
   "source": [
    "tokenizer = model.tokenizer\n",
    "print(\"Max sequence length:\", tokenizer.model_max_length)\n"
   ]
  },
  {
   "cell_type": "code",
   "execution_count": null,
   "id": "a20bb03a",
   "metadata": {},
   "outputs": [],
   "source": []
  }
 ],
 "metadata": {
  "kernelspec": {
   "display_name": "Python 3",
   "language": "python",
   "name": "python3"
  },
  "language_info": {
   "codemirror_mode": {
    "name": "ipython",
    "version": 3
   },
   "file_extension": ".py",
   "mimetype": "text/x-python",
   "name": "python",
   "nbconvert_exporter": "python",
   "pygments_lexer": "ipython3",
   "version": "3.9.8"
  }
 },
 "nbformat": 4,
 "nbformat_minor": 5
}
